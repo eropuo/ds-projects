{
 "cells": [
  {
   "cell_type": "markdown",
   "metadata": {},
   "source": [
    "# Определение стоимости автомобилей"
   ]
  },
  {
   "cell_type": "markdown",
   "metadata": {},
   "source": [
    "Сервис по продаже автомобилей с пробегом «Не бит, не крашен» разрабатывает приложение для привлечения новых клиентов. В нём можно быстро узнать рыночную стоимость своего автомобиля. В нашем распоряжении исторические данные: технические характеристики, комплектации и цены автомобилей. Нам нужно построить модель для определения стоимости. \n",
    "\n",
    "Заказчику важны:\n",
    "\n",
    "- качество предсказания;\n",
    "- скорость предсказания;\n",
    "- время обучения."
   ]
  },
  {
   "cell_type": "markdown",
   "metadata": {},
   "source": [
    "## Подготовка данных"
   ]
  },
  {
   "cell_type": "code",
   "execution_count": 1,
   "metadata": {},
   "outputs": [],
   "source": [
    "# импортирование всех нужных библиотек и фуцнкций \n",
    "import matplotlib.pyplot as plt\n",
    "import numpy as np\n",
    "import pandas as pd\n",
    "import re\n",
    "import warnings\n",
    "\n",
    "from catboost import CatBoostRegressor\n",
    "from lightgbm import LGBMRegressor\n",
    "\n",
    "from sklearn.dummy import DummyRegressor\n",
    "from sklearn.ensemble import RandomForestRegressor\n",
    "from sklearn.impute import SimpleImputer\n",
    "from sklearn.linear_model import LinearRegression\n",
    "from sklearn.model_selection import GridSearchCV, train_test_split\n",
    "from sklearn.metrics import mean_squared_error\n",
    "from sklearn.preprocessing import StandardScaler"
   ]
  },
  {
   "cell_type": "markdown",
   "metadata": {},
   "source": [
    "### Обзор данных\n",
    "\n",
    "По первому взгляду на данные можно сказать:\n",
    "* Необходимо изменить стиль заголовков на змеиный регистр\n",
    "* Имеются пропущенные значения в признаках: 'VehicleType', 'Gearbox', 'Model', 'FuelType', 'NotRepaired'.\n",
    "* Неинформативные признаки, которые вряд ли повлияют на предсказания моделей: 'DateCrawled', 'RegistrationMonth', 'DateCreated', 'PostalCode', 'LastSeen'.\n",
    "* Изменить тип данных на 'datetime64' у признаков : 'DateCrawled', 'DateCreated', 'LastSeen'.\n",
    "* Можно поменять значения в признаке 'NotRepaired' с типа 'object' на тип 'Int64' для удобства. Значения 'yes' сменятся на 1, и значения 'no' аналогично на 0, смысл при этом сохранится.\n"
   ]
  },
  {
   "cell_type": "code",
   "execution_count": 3,
   "metadata": {
    "scrolled": false
   },
   "outputs": [
    {
     "data": {
      "text/html": [
       "<div>\n",
       "<style scoped>\n",
       "    .dataframe tbody tr th:only-of-type {\n",
       "        vertical-align: middle;\n",
       "    }\n",
       "\n",
       "    .dataframe tbody tr th {\n",
       "        vertical-align: top;\n",
       "    }\n",
       "\n",
       "    .dataframe thead th {\n",
       "        text-align: right;\n",
       "    }\n",
       "</style>\n",
       "<table border=\"1\" class=\"dataframe\">\n",
       "  <thead>\n",
       "    <tr style=\"text-align: right;\">\n",
       "      <th></th>\n",
       "      <th>DateCrawled</th>\n",
       "      <th>Price</th>\n",
       "      <th>VehicleType</th>\n",
       "      <th>RegistrationYear</th>\n",
       "      <th>Gearbox</th>\n",
       "      <th>Power</th>\n",
       "      <th>Model</th>\n",
       "      <th>Kilometer</th>\n",
       "      <th>RegistrationMonth</th>\n",
       "      <th>FuelType</th>\n",
       "      <th>Brand</th>\n",
       "      <th>NotRepaired</th>\n",
       "      <th>DateCreated</th>\n",
       "      <th>NumberOfPictures</th>\n",
       "      <th>PostalCode</th>\n",
       "      <th>LastSeen</th>\n",
       "    </tr>\n",
       "  </thead>\n",
       "  <tbody>\n",
       "    <tr>\n",
       "      <th>0</th>\n",
       "      <td>2016-03-24 11:52:17</td>\n",
       "      <td>480</td>\n",
       "      <td>NaN</td>\n",
       "      <td>1993</td>\n",
       "      <td>manual</td>\n",
       "      <td>0</td>\n",
       "      <td>golf</td>\n",
       "      <td>150000</td>\n",
       "      <td>0</td>\n",
       "      <td>petrol</td>\n",
       "      <td>volkswagen</td>\n",
       "      <td>NaN</td>\n",
       "      <td>2016-03-24 00:00:00</td>\n",
       "      <td>0</td>\n",
       "      <td>70435</td>\n",
       "      <td>2016-04-07 03:16:57</td>\n",
       "    </tr>\n",
       "    <tr>\n",
       "      <th>1</th>\n",
       "      <td>2016-03-24 10:58:45</td>\n",
       "      <td>18300</td>\n",
       "      <td>coupe</td>\n",
       "      <td>2011</td>\n",
       "      <td>manual</td>\n",
       "      <td>190</td>\n",
       "      <td>NaN</td>\n",
       "      <td>125000</td>\n",
       "      <td>5</td>\n",
       "      <td>gasoline</td>\n",
       "      <td>audi</td>\n",
       "      <td>yes</td>\n",
       "      <td>2016-03-24 00:00:00</td>\n",
       "      <td>0</td>\n",
       "      <td>66954</td>\n",
       "      <td>2016-04-07 01:46:50</td>\n",
       "    </tr>\n",
       "    <tr>\n",
       "      <th>2</th>\n",
       "      <td>2016-03-14 12:52:21</td>\n",
       "      <td>9800</td>\n",
       "      <td>suv</td>\n",
       "      <td>2004</td>\n",
       "      <td>auto</td>\n",
       "      <td>163</td>\n",
       "      <td>grand</td>\n",
       "      <td>125000</td>\n",
       "      <td>8</td>\n",
       "      <td>gasoline</td>\n",
       "      <td>jeep</td>\n",
       "      <td>NaN</td>\n",
       "      <td>2016-03-14 00:00:00</td>\n",
       "      <td>0</td>\n",
       "      <td>90480</td>\n",
       "      <td>2016-04-05 12:47:46</td>\n",
       "    </tr>\n",
       "    <tr>\n",
       "      <th>3</th>\n",
       "      <td>2016-03-17 16:54:04</td>\n",
       "      <td>1500</td>\n",
       "      <td>small</td>\n",
       "      <td>2001</td>\n",
       "      <td>manual</td>\n",
       "      <td>75</td>\n",
       "      <td>golf</td>\n",
       "      <td>150000</td>\n",
       "      <td>6</td>\n",
       "      <td>petrol</td>\n",
       "      <td>volkswagen</td>\n",
       "      <td>no</td>\n",
       "      <td>2016-03-17 00:00:00</td>\n",
       "      <td>0</td>\n",
       "      <td>91074</td>\n",
       "      <td>2016-03-17 17:40:17</td>\n",
       "    </tr>\n",
       "    <tr>\n",
       "      <th>4</th>\n",
       "      <td>2016-03-31 17:25:20</td>\n",
       "      <td>3600</td>\n",
       "      <td>small</td>\n",
       "      <td>2008</td>\n",
       "      <td>manual</td>\n",
       "      <td>69</td>\n",
       "      <td>fabia</td>\n",
       "      <td>90000</td>\n",
       "      <td>7</td>\n",
       "      <td>gasoline</td>\n",
       "      <td>skoda</td>\n",
       "      <td>no</td>\n",
       "      <td>2016-03-31 00:00:00</td>\n",
       "      <td>0</td>\n",
       "      <td>60437</td>\n",
       "      <td>2016-04-06 10:17:21</td>\n",
       "    </tr>\n",
       "  </tbody>\n",
       "</table>\n",
       "</div>"
      ],
      "text/plain": [
       "           DateCrawled  Price VehicleType  RegistrationYear Gearbox  Power  \\\n",
       "0  2016-03-24 11:52:17    480         NaN              1993  manual      0   \n",
       "1  2016-03-24 10:58:45  18300       coupe              2011  manual    190   \n",
       "2  2016-03-14 12:52:21   9800         suv              2004    auto    163   \n",
       "3  2016-03-17 16:54:04   1500       small              2001  manual     75   \n",
       "4  2016-03-31 17:25:20   3600       small              2008  manual     69   \n",
       "\n",
       "   Model  Kilometer  RegistrationMonth  FuelType       Brand NotRepaired  \\\n",
       "0   golf     150000                  0    petrol  volkswagen         NaN   \n",
       "1    NaN     125000                  5  gasoline        audi         yes   \n",
       "2  grand     125000                  8  gasoline        jeep         NaN   \n",
       "3   golf     150000                  6    petrol  volkswagen          no   \n",
       "4  fabia      90000                  7  gasoline       skoda          no   \n",
       "\n",
       "           DateCreated  NumberOfPictures  PostalCode             LastSeen  \n",
       "0  2016-03-24 00:00:00                 0       70435  2016-04-07 03:16:57  \n",
       "1  2016-03-24 00:00:00                 0       66954  2016-04-07 01:46:50  \n",
       "2  2016-03-14 00:00:00                 0       90480  2016-04-05 12:47:46  \n",
       "3  2016-03-17 00:00:00                 0       91074  2016-03-17 17:40:17  \n",
       "4  2016-03-31 00:00:00                 0       60437  2016-04-06 10:17:21  "
      ]
     },
     "metadata": {},
     "output_type": "display_data"
    },
    {
     "name": "stdout",
     "output_type": "stream",
     "text": [
      "<class 'pandas.core.frame.DataFrame'>\n",
      "Int64Index: 354369 entries, 0 to 354368\n",
      "Data columns (total 16 columns):\n",
      " #   Column             Non-Null Count   Dtype \n",
      "---  ------             --------------   ----- \n",
      " 0   DateCrawled        354369 non-null  object\n",
      " 1   Price              354369 non-null  int64 \n",
      " 2   VehicleType        316879 non-null  object\n",
      " 3   RegistrationYear   354369 non-null  int64 \n",
      " 4   Gearbox            334536 non-null  object\n",
      " 5   Power              354369 non-null  int64 \n",
      " 6   Model              334664 non-null  object\n",
      " 7   Kilometer          354369 non-null  int64 \n",
      " 8   RegistrationMonth  354369 non-null  int64 \n",
      " 9   FuelType           321474 non-null  object\n",
      " 10  Brand              354369 non-null  object\n",
      " 11  NotRepaired        283215 non-null  object\n",
      " 12  DateCreated        354369 non-null  object\n",
      " 13  NumberOfPictures   354369 non-null  int64 \n",
      " 14  PostalCode         354369 non-null  int64 \n",
      " 15  LastSeen           354369 non-null  object\n",
      "dtypes: int64(7), object(9)\n",
      "memory usage: 46.0+ MB\n"
     ]
    }
   ],
   "source": [
    "# игнорирование предупреждений \n",
    "warnings.filterwarnings('ignore') \n",
    "\n",
    "# формирование датафрейма \n",
    "data = pd.read_csv('dataset_autos.csv', index_col=0)\n",
    "\n",
    "# просмотр общей информации о датафрейме\n",
    "display(data.head())\n",
    "data.info()"
   ]
  },
  {
   "cell_type": "markdown",
   "metadata": {},
   "source": [
    "### Изменение стиля заголовков "
   ]
  },
  {
   "cell_type": "code",
   "execution_count": 261,
   "metadata": {
    "scrolled": true
   },
   "outputs": [
    {
     "name": "stdout",
     "output_type": "stream",
     "text": [
      "<class 'pandas.core.frame.DataFrame'>\n",
      "RangeIndex: 354369 entries, 0 to 354368\n",
      "Data columns (total 16 columns):\n",
      " #   Column              Non-Null Count   Dtype \n",
      "---  ------              --------------   ----- \n",
      " 0   date_crawled        354369 non-null  object\n",
      " 1   price               354369 non-null  int64 \n",
      " 2   vehicle_type        316879 non-null  object\n",
      " 3   registration_year   354369 non-null  int64 \n",
      " 4   gearbox             334536 non-null  object\n",
      " 5   power               354369 non-null  int64 \n",
      " 6   model               334664 non-null  object\n",
      " 7   kilometer           354369 non-null  int64 \n",
      " 8   registration_month  354369 non-null  int64 \n",
      " 9   fuel_type           321474 non-null  object\n",
      " 10  brand               354369 non-null  object\n",
      " 11  not_repaired        283215 non-null  object\n",
      " 12  date_created        354369 non-null  object\n",
      " 13  number_of_pictures  354369 non-null  int64 \n",
      " 14  postal_code         354369 non-null  int64 \n",
      " 15  last_seen           354369 non-null  object\n",
      "dtypes: int64(7), object(9)\n",
      "memory usage: 43.3+ MB\n"
     ]
    }
   ],
   "source": [
    "# изменение стиля заголовков\n",
    "for name in data.columns:\n",
    "    rena = re.sub(r\"(?=[A-Z])(?!^)\", '_', name).lower()\n",
    "    data = data.rename(columns={name:rena})\n",
    "\n",
    "# проверка внесенных изменений\n",
    "data.info()"
   ]
  },
  {
   "cell_type": "markdown",
   "metadata": {},
   "source": [
    "### Аномалии в данных\n",
    "\n",
    "Во всех анкетах количество фотографий автомобиля равно нулю. Это вряд ли может соответствовать действительности, поэтому этот признак можно не учитывать во время обучения и предсказания моделей."
   ]
  },
  {
   "cell_type": "code",
   "execution_count": 262,
   "metadata": {
    "scrolled": true
   },
   "outputs": [
    {
     "data": {
      "text/plain": [
       "0    354369\n",
       "Name: number_of_pictures, dtype: int64"
      ]
     },
     "metadata": {},
     "output_type": "display_data"
    }
   ],
   "source": [
    "# просмотр значений признака\n",
    "display(data['number_of_pictures'].value_counts())\n",
    "\n",
    "# удаление признака\n",
    "data = data.drop('number_of_pictures', axis=1)"
   ]
  },
  {
   "cell_type": "markdown",
   "metadata": {},
   "source": [
    "Объекты со значениями признака 'power' выше тысячи так же можно удалить, такие показатели мощности почти не встречаются в действитльности."
   ]
  },
  {
   "cell_type": "code",
   "execution_count": 263,
   "metadata": {
    "scrolled": true
   },
   "outputs": [
    {
     "data": {
      "image/png": "[encoded data removed]",
      "text/plain": [
       "<Figure size 432x288 with 1 Axes>"
      ]
     },
     "metadata": {
      "needs_background": "light"
     },
     "output_type": "display_data"
    },
    {
     "data": {
      "text/plain": [
       "count    354369.000000\n",
       "mean        110.094337\n",
       "std         189.850405\n",
       "min           0.000000\n",
       "25%          69.000000\n",
       "50%         105.000000\n",
       "75%         143.000000\n",
       "max       20000.000000\n",
       "Name: power, dtype: float64"
      ]
     },
     "metadata": {},
     "output_type": "display_data"
    },
    {
     "data": {
      "text/plain": [
       "302"
      ]
     },
     "metadata": {},
     "output_type": "display_data"
    },
    {
     "data": {
      "text/html": [
       "<div>\n",
       "<style scoped>\n",
       "    .dataframe tbody tr th:only-of-type {\n",
       "        vertical-align: middle;\n",
       "    }\n",
       "\n",
       "    .dataframe tbody tr th {\n",
       "        vertical-align: top;\n",
       "    }\n",
       "\n",
       "    .dataframe thead th {\n",
       "        text-align: right;\n",
       "    }\n",
       "</style>\n",
       "<table border=\"1\" class=\"dataframe\">\n",
       "  <thead>\n",
       "    <tr style=\"text-align: right;\">\n",
       "      <th></th>\n",
       "      <th>date_crawled</th>\n",
       "      <th>price</th>\n",
       "      <th>vehicle_type</th>\n",
       "      <th>registration_year</th>\n",
       "      <th>gearbox</th>\n",
       "      <th>power</th>\n",
       "      <th>model</th>\n",
       "      <th>kilometer</th>\n",
       "      <th>registration_month</th>\n",
       "      <th>fuel_type</th>\n",
       "      <th>brand</th>\n",
       "      <th>not_repaired</th>\n",
       "      <th>date_created</th>\n",
       "      <th>postal_code</th>\n",
       "      <th>last_seen</th>\n",
       "    </tr>\n",
       "  </thead>\n",
       "  <tbody>\n",
       "    <tr>\n",
       "      <th>354062</th>\n",
       "      <td>2016-03-21 09:50:58</td>\n",
       "      <td>0</td>\n",
       "      <td>NaN</td>\n",
       "      <td>2005</td>\n",
       "      <td>manual</td>\n",
       "      <td>0</td>\n",
       "      <td>colt</td>\n",
       "      <td>150000</td>\n",
       "      <td>7</td>\n",
       "      <td>petrol</td>\n",
       "      <td>mitsubishi</td>\n",
       "      <td>yes</td>\n",
       "      <td>2016-03-21 00:00:00</td>\n",
       "      <td>2694</td>\n",
       "      <td>2016-03-21 10:42:49</td>\n",
       "    </tr>\n",
       "    <tr>\n",
       "      <th>354063</th>\n",
       "      <td>2016-03-14 17:48:27</td>\n",
       "      <td>2200</td>\n",
       "      <td>NaN</td>\n",
       "      <td>2005</td>\n",
       "      <td>NaN</td>\n",
       "      <td>0</td>\n",
       "      <td>NaN</td>\n",
       "      <td>20000</td>\n",
       "      <td>1</td>\n",
       "      <td>NaN</td>\n",
       "      <td>sonstige_autos</td>\n",
       "      <td>NaN</td>\n",
       "      <td>2016-03-14 00:00:00</td>\n",
       "      <td>39576</td>\n",
       "      <td>2016-04-06 00:46:52</td>\n",
       "    </tr>\n",
       "    <tr>\n",
       "      <th>354064</th>\n",
       "      <td>2016-03-05 19:56:21</td>\n",
       "      <td>1199</td>\n",
       "      <td>convertible</td>\n",
       "      <td>2000</td>\n",
       "      <td>auto</td>\n",
       "      <td>101</td>\n",
       "      <td>fortwo</td>\n",
       "      <td>125000</td>\n",
       "      <td>3</td>\n",
       "      <td>petrol</td>\n",
       "      <td>smart</td>\n",
       "      <td>no</td>\n",
       "      <td>2016-03-05 00:00:00</td>\n",
       "      <td>26135</td>\n",
       "      <td>2016-03-11 18:17:12</td>\n",
       "    </tr>\n",
       "    <tr>\n",
       "      <th>354065</th>\n",
       "      <td>2016-03-19 18:57:12</td>\n",
       "      <td>9200</td>\n",
       "      <td>bus</td>\n",
       "      <td>1996</td>\n",
       "      <td>manual</td>\n",
       "      <td>102</td>\n",
       "      <td>transporter</td>\n",
       "      <td>150000</td>\n",
       "      <td>3</td>\n",
       "      <td>gasoline</td>\n",
       "      <td>volkswagen</td>\n",
       "      <td>no</td>\n",
       "      <td>2016-03-19 00:00:00</td>\n",
       "      <td>87439</td>\n",
       "      <td>2016-04-07 07:15:26</td>\n",
       "    </tr>\n",
       "    <tr>\n",
       "      <th>354066</th>\n",
       "      <td>2016-03-20 19:41:08</td>\n",
       "      <td>3400</td>\n",
       "      <td>wagon</td>\n",
       "      <td>2002</td>\n",
       "      <td>manual</td>\n",
       "      <td>100</td>\n",
       "      <td>golf</td>\n",
       "      <td>150000</td>\n",
       "      <td>6</td>\n",
       "      <td>gasoline</td>\n",
       "      <td>volkswagen</td>\n",
       "      <td>NaN</td>\n",
       "      <td>2016-03-20 00:00:00</td>\n",
       "      <td>40764</td>\n",
       "      <td>2016-03-24 12:45:21</td>\n",
       "    </tr>\n",
       "  </tbody>\n",
       "</table>\n",
       "</div>"
      ],
      "text/plain": [
       "               date_crawled  price vehicle_type  registration_year gearbox  \\\n",
       "354062  2016-03-21 09:50:58      0          NaN               2005  manual   \n",
       "354063  2016-03-14 17:48:27   2200          NaN               2005     NaN   \n",
       "354064  2016-03-05 19:56:21   1199  convertible               2000    auto   \n",
       "354065  2016-03-19 18:57:12   9200          bus               1996  manual   \n",
       "354066  2016-03-20 19:41:08   3400        wagon               2002  manual   \n",
       "\n",
       "        power        model  kilometer  registration_month fuel_type  \\\n",
       "354062      0         colt     150000                   7    petrol   \n",
       "354063      0          NaN      20000                   1       NaN   \n",
       "354064    101       fortwo     125000                   3    petrol   \n",
       "354065    102  transporter     150000                   3  gasoline   \n",
       "354066    100         golf     150000                   6  gasoline   \n",
       "\n",
       "                 brand not_repaired         date_created  postal_code  \\\n",
       "354062      mitsubishi          yes  2016-03-21 00:00:00         2694   \n",
       "354063  sonstige_autos          NaN  2016-03-14 00:00:00        39576   \n",
       "354064           smart           no  2016-03-05 00:00:00        26135   \n",
       "354065      volkswagen           no  2016-03-19 00:00:00        87439   \n",
       "354066      volkswagen          NaN  2016-03-20 00:00:00        40764   \n",
       "\n",
       "                  last_seen  \n",
       "354062  2016-03-21 10:42:49  \n",
       "354063  2016-04-06 00:46:52  \n",
       "354064  2016-03-11 18:17:12  \n",
       "354065  2016-04-07 07:15:26  \n",
       "354066  2016-03-24 12:45:21  "
      ]
     },
     "metadata": {},
     "output_type": "display_data"
    }
   ],
   "source": [
    "# диаграмма размаха\n",
    "data.boxplot(column='power')\n",
    "plt.ylim(-1, 1100)\n",
    "plt.show()\n",
    "\n",
    "# статистические данные признака\n",
    "display(data['power'].describe())\n",
    "\n",
    "# количество объектов с мощностью выше 1000\n",
    "display(len(data[data['power'] > 1000]))\n",
    "\n",
    "# удаление объектов с мощностью превышающей 1000\n",
    "data = data.loc[data['power'] <= 1000].reset_index(drop=True)\n",
    "\n",
    "# проверка внесенных изменений\n",
    "display(data.tail())"
   ]
  },
  {
   "cell_type": "markdown",
   "metadata": {},
   "source": [
    "Большое количество нулевых значений в целевом признаке 'price', это может негативно повлиять на предсказания моделей, поэтому лучше будет удалить объекты с нулевым значением."
   ]
  },
  {
   "cell_type": "code",
   "execution_count": 264,
   "metadata": {
    "scrolled": true
   },
   "outputs": [
    {
     "data": {
      "text/plain": [
       "0        10756\n",
       "500       5665\n",
       "1500      5384\n",
       "1000      4642\n",
       "1200      4590\n",
       "         ...  \n",
       "5240         1\n",
       "13180        1\n",
       "10879        1\n",
       "2683         1\n",
       "8188         1\n",
       "Name: price, Length: 3730, dtype: int64"
      ]
     },
     "metadata": {},
     "output_type": "display_data"
    },
    {
     "data": {
      "text/html": [
       "<div>\n",
       "<style scoped>\n",
       "    .dataframe tbody tr th:only-of-type {\n",
       "        vertical-align: middle;\n",
       "    }\n",
       "\n",
       "    .dataframe tbody tr th {\n",
       "        vertical-align: top;\n",
       "    }\n",
       "\n",
       "    .dataframe thead th {\n",
       "        text-align: right;\n",
       "    }\n",
       "</style>\n",
       "<table border=\"1\" class=\"dataframe\">\n",
       "  <thead>\n",
       "    <tr style=\"text-align: right;\">\n",
       "      <th></th>\n",
       "      <th>date_crawled</th>\n",
       "      <th>price</th>\n",
       "      <th>vehicle_type</th>\n",
       "      <th>registration_year</th>\n",
       "      <th>gearbox</th>\n",
       "      <th>power</th>\n",
       "      <th>model</th>\n",
       "      <th>kilometer</th>\n",
       "      <th>registration_month</th>\n",
       "      <th>fuel_type</th>\n",
       "      <th>brand</th>\n",
       "      <th>not_repaired</th>\n",
       "      <th>date_created</th>\n",
       "      <th>postal_code</th>\n",
       "      <th>last_seen</th>\n",
       "    </tr>\n",
       "  </thead>\n",
       "  <tbody>\n",
       "    <tr>\n",
       "      <th>343306</th>\n",
       "      <td>2016-03-27 20:36:20</td>\n",
       "      <td>1150</td>\n",
       "      <td>bus</td>\n",
       "      <td>2000</td>\n",
       "      <td>manual</td>\n",
       "      <td>0</td>\n",
       "      <td>zafira</td>\n",
       "      <td>150000</td>\n",
       "      <td>3</td>\n",
       "      <td>petrol</td>\n",
       "      <td>opel</td>\n",
       "      <td>no</td>\n",
       "      <td>2016-03-27 00:00:00</td>\n",
       "      <td>26624</td>\n",
       "      <td>2016-03-29 10:17:23</td>\n",
       "    </tr>\n",
       "    <tr>\n",
       "      <th>343307</th>\n",
       "      <td>2016-03-14 17:48:27</td>\n",
       "      <td>2200</td>\n",
       "      <td>NaN</td>\n",
       "      <td>2005</td>\n",
       "      <td>NaN</td>\n",
       "      <td>0</td>\n",
       "      <td>NaN</td>\n",
       "      <td>20000</td>\n",
       "      <td>1</td>\n",
       "      <td>NaN</td>\n",
       "      <td>sonstige_autos</td>\n",
       "      <td>NaN</td>\n",
       "      <td>2016-03-14 00:00:00</td>\n",
       "      <td>39576</td>\n",
       "      <td>2016-04-06 00:46:52</td>\n",
       "    </tr>\n",
       "    <tr>\n",
       "      <th>343308</th>\n",
       "      <td>2016-03-05 19:56:21</td>\n",
       "      <td>1199</td>\n",
       "      <td>convertible</td>\n",
       "      <td>2000</td>\n",
       "      <td>auto</td>\n",
       "      <td>101</td>\n",
       "      <td>fortwo</td>\n",
       "      <td>125000</td>\n",
       "      <td>3</td>\n",
       "      <td>petrol</td>\n",
       "      <td>smart</td>\n",
       "      <td>no</td>\n",
       "      <td>2016-03-05 00:00:00</td>\n",
       "      <td>26135</td>\n",
       "      <td>2016-03-11 18:17:12</td>\n",
       "    </tr>\n",
       "    <tr>\n",
       "      <th>343309</th>\n",
       "      <td>2016-03-19 18:57:12</td>\n",
       "      <td>9200</td>\n",
       "      <td>bus</td>\n",
       "      <td>1996</td>\n",
       "      <td>manual</td>\n",
       "      <td>102</td>\n",
       "      <td>transporter</td>\n",
       "      <td>150000</td>\n",
       "      <td>3</td>\n",
       "      <td>gasoline</td>\n",
       "      <td>volkswagen</td>\n",
       "      <td>no</td>\n",
       "      <td>2016-03-19 00:00:00</td>\n",
       "      <td>87439</td>\n",
       "      <td>2016-04-07 07:15:26</td>\n",
       "    </tr>\n",
       "    <tr>\n",
       "      <th>343310</th>\n",
       "      <td>2016-03-20 19:41:08</td>\n",
       "      <td>3400</td>\n",
       "      <td>wagon</td>\n",
       "      <td>2002</td>\n",
       "      <td>manual</td>\n",
       "      <td>100</td>\n",
       "      <td>golf</td>\n",
       "      <td>150000</td>\n",
       "      <td>6</td>\n",
       "      <td>gasoline</td>\n",
       "      <td>volkswagen</td>\n",
       "      <td>NaN</td>\n",
       "      <td>2016-03-20 00:00:00</td>\n",
       "      <td>40764</td>\n",
       "      <td>2016-03-24 12:45:21</td>\n",
       "    </tr>\n",
       "  </tbody>\n",
       "</table>\n",
       "</div>"
      ],
      "text/plain": [
       "               date_crawled  price vehicle_type  registration_year gearbox  \\\n",
       "343306  2016-03-27 20:36:20   1150          bus               2000  manual   \n",
       "343307  2016-03-14 17:48:27   2200          NaN               2005     NaN   \n",
       "343308  2016-03-05 19:56:21   1199  convertible               2000    auto   \n",
       "343309  2016-03-19 18:57:12   9200          bus               1996  manual   \n",
       "343310  2016-03-20 19:41:08   3400        wagon               2002  manual   \n",
       "\n",
       "        power        model  kilometer  registration_month fuel_type  \\\n",
       "343306      0       zafira     150000                   3    petrol   \n",
       "343307      0          NaN      20000                   1       NaN   \n",
       "343308    101       fortwo     125000                   3    petrol   \n",
       "343309    102  transporter     150000                   3  gasoline   \n",
       "343310    100         golf     150000                   6  gasoline   \n",
       "\n",
       "                 brand not_repaired         date_created  postal_code  \\\n",
       "343306            opel           no  2016-03-27 00:00:00        26624   \n",
       "343307  sonstige_autos          NaN  2016-03-14 00:00:00        39576   \n",
       "343308           smart           no  2016-03-05 00:00:00        26135   \n",
       "343309      volkswagen           no  2016-03-19 00:00:00        87439   \n",
       "343310      volkswagen          NaN  2016-03-20 00:00:00        40764   \n",
       "\n",
       "                  last_seen  \n",
       "343306  2016-03-29 10:17:23  \n",
       "343307  2016-04-06 00:46:52  \n",
       "343308  2016-03-11 18:17:12  \n",
       "343309  2016-04-07 07:15:26  \n",
       "343310  2016-03-24 12:45:21  "
      ]
     },
     "metadata": {},
     "output_type": "display_data"
    }
   ],
   "source": [
    "# просмотр значений признака\n",
    "display(data['price'].value_counts())\n",
    "\n",
    "# удаление объектов с ценой равной нулю\n",
    "data = data.loc[data['price'] != 0].reset_index(drop=True)\n",
    "\n",
    "# проверка внесенных изменений\n",
    "display(data.tail())"
   ]
  },
  {
   "cell_type": "code",
   "execution_count": 265,
   "metadata": {},
   "outputs": [],
   "source": [
    "# изменение вида записи значений признака\n",
    "data.loc[(data['not_repaired'] == 'no'), 'not_repaired'] = 0\n",
    "data.loc[(data['not_repaired'] == 'yes'), 'not_repaired'] = 1"
   ]
  },
  {
   "cell_type": "markdown",
   "metadata": {},
   "source": [
    "### Изменение типов данных"
   ]
  },
  {
   "cell_type": "code",
   "execution_count": 266,
   "metadata": {
    "scrolled": true
   },
   "outputs": [
    {
     "data": {
      "text/html": [
       "<div>\n",
       "<style scoped>\n",
       "    .dataframe tbody tr th:only-of-type {\n",
       "        vertical-align: middle;\n",
       "    }\n",
       "\n",
       "    .dataframe tbody tr th {\n",
       "        vertical-align: top;\n",
       "    }\n",
       "\n",
       "    .dataframe thead th {\n",
       "        text-align: right;\n",
       "    }\n",
       "</style>\n",
       "<table border=\"1\" class=\"dataframe\">\n",
       "  <thead>\n",
       "    <tr style=\"text-align: right;\">\n",
       "      <th></th>\n",
       "      <th>date_crawled</th>\n",
       "      <th>price</th>\n",
       "      <th>vehicle_type</th>\n",
       "      <th>registration_year</th>\n",
       "      <th>gearbox</th>\n",
       "      <th>power</th>\n",
       "      <th>model</th>\n",
       "      <th>kilometer</th>\n",
       "      <th>registration_month</th>\n",
       "      <th>fuel_type</th>\n",
       "      <th>brand</th>\n",
       "      <th>not_repaired</th>\n",
       "      <th>date_created</th>\n",
       "      <th>postal_code</th>\n",
       "      <th>last_seen</th>\n",
       "    </tr>\n",
       "  </thead>\n",
       "  <tbody>\n",
       "    <tr>\n",
       "      <th>0</th>\n",
       "      <td>2016-03-24 11:52:17</td>\n",
       "      <td>480</td>\n",
       "      <td>NaN</td>\n",
       "      <td>1993</td>\n",
       "      <td>manual</td>\n",
       "      <td>0</td>\n",
       "      <td>golf</td>\n",
       "      <td>150000</td>\n",
       "      <td>0</td>\n",
       "      <td>petrol</td>\n",
       "      <td>volkswagen</td>\n",
       "      <td>NaN</td>\n",
       "      <td>2016-03-24</td>\n",
       "      <td>70435</td>\n",
       "      <td>2016-04-07 03:16:57</td>\n",
       "    </tr>\n",
       "    <tr>\n",
       "      <th>1</th>\n",
       "      <td>2016-03-24 10:58:45</td>\n",
       "      <td>18300</td>\n",
       "      <td>coupe</td>\n",
       "      <td>2011</td>\n",
       "      <td>manual</td>\n",
       "      <td>190</td>\n",
       "      <td>NaN</td>\n",
       "      <td>125000</td>\n",
       "      <td>5</td>\n",
       "      <td>gasoline</td>\n",
       "      <td>audi</td>\n",
       "      <td>1</td>\n",
       "      <td>2016-03-24</td>\n",
       "      <td>66954</td>\n",
       "      <td>2016-04-07 01:46:50</td>\n",
       "    </tr>\n",
       "    <tr>\n",
       "      <th>2</th>\n",
       "      <td>2016-03-14 12:52:21</td>\n",
       "      <td>9800</td>\n",
       "      <td>suv</td>\n",
       "      <td>2004</td>\n",
       "      <td>auto</td>\n",
       "      <td>163</td>\n",
       "      <td>grand</td>\n",
       "      <td>125000</td>\n",
       "      <td>8</td>\n",
       "      <td>gasoline</td>\n",
       "      <td>jeep</td>\n",
       "      <td>NaN</td>\n",
       "      <td>2016-03-14</td>\n",
       "      <td>90480</td>\n",
       "      <td>2016-04-05 12:47:46</td>\n",
       "    </tr>\n",
       "    <tr>\n",
       "      <th>3</th>\n",
       "      <td>2016-03-17 16:54:04</td>\n",
       "      <td>1500</td>\n",
       "      <td>small</td>\n",
       "      <td>2001</td>\n",
       "      <td>manual</td>\n",
       "      <td>75</td>\n",
       "      <td>golf</td>\n",
       "      <td>150000</td>\n",
       "      <td>6</td>\n",
       "      <td>petrol</td>\n",
       "      <td>volkswagen</td>\n",
       "      <td>0</td>\n",
       "      <td>2016-03-17</td>\n",
       "      <td>91074</td>\n",
       "      <td>2016-03-17 17:40:17</td>\n",
       "    </tr>\n",
       "    <tr>\n",
       "      <th>4</th>\n",
       "      <td>2016-03-31 17:25:20</td>\n",
       "      <td>3600</td>\n",
       "      <td>small</td>\n",
       "      <td>2008</td>\n",
       "      <td>manual</td>\n",
       "      <td>69</td>\n",
       "      <td>fabia</td>\n",
       "      <td>90000</td>\n",
       "      <td>7</td>\n",
       "      <td>gasoline</td>\n",
       "      <td>skoda</td>\n",
       "      <td>0</td>\n",
       "      <td>2016-03-31</td>\n",
       "      <td>60437</td>\n",
       "      <td>2016-04-06 10:17:21</td>\n",
       "    </tr>\n",
       "  </tbody>\n",
       "</table>\n",
       "</div>"
      ],
      "text/plain": [
       "         date_crawled  price vehicle_type  registration_year gearbox  power  \\\n",
       "0 2016-03-24 11:52:17    480          NaN               1993  manual      0   \n",
       "1 2016-03-24 10:58:45  18300        coupe               2011  manual    190   \n",
       "2 2016-03-14 12:52:21   9800          suv               2004    auto    163   \n",
       "3 2016-03-17 16:54:04   1500        small               2001  manual     75   \n",
       "4 2016-03-31 17:25:20   3600        small               2008  manual     69   \n",
       "\n",
       "   model  kilometer  registration_month fuel_type       brand not_repaired  \\\n",
       "0   golf     150000                   0    petrol  volkswagen          NaN   \n",
       "1    NaN     125000                   5  gasoline        audi            1   \n",
       "2  grand     125000                   8  gasoline        jeep          NaN   \n",
       "3   golf     150000                   6    petrol  volkswagen            0   \n",
       "4  fabia      90000                   7  gasoline       skoda            0   \n",
       "\n",
       "  date_created  postal_code           last_seen  \n",
       "0   2016-03-24        70435 2016-04-07 03:16:57  \n",
       "1   2016-03-24        66954 2016-04-07 01:46:50  \n",
       "2   2016-03-14        90480 2016-04-05 12:47:46  \n",
       "3   2016-03-17        91074 2016-03-17 17:40:17  \n",
       "4   2016-03-31        60437 2016-04-06 10:17:21  "
      ]
     },
     "metadata": {},
     "output_type": "display_data"
    },
    {
     "name": "stdout",
     "output_type": "stream",
     "text": [
      "<class 'pandas.core.frame.DataFrame'>\n",
      "RangeIndex: 343311 entries, 0 to 343310\n",
      "Data columns (total 15 columns):\n",
      " #   Column              Non-Null Count   Dtype         \n",
      "---  ------              --------------   -----         \n",
      " 0   date_crawled        343311 non-null  datetime64[ns]\n",
      " 1   price               343311 non-null  int64         \n",
      " 2   vehicle_type        309602 non-null  object        \n",
      " 3   registration_year   343311 non-null  int64         \n",
      " 4   gearbox             325972 non-null  object        \n",
      " 5   power               343311 non-null  int64         \n",
      " 6   model               325824 non-null  object        \n",
      " 7   kilometer           343311 non-null  int64         \n",
      " 8   registration_month  343311 non-null  int64         \n",
      " 9   fuel_type           313907 non-null  object        \n",
      " 10  brand               343311 non-null  object        \n",
      " 11  not_repaired        277547 non-null  object        \n",
      " 12  date_created        343311 non-null  datetime64[ns]\n",
      " 13  postal_code         343311 non-null  int64         \n",
      " 14  last_seen           343311 non-null  datetime64[ns]\n",
      "dtypes: datetime64[ns](3), int64(6), object(6)\n",
      "memory usage: 39.3+ MB\n"
     ]
    }
   ],
   "source": [
    "# изменение типов данных\n",
    "data['date_crawled'] = pd.to_datetime(data['date_crawled'], format='%Y-%m-%d %H:%M:%S')\n",
    "data['date_created'] = pd.to_datetime(data['date_created'], format='%Y-%m-%d %H:%M:%S')\n",
    "data['last_seen'] = pd.to_datetime(data['last_seen'], format='%Y-%m-%d %H:%M:%S')\n",
    "\n",
    "# проверка внесенных изменений\n",
    "display(data.head())\n",
    "data.info()"
   ]
  },
  {
   "cell_type": "markdown",
   "metadata": {},
   "source": [
    "### Пропущенные значения\n",
    "\n",
    "Объекты с пропусками в признаках 'vehicle_type', 'gearbox', 'model', 'fuel_type' можно удалить, так как их не большое количество, пропуски в признаке 'not_repaired' можно заполнить наиболее встречаемым значением."
   ]
  },
  {
   "cell_type": "code",
   "execution_count": 267,
   "metadata": {},
   "outputs": [
    {
     "data": {
      "text/plain": [
       "0    243538\n",
       "1     34009\n",
       "Name: not_repaired, dtype: int64"
      ]
     },
     "metadata": {},
     "output_type": "display_data"
    }
   ],
   "source": [
    "# просмотр значений признака\n",
    "display(data['not_repaired'].value_counts())"
   ]
  },
  {
   "cell_type": "code",
   "execution_count": 268,
   "metadata": {
    "scrolled": true
   },
   "outputs": [
    {
     "name": "stdout",
     "output_type": "stream",
     "text": [
      "<class 'pandas.core.frame.DataFrame'>\n",
      "RangeIndex: 278901 entries, 0 to 278900\n",
      "Data columns (total 15 columns):\n",
      " #   Column              Non-Null Count   Dtype         \n",
      "---  ------              --------------   -----         \n",
      " 0   date_crawled        278901 non-null  datetime64[ns]\n",
      " 1   price               278901 non-null  int64         \n",
      " 2   vehicle_type        278901 non-null  object        \n",
      " 3   registration_year   278901 non-null  int64         \n",
      " 4   gearbox             278901 non-null  object        \n",
      " 5   power               278901 non-null  int64         \n",
      " 6   model               278901 non-null  object        \n",
      " 7   kilometer           278901 non-null  int64         \n",
      " 8   registration_month  278901 non-null  int64         \n",
      " 9   fuel_type           278901 non-null  object        \n",
      " 10  brand               278901 non-null  object        \n",
      " 11  not_repaired        278901 non-null  int64         \n",
      " 12  date_created        278901 non-null  datetime64[ns]\n",
      " 13  postal_code         278901 non-null  int64         \n",
      " 14  last_seen           278901 non-null  datetime64[ns]\n",
      "dtypes: datetime64[ns](3), int64(7), object(5)\n",
      "memory usage: 31.9+ MB\n"
     ]
    },
    {
     "data": {
      "text/html": [
       "<div>\n",
       "<style scoped>\n",
       "    .dataframe tbody tr th:only-of-type {\n",
       "        vertical-align: middle;\n",
       "    }\n",
       "\n",
       "    .dataframe tbody tr th {\n",
       "        vertical-align: top;\n",
       "    }\n",
       "\n",
       "    .dataframe thead th {\n",
       "        text-align: right;\n",
       "    }\n",
       "</style>\n",
       "<table border=\"1\" class=\"dataframe\">\n",
       "  <thead>\n",
       "    <tr style=\"text-align: right;\">\n",
       "      <th></th>\n",
       "      <th>date_crawled</th>\n",
       "      <th>price</th>\n",
       "      <th>vehicle_type</th>\n",
       "      <th>registration_year</th>\n",
       "      <th>gearbox</th>\n",
       "      <th>power</th>\n",
       "      <th>model</th>\n",
       "      <th>kilometer</th>\n",
       "      <th>registration_month</th>\n",
       "      <th>fuel_type</th>\n",
       "      <th>brand</th>\n",
       "      <th>not_repaired</th>\n",
       "      <th>date_created</th>\n",
       "      <th>postal_code</th>\n",
       "      <th>last_seen</th>\n",
       "    </tr>\n",
       "  </thead>\n",
       "  <tbody>\n",
       "    <tr>\n",
       "      <th>0</th>\n",
       "      <td>2016-03-14 12:52:21</td>\n",
       "      <td>9800</td>\n",
       "      <td>suv</td>\n",
       "      <td>2004</td>\n",
       "      <td>auto</td>\n",
       "      <td>163</td>\n",
       "      <td>grand</td>\n",
       "      <td>125000</td>\n",
       "      <td>8</td>\n",
       "      <td>gasoline</td>\n",
       "      <td>jeep</td>\n",
       "      <td>0</td>\n",
       "      <td>2016-03-14</td>\n",
       "      <td>90480</td>\n",
       "      <td>2016-04-05 12:47:46</td>\n",
       "    </tr>\n",
       "    <tr>\n",
       "      <th>1</th>\n",
       "      <td>2016-03-17 16:54:04</td>\n",
       "      <td>1500</td>\n",
       "      <td>small</td>\n",
       "      <td>2001</td>\n",
       "      <td>manual</td>\n",
       "      <td>75</td>\n",
       "      <td>golf</td>\n",
       "      <td>150000</td>\n",
       "      <td>6</td>\n",
       "      <td>petrol</td>\n",
       "      <td>volkswagen</td>\n",
       "      <td>0</td>\n",
       "      <td>2016-03-17</td>\n",
       "      <td>91074</td>\n",
       "      <td>2016-03-17 17:40:17</td>\n",
       "    </tr>\n",
       "    <tr>\n",
       "      <th>2</th>\n",
       "      <td>2016-03-31 17:25:20</td>\n",
       "      <td>3600</td>\n",
       "      <td>small</td>\n",
       "      <td>2008</td>\n",
       "      <td>manual</td>\n",
       "      <td>69</td>\n",
       "      <td>fabia</td>\n",
       "      <td>90000</td>\n",
       "      <td>7</td>\n",
       "      <td>gasoline</td>\n",
       "      <td>skoda</td>\n",
       "      <td>0</td>\n",
       "      <td>2016-03-31</td>\n",
       "      <td>60437</td>\n",
       "      <td>2016-04-06 10:17:21</td>\n",
       "    </tr>\n",
       "    <tr>\n",
       "      <th>3</th>\n",
       "      <td>2016-04-04 17:36:23</td>\n",
       "      <td>650</td>\n",
       "      <td>sedan</td>\n",
       "      <td>1995</td>\n",
       "      <td>manual</td>\n",
       "      <td>102</td>\n",
       "      <td>3er</td>\n",
       "      <td>150000</td>\n",
       "      <td>10</td>\n",
       "      <td>petrol</td>\n",
       "      <td>bmw</td>\n",
       "      <td>1</td>\n",
       "      <td>2016-04-04</td>\n",
       "      <td>33775</td>\n",
       "      <td>2016-04-06 19:17:07</td>\n",
       "    </tr>\n",
       "    <tr>\n",
       "      <th>4</th>\n",
       "      <td>2016-04-01 20:48:51</td>\n",
       "      <td>2200</td>\n",
       "      <td>convertible</td>\n",
       "      <td>2004</td>\n",
       "      <td>manual</td>\n",
       "      <td>109</td>\n",
       "      <td>2_reihe</td>\n",
       "      <td>150000</td>\n",
       "      <td>8</td>\n",
       "      <td>petrol</td>\n",
       "      <td>peugeot</td>\n",
       "      <td>0</td>\n",
       "      <td>2016-04-01</td>\n",
       "      <td>67112</td>\n",
       "      <td>2016-04-05 18:18:39</td>\n",
       "    </tr>\n",
       "  </tbody>\n",
       "</table>\n",
       "</div>"
      ],
      "text/plain": [
       "         date_crawled  price vehicle_type  registration_year gearbox  power  \\\n",
       "0 2016-03-14 12:52:21   9800          suv               2004    auto    163   \n",
       "1 2016-03-17 16:54:04   1500        small               2001  manual     75   \n",
       "2 2016-03-31 17:25:20   3600        small               2008  manual     69   \n",
       "3 2016-04-04 17:36:23    650        sedan               1995  manual    102   \n",
       "4 2016-04-01 20:48:51   2200  convertible               2004  manual    109   \n",
       "\n",
       "     model  kilometer  registration_month fuel_type       brand  not_repaired  \\\n",
       "0    grand     125000                   8  gasoline        jeep             0   \n",
       "1     golf     150000                   6    petrol  volkswagen             0   \n",
       "2    fabia      90000                   7  gasoline       skoda             0   \n",
       "3      3er     150000                  10    petrol         bmw             1   \n",
       "4  2_reihe     150000                   8    petrol     peugeot             0   \n",
       "\n",
       "  date_created  postal_code           last_seen  \n",
       "0   2016-03-14        90480 2016-04-05 12:47:46  \n",
       "1   2016-03-17        91074 2016-03-17 17:40:17  \n",
       "2   2016-03-31        60437 2016-04-06 10:17:21  \n",
       "3   2016-04-04        33775 2016-04-06 19:17:07  \n",
       "4   2016-04-01        67112 2016-04-05 18:18:39  "
      ]
     },
     "metadata": {},
     "output_type": "display_data"
    }
   ],
   "source": [
    "# список с признаками в которых присутствуют пропущенные значения \n",
    "nan_columns = ['vehicle_type', 'gearbox', 'model', 'fuel_type']\n",
    "\n",
    "# удаление пропущенных значений в признаках из списка\n",
    "data = data.dropna(subset=nan_columns).reset_index(drop=True)\n",
    "\n",
    "# заполнение пропущенных значений и изменение типа данных признака 'not_repaired'\n",
    "data['not_repaired'] = data['not_repaired'].fillna(0)\n",
    "data['not_repaired'] = data['not_repaired'].astype(int)\n",
    "\n",
    "# проверка внесенных изменений \n",
    "data.info()\n",
    "display(data.head())"
   ]
  },
  {
   "cell_type": "markdown",
   "metadata": {},
   "source": [
    "## Выбор моделей"
   ]
  },
  {
   "cell_type": "markdown",
   "metadata": {},
   "source": [
    "### Подготовка выборок\n",
    "\n",
    "Так как тестовой выборки нет, разобьем исходнные данные в соотношении 3:1:1. <br>\n",
    "Также проведем масштабирование признаков путем стандартизации."
   ]
  },
  {
   "cell_type": "markdown",
   "metadata": {},
   "source": [
    "#### Кодирование One-Hot Encoding (OHE)"
   ]
  },
  {
   "cell_type": "code",
   "execution_count": 269,
   "metadata": {},
   "outputs": [
    {
     "data": {
      "text/html": [
       "<div>\n",
       "<style scoped>\n",
       "    .dataframe tbody tr th:only-of-type {\n",
       "        vertical-align: middle;\n",
       "    }\n",
       "\n",
       "    .dataframe tbody tr th {\n",
       "        vertical-align: top;\n",
       "    }\n",
       "\n",
       "    .dataframe thead th {\n",
       "        text-align: right;\n",
       "    }\n",
       "</style>\n",
       "<table border=\"1\" class=\"dataframe\">\n",
       "  <thead>\n",
       "    <tr style=\"text-align: right;\">\n",
       "      <th></th>\n",
       "      <th>price</th>\n",
       "      <th>registration_year</th>\n",
       "      <th>power</th>\n",
       "      <th>kilometer</th>\n",
       "      <th>not_repaired</th>\n",
       "      <th>vehicle_type_convertible</th>\n",
       "      <th>vehicle_type_coupe</th>\n",
       "      <th>vehicle_type_other</th>\n",
       "      <th>vehicle_type_sedan</th>\n",
       "      <th>vehicle_type_small</th>\n",
       "      <th>...</th>\n",
       "      <th>brand_saab</th>\n",
       "      <th>brand_seat</th>\n",
       "      <th>brand_skoda</th>\n",
       "      <th>brand_smart</th>\n",
       "      <th>brand_subaru</th>\n",
       "      <th>brand_suzuki</th>\n",
       "      <th>brand_toyota</th>\n",
       "      <th>brand_trabant</th>\n",
       "      <th>brand_volkswagen</th>\n",
       "      <th>brand_volvo</th>\n",
       "    </tr>\n",
       "  </thead>\n",
       "  <tbody>\n",
       "    <tr>\n",
       "      <th>0</th>\n",
       "      <td>9800</td>\n",
       "      <td>2004</td>\n",
       "      <td>163</td>\n",
       "      <td>125000</td>\n",
       "      <td>0</td>\n",
       "      <td>0</td>\n",
       "      <td>0</td>\n",
       "      <td>0</td>\n",
       "      <td>0</td>\n",
       "      <td>0</td>\n",
       "      <td>...</td>\n",
       "      <td>0</td>\n",
       "      <td>0</td>\n",
       "      <td>0</td>\n",
       "      <td>0</td>\n",
       "      <td>0</td>\n",
       "      <td>0</td>\n",
       "      <td>0</td>\n",
       "      <td>0</td>\n",
       "      <td>0</td>\n",
       "      <td>0</td>\n",
       "    </tr>\n",
       "    <tr>\n",
       "      <th>1</th>\n",
       "      <td>1500</td>\n",
       "      <td>2001</td>\n",
       "      <td>75</td>\n",
       "      <td>150000</td>\n",
       "      <td>0</td>\n",
       "      <td>0</td>\n",
       "      <td>0</td>\n",
       "      <td>0</td>\n",
       "      <td>0</td>\n",
       "      <td>1</td>\n",
       "      <td>...</td>\n",
       "      <td>0</td>\n",
       "      <td>0</td>\n",
       "      <td>0</td>\n",
       "      <td>0</td>\n",
       "      <td>0</td>\n",
       "      <td>0</td>\n",
       "      <td>0</td>\n",
       "      <td>0</td>\n",
       "      <td>1</td>\n",
       "      <td>0</td>\n",
       "    </tr>\n",
       "    <tr>\n",
       "      <th>2</th>\n",
       "      <td>3600</td>\n",
       "      <td>2008</td>\n",
       "      <td>69</td>\n",
       "      <td>90000</td>\n",
       "      <td>0</td>\n",
       "      <td>0</td>\n",
       "      <td>0</td>\n",
       "      <td>0</td>\n",
       "      <td>0</td>\n",
       "      <td>1</td>\n",
       "      <td>...</td>\n",
       "      <td>0</td>\n",
       "      <td>0</td>\n",
       "      <td>1</td>\n",
       "      <td>0</td>\n",
       "      <td>0</td>\n",
       "      <td>0</td>\n",
       "      <td>0</td>\n",
       "      <td>0</td>\n",
       "      <td>0</td>\n",
       "      <td>0</td>\n",
       "    </tr>\n",
       "    <tr>\n",
       "      <th>3</th>\n",
       "      <td>650</td>\n",
       "      <td>1995</td>\n",
       "      <td>102</td>\n",
       "      <td>150000</td>\n",
       "      <td>1</td>\n",
       "      <td>0</td>\n",
       "      <td>0</td>\n",
       "      <td>0</td>\n",
       "      <td>1</td>\n",
       "      <td>0</td>\n",
       "      <td>...</td>\n",
       "      <td>0</td>\n",
       "      <td>0</td>\n",
       "      <td>0</td>\n",
       "      <td>0</td>\n",
       "      <td>0</td>\n",
       "      <td>0</td>\n",
       "      <td>0</td>\n",
       "      <td>0</td>\n",
       "      <td>0</td>\n",
       "      <td>0</td>\n",
       "    </tr>\n",
       "    <tr>\n",
       "      <th>4</th>\n",
       "      <td>2200</td>\n",
       "      <td>2004</td>\n",
       "      <td>109</td>\n",
       "      <td>150000</td>\n",
       "      <td>0</td>\n",
       "      <td>1</td>\n",
       "      <td>0</td>\n",
       "      <td>0</td>\n",
       "      <td>0</td>\n",
       "      <td>0</td>\n",
       "      <td>...</td>\n",
       "      <td>0</td>\n",
       "      <td>0</td>\n",
       "      <td>0</td>\n",
       "      <td>0</td>\n",
       "      <td>0</td>\n",
       "      <td>0</td>\n",
       "      <td>0</td>\n",
       "      <td>0</td>\n",
       "      <td>0</td>\n",
       "      <td>0</td>\n",
       "    </tr>\n",
       "  </tbody>\n",
       "</table>\n",
       "<p>5 rows × 306 columns</p>\n",
       "</div>"
      ],
      "text/plain": [
       "   price  registration_year  power  kilometer  not_repaired  \\\n",
       "0   9800               2004    163     125000             0   \n",
       "1   1500               2001     75     150000             0   \n",
       "2   3600               2008     69      90000             0   \n",
       "3    650               1995    102     150000             1   \n",
       "4   2200               2004    109     150000             0   \n",
       "\n",
       "   vehicle_type_convertible  vehicle_type_coupe  vehicle_type_other  \\\n",
       "0                         0                   0                   0   \n",
       "1                         0                   0                   0   \n",
       "2                         0                   0                   0   \n",
       "3                         0                   0                   0   \n",
       "4                         1                   0                   0   \n",
       "\n",
       "   vehicle_type_sedan  vehicle_type_small  ...  brand_saab  brand_seat  \\\n",
       "0                   0                   0  ...           0           0   \n",
       "1                   0                   1  ...           0           0   \n",
       "2                   0                   1  ...           0           0   \n",
       "3                   1                   0  ...           0           0   \n",
       "4                   0                   0  ...           0           0   \n",
       "\n",
       "   brand_skoda  brand_smart  brand_subaru  brand_suzuki  brand_toyota  \\\n",
       "0            0            0             0             0             0   \n",
       "1            0            0             0             0             0   \n",
       "2            1            0             0             0             0   \n",
       "3            0            0             0             0             0   \n",
       "4            0            0             0             0             0   \n",
       "\n",
       "   brand_trabant  brand_volkswagen  brand_volvo  \n",
       "0              0                 0            0  \n",
       "1              0                 1            0  \n",
       "2              0                 0            0  \n",
       "3              0                 0            0  \n",
       "4              0                 0            0  \n",
       "\n",
       "[5 rows x 306 columns]"
      ]
     },
     "metadata": {},
     "output_type": "display_data"
    }
   ],
   "source": [
    "# формирование датафрейма без столбцов не влияюших на целевой признак\n",
    "data = data.drop(['date_crawled', 'registration_month', 'date_created', 'postal_code', 'last_seen'], axis=1)\n",
    "data_cat = data_cat.drop(['date_crawled', 'registration_month', 'date_created', 'postal_code', 'last_seen'], axis=1)\n",
    "\n",
    "# кодирование OHE\n",
    "data = pd.get_dummies(data, drop_first=True)\n",
    "\n",
    "# проверка внесенных изменений\n",
    "display(data.head())"
   ]
  },
  {
   "cell_type": "code",
   "execution_count": 270,
   "metadata": {},
   "outputs": [
    {
     "data": {
      "text/plain": [
       "167340"
      ]
     },
     "metadata": {},
     "output_type": "display_data"
    },
    {
     "data": {
      "text/plain": [
       "55780"
      ]
     },
     "metadata": {},
     "output_type": "display_data"
    },
    {
     "data": {
      "text/plain": [
       "55781"
      ]
     },
     "metadata": {},
     "output_type": "display_data"
    }
   ],
   "source": [
    "# формирование обучающей, валидационной и тестовой выборок\n",
    "data_train, data_temporary = train_test_split(data, test_size=0.4, random_state=42)\n",
    "data_valid, data_test = train_test_split(data_temporary, test_size=0.5, random_state=42)\n",
    "\n",
    "# проверка соотношения размеров выборок\n",
    "display(len(data_train), len(data_valid), len(data_test))\n",
    "\n",
    "# признаки и целевой признак в обучающей выборке \n",
    "features_train = data_train.drop(['price'], axis=1)\n",
    "target_train = data_train['price']\n",
    "\n",
    "# признаки и целевой признак в валидационной выборке \n",
    "features_valid = data_valid.drop(['price'], axis=1)\n",
    "target_valid = data_valid['price']\n",
    "\n",
    "# признаки и целевой признак в тестовой выборке \n",
    "features_test = data_test.drop(['price'], axis=1)\n",
    "target_test = data_test['price']"
   ]
  },
  {
   "cell_type": "markdown",
   "metadata": {},
   "source": [
    "### LightGBM\n",
    "\n",
    "Показатели модели:\n",
    "* RMSE: 1668.\n",
    "* Затраченное время на обучение: 1 минута 52 секунды.\n",
    "* Затраченное время на предсказание: 0.787 секунд."
   ]
  },
  {
   "cell_type": "code",
   "execution_count": 271,
   "metadata": {
    "scrolled": true
   },
   "outputs": [
    {
     "name": "stdout",
     "output_type": "stream",
     "text": [
      "CPU times: user 1min 45s, sys: 6.5 s, total: 1min 52s\n",
      "Wall time: 1min 52s\n"
     ]
    },
    {
     "data": {
      "text/plain": [
       "GridSearchCV(cv=2, estimator=LGBMRegressor(random_state=42),\n",
       "             param_grid={'max_depth': [10, 20, 30, 40, 50],\n",
       "                         'n_estimators': [10, 55, 100]},\n",
       "             scoring='neg_root_mean_squared_error')"
      ]
     },
     "execution_count": 271,
     "metadata": {},
     "output_type": "execute_result"
    }
   ],
   "source": [
    "%%time\n",
    "\n",
    "# вариации гиперпараметров\n",
    "max_depth = [int(x) for x in np.linspace(10, 50, num = 5)]\n",
    "n_estimators = [int(x) for x in np.linspace(10, 100, num = 3)]\n",
    "\n",
    "# сетка гиперпараметров\n",
    "param_grid = {'max_depth':max_depth,\n",
    "              'n_estimators':n_estimators}\n",
    "\n",
    "# модель 'LGBMRegressor'\n",
    "model_lgb = GridSearchCV(LGBMRegressor(random_state=42), param_grid=param_grid, scoring='neg_root_mean_squared_error', cv=2)\n",
    "\n",
    "# обучение модели на обучающих данных \n",
    "model_lgb.fit(features_train, target_train)"
   ]
  },
  {
   "cell_type": "code",
   "execution_count": 272,
   "metadata": {},
   "outputs": [
    {
     "data": {
      "text/plain": [
       "1668.756466235816"
      ]
     },
     "metadata": {},
     "output_type": "display_data"
    },
    {
     "name": "stdout",
     "output_type": "stream",
     "text": [
      "CPU times: user 650 ms, sys: 40.7 ms, total: 690 ms\n",
      "Wall time: 787 ms\n"
     ]
    }
   ],
   "source": [
    "%%time\n",
    "\n",
    "# предсказания модели на валидационной выборке\n",
    "pred_valid = model_lgb.predict(features_valid)\n",
    "\n",
    "# RMSE модели на валидационной выборке\n",
    "display(mean_squared_error(target_valid, pred_valid, squared=False))"
   ]
  },
  {
   "cell_type": "markdown",
   "metadata": {},
   "source": [
    "### CatBoost\n",
    "\n",
    "Показатели модели:\n",
    "* RMSE: 1573.\n",
    "* Затраченное время на обучение: 29 секунд.\n",
    "* Затраченное время на предсказание: 0.072 секунды."
   ]
  },
  {
   "cell_type": "code",
   "execution_count": 273,
   "metadata": {
    "scrolled": true
   },
   "outputs": [
    {
     "name": "stdout",
     "output_type": "stream",
     "text": [
      "Learning rate set to 0.5\n",
      "0:\tlearn: 3083.2648713\ttotal: 35.2ms\tremaining: 317ms\n",
      "9:\tlearn: 1743.0327477\ttotal: 325ms\tremaining: 0us\n",
      "Learning rate set to 0.5\n",
      "0:\tlearn: 3100.7897045\ttotal: 29.5ms\tremaining: 266ms\n",
      "9:\tlearn: 1735.5663412\ttotal: 305ms\tremaining: 0us\n",
      "Learning rate set to 0.5\n",
      "0:\tlearn: 3083.2648713\ttotal: 31.2ms\tremaining: 1.69s\n",
      "25:\tlearn: 1608.5551897\ttotal: 778ms\tremaining: 867ms\n",
      "50:\tlearn: 1514.3087383\ttotal: 1.53s\tremaining: 120ms\n",
      "54:\tlearn: 1503.8150279\ttotal: 1.65s\tremaining: 0us\n",
      "Learning rate set to 0.5\n",
      "0:\tlearn: 3100.7897045\ttotal: 31.4ms\tremaining: 1.7s\n",
      "25:\tlearn: 1600.3482412\ttotal: 849ms\tremaining: 947ms\n",
      "50:\tlearn: 1507.9247898\ttotal: 1.67s\tremaining: 131ms\n",
      "54:\tlearn: 1493.7636905\ttotal: 1.8s\tremaining: 0us\n",
      "Learning rate set to 0.5\n",
      "0:\tlearn: 3083.2648713\ttotal: 31.9ms\tremaining: 3.16s\n",
      "25:\tlearn: 1608.5551897\ttotal: 809ms\tremaining: 2.3s\n",
      "50:\tlearn: 1514.3087383\ttotal: 1.58s\tremaining: 1.52s\n",
      "75:\tlearn: 1454.2208475\ttotal: 2.35s\tremaining: 743ms\n",
      "99:\tlearn: 1408.6529243\ttotal: 3.18s\tremaining: 0us\n",
      "Learning rate set to 0.5\n",
      "0:\tlearn: 3100.7897045\ttotal: 31.8ms\tremaining: 3.15s\n",
      "25:\tlearn: 1600.3482412\ttotal: 868ms\tremaining: 2.47s\n",
      "50:\tlearn: 1507.9247898\ttotal: 1.71s\tremaining: 1.64s\n",
      "75:\tlearn: 1439.1270679\ttotal: 2.6s\tremaining: 820ms\n",
      "99:\tlearn: 1394.1278570\ttotal: 3.37s\tremaining: 0us\n",
      "Learning rate set to 0.5\n",
      "0:\tlearn: 3084.4849092\ttotal: 48.2ms\tremaining: 4.77s\n",
      "25:\tlearn: 1624.2261595\ttotal: 1.27s\tremaining: 3.62s\n",
      "50:\tlearn: 1533.0145383\ttotal: 2.5s\tremaining: 2.4s\n",
      "75:\tlearn: 1481.7954815\ttotal: 3.71s\tremaining: 1.17s\n",
      "99:\tlearn: 1445.8120601\ttotal: 4.94s\tremaining: 0us\n",
      "CPU times: user 22.8 s, sys: 168 ms, total: 22.9 s\n",
      "Wall time: 28.9 s\n"
     ]
    },
    {
     "data": {
      "text/plain": [
       "GridSearchCV(cv=2,\n",
       "             estimator=<catboost.core.CatBoostRegressor object at 0x7f4fcd0e4af0>,\n",
       "             param_grid={'depth': [10, 20, 30, 40, 50],\n",
       "                         'loss_function': ['RMSE'],\n",
       "                         'n_estimators': [10, 55, 100]},\n",
       "             scoring='neg_root_mean_squared_error')"
      ]
     },
     "execution_count": 273,
     "metadata": {},
     "output_type": "execute_result"
    }
   ],
   "source": [
    "%%time\n",
    "\n",
    "# вариации гиперпараметров\n",
    "loss_function = ['RMSE']\n",
    "depth = [int(x) for x in np.linspace(10, 50, num = 5)]\n",
    "iterations = [int(x) for x in np.linspace(10, 100, num = 5)]\n",
    "\n",
    "# сетка гиперпараметров\n",
    "param_grid = {'depth':depth,\n",
    "              'n_estimators':n_estimators,\n",
    "              'loss_function':loss_function}\n",
    "\n",
    "# модель 'CatBoostRegressor'\n",
    "model_cat = GridSearchCV(CatBoostRegressor(), param_grid=param_grid, scoring='neg_root_mean_squared_error', cv=2)\n",
    "\n",
    "# обучение модели на обучающих данных \n",
    "model_cat.fit(features_train, target_train, verbose=25)"
   ]
  },
  {
   "cell_type": "code",
   "execution_count": 274,
   "metadata": {},
   "outputs": [
    {
     "data": {
      "text/plain": [
       "1573.3299779431688"
      ]
     },
     "metadata": {},
     "output_type": "display_data"
    },
    {
     "name": "stdout",
     "output_type": "stream",
     "text": [
      "CPU times: user 75.2 ms, sys: 177 µs, total: 75.4 ms\n",
      "Wall time: 72.3 ms\n"
     ]
    }
   ],
   "source": [
    "%%time\n",
    "\n",
    "# предсказания модели на валидационной выборке\n",
    "pred_valid = model_cat.predict(features_valid)\n",
    "\n",
    "# RMSE модели на валидационной выборке\n",
    "display(mean_squared_error(target_valid, pred_valid, squared=False))"
   ]
  },
  {
   "cell_type": "markdown",
   "metadata": {},
   "source": [
    "### Линейная регрессия\n",
    "\n",
    "Показатели модели:\n",
    "* RMSE: 2611.\n",
    "* Затраченное время на обучение: 14 секунд.\n",
    "* Затраченное время на предсказание: 0.2 секунды."
   ]
  },
  {
   "cell_type": "code",
   "execution_count": 275,
   "metadata": {},
   "outputs": [
    {
     "name": "stdout",
     "output_type": "stream",
     "text": [
      "CPU times: user 10 s, sys: 3.87 s, total: 13.9 s\n",
      "Wall time: 13.9 s\n"
     ]
    },
    {
     "data": {
      "text/plain": [
       "LinearRegression()"
      ]
     },
     "execution_count": 275,
     "metadata": {},
     "output_type": "execute_result"
    }
   ],
   "source": [
    "%%time\n",
    "\n",
    "# модель 'LinearRegression'\n",
    "model_lin_reg = LinearRegression()\n",
    "\n",
    "# обучение модели на обучающих данных \n",
    "model_lin_reg.fit(features_train, target_train)"
   ]
  },
  {
   "cell_type": "code",
   "execution_count": 276,
   "metadata": {},
   "outputs": [
    {
     "data": {
      "text/plain": [
       "2611.715632990132"
      ]
     },
     "metadata": {},
     "output_type": "display_data"
    },
    {
     "name": "stdout",
     "output_type": "stream",
     "text": [
      "CPU times: user 97.3 ms, sys: 143 ms, total: 240 ms\n",
      "Wall time: 200 ms\n"
     ]
    }
   ],
   "source": [
    "%%time\n",
    "\n",
    "# предсказания модели на валидационной выборке\n",
    "pred_valid = model_lin_reg.predict(features_valid)\n",
    "\n",
    "# RMSE модели на валидационной выборке\n",
    "display(mean_squared_error(target_valid, pred_valid, squared=False))"
   ]
  },
  {
   "cell_type": "markdown",
   "metadata": {},
   "source": [
    "## Анализ моделей"
   ]
  },
  {
   "cell_type": "markdown",
   "metadata": {},
   "source": [
    "Лучший результат по времени обучения показывает модель 'Линейная Регрессия': 14 секунд, а по метрике качества RMSE - 'CatBoostRegressor': 1573.<br>\n",
    "Время предсказания неощутимо мало по сравнению с временем предсказания, но даже если его учитывать, то лидирует модель 'CatBoostRegressor'. <br>\n",
    "Вместе с наилучшим результатом 'CatBoostRegressor' не так долго обучается в сравнении с 'LGBMRegressor', поэтому в этой задаче предпочтительнее выбрать 'CatBoostRegressor'.\n"
   ]
  },
  {
   "cell_type": "code",
   "execution_count": 281,
   "metadata": {
    "scrolled": false
   },
   "outputs": [
    {
     "data": {
      "text/html": [
       "<div>\n",
       "<style scoped>\n",
       "    .dataframe tbody tr th:only-of-type {\n",
       "        vertical-align: middle;\n",
       "    }\n",
       "\n",
       "    .dataframe tbody tr th {\n",
       "        vertical-align: top;\n",
       "    }\n",
       "\n",
       "    .dataframe thead th {\n",
       "        text-align: right;\n",
       "    }\n",
       "</style>\n",
       "<table border=\"1\" class=\"dataframe\">\n",
       "  <thead>\n",
       "    <tr style=\"text-align: right;\">\n",
       "      <th></th>\n",
       "      <th>time_train</th>\n",
       "      <th>time_pred</th>\n",
       "      <th>RMSE</th>\n",
       "    </tr>\n",
       "  </thead>\n",
       "  <tbody>\n",
       "    <tr>\n",
       "      <th>LGBMRegressor</th>\n",
       "      <td>112</td>\n",
       "      <td>0.787</td>\n",
       "      <td>1668</td>\n",
       "    </tr>\n",
       "    <tr>\n",
       "      <th>CatBoostRegressor</th>\n",
       "      <td>29</td>\n",
       "      <td>0.072</td>\n",
       "      <td>1573</td>\n",
       "    </tr>\n",
       "    <tr>\n",
       "      <th>LinearRegression</th>\n",
       "      <td>14</td>\n",
       "      <td>0.200</td>\n",
       "      <td>2611</td>\n",
       "    </tr>\n",
       "  </tbody>\n",
       "</table>\n",
       "</div>"
      ],
      "text/plain": [
       "                   time_train  time_pred  RMSE\n",
       "LGBMRegressor             112      0.787  1668\n",
       "CatBoostRegressor          29      0.072  1573\n",
       "LinearRegression           14      0.200  2611"
      ]
     },
     "metadata": {},
     "output_type": "display_data"
    }
   ],
   "source": [
    "# датафрейм с результатами моделей \n",
    "models_stats = pd.DataFrame(data={'time_train':[112, 29, 14], \n",
    "                                  'time_pred':[0.787, 0.072, 0.2], \n",
    "                                  'RMSE':[1668, 1573, 2611]}, \n",
    "                            index=['LGBMRegressor', 'CatBoostRegressor', 'LinearRegression'])\n",
    "display(models_stats)"
   ]
  },
  {
   "cell_type": "markdown",
   "metadata": {},
   "source": [
    "### Проверка выбранной модели на тестовой выборке\n",
    "\n",
    "Итоговая метрика качества модели 'CatBoostRegressor' на тестовой выборке: 1589."
   ]
  },
  {
   "cell_type": "code",
   "execution_count": 278,
   "metadata": {},
   "outputs": [
    {
     "data": {
      "text/plain": [
       "1589.7416892326473"
      ]
     },
     "metadata": {},
     "output_type": "display_data"
    }
   ],
   "source": [
    "# предсказания модели 'CatBoostRegressor' на тестовой выборке\n",
    "pred_test = model_cat.predict(features_test)\n",
    "\n",
    "# RMSE модели на тестовой выборке\n",
    "display(mean_squared_error(target_test, pred_test, squared=False))"
   ]
  },
  {
   "cell_type": "markdown",
   "metadata": {},
   "source": [
    "### Сравнение модели с константной\n",
    "\n",
    "Выбранная модель показывает результат лучше нежели константная модель."
   ]
  },
  {
   "cell_type": "code",
   "execution_count": 279,
   "metadata": {},
   "outputs": [
    {
     "data": {
      "text/plain": [
       "4659.480258835881"
      ]
     },
     "metadata": {},
     "output_type": "display_data"
    }
   ],
   "source": [
    "# константная модель\n",
    "model_dummy = DummyRegressor(strategy='mean')\n",
    "\n",
    "# обучение модели на обучающих данных \n",
    "model_dummy.fit(features_train, target_train)\n",
    "\n",
    "# предсказания модели на тестовой выборке\n",
    "pred_test = model_dummy.predict(features_test)\n",
    "\n",
    "# RMSE модели на тестовой выборке\n",
    "display(mean_squared_error(target_test, pred_test, squared=False))"
   ]
  },
  {
   "cell_type": "markdown",
   "metadata": {},
   "source": [
    "## Вывод"
   ]
  },
  {
   "cell_type": "markdown",
   "metadata": {},
   "source": [
    "* Изменили стили заголовков на змеиный регистр.\n",
    "* Нашли аномалии в данных: в признаках 'number_of_pictures', 'power', 'price', 'not_repaired'.\n",
    "* Изменили типы данных на более подходящии.\n",
    "* Обработали пропущенные значения в признаках: 'vehicle_type', 'gearbox', 'model', 'fuel_type', 'not_repaired'.\n",
    "* Разделили имеющиеся данные на обучающую, валидационную и тестовую выборки.\n",
    "* Закодировали категориальные признаки техникой One-Hot Encoding.\n",
    "* Рассмотрели три модели: 'LinearRegression', 'LGBMRegressor', 'CatBoostRegressor', из которых две последние - градиентный бустинг.\n",
    "* По совокупному результату выбрали модель - 'CatBoostRegressor'\n",
    "* Проверили выбранную модель (СatBoostRegressor) на тестовой выборке.\n",
    "* Сравнили результаты константной и выбранной модели, CatBoostRegressor показал результаты лучше."
   ]
  }
 ],
 "metadata": {
  "ExecuteTimeLog": [
   {
    "duration": 395,
    "start_time": "2022-07-25T13:37:34.716Z"
   },
   {
    "duration": 56,
    "start_time": "2022-07-25T13:38:02.116Z"
   },
   {
    "duration": 2681,
    "start_time": "2022-07-25T13:38:17.514Z"
   },
   {
    "duration": 7,
    "start_time": "2022-07-25T13:40:54.336Z"
   },
   {
    "duration": 2,
    "start_time": "2022-07-25T13:41:04.191Z"
   },
   {
    "duration": 620,
    "start_time": "2022-07-25T13:41:07.087Z"
   },
   {
    "duration": 806,
    "start_time": "2022-07-25T14:21:41.518Z"
   },
   {
    "duration": 734,
    "start_time": "2022-07-25T14:25:46.139Z"
   },
   {
    "duration": 50,
    "start_time": "2022-07-25T14:26:45.821Z"
   },
   {
    "duration": 31,
    "start_time": "2022-07-25T14:26:51.109Z"
   },
   {
    "duration": 31,
    "start_time": "2022-07-25T14:27:15.484Z"
   },
   {
    "duration": 11,
    "start_time": "2022-07-25T14:28:34.202Z"
   },
   {
    "duration": 64,
    "start_time": "2022-07-25T14:28:38.845Z"
   },
   {
    "duration": 10,
    "start_time": "2022-07-25T14:29:24.618Z"
   },
   {
    "duration": 7,
    "start_time": "2022-07-25T14:29:48.016Z"
   },
   {
    "duration": 1400,
    "start_time": "2022-07-25T15:00:03.665Z"
   },
   {
    "duration": 3,
    "start_time": "2022-07-25T15:00:15.195Z"
   },
   {
    "duration": 814,
    "start_time": "2022-07-25T15:00:15.200Z"
   },
   {
    "duration": 6,
    "start_time": "2022-07-25T15:00:16.016Z"
   },
   {
    "duration": 509,
    "start_time": "2022-07-25T15:00:16.024Z"
   },
   {
    "duration": 1506,
    "start_time": "2022-07-25T15:00:16.534Z"
   },
   {
    "duration": 73,
    "start_time": "2022-07-25T15:00:32.012Z"
   },
   {
    "duration": 84,
    "start_time": "2022-07-25T15:01:06.257Z"
   },
   {
    "duration": 118,
    "start_time": "2022-07-25T15:01:17.817Z"
   },
   {
    "duration": 1508,
    "start_time": "2022-07-25T15:01:34.018Z"
   },
   {
    "duration": 227,
    "start_time": "2022-07-25T15:02:32.481Z"
   },
   {
    "duration": 1170,
    "start_time": "2022-07-25T15:10:18.381Z"
   },
   {
    "duration": 2,
    "start_time": "2022-07-25T15:10:22.161Z"
   },
   {
    "duration": 828,
    "start_time": "2022-07-25T15:10:22.165Z"
   },
   {
    "duration": 7,
    "start_time": "2022-07-25T15:10:22.994Z"
   },
   {
    "duration": 40,
    "start_time": "2022-07-25T15:10:23.003Z"
   },
   {
    "duration": 570,
    "start_time": "2022-07-25T15:10:23.044Z"
   },
   {
    "duration": 278,
    "start_time": "2022-07-25T15:10:23.615Z"
   },
   {
    "duration": 1264,
    "start_time": "2022-07-25T15:12:59.998Z"
   },
   {
    "duration": 3,
    "start_time": "2022-07-25T15:13:09.706Z"
   },
   {
    "duration": 813,
    "start_time": "2022-07-25T15:13:09.710Z"
   },
   {
    "duration": 8,
    "start_time": "2022-07-25T15:13:10.524Z"
   },
   {
    "duration": 170,
    "start_time": "2022-07-25T15:13:10.533Z"
   },
   {
    "duration": 519,
    "start_time": "2022-07-25T15:13:10.705Z"
   },
   {
    "duration": 261,
    "start_time": "2022-07-25T15:13:11.226Z"
   },
   {
    "duration": 202,
    "start_time": "2022-07-25T15:16:00.767Z"
   },
   {
    "duration": 3,
    "start_time": "2022-07-25T15:16:09.849Z"
   },
   {
    "duration": 731,
    "start_time": "2022-07-25T15:16:09.853Z"
   },
   {
    "duration": 7,
    "start_time": "2022-07-25T15:16:10.586Z"
   },
   {
    "duration": 182,
    "start_time": "2022-07-25T15:16:10.595Z"
   },
   {
    "duration": 543,
    "start_time": "2022-07-25T15:16:10.779Z"
   },
   {
    "duration": 297,
    "start_time": "2022-07-25T15:16:11.324Z"
   },
   {
    "duration": 1149,
    "start_time": "2022-07-25T15:18:51.222Z"
   },
   {
    "duration": 3,
    "start_time": "2022-07-25T15:18:54.183Z"
   },
   {
    "duration": 710,
    "start_time": "2022-07-25T15:18:54.187Z"
   },
   {
    "duration": 6,
    "start_time": "2022-07-25T15:18:54.898Z"
   },
   {
    "duration": 48,
    "start_time": "2022-07-25T15:18:54.905Z"
   },
   {
    "duration": 535,
    "start_time": "2022-07-25T15:18:54.955Z"
   },
   {
    "duration": 340,
    "start_time": "2022-07-25T15:18:55.491Z"
   },
   {
    "duration": 3,
    "start_time": "2022-07-25T15:25:42.003Z"
   },
   {
    "duration": 773,
    "start_time": "2022-07-25T15:25:42.007Z"
   },
   {
    "duration": 588,
    "start_time": "2022-07-25T15:25:42.782Z"
   },
   {
    "duration": 6,
    "start_time": "2022-07-25T15:25:43.372Z"
   },
   {
    "duration": 54,
    "start_time": "2022-07-25T15:25:43.379Z"
   },
   {
    "duration": 321,
    "start_time": "2022-07-25T15:25:43.435Z"
   },
   {
    "duration": 704,
    "start_time": "2022-07-25T15:26:48.466Z"
   },
   {
    "duration": 178,
    "start_time": "2022-07-25T15:27:30.667Z"
   },
   {
    "duration": 117,
    "start_time": "2022-07-25T15:28:04.314Z"
   },
   {
    "duration": 7,
    "start_time": "2022-07-25T15:28:10.192Z"
   },
   {
    "duration": 7,
    "start_time": "2022-07-25T15:28:49.312Z"
   },
   {
    "duration": 88,
    "start_time": "2022-07-25T15:29:03.354Z"
   },
   {
    "duration": 89,
    "start_time": "2022-07-25T15:29:42.441Z"
   },
   {
    "duration": 52,
    "start_time": "2022-07-26T11:38:13.044Z"
   },
   {
    "duration": 402,
    "start_time": "2022-07-26T11:38:15.863Z"
   },
   {
    "duration": 1242,
    "start_time": "2022-07-26T11:38:16.267Z"
   },
   {
    "duration": 566,
    "start_time": "2022-07-26T11:38:17.511Z"
   },
   {
    "duration": 7,
    "start_time": "2022-07-26T11:38:18.078Z"
   },
   {
    "duration": 204,
    "start_time": "2022-07-26T11:38:18.087Z"
   },
   {
    "duration": 54,
    "start_time": "2022-07-26T11:38:18.292Z"
   },
   {
    "duration": 388,
    "start_time": "2022-07-26T11:38:18.348Z"
   },
   {
    "duration": 29,
    "start_time": "2022-07-26T12:21:48.287Z"
   },
   {
    "duration": 10,
    "start_time": "2022-07-26T12:21:59.617Z"
   },
   {
    "duration": 11,
    "start_time": "2022-07-26T12:22:07.721Z"
   },
   {
    "duration": 13,
    "start_time": "2022-07-26T12:22:26.342Z"
   },
   {
    "duration": 9,
    "start_time": "2022-07-26T12:22:31.817Z"
   },
   {
    "duration": 6,
    "start_time": "2022-07-26T12:24:01.257Z"
   },
   {
    "duration": 7,
    "start_time": "2022-07-26T12:24:11.492Z"
   },
   {
    "duration": 7,
    "start_time": "2022-07-26T12:24:25.185Z"
   },
   {
    "duration": 7,
    "start_time": "2022-07-26T12:24:27.542Z"
   },
   {
    "duration": 29,
    "start_time": "2022-07-26T12:25:25.985Z"
   },
   {
    "duration": 32,
    "start_time": "2022-07-26T12:25:34.841Z"
   },
   {
    "duration": 814,
    "start_time": "2022-07-26T12:25:49.344Z"
   },
   {
    "duration": 43,
    "start_time": "2022-07-26T12:26:12.517Z"
   },
   {
    "duration": 31,
    "start_time": "2022-07-26T12:26:28.652Z"
   },
   {
    "duration": 11,
    "start_time": "2022-07-26T12:27:14.144Z"
   },
   {
    "duration": 11,
    "start_time": "2022-07-26T12:27:27.270Z"
   },
   {
    "duration": 31,
    "start_time": "2022-07-26T12:27:45.922Z"
   },
   {
    "duration": 613,
    "start_time": "2022-07-26T12:29:21.637Z"
   },
   {
    "duration": 156,
    "start_time": "2022-07-26T12:29:29.892Z"
   },
   {
    "duration": 153,
    "start_time": "2022-07-26T12:29:36.335Z"
   },
   {
    "duration": 207,
    "start_time": "2022-07-26T12:30:00.074Z"
   },
   {
    "duration": 123,
    "start_time": "2022-07-26T12:31:32.262Z"
   },
   {
    "duration": 139,
    "start_time": "2022-07-26T12:31:37.969Z"
   },
   {
    "duration": 124,
    "start_time": "2022-07-26T12:31:44.974Z"
   },
   {
    "duration": 2,
    "start_time": "2022-07-26T12:32:11.814Z"
   },
   {
    "duration": 340,
    "start_time": "2022-07-26T12:32:34.254Z"
   },
   {
    "duration": 328,
    "start_time": "2022-07-26T12:32:39.276Z"
   },
   {
    "duration": 3,
    "start_time": "2022-07-26T12:32:53.809Z"
   },
   {
    "duration": 330,
    "start_time": "2022-07-26T12:32:56.698Z"
   },
   {
    "duration": 332,
    "start_time": "2022-07-26T12:33:26.963Z"
   },
   {
    "duration": 335,
    "start_time": "2022-07-26T12:34:09.103Z"
   },
   {
    "duration": 3,
    "start_time": "2022-07-26T12:34:43.135Z"
   },
   {
    "duration": 898,
    "start_time": "2022-07-26T12:34:43.140Z"
   },
   {
    "duration": 558,
    "start_time": "2022-07-26T12:34:44.040Z"
   },
   {
    "duration": 7,
    "start_time": "2022-07-26T12:34:44.600Z"
   },
   {
    "duration": 354,
    "start_time": "2022-07-26T12:34:44.609Z"
   },
   {
    "duration": 50,
    "start_time": "2022-07-26T12:34:44.964Z"
   },
   {
    "duration": 380,
    "start_time": "2022-07-26T12:34:45.015Z"
   },
   {
    "duration": 329,
    "start_time": "2022-07-26T12:35:19.568Z"
   },
   {
    "duration": 402,
    "start_time": "2022-07-26T12:35:36.682Z"
   },
   {
    "duration": 302,
    "start_time": "2022-07-26T12:37:34.366Z"
   },
   {
    "duration": 304,
    "start_time": "2022-07-26T12:37:37.163Z"
   },
   {
    "duration": 345,
    "start_time": "2022-07-26T12:37:42.311Z"
   },
   {
    "duration": 342,
    "start_time": "2022-07-26T12:37:48.195Z"
   },
   {
    "duration": 332,
    "start_time": "2022-07-26T12:39:03.858Z"
   },
   {
    "duration": 449,
    "start_time": "2022-07-26T12:43:03.081Z"
   },
   {
    "duration": 26,
    "start_time": "2022-07-26T12:43:19.320Z"
   },
   {
    "duration": 6,
    "start_time": "2022-07-26T12:43:48.513Z"
   },
   {
    "duration": 7,
    "start_time": "2022-07-26T12:43:56.611Z"
   },
   {
    "duration": 6,
    "start_time": "2022-07-26T12:59:24.329Z"
   },
   {
    "duration": 6,
    "start_time": "2022-07-26T12:59:29.226Z"
   },
   {
    "duration": 51,
    "start_time": "2022-07-26T13:04:56.372Z"
   },
   {
    "duration": 322,
    "start_time": "2022-07-26T13:04:59.376Z"
   },
   {
    "duration": 311,
    "start_time": "2022-07-26T13:07:33.211Z"
   },
   {
    "duration": 339,
    "start_time": "2022-07-26T13:14:11.730Z"
   },
   {
    "duration": 496,
    "start_time": "2022-07-26T13:14:57.626Z"
   },
   {
    "duration": 462,
    "start_time": "2022-07-26T13:15:04.762Z"
   },
   {
    "duration": 422,
    "start_time": "2022-07-26T13:16:27.624Z"
   },
   {
    "duration": 60,
    "start_time": "2022-07-26T13:16:40.327Z"
   },
   {
    "duration": 357,
    "start_time": "2022-07-26T13:16:44.059Z"
   },
   {
    "duration": 358,
    "start_time": "2022-07-26T13:25:12.928Z"
   },
   {
    "duration": 363,
    "start_time": "2022-07-26T13:25:58.844Z"
   },
   {
    "duration": 369,
    "start_time": "2022-07-26T13:26:55.382Z"
   },
   {
    "duration": 376,
    "start_time": "2022-07-26T13:27:15.469Z"
   },
   {
    "duration": 363,
    "start_time": "2022-07-26T13:27:22.138Z"
   },
   {
    "duration": 99,
    "start_time": "2022-07-26T13:27:27.814Z"
   },
   {
    "duration": 93,
    "start_time": "2022-07-26T13:29:37.750Z"
   },
   {
    "duration": 3,
    "start_time": "2022-07-26T13:29:44.649Z"
   },
   {
    "duration": 829,
    "start_time": "2022-07-26T13:29:44.653Z"
   },
   {
    "duration": 552,
    "start_time": "2022-07-26T13:29:45.484Z"
   },
   {
    "duration": 7,
    "start_time": "2022-07-26T13:29:46.037Z"
   },
   {
    "duration": 397,
    "start_time": "2022-07-26T13:29:46.046Z"
   },
   {
    "duration": 48,
    "start_time": "2022-07-26T13:29:46.444Z"
   },
   {
    "duration": 378,
    "start_time": "2022-07-26T13:29:46.493Z"
   },
   {
    "duration": 357,
    "start_time": "2022-07-26T13:30:09.049Z"
   },
   {
    "duration": 64,
    "start_time": "2022-07-26T13:30:17.412Z"
   },
   {
    "duration": 418,
    "start_time": "2022-07-26T13:30:20.716Z"
   },
   {
    "duration": 381,
    "start_time": "2022-07-26T13:30:46.960Z"
   },
   {
    "duration": 368,
    "start_time": "2022-07-26T13:31:13.985Z"
   },
   {
    "duration": 43,
    "start_time": "2022-07-26T14:09:00.063Z"
   },
   {
    "duration": 3,
    "start_time": "2022-07-26T14:09:19.951Z"
   },
   {
    "duration": 862,
    "start_time": "2022-07-26T14:09:19.956Z"
   },
   {
    "duration": 512,
    "start_time": "2022-07-26T14:09:20.819Z"
   },
   {
    "duration": 45,
    "start_time": "2022-07-26T14:09:21.334Z"
   },
   {
    "duration": 456,
    "start_time": "2022-07-26T14:09:21.381Z"
   },
   {
    "duration": 49,
    "start_time": "2022-07-26T14:09:21.839Z"
   },
   {
    "duration": 362,
    "start_time": "2022-07-26T14:09:21.889Z"
   },
   {
    "duration": 697,
    "start_time": "2022-07-26T14:10:55.935Z"
   },
   {
    "duration": 3,
    "start_time": "2022-07-26T14:11:29.099Z"
   },
   {
    "duration": 56,
    "start_time": "2022-07-26T14:11:38.674Z"
   },
   {
    "duration": 8,
    "start_time": "2022-07-26T14:18:08.060Z"
   },
   {
    "duration": 72,
    "start_time": "2022-07-26T14:18:11.366Z"
   },
   {
    "duration": 9,
    "start_time": "2022-07-26T14:21:17.584Z"
   },
   {
    "duration": 8,
    "start_time": "2022-07-26T14:21:29.731Z"
   },
   {
    "duration": 149,
    "start_time": "2022-07-26T14:21:56.401Z"
   },
   {
    "duration": 9,
    "start_time": "2022-07-26T14:22:09.089Z"
   },
   {
    "duration": 410,
    "start_time": "2022-07-26T14:22:31.712Z"
   },
   {
    "duration": 8,
    "start_time": "2022-07-26T14:22:47.911Z"
   },
   {
    "duration": 57,
    "start_time": "2022-07-26T14:24:50.381Z"
   },
   {
    "duration": 4,
    "start_time": "2022-07-26T14:25:02.569Z"
   },
   {
    "duration": 851,
    "start_time": "2022-07-26T14:25:02.575Z"
   },
   {
    "duration": 494,
    "start_time": "2022-07-26T14:25:03.428Z"
   },
   {
    "duration": 45,
    "start_time": "2022-07-26T14:25:03.924Z"
   },
   {
    "duration": 483,
    "start_time": "2022-07-26T14:25:03.971Z"
   },
   {
    "duration": 89,
    "start_time": "2022-07-26T14:25:04.455Z"
   },
   {
    "duration": 47,
    "start_time": "2022-07-26T14:25:04.546Z"
   },
   {
    "duration": 364,
    "start_time": "2022-07-26T14:25:04.595Z"
   },
   {
    "duration": 73,
    "start_time": "2022-07-26T14:25:04.961Z"
   },
   {
    "duration": 18,
    "start_time": "2022-07-26T14:25:58.967Z"
   },
   {
    "duration": 68,
    "start_time": "2022-07-26T14:26:09.458Z"
   },
   {
    "duration": 15,
    "start_time": "2022-07-26T14:26:31.971Z"
   },
   {
    "duration": 36,
    "start_time": "2022-07-26T14:30:02.953Z"
   },
   {
    "duration": 3,
    "start_time": "2022-07-26T14:30:06.912Z"
   },
   {
    "duration": 891,
    "start_time": "2022-07-26T14:30:06.917Z"
   },
   {
    "duration": 547,
    "start_time": "2022-07-26T14:30:07.810Z"
   },
   {
    "duration": 45,
    "start_time": "2022-07-26T14:30:08.359Z"
   },
   {
    "duration": 464,
    "start_time": "2022-07-26T14:30:08.407Z"
   },
   {
    "duration": 91,
    "start_time": "2022-07-26T14:30:08.873Z"
   },
   {
    "duration": 51,
    "start_time": "2022-07-26T14:30:08.966Z"
   },
   {
    "duration": 382,
    "start_time": "2022-07-26T14:30:09.019Z"
   },
   {
    "duration": 15,
    "start_time": "2022-07-26T14:30:09.403Z"
   },
   {
    "duration": 84,
    "start_time": "2022-07-26T14:30:32.193Z"
   },
   {
    "duration": 87,
    "start_time": "2022-07-26T14:31:15.623Z"
   },
   {
    "duration": 960,
    "start_time": "2022-07-26T14:31:55.793Z"
   },
   {
    "duration": 3777,
    "start_time": "2022-07-26T14:32:19.281Z"
   },
   {
    "duration": 82,
    "start_time": "2022-07-26T14:32:43.570Z"
   },
   {
    "duration": 83,
    "start_time": "2022-07-26T14:32:50.775Z"
   },
   {
    "duration": 1056544,
    "start_time": "2022-07-26T14:33:42.945Z"
   },
   {
    "duration": 814,
    "start_time": "2022-07-26T14:53:45.378Z"
   },
   {
    "duration": 961,
    "start_time": "2022-07-26T14:53:52.710Z"
   },
   {
    "duration": 11,
    "start_time": "2022-07-26T14:54:07.266Z"
   },
   {
    "duration": 12,
    "start_time": "2022-07-26T14:54:16.652Z"
   },
   {
    "duration": 11,
    "start_time": "2022-07-26T14:54:21.364Z"
   },
   {
    "duration": 19,
    "start_time": "2022-07-26T14:54:26.095Z"
   },
   {
    "duration": 16,
    "start_time": "2022-07-26T14:56:42.057Z"
   },
   {
    "duration": 10,
    "start_time": "2022-07-26T14:56:59.085Z"
   },
   {
    "duration": 2,
    "start_time": "2022-07-26T14:58:25.231Z"
   },
   {
    "duration": 813,
    "start_time": "2022-07-26T14:58:25.235Z"
   },
   {
    "duration": 499,
    "start_time": "2022-07-26T14:58:26.051Z"
   },
   {
    "duration": 40,
    "start_time": "2022-07-26T14:58:26.552Z"
   },
   {
    "duration": 413,
    "start_time": "2022-07-26T14:58:26.594Z"
   },
   {
    "duration": 89,
    "start_time": "2022-07-26T14:58:27.008Z"
   },
   {
    "duration": 60,
    "start_time": "2022-07-26T14:58:27.099Z"
   },
   {
    "duration": 357,
    "start_time": "2022-07-26T14:58:27.160Z"
   },
   {
    "duration": 17,
    "start_time": "2022-07-26T14:58:27.519Z"
   },
   {
    "duration": 9,
    "start_time": "2022-07-26T14:58:46.307Z"
   },
   {
    "duration": 32,
    "start_time": "2022-07-26T14:59:02.837Z"
   },
   {
    "duration": 42,
    "start_time": "2022-07-26T15:00:23.449Z"
   },
   {
    "duration": 143,
    "start_time": "2022-07-26T15:01:12.555Z"
   },
   {
    "duration": 5833,
    "start_time": "2022-07-26T15:01:24.994Z"
   },
   {
    "duration": 10,
    "start_time": "2022-07-26T15:01:58.973Z"
   },
   {
    "duration": 18,
    "start_time": "2022-07-26T15:02:22.372Z"
   },
   {
    "duration": 79,
    "start_time": "2022-07-26T15:04:32.332Z"
   },
   {
    "duration": 77,
    "start_time": "2022-07-26T15:04:54.360Z"
   },
   {
    "duration": 19,
    "start_time": "2022-07-26T15:04:59.624Z"
   },
   {
    "duration": 92,
    "start_time": "2022-07-26T15:05:38.946Z"
   },
   {
    "duration": 76,
    "start_time": "2022-07-26T15:05:46.640Z"
   },
   {
    "duration": 20,
    "start_time": "2022-07-26T15:07:19.804Z"
   },
   {
    "duration": 157,
    "start_time": "2022-07-26T15:08:44.173Z"
   },
   {
    "duration": 3,
    "start_time": "2022-07-26T15:08:51.676Z"
   },
   {
    "duration": 797,
    "start_time": "2022-07-26T15:08:51.681Z"
   },
   {
    "duration": 523,
    "start_time": "2022-07-26T15:08:52.480Z"
   },
   {
    "duration": 44,
    "start_time": "2022-07-26T15:08:53.005Z"
   },
   {
    "duration": 416,
    "start_time": "2022-07-26T15:08:53.051Z"
   },
   {
    "duration": 91,
    "start_time": "2022-07-26T15:08:53.469Z"
   },
   {
    "duration": 49,
    "start_time": "2022-07-26T15:08:53.562Z"
   },
   {
    "duration": 454,
    "start_time": "2022-07-26T15:08:53.613Z"
   },
   {
    "duration": 0,
    "start_time": "2022-07-26T15:08:54.069Z"
   },
   {
    "duration": 119,
    "start_time": "2022-07-26T15:09:03.280Z"
   },
   {
    "duration": 19,
    "start_time": "2022-07-26T15:09:06.885Z"
   },
   {
    "duration": 3275,
    "start_time": "2022-07-26T15:09:21.069Z"
   },
   {
    "duration": 126256,
    "start_time": "2022-07-26T15:10:11.188Z"
   },
   {
    "duration": 1382,
    "start_time": "2022-07-26T15:12:57.122Z"
   },
   {
    "duration": 1165,
    "start_time": "2022-07-26T15:12:58.506Z"
   },
   {
    "duration": 632,
    "start_time": "2022-07-26T15:12:59.673Z"
   },
   {
    "duration": 45,
    "start_time": "2022-07-26T15:13:00.307Z"
   },
   {
    "duration": 456,
    "start_time": "2022-07-26T15:13:00.354Z"
   },
   {
    "duration": 88,
    "start_time": "2022-07-26T15:13:00.811Z"
   },
   {
    "duration": 63,
    "start_time": "2022-07-26T15:13:00.901Z"
   },
   {
    "duration": 322,
    "start_time": "2022-07-26T15:13:00.966Z"
   },
   {
    "duration": 291326,
    "start_time": "2022-07-26T15:13:01.290Z"
   },
   {
    "duration": 9,
    "start_time": "2022-07-26T15:18:12.846Z"
   },
   {
    "duration": 86,
    "start_time": "2022-07-26T15:21:48.340Z"
   },
   {
    "duration": 20,
    "start_time": "2022-07-26T15:22:59.352Z"
   },
   {
    "duration": 1292,
    "start_time": "2022-07-26T15:23:26.192Z"
   },
   {
    "duration": 1141,
    "start_time": "2022-07-26T15:23:27.487Z"
   },
   {
    "duration": 570,
    "start_time": "2022-07-26T15:23:28.630Z"
   },
   {
    "duration": 48,
    "start_time": "2022-07-26T15:23:29.201Z"
   },
   {
    "duration": 445,
    "start_time": "2022-07-26T15:23:29.251Z"
   },
   {
    "duration": 89,
    "start_time": "2022-07-26T15:23:29.698Z"
   },
   {
    "duration": 56,
    "start_time": "2022-07-26T15:23:29.789Z"
   },
   {
    "duration": 327,
    "start_time": "2022-07-26T15:23:29.846Z"
   },
   {
    "duration": 9,
    "start_time": "2022-07-26T15:23:30.174Z"
   },
   {
    "duration": 100283,
    "start_time": "2022-07-26T15:23:30.184Z"
   },
   {
    "duration": 19,
    "start_time": "2022-07-26T15:25:18.939Z"
   },
   {
    "duration": 4,
    "start_time": "2022-07-26T15:26:21.129Z"
   },
   {
    "duration": 42,
    "start_time": "2022-07-26T15:26:41.655Z"
   },
   {
    "duration": 13618,
    "start_time": "2022-07-26T15:26:59.416Z"
   },
   {
    "duration": 13348,
    "start_time": "2022-07-26T15:27:28.192Z"
   },
   {
    "duration": 1093,
    "start_time": "2022-07-26T15:28:23.899Z"
   },
   {
    "duration": 4,
    "start_time": "2022-07-26T15:28:30.798Z"
   },
   {
    "duration": 960,
    "start_time": "2022-07-26T15:28:30.804Z"
   },
   {
    "duration": 537,
    "start_time": "2022-07-26T15:28:31.765Z"
   },
   {
    "duration": 45,
    "start_time": "2022-07-26T15:28:32.303Z"
   },
   {
    "duration": 509,
    "start_time": "2022-07-26T15:28:32.350Z"
   },
   {
    "duration": 82,
    "start_time": "2022-07-26T15:28:32.861Z"
   },
   {
    "duration": 48,
    "start_time": "2022-07-26T15:28:32.945Z"
   },
   {
    "duration": 339,
    "start_time": "2022-07-26T15:28:32.995Z"
   },
   {
    "duration": 10,
    "start_time": "2022-07-26T15:28:33.336Z"
   },
   {
    "duration": 13763,
    "start_time": "2022-07-26T15:28:33.347Z"
   },
   {
    "duration": 14180,
    "start_time": "2022-07-26T15:29:08.821Z"
   },
   {
    "duration": 3,
    "start_time": "2022-07-26T15:50:37.756Z"
   },
   {
    "duration": 846,
    "start_time": "2022-07-26T15:50:37.761Z"
   },
   {
    "duration": 485,
    "start_time": "2022-07-26T15:50:38.608Z"
   },
   {
    "duration": 49,
    "start_time": "2022-07-26T15:50:39.095Z"
   },
   {
    "duration": 439,
    "start_time": "2022-07-26T15:50:39.145Z"
   },
   {
    "duration": 93,
    "start_time": "2022-07-26T15:50:39.586Z"
   },
   {
    "duration": 55,
    "start_time": "2022-07-26T15:50:39.681Z"
   },
   {
    "duration": 304,
    "start_time": "2022-07-26T15:50:39.738Z"
   },
   {
    "duration": 8,
    "start_time": "2022-07-26T15:50:40.044Z"
   },
   {
    "duration": 104,
    "start_time": "2022-07-26T15:50:40.054Z"
   },
   {
    "duration": 252,
    "start_time": "2022-07-26T15:53:52.503Z"
   },
   {
    "duration": 173,
    "start_time": "2022-07-26T15:54:14.671Z"
   },
   {
    "duration": 133,
    "start_time": "2022-07-26T15:55:33.115Z"
   },
   {
    "duration": 128,
    "start_time": "2022-07-26T15:55:52.186Z"
   },
   {
    "duration": 79,
    "start_time": "2022-07-26T15:57:21.578Z"
   },
   {
    "duration": 129,
    "start_time": "2022-07-26T15:57:54.974Z"
   },
   {
    "duration": 129,
    "start_time": "2022-07-26T15:58:03.227Z"
   },
   {
    "duration": 90,
    "start_time": "2022-07-26T15:58:20.572Z"
   },
   {
    "duration": 164,
    "start_time": "2022-07-26T15:58:27.415Z"
   },
   {
    "duration": 10,
    "start_time": "2022-07-26T16:01:27.619Z"
   },
   {
    "duration": 134,
    "start_time": "2022-07-26T16:01:29.800Z"
   },
   {
    "duration": 1720,
    "start_time": "2022-07-28T11:45:08.336Z"
   },
   {
    "duration": 4,
    "start_time": "2022-07-28T11:45:11.006Z"
   },
   {
    "duration": 1280,
    "start_time": "2022-07-28T11:45:11.012Z"
   },
   {
    "duration": 678,
    "start_time": "2022-07-28T11:45:12.293Z"
   },
   {
    "duration": 58,
    "start_time": "2022-07-28T11:45:12.972Z"
   },
   {
    "duration": 474,
    "start_time": "2022-07-28T11:45:13.032Z"
   },
   {
    "duration": 108,
    "start_time": "2022-07-28T11:45:13.508Z"
   },
   {
    "duration": 60,
    "start_time": "2022-07-28T11:45:13.618Z"
   },
   {
    "duration": 384,
    "start_time": "2022-07-28T11:45:13.679Z"
   },
   {
    "duration": 11,
    "start_time": "2022-07-28T11:45:14.065Z"
   },
   {
    "duration": 207,
    "start_time": "2022-07-28T11:45:14.078Z"
   },
   {
    "duration": 118,
    "start_time": "2022-07-28T11:56:00.382Z"
   },
   {
    "duration": 29,
    "start_time": "2022-07-28T11:56:07.737Z"
   },
   {
    "duration": 15,
    "start_time": "2022-07-28T11:56:11.835Z"
   },
   {
    "duration": 3,
    "start_time": "2022-07-28T11:56:16.200Z"
   },
   {
    "duration": 977,
    "start_time": "2022-07-28T11:56:16.206Z"
   },
   {
    "duration": 630,
    "start_time": "2022-07-28T11:56:17.185Z"
   },
   {
    "duration": 53,
    "start_time": "2022-07-28T11:56:17.817Z"
   },
   {
    "duration": 498,
    "start_time": "2022-07-28T11:56:17.873Z"
   },
   {
    "duration": 100,
    "start_time": "2022-07-28T11:56:18.373Z"
   },
   {
    "duration": 62,
    "start_time": "2022-07-28T11:56:18.475Z"
   },
   {
    "duration": 469,
    "start_time": "2022-07-28T11:56:18.539Z"
   },
   {
    "duration": 25,
    "start_time": "2022-07-28T11:56:19.010Z"
   },
   {
    "duration": 227,
    "start_time": "2022-07-28T11:56:19.044Z"
   },
   {
    "duration": 110,
    "start_time": "2022-07-28T11:56:19.273Z"
   },
   {
    "duration": 18,
    "start_time": "2022-07-28T11:58:19.845Z"
   },
   {
    "duration": 5,
    "start_time": "2022-07-28T11:58:26.065Z"
   },
   {
    "duration": 1106,
    "start_time": "2022-07-28T11:58:26.072Z"
   },
   {
    "duration": 624,
    "start_time": "2022-07-28T11:58:27.180Z"
   },
   {
    "duration": 54,
    "start_time": "2022-07-28T11:58:27.806Z"
   },
   {
    "duration": 504,
    "start_time": "2022-07-28T11:58:27.862Z"
   },
   {
    "duration": 103,
    "start_time": "2022-07-28T11:58:28.368Z"
   },
   {
    "duration": 63,
    "start_time": "2022-07-28T11:58:28.473Z"
   },
   {
    "duration": 443,
    "start_time": "2022-07-28T11:58:28.543Z"
   },
   {
    "duration": 17,
    "start_time": "2022-07-28T11:58:28.988Z"
   },
   {
    "duration": 227,
    "start_time": "2022-07-28T11:58:29.007Z"
   },
   {
    "duration": 743,
    "start_time": "2022-07-28T11:58:29.241Z"
   },
   {
    "duration": 49,
    "start_time": "2022-07-28T12:10:31.641Z"
   },
   {
    "duration": 361,
    "start_time": "2022-07-28T12:11:39.149Z"
   },
   {
    "duration": 366,
    "start_time": "2022-07-28T12:12:17.777Z"
   },
   {
    "duration": 360,
    "start_time": "2022-07-28T12:12:30.444Z"
   },
   {
    "duration": 4,
    "start_time": "2022-07-28T12:14:06.634Z"
   },
   {
    "duration": 4,
    "start_time": "2022-07-28T12:14:08.594Z"
   },
   {
    "duration": 990,
    "start_time": "2022-07-28T12:14:08.600Z"
   },
   {
    "duration": 644,
    "start_time": "2022-07-28T12:14:09.592Z"
   },
   {
    "duration": 41,
    "start_time": "2022-07-28T12:14:10.238Z"
   },
   {
    "duration": 482,
    "start_time": "2022-07-28T12:14:10.280Z"
   },
   {
    "duration": 98,
    "start_time": "2022-07-28T12:14:10.764Z"
   },
   {
    "duration": 62,
    "start_time": "2022-07-28T12:14:10.864Z"
   },
   {
    "duration": 407,
    "start_time": "2022-07-28T12:14:10.928Z"
   },
   {
    "duration": 11,
    "start_time": "2022-07-28T12:14:11.337Z"
   },
   {
    "duration": 190,
    "start_time": "2022-07-28T12:14:11.351Z"
   },
   {
    "duration": 654,
    "start_time": "2022-07-28T12:14:11.543Z"
   },
   {
    "duration": 438,
    "start_time": "2022-07-28T12:14:12.199Z"
   },
   {
    "duration": 368,
    "start_time": "2022-07-28T12:14:21.572Z"
   },
   {
    "duration": 343,
    "start_time": "2022-07-28T12:14:24.570Z"
   },
   {
    "duration": 164,
    "start_time": "2022-07-28T12:16:24.145Z"
   },
   {
    "duration": 6,
    "start_time": "2022-07-28T12:16:41.479Z"
   },
   {
    "duration": 10,
    "start_time": "2022-07-28T12:16:45.611Z"
   },
   {
    "duration": 4690,
    "start_time": "2022-07-28T12:54:51.593Z"
   },
   {
    "duration": 5644,
    "start_time": "2022-07-28T12:55:21.266Z"
   },
   {
    "duration": 5038,
    "start_time": "2022-07-28T12:56:09.514Z"
   },
   {
    "duration": 4,
    "start_time": "2022-07-28T12:56:27.237Z"
   },
   {
    "duration": 1071,
    "start_time": "2022-07-28T12:56:27.243Z"
   },
   {
    "duration": 665,
    "start_time": "2022-07-28T12:56:28.316Z"
   },
   {
    "duration": 62,
    "start_time": "2022-07-28T12:56:28.983Z"
   },
   {
    "duration": 531,
    "start_time": "2022-07-28T12:56:29.049Z"
   },
   {
    "duration": 109,
    "start_time": "2022-07-28T12:56:29.582Z"
   },
   {
    "duration": 70,
    "start_time": "2022-07-28T12:56:29.693Z"
   },
   {
    "duration": 437,
    "start_time": "2022-07-28T12:56:29.766Z"
   },
   {
    "duration": 23,
    "start_time": "2022-07-28T12:56:30.205Z"
   },
   {
    "duration": 210,
    "start_time": "2022-07-28T12:56:30.238Z"
   },
   {
    "duration": 719,
    "start_time": "2022-07-28T12:56:30.450Z"
   },
   {
    "duration": 5181,
    "start_time": "2022-07-28T12:56:31.171Z"
   },
   {
    "duration": 6,
    "start_time": "2022-07-28T12:56:52.736Z"
   },
   {
    "duration": 4,
    "start_time": "2022-07-28T12:59:38.991Z"
   },
   {
    "duration": 957,
    "start_time": "2022-07-28T12:59:38.998Z"
   },
   {
    "duration": 594,
    "start_time": "2022-07-28T12:59:39.956Z"
   },
   {
    "duration": 42,
    "start_time": "2022-07-28T12:59:40.552Z"
   },
   {
    "duration": 498,
    "start_time": "2022-07-28T12:59:40.596Z"
   },
   {
    "duration": 97,
    "start_time": "2022-07-28T12:59:41.095Z"
   },
   {
    "duration": 63,
    "start_time": "2022-07-28T12:59:41.193Z"
   },
   {
    "duration": 380,
    "start_time": "2022-07-28T12:59:41.258Z"
   },
   {
    "duration": 10,
    "start_time": "2022-07-28T12:59:41.640Z"
   },
   {
    "duration": 188,
    "start_time": "2022-07-28T12:59:41.653Z"
   },
   {
    "duration": 635,
    "start_time": "2022-07-28T12:59:41.844Z"
   },
   {
    "duration": 5263,
    "start_time": "2022-07-28T12:59:42.481Z"
   },
   {
    "duration": 0,
    "start_time": "2022-07-28T12:59:47.746Z"
   },
   {
    "duration": 6611,
    "start_time": "2022-07-28T13:00:08.052Z"
   },
   {
    "duration": 41,
    "start_time": "2022-07-28T13:00:17.836Z"
   },
   {
    "duration": 31,
    "start_time": "2022-07-28T13:01:24.558Z"
   },
   {
    "duration": 4,
    "start_time": "2022-07-28T13:02:01.655Z"
   },
   {
    "duration": 95,
    "start_time": "2022-07-28T13:02:53.301Z"
   },
   {
    "duration": 21,
    "start_time": "2022-07-28T13:04:47.752Z"
   },
   {
    "duration": 4,
    "start_time": "2022-07-28T13:09:15.637Z"
   },
   {
    "duration": 492592,
    "start_time": "2022-07-28T13:12:09.735Z"
   },
   {
    "duration": 3,
    "start_time": "2022-07-28T15:13:40.758Z"
   },
   {
    "duration": 21261,
    "start_time": "2022-07-28T15:13:45.315Z"
   },
   {
    "duration": 252091,
    "start_time": "2022-07-28T15:14:08.749Z"
   },
   {
    "duration": 25777,
    "start_time": "2022-07-28T15:18:40.155Z"
   },
   {
    "duration": 3,
    "start_time": "2022-07-28T15:27:12.170Z"
   },
   {
    "duration": 24262,
    "start_time": "2022-07-28T15:27:52.173Z"
   },
   {
    "duration": 1495,
    "start_time": "2022-07-28T15:28:26.140Z"
   },
   {
    "duration": 1327,
    "start_time": "2022-07-28T15:28:27.637Z"
   },
   {
    "duration": 684,
    "start_time": "2022-07-28T15:28:28.966Z"
   },
   {
    "duration": 39,
    "start_time": "2022-07-28T15:28:29.652Z"
   },
   {
    "duration": 491,
    "start_time": "2022-07-28T15:28:29.693Z"
   },
   {
    "duration": 97,
    "start_time": "2022-07-28T15:28:30.186Z"
   },
   {
    "duration": 50,
    "start_time": "2022-07-28T15:28:30.285Z"
   },
   {
    "duration": 373,
    "start_time": "2022-07-28T15:28:30.337Z"
   },
   {
    "duration": 25,
    "start_time": "2022-07-28T15:28:30.711Z"
   },
   {
    "duration": 197,
    "start_time": "2022-07-28T15:28:30.738Z"
   },
   {
    "duration": 583,
    "start_time": "2022-07-28T15:28:30.937Z"
   },
   {
    "duration": 5279,
    "start_time": "2022-07-28T15:28:31.521Z"
   },
   {
    "duration": 45237,
    "start_time": "2022-07-28T15:28:36.802Z"
   },
   {
    "duration": 25229,
    "start_time": "2022-07-28T15:29:53.928Z"
   },
   {
    "duration": 50452,
    "start_time": "2022-07-28T15:30:43.879Z"
   },
   {
    "duration": 46672,
    "start_time": "2022-07-28T15:32:35.852Z"
   },
   {
    "duration": 13751,
    "start_time": "2022-07-28T16:00:24.372Z"
   },
   {
    "duration": 15854,
    "start_time": "2022-07-28T16:01:13.776Z"
   },
   {
    "duration": 456,
    "start_time": "2022-07-28T16:03:23.967Z"
   },
   {
    "duration": 22196,
    "start_time": "2022-07-28T16:03:26.539Z"
   },
   {
    "duration": 10,
    "start_time": "2022-07-28T16:05:04.109Z"
   },
   {
    "duration": 4,
    "start_time": "2022-07-28T16:05:25.085Z"
   },
   {
    "duration": 3,
    "start_time": "2022-07-28T16:05:41.726Z"
   },
   {
    "duration": 3,
    "start_time": "2022-07-28T16:10:23.654Z"
   },
   {
    "duration": 59,
    "start_time": "2022-07-28T16:11:38.813Z"
   },
   {
    "duration": 4,
    "start_time": "2022-07-28T16:12:37.012Z"
   },
   {
    "duration": 923,
    "start_time": "2022-07-28T16:12:37.018Z"
   },
   {
    "duration": 624,
    "start_time": "2022-07-28T16:12:37.943Z"
   },
   {
    "duration": 42,
    "start_time": "2022-07-28T16:12:38.569Z"
   },
   {
    "duration": 486,
    "start_time": "2022-07-28T16:12:38.624Z"
   },
   {
    "duration": 104,
    "start_time": "2022-07-28T16:12:39.112Z"
   },
   {
    "duration": 45,
    "start_time": "2022-07-28T16:12:39.224Z"
   },
   {
    "duration": 379,
    "start_time": "2022-07-28T16:12:39.270Z"
   },
   {
    "duration": 9,
    "start_time": "2022-07-28T16:12:39.651Z"
   },
   {
    "duration": 184,
    "start_time": "2022-07-28T16:12:39.662Z"
   },
   {
    "duration": 585,
    "start_time": "2022-07-28T16:12:39.848Z"
   },
   {
    "duration": 502,
    "start_time": "2022-07-28T16:12:40.434Z"
   },
   {
    "duration": 48,
    "start_time": "2022-07-28T16:12:40.938Z"
   },
   {
    "duration": 0,
    "start_time": "2022-07-28T16:12:40.987Z"
   },
   {
    "duration": 4,
    "start_time": "2022-07-28T16:12:48.777Z"
   },
   {
    "duration": 1000,
    "start_time": "2022-07-28T16:12:48.784Z"
   },
   {
    "duration": 651,
    "start_time": "2022-07-28T16:12:49.786Z"
   },
   {
    "duration": 49,
    "start_time": "2022-07-28T16:12:50.439Z"
   },
   {
    "duration": 460,
    "start_time": "2022-07-28T16:12:50.490Z"
   },
   {
    "duration": 106,
    "start_time": "2022-07-28T16:12:50.952Z"
   },
   {
    "duration": 46,
    "start_time": "2022-07-28T16:12:51.061Z"
   },
   {
    "duration": 372,
    "start_time": "2022-07-28T16:12:51.109Z"
   },
   {
    "duration": 9,
    "start_time": "2022-07-28T16:12:51.483Z"
   },
   {
    "duration": 191,
    "start_time": "2022-07-28T16:12:51.494Z"
   },
   {
    "duration": 655,
    "start_time": "2022-07-28T16:12:51.687Z"
   },
   {
    "duration": 504,
    "start_time": "2022-07-28T16:12:52.345Z"
   },
   {
    "duration": 14884,
    "start_time": "2022-07-28T16:12:52.850Z"
   },
   {
    "duration": 214,
    "start_time": "2022-07-28T16:13:07.737Z"
   },
   {
    "duration": 15,
    "start_time": "2022-07-28T16:17:07.528Z"
   },
   {
    "duration": 19,
    "start_time": "2022-07-28T16:17:15.046Z"
   },
   {
    "duration": 13,
    "start_time": "2022-07-28T16:17:27.008Z"
   },
   {
    "duration": 7,
    "start_time": "2022-07-28T16:17:32.081Z"
   },
   {
    "duration": 1011,
    "start_time": "2022-07-28T16:17:55.385Z"
   },
   {
    "duration": 4,
    "start_time": "2022-07-28T16:18:02.268Z"
   },
   {
    "duration": 877,
    "start_time": "2022-07-28T16:18:02.274Z"
   },
   {
    "duration": 638,
    "start_time": "2022-07-28T16:18:03.153Z"
   },
   {
    "duration": 53,
    "start_time": "2022-07-28T16:18:03.793Z"
   },
   {
    "duration": 429,
    "start_time": "2022-07-28T16:18:03.849Z"
   },
   {
    "duration": 103,
    "start_time": "2022-07-28T16:18:04.279Z"
   },
   {
    "duration": 61,
    "start_time": "2022-07-28T16:18:04.383Z"
   },
   {
    "duration": 501,
    "start_time": "2022-07-28T16:18:04.445Z"
   },
   {
    "duration": 0,
    "start_time": "2022-07-28T16:18:04.948Z"
   },
   {
    "duration": 0,
    "start_time": "2022-07-28T16:18:04.949Z"
   },
   {
    "duration": 0,
    "start_time": "2022-07-28T16:18:04.951Z"
   },
   {
    "duration": 0,
    "start_time": "2022-07-28T16:18:04.952Z"
   },
   {
    "duration": 0,
    "start_time": "2022-07-28T16:18:04.953Z"
   },
   {
    "duration": 0,
    "start_time": "2022-07-28T16:18:04.954Z"
   },
   {
    "duration": 0,
    "start_time": "2022-07-28T16:18:04.955Z"
   },
   {
    "duration": 327,
    "start_time": "2022-07-28T16:18:27.710Z"
   },
   {
    "duration": 105,
    "start_time": "2022-07-28T16:18:35.244Z"
   },
   {
    "duration": 128,
    "start_time": "2022-07-28T16:18:44.929Z"
   },
   {
    "duration": 5,
    "start_time": "2022-07-28T16:19:41.534Z"
   },
   {
    "duration": 876,
    "start_time": "2022-07-28T16:19:41.541Z"
   },
   {
    "duration": 667,
    "start_time": "2022-07-28T16:19:42.423Z"
   },
   {
    "duration": 52,
    "start_time": "2022-07-28T16:19:43.093Z"
   },
   {
    "duration": 424,
    "start_time": "2022-07-28T16:19:43.147Z"
   },
   {
    "duration": 97,
    "start_time": "2022-07-28T16:19:43.573Z"
   },
   {
    "duration": 54,
    "start_time": "2022-07-28T16:19:43.672Z"
   },
   {
    "duration": 355,
    "start_time": "2022-07-28T16:19:43.728Z"
   },
   {
    "duration": 9,
    "start_time": "2022-07-28T16:19:44.085Z"
   },
   {
    "duration": 267,
    "start_time": "2022-07-28T16:19:44.096Z"
   },
   {
    "duration": 570,
    "start_time": "2022-07-28T16:19:44.365Z"
   },
   {
    "duration": 511,
    "start_time": "2022-07-28T16:19:44.937Z"
   },
   {
    "duration": 14980,
    "start_time": "2022-07-28T16:19:45.450Z"
   },
   {
    "duration": 93,
    "start_time": "2022-07-28T16:20:00.433Z"
   },
   {
    "duration": 139,
    "start_time": "2022-07-28T16:20:00.528Z"
   },
   {
    "duration": 407,
    "start_time": "2022-07-28T16:20:18.347Z"
   },
   {
    "duration": 4,
    "start_time": "2022-07-28T16:20:20.915Z"
   },
   {
    "duration": 872,
    "start_time": "2022-07-28T16:20:20.921Z"
   },
   {
    "duration": 669,
    "start_time": "2022-07-28T16:20:21.795Z"
   },
   {
    "duration": 43,
    "start_time": "2022-07-28T16:20:22.466Z"
   },
   {
    "duration": 441,
    "start_time": "2022-07-28T16:20:22.523Z"
   },
   {
    "duration": 100,
    "start_time": "2022-07-28T16:20:22.966Z"
   },
   {
    "duration": 56,
    "start_time": "2022-07-28T16:20:23.068Z"
   },
   {
    "duration": 356,
    "start_time": "2022-07-28T16:20:23.126Z"
   },
   {
    "duration": 10,
    "start_time": "2022-07-28T16:20:23.484Z"
   },
   {
    "duration": 184,
    "start_time": "2022-07-28T16:20:23.495Z"
   },
   {
    "duration": 572,
    "start_time": "2022-07-28T16:20:23.681Z"
   },
   {
    "duration": 505,
    "start_time": "2022-07-28T16:20:24.255Z"
   },
   {
    "duration": 15602,
    "start_time": "2022-07-28T16:20:24.762Z"
   },
   {
    "duration": 6,
    "start_time": "2022-07-28T16:20:40.366Z"
   },
   {
    "duration": 65,
    "start_time": "2022-07-28T16:20:40.374Z"
   },
   {
    "duration": 4,
    "start_time": "2022-07-28T16:20:43.506Z"
   },
   {
    "duration": 865,
    "start_time": "2022-07-28T16:20:43.513Z"
   },
   {
    "duration": 633,
    "start_time": "2022-07-28T16:20:44.379Z"
   },
   {
    "duration": 47,
    "start_time": "2022-07-28T16:20:45.014Z"
   },
   {
    "duration": 451,
    "start_time": "2022-07-28T16:20:45.063Z"
   },
   {
    "duration": 88,
    "start_time": "2022-07-28T16:20:45.516Z"
   },
   {
    "duration": 55,
    "start_time": "2022-07-28T16:20:45.606Z"
   },
   {
    "duration": 376,
    "start_time": "2022-07-28T16:20:45.663Z"
   },
   {
    "duration": 11,
    "start_time": "2022-07-28T16:20:46.040Z"
   },
   {
    "duration": 171,
    "start_time": "2022-07-28T16:20:46.053Z"
   },
   {
    "duration": 583,
    "start_time": "2022-07-28T16:20:46.225Z"
   },
   {
    "duration": 514,
    "start_time": "2022-07-28T16:20:46.810Z"
   },
   {
    "duration": 13797,
    "start_time": "2022-07-28T16:20:47.326Z"
   },
   {
    "duration": 96,
    "start_time": "2022-07-28T16:21:01.127Z"
   },
   {
    "duration": 113,
    "start_time": "2022-07-28T16:21:01.225Z"
   },
   {
    "duration": 4,
    "start_time": "2022-07-28T16:21:43.390Z"
   },
   {
    "duration": 837,
    "start_time": "2022-07-28T16:21:43.396Z"
   },
   {
    "duration": 599,
    "start_time": "2022-07-28T16:21:44.235Z"
   },
   {
    "duration": 46,
    "start_time": "2022-07-28T16:21:44.835Z"
   },
   {
    "duration": 514,
    "start_time": "2022-07-28T16:21:44.883Z"
   },
   {
    "duration": 95,
    "start_time": "2022-07-28T16:21:45.398Z"
   },
   {
    "duration": 52,
    "start_time": "2022-07-28T16:21:45.495Z"
   },
   {
    "duration": 389,
    "start_time": "2022-07-28T16:21:45.549Z"
   },
   {
    "duration": 10,
    "start_time": "2022-07-28T16:21:45.939Z"
   },
   {
    "duration": 183,
    "start_time": "2022-07-28T16:21:45.950Z"
   },
   {
    "duration": 598,
    "start_time": "2022-07-28T16:21:46.135Z"
   },
   {
    "duration": 525,
    "start_time": "2022-07-28T16:21:46.735Z"
   },
   {
    "duration": 14465,
    "start_time": "2022-07-28T16:21:47.262Z"
   },
   {
    "duration": 96,
    "start_time": "2022-07-28T16:22:01.731Z"
   },
   {
    "duration": 9163,
    "start_time": "2022-07-28T16:22:01.829Z"
   },
   {
    "duration": 6417,
    "start_time": "2022-07-28T16:22:21.420Z"
   },
   {
    "duration": 61681,
    "start_time": "2022-07-28T16:24:03.648Z"
   },
   {
    "duration": 5,
    "start_time": "2022-07-28T16:25:35.209Z"
   },
   {
    "duration": 893,
    "start_time": "2022-07-28T16:25:35.217Z"
   },
   {
    "duration": 605,
    "start_time": "2022-07-28T16:25:36.112Z"
   },
   {
    "duration": 46,
    "start_time": "2022-07-28T16:25:36.718Z"
   },
   {
    "duration": 465,
    "start_time": "2022-07-28T16:25:36.767Z"
   },
   {
    "duration": 93,
    "start_time": "2022-07-28T16:25:37.234Z"
   },
   {
    "duration": 47,
    "start_time": "2022-07-28T16:25:37.329Z"
   },
   {
    "duration": 400,
    "start_time": "2022-07-28T16:25:37.378Z"
   },
   {
    "duration": 9,
    "start_time": "2022-07-28T16:25:37.779Z"
   },
   {
    "duration": 181,
    "start_time": "2022-07-28T16:25:37.790Z"
   },
   {
    "duration": 616,
    "start_time": "2022-07-28T16:25:37.974Z"
   },
   {
    "duration": 561,
    "start_time": "2022-07-28T16:25:38.591Z"
   },
   {
    "duration": 17572,
    "start_time": "2022-07-28T16:25:39.154Z"
   },
   {
    "duration": 99299,
    "start_time": "2022-07-28T16:25:56.730Z"
   },
   {
    "duration": 5,
    "start_time": "2022-07-28T16:27:44.984Z"
   },
   {
    "duration": 922,
    "start_time": "2022-07-28T16:27:44.991Z"
   },
   {
    "duration": 722,
    "start_time": "2022-07-28T16:27:45.916Z"
   },
   {
    "duration": 44,
    "start_time": "2022-07-28T16:27:46.640Z"
   },
   {
    "duration": 469,
    "start_time": "2022-07-28T16:27:46.687Z"
   },
   {
    "duration": 107,
    "start_time": "2022-07-28T16:27:47.158Z"
   },
   {
    "duration": 56,
    "start_time": "2022-07-28T16:27:47.267Z"
   },
   {
    "duration": 404,
    "start_time": "2022-07-28T16:27:47.325Z"
   },
   {
    "duration": 9,
    "start_time": "2022-07-28T16:27:47.731Z"
   },
   {
    "duration": 191,
    "start_time": "2022-07-28T16:27:47.741Z"
   },
   {
    "duration": 661,
    "start_time": "2022-07-28T16:27:47.934Z"
   },
   {
    "duration": 601,
    "start_time": "2022-07-28T16:27:48.597Z"
   },
   {
    "duration": 17226,
    "start_time": "2022-07-28T16:27:49.200Z"
   },
   {
    "duration": 134358,
    "start_time": "2022-07-28T16:28:06.429Z"
   },
   {
    "duration": 5,
    "start_time": "2022-07-28T16:30:46.668Z"
   },
   {
    "duration": 961,
    "start_time": "2022-07-28T16:30:46.675Z"
   },
   {
    "duration": 628,
    "start_time": "2022-07-28T16:30:47.638Z"
   },
   {
    "duration": 55,
    "start_time": "2022-07-28T16:30:48.269Z"
   },
   {
    "duration": 442,
    "start_time": "2022-07-28T16:30:48.326Z"
   },
   {
    "duration": 98,
    "start_time": "2022-07-28T16:30:48.770Z"
   },
   {
    "duration": 56,
    "start_time": "2022-07-28T16:30:48.869Z"
   },
   {
    "duration": 446,
    "start_time": "2022-07-28T16:30:48.928Z"
   },
   {
    "duration": 10,
    "start_time": "2022-07-28T16:30:49.376Z"
   },
   {
    "duration": 172,
    "start_time": "2022-07-28T16:30:49.388Z"
   },
   {
    "duration": 574,
    "start_time": "2022-07-28T16:30:49.562Z"
   },
   {
    "duration": 513,
    "start_time": "2022-07-28T16:30:50.137Z"
   },
   {
    "duration": 18273,
    "start_time": "2022-07-28T16:30:50.652Z"
   },
   {
    "duration": 490396,
    "start_time": "2022-07-28T16:31:08.927Z"
   },
   {
    "duration": 6,
    "start_time": "2022-07-28T16:55:20.931Z"
   },
   {
    "duration": 942,
    "start_time": "2022-07-28T16:55:20.940Z"
   },
   {
    "duration": 641,
    "start_time": "2022-07-28T16:55:21.884Z"
   },
   {
    "duration": 45,
    "start_time": "2022-07-28T16:55:22.527Z"
   },
   {
    "duration": 450,
    "start_time": "2022-07-28T16:55:22.575Z"
   },
   {
    "duration": 112,
    "start_time": "2022-07-28T16:55:23.028Z"
   },
   {
    "duration": 47,
    "start_time": "2022-07-28T16:55:23.143Z"
   },
   {
    "duration": 375,
    "start_time": "2022-07-28T16:55:23.192Z"
   },
   {
    "duration": 11,
    "start_time": "2022-07-28T16:55:23.569Z"
   },
   {
    "duration": 193,
    "start_time": "2022-07-28T16:55:23.582Z"
   },
   {
    "duration": 615,
    "start_time": "2022-07-28T16:55:23.776Z"
   },
   {
    "duration": 518,
    "start_time": "2022-07-28T16:55:24.393Z"
   },
   {
    "duration": 33932,
    "start_time": "2022-07-28T16:55:24.913Z"
   },
   {
    "duration": 6420,
    "start_time": "2022-07-28T16:55:58.926Z"
   },
   {
    "duration": 4,
    "start_time": "2022-07-28T16:57:00.090Z"
   },
   {
    "duration": 866,
    "start_time": "2022-07-28T16:57:00.096Z"
   },
   {
    "duration": 612,
    "start_time": "2022-07-28T16:57:00.964Z"
   },
   {
    "duration": 47,
    "start_time": "2022-07-28T16:57:01.578Z"
   },
   {
    "duration": 433,
    "start_time": "2022-07-28T16:57:01.628Z"
   },
   {
    "duration": 99,
    "start_time": "2022-07-28T16:57:02.063Z"
   },
   {
    "duration": 44,
    "start_time": "2022-07-28T16:57:02.163Z"
   },
   {
    "duration": 359,
    "start_time": "2022-07-28T16:57:02.209Z"
   },
   {
    "duration": 9,
    "start_time": "2022-07-28T16:57:02.570Z"
   },
   {
    "duration": 170,
    "start_time": "2022-07-28T16:57:02.581Z"
   },
   {
    "duration": 15,
    "start_time": "2022-07-28T16:57:02.752Z"
   },
   {
    "duration": 138,
    "start_time": "2022-07-28T16:57:02.768Z"
   },
   {
    "duration": 1738,
    "start_time": "2022-07-28T16:57:02.908Z"
   },
   {
    "duration": 131,
    "start_time": "2022-07-28T16:57:04.649Z"
   },
   {
    "duration": 131,
    "start_time": "2022-07-28T17:00:22.853Z"
   },
   {
    "duration": 140,
    "start_time": "2022-07-28T17:01:54.486Z"
   },
   {
    "duration": 146,
    "start_time": "2022-07-28T17:02:06.289Z"
   },
   {
    "duration": 120,
    "start_time": "2022-07-28T17:02:53.860Z"
   },
   {
    "duration": 116,
    "start_time": "2022-07-28T17:02:59.683Z"
   },
   {
    "duration": 100,
    "start_time": "2022-07-28T17:03:05.542Z"
   },
   {
    "duration": 5,
    "start_time": "2022-07-28T17:03:45.963Z"
   },
   {
    "duration": 984,
    "start_time": "2022-07-28T17:03:45.970Z"
   },
   {
    "duration": 622,
    "start_time": "2022-07-28T17:03:46.957Z"
   },
   {
    "duration": 59,
    "start_time": "2022-07-28T17:03:47.582Z"
   },
   {
    "duration": 468,
    "start_time": "2022-07-28T17:03:47.645Z"
   },
   {
    "duration": 94,
    "start_time": "2022-07-28T17:03:48.115Z"
   },
   {
    "duration": 49,
    "start_time": "2022-07-28T17:03:48.223Z"
   },
   {
    "duration": 377,
    "start_time": "2022-07-28T17:03:48.274Z"
   },
   {
    "duration": 10,
    "start_time": "2022-07-28T17:03:48.653Z"
   },
   {
    "duration": 203,
    "start_time": "2022-07-28T17:03:48.665Z"
   },
   {
    "duration": 731,
    "start_time": "2022-07-28T17:03:48.871Z"
   },
   {
    "duration": 459,
    "start_time": "2022-07-28T17:03:49.604Z"
   },
   {
    "duration": 0,
    "start_time": "2022-07-28T17:03:50.065Z"
   },
   {
    "duration": 0,
    "start_time": "2022-07-28T17:03:50.066Z"
   },
   {
    "duration": 4,
    "start_time": "2022-07-28T17:04:52.471Z"
   },
   {
    "duration": 951,
    "start_time": "2022-07-28T17:04:52.478Z"
   },
   {
    "duration": 659,
    "start_time": "2022-07-28T17:04:53.431Z"
   },
   {
    "duration": 56,
    "start_time": "2022-07-28T17:04:54.091Z"
   },
   {
    "duration": 468,
    "start_time": "2022-07-28T17:04:54.151Z"
   },
   {
    "duration": 105,
    "start_time": "2022-07-28T17:04:54.626Z"
   },
   {
    "duration": 47,
    "start_time": "2022-07-28T17:04:54.733Z"
   },
   {
    "duration": 465,
    "start_time": "2022-07-28T17:04:54.782Z"
   },
   {
    "duration": 9,
    "start_time": "2022-07-28T17:04:55.249Z"
   },
   {
    "duration": 215,
    "start_time": "2022-07-28T17:04:55.260Z"
   },
   {
    "duration": 670,
    "start_time": "2022-07-28T17:04:55.476Z"
   },
   {
    "duration": 447,
    "start_time": "2022-07-28T17:04:56.149Z"
   },
   {
    "duration": 0,
    "start_time": "2022-07-28T17:04:56.598Z"
   },
   {
    "duration": 0,
    "start_time": "2022-07-28T17:04:56.599Z"
   },
   {
    "duration": 7,
    "start_time": "2022-07-28T17:05:03.133Z"
   },
   {
    "duration": 958,
    "start_time": "2022-07-28T17:05:03.143Z"
   },
   {
    "duration": 680,
    "start_time": "2022-07-28T17:05:04.103Z"
   },
   {
    "duration": 60,
    "start_time": "2022-07-28T17:05:04.785Z"
   },
   {
    "duration": 498,
    "start_time": "2022-07-28T17:05:04.848Z"
   },
   {
    "duration": 108,
    "start_time": "2022-07-28T17:05:05.349Z"
   },
   {
    "duration": 45,
    "start_time": "2022-07-28T17:05:05.459Z"
   },
   {
    "duration": 468,
    "start_time": "2022-07-28T17:05:05.506Z"
   },
   {
    "duration": 10,
    "start_time": "2022-07-28T17:05:05.976Z"
   },
   {
    "duration": 222,
    "start_time": "2022-07-28T17:05:05.989Z"
   },
   {
    "duration": 31,
    "start_time": "2022-07-28T17:05:06.213Z"
   },
   {
    "duration": 139,
    "start_time": "2022-07-28T17:05:06.247Z"
   },
   {
    "duration": 104,
    "start_time": "2022-07-28T17:05:06.387Z"
   },
   {
    "duration": 73,
    "start_time": "2022-07-28T17:05:06.492Z"
   },
   {
    "duration": 66,
    "start_time": "2022-07-28T17:09:10.121Z"
   },
   {
    "duration": 4,
    "start_time": "2022-07-28T17:09:33.615Z"
   },
   {
    "duration": 6,
    "start_time": "2022-07-28T17:09:45.748Z"
   },
   {
    "duration": 70,
    "start_time": "2022-07-28T17:09:57.394Z"
   },
   {
    "duration": 5,
    "start_time": "2022-07-28T17:10:34.063Z"
   },
   {
    "duration": 1000,
    "start_time": "2022-07-28T17:10:34.070Z"
   },
   {
    "duration": 635,
    "start_time": "2022-07-28T17:10:35.072Z"
   },
   {
    "duration": 58,
    "start_time": "2022-07-28T17:10:35.709Z"
   },
   {
    "duration": 493,
    "start_time": "2022-07-28T17:10:35.770Z"
   },
   {
    "duration": 102,
    "start_time": "2022-07-28T17:10:36.265Z"
   },
   {
    "duration": 56,
    "start_time": "2022-07-28T17:10:36.369Z"
   },
   {
    "duration": 377,
    "start_time": "2022-07-28T17:10:36.427Z"
   },
   {
    "duration": 21,
    "start_time": "2022-07-28T17:10:36.806Z"
   },
   {
    "duration": 191,
    "start_time": "2022-07-28T17:10:36.829Z"
   },
   {
    "duration": 18,
    "start_time": "2022-07-28T17:10:37.030Z"
   },
   {
    "duration": 141,
    "start_time": "2022-07-28T17:10:37.050Z"
   },
   {
    "duration": 117,
    "start_time": "2022-07-28T17:10:37.193Z"
   },
   {
    "duration": 75,
    "start_time": "2022-07-28T17:10:37.313Z"
   },
   {
    "duration": 10,
    "start_time": "2022-07-28T17:16:53.226Z"
   },
   {
    "duration": 18,
    "start_time": "2022-07-28T17:17:10.635Z"
   },
   {
    "duration": 63,
    "start_time": "2022-07-28T17:17:32.433Z"
   },
   {
    "duration": 11,
    "start_time": "2022-07-28T17:18:24.097Z"
   },
   {
    "duration": 127,
    "start_time": "2022-07-28T17:18:30.726Z"
   },
   {
    "duration": 16,
    "start_time": "2022-07-28T17:21:24.362Z"
   },
   {
    "duration": 131824,
    "start_time": "2022-07-28T17:21:33.687Z"
   },
   {
    "duration": 79,
    "start_time": "2022-07-28T17:28:32.239Z"
   },
   {
    "duration": 6,
    "start_time": "2022-07-28T17:28:39.437Z"
   },
   {
    "duration": 981,
    "start_time": "2022-07-28T17:28:39.446Z"
   },
   {
    "duration": 641,
    "start_time": "2022-07-28T17:28:40.429Z"
   },
   {
    "duration": 50,
    "start_time": "2022-07-28T17:28:41.073Z"
   },
   {
    "duration": 495,
    "start_time": "2022-07-28T17:28:41.125Z"
   },
   {
    "duration": 109,
    "start_time": "2022-07-28T17:28:41.622Z"
   },
   {
    "duration": 47,
    "start_time": "2022-07-28T17:28:41.734Z"
   },
   {
    "duration": 392,
    "start_time": "2022-07-28T17:28:41.783Z"
   },
   {
    "duration": 10,
    "start_time": "2022-07-28T17:28:42.177Z"
   },
   {
    "duration": 209,
    "start_time": "2022-07-28T17:28:42.190Z"
   },
   {
    "duration": 2,
    "start_time": "2022-07-28T17:28:42.401Z"
   },
   {
    "duration": 155,
    "start_time": "2022-07-28T17:28:42.405Z"
   },
   {
    "duration": 129,
    "start_time": "2022-07-28T17:28:42.561Z"
   },
   {
    "duration": 152,
    "start_time": "2022-07-28T17:28:42.691Z"
   },
   {
    "duration": 144715,
    "start_time": "2022-07-28T17:28:42.845Z"
   },
   {
    "duration": 7,
    "start_time": "2022-07-28T17:31:11.450Z"
   },
   {
    "duration": 1031,
    "start_time": "2022-07-28T17:31:11.459Z"
   },
   {
    "duration": 686,
    "start_time": "2022-07-28T17:31:12.492Z"
   },
   {
    "duration": 60,
    "start_time": "2022-07-28T17:31:13.179Z"
   },
   {
    "duration": 529,
    "start_time": "2022-07-28T17:31:13.241Z"
   },
   {
    "duration": 107,
    "start_time": "2022-07-28T17:31:13.772Z"
   },
   {
    "duration": 80,
    "start_time": "2022-07-28T17:31:13.881Z"
   },
   {
    "duration": 414,
    "start_time": "2022-07-28T17:31:13.963Z"
   },
   {
    "duration": 12,
    "start_time": "2022-07-28T17:31:14.379Z"
   },
   {
    "duration": 224,
    "start_time": "2022-07-28T17:31:14.393Z"
   },
   {
    "duration": 12,
    "start_time": "2022-07-28T17:31:14.619Z"
   },
   {
    "duration": 156,
    "start_time": "2022-07-28T17:31:14.644Z"
   },
   {
    "duration": 118,
    "start_time": "2022-07-28T17:31:14.802Z"
   },
   {
    "duration": 201,
    "start_time": "2022-07-28T17:31:14.923Z"
   },
   {
    "duration": 77298,
    "start_time": "2022-07-28T17:31:15.131Z"
   },
   {
    "duration": 9,
    "start_time": "2022-07-28T17:32:35.623Z"
   },
   {
    "duration": 1067,
    "start_time": "2022-07-28T17:32:35.635Z"
   },
   {
    "duration": 692,
    "start_time": "2022-07-28T17:32:36.704Z"
   },
   {
    "duration": 61,
    "start_time": "2022-07-28T17:32:37.398Z"
   },
   {
    "duration": 552,
    "start_time": "2022-07-28T17:32:37.463Z"
   },
   {
    "duration": 104,
    "start_time": "2022-07-28T17:32:38.017Z"
   },
   {
    "duration": 59,
    "start_time": "2022-07-28T17:32:38.123Z"
   },
   {
    "duration": 482,
    "start_time": "2022-07-28T17:32:38.184Z"
   },
   {
    "duration": 10,
    "start_time": "2022-07-28T17:32:38.668Z"
   },
   {
    "duration": 233,
    "start_time": "2022-07-28T17:32:38.680Z"
   },
   {
    "duration": 24,
    "start_time": "2022-07-28T17:32:38.915Z"
   },
   {
    "duration": 173,
    "start_time": "2022-07-28T17:32:38.941Z"
   },
   {
    "duration": 233,
    "start_time": "2022-07-28T17:32:39.123Z"
   },
   {
    "duration": 122,
    "start_time": "2022-07-28T17:32:39.361Z"
   },
   {
    "duration": 43,
    "start_time": "2022-07-28T17:32:39.485Z"
   },
   {
    "duration": 270515,
    "start_time": "2022-07-28T17:32:39.530Z"
   },
   {
    "duration": 5,
    "start_time": "2022-07-28T17:46:42.277Z"
   },
   {
    "duration": 959,
    "start_time": "2022-07-28T17:46:42.284Z"
   },
   {
    "duration": 639,
    "start_time": "2022-07-28T17:46:43.245Z"
   },
   {
    "duration": 54,
    "start_time": "2022-07-28T17:46:43.886Z"
   },
   {
    "duration": 447,
    "start_time": "2022-07-28T17:46:43.944Z"
   },
   {
    "duration": 100,
    "start_time": "2022-07-28T17:46:44.393Z"
   },
   {
    "duration": 58,
    "start_time": "2022-07-28T17:46:44.495Z"
   },
   {
    "duration": 395,
    "start_time": "2022-07-28T17:46:44.555Z"
   },
   {
    "duration": 10,
    "start_time": "2022-07-28T17:46:44.953Z"
   },
   {
    "duration": 195,
    "start_time": "2022-07-28T17:46:44.965Z"
   },
   {
    "duration": 3,
    "start_time": "2022-07-28T17:46:45.162Z"
   },
   {
    "duration": 168,
    "start_time": "2022-07-28T17:46:45.167Z"
   },
   {
    "duration": 152,
    "start_time": "2022-07-28T17:46:45.337Z"
   },
   {
    "duration": 130,
    "start_time": "2022-07-28T17:46:45.491Z"
   },
   {
    "duration": 45,
    "start_time": "2022-07-28T17:46:45.623Z"
   },
   {
    "duration": 293359,
    "start_time": "2022-07-28T17:46:45.671Z"
   },
   {
    "duration": 20849,
    "start_time": "2022-07-28T17:54:29.909Z"
   },
   {
    "duration": 6,
    "start_time": "2022-07-28T17:55:54.942Z"
   },
   {
    "duration": 938,
    "start_time": "2022-07-28T17:55:54.951Z"
   },
   {
    "duration": 635,
    "start_time": "2022-07-28T17:55:55.891Z"
   },
   {
    "duration": 43,
    "start_time": "2022-07-28T17:55:56.528Z"
   },
   {
    "duration": 512,
    "start_time": "2022-07-28T17:55:56.573Z"
   },
   {
    "duration": 102,
    "start_time": "2022-07-28T17:55:57.087Z"
   },
   {
    "duration": 80,
    "start_time": "2022-07-28T17:55:57.191Z"
   },
   {
    "duration": 360,
    "start_time": "2022-07-28T17:55:57.274Z"
   },
   {
    "duration": 27,
    "start_time": "2022-07-28T17:55:57.636Z"
   },
   {
    "duration": 244,
    "start_time": "2022-07-28T17:55:57.666Z"
   },
   {
    "duration": 11,
    "start_time": "2022-07-28T17:55:57.913Z"
   },
   {
    "duration": 133,
    "start_time": "2022-07-28T17:55:57.926Z"
   },
   {
    "duration": 182,
    "start_time": "2022-07-28T17:55:58.062Z"
   },
   {
    "duration": 18353,
    "start_time": "2022-07-28T17:55:58.247Z"
   },
   {
    "duration": 37,
    "start_time": "2022-07-28T17:56:16.602Z"
   },
   {
    "duration": 1704,
    "start_time": "2022-07-29T12:09:20.612Z"
   },
   {
    "duration": 2945,
    "start_time": "2022-07-29T12:09:22.318Z"
   },
   {
    "duration": 693,
    "start_time": "2022-07-29T12:09:25.265Z"
   },
   {
    "duration": 48,
    "start_time": "2022-07-29T12:09:25.960Z"
   },
   {
    "duration": 536,
    "start_time": "2022-07-29T12:09:26.011Z"
   },
   {
    "duration": 114,
    "start_time": "2022-07-29T12:09:26.549Z"
   },
   {
    "duration": 64,
    "start_time": "2022-07-29T12:09:26.666Z"
   },
   {
    "duration": 356,
    "start_time": "2022-07-29T12:09:26.733Z"
   },
   {
    "duration": 35,
    "start_time": "2022-07-29T12:09:27.091Z"
   },
   {
    "duration": 252,
    "start_time": "2022-07-29T12:09:27.128Z"
   },
   {
    "duration": 3,
    "start_time": "2022-07-29T12:09:27.381Z"
   },
   {
    "duration": 169,
    "start_time": "2022-07-29T12:09:27.387Z"
   },
   {
    "duration": 184,
    "start_time": "2022-07-29T12:09:27.558Z"
   },
   {
    "duration": 20590,
    "start_time": "2022-07-29T12:09:27.745Z"
   },
   {
    "duration": 106787,
    "start_time": "2022-07-29T12:09:48.338Z"
   },
   {
    "duration": 60610,
    "start_time": "2022-07-29T12:13:02.196Z"
   },
   {
    "duration": 6,
    "start_time": "2022-07-29T12:21:29.349Z"
   },
   {
    "duration": 910,
    "start_time": "2022-07-29T12:21:29.357Z"
   },
   {
    "duration": 555,
    "start_time": "2022-07-29T12:21:30.270Z"
   },
   {
    "duration": 43,
    "start_time": "2022-07-29T12:21:30.827Z"
   },
   {
    "duration": 450,
    "start_time": "2022-07-29T12:21:30.872Z"
   },
   {
    "duration": 106,
    "start_time": "2022-07-29T12:21:31.324Z"
   },
   {
    "duration": 49,
    "start_time": "2022-07-29T12:21:31.432Z"
   },
   {
    "duration": 614,
    "start_time": "2022-07-29T12:21:31.483Z"
   },
   {
    "duration": 0,
    "start_time": "2022-07-29T12:21:32.098Z"
   },
   {
    "duration": 0,
    "start_time": "2022-07-29T12:21:32.100Z"
   },
   {
    "duration": 0,
    "start_time": "2022-07-29T12:21:32.101Z"
   },
   {
    "duration": 0,
    "start_time": "2022-07-29T12:21:32.102Z"
   },
   {
    "duration": 0,
    "start_time": "2022-07-29T12:21:32.103Z"
   },
   {
    "duration": 0,
    "start_time": "2022-07-29T12:21:32.104Z"
   },
   {
    "duration": 0,
    "start_time": "2022-07-29T12:21:32.106Z"
   },
   {
    "duration": 0,
    "start_time": "2022-07-29T12:21:32.107Z"
   },
   {
    "duration": 4,
    "start_time": "2022-07-29T12:22:03.501Z"
   },
   {
    "duration": 927,
    "start_time": "2022-07-29T12:22:03.508Z"
   },
   {
    "duration": 624,
    "start_time": "2022-07-29T12:22:04.437Z"
   },
   {
    "duration": 56,
    "start_time": "2022-07-29T12:22:05.064Z"
   },
   {
    "duration": 454,
    "start_time": "2022-07-29T12:22:05.122Z"
   },
   {
    "duration": 94,
    "start_time": "2022-07-29T12:22:05.578Z"
   },
   {
    "duration": 54,
    "start_time": "2022-07-29T12:22:05.674Z"
   },
   {
    "duration": 318,
    "start_time": "2022-07-29T12:22:05.730Z"
   },
   {
    "duration": 28,
    "start_time": "2022-07-29T12:22:06.049Z"
   },
   {
    "duration": 246,
    "start_time": "2022-07-29T12:22:06.079Z"
   },
   {
    "duration": 3,
    "start_time": "2022-07-29T12:22:06.327Z"
   },
   {
    "duration": 131,
    "start_time": "2022-07-29T12:22:06.333Z"
   },
   {
    "duration": 193,
    "start_time": "2022-07-29T12:22:06.467Z"
   },
   {
    "duration": 23943,
    "start_time": "2022-07-29T12:22:06.664Z"
   },
   {
    "duration": 268729,
    "start_time": "2022-07-29T12:22:30.609Z"
   },
   {
    "duration": 65,
    "start_time": "2022-07-29T12:26:59.339Z"
   },
   {
    "duration": 5047,
    "start_time": "2022-07-29T12:30:14.273Z"
   },
   {
    "duration": 35266,
    "start_time": "2022-07-29T12:30:25.955Z"
   },
   {
    "duration": 81,
    "start_time": "2022-07-29T12:34:22.181Z"
   },
   {
    "duration": 4,
    "start_time": "2022-07-29T12:34:33.044Z"
   },
   {
    "duration": 91,
    "start_time": "2022-07-29T12:34:37.184Z"
   },
   {
    "duration": 173479,
    "start_time": "2022-07-29T12:34:42.943Z"
   },
   {
    "duration": 4,
    "start_time": "2022-07-29T12:45:42.455Z"
   },
   {
    "duration": 912,
    "start_time": "2022-07-29T12:45:43.309Z"
   },
   {
    "duration": 477882,
    "start_time": "2022-07-29T12:46:30.242Z"
   },
   {
    "duration": 1224953,
    "start_time": "2022-07-29T12:54:41.685Z"
   },
   {
    "duration": 4,
    "start_time": "2022-07-29T13:15:09.259Z"
   },
   {
    "duration": 979,
    "start_time": "2022-07-29T13:15:09.265Z"
   },
   {
    "duration": 642,
    "start_time": "2022-07-29T13:15:10.246Z"
   },
   {
    "duration": 62,
    "start_time": "2022-07-29T13:15:10.891Z"
   },
   {
    "duration": 552,
    "start_time": "2022-07-29T13:15:10.955Z"
   },
   {
    "duration": 103,
    "start_time": "2022-07-29T13:15:11.509Z"
   },
   {
    "duration": 51,
    "start_time": "2022-07-29T13:15:11.614Z"
   },
   {
    "duration": 354,
    "start_time": "2022-07-29T13:15:11.667Z"
   },
   {
    "duration": 28,
    "start_time": "2022-07-29T13:15:12.023Z"
   },
   {
    "duration": 264,
    "start_time": "2022-07-29T13:15:12.055Z"
   },
   {
    "duration": 135,
    "start_time": "2022-07-29T13:15:12.321Z"
   },
   {
    "duration": 170,
    "start_time": "2022-07-29T13:15:12.457Z"
   },
   {
    "duration": 4,
    "start_time": "2022-07-29T13:26:28.387Z"
   },
   {
    "duration": 1023,
    "start_time": "2022-07-29T13:26:28.393Z"
   },
   {
    "duration": 674,
    "start_time": "2022-07-29T13:26:29.418Z"
   },
   {
    "duration": 53,
    "start_time": "2022-07-29T13:26:30.094Z"
   },
   {
    "duration": 524,
    "start_time": "2022-07-29T13:26:30.149Z"
   },
   {
    "duration": 108,
    "start_time": "2022-07-29T13:26:30.675Z"
   },
   {
    "duration": 69,
    "start_time": "2022-07-29T13:26:30.785Z"
   },
   {
    "duration": 371,
    "start_time": "2022-07-29T13:26:30.856Z"
   },
   {
    "duration": 29,
    "start_time": "2022-07-29T13:26:31.230Z"
   },
   {
    "duration": 282,
    "start_time": "2022-07-29T13:26:31.261Z"
   },
   {
    "duration": 144,
    "start_time": "2022-07-29T13:26:31.544Z"
   },
   {
    "duration": 183,
    "start_time": "2022-07-29T13:26:31.690Z"
   },
   {
    "duration": 279676,
    "start_time": "2022-07-29T13:26:31.875Z"
   },
   {
    "duration": 3,
    "start_time": "2022-07-29T13:31:11.553Z"
   },
   {
    "duration": 41,
    "start_time": "2022-07-29T13:31:11.557Z"
   },
   {
    "duration": 5,
    "start_time": "2022-07-29T13:31:29.679Z"
   },
   {
    "duration": 1064,
    "start_time": "2022-07-29T13:31:29.685Z"
   },
   {
    "duration": 701,
    "start_time": "2022-07-29T13:31:30.752Z"
   },
   {
    "duration": 66,
    "start_time": "2022-07-29T13:31:31.455Z"
   },
   {
    "duration": 504,
    "start_time": "2022-07-29T13:31:31.523Z"
   },
   {
    "duration": 100,
    "start_time": "2022-07-29T13:31:32.029Z"
   },
   {
    "duration": 57,
    "start_time": "2022-07-29T13:31:32.131Z"
   },
   {
    "duration": 351,
    "start_time": "2022-07-29T13:31:32.203Z"
   },
   {
    "duration": 47,
    "start_time": "2022-07-29T13:31:32.558Z"
   },
   {
    "duration": 252,
    "start_time": "2022-07-29T13:31:32.608Z"
   },
   {
    "duration": 143,
    "start_time": "2022-07-29T13:31:32.861Z"
   },
   {
    "duration": 163,
    "start_time": "2022-07-29T13:31:33.007Z"
   },
   {
    "duration": 157056,
    "start_time": "2022-07-29T13:31:33.172Z"
   },
   {
    "duration": 7,
    "start_time": "2022-07-29T13:34:10.230Z"
   },
   {
    "duration": 15,
    "start_time": "2022-07-29T13:34:10.238Z"
   },
   {
    "duration": 19860,
    "start_time": "2022-07-29T13:34:10.255Z"
   },
   {
    "duration": 439,
    "start_time": "2022-07-29T13:35:19.144Z"
   },
   {
    "duration": 196,
    "start_time": "2022-07-29T13:35:44.521Z"
   },
   {
    "duration": 23698,
    "start_time": "2022-07-29T13:35:53.454Z"
   },
   {
    "duration": 139,
    "start_time": "2022-07-29T13:37:27.221Z"
   },
   {
    "duration": 143,
    "start_time": "2022-07-29T13:37:58.646Z"
   },
   {
    "duration": 148,
    "start_time": "2022-07-29T13:38:10.421Z"
   },
   {
    "duration": 139,
    "start_time": "2022-07-29T13:38:31.745Z"
   },
   {
    "duration": 20299,
    "start_time": "2022-07-29T13:39:01.281Z"
   },
   {
    "duration": 4,
    "start_time": "2022-07-29T13:52:17.770Z"
   },
   {
    "duration": 919,
    "start_time": "2022-07-29T13:52:17.776Z"
   },
   {
    "duration": 610,
    "start_time": "2022-07-29T13:52:18.697Z"
   },
   {
    "duration": 43,
    "start_time": "2022-07-29T13:52:19.309Z"
   },
   {
    "duration": 451,
    "start_time": "2022-07-29T13:52:19.354Z"
   },
   {
    "duration": 106,
    "start_time": "2022-07-29T13:52:19.808Z"
   },
   {
    "duration": 49,
    "start_time": "2022-07-29T13:52:19.916Z"
   },
   {
    "duration": 365,
    "start_time": "2022-07-29T13:52:19.967Z"
   },
   {
    "duration": 32,
    "start_time": "2022-07-29T13:52:20.334Z"
   },
   {
    "duration": 242,
    "start_time": "2022-07-29T13:52:20.368Z"
   },
   {
    "duration": 763,
    "start_time": "2022-07-29T13:52:20.611Z"
   },
   {
    "duration": 497,
    "start_time": "2022-07-29T13:52:21.376Z"
   },
   {
    "duration": 3,
    "start_time": "2022-07-29T13:52:21.875Z"
   },
   {
    "duration": 111734,
    "start_time": "2022-07-29T13:52:21.881Z"
   },
   {
    "duration": 2,
    "start_time": "2022-07-29T13:54:13.617Z"
   },
   {
    "duration": 13,
    "start_time": "2022-07-29T13:54:13.621Z"
   },
   {
    "duration": 15168,
    "start_time": "2022-07-29T13:54:13.636Z"
   },
   {
    "duration": 431,
    "start_time": "2022-07-29T13:56:39.127Z"
   },
   {
    "duration": 417,
    "start_time": "2022-07-29T13:56:46.266Z"
   },
   {
    "duration": 30572,
    "start_time": "2022-07-29T14:00:18.758Z"
   },
   {
    "duration": 29231,
    "start_time": "2022-07-29T14:03:03.774Z"
   },
   {
    "duration": 29159,
    "start_time": "2022-07-29T14:04:12.714Z"
   },
   {
    "duration": 4,
    "start_time": "2022-07-29T14:05:06.745Z"
   },
   {
    "duration": 872,
    "start_time": "2022-07-29T14:05:06.752Z"
   },
   {
    "duration": 633,
    "start_time": "2022-07-29T14:05:07.626Z"
   },
   {
    "duration": 54,
    "start_time": "2022-07-29T14:05:08.261Z"
   },
   {
    "duration": 428,
    "start_time": "2022-07-29T14:05:08.318Z"
   },
   {
    "duration": 107,
    "start_time": "2022-07-29T14:05:08.748Z"
   },
   {
    "duration": 64,
    "start_time": "2022-07-29T14:05:08.857Z"
   },
   {
    "duration": 329,
    "start_time": "2022-07-29T14:05:08.923Z"
   },
   {
    "duration": 27,
    "start_time": "2022-07-29T14:05:09.254Z"
   },
   {
    "duration": 246,
    "start_time": "2022-07-29T14:05:09.283Z"
   },
   {
    "duration": 824,
    "start_time": "2022-07-29T14:05:09.531Z"
   },
   {
    "duration": 523,
    "start_time": "2022-07-29T14:05:10.357Z"
   },
   {
    "duration": 2,
    "start_time": "2022-07-29T14:05:10.882Z"
   },
   {
    "duration": 111319,
    "start_time": "2022-07-29T14:05:10.887Z"
   },
   {
    "duration": 28463,
    "start_time": "2022-07-29T14:07:02.208Z"
   },
   {
    "duration": 15241,
    "start_time": "2022-07-29T14:07:30.673Z"
   },
   {
    "duration": 4,
    "start_time": "2022-07-29T14:14:57.650Z"
   },
   {
    "duration": 871,
    "start_time": "2022-07-29T14:14:57.656Z"
   },
   {
    "duration": 579,
    "start_time": "2022-07-29T14:14:58.529Z"
   },
   {
    "duration": 41,
    "start_time": "2022-07-29T14:14:59.110Z"
   },
   {
    "duration": 432,
    "start_time": "2022-07-29T14:14:59.153Z"
   },
   {
    "duration": 97,
    "start_time": "2022-07-29T14:14:59.586Z"
   },
   {
    "duration": 54,
    "start_time": "2022-07-29T14:14:59.684Z"
   },
   {
    "duration": 338,
    "start_time": "2022-07-29T14:14:59.739Z"
   },
   {
    "duration": 34,
    "start_time": "2022-07-29T14:15:00.079Z"
   },
   {
    "duration": 259,
    "start_time": "2022-07-29T14:15:00.115Z"
   },
   {
    "duration": 851,
    "start_time": "2022-07-29T14:15:00.375Z"
   },
   {
    "duration": 507,
    "start_time": "2022-07-29T14:15:01.228Z"
   },
   {
    "duration": 117986,
    "start_time": "2022-07-29T14:15:01.737Z"
   },
   {
    "duration": 28313,
    "start_time": "2022-07-29T14:16:59.805Z"
   },
   {
    "duration": 14693,
    "start_time": "2022-07-29T14:17:28.120Z"
   },
   {
    "duration": 78,
    "start_time": "2022-07-29T14:38:09.191Z"
   },
   {
    "duration": 60,
    "start_time": "2022-07-29T14:38:13.634Z"
   },
   {
    "duration": 76,
    "start_time": "2022-07-29T14:41:02.640Z"
   },
   {
    "duration": 79,
    "start_time": "2022-07-29T14:41:21.362Z"
   },
   {
    "duration": 149,
    "start_time": "2022-07-29T14:41:51.849Z"
   },
   {
    "duration": 3,
    "start_time": "2022-07-29T14:42:42.959Z"
   },
   {
    "duration": 5,
    "start_time": "2022-07-29T14:43:31.362Z"
   },
   {
    "duration": 8,
    "start_time": "2022-07-29T14:43:48.542Z"
   },
   {
    "duration": 11,
    "start_time": "2022-07-29T14:54:58.956Z"
   },
   {
    "duration": 4,
    "start_time": "2022-07-29T14:55:29.820Z"
   },
   {
    "duration": 10,
    "start_time": "2022-07-29T14:55:37.945Z"
   },
   {
    "duration": 7,
    "start_time": "2022-07-29T14:55:42.638Z"
   },
   {
    "duration": 4,
    "start_time": "2022-07-29T15:03:10.902Z"
   },
   {
    "duration": 891,
    "start_time": "2022-07-29T15:03:17.540Z"
   },
   {
    "duration": 5,
    "start_time": "2022-07-29T15:03:20.178Z"
   },
   {
    "duration": 998,
    "start_time": "2022-07-29T15:03:20.185Z"
   },
   {
    "duration": 633,
    "start_time": "2022-07-29T15:03:21.185Z"
   },
   {
    "duration": 44,
    "start_time": "2022-07-29T15:03:21.820Z"
   },
   {
    "duration": 554,
    "start_time": "2022-07-29T15:03:21.866Z"
   },
   {
    "duration": 101,
    "start_time": "2022-07-29T15:03:22.421Z"
   },
   {
    "duration": 48,
    "start_time": "2022-07-29T15:03:22.524Z"
   },
   {
    "duration": 337,
    "start_time": "2022-07-29T15:03:22.574Z"
   },
   {
    "duration": 27,
    "start_time": "2022-07-29T15:03:22.913Z"
   },
   {
    "duration": 243,
    "start_time": "2022-07-29T15:03:22.942Z"
   },
   {
    "duration": 763,
    "start_time": "2022-07-29T15:03:23.187Z"
   },
   {
    "duration": 520,
    "start_time": "2022-07-29T15:03:23.952Z"
   },
   {
    "duration": 697042,
    "start_time": "2022-07-29T15:03:24.475Z"
   },
   {
    "duration": 32145,
    "start_time": "2022-07-29T15:15:01.520Z"
   },
   {
    "duration": 15537,
    "start_time": "2022-07-29T15:15:33.667Z"
   },
   {
    "duration": 9,
    "start_time": "2022-07-29T15:15:49.206Z"
   },
   {
    "duration": 166,
    "start_time": "2022-07-29T15:15:49.216Z"
   },
   {
    "duration": 6,
    "start_time": "2022-07-29T15:15:49.384Z"
   },
   {
    "duration": 64,
    "start_time": "2022-07-29T16:33:47.857Z"
   },
   {
    "duration": 449,
    "start_time": "2022-07-29T16:35:33.128Z"
   },
   {
    "duration": 471,
    "start_time": "2022-07-29T16:36:46.974Z"
   },
   {
    "duration": 7,
    "start_time": "2022-07-29T16:36:58.307Z"
   },
   {
    "duration": 936,
    "start_time": "2022-07-29T16:36:58.317Z"
   },
   {
    "duration": 709,
    "start_time": "2022-07-29T16:36:59.255Z"
   },
   {
    "duration": 60,
    "start_time": "2022-07-29T16:36:59.967Z"
   },
   {
    "duration": 509,
    "start_time": "2022-07-29T16:37:00.029Z"
   },
   {
    "duration": 109,
    "start_time": "2022-07-29T16:37:00.539Z"
   },
   {
    "duration": 59,
    "start_time": "2022-07-29T16:37:00.649Z"
   },
   {
    "duration": 356,
    "start_time": "2022-07-29T16:37:00.709Z"
   },
   {
    "duration": 45,
    "start_time": "2022-07-29T16:37:01.067Z"
   },
   {
    "duration": 248,
    "start_time": "2022-07-29T16:37:01.118Z"
   },
   {
    "duration": 823,
    "start_time": "2022-07-29T16:37:01.368Z"
   },
   {
    "duration": 531,
    "start_time": "2022-07-29T16:37:02.193Z"
   },
   {
    "duration": 750798,
    "start_time": "2022-07-29T16:37:02.726Z"
   },
   {
    "duration": 193,
    "start_time": "2022-07-29T16:49:33.526Z"
   },
   {
    "duration": 29323,
    "start_time": "2022-07-29T16:49:33.721Z"
   },
   {
    "duration": 27073,
    "start_time": "2022-07-29T16:50:03.046Z"
   },
   {
    "duration": 88,
    "start_time": "2022-07-29T16:50:30.122Z"
   },
   {
    "duration": 131,
    "start_time": "2022-07-29T16:50:30.212Z"
   },
   {
    "duration": 6,
    "start_time": "2022-07-29T16:50:30.345Z"
   },
   {
    "duration": 65,
    "start_time": "2022-07-29T16:51:16.015Z"
   },
   {
    "duration": 4,
    "start_time": "2022-07-29T16:51:41.282Z"
   },
   {
    "duration": 867,
    "start_time": "2022-07-29T16:51:41.288Z"
   },
   {
    "duration": 613,
    "start_time": "2022-07-29T16:51:42.157Z"
   },
   {
    "duration": 58,
    "start_time": "2022-07-29T16:51:42.772Z"
   },
   {
    "duration": 444,
    "start_time": "2022-07-29T16:51:42.832Z"
   },
   {
    "duration": 99,
    "start_time": "2022-07-29T16:51:43.278Z"
   },
   {
    "duration": 57,
    "start_time": "2022-07-29T16:51:43.379Z"
   },
   {
    "duration": 343,
    "start_time": "2022-07-29T16:51:43.438Z"
   },
   {
    "duration": 52,
    "start_time": "2022-07-29T16:51:43.784Z"
   },
   {
    "duration": 231,
    "start_time": "2022-07-29T16:51:43.838Z"
   },
   {
    "duration": 1102,
    "start_time": "2022-07-29T16:51:44.071Z"
   },
   {
    "duration": 568,
    "start_time": "2022-07-29T16:51:45.175Z"
   },
   {
    "duration": 739767,
    "start_time": "2022-07-29T16:51:45.745Z"
   },
   {
    "duration": 109,
    "start_time": "2022-07-29T17:04:05.515Z"
   },
   {
    "duration": 30460,
    "start_time": "2022-07-29T17:04:05.626Z"
   },
   {
    "duration": 27029,
    "start_time": "2022-07-29T17:04:36.088Z"
   },
   {
    "duration": 90,
    "start_time": "2022-07-29T17:05:03.122Z"
   },
   {
    "duration": 93,
    "start_time": "2022-07-29T17:05:03.214Z"
   },
   {
    "duration": 10,
    "start_time": "2022-07-29T17:05:03.315Z"
   },
   {
    "duration": 99,
    "start_time": "2022-07-29T17:39:03.335Z"
   },
   {
    "duration": 2632,
    "start_time": "2022-07-29T17:39:37.166Z"
   },
   {
    "duration": 47642,
    "start_time": "2022-07-29T17:40:06.198Z"
   },
   {
    "duration": 35766,
    "start_time": "2022-07-29T17:41:03.601Z"
   },
   {
    "duration": 5,
    "start_time": "2022-07-29T17:51:04.358Z"
   },
   {
    "duration": 900,
    "start_time": "2022-07-29T17:51:04.365Z"
   },
   {
    "duration": 623,
    "start_time": "2022-07-29T17:51:05.267Z"
   },
   {
    "duration": 66,
    "start_time": "2022-07-29T17:51:05.892Z"
   },
   {
    "duration": 446,
    "start_time": "2022-07-29T17:51:05.961Z"
   },
   {
    "duration": 103,
    "start_time": "2022-07-29T17:51:06.409Z"
   },
   {
    "duration": 63,
    "start_time": "2022-07-29T17:51:06.514Z"
   },
   {
    "duration": 442,
    "start_time": "2022-07-29T17:51:06.579Z"
   },
   {
    "duration": 33,
    "start_time": "2022-07-29T17:51:07.023Z"
   },
   {
    "duration": 264,
    "start_time": "2022-07-29T17:51:07.058Z"
   },
   {
    "duration": 656,
    "start_time": "2022-07-29T17:51:07.324Z"
   },
   {
    "duration": 539,
    "start_time": "2022-07-29T17:51:07.982Z"
   },
   {
    "duration": 1411801,
    "start_time": "2022-07-29T17:51:08.522Z"
   },
   {
    "duration": 786,
    "start_time": "2022-07-29T18:14:40.326Z"
   },
   {
    "duration": 30462,
    "start_time": "2022-07-29T18:14:41.114Z"
   },
   {
    "duration": 79,
    "start_time": "2022-07-29T18:15:11.578Z"
   },
   {
    "duration": 26254,
    "start_time": "2022-07-29T18:15:11.659Z"
   },
   {
    "duration": 205,
    "start_time": "2022-07-29T18:15:37.917Z"
   },
   {
    "duration": 86,
    "start_time": "2022-07-29T18:15:38.127Z"
   },
   {
    "duration": 184,
    "start_time": "2022-07-29T18:15:38.217Z"
   },
   {
    "duration": 12,
    "start_time": "2022-07-29T18:15:38.405Z"
   },
   {
    "duration": 4,
    "start_time": "2022-07-29T18:32:25.931Z"
   },
   {
    "duration": 952,
    "start_time": "2022-07-29T18:32:25.937Z"
   },
   {
    "duration": 632,
    "start_time": "2022-07-29T18:32:26.891Z"
   },
   {
    "duration": 43,
    "start_time": "2022-07-29T18:32:27.526Z"
   },
   {
    "duration": 448,
    "start_time": "2022-07-29T18:32:27.570Z"
   },
   {
    "duration": 105,
    "start_time": "2022-07-29T18:32:28.020Z"
   },
   {
    "duration": 51,
    "start_time": "2022-07-29T18:32:28.127Z"
   },
   {
    "duration": 371,
    "start_time": "2022-07-29T18:32:28.180Z"
   },
   {
    "duration": 28,
    "start_time": "2022-07-29T18:32:28.553Z"
   },
   {
    "duration": 255,
    "start_time": "2022-07-29T18:32:28.583Z"
   },
   {
    "duration": 668,
    "start_time": "2022-07-29T18:32:28.840Z"
   },
   {
    "duration": 494,
    "start_time": "2022-07-29T18:32:29.510Z"
   },
   {
    "duration": 112807,
    "start_time": "2022-07-29T18:32:30.006Z"
   },
   {
    "duration": 791,
    "start_time": "2022-07-29T18:34:22.815Z"
   },
   {
    "duration": 28955,
    "start_time": "2022-07-29T18:34:23.608Z"
   },
   {
    "duration": 76,
    "start_time": "2022-07-29T18:34:52.564Z"
   },
   {
    "duration": 13964,
    "start_time": "2022-07-29T18:34:52.642Z"
   },
   {
    "duration": 203,
    "start_time": "2022-07-29T18:35:06.608Z"
   },
   {
    "duration": 98,
    "start_time": "2022-07-29T18:35:06.813Z"
   },
   {
    "duration": 173,
    "start_time": "2022-07-29T18:35:06.913Z"
   },
   {
    "duration": 17,
    "start_time": "2022-07-29T18:35:07.088Z"
   },
   {
    "duration": 9,
    "start_time": "2022-07-29T18:46:26.109Z"
   },
   {
    "duration": 9,
    "start_time": "2022-07-29T18:46:38.577Z"
   }
  ],
  "kernelspec": {
   "display_name": "Python 3 (ipykernel)",
   "language": "python",
   "name": "python3"
  },
  "language_info": {
   "codemirror_mode": {
    "name": "ipython",
    "version": 3
   },
   "file_extension": ".py",
   "mimetype": "text/x-python",
   "name": "python",
   "nbconvert_exporter": "python",
   "pygments_lexer": "ipython3",
   "version": "3.9.12"
  },
  "toc": {
   "base_numbering": 1,
   "nav_menu": {},
   "number_sections": true,
   "sideBar": true,
   "skip_h1_title": true,
   "title_cell": "Table of Contents",
   "title_sidebar": "Contents",
   "toc_cell": false,
   "toc_position": {},
   "toc_section_display": true,
   "toc_window_display": false
  }
 },
 "nbformat": 4,
 "nbformat_minor": 2
}
