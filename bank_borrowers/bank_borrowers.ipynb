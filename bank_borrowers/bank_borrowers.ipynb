{
 "cells": [
  {
   "cell_type": "markdown",
   "id": "492cbe7a",
   "metadata": {},
   "source": [
    "# Исследование надежности заемщиков.\n",
    "\n",
    "Заказчик — кредитный отдел банка. Нужно разобраться, влияет ли семейное положение и количество детей клиента на факт погашения кредита в срок. Входные данные от банка — статистика о платёжеспособности клиентов. <br><br>\n",
    "Результаты исследования будут учтены при построении модели кредитного скоринга — специальной системы, которая оценивает способность потенциального заёмщика вернуть кредит банку."
   ]
  },
  {
   "cell_type": "markdown",
   "id": "f7affa5c",
   "metadata": {},
   "source": [
    "### Шаг 1. Обзор данных"
   ]
  },
  {
   "cell_type": "code",
   "execution_count": 5,
   "id": "18fb3c29",
   "metadata": {
    "scrolled": true
   },
   "outputs": [
    {
     "data": {
      "text/html": [
       "<div>\n",
       "<style scoped>\n",
       "    .dataframe tbody tr th:only-of-type {\n",
       "        vertical-align: middle;\n",
       "    }\n",
       "\n",
       "    .dataframe tbody tr th {\n",
       "        vertical-align: top;\n",
       "    }\n",
       "\n",
       "    .dataframe thead th {\n",
       "        text-align: right;\n",
       "    }\n",
       "</style>\n",
       "<table border=\"1\" class=\"dataframe\">\n",
       "  <thead>\n",
       "    <tr style=\"text-align: right;\">\n",
       "      <th></th>\n",
       "      <th>children</th>\n",
       "      <th>days_employed</th>\n",
       "      <th>dob_years</th>\n",
       "      <th>education</th>\n",
       "      <th>education_id</th>\n",
       "      <th>family_status</th>\n",
       "      <th>family_status_id</th>\n",
       "      <th>gender</th>\n",
       "      <th>income_type</th>\n",
       "      <th>debt</th>\n",
       "      <th>total_income</th>\n",
       "      <th>purpose</th>\n",
       "    </tr>\n",
       "  </thead>\n",
       "  <tbody>\n",
       "    <tr>\n",
       "      <th>0</th>\n",
       "      <td>1</td>\n",
       "      <td>-8437.673028</td>\n",
       "      <td>42</td>\n",
       "      <td>высшее</td>\n",
       "      <td>0</td>\n",
       "      <td>женат / замужем</td>\n",
       "      <td>0</td>\n",
       "      <td>F</td>\n",
       "      <td>сотрудник</td>\n",
       "      <td>0</td>\n",
       "      <td>253875.639453</td>\n",
       "      <td>покупка жилья</td>\n",
       "    </tr>\n",
       "    <tr>\n",
       "      <th>1</th>\n",
       "      <td>1</td>\n",
       "      <td>-4024.803754</td>\n",
       "      <td>36</td>\n",
       "      <td>среднее</td>\n",
       "      <td>1</td>\n",
       "      <td>женат / замужем</td>\n",
       "      <td>0</td>\n",
       "      <td>F</td>\n",
       "      <td>сотрудник</td>\n",
       "      <td>0</td>\n",
       "      <td>112080.014102</td>\n",
       "      <td>приобретение автомобиля</td>\n",
       "    </tr>\n",
       "    <tr>\n",
       "      <th>2</th>\n",
       "      <td>0</td>\n",
       "      <td>-5623.422610</td>\n",
       "      <td>33</td>\n",
       "      <td>Среднее</td>\n",
       "      <td>1</td>\n",
       "      <td>женат / замужем</td>\n",
       "      <td>0</td>\n",
       "      <td>M</td>\n",
       "      <td>сотрудник</td>\n",
       "      <td>0</td>\n",
       "      <td>145885.952297</td>\n",
       "      <td>покупка жилья</td>\n",
       "    </tr>\n",
       "    <tr>\n",
       "      <th>3</th>\n",
       "      <td>3</td>\n",
       "      <td>-4124.747207</td>\n",
       "      <td>32</td>\n",
       "      <td>среднее</td>\n",
       "      <td>1</td>\n",
       "      <td>женат / замужем</td>\n",
       "      <td>0</td>\n",
       "      <td>M</td>\n",
       "      <td>сотрудник</td>\n",
       "      <td>0</td>\n",
       "      <td>267628.550329</td>\n",
       "      <td>дополнительное образование</td>\n",
       "    </tr>\n",
       "    <tr>\n",
       "      <th>4</th>\n",
       "      <td>0</td>\n",
       "      <td>340266.072047</td>\n",
       "      <td>53</td>\n",
       "      <td>среднее</td>\n",
       "      <td>1</td>\n",
       "      <td>гражданский брак</td>\n",
       "      <td>1</td>\n",
       "      <td>F</td>\n",
       "      <td>пенсионер</td>\n",
       "      <td>0</td>\n",
       "      <td>158616.077870</td>\n",
       "      <td>сыграть свадьбу</td>\n",
       "    </tr>\n",
       "    <tr>\n",
       "      <th>...</th>\n",
       "      <td>...</td>\n",
       "      <td>...</td>\n",
       "      <td>...</td>\n",
       "      <td>...</td>\n",
       "      <td>...</td>\n",
       "      <td>...</td>\n",
       "      <td>...</td>\n",
       "      <td>...</td>\n",
       "      <td>...</td>\n",
       "      <td>...</td>\n",
       "      <td>...</td>\n",
       "      <td>...</td>\n",
       "    </tr>\n",
       "    <tr>\n",
       "      <th>21520</th>\n",
       "      <td>1</td>\n",
       "      <td>-4529.316663</td>\n",
       "      <td>43</td>\n",
       "      <td>среднее</td>\n",
       "      <td>1</td>\n",
       "      <td>гражданский брак</td>\n",
       "      <td>1</td>\n",
       "      <td>F</td>\n",
       "      <td>компаньон</td>\n",
       "      <td>0</td>\n",
       "      <td>224791.862382</td>\n",
       "      <td>операции с жильем</td>\n",
       "    </tr>\n",
       "    <tr>\n",
       "      <th>21521</th>\n",
       "      <td>0</td>\n",
       "      <td>343937.404131</td>\n",
       "      <td>67</td>\n",
       "      <td>среднее</td>\n",
       "      <td>1</td>\n",
       "      <td>женат / замужем</td>\n",
       "      <td>0</td>\n",
       "      <td>F</td>\n",
       "      <td>пенсионер</td>\n",
       "      <td>0</td>\n",
       "      <td>155999.806512</td>\n",
       "      <td>сделка с автомобилем</td>\n",
       "    </tr>\n",
       "    <tr>\n",
       "      <th>21522</th>\n",
       "      <td>1</td>\n",
       "      <td>-2113.346888</td>\n",
       "      <td>38</td>\n",
       "      <td>среднее</td>\n",
       "      <td>1</td>\n",
       "      <td>гражданский брак</td>\n",
       "      <td>1</td>\n",
       "      <td>M</td>\n",
       "      <td>сотрудник</td>\n",
       "      <td>1</td>\n",
       "      <td>89672.561153</td>\n",
       "      <td>недвижимость</td>\n",
       "    </tr>\n",
       "    <tr>\n",
       "      <th>21523</th>\n",
       "      <td>3</td>\n",
       "      <td>-3112.481705</td>\n",
       "      <td>38</td>\n",
       "      <td>среднее</td>\n",
       "      <td>1</td>\n",
       "      <td>женат / замужем</td>\n",
       "      <td>0</td>\n",
       "      <td>M</td>\n",
       "      <td>сотрудник</td>\n",
       "      <td>1</td>\n",
       "      <td>244093.050500</td>\n",
       "      <td>на покупку своего автомобиля</td>\n",
       "    </tr>\n",
       "    <tr>\n",
       "      <th>21524</th>\n",
       "      <td>2</td>\n",
       "      <td>-1984.507589</td>\n",
       "      <td>40</td>\n",
       "      <td>среднее</td>\n",
       "      <td>1</td>\n",
       "      <td>женат / замужем</td>\n",
       "      <td>0</td>\n",
       "      <td>F</td>\n",
       "      <td>сотрудник</td>\n",
       "      <td>0</td>\n",
       "      <td>82047.418899</td>\n",
       "      <td>на покупку автомобиля</td>\n",
       "    </tr>\n",
       "  </tbody>\n",
       "</table>\n",
       "<p>21525 rows × 12 columns</p>\n",
       "</div>"
      ],
      "text/plain": [
       "       children  days_employed  dob_years education  education_id  \\\n",
       "0             1   -8437.673028         42    высшее             0   \n",
       "1             1   -4024.803754         36   среднее             1   \n",
       "2             0   -5623.422610         33   Среднее             1   \n",
       "3             3   -4124.747207         32   среднее             1   \n",
       "4             0  340266.072047         53   среднее             1   \n",
       "...         ...            ...        ...       ...           ...   \n",
       "21520         1   -4529.316663         43   среднее             1   \n",
       "21521         0  343937.404131         67   среднее             1   \n",
       "21522         1   -2113.346888         38   среднее             1   \n",
       "21523         3   -3112.481705         38   среднее             1   \n",
       "21524         2   -1984.507589         40   среднее             1   \n",
       "\n",
       "          family_status  family_status_id gender income_type  debt  \\\n",
       "0       женат / замужем                 0      F   сотрудник     0   \n",
       "1       женат / замужем                 0      F   сотрудник     0   \n",
       "2       женат / замужем                 0      M   сотрудник     0   \n",
       "3       женат / замужем                 0      M   сотрудник     0   \n",
       "4      гражданский брак                 1      F   пенсионер     0   \n",
       "...                 ...               ...    ...         ...   ...   \n",
       "21520  гражданский брак                 1      F   компаньон     0   \n",
       "21521   женат / замужем                 0      F   пенсионер     0   \n",
       "21522  гражданский брак                 1      M   сотрудник     1   \n",
       "21523   женат / замужем                 0      M   сотрудник     1   \n",
       "21524   женат / замужем                 0      F   сотрудник     0   \n",
       "\n",
       "        total_income                       purpose  \n",
       "0      253875.639453                 покупка жилья  \n",
       "1      112080.014102       приобретение автомобиля  \n",
       "2      145885.952297                 покупка жилья  \n",
       "3      267628.550329    дополнительное образование  \n",
       "4      158616.077870               сыграть свадьбу  \n",
       "...              ...                           ...  \n",
       "21520  224791.862382             операции с жильем  \n",
       "21521  155999.806512          сделка с автомобилем  \n",
       "21522   89672.561153                  недвижимость  \n",
       "21523  244093.050500  на покупку своего автомобиля  \n",
       "21524   82047.418899         на покупку автомобиля  \n",
       "\n",
       "[21525 rows x 12 columns]"
      ]
     },
     "metadata": {},
     "output_type": "display_data"
    }
   ],
   "source": [
    "# импортирование библиотеки 'pandas' с последующим обращением как 'pd'\n",
    "import pandas as pd \n",
    "\n",
    "# сохранение датасета в переменную data\n",
    "data = pd.read_csv('dataset_bank_clients.csv', index_col=0) \n",
    "\n",
    "# получение информации о датафрейме\n",
    "display(data) "
   ]
  },
  {
   "cell_type": "markdown",
   "id": "66bf10cb",
   "metadata": {},
   "source": [
    "### Шаг 2.1 Заполнение пропусков"
   ]
  },
  {
   "cell_type": "code",
   "execution_count": 2,
   "id": "c6cd92aa",
   "metadata": {},
   "outputs": [
    {
     "name": "stdout",
     "output_type": "stream",
     "text": [
      "<class 'pandas.core.frame.DataFrame'>\n",
      "RangeIndex: 21525 entries, 0 to 21524\n",
      "Data columns (total 12 columns):\n",
      " #   Column            Non-Null Count  Dtype  \n",
      "---  ------            --------------  -----  \n",
      " 0   children          21525 non-null  int64  \n",
      " 1   days_employed     19351 non-null  float64\n",
      " 2   dob_years         21525 non-null  int64  \n",
      " 3   education         21525 non-null  object \n",
      " 4   education_id      21525 non-null  int64  \n",
      " 5   family_status     21525 non-null  object \n",
      " 6   family_status_id  21525 non-null  int64  \n",
      " 7   gender            21525 non-null  object \n",
      " 8   income_type       21525 non-null  object \n",
      " 9   debt              21525 non-null  int64  \n",
      " 10  total_income      19351 non-null  float64\n",
      " 11  purpose           21525 non-null  object \n",
      "dtypes: float64(2), int64(5), object(5)\n",
      "memory usage: 2.0+ MB\n"
     ]
    },
    {
     "data": {
      "text/plain": [
       "10.099883855981417"
      ]
     },
     "metadata": {},
     "output_type": "display_data"
    }
   ],
   "source": [
    "data.info() # общая информация о датафрейме\n",
    "\n",
    "count_of_none = data['days_employed'].isna().sum() # количество пропущенных значений в столбцах 'days_employed', 'total_income'\n",
    "count_of_values = data['children'].value_counts().sum() # количество значений \n",
    "\n",
    "display(count_of_none / count_of_values * 100) # доля пропущенных значений в столбцах 'days_employed', 'total_income' \n",
    "                                               # составляет 10% от общего числа значений\n",
    "\n",
    "median_days_employed = data['days_employed'].median() # медианное значение столбца 'days_employed'\n",
    "median_total_income = data['total_income'].median() # медианное значение столбца 'total_income'\n",
    "\n",
    "data['days_employed'] = data['days_employed'].fillna(value=median_days_employed) # замена пропусков на медианное \n",
    "                                                                                 # значение в столбце 'days_employed'\n",
    "data['total_income'] = data['total_income'].fillna(value=median_total_income) # замена пропусков на медианное \n",
    "                                                                              # значение в столбце 'total_income'"
   ]
  },
  {
   "cell_type": "markdown",
   "id": "0c210d20",
   "metadata": {},
   "source": [
    "### Шаг 2.2 Проверка данных на аномалии и исправления.\n",
    "\n",
    "После просмотра данных выяснилось, что только у пенсионеров и безработных трудовой стаж положителен\n",
    "по-прежнему остается непонятным почему присутствуют отрицательные значения, также неизвестно почему \n",
    "положительный трудовой стаж у пенсионеров и безработных нереалистично большой, если переводить его в года. <br>\n",
    "\n",
    "Теория: стаж для работающих людей был подсчитан следующим образом: \n",
    "(дата начала работы переведенная в дни) - (сегодняшняя дата переведенная в дни). <br>\n",
    "Как подсчитывался стаж у пенсионеров и безработных - неизвестно."
   ]
  },
  {
   "cell_type": "code",
   "execution_count": 3,
   "id": "8db4b672",
   "metadata": {
    "scrolled": true
   },
   "outputs": [
    {
     "data": {
      "text/plain": [
       "children\n",
       " 0     14149\n",
       " 1      4818\n",
       " 2      2055\n",
       " 3       330\n",
       " 20       76\n",
       "-1        47\n",
       " 4        41\n",
       " 5         9\n",
       "dtype: int64"
      ]
     },
     "metadata": {},
     "output_type": "display_data"
    }
   ],
   "source": [
    "display(data.value_counts('children'))"
   ]
  },
  {
   "cell_type": "code",
   "execution_count": 4,
   "id": "ac1d91da",
   "metadata": {},
   "outputs": [
    {
     "data": {
      "text/plain": [
       "days_employed\n",
       "-1203.369529     2175\n",
       "-18388.949901       1\n",
       "-1012.751273        1\n",
       "-1015.061031        1\n",
       "-1014.723386        1\n",
       "                 ... \n",
       "-2540.825433        1\n",
       "-2540.721375        1\n",
       "-2540.655487        1\n",
       "-2540.649251        1\n",
       "-24.141633          1\n",
       "Length: 15906, dtype: int64"
      ]
     },
     "metadata": {},
     "output_type": "display_data"
    }
   ],
   "source": [
    "display(data[data['days_employed'] < 0].value_counts('days_employed'))"
   ]
  },
  {
   "cell_type": "markdown",
   "id": "5bc7b67f",
   "metadata": {},
   "source": [
    "Аномалии в данных: 20 детей, отрицательный стаж."
   ]
  },
  {
   "cell_type": "code",
   "execution_count": 5,
   "id": "edb8093e",
   "metadata": {},
   "outputs": [
    {
     "data": {
      "text/plain": [
       "0.4692218350754936"
      ]
     },
     "metadata": {},
     "output_type": "display_data"
    },
    {
     "data": {
      "text/plain": [
       "0.21938013442867813"
      ]
     },
     "metadata": {},
     "output_type": "display_data"
    }
   ],
   "source": [
    "def fix_days_employed(row):  # функция, исправляющая стаж у работающих и не работающих\n",
    "    days_employed = row['days_employed']\n",
    "    income_type = row['income_type']\n",
    "    \n",
    "    if days_employed < 0:\n",
    "        row['days_employed'] = row['days_employed'] * (-1)\n",
    "    \n",
    "    elif (income_type == 'пенсионер') or (income_type == 'безработный'):\n",
    "        row['days_employed'] = row['days_employed'] / 20\n",
    "        days_employed = row['days_employed']\n",
    "        \n",
    "        if ((row['dob_years'] - (row['days_employed'] / 365)) < 18) and (row['dob_years'] != 0):\n",
    "            row['days_employed'] = (row['dob_years'] - 18) * 365\n",
    "            \n",
    "    return row\n",
    "    \n",
    "data = data.apply(fix_days_employed, axis=1) # применение функции ко всему датафрейму по строкам \n",
    "\n",
    "display(len(data[data['dob_years'] == 0]) / len(data) * 100) # количество клиентов с нулевым возрастом \n",
    "                                                             # составляет 0.5% от всего датафрейма\n",
    "data = data[data['dob_years'] != 0] # удаление информации о клиентах с пропущенным возрастом\n",
    "\n",
    "display(len(data[data['children'] == -1]) / len(data) * 100) # количество клиентов с отрицательным\n",
    "                                                             # количеством детей составляет 0,2%\n",
    "data = data[data['children'] != -1] # удаление информации о клиентах с отрицательным количеством детей \n"
   ]
  },
  {
   "cell_type": "markdown",
   "id": "60caa8bb",
   "metadata": {},
   "source": [
    "### Шаг 2.3. Изменение типов данных."
   ]
  },
  {
   "cell_type": "code",
   "execution_count": 6,
   "id": "cf7516f0",
   "metadata": {},
   "outputs": [],
   "source": [
    "# изменение типа данных в столбце 'total_income' с вещественного на целочисленный \n",
    "data['total_income'] = data['total_income'].astype('int') "
   ]
  },
  {
   "cell_type": "markdown",
   "id": "e8f054a9",
   "metadata": {},
   "source": [
    "### Шаг 2.4. Удаление дубликатов.\n",
    "Скорее всего дубликаты появились из-за некорректного заполнения датафрейма (без обращения к ТЗ)."
   ]
  },
  {
   "cell_type": "code",
   "execution_count": 6,
   "id": "5ec33604",
   "metadata": {},
   "outputs": [
    {
     "data": {
      "text/plain": [
       "среднее                13750\n",
       "высшее                  4718\n",
       "СРЕДНЕЕ                  772\n",
       "Среднее                  711\n",
       "неоконченное высшее      668\n",
       "ВЫСШЕЕ                   274\n",
       "Высшее                   268\n",
       "начальное                250\n",
       "Неоконченное высшее       47\n",
       "НЕОКОНЧЕННОЕ ВЫСШЕЕ       29\n",
       "НАЧАЛЬНОЕ                 17\n",
       "Начальное                 15\n",
       "ученая степень             4\n",
       "Ученая степень             1\n",
       "УЧЕНАЯ СТЕПЕНЬ             1\n",
       "Name: education, dtype: int64"
      ]
     },
     "metadata": {},
     "output_type": "display_data"
    },
    {
     "data": {
      "text/plain": [
       "71"
      ]
     },
     "metadata": {},
     "output_type": "display_data"
    },
    {
     "data": {
      "text/plain": [
       "среднее                15172\n",
       "высшее                  5250\n",
       "неоконченное высшее      744\n",
       "начальное                282\n",
       "ученая степень             6\n",
       "Name: education, dtype: int64"
      ]
     },
     "metadata": {},
     "output_type": "display_data"
    }
   ],
   "source": [
    "# все значения столбца 'education'\n",
    "display(data['education'].value_counts()) \n",
    "\n",
    "# приведение значений к нижнему регистру\n",
    "data['education'] = data['education'].str.lower() \n",
    "\n",
    "# подсчет количества дубликатов\n",
    "display(data.duplicated().sum())  \n",
    "\n",
    " # удаление дубликатов с формированием новых индексов\n",
    "data = data.drop_duplicates().reset_index(drop=True)\n",
    "\n",
    "# повторная проверка столбца на наличие дубликатов\n",
    "display(data['education'].value_counts()) "
   ]
  },
  {
   "cell_type": "markdown",
   "id": "dc1f5783",
   "metadata": {},
   "source": [
    "### Шаг 2.5. Формирование дополнительных датафреймов словарей, декомпозиция исходного датафрейма."
   ]
  },
  {
   "cell_type": "code",
   "execution_count": 7,
   "id": "9a505abb",
   "metadata": {},
   "outputs": [
    {
     "data": {
      "text/html": [
       "<div>\n",
       "<style scoped>\n",
       "    .dataframe tbody tr th:only-of-type {\n",
       "        vertical-align: middle;\n",
       "    }\n",
       "\n",
       "    .dataframe tbody tr th {\n",
       "        vertical-align: top;\n",
       "    }\n",
       "\n",
       "    .dataframe thead th {\n",
       "        text-align: right;\n",
       "    }\n",
       "</style>\n",
       "<table border=\"1\" class=\"dataframe\">\n",
       "  <thead>\n",
       "    <tr style=\"text-align: right;\">\n",
       "      <th></th>\n",
       "      <th>education</th>\n",
       "      <th>education_id</th>\n",
       "    </tr>\n",
       "  </thead>\n",
       "  <tbody>\n",
       "    <tr>\n",
       "      <th>0</th>\n",
       "      <td>высшее</td>\n",
       "      <td>0</td>\n",
       "    </tr>\n",
       "    <tr>\n",
       "      <th>1</th>\n",
       "      <td>среднее</td>\n",
       "      <td>1</td>\n",
       "    </tr>\n",
       "    <tr>\n",
       "      <th>2</th>\n",
       "      <td>неоконченное высшее</td>\n",
       "      <td>2</td>\n",
       "    </tr>\n",
       "    <tr>\n",
       "      <th>3</th>\n",
       "      <td>начальное</td>\n",
       "      <td>3</td>\n",
       "    </tr>\n",
       "    <tr>\n",
       "      <th>4</th>\n",
       "      <td>ученая степень</td>\n",
       "      <td>4</td>\n",
       "    </tr>\n",
       "  </tbody>\n",
       "</table>\n",
       "</div>"
      ],
      "text/plain": [
       "             education  education_id\n",
       "0               высшее             0\n",
       "1              среднее             1\n",
       "2  неоконченное высшее             2\n",
       "3            начальное             3\n",
       "4       ученая степень             4"
      ]
     },
     "metadata": {},
     "output_type": "display_data"
    },
    {
     "data": {
      "text/html": [
       "<div>\n",
       "<style scoped>\n",
       "    .dataframe tbody tr th:only-of-type {\n",
       "        vertical-align: middle;\n",
       "    }\n",
       "\n",
       "    .dataframe tbody tr th {\n",
       "        vertical-align: top;\n",
       "    }\n",
       "\n",
       "    .dataframe thead th {\n",
       "        text-align: right;\n",
       "    }\n",
       "</style>\n",
       "<table border=\"1\" class=\"dataframe\">\n",
       "  <thead>\n",
       "    <tr style=\"text-align: right;\">\n",
       "      <th></th>\n",
       "      <th>family_status</th>\n",
       "      <th>family_status_id</th>\n",
       "    </tr>\n",
       "  </thead>\n",
       "  <tbody>\n",
       "    <tr>\n",
       "      <th>0</th>\n",
       "      <td>женат / замужем</td>\n",
       "      <td>0</td>\n",
       "    </tr>\n",
       "    <tr>\n",
       "      <th>1</th>\n",
       "      <td>гражданский брак</td>\n",
       "      <td>1</td>\n",
       "    </tr>\n",
       "    <tr>\n",
       "      <th>2</th>\n",
       "      <td>вдовец / вдова</td>\n",
       "      <td>2</td>\n",
       "    </tr>\n",
       "    <tr>\n",
       "      <th>3</th>\n",
       "      <td>в разводе</td>\n",
       "      <td>3</td>\n",
       "    </tr>\n",
       "    <tr>\n",
       "      <th>4</th>\n",
       "      <td>Не женат / не замужем</td>\n",
       "      <td>4</td>\n",
       "    </tr>\n",
       "  </tbody>\n",
       "</table>\n",
       "</div>"
      ],
      "text/plain": [
       "           family_status  family_status_id\n",
       "0        женат / замужем                 0\n",
       "1       гражданский брак                 1\n",
       "2         вдовец / вдова                 2\n",
       "3              в разводе                 3\n",
       "4  Не женат / не замужем                 4"
      ]
     },
     "metadata": {},
     "output_type": "display_data"
    }
   ],
   "source": [
    "data_education = pd.DataFrame({'education':data['education'], 'education_id':data['education_id']}).drop_duplicates().reset_index(drop=True)\n",
    "display(data_education)\n",
    "\n",
    "data_family = pd.DataFrame({'family_status':data['family_status'], 'family_status_id':data['family_status_id']}).drop_duplicates().reset_index(drop=True)\n",
    "display(data_family)\n",
    "\n",
    "data = data.drop(columns=['education', 'family_status'], axis=1) # удаление столбцов 'education', 'family_status'"
   ]
  },
  {
   "cell_type": "markdown",
   "id": "117ea7bd",
   "metadata": {},
   "source": [
    "### Шаг 2.6. Категоризация дохода."
   ]
  },
  {
   "cell_type": "code",
   "execution_count": 8,
   "id": "bf0272d5",
   "metadata": {},
   "outputs": [
    {
     "data": {
      "text/html": [
       "<div>\n",
       "<style scoped>\n",
       "    .dataframe tbody tr th:only-of-type {\n",
       "        vertical-align: middle;\n",
       "    }\n",
       "\n",
       "    .dataframe tbody tr th {\n",
       "        vertical-align: top;\n",
       "    }\n",
       "\n",
       "    .dataframe thead th {\n",
       "        text-align: right;\n",
       "    }\n",
       "</style>\n",
       "<table border=\"1\" class=\"dataframe\">\n",
       "  <thead>\n",
       "    <tr style=\"text-align: right;\">\n",
       "      <th></th>\n",
       "      <th>children</th>\n",
       "      <th>days_employed</th>\n",
       "      <th>dob_years</th>\n",
       "      <th>education_id</th>\n",
       "      <th>family_status_id</th>\n",
       "      <th>gender</th>\n",
       "      <th>income_type</th>\n",
       "      <th>debt</th>\n",
       "      <th>total_income</th>\n",
       "      <th>purpose</th>\n",
       "      <th>total_income_category</th>\n",
       "    </tr>\n",
       "  </thead>\n",
       "  <tbody>\n",
       "    <tr>\n",
       "      <th>0</th>\n",
       "      <td>1</td>\n",
       "      <td>-8437.673028</td>\n",
       "      <td>42</td>\n",
       "      <td>0</td>\n",
       "      <td>0</td>\n",
       "      <td>F</td>\n",
       "      <td>сотрудник</td>\n",
       "      <td>0</td>\n",
       "      <td>253875.639453</td>\n",
       "      <td>покупка жилья</td>\n",
       "      <td>B</td>\n",
       "    </tr>\n",
       "    <tr>\n",
       "      <th>1</th>\n",
       "      <td>1</td>\n",
       "      <td>-4024.803754</td>\n",
       "      <td>36</td>\n",
       "      <td>1</td>\n",
       "      <td>0</td>\n",
       "      <td>F</td>\n",
       "      <td>сотрудник</td>\n",
       "      <td>0</td>\n",
       "      <td>112080.014102</td>\n",
       "      <td>приобретение автомобиля</td>\n",
       "      <td>C</td>\n",
       "    </tr>\n",
       "    <tr>\n",
       "      <th>2</th>\n",
       "      <td>0</td>\n",
       "      <td>-5623.422610</td>\n",
       "      <td>33</td>\n",
       "      <td>1</td>\n",
       "      <td>0</td>\n",
       "      <td>M</td>\n",
       "      <td>сотрудник</td>\n",
       "      <td>0</td>\n",
       "      <td>145885.952297</td>\n",
       "      <td>покупка жилья</td>\n",
       "      <td>C</td>\n",
       "    </tr>\n",
       "    <tr>\n",
       "      <th>3</th>\n",
       "      <td>3</td>\n",
       "      <td>-4124.747207</td>\n",
       "      <td>32</td>\n",
       "      <td>1</td>\n",
       "      <td>0</td>\n",
       "      <td>M</td>\n",
       "      <td>сотрудник</td>\n",
       "      <td>0</td>\n",
       "      <td>267628.550329</td>\n",
       "      <td>дополнительное образование</td>\n",
       "      <td>B</td>\n",
       "    </tr>\n",
       "    <tr>\n",
       "      <th>4</th>\n",
       "      <td>0</td>\n",
       "      <td>340266.072047</td>\n",
       "      <td>53</td>\n",
       "      <td>1</td>\n",
       "      <td>1</td>\n",
       "      <td>F</td>\n",
       "      <td>пенсионер</td>\n",
       "      <td>0</td>\n",
       "      <td>158616.077870</td>\n",
       "      <td>сыграть свадьбу</td>\n",
       "      <td>C</td>\n",
       "    </tr>\n",
       "    <tr>\n",
       "      <th>...</th>\n",
       "      <td>...</td>\n",
       "      <td>...</td>\n",
       "      <td>...</td>\n",
       "      <td>...</td>\n",
       "      <td>...</td>\n",
       "      <td>...</td>\n",
       "      <td>...</td>\n",
       "      <td>...</td>\n",
       "      <td>...</td>\n",
       "      <td>...</td>\n",
       "      <td>...</td>\n",
       "    </tr>\n",
       "    <tr>\n",
       "      <th>21449</th>\n",
       "      <td>1</td>\n",
       "      <td>-4529.316663</td>\n",
       "      <td>43</td>\n",
       "      <td>1</td>\n",
       "      <td>1</td>\n",
       "      <td>F</td>\n",
       "      <td>компаньон</td>\n",
       "      <td>0</td>\n",
       "      <td>224791.862382</td>\n",
       "      <td>операции с жильем</td>\n",
       "      <td>B</td>\n",
       "    </tr>\n",
       "    <tr>\n",
       "      <th>21450</th>\n",
       "      <td>0</td>\n",
       "      <td>343937.404131</td>\n",
       "      <td>67</td>\n",
       "      <td>1</td>\n",
       "      <td>0</td>\n",
       "      <td>F</td>\n",
       "      <td>пенсионер</td>\n",
       "      <td>0</td>\n",
       "      <td>155999.806512</td>\n",
       "      <td>сделка с автомобилем</td>\n",
       "      <td>C</td>\n",
       "    </tr>\n",
       "    <tr>\n",
       "      <th>21451</th>\n",
       "      <td>1</td>\n",
       "      <td>-2113.346888</td>\n",
       "      <td>38</td>\n",
       "      <td>1</td>\n",
       "      <td>1</td>\n",
       "      <td>M</td>\n",
       "      <td>сотрудник</td>\n",
       "      <td>1</td>\n",
       "      <td>89672.561153</td>\n",
       "      <td>недвижимость</td>\n",
       "      <td>C</td>\n",
       "    </tr>\n",
       "    <tr>\n",
       "      <th>21452</th>\n",
       "      <td>3</td>\n",
       "      <td>-3112.481705</td>\n",
       "      <td>38</td>\n",
       "      <td>1</td>\n",
       "      <td>0</td>\n",
       "      <td>M</td>\n",
       "      <td>сотрудник</td>\n",
       "      <td>1</td>\n",
       "      <td>244093.050500</td>\n",
       "      <td>на покупку своего автомобиля</td>\n",
       "      <td>B</td>\n",
       "    </tr>\n",
       "    <tr>\n",
       "      <th>21453</th>\n",
       "      <td>2</td>\n",
       "      <td>-1984.507589</td>\n",
       "      <td>40</td>\n",
       "      <td>1</td>\n",
       "      <td>0</td>\n",
       "      <td>F</td>\n",
       "      <td>сотрудник</td>\n",
       "      <td>0</td>\n",
       "      <td>82047.418899</td>\n",
       "      <td>на покупку автомобиля</td>\n",
       "      <td>C</td>\n",
       "    </tr>\n",
       "  </tbody>\n",
       "</table>\n",
       "<p>21454 rows × 11 columns</p>\n",
       "</div>"
      ],
      "text/plain": [
       "       children  days_employed  dob_years  education_id  family_status_id  \\\n",
       "0             1   -8437.673028         42             0                 0   \n",
       "1             1   -4024.803754         36             1                 0   \n",
       "2             0   -5623.422610         33             1                 0   \n",
       "3             3   -4124.747207         32             1                 0   \n",
       "4             0  340266.072047         53             1                 1   \n",
       "...         ...            ...        ...           ...               ...   \n",
       "21449         1   -4529.316663         43             1                 1   \n",
       "21450         0  343937.404131         67             1                 0   \n",
       "21451         1   -2113.346888         38             1                 1   \n",
       "21452         3   -3112.481705         38             1                 0   \n",
       "21453         2   -1984.507589         40             1                 0   \n",
       "\n",
       "      gender income_type  debt   total_income                       purpose  \\\n",
       "0          F   сотрудник     0  253875.639453                 покупка жилья   \n",
       "1          F   сотрудник     0  112080.014102       приобретение автомобиля   \n",
       "2          M   сотрудник     0  145885.952297                 покупка жилья   \n",
       "3          M   сотрудник     0  267628.550329    дополнительное образование   \n",
       "4          F   пенсионер     0  158616.077870               сыграть свадьбу   \n",
       "...      ...         ...   ...            ...                           ...   \n",
       "21449      F   компаньон     0  224791.862382             операции с жильем   \n",
       "21450      F   пенсионер     0  155999.806512          сделка с автомобилем   \n",
       "21451      M   сотрудник     1   89672.561153                  недвижимость   \n",
       "21452      M   сотрудник     1  244093.050500  на покупку своего автомобиля   \n",
       "21453      F   сотрудник     0   82047.418899         на покупку автомобиля   \n",
       "\n",
       "      total_income_category  \n",
       "0                         B  \n",
       "1                         C  \n",
       "2                         C  \n",
       "3                         B  \n",
       "4                         C  \n",
       "...                     ...  \n",
       "21449                     B  \n",
       "21450                     C  \n",
       "21451                     C  \n",
       "21452                     B  \n",
       "21453                     C  \n",
       "\n",
       "[21454 rows x 11 columns]"
      ]
     },
     "metadata": {},
     "output_type": "display_data"
    }
   ],
   "source": [
    "def set_total_income_category(row): # функция для определения категории дохода\n",
    "    total_income = row['total_income']\n",
    "    \n",
    "    if (total_income > 0) and (total_income <= 30000):\n",
    "        return 'E'\n",
    "    elif (total_income > 30000) and (total_income <= 50000):\n",
    "        return 'D'\n",
    "    elif (total_income > 50000) and (total_income <= 200000):\n",
    "        return 'C'\n",
    "    elif (total_income > 200000) and (total_income <= 1000000):\n",
    "        return 'B'\n",
    "    elif total_income > 1000000:\n",
    "        return 'A'\n",
    "\n",
    "# применение функции ко всему датафрейму по строкам    \n",
    "data['total_income_category'] = data.apply(set_total_income_category, axis=1) \n",
    "display(data)"
   ]
  },
  {
   "cell_type": "markdown",
   "id": "b4f27976",
   "metadata": {},
   "source": [
    "Пропусков в столбце 'total_income_category' не наблюдается, значит все данные категоризированы."
   ]
  },
  {
   "cell_type": "code",
   "execution_count": 10,
   "id": "0adf459d",
   "metadata": {},
   "outputs": [
    {
     "data": {
      "text/plain": [
       "total_income_category\n",
       "C    15905\n",
       "B     5007\n",
       "D      347\n",
       "A       25\n",
       "E       22\n",
       "dtype: int64"
      ]
     },
     "metadata": {},
     "output_type": "display_data"
    }
   ],
   "source": [
    "display(data.value_counts('total_income_category'))"
   ]
  },
  {
   "cell_type": "markdown",
   "id": "f415ca7f",
   "metadata": {},
   "source": [
    "### Шаг 2.7. Категоризация целей кредита."
   ]
  },
  {
   "cell_type": "code",
   "execution_count": 9,
   "id": "46442290",
   "metadata": {},
   "outputs": [],
   "source": [
    "def set_purpose_category(row): # функция для определения категории операции\n",
    "    purpose = row['purpose']\n",
    "    \n",
    "    if 'автомобил' in purpose:\n",
    "        return 'операции с автомобилем'\n",
    "    elif ('недвижимо' in purpose) or ('жил' in purpose):\n",
    "        return 'операции с недвижимостью'\n",
    "    elif 'свадьб' in purpose:\n",
    "        return 'проведение свадьбы'\n",
    "    elif 'образован' in purpose:\n",
    "        return 'получение образования'\n",
    "\n",
    "# применение функции ко всему датафрейму по строкам\n",
    "data['purpose_category'] = data.apply(set_purpose_category, axis=1) "
   ]
  },
  {
   "cell_type": "markdown",
   "id": "a273ac3b",
   "metadata": {},
   "source": [
    "### Ответы на вопросы."
   ]
  },
  {
   "cell_type": "markdown",
   "id": "e0d4845d",
   "metadata": {},
   "source": [
    "##### Вопрос 1:"
   ]
  },
  {
   "cell_type": "markdown",
   "id": "234658fe",
   "metadata": {},
   "source": [
    "Есть ли зависимость между количеством детей и возвратом кредита в срок?"
   ]
  },
  {
   "cell_type": "markdown",
   "id": "28a21d9d",
   "metadata": {},
   "source": [
    "##### Вывод 1:"
   ]
  },
  {
   "cell_type": "markdown",
   "id": "5851c52c",
   "metadata": {},
   "source": [
    "<b>\n",
    "У людей с детьми и с прошлыми задолжностями, по увеличению количества детей никакого восходящего тренда не наблюдается. Заметно, что в среднем людей с детьми и прошлыми задолжностями больше 1.5-2%\n",
    "</b>"
   ]
  },
  {
   "cell_type": "markdown",
   "id": "7dcfcb97",
   "metadata": {},
   "source": [
    "Первый столбец 'count' показывает количество заемщиков с соответствующим количеством детей, <br>\n",
    "второй столбец 'count_with_debt' показывает количество заемщиков с соответствующим количеством детей и с наличием долга, <br>\n",
    "третий столбец 'percent' показывает процентное соотношение этих двух величин."
   ]
  },
  {
   "cell_type": "code",
   "execution_count": 12,
   "id": "f1d8964e",
   "metadata": {},
   "outputs": [
    {
     "data": {
      "text/html": [
       "<div>\n",
       "<style scoped>\n",
       "    .dataframe tbody tr th:only-of-type {\n",
       "        vertical-align: middle;\n",
       "    }\n",
       "\n",
       "    .dataframe tbody tr th {\n",
       "        vertical-align: top;\n",
       "    }\n",
       "\n",
       "    .dataframe thead th {\n",
       "        text-align: right;\n",
       "    }\n",
       "</style>\n",
       "<table border=\"1\" class=\"dataframe\">\n",
       "  <thead>\n",
       "    <tr style=\"text-align: right;\">\n",
       "      <th></th>\n",
       "      <th>count</th>\n",
       "      <th>count_with_debt</th>\n",
       "      <th>percent</th>\n",
       "    </tr>\n",
       "    <tr>\n",
       "      <th>children</th>\n",
       "      <th></th>\n",
       "      <th></th>\n",
       "      <th></th>\n",
       "    </tr>\n",
       "  </thead>\n",
       "  <tbody>\n",
       "    <tr>\n",
       "      <th>0</th>\n",
       "      <td>14022</td>\n",
       "      <td>1058</td>\n",
       "      <td>7.545286</td>\n",
       "    </tr>\n",
       "    <tr>\n",
       "      <th>1</th>\n",
       "      <td>4792</td>\n",
       "      <td>441</td>\n",
       "      <td>9.202838</td>\n",
       "    </tr>\n",
       "    <tr>\n",
       "      <th>2</th>\n",
       "      <td>2039</td>\n",
       "      <td>194</td>\n",
       "      <td>9.514468</td>\n",
       "    </tr>\n",
       "    <tr>\n",
       "      <th>3</th>\n",
       "      <td>328</td>\n",
       "      <td>27</td>\n",
       "      <td>8.231707</td>\n",
       "    </tr>\n",
       "    <tr>\n",
       "      <th>4</th>\n",
       "      <td>41</td>\n",
       "      <td>4</td>\n",
       "      <td>9.756098</td>\n",
       "    </tr>\n",
       "    <tr>\n",
       "      <th>5</th>\n",
       "      <td>9</td>\n",
       "      <td>0</td>\n",
       "      <td>0.000000</td>\n",
       "    </tr>\n",
       "    <tr>\n",
       "      <th>20</th>\n",
       "      <td>75</td>\n",
       "      <td>8</td>\n",
       "      <td>10.666667</td>\n",
       "    </tr>\n",
       "  </tbody>\n",
       "</table>\n",
       "</div>"
      ],
      "text/plain": [
       "          count  count_with_debt    percent\n",
       "children                                   \n",
       "0         14022             1058   7.545286\n",
       "1          4792              441   9.202838\n",
       "2          2039              194   9.514468\n",
       "3           328               27   8.231707\n",
       "4            41                4   9.756098\n",
       "5             9                0   0.000000\n",
       "20           75                8  10.666667"
      ]
     },
     "metadata": {},
     "output_type": "display_data"
    }
   ],
   "source": [
    "data_res1 = data.pivot_table(index='children', values='debt', aggfunc=['count', 'sum'])\n",
    "\n",
    " # переименование двухэтажных столбцов \n",
    "data_res1.columns = ['count', 'count_with_debt']\n",
    "\n",
    "# вычисление процентного соотношения \n",
    "data_res1['percent'] = data_res1['count_with_debt'] / data_res1['count'] * 100 \n",
    "\n",
    "display(data_res1)"
   ]
  },
  {
   "cell_type": "markdown",
   "id": "7da3028b",
   "metadata": {},
   "source": [
    "##### Вопрос 2:"
   ]
  },
  {
   "cell_type": "markdown",
   "id": "06d9e3a6",
   "metadata": {},
   "source": [
    "Есть ли зависимость между семейным положением и возвратом кредита в срок?"
   ]
  },
  {
   "cell_type": "markdown",
   "id": "5ccdceb7",
   "metadata": {},
   "source": [
    "##### Вывод 2:"
   ]
  },
  {
   "cell_type": "markdown",
   "id": "61640774",
   "metadata": {},
   "source": [
    "<b>\n",
    "Определенной зависимости между семейным положением и наличием прошлых долгов не выявлено\n",
    "</b>"
   ]
  },
  {
   "cell_type": "code",
   "execution_count": 13,
   "id": "68c4fc41",
   "metadata": {},
   "outputs": [
    {
     "data": {
      "text/html": [
       "<div>\n",
       "<style scoped>\n",
       "    .dataframe tbody tr th:only-of-type {\n",
       "        vertical-align: middle;\n",
       "    }\n",
       "\n",
       "    .dataframe tbody tr th {\n",
       "        vertical-align: top;\n",
       "    }\n",
       "\n",
       "    .dataframe thead th {\n",
       "        text-align: right;\n",
       "    }\n",
       "</style>\n",
       "<table border=\"1\" class=\"dataframe\">\n",
       "  <thead>\n",
       "    <tr style=\"text-align: right;\">\n",
       "      <th></th>\n",
       "      <th>count</th>\n",
       "      <th>count_with_debt</th>\n",
       "      <th>percent</th>\n",
       "    </tr>\n",
       "    <tr>\n",
       "      <th>family_status_id</th>\n",
       "      <th></th>\n",
       "      <th></th>\n",
       "      <th></th>\n",
       "    </tr>\n",
       "  </thead>\n",
       "  <tbody>\n",
       "    <tr>\n",
       "      <th>0</th>\n",
       "      <td>12261</td>\n",
       "      <td>926</td>\n",
       "      <td>7.552402</td>\n",
       "    </tr>\n",
       "    <tr>\n",
       "      <th>1</th>\n",
       "      <td>4125</td>\n",
       "      <td>386</td>\n",
       "      <td>9.357576</td>\n",
       "    </tr>\n",
       "    <tr>\n",
       "      <th>2</th>\n",
       "      <td>950</td>\n",
       "      <td>62</td>\n",
       "      <td>6.526316</td>\n",
       "    </tr>\n",
       "    <tr>\n",
       "      <th>3</th>\n",
       "      <td>1181</td>\n",
       "      <td>85</td>\n",
       "      <td>7.197290</td>\n",
       "    </tr>\n",
       "    <tr>\n",
       "      <th>4</th>\n",
       "      <td>2789</td>\n",
       "      <td>273</td>\n",
       "      <td>9.788455</td>\n",
       "    </tr>\n",
       "  </tbody>\n",
       "</table>\n",
       "</div>"
      ],
      "text/plain": [
       "                  count  count_with_debt   percent\n",
       "family_status_id                                  \n",
       "0                 12261              926  7.552402\n",
       "1                  4125              386  9.357576\n",
       "2                   950               62  6.526316\n",
       "3                  1181               85  7.197290\n",
       "4                  2789              273  9.788455"
      ]
     },
     "metadata": {},
     "output_type": "display_data"
    }
   ],
   "source": [
    "data_res1 = data.pivot_table(index='family_status_id', values='debt', aggfunc=['count', 'sum'])\n",
    "data_res1.columns = ['count', 'count_with_debt'] # переименование двухэтажных столбцов \n",
    "data_res1['percent'] = data_res1['count_with_debt'] / data_res1['count'] * 100 # вычисление процентного соотношения \n",
    "\n",
    "display(data_res1)"
   ]
  },
  {
   "cell_type": "markdown",
   "id": "7631f60b",
   "metadata": {},
   "source": [
    "##### Вопрос 3:"
   ]
  },
  {
   "cell_type": "markdown",
   "id": "c35f2be8",
   "metadata": {},
   "source": [
    "Есть ли зависимость между уровнем дохода и возвратом кредита в срок?"
   ]
  },
  {
   "cell_type": "markdown",
   "id": "f178798d",
   "metadata": {},
   "source": [
    "##### Вывод 3:"
   ]
  },
  {
   "cell_type": "markdown",
   "id": "4583f8f2",
   "metadata": {},
   "source": [
    "<b>\n",
    "Люди с доходом менее 30 тысяч имеют наибольшее значение в соотношении 'люди с прошлой задолжностью ко всем людям с таким доходом', что говорит о наименьшей способности к своевременному возврату долга. Самой отвественной группой в этом плане стали люди с доходом от 30 до 50 тысяч (наименьшее значение соотношения). Разброс значений (3%) и отсутствие восходящего или нисходящего тренда показывают, что ярковыраженной зависимости между уровнем дохода и возвратом кредита вовремя нет. \n",
    "</b>"
   ]
  },
  {
   "cell_type": "code",
   "execution_count": 14,
   "id": "2c9ae3d4",
   "metadata": {},
   "outputs": [
    {
     "data": {
      "text/html": [
       "<div>\n",
       "<style scoped>\n",
       "    .dataframe tbody tr th:only-of-type {\n",
       "        vertical-align: middle;\n",
       "    }\n",
       "\n",
       "    .dataframe tbody tr th {\n",
       "        vertical-align: top;\n",
       "    }\n",
       "\n",
       "    .dataframe thead th {\n",
       "        text-align: right;\n",
       "    }\n",
       "</style>\n",
       "<table border=\"1\" class=\"dataframe\">\n",
       "  <thead>\n",
       "    <tr style=\"text-align: right;\">\n",
       "      <th></th>\n",
       "      <th>count</th>\n",
       "      <th>count_with_debt</th>\n",
       "      <th>percent</th>\n",
       "    </tr>\n",
       "    <tr>\n",
       "      <th>total_income_category</th>\n",
       "      <th></th>\n",
       "      <th></th>\n",
       "      <th></th>\n",
       "    </tr>\n",
       "  </thead>\n",
       "  <tbody>\n",
       "    <tr>\n",
       "      <th>A</th>\n",
       "      <td>25</td>\n",
       "      <td>2</td>\n",
       "      <td>8.000000</td>\n",
       "    </tr>\n",
       "    <tr>\n",
       "      <th>B</th>\n",
       "      <td>5007</td>\n",
       "      <td>355</td>\n",
       "      <td>7.090074</td>\n",
       "    </tr>\n",
       "    <tr>\n",
       "      <th>C</th>\n",
       "      <td>15905</td>\n",
       "      <td>1352</td>\n",
       "      <td>8.500472</td>\n",
       "    </tr>\n",
       "    <tr>\n",
       "      <th>D</th>\n",
       "      <td>347</td>\n",
       "      <td>21</td>\n",
       "      <td>6.051873</td>\n",
       "    </tr>\n",
       "    <tr>\n",
       "      <th>E</th>\n",
       "      <td>22</td>\n",
       "      <td>2</td>\n",
       "      <td>9.090909</td>\n",
       "    </tr>\n",
       "  </tbody>\n",
       "</table>\n",
       "</div>"
      ],
      "text/plain": [
       "                       count  count_with_debt   percent\n",
       "total_income_category                                  \n",
       "A                         25                2  8.000000\n",
       "B                       5007              355  7.090074\n",
       "C                      15905             1352  8.500472\n",
       "D                        347               21  6.051873\n",
       "E                         22                2  9.090909"
      ]
     },
     "metadata": {},
     "output_type": "display_data"
    }
   ],
   "source": [
    "data_res1 = data.pivot_table(index='total_income_category', values='debt', aggfunc=['count', 'sum'])\n",
    "data_res1.columns = ['count', 'count_with_debt'] # переименование двухэтажных столбцов \n",
    "data_res1['percent'] = data_res1['count_with_debt'] / data_res1['count'] * 100 # вычисление процентного соотношения \n",
    "\n",
    "display(data_res1)"
   ]
  },
  {
   "cell_type": "markdown",
   "id": "5aefe637",
   "metadata": {},
   "source": [
    "##### Вопрос 4:"
   ]
  },
  {
   "cell_type": "markdown",
   "id": "5fd27864",
   "metadata": {},
   "source": [
    "Как разные цели кредита влияют на его возврат в срок?"
   ]
  },
  {
   "cell_type": "markdown",
   "id": "19937f5a",
   "metadata": {},
   "source": [
    "##### Вывод 4:"
   ]
  },
  {
   "cell_type": "markdown",
   "id": "5ef42699",
   "metadata": {},
   "source": [
    "<b>\n",
    "Клиенты, которые берут кредит с целью получения образования, как и клиенты, которые берут кредит с целью покупки автомобиля в среднем возвращают долги на 1,5-2% реже, чем клиенты, которые берут кредит на проведение свадьбы или с целью покупки недвижимости.\n",
    "</b>"
   ]
  },
  {
   "cell_type": "code",
   "execution_count": 10,
   "id": "a05207dc",
   "metadata": {},
   "outputs": [
    {
     "data": {
      "text/html": [
       "<div>\n",
       "<style scoped>\n",
       "    .dataframe tbody tr th:only-of-type {\n",
       "        vertical-align: middle;\n",
       "    }\n",
       "\n",
       "    .dataframe tbody tr th {\n",
       "        vertical-align: top;\n",
       "    }\n",
       "\n",
       "    .dataframe thead th {\n",
       "        text-align: right;\n",
       "    }\n",
       "</style>\n",
       "<table border=\"1\" class=\"dataframe\">\n",
       "  <thead>\n",
       "    <tr style=\"text-align: right;\">\n",
       "      <th></th>\n",
       "      <th>count</th>\n",
       "      <th>count_with_debt</th>\n",
       "      <th>percent</th>\n",
       "    </tr>\n",
       "    <tr>\n",
       "      <th>purpose_category</th>\n",
       "      <th></th>\n",
       "      <th></th>\n",
       "      <th></th>\n",
       "    </tr>\n",
       "  </thead>\n",
       "  <tbody>\n",
       "    <tr>\n",
       "      <th>операции с автомобилем</th>\n",
       "      <td>4306</td>\n",
       "      <td>403</td>\n",
       "      <td>9.359034</td>\n",
       "    </tr>\n",
       "    <tr>\n",
       "      <th>операции с недвижимостью</th>\n",
       "      <td>10811</td>\n",
       "      <td>782</td>\n",
       "      <td>7.233373</td>\n",
       "    </tr>\n",
       "    <tr>\n",
       "      <th>получение образования</th>\n",
       "      <td>4013</td>\n",
       "      <td>370</td>\n",
       "      <td>9.220035</td>\n",
       "    </tr>\n",
       "    <tr>\n",
       "      <th>проведение свадьбы</th>\n",
       "      <td>2324</td>\n",
       "      <td>186</td>\n",
       "      <td>8.003442</td>\n",
       "    </tr>\n",
       "  </tbody>\n",
       "</table>\n",
       "</div>"
      ],
      "text/plain": [
       "                          count  count_with_debt   percent\n",
       "purpose_category                                          \n",
       "операции с автомобилем     4306              403  9.359034\n",
       "операции с недвижимостью  10811              782  7.233373\n",
       "получение образования      4013              370  9.220035\n",
       "проведение свадьбы         2324              186  8.003442"
      ]
     },
     "metadata": {},
     "output_type": "display_data"
    }
   ],
   "source": [
    "data_res1 = data.pivot_table(index='purpose_category', values='debt', aggfunc=['count', 'sum'])\n",
    "\n",
    "# переименование двухэтажных столбцов \n",
    "data_res1.columns = ['count', 'count_with_debt'] \n",
    "\n",
    "# вычисление процентного соотношения \n",
    "data_res1['percent'] = data_res1['count_with_debt'] / data_res1['count'] * 100 \n",
    "\n",
    "display(data_res1)"
   ]
  },
  {
   "cell_type": "markdown",
   "id": "1618595a",
   "metadata": {},
   "source": [
    "## Общий вывод:"
   ]
  },
  {
   "cell_type": "markdown",
   "id": "f6270d4c",
   "metadata": {},
   "source": [
    "Влияние количества детей на возврат кредита в срок: не выявлено, но заемщики с детьми на 1,5-2% реже отдают кредиты в срок, как следствие,<b> следует понизить кредитный рейтинг людей с детьми</b> <br>\t\t\n",
    "    \n",
    "Овдовевшие люди имеют наибольший процент возврата кредита в срок, <b> им следует повысить кредитный рейтинг </b> <br>\n",
    "    \n",
    "Клиенты с доходом менее 30 тысяч меньше всего способны на возврат кредита в срок, люди с доходом от 30 до 50 тысяч имеют наибольший процент возврата кредита в срок,<b> группе с доходом менее 30 тысяч - понизить кредитный рейтнг, группе с доходом от 30 до 50 тысяч - повысить  </b> <br>\t\n",
    "    \n",
    "Клиентам с целями получения кредита на 'операции с автомобилем', 'получение образования' выявлен наименьший показатель возврата кредита в срок, <b> им следует понизить кредитный рейтинг </b> <br>"
   ]
  }
 ],
 "metadata": {
  "ExecuteTimeLog": [
   {
    "duration": 469,
    "start_time": "2022-03-17T13:34:59.856Z"
   },
   {
    "duration": 97,
    "start_time": "2022-03-17T13:36:43.052Z"
   },
   {
    "duration": 74,
    "start_time": "2022-03-17T13:37:01.602Z"
   },
   {
    "duration": 14,
    "start_time": "2022-03-17T13:37:49.993Z"
   },
   {
    "duration": 14,
    "start_time": "2022-03-17T13:38:00.430Z"
   },
   {
    "duration": 13,
    "start_time": "2022-03-17T13:39:03.864Z"
   },
   {
    "duration": 17,
    "start_time": "2022-03-17T13:39:53.450Z"
   },
   {
    "duration": 17,
    "start_time": "2022-03-17T13:40:00.668Z"
   },
   {
    "duration": 18,
    "start_time": "2022-03-17T13:41:11.449Z"
   },
   {
    "duration": 18,
    "start_time": "2022-03-17T13:41:36.040Z"
   },
   {
    "duration": 25,
    "start_time": "2022-03-17T13:41:40.887Z"
   },
   {
    "duration": 18,
    "start_time": "2022-03-17T13:42:29.114Z"
   },
   {
    "duration": 22,
    "start_time": "2022-03-17T13:42:35.469Z"
   },
   {
    "duration": 15,
    "start_time": "2022-03-17T13:42:45.380Z"
   },
   {
    "duration": 16,
    "start_time": "2022-03-17T13:43:44.788Z"
   },
   {
    "duration": 22,
    "start_time": "2022-03-17T13:45:22.405Z"
   },
   {
    "duration": 16,
    "start_time": "2022-03-17T13:46:41.015Z"
   },
   {
    "duration": 236,
    "start_time": "2022-03-17T13:47:38.958Z"
   },
   {
    "duration": 22,
    "start_time": "2022-03-17T13:48:05.403Z"
   },
   {
    "duration": 24,
    "start_time": "2022-03-17T13:48:23.359Z"
   },
   {
    "duration": 15,
    "start_time": "2022-03-17T13:48:37.778Z"
   },
   {
    "duration": 17,
    "start_time": "2022-03-17T13:48:58.719Z"
   },
   {
    "duration": 18,
    "start_time": "2022-03-17T13:49:15.760Z"
   },
   {
    "duration": 3,
    "start_time": "2022-03-17T13:49:22.874Z"
   },
   {
    "duration": 17,
    "start_time": "2022-03-17T13:49:28.547Z"
   },
   {
    "duration": 17,
    "start_time": "2022-03-17T13:51:22.878Z"
   },
   {
    "duration": 24,
    "start_time": "2022-03-17T13:51:41.479Z"
   },
   {
    "duration": 16,
    "start_time": "2022-03-17T13:52:45.781Z"
   },
   {
    "duration": 20,
    "start_time": "2022-03-17T13:57:18.809Z"
   },
   {
    "duration": 25,
    "start_time": "2022-03-17T14:04:37.507Z"
   },
   {
    "duration": 24,
    "start_time": "2022-03-17T14:04:47.616Z"
   },
   {
    "duration": 19,
    "start_time": "2022-03-17T14:04:55.958Z"
   },
   {
    "duration": 19,
    "start_time": "2022-03-17T14:05:10.635Z"
   },
   {
    "duration": 20,
    "start_time": "2022-03-17T14:05:21.116Z"
   },
   {
    "duration": 26,
    "start_time": "2022-03-17T14:06:00.354Z"
   },
   {
    "duration": 30,
    "start_time": "2022-03-17T14:12:27.483Z"
   },
   {
    "duration": 26,
    "start_time": "2022-03-17T14:12:52.658Z"
   },
   {
    "duration": 24,
    "start_time": "2022-03-17T14:13:28.874Z"
   },
   {
    "duration": 31,
    "start_time": "2022-03-17T14:13:41.596Z"
   },
   {
    "duration": 21,
    "start_time": "2022-03-17T14:15:19.071Z"
   },
   {
    "duration": 26,
    "start_time": "2022-03-17T14:15:47.294Z"
   },
   {
    "duration": 71,
    "start_time": "2022-03-17T14:15:53.341Z"
   },
   {
    "duration": 26,
    "start_time": "2022-03-17T14:15:56.128Z"
   },
   {
    "duration": 29,
    "start_time": "2022-03-17T14:16:24.856Z"
   },
   {
    "duration": 488,
    "start_time": "2022-03-18T15:45:04.073Z"
   },
   {
    "duration": 25,
    "start_time": "2022-03-18T15:45:09.390Z"
   },
   {
    "duration": 129,
    "start_time": "2022-03-18T16:30:56.287Z"
   },
   {
    "duration": 94,
    "start_time": "2022-03-18T16:31:53.164Z"
   },
   {
    "duration": 93,
    "start_time": "2022-03-18T16:33:28.048Z"
   },
   {
    "duration": 102,
    "start_time": "2022-03-18T16:34:20.774Z"
   },
   {
    "duration": 104,
    "start_time": "2022-03-18T16:34:38.254Z"
   },
   {
    "duration": 90,
    "start_time": "2022-03-18T16:34:47.239Z"
   },
   {
    "duration": 98,
    "start_time": "2022-03-18T16:34:59.151Z"
   },
   {
    "duration": 101,
    "start_time": "2022-03-18T16:38:15.529Z"
   },
   {
    "duration": 79,
    "start_time": "2022-03-18T16:38:21.437Z"
   },
   {
    "duration": 73,
    "start_time": "2022-03-18T16:38:39.849Z"
   },
   {
    "duration": 68,
    "start_time": "2022-03-18T16:38:51.825Z"
   },
   {
    "duration": 74,
    "start_time": "2022-03-18T16:38:58.244Z"
   },
   {
    "duration": 244,
    "start_time": "2022-03-18T16:40:08.370Z"
   },
   {
    "duration": 100,
    "start_time": "2022-03-18T16:40:11.866Z"
   },
   {
    "duration": 72,
    "start_time": "2022-03-18T16:40:41.063Z"
   },
   {
    "duration": 76,
    "start_time": "2022-03-18T16:40:44.775Z"
   },
   {
    "duration": 75,
    "start_time": "2022-03-18T16:42:01.635Z"
   },
   {
    "duration": 31,
    "start_time": "2022-03-18T16:42:04.304Z"
   },
   {
    "duration": 84,
    "start_time": "2022-03-18T16:42:15.703Z"
   },
   {
    "duration": 129,
    "start_time": "2022-03-18T16:43:07.403Z"
   },
   {
    "duration": 82,
    "start_time": "2022-03-18T16:43:21.697Z"
   },
   {
    "duration": 87,
    "start_time": "2022-03-18T16:43:32.092Z"
   },
   {
    "duration": 112,
    "start_time": "2022-03-18T16:43:36.911Z"
   },
   {
    "duration": 4,
    "start_time": "2022-03-18T19:00:09.247Z"
   },
   {
    "duration": 71,
    "start_time": "2022-03-18T19:00:25.243Z"
   },
   {
    "duration": 68,
    "start_time": "2022-03-18T19:00:36.703Z"
   },
   {
    "duration": 94,
    "start_time": "2022-03-18T19:05:08.596Z"
   },
   {
    "duration": 99,
    "start_time": "2022-03-18T19:05:33.775Z"
   },
   {
    "duration": 76,
    "start_time": "2022-03-18T19:06:04.161Z"
   },
   {
    "duration": 74,
    "start_time": "2022-03-18T19:06:21.961Z"
   },
   {
    "duration": 69,
    "start_time": "2022-03-18T19:07:49.258Z"
   },
   {
    "duration": 74,
    "start_time": "2022-03-18T19:08:48.247Z"
   },
   {
    "duration": 94,
    "start_time": "2022-03-18T19:09:11.739Z"
   },
   {
    "duration": 78,
    "start_time": "2022-03-18T19:09:28.310Z"
   },
   {
    "duration": 73,
    "start_time": "2022-03-18T19:09:36.983Z"
   },
   {
    "duration": 82,
    "start_time": "2022-03-18T19:09:44.789Z"
   },
   {
    "duration": 76,
    "start_time": "2022-03-18T19:09:57.766Z"
   },
   {
    "duration": 80,
    "start_time": "2022-03-18T19:10:12.615Z"
   },
   {
    "duration": 86,
    "start_time": "2022-03-18T19:15:15.728Z"
   },
   {
    "duration": 89,
    "start_time": "2022-03-18T19:15:22.928Z"
   },
   {
    "duration": 89,
    "start_time": "2022-03-18T19:15:42.070Z"
   },
   {
    "duration": 112,
    "start_time": "2022-03-18T19:22:04.361Z"
   },
   {
    "duration": 99,
    "start_time": "2022-03-18T19:23:16.289Z"
   },
   {
    "duration": 83,
    "start_time": "2022-03-18T19:24:13.069Z"
   },
   {
    "duration": 77,
    "start_time": "2022-03-18T19:26:49.831Z"
   },
   {
    "duration": 76,
    "start_time": "2022-03-18T19:26:56.094Z"
   },
   {
    "duration": 73,
    "start_time": "2022-03-18T19:26:59.791Z"
   },
   {
    "duration": 87,
    "start_time": "2022-03-18T19:27:05.904Z"
   },
   {
    "duration": 74,
    "start_time": "2022-03-18T19:27:12.333Z"
   },
   {
    "duration": 87,
    "start_time": "2022-03-18T19:27:16.180Z"
   },
   {
    "duration": 93,
    "start_time": "2022-03-18T19:27:18.697Z"
   },
   {
    "duration": 87,
    "start_time": "2022-03-18T19:34:17.104Z"
   },
   {
    "duration": 88,
    "start_time": "2022-03-18T19:34:34.004Z"
   },
   {
    "duration": 78,
    "start_time": "2022-03-18T19:34:48.331Z"
   },
   {
    "duration": 26,
    "start_time": "2022-03-18T19:34:51.053Z"
   },
   {
    "duration": 587,
    "start_time": "2022-03-19T12:47:41.737Z"
   },
   {
    "duration": 90,
    "start_time": "2022-03-19T12:56:31.567Z"
   },
   {
    "duration": 75,
    "start_time": "2022-03-19T12:56:37.163Z"
   },
   {
    "duration": 66,
    "start_time": "2022-03-19T12:56:44.583Z"
   },
   {
    "duration": 71,
    "start_time": "2022-03-19T14:29:18.084Z"
   },
   {
    "duration": 23,
    "start_time": "2022-03-19T14:29:20.448Z"
   },
   {
    "duration": 4,
    "start_time": "2022-03-19T16:20:03.479Z"
   },
   {
    "duration": 1347,
    "start_time": "2022-03-19T16:23:01.082Z"
   },
   {
    "duration": 1353,
    "start_time": "2022-03-19T16:23:07.669Z"
   },
   {
    "duration": 66,
    "start_time": "2022-03-19T16:24:13.478Z"
   },
   {
    "duration": 1337,
    "start_time": "2022-03-19T16:24:17.970Z"
   },
   {
    "duration": 871,
    "start_time": "2022-03-19T16:25:15.718Z"
   },
   {
    "duration": 918,
    "start_time": "2022-03-19T16:25:20.784Z"
   },
   {
    "duration": 872,
    "start_time": "2022-03-19T16:25:30.901Z"
   },
   {
    "duration": 216,
    "start_time": "2022-03-19T16:25:47.070Z"
   },
   {
    "duration": 891,
    "start_time": "2022-03-19T16:25:52.534Z"
   },
   {
    "duration": 952,
    "start_time": "2022-03-19T16:26:12.315Z"
   },
   {
    "duration": 943,
    "start_time": "2022-03-19T16:27:21.685Z"
   },
   {
    "duration": 1317,
    "start_time": "2022-03-19T16:27:34.913Z"
   },
   {
    "duration": 399,
    "start_time": "2022-03-19T16:28:08.979Z"
   },
   {
    "duration": 873,
    "start_time": "2022-03-19T16:28:20.078Z"
   },
   {
    "duration": 967,
    "start_time": "2022-03-19T16:28:29.901Z"
   },
   {
    "duration": 71,
    "start_time": "2022-03-19T16:28:35.167Z"
   },
   {
    "duration": 25,
    "start_time": "2022-03-19T16:28:37.530Z"
   },
   {
    "duration": 1335,
    "start_time": "2022-03-19T16:28:40.351Z"
   },
   {
    "duration": 12,
    "start_time": "2022-03-19T16:30:02.394Z"
   },
   {
    "duration": 1092,
    "start_time": "2022-03-19T16:30:37.904Z"
   },
   {
    "duration": 75,
    "start_time": "2022-03-19T16:31:22.229Z"
   },
   {
    "duration": 21,
    "start_time": "2022-03-19T16:31:24.340Z"
   },
   {
    "duration": 11,
    "start_time": "2022-03-19T16:31:26.526Z"
   },
   {
    "duration": 73,
    "start_time": "2022-03-19T16:32:55.857Z"
   },
   {
    "duration": 24,
    "start_time": "2022-03-19T16:32:58.530Z"
   },
   {
    "duration": 1397,
    "start_time": "2022-03-19T16:33:04.754Z"
   },
   {
    "duration": 78,
    "start_time": "2022-03-19T16:51:33.871Z"
   },
   {
    "duration": 25,
    "start_time": "2022-03-19T16:51:35.845Z"
   },
   {
    "duration": 82,
    "start_time": "2022-03-19T16:53:49.782Z"
   },
   {
    "duration": 1451,
    "start_time": "2022-03-19T16:58:23.865Z"
   },
   {
    "duration": 83,
    "start_time": "2022-03-19T16:58:41.055Z"
   },
   {
    "duration": 72,
    "start_time": "2022-03-19T16:58:45.678Z"
   },
   {
    "duration": 23,
    "start_time": "2022-03-19T16:58:48.678Z"
   },
   {
    "duration": 1323,
    "start_time": "2022-03-19T16:58:51.076Z"
   },
   {
    "duration": 1311,
    "start_time": "2022-03-19T17:01:49.773Z"
   },
   {
    "duration": 1443,
    "start_time": "2022-03-19T17:04:05.638Z"
   },
   {
    "duration": 1331,
    "start_time": "2022-03-19T17:04:27.665Z"
   },
   {
    "duration": 92,
    "start_time": "2022-03-19T17:05:49.246Z"
   },
   {
    "duration": 23,
    "start_time": "2022-03-19T17:05:52.354Z"
   },
   {
    "duration": 1312,
    "start_time": "2022-03-19T17:05:55.140Z"
   },
   {
    "duration": 1325,
    "start_time": "2022-03-19T17:06:23.403Z"
   },
   {
    "duration": 74,
    "start_time": "2022-03-19T17:07:57.386Z"
   },
   {
    "duration": 75,
    "start_time": "2022-03-19T17:08:03.834Z"
   },
   {
    "duration": 25,
    "start_time": "2022-03-19T17:08:06.041Z"
   },
   {
    "duration": 1247,
    "start_time": "2022-03-19T17:08:13.109Z"
   },
   {
    "duration": 1005,
    "start_time": "2022-03-19T17:09:05.090Z"
   },
   {
    "duration": 1066,
    "start_time": "2022-03-19T17:09:39.856Z"
   },
   {
    "duration": 974,
    "start_time": "2022-03-19T17:10:20.353Z"
   },
   {
    "duration": 970,
    "start_time": "2022-03-19T17:11:07.345Z"
   },
   {
    "duration": 1014,
    "start_time": "2022-03-19T17:11:11.823Z"
   },
   {
    "duration": 987,
    "start_time": "2022-03-19T17:11:16.095Z"
   },
   {
    "duration": 1049,
    "start_time": "2022-03-19T17:11:20.393Z"
   },
   {
    "duration": 1054,
    "start_time": "2022-03-19T17:11:30.464Z"
   },
   {
    "duration": 993,
    "start_time": "2022-03-19T17:12:02.017Z"
   },
   {
    "duration": 189,
    "start_time": "2022-03-19T17:13:16.580Z"
   },
   {
    "duration": 1168,
    "start_time": "2022-03-19T17:13:31.499Z"
   },
   {
    "duration": 77,
    "start_time": "2022-03-19T17:14:00.186Z"
   },
   {
    "duration": 23,
    "start_time": "2022-03-19T17:14:02.406Z"
   },
   {
    "duration": 1332,
    "start_time": "2022-03-19T17:14:04.337Z"
   },
   {
    "duration": 75,
    "start_time": "2022-03-19T17:18:35.678Z"
   },
   {
    "duration": 22,
    "start_time": "2022-03-19T17:18:38.495Z"
   },
   {
    "duration": 1354,
    "start_time": "2022-03-19T17:18:41.513Z"
   },
   {
    "duration": 1166,
    "start_time": "2022-03-19T17:19:34.753Z"
   },
   {
    "duration": 1219,
    "start_time": "2022-03-19T17:20:13.941Z"
   },
   {
    "duration": 1191,
    "start_time": "2022-03-19T18:35:09.434Z"
   },
   {
    "duration": 196,
    "start_time": "2022-03-19T18:35:23.807Z"
   },
   {
    "duration": 1248,
    "start_time": "2022-03-19T18:35:31.999Z"
   },
   {
    "duration": 1168,
    "start_time": "2022-03-19T18:36:07.370Z"
   },
   {
    "duration": 75,
    "start_time": "2022-03-19T18:36:19.722Z"
   },
   {
    "duration": 21,
    "start_time": "2022-03-19T18:36:22.794Z"
   },
   {
    "duration": 1441,
    "start_time": "2022-03-19T18:36:25.356Z"
   },
   {
    "duration": 1253,
    "start_time": "2022-03-19T18:37:34.256Z"
   },
   {
    "duration": 82,
    "start_time": "2022-03-19T18:37:43.371Z"
   },
   {
    "duration": 32,
    "start_time": "2022-03-19T18:37:45.982Z"
   },
   {
    "duration": 1466,
    "start_time": "2022-03-19T18:37:49.100Z"
   },
   {
    "duration": 26,
    "start_time": "2022-03-19T18:38:45.847Z"
   },
   {
    "duration": 74,
    "start_time": "2022-03-19T18:39:06.003Z"
   },
   {
    "duration": 30,
    "start_time": "2022-03-19T18:39:08.362Z"
   },
   {
    "duration": 1484,
    "start_time": "2022-03-19T18:39:11.172Z"
   },
   {
    "duration": 81,
    "start_time": "2022-03-19T18:39:21.824Z"
   },
   {
    "duration": 23,
    "start_time": "2022-03-19T18:39:23.919Z"
   },
   {
    "duration": 1485,
    "start_time": "2022-03-19T18:39:27.997Z"
   },
   {
    "duration": 79,
    "start_time": "2022-03-19T18:42:01.975Z"
   },
   {
    "duration": 22,
    "start_time": "2022-03-19T18:42:08.898Z"
   },
   {
    "duration": 1685,
    "start_time": "2022-03-19T18:42:11.911Z"
   },
   {
    "duration": 3592,
    "start_time": "2022-03-19T18:42:57.158Z"
   },
   {
    "duration": 79,
    "start_time": "2022-03-19T18:43:45.854Z"
   },
   {
    "duration": 77,
    "start_time": "2022-03-19T18:47:36.102Z"
   },
   {
    "duration": 24,
    "start_time": "2022-03-19T18:47:38.598Z"
   },
   {
    "duration": 1502,
    "start_time": "2022-03-19T18:47:41.667Z"
   },
   {
    "duration": 1165,
    "start_time": "2022-03-19T18:48:04.199Z"
   },
   {
    "duration": 1146,
    "start_time": "2022-03-19T18:48:13.525Z"
   },
   {
    "duration": 1236,
    "start_time": "2022-03-19T18:52:40.838Z"
   },
   {
    "duration": 1135,
    "start_time": "2022-03-19T18:54:12.311Z"
   },
   {
    "duration": 1215,
    "start_time": "2022-03-19T18:54:18.831Z"
   },
   {
    "duration": 1171,
    "start_time": "2022-03-19T18:54:24.703Z"
   },
   {
    "duration": 1191,
    "start_time": "2022-03-19T18:54:29.621Z"
   },
   {
    "duration": 1295,
    "start_time": "2022-03-19T18:54:35.091Z"
   },
   {
    "duration": 1193,
    "start_time": "2022-03-19T18:56:02.700Z"
   },
   {
    "duration": 1203,
    "start_time": "2022-03-19T18:56:05.737Z"
   },
   {
    "duration": 1195,
    "start_time": "2022-03-19T18:56:31.358Z"
   },
   {
    "duration": 1163,
    "start_time": "2022-03-19T18:56:40.218Z"
   },
   {
    "duration": 1230,
    "start_time": "2022-03-19T18:56:46.398Z"
   },
   {
    "duration": 1170,
    "start_time": "2022-03-19T18:57:04.136Z"
   },
   {
    "duration": 1151,
    "start_time": "2022-03-19T18:57:08.633Z"
   },
   {
    "duration": 1216,
    "start_time": "2022-03-19T18:57:16.612Z"
   },
   {
    "duration": 1242,
    "start_time": "2022-03-19T18:57:20.856Z"
   },
   {
    "duration": 1248,
    "start_time": "2022-03-19T18:57:49.436Z"
   },
   {
    "duration": 1244,
    "start_time": "2022-03-19T18:58:04.766Z"
   },
   {
    "duration": 1255,
    "start_time": "2022-03-19T18:58:45.634Z"
   },
   {
    "duration": 1167,
    "start_time": "2022-03-19T18:58:57.767Z"
   },
   {
    "duration": 1234,
    "start_time": "2022-03-19T18:59:58.104Z"
   },
   {
    "duration": 1291,
    "start_time": "2022-03-19T19:02:58.580Z"
   },
   {
    "duration": 91,
    "start_time": "2022-03-19T19:03:55.913Z"
   },
   {
    "duration": 21,
    "start_time": "2022-03-19T19:04:02.958Z"
   },
   {
    "duration": 1463,
    "start_time": "2022-03-19T19:04:07.540Z"
   },
   {
    "duration": 1226,
    "start_time": "2022-03-19T19:04:21.204Z"
   },
   {
    "duration": 73,
    "start_time": "2022-03-19T19:04:30.809Z"
   },
   {
    "duration": 23,
    "start_time": "2022-03-19T19:04:33.295Z"
   },
   {
    "duration": 1655,
    "start_time": "2022-03-19T19:04:35.241Z"
   },
   {
    "duration": 571,
    "start_time": "2022-03-20T15:24:46.501Z"
   },
   {
    "duration": 36,
    "start_time": "2022-03-20T15:24:51.593Z"
   },
   {
    "duration": 3456,
    "start_time": "2022-03-20T15:24:57.747Z"
   },
   {
    "duration": 2079,
    "start_time": "2022-03-20T15:25:55.810Z"
   },
   {
    "duration": 101,
    "start_time": "2022-03-20T15:26:44.901Z"
   },
   {
    "duration": 96,
    "start_time": "2022-03-20T15:26:48.865Z"
   },
   {
    "duration": 37,
    "start_time": "2022-03-20T15:26:53.585Z"
   },
   {
    "duration": 2730,
    "start_time": "2022-03-20T15:27:03.069Z"
   },
   {
    "duration": 15,
    "start_time": "2022-03-20T15:27:11.593Z"
   },
   {
    "duration": 98,
    "start_time": "2022-03-20T15:27:36.348Z"
   },
   {
    "duration": 9,
    "start_time": "2022-03-20T17:13:36.832Z"
   },
   {
    "duration": 29,
    "start_time": "2022-03-20T17:13:49.720Z"
   },
   {
    "duration": 21,
    "start_time": "2022-03-20T17:14:08.059Z"
   },
   {
    "duration": 22,
    "start_time": "2022-03-20T17:14:24.839Z"
   },
   {
    "duration": 6,
    "start_time": "2022-03-20T17:14:32.883Z"
   },
   {
    "duration": 94,
    "start_time": "2022-03-20T17:14:46.216Z"
   },
   {
    "duration": 33,
    "start_time": "2022-03-20T17:14:49.279Z"
   },
   {
    "duration": 2687,
    "start_time": "2022-03-20T17:14:52.896Z"
   },
   {
    "duration": 5,
    "start_time": "2022-03-20T17:14:57.403Z"
   },
   {
    "duration": 26,
    "start_time": "2022-03-20T17:16:00.795Z"
   },
   {
    "duration": 29,
    "start_time": "2022-03-20T17:16:14.529Z"
   },
   {
    "duration": 64,
    "start_time": "2022-03-20T17:16:46.851Z"
   },
   {
    "duration": 72,
    "start_time": "2022-03-20T17:16:50.503Z"
   },
   {
    "duration": 81,
    "start_time": "2022-03-20T17:16:58.713Z"
   },
   {
    "duration": 87,
    "start_time": "2022-03-20T17:17:01.825Z"
   },
   {
    "duration": 104,
    "start_time": "2022-03-20T17:17:10.511Z"
   },
   {
    "duration": 32,
    "start_time": "2022-03-20T17:17:13.202Z"
   },
   {
    "duration": 2757,
    "start_time": "2022-03-20T17:17:16.044Z"
   },
   {
    "duration": 6,
    "start_time": "2022-03-20T17:17:20.155Z"
   },
   {
    "duration": 84,
    "start_time": "2022-03-20T17:17:41.388Z"
   },
   {
    "duration": 71,
    "start_time": "2022-03-20T17:18:02.670Z"
   },
   {
    "duration": 76,
    "start_time": "2022-03-20T17:18:53.739Z"
   },
   {
    "duration": 77,
    "start_time": "2022-03-20T17:19:09.479Z"
   },
   {
    "duration": 77,
    "start_time": "2022-03-20T17:19:19.318Z"
   },
   {
    "duration": 74,
    "start_time": "2022-03-20T17:19:32.997Z"
   },
   {
    "duration": 74,
    "start_time": "2022-03-20T17:19:51.033Z"
   },
   {
    "duration": 76,
    "start_time": "2022-03-20T17:22:03.723Z"
   },
   {
    "duration": 78,
    "start_time": "2022-03-20T17:22:19.896Z"
   },
   {
    "duration": 74,
    "start_time": "2022-03-20T17:23:23.740Z"
   },
   {
    "duration": 74,
    "start_time": "2022-03-20T17:23:33.902Z"
   },
   {
    "duration": 53,
    "start_time": "2022-03-20T17:23:37.197Z"
   },
   {
    "duration": 65,
    "start_time": "2022-03-20T17:24:39.068Z"
   },
   {
    "duration": 71,
    "start_time": "2022-03-20T17:24:51.811Z"
   },
   {
    "duration": 68,
    "start_time": "2022-03-20T17:25:10.537Z"
   },
   {
    "duration": 92,
    "start_time": "2022-03-20T17:25:17.761Z"
   },
   {
    "duration": 32,
    "start_time": "2022-03-20T17:25:20.188Z"
   },
   {
    "duration": 2767,
    "start_time": "2022-03-20T17:25:23.229Z"
   },
   {
    "duration": 5,
    "start_time": "2022-03-20T17:25:27.301Z"
   },
   {
    "duration": 72,
    "start_time": "2022-03-20T17:25:36.852Z"
   },
   {
    "duration": 58,
    "start_time": "2022-03-20T17:31:03.897Z"
   },
   {
    "duration": 100,
    "start_time": "2022-03-20T17:31:07.567Z"
   },
   {
    "duration": 32,
    "start_time": "2022-03-20T17:31:12.806Z"
   },
   {
    "duration": 66,
    "start_time": "2022-03-20T18:20:27.276Z"
   },
   {
    "duration": 107,
    "start_time": "2022-03-20T18:21:15.343Z"
   },
   {
    "duration": 164,
    "start_time": "2022-03-20T18:21:35.362Z"
   },
   {
    "duration": 149,
    "start_time": "2022-03-20T18:21:48.547Z"
   },
   {
    "duration": 148,
    "start_time": "2022-03-20T18:22:09.085Z"
   },
   {
    "duration": 98,
    "start_time": "2022-03-20T18:23:12.505Z"
   },
   {
    "duration": 34,
    "start_time": "2022-03-20T18:23:14.972Z"
   },
   {
    "duration": 2720,
    "start_time": "2022-03-20T18:23:17.929Z"
   },
   {
    "duration": 5,
    "start_time": "2022-03-20T18:23:22.095Z"
   },
   {
    "duration": 123,
    "start_time": "2022-03-20T18:23:24.111Z"
   },
   {
    "duration": 3833,
    "start_time": "2022-03-20T18:27:39.694Z"
   },
   {
    "duration": 2480,
    "start_time": "2022-03-20T18:27:55.604Z"
   },
   {
    "duration": 94,
    "start_time": "2022-03-20T18:28:55.264Z"
   },
   {
    "duration": 37,
    "start_time": "2022-03-20T18:28:57.644Z"
   },
   {
    "duration": 2688,
    "start_time": "2022-03-20T18:29:01.133Z"
   },
   {
    "duration": 88,
    "start_time": "2022-03-20T18:29:34.505Z"
   },
   {
    "duration": 31,
    "start_time": "2022-03-20T18:29:36.563Z"
   },
   {
    "duration": 2791,
    "start_time": "2022-03-20T18:29:39.293Z"
   },
   {
    "duration": 5,
    "start_time": "2022-03-20T18:30:02.721Z"
   },
   {
    "duration": 19,
    "start_time": "2022-03-20T18:30:07.324Z"
   },
   {
    "duration": 89,
    "start_time": "2022-03-20T18:30:55.232Z"
   },
   {
    "duration": 33,
    "start_time": "2022-03-20T18:30:58.012Z"
   },
   {
    "duration": 2987,
    "start_time": "2022-03-20T18:31:01.155Z"
   },
   {
    "duration": 6,
    "start_time": "2022-03-20T18:31:06.317Z"
   },
   {
    "duration": 76,
    "start_time": "2022-03-20T18:31:10.226Z"
   },
   {
    "duration": 77,
    "start_time": "2022-03-20T18:32:09.770Z"
   },
   {
    "duration": 67,
    "start_time": "2022-03-20T18:32:25.348Z"
   },
   {
    "duration": 90,
    "start_time": "2022-03-20T18:32:29.339Z"
   },
   {
    "duration": 38,
    "start_time": "2022-03-20T18:32:32.335Z"
   },
   {
    "duration": 94,
    "start_time": "2022-03-20T18:32:48.597Z"
   },
   {
    "duration": 33,
    "start_time": "2022-03-20T18:32:56.528Z"
   },
   {
    "duration": 92,
    "start_time": "2022-03-20T18:34:13.846Z"
   },
   {
    "duration": 30,
    "start_time": "2022-03-20T18:34:16.712Z"
   },
   {
    "duration": 2791,
    "start_time": "2022-03-20T18:34:25.819Z"
   },
   {
    "duration": 6,
    "start_time": "2022-03-20T18:34:30.825Z"
   },
   {
    "duration": 72,
    "start_time": "2022-03-20T18:34:34.107Z"
   },
   {
    "duration": 97,
    "start_time": "2022-03-20T18:35:24.633Z"
   },
   {
    "duration": 29,
    "start_time": "2022-03-20T18:35:26.994Z"
   },
   {
    "duration": 2832,
    "start_time": "2022-03-20T18:35:28.935Z"
   },
   {
    "duration": 5,
    "start_time": "2022-03-20T18:35:34.207Z"
   },
   {
    "duration": 78,
    "start_time": "2022-03-20T18:35:36.789Z"
   },
   {
    "duration": 95,
    "start_time": "2022-03-20T18:45:23.736Z"
   },
   {
    "duration": 30,
    "start_time": "2022-03-20T18:45:25.988Z"
   },
   {
    "duration": 2969,
    "start_time": "2022-03-20T18:45:27.949Z"
   },
   {
    "duration": 6,
    "start_time": "2022-03-20T18:45:30.920Z"
   },
   {
    "duration": 74,
    "start_time": "2022-03-20T18:45:36.258Z"
   },
   {
    "duration": 15,
    "start_time": "2022-03-20T18:56:55.030Z"
   },
   {
    "duration": 21,
    "start_time": "2022-03-20T18:57:05.652Z"
   },
   {
    "duration": 22,
    "start_time": "2022-03-20T18:57:13.481Z"
   },
   {
    "duration": 21,
    "start_time": "2022-03-20T18:57:44.464Z"
   },
   {
    "duration": 28,
    "start_time": "2022-03-20T18:57:59.792Z"
   },
   {
    "duration": 1553,
    "start_time": "2022-03-20T18:58:51.418Z"
   },
   {
    "duration": 1616,
    "start_time": "2022-03-20T18:59:34.682Z"
   },
   {
    "duration": 24,
    "start_time": "2022-03-20T19:00:04.730Z"
   },
   {
    "duration": 1983,
    "start_time": "2022-03-20T19:00:13.480Z"
   },
   {
    "duration": 35,
    "start_time": "2022-03-20T19:01:01.694Z"
   },
   {
    "duration": 2357,
    "start_time": "2022-03-20T19:01:17.292Z"
   },
   {
    "duration": 2271,
    "start_time": "2022-03-20T19:02:00.686Z"
   },
   {
    "duration": 26,
    "start_time": "2022-03-20T19:02:15.709Z"
   },
   {
    "duration": 2127,
    "start_time": "2022-03-20T19:02:54.475Z"
   },
   {
    "duration": 38,
    "start_time": "2022-03-20T19:03:17.686Z"
   },
   {
    "duration": 2033,
    "start_time": "2022-03-20T19:03:51.986Z"
   },
   {
    "duration": 21,
    "start_time": "2022-03-20T19:04:02.246Z"
   },
   {
    "duration": 43,
    "start_time": "2022-03-20T19:04:54.240Z"
   },
   {
    "duration": 47,
    "start_time": "2022-03-20T19:11:40.340Z"
   },
   {
    "duration": 28,
    "start_time": "2022-03-20T19:12:03.707Z"
   },
   {
    "duration": 50,
    "start_time": "2022-03-20T19:12:08.836Z"
   },
   {
    "duration": 51,
    "start_time": "2022-03-20T19:12:37.503Z"
   },
   {
    "duration": 58,
    "start_time": "2022-03-20T19:14:02.613Z"
   },
   {
    "duration": 51,
    "start_time": "2022-03-20T19:14:11.089Z"
   },
   {
    "duration": 30,
    "start_time": "2022-03-20T19:16:17.476Z"
   },
   {
    "duration": 51,
    "start_time": "2022-03-20T19:47:55.551Z"
   },
   {
    "duration": 123,
    "start_time": "2022-03-20T19:49:18.712Z"
   },
   {
    "duration": 30,
    "start_time": "2022-03-20T19:49:21.239Z"
   },
   {
    "duration": 3329,
    "start_time": "2022-03-20T19:49:23.304Z"
   },
   {
    "duration": 5,
    "start_time": "2022-03-20T19:49:28.288Z"
   },
   {
    "duration": 81,
    "start_time": "2022-03-20T19:49:30.033Z"
   },
   {
    "duration": 32,
    "start_time": "2022-03-20T19:49:33.031Z"
   },
   {
    "duration": 651,
    "start_time": "2022-03-20T19:57:09.059Z"
   },
   {
    "duration": 394,
    "start_time": "2022-03-20T19:58:15.682Z"
   },
   {
    "duration": 24,
    "start_time": "2022-03-20T19:58:38.491Z"
   },
   {
    "duration": 248,
    "start_time": "2022-03-20T19:58:45.465Z"
   },
   {
    "duration": 11,
    "start_time": "2022-03-20T20:00:52.426Z"
   },
   {
    "duration": 258,
    "start_time": "2022-03-20T20:06:47.247Z"
   },
   {
    "duration": 251,
    "start_time": "2022-03-20T20:06:52.649Z"
   },
   {
    "duration": 279,
    "start_time": "2022-03-20T20:07:09.270Z"
   },
   {
    "duration": 473,
    "start_time": "2022-03-21T10:54:32.029Z"
   },
   {
    "duration": 22,
    "start_time": "2022-03-21T10:54:34.232Z"
   },
   {
    "duration": 1830,
    "start_time": "2022-03-21T10:54:36.804Z"
   },
   {
    "duration": 4,
    "start_time": "2022-03-21T10:54:40.420Z"
   },
   {
    "duration": 53,
    "start_time": "2022-03-21T10:54:42.685Z"
   },
   {
    "duration": 21,
    "start_time": "2022-03-21T10:54:45.218Z"
   },
   {
    "duration": 130,
    "start_time": "2022-03-21T10:54:47.959Z"
   },
   {
    "duration": 121,
    "start_time": "2022-03-21T10:54:50.586Z"
   },
   {
    "duration": 4,
    "start_time": "2022-03-21T10:57:11.557Z"
   },
   {
    "duration": 5,
    "start_time": "2022-03-21T10:57:31.048Z"
   },
   {
    "duration": 17,
    "start_time": "2022-03-21T10:57:44.946Z"
   },
   {
    "duration": 6,
    "start_time": "2022-03-21T10:57:59.535Z"
   },
   {
    "duration": 6,
    "start_time": "2022-03-21T10:58:31.909Z"
   },
   {
    "duration": 5,
    "start_time": "2022-03-21T11:14:23.597Z"
   },
   {
    "duration": 68,
    "start_time": "2022-03-21T11:18:30.906Z"
   },
   {
    "duration": 21,
    "start_time": "2022-03-21T11:22:03.783Z"
   },
   {
    "duration": 20,
    "start_time": "2022-03-21T11:23:01.853Z"
   },
   {
    "duration": 3455,
    "start_time": "2022-03-21T11:23:13.765Z"
   },
   {
    "duration": 9,
    "start_time": "2022-03-21T11:23:29.038Z"
   },
   {
    "duration": 9,
    "start_time": "2022-03-21T11:23:52.907Z"
   },
   {
    "duration": 9,
    "start_time": "2022-03-21T11:24:29.514Z"
   },
   {
    "duration": 20,
    "start_time": "2022-03-21T11:24:44.365Z"
   },
   {
    "duration": 11,
    "start_time": "2022-03-21T11:24:48.493Z"
   },
   {
    "duration": 20,
    "start_time": "2022-03-21T11:24:58.246Z"
   },
   {
    "duration": 15,
    "start_time": "2022-03-21T11:25:04.887Z"
   },
   {
    "duration": 26,
    "start_time": "2022-03-21T11:25:33.350Z"
   },
   {
    "duration": 8,
    "start_time": "2022-03-21T11:25:51.675Z"
   },
   {
    "duration": 86,
    "start_time": "2022-03-21T11:27:27.546Z"
   },
   {
    "duration": 23,
    "start_time": "2022-03-21T11:27:33.199Z"
   },
   {
    "duration": 1513,
    "start_time": "2022-03-21T11:27:52.419Z"
   },
   {
    "duration": 1305,
    "start_time": "2022-03-21T11:28:09.680Z"
   },
   {
    "duration": 72,
    "start_time": "2022-03-21T11:28:39.042Z"
   },
   {
    "duration": 22,
    "start_time": "2022-03-21T11:28:42.685Z"
   },
   {
    "duration": 1415,
    "start_time": "2022-03-21T11:28:45.261Z"
   },
   {
    "duration": 4,
    "start_time": "2022-03-21T11:28:48.198Z"
   },
   {
    "duration": 47,
    "start_time": "2022-03-21T11:28:50.593Z"
   },
   {
    "duration": 20,
    "start_time": "2022-03-21T11:28:53.501Z"
   },
   {
    "duration": 140,
    "start_time": "2022-03-21T11:28:57.131Z"
   },
   {
    "duration": 133,
    "start_time": "2022-03-21T11:29:01.700Z"
   },
   {
    "duration": 15,
    "start_time": "2022-03-21T11:49:25.470Z"
   },
   {
    "duration": 14,
    "start_time": "2022-03-21T11:50:56.439Z"
   },
   {
    "duration": 16,
    "start_time": "2022-03-21T11:51:06.341Z"
   },
   {
    "duration": 22,
    "start_time": "2022-03-21T11:51:22.803Z"
   },
   {
    "duration": 27,
    "start_time": "2022-03-21T11:53:14.857Z"
   },
   {
    "duration": 35,
    "start_time": "2022-03-21T12:01:44.877Z"
   },
   {
    "duration": 21,
    "start_time": "2022-03-21T12:02:15.471Z"
   },
   {
    "duration": 26,
    "start_time": "2022-03-21T12:02:45.588Z"
   },
   {
    "duration": 29,
    "start_time": "2022-03-21T12:03:01.737Z"
   },
   {
    "duration": 32,
    "start_time": "2022-03-21T12:03:54.678Z"
   },
   {
    "duration": 267,
    "start_time": "2022-03-21T12:06:36.922Z"
   },
   {
    "duration": 35,
    "start_time": "2022-03-21T12:07:06.588Z"
   },
   {
    "duration": 31,
    "start_time": "2022-03-21T12:07:19.526Z"
   },
   {
    "duration": 29,
    "start_time": "2022-03-21T12:07:33.889Z"
   },
   {
    "duration": 27,
    "start_time": "2022-03-21T12:08:02.861Z"
   },
   {
    "duration": 33,
    "start_time": "2022-03-21T12:08:08.370Z"
   },
   {
    "duration": 28,
    "start_time": "2022-03-21T12:08:56.386Z"
   },
   {
    "duration": 28,
    "start_time": "2022-03-21T12:09:08.183Z"
   },
   {
    "duration": 29,
    "start_time": "2022-03-21T12:09:25.675Z"
   },
   {
    "duration": 33,
    "start_time": "2022-03-21T12:10:13.019Z"
   },
   {
    "duration": 37,
    "start_time": "2022-03-21T12:10:29.982Z"
   },
   {
    "duration": 32,
    "start_time": "2022-03-21T12:13:09.328Z"
   },
   {
    "duration": 36,
    "start_time": "2022-03-21T12:13:20.713Z"
   },
   {
    "duration": 35,
    "start_time": "2022-03-21T12:13:38.224Z"
   },
   {
    "duration": 33,
    "start_time": "2022-03-21T12:14:29.139Z"
   },
   {
    "duration": 28,
    "start_time": "2022-03-21T12:14:52.488Z"
   },
   {
    "duration": 27,
    "start_time": "2022-03-21T12:21:58.598Z"
   },
   {
    "duration": 26,
    "start_time": "2022-03-21T12:22:56.623Z"
   },
   {
    "duration": 13,
    "start_time": "2022-03-21T12:25:13.255Z"
   },
   {
    "duration": 4,
    "start_time": "2022-03-21T12:25:42.768Z"
   },
   {
    "duration": 26,
    "start_time": "2022-03-21T12:27:23.100Z"
   },
   {
    "duration": 23,
    "start_time": "2022-03-21T12:31:32.026Z"
   },
   {
    "duration": 25,
    "start_time": "2022-03-21T12:34:44.756Z"
   },
   {
    "duration": 25,
    "start_time": "2022-03-21T12:35:51.405Z"
   },
   {
    "duration": 39,
    "start_time": "2022-03-21T12:36:38.057Z"
   },
   {
    "duration": 24,
    "start_time": "2022-03-21T12:37:06.378Z"
   },
   {
    "duration": 41,
    "start_time": "2022-03-21T12:38:27.335Z"
   },
   {
    "duration": 35,
    "start_time": "2022-03-21T12:40:26.748Z"
   },
   {
    "duration": 35,
    "start_time": "2022-03-21T12:41:20.469Z"
   },
   {
    "duration": 34,
    "start_time": "2022-03-21T12:42:54.882Z"
   },
   {
    "duration": 33,
    "start_time": "2022-03-21T12:43:04.179Z"
   },
   {
    "duration": 8,
    "start_time": "2022-03-21T16:41:06.914Z"
   },
   {
    "duration": 23,
    "start_time": "2022-03-21T16:41:14.071Z"
   },
   {
    "duration": 31,
    "start_time": "2022-03-21T16:41:19.958Z"
   },
   {
    "duration": 9,
    "start_time": "2022-03-21T16:41:22.859Z"
   },
   {
    "duration": 78,
    "start_time": "2022-03-21T17:07:52.232Z"
   },
   {
    "duration": 21,
    "start_time": "2022-03-21T17:07:54.673Z"
   },
   {
    "duration": 1503,
    "start_time": "2022-03-21T17:07:56.790Z"
   },
   {
    "duration": 4,
    "start_time": "2022-03-21T17:07:59.650Z"
   },
   {
    "duration": 48,
    "start_time": "2022-03-21T17:08:01.964Z"
   },
   {
    "duration": 23,
    "start_time": "2022-03-21T17:08:04.899Z"
   },
   {
    "duration": 143,
    "start_time": "2022-03-21T17:08:07.120Z"
   },
   {
    "duration": 127,
    "start_time": "2022-03-21T17:08:09.696Z"
   },
   {
    "duration": 33,
    "start_time": "2022-03-21T17:08:12.117Z"
   },
   {
    "duration": 24,
    "start_time": "2022-03-21T17:08:14.189Z"
   },
   {
    "duration": 32,
    "start_time": "2022-03-21T17:08:16.420Z"
   },
   {
    "duration": 88,
    "start_time": "2022-03-22T18:19:09.789Z"
   },
   {
    "duration": 637,
    "start_time": "2022-03-22T18:19:22.532Z"
   },
   {
    "duration": 31,
    "start_time": "2022-03-22T18:19:25.512Z"
   },
   {
    "duration": 2732,
    "start_time": "2022-03-22T18:19:28.391Z"
   },
   {
    "duration": 6,
    "start_time": "2022-03-22T18:19:32.891Z"
   },
   {
    "duration": 100,
    "start_time": "2022-03-22T18:19:34.692Z"
   },
   {
    "duration": 42,
    "start_time": "2022-03-22T18:19:37.410Z"
   },
   {
    "duration": 248,
    "start_time": "2022-03-22T18:19:40.141Z"
   },
   {
    "duration": 217,
    "start_time": "2022-03-22T18:19:42.456Z"
   },
   {
    "duration": 49,
    "start_time": "2022-03-22T18:19:45.124Z"
   },
   {
    "duration": 35,
    "start_time": "2022-03-22T18:19:47.745Z"
   },
   {
    "duration": 47,
    "start_time": "2022-03-22T18:19:50.827Z"
   },
   {
    "duration": 78,
    "start_time": "2022-03-22T18:19:54.393Z"
   },
   {
    "duration": 60,
    "start_time": "2022-03-22T18:20:51.399Z"
   },
   {
    "duration": 145,
    "start_time": "2022-03-22T18:22:12.564Z"
   },
   {
    "duration": 42,
    "start_time": "2022-03-22T18:22:14.770Z"
   },
   {
    "duration": 4345,
    "start_time": "2022-03-22T18:22:17.487Z"
   },
   {
    "duration": 6,
    "start_time": "2022-03-22T18:22:24.851Z"
   },
   {
    "duration": 78,
    "start_time": "2022-03-22T18:22:26.999Z"
   },
   {
    "duration": 30,
    "start_time": "2022-03-22T18:22:29.473Z"
   },
   {
    "duration": 256,
    "start_time": "2022-03-22T18:22:31.577Z"
   },
   {
    "duration": 314,
    "start_time": "2022-03-22T18:22:34.224Z"
   },
   {
    "duration": 53,
    "start_time": "2022-03-22T18:22:36.793Z"
   },
   {
    "duration": 35,
    "start_time": "2022-03-22T18:22:39.189Z"
   },
   {
    "duration": 46,
    "start_time": "2022-03-22T18:22:43.134Z"
   },
   {
    "duration": 41,
    "start_time": "2022-03-22T18:22:46.628Z"
   },
   {
    "duration": 39,
    "start_time": "2022-03-22T18:22:58.440Z"
   },
   {
    "duration": 58,
    "start_time": "2022-03-22T18:25:40.405Z"
   },
   {
    "duration": 467,
    "start_time": "2022-04-03T07:19:43.374Z"
   },
   {
    "duration": 21,
    "start_time": "2022-04-03T07:22:16.831Z"
   },
   {
    "duration": 20,
    "start_time": "2022-04-03T07:23:53.095Z"
   },
   {
    "duration": 1454,
    "start_time": "2022-04-03T07:25:51.014Z"
   },
   {
    "duration": 21,
    "start_time": "2022-04-03T07:33:38.541Z"
   },
   {
    "duration": 1853,
    "start_time": "2022-04-03T07:33:59.730Z"
   },
   {
    "duration": 495,
    "start_time": "2022-04-03T07:34:12.711Z"
   },
   {
    "duration": 30,
    "start_time": "2022-04-03T07:34:13.207Z"
   },
   {
    "duration": 1471,
    "start_time": "2022-04-03T07:34:13.239Z"
   },
   {
    "duration": 4,
    "start_time": "2022-04-03T07:34:14.712Z"
   },
   {
    "duration": 66,
    "start_time": "2022-04-03T07:34:14.719Z"
   },
   {
    "duration": 22,
    "start_time": "2022-04-03T07:34:16.349Z"
   },
   {
    "duration": 137,
    "start_time": "2022-04-03T07:35:35.386Z"
   },
   {
    "duration": 6,
    "start_time": "2022-04-03T07:36:28.770Z"
   },
   {
    "duration": 29,
    "start_time": "2022-04-03T07:38:45.319Z"
   },
   {
    "duration": 21,
    "start_time": "2022-04-03T07:46:20.661Z"
   },
   {
    "duration": 34,
    "start_time": "2022-04-03T07:46:22.505Z"
   },
   {
    "duration": 1891,
    "start_time": "2022-04-03T07:46:24.848Z"
   },
   {
    "duration": 449,
    "start_time": "2022-04-03T07:46:42.987Z"
   },
   {
    "duration": 22,
    "start_time": "2022-04-03T07:46:43.437Z"
   },
   {
    "duration": 1506,
    "start_time": "2022-04-03T07:46:43.461Z"
   },
   {
    "duration": 3,
    "start_time": "2022-04-03T07:46:44.969Z"
   },
   {
    "duration": 71,
    "start_time": "2022-04-03T07:46:44.974Z"
   },
   {
    "duration": 23,
    "start_time": "2022-04-03T07:46:45.047Z"
   },
   {
    "duration": 154,
    "start_time": "2022-04-03T07:46:45.071Z"
   },
   {
    "duration": 131,
    "start_time": "2022-04-03T07:46:45.226Z"
   },
   {
    "duration": 33,
    "start_time": "2022-04-03T07:46:45.359Z"
   },
   {
    "duration": 53,
    "start_time": "2022-04-03T07:46:45.394Z"
   },
   {
    "duration": 31,
    "start_time": "2022-04-03T07:46:45.449Z"
   },
   {
    "duration": 27,
    "start_time": "2022-04-03T07:46:46.936Z"
   },
   {
    "duration": 71,
    "start_time": "2022-04-03T07:49:53.573Z"
   },
   {
    "duration": 504,
    "start_time": "2022-04-03T12:52:07.397Z"
   },
   {
    "duration": 22,
    "start_time": "2022-04-03T12:52:07.903Z"
   },
   {
    "duration": 1563,
    "start_time": "2022-04-03T12:52:07.926Z"
   },
   {
    "duration": 13,
    "start_time": "2022-04-03T12:52:09.491Z"
   },
   {
    "duration": 54,
    "start_time": "2022-04-03T12:52:09.505Z"
   },
   {
    "duration": 49,
    "start_time": "2022-04-03T12:52:09.561Z"
   },
   {
    "duration": 152,
    "start_time": "2022-04-03T12:52:09.612Z"
   },
   {
    "duration": 138,
    "start_time": "2022-04-03T12:52:09.766Z"
   },
   {
    "duration": 33,
    "start_time": "2022-04-03T12:52:09.906Z"
   },
   {
    "duration": 63,
    "start_time": "2022-04-03T12:52:09.942Z"
   },
   {
    "duration": 31,
    "start_time": "2022-04-03T12:52:10.006Z"
   },
   {
    "duration": 63,
    "start_time": "2022-04-03T12:52:10.039Z"
   },
   {
    "duration": 517,
    "start_time": "2022-04-03T13:35:31.570Z"
   },
   {
    "duration": 33,
    "start_time": "2022-04-03T13:35:42.736Z"
   },
   {
    "duration": 87,
    "start_time": "2022-04-03T13:43:29.166Z"
   },
   {
    "duration": 40,
    "start_time": "2022-04-03T13:43:39.651Z"
   },
   {
    "duration": 50,
    "start_time": "2022-04-03T13:44:28.560Z"
   },
   {
    "duration": 43,
    "start_time": "2022-04-03T13:44:58.964Z"
   },
   {
    "duration": 60,
    "start_time": "2022-04-03T13:45:09.274Z"
   },
   {
    "duration": 52,
    "start_time": "2022-04-03T13:45:48.531Z"
   },
   {
    "duration": 48,
    "start_time": "2022-04-03T13:50:41.466Z"
   },
   {
    "duration": 59,
    "start_time": "2022-04-03T13:54:06.529Z"
   },
   {
    "duration": 48,
    "start_time": "2022-04-03T13:54:53.351Z"
   },
   {
    "duration": 198,
    "start_time": "2022-04-03T13:55:36.947Z"
   },
   {
    "duration": 49,
    "start_time": "2022-04-03T13:55:49.593Z"
   },
   {
    "duration": 20,
    "start_time": "2022-04-03T13:56:21.071Z"
   },
   {
    "duration": 53,
    "start_time": "2022-04-04T15:01:53.595Z"
   },
   {
    "duration": 486,
    "start_time": "2022-04-04T15:01:58.154Z"
   },
   {
    "duration": 24,
    "start_time": "2022-04-04T15:01:58.642Z"
   },
   {
    "duration": 1571,
    "start_time": "2022-04-04T15:01:58.667Z"
   },
   {
    "duration": 4,
    "start_time": "2022-04-04T15:02:00.240Z"
   },
   {
    "duration": 87,
    "start_time": "2022-04-04T15:02:00.247Z"
   },
   {
    "duration": 26,
    "start_time": "2022-04-04T15:02:00.336Z"
   },
   {
    "duration": 164,
    "start_time": "2022-04-04T15:02:00.364Z"
   },
   {
    "duration": 144,
    "start_time": "2022-04-04T15:02:00.531Z"
   },
   {
    "duration": 24,
    "start_time": "2022-04-04T15:02:00.677Z"
   },
   {
    "duration": 63,
    "start_time": "2022-04-04T15:02:00.703Z"
   },
   {
    "duration": 70,
    "start_time": "2022-04-04T15:02:00.768Z"
   },
   {
    "duration": 31,
    "start_time": "2022-04-04T15:02:00.841Z"
   },
   {
    "duration": 50,
    "start_time": "2022-04-04T15:02:48.290Z"
   },
   {
    "duration": 49,
    "start_time": "2022-04-04T15:02:59.000Z"
   },
   {
    "duration": 76,
    "start_time": "2022-04-04T15:03:44.709Z"
   },
   {
    "duration": 22,
    "start_time": "2022-04-04T15:03:44.787Z"
   },
   {
    "duration": 1564,
    "start_time": "2022-04-04T15:03:44.811Z"
   },
   {
    "duration": 4,
    "start_time": "2022-04-04T15:03:46.377Z"
   },
   {
    "duration": 67,
    "start_time": "2022-04-04T15:03:46.383Z"
   },
   {
    "duration": 24,
    "start_time": "2022-04-04T15:03:46.451Z"
   },
   {
    "duration": 180,
    "start_time": "2022-04-04T15:03:46.476Z"
   },
   {
    "duration": 146,
    "start_time": "2022-04-04T15:03:46.658Z"
   },
   {
    "duration": 32,
    "start_time": "2022-04-04T15:03:46.805Z"
   },
   {
    "duration": 20,
    "start_time": "2022-04-04T15:03:46.839Z"
   },
   {
    "duration": 22,
    "start_time": "2022-04-04T15:03:46.861Z"
   },
   {
    "duration": 49,
    "start_time": "2022-04-04T15:03:46.884Z"
   },
   {
    "duration": 31,
    "start_time": "2022-04-04T15:26:54.854Z"
   },
   {
    "duration": 6,
    "start_time": "2022-04-04T15:27:00.448Z"
   },
   {
    "duration": 184,
    "start_time": "2022-04-04T15:27:30.350Z"
   },
   {
    "duration": 9,
    "start_time": "2022-04-04T15:28:52.347Z"
   },
   {
    "duration": 7,
    "start_time": "2022-04-04T15:29:03.909Z"
   },
   {
    "duration": 78,
    "start_time": "2022-04-04T15:29:23.009Z"
   },
   {
    "duration": 42,
    "start_time": "2022-04-04T15:29:23.090Z"
   },
   {
    "duration": 7,
    "start_time": "2022-04-04T15:29:23.134Z"
   },
   {
    "duration": 14,
    "start_time": "2022-04-04T15:29:23.144Z"
   },
   {
    "duration": 1631,
    "start_time": "2022-04-04T15:29:23.160Z"
   },
   {
    "duration": 4,
    "start_time": "2022-04-04T15:29:24.793Z"
   },
   {
    "duration": 71,
    "start_time": "2022-04-04T15:29:24.799Z"
   },
   {
    "duration": 23,
    "start_time": "2022-04-04T15:29:24.871Z"
   },
   {
    "duration": 173,
    "start_time": "2022-04-04T15:29:24.897Z"
   },
   {
    "duration": 137,
    "start_time": "2022-04-04T15:29:25.072Z"
   },
   {
    "duration": 34,
    "start_time": "2022-04-04T15:29:25.211Z"
   },
   {
    "duration": 19,
    "start_time": "2022-04-04T15:29:25.247Z"
   },
   {
    "duration": 22,
    "start_time": "2022-04-04T15:29:25.268Z"
   },
   {
    "duration": 46,
    "start_time": "2022-04-04T15:29:25.291Z"
   },
   {
    "duration": 158,
    "start_time": "2022-04-04T15:31:18.581Z"
   },
   {
    "duration": 74,
    "start_time": "2022-04-04T15:31:33.937Z"
   },
   {
    "duration": 28,
    "start_time": "2022-04-04T15:31:34.013Z"
   },
   {
    "duration": 5,
    "start_time": "2022-04-04T15:31:34.043Z"
   },
   {
    "duration": 18,
    "start_time": "2022-04-04T15:31:34.051Z"
   },
   {
    "duration": 1597,
    "start_time": "2022-04-04T15:31:34.071Z"
   },
   {
    "duration": 4,
    "start_time": "2022-04-04T15:31:35.669Z"
   },
   {
    "duration": 69,
    "start_time": "2022-04-04T15:31:35.675Z"
   },
   {
    "duration": 23,
    "start_time": "2022-04-04T15:31:35.746Z"
   },
   {
    "duration": 183,
    "start_time": "2022-04-04T15:31:35.770Z"
   },
   {
    "duration": 0,
    "start_time": "2022-04-04T15:31:35.955Z"
   },
   {
    "duration": 0,
    "start_time": "2022-04-04T15:31:35.956Z"
   },
   {
    "duration": 1,
    "start_time": "2022-04-04T15:31:35.957Z"
   },
   {
    "duration": 0,
    "start_time": "2022-04-04T15:31:35.958Z"
   },
   {
    "duration": 0,
    "start_time": "2022-04-04T15:31:35.959Z"
   },
   {
    "duration": 160,
    "start_time": "2022-04-04T15:32:01.211Z"
   },
   {
    "duration": 154,
    "start_time": "2022-04-04T15:32:54.354Z"
   },
   {
    "duration": 15,
    "start_time": "2022-04-04T15:33:13.578Z"
   },
   {
    "duration": 17,
    "start_time": "2022-04-04T15:33:25.360Z"
   },
   {
    "duration": 15,
    "start_time": "2022-04-04T15:33:32.409Z"
   },
   {
    "duration": 7,
    "start_time": "2022-04-04T15:34:11.605Z"
   },
   {
    "duration": 91,
    "start_time": "2022-04-04T16:01:01.815Z"
   },
   {
    "duration": 25,
    "start_time": "2022-04-04T16:01:01.908Z"
   },
   {
    "duration": 13,
    "start_time": "2022-04-04T16:01:01.935Z"
   },
   {
    "duration": 15,
    "start_time": "2022-04-04T16:01:01.951Z"
   },
   {
    "duration": 1644,
    "start_time": "2022-04-04T16:01:01.968Z"
   },
   {
    "duration": 4,
    "start_time": "2022-04-04T16:01:03.614Z"
   },
   {
    "duration": 63,
    "start_time": "2022-04-04T16:01:03.620Z"
   },
   {
    "duration": 22,
    "start_time": "2022-04-04T16:01:03.685Z"
   },
   {
    "duration": 151,
    "start_time": "2022-04-04T16:01:03.733Z"
   },
   {
    "duration": 8,
    "start_time": "2022-04-04T16:01:03.887Z"
   },
   {
    "duration": 157,
    "start_time": "2022-04-04T16:01:03.896Z"
   },
   {
    "duration": 24,
    "start_time": "2022-04-04T16:01:04.054Z"
   },
   {
    "duration": 22,
    "start_time": "2022-04-04T16:01:04.080Z"
   },
   {
    "duration": 46,
    "start_time": "2022-04-04T16:01:04.103Z"
   },
   {
    "duration": 25,
    "start_time": "2022-04-04T16:01:04.151Z"
   },
   {
    "duration": 704,
    "start_time": "2022-09-30T14:38:53.039Z"
   },
   {
    "duration": 19,
    "start_time": "2022-09-30T14:38:53.745Z"
   },
   {
    "duration": 27,
    "start_time": "2022-09-30T14:38:53.765Z"
   },
   {
    "duration": 41,
    "start_time": "2022-09-30T14:38:53.794Z"
   },
   {
    "duration": 1705,
    "start_time": "2022-09-30T14:38:53.837Z"
   },
   {
    "duration": 3,
    "start_time": "2022-09-30T14:38:55.544Z"
   },
   {
    "duration": 67,
    "start_time": "2022-09-30T14:38:55.548Z"
   },
   {
    "duration": 24,
    "start_time": "2022-09-30T14:38:55.617Z"
   },
   {
    "duration": 162,
    "start_time": "2022-09-30T14:38:55.643Z"
   },
   {
    "duration": 13,
    "start_time": "2022-09-30T14:38:55.807Z"
   },
   {
    "duration": 149,
    "start_time": "2022-09-30T14:38:55.822Z"
   },
   {
    "duration": 18,
    "start_time": "2022-09-30T14:38:55.973Z"
   },
   {
    "duration": 28,
    "start_time": "2022-09-30T14:38:55.993Z"
   },
   {
    "duration": 33,
    "start_time": "2022-09-30T14:38:56.024Z"
   },
   {
    "duration": 20,
    "start_time": "2022-09-30T14:38:56.059Z"
   },
   {
    "duration": 158,
    "start_time": "2022-09-30T14:40:47.016Z"
   }
  ],
  "kernelspec": {
   "display_name": "Python 3 (ipykernel)",
   "language": "python",
   "name": "python3"
  },
  "language_info": {
   "codemirror_mode": {
    "name": "ipython",
    "version": 3
   },
   "file_extension": ".py",
   "mimetype": "text/x-python",
   "name": "python",
   "nbconvert_exporter": "python",
   "pygments_lexer": "ipython3",
   "version": "3.9.13"
  },
  "toc": {
   "base_numbering": 1,
   "nav_menu": {},
   "number_sections": true,
   "sideBar": true,
   "skip_h1_title": true,
   "title_cell": "Table of Contents",
   "title_sidebar": "Contents",
   "toc_cell": false,
   "toc_position": {
    "height": "calc(100% - 180px)",
    "left": "10px",
    "top": "150px",
    "width": "165px"
   },
   "toc_section_display": true,
   "toc_window_display": false
  }
 },
 "nbformat": 4,
 "nbformat_minor": 5
}
