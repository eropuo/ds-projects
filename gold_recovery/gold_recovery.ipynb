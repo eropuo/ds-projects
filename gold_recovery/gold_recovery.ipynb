{
 "cells": [
  {
   "cell_type": "markdown",
   "metadata": {},
   "source": [
    "# Восстановление золота из руды"
   ]
  },
  {
   "cell_type": "markdown",
   "metadata": {},
   "source": [
    "Необходимо подготовить прототип модели машинного обучения для «Цифры». Компания разрабатывает решения для эффективной работы промышленных предприятий.\n",
    "\n",
    "Модель должна предсказать коэффициент восстановления золота из золотосодержащей руды. Используем данные с параметрами добычи и очистки. \n",
    "\n",
    "Модель поможет оптимизировать производство, чтобы не запускать предприятие с убыточными характеристиками.\n",
    "\n",
    "Нам нужно:\n",
    "\n",
    "1. Подготовить данные;\n",
    "2. Провести исследовательский анализ данных;\n",
    "3. Построить и обучить модель.\n"
   ]
  },
  {
   "cell_type": "markdown",
   "metadata": {},
   "source": [
    "## Подготовка данных"
   ]
  },
  {
   "cell_type": "markdown",
   "metadata": {},
   "source": [
    "### Изучение файлов\n",
    "По первому взгляду можно сказать:\n",
    "* В данных присутствуют пропуски.\n",
    "* Тестовая выборка содержит меньше признаков, чем остальные выборки.\n",
    "* Неверный тип данных у параметра 'date'.\n",
    "* Датафреймы 'data_train' и 'data_test' предназначены для обучения и предсказания модели.\n",
    "* Датафрейм 'data_full' понадобится нам в анализе, так как содержит объединенные данные из 'data_train' и 'data_test'."
   ]
  },
  {
   "cell_type": "code",
   "execution_count": 1,
   "metadata": {
    "scrolled": true
   },
   "outputs": [],
   "source": [
    "# импортирование всех нужных библиотек и фуцнкций \n",
    "import matplotlib.pyplot as plt\n",
    "import numpy as np\n",
    "import pandas as pd \n",
    "import warnings\n",
    "\n",
    "from sklearn.dummy import DummyRegressor\n",
    "from sklearn.ensemble import RandomForestRegressor\n",
    "from sklearn.linear_model import LinearRegression\n",
    "from sklearn.tree import DecisionTreeRegressor\n",
    "\n",
    "from sklearn.impute import KNNImputer\n",
    "from sklearn.metrics import mean_absolute_error, make_scorer\n",
    "from sklearn.model_selection import GridSearchCV, cross_val_score\n",
    "from sklearn.preprocessing import StandardScaler"
   ]
  },
  {
   "cell_type": "code",
   "execution_count": 3,
   "metadata": {
    "scrolled": true
   },
   "outputs": [
    {
     "name": "stdout",
     "output_type": "stream",
     "text": [
      "<class 'pandas.core.frame.DataFrame'>\n",
      "Int64Index: 14149 entries, 0 to 14148\n",
      "Data columns (total 87 columns):\n",
      " #   Column                                              Non-Null Count  Dtype  \n",
      "---  ------                                              --------------  -----  \n",
      " 0   date                                                14149 non-null  object \n",
      " 1   final.output.concentrate_ag                         14148 non-null  float64\n",
      " 2   final.output.concentrate_pb                         14148 non-null  float64\n",
      " 3   final.output.concentrate_sol                        13938 non-null  float64\n",
      " 4   final.output.concentrate_au                         14149 non-null  float64\n",
      " 5   final.output.recovery                               14149 non-null  float64\n",
      " 6   final.output.tail_ag                                14149 non-null  float64\n",
      " 7   final.output.tail_pb                                14049 non-null  float64\n",
      " 8   final.output.tail_sol                               14144 non-null  float64\n",
      " 9   final.output.tail_au                                14149 non-null  float64\n",
      " 10  primary_cleaner.input.sulfate                       14129 non-null  float64\n",
      " 11  primary_cleaner.input.depressant                    14117 non-null  float64\n",
      " 12  primary_cleaner.input.feed_size                     14149 non-null  float64\n",
      " 13  primary_cleaner.input.xanthate                      14049 non-null  float64\n",
      " 14  primary_cleaner.output.concentrate_ag               14149 non-null  float64\n",
      " 15  primary_cleaner.output.concentrate_pb               14063 non-null  float64\n",
      " 16  primary_cleaner.output.concentrate_sol              13863 non-null  float64\n",
      " 17  primary_cleaner.output.concentrate_au               14149 non-null  float64\n",
      " 18  primary_cleaner.output.tail_ag                      14148 non-null  float64\n",
      " 19  primary_cleaner.output.tail_pb                      14134 non-null  float64\n",
      " 20  primary_cleaner.output.tail_sol                     14103 non-null  float64\n",
      " 21  primary_cleaner.output.tail_au                      14149 non-null  float64\n",
      " 22  primary_cleaner.state.floatbank8_a_air              14145 non-null  float64\n",
      " 23  primary_cleaner.state.floatbank8_a_level            14148 non-null  float64\n",
      " 24  primary_cleaner.state.floatbank8_b_air              14145 non-null  float64\n",
      " 25  primary_cleaner.state.floatbank8_b_level            14148 non-null  float64\n",
      " 26  primary_cleaner.state.floatbank8_c_air              14147 non-null  float64\n",
      " 27  primary_cleaner.state.floatbank8_c_level            14148 non-null  float64\n",
      " 28  primary_cleaner.state.floatbank8_d_air              14146 non-null  float64\n",
      " 29  primary_cleaner.state.floatbank8_d_level            14148 non-null  float64\n",
      " 30  rougher.calculation.sulfate_to_au_concentrate       14148 non-null  float64\n",
      " 31  rougher.calculation.floatbank10_sulfate_to_au_feed  14148 non-null  float64\n",
      " 32  rougher.calculation.floatbank11_sulfate_to_au_feed  14148 non-null  float64\n",
      " 33  rougher.calculation.au_pb_ratio                     14149 non-null  float64\n",
      " 34  rougher.input.feed_ag                               14149 non-null  float64\n",
      " 35  rougher.input.feed_pb                               14049 non-null  float64\n",
      " 36  rougher.input.feed_rate                             14141 non-null  float64\n",
      " 37  rougher.input.feed_size                             14005 non-null  float64\n",
      " 38  rougher.input.feed_sol                              14071 non-null  float64\n",
      " 39  rougher.input.feed_au                               14149 non-null  float64\n",
      " 40  rougher.input.floatbank10_sulfate                   14120 non-null  float64\n",
      " 41  rougher.input.floatbank10_xanthate                  14141 non-null  float64\n",
      " 42  rougher.input.floatbank11_sulfate                   14113 non-null  float64\n",
      " 43  rougher.input.floatbank11_xanthate                  13721 non-null  float64\n",
      " 44  rougher.output.concentrate_ag                       14149 non-null  float64\n",
      " 45  rougher.output.concentrate_pb                       14149 non-null  float64\n",
      " 46  rougher.output.concentrate_sol                      14127 non-null  float64\n",
      " 47  rougher.output.concentrate_au                       14149 non-null  float64\n",
      " 48  rougher.output.recovery                             14149 non-null  float64\n",
      " 49  rougher.output.tail_ag                              14148 non-null  float64\n",
      " 50  rougher.output.tail_pb                              14149 non-null  float64\n",
      " 51  rougher.output.tail_sol                             14149 non-null  float64\n",
      " 52  rougher.output.tail_au                              14149 non-null  float64\n",
      " 53  rougher.state.floatbank10_a_air                     14148 non-null  float64\n",
      " 54  rougher.state.floatbank10_a_level                   14148 non-null  float64\n",
      " 55  rougher.state.floatbank10_b_air                     14148 non-null  float64\n",
      " 56  rougher.state.floatbank10_b_level                   14148 non-null  float64\n",
      " 57  rougher.state.floatbank10_c_air                     14148 non-null  float64\n",
      " 58  rougher.state.floatbank10_c_level                   14148 non-null  float64\n",
      " 59  rougher.state.floatbank10_d_air                     14149 non-null  float64\n",
      " 60  rougher.state.floatbank10_d_level                   14149 non-null  float64\n",
      " 61  rougher.state.floatbank10_e_air                     13713 non-null  float64\n",
      " 62  rougher.state.floatbank10_e_level                   14149 non-null  float64\n",
      " 63  rougher.state.floatbank10_f_air                     14149 non-null  float64\n",
      " 64  rougher.state.floatbank10_f_level                   14149 non-null  float64\n",
      " 65  secondary_cleaner.output.tail_ag                    14147 non-null  float64\n",
      " 66  secondary_cleaner.output.tail_pb                    14139 non-null  float64\n",
      " 67  secondary_cleaner.output.tail_sol                   12544 non-null  float64\n",
      " 68  secondary_cleaner.output.tail_au                    14149 non-null  float64\n",
      " 69  secondary_cleaner.state.floatbank2_a_air            13932 non-null  float64\n",
      " 70  secondary_cleaner.state.floatbank2_a_level          14148 non-null  float64\n",
      " 71  secondary_cleaner.state.floatbank2_b_air            14128 non-null  float64\n",
      " 72  secondary_cleaner.state.floatbank2_b_level          14148 non-null  float64\n",
      " 73  secondary_cleaner.state.floatbank3_a_air            14145 non-null  float64\n",
      " 74  secondary_cleaner.state.floatbank3_a_level          14148 non-null  float64\n",
      " 75  secondary_cleaner.state.floatbank3_b_air            14148 non-null  float64\n",
      " 76  secondary_cleaner.state.floatbank3_b_level          14148 non-null  float64\n",
      " 77  secondary_cleaner.state.floatbank4_a_air            14143 non-null  float64\n",
      " 78  secondary_cleaner.state.floatbank4_a_level          14148 non-null  float64\n",
      " 79  secondary_cleaner.state.floatbank4_b_air            14148 non-null  float64\n",
      " 80  secondary_cleaner.state.floatbank4_b_level          14148 non-null  float64\n",
      " 81  secondary_cleaner.state.floatbank5_a_air            14148 non-null  float64\n",
      " 82  secondary_cleaner.state.floatbank5_a_level          14148 non-null  float64\n",
      " 83  secondary_cleaner.state.floatbank5_b_air            14148 non-null  float64\n",
      " 84  secondary_cleaner.state.floatbank5_b_level          14148 non-null  float64\n",
      " 85  secondary_cleaner.state.floatbank6_a_air            14147 non-null  float64\n",
      " 86  secondary_cleaner.state.floatbank6_a_level          14148 non-null  float64\n",
      "dtypes: float64(86), object(1)\n",
      "memory usage: 9.5+ MB\n",
      "<class 'pandas.core.frame.DataFrame'>\n",
      "Int64Index: 5290 entries, 0 to 5289\n",
      "Data columns (total 53 columns):\n",
      " #   Column                                      Non-Null Count  Dtype  \n",
      "---  ------                                      --------------  -----  \n",
      " 0   date                                        5290 non-null   object \n",
      " 1   primary_cleaner.input.sulfate               5286 non-null   float64\n",
      " 2   primary_cleaner.input.depressant            5285 non-null   float64\n",
      " 3   primary_cleaner.input.feed_size             5290 non-null   float64\n",
      " 4   primary_cleaner.input.xanthate              5286 non-null   float64\n",
      " 5   primary_cleaner.state.floatbank8_a_air      5290 non-null   float64\n",
      " 6   primary_cleaner.state.floatbank8_a_level    5290 non-null   float64\n",
      " 7   primary_cleaner.state.floatbank8_b_air      5290 non-null   float64\n",
      " 8   primary_cleaner.state.floatbank8_b_level    5290 non-null   float64\n",
      " 9   primary_cleaner.state.floatbank8_c_air      5290 non-null   float64\n",
      " 10  primary_cleaner.state.floatbank8_c_level    5290 non-null   float64\n",
      " 11  primary_cleaner.state.floatbank8_d_air      5290 non-null   float64\n",
      " 12  primary_cleaner.state.floatbank8_d_level    5290 non-null   float64\n",
      " 13  rougher.input.feed_ag                       5290 non-null   float64\n",
      " 14  rougher.input.feed_pb                       5290 non-null   float64\n",
      " 15  rougher.input.feed_rate                     5287 non-null   float64\n",
      " 16  rougher.input.feed_size                     5289 non-null   float64\n",
      " 17  rougher.input.feed_sol                      5269 non-null   float64\n",
      " 18  rougher.input.feed_au                       5290 non-null   float64\n",
      " 19  rougher.input.floatbank10_sulfate           5285 non-null   float64\n",
      " 20  rougher.input.floatbank10_xanthate          5290 non-null   float64\n",
      " 21  rougher.input.floatbank11_sulfate           5282 non-null   float64\n",
      " 22  rougher.input.floatbank11_xanthate          5265 non-null   float64\n",
      " 23  rougher.state.floatbank10_a_air             5290 non-null   float64\n",
      " 24  rougher.state.floatbank10_a_level           5290 non-null   float64\n",
      " 25  rougher.state.floatbank10_b_air             5290 non-null   float64\n",
      " 26  rougher.state.floatbank10_b_level           5290 non-null   float64\n",
      " 27  rougher.state.floatbank10_c_air             5290 non-null   float64\n",
      " 28  rougher.state.floatbank10_c_level           5290 non-null   float64\n",
      " 29  rougher.state.floatbank10_d_air             5290 non-null   float64\n",
      " 30  rougher.state.floatbank10_d_level           5290 non-null   float64\n",
      " 31  rougher.state.floatbank10_e_air             5290 non-null   float64\n",
      " 32  rougher.state.floatbank10_e_level           5290 non-null   float64\n",
      " 33  rougher.state.floatbank10_f_air             5290 non-null   float64\n",
      " 34  rougher.state.floatbank10_f_level           5290 non-null   float64\n",
      " 35  secondary_cleaner.state.floatbank2_a_air    5287 non-null   float64\n",
      " 36  secondary_cleaner.state.floatbank2_a_level  5290 non-null   float64\n",
      " 37  secondary_cleaner.state.floatbank2_b_air    5288 non-null   float64\n",
      " 38  secondary_cleaner.state.floatbank2_b_level  5290 non-null   float64\n",
      " 39  secondary_cleaner.state.floatbank3_a_air    5281 non-null   float64\n",
      " 40  secondary_cleaner.state.floatbank3_a_level  5290 non-null   float64\n",
      " 41  secondary_cleaner.state.floatbank3_b_air    5290 non-null   float64\n",
      " 42  secondary_cleaner.state.floatbank3_b_level  5290 non-null   float64\n",
      " 43  secondary_cleaner.state.floatbank4_a_air    5290 non-null   float64\n",
      " 44  secondary_cleaner.state.floatbank4_a_level  5290 non-null   float64\n",
      " 45  secondary_cleaner.state.floatbank4_b_air    5290 non-null   float64\n",
      " 46  secondary_cleaner.state.floatbank4_b_level  5290 non-null   float64\n",
      " 47  secondary_cleaner.state.floatbank5_a_air    5290 non-null   float64\n",
      " 48  secondary_cleaner.state.floatbank5_a_level  5290 non-null   float64\n",
      " 49  secondary_cleaner.state.floatbank5_b_air    5290 non-null   float64\n",
      " 50  secondary_cleaner.state.floatbank5_b_level  5290 non-null   float64\n",
      " 51  secondary_cleaner.state.floatbank6_a_air    5290 non-null   float64\n",
      " 52  secondary_cleaner.state.floatbank6_a_level  5290 non-null   float64\n",
      "dtypes: float64(52), object(1)\n",
      "memory usage: 2.2+ MB\n",
      "<class 'pandas.core.frame.DataFrame'>\n",
      "Int64Index: 19439 entries, 0 to 19438\n",
      "Data columns (total 87 columns):\n",
      " #   Column                                              Non-Null Count  Dtype  \n",
      "---  ------                                              --------------  -----  \n",
      " 0   date                                                19439 non-null  object \n",
      " 1   final.output.concentrate_ag                         19438 non-null  float64\n",
      " 2   final.output.concentrate_pb                         19438 non-null  float64\n",
      " 3   final.output.concentrate_sol                        19228 non-null  float64\n",
      " 4   final.output.concentrate_au                         19439 non-null  float64\n",
      " 5   final.output.recovery                               19439 non-null  float64\n",
      " 6   final.output.tail_ag                                19438 non-null  float64\n",
      " 7   final.output.tail_pb                                19338 non-null  float64\n",
      " 8   final.output.tail_sol                               19433 non-null  float64\n",
      " 9   final.output.tail_au                                19439 non-null  float64\n",
      " 10  primary_cleaner.input.sulfate                       19415 non-null  float64\n",
      " 11  primary_cleaner.input.depressant                    19402 non-null  float64\n",
      " 12  primary_cleaner.input.feed_size                     19439 non-null  float64\n",
      " 13  primary_cleaner.input.xanthate                      19335 non-null  float64\n",
      " 14  primary_cleaner.output.concentrate_ag               19439 non-null  float64\n",
      " 15  primary_cleaner.output.concentrate_pb               19323 non-null  float64\n",
      " 16  primary_cleaner.output.concentrate_sol              19069 non-null  float64\n",
      " 17  primary_cleaner.output.concentrate_au               19439 non-null  float64\n",
      " 18  primary_cleaner.output.tail_ag                      19435 non-null  float64\n",
      " 19  primary_cleaner.output.tail_pb                      19418 non-null  float64\n",
      " 20  primary_cleaner.output.tail_sol                     19377 non-null  float64\n",
      " 21  primary_cleaner.output.tail_au                      19439 non-null  float64\n",
      " 22  primary_cleaner.state.floatbank8_a_air              19435 non-null  float64\n",
      " 23  primary_cleaner.state.floatbank8_a_level            19438 non-null  float64\n",
      " 24  primary_cleaner.state.floatbank8_b_air              19435 non-null  float64\n",
      " 25  primary_cleaner.state.floatbank8_b_level            19438 non-null  float64\n",
      " 26  primary_cleaner.state.floatbank8_c_air              19437 non-null  float64\n",
      " 27  primary_cleaner.state.floatbank8_c_level            19438 non-null  float64\n",
      " 28  primary_cleaner.state.floatbank8_d_air              19436 non-null  float64\n",
      " 29  primary_cleaner.state.floatbank8_d_level            19438 non-null  float64\n",
      " 30  rougher.calculation.sulfate_to_au_concentrate       19437 non-null  float64\n",
      " 31  rougher.calculation.floatbank10_sulfate_to_au_feed  19437 non-null  float64\n",
      " 32  rougher.calculation.floatbank11_sulfate_to_au_feed  19437 non-null  float64\n",
      " 33  rougher.calculation.au_pb_ratio                     19439 non-null  float64\n",
      " 34  rougher.input.feed_ag                               19439 non-null  float64\n",
      " 35  rougher.input.feed_pb                               19339 non-null  float64\n",
      " 36  rougher.input.feed_rate                             19428 non-null  float64\n",
      " 37  rougher.input.feed_size                             19294 non-null  float64\n",
      " 38  rougher.input.feed_sol                              19340 non-null  float64\n",
      " 39  rougher.input.feed_au                               19439 non-null  float64\n",
      " 40  rougher.input.floatbank10_sulfate                   19405 non-null  float64\n",
      " 41  rougher.input.floatbank10_xanthate                  19431 non-null  float64\n",
      " 42  rougher.input.floatbank11_sulfate                   19395 non-null  float64\n",
      " 43  rougher.input.floatbank11_xanthate                  18986 non-null  float64\n",
      " 44  rougher.output.concentrate_ag                       19439 non-null  float64\n",
      " 45  rougher.output.concentrate_pb                       19439 non-null  float64\n",
      " 46  rougher.output.concentrate_sol                      19416 non-null  float64\n",
      " 47  rougher.output.concentrate_au                       19439 non-null  float64\n",
      " 48  rougher.output.recovery                             19439 non-null  float64\n",
      " 49  rougher.output.tail_ag                              19438 non-null  float64\n",
      " 50  rougher.output.tail_pb                              19439 non-null  float64\n",
      " 51  rougher.output.tail_sol                             19439 non-null  float64\n",
      " 52  rougher.output.tail_au                              19439 non-null  float64\n",
      " 53  rougher.state.floatbank10_a_air                     19438 non-null  float64\n",
      " 54  rougher.state.floatbank10_a_level                   19438 non-null  float64\n",
      " 55  rougher.state.floatbank10_b_air                     19438 non-null  float64\n",
      " 56  rougher.state.floatbank10_b_level                   19438 non-null  float64\n",
      " 57  rougher.state.floatbank10_c_air                     19438 non-null  float64\n",
      " 58  rougher.state.floatbank10_c_level                   19438 non-null  float64\n",
      " 59  rougher.state.floatbank10_d_air                     19439 non-null  float64\n",
      " 60  rougher.state.floatbank10_d_level                   19439 non-null  float64\n",
      " 61  rougher.state.floatbank10_e_air                     19003 non-null  float64\n",
      " 62  rougher.state.floatbank10_e_level                   19439 non-null  float64\n",
      " 63  rougher.state.floatbank10_f_air                     19439 non-null  float64\n",
      " 64  rougher.state.floatbank10_f_level                   19439 non-null  float64\n",
      " 65  secondary_cleaner.output.tail_ag                    19437 non-null  float64\n",
      " 66  secondary_cleaner.output.tail_pb                    19427 non-null  float64\n",
      " 67  secondary_cleaner.output.tail_sol                   17691 non-null  float64\n",
      " 68  secondary_cleaner.output.tail_au                    19439 non-null  float64\n",
      " 69  secondary_cleaner.state.floatbank2_a_air            19219 non-null  float64\n",
      " 70  secondary_cleaner.state.floatbank2_a_level          19438 non-null  float64\n",
      " 71  secondary_cleaner.state.floatbank2_b_air            19416 non-null  float64\n",
      " 72  secondary_cleaner.state.floatbank2_b_level          19438 non-null  float64\n",
      " 73  secondary_cleaner.state.floatbank3_a_air            19426 non-null  float64\n",
      " 74  secondary_cleaner.state.floatbank3_a_level          19438 non-null  float64\n",
      " 75  secondary_cleaner.state.floatbank3_b_air            19438 non-null  float64\n",
      " 76  secondary_cleaner.state.floatbank3_b_level          19438 non-null  float64\n",
      " 77  secondary_cleaner.state.floatbank4_a_air            19433 non-null  float64\n",
      " 78  secondary_cleaner.state.floatbank4_a_level          19438 non-null  float64\n",
      " 79  secondary_cleaner.state.floatbank4_b_air            19438 non-null  float64\n",
      " 80  secondary_cleaner.state.floatbank4_b_level          19438 non-null  float64\n",
      " 81  secondary_cleaner.state.floatbank5_a_air            19438 non-null  float64\n",
      " 82  secondary_cleaner.state.floatbank5_a_level          19438 non-null  float64\n",
      " 83  secondary_cleaner.state.floatbank5_b_air            19438 non-null  float64\n",
      " 84  secondary_cleaner.state.floatbank5_b_level          19438 non-null  float64\n",
      " 85  secondary_cleaner.state.floatbank6_a_air            19437 non-null  float64\n",
      " 86  secondary_cleaner.state.floatbank6_a_level          19438 non-null  float64\n",
      "dtypes: float64(86), object(1)\n",
      "memory usage: 13.1+ MB\n"
     ]
    }
   ],
   "source": [
    "# игнорирование предупреждений \n",
    "warnings.filterwarnings('ignore') \n",
    "\n",
    "# формирование датафрейма \n",
    "data_train = pd.read_csv('gold_recovery_train.csv', index_col=0)\n",
    "data_full = pd.read_csv('gold_recovery_full.csv', index_col=0)\n",
    "data_test = pd.read_csv('gold_recovery_test.csv', index_col=0)\n",
    "\n",
    "# просмотр общей информации о датафрейме\n",
    "data_train.info()\n",
    "data_test.info()\n",
    "data_full.info()"
   ]
  },
  {
   "cell_type": "markdown",
   "metadata": {},
   "source": [
    "### Эффективность обогащения \n",
    "\n",
    "Средняя абсолютная ошибка очень маленькая - вычисления верны."
   ]
  },
  {
   "cell_type": "code",
   "execution_count": 30,
   "metadata": {},
   "outputs": [
    {
     "data": {
      "text/plain": [
       "9.73512347450521e-15"
      ]
     },
     "metadata": {},
     "output_type": "display_data"
    }
   ],
   "source": [
    "# функция для вычисления эффективности обогащения \n",
    "def set_rougher_recovery(data):\n",
    "    f = data['rougher.input.feed_au']\n",
    "    c = data['rougher.output.concentrate_au']\n",
    "    t = data['rougher.output.tail_au']\n",
    "    \n",
    "    recovery = (c * (f - t)) / (f * (c - t)) * 100\n",
    "    return recovery\n",
    "\n",
    "# вычисление эффективности обогащения \n",
    "seted_rougher_recovery = data_train.apply(set_rougher_recovery, axis=1)\n",
    "\n",
    "# MAE для рассчитанной эффективности и данной\n",
    "display(mean_absolute_error(data_train['rougher.output.recovery'], seted_rougher_recovery))"
   ]
  },
  {
   "cell_type": "markdown",
   "metadata": {},
   "source": [
    "### Проверка признаков\n",
    "\n",
    "Отсутствующие в тестовой выборке признаки относятся к параметрам продукта и расчетным характеристикам, также среди них две целевых величины:\n",
    "* rougher.output.recovery\n",
    "* final.output.recovery \n",
    "\n",
    "Их можно вытащить из полного датафрейма. \n"
   ]
  },
  {
   "cell_type": "code",
   "execution_count": 31,
   "metadata": {
    "scrolled": true
   },
   "outputs": [
    {
     "data": {
      "text/html": [
       "<div>\n",
       "<style scoped>\n",
       "    .dataframe tbody tr th:only-of-type {\n",
       "        vertical-align: middle;\n",
       "    }\n",
       "\n",
       "    .dataframe tbody tr th {\n",
       "        vertical-align: top;\n",
       "    }\n",
       "\n",
       "    .dataframe thead th {\n",
       "        text-align: right;\n",
       "    }\n",
       "</style>\n",
       "<table border=\"1\" class=\"dataframe\">\n",
       "  <thead>\n",
       "    <tr style=\"text-align: right;\">\n",
       "      <th></th>\n",
       "      <th>date</th>\n",
       "      <th>primary_cleaner.input.sulfate</th>\n",
       "      <th>primary_cleaner.input.depressant</th>\n",
       "      <th>primary_cleaner.input.feed_size</th>\n",
       "      <th>primary_cleaner.input.xanthate</th>\n",
       "      <th>primary_cleaner.state.floatbank8_a_air</th>\n",
       "      <th>primary_cleaner.state.floatbank8_a_level</th>\n",
       "      <th>primary_cleaner.state.floatbank8_b_air</th>\n",
       "      <th>primary_cleaner.state.floatbank8_b_level</th>\n",
       "      <th>primary_cleaner.state.floatbank8_c_air</th>\n",
       "      <th>...</th>\n",
       "      <th>secondary_cleaner.state.floatbank4_b_air</th>\n",
       "      <th>secondary_cleaner.state.floatbank4_b_level</th>\n",
       "      <th>secondary_cleaner.state.floatbank5_a_air</th>\n",
       "      <th>secondary_cleaner.state.floatbank5_a_level</th>\n",
       "      <th>secondary_cleaner.state.floatbank5_b_air</th>\n",
       "      <th>secondary_cleaner.state.floatbank5_b_level</th>\n",
       "      <th>secondary_cleaner.state.floatbank6_a_air</th>\n",
       "      <th>secondary_cleaner.state.floatbank6_a_level</th>\n",
       "      <th>rougher.output.recovery</th>\n",
       "      <th>final.output.recovery</th>\n",
       "    </tr>\n",
       "  </thead>\n",
       "  <tbody>\n",
       "    <tr>\n",
       "      <th>0</th>\n",
       "      <td>2016-09-01 00:59:59</td>\n",
       "      <td>210.800909</td>\n",
       "      <td>14.993118</td>\n",
       "      <td>8.080000</td>\n",
       "      <td>1.005021</td>\n",
       "      <td>1398.981301</td>\n",
       "      <td>-500.225577</td>\n",
       "      <td>1399.144926</td>\n",
       "      <td>-499.919735</td>\n",
       "      <td>1400.102998</td>\n",
       "      <td>...</td>\n",
       "      <td>8.016656</td>\n",
       "      <td>-501.289139</td>\n",
       "      <td>7.946562</td>\n",
       "      <td>-432.317850</td>\n",
       "      <td>4.872511</td>\n",
       "      <td>-500.037437</td>\n",
       "      <td>26.705889</td>\n",
       "      <td>-499.709414</td>\n",
       "      <td>89.993421</td>\n",
       "      <td>70.273583</td>\n",
       "    </tr>\n",
       "    <tr>\n",
       "      <th>1</th>\n",
       "      <td>2016-09-01 01:59:59</td>\n",
       "      <td>215.392455</td>\n",
       "      <td>14.987471</td>\n",
       "      <td>8.080000</td>\n",
       "      <td>0.990469</td>\n",
       "      <td>1398.777912</td>\n",
       "      <td>-500.057435</td>\n",
       "      <td>1398.055362</td>\n",
       "      <td>-499.778182</td>\n",
       "      <td>1396.151033</td>\n",
       "      <td>...</td>\n",
       "      <td>8.130979</td>\n",
       "      <td>-499.634209</td>\n",
       "      <td>7.958270</td>\n",
       "      <td>-525.839648</td>\n",
       "      <td>4.878850</td>\n",
       "      <td>-500.162375</td>\n",
       "      <td>25.019940</td>\n",
       "      <td>-499.819438</td>\n",
       "      <td>88.089657</td>\n",
       "      <td>68.910432</td>\n",
       "    </tr>\n",
       "    <tr>\n",
       "      <th>2</th>\n",
       "      <td>2016-09-01 02:59:59</td>\n",
       "      <td>215.259946</td>\n",
       "      <td>12.884934</td>\n",
       "      <td>7.786667</td>\n",
       "      <td>0.996043</td>\n",
       "      <td>1398.493666</td>\n",
       "      <td>-500.868360</td>\n",
       "      <td>1398.860436</td>\n",
       "      <td>-499.764529</td>\n",
       "      <td>1398.075709</td>\n",
       "      <td>...</td>\n",
       "      <td>8.096893</td>\n",
       "      <td>-500.827423</td>\n",
       "      <td>8.071056</td>\n",
       "      <td>-500.801673</td>\n",
       "      <td>4.905125</td>\n",
       "      <td>-499.828510</td>\n",
       "      <td>24.994862</td>\n",
       "      <td>-500.622559</td>\n",
       "      <td>88.412756</td>\n",
       "      <td>68.143213</td>\n",
       "    </tr>\n",
       "    <tr>\n",
       "      <th>3</th>\n",
       "      <td>2016-09-01 03:59:59</td>\n",
       "      <td>215.336236</td>\n",
       "      <td>12.006805</td>\n",
       "      <td>7.640000</td>\n",
       "      <td>0.863514</td>\n",
       "      <td>1399.618111</td>\n",
       "      <td>-498.863574</td>\n",
       "      <td>1397.440120</td>\n",
       "      <td>-499.211024</td>\n",
       "      <td>1400.129303</td>\n",
       "      <td>...</td>\n",
       "      <td>8.074946</td>\n",
       "      <td>-499.474407</td>\n",
       "      <td>7.897085</td>\n",
       "      <td>-500.868509</td>\n",
       "      <td>4.931400</td>\n",
       "      <td>-499.963623</td>\n",
       "      <td>24.948919</td>\n",
       "      <td>-498.709987</td>\n",
       "      <td>87.360133</td>\n",
       "      <td>67.776393</td>\n",
       "    </tr>\n",
       "    <tr>\n",
       "      <th>4</th>\n",
       "      <td>2016-09-01 04:59:59</td>\n",
       "      <td>199.099327</td>\n",
       "      <td>10.682530</td>\n",
       "      <td>7.530000</td>\n",
       "      <td>0.805575</td>\n",
       "      <td>1401.268123</td>\n",
       "      <td>-500.808305</td>\n",
       "      <td>1398.128818</td>\n",
       "      <td>-499.504543</td>\n",
       "      <td>1402.172226</td>\n",
       "      <td>...</td>\n",
       "      <td>8.054678</td>\n",
       "      <td>-500.397500</td>\n",
       "      <td>8.107890</td>\n",
       "      <td>-509.526725</td>\n",
       "      <td>4.957674</td>\n",
       "      <td>-500.360026</td>\n",
       "      <td>25.003331</td>\n",
       "      <td>-500.856333</td>\n",
       "      <td>83.236367</td>\n",
       "      <td>61.467078</td>\n",
       "    </tr>\n",
       "  </tbody>\n",
       "</table>\n",
       "<p>5 rows × 55 columns</p>\n",
       "</div>"
      ],
      "text/plain": [
       "                  date  primary_cleaner.input.sulfate  \\\n",
       "0  2016-09-01 00:59:59                     210.800909   \n",
       "1  2016-09-01 01:59:59                     215.392455   \n",
       "2  2016-09-01 02:59:59                     215.259946   \n",
       "3  2016-09-01 03:59:59                     215.336236   \n",
       "4  2016-09-01 04:59:59                     199.099327   \n",
       "\n",
       "   primary_cleaner.input.depressant  primary_cleaner.input.feed_size  \\\n",
       "0                         14.993118                         8.080000   \n",
       "1                         14.987471                         8.080000   \n",
       "2                         12.884934                         7.786667   \n",
       "3                         12.006805                         7.640000   \n",
       "4                         10.682530                         7.530000   \n",
       "\n",
       "   primary_cleaner.input.xanthate  primary_cleaner.state.floatbank8_a_air  \\\n",
       "0                        1.005021                             1398.981301   \n",
       "1                        0.990469                             1398.777912   \n",
       "2                        0.996043                             1398.493666   \n",
       "3                        0.863514                             1399.618111   \n",
       "4                        0.805575                             1401.268123   \n",
       "\n",
       "   primary_cleaner.state.floatbank8_a_level  \\\n",
       "0                               -500.225577   \n",
       "1                               -500.057435   \n",
       "2                               -500.868360   \n",
       "3                               -498.863574   \n",
       "4                               -500.808305   \n",
       "\n",
       "   primary_cleaner.state.floatbank8_b_air  \\\n",
       "0                             1399.144926   \n",
       "1                             1398.055362   \n",
       "2                             1398.860436   \n",
       "3                             1397.440120   \n",
       "4                             1398.128818   \n",
       "\n",
       "   primary_cleaner.state.floatbank8_b_level  \\\n",
       "0                               -499.919735   \n",
       "1                               -499.778182   \n",
       "2                               -499.764529   \n",
       "3                               -499.211024   \n",
       "4                               -499.504543   \n",
       "\n",
       "   primary_cleaner.state.floatbank8_c_air  ...  \\\n",
       "0                             1400.102998  ...   \n",
       "1                             1396.151033  ...   \n",
       "2                             1398.075709  ...   \n",
       "3                             1400.129303  ...   \n",
       "4                             1402.172226  ...   \n",
       "\n",
       "   secondary_cleaner.state.floatbank4_b_air  \\\n",
       "0                                  8.016656   \n",
       "1                                  8.130979   \n",
       "2                                  8.096893   \n",
       "3                                  8.074946   \n",
       "4                                  8.054678   \n",
       "\n",
       "   secondary_cleaner.state.floatbank4_b_level  \\\n",
       "0                                 -501.289139   \n",
       "1                                 -499.634209   \n",
       "2                                 -500.827423   \n",
       "3                                 -499.474407   \n",
       "4                                 -500.397500   \n",
       "\n",
       "   secondary_cleaner.state.floatbank5_a_air  \\\n",
       "0                                  7.946562   \n",
       "1                                  7.958270   \n",
       "2                                  8.071056   \n",
       "3                                  7.897085   \n",
       "4                                  8.107890   \n",
       "\n",
       "   secondary_cleaner.state.floatbank5_a_level  \\\n",
       "0                                 -432.317850   \n",
       "1                                 -525.839648   \n",
       "2                                 -500.801673   \n",
       "3                                 -500.868509   \n",
       "4                                 -509.526725   \n",
       "\n",
       "   secondary_cleaner.state.floatbank5_b_air  \\\n",
       "0                                  4.872511   \n",
       "1                                  4.878850   \n",
       "2                                  4.905125   \n",
       "3                                  4.931400   \n",
       "4                                  4.957674   \n",
       "\n",
       "   secondary_cleaner.state.floatbank5_b_level  \\\n",
       "0                                 -500.037437   \n",
       "1                                 -500.162375   \n",
       "2                                 -499.828510   \n",
       "3                                 -499.963623   \n",
       "4                                 -500.360026   \n",
       "\n",
       "   secondary_cleaner.state.floatbank6_a_air  \\\n",
       "0                                 26.705889   \n",
       "1                                 25.019940   \n",
       "2                                 24.994862   \n",
       "3                                 24.948919   \n",
       "4                                 25.003331   \n",
       "\n",
       "   secondary_cleaner.state.floatbank6_a_level  rougher.output.recovery  \\\n",
       "0                                 -499.709414                89.993421   \n",
       "1                                 -499.819438                88.089657   \n",
       "2                                 -500.622559                88.412756   \n",
       "3                                 -498.709987                87.360133   \n",
       "4                                 -500.856333                83.236367   \n",
       "\n",
       "   final.output.recovery  \n",
       "0              70.273583  \n",
       "1              68.910432  \n",
       "2              68.143213  \n",
       "3              67.776393  \n",
       "4              61.467078  \n",
       "\n",
       "[5 rows x 55 columns]"
      ]
     },
     "metadata": {},
     "output_type": "display_data"
    },
    {
     "name": "stdout",
     "output_type": "stream",
     "text": [
      "<class 'pandas.core.frame.DataFrame'>\n",
      "RangeIndex: 5290 entries, 0 to 5289\n",
      "Data columns (total 55 columns):\n",
      " #   Column                                      Non-Null Count  Dtype  \n",
      "---  ------                                      --------------  -----  \n",
      " 0   date                                        5290 non-null   object \n",
      " 1   primary_cleaner.input.sulfate               5286 non-null   float64\n",
      " 2   primary_cleaner.input.depressant            5285 non-null   float64\n",
      " 3   primary_cleaner.input.feed_size             5290 non-null   float64\n",
      " 4   primary_cleaner.input.xanthate              5286 non-null   float64\n",
      " 5   primary_cleaner.state.floatbank8_a_air      5290 non-null   float64\n",
      " 6   primary_cleaner.state.floatbank8_a_level    5290 non-null   float64\n",
      " 7   primary_cleaner.state.floatbank8_b_air      5290 non-null   float64\n",
      " 8   primary_cleaner.state.floatbank8_b_level    5290 non-null   float64\n",
      " 9   primary_cleaner.state.floatbank8_c_air      5290 non-null   float64\n",
      " 10  primary_cleaner.state.floatbank8_c_level    5290 non-null   float64\n",
      " 11  primary_cleaner.state.floatbank8_d_air      5290 non-null   float64\n",
      " 12  primary_cleaner.state.floatbank8_d_level    5290 non-null   float64\n",
      " 13  rougher.input.feed_ag                       5290 non-null   float64\n",
      " 14  rougher.input.feed_pb                       5290 non-null   float64\n",
      " 15  rougher.input.feed_rate                     5287 non-null   float64\n",
      " 16  rougher.input.feed_size                     5289 non-null   float64\n",
      " 17  rougher.input.feed_sol                      5269 non-null   float64\n",
      " 18  rougher.input.feed_au                       5290 non-null   float64\n",
      " 19  rougher.input.floatbank10_sulfate           5285 non-null   float64\n",
      " 20  rougher.input.floatbank10_xanthate          5290 non-null   float64\n",
      " 21  rougher.input.floatbank11_sulfate           5282 non-null   float64\n",
      " 22  rougher.input.floatbank11_xanthate          5265 non-null   float64\n",
      " 23  rougher.state.floatbank10_a_air             5290 non-null   float64\n",
      " 24  rougher.state.floatbank10_a_level           5290 non-null   float64\n",
      " 25  rougher.state.floatbank10_b_air             5290 non-null   float64\n",
      " 26  rougher.state.floatbank10_b_level           5290 non-null   float64\n",
      " 27  rougher.state.floatbank10_c_air             5290 non-null   float64\n",
      " 28  rougher.state.floatbank10_c_level           5290 non-null   float64\n",
      " 29  rougher.state.floatbank10_d_air             5290 non-null   float64\n",
      " 30  rougher.state.floatbank10_d_level           5290 non-null   float64\n",
      " 31  rougher.state.floatbank10_e_air             5290 non-null   float64\n",
      " 32  rougher.state.floatbank10_e_level           5290 non-null   float64\n",
      " 33  rougher.state.floatbank10_f_air             5290 non-null   float64\n",
      " 34  rougher.state.floatbank10_f_level           5290 non-null   float64\n",
      " 35  secondary_cleaner.state.floatbank2_a_air    5287 non-null   float64\n",
      " 36  secondary_cleaner.state.floatbank2_a_level  5290 non-null   float64\n",
      " 37  secondary_cleaner.state.floatbank2_b_air    5288 non-null   float64\n",
      " 38  secondary_cleaner.state.floatbank2_b_level  5290 non-null   float64\n",
      " 39  secondary_cleaner.state.floatbank3_a_air    5281 non-null   float64\n",
      " 40  secondary_cleaner.state.floatbank3_a_level  5290 non-null   float64\n",
      " 41  secondary_cleaner.state.floatbank3_b_air    5290 non-null   float64\n",
      " 42  secondary_cleaner.state.floatbank3_b_level  5290 non-null   float64\n",
      " 43  secondary_cleaner.state.floatbank4_a_air    5290 non-null   float64\n",
      " 44  secondary_cleaner.state.floatbank4_a_level  5290 non-null   float64\n",
      " 45  secondary_cleaner.state.floatbank4_b_air    5290 non-null   float64\n",
      " 46  secondary_cleaner.state.floatbank4_b_level  5290 non-null   float64\n",
      " 47  secondary_cleaner.state.floatbank5_a_air    5290 non-null   float64\n",
      " 48  secondary_cleaner.state.floatbank5_a_level  5290 non-null   float64\n",
      " 49  secondary_cleaner.state.floatbank5_b_air    5290 non-null   float64\n",
      " 50  secondary_cleaner.state.floatbank5_b_level  5290 non-null   float64\n",
      " 51  secondary_cleaner.state.floatbank6_a_air    5290 non-null   float64\n",
      " 52  secondary_cleaner.state.floatbank6_a_level  5290 non-null   float64\n",
      " 53  rougher.output.recovery                     5290 non-null   float64\n",
      " 54  final.output.recovery                       5290 non-null   float64\n",
      "dtypes: float64(54), object(1)\n",
      "memory usage: 2.2+ MB\n"
     ]
    }
   ],
   "source": [
    "# добавление целевых признаков в тестовую выборку \n",
    "data_test['rougher.output.recovery'] = data_test.merge(data_full, on='date')['rougher.output.recovery']\n",
    "data_test['final.output.recovery'] = data_test.merge(data_full, on='date')['final.output.recovery']\n",
    "\n",
    "# проверка внесенных изменений\n",
    "display(data_test.head())\n",
    "data_test.info()"
   ]
  },
  {
   "cell_type": "code",
   "execution_count": 32,
   "metadata": {
    "scrolled": true
   },
   "outputs": [
    {
     "data": {
      "text/plain": [
       "['final.output.concentrate_ag',\n",
       " 'final.output.concentrate_pb',\n",
       " 'final.output.concentrate_sol',\n",
       " 'final.output.concentrate_au',\n",
       " 'final.output.tail_ag',\n",
       " 'final.output.tail_pb',\n",
       " 'final.output.tail_sol',\n",
       " 'final.output.tail_au',\n",
       " 'primary_cleaner.output.concentrate_ag',\n",
       " 'primary_cleaner.output.concentrate_pb',\n",
       " 'primary_cleaner.output.concentrate_sol',\n",
       " 'primary_cleaner.output.concentrate_au',\n",
       " 'primary_cleaner.output.tail_ag',\n",
       " 'primary_cleaner.output.tail_pb',\n",
       " 'primary_cleaner.output.tail_sol',\n",
       " 'primary_cleaner.output.tail_au',\n",
       " 'rougher.calculation.sulfate_to_au_concentrate',\n",
       " 'rougher.calculation.floatbank10_sulfate_to_au_feed',\n",
       " 'rougher.calculation.floatbank11_sulfate_to_au_feed',\n",
       " 'rougher.calculation.au_pb_ratio',\n",
       " 'rougher.output.concentrate_ag',\n",
       " 'rougher.output.concentrate_pb',\n",
       " 'rougher.output.concentrate_sol',\n",
       " 'rougher.output.concentrate_au',\n",
       " 'rougher.output.tail_ag',\n",
       " 'rougher.output.tail_pb',\n",
       " 'rougher.output.tail_sol',\n",
       " 'rougher.output.tail_au',\n",
       " 'secondary_cleaner.output.tail_ag',\n",
       " 'secondary_cleaner.output.tail_pb',\n",
       " 'secondary_cleaner.output.tail_sol',\n",
       " 'secondary_cleaner.output.tail_au']"
      ]
     },
     "metadata": {},
     "output_type": "display_data"
    }
   ],
   "source": [
    "# списки с названиями столюцов датафреймов\n",
    "data_train_columns = list(data_train.columns)\n",
    "data_test_columns = list(data_test.columns)\n",
    "\n",
    "# список с отсутствующими столбцами\n",
    "columns = []\n",
    "\n",
    "# цикл для определения отсутствующих столбцов и добавления их в тестовую выборку\n",
    "for column in data_train_columns:\n",
    "    if column not in data_test_columns:\n",
    "        columns.append(column)\n",
    "\n",
    "# обновление списка с названиями столбцов тестовой выборки\n",
    "data_test_columns = list(data_test.columns)\n",
    "\n",
    "display(columns)"
   ]
  },
  {
   "cell_type": "markdown",
   "metadata": {},
   "source": [
    "### Предобработка данных\n"
   ]
  },
  {
   "cell_type": "markdown",
   "metadata": {},
   "source": [
    "#### Типы данных\n",
    "Тип данных у параметра 'date' необходимо изменить на datetime64."
   ]
  },
  {
   "cell_type": "code",
   "execution_count": 33,
   "metadata": {},
   "outputs": [],
   "source": [
    "# изменения типов данных на datetime64\n",
    "data_train['date'] = pd.to_datetime(data_train['date'], format='%Y-%m-%d %H:%M:%S')\n",
    "data_test['date'] = pd.to_datetime(data_test['date'], format='%Y-%m-%d %H:%M:%S')\n",
    "data_full['date'] = pd.to_datetime(data_full['date'], format='%Y-%m-%d %H:%M:%S')"
   ]
  },
  {
   "cell_type": "markdown",
   "metadata": {},
   "source": [
    "#### Пропуски \n",
    "Пропусков в данных немного, их можно заполнить методом k-ближайших соседей."
   ]
  },
  {
   "cell_type": "code",
   "execution_count": 34,
   "metadata": {
    "scrolled": true
   },
   "outputs": [
    {
     "name": "stdout",
     "output_type": "stream",
     "text": [
      "<class 'pandas.core.frame.DataFrame'>\n",
      "RangeIndex: 14149 entries, 0 to 14148\n",
      "Data columns (total 87 columns):\n",
      " #   Column                                              Non-Null Count  Dtype         \n",
      "---  ------                                              --------------  -----         \n",
      " 0   date                                                14149 non-null  datetime64[ns]\n",
      " 1   final.output.concentrate_ag                         14149 non-null  float64       \n",
      " 2   final.output.concentrate_pb                         14149 non-null  float64       \n",
      " 3   final.output.concentrate_sol                        14149 non-null  float64       \n",
      " 4   final.output.concentrate_au                         14149 non-null  float64       \n",
      " 5   final.output.recovery                               14149 non-null  float64       \n",
      " 6   final.output.tail_ag                                14149 non-null  float64       \n",
      " 7   final.output.tail_pb                                14149 non-null  float64       \n",
      " 8   final.output.tail_sol                               14149 non-null  float64       \n",
      " 9   final.output.tail_au                                14149 non-null  float64       \n",
      " 10  primary_cleaner.input.sulfate                       14149 non-null  float64       \n",
      " 11  primary_cleaner.input.depressant                    14149 non-null  float64       \n",
      " 12  primary_cleaner.input.feed_size                     14149 non-null  float64       \n",
      " 13  primary_cleaner.input.xanthate                      14149 non-null  float64       \n",
      " 14  primary_cleaner.output.concentrate_ag               14149 non-null  float64       \n",
      " 15  primary_cleaner.output.concentrate_pb               14149 non-null  float64       \n",
      " 16  primary_cleaner.output.concentrate_sol              14149 non-null  float64       \n",
      " 17  primary_cleaner.output.concentrate_au               14149 non-null  float64       \n",
      " 18  primary_cleaner.output.tail_ag                      14149 non-null  float64       \n",
      " 19  primary_cleaner.output.tail_pb                      14149 non-null  float64       \n",
      " 20  primary_cleaner.output.tail_sol                     14149 non-null  float64       \n",
      " 21  primary_cleaner.output.tail_au                      14149 non-null  float64       \n",
      " 22  primary_cleaner.state.floatbank8_a_air              14149 non-null  float64       \n",
      " 23  primary_cleaner.state.floatbank8_a_level            14149 non-null  float64       \n",
      " 24  primary_cleaner.state.floatbank8_b_air              14149 non-null  float64       \n",
      " 25  primary_cleaner.state.floatbank8_b_level            14149 non-null  float64       \n",
      " 26  primary_cleaner.state.floatbank8_c_air              14149 non-null  float64       \n",
      " 27  primary_cleaner.state.floatbank8_c_level            14149 non-null  float64       \n",
      " 28  primary_cleaner.state.floatbank8_d_air              14149 non-null  float64       \n",
      " 29  primary_cleaner.state.floatbank8_d_level            14149 non-null  float64       \n",
      " 30  rougher.calculation.sulfate_to_au_concentrate       14149 non-null  float64       \n",
      " 31  rougher.calculation.floatbank10_sulfate_to_au_feed  14149 non-null  float64       \n",
      " 32  rougher.calculation.floatbank11_sulfate_to_au_feed  14149 non-null  float64       \n",
      " 33  rougher.calculation.au_pb_ratio                     14149 non-null  float64       \n",
      " 34  rougher.input.feed_ag                               14149 non-null  float64       \n",
      " 35  rougher.input.feed_pb                               14149 non-null  float64       \n",
      " 36  rougher.input.feed_rate                             14149 non-null  float64       \n",
      " 37  rougher.input.feed_size                             14149 non-null  float64       \n",
      " 38  rougher.input.feed_sol                              14149 non-null  float64       \n",
      " 39  rougher.input.feed_au                               14149 non-null  float64       \n",
      " 40  rougher.input.floatbank10_sulfate                   14149 non-null  float64       \n",
      " 41  rougher.input.floatbank10_xanthate                  14149 non-null  float64       \n",
      " 42  rougher.input.floatbank11_sulfate                   14149 non-null  float64       \n",
      " 43  rougher.input.floatbank11_xanthate                  14149 non-null  float64       \n",
      " 44  rougher.output.concentrate_ag                       14149 non-null  float64       \n",
      " 45  rougher.output.concentrate_pb                       14149 non-null  float64       \n",
      " 46  rougher.output.concentrate_sol                      14149 non-null  float64       \n",
      " 47  rougher.output.concentrate_au                       14149 non-null  float64       \n",
      " 48  rougher.output.recovery                             14149 non-null  float64       \n",
      " 49  rougher.output.tail_ag                              14149 non-null  float64       \n",
      " 50  rougher.output.tail_pb                              14149 non-null  float64       \n",
      " 51  rougher.output.tail_sol                             14149 non-null  float64       \n",
      " 52  rougher.output.tail_au                              14149 non-null  float64       \n",
      " 53  rougher.state.floatbank10_a_air                     14149 non-null  float64       \n",
      " 54  rougher.state.floatbank10_a_level                   14149 non-null  float64       \n",
      " 55  rougher.state.floatbank10_b_air                     14149 non-null  float64       \n",
      " 56  rougher.state.floatbank10_b_level                   14149 non-null  float64       \n",
      " 57  rougher.state.floatbank10_c_air                     14149 non-null  float64       \n",
      " 58  rougher.state.floatbank10_c_level                   14149 non-null  float64       \n",
      " 59  rougher.state.floatbank10_d_air                     14149 non-null  float64       \n",
      " 60  rougher.state.floatbank10_d_level                   14149 non-null  float64       \n",
      " 61  rougher.state.floatbank10_e_air                     14149 non-null  float64       \n",
      " 62  rougher.state.floatbank10_e_level                   14149 non-null  float64       \n",
      " 63  rougher.state.floatbank10_f_air                     14149 non-null  float64       \n",
      " 64  rougher.state.floatbank10_f_level                   14149 non-null  float64       \n",
      " 65  secondary_cleaner.output.tail_ag                    14149 non-null  float64       \n",
      " 66  secondary_cleaner.output.tail_pb                    14149 non-null  float64       \n",
      " 67  secondary_cleaner.output.tail_sol                   14149 non-null  float64       \n",
      " 68  secondary_cleaner.output.tail_au                    14149 non-null  float64       \n",
      " 69  secondary_cleaner.state.floatbank2_a_air            14149 non-null  float64       \n",
      " 70  secondary_cleaner.state.floatbank2_a_level          14149 non-null  float64       \n",
      " 71  secondary_cleaner.state.floatbank2_b_air            14149 non-null  float64       \n",
      " 72  secondary_cleaner.state.floatbank2_b_level          14149 non-null  float64       \n",
      " 73  secondary_cleaner.state.floatbank3_a_air            14149 non-null  float64       \n",
      " 74  secondary_cleaner.state.floatbank3_a_level          14149 non-null  float64       \n",
      " 75  secondary_cleaner.state.floatbank3_b_air            14149 non-null  float64       \n",
      " 76  secondary_cleaner.state.floatbank3_b_level          14149 non-null  float64       \n",
      " 77  secondary_cleaner.state.floatbank4_a_air            14149 non-null  float64       \n",
      " 78  secondary_cleaner.state.floatbank4_a_level          14149 non-null  float64       \n",
      " 79  secondary_cleaner.state.floatbank4_b_air            14149 non-null  float64       \n",
      " 80  secondary_cleaner.state.floatbank4_b_level          14149 non-null  float64       \n",
      " 81  secondary_cleaner.state.floatbank5_a_air            14149 non-null  float64       \n",
      " 82  secondary_cleaner.state.floatbank5_a_level          14149 non-null  float64       \n",
      " 83  secondary_cleaner.state.floatbank5_b_air            14149 non-null  float64       \n",
      " 84  secondary_cleaner.state.floatbank5_b_level          14149 non-null  float64       \n",
      " 85  secondary_cleaner.state.floatbank6_a_air            14149 non-null  float64       \n",
      " 86  secondary_cleaner.state.floatbank6_a_level          14149 non-null  float64       \n",
      "dtypes: datetime64[ns](1), float64(86)\n",
      "memory usage: 9.4 MB\n",
      "<class 'pandas.core.frame.DataFrame'>\n",
      "RangeIndex: 5229 entries, 0 to 5228\n",
      "Data columns (total 55 columns):\n",
      " #   Column                                      Non-Null Count  Dtype         \n",
      "---  ------                                      --------------  -----         \n",
      " 0   date                                        5229 non-null   datetime64[ns]\n",
      " 1   primary_cleaner.input.sulfate               5229 non-null   float64       \n",
      " 2   primary_cleaner.input.depressant            5229 non-null   float64       \n",
      " 3   primary_cleaner.input.feed_size             5229 non-null   float64       \n",
      " 4   primary_cleaner.input.xanthate              5229 non-null   float64       \n",
      " 5   primary_cleaner.state.floatbank8_a_air      5229 non-null   float64       \n",
      " 6   primary_cleaner.state.floatbank8_a_level    5229 non-null   float64       \n",
      " 7   primary_cleaner.state.floatbank8_b_air      5229 non-null   float64       \n",
      " 8   primary_cleaner.state.floatbank8_b_level    5229 non-null   float64       \n",
      " 9   primary_cleaner.state.floatbank8_c_air      5229 non-null   float64       \n",
      " 10  primary_cleaner.state.floatbank8_c_level    5229 non-null   float64       \n",
      " 11  primary_cleaner.state.floatbank8_d_air      5229 non-null   float64       \n",
      " 12  primary_cleaner.state.floatbank8_d_level    5229 non-null   float64       \n",
      " 13  rougher.input.feed_ag                       5229 non-null   float64       \n",
      " 14  rougher.input.feed_pb                       5229 non-null   float64       \n",
      " 15  rougher.input.feed_rate                     5229 non-null   float64       \n",
      " 16  rougher.input.feed_size                     5229 non-null   float64       \n",
      " 17  rougher.input.feed_sol                      5229 non-null   float64       \n",
      " 18  rougher.input.feed_au                       5229 non-null   float64       \n",
      " 19  rougher.input.floatbank10_sulfate           5229 non-null   float64       \n",
      " 20  rougher.input.floatbank10_xanthate          5229 non-null   float64       \n",
      " 21  rougher.input.floatbank11_sulfate           5229 non-null   float64       \n",
      " 22  rougher.input.floatbank11_xanthate          5229 non-null   float64       \n",
      " 23  rougher.state.floatbank10_a_air             5229 non-null   float64       \n",
      " 24  rougher.state.floatbank10_a_level           5229 non-null   float64       \n",
      " 25  rougher.state.floatbank10_b_air             5229 non-null   float64       \n",
      " 26  rougher.state.floatbank10_b_level           5229 non-null   float64       \n",
      " 27  rougher.state.floatbank10_c_air             5229 non-null   float64       \n",
      " 28  rougher.state.floatbank10_c_level           5229 non-null   float64       \n",
      " 29  rougher.state.floatbank10_d_air             5229 non-null   float64       \n",
      " 30  rougher.state.floatbank10_d_level           5229 non-null   float64       \n",
      " 31  rougher.state.floatbank10_e_air             5229 non-null   float64       \n",
      " 32  rougher.state.floatbank10_e_level           5229 non-null   float64       \n",
      " 33  rougher.state.floatbank10_f_air             5229 non-null   float64       \n",
      " 34  rougher.state.floatbank10_f_level           5229 non-null   float64       \n",
      " 35  secondary_cleaner.state.floatbank2_a_air    5229 non-null   float64       \n",
      " 36  secondary_cleaner.state.floatbank2_a_level  5229 non-null   float64       \n",
      " 37  secondary_cleaner.state.floatbank2_b_air    5229 non-null   float64       \n",
      " 38  secondary_cleaner.state.floatbank2_b_level  5229 non-null   float64       \n",
      " 39  secondary_cleaner.state.floatbank3_a_air    5229 non-null   float64       \n",
      " 40  secondary_cleaner.state.floatbank3_a_level  5229 non-null   float64       \n",
      " 41  secondary_cleaner.state.floatbank3_b_air    5229 non-null   float64       \n",
      " 42  secondary_cleaner.state.floatbank3_b_level  5229 non-null   float64       \n",
      " 43  secondary_cleaner.state.floatbank4_a_air    5229 non-null   float64       \n",
      " 44  secondary_cleaner.state.floatbank4_a_level  5229 non-null   float64       \n",
      " 45  secondary_cleaner.state.floatbank4_b_air    5229 non-null   float64       \n",
      " 46  secondary_cleaner.state.floatbank4_b_level  5229 non-null   float64       \n",
      " 47  secondary_cleaner.state.floatbank5_a_air    5229 non-null   float64       \n",
      " 48  secondary_cleaner.state.floatbank5_a_level  5229 non-null   float64       \n",
      " 49  secondary_cleaner.state.floatbank5_b_air    5229 non-null   float64       \n",
      " 50  secondary_cleaner.state.floatbank5_b_level  5229 non-null   float64       \n",
      " 51  secondary_cleaner.state.floatbank6_a_air    5229 non-null   float64       \n",
      " 52  secondary_cleaner.state.floatbank6_a_level  5229 non-null   float64       \n",
      " 53  rougher.output.recovery                     5229 non-null   float64       \n",
      " 54  final.output.recovery                       5229 non-null   float64       \n",
      "dtypes: datetime64[ns](1), float64(54)\n",
      "memory usage: 2.2 MB\n",
      "<class 'pandas.core.frame.DataFrame'>\n",
      "RangeIndex: 19439 entries, 0 to 19438\n",
      "Data columns (total 87 columns):\n",
      " #   Column                                              Non-Null Count  Dtype         \n",
      "---  ------                                              --------------  -----         \n",
      " 0   date                                                19439 non-null  datetime64[ns]\n",
      " 1   final.output.concentrate_ag                         19439 non-null  float64       \n",
      " 2   final.output.concentrate_pb                         19439 non-null  float64       \n",
      " 3   final.output.concentrate_sol                        19439 non-null  float64       \n",
      " 4   final.output.concentrate_au                         19439 non-null  float64       \n",
      " 5   final.output.recovery                               19439 non-null  float64       \n",
      " 6   final.output.tail_ag                                19439 non-null  float64       \n",
      " 7   final.output.tail_pb                                19439 non-null  float64       \n",
      " 8   final.output.tail_sol                               19439 non-null  float64       \n",
      " 9   final.output.tail_au                                19439 non-null  float64       \n",
      " 10  primary_cleaner.input.sulfate                       19439 non-null  float64       \n",
      " 11  primary_cleaner.input.depressant                    19439 non-null  float64       \n",
      " 12  primary_cleaner.input.feed_size                     19439 non-null  float64       \n",
      " 13  primary_cleaner.input.xanthate                      19439 non-null  float64       \n",
      " 14  primary_cleaner.output.concentrate_ag               19439 non-null  float64       \n",
      " 15  primary_cleaner.output.concentrate_pb               19439 non-null  float64       \n",
      " 16  primary_cleaner.output.concentrate_sol              19439 non-null  float64       \n",
      " 17  primary_cleaner.output.concentrate_au               19439 non-null  float64       \n",
      " 18  primary_cleaner.output.tail_ag                      19439 non-null  float64       \n",
      " 19  primary_cleaner.output.tail_pb                      19439 non-null  float64       \n",
      " 20  primary_cleaner.output.tail_sol                     19439 non-null  float64       \n",
      " 21  primary_cleaner.output.tail_au                      19439 non-null  float64       \n",
      " 22  primary_cleaner.state.floatbank8_a_air              19439 non-null  float64       \n",
      " 23  primary_cleaner.state.floatbank8_a_level            19439 non-null  float64       \n",
      " 24  primary_cleaner.state.floatbank8_b_air              19439 non-null  float64       \n",
      " 25  primary_cleaner.state.floatbank8_b_level            19439 non-null  float64       \n",
      " 26  primary_cleaner.state.floatbank8_c_air              19439 non-null  float64       \n",
      " 27  primary_cleaner.state.floatbank8_c_level            19439 non-null  float64       \n",
      " 28  primary_cleaner.state.floatbank8_d_air              19439 non-null  float64       \n",
      " 29  primary_cleaner.state.floatbank8_d_level            19439 non-null  float64       \n",
      " 30  rougher.calculation.sulfate_to_au_concentrate       19439 non-null  float64       \n",
      " 31  rougher.calculation.floatbank10_sulfate_to_au_feed  19439 non-null  float64       \n",
      " 32  rougher.calculation.floatbank11_sulfate_to_au_feed  19439 non-null  float64       \n",
      " 33  rougher.calculation.au_pb_ratio                     19439 non-null  float64       \n",
      " 34  rougher.input.feed_ag                               19439 non-null  float64       \n",
      " 35  rougher.input.feed_pb                               19439 non-null  float64       \n",
      " 36  rougher.input.feed_rate                             19439 non-null  float64       \n",
      " 37  rougher.input.feed_size                             19439 non-null  float64       \n",
      " 38  rougher.input.feed_sol                              19439 non-null  float64       \n",
      " 39  rougher.input.feed_au                               19439 non-null  float64       \n",
      " 40  rougher.input.floatbank10_sulfate                   19439 non-null  float64       \n",
      " 41  rougher.input.floatbank10_xanthate                  19439 non-null  float64       \n",
      " 42  rougher.input.floatbank11_sulfate                   19439 non-null  float64       \n",
      " 43  rougher.input.floatbank11_xanthate                  19439 non-null  float64       \n",
      " 44  rougher.output.concentrate_ag                       19439 non-null  float64       \n",
      " 45  rougher.output.concentrate_pb                       19439 non-null  float64       \n",
      " 46  rougher.output.concentrate_sol                      19439 non-null  float64       \n",
      " 47  rougher.output.concentrate_au                       19439 non-null  float64       \n",
      " 48  rougher.output.recovery                             19439 non-null  float64       \n",
      " 49  rougher.output.tail_ag                              19439 non-null  float64       \n",
      " 50  rougher.output.tail_pb                              19439 non-null  float64       \n",
      " 51  rougher.output.tail_sol                             19439 non-null  float64       \n",
      " 52  rougher.output.tail_au                              19439 non-null  float64       \n",
      " 53  rougher.state.floatbank10_a_air                     19439 non-null  float64       \n",
      " 54  rougher.state.floatbank10_a_level                   19439 non-null  float64       \n",
      " 55  rougher.state.floatbank10_b_air                     19439 non-null  float64       \n",
      " 56  rougher.state.floatbank10_b_level                   19439 non-null  float64       \n",
      " 57  rougher.state.floatbank10_c_air                     19439 non-null  float64       \n",
      " 58  rougher.state.floatbank10_c_level                   19439 non-null  float64       \n",
      " 59  rougher.state.floatbank10_d_air                     19439 non-null  float64       \n",
      " 60  rougher.state.floatbank10_d_level                   19439 non-null  float64       \n",
      " 61  rougher.state.floatbank10_e_air                     19439 non-null  float64       \n",
      " 62  rougher.state.floatbank10_e_level                   19439 non-null  float64       \n",
      " 63  rougher.state.floatbank10_f_air                     19439 non-null  float64       \n",
      " 64  rougher.state.floatbank10_f_level                   19439 non-null  float64       \n",
      " 65  secondary_cleaner.output.tail_ag                    19439 non-null  float64       \n",
      " 66  secondary_cleaner.output.tail_pb                    19439 non-null  float64       \n",
      " 67  secondary_cleaner.output.tail_sol                   19439 non-null  float64       \n",
      " 68  secondary_cleaner.output.tail_au                    19439 non-null  float64       \n",
      " 69  secondary_cleaner.state.floatbank2_a_air            19439 non-null  float64       \n",
      " 70  secondary_cleaner.state.floatbank2_a_level          19439 non-null  float64       \n",
      " 71  secondary_cleaner.state.floatbank2_b_air            19439 non-null  float64       \n",
      " 72  secondary_cleaner.state.floatbank2_b_level          19439 non-null  float64       \n",
      " 73  secondary_cleaner.state.floatbank3_a_air            19439 non-null  float64       \n",
      " 74  secondary_cleaner.state.floatbank3_a_level          19439 non-null  float64       \n",
      " 75  secondary_cleaner.state.floatbank3_b_air            19439 non-null  float64       \n",
      " 76  secondary_cleaner.state.floatbank3_b_level          19439 non-null  float64       \n",
      " 77  secondary_cleaner.state.floatbank4_a_air            19439 non-null  float64       \n",
      " 78  secondary_cleaner.state.floatbank4_a_level          19439 non-null  float64       \n",
      " 79  secondary_cleaner.state.floatbank4_b_air            19439 non-null  float64       \n",
      " 80  secondary_cleaner.state.floatbank4_b_level          19439 non-null  float64       \n",
      " 81  secondary_cleaner.state.floatbank5_a_air            19439 non-null  float64       \n",
      " 82  secondary_cleaner.state.floatbank5_a_level          19439 non-null  float64       \n",
      " 83  secondary_cleaner.state.floatbank5_b_air            19439 non-null  float64       \n",
      " 84  secondary_cleaner.state.floatbank5_b_level          19439 non-null  float64       \n",
      " 85  secondary_cleaner.state.floatbank6_a_air            19439 non-null  float64       \n",
      " 86  secondary_cleaner.state.floatbank6_a_level          19439 non-null  float64       \n",
      "dtypes: datetime64[ns](1), float64(86)\n",
      "memory usage: 12.9 MB\n"
     ]
    }
   ],
   "source": [
    "# удаление столбца date из списков с названиями столбцов датафреймов\n",
    "data_train_columns.pop(0)\n",
    "data_test_columns.pop(0)\n",
    "\n",
    "# удаление объектов с пропусками в тестовых данных\n",
    "data_test = data_test.dropna(axis=0).reset_index(drop=True)\n",
    "\n",
    "# создание KNNImputer объектов\n",
    "imputer_train = KNNImputer(n_neighbors=2)\n",
    "imputer_full = KNNImputer(n_neighbors=2)\n",
    "\n",
    "# обучение и заполнение пропусков \n",
    "data_train[data_train_columns] = imputer_train.fit_transform(data_train[data_train_columns])\n",
    "data_full[data_train_columns] = imputer_full.fit_transform(data_full[data_train_columns])\n",
    "\n",
    "# проверка внесенных изменений\n",
    "data_train.info()\n",
    "data_test.info()\n",
    "data_full.info()"
   ]
  },
  {
   "cell_type": "markdown",
   "metadata": {},
   "source": [
    "#### Дубликаты\n",
    "\n",
    "Дубликатов не выявлено."
   ]
  },
  {
   "cell_type": "code",
   "execution_count": 35,
   "metadata": {},
   "outputs": [
    {
     "data": {
      "text/plain": [
       "0"
      ]
     },
     "metadata": {},
     "output_type": "display_data"
    },
    {
     "data": {
      "text/plain": [
       "0"
      ]
     },
     "metadata": {},
     "output_type": "display_data"
    },
    {
     "data": {
      "text/plain": [
       "0"
      ]
     },
     "metadata": {},
     "output_type": "display_data"
    }
   ],
   "source": [
    "display(data_train.duplicated().sum())\n",
    "display(data_full.duplicated().sum())\n",
    "display(data_test.duplicated().sum())"
   ]
  },
  {
   "cell_type": "markdown",
   "metadata": {},
   "source": [
    "## Анализ данных"
   ]
  },
  {
   "cell_type": "markdown",
   "metadata": {},
   "source": [
    "### Концентрация металлов на этапах очистки\n",
    "\n",
    "У всех трех металлов стандартное отклонение уменьшается после второго этапа очистки, иными словами разброс значений концентрации становится меньше, значения более приближены к среднему. <br>\n",
    "Также, имеется аномалия: у умеренного количества сырья концентрация близка к нулю, но после второго этапа очистки количество такого сырья уменьшается примерно в два раза."
   ]
  },
  {
   "cell_type": "markdown",
   "metadata": {},
   "source": [
    "#### Общий взгляд\n",
    "Концентрация металлов: \n",
    "* У золота (Au) после второго этапа очистки возрастает, примерно на 30%.\n",
    "* У серебра (Ag) после второго этапа очистки уменьшается почти на 40%.\n",
    "* У свинца (Pb) увеличивается на 1.5%, изменение по сравнению с другими металлами очень маленькое."
   ]
  },
  {
   "cell_type": "code",
   "execution_count": 36,
   "metadata": {},
   "outputs": [
    {
     "data": {
      "text/plain": [
       "[32.1194004078765, 8.44240807771906, 9.823363852063798]"
      ]
     },
     "metadata": {},
     "output_type": "display_data"
    },
    {
     "data": {
      "text/plain": [
       "[44.0765129419528, 5.16845713256855, 9.978900459791948]"
      ]
     },
     "metadata": {},
     "output_type": "display_data"
    },
    {
     "data": {
      "image/png": "[encoded data removed]",
      "text/plain": [
       "<Figure size 432x288 with 1 Axes>"
      ]
     },
     "metadata": {
      "needs_background": "light"
     },
     "output_type": "display_data"
    }
   ],
   "source": [
    "# названия металлов \n",
    "labels = ['Au', 'Ag', 'Pb']\n",
    "\n",
    "# списки со средними значениями концентрации металлов \n",
    "primary_cleaner = [data_full['primary_cleaner.output.concentrate_au'].mean(), data_full['primary_cleaner.output.concentrate_ag'].mean(), data_full['primary_cleaner.output.concentrate_pb'].mean()]\n",
    "final = [data_full['final.output.concentrate_au'].mean(), data_full['final.output.concentrate_ag'].mean(), data_full['final.output.concentrate_pb'].mean()]\n",
    "\n",
    "display(primary_cleaner)\n",
    "display(final)\n",
    "\n",
    "# формирование столбчатой диаграммы \n",
    "x = np.arange(len(labels))\n",
    "fig, ax = plt.subplots()\n",
    "width = 0.3\n",
    "ax.bar(x - width/2, primary_cleaner, width, label='primary_cleaner')\n",
    "ax.bar(x + width/2, final, width, label='final')\n",
    "ax.legend()\n",
    "ax.set_xticks(x)\n",
    "ax.set_xticklabels(labels)\n",
    "fig.show()"
   ]
  },
  {
   "cell_type": "markdown",
   "metadata": {},
   "source": [
    "#### Этап флотации\n",
    "После этапа флотации концентрация металлов: \n",
    "* У золота (Au) увеличивается, почти в 2.5 раза.\n",
    "* У серебра (Ag) возрастает на 37%.\n",
    "* У свинца (Pb) увеличивается в 2 раза."
   ]
  },
  {
   "cell_type": "code",
   "execution_count": 37,
   "metadata": {},
   "outputs": [
    {
     "data": {
      "text/plain": [
       "[8.266097326589103, 8.794927425814688, 3.5979597139398583]"
      ]
     },
     "metadata": {},
     "output_type": "display_data"
    },
    {
     "data": {
      "text/plain": [
       "[19.772000139486316, 11.994759359873429, 7.606272313195003]"
      ]
     },
     "metadata": {},
     "output_type": "display_data"
    },
    {
     "data": {
      "image/png": "[encoded data removed]",
      "text/plain": [
       "<Figure size 432x288 with 1 Axes>"
      ]
     },
     "metadata": {
      "needs_background": "light"
     },
     "output_type": "display_data"
    }
   ],
   "source": [
    "# названия металлов \n",
    "labels = ['Au', 'Ag', 'Pb']\n",
    "\n",
    "# списки со средними значениями концентрации металлов \n",
    "rougher_input = [data_full['rougher.input.feed_au'].mean(), data_full['rougher.input.feed_ag'].mean(), data_full['rougher.input.feed_pb'].mean()]\n",
    "rougher_output  = [data_full['rougher.output.concentrate_au'].mean(), data_full['rougher.output.concentrate_ag'].mean(), data_full['rougher.output.concentrate_pb'].mean()]\n",
    "\n",
    "display(rougher_input)\n",
    "display(rougher_output)\n",
    "\n",
    "# формирование столбчатой диаграммы \n",
    "x = np.arange(len(labels))\n",
    "fig, ax = plt.subplots()\n",
    "width = 0.3\n",
    "ax.bar(x - width/2, rougher_input, width, label='rougher_input')\n",
    "ax.bar(x + width/2, rougher_output, width, label='rougher_output')\n",
    "ax.legend()\n",
    "ax.set_xticks(x)\n",
    "ax.set_xticklabels(labels)\n",
    "fig.show()"
   ]
  },
  {
   "cell_type": "markdown",
   "metadata": {},
   "source": [
    "#### Золото (Au)"
   ]
  },
  {
   "cell_type": "code",
   "execution_count": 38,
   "metadata": {},
   "outputs": [
    {
     "data": {
      "text/plain": [
       "<AxesSubplot:>"
      ]
     },
     "metadata": {},
     "output_type": "display_data"
    },
    {
     "data": {
      "text/plain": [
       "5.627466192568694"
      ]
     },
     "metadata": {},
     "output_type": "display_data"
    },
    {
     "data": {
      "text/plain": [
       "5.1296519451435865"
      ]
     },
     "metadata": {},
     "output_type": "display_data"
    },
    {
     "data": {
      "image/png": "[encoded data removed]",
      "text/plain": [
       "<Figure size 432x288 with 1 Axes>"
      ]
     },
     "metadata": {
      "needs_background": "light"
     },
     "output_type": "display_data"
    }
   ],
   "source": [
    "# гистограммы концентрации золота \n",
    "ax = data_full['primary_cleaner.output.concentrate_au'].hist(bins=50, legend=True)\n",
    "display(data_full['final.output.concentrate_au'].hist(bins=50, ax=ax, legend=True, alpha=0.6))\n",
    "\n",
    "# стандартные отклонения \n",
    "display(np.std(data_full['primary_cleaner.output.concentrate_au']))\n",
    "display(np.std(data_full['final.output.concentrate_au']))"
   ]
  },
  {
   "cell_type": "markdown",
   "metadata": {},
   "source": [
    "#### Серебро (Ag)"
   ]
  },
  {
   "cell_type": "code",
   "execution_count": 39,
   "metadata": {},
   "outputs": [
    {
     "data": {
      "text/plain": [
       "<AxesSubplot:>"
      ]
     },
     "metadata": {},
     "output_type": "display_data"
    },
    {
     "data": {
      "text/plain": [
       "2.054411672236725"
      ]
     },
     "metadata": {},
     "output_type": "display_data"
    },
    {
     "data": {
      "text/plain": [
       "1.3722787614643828"
      ]
     },
     "metadata": {},
     "output_type": "display_data"
    },
    {
     "data": {
      "image/png": "[encoded data removed]",
      "text/plain": [
       "<Figure size 432x288 with 1 Axes>"
      ]
     },
     "metadata": {
      "needs_background": "light"
     },
     "output_type": "display_data"
    }
   ],
   "source": [
    "# гистограммы концентрации серебра \n",
    "ax = data_full['primary_cleaner.output.concentrate_ag'].hist(bins=50, legend=True)\n",
    "display(data_full['final.output.concentrate_ag'].hist(bins=50, ax=ax, legend=True, alpha=0.6))\n",
    "\n",
    "# стандартные отклонения \n",
    "display(np.std(data_full['primary_cleaner.output.concentrate_ag']))\n",
    "display(np.std(data_full['final.output.concentrate_ag']))"
   ]
  },
  {
   "cell_type": "markdown",
   "metadata": {},
   "source": [
    "#### Свинец (Pb)"
   ]
  },
  {
   "cell_type": "code",
   "execution_count": 40,
   "metadata": {},
   "outputs": [
    {
     "data": {
      "text/plain": [
       "<AxesSubplot:>"
      ]
     },
     "metadata": {},
     "output_type": "display_data"
    },
    {
     "data": {
      "text/plain": [
       "2.554752695450784"
      ]
     },
     "metadata": {},
     "output_type": "display_data"
    },
    {
     "data": {
      "text/plain": [
       "1.6691538271136712"
      ]
     },
     "metadata": {},
     "output_type": "display_data"
    },
    {
     "data": {
      "image/png": "[encoded data removed]",
      "text/plain": [
       "<Figure size 432x288 with 1 Axes>"
      ]
     },
     "metadata": {
      "needs_background": "light"
     },
     "output_type": "display_data"
    }
   ],
   "source": [
    "# гистограммы концентрации свинца \n",
    "ax = data_full['primary_cleaner.output.concentrate_pb'].hist(bins=50, legend=True)\n",
    "display(data_full['final.output.concentrate_pb'].hist(bins=50, ax=ax, legend=True, alpha=0.6))\n",
    "\n",
    "# стандартные отклонения \n",
    "display(np.std(data_full['primary_cleaner.output.concentrate_pb']))\n",
    "display(np.std(data_full['final.output.concentrate_pb']))"
   ]
  },
  {
   "cell_type": "markdown",
   "metadata": {},
   "source": [
    "### Размеры гранул сырья\n",
    "Распределения размеров гранул сырья на разных этапах разработки схожи."
   ]
  },
  {
   "cell_type": "markdown",
   "metadata": {},
   "source": [
    "#### На этапе флотации"
   ]
  },
  {
   "cell_type": "code",
   "execution_count": 41,
   "metadata": {
    "scrolled": false
   },
   "outputs": [
    {
     "data": {
      "text/plain": [
       "<AxesSubplot:>"
      ]
     },
     "metadata": {},
     "output_type": "display_data"
    },
    {
     "data": {
      "text/plain": [
       "60.1426461303941"
      ]
     },
     "metadata": {},
     "output_type": "display_data"
    },
    {
     "data": {
      "text/plain": [
       "55.86397810255099"
      ]
     },
     "metadata": {},
     "output_type": "display_data"
    },
    {
     "data": {
      "image/png": "[encoded data removed]",
      "text/plain": [
       "<Figure size 432x288 with 1 Axes>"
      ]
     },
     "metadata": {
      "needs_background": "light"
     },
     "output_type": "display_data"
    }
   ],
   "source": [
    "# гистограммы с размерами гранул сырья на тестовой и обучающей выборке на этапе флотации\n",
    "ax = (data_train['rougher.input.feed_size'].sample(frac=len(data_test['rougher.input.feed_size']) / \n",
    "                                                        len(data_train['rougher.input.feed_size']),    \n",
    "                                                   random_state=123).hist(bins=50, legend=True))\n",
    "display(data_test['rougher.input.feed_size'].hist(bins=50, ax=ax, legend=True, alpha=0.6))\n",
    "\n",
    "# среднее значение размеров гранул сырья на этапе флотации\n",
    "display(data_train['rougher.input.feed_size'].mean())\n",
    "display(data_test['rougher.input.feed_size'].mean())"
   ]
  },
  {
   "cell_type": "markdown",
   "metadata": {},
   "source": [
    "#### На этапе первой очистки"
   ]
  },
  {
   "cell_type": "code",
   "execution_count": 42,
   "metadata": {
    "scrolled": false
   },
   "outputs": [
    {
     "data": {
      "text/plain": [
       "<AxesSubplot:>"
      ]
     },
     "metadata": {},
     "output_type": "display_data"
    },
    {
     "data": {
      "text/plain": [
       "7.322309906901314"
      ]
     },
     "metadata": {},
     "output_type": "display_data"
    },
    {
     "data": {
      "text/plain": [
       "7.271545576079371"
      ]
     },
     "metadata": {},
     "output_type": "display_data"
    },
    {
     "data": {
      "image/png": "[encoded data removed]",
      "text/plain": [
       "<Figure size 432x288 with 1 Axes>"
      ]
     },
     "metadata": {
      "needs_background": "light"
     },
     "output_type": "display_data"
    }
   ],
   "source": [
    "# гистограммы с размерами гранул сырья на тестовой и обучающей выборке на этапе первой очистки\n",
    "ax = (data_train['primary_cleaner.input.feed_size'].sample(frac=len(data_test['primary_cleaner.input.feed_size']) / \n",
    "                                                                len(data_train['primary_cleaner.input.feed_size']),    \n",
    "                                                           random_state=123).hist(bins=50, legend=True))\n",
    "display(data_test['primary_cleaner.input.feed_size'].hist(bins=50, ax=ax, legend=True, alpha=0.6))\n",
    "\n",
    "# среднее значение размеров гранул сырья на этапе первой очистки\n",
    "display(data_train['primary_cleaner.input.feed_size'].mean())\n",
    "display(data_test['primary_cleaner.input.feed_size'].mean())"
   ]
  },
  {
   "cell_type": "markdown",
   "metadata": {},
   "source": [
    "### Суммарная концентрация всех веществ\n",
    "\n",
    "Суммарная концентрация всех веществ от сырья до финального концентрата увеличивается на 20%, после каждого этапа концентрация возрастает."
   ]
  },
  {
   "cell_type": "code",
   "execution_count": 43,
   "metadata": {
    "scrolled": true
   },
   "outputs": [],
   "source": [
    "# функция для расчета суммарной концентрации всех веществ\n",
    "def sum_concentrate(data, stage):\n",
    "    if stage == 'final': # финальный концентрат\n",
    "        au = data['final.output.concentrate_au']\n",
    "        ag = data['final.output.concentrate_ag']    \n",
    "        pb = data['final.output.concentrate_pb']    \n",
    "        sol = data['final.output.concentrate_sol']    \n",
    "        return au + ag + pb + sol\n",
    "    \n",
    "    elif stage == 'rougher_input': # сырье\n",
    "        au = data['rougher.input.feed_au']\n",
    "        ag = data['rougher.input.feed_ag']    \n",
    "        pb = data['rougher.input.feed_pb']    \n",
    "        sol = data['rougher.input.feed_sol']    \n",
    "        return au + ag + pb + sol\n",
    "    \n",
    "    elif stage == 'rougher_output': # черновой концентрат\n",
    "        au = data['rougher.output.concentrate_au']\n",
    "        ag = data['rougher.output.concentrate_ag']    \n",
    "        pb = data['rougher.output.concentrate_pb']    \n",
    "        sol = data['rougher.output.concentrate_sol']    \n",
    "        return au + ag + pb + sol"
   ]
  },
  {
   "cell_type": "markdown",
   "metadata": {},
   "source": [
    "#### Изменение суммарной концентрации"
   ]
  },
  {
   "cell_type": "code",
   "execution_count": 44,
   "metadata": {},
   "outputs": [
    {
     "data": {
      "text/plain": [
       "rougher_input     57.339866\n",
       "rougher_output    68.178656\n",
       "final             68.698294\n",
       "dtype: float64"
      ]
     },
     "metadata": {},
     "output_type": "display_data"
    },
    {
     "data": {
      "text/plain": [
       "<AxesSubplot:>"
      ]
     },
     "metadata": {},
     "output_type": "display_data"
    },
    {
     "data": {
      "image/png": "[encoded data removed]",
      "text/plain": [
       "<Figure size 432x288 with 1 Axes>"
      ]
     },
     "metadata": {
      "needs_background": "light"
     },
     "output_type": "display_data"
    }
   ],
   "source": [
    "# расчет суммарной концентрации веществ на разных этапах разработки\n",
    "sum_rougher_input_concentrate = data_full.apply(sum_concentrate, stage='rougher_input', axis=1)\n",
    "sum_rougher_output_concentrate = data_full.apply(sum_concentrate, stage='rougher_output', axis=1)\n",
    "sum_final_concentrate = data_full.apply(sum_concentrate, stage='final', axis=1)\n",
    "\n",
    "# объект Series с суммарной концентрацией веществ\n",
    "x = (pd.Series([sum_rougher_input_concentrate.mean(), sum_rougher_output_concentrate.mean(), sum_final_concentrate.mean()])\n",
    "       .set_axis(['rougher_input', 'rougher_output', 'final']))\n",
    "\n",
    "display(x)\n",
    "\n",
    "# столбчатая диаграмма \n",
    "display(x.plot(kind='bar', ylim=(55, 75), grid=True))"
   ]
  },
  {
   "cell_type": "markdown",
   "metadata": {},
   "source": [
    "#### Распределения суммарных концентраций\n",
    "Суммарная концентрация увеличивается к этапу чернового концентрата, на этапе финального же становится менее разбросанная вокруг среднего значения. "
   ]
  },
  {
   "cell_type": "code",
   "execution_count": 45,
   "metadata": {},
   "outputs": [
    {
     "data": {
      "text/plain": [
       "<AxesSubplot:>"
      ]
     },
     "execution_count": 45,
     "metadata": {},
     "output_type": "execute_result"
    },
    {
     "data": {
      "image/png": "[encoded data removed]",
      "text/plain": [
       "<Figure size 432x288 with 1 Axes>"
      ]
     },
     "metadata": {
      "needs_background": "light"
     },
     "output_type": "display_data"
    }
   ],
   "source": [
    "# суммарная концентрация сырья\n",
    "sum_rougher_input_concentrate.hist(bins=50)\n",
    "\n",
    "# суммарная концентрация чернового концентрата\n",
    "sum_rougher_output_concentrate.hist(bins=50, alpha=0.6)\n",
    "\n",
    "# суммарная концентрация финального концентрата\n",
    "sum_final_concentrate.hist(bins=50, alpha=0.6)"
   ]
  },
  {
   "cell_type": "markdown",
   "metadata": {},
   "source": [
    "## Модель"
   ]
  },
  {
   "cell_type": "markdown",
   "metadata": {},
   "source": [
    "### Итоговая sMAPE"
   ]
  },
  {
   "cell_type": "code",
   "execution_count": 46,
   "metadata": {},
   "outputs": [],
   "source": [
    "# функция для расчета sMAPE\n",
    "def smape_func(target, predictions, **kwargs): \n",
    "    target = np.array(target)\n",
    "    predictions = np.array(predictions)\n",
    "    return (np.abs(target - predictions) / ((np.abs(target) + np.abs(predictions)) / 2)).mean() * 100\n",
    "\n",
    "# функция для расчета итоговой sMAPE\n",
    "def final_smape_func(smape_rougher, smape_final):\n",
    "    return smape_rougher * 0.25 + smape_final * 0.75\n",
    "\n",
    "# формирование метрики\n",
    "smap_error = make_scorer(smape_func, greater_is_better=False)"
   ]
  },
  {
   "cell_type": "markdown",
   "metadata": {},
   "source": [
    "### Обучение моделей\n",
    "Наименьшую итоговую ошибку sMAPE показывает модель 'случайный лес' с подобранными гиперпараметрами: 2.3%"
   ]
  },
  {
   "cell_type": "markdown",
   "metadata": {},
   "source": [
    "#### Признаки и целевые признаки\n",
    "Небольшое количество значений целевых признаков равно нулю, их необходимо удалить из выборок, чтобы расчет ключевых метрик работал исправно."
   ]
  },
  {
   "cell_type": "code",
   "execution_count": 47,
   "metadata": {
    "scrolled": true
   },
   "outputs": [],
   "source": [
    "# удаление объектов с целевыми признаками равными нулю\n",
    "data_train = data_train.drop(data_train[data_train['final.output.recovery'] == 0].index, axis=0)\n",
    "data_train = data_train.drop(data_train[data_train['rougher.output.recovery'] == 0].index, axis=0)\n",
    "\n",
    "# признаки и целевые признаки обучающей выборки\n",
    "features_train = data_train[data_test.columns].drop(['rougher.output.recovery', 'final.output.recovery', 'date'], axis=1)\n",
    "target_train_rougher = data_train['rougher.output.recovery']\n",
    "target_train_final = data_train['final.output.recovery']\n",
    "\n",
    "# признаки и целевые признаки тестовой выборки\n",
    "features_test = data_test.drop(['rougher.output.recovery', 'final.output.recovery', 'date'], axis=1)\n",
    "target_test_rougher = data_test['rougher.output.recovery']\n",
    "target_test_final = data_test['final.output.recovery']"
   ]
  },
  {
   "cell_type": "markdown",
   "metadata": {},
   "source": [
    "#### Дерево решений\n",
    "Итоговая sMAPE:\n",
    "* С подобранными гиперпараметрами : 4.9%\n",
    "* Высчитанная с помощью кросс-валидации: 12%"
   ]
  },
  {
   "cell_type": "markdown",
   "metadata": {},
   "source": [
    "##### Подбор гиперпараметров"
   ]
  },
  {
   "cell_type": "code",
   "execution_count": 48,
   "metadata": {
    "scrolled": true
   },
   "outputs": [
    {
     "data": {
      "text/plain": [
       "4.981739742426488"
      ]
     },
     "metadata": {},
     "output_type": "display_data"
    },
    {
     "data": {
      "text/plain": [
       "-12.062217079721233"
      ]
     },
     "metadata": {},
     "output_type": "display_data"
    }
   ],
   "source": [
    "# вариации гиперпараметров\n",
    "min_samples_split = [2, 5, 10]\n",
    "min_samples_leaf = [1, 2, 4]\n",
    "max_depth = [int(x) for x in np.linspace(10, 100, num = 10)]\n",
    "\n",
    "# сетка гиперпараметров\n",
    "parameters_grid = {'min_samples_split':min_samples_split,\n",
    "                   'min_samples_leaf':min_samples_leaf,\n",
    "                   'max_depth':max_depth}\n",
    "\n",
    "# модель 'дерево решений'\n",
    "model_tree = GridSearchCV(DecisionTreeRegressor(random_state=1), parameters_grid, scoring=smap_error, cv=3)\n",
    "\n",
    "# обучение на признаках на этапе rougher и последующее нахождение ошибки \n",
    "model_tree_fited_rougher = model_tree.fit(features_train, target_train_rougher)\n",
    "smape_rougher_cv = model_tree.best_score_\n",
    "smape_rougher = smape_func(target_train_rougher, model_tree.predict(features_train))\n",
    "\n",
    "# обучение на признаках на этапе final и последующее нахождение ошибки \n",
    "model_tree_fited_final = model_tree.fit(features_train, target_train_final)\n",
    "smape_final_cv = model_tree.best_score_\n",
    "smape_final = smape_func(target_train_final, model_tree.predict(features_train))\n",
    "\n",
    "# итоговая sMAPE\n",
    "display(final_smape_func(smape_rougher, smape_final))\n",
    "# итоговая sMAPE по результатам кросс-валидации\n",
    "display(final_smape_func(smape_rougher_cv, smape_final_cv))"
   ]
  },
  {
   "cell_type": "markdown",
   "metadata": {},
   "source": [
    "#### Линейная регрессия\n",
    "Итоговая sMAPE:\n",
    "* С подобранными гиперпараметрами : 7.2%\n",
    "* Высчитанная с помощью кросс-валидации: 12.5%"
   ]
  },
  {
   "cell_type": "markdown",
   "metadata": {},
   "source": [
    "##### Подбор гиперпараметров"
   ]
  },
  {
   "cell_type": "code",
   "execution_count": 49,
   "metadata": {},
   "outputs": [
    {
     "data": {
      "text/plain": [
       "7.243122919281699"
      ]
     },
     "metadata": {},
     "output_type": "display_data"
    },
    {
     "data": {
      "text/plain": [
       "-12.550082664446645"
      ]
     },
     "metadata": {},
     "output_type": "display_data"
    }
   ],
   "source": [
    "# вариации гиперпараметров\n",
    "fit_intercept = [True, False]\n",
    "normalize = [True, False]\n",
    "\n",
    "# сетка гиперпараметров\n",
    "parameters_grid = {'fit_intercept':fit_intercept,\n",
    "                   'normalize':normalize}\n",
    "\n",
    "# модель 'линейная регрессия'\n",
    "model_log_reg = GridSearchCV(LinearRegression(), parameters_grid, scoring=smap_error, cv=3)\n",
    "\n",
    "# обучение на признаках на этапе rougher и последующее нахождение ошибки \n",
    "model_log_fited_rougher = model_log_reg.fit(features_train, target_train_rougher)\n",
    "smape_rougher_cv = model_log_reg.best_score_\n",
    "smape_rougher = smape_func(target_train_rougher, model_log_reg.predict(features_train))\n",
    "\n",
    "# обучение на признаках на этапе final и последующее нахождение ошибки \n",
    "model_log_fited_final = model_log_reg.fit(features_train, target_train_final)\n",
    "smape_final_cv = model_log_reg.best_score_\n",
    "smape_final = smape_func(target_train_final, model_log_reg.predict(features_train))\n",
    "\n",
    "# итоговая sMAPE\n",
    "display(final_smape_func(smape_rougher, smape_final))\n",
    "# итоговая sMAPE по результатам кросс-валидации\n",
    "display(final_smape_func(smape_rougher_cv, smape_final_cv))"
   ]
  },
  {
   "cell_type": "markdown",
   "metadata": {},
   "source": [
    "#### Случайный лес\n",
    "Итоговая sMAPE:\n",
    "* С подобранными гиперпараметрами : 2.1%\n",
    "* Высчитанная с помощью кросс-валидации: 5.4%"
   ]
  },
  {
   "cell_type": "markdown",
   "metadata": {},
   "source": [
    "##### Подбор гиперпараметров\n",
    "Пришлось уменьшить размеры обучающих выборок, так как подбор длился очень долго."
   ]
  },
  {
   "cell_type": "code",
   "execution_count": 64,
   "metadata": {},
   "outputs": [
    {
     "data": {
      "text/plain": [
       "2.1360398525958875"
      ]
     },
     "metadata": {},
     "output_type": "display_data"
    },
    {
     "data": {
      "text/plain": [
       "-5.461622210403438"
      ]
     },
     "metadata": {},
     "output_type": "display_data"
    }
   ],
   "source": [
    "# вариации гиперпараметров\n",
    "max_depth = [int(x) for x in np.linspace(10, 50, num = 5)]\n",
    "n_estimators = [int(x) for x in np.linspace(10, 30, num = 3)]\n",
    "\n",
    "# сетка гиперпараметров\n",
    "parameters_grid = {'max_depth':max_depth,\n",
    "                   'n_estimators':n_estimators}\n",
    "\n",
    "# модель 'случайный лес'\n",
    "model_forest = GridSearchCV(RandomForestRegressor(random_state=1), parameters_grid, scoring=smap_error, cv=3)\n",
    "\n",
    "# обучение на признаках на этапе rougher и последующее нахождение ошибки \n",
    "model_forest_fited_rougher = model_forest.fit(features_train.sample(frac=0.7, random_state=1), \n",
    "                                              target_train_rougher.sample(frac=0.7, random_state=1))\n",
    "smape_rougher_cv = model_forest.best_score_\n",
    "smape_rougher = smape_func(target_train_rougher.sample(frac=0.7, random_state=1), \n",
    "                           model_forest.predict(features_train.sample(frac=0.7, random_state=1)))\n",
    "\n",
    "# обучение на признаках на этапе final и последующее нахождение ошибки \n",
    "model_forest_fited_final = model_forest.fit(features_train.sample(frac=0.7, random_state=1), \n",
    "                                            target_train_final.sample(frac=0.7, random_state=1))\n",
    "smape_final_cv = model_forest.best_score_\n",
    "smape_final = smape_func(target_train_final.sample(frac=0.7, random_state=1), \n",
    "                         model_forest.predict(features_train.sample(frac=0.7, random_state=1)))\n",
    "\n",
    "# итоговая sMAPE\n",
    "display(final_smape_func(smape_rougher, smape_final))\n",
    "# итоговая sMAPE по результатам кросс-валидации\n",
    "display(final_smape_func(smape_rougher_cv, smape_final_cv))"
   ]
  },
  {
   "cell_type": "markdown",
   "metadata": {},
   "source": [
    "### Проверка модели на тестовой выборке\n",
    "На тестовой выборке выбранная модель 'случайный лес' с подобранными гиперпараметрами показывает итоговое симметричное среднее абсолютное отклонение равное 13.8%"
   ]
  },
  {
   "cell_type": "code",
   "execution_count": 65,
   "metadata": {},
   "outputs": [],
   "source": [
    "# предсказывание эффективности на этапе флотации\n",
    "pred_test_rougher = model_forest_fited_rougher.predict(features_test)\n",
    "\n",
    "# предсказывание эффективности на финальном этапе\n",
    "pred_test_final = model_forest_fited_final.predict(features_test)"
   ]
  },
  {
   "cell_type": "code",
   "execution_count": 66,
   "metadata": {},
   "outputs": [
    {
     "data": {
      "text/plain": [
       "13.854608653906364"
      ]
     },
     "metadata": {},
     "output_type": "display_data"
    }
   ],
   "source": [
    "# расчет итогового sMAPE\n",
    "smape_rougher = smape_func(target_test_rougher, pred_test_rougher)\n",
    "smape_final = smape_func(target_test_final, pred_test_final)\n",
    "display(final_smape_func(smape_rougher, smape_final))"
   ]
  },
  {
   "cell_type": "markdown",
   "metadata": {},
   "source": [
    "### Сравнение модели с константной\n",
    "Итоговая sMAPE: 9.4%"
   ]
  },
  {
   "cell_type": "code",
   "execution_count": 67,
   "metadata": {},
   "outputs": [
    {
     "data": {
      "text/plain": [
       "9.40025945588301"
      ]
     },
     "metadata": {},
     "output_type": "display_data"
    }
   ],
   "source": [
    "# константная модель\n",
    "dummy_model = DummyRegressor(strategy='mean')\n",
    "\n",
    "# обучение на признаках на этапе rougher и последующее нахождение ошибки \n",
    "dummy_model.fit(features_train, target_train_rougher)\n",
    "smape_rougher = smape_func(target_test_rougher, dummy_model.predict(features_test))\n",
    "\n",
    "# обучение на признаках на этапе final и последующее нахождение ошибки \n",
    "dummy_model.fit(features_train, target_train_final)\n",
    "smape_final = smape_func(target_test_final, dummy_model.predict(features_test))\n",
    "\n",
    "# итоговая sMAPE\n",
    "display(final_smape_func(smape_rougher, smape_final))"
   ]
  },
  {
   "cell_type": "markdown",
   "metadata": {},
   "source": [
    "## Вывод"
   ]
  },
  {
   "cell_type": "markdown",
   "metadata": {},
   "source": [
    "* С помощью написанной функции проверили верно ли рассчитана эффективность разработки.\n",
    "* Изменили тип данных признака 'date' на datetime64; <br>\n",
    "обработали пропуски в обучающих и полных данных с помощью метода k-ближайших соседей, в тестовой выборке удалили объекты с пропусками для корректного обучения предсказывания моделей; <br>\n",
    "проверили данные на наличие явных дубликатов.\n",
    "* Проанализировали изменение концентрации металлов после этапов очистки:\n",
    " * У золота (Au) после второго этапа очистки возрастает, примерно на 30%.\n",
    " * У серебра (Ag) после второго этапа очистки уменьшается почти на 40%.    \n",
    " * У свинца (Pb) увеличивается на 1.5%, изменение по сравнению с другими металлами очень маленькое.\n",
    "* Проанализировали изменение концентрации металлов после этапа флотации:\n",
    " * У золота (Au) увеличивается, почти в 2.5 раза.\n",
    " * У серебра (Ag) возрастает на 37%.\n",
    " * У свинца (Pb) увеличивается в 2 раза.\n",
    "* Выяснили, что размеры гранул сырья на разных этапах разработки схожи.\n",
    "* Узнали, что суммарная концентрация всех веществ от сырья до финального концентрата увеличивается на 20%, после каждого этапа концентрация возрастает; <br>\n",
    "а так же, суммарная концентрация увеличивается к этапу чернового концентрата, на этапе финального же становится менее разбросанная вокруг среднего значения. \n",
    "* Написали функции для расчета sMAPE и итоговой sMAPE.\n",
    "* Выделили признаки и целевые признаки обучающих и тестовых выборок.\n",
    "* Рассмотрели три модели 'дерево решений', 'линейная регрессия' и 'случайный лес':\n",
    " * Наименьшая итоговая sMAPE найденная с кросс-валидацией:\n",
    "   * 'случайный лес': 5.4%\n",
    " * Наименьшая итоговая sMAPE найденная с кросс-валидацией и подобранными гиперпараметрами:\n",
    "   * 'случайный лес': 2.1%\n",
    "* Итоговая sMAPE на тестовых данных с выбранной моделью 'случайный лес': 13.8%\n",
    "\n",
    "  \n",
    "  "
   ]
  }
 ],
 "metadata": {
  "ExecuteTimeLog": [
   {
    "duration": 1249,
    "start_time": "2022-06-20T14:16:10.147Z"
   },
   {
    "duration": 309,
    "start_time": "2022-06-20T14:16:20.936Z"
   },
   {
    "duration": 365,
    "start_time": "2022-06-20T14:16:32.407Z"
   },
   {
    "duration": 321,
    "start_time": "2022-06-20T14:16:35.576Z"
   },
   {
    "duration": 357,
    "start_time": "2022-06-20T14:17:15.707Z"
   },
   {
    "duration": 2454,
    "start_time": "2022-06-20T14:17:31.801Z"
   },
   {
    "duration": 772,
    "start_time": "2022-06-20T15:00:43.937Z"
   },
   {
    "duration": 709,
    "start_time": "2022-06-20T15:00:58.257Z"
   },
   {
    "duration": 692,
    "start_time": "2022-06-20T15:01:07.502Z"
   },
   {
    "duration": 784,
    "start_time": "2022-06-20T15:01:29.765Z"
   },
   {
    "duration": 778,
    "start_time": "2022-06-20T15:03:22.321Z"
   },
   {
    "duration": 772,
    "start_time": "2022-06-20T15:03:36.139Z"
   },
   {
    "duration": 3851,
    "start_time": "2022-06-20T16:17:27.591Z"
   },
   {
    "duration": 46,
    "start_time": "2022-06-20T16:28:27.838Z"
   },
   {
    "duration": 11,
    "start_time": "2022-06-20T16:28:31.242Z"
   },
   {
    "duration": 16,
    "start_time": "2022-06-20T16:35:47.118Z"
   },
   {
    "duration": 3,
    "start_time": "2022-06-20T16:36:05.428Z"
   },
   {
    "duration": 237,
    "start_time": "2022-06-20T16:39:25.689Z"
   },
   {
    "duration": 235,
    "start_time": "2022-06-20T16:39:38.018Z"
   },
   {
    "duration": 246,
    "start_time": "2022-06-20T16:39:58.493Z"
   },
   {
    "duration": 248,
    "start_time": "2022-06-20T16:40:16.821Z"
   },
   {
    "duration": 265,
    "start_time": "2022-06-20T16:40:20.916Z"
   },
   {
    "duration": 1434,
    "start_time": "2022-06-20T16:41:06.322Z"
   },
   {
    "duration": 307,
    "start_time": "2022-06-20T16:42:10.679Z"
   },
   {
    "duration": 235,
    "start_time": "2022-06-20T16:43:14.230Z"
   },
   {
    "duration": 207,
    "start_time": "2022-06-20T16:43:26.262Z"
   },
   {
    "duration": 214,
    "start_time": "2022-06-20T16:43:32.776Z"
   },
   {
    "duration": 222,
    "start_time": "2022-06-20T16:43:37.944Z"
   },
   {
    "duration": 240,
    "start_time": "2022-06-20T16:44:01.028Z"
   },
   {
    "duration": 240,
    "start_time": "2022-06-20T16:46:20.623Z"
   },
   {
    "duration": 225,
    "start_time": "2022-06-20T16:54:43.116Z"
   },
   {
    "duration": 240,
    "start_time": "2022-06-20T16:54:49.410Z"
   },
   {
    "duration": 227,
    "start_time": "2022-06-20T16:55:10.373Z"
   },
   {
    "duration": 220,
    "start_time": "2022-06-20T16:55:14.167Z"
   },
   {
    "duration": 4417,
    "start_time": "2022-06-21T10:33:01.983Z"
   },
   {
    "duration": 231,
    "start_time": "2022-06-21T10:33:06.403Z"
   },
   {
    "duration": 726,
    "start_time": "2022-06-21T10:38:45.198Z"
   },
   {
    "duration": 4,
    "start_time": "2022-06-21T10:40:08.857Z"
   },
   {
    "duration": 4,
    "start_time": "2022-06-21T10:40:15.776Z"
   },
   {
    "duration": 5,
    "start_time": "2022-06-21T10:40:33.174Z"
   },
   {
    "duration": 4,
    "start_time": "2022-06-21T10:41:20.785Z"
   },
   {
    "duration": 5,
    "start_time": "2022-06-21T10:42:04.706Z"
   },
   {
    "duration": 7,
    "start_time": "2022-06-21T11:44:36.193Z"
   },
   {
    "duration": 532,
    "start_time": "2022-06-21T11:45:25.058Z"
   },
   {
    "duration": 7,
    "start_time": "2022-06-21T11:45:47.641Z"
   },
   {
    "duration": 15,
    "start_time": "2022-06-21T11:45:51.733Z"
   },
   {
    "duration": 18,
    "start_time": "2022-06-21T11:46:09.791Z"
   },
   {
    "duration": 90,
    "start_time": "2022-06-21T11:46:20.420Z"
   },
   {
    "duration": 23,
    "start_time": "2022-06-21T11:51:55.396Z"
   },
   {
    "duration": 691,
    "start_time": "2022-06-21T11:52:39.177Z"
   },
   {
    "duration": 691,
    "start_time": "2022-06-21T12:01:25.229Z"
   },
   {
    "duration": 209,
    "start_time": "2022-06-21T12:01:25.922Z"
   },
   {
    "duration": 5,
    "start_time": "2022-06-21T12:01:26.132Z"
   },
   {
    "duration": 20,
    "start_time": "2022-06-21T12:01:26.138Z"
   },
   {
    "duration": 4,
    "start_time": "2022-06-21T12:03:32.984Z"
   },
   {
    "duration": 20,
    "start_time": "2022-06-21T12:04:11.042Z"
   },
   {
    "duration": 9,
    "start_time": "2022-06-21T12:05:11.728Z"
   },
   {
    "duration": 725,
    "start_time": "2022-06-21T12:05:15.499Z"
   },
   {
    "duration": 229,
    "start_time": "2022-06-21T12:05:16.226Z"
   },
   {
    "duration": 6,
    "start_time": "2022-06-21T12:05:16.457Z"
   },
   {
    "duration": 16,
    "start_time": "2022-06-21T12:05:16.464Z"
   },
   {
    "duration": 1136,
    "start_time": "2022-06-21T12:05:16.482Z"
   },
   {
    "duration": 11,
    "start_time": "2022-06-21T12:06:41.444Z"
   },
   {
    "duration": 833,
    "start_time": "2022-06-21T12:06:43.998Z"
   },
   {
    "duration": 279,
    "start_time": "2022-06-21T12:06:44.834Z"
   },
   {
    "duration": 12,
    "start_time": "2022-06-21T12:06:45.114Z"
   },
   {
    "duration": 27,
    "start_time": "2022-06-21T12:06:45.128Z"
   },
   {
    "duration": 12,
    "start_time": "2022-06-21T12:06:45.158Z"
   },
   {
    "duration": 9,
    "start_time": "2022-06-21T12:07:19.826Z"
   },
   {
    "duration": 656,
    "start_time": "2022-06-21T12:07:21.948Z"
   },
   {
    "duration": 224,
    "start_time": "2022-06-21T12:07:22.606Z"
   },
   {
    "duration": 4,
    "start_time": "2022-06-21T12:07:22.832Z"
   },
   {
    "duration": 17,
    "start_time": "2022-06-21T12:07:22.837Z"
   },
   {
    "duration": 16,
    "start_time": "2022-06-21T12:07:22.856Z"
   },
   {
    "duration": 718,
    "start_time": "2022-06-21T12:07:26.822Z"
   },
   {
    "duration": 224,
    "start_time": "2022-06-21T12:07:27.542Z"
   },
   {
    "duration": 5,
    "start_time": "2022-06-21T12:07:27.768Z"
   },
   {
    "duration": 20,
    "start_time": "2022-06-21T12:07:27.775Z"
   },
   {
    "duration": 735,
    "start_time": "2022-06-21T12:07:27.797Z"
   },
   {
    "duration": 755,
    "start_time": "2022-06-21T12:07:36.478Z"
   },
   {
    "duration": 253,
    "start_time": "2022-06-21T12:07:37.235Z"
   },
   {
    "duration": 6,
    "start_time": "2022-06-21T12:07:37.489Z"
   },
   {
    "duration": 38,
    "start_time": "2022-06-21T12:07:37.497Z"
   },
   {
    "duration": 5,
    "start_time": "2022-06-21T12:07:37.537Z"
   },
   {
    "duration": 701,
    "start_time": "2022-06-21T12:08:57.650Z"
   },
   {
    "duration": 248,
    "start_time": "2022-06-21T12:08:58.354Z"
   },
   {
    "duration": 5,
    "start_time": "2022-06-21T12:08:58.604Z"
   },
   {
    "duration": 24,
    "start_time": "2022-06-21T12:08:58.612Z"
   },
   {
    "duration": 8,
    "start_time": "2022-06-21T12:08:58.639Z"
   },
   {
    "duration": 687,
    "start_time": "2022-06-21T12:09:20.377Z"
   },
   {
    "duration": 228,
    "start_time": "2022-06-21T12:09:21.065Z"
   },
   {
    "duration": 5,
    "start_time": "2022-06-21T12:09:21.294Z"
   },
   {
    "duration": 28,
    "start_time": "2022-06-21T12:09:21.301Z"
   },
   {
    "duration": 12,
    "start_time": "2022-06-21T12:09:21.330Z"
   },
   {
    "duration": 5,
    "start_time": "2022-06-21T12:10:10.024Z"
   },
   {
    "duration": 4,
    "start_time": "2022-06-21T12:10:25.989Z"
   },
   {
    "duration": 50,
    "start_time": "2022-06-21T12:11:20.083Z"
   },
   {
    "duration": 35,
    "start_time": "2022-06-21T12:11:24.377Z"
   },
   {
    "duration": 699,
    "start_time": "2022-06-21T12:12:08.047Z"
   },
   {
    "duration": 217,
    "start_time": "2022-06-21T12:12:08.749Z"
   },
   {
    "duration": 4,
    "start_time": "2022-06-21T12:12:08.968Z"
   },
   {
    "duration": 15,
    "start_time": "2022-06-21T12:12:08.975Z"
   },
   {
    "duration": 682,
    "start_time": "2022-06-21T12:12:10.303Z"
   },
   {
    "duration": 232,
    "start_time": "2022-06-21T12:12:10.987Z"
   },
   {
    "duration": 8,
    "start_time": "2022-06-21T12:12:11.221Z"
   },
   {
    "duration": 16,
    "start_time": "2022-06-21T12:12:11.232Z"
   },
   {
    "duration": 93,
    "start_time": "2022-06-21T12:12:11.250Z"
   },
   {
    "duration": 14766,
    "start_time": "2022-06-21T12:14:32.375Z"
   },
   {
    "duration": 15195,
    "start_time": "2022-06-21T12:17:24.606Z"
   },
   {
    "duration": 11487,
    "start_time": "2022-06-21T12:17:49.614Z"
   },
   {
    "duration": 648,
    "start_time": "2022-06-21T12:18:27.885Z"
   },
   {
    "duration": 217,
    "start_time": "2022-06-21T12:18:28.535Z"
   },
   {
    "duration": 4,
    "start_time": "2022-06-21T12:18:28.754Z"
   },
   {
    "duration": 17,
    "start_time": "2022-06-21T12:18:28.760Z"
   },
   {
    "duration": 14369,
    "start_time": "2022-06-21T12:18:28.779Z"
   },
   {
    "duration": 684,
    "start_time": "2022-06-21T12:20:02.330Z"
   },
   {
    "duration": 231,
    "start_time": "2022-06-21T12:20:03.016Z"
   },
   {
    "duration": 7,
    "start_time": "2022-06-21T12:20:03.249Z"
   },
   {
    "duration": 20,
    "start_time": "2022-06-21T12:20:03.260Z"
   },
   {
    "duration": 45951,
    "start_time": "2022-06-21T12:20:03.282Z"
   },
   {
    "duration": 86,
    "start_time": "2022-06-21T12:25:59.289Z"
   },
   {
    "duration": 218,
    "start_time": "2022-06-21T12:26:19.988Z"
   },
   {
    "duration": 2970,
    "start_time": "2022-06-22T10:43:11.074Z"
   },
   {
    "duration": 242,
    "start_time": "2022-06-22T10:43:14.047Z"
   },
   {
    "duration": 5,
    "start_time": "2022-06-22T10:43:14.291Z"
   },
   {
    "duration": 21,
    "start_time": "2022-06-22T10:43:14.298Z"
   },
   {
    "duration": 59420,
    "start_time": "2022-06-22T10:43:14.322Z"
   },
   {
    "duration": 218,
    "start_time": "2022-06-22T10:44:13.744Z"
   },
   {
    "duration": 92,
    "start_time": "2022-06-22T10:53:36.287Z"
   },
   {
    "duration": 10,
    "start_time": "2022-06-22T10:54:12.521Z"
   },
   {
    "duration": 707,
    "start_time": "2022-06-22T10:54:19.316Z"
   },
   {
    "duration": 661,
    "start_time": "2022-06-22T10:54:22.937Z"
   },
   {
    "duration": 216,
    "start_time": "2022-06-22T10:54:23.600Z"
   },
   {
    "duration": 5,
    "start_time": "2022-06-22T10:54:23.818Z"
   },
   {
    "duration": 30,
    "start_time": "2022-06-22T10:54:23.825Z"
   },
   {
    "duration": 58990,
    "start_time": "2022-06-22T10:54:23.857Z"
   },
   {
    "duration": 234,
    "start_time": "2022-06-22T10:55:22.849Z"
   },
   {
    "duration": 3,
    "start_time": "2022-06-22T10:55:23.085Z"
   },
   {
    "duration": 459,
    "start_time": "2022-06-22T10:56:01.400Z"
   },
   {
    "duration": 469,
    "start_time": "2022-06-22T10:57:30.644Z"
   },
   {
    "duration": 618,
    "start_time": "2022-06-22T10:57:33.278Z"
   },
   {
    "duration": 223,
    "start_time": "2022-06-22T10:57:33.898Z"
   },
   {
    "duration": 5,
    "start_time": "2022-06-22T10:57:34.123Z"
   },
   {
    "duration": 14,
    "start_time": "2022-06-22T10:57:34.143Z"
   },
   {
    "duration": 59134,
    "start_time": "2022-06-22T10:57:34.159Z"
   },
   {
    "duration": 218,
    "start_time": "2022-06-22T10:58:33.294Z"
   },
   {
    "duration": 458,
    "start_time": "2022-06-22T10:58:33.515Z"
   },
   {
    "duration": 2,
    "start_time": "2022-06-22T11:10:57.986Z"
   },
   {
    "duration": 1088,
    "start_time": "2022-06-22T11:14:21.476Z"
   },
   {
    "duration": 7,
    "start_time": "2022-06-22T11:26:22.755Z"
   },
   {
    "duration": 29,
    "start_time": "2022-06-22T11:26:52.697Z"
   },
   {
    "duration": 73,
    "start_time": "2022-06-22T11:27:25.266Z"
   },
   {
    "duration": 78,
    "start_time": "2022-06-22T11:27:30.904Z"
   },
   {
    "duration": 10,
    "start_time": "2022-06-22T11:28:27.046Z"
   },
   {
    "duration": 223,
    "start_time": "2022-06-22T11:28:36.842Z"
   },
   {
    "duration": 7,
    "start_time": "2022-06-22T11:29:38.182Z"
   },
   {
    "duration": 14,
    "start_time": "2022-06-22T11:30:06.889Z"
   },
   {
    "duration": 689,
    "start_time": "2022-06-22T11:30:17.370Z"
   },
   {
    "duration": 7,
    "start_time": "2022-06-22T11:30:21.022Z"
   },
   {
    "duration": 15,
    "start_time": "2022-06-22T11:30:25.955Z"
   },
   {
    "duration": 9,
    "start_time": "2022-06-22T11:30:35.561Z"
   },
   {
    "duration": 8,
    "start_time": "2022-06-22T11:30:54.873Z"
   },
   {
    "duration": 195,
    "start_time": "2022-06-22T11:31:04.718Z"
   },
   {
    "duration": 291,
    "start_time": "2022-06-22T11:31:26.378Z"
   },
   {
    "duration": 208,
    "start_time": "2022-06-22T11:31:59.329Z"
   },
   {
    "duration": 11,
    "start_time": "2022-06-22T11:32:20.075Z"
   },
   {
    "duration": 110,
    "start_time": "2022-06-22T11:32:45.903Z"
   },
   {
    "duration": 11,
    "start_time": "2022-06-22T11:40:55.014Z"
   },
   {
    "duration": 121,
    "start_time": "2022-06-22T11:42:25.910Z"
   },
   {
    "duration": 113,
    "start_time": "2022-06-22T11:47:41.279Z"
   },
   {
    "duration": 169,
    "start_time": "2022-06-22T11:51:18.924Z"
   },
   {
    "duration": 151,
    "start_time": "2022-06-22T11:51:31.715Z"
   },
   {
    "duration": 150,
    "start_time": "2022-06-22T11:52:09.086Z"
   },
   {
    "duration": 140,
    "start_time": "2022-06-22T11:52:36.023Z"
   },
   {
    "duration": 136,
    "start_time": "2022-06-22T11:53:07.525Z"
   },
   {
    "duration": 135,
    "start_time": "2022-06-22T11:54:07.082Z"
   },
   {
    "duration": 117,
    "start_time": "2022-06-22T11:54:54.258Z"
   },
   {
    "duration": 129,
    "start_time": "2022-06-22T11:55:38.653Z"
   },
   {
    "duration": 197,
    "start_time": "2022-06-22T11:57:34.858Z"
   },
   {
    "duration": 101,
    "start_time": "2022-06-22T11:57:40.569Z"
   },
   {
    "duration": 161,
    "start_time": "2022-06-22T11:59:06.733Z"
   },
   {
    "duration": 119,
    "start_time": "2022-06-22T11:59:45.265Z"
   },
   {
    "duration": 117,
    "start_time": "2022-06-22T11:59:53.905Z"
   },
   {
    "duration": 119,
    "start_time": "2022-06-22T12:00:26.310Z"
   },
   {
    "duration": 115,
    "start_time": "2022-06-22T12:00:50.178Z"
   },
   {
    "duration": 132,
    "start_time": "2022-06-22T12:01:21.083Z"
   },
   {
    "duration": 168,
    "start_time": "2022-06-22T12:01:42.043Z"
   },
   {
    "duration": 189,
    "start_time": "2022-06-22T12:02:19.620Z"
   },
   {
    "duration": 133,
    "start_time": "2022-06-22T12:02:42.869Z"
   },
   {
    "duration": 126,
    "start_time": "2022-06-22T12:02:58.287Z"
   },
   {
    "duration": 130,
    "start_time": "2022-06-22T12:03:10.399Z"
   },
   {
    "duration": 122,
    "start_time": "2022-06-22T12:03:16.372Z"
   },
   {
    "duration": 1724,
    "start_time": "2022-06-22T13:26:16.106Z"
   },
   {
    "duration": 4243,
    "start_time": "2022-06-22T13:27:47.260Z"
   },
   {
    "duration": 220,
    "start_time": "2022-06-22T13:28:30.055Z"
   },
   {
    "duration": 260,
    "start_time": "2022-06-22T13:29:23.203Z"
   },
   {
    "duration": 395,
    "start_time": "2022-06-22T13:29:53.705Z"
   },
   {
    "duration": 308,
    "start_time": "2022-06-22T13:31:05.308Z"
   },
   {
    "duration": 360,
    "start_time": "2022-06-22T13:31:17.018Z"
   },
   {
    "duration": 327,
    "start_time": "2022-06-22T13:31:48.531Z"
   },
   {
    "duration": 594,
    "start_time": "2022-06-22T13:32:43.097Z"
   },
   {
    "duration": 385,
    "start_time": "2022-06-22T13:33:12.255Z"
   },
   {
    "duration": 370,
    "start_time": "2022-06-22T13:33:52.228Z"
   },
   {
    "duration": 383,
    "start_time": "2022-06-22T13:33:57.500Z"
   },
   {
    "duration": 349,
    "start_time": "2022-06-22T13:34:02.075Z"
   },
   {
    "duration": 365,
    "start_time": "2022-06-22T13:34:11.118Z"
   },
   {
    "duration": 399,
    "start_time": "2022-06-22T13:34:12.257Z"
   },
   {
    "duration": 157,
    "start_time": "2022-06-22T13:34:51.358Z"
   },
   {
    "duration": 126,
    "start_time": "2022-06-22T13:35:00.059Z"
   },
   {
    "duration": 132,
    "start_time": "2022-06-22T13:35:03.799Z"
   },
   {
    "duration": 784,
    "start_time": "2022-06-22T13:35:07.436Z"
   },
   {
    "duration": 267,
    "start_time": "2022-06-22T13:35:08.222Z"
   },
   {
    "duration": 7,
    "start_time": "2022-06-22T13:35:08.491Z"
   },
   {
    "duration": 34,
    "start_time": "2022-06-22T13:35:08.500Z"
   },
   {
    "duration": 65027,
    "start_time": "2022-06-22T13:35:08.537Z"
   },
   {
    "duration": 271,
    "start_time": "2022-06-22T13:36:13.566Z"
   },
   {
    "duration": 508,
    "start_time": "2022-06-22T13:36:13.839Z"
   },
   {
    "duration": 137,
    "start_time": "2022-06-22T13:36:14.349Z"
   },
   {
    "duration": 351,
    "start_time": "2022-06-22T13:36:14.487Z"
   },
   {
    "duration": 362,
    "start_time": "2022-06-22T13:36:14.840Z"
   },
   {
    "duration": 705,
    "start_time": "2022-06-22T13:36:15.204Z"
   },
   {
    "duration": 689,
    "start_time": "2022-06-22T13:38:27.167Z"
   },
   {
    "duration": 218,
    "start_time": "2022-06-22T13:38:27.858Z"
   },
   {
    "duration": 5,
    "start_time": "2022-06-22T13:38:28.078Z"
   },
   {
    "duration": 26,
    "start_time": "2022-06-22T13:38:28.084Z"
   },
   {
    "duration": 68119,
    "start_time": "2022-06-22T13:38:28.113Z"
   },
   {
    "duration": 228,
    "start_time": "2022-06-22T13:39:36.243Z"
   },
   {
    "duration": 563,
    "start_time": "2022-06-22T13:39:36.473Z"
   },
   {
    "duration": 169,
    "start_time": "2022-06-22T13:39:37.039Z"
   },
   {
    "duration": 384,
    "start_time": "2022-06-22T13:39:37.209Z"
   },
   {
    "duration": 366,
    "start_time": "2022-06-22T13:39:37.595Z"
   },
   {
    "duration": 356,
    "start_time": "2022-06-22T13:39:37.963Z"
   },
   {
    "duration": 148,
    "start_time": "2022-06-22T13:40:39.017Z"
   },
   {
    "duration": 760,
    "start_time": "2022-06-22T13:41:26.219Z"
   },
   {
    "duration": 224,
    "start_time": "2022-06-22T13:41:26.982Z"
   },
   {
    "duration": 6,
    "start_time": "2022-06-22T13:41:27.208Z"
   },
   {
    "duration": 35,
    "start_time": "2022-06-22T13:41:27.216Z"
   },
   {
    "duration": 61690,
    "start_time": "2022-06-22T13:41:27.253Z"
   },
   {
    "duration": 227,
    "start_time": "2022-06-22T13:42:28.951Z"
   },
   {
    "duration": 491,
    "start_time": "2022-06-22T13:42:29.180Z"
   },
   {
    "duration": 148,
    "start_time": "2022-06-22T13:42:29.673Z"
   },
   {
    "duration": 361,
    "start_time": "2022-06-22T13:42:29.823Z"
   },
   {
    "duration": 378,
    "start_time": "2022-06-22T13:42:30.185Z"
   },
   {
    "duration": 351,
    "start_time": "2022-06-22T13:42:30.565Z"
   },
   {
    "duration": 1059,
    "start_time": "2022-06-22T13:44:51.546Z"
   },
   {
    "duration": 271,
    "start_time": "2022-06-22T13:44:52.608Z"
   },
   {
    "duration": 67,
    "start_time": "2022-06-22T13:44:52.881Z"
   },
   {
    "duration": 19,
    "start_time": "2022-06-22T13:44:52.951Z"
   },
   {
    "duration": 61754,
    "start_time": "2022-06-22T13:44:52.972Z"
   },
   {
    "duration": 250,
    "start_time": "2022-06-22T13:45:54.728Z"
   },
   {
    "duration": 503,
    "start_time": "2022-06-22T13:45:54.980Z"
   },
   {
    "duration": 167,
    "start_time": "2022-06-22T13:45:55.484Z"
   },
   {
    "duration": 9,
    "start_time": "2022-06-22T13:45:55.653Z"
   },
   {
    "duration": 9,
    "start_time": "2022-06-22T13:45:55.664Z"
   },
   {
    "duration": 9,
    "start_time": "2022-06-22T13:45:55.676Z"
   },
   {
    "duration": 138,
    "start_time": "2022-06-22T13:46:58.865Z"
   },
   {
    "duration": 6,
    "start_time": "2022-06-22T13:48:39.128Z"
   },
   {
    "duration": 687,
    "start_time": "2022-06-22T13:48:43.982Z"
   },
   {
    "duration": 4,
    "start_time": "2022-06-22T13:49:12.605Z"
   },
   {
    "duration": 511,
    "start_time": "2022-06-22T13:49:16.420Z"
   },
   {
    "duration": 479,
    "start_time": "2022-06-22T13:49:20.998Z"
   },
   {
    "duration": 752,
    "start_time": "2022-06-22T13:51:06.166Z"
   },
   {
    "duration": 255,
    "start_time": "2022-06-22T13:51:06.922Z"
   },
   {
    "duration": 7,
    "start_time": "2022-06-22T13:51:07.179Z"
   },
   {
    "duration": 23,
    "start_time": "2022-06-22T13:51:07.188Z"
   },
   {
    "duration": 62340,
    "start_time": "2022-06-22T13:51:07.214Z"
   },
   {
    "duration": 232,
    "start_time": "2022-06-22T13:52:09.557Z"
   },
   {
    "duration": 522,
    "start_time": "2022-06-22T13:52:09.791Z"
   },
   {
    "duration": 160,
    "start_time": "2022-06-22T13:52:10.314Z"
   },
   {
    "duration": 3,
    "start_time": "2022-06-22T13:52:10.477Z"
   },
   {
    "duration": 11,
    "start_time": "2022-06-22T13:52:10.482Z"
   },
   {
    "duration": 11,
    "start_time": "2022-06-22T13:52:10.496Z"
   },
   {
    "duration": 135,
    "start_time": "2022-06-22T13:54:12.108Z"
   },
   {
    "duration": 87,
    "start_time": "2022-06-22T13:55:28.953Z"
   },
   {
    "duration": 24,
    "start_time": "2022-06-22T13:55:40.042Z"
   },
   {
    "duration": 21,
    "start_time": "2022-06-22T13:55:50.362Z"
   },
   {
    "duration": 30,
    "start_time": "2022-06-22T13:55:54.036Z"
   },
   {
    "duration": 781,
    "start_time": "2022-06-22T13:56:19.144Z"
   },
   {
    "duration": 262,
    "start_time": "2022-06-22T13:56:19.927Z"
   },
   {
    "duration": 6,
    "start_time": "2022-06-22T13:56:20.191Z"
   },
   {
    "duration": 19,
    "start_time": "2022-06-22T13:56:20.199Z"
   },
   {
    "duration": 63762,
    "start_time": "2022-06-22T13:56:20.221Z"
   },
   {
    "duration": 247,
    "start_time": "2022-06-22T13:57:23.985Z"
   },
   {
    "duration": 33,
    "start_time": "2022-06-22T13:57:24.233Z"
   },
   {
    "duration": 0,
    "start_time": "2022-06-22T13:57:24.268Z"
   },
   {
    "duration": 0,
    "start_time": "2022-06-22T13:57:24.270Z"
   },
   {
    "duration": 0,
    "start_time": "2022-06-22T13:57:24.271Z"
   },
   {
    "duration": 0,
    "start_time": "2022-06-22T13:57:24.272Z"
   },
   {
    "duration": 12,
    "start_time": "2022-06-22T14:00:56.326Z"
   },
   {
    "duration": 31,
    "start_time": "2022-06-22T14:01:25.831Z"
   },
   {
    "duration": 472,
    "start_time": "2022-06-22T14:01:38.690Z"
   },
   {
    "duration": 466,
    "start_time": "2022-06-22T14:01:54.733Z"
   },
   {
    "duration": 559,
    "start_time": "2022-06-22T14:01:56.658Z"
   },
   {
    "duration": 508,
    "start_time": "2022-06-22T14:01:58.095Z"
   },
   {
    "duration": 723,
    "start_time": "2022-06-22T14:03:24.886Z"
   },
   {
    "duration": 220,
    "start_time": "2022-06-22T14:03:25.611Z"
   },
   {
    "duration": 5,
    "start_time": "2022-06-22T14:03:25.833Z"
   },
   {
    "duration": 27,
    "start_time": "2022-06-22T14:03:25.843Z"
   },
   {
    "duration": 62285,
    "start_time": "2022-06-22T14:03:25.872Z"
   },
   {
    "duration": 231,
    "start_time": "2022-06-22T14:04:28.160Z"
   },
   {
    "duration": 513,
    "start_time": "2022-06-22T14:04:28.393Z"
   },
   {
    "duration": 174,
    "start_time": "2022-06-22T14:04:28.908Z"
   },
   {
    "duration": 3,
    "start_time": "2022-06-22T14:04:29.084Z"
   },
   {
    "duration": 7,
    "start_time": "2022-06-22T14:04:29.090Z"
   },
   {
    "duration": 10,
    "start_time": "2022-06-22T14:04:29.100Z"
   },
   {
    "duration": 741,
    "start_time": "2022-06-22T14:04:53.381Z"
   },
   {
    "duration": 238,
    "start_time": "2022-06-22T14:04:54.125Z"
   },
   {
    "duration": 9,
    "start_time": "2022-06-22T14:04:54.365Z"
   },
   {
    "duration": 23,
    "start_time": "2022-06-22T14:04:54.376Z"
   },
   {
    "duration": 63819,
    "start_time": "2022-06-22T14:04:54.403Z"
   },
   {
    "duration": 248,
    "start_time": "2022-06-22T14:05:58.225Z"
   },
   {
    "duration": 8,
    "start_time": "2022-06-22T14:05:58.475Z"
   },
   {
    "duration": 153,
    "start_time": "2022-06-22T14:05:58.485Z"
   },
   {
    "duration": 7,
    "start_time": "2022-06-22T14:05:58.643Z"
   },
   {
    "duration": 19,
    "start_time": "2022-06-22T14:05:58.656Z"
   },
   {
    "duration": 10,
    "start_time": "2022-06-22T14:05:58.677Z"
   },
   {
    "duration": 383,
    "start_time": "2022-06-22T14:06:42.094Z"
   },
   {
    "duration": 411,
    "start_time": "2022-06-22T14:06:43.787Z"
   },
   {
    "duration": 468,
    "start_time": "2022-06-22T14:06:45.301Z"
   },
   {
    "duration": 481,
    "start_time": "2022-06-22T14:11:30.538Z"
   },
   {
    "duration": 710,
    "start_time": "2022-06-22T14:11:34.885Z"
   },
   {
    "duration": 230,
    "start_time": "2022-06-22T14:11:35.598Z"
   },
   {
    "duration": 6,
    "start_time": "2022-06-22T14:11:35.829Z"
   },
   {
    "duration": 27,
    "start_time": "2022-06-22T14:11:35.845Z"
   },
   {
    "duration": 62959,
    "start_time": "2022-06-22T14:11:35.874Z"
   },
   {
    "duration": 245,
    "start_time": "2022-06-22T14:12:38.835Z"
   },
   {
    "duration": 507,
    "start_time": "2022-06-22T14:12:39.082Z"
   },
   {
    "duration": 158,
    "start_time": "2022-06-22T14:12:39.591Z"
   },
   {
    "duration": 377,
    "start_time": "2022-06-22T14:12:39.754Z"
   },
   {
    "duration": 372,
    "start_time": "2022-06-22T14:12:40.133Z"
   },
   {
    "duration": 389,
    "start_time": "2022-06-22T14:12:40.507Z"
   },
   {
    "duration": 466,
    "start_time": "2022-06-22T14:27:14.014Z"
   },
   {
    "duration": 660,
    "start_time": "2022-06-22T14:27:22.404Z"
   },
   {
    "duration": 208,
    "start_time": "2022-06-22T14:27:23.065Z"
   },
   {
    "duration": 4,
    "start_time": "2022-06-22T14:27:23.275Z"
   },
   {
    "duration": 18,
    "start_time": "2022-06-22T14:27:23.281Z"
   },
   {
    "duration": 56053,
    "start_time": "2022-06-22T14:27:23.301Z"
   },
   {
    "duration": 249,
    "start_time": "2022-06-22T14:28:19.356Z"
   },
   {
    "duration": 516,
    "start_time": "2022-06-22T14:28:19.608Z"
   },
   {
    "duration": 141,
    "start_time": "2022-06-22T14:28:20.127Z"
   },
   {
    "duration": 505,
    "start_time": "2022-06-22T14:28:20.270Z"
   },
   {
    "duration": 354,
    "start_time": "2022-06-22T14:28:20.776Z"
   },
   {
    "duration": 350,
    "start_time": "2022-06-22T14:28:21.131Z"
   },
   {
    "duration": 4951,
    "start_time": "2022-06-23T10:04:47.541Z"
   },
   {
    "duration": 323,
    "start_time": "2022-06-23T10:04:52.495Z"
   },
   {
    "duration": 9,
    "start_time": "2022-06-23T10:04:52.819Z"
   },
   {
    "duration": 42,
    "start_time": "2022-06-23T10:04:52.831Z"
   },
   {
    "duration": 31935,
    "start_time": "2022-06-23T10:04:52.876Z"
   },
   {
    "duration": 220,
    "start_time": "2022-06-23T10:05:24.812Z"
   },
   {
    "duration": 493,
    "start_time": "2022-06-23T10:05:25.034Z"
   },
   {
    "duration": 145,
    "start_time": "2022-06-23T10:05:25.528Z"
   },
   {
    "duration": 340,
    "start_time": "2022-06-23T10:05:25.675Z"
   },
   {
    "duration": 356,
    "start_time": "2022-06-23T10:05:26.018Z"
   },
   {
    "duration": 415,
    "start_time": "2022-06-23T10:05:26.376Z"
   },
   {
    "duration": 351,
    "start_time": "2022-06-23T10:40:07.862Z"
   },
   {
    "duration": 311,
    "start_time": "2022-06-23T10:40:37.038Z"
   },
   {
    "duration": 378,
    "start_time": "2022-06-23T10:40:41.515Z"
   },
   {
    "duration": 17,
    "start_time": "2022-06-23T10:55:57.360Z"
   },
   {
    "duration": 22,
    "start_time": "2022-06-23T10:57:04.539Z"
   },
   {
    "duration": 1164,
    "start_time": "2022-06-23T10:59:32.039Z"
   },
   {
    "duration": 306,
    "start_time": "2022-06-23T10:59:47.302Z"
   },
   {
    "duration": 429,
    "start_time": "2022-06-23T11:00:29.068Z"
   },
   {
    "duration": 321,
    "start_time": "2022-06-23T11:00:49.248Z"
   },
   {
    "duration": 389,
    "start_time": "2022-06-23T11:01:11.322Z"
   },
   {
    "duration": 307,
    "start_time": "2022-06-23T11:01:56.900Z"
   },
   {
    "duration": 337,
    "start_time": "2022-06-23T11:02:04.466Z"
   },
   {
    "duration": 279,
    "start_time": "2022-06-23T11:45:46.114Z"
   },
   {
    "duration": 421,
    "start_time": "2022-06-23T11:45:47.228Z"
   },
   {
    "duration": 297,
    "start_time": "2022-06-23T11:46:24.335Z"
   },
   {
    "duration": 277,
    "start_time": "2022-06-23T11:46:59.656Z"
   },
   {
    "duration": 279,
    "start_time": "2022-06-23T11:47:07.916Z"
   },
   {
    "duration": 10,
    "start_time": "2022-06-23T11:47:18.397Z"
   },
   {
    "duration": 9,
    "start_time": "2022-06-23T11:47:47.109Z"
   },
   {
    "duration": 9,
    "start_time": "2022-06-23T11:47:52.236Z"
   },
   {
    "duration": 273,
    "start_time": "2022-06-23T11:48:14.784Z"
   },
   {
    "duration": 385,
    "start_time": "2022-06-23T11:49:37.737Z"
   },
   {
    "duration": 329,
    "start_time": "2022-06-23T11:51:35.320Z"
   },
   {
    "duration": 300,
    "start_time": "2022-06-23T11:52:12.362Z"
   },
   {
    "duration": 300,
    "start_time": "2022-06-23T11:52:50.933Z"
   },
   {
    "duration": 17,
    "start_time": "2022-06-23T11:58:05.275Z"
   },
   {
    "duration": 756,
    "start_time": "2022-06-23T13:05:00.400Z"
   },
   {
    "duration": 255,
    "start_time": "2022-06-23T13:05:01.157Z"
   },
   {
    "duration": 5,
    "start_time": "2022-06-23T13:05:01.414Z"
   },
   {
    "duration": 50,
    "start_time": "2022-06-23T13:05:01.434Z"
   },
   {
    "duration": 47444,
    "start_time": "2022-06-23T13:05:01.487Z"
   },
   {
    "duration": 261,
    "start_time": "2022-06-23T13:05:48.937Z"
   },
   {
    "duration": 619,
    "start_time": "2022-06-23T13:05:49.200Z"
   },
   {
    "duration": 134,
    "start_time": "2022-06-23T13:05:49.821Z"
   },
   {
    "duration": 357,
    "start_time": "2022-06-23T13:05:49.956Z"
   },
   {
    "duration": 476,
    "start_time": "2022-06-23T13:05:50.315Z"
   },
   {
    "duration": 376,
    "start_time": "2022-06-23T13:05:50.795Z"
   },
   {
    "duration": 374,
    "start_time": "2022-06-23T13:05:51.174Z"
   },
   {
    "duration": 496,
    "start_time": "2022-06-23T13:05:51.551Z"
   },
   {
    "duration": 29,
    "start_time": "2022-06-23T13:05:52.050Z"
   },
   {
    "duration": 20,
    "start_time": "2022-06-23T13:13:31.478Z"
   },
   {
    "duration": 179,
    "start_time": "2022-06-23T13:14:34.197Z"
   },
   {
    "duration": 11,
    "start_time": "2022-06-23T13:14:50.491Z"
   },
   {
    "duration": 12,
    "start_time": "2022-06-23T13:17:23.269Z"
   },
   {
    "duration": 805,
    "start_time": "2022-06-23T13:17:30.558Z"
   },
   {
    "duration": 76,
    "start_time": "2022-06-23T13:18:34.978Z"
   },
   {
    "duration": 196,
    "start_time": "2022-06-23T13:18:38.118Z"
   },
   {
    "duration": 119,
    "start_time": "2022-06-23T13:18:42.680Z"
   },
   {
    "duration": 135,
    "start_time": "2022-06-23T13:19:04.553Z"
   },
   {
    "duration": 140,
    "start_time": "2022-06-23T13:19:22.705Z"
   },
   {
    "duration": 644,
    "start_time": "2022-06-23T13:20:33.838Z"
   },
   {
    "duration": 1281,
    "start_time": "2022-06-23T13:22:18.341Z"
   },
   {
    "duration": 1255,
    "start_time": "2022-06-23T13:22:45.135Z"
   },
   {
    "duration": 1223,
    "start_time": "2022-06-23T13:22:50.259Z"
   },
   {
    "duration": 12,
    "start_time": "2022-06-23T13:25:37.866Z"
   },
   {
    "duration": 1489,
    "start_time": "2022-06-23T13:26:04.349Z"
   },
   {
    "duration": 139,
    "start_time": "2022-06-23T13:26:11.038Z"
   },
   {
    "duration": 119,
    "start_time": "2022-06-23T13:26:58.883Z"
   },
   {
    "duration": 122,
    "start_time": "2022-06-23T13:27:06.061Z"
   },
   {
    "duration": 139,
    "start_time": "2022-06-23T13:27:11.200Z"
   },
   {
    "duration": 111,
    "start_time": "2022-06-23T13:28:07.975Z"
   },
   {
    "duration": 4,
    "start_time": "2022-06-23T13:28:19.441Z"
   },
   {
    "duration": 196,
    "start_time": "2022-06-23T13:28:22.918Z"
   },
   {
    "duration": 132,
    "start_time": "2022-06-23T13:28:26.415Z"
   },
   {
    "duration": 1380,
    "start_time": "2022-06-23T13:28:48.807Z"
   },
   {
    "duration": 4,
    "start_time": "2022-06-23T13:28:52.346Z"
   },
   {
    "duration": 1473,
    "start_time": "2022-06-23T13:28:52.705Z"
   },
   {
    "duration": 1567,
    "start_time": "2022-06-23T13:32:59.639Z"
   },
   {
    "duration": 1282,
    "start_time": "2022-06-23T13:33:19.656Z"
   },
   {
    "duration": 1524,
    "start_time": "2022-06-23T13:33:39.737Z"
   },
   {
    "duration": 1469,
    "start_time": "2022-06-23T13:34:08.963Z"
   },
   {
    "duration": 1422,
    "start_time": "2022-06-23T13:36:41.042Z"
   },
   {
    "duration": 73,
    "start_time": "2022-06-23T13:37:33.301Z"
   },
   {
    "duration": 1286,
    "start_time": "2022-06-23T13:37:36.514Z"
   },
   {
    "duration": 1631,
    "start_time": "2022-06-23T13:37:42.084Z"
   },
   {
    "duration": 1475,
    "start_time": "2022-06-23T13:38:01.349Z"
   },
   {
    "duration": 1461,
    "start_time": "2022-06-23T13:38:12.764Z"
   },
   {
    "duration": 108,
    "start_time": "2022-06-23T13:38:33.897Z"
   },
   {
    "duration": 1474,
    "start_time": "2022-06-23T13:38:41.511Z"
   },
   {
    "duration": 56,
    "start_time": "2022-06-23T13:39:02.767Z"
   },
   {
    "duration": 1410,
    "start_time": "2022-06-23T13:39:08.090Z"
   },
   {
    "duration": 1274,
    "start_time": "2022-06-23T13:39:23.019Z"
   },
   {
    "duration": 1388,
    "start_time": "2022-06-23T13:39:31.850Z"
   },
   {
    "duration": 1380,
    "start_time": "2022-06-23T13:39:37.572Z"
   },
   {
    "duration": 6816,
    "start_time": "2022-06-24T11:42:36.898Z"
   },
   {
    "duration": 314,
    "start_time": "2022-06-24T11:42:43.716Z"
   },
   {
    "duration": 5,
    "start_time": "2022-06-24T11:42:44.032Z"
   },
   {
    "duration": 50,
    "start_time": "2022-06-24T11:42:44.039Z"
   },
   {
    "duration": 68687,
    "start_time": "2022-06-24T11:42:44.099Z"
   },
   {
    "duration": 311,
    "start_time": "2022-06-24T11:43:52.793Z"
   },
   {
    "duration": 786,
    "start_time": "2022-06-24T11:43:53.114Z"
   },
   {
    "duration": 196,
    "start_time": "2022-06-24T11:43:53.908Z"
   },
   {
    "duration": 480,
    "start_time": "2022-06-24T11:43:54.112Z"
   },
   {
    "duration": 467,
    "start_time": "2022-06-24T11:43:54.600Z"
   },
   {
    "duration": 576,
    "start_time": "2022-06-24T11:43:55.070Z"
   },
   {
    "duration": 368,
    "start_time": "2022-06-24T11:43:55.652Z"
   },
   {
    "duration": 472,
    "start_time": "2022-06-24T11:43:56.022Z"
   },
   {
    "duration": 14,
    "start_time": "2022-06-24T11:43:56.503Z"
   },
   {
    "duration": 2193,
    "start_time": "2022-06-24T11:43:56.525Z"
   },
   {
    "duration": 3,
    "start_time": "2022-06-24T12:18:04.225Z"
   },
   {
    "duration": 5,
    "start_time": "2022-06-24T12:20:01.339Z"
   },
   {
    "duration": 114,
    "start_time": "2022-06-24T12:25:01.105Z"
   },
   {
    "duration": 839,
    "start_time": "2022-06-24T12:25:35.029Z"
   },
   {
    "duration": 7,
    "start_time": "2022-06-24T12:35:32.500Z"
   },
   {
    "duration": 28,
    "start_time": "2022-06-24T12:35:51.913Z"
   },
   {
    "duration": 7,
    "start_time": "2022-06-24T12:38:09.711Z"
   },
   {
    "duration": 29,
    "start_time": "2022-06-24T12:43:34.999Z"
   },
   {
    "duration": 912,
    "start_time": "2022-06-24T12:43:38.792Z"
   },
   {
    "duration": 1159,
    "start_time": "2022-06-24T13:01:05.986Z"
   },
   {
    "duration": 8,
    "start_time": "2022-06-24T13:08:09.374Z"
   },
   {
    "duration": 8,
    "start_time": "2022-06-24T13:08:11.780Z"
   },
   {
    "duration": 1160,
    "start_time": "2022-06-24T13:09:24.394Z"
   },
   {
    "duration": 8,
    "start_time": "2022-06-24T13:10:23.479Z"
   },
   {
    "duration": 16,
    "start_time": "2022-06-24T13:10:35.476Z"
   },
   {
    "duration": 6,
    "start_time": "2022-06-24T13:10:52.792Z"
   },
   {
    "duration": 21,
    "start_time": "2022-06-24T13:11:04.576Z"
   },
   {
    "duration": 6,
    "start_time": "2022-06-24T13:11:33.778Z"
   },
   {
    "duration": 17,
    "start_time": "2022-06-24T13:12:26.786Z"
   },
   {
    "duration": 19,
    "start_time": "2022-06-24T13:13:22.542Z"
   },
   {
    "duration": 24,
    "start_time": "2022-06-24T13:13:33.367Z"
   },
   {
    "duration": 3,
    "start_time": "2022-06-24T13:14:03.901Z"
   },
   {
    "duration": 6,
    "start_time": "2022-06-24T13:14:14.926Z"
   },
   {
    "duration": 12,
    "start_time": "2022-06-24T13:14:16.188Z"
   },
   {
    "duration": 2103,
    "start_time": "2022-06-24T13:14:55.990Z"
   },
   {
    "duration": 2242,
    "start_time": "2022-06-24T13:16:01.178Z"
   },
   {
    "duration": 2469,
    "start_time": "2022-06-24T13:16:27.518Z"
   },
   {
    "duration": 6,
    "start_time": "2022-06-24T14:29:08.917Z"
   },
   {
    "duration": 423206,
    "start_time": "2022-06-24T14:29:10.542Z"
   },
   {
    "duration": 63,
    "start_time": "2022-06-25T08:28:45.012Z"
   },
   {
    "duration": 4231,
    "start_time": "2022-06-25T08:28:48.003Z"
   },
   {
    "duration": 298,
    "start_time": "2022-06-25T08:28:52.236Z"
   },
   {
    "duration": 12,
    "start_time": "2022-06-25T08:28:52.536Z"
   },
   {
    "duration": 42,
    "start_time": "2022-06-25T08:28:52.552Z"
   },
   {
    "duration": 67486,
    "start_time": "2022-06-25T08:28:52.596Z"
   },
   {
    "duration": 276,
    "start_time": "2022-06-25T08:30:00.087Z"
   },
   {
    "duration": 562,
    "start_time": "2022-06-25T08:30:00.365Z"
   },
   {
    "duration": 158,
    "start_time": "2022-06-25T08:30:00.929Z"
   },
   {
    "duration": 382,
    "start_time": "2022-06-25T08:30:01.089Z"
   },
   {
    "duration": 521,
    "start_time": "2022-06-25T08:30:01.474Z"
   },
   {
    "duration": 409,
    "start_time": "2022-06-25T08:30:01.997Z"
   },
   {
    "duration": 475,
    "start_time": "2022-06-25T08:30:02.408Z"
   },
   {
    "duration": 437,
    "start_time": "2022-06-25T08:30:02.886Z"
   },
   {
    "duration": 5,
    "start_time": "2022-06-25T08:30:03.325Z"
   },
   {
    "duration": 1671,
    "start_time": "2022-06-25T08:30:03.331Z"
   },
   {
    "duration": 4,
    "start_time": "2022-06-25T08:30:05.004Z"
   },
   {
    "duration": 17,
    "start_time": "2022-06-25T08:30:05.009Z"
   },
   {
    "duration": 93,
    "start_time": "2022-06-25T08:30:05.027Z"
   },
   {
    "duration": 12392,
    "start_time": "2022-06-25T08:33:18.289Z"
   },
   {
    "duration": 5,
    "start_time": "2022-06-25T14:24:02.964Z"
   },
   {
    "duration": 9,
    "start_time": "2022-06-25T14:24:27.670Z"
   },
   {
    "duration": 7,
    "start_time": "2022-06-25T14:24:43.072Z"
   },
   {
    "duration": 20,
    "start_time": "2022-06-25T14:26:56.761Z"
   },
   {
    "duration": 19,
    "start_time": "2022-06-25T14:33:00.185Z"
   },
   {
    "duration": 14,
    "start_time": "2022-06-25T14:37:06.225Z"
   },
   {
    "duration": 13,
    "start_time": "2022-06-25T14:41:53.297Z"
   },
   {
    "duration": 18,
    "start_time": "2022-06-25T14:48:40.034Z"
   },
   {
    "duration": 8,
    "start_time": "2022-06-25T14:49:44.584Z"
   },
   {
    "duration": 12,
    "start_time": "2022-06-25T14:50:10.444Z"
   },
   {
    "duration": 154881,
    "start_time": "2022-06-25T14:50:21.349Z"
   },
   {
    "duration": 2128,
    "start_time": "2022-06-25T14:53:03.659Z"
   },
   {
    "duration": 10943,
    "start_time": "2022-06-25T14:53:09.763Z"
   },
   {
    "duration": 806,
    "start_time": "2022-06-25T14:53:25.161Z"
   },
   {
    "duration": 9,
    "start_time": "2022-06-25T14:55:48.296Z"
   },
   {
    "duration": 4558,
    "start_time": "2022-06-25T14:55:52.612Z"
   },
   {
    "duration": 796,
    "start_time": "2022-06-25T14:56:39.129Z"
   },
   {
    "duration": 86602,
    "start_time": "2022-06-25T14:56:42.992Z"
   },
   {
    "duration": 130718,
    "start_time": "2022-06-25T14:58:47.563Z"
   },
   {
    "duration": 10043,
    "start_time": "2022-06-25T15:03:35.869Z"
   },
   {
    "duration": 49,
    "start_time": "2022-06-25T15:03:51.136Z"
   },
   {
    "duration": 134545,
    "start_time": "2022-06-25T15:03:56.540Z"
   },
   {
    "duration": 8,
    "start_time": "2022-06-25T15:08:41.745Z"
   },
   {
    "duration": 520878,
    "start_time": "2022-06-25T15:09:20.289Z"
   },
   {
    "duration": 6,
    "start_time": "2022-06-25T15:18:01.170Z"
   },
   {
    "duration": 5,
    "start_time": "2022-06-25T15:26:53.229Z"
   },
   {
    "duration": 5,
    "start_time": "2022-06-25T15:27:44.368Z"
   },
   {
    "duration": 2355,
    "start_time": "2022-06-25T15:28:01.316Z"
   },
   {
    "duration": 17,
    "start_time": "2022-06-25T15:28:47.279Z"
   },
   {
    "duration": 13,
    "start_time": "2022-06-25T15:28:55.890Z"
   },
   {
    "duration": 9,
    "start_time": "2022-06-25T15:29:00.749Z"
   },
   {
    "duration": 1606,
    "start_time": "2022-06-25T15:29:05.563Z"
   },
   {
    "duration": 1682,
    "start_time": "2022-06-25T15:29:17.678Z"
   },
   {
    "duration": 5,
    "start_time": "2022-06-25T15:30:21.501Z"
   },
   {
    "duration": 1637,
    "start_time": "2022-06-25T15:30:25.797Z"
   },
   {
    "duration": 6348,
    "start_time": "2022-06-25T15:30:38.483Z"
   },
   {
    "duration": 6471,
    "start_time": "2022-06-25T15:30:48.787Z"
   },
   {
    "duration": 31853,
    "start_time": "2022-06-25T15:35:27.121Z"
   },
   {
    "duration": 338995,
    "start_time": "2022-06-25T15:36:03.469Z"
   },
   {
    "duration": 95,
    "start_time": "2022-06-25T15:42:09.098Z"
   },
   {
    "duration": 63367,
    "start_time": "2022-06-25T15:42:11.963Z"
   },
   {
    "duration": 230951,
    "start_time": "2022-06-25T15:44:33.162Z"
   },
   {
    "duration": 6652,
    "start_time": "2022-06-25T16:01:18.326Z"
   },
   {
    "duration": 75,
    "start_time": "2022-06-25T16:02:40.098Z"
   },
   {
    "duration": 14073,
    "start_time": "2022-06-25T16:03:49.105Z"
   },
   {
    "duration": 22235,
    "start_time": "2022-06-25T16:04:11.332Z"
   },
   {
    "duration": 14440,
    "start_time": "2022-06-25T16:08:53.363Z"
   },
   {
    "duration": 6,
    "start_time": "2022-06-25T16:10:45.645Z"
   },
   {
    "duration": 63094,
    "start_time": "2022-06-25T16:10:49.026Z"
   },
   {
    "duration": 236366,
    "start_time": "2022-06-25T16:11:52.123Z"
   },
   {
    "duration": 15,
    "start_time": "2022-06-25T16:19:52.891Z"
   },
   {
    "duration": 15,
    "start_time": "2022-06-25T16:20:15.114Z"
   },
   {
    "duration": 15246,
    "start_time": "2022-06-25T16:20:57.882Z"
   },
   {
    "duration": 16,
    "start_time": "2022-06-25T16:23:00.594Z"
   },
   {
    "duration": 15,
    "start_time": "2022-06-25T16:23:31.806Z"
   },
   {
    "duration": 7,
    "start_time": "2022-06-25T16:23:41.978Z"
   },
   {
    "duration": 18,
    "start_time": "2022-06-25T16:23:43.992Z"
   },
   {
    "duration": 17,
    "start_time": "2022-06-25T16:30:44.427Z"
   },
   {
    "duration": 28,
    "start_time": "2022-06-25T16:32:56.982Z"
   },
   {
    "duration": 30,
    "start_time": "2022-06-25T16:33:21.661Z"
   },
   {
    "duration": 31,
    "start_time": "2022-06-25T16:33:26.241Z"
   },
   {
    "duration": 34,
    "start_time": "2022-06-25T16:34:49.329Z"
   },
   {
    "duration": 510,
    "start_time": "2022-06-25T16:35:08.424Z"
   },
   {
    "duration": 22,
    "start_time": "2022-06-25T16:35:11.402Z"
   },
   {
    "duration": 10,
    "start_time": "2022-06-25T16:35:22.688Z"
   },
   {
    "duration": 5,
    "start_time": "2022-06-25T16:35:32.304Z"
   },
   {
    "duration": 9,
    "start_time": "2022-06-25T16:35:35.771Z"
   },
   {
    "duration": 82701,
    "start_time": "2022-06-25T16:35:41.429Z"
   },
   {
    "duration": 0,
    "start_time": "2022-06-25T16:37:22.606Z"
   },
   {
    "duration": 7033,
    "start_time": "2022-06-25T16:37:50.065Z"
   },
   {
    "duration": 32,
    "start_time": "2022-06-25T16:38:36.672Z"
   },
   {
    "duration": 15132,
    "start_time": "2022-06-25T16:38:40.662Z"
   },
   {
    "duration": 16272,
    "start_time": "2022-06-25T16:38:55.796Z"
   },
   {
    "duration": 16895,
    "start_time": "2022-06-25T16:39:38.501Z"
   },
   {
    "duration": 13173,
    "start_time": "2022-06-25T16:39:55.401Z"
   },
   {
    "duration": 209952,
    "start_time": "2022-06-25T16:40:08.594Z"
   },
   {
    "duration": 0,
    "start_time": "2022-06-25T16:43:38.560Z"
   },
   {
    "duration": 5,
    "start_time": "2022-06-25T16:43:40.603Z"
   },
   {
    "duration": 6737,
    "start_time": "2022-06-25T16:43:51.904Z"
   },
   {
    "duration": 10014,
    "start_time": "2022-06-25T16:43:58.644Z"
   },
   {
    "duration": 134611,
    "start_time": "2022-06-25T16:44:08.670Z"
   },
   {
    "duration": 0,
    "start_time": "2022-06-25T16:46:23.283Z"
   },
   {
    "duration": 0,
    "start_time": "2022-06-25T16:46:23.284Z"
   },
   {
    "duration": 15912,
    "start_time": "2022-06-25T16:46:32.005Z"
   },
   {
    "duration": 9031,
    "start_time": "2022-06-25T16:47:29.526Z"
   },
   {
    "duration": 363287,
    "start_time": "2022-06-25T16:47:55.472Z"
   },
   {
    "duration": 18,
    "start_time": "2022-06-25T16:54:48.051Z"
   },
   {
    "duration": 128,
    "start_time": "2022-06-25T16:55:48.996Z"
   },
   {
    "duration": 49,
    "start_time": "2022-06-25T16:56:02.904Z"
   },
   {
    "duration": 15,
    "start_time": "2022-06-25T16:56:11.348Z"
   },
   {
    "duration": 19,
    "start_time": "2022-06-25T16:56:24.752Z"
   },
   {
    "duration": 8,
    "start_time": "2022-06-25T16:56:39.264Z"
   },
   {
    "duration": 13205,
    "start_time": "2022-06-25T16:56:40.610Z"
   },
   {
    "duration": 14,
    "start_time": "2022-06-25T16:59:12.255Z"
   },
   {
    "duration": 28,
    "start_time": "2022-06-25T16:59:20.998Z"
   },
   {
    "duration": 11,
    "start_time": "2022-06-25T16:59:46.700Z"
   },
   {
    "duration": 46,
    "start_time": "2022-06-25T17:09:26.389Z"
   },
   {
    "duration": 55,
    "start_time": "2022-06-25T17:09:39.547Z"
   },
   {
    "duration": 4692,
    "start_time": "2022-06-26T10:24:23.419Z"
   },
   {
    "duration": 247,
    "start_time": "2022-06-26T10:24:28.114Z"
   },
   {
    "duration": 6,
    "start_time": "2022-06-26T10:24:28.363Z"
   },
   {
    "duration": 22,
    "start_time": "2022-06-26T10:24:28.371Z"
   },
   {
    "duration": 31330,
    "start_time": "2022-06-26T10:24:28.396Z"
   },
   {
    "duration": 220,
    "start_time": "2022-06-26T10:24:59.728Z"
   },
   {
    "duration": 501,
    "start_time": "2022-06-26T10:24:59.950Z"
   },
   {
    "duration": 132,
    "start_time": "2022-06-26T10:25:00.453Z"
   },
   {
    "duration": 308,
    "start_time": "2022-06-26T10:25:00.588Z"
   },
   {
    "duration": 352,
    "start_time": "2022-06-26T10:25:00.898Z"
   },
   {
    "duration": 428,
    "start_time": "2022-06-26T10:25:01.252Z"
   },
   {
    "duration": 281,
    "start_time": "2022-06-26T10:25:01.682Z"
   },
   {
    "duration": 315,
    "start_time": "2022-06-26T10:25:01.965Z"
   },
   {
    "duration": 5,
    "start_time": "2022-06-26T10:25:02.294Z"
   },
   {
    "duration": 1430,
    "start_time": "2022-06-26T10:25:02.301Z"
   },
   {
    "duration": 4,
    "start_time": "2022-06-26T10:25:03.732Z"
   },
   {
    "duration": 14,
    "start_time": "2022-06-26T10:25:03.738Z"
   },
   {
    "duration": 12080,
    "start_time": "2022-06-26T10:25:03.753Z"
   },
   {
    "duration": 4597,
    "start_time": "2022-06-26T10:25:15.834Z"
   },
   {
    "duration": 311211,
    "start_time": "2022-06-26T10:25:20.432Z"
   },
   {
    "duration": 46,
    "start_time": "2022-06-26T10:56:17.071Z"
   },
   {
    "duration": 40,
    "start_time": "2022-06-26T10:58:19.767Z"
   },
   {
    "duration": 33,
    "start_time": "2022-06-26T10:58:28.893Z"
   },
   {
    "duration": 965,
    "start_time": "2022-06-26T10:59:14.584Z"
   },
   {
    "duration": 57,
    "start_time": "2022-06-26T10:59:39.765Z"
   },
   {
    "duration": 56,
    "start_time": "2022-06-26T10:59:51.210Z"
   },
   {
    "duration": 16,
    "start_time": "2022-06-26T11:00:04.088Z"
   },
   {
    "duration": 28,
    "start_time": "2022-06-26T11:00:14.203Z"
   },
   {
    "duration": 27,
    "start_time": "2022-06-26T11:00:18.351Z"
   },
   {
    "duration": 33,
    "start_time": "2022-06-26T11:00:51.774Z"
   },
   {
    "duration": 31,
    "start_time": "2022-06-26T11:02:10.880Z"
   },
   {
    "duration": 32,
    "start_time": "2022-06-26T11:02:33.404Z"
   },
   {
    "duration": 31,
    "start_time": "2022-06-26T11:02:38.957Z"
   },
   {
    "duration": 653,
    "start_time": "2022-06-26T11:02:50.215Z"
   },
   {
    "duration": 36,
    "start_time": "2022-06-26T11:02:55.941Z"
   },
   {
    "duration": 33,
    "start_time": "2022-06-26T11:04:18.596Z"
   },
   {
    "duration": 669,
    "start_time": "2022-06-26T11:04:25.703Z"
   },
   {
    "duration": 21,
    "start_time": "2022-06-26T11:04:30.822Z"
   },
   {
    "duration": 31,
    "start_time": "2022-06-26T11:04:45.089Z"
   },
   {
    "duration": 35,
    "start_time": "2022-06-26T11:05:07.208Z"
   },
   {
    "duration": 52,
    "start_time": "2022-06-26T11:06:11.580Z"
   },
   {
    "duration": 35,
    "start_time": "2022-06-26T11:06:24.544Z"
   },
   {
    "duration": 9,
    "start_time": "2022-06-26T11:07:09.064Z"
   },
   {
    "duration": 19,
    "start_time": "2022-06-26T11:07:18.748Z"
   },
   {
    "duration": 31,
    "start_time": "2022-06-26T11:07:44.514Z"
   },
   {
    "duration": 3,
    "start_time": "2022-06-26T11:08:20.850Z"
   },
   {
    "duration": 659,
    "start_time": "2022-06-26T11:08:41.754Z"
   },
   {
    "duration": 228,
    "start_time": "2022-06-26T11:08:42.415Z"
   },
   {
    "duration": 6,
    "start_time": "2022-06-26T11:08:42.645Z"
   },
   {
    "duration": 16,
    "start_time": "2022-06-26T11:08:42.653Z"
   },
   {
    "duration": 45766,
    "start_time": "2022-06-26T11:08:42.671Z"
   },
   {
    "duration": 225,
    "start_time": "2022-06-26T11:09:28.439Z"
   },
   {
    "duration": 498,
    "start_time": "2022-06-26T11:09:28.665Z"
   },
   {
    "duration": 120,
    "start_time": "2022-06-26T11:09:29.165Z"
   },
   {
    "duration": 324,
    "start_time": "2022-06-26T11:09:29.287Z"
   },
   {
    "duration": 398,
    "start_time": "2022-06-26T11:09:29.613Z"
   },
   {
    "duration": 469,
    "start_time": "2022-06-26T11:09:30.013Z"
   },
   {
    "duration": 306,
    "start_time": "2022-06-26T11:09:30.484Z"
   },
   {
    "duration": 347,
    "start_time": "2022-06-26T11:09:30.792Z"
   },
   {
    "duration": 5,
    "start_time": "2022-06-26T11:09:31.141Z"
   },
   {
    "duration": 1537,
    "start_time": "2022-06-26T11:09:31.147Z"
   },
   {
    "duration": 4,
    "start_time": "2022-06-26T11:09:32.686Z"
   },
   {
    "duration": 22,
    "start_time": "2022-06-26T11:09:32.691Z"
   },
   {
    "duration": 12960,
    "start_time": "2022-06-26T11:09:32.715Z"
   },
   {
    "duration": 3554,
    "start_time": "2022-06-26T11:09:45.677Z"
   },
   {
    "duration": 320209,
    "start_time": "2022-06-26T11:09:49.232Z"
   },
   {
    "duration": 3,
    "start_time": "2022-06-26T11:15:09.443Z"
   },
   {
    "duration": 0,
    "start_time": "2022-06-26T11:15:09.448Z"
   },
   {
    "duration": 4780,
    "start_time": "2022-06-26T12:56:06.581Z"
   },
   {
    "duration": 259,
    "start_time": "2022-06-26T12:56:11.363Z"
   },
   {
    "duration": 4,
    "start_time": "2022-06-26T12:56:11.624Z"
   },
   {
    "duration": 17,
    "start_time": "2022-06-26T12:56:11.630Z"
   },
   {
    "duration": 29163,
    "start_time": "2022-06-26T12:56:11.648Z"
   },
   {
    "duration": 240,
    "start_time": "2022-06-26T12:56:40.813Z"
   },
   {
    "duration": 565,
    "start_time": "2022-06-26T12:56:41.054Z"
   },
   {
    "duration": 126,
    "start_time": "2022-06-26T12:56:41.620Z"
   },
   {
    "duration": 419,
    "start_time": "2022-06-26T12:56:41.748Z"
   },
   {
    "duration": 388,
    "start_time": "2022-06-26T12:56:42.169Z"
   },
   {
    "duration": 416,
    "start_time": "2022-06-26T12:56:42.559Z"
   },
   {
    "duration": 309,
    "start_time": "2022-06-26T12:56:42.977Z"
   },
   {
    "duration": 338,
    "start_time": "2022-06-26T12:56:43.289Z"
   },
   {
    "duration": 5,
    "start_time": "2022-06-26T12:56:43.628Z"
   },
   {
    "duration": 1383,
    "start_time": "2022-06-26T12:56:43.635Z"
   },
   {
    "duration": 4,
    "start_time": "2022-06-26T12:56:45.027Z"
   },
   {
    "duration": 34,
    "start_time": "2022-06-26T12:56:45.032Z"
   },
   {
    "duration": 12131,
    "start_time": "2022-06-26T12:56:45.068Z"
   },
   {
    "duration": 4029,
    "start_time": "2022-06-26T12:56:57.200Z"
   },
   {
    "duration": 314833,
    "start_time": "2022-06-26T12:57:01.230Z"
   },
   {
    "duration": 14,
    "start_time": "2022-06-26T13:02:16.065Z"
   },
   {
    "duration": 49,
    "start_time": "2022-06-26T13:02:16.081Z"
   },
   {
    "duration": 31,
    "start_time": "2022-06-26T13:33:13.349Z"
   },
   {
    "duration": 652,
    "start_time": "2022-06-26T13:33:40.741Z"
   },
   {
    "duration": 253,
    "start_time": "2022-06-26T13:33:41.395Z"
   },
   {
    "duration": 6,
    "start_time": "2022-06-26T13:33:41.650Z"
   },
   {
    "duration": 51,
    "start_time": "2022-06-26T13:33:41.658Z"
   },
   {
    "duration": 12,
    "start_time": "2022-06-26T13:33:41.711Z"
   },
   {
    "duration": 30482,
    "start_time": "2022-06-26T13:33:41.727Z"
   },
   {
    "duration": 218,
    "start_time": "2022-06-26T13:34:12.211Z"
   },
   {
    "duration": 454,
    "start_time": "2022-06-26T13:34:12.431Z"
   },
   {
    "duration": 115,
    "start_time": "2022-06-26T13:34:12.886Z"
   },
   {
    "duration": 292,
    "start_time": "2022-06-26T13:34:13.003Z"
   },
   {
    "duration": 322,
    "start_time": "2022-06-26T13:34:13.297Z"
   },
   {
    "duration": 303,
    "start_time": "2022-06-26T13:34:13.621Z"
   },
   {
    "duration": 382,
    "start_time": "2022-06-26T13:34:13.926Z"
   },
   {
    "duration": 307,
    "start_time": "2022-06-26T13:34:14.310Z"
   },
   {
    "duration": 9,
    "start_time": "2022-06-26T13:34:14.618Z"
   },
   {
    "duration": 1348,
    "start_time": "2022-06-26T13:34:14.629Z"
   },
   {
    "duration": 4,
    "start_time": "2022-06-26T13:34:15.978Z"
   },
   {
    "duration": 35,
    "start_time": "2022-06-26T13:34:15.983Z"
   },
   {
    "duration": 11837,
    "start_time": "2022-06-26T13:34:16.020Z"
   },
   {
    "duration": 3975,
    "start_time": "2022-06-26T13:34:27.859Z"
   },
   {
    "duration": 151156,
    "start_time": "2022-06-26T13:34:31.836Z"
   },
   {
    "duration": 188261,
    "start_time": "2022-06-26T13:38:03.896Z"
   },
   {
    "duration": 728,
    "start_time": "2022-06-26T13:41:16.449Z"
   },
   {
    "duration": 218,
    "start_time": "2022-06-26T13:41:17.179Z"
   },
   {
    "duration": 40,
    "start_time": "2022-06-26T13:41:17.399Z"
   },
   {
    "duration": 5,
    "start_time": "2022-06-26T13:41:17.440Z"
   },
   {
    "duration": 23,
    "start_time": "2022-06-26T13:41:17.447Z"
   },
   {
    "duration": 29454,
    "start_time": "2022-06-26T13:41:17.472Z"
   },
   {
    "duration": 210,
    "start_time": "2022-06-26T13:41:46.928Z"
   },
   {
    "duration": 454,
    "start_time": "2022-06-26T13:41:47.140Z"
   },
   {
    "duration": 118,
    "start_time": "2022-06-26T13:41:47.596Z"
   },
   {
    "duration": 319,
    "start_time": "2022-06-26T13:41:47.716Z"
   },
   {
    "duration": 332,
    "start_time": "2022-06-26T13:41:48.037Z"
   },
   {
    "duration": 332,
    "start_time": "2022-06-26T13:41:48.370Z"
   },
   {
    "duration": 287,
    "start_time": "2022-06-26T13:41:48.704Z"
   },
   {
    "duration": 421,
    "start_time": "2022-06-26T13:41:48.994Z"
   },
   {
    "duration": 11,
    "start_time": "2022-06-26T13:41:49.417Z"
   },
   {
    "duration": 1272,
    "start_time": "2022-06-26T13:41:49.429Z"
   },
   {
    "duration": 4,
    "start_time": "2022-06-26T13:41:50.703Z"
   },
   {
    "duration": 24,
    "start_time": "2022-06-26T13:41:50.709Z"
   },
   {
    "duration": 13155,
    "start_time": "2022-06-26T13:41:50.734Z"
   },
   {
    "duration": 4343,
    "start_time": "2022-06-26T13:42:03.891Z"
   },
   {
    "duration": 316938,
    "start_time": "2022-06-26T13:42:08.237Z"
   },
   {
    "duration": 15,
    "start_time": "2022-06-26T13:47:25.176Z"
   },
   {
    "duration": 15,
    "start_time": "2022-06-26T13:50:52.525Z"
   },
   {
    "duration": 22109,
    "start_time": "2022-06-26T13:51:33.864Z"
   },
   {
    "duration": 43517,
    "start_time": "2022-06-26T13:52:01.661Z"
   },
   {
    "duration": 9,
    "start_time": "2022-06-26T13:54:08.723Z"
   },
   {
    "duration": 11,
    "start_time": "2022-06-26T13:54:21.801Z"
   },
   {
    "duration": 7,
    "start_time": "2022-06-26T13:54:24.767Z"
   },
   {
    "duration": 4,
    "start_time": "2022-06-26T13:55:24.151Z"
   },
   {
    "duration": 4,
    "start_time": "2022-06-26T13:55:48.786Z"
   },
   {
    "duration": 5,
    "start_time": "2022-06-26T13:56:09.313Z"
   },
   {
    "duration": 13175,
    "start_time": "2022-06-26T13:59:32.749Z"
   },
   {
    "duration": 5027,
    "start_time": "2022-06-26T13:59:51.506Z"
   },
   {
    "duration": 342146,
    "start_time": "2022-06-26T14:00:04.684Z"
   },
   {
    "duration": 632,
    "start_time": "2022-06-26T14:31:57.684Z"
   },
   {
    "duration": 202,
    "start_time": "2022-06-26T14:31:58.318Z"
   },
   {
    "duration": 32,
    "start_time": "2022-06-26T14:31:58.521Z"
   },
   {
    "duration": 5,
    "start_time": "2022-06-26T14:31:58.554Z"
   },
   {
    "duration": 14,
    "start_time": "2022-06-26T14:31:58.561Z"
   },
   {
    "duration": 32570,
    "start_time": "2022-06-26T14:31:58.577Z"
   },
   {
    "duration": 243,
    "start_time": "2022-06-26T14:32:31.149Z"
   },
   {
    "duration": 611,
    "start_time": "2022-06-26T14:32:31.394Z"
   },
   {
    "duration": 147,
    "start_time": "2022-06-26T14:32:32.007Z"
   },
   {
    "duration": 342,
    "start_time": "2022-06-26T14:32:32.156Z"
   },
   {
    "duration": 379,
    "start_time": "2022-06-26T14:32:32.500Z"
   },
   {
    "duration": 367,
    "start_time": "2022-06-26T14:32:32.880Z"
   },
   {
    "duration": 318,
    "start_time": "2022-06-26T14:32:33.249Z"
   },
   {
    "duration": 338,
    "start_time": "2022-06-26T14:32:33.569Z"
   },
   {
    "duration": 4,
    "start_time": "2022-06-26T14:32:33.909Z"
   },
   {
    "duration": 1494,
    "start_time": "2022-06-26T14:32:33.914Z"
   },
   {
    "duration": 4,
    "start_time": "2022-06-26T14:32:35.409Z"
   },
   {
    "duration": 23,
    "start_time": "2022-06-26T14:32:35.430Z"
   },
   {
    "duration": 14311,
    "start_time": "2022-06-26T14:32:35.454Z"
   },
   {
    "duration": 11380,
    "start_time": "2022-06-26T14:32:49.767Z"
   },
   {
    "duration": 359738,
    "start_time": "2022-06-26T14:33:01.149Z"
   },
   {
    "duration": 43899,
    "start_time": "2022-06-26T14:39:00.889Z"
   },
   {
    "duration": 5,
    "start_time": "2022-06-26T14:39:44.791Z"
   },
   {
    "duration": 113,
    "start_time": "2022-06-26T14:45:19.685Z"
   },
   {
    "duration": 133,
    "start_time": "2022-06-26T14:45:26.183Z"
   },
   {
    "duration": 202,
    "start_time": "2022-06-26T14:58:58.861Z"
   },
   {
    "duration": 683,
    "start_time": "2022-06-26T14:59:01.202Z"
   },
   {
    "duration": 226,
    "start_time": "2022-06-26T14:59:01.887Z"
   },
   {
    "duration": 36,
    "start_time": "2022-06-26T14:59:02.114Z"
   },
   {
    "duration": 4,
    "start_time": "2022-06-26T14:59:02.152Z"
   },
   {
    "duration": 18,
    "start_time": "2022-06-26T14:59:02.158Z"
   },
   {
    "duration": 26338,
    "start_time": "2022-06-26T14:59:02.178Z"
   },
   {
    "duration": 204,
    "start_time": "2022-06-26T14:59:28.526Z"
   },
   {
    "duration": 450,
    "start_time": "2022-06-26T14:59:28.731Z"
   },
   {
    "duration": 187,
    "start_time": "2022-06-26T14:59:29.183Z"
   },
   {
    "duration": 302,
    "start_time": "2022-06-26T14:59:29.371Z"
   },
   {
    "duration": 311,
    "start_time": "2022-06-26T14:59:29.675Z"
   },
   {
    "duration": 315,
    "start_time": "2022-06-26T14:59:29.987Z"
   },
   {
    "duration": 287,
    "start_time": "2022-06-26T14:59:30.304Z"
   },
   {
    "duration": 318,
    "start_time": "2022-06-26T14:59:30.593Z"
   },
   {
    "duration": 4,
    "start_time": "2022-06-26T14:59:30.913Z"
   },
   {
    "duration": 1400,
    "start_time": "2022-06-26T14:59:30.926Z"
   },
   {
    "duration": 4,
    "start_time": "2022-06-26T14:59:32.328Z"
   },
   {
    "duration": 27,
    "start_time": "2022-06-26T14:59:32.333Z"
   },
   {
    "duration": 13315,
    "start_time": "2022-06-26T14:59:32.362Z"
   },
   {
    "duration": 3753,
    "start_time": "2022-06-26T14:59:45.678Z"
   },
   {
    "duration": 335905,
    "start_time": "2022-06-26T14:59:49.434Z"
   },
   {
    "duration": 10,
    "start_time": "2022-06-26T15:05:25.341Z"
   },
   {
    "duration": 0,
    "start_time": "2022-06-26T15:05:25.353Z"
   },
   {
    "duration": 78795,
    "start_time": "2022-06-26T15:05:52.471Z"
   },
   {
    "duration": 29,
    "start_time": "2022-06-26T15:09:37.014Z"
   },
   {
    "duration": 3282,
    "start_time": "2022-06-26T15:10:09.858Z"
   },
   {
    "duration": 4061,
    "start_time": "2022-06-26T15:10:29.913Z"
   },
   {
    "duration": 79320,
    "start_time": "2022-06-26T15:10:50.673Z"
   },
   {
    "duration": 36,
    "start_time": "2022-06-26T15:12:52.897Z"
   },
   {
    "duration": 5,
    "start_time": "2022-06-26T15:12:54.053Z"
   },
   {
    "duration": 675,
    "start_time": "2022-06-26T15:13:19.815Z"
   },
   {
    "duration": 226,
    "start_time": "2022-06-26T15:13:20.493Z"
   },
   {
    "duration": 36,
    "start_time": "2022-06-26T15:13:20.721Z"
   },
   {
    "duration": 28,
    "start_time": "2022-06-26T15:13:20.759Z"
   },
   {
    "duration": 38,
    "start_time": "2022-06-26T15:13:20.790Z"
   },
   {
    "duration": 27396,
    "start_time": "2022-06-26T15:13:20.830Z"
   },
   {
    "duration": 215,
    "start_time": "2022-06-26T15:13:48.228Z"
   },
   {
    "duration": 451,
    "start_time": "2022-06-26T15:13:48.445Z"
   },
   {
    "duration": 109,
    "start_time": "2022-06-26T15:13:48.898Z"
   },
   {
    "duration": 377,
    "start_time": "2022-06-26T15:13:49.008Z"
   },
   {
    "duration": 331,
    "start_time": "2022-06-26T15:13:49.386Z"
   },
   {
    "duration": 311,
    "start_time": "2022-06-26T15:13:49.718Z"
   },
   {
    "duration": 293,
    "start_time": "2022-06-26T15:13:50.030Z"
   },
   {
    "duration": 313,
    "start_time": "2022-06-26T15:13:50.328Z"
   },
   {
    "duration": 4,
    "start_time": "2022-06-26T15:13:50.643Z"
   },
   {
    "duration": 1359,
    "start_time": "2022-06-26T15:13:50.649Z"
   },
   {
    "duration": 4,
    "start_time": "2022-06-26T15:13:52.009Z"
   },
   {
    "duration": 25,
    "start_time": "2022-06-26T15:13:52.014Z"
   },
   {
    "duration": 13159,
    "start_time": "2022-06-26T15:13:52.040Z"
   },
   {
    "duration": 4034,
    "start_time": "2022-06-26T15:14:05.201Z"
   },
   {
    "duration": 340362,
    "start_time": "2022-06-26T15:14:09.327Z"
   },
   {
    "duration": 81603,
    "start_time": "2022-06-26T15:19:49.691Z"
   },
   {
    "duration": 0,
    "start_time": "2022-06-26T15:21:11.296Z"
   },
   {
    "duration": 25,
    "start_time": "2022-06-26T15:46:57.764Z"
   },
   {
    "duration": 0,
    "start_time": "2022-06-26T15:47:40.176Z"
   },
   {
    "duration": 31161,
    "start_time": "2022-06-26T15:47:41.920Z"
   },
   {
    "duration": 74963,
    "start_time": "2022-06-26T15:48:15.065Z"
   },
   {
    "duration": 14,
    "start_time": "2022-06-26T15:49:49.363Z"
   },
   {
    "duration": 5,
    "start_time": "2022-06-26T15:50:58.653Z"
   },
   {
    "duration": 674,
    "start_time": "2022-06-26T15:51:14.807Z"
   },
   {
    "duration": 223,
    "start_time": "2022-06-26T15:51:15.483Z"
   },
   {
    "duration": 39,
    "start_time": "2022-06-26T15:51:15.708Z"
   },
   {
    "duration": 30,
    "start_time": "2022-06-26T15:51:15.749Z"
   },
   {
    "duration": 13,
    "start_time": "2022-06-26T15:51:15.781Z"
   },
   {
    "duration": 26994,
    "start_time": "2022-06-26T15:51:15.795Z"
   },
   {
    "duration": 211,
    "start_time": "2022-06-26T15:51:42.790Z"
   },
   {
    "duration": 460,
    "start_time": "2022-06-26T15:51:43.002Z"
   },
   {
    "duration": 115,
    "start_time": "2022-06-26T15:51:43.464Z"
   },
   {
    "duration": 290,
    "start_time": "2022-06-26T15:51:43.581Z"
   },
   {
    "duration": 411,
    "start_time": "2022-06-26T15:51:43.872Z"
   },
   {
    "duration": 305,
    "start_time": "2022-06-26T15:51:44.285Z"
   },
   {
    "duration": 284,
    "start_time": "2022-06-26T15:51:44.592Z"
   },
   {
    "duration": 307,
    "start_time": "2022-06-26T15:51:44.879Z"
   },
   {
    "duration": 5,
    "start_time": "2022-06-26T15:51:45.188Z"
   },
   {
    "duration": 1291,
    "start_time": "2022-06-26T15:51:45.194Z"
   },
   {
    "duration": 3,
    "start_time": "2022-06-26T15:51:46.487Z"
   },
   {
    "duration": 11,
    "start_time": "2022-06-26T15:51:46.492Z"
   },
   {
    "duration": 13123,
    "start_time": "2022-06-26T15:51:46.504Z"
   },
   {
    "duration": 4399,
    "start_time": "2022-06-26T15:51:59.629Z"
   },
   {
    "duration": 337259,
    "start_time": "2022-06-26T15:52:04.030Z"
   },
   {
    "duration": 164149,
    "start_time": "2022-06-26T15:57:41.291Z"
   },
   {
    "duration": 5,
    "start_time": "2022-06-26T16:00:25.442Z"
   },
   {
    "duration": 60456,
    "start_time": "2022-06-26T16:15:36.525Z"
   },
   {
    "duration": 50,
    "start_time": "2022-06-26T16:20:37.896Z"
   },
   {
    "duration": 4,
    "start_time": "2022-06-26T16:20:42.533Z"
   },
   {
    "duration": 637,
    "start_time": "2022-06-26T16:24:35.406Z"
   },
   {
    "duration": 237,
    "start_time": "2022-06-26T16:24:36.046Z"
   },
   {
    "duration": 30,
    "start_time": "2022-06-26T16:24:36.285Z"
   },
   {
    "duration": 26,
    "start_time": "2022-06-26T16:24:36.326Z"
   },
   {
    "duration": 12,
    "start_time": "2022-06-26T16:24:36.354Z"
   },
   {
    "duration": 26305,
    "start_time": "2022-06-26T16:24:36.367Z"
   },
   {
    "duration": 211,
    "start_time": "2022-06-26T16:25:02.674Z"
   },
   {
    "duration": 479,
    "start_time": "2022-06-26T16:25:02.886Z"
   },
   {
    "duration": 116,
    "start_time": "2022-06-26T16:25:03.367Z"
   },
   {
    "duration": 320,
    "start_time": "2022-06-26T16:25:03.485Z"
   },
   {
    "duration": 343,
    "start_time": "2022-06-26T16:25:03.808Z"
   },
   {
    "duration": 424,
    "start_time": "2022-06-26T16:25:04.153Z"
   },
   {
    "duration": 303,
    "start_time": "2022-06-26T16:25:04.579Z"
   },
   {
    "duration": 335,
    "start_time": "2022-06-26T16:25:04.884Z"
   },
   {
    "duration": 6,
    "start_time": "2022-06-26T16:25:05.221Z"
   },
   {
    "duration": 1458,
    "start_time": "2022-06-26T16:25:05.229Z"
   },
   {
    "duration": 4,
    "start_time": "2022-06-26T16:25:06.688Z"
   },
   {
    "duration": 13,
    "start_time": "2022-06-26T16:25:06.693Z"
   },
   {
    "duration": 13720,
    "start_time": "2022-06-26T16:25:06.708Z"
   },
   {
    "duration": 4298,
    "start_time": "2022-06-26T16:25:20.430Z"
   },
   {
    "duration": 143629,
    "start_time": "2022-06-26T16:25:24.730Z"
   },
   {
    "duration": 0,
    "start_time": "2022-06-26T16:27:48.362Z"
   },
   {
    "duration": 0,
    "start_time": "2022-06-26T16:27:48.363Z"
   },
   {
    "duration": 708,
    "start_time": "2022-06-26T16:27:56.105Z"
   },
   {
    "duration": 243,
    "start_time": "2022-06-26T16:27:56.815Z"
   },
   {
    "duration": 30,
    "start_time": "2022-06-26T16:27:57.059Z"
   },
   {
    "duration": 51,
    "start_time": "2022-06-26T16:27:57.091Z"
   },
   {
    "duration": 13,
    "start_time": "2022-06-26T16:27:57.144Z"
   },
   {
    "duration": 31023,
    "start_time": "2022-06-26T16:27:57.158Z"
   },
   {
    "duration": 225,
    "start_time": "2022-06-26T16:28:28.182Z"
   },
   {
    "duration": 513,
    "start_time": "2022-06-26T16:28:28.409Z"
   },
   {
    "duration": 126,
    "start_time": "2022-06-26T16:28:28.924Z"
   },
   {
    "duration": 314,
    "start_time": "2022-06-26T16:28:29.052Z"
   },
   {
    "duration": 358,
    "start_time": "2022-06-26T16:28:29.367Z"
   },
   {
    "duration": 337,
    "start_time": "2022-06-26T16:28:29.728Z"
   },
   {
    "duration": 409,
    "start_time": "2022-06-26T16:28:30.067Z"
   },
   {
    "duration": 356,
    "start_time": "2022-06-26T16:28:30.478Z"
   },
   {
    "duration": 7,
    "start_time": "2022-06-26T16:28:30.837Z"
   },
   {
    "duration": 1383,
    "start_time": "2022-06-26T16:28:30.846Z"
   },
   {
    "duration": 9,
    "start_time": "2022-06-26T16:28:32.231Z"
   },
   {
    "duration": 25,
    "start_time": "2022-06-26T16:28:32.242Z"
   },
   {
    "duration": 13855,
    "start_time": "2022-06-26T16:28:32.269Z"
   },
   {
    "duration": 4020,
    "start_time": "2022-06-26T16:28:46.127Z"
   },
   {
    "duration": 358524,
    "start_time": "2022-06-26T16:28:50.149Z"
   },
   {
    "duration": 177815,
    "start_time": "2022-06-26T16:34:48.674Z"
   },
   {
    "duration": 5,
    "start_time": "2022-06-26T16:37:46.491Z"
   },
   {
    "duration": 833,
    "start_time": "2022-06-26T16:37:46.497Z"
   },
   {
    "duration": 13,
    "start_time": "2022-06-26T16:37:47.332Z"
   },
   {
    "duration": 3150,
    "start_time": "2022-06-26T16:37:47.348Z"
   },
   {
    "duration": 5,
    "start_time": "2022-06-26T16:37:50.500Z"
   },
   {
    "duration": 9,
    "start_time": "2022-06-26T16:48:11.395Z"
   },
   {
    "duration": 176568,
    "start_time": "2022-06-26T16:48:18.207Z"
   },
   {
    "duration": 5,
    "start_time": "2022-06-26T16:51:52.839Z"
   },
   {
    "duration": 698,
    "start_time": "2022-06-26T16:53:06.575Z"
   },
   {
    "duration": 255,
    "start_time": "2022-06-26T16:53:07.275Z"
   },
   {
    "duration": 40,
    "start_time": "2022-06-26T16:53:07.534Z"
   },
   {
    "duration": 34,
    "start_time": "2022-06-26T16:53:07.576Z"
   },
   {
    "duration": 23,
    "start_time": "2022-06-26T16:53:07.627Z"
   },
   {
    "duration": 38743,
    "start_time": "2022-06-26T16:53:07.653Z"
   },
   {
    "duration": 265,
    "start_time": "2022-06-26T16:53:46.397Z"
   },
   {
    "duration": 532,
    "start_time": "2022-06-26T16:53:46.665Z"
   },
   {
    "duration": 132,
    "start_time": "2022-06-26T16:53:47.198Z"
   },
   {
    "duration": 342,
    "start_time": "2022-06-26T16:53:47.332Z"
   },
   {
    "duration": 374,
    "start_time": "2022-06-26T16:53:47.675Z"
   },
   {
    "duration": 343,
    "start_time": "2022-06-26T16:53:48.051Z"
   },
   {
    "duration": 313,
    "start_time": "2022-06-26T16:53:48.396Z"
   },
   {
    "duration": 470,
    "start_time": "2022-06-26T16:53:48.713Z"
   },
   {
    "duration": 4,
    "start_time": "2022-06-26T16:53:49.185Z"
   },
   {
    "duration": 1398,
    "start_time": "2022-06-26T16:53:49.190Z"
   },
   {
    "duration": 4,
    "start_time": "2022-06-26T16:53:50.589Z"
   },
   {
    "duration": 15,
    "start_time": "2022-06-26T16:53:50.595Z"
   },
   {
    "duration": 14317,
    "start_time": "2022-06-26T16:53:50.613Z"
   },
   {
    "duration": 4501,
    "start_time": "2022-06-26T16:54:04.932Z"
   },
   {
    "duration": 348639,
    "start_time": "2022-06-26T16:54:09.526Z"
   },
   {
    "duration": 170925,
    "start_time": "2022-06-26T16:59:58.167Z"
   },
   {
    "duration": 4,
    "start_time": "2022-06-26T17:02:49.094Z"
   },
   {
    "duration": 21,
    "start_time": "2022-06-26T17:04:52.182Z"
   },
   {
    "duration": 30,
    "start_time": "2022-06-26T17:05:50.194Z"
   },
   {
    "duration": 27,
    "start_time": "2022-06-26T17:06:42.390Z"
   },
   {
    "duration": 35,
    "start_time": "2022-06-26T17:06:47.122Z"
   },
   {
    "duration": 23,
    "start_time": "2022-06-26T17:06:58.512Z"
   },
   {
    "duration": 24,
    "start_time": "2022-06-26T17:07:22.893Z"
   },
   {
    "duration": 6228,
    "start_time": "2022-06-27T11:47:21.079Z"
   },
   {
    "duration": 246,
    "start_time": "2022-06-27T11:47:27.309Z"
   },
   {
    "duration": 34,
    "start_time": "2022-06-27T11:47:27.556Z"
   },
   {
    "duration": 34,
    "start_time": "2022-06-27T11:47:27.592Z"
   },
   {
    "duration": 22,
    "start_time": "2022-06-27T11:47:27.635Z"
   },
   {
    "duration": 33104,
    "start_time": "2022-06-27T11:47:27.658Z"
   },
   {
    "duration": 237,
    "start_time": "2022-06-27T11:48:00.764Z"
   },
   {
    "duration": 533,
    "start_time": "2022-06-27T11:48:01.003Z"
   },
   {
    "duration": 127,
    "start_time": "2022-06-27T11:48:01.543Z"
   },
   {
    "duration": 313,
    "start_time": "2022-06-27T11:48:01.671Z"
   },
   {
    "duration": 409,
    "start_time": "2022-06-27T11:48:01.986Z"
   },
   {
    "duration": 362,
    "start_time": "2022-06-27T11:48:02.396Z"
   },
   {
    "duration": 354,
    "start_time": "2022-06-27T11:48:02.762Z"
   },
   {
    "duration": 342,
    "start_time": "2022-06-27T11:48:03.119Z"
   },
   {
    "duration": 4,
    "start_time": "2022-06-27T11:48:03.462Z"
   },
   {
    "duration": 1504,
    "start_time": "2022-06-27T11:48:03.468Z"
   },
   {
    "duration": 4,
    "start_time": "2022-06-27T11:48:04.973Z"
   },
   {
    "duration": 22,
    "start_time": "2022-06-27T11:48:04.979Z"
   },
   {
    "duration": 13285,
    "start_time": "2022-06-27T11:48:05.004Z"
   },
   {
    "duration": 11640,
    "start_time": "2022-06-27T11:48:18.291Z"
   },
   {
    "duration": 337218,
    "start_time": "2022-06-27T11:48:29.936Z"
   },
   {
    "duration": 165793,
    "start_time": "2022-06-27T11:54:07.156Z"
   },
   {
    "duration": 5,
    "start_time": "2022-06-27T11:56:52.952Z"
   },
   {
    "duration": 2454,
    "start_time": "2022-06-27T11:57:58.580Z"
   },
   {
    "duration": 85,
    "start_time": "2022-06-27T11:58:01.041Z"
   },
   {
    "duration": 164480,
    "start_time": "2022-06-27T11:58:15.379Z"
   },
   {
    "duration": 5,
    "start_time": "2022-06-27T12:00:59.862Z"
   },
   {
    "duration": 127,
    "start_time": "2022-06-27T12:13:53.514Z"
   },
   {
    "duration": 12,
    "start_time": "2022-06-27T12:14:03.815Z"
   },
   {
    "duration": 13,
    "start_time": "2022-06-27T12:14:25.159Z"
   },
   {
    "duration": 14,
    "start_time": "2022-06-27T12:16:44.560Z"
   },
   {
    "duration": 41,
    "start_time": "2022-06-27T12:20:16.249Z"
   },
   {
    "duration": 28,
    "start_time": "2022-06-27T12:20:27.753Z"
   },
   {
    "duration": 73,
    "start_time": "2022-06-27T12:21:38.682Z"
   },
   {
    "duration": 28,
    "start_time": "2022-06-27T12:22:09.959Z"
   },
   {
    "duration": 9,
    "start_time": "2022-06-27T12:22:29.387Z"
   },
   {
    "duration": 11,
    "start_time": "2022-06-27T12:22:56.693Z"
   },
   {
    "duration": 11,
    "start_time": "2022-06-27T12:23:27.025Z"
   },
   {
    "duration": 20,
    "start_time": "2022-06-27T12:23:51.343Z"
   },
   {
    "duration": 23,
    "start_time": "2022-06-27T12:26:06.256Z"
   },
   {
    "duration": 25,
    "start_time": "2022-06-27T12:26:20.792Z"
   },
   {
    "duration": 13,
    "start_time": "2022-06-27T12:26:39.158Z"
   },
   {
    "duration": 19,
    "start_time": "2022-06-27T12:26:44.070Z"
   },
   {
    "duration": 18,
    "start_time": "2022-06-27T12:26:50.756Z"
   },
   {
    "duration": 30,
    "start_time": "2022-06-27T12:27:03.813Z"
   },
   {
    "duration": 27,
    "start_time": "2022-06-27T12:27:23.351Z"
   },
   {
    "duration": 781,
    "start_time": "2022-06-27T12:27:38.876Z"
   },
   {
    "duration": 250,
    "start_time": "2022-06-27T12:27:39.659Z"
   },
   {
    "duration": 49,
    "start_time": "2022-06-27T12:27:39.911Z"
   },
   {
    "duration": 35,
    "start_time": "2022-06-27T12:27:39.964Z"
   },
   {
    "duration": 40,
    "start_time": "2022-06-27T12:27:40.002Z"
   },
   {
    "duration": 54040,
    "start_time": "2022-06-27T12:27:40.044Z"
   },
   {
    "duration": 257,
    "start_time": "2022-06-27T12:28:34.086Z"
   },
   {
    "duration": 136,
    "start_time": "2022-06-27T12:28:34.347Z"
   },
   {
    "duration": 377,
    "start_time": "2022-06-27T12:28:34.485Z"
   },
   {
    "duration": 389,
    "start_time": "2022-06-27T12:28:34.863Z"
   },
   {
    "duration": 469,
    "start_time": "2022-06-27T12:28:35.254Z"
   },
   {
    "duration": 376,
    "start_time": "2022-06-27T12:28:35.735Z"
   },
   {
    "duration": 412,
    "start_time": "2022-06-27T12:28:36.113Z"
   },
   {
    "duration": 7,
    "start_time": "2022-06-27T12:28:36.528Z"
   },
   {
    "duration": 1878,
    "start_time": "2022-06-27T12:28:36.537Z"
   },
   {
    "duration": 11,
    "start_time": "2022-06-27T12:28:38.426Z"
   },
   {
    "duration": 54,
    "start_time": "2022-06-27T12:28:38.439Z"
   },
   {
    "duration": 12582,
    "start_time": "2022-06-27T12:28:38.495Z"
   },
   {
    "duration": 13800,
    "start_time": "2022-06-27T12:28:51.079Z"
   },
   {
    "duration": 324280,
    "start_time": "2022-06-27T12:29:04.929Z"
   },
   {
    "duration": 156551,
    "start_time": "2022-06-27T12:34:29.211Z"
   },
   {
    "duration": 6,
    "start_time": "2022-06-27T12:37:05.767Z"
   },
   {
    "duration": 159101,
    "start_time": "2022-06-27T12:48:01.798Z"
   },
   {
    "duration": 5,
    "start_time": "2022-06-27T12:50:40.902Z"
   },
   {
    "duration": 746,
    "start_time": "2022-06-27T12:56:09.622Z"
   },
   {
    "duration": 250,
    "start_time": "2022-06-27T12:56:10.370Z"
   },
   {
    "duration": 47,
    "start_time": "2022-06-27T12:56:10.626Z"
   },
   {
    "duration": 26,
    "start_time": "2022-06-27T12:56:10.676Z"
   },
   {
    "duration": 44,
    "start_time": "2022-06-27T12:56:10.703Z"
   },
   {
    "duration": 31695,
    "start_time": "2022-06-27T12:56:10.748Z"
   },
   {
    "duration": 240,
    "start_time": "2022-06-27T12:56:42.445Z"
   },
   {
    "duration": 139,
    "start_time": "2022-06-27T12:56:42.686Z"
   },
   {
    "duration": 365,
    "start_time": "2022-06-27T12:56:42.827Z"
   },
   {
    "duration": 374,
    "start_time": "2022-06-27T12:56:43.195Z"
   },
   {
    "duration": 340,
    "start_time": "2022-06-27T12:56:43.570Z"
   },
   {
    "duration": 437,
    "start_time": "2022-06-27T12:56:43.912Z"
   },
   {
    "duration": 342,
    "start_time": "2022-06-27T12:56:44.351Z"
   },
   {
    "duration": 6,
    "start_time": "2022-06-27T12:56:44.695Z"
   },
   {
    "duration": 1555,
    "start_time": "2022-06-27T12:56:44.702Z"
   },
   {
    "duration": 4,
    "start_time": "2022-06-27T12:56:46.264Z"
   },
   {
    "duration": 18,
    "start_time": "2022-06-27T12:56:46.270Z"
   },
   {
    "duration": 12297,
    "start_time": "2022-06-27T12:56:46.290Z"
   },
   {
    "duration": 13847,
    "start_time": "2022-06-27T12:56:58.588Z"
   },
   {
    "duration": 332940,
    "start_time": "2022-06-27T12:57:12.440Z"
   },
   {
    "duration": 158467,
    "start_time": "2022-06-27T13:02:45.381Z"
   },
   {
    "duration": 11,
    "start_time": "2022-06-27T13:05:23.854Z"
   },
   {
    "duration": 3398,
    "start_time": "2022-06-27T15:32:26.232Z"
   },
   {
    "duration": 240,
    "start_time": "2022-06-27T15:32:29.632Z"
   },
   {
    "duration": 31,
    "start_time": "2022-06-27T15:32:29.874Z"
   },
   {
    "duration": 40,
    "start_time": "2022-06-27T15:32:29.907Z"
   },
   {
    "duration": 14,
    "start_time": "2022-06-27T15:32:29.948Z"
   },
   {
    "duration": 29142,
    "start_time": "2022-06-27T15:32:29.964Z"
   },
   {
    "duration": 239,
    "start_time": "2022-06-27T15:32:59.108Z"
   },
   {
    "duration": 131,
    "start_time": "2022-06-27T15:32:59.348Z"
   },
   {
    "duration": 323,
    "start_time": "2022-06-27T15:32:59.481Z"
   },
   {
    "duration": 452,
    "start_time": "2022-06-27T15:32:59.807Z"
   },
   {
    "duration": 346,
    "start_time": "2022-06-27T15:33:00.260Z"
   },
   {
    "duration": 311,
    "start_time": "2022-06-27T15:33:00.608Z"
   },
   {
    "duration": 341,
    "start_time": "2022-06-27T15:33:00.920Z"
   },
   {
    "duration": 5,
    "start_time": "2022-06-27T15:33:01.264Z"
   },
   {
    "duration": 1542,
    "start_time": "2022-06-27T15:33:01.271Z"
   },
   {
    "duration": 14,
    "start_time": "2022-06-27T15:33:02.814Z"
   },
   {
    "duration": 27,
    "start_time": "2022-06-27T15:33:02.831Z"
   },
   {
    "duration": 14,
    "start_time": "2022-06-27T15:33:02.860Z"
   },
   {
    "duration": 12267,
    "start_time": "2022-06-27T15:35:26.680Z"
   },
   {
    "duration": 2523,
    "start_time": "2022-06-27T15:37:50.282Z"
   },
   {
    "duration": 2636,
    "start_time": "2022-06-27T15:38:54.548Z"
   },
   {
    "duration": 2526,
    "start_time": "2022-06-27T15:39:50.202Z"
   },
   {
    "duration": 2552,
    "start_time": "2022-06-27T15:40:08.642Z"
   },
   {
    "duration": 5,
    "start_time": "2022-06-27T15:42:31.852Z"
   },
   {
    "duration": 11852,
    "start_time": "2022-06-27T15:42:37.388Z"
   },
   {
    "duration": 3,
    "start_time": "2022-06-27T15:43:04.701Z"
   },
   {
    "duration": 2618,
    "start_time": "2022-06-27T15:43:12.772Z"
   },
   {
    "duration": 4,
    "start_time": "2022-06-27T16:09:49.985Z"
   },
   {
    "duration": 114,
    "start_time": "2022-06-27T16:10:16.842Z"
   },
   {
    "duration": 15,
    "start_time": "2022-06-27T16:10:52.458Z"
   },
   {
    "duration": 1333,
    "start_time": "2022-06-27T16:11:48.988Z"
   },
   {
    "duration": 1430,
    "start_time": "2022-06-27T16:12:45.531Z"
   },
   {
    "duration": 1448,
    "start_time": "2022-06-27T16:13:05.571Z"
   },
   {
    "duration": 4,
    "start_time": "2022-06-27T16:15:50.284Z"
   },
   {
    "duration": 1353,
    "start_time": "2022-06-27T16:15:55.139Z"
   },
   {
    "duration": 2389,
    "start_time": "2022-06-27T16:16:36.115Z"
   },
   {
    "duration": 231,
    "start_time": "2022-06-27T16:16:38.506Z"
   },
   {
    "duration": 31,
    "start_time": "2022-06-27T16:16:38.739Z"
   },
   {
    "duration": 24,
    "start_time": "2022-06-27T16:16:38.772Z"
   },
   {
    "duration": 30,
    "start_time": "2022-06-27T16:16:38.798Z"
   },
   {
    "duration": 30868,
    "start_time": "2022-06-27T16:16:38.830Z"
   },
   {
    "duration": 221,
    "start_time": "2022-06-27T16:17:09.700Z"
   },
   {
    "duration": 144,
    "start_time": "2022-06-27T16:17:09.928Z"
   },
   {
    "duration": 307,
    "start_time": "2022-06-27T16:17:10.074Z"
   },
   {
    "duration": 417,
    "start_time": "2022-06-27T16:17:10.383Z"
   },
   {
    "duration": 320,
    "start_time": "2022-06-27T16:17:10.801Z"
   },
   {
    "duration": 307,
    "start_time": "2022-06-27T16:17:11.123Z"
   },
   {
    "duration": 336,
    "start_time": "2022-06-27T16:17:11.431Z"
   },
   {
    "duration": 5,
    "start_time": "2022-06-27T16:17:11.768Z"
   },
   {
    "duration": 1338,
    "start_time": "2022-06-27T16:17:11.774Z"
   },
   {
    "duration": 4,
    "start_time": "2022-06-27T16:17:13.114Z"
   },
   {
    "duration": 18,
    "start_time": "2022-06-27T16:17:13.127Z"
   },
   {
    "duration": 12120,
    "start_time": "2022-06-27T16:17:13.146Z"
   },
   {
    "duration": 1590,
    "start_time": "2022-06-28T10:47:50.401Z"
   },
   {
    "duration": 3340,
    "start_time": "2022-06-28T10:50:46.323Z"
   },
   {
    "duration": 250,
    "start_time": "2022-06-28T10:50:49.665Z"
   },
   {
    "duration": 36,
    "start_time": "2022-06-28T10:50:51.275Z"
   },
   {
    "duration": 15,
    "start_time": "2022-06-28T10:52:20.305Z"
   },
   {
    "duration": 1306,
    "start_time": "2022-06-28T10:52:56.067Z"
   },
   {
    "duration": 1253,
    "start_time": "2022-06-28T10:53:01.850Z"
   },
   {
    "duration": 4,
    "start_time": "2022-06-28T10:53:39.470Z"
   },
   {
    "duration": 693,
    "start_time": "2022-06-28T10:53:39.476Z"
   },
   {
    "duration": 213,
    "start_time": "2022-06-28T10:53:40.171Z"
   },
   {
    "duration": 34,
    "start_time": "2022-06-28T10:53:42.469Z"
   },
   {
    "duration": 1262,
    "start_time": "2022-06-28T10:54:07.418Z"
   },
   {
    "duration": 4,
    "start_time": "2022-06-28T10:54:14.187Z"
   },
   {
    "duration": 727,
    "start_time": "2022-06-28T10:54:14.193Z"
   },
   {
    "duration": 233,
    "start_time": "2022-06-28T10:54:14.921Z"
   },
   {
    "duration": 50,
    "start_time": "2022-06-28T10:54:16.744Z"
   },
   {
    "duration": 5,
    "start_time": "2022-06-28T10:58:30.952Z"
   },
   {
    "duration": 737,
    "start_time": "2022-06-28T10:58:30.959Z"
   },
   {
    "duration": 232,
    "start_time": "2022-06-28T10:58:31.698Z"
   },
   {
    "duration": 69,
    "start_time": "2022-06-28T10:58:31.932Z"
   },
   {
    "duration": 32,
    "start_time": "2022-06-28T10:58:32.004Z"
   },
   {
    "duration": 26,
    "start_time": "2022-06-28T10:58:32.037Z"
   },
   {
    "duration": 40102,
    "start_time": "2022-06-28T10:58:33.292Z"
   },
   {
    "duration": 4,
    "start_time": "2022-06-28T11:35:18.806Z"
   },
   {
    "duration": 678,
    "start_time": "2022-06-28T11:35:18.813Z"
   },
   {
    "duration": 229,
    "start_time": "2022-06-28T11:35:19.492Z"
   },
   {
    "duration": 67,
    "start_time": "2022-06-28T11:35:19.724Z"
   },
   {
    "duration": 28,
    "start_time": "2022-06-28T11:35:19.793Z"
   },
   {
    "duration": 12,
    "start_time": "2022-06-28T11:35:19.823Z"
   },
   {
    "duration": 46705,
    "start_time": "2022-06-28T11:35:19.853Z"
   },
   {
    "duration": 224,
    "start_time": "2022-06-28T11:36:06.560Z"
   },
   {
    "duration": 144,
    "start_time": "2022-06-28T11:36:06.786Z"
   },
   {
    "duration": 343,
    "start_time": "2022-06-28T11:36:06.933Z"
   },
   {
    "duration": 424,
    "start_time": "2022-06-28T11:36:07.277Z"
   },
   {
    "duration": 325,
    "start_time": "2022-06-28T11:36:07.702Z"
   },
   {
    "duration": 389,
    "start_time": "2022-06-28T11:36:08.029Z"
   },
   {
    "duration": 377,
    "start_time": "2022-06-28T11:36:08.420Z"
   },
   {
    "duration": 6,
    "start_time": "2022-06-28T11:36:08.799Z"
   },
   {
    "duration": 1377,
    "start_time": "2022-06-28T11:36:08.807Z"
   },
   {
    "duration": 4,
    "start_time": "2022-06-28T11:36:10.186Z"
   },
   {
    "duration": 24,
    "start_time": "2022-06-28T11:36:10.192Z"
   },
   {
    "duration": 12206,
    "start_time": "2022-06-28T11:36:10.219Z"
   },
   {
    "duration": 4535,
    "start_time": "2022-06-28T11:36:22.427Z"
   },
   {
    "duration": 312107,
    "start_time": "2022-06-28T11:36:26.964Z"
   },
   {
    "duration": 73416,
    "start_time": "2022-06-28T11:41:39.072Z"
   },
   {
    "duration": 0,
    "start_time": "2022-06-28T11:42:52.490Z"
   },
   {
    "duration": 25,
    "start_time": "2022-06-28T12:18:22.185Z"
   },
   {
    "duration": 84,
    "start_time": "2022-06-28T12:18:37.385Z"
   },
   {
    "duration": 16,
    "start_time": "2022-06-28T12:18:40.227Z"
   },
   {
    "duration": 15,
    "start_time": "2022-06-28T12:21:15.669Z"
   },
   {
    "duration": 421,
    "start_time": "2022-06-28T12:21:27.512Z"
   },
   {
    "duration": 429,
    "start_time": "2022-06-28T12:21:45.343Z"
   },
   {
    "duration": 4,
    "start_time": "2022-06-28T12:21:55.844Z"
   },
   {
    "duration": 715,
    "start_time": "2022-06-28T12:21:55.850Z"
   },
   {
    "duration": 235,
    "start_time": "2022-06-28T12:21:56.568Z"
   },
   {
    "duration": 73,
    "start_time": "2022-06-28T12:21:56.804Z"
   },
   {
    "duration": 34,
    "start_time": "2022-06-28T12:21:56.880Z"
   },
   {
    "duration": 12,
    "start_time": "2022-06-28T12:21:56.915Z"
   },
   {
    "duration": 57082,
    "start_time": "2022-06-28T12:21:56.929Z"
   },
   {
    "duration": 12,
    "start_time": "2022-06-28T12:23:32.008Z"
   },
   {
    "duration": 5,
    "start_time": "2022-06-28T12:23:38.884Z"
   },
   {
    "duration": 737,
    "start_time": "2022-06-28T12:23:38.891Z"
   },
   {
    "duration": 249,
    "start_time": "2022-06-28T12:23:39.631Z"
   },
   {
    "duration": 82,
    "start_time": "2022-06-28T12:23:39.882Z"
   },
   {
    "duration": 42,
    "start_time": "2022-06-28T12:23:39.966Z"
   },
   {
    "duration": 13,
    "start_time": "2022-06-28T12:23:40.010Z"
   },
   {
    "duration": 26,
    "start_time": "2022-06-28T12:23:42.192Z"
   },
   {
    "duration": 10,
    "start_time": "2022-06-28T12:23:54.276Z"
   },
   {
    "duration": 95,
    "start_time": "2022-06-28T12:23:57.484Z"
   },
   {
    "duration": 7,
    "start_time": "2022-06-28T12:23:59.868Z"
   },
   {
    "duration": 17,
    "start_time": "2022-06-28T12:24:09.426Z"
   },
   {
    "duration": 12,
    "start_time": "2022-06-28T12:24:12.212Z"
   },
   {
    "duration": 10,
    "start_time": "2022-06-28T12:25:11.316Z"
   },
   {
    "duration": 38,
    "start_time": "2022-06-28T12:25:54.178Z"
   },
   {
    "duration": 35,
    "start_time": "2022-06-28T12:26:12.073Z"
   },
   {
    "duration": 4,
    "start_time": "2022-06-28T12:26:35.291Z"
   },
   {
    "duration": 707,
    "start_time": "2022-06-28T12:26:35.297Z"
   },
   {
    "duration": 234,
    "start_time": "2022-06-28T12:26:36.006Z"
   },
   {
    "duration": 78,
    "start_time": "2022-06-28T12:26:36.242Z"
   },
   {
    "duration": 49,
    "start_time": "2022-06-28T12:26:36.323Z"
   },
   {
    "duration": 15,
    "start_time": "2022-06-28T12:26:36.374Z"
   },
   {
    "duration": 63746,
    "start_time": "2022-06-28T12:26:36.391Z"
   },
   {
    "duration": 505,
    "start_time": "2022-06-28T12:32:32.241Z"
   },
   {
    "duration": 162,
    "start_time": "2022-06-28T12:46:31.932Z"
   },
   {
    "duration": 82,
    "start_time": "2022-06-28T12:52:21.872Z"
   },
   {
    "duration": 6,
    "start_time": "2022-06-28T12:57:21.933Z"
   },
   {
    "duration": 1455,
    "start_time": "2022-06-28T12:58:41.420Z"
   },
   {
    "duration": 223,
    "start_time": "2022-06-28T14:12:43.144Z"
   },
   {
    "duration": 201,
    "start_time": "2022-06-28T14:13:20.491Z"
   },
   {
    "duration": 177,
    "start_time": "2022-06-28T14:22:47.828Z"
   },
   {
    "duration": 280,
    "start_time": "2022-06-28T14:23:24.070Z"
   },
   {
    "duration": 285,
    "start_time": "2022-06-28T14:23:52.037Z"
   },
   {
    "duration": 218,
    "start_time": "2022-06-28T14:24:19.512Z"
   },
   {
    "duration": 270,
    "start_time": "2022-06-28T14:24:37.651Z"
   },
   {
    "duration": 360,
    "start_time": "2022-06-28T14:26:08.886Z"
   },
   {
    "duration": 199,
    "start_time": "2022-06-28T14:26:19.823Z"
   },
   {
    "duration": 250,
    "start_time": "2022-06-28T14:26:27.068Z"
   },
   {
    "duration": 300,
    "start_time": "2022-06-28T14:26:44.503Z"
   },
   {
    "duration": 1702,
    "start_time": "2022-06-29T12:06:23.072Z"
   },
   {
    "duration": 3550,
    "start_time": "2022-06-29T12:06:24.776Z"
   },
   {
    "duration": 243,
    "start_time": "2022-06-29T12:06:28.328Z"
   },
   {
    "duration": 85,
    "start_time": "2022-06-29T12:06:28.573Z"
   },
   {
    "duration": 28,
    "start_time": "2022-06-29T12:06:28.661Z"
   },
   {
    "duration": 13,
    "start_time": "2022-06-29T12:06:28.691Z"
   },
   {
    "duration": 47082,
    "start_time": "2022-06-29T12:06:28.706Z"
   },
   {
    "duration": 241,
    "start_time": "2022-06-29T12:07:15.790Z"
   },
   {
    "duration": 141,
    "start_time": "2022-06-29T12:07:16.033Z"
   },
   {
    "duration": 142,
    "start_time": "2022-06-29T12:07:16.176Z"
   },
   {
    "duration": 324,
    "start_time": "2022-06-29T12:07:16.320Z"
   },
   {
    "duration": 435,
    "start_time": "2022-06-29T12:07:16.646Z"
   },
   {
    "duration": 367,
    "start_time": "2022-06-29T12:07:17.083Z"
   },
   {
    "duration": 312,
    "start_time": "2022-06-29T12:07:17.454Z"
   },
   {
    "duration": 353,
    "start_time": "2022-06-29T12:07:17.768Z"
   },
   {
    "duration": 5,
    "start_time": "2022-06-29T12:07:18.122Z"
   },
   {
    "duration": 1589,
    "start_time": "2022-06-29T12:07:18.128Z"
   },
   {
    "duration": 247,
    "start_time": "2022-06-29T12:21:58.499Z"
   },
   {
    "duration": 362,
    "start_time": "2022-06-29T12:22:20.785Z"
   },
   {
    "duration": 258,
    "start_time": "2022-06-29T12:22:24.686Z"
   },
   {
    "duration": 344,
    "start_time": "2022-06-29T12:22:41.879Z"
   },
   {
    "duration": 268,
    "start_time": "2022-06-29T12:24:04.245Z"
   },
   {
    "duration": 244,
    "start_time": "2022-06-29T12:24:10.131Z"
   },
   {
    "duration": 312,
    "start_time": "2022-06-29T12:26:00.332Z"
   },
   {
    "duration": 351,
    "start_time": "2022-06-29T12:26:32.941Z"
   },
   {
    "duration": 485,
    "start_time": "2022-06-29T12:31:21.674Z"
   },
   {
    "duration": 411,
    "start_time": "2022-06-29T12:32:06.733Z"
   },
   {
    "duration": 343,
    "start_time": "2022-06-29T12:32:21.693Z"
   },
   {
    "duration": 4,
    "start_time": "2022-06-29T12:32:42.508Z"
   },
   {
    "duration": 793,
    "start_time": "2022-06-29T12:32:42.514Z"
   },
   {
    "duration": 236,
    "start_time": "2022-06-29T12:32:43.309Z"
   },
   {
    "duration": 72,
    "start_time": "2022-06-29T12:32:43.547Z"
   },
   {
    "duration": 45,
    "start_time": "2022-06-29T12:32:43.621Z"
   },
   {
    "duration": 16,
    "start_time": "2022-06-29T12:32:43.667Z"
   },
   {
    "duration": 63906,
    "start_time": "2022-06-29T12:32:43.684Z"
   },
   {
    "duration": 279,
    "start_time": "2022-06-29T12:33:47.593Z"
   },
   {
    "duration": 137,
    "start_time": "2022-06-29T12:33:47.875Z"
   },
   {
    "duration": 168,
    "start_time": "2022-06-29T12:33:48.015Z"
   },
   {
    "duration": 609,
    "start_time": "2022-06-29T12:33:48.185Z"
   },
   {
    "duration": 388,
    "start_time": "2022-06-29T12:33:48.796Z"
   },
   {
    "duration": 415,
    "start_time": "2022-06-29T12:33:49.186Z"
   },
   {
    "duration": 349,
    "start_time": "2022-06-29T12:33:49.603Z"
   },
   {
    "duration": 344,
    "start_time": "2022-06-29T12:33:49.953Z"
   },
   {
    "duration": 5,
    "start_time": "2022-06-29T12:33:50.298Z"
   },
   {
    "duration": 1706,
    "start_time": "2022-06-29T12:33:50.304Z"
   },
   {
    "duration": 347,
    "start_time": "2022-06-29T12:33:52.012Z"
   },
   {
    "duration": 4,
    "start_time": "2022-06-29T12:45:17.891Z"
   },
   {
    "duration": 886,
    "start_time": "2022-06-29T12:45:17.897Z"
   },
   {
    "duration": 241,
    "start_time": "2022-06-29T12:45:18.785Z"
   },
   {
    "duration": 70,
    "start_time": "2022-06-29T12:45:19.028Z"
   },
   {
    "duration": 30,
    "start_time": "2022-06-29T12:45:19.100Z"
   },
   {
    "duration": 35,
    "start_time": "2022-06-29T12:45:19.131Z"
   },
   {
    "duration": 64166,
    "start_time": "2022-06-29T12:45:19.169Z"
   },
   {
    "duration": 281,
    "start_time": "2022-06-29T12:46:23.338Z"
   },
   {
    "duration": 156,
    "start_time": "2022-06-29T12:46:23.622Z"
   },
   {
    "duration": 261,
    "start_time": "2022-06-29T12:46:23.783Z"
   },
   {
    "duration": 374,
    "start_time": "2022-06-29T12:46:24.046Z"
   },
   {
    "duration": 424,
    "start_time": "2022-06-29T12:46:24.422Z"
   },
   {
    "duration": 423,
    "start_time": "2022-06-29T12:46:24.854Z"
   },
   {
    "duration": 337,
    "start_time": "2022-06-29T12:46:25.281Z"
   },
   {
    "duration": 376,
    "start_time": "2022-06-29T12:46:25.620Z"
   },
   {
    "duration": 7,
    "start_time": "2022-06-29T12:46:25.999Z"
   },
   {
    "duration": 1874,
    "start_time": "2022-06-29T12:46:26.008Z"
   },
   {
    "duration": 365,
    "start_time": "2022-06-29T12:46:27.885Z"
   },
   {
    "duration": 5,
    "start_time": "2022-06-29T12:46:28.252Z"
   },
   {
    "duration": 74,
    "start_time": "2022-06-29T12:46:28.259Z"
   },
   {
    "duration": 14101,
    "start_time": "2022-06-29T12:46:28.335Z"
   },
   {
    "duration": 15918,
    "start_time": "2022-06-29T12:46:42.438Z"
   },
   {
    "duration": 350141,
    "start_time": "2022-06-29T12:46:58.358Z"
   },
   {
    "duration": 88327,
    "start_time": "2022-06-29T12:52:48.502Z"
   },
   {
    "duration": 0,
    "start_time": "2022-06-29T12:54:16.831Z"
   },
   {
    "duration": 5,
    "start_time": "2022-06-29T12:54:39.389Z"
   },
   {
    "duration": 779,
    "start_time": "2022-06-29T12:54:39.396Z"
   },
   {
    "duration": 243,
    "start_time": "2022-06-29T12:54:40.176Z"
   },
   {
    "duration": 78,
    "start_time": "2022-06-29T12:54:40.420Z"
   },
   {
    "duration": 30,
    "start_time": "2022-06-29T12:54:40.500Z"
   },
   {
    "duration": 39,
    "start_time": "2022-06-29T12:54:40.532Z"
   },
   {
    "duration": 64371,
    "start_time": "2022-06-29T12:54:40.578Z"
   },
   {
    "duration": 275,
    "start_time": "2022-06-29T12:55:44.951Z"
   },
   {
    "duration": 158,
    "start_time": "2022-06-29T12:55:45.228Z"
   },
   {
    "duration": 153,
    "start_time": "2022-06-29T12:55:45.389Z"
   },
   {
    "duration": 352,
    "start_time": "2022-06-29T12:55:45.544Z"
   },
   {
    "duration": 387,
    "start_time": "2022-06-29T12:55:45.898Z"
   },
   {
    "duration": 420,
    "start_time": "2022-06-29T12:55:46.287Z"
   },
   {
    "duration": 340,
    "start_time": "2022-06-29T12:55:46.710Z"
   },
   {
    "duration": 523,
    "start_time": "2022-06-29T12:55:47.056Z"
   },
   {
    "duration": 6,
    "start_time": "2022-06-29T12:55:47.586Z"
   },
   {
    "duration": 1521,
    "start_time": "2022-06-29T12:55:47.594Z"
   },
   {
    "duration": 466,
    "start_time": "2022-06-29T12:55:49.116Z"
   },
   {
    "duration": 5,
    "start_time": "2022-06-29T12:55:49.584Z"
   },
   {
    "duration": 20,
    "start_time": "2022-06-29T12:55:49.590Z"
   },
   {
    "duration": 13654,
    "start_time": "2022-06-29T12:55:49.612Z"
   },
   {
    "duration": 13883,
    "start_time": "2022-06-29T12:56:03.272Z"
   },
   {
    "duration": 340886,
    "start_time": "2022-06-29T12:56:17.159Z"
   },
   {
    "duration": 195928,
    "start_time": "2022-06-29T13:01:58.047Z"
   },
   {
    "duration": 20,
    "start_time": "2022-06-29T13:05:13.984Z"
   },
   {
    "duration": 11,
    "start_time": "2022-06-29T13:11:44.801Z"
   },
   {
    "duration": 25,
    "start_time": "2022-06-29T13:11:54.064Z"
   },
   {
    "duration": 4,
    "start_time": "2022-06-29T13:12:03.581Z"
   },
   {
    "duration": 781,
    "start_time": "2022-06-29T13:12:03.587Z"
   },
   {
    "duration": 241,
    "start_time": "2022-06-29T13:12:04.369Z"
   },
   {
    "duration": 81,
    "start_time": "2022-06-29T13:12:04.612Z"
   },
   {
    "duration": 41,
    "start_time": "2022-06-29T13:12:04.695Z"
   },
   {
    "duration": 26,
    "start_time": "2022-06-29T13:12:04.737Z"
   },
   {
    "duration": 51942,
    "start_time": "2022-06-29T13:12:04.766Z"
   },
   {
    "duration": 292,
    "start_time": "2022-06-29T13:12:56.710Z"
   },
   {
    "duration": 145,
    "start_time": "2022-06-29T13:12:57.004Z"
   },
   {
    "duration": 162,
    "start_time": "2022-06-29T13:12:57.152Z"
   },
   {
    "duration": 321,
    "start_time": "2022-06-29T13:12:57.316Z"
   },
   {
    "duration": 359,
    "start_time": "2022-06-29T13:12:57.638Z"
   },
   {
    "duration": 403,
    "start_time": "2022-06-29T13:12:57.999Z"
   },
   {
    "duration": 512,
    "start_time": "2022-06-29T13:12:58.405Z"
   },
   {
    "duration": 359,
    "start_time": "2022-06-29T13:12:58.919Z"
   },
   {
    "duration": 9,
    "start_time": "2022-06-29T13:12:59.280Z"
   },
   {
    "duration": 1450,
    "start_time": "2022-06-29T13:12:59.291Z"
   },
   {
    "duration": 604,
    "start_time": "2022-06-29T13:13:00.742Z"
   },
   {
    "duration": 14,
    "start_time": "2022-06-29T13:13:01.348Z"
   },
   {
    "duration": 15,
    "start_time": "2022-06-29T13:13:07.032Z"
   },
   {
    "duration": 16,
    "start_time": "2022-06-29T13:13:22.577Z"
   },
   {
    "duration": 13,
    "start_time": "2022-06-29T13:14:00.592Z"
   },
   {
    "duration": 3,
    "start_time": "2022-06-29T13:15:31.989Z"
   },
   {
    "duration": 735,
    "start_time": "2022-06-29T13:15:31.994Z"
   },
   {
    "duration": 283,
    "start_time": "2022-06-29T13:15:32.731Z"
   },
   {
    "duration": 87,
    "start_time": "2022-06-29T13:15:33.016Z"
   },
   {
    "duration": 31,
    "start_time": "2022-06-29T13:15:33.106Z"
   },
   {
    "duration": 17,
    "start_time": "2022-06-29T13:15:33.138Z"
   },
   {
    "duration": 4,
    "start_time": "2022-06-29T13:16:07.697Z"
   },
   {
    "duration": 784,
    "start_time": "2022-06-29T13:16:07.703Z"
   },
   {
    "duration": 280,
    "start_time": "2022-06-29T13:16:08.490Z"
   },
   {
    "duration": 58,
    "start_time": "2022-06-29T13:16:08.783Z"
   },
   {
    "duration": 6,
    "start_time": "2022-06-29T13:16:08.843Z"
   },
   {
    "duration": 15,
    "start_time": "2022-06-29T13:16:08.850Z"
   },
   {
    "duration": 27,
    "start_time": "2022-06-29T13:16:11.251Z"
   },
   {
    "duration": 13,
    "start_time": "2022-06-29T13:16:19.816Z"
   },
   {
    "duration": 975,
    "start_time": "2022-06-29T13:18:05.753Z"
   },
   {
    "duration": 890,
    "start_time": "2022-06-29T13:18:21.845Z"
   },
   {
    "duration": 4,
    "start_time": "2022-06-29T13:18:31.746Z"
   },
   {
    "duration": 775,
    "start_time": "2022-06-29T13:18:31.752Z"
   },
   {
    "duration": 239,
    "start_time": "2022-06-29T13:18:32.528Z"
   },
   {
    "duration": 64,
    "start_time": "2022-06-29T13:18:32.769Z"
   },
   {
    "duration": 5,
    "start_time": "2022-06-29T13:18:32.835Z"
   },
   {
    "duration": 1014,
    "start_time": "2022-06-29T13:18:34.489Z"
   },
   {
    "duration": 903,
    "start_time": "2022-06-29T13:19:50.699Z"
   },
   {
    "duration": 4,
    "start_time": "2022-06-29T13:20:02.381Z"
   },
   {
    "duration": 781,
    "start_time": "2022-06-29T13:20:02.387Z"
   },
   {
    "duration": 285,
    "start_time": "2022-06-29T13:20:03.169Z"
   },
   {
    "duration": 124,
    "start_time": "2022-06-29T13:20:03.456Z"
   },
   {
    "duration": 11,
    "start_time": "2022-06-29T13:20:03.582Z"
   },
   {
    "duration": 5592,
    "start_time": "2022-06-29T13:20:07.943Z"
   },
   {
    "duration": 12,
    "start_time": "2022-06-29T13:24:36.099Z"
   },
   {
    "duration": 8,
    "start_time": "2022-06-29T13:24:48.547Z"
   },
   {
    "duration": 774,
    "start_time": "2022-06-29T13:24:48.560Z"
   },
   {
    "duration": 237,
    "start_time": "2022-06-29T13:24:49.336Z"
   },
   {
    "duration": 61,
    "start_time": "2022-06-29T13:24:49.578Z"
   },
   {
    "duration": 16,
    "start_time": "2022-06-29T13:24:49.640Z"
   },
   {
    "duration": 924,
    "start_time": "2022-06-29T13:24:51.608Z"
   },
   {
    "duration": 4,
    "start_time": "2022-06-29T13:25:02.644Z"
   },
   {
    "duration": 754,
    "start_time": "2022-06-29T13:25:02.650Z"
   },
   {
    "duration": 273,
    "start_time": "2022-06-29T13:25:03.406Z"
   },
   {
    "duration": 76,
    "start_time": "2022-06-29T13:25:03.688Z"
   },
   {
    "duration": 13,
    "start_time": "2022-06-29T13:25:03.769Z"
   },
   {
    "duration": 862,
    "start_time": "2022-06-29T13:25:05.596Z"
   },
   {
    "duration": 81,
    "start_time": "2022-06-29T13:26:26.134Z"
   },
   {
    "duration": 4,
    "start_time": "2022-06-29T13:26:38.981Z"
   },
   {
    "duration": 754,
    "start_time": "2022-06-29T13:26:38.987Z"
   },
   {
    "duration": 249,
    "start_time": "2022-06-29T13:26:39.743Z"
   },
   {
    "duration": 86,
    "start_time": "2022-06-29T13:26:39.994Z"
   },
   {
    "duration": 6,
    "start_time": "2022-06-29T13:26:40.087Z"
   },
   {
    "duration": 76,
    "start_time": "2022-06-29T13:26:40.095Z"
   },
   {
    "duration": 14,
    "start_time": "2022-06-29T13:26:41.797Z"
   },
   {
    "duration": 30,
    "start_time": "2022-06-29T13:27:02.644Z"
   },
   {
    "duration": 4,
    "start_time": "2022-06-29T13:27:11.194Z"
   },
   {
    "duration": 792,
    "start_time": "2022-06-29T13:27:11.200Z"
   },
   {
    "duration": 249,
    "start_time": "2022-06-29T13:27:11.994Z"
   },
   {
    "duration": 72,
    "start_time": "2022-06-29T13:27:12.244Z"
   },
   {
    "duration": 6,
    "start_time": "2022-06-29T13:27:12.317Z"
   },
   {
    "duration": 63,
    "start_time": "2022-06-29T13:27:13.986Z"
   },
   {
    "duration": 2259,
    "start_time": "2022-06-29T13:30:06.546Z"
   },
   {
    "duration": 9,
    "start_time": "2022-06-29T13:30:34.860Z"
   },
   {
    "duration": 750,
    "start_time": "2022-06-29T13:30:34.871Z"
   },
   {
    "duration": 261,
    "start_time": "2022-06-29T13:30:35.622Z"
   },
   {
    "duration": 66,
    "start_time": "2022-06-29T13:30:35.888Z"
   },
   {
    "duration": 8,
    "start_time": "2022-06-29T13:30:35.959Z"
   },
   {
    "duration": 45,
    "start_time": "2022-06-29T13:30:35.969Z"
   },
   {
    "duration": 40589,
    "start_time": "2022-06-29T13:30:36.016Z"
   },
   {
    "duration": 254,
    "start_time": "2022-06-29T13:31:16.606Z"
   },
   {
    "duration": 139,
    "start_time": "2022-06-29T13:31:16.866Z"
   },
   {
    "duration": 165,
    "start_time": "2022-06-29T13:31:17.006Z"
   },
   {
    "duration": 330,
    "start_time": "2022-06-29T13:31:17.175Z"
   },
   {
    "duration": 370,
    "start_time": "2022-06-29T13:31:17.506Z"
   },
   {
    "duration": 508,
    "start_time": "2022-06-29T13:31:17.884Z"
   },
   {
    "duration": 414,
    "start_time": "2022-06-29T13:31:18.399Z"
   },
   {
    "duration": 378,
    "start_time": "2022-06-29T13:31:18.815Z"
   },
   {
    "duration": 5,
    "start_time": "2022-06-29T13:31:19.194Z"
   },
   {
    "duration": 1502,
    "start_time": "2022-06-29T13:31:19.201Z"
   },
   {
    "duration": 315,
    "start_time": "2022-06-29T13:31:20.705Z"
   },
   {
    "duration": 4,
    "start_time": "2022-06-29T13:31:21.022Z"
   },
   {
    "duration": 130,
    "start_time": "2022-06-29T13:31:21.027Z"
   },
   {
    "duration": 5,
    "start_time": "2022-06-29T13:32:11.303Z"
   },
   {
    "duration": 897,
    "start_time": "2022-06-29T13:32:11.310Z"
   },
   {
    "duration": 257,
    "start_time": "2022-06-29T13:32:12.208Z"
   },
   {
    "duration": 67,
    "start_time": "2022-06-29T13:32:12.467Z"
   },
   {
    "duration": 6,
    "start_time": "2022-06-29T13:32:12.535Z"
   },
   {
    "duration": 27,
    "start_time": "2022-06-29T13:32:12.543Z"
   },
   {
    "duration": 49989,
    "start_time": "2022-06-29T13:32:12.572Z"
   },
   {
    "duration": 245,
    "start_time": "2022-06-29T13:33:02.563Z"
   },
   {
    "duration": 129,
    "start_time": "2022-06-29T13:33:02.810Z"
   },
   {
    "duration": 155,
    "start_time": "2022-06-29T13:33:02.942Z"
   },
   {
    "duration": 337,
    "start_time": "2022-06-29T13:33:03.099Z"
   },
   {
    "duration": 575,
    "start_time": "2022-06-29T13:33:03.438Z"
   },
   {
    "duration": 362,
    "start_time": "2022-06-29T13:33:04.021Z"
   },
   {
    "duration": 319,
    "start_time": "2022-06-29T13:33:04.385Z"
   },
   {
    "duration": 386,
    "start_time": "2022-06-29T13:33:04.706Z"
   },
   {
    "duration": 6,
    "start_time": "2022-06-29T13:33:05.093Z"
   },
   {
    "duration": 1576,
    "start_time": "2022-06-29T13:33:05.101Z"
   },
   {
    "duration": 336,
    "start_time": "2022-06-29T13:33:06.679Z"
   },
   {
    "duration": 6,
    "start_time": "2022-06-29T13:33:07.018Z"
   },
   {
    "duration": 126,
    "start_time": "2022-06-29T13:58:24.566Z"
   },
   {
    "duration": 5,
    "start_time": "2022-06-29T13:59:31.655Z"
   },
   {
    "duration": 807,
    "start_time": "2022-06-29T13:59:31.664Z"
   },
   {
    "duration": 409,
    "start_time": "2022-06-29T13:59:32.472Z"
   },
   {
    "duration": 185,
    "start_time": "2022-06-29T13:59:32.883Z"
   },
   {
    "duration": 10,
    "start_time": "2022-06-29T13:59:33.072Z"
   },
   {
    "duration": 29,
    "start_time": "2022-06-29T13:59:33.083Z"
   },
   {
    "duration": 49536,
    "start_time": "2022-06-29T13:59:33.154Z"
   },
   {
    "duration": 231,
    "start_time": "2022-06-29T14:00:22.692Z"
   },
   {
    "duration": 141,
    "start_time": "2022-06-29T14:00:22.925Z"
   },
   {
    "duration": 135,
    "start_time": "2022-06-29T14:00:23.068Z"
   },
   {
    "duration": 463,
    "start_time": "2022-06-29T14:00:23.204Z"
   },
   {
    "duration": 353,
    "start_time": "2022-06-29T14:00:23.670Z"
   },
   {
    "duration": 354,
    "start_time": "2022-06-29T14:00:24.024Z"
   },
   {
    "duration": 331,
    "start_time": "2022-06-29T14:00:24.381Z"
   },
   {
    "duration": 354,
    "start_time": "2022-06-29T14:00:24.714Z"
   },
   {
    "duration": 4,
    "start_time": "2022-06-29T14:00:25.071Z"
   },
   {
    "duration": 1522,
    "start_time": "2022-06-29T14:00:25.077Z"
   },
   {
    "duration": 317,
    "start_time": "2022-06-29T14:00:26.601Z"
   },
   {
    "duration": 4,
    "start_time": "2022-06-29T14:00:26.920Z"
   },
   {
    "duration": 121,
    "start_time": "2022-06-29T14:00:31.369Z"
   },
   {
    "duration": 92,
    "start_time": "2022-06-29T14:02:16.995Z"
   },
   {
    "duration": 80,
    "start_time": "2022-06-29T14:02:28.623Z"
   },
   {
    "duration": 4,
    "start_time": "2022-06-29T14:02:33.284Z"
   },
   {
    "duration": 795,
    "start_time": "2022-06-29T14:02:33.290Z"
   },
   {
    "duration": 240,
    "start_time": "2022-06-29T14:02:34.087Z"
   },
   {
    "duration": 72,
    "start_time": "2022-06-29T14:02:34.329Z"
   },
   {
    "duration": 5,
    "start_time": "2022-06-29T14:02:34.404Z"
   },
   {
    "duration": 21,
    "start_time": "2022-06-29T14:02:34.410Z"
   },
   {
    "duration": 53710,
    "start_time": "2022-06-29T14:02:34.433Z"
   },
   {
    "duration": 271,
    "start_time": "2022-06-29T14:03:28.144Z"
   },
   {
    "duration": 268,
    "start_time": "2022-06-29T14:03:28.418Z"
   },
   {
    "duration": 142,
    "start_time": "2022-06-29T14:03:28.687Z"
   },
   {
    "duration": 367,
    "start_time": "2022-06-29T14:03:28.830Z"
   },
   {
    "duration": 888,
    "start_time": "2022-06-29T14:03:29.199Z"
   },
   {
    "duration": 808,
    "start_time": "2022-06-29T14:03:30.090Z"
   },
   {
    "duration": 737,
    "start_time": "2022-06-29T14:03:30.902Z"
   },
   {
    "duration": 470,
    "start_time": "2022-06-29T14:03:31.641Z"
   },
   {
    "duration": 4,
    "start_time": "2022-06-29T14:03:32.113Z"
   },
   {
    "duration": 1556,
    "start_time": "2022-06-29T14:03:32.118Z"
   },
   {
    "duration": 329,
    "start_time": "2022-06-29T14:03:33.675Z"
   },
   {
    "duration": 5,
    "start_time": "2022-06-29T14:03:34.005Z"
   },
   {
    "duration": 199,
    "start_time": "2022-06-29T14:03:34.011Z"
   },
   {
    "duration": 25,
    "start_time": "2022-06-29T14:05:06.374Z"
   },
   {
    "duration": 66,
    "start_time": "2022-06-29T14:05:10.560Z"
   },
   {
    "duration": 35,
    "start_time": "2022-06-29T14:05:27.400Z"
   },
   {
    "duration": 11889,
    "start_time": "2022-06-29T14:06:39.450Z"
   },
   {
    "duration": 4739,
    "start_time": "2022-06-29T14:06:51.341Z"
   },
   {
    "duration": 222806,
    "start_time": "2022-06-29T14:06:56.087Z"
   },
   {
    "duration": 0,
    "start_time": "2022-06-29T14:10:38.894Z"
   },
   {
    "duration": 0,
    "start_time": "2022-06-29T14:10:38.895Z"
   },
   {
    "duration": 0,
    "start_time": "2022-06-29T14:10:38.896Z"
   },
   {
    "duration": 19727,
    "start_time": "2022-06-29T14:10:44.603Z"
   },
   {
    "duration": 19655,
    "start_time": "2022-06-29T14:13:39.686Z"
   },
   {
    "duration": 8339,
    "start_time": "2022-06-29T14:14:57.633Z"
   },
   {
    "duration": 255336,
    "start_time": "2022-06-29T14:16:33.596Z"
   },
   {
    "duration": 13,
    "start_time": "2022-06-29T14:25:34.887Z"
   },
   {
    "duration": 157618,
    "start_time": "2022-06-29T14:25:45.989Z"
   },
   {
    "duration": 328024,
    "start_time": "2022-06-29T14:29:14.445Z"
   },
   {
    "duration": 78875,
    "start_time": "2022-06-29T14:38:17.413Z"
   },
   {
    "duration": 341693,
    "start_time": "2022-06-29T14:39:50.327Z"
   },
   {
    "duration": 4,
    "start_time": "2022-06-29T14:46:23.889Z"
   },
   {
    "duration": 30,
    "start_time": "2022-06-29T14:46:41.161Z"
   },
   {
    "duration": 19,
    "start_time": "2022-06-29T14:55:14.762Z"
   },
   {
    "duration": 334660,
    "start_time": "2022-06-29T14:55:39.375Z"
   },
   {
    "duration": 22,
    "start_time": "2022-06-29T15:04:06.221Z"
   },
   {
    "duration": 18230,
    "start_time": "2022-06-29T15:05:26.639Z"
   },
   {
    "duration": 2673212,
    "start_time": "2022-06-29T15:08:15.416Z"
   },
   {
    "duration": 6345,
    "start_time": "2022-06-29T15:53:40.771Z"
   },
   {
    "duration": 494092,
    "start_time": "2022-06-29T15:54:04.308Z"
   },
   {
    "duration": 101665,
    "start_time": "2022-06-29T16:03:38.141Z"
   },
   {
    "duration": 18,
    "start_time": "2022-06-29T16:05:28.819Z"
   },
   {
    "duration": 99645,
    "start_time": "2022-06-29T16:05:53.248Z"
   },
   {
    "duration": 240849,
    "start_time": "2022-06-29T16:08:03.290Z"
   },
   {
    "duration": 887344,
    "start_time": "2022-06-29T16:27:38.784Z"
   },
   {
    "duration": 568528,
    "start_time": "2022-06-29T16:43:00.680Z"
   },
   {
    "duration": 217825,
    "start_time": "2022-06-29T16:52:48.621Z"
   },
   {
    "duration": 238117,
    "start_time": "2022-06-29T16:57:34.872Z"
   },
   {
    "duration": 149828,
    "start_time": "2022-06-29T17:01:49.666Z"
   },
   {
    "duration": 27171,
    "start_time": "2022-06-29T17:04:43.586Z"
   },
   {
    "duration": 0,
    "start_time": "2022-06-29T17:05:10.763Z"
   },
   {
    "duration": 16,
    "start_time": "2022-06-29T17:05:19.586Z"
   },
   {
    "duration": 6,
    "start_time": "2022-06-29T17:05:29.972Z"
   },
   {
    "duration": 4,
    "start_time": "2022-06-29T17:08:31.494Z"
   },
   {
    "duration": 3,
    "start_time": "2022-06-29T17:08:56.370Z"
   },
   {
    "duration": 9,
    "start_time": "2022-06-29T17:11:00.080Z"
   },
   {
    "duration": 1614,
    "start_time": "2022-06-30T14:04:48.911Z"
   },
   {
    "duration": 1823,
    "start_time": "2022-06-30T14:04:50.528Z"
   },
   {
    "duration": 266,
    "start_time": "2022-06-30T14:04:52.353Z"
   },
   {
    "duration": 85,
    "start_time": "2022-06-30T14:04:52.622Z"
   },
   {
    "duration": 5,
    "start_time": "2022-06-30T14:04:52.709Z"
   },
   {
    "duration": 22,
    "start_time": "2022-06-30T14:04:52.726Z"
   },
   {
    "duration": 17231,
    "start_time": "2022-06-30T14:04:52.749Z"
   },
   {
    "duration": 0,
    "start_time": "2022-06-30T14:05:09.983Z"
   },
   {
    "duration": 0,
    "start_time": "2022-06-30T14:05:09.984Z"
   },
   {
    "duration": 0,
    "start_time": "2022-06-30T14:05:09.985Z"
   },
   {
    "duration": 0,
    "start_time": "2022-06-30T14:05:09.986Z"
   },
   {
    "duration": 0,
    "start_time": "2022-06-30T14:05:09.988Z"
   },
   {
    "duration": 0,
    "start_time": "2022-06-30T14:05:09.990Z"
   },
   {
    "duration": 0,
    "start_time": "2022-06-30T14:05:09.993Z"
   },
   {
    "duration": 0,
    "start_time": "2022-06-30T14:05:09.994Z"
   },
   {
    "duration": 0,
    "start_time": "2022-06-30T14:05:09.996Z"
   },
   {
    "duration": 0,
    "start_time": "2022-06-30T14:05:09.997Z"
   },
   {
    "duration": 0,
    "start_time": "2022-06-30T14:05:09.999Z"
   },
   {
    "duration": 0,
    "start_time": "2022-06-30T14:05:10.000Z"
   },
   {
    "duration": 0,
    "start_time": "2022-06-30T14:05:10.001Z"
   },
   {
    "duration": 0,
    "start_time": "2022-06-30T14:05:10.002Z"
   },
   {
    "duration": 0,
    "start_time": "2022-06-30T14:05:10.004Z"
   },
   {
    "duration": 0,
    "start_time": "2022-06-30T14:05:10.005Z"
   },
   {
    "duration": 0,
    "start_time": "2022-06-30T14:05:10.006Z"
   },
   {
    "duration": 4,
    "start_time": "2022-06-30T14:05:53.449Z"
   },
   {
    "duration": 1289,
    "start_time": "2022-06-30T14:05:53.455Z"
   },
   {
    "duration": 261,
    "start_time": "2022-06-30T14:05:54.746Z"
   },
   {
    "duration": 90,
    "start_time": "2022-06-30T14:05:55.009Z"
   },
   {
    "duration": 5,
    "start_time": "2022-06-30T14:05:55.101Z"
   },
   {
    "duration": 46,
    "start_time": "2022-06-30T14:05:55.107Z"
   },
   {
    "duration": 66939,
    "start_time": "2022-06-30T14:05:55.163Z"
   },
   {
    "duration": 274,
    "start_time": "2022-06-30T14:07:02.103Z"
   },
   {
    "duration": 171,
    "start_time": "2022-06-30T14:07:02.379Z"
   },
   {
    "duration": 178,
    "start_time": "2022-06-30T14:07:02.553Z"
   },
   {
    "duration": 378,
    "start_time": "2022-06-30T14:07:02.733Z"
   },
   {
    "duration": 482,
    "start_time": "2022-06-30T14:07:03.113Z"
   },
   {
    "duration": 396,
    "start_time": "2022-06-30T14:07:03.597Z"
   },
   {
    "duration": 405,
    "start_time": "2022-06-30T14:07:03.996Z"
   },
   {
    "duration": 449,
    "start_time": "2022-06-30T14:07:04.403Z"
   },
   {
    "duration": 6,
    "start_time": "2022-06-30T14:07:04.855Z"
   },
   {
    "duration": 1763,
    "start_time": "2022-06-30T14:07:04.863Z"
   },
   {
    "duration": 352,
    "start_time": "2022-06-30T14:07:06.637Z"
   },
   {
    "duration": 5,
    "start_time": "2022-06-30T14:07:06.991Z"
   },
   {
    "duration": 35,
    "start_time": "2022-06-30T14:07:06.998Z"
   },
   {
    "duration": 348587,
    "start_time": "2022-06-30T14:07:07.035Z"
   },
   {
    "duration": 21505,
    "start_time": "2022-06-30T14:12:55.630Z"
   },
   {
    "duration": 11592,
    "start_time": "2022-06-30T14:13:17.140Z"
   },
   {
    "duration": 12516,
    "start_time": "2022-06-30T14:13:28.735Z"
   },
   {
    "duration": 11,
    "start_time": "2022-06-30T14:13:52.642Z"
   },
   {
    "duration": 7,
    "start_time": "2022-06-30T14:13:52.994Z"
   },
   {
    "duration": 21,
    "start_time": "2022-06-30T14:14:23.168Z"
   },
   {
    "duration": 6,
    "start_time": "2022-06-30T14:14:23.403Z"
   },
   {
    "duration": 14,
    "start_time": "2022-06-30T14:14:33.168Z"
   },
   {
    "duration": 185557,
    "start_time": "2022-06-30T14:14:40.885Z"
   },
   {
    "duration": 292830,
    "start_time": "2022-06-30T14:17:46.453Z"
   },
   {
    "duration": 26,
    "start_time": "2022-06-30T14:22:43.636Z"
   },
   {
    "duration": 6,
    "start_time": "2022-06-30T14:22:44.292Z"
   },
   {
    "duration": 12,
    "start_time": "2022-06-30T14:50:27.848Z"
   },
   {
    "duration": 6,
    "start_time": "2022-06-30T14:50:28.066Z"
   },
   {
    "duration": 109,
    "start_time": "2022-06-30T15:41:07.056Z"
   },
   {
    "duration": 5,
    "start_time": "2022-06-30T15:42:31.869Z"
   },
   {
    "duration": 3335,
    "start_time": "2022-06-30T15:44:17.225Z"
   },
   {
    "duration": 235891,
    "start_time": "2022-06-30T15:44:30.157Z"
   },
   {
    "duration": 136487,
    "start_time": "2022-06-30T15:49:01.546Z"
   },
   {
    "duration": 11,
    "start_time": "2022-06-30T15:51:55.138Z"
   },
   {
    "duration": 11,
    "start_time": "2022-06-30T15:51:55.151Z"
   },
   {
    "duration": 554402,
    "start_time": "2022-06-30T16:15:48.073Z"
   },
   {
    "duration": 503,
    "start_time": "2022-06-30T16:55:29.148Z"
   },
   {
    "duration": 1878,
    "start_time": "2022-07-01T08:28:04.736Z"
   },
   {
    "duration": 1477,
    "start_time": "2022-07-01T08:28:06.616Z"
   },
   {
    "duration": 238,
    "start_time": "2022-07-01T08:28:08.094Z"
   },
   {
    "duration": 79,
    "start_time": "2022-07-01T08:28:08.334Z"
   },
   {
    "duration": 5,
    "start_time": "2022-07-01T08:28:08.426Z"
   },
   {
    "duration": 15,
    "start_time": "2022-07-01T08:28:08.433Z"
   },
   {
    "duration": 32530,
    "start_time": "2022-07-01T08:28:08.449Z"
   },
   {
    "duration": 213,
    "start_time": "2022-07-01T08:28:40.981Z"
   },
   {
    "duration": 133,
    "start_time": "2022-07-01T08:28:41.196Z"
   },
   {
    "duration": 145,
    "start_time": "2022-07-01T08:28:41.332Z"
   },
   {
    "duration": 306,
    "start_time": "2022-07-01T08:28:41.478Z"
   },
   {
    "duration": 372,
    "start_time": "2022-07-01T08:28:41.785Z"
   },
   {
    "duration": 319,
    "start_time": "2022-07-01T08:28:42.158Z"
   },
   {
    "duration": 281,
    "start_time": "2022-07-01T08:28:42.479Z"
   },
   {
    "duration": 307,
    "start_time": "2022-07-01T08:28:42.762Z"
   },
   {
    "duration": 5,
    "start_time": "2022-07-01T08:28:43.070Z"
   },
   {
    "duration": 1367,
    "start_time": "2022-07-01T08:28:43.077Z"
   },
   {
    "duration": 277,
    "start_time": "2022-07-01T08:28:44.445Z"
   },
   {
    "duration": 4,
    "start_time": "2022-07-01T08:28:44.727Z"
   },
   {
    "duration": 19,
    "start_time": "2022-07-01T08:28:44.733Z"
   },
   {
    "duration": 314293,
    "start_time": "2022-07-01T08:28:44.754Z"
   },
   {
    "duration": 4489,
    "start_time": "2022-07-01T08:36:26.946Z"
   },
   {
    "duration": 3,
    "start_time": "2022-07-01T08:37:32.212Z"
   },
   {
    "duration": 4420,
    "start_time": "2022-07-01T08:37:38.170Z"
   },
   {
    "duration": 4,
    "start_time": "2022-07-01T08:39:10.293Z"
   },
   {
    "duration": 4137,
    "start_time": "2022-07-01T08:39:17.684Z"
   },
   {
    "duration": 4094,
    "start_time": "2022-07-01T08:47:46.505Z"
   },
   {
    "duration": 1668,
    "start_time": "2022-07-01T09:20:38.729Z"
   },
   {
    "duration": 1572,
    "start_time": "2022-07-01T09:20:40.400Z"
   },
   {
    "duration": 254,
    "start_time": "2022-07-01T09:20:41.974Z"
   },
   {
    "duration": 99,
    "start_time": "2022-07-01T09:20:42.230Z"
   },
   {
    "duration": 5,
    "start_time": "2022-07-01T09:20:42.331Z"
   },
   {
    "duration": 26,
    "start_time": "2022-07-01T09:20:42.338Z"
   },
   {
    "duration": 40117,
    "start_time": "2022-07-01T09:20:42.366Z"
   },
   {
    "duration": 221,
    "start_time": "2022-07-01T09:21:22.485Z"
   },
   {
    "duration": 134,
    "start_time": "2022-07-01T09:21:22.707Z"
   },
   {
    "duration": 134,
    "start_time": "2022-07-01T09:21:22.845Z"
   },
   {
    "duration": 327,
    "start_time": "2022-07-01T09:21:22.980Z"
   },
   {
    "duration": 408,
    "start_time": "2022-07-01T09:21:23.309Z"
   },
   {
    "duration": 323,
    "start_time": "2022-07-01T09:21:23.718Z"
   },
   {
    "duration": 309,
    "start_time": "2022-07-01T09:21:24.043Z"
   },
   {
    "duration": 402,
    "start_time": "2022-07-01T09:21:24.354Z"
   },
   {
    "duration": 5,
    "start_time": "2022-07-01T09:21:24.758Z"
   },
   {
    "duration": 1403,
    "start_time": "2022-07-01T09:21:24.765Z"
   },
   {
    "duration": 293,
    "start_time": "2022-07-01T09:21:26.170Z"
   },
   {
    "duration": 5,
    "start_time": "2022-07-01T09:21:26.466Z"
   },
   {
    "duration": 19,
    "start_time": "2022-07-01T10:16:49.416Z"
   },
   {
    "duration": 322790,
    "start_time": "2022-07-01T10:17:06.170Z"
   },
   {
    "duration": 8,
    "start_time": "2022-07-01T10:22:28.962Z"
   },
   {
    "duration": 320207,
    "start_time": "2022-07-01T10:46:45.760Z"
   },
   {
    "duration": 325366,
    "start_time": "2022-07-01T10:56:56.451Z"
   },
   {
    "duration": 7380,
    "start_time": "2022-07-01T11:18:37.056Z"
   },
   {
    "duration": 7359,
    "start_time": "2022-07-01T11:19:28.170Z"
   },
   {
    "duration": 156633,
    "start_time": "2022-07-01T11:20:07.323Z"
   },
   {
    "duration": 4,
    "start_time": "2022-07-01T11:22:48.188Z"
   },
   {
    "duration": 785,
    "start_time": "2022-07-01T11:22:48.195Z"
   },
   {
    "duration": 240,
    "start_time": "2022-07-01T11:22:48.982Z"
   },
   {
    "duration": 64,
    "start_time": "2022-07-01T11:22:49.225Z"
   },
   {
    "duration": 5,
    "start_time": "2022-07-01T11:22:49.291Z"
   },
   {
    "duration": 36,
    "start_time": "2022-07-01T11:22:49.297Z"
   },
   {
    "duration": 48459,
    "start_time": "2022-07-01T11:22:49.335Z"
   },
   {
    "duration": 218,
    "start_time": "2022-07-01T11:23:37.796Z"
   },
   {
    "duration": 229,
    "start_time": "2022-07-01T11:23:38.016Z"
   },
   {
    "duration": 153,
    "start_time": "2022-07-01T11:23:38.247Z"
   },
   {
    "duration": 329,
    "start_time": "2022-07-01T11:23:38.401Z"
   },
   {
    "duration": 375,
    "start_time": "2022-07-01T11:23:38.732Z"
   },
   {
    "duration": 363,
    "start_time": "2022-07-01T11:23:39.108Z"
   },
   {
    "duration": 329,
    "start_time": "2022-07-01T11:23:39.475Z"
   },
   {
    "duration": 492,
    "start_time": "2022-07-01T11:23:39.806Z"
   },
   {
    "duration": 5,
    "start_time": "2022-07-01T11:23:40.299Z"
   },
   {
    "duration": 1411,
    "start_time": "2022-07-01T11:23:40.306Z"
   },
   {
    "duration": 304,
    "start_time": "2022-07-01T11:23:41.726Z"
   },
   {
    "duration": 5,
    "start_time": "2022-07-01T11:23:42.032Z"
   },
   {
    "duration": 24,
    "start_time": "2022-07-01T11:23:42.039Z"
   },
   {
    "duration": 325698,
    "start_time": "2022-07-01T11:23:42.065Z"
   },
   {
    "duration": 7866,
    "start_time": "2022-07-01T11:29:07.765Z"
   },
   {
    "duration": 163113,
    "start_time": "2022-07-01T11:29:15.633Z"
   },
   {
    "duration": 8,
    "start_time": "2022-07-01T11:31:58.749Z"
   },
   {
    "duration": 8,
    "start_time": "2022-07-01T11:31:58.759Z"
   },
   {
    "duration": 12,
    "start_time": "2022-07-01T11:31:58.770Z"
   },
   {
    "duration": 58,
    "start_time": "2022-07-01T11:44:49.913Z"
   },
   {
    "duration": 6,
    "start_time": "2022-07-01T11:44:50.087Z"
   },
   {
    "duration": 9,
    "start_time": "2022-07-01T11:44:57.081Z"
   },
   {
    "duration": 458035,
    "start_time": "2022-07-01T11:46:56.107Z"
   },
   {
    "duration": 66,
    "start_time": "2022-07-01T11:55:20.240Z"
   },
   {
    "duration": 5,
    "start_time": "2022-07-01T11:55:20.410Z"
   },
   {
    "duration": 1605851,
    "start_time": "2022-07-01T11:56:08.934Z"
   },
   {
    "duration": 3539121,
    "start_time": "2022-07-01T12:22:57.456Z"
   },
   {
    "duration": 48,
    "start_time": "2022-07-01T13:24:59.464Z"
   },
   {
    "duration": 7,
    "start_time": "2022-07-01T13:24:59.847Z"
   },
   {
    "duration": 452334,
    "start_time": "2022-07-01T13:35:17.154Z"
   },
   {
    "duration": 60,
    "start_time": "2022-07-01T13:43:52.726Z"
   },
   {
    "duration": 6,
    "start_time": "2022-07-01T13:43:53.101Z"
   },
   {
    "duration": 8,
    "start_time": "2022-07-01T13:44:11.372Z"
   },
   {
    "duration": 67,
    "start_time": "2022-10-02T14:27:44.092Z"
   },
   {
    "duration": 1692,
    "start_time": "2022-10-02T14:27:46.711Z"
   },
   {
    "duration": 9822,
    "start_time": "2022-10-02T14:27:48.405Z"
   }
  ],
  "kernelspec": {
   "display_name": "Python 3 (ipykernel)",
   "language": "python",
   "name": "python3"
  },
  "language_info": {
   "codemirror_mode": {
    "name": "ipython",
    "version": 3
   },
   "file_extension": ".py",
   "mimetype": "text/x-python",
   "name": "python",
   "nbconvert_exporter": "python",
   "pygments_lexer": "ipython3",
   "version": "3.9.12"
  },
  "toc": {
   "base_numbering": 1,
   "nav_menu": {},
   "number_sections": true,
   "sideBar": true,
   "skip_h1_title": true,
   "title_cell": "Содержание",
   "title_sidebar": "Contents",
   "toc_cell": true,
   "toc_position": {
    "height": "calc(100% - 180px)",
    "left": "10px",
    "top": "150px",
    "width": "329px"
   },
   "toc_section_display": true,
   "toc_window_display": true
  }
 },
 "nbformat": 4,
 "nbformat_minor": 2
}
