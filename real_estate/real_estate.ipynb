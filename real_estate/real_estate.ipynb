{
 "cells": [
  {
   "cell_type": "markdown",
   "metadata": {
    "toc": true
   },
   "source": [
    "<h1>Содержание<span class=\"tocSkip\"></span></h1>\n",
    "<div class=\"toc\"><ul class=\"toc-item\"><li><span><a href=\"#Изучение-данных-из-файла\" data-toc-modified-id=\"Изучение-данных-из-файла-1\"><span class=\"toc-item-num\">1&nbsp;&nbsp;</span>Изучение данных из файла</a></span><ul class=\"toc-item\"><li><span><a href=\"#Вывод\" data-toc-modified-id=\"Вывод-1.1\"><span class=\"toc-item-num\">1.1&nbsp;&nbsp;</span>Вывод</a></span></li></ul></li><li><span><a href=\"#Предобработка-данных\" data-toc-modified-id=\"Предобработка-данных-2\"><span class=\"toc-item-num\">2&nbsp;&nbsp;</span>Предобработка данных</a></span></li><li><span><a href=\"#Расчёты-и-добавление-результатов-в-таблицу\" data-toc-modified-id=\"Расчёты-и-добавление-результатов-в-таблицу-3\"><span class=\"toc-item-num\">3&nbsp;&nbsp;</span>Расчёты и добавление результатов в таблицу</a></span></li><li><span><a href=\"#Исследовательский-анализ-данных\" data-toc-modified-id=\"Исследовательский-анализ-данных-4\"><span class=\"toc-item-num\">4&nbsp;&nbsp;</span>Исследовательский анализ данных</a></span></li><li><span><a href=\"#Общий-вывод\" data-toc-modified-id=\"Общий-вывод-5\"><span class=\"toc-item-num\">5&nbsp;&nbsp;</span>Общий вывод</a></span></li><li><span><a href=\"#Чек-лист-готовности-проекта\" data-toc-modified-id=\"Чек-лист-готовности-проекта-6\"><span class=\"toc-item-num\">6&nbsp;&nbsp;</span>Чек-лист готовности проекта</a></span></li></ul></div>"
   ]
  },
  {
   "cell_type": "markdown",
   "metadata": {},
   "source": [
    "# Исследование объявлений о продаже квартир\n",
    "\n",
    "В нашем распоряжении данные сервиса Яндекc Недвижимость — архив объявлений о продаже квартир в Санкт-Петербурге и соседних населённых пунктах за несколько лет. Нужно научиться определять рыночную стоимость объектов недвижимости. Наша задача — установить параметры. Это позволит построить автоматизированную систему: она отследит аномалии и мошенническую деятельность. \n",
    "\n",
    "По каждой квартире на продажу доступны два вида данных. Первые вписаны пользователем, вторые получены автоматически на основе картографических данных. Например, расстояние до центра, аэропорта, ближайшего парка и водоёма. "
   ]
  },
  {
   "cell_type": "markdown",
   "metadata": {},
   "source": [
    "## Изучение данных из файла"
   ]
  },
  {
   "cell_type": "code",
   "execution_count": 24,
   "metadata": {
    "scrolled": true
   },
   "outputs": [
    {
     "name": "stdout",
     "output_type": "stream",
     "text": [
      "<class 'pandas.core.frame.DataFrame'>\n",
      "RangeIndex: 23699 entries, 0 to 23698\n",
      "Data columns (total 23 columns):\n",
      " #   Column                Non-Null Count  Dtype  \n",
      "---  ------                --------------  -----  \n",
      " 0   Unnamed: 0            23699 non-null  int64  \n",
      " 1   total_images          23699 non-null  int64  \n",
      " 2   last_price            23699 non-null  float64\n",
      " 3   total_area            23699 non-null  float64\n",
      " 4   first_day_exposition  23699 non-null  object \n",
      " 5   rooms                 23699 non-null  int64  \n",
      " 6   ceiling_height        14504 non-null  float64\n",
      " 7   floors_total          23613 non-null  float64\n",
      " 8   living_area           21796 non-null  float64\n",
      " 9   floor                 23699 non-null  int64  \n",
      " 10  is_apartment          2775 non-null   object \n",
      " 11  studio                23699 non-null  bool   \n",
      " 12  open_plan             23699 non-null  bool   \n",
      " 13  kitchen_area          21421 non-null  float64\n",
      " 14  balcony               12180 non-null  float64\n",
      " 15  locality_name         23650 non-null  object \n",
      " 16  airports_nearest      18157 non-null  float64\n",
      " 17  cityCenters_nearest   18180 non-null  float64\n",
      " 18  parks_around3000      18181 non-null  float64\n",
      " 19  parks_nearest         8079 non-null   float64\n",
      " 20  ponds_around3000      18181 non-null  float64\n",
      " 21  ponds_nearest         9110 non-null   float64\n",
      " 22  days_exposition       20518 non-null  float64\n",
      "dtypes: bool(2), float64(14), int64(4), object(3)\n",
      "memory usage: 3.8+ MB\n"
     ]
    },
    {
     "data": {
      "text/html": [
       "<div>\n",
       "<style scoped>\n",
       "    .dataframe tbody tr th:only-of-type {\n",
       "        vertical-align: middle;\n",
       "    }\n",
       "\n",
       "    .dataframe tbody tr th {\n",
       "        vertical-align: top;\n",
       "    }\n",
       "\n",
       "    .dataframe thead th {\n",
       "        text-align: right;\n",
       "    }\n",
       "</style>\n",
       "<table border=\"1\" class=\"dataframe\">\n",
       "  <thead>\n",
       "    <tr style=\"text-align: right;\">\n",
       "      <th></th>\n",
       "      <th>Unnamed: 0</th>\n",
       "      <th>total_images</th>\n",
       "      <th>last_price</th>\n",
       "      <th>total_area</th>\n",
       "      <th>first_day_exposition</th>\n",
       "      <th>rooms</th>\n",
       "      <th>ceiling_height</th>\n",
       "      <th>floors_total</th>\n",
       "      <th>living_area</th>\n",
       "      <th>floor</th>\n",
       "      <th>...</th>\n",
       "      <th>kitchen_area</th>\n",
       "      <th>balcony</th>\n",
       "      <th>locality_name</th>\n",
       "      <th>airports_nearest</th>\n",
       "      <th>cityCenters_nearest</th>\n",
       "      <th>parks_around3000</th>\n",
       "      <th>parks_nearest</th>\n",
       "      <th>ponds_around3000</th>\n",
       "      <th>ponds_nearest</th>\n",
       "      <th>days_exposition</th>\n",
       "    </tr>\n",
       "  </thead>\n",
       "  <tbody>\n",
       "    <tr>\n",
       "      <th>0</th>\n",
       "      <td>0</td>\n",
       "      <td>20</td>\n",
       "      <td>13000000.0</td>\n",
       "      <td>108.0</td>\n",
       "      <td>2019-03-07T00:00:00</td>\n",
       "      <td>3</td>\n",
       "      <td>2.70</td>\n",
       "      <td>16.0</td>\n",
       "      <td>51.0</td>\n",
       "      <td>8</td>\n",
       "      <td>...</td>\n",
       "      <td>25.0</td>\n",
       "      <td>NaN</td>\n",
       "      <td>Санкт-Петербург</td>\n",
       "      <td>18863.0</td>\n",
       "      <td>16028.0</td>\n",
       "      <td>1.0</td>\n",
       "      <td>482.0</td>\n",
       "      <td>2.0</td>\n",
       "      <td>755.0</td>\n",
       "      <td>NaN</td>\n",
       "    </tr>\n",
       "    <tr>\n",
       "      <th>1</th>\n",
       "      <td>1</td>\n",
       "      <td>7</td>\n",
       "      <td>3350000.0</td>\n",
       "      <td>40.4</td>\n",
       "      <td>2018-12-04T00:00:00</td>\n",
       "      <td>1</td>\n",
       "      <td>NaN</td>\n",
       "      <td>11.0</td>\n",
       "      <td>18.6</td>\n",
       "      <td>1</td>\n",
       "      <td>...</td>\n",
       "      <td>11.0</td>\n",
       "      <td>2.0</td>\n",
       "      <td>посёлок Шушары</td>\n",
       "      <td>12817.0</td>\n",
       "      <td>18603.0</td>\n",
       "      <td>0.0</td>\n",
       "      <td>NaN</td>\n",
       "      <td>0.0</td>\n",
       "      <td>NaN</td>\n",
       "      <td>81.0</td>\n",
       "    </tr>\n",
       "    <tr>\n",
       "      <th>2</th>\n",
       "      <td>2</td>\n",
       "      <td>10</td>\n",
       "      <td>5196000.0</td>\n",
       "      <td>56.0</td>\n",
       "      <td>2015-08-20T00:00:00</td>\n",
       "      <td>2</td>\n",
       "      <td>NaN</td>\n",
       "      <td>5.0</td>\n",
       "      <td>34.3</td>\n",
       "      <td>4</td>\n",
       "      <td>...</td>\n",
       "      <td>8.3</td>\n",
       "      <td>0.0</td>\n",
       "      <td>Санкт-Петербург</td>\n",
       "      <td>21741.0</td>\n",
       "      <td>13933.0</td>\n",
       "      <td>1.0</td>\n",
       "      <td>90.0</td>\n",
       "      <td>2.0</td>\n",
       "      <td>574.0</td>\n",
       "      <td>558.0</td>\n",
       "    </tr>\n",
       "    <tr>\n",
       "      <th>3</th>\n",
       "      <td>3</td>\n",
       "      <td>0</td>\n",
       "      <td>64900000.0</td>\n",
       "      <td>159.0</td>\n",
       "      <td>2015-07-24T00:00:00</td>\n",
       "      <td>3</td>\n",
       "      <td>NaN</td>\n",
       "      <td>14.0</td>\n",
       "      <td>NaN</td>\n",
       "      <td>9</td>\n",
       "      <td>...</td>\n",
       "      <td>NaN</td>\n",
       "      <td>0.0</td>\n",
       "      <td>Санкт-Петербург</td>\n",
       "      <td>28098.0</td>\n",
       "      <td>6800.0</td>\n",
       "      <td>2.0</td>\n",
       "      <td>84.0</td>\n",
       "      <td>3.0</td>\n",
       "      <td>234.0</td>\n",
       "      <td>424.0</td>\n",
       "    </tr>\n",
       "    <tr>\n",
       "      <th>4</th>\n",
       "      <td>4</td>\n",
       "      <td>2</td>\n",
       "      <td>10000000.0</td>\n",
       "      <td>100.0</td>\n",
       "      <td>2018-06-19T00:00:00</td>\n",
       "      <td>2</td>\n",
       "      <td>3.03</td>\n",
       "      <td>14.0</td>\n",
       "      <td>32.0</td>\n",
       "      <td>13</td>\n",
       "      <td>...</td>\n",
       "      <td>41.0</td>\n",
       "      <td>NaN</td>\n",
       "      <td>Санкт-Петербург</td>\n",
       "      <td>31856.0</td>\n",
       "      <td>8098.0</td>\n",
       "      <td>2.0</td>\n",
       "      <td>112.0</td>\n",
       "      <td>1.0</td>\n",
       "      <td>48.0</td>\n",
       "      <td>121.0</td>\n",
       "    </tr>\n",
       "  </tbody>\n",
       "</table>\n",
       "<p>5 rows × 23 columns</p>\n",
       "</div>"
      ],
      "text/plain": [
       "   Unnamed: 0  total_images  last_price  total_area first_day_exposition  \\\n",
       "0           0            20  13000000.0       108.0  2019-03-07T00:00:00   \n",
       "1           1             7   3350000.0        40.4  2018-12-04T00:00:00   \n",
       "2           2            10   5196000.0        56.0  2015-08-20T00:00:00   \n",
       "3           3             0  64900000.0       159.0  2015-07-24T00:00:00   \n",
       "4           4             2  10000000.0       100.0  2018-06-19T00:00:00   \n",
       "\n",
       "   rooms  ceiling_height  floors_total  living_area  floor  ... kitchen_area  \\\n",
       "0      3            2.70          16.0         51.0      8  ...         25.0   \n",
       "1      1             NaN          11.0         18.6      1  ...         11.0   \n",
       "2      2             NaN           5.0         34.3      4  ...          8.3   \n",
       "3      3             NaN          14.0          NaN      9  ...          NaN   \n",
       "4      2            3.03          14.0         32.0     13  ...         41.0   \n",
       "\n",
       "   balcony    locality_name  airports_nearest  cityCenters_nearest  \\\n",
       "0      NaN  Санкт-Петербург           18863.0              16028.0   \n",
       "1      2.0   посёлок Шушары           12817.0              18603.0   \n",
       "2      0.0  Санкт-Петербург           21741.0              13933.0   \n",
       "3      0.0  Санкт-Петербург           28098.0               6800.0   \n",
       "4      NaN  Санкт-Петербург           31856.0               8098.0   \n",
       "\n",
       "  parks_around3000  parks_nearest  ponds_around3000  ponds_nearest  \\\n",
       "0              1.0          482.0               2.0          755.0   \n",
       "1              0.0            NaN               0.0            NaN   \n",
       "2              1.0           90.0               2.0          574.0   \n",
       "3              2.0           84.0               3.0          234.0   \n",
       "4              2.0          112.0               1.0           48.0   \n",
       "\n",
       "   days_exposition  \n",
       "0              NaN  \n",
       "1             81.0  \n",
       "2            558.0  \n",
       "3            424.0  \n",
       "4            121.0  \n",
       "\n",
       "[5 rows x 23 columns]"
      ]
     },
     "metadata": {},
     "output_type": "display_data"
    }
   ],
   "source": [
    "# импортирование библиотеки\n",
    "import pandas as pd \n",
    "\n",
    "# чтение файла\n",
    "data = pd.read_csv('dataset_real_estate.csv') \n",
    "\n",
    "# общая информация о датафрейме\n",
    "data.info() \n",
    "\n",
    "# 5 первых строк датафрейма\n",
    "display(data.head()) "
   ]
  },
  {
   "cell_type": "markdown",
   "metadata": {},
   "source": [
    "### Вывод"
   ]
  },
  {
   "cell_type": "markdown",
   "metadata": {},
   "source": [
    "Первое что бросается в глаза - это большое количество пропущенных значений, более чем в половине столбцов присутствуют пропуски. <br>\n",
    "Далее заметен верблюжий регистр в столбцах <b> 'cityCenters_nearest', 'parks_around3000', 'ponds_around3000' </b>. <br>\n",
    "Многие столбцы, значения в которых подразумевают целое число, имеют значения дробных чисел."
   ]
  },
  {
   "cell_type": "markdown",
   "metadata": {},
   "source": [
    "Приведение наименований столбцов к змеиному регистру и последующая проверка изменений."
   ]
  },
  {
   "cell_type": "code",
   "execution_count": 25,
   "metadata": {
    "scrolled": false
   },
   "outputs": [
    {
     "name": "stdout",
     "output_type": "stream",
     "text": [
      "<class 'pandas.core.frame.DataFrame'>\n",
      "RangeIndex: 23699 entries, 0 to 23698\n",
      "Data columns (total 23 columns):\n",
      " #   Column                Non-Null Count  Dtype  \n",
      "---  ------                --------------  -----  \n",
      " 0   Unnamed: 0            23699 non-null  int64  \n",
      " 1   total_images          23699 non-null  int64  \n",
      " 2   last_price            23699 non-null  float64\n",
      " 3   total_area            23699 non-null  float64\n",
      " 4   first_day_exposition  23699 non-null  object \n",
      " 5   rooms                 23699 non-null  int64  \n",
      " 6   ceiling_height        14504 non-null  float64\n",
      " 7   floors_total          23613 non-null  float64\n",
      " 8   living_area           21796 non-null  float64\n",
      " 9   floor                 23699 non-null  int64  \n",
      " 10  is_apartment          2775 non-null   object \n",
      " 11  studio                23699 non-null  bool   \n",
      " 12  open_plan             23699 non-null  bool   \n",
      " 13  kitchen_area          21421 non-null  float64\n",
      " 14  balcony               12180 non-null  float64\n",
      " 15  locality_name         23650 non-null  object \n",
      " 16  airports_nearest      18157 non-null  float64\n",
      " 17  city_centers_nearest  18180 non-null  float64\n",
      " 18  parks_around_3000     18181 non-null  float64\n",
      " 19  parks_nearest         8079 non-null   float64\n",
      " 20  ponds_around_3000     18181 non-null  float64\n",
      " 21  ponds_nearest         9110 non-null   float64\n",
      " 22  days_exposition       20518 non-null  float64\n",
      "dtypes: bool(2), float64(14), int64(4), object(3)\n",
      "memory usage: 3.8+ MB\n"
     ]
    }
   ],
   "source": [
    "data = data.rename(columns={'cityCenters_nearest':'city_centers_nearest', 'parks_around3000':'parks_around_3000', 'ponds_around3000':'ponds_around_3000'})\n",
    "\n",
    "# проверка переименования столбцов\n",
    "data.info() "
   ]
  },
  {
   "cell_type": "markdown",
   "metadata": {},
   "source": [
    "## Предобработка данных"
   ]
  },
  {
   "cell_type": "markdown",
   "metadata": {},
   "source": [
    "<b> Пропущенные значения: </b> <br>\n",
    "* Логично предположить, что пропуск значения в столбце <b> 'balcony' </b> предполагает его отсутствие, также как и в столбцах <b> 'parks_around_3000', 'ponds_around_3000' </b> . <br>\n",
    "* Пропуски в столбце <b> 'ceiling_height' </b> можно заменить на медианное значение. <br>\n",
    "* Пропуски в столбце <b> 'is_apartment' </b> можно воспринимать как тип обычной жилой квартиры, то есть значение 'False', так как количество апартаментов в датасете крайне маленькое."
   ]
  },
  {
   "cell_type": "code",
   "execution_count": 26,
   "metadata": {
    "scrolled": false
   },
   "outputs": [
    {
     "data": {
      "text/plain": [
       "balcony\n",
       "1.0    4195\n",
       "0.0    3758\n",
       "2.0    3659\n",
       "5.0     304\n",
       "4.0     183\n",
       "3.0      81\n",
       "dtype: int64"
      ]
     },
     "metadata": {},
     "output_type": "display_data"
    }
   ],
   "source": [
    "# просмотр значений \n",
    "display(data.value_counts('balcony')) \n",
    "\n",
    "# заполнение пропусков \n",
    "data['balcony'] = data['balcony'].fillna(value=0) "
   ]
  },
  {
   "cell_type": "code",
   "execution_count": 27,
   "metadata": {},
   "outputs": [
    {
     "data": {
      "text/plain": [
       "ceiling_height\n",
       "2.50      3515\n",
       "2.60      1646\n",
       "2.70      1574\n",
       "3.00      1112\n",
       "2.80       993\n",
       "          ... \n",
       "3.88         1\n",
       "3.93         1\n",
       "3.98         1\n",
       "4.06         1\n",
       "100.00       1\n",
       "Length: 183, dtype: int64"
      ]
     },
     "metadata": {},
     "output_type": "display_data"
    }
   ],
   "source": [
    "# просмотр значений\n",
    "display(data.value_counts('ceiling_height'))  \n",
    "\n",
    "# нахождение медианного значения\n",
    "median_ceiling_height = data['ceiling_height'].median()  \n",
    "\n",
    "# заполнение пропусков медианой\n",
    "data['ceiling_height'] = data['ceiling_height'].fillna(value=median_ceiling_height)  "
   ]
  },
  {
   "cell_type": "code",
   "execution_count": 28,
   "metadata": {},
   "outputs": [
    {
     "data": {
      "text/plain": [
       "is_apartment\n",
       "False    2725\n",
       "True       50\n",
       "dtype: int64"
      ]
     },
     "metadata": {},
     "output_type": "display_data"
    }
   ],
   "source": [
    "# просмотр значений \n",
    "display(data.value_counts('is_apartment')) \n",
    "\n",
    "# заполнение пропусков\n",
    "data['is_apartment'] = data['is_apartment'].fillna(value=False)  "
   ]
  },
  {
   "cell_type": "code",
   "execution_count": 29,
   "metadata": {},
   "outputs": [
    {
     "data": {
      "text/plain": [
       "0.9395373338721494"
      ]
     },
     "metadata": {},
     "output_type": "display_data"
    },
    {
     "data": {
      "text/plain": [
       "0.6091211711198318"
      ]
     },
     "metadata": {},
     "output_type": "display_data"
    }
   ],
   "source": [
    "display(data['total_area'].corr(data['living_area']))\n",
    "display(data['total_area'].corr(data['kitchen_area']))\n",
    "\n",
    "data['living_area'] = data['living_area'].fillna(data['total_area'] * ((data['living_area'] / data['total_area']).median()))\n",
    "data['kitchen_area'] = data['kitchen_area'].fillna(data['total_area'] * ((data['kitchen_area'] / data['total_area']).median()))"
   ]
  },
  {
   "cell_type": "markdown",
   "metadata": {},
   "source": [
    "<b> Изменение типов данных: </b> <br>\n",
    "* Столбец <b> 'is_apartment' </b> следует привести к булеву типу, так как используются булевы переменные. <br>\n",
    "* Значения в столбцах <b> 'balcony', 'parks_around_3000', 'ponds_around_3000', 'floors_total', 'days_exposition' </b> показывают количество, следовательно логично привести их тип данных к целочисленному, однако с <b> 'floors_total', 'days_exposition' </b> мы не можем сделать такое, так как в них присутствуют пропуски, которые сложно чем-то заменить. <br>\n",
    "* Тип данных в столбце <b> 'first_day_exposition' </b> переведен в datetime64."
   ]
  },
  {
   "cell_type": "code",
   "execution_count": 30,
   "metadata": {
    "scrolled": true
   },
   "outputs": [
    {
     "name": "stdout",
     "output_type": "stream",
     "text": [
      "<class 'pandas.core.frame.DataFrame'>\n",
      "RangeIndex: 23699 entries, 0 to 23698\n",
      "Data columns (total 23 columns):\n",
      " #   Column                Non-Null Count  Dtype         \n",
      "---  ------                --------------  -----         \n",
      " 0   Unnamed: 0            23699 non-null  int64         \n",
      " 1   total_images          23699 non-null  int64         \n",
      " 2   last_price            23699 non-null  float64       \n",
      " 3   total_area            23699 non-null  float64       \n",
      " 4   first_day_exposition  23699 non-null  datetime64[ns]\n",
      " 5   rooms                 23699 non-null  int64         \n",
      " 6   ceiling_height        23699 non-null  float64       \n",
      " 7   floors_total          23613 non-null  Int64         \n",
      " 8   living_area           23699 non-null  float64       \n",
      " 9   floor                 23699 non-null  int64         \n",
      " 10  is_apartment          23699 non-null  bool          \n",
      " 11  studio                23699 non-null  bool          \n",
      " 12  open_plan             23699 non-null  bool          \n",
      " 13  kitchen_area          23699 non-null  float64       \n",
      " 14  balcony               23699 non-null  int32         \n",
      " 15  locality_name         23650 non-null  object        \n",
      " 16  airports_nearest      18157 non-null  float64       \n",
      " 17  city_centers_nearest  18180 non-null  float64       \n",
      " 18  parks_around_3000     18181 non-null  Int64         \n",
      " 19  parks_nearest         8079 non-null   float64       \n",
      " 20  ponds_around_3000     18181 non-null  Int64         \n",
      " 21  ponds_nearest         9110 non-null   float64       \n",
      " 22  days_exposition       20518 non-null  float64       \n",
      "dtypes: Int64(3), bool(3), datetime64[ns](1), float64(10), int32(1), int64(4), object(1)\n",
      "memory usage: 3.7+ MB\n"
     ]
    },
    {
     "data": {
      "text/html": [
       "<div>\n",
       "<style scoped>\n",
       "    .dataframe tbody tr th:only-of-type {\n",
       "        vertical-align: middle;\n",
       "    }\n",
       "\n",
       "    .dataframe tbody tr th {\n",
       "        vertical-align: top;\n",
       "    }\n",
       "\n",
       "    .dataframe thead th {\n",
       "        text-align: right;\n",
       "    }\n",
       "</style>\n",
       "<table border=\"1\" class=\"dataframe\">\n",
       "  <thead>\n",
       "    <tr style=\"text-align: right;\">\n",
       "      <th></th>\n",
       "      <th>Unnamed: 0</th>\n",
       "      <th>total_images</th>\n",
       "      <th>last_price</th>\n",
       "      <th>total_area</th>\n",
       "      <th>first_day_exposition</th>\n",
       "      <th>rooms</th>\n",
       "      <th>ceiling_height</th>\n",
       "      <th>floors_total</th>\n",
       "      <th>living_area</th>\n",
       "      <th>floor</th>\n",
       "      <th>...</th>\n",
       "      <th>kitchen_area</th>\n",
       "      <th>balcony</th>\n",
       "      <th>locality_name</th>\n",
       "      <th>airports_nearest</th>\n",
       "      <th>city_centers_nearest</th>\n",
       "      <th>parks_around_3000</th>\n",
       "      <th>parks_nearest</th>\n",
       "      <th>ponds_around_3000</th>\n",
       "      <th>ponds_nearest</th>\n",
       "      <th>days_exposition</th>\n",
       "    </tr>\n",
       "  </thead>\n",
       "  <tbody>\n",
       "    <tr>\n",
       "      <th>0</th>\n",
       "      <td>0</td>\n",
       "      <td>20</td>\n",
       "      <td>13000000.0</td>\n",
       "      <td>108.0</td>\n",
       "      <td>2019-03-07</td>\n",
       "      <td>3</td>\n",
       "      <td>2.70</td>\n",
       "      <td>16</td>\n",
       "      <td>51.000000</td>\n",
       "      <td>8</td>\n",
       "      <td>...</td>\n",
       "      <td>25.000000</td>\n",
       "      <td>0</td>\n",
       "      <td>Санкт-Петербург</td>\n",
       "      <td>18863.0</td>\n",
       "      <td>16028.0</td>\n",
       "      <td>1</td>\n",
       "      <td>482.0</td>\n",
       "      <td>2</td>\n",
       "      <td>755.0</td>\n",
       "      <td>NaN</td>\n",
       "    </tr>\n",
       "    <tr>\n",
       "      <th>1</th>\n",
       "      <td>1</td>\n",
       "      <td>7</td>\n",
       "      <td>3350000.0</td>\n",
       "      <td>40.4</td>\n",
       "      <td>2018-12-04</td>\n",
       "      <td>1</td>\n",
       "      <td>2.65</td>\n",
       "      <td>11</td>\n",
       "      <td>18.600000</td>\n",
       "      <td>1</td>\n",
       "      <td>...</td>\n",
       "      <td>11.000000</td>\n",
       "      <td>2</td>\n",
       "      <td>посёлок Шушары</td>\n",
       "      <td>12817.0</td>\n",
       "      <td>18603.0</td>\n",
       "      <td>0</td>\n",
       "      <td>NaN</td>\n",
       "      <td>0</td>\n",
       "      <td>NaN</td>\n",
       "      <td>81.0</td>\n",
       "    </tr>\n",
       "    <tr>\n",
       "      <th>2</th>\n",
       "      <td>2</td>\n",
       "      <td>10</td>\n",
       "      <td>5196000.0</td>\n",
       "      <td>56.0</td>\n",
       "      <td>2015-08-20</td>\n",
       "      <td>2</td>\n",
       "      <td>2.65</td>\n",
       "      <td>5</td>\n",
       "      <td>34.300000</td>\n",
       "      <td>4</td>\n",
       "      <td>...</td>\n",
       "      <td>8.300000</td>\n",
       "      <td>0</td>\n",
       "      <td>Санкт-Петербург</td>\n",
       "      <td>21741.0</td>\n",
       "      <td>13933.0</td>\n",
       "      <td>1</td>\n",
       "      <td>90.0</td>\n",
       "      <td>2</td>\n",
       "      <td>574.0</td>\n",
       "      <td>558.0</td>\n",
       "    </tr>\n",
       "    <tr>\n",
       "      <th>3</th>\n",
       "      <td>3</td>\n",
       "      <td>0</td>\n",
       "      <td>64900000.0</td>\n",
       "      <td>159.0</td>\n",
       "      <td>2015-07-24</td>\n",
       "      <td>3</td>\n",
       "      <td>2.65</td>\n",
       "      <td>14</td>\n",
       "      <td>90.289724</td>\n",
       "      <td>9</td>\n",
       "      <td>...</td>\n",
       "      <td>27.413793</td>\n",
       "      <td>0</td>\n",
       "      <td>Санкт-Петербург</td>\n",
       "      <td>28098.0</td>\n",
       "      <td>6800.0</td>\n",
       "      <td>2</td>\n",
       "      <td>84.0</td>\n",
       "      <td>3</td>\n",
       "      <td>234.0</td>\n",
       "      <td>424.0</td>\n",
       "    </tr>\n",
       "    <tr>\n",
       "      <th>4</th>\n",
       "      <td>4</td>\n",
       "      <td>2</td>\n",
       "      <td>10000000.0</td>\n",
       "      <td>100.0</td>\n",
       "      <td>2018-06-19</td>\n",
       "      <td>2</td>\n",
       "      <td>3.03</td>\n",
       "      <td>14</td>\n",
       "      <td>32.000000</td>\n",
       "      <td>13</td>\n",
       "      <td>...</td>\n",
       "      <td>41.000000</td>\n",
       "      <td>0</td>\n",
       "      <td>Санкт-Петербург</td>\n",
       "      <td>31856.0</td>\n",
       "      <td>8098.0</td>\n",
       "      <td>2</td>\n",
       "      <td>112.0</td>\n",
       "      <td>1</td>\n",
       "      <td>48.0</td>\n",
       "      <td>121.0</td>\n",
       "    </tr>\n",
       "  </tbody>\n",
       "</table>\n",
       "<p>5 rows × 23 columns</p>\n",
       "</div>"
      ],
      "text/plain": [
       "   Unnamed: 0  total_images  last_price  total_area first_day_exposition  \\\n",
       "0           0            20  13000000.0       108.0           2019-03-07   \n",
       "1           1             7   3350000.0        40.4           2018-12-04   \n",
       "2           2            10   5196000.0        56.0           2015-08-20   \n",
       "3           3             0  64900000.0       159.0           2015-07-24   \n",
       "4           4             2  10000000.0       100.0           2018-06-19   \n",
       "\n",
       "   rooms  ceiling_height  floors_total  living_area  floor  ...  kitchen_area  \\\n",
       "0      3            2.70            16    51.000000      8  ...     25.000000   \n",
       "1      1            2.65            11    18.600000      1  ...     11.000000   \n",
       "2      2            2.65             5    34.300000      4  ...      8.300000   \n",
       "3      3            2.65            14    90.289724      9  ...     27.413793   \n",
       "4      2            3.03            14    32.000000     13  ...     41.000000   \n",
       "\n",
       "   balcony    locality_name  airports_nearest  city_centers_nearest  \\\n",
       "0        0  Санкт-Петербург           18863.0               16028.0   \n",
       "1        2   посёлок Шушары           12817.0               18603.0   \n",
       "2        0  Санкт-Петербург           21741.0               13933.0   \n",
       "3        0  Санкт-Петербург           28098.0                6800.0   \n",
       "4        0  Санкт-Петербург           31856.0                8098.0   \n",
       "\n",
       "  parks_around_3000  parks_nearest  ponds_around_3000  ponds_nearest  \\\n",
       "0                 1          482.0                  2          755.0   \n",
       "1                 0            NaN                  0            NaN   \n",
       "2                 1           90.0                  2          574.0   \n",
       "3                 2           84.0                  3          234.0   \n",
       "4                 2          112.0                  1           48.0   \n",
       "\n",
       "   days_exposition  \n",
       "0              NaN  \n",
       "1             81.0  \n",
       "2            558.0  \n",
       "3            424.0  \n",
       "4            121.0  \n",
       "\n",
       "[5 rows x 23 columns]"
      ]
     },
     "metadata": {},
     "output_type": "display_data"
    }
   ],
   "source": [
    "# изменение типов данных столбцов\n",
    "data['is_apartment'] = data['is_apartment'].astype('bool') \n",
    "data['balcony'] = data['balcony'].astype('int')\n",
    "data['parks_around_3000'] = data['parks_around_3000'].astype('Int64')\n",
    "data['ponds_around_3000'] = data['ponds_around_3000'].astype('Int64')\n",
    "data['floors_total'] = data['floors_total'].astype('Int64')\n",
    "data['first_day_exposition'] = pd.to_datetime(data['first_day_exposition'], format='%Y-%m-%dT%H:%M:%S')\n",
    "\n",
    "# проверка внесенных изменений \n",
    "data.info() \n",
    "display(data.head())"
   ]
  },
  {
   "cell_type": "markdown",
   "metadata": {},
   "source": [
    "## Расчёты и добавление результатов в таблицу"
   ]
  },
  {
   "cell_type": "code",
   "execution_count": 31,
   "metadata": {
    "scrolled": true
   },
   "outputs": [
    {
     "data": {
      "text/html": [
       "<div>\n",
       "<style scoped>\n",
       "    .dataframe tbody tr th:only-of-type {\n",
       "        vertical-align: middle;\n",
       "    }\n",
       "\n",
       "    .dataframe tbody tr th {\n",
       "        vertical-align: top;\n",
       "    }\n",
       "\n",
       "    .dataframe thead th {\n",
       "        text-align: right;\n",
       "    }\n",
       "</style>\n",
       "<table border=\"1\" class=\"dataframe\">\n",
       "  <thead>\n",
       "    <tr style=\"text-align: right;\">\n",
       "      <th></th>\n",
       "      <th>Unnamed: 0</th>\n",
       "      <th>total_images</th>\n",
       "      <th>last_price</th>\n",
       "      <th>total_area</th>\n",
       "      <th>first_day_exposition</th>\n",
       "      <th>rooms</th>\n",
       "      <th>ceiling_height</th>\n",
       "      <th>floors_total</th>\n",
       "      <th>living_area</th>\n",
       "      <th>floor</th>\n",
       "      <th>...</th>\n",
       "      <th>ponds_around_3000</th>\n",
       "      <th>ponds_nearest</th>\n",
       "      <th>days_exposition</th>\n",
       "      <th>price_of_meter</th>\n",
       "      <th>day</th>\n",
       "      <th>month</th>\n",
       "      <th>year</th>\n",
       "      <th>living_on_total_area</th>\n",
       "      <th>kitchen_on_total_area</th>\n",
       "      <th>type_of_floor</th>\n",
       "    </tr>\n",
       "  </thead>\n",
       "  <tbody>\n",
       "    <tr>\n",
       "      <th>0</th>\n",
       "      <td>0</td>\n",
       "      <td>20</td>\n",
       "      <td>13000000.0</td>\n",
       "      <td>108.00</td>\n",
       "      <td>2019-03-07</td>\n",
       "      <td>3</td>\n",
       "      <td>2.70</td>\n",
       "      <td>16</td>\n",
       "      <td>51.000000</td>\n",
       "      <td>8</td>\n",
       "      <td>...</td>\n",
       "      <td>2</td>\n",
       "      <td>755.0</td>\n",
       "      <td>NaN</td>\n",
       "      <td>120370</td>\n",
       "      <td>7</td>\n",
       "      <td>3</td>\n",
       "      <td>2019</td>\n",
       "      <td>0.47</td>\n",
       "      <td>0.23</td>\n",
       "      <td>Другой</td>\n",
       "    </tr>\n",
       "    <tr>\n",
       "      <th>1</th>\n",
       "      <td>1</td>\n",
       "      <td>7</td>\n",
       "      <td>3350000.0</td>\n",
       "      <td>40.40</td>\n",
       "      <td>2018-12-04</td>\n",
       "      <td>1</td>\n",
       "      <td>2.65</td>\n",
       "      <td>11</td>\n",
       "      <td>18.600000</td>\n",
       "      <td>1</td>\n",
       "      <td>...</td>\n",
       "      <td>0</td>\n",
       "      <td>NaN</td>\n",
       "      <td>81.0</td>\n",
       "      <td>82921</td>\n",
       "      <td>4</td>\n",
       "      <td>12</td>\n",
       "      <td>2018</td>\n",
       "      <td>0.46</td>\n",
       "      <td>0.27</td>\n",
       "      <td>Первый</td>\n",
       "    </tr>\n",
       "    <tr>\n",
       "      <th>2</th>\n",
       "      <td>2</td>\n",
       "      <td>10</td>\n",
       "      <td>5196000.0</td>\n",
       "      <td>56.00</td>\n",
       "      <td>2015-08-20</td>\n",
       "      <td>2</td>\n",
       "      <td>2.65</td>\n",
       "      <td>5</td>\n",
       "      <td>34.300000</td>\n",
       "      <td>4</td>\n",
       "      <td>...</td>\n",
       "      <td>2</td>\n",
       "      <td>574.0</td>\n",
       "      <td>558.0</td>\n",
       "      <td>92786</td>\n",
       "      <td>20</td>\n",
       "      <td>8</td>\n",
       "      <td>2015</td>\n",
       "      <td>0.61</td>\n",
       "      <td>0.15</td>\n",
       "      <td>Другой</td>\n",
       "    </tr>\n",
       "    <tr>\n",
       "      <th>3</th>\n",
       "      <td>3</td>\n",
       "      <td>0</td>\n",
       "      <td>64900000.0</td>\n",
       "      <td>159.00</td>\n",
       "      <td>2015-07-24</td>\n",
       "      <td>3</td>\n",
       "      <td>2.65</td>\n",
       "      <td>14</td>\n",
       "      <td>90.289724</td>\n",
       "      <td>9</td>\n",
       "      <td>...</td>\n",
       "      <td>3</td>\n",
       "      <td>234.0</td>\n",
       "      <td>424.0</td>\n",
       "      <td>408176</td>\n",
       "      <td>24</td>\n",
       "      <td>7</td>\n",
       "      <td>2015</td>\n",
       "      <td>0.57</td>\n",
       "      <td>0.17</td>\n",
       "      <td>Другой</td>\n",
       "    </tr>\n",
       "    <tr>\n",
       "      <th>4</th>\n",
       "      <td>4</td>\n",
       "      <td>2</td>\n",
       "      <td>10000000.0</td>\n",
       "      <td>100.00</td>\n",
       "      <td>2018-06-19</td>\n",
       "      <td>2</td>\n",
       "      <td>3.03</td>\n",
       "      <td>14</td>\n",
       "      <td>32.000000</td>\n",
       "      <td>13</td>\n",
       "      <td>...</td>\n",
       "      <td>1</td>\n",
       "      <td>48.0</td>\n",
       "      <td>121.0</td>\n",
       "      <td>100000</td>\n",
       "      <td>19</td>\n",
       "      <td>6</td>\n",
       "      <td>2018</td>\n",
       "      <td>0.32</td>\n",
       "      <td>0.41</td>\n",
       "      <td>Другой</td>\n",
       "    </tr>\n",
       "    <tr>\n",
       "      <th>...</th>\n",
       "      <td>...</td>\n",
       "      <td>...</td>\n",
       "      <td>...</td>\n",
       "      <td>...</td>\n",
       "      <td>...</td>\n",
       "      <td>...</td>\n",
       "      <td>...</td>\n",
       "      <td>...</td>\n",
       "      <td>...</td>\n",
       "      <td>...</td>\n",
       "      <td>...</td>\n",
       "      <td>...</td>\n",
       "      <td>...</td>\n",
       "      <td>...</td>\n",
       "      <td>...</td>\n",
       "      <td>...</td>\n",
       "      <td>...</td>\n",
       "      <td>...</td>\n",
       "      <td>...</td>\n",
       "      <td>...</td>\n",
       "      <td>...</td>\n",
       "    </tr>\n",
       "    <tr>\n",
       "      <th>23694</th>\n",
       "      <td>23694</td>\n",
       "      <td>9</td>\n",
       "      <td>9700000.0</td>\n",
       "      <td>133.81</td>\n",
       "      <td>2017-03-21</td>\n",
       "      <td>3</td>\n",
       "      <td>3.70</td>\n",
       "      <td>5</td>\n",
       "      <td>73.300000</td>\n",
       "      <td>3</td>\n",
       "      <td>...</td>\n",
       "      <td>3</td>\n",
       "      <td>381.0</td>\n",
       "      <td>NaN</td>\n",
       "      <td>72491</td>\n",
       "      <td>21</td>\n",
       "      <td>3</td>\n",
       "      <td>2017</td>\n",
       "      <td>0.55</td>\n",
       "      <td>0.10</td>\n",
       "      <td>Другой</td>\n",
       "    </tr>\n",
       "    <tr>\n",
       "      <th>23695</th>\n",
       "      <td>23695</td>\n",
       "      <td>14</td>\n",
       "      <td>3100000.0</td>\n",
       "      <td>59.00</td>\n",
       "      <td>2018-01-15</td>\n",
       "      <td>3</td>\n",
       "      <td>2.65</td>\n",
       "      <td>5</td>\n",
       "      <td>38.000000</td>\n",
       "      <td>4</td>\n",
       "      <td>...</td>\n",
       "      <td>&lt;NA&gt;</td>\n",
       "      <td>NaN</td>\n",
       "      <td>45.0</td>\n",
       "      <td>52542</td>\n",
       "      <td>15</td>\n",
       "      <td>1</td>\n",
       "      <td>2018</td>\n",
       "      <td>0.64</td>\n",
       "      <td>0.14</td>\n",
       "      <td>Другой</td>\n",
       "    </tr>\n",
       "    <tr>\n",
       "      <th>23696</th>\n",
       "      <td>23696</td>\n",
       "      <td>18</td>\n",
       "      <td>2500000.0</td>\n",
       "      <td>56.70</td>\n",
       "      <td>2018-02-11</td>\n",
       "      <td>2</td>\n",
       "      <td>2.65</td>\n",
       "      <td>3</td>\n",
       "      <td>29.700000</td>\n",
       "      <td>1</td>\n",
       "      <td>...</td>\n",
       "      <td>&lt;NA&gt;</td>\n",
       "      <td>NaN</td>\n",
       "      <td>NaN</td>\n",
       "      <td>44092</td>\n",
       "      <td>11</td>\n",
       "      <td>2</td>\n",
       "      <td>2018</td>\n",
       "      <td>0.52</td>\n",
       "      <td>0.17</td>\n",
       "      <td>Первый</td>\n",
       "    </tr>\n",
       "    <tr>\n",
       "      <th>23697</th>\n",
       "      <td>23697</td>\n",
       "      <td>13</td>\n",
       "      <td>11475000.0</td>\n",
       "      <td>76.75</td>\n",
       "      <td>2017-03-28</td>\n",
       "      <td>2</td>\n",
       "      <td>3.00</td>\n",
       "      <td>17</td>\n",
       "      <td>43.583247</td>\n",
       "      <td>12</td>\n",
       "      <td>...</td>\n",
       "      <td>3</td>\n",
       "      <td>196.0</td>\n",
       "      <td>602.0</td>\n",
       "      <td>149511</td>\n",
       "      <td>28</td>\n",
       "      <td>3</td>\n",
       "      <td>2017</td>\n",
       "      <td>0.57</td>\n",
       "      <td>0.30</td>\n",
       "      <td>Другой</td>\n",
       "    </tr>\n",
       "    <tr>\n",
       "      <th>23698</th>\n",
       "      <td>23698</td>\n",
       "      <td>4</td>\n",
       "      <td>1350000.0</td>\n",
       "      <td>32.30</td>\n",
       "      <td>2017-07-21</td>\n",
       "      <td>1</td>\n",
       "      <td>2.50</td>\n",
       "      <td>5</td>\n",
       "      <td>12.300000</td>\n",
       "      <td>1</td>\n",
       "      <td>...</td>\n",
       "      <td>&lt;NA&gt;</td>\n",
       "      <td>NaN</td>\n",
       "      <td>NaN</td>\n",
       "      <td>41796</td>\n",
       "      <td>21</td>\n",
       "      <td>7</td>\n",
       "      <td>2017</td>\n",
       "      <td>0.38</td>\n",
       "      <td>0.28</td>\n",
       "      <td>Первый</td>\n",
       "    </tr>\n",
       "  </tbody>\n",
       "</table>\n",
       "<p>23699 rows × 30 columns</p>\n",
       "</div>"
      ],
      "text/plain": [
       "       Unnamed: 0  total_images  last_price  total_area first_day_exposition  \\\n",
       "0               0            20  13000000.0      108.00           2019-03-07   \n",
       "1               1             7   3350000.0       40.40           2018-12-04   \n",
       "2               2            10   5196000.0       56.00           2015-08-20   \n",
       "3               3             0  64900000.0      159.00           2015-07-24   \n",
       "4               4             2  10000000.0      100.00           2018-06-19   \n",
       "...           ...           ...         ...         ...                  ...   \n",
       "23694       23694             9   9700000.0      133.81           2017-03-21   \n",
       "23695       23695            14   3100000.0       59.00           2018-01-15   \n",
       "23696       23696            18   2500000.0       56.70           2018-02-11   \n",
       "23697       23697            13  11475000.0       76.75           2017-03-28   \n",
       "23698       23698             4   1350000.0       32.30           2017-07-21   \n",
       "\n",
       "       rooms  ceiling_height  floors_total  living_area  floor  ...  \\\n",
       "0          3            2.70            16    51.000000      8  ...   \n",
       "1          1            2.65            11    18.600000      1  ...   \n",
       "2          2            2.65             5    34.300000      4  ...   \n",
       "3          3            2.65            14    90.289724      9  ...   \n",
       "4          2            3.03            14    32.000000     13  ...   \n",
       "...      ...             ...           ...          ...    ...  ...   \n",
       "23694      3            3.70             5    73.300000      3  ...   \n",
       "23695      3            2.65             5    38.000000      4  ...   \n",
       "23696      2            2.65             3    29.700000      1  ...   \n",
       "23697      2            3.00            17    43.583247     12  ...   \n",
       "23698      1            2.50             5    12.300000      1  ...   \n",
       "\n",
       "       ponds_around_3000  ponds_nearest  days_exposition  price_of_meter  day  \\\n",
       "0                      2          755.0              NaN          120370    7   \n",
       "1                      0            NaN             81.0           82921    4   \n",
       "2                      2          574.0            558.0           92786   20   \n",
       "3                      3          234.0            424.0          408176   24   \n",
       "4                      1           48.0            121.0          100000   19   \n",
       "...                  ...            ...              ...             ...  ...   \n",
       "23694                  3          381.0              NaN           72491   21   \n",
       "23695               <NA>            NaN             45.0           52542   15   \n",
       "23696               <NA>            NaN              NaN           44092   11   \n",
       "23697                  3          196.0            602.0          149511   28   \n",
       "23698               <NA>            NaN              NaN           41796   21   \n",
       "\n",
       "      month  year  living_on_total_area  kitchen_on_total_area  type_of_floor  \n",
       "0         3  2019                  0.47                   0.23         Другой  \n",
       "1        12  2018                  0.46                   0.27         Первый  \n",
       "2         8  2015                  0.61                   0.15         Другой  \n",
       "3         7  2015                  0.57                   0.17         Другой  \n",
       "4         6  2018                  0.32                   0.41         Другой  \n",
       "...     ...   ...                   ...                    ...            ...  \n",
       "23694     3  2017                  0.55                   0.10         Другой  \n",
       "23695     1  2018                  0.64                   0.14         Другой  \n",
       "23696     2  2018                  0.52                   0.17         Первый  \n",
       "23697     3  2017                  0.57                   0.30         Другой  \n",
       "23698     7  2017                  0.38                   0.28         Первый  \n",
       "\n",
       "[23699 rows x 30 columns]"
      ]
     },
     "metadata": {},
     "output_type": "display_data"
    }
   ],
   "source": [
    "# функция для определения этажа\n",
    "def type_of_floor(row): \n",
    "    floor = row['floor']\n",
    "    last_floor = row['floors_total']\n",
    "    \n",
    "    try:\n",
    "        if floor == 1:\n",
    "            return 'Первый'\n",
    "        elif floor == last_floor:\n",
    "            return 'Последний'\n",
    "        else:\n",
    "            return 'Другой'\n",
    "    except:\n",
    "        return 'Другой'\n",
    "\n",
    "# добавление столбцов\n",
    "data['price_of_meter'] = round(data['last_price'] / data['total_area']).astype('int') # цена за метр\n",
    "data['day'] = pd.DatetimeIndex(data['first_day_exposition']).day                      # день публикации объявления\n",
    "data['month'] = pd.DatetimeIndex(data['first_day_exposition']).month                  # месяц публикации объявления\n",
    "data['year'] = pd.DatetimeIndex(data['first_day_exposition']).year                    # год публикации объявления\n",
    "data['living_on_total_area'] = round(data['living_area'] / data['total_area'], 2)     # соотношение жилой площади к общей\n",
    "data['kitchen_on_total_area'] = round(data['kitchen_area'] / data['total_area'], 2)   # соотношение площади кухни к общей\n",
    "data['type_of_floor'] = data.apply(type_of_floor, axis=1)                             # тип этажа\n",
    "    \n",
    "# проверка добавления \n",
    "display(data) "
   ]
  },
  {
   "cell_type": "markdown",
   "metadata": {},
   "source": [
    "## Исследовательский анализ данных"
   ]
  },
  {
   "cell_type": "markdown",
   "metadata": {},
   "source": [
    "* Основное количество квартир представлено с площадью от <b>40 до 70 квадратных метров</b>. <br>\n",
    "* Основной <b>диапозон цен от 3,5 до почти 7 миллионов</b>, медианное значение - 4,7 миллионов. <br>\n",
    "* Больше 90% объявлений <b>однокомнатные, двухкомнатные и трехкомнатные квартиры</b>. Однокомнатных и двухкомнатных почти равное количество, но однокомнатных все равно чуть-чуть больше. Количество трехкомнатных квартир примерно на 25% меньше от пикового значения. <br>\n",
    "* Почти все квартиры по высоте потолков входят в <b>диапозон от 2.5 до 2.8 метров</b>."
   ]
  },
  {
   "cell_type": "code",
   "execution_count": 32,
   "metadata": {
    "scrolled": true
   },
   "outputs": [
    {
     "data": {
      "text/plain": [
       "<AxesSubplot:ylabel='Frequency'>"
      ]
     },
     "metadata": {},
     "output_type": "display_data"
    },
    {
     "data": {
      "text/plain": [
       "<AxesSubplot:>"
      ]
     },
     "metadata": {},
     "output_type": "display_data"
    },
    {
     "data": {
      "text/plain": [
       "count    23699.000000\n",
       "mean        60.348651\n",
       "std         35.654083\n",
       "min         12.000000\n",
       "25%         40.000000\n",
       "50%         52.000000\n",
       "75%         69.900000\n",
       "max        900.000000\n",
       "Name: total_area, dtype: float64"
      ]
     },
     "metadata": {},
     "output_type": "display_data"
    },
    {
     "data": {
      "text/plain": [
       "<AxesSubplot:ylabel='Frequency'>"
      ]
     },
     "metadata": {},
     "output_type": "display_data"
    },
    {
     "data": {
      "text/plain": [
       "<AxesSubplot:>"
      ]
     },
     "metadata": {},
     "output_type": "display_data"
    },
    {
     "data": {
      "text/plain": [
       "count    2.369900e+04\n",
       "mean     6.541549e+06\n",
       "std      1.088701e+07\n",
       "min      1.219000e+04\n",
       "25%      3.400000e+06\n",
       "50%      4.650000e+06\n",
       "75%      6.800000e+06\n",
       "max      7.630000e+08\n",
       "Name: last_price, dtype: float64"
      ]
     },
     "metadata": {},
     "output_type": "display_data"
    },
    {
     "data": {
      "text/plain": [
       "<AxesSubplot:ylabel='Frequency'>"
      ]
     },
     "metadata": {},
     "output_type": "display_data"
    },
    {
     "data": {
      "text/plain": [
       "<AxesSubplot:>"
      ]
     },
     "metadata": {},
     "output_type": "display_data"
    },
    {
     "data": {
      "text/plain": [
       "count    23699.000000\n",
       "mean         2.070636\n",
       "std          1.078405\n",
       "min          0.000000\n",
       "25%          1.000000\n",
       "50%          2.000000\n",
       "75%          3.000000\n",
       "max         19.000000\n",
       "Name: rooms, dtype: float64"
      ]
     },
     "metadata": {},
     "output_type": "display_data"
    },
    {
     "data": {
      "text/plain": [
       "1     8047\n",
       "2     7940\n",
       "3     5814\n",
       "4     1180\n",
       "5      326\n",
       "0      197\n",
       "6      105\n",
       "7       59\n",
       "8       12\n",
       "9        8\n",
       "10       3\n",
       "11       2\n",
       "14       2\n",
       "19       1\n",
       "16       1\n",
       "12       1\n",
       "15       1\n",
       "Name: rooms, dtype: int64"
      ]
     },
     "metadata": {},
     "output_type": "display_data"
    },
    {
     "data": {
      "text/plain": [
       "<AxesSubplot:ylabel='Frequency'>"
      ]
     },
     "metadata": {},
     "output_type": "display_data"
    },
    {
     "data": {
      "text/plain": [
       "<AxesSubplot:>"
      ]
     },
     "metadata": {},
     "output_type": "display_data"
    },
    {
     "data": {
      "text/plain": [
       "count    23699.000000\n",
       "mean         2.724358\n",
       "std          0.988298\n",
       "min          1.000000\n",
       "25%          2.600000\n",
       "50%          2.650000\n",
       "75%          2.700000\n",
       "max        100.000000\n",
       "Name: ceiling_height, dtype: float64"
      ]
     },
     "metadata": {},
     "output_type": "display_data"
    },
    {
     "data": {
      "image/png": "[encoded data removed]",
      "text/plain": [
       "<Figure size 432x288 with 1 Axes>"
      ]
     },
     "metadata": {
      "needs_background": "light"
     },
     "output_type": "display_data"
    },
    {
     "data": {
      "image/png": "[encoded data removed]",
      "text/plain": [
       "<Figure size 432x288 with 1 Axes>"
      ]
     },
     "metadata": {
      "needs_background": "light"
     },
     "output_type": "display_data"
    },
    {
     "data": {
      "image/png": "[encoded data removed]",
      "text/plain": [
       "<Figure size 432x288 with 1 Axes>"
      ]
     },
     "metadata": {
      "needs_background": "light"
     },
     "output_type": "display_data"
    },
    {
     "data": {
      "image/png": "[encoded data removed]",
      "text/plain": [
       "<Figure size 432x288 with 1 Axes>"
      ]
     },
     "metadata": {
      "needs_background": "light"
     },
     "output_type": "display_data"
    },
    {
     "data": {
      "image/png": "[encoded data removed]",
      "text/plain": [
       "<Figure size 432x288 with 1 Axes>"
      ]
     },
     "metadata": {
      "needs_background": "light"
     },
     "output_type": "display_data"
    },
    {
     "data": {
      "image/png": "[encoded data removed]",
      "text/plain": [
       "<Figure size 432x288 with 1 Axes>"
      ]
     },
     "metadata": {
      "needs_background": "light"
     },
     "output_type": "display_data"
    },
    {
     "data": {
      "image/png": "[encoded data removed]",
      "text/plain": [
       "<Figure size 432x288 with 1 Axes>"
      ]
     },
     "metadata": {
      "needs_background": "light"
     },
     "output_type": "display_data"
    },
    {
     "data": {
      "image/png": "[encoded data removed]",
      "text/plain": [
       "<Figure size 432x288 with 1 Axes>"
      ]
     },
     "metadata": {
      "needs_background": "light"
     },
     "output_type": "display_data"
    }
   ],
   "source": [
    "# гистограмма, ящик с усами и статистические данные для общей площади\n",
    "display(data.plot(y='total_area', kind='hist', bins=50, range=(0, 100), grid=True))\n",
    "display(data.plot(y='total_area', kind='box', ylim=(0, 100), grid=True))\n",
    "display(data['total_area'].describe())\n",
    "\n",
    "# гистограмма, ящик с усами и статистические данные для цены\n",
    "display(data.plot(y='last_price', kind='hist', bins=50, range=(0, 10000000), grid=True))\n",
    "display(data.plot(y='last_price', kind='box', ylim=(0, 10000000), grid=True))\n",
    "display(data['last_price'].describe())\n",
    "\n",
    "# гистограмма, ящик с усами, статистические данные и количество значений для количества комнат\n",
    "display(data.plot(y='rooms', kind='hist', bins=10, range=(0, 7), grid=True))\n",
    "display(data.plot(y='rooms', kind='box', ylim=(0, 7), grid=True))\n",
    "display(data['rooms'].describe())\n",
    "display(data['rooms'].value_counts())\n",
    "\n",
    "# гистограмма, ящик с усами и статистические данные для высоты потолка\n",
    "display(data.plot(y='ceiling_height', kind='hist', bins=10, range=(2.25, 3.25), grid=True))\n",
    "display(data.plot(y='ceiling_height', kind='box', ylim=(2.25, 3), grid=True))\n",
    "display(data['ceiling_height'].describe())"
   ]
  },
  {
   "cell_type": "markdown",
   "metadata": {},
   "source": [
    "* Продажа квартиры <b> в среднем занимает чуть больше 3-х месяцев, а именно 95 дней </b>, это число соответствует медианному значению по столбцу <b> 'days_exposition' </b>. Выбор медианного значение вместо среднего обусловлен большим количеством выбросов, значений, которые сильно выбиваются из основной массы. <br>\n",
    "* Логично считать очень быстрыми продажами, значения меньше первого квартиля Q1, то есть <b> меньше 45 дней. </b> <br>\n",
    "* Точно так же поступим и с выявлением необычно долгих продаж, очень долгие продажи - продажи больше третьего квартиля Q3, <b> больше 232 дней. </b> <br>\n",
    "* Наибольшее количество продаж (мода) приходится на срок от <b>40-50 дней, иными словами, полтора месяца с момента публикации.</b> "
   ]
  },
  {
   "cell_type": "code",
   "execution_count": 33,
   "metadata": {
    "scrolled": true
   },
   "outputs": [
    {
     "data": {
      "text/plain": [
       "95.0"
      ]
     },
     "metadata": {},
     "output_type": "display_data"
    },
    {
     "data": {
      "text/plain": [
       "'Медиана'"
      ]
     },
     "metadata": {},
     "output_type": "display_data"
    },
    {
     "data": {
      "text/plain": [
       "180.88863436982163"
      ]
     },
     "metadata": {},
     "output_type": "display_data"
    },
    {
     "data": {
      "text/plain": [
       "'Среднее значение'"
      ]
     },
     "metadata": {},
     "output_type": "display_data"
    },
    {
     "data": {
      "text/plain": [
       "count    20518.000000\n",
       "mean       180.888634\n",
       "std        219.727988\n",
       "min          1.000000\n",
       "25%         45.000000\n",
       "50%         95.000000\n",
       "75%        232.000000\n",
       "max       1580.000000\n",
       "Name: days_exposition, dtype: float64"
      ]
     },
     "metadata": {},
     "output_type": "display_data"
    },
    {
     "data": {
      "text/plain": [
       "<AxesSubplot:ylabel='Frequency'>"
      ]
     },
     "metadata": {},
     "output_type": "display_data"
    },
    {
     "data": {
      "text/plain": [
       "<AxesSubplot:>"
      ]
     },
     "metadata": {},
     "output_type": "display_data"
    },
    {
     "data": {
      "text/plain": [
       "count    16604.000000\n",
       "mean        93.106360\n",
       "std         75.008386\n",
       "min          1.000000\n",
       "25%         35.000000\n",
       "50%         68.000000\n",
       "75%        138.000000\n",
       "max        300.000000\n",
       "Name: days_exposition, dtype: float64"
      ]
     },
     "metadata": {},
     "output_type": "display_data"
    },
    {
     "data": {
      "image/png": "[encoded data removed]",
      "text/plain": [
       "<Figure size 432x288 with 1 Axes>"
      ]
     },
     "metadata": {
      "needs_background": "light"
     },
     "output_type": "display_data"
    },
    {
     "data": {
      "image/png": "[encoded data removed]",
      "text/plain": [
       "<Figure size 432x288 with 1 Axes>"
      ]
     },
     "metadata": {
      "needs_background": "light"
     },
     "output_type": "display_data"
    }
   ],
   "source": [
    "# медианна, среднее значение и остальные статистические данные для времени продажи \n",
    "display(data['days_exposition'].median(), 'Медиана')\n",
    "display(data['days_exposition'].mean(), 'Среднее значение')\n",
    "display(data['days_exposition'].describe())\n",
    "\n",
    "# гистограмма и диаграмма размаха для времени продажи\n",
    "display(data.plot(y='days_exposition', kind='hist', bins=50, range=(0, 350), grid=True))\n",
    "display(data.plot(y='days_exposition', kind='box', ylim=(0, 350), grid=True))\n",
    "\n",
    "display(data.query('days_exposition <= 300')['days_exposition'].describe())"
   ]
  },
  {
   "cell_type": "markdown",
   "metadata": {},
   "source": [
    "<b> Зависимость цены квартиры от разных параметров: </b> <br>\n",
    "Для рассчета среднего показателя было взято медианное значение, так как в данных присутствуют выбросы. <br>\n",
    "* Коэффициент корреляции между общей площадью и ценой 0.65, показывает <b>умеренную зависимость</b>. <br>\n",
    "* Зависимость от количества комнат - <b>положительная и слабая</b>, коэффициент корреляции 0.36. <br>\n",
    "* <b>Очень слабая отрицательная</b> зависимость между ценой и удаленностью от центра по общим данным, коэффициент корреляции -0.2. <br>\n",
    "* <b>Зависимость цены от дня продажи не выявлена</b>, на графике нет ярко выраженного восходящего или нисходящего тренда. <br>\n",
    "* Средняя цена продажи квартиры достигает <b>пикового значения в апреле</b>, и падает до <b>минимального значения к июню</b> (почти на 10%). <br>\n",
    "* Средняя стоимость квартиры в <b>2014 году составляет 7,75 миллионов</b> рублей, и <b>к 2016 году стремительно падает на 40%</b> и составляет 4,5 миллионов, держится на этом уровне еще два года, и <b>к 2019 году начинает расти</b>, прибавляя чуть больше 10%.<br>\n",
    "* Стоимость квартир <b>\"другого\" этажа в среднем выше</b> квартир на первом и последнем этажах примерно на 20%, также квартиры на <b>первом этаже стоят меньше всех остальных.</b>"
   ]
  },
  {
   "cell_type": "code",
   "execution_count": 34,
   "metadata": {
    "scrolled": true
   },
   "outputs": [
    {
     "data": {
      "text/plain": [
       "<AxesSubplot:xlabel='total_area', ylabel='last_price'>"
      ]
     },
     "metadata": {},
     "output_type": "display_data"
    },
    {
     "data": {
      "text/plain": [
       "<AxesSubplot:xlabel='total_area', ylabel='last_price'>"
      ]
     },
     "metadata": {},
     "output_type": "display_data"
    },
    {
     "data": {
      "text/plain": [
       "0.6536750579657242"
      ]
     },
     "metadata": {},
     "output_type": "display_data"
    },
    {
     "data": {
      "image/png": "[encoded data removed]",
      "text/plain": [
       "<Figure size 432x288 with 1 Axes>"
      ]
     },
     "metadata": {
      "needs_background": "light"
     },
     "output_type": "display_data"
    },
    {
     "data": {
      "image/png": "[encoded data removed]",
      "text/plain": [
       "<Figure size 432x288 with 2 Axes>"
      ]
     },
     "metadata": {
      "needs_background": "light"
     },
     "output_type": "display_data"
    }
   ],
   "source": [
    "# точечная диаграмма, ячеечная диаграмма и коэффициент корреляции для общей площади и цены\n",
    "display(data.plot(x='total_area', y='last_price', kind='scatter', xlim=(0, 100), ylim=(0, 10000000), alpha=0.1))\n",
    "display(data.plot(x='total_area', y='last_price', kind='hexbin', xlim=(0, 100), ylim=(0, 20000000)))\n",
    "display(data['total_area'].corr(data['last_price']))"
   ]
  },
  {
   "cell_type": "code",
   "execution_count": 35,
   "metadata": {
    "scrolled": true
   },
   "outputs": [
    {
     "data": {
      "text/plain": [
       "<AxesSubplot:xlabel='rooms', ylabel='last_price'>"
      ]
     },
     "metadata": {},
     "output_type": "display_data"
    },
    {
     "data": {
      "text/plain": [
       "<AxesSubplot:xlabel='rooms', ylabel='last_price'>"
      ]
     },
     "metadata": {},
     "output_type": "display_data"
    },
    {
     "data": {
      "text/plain": [
       "0.3633428499648948"
      ]
     },
     "metadata": {},
     "output_type": "display_data"
    },
    {
     "data": {
      "image/png": "[encoded data removed]",
      "text/plain": [
       "<Figure size 432x288 with 1 Axes>"
      ]
     },
     "metadata": {
      "needs_background": "light"
     },
     "output_type": "display_data"
    },
    {
     "data": {
      "image/png": "[encoded data removed]",
      "text/plain": [
       "<Figure size 432x288 with 2 Axes>"
      ]
     },
     "metadata": {
      "needs_background": "light"
     },
     "output_type": "display_data"
    }
   ],
   "source": [
    "# точечная диаграмма, ячеечная диаграмма и коэффициент корреляции для количества комнат и цены\n",
    "display(data.plot(x='rooms', y='last_price', kind='scatter', xlim=(-1, 6), ylim=(0, 20000000), alpha=0.02))\n",
    "display(data.plot(x='rooms', y='last_price', kind='hexbin', xlim=(0, 4), ylim=(0, 20000000)))\n",
    "display(data['rooms'].corr(data['last_price']))"
   ]
  },
  {
   "cell_type": "code",
   "execution_count": 36,
   "metadata": {
    "scrolled": true
   },
   "outputs": [
    {
     "data": {
      "text/plain": [
       "<AxesSubplot:xlabel='city_centers_nearest', ylabel='last_price'>"
      ]
     },
     "metadata": {},
     "output_type": "display_data"
    },
    {
     "data": {
      "text/plain": [
       "<AxesSubplot:xlabel='city_centers_nearest', ylabel='last_price'>"
      ]
     },
     "metadata": {},
     "output_type": "display_data"
    },
    {
     "data": {
      "text/plain": [
       "-0.20674734874298373"
      ]
     },
     "metadata": {},
     "output_type": "display_data"
    },
    {
     "data": {
      "image/png": "[encoded data removed]",
      "text/plain": [
       "<Figure size 432x288 with 1 Axes>"
      ]
     },
     "metadata": {
      "needs_background": "light"
     },
     "output_type": "display_data"
    },
    {
     "data": {
      "image/png": "[encoded data removed]",
      "text/plain": [
       "<Figure size 432x288 with 2 Axes>"
      ]
     },
     "metadata": {
      "needs_background": "light"
     },
     "output_type": "display_data"
    }
   ],
   "source": [
    "# точечная диаграмма, ячеечная диаграмма и коэффициент корреляции для расстояния до центра и цены\n",
    "display(data.plot(x='city_centers_nearest', y='last_price', kind='scatter', xlim=(0, 35000), ylim=(0, 20000000), alpha=0.02))\n",
    "display(data.plot(x='city_centers_nearest', y='last_price', kind='hexbin', xlim=(0, 25000), ylim=(0, 20000000)))\n",
    "display(data['city_centers_nearest'].corr(data['last_price'])) "
   ]
  },
  {
   "cell_type": "code",
   "execution_count": 37,
   "metadata": {
    "scrolled": true
   },
   "outputs": [
    {
     "data": {
      "text/plain": [
       "<AxesSubplot:xlabel='day'>"
      ]
     },
     "metadata": {},
     "output_type": "display_data"
    },
    {
     "data": {
      "text/plain": [
       "<AxesSubplot:xlabel='month'>"
      ]
     },
     "metadata": {},
     "output_type": "display_data"
    },
    {
     "data": {
      "text/plain": [
       "<AxesSubplot:xlabel='year'>"
      ]
     },
     "metadata": {},
     "output_type": "display_data"
    },
    {
     "data": {
      "text/plain": [
       "<AxesSubplot:xlabel='type_of_floor'>"
      ]
     },
     "metadata": {},
     "output_type": "display_data"
    },
    {
     "data": {
      "image/png": "[encoded data removed]",
      "text/plain": [
       "<Figure size 432x288 with 1 Axes>"
      ]
     },
     "metadata": {
      "needs_background": "light"
     },
     "output_type": "display_data"
    },
    {
     "data": {
      "image/png": "[encoded data removed]",
      "text/plain": [
       "<Figure size 432x288 with 1 Axes>"
      ]
     },
     "metadata": {
      "needs_background": "light"
     },
     "output_type": "display_data"
    },
    {
     "data": {
      "image/png": "[encoded data removed]",
      "text/plain": [
       "<Figure size 432x288 with 1 Axes>"
      ]
     },
     "metadata": {
      "needs_background": "light"
     },
     "output_type": "display_data"
    },
    {
     "data": {
      "image/png": "[encoded data removed]",
      "text/plain": [
       "<Figure size 432x288 with 1 Axes>"
      ]
     },
     "metadata": {
      "needs_background": "light"
     },
     "output_type": "display_data"
    }
   ],
   "source": [
    "# линейный графики для дня, месяца, года и типа этажа\n",
    "\n",
    "display(data.pivot_table(index='day', values='last_price', aggfunc='median').\n",
    "        plot(y='last_price', ylim=(4200000, 5000000), grid=True))\n",
    "\n",
    "display(data.pivot_table(index='month', values='last_price', aggfunc='median').\n",
    "        plot(y='last_price', ylim=(4350000, 4850000), grid=True))\n",
    "\n",
    "display(data.pivot_table(index='year', values='last_price', aggfunc='median').\n",
    "        plot(y='last_price', ylim=(4000000, 8000000), grid=True))\n",
    "\n",
    "display(data.pivot_table(index='type_of_floor', values='last_price', aggfunc='median').\n",
    "        plot(y='last_price', ylim=(3800000, 5000000), grid=True))"
   ]
  },
  {
   "cell_type": "markdown",
   "metadata": {},
   "source": [
    "* Самая высокая стоимость жилья в <b>Санкт-Петербурге</b>, составляет <b>114 849 рублей</b> за квадратный метр. <br>\n",
    "* Самая низкая - в <b>Выборге</b>, составляет <b>58 141</b> рублей за квадратный метр. "
   ]
  },
  {
   "cell_type": "code",
   "execution_count": 38,
   "metadata": {
    "scrolled": true
   },
   "outputs": [
    {
     "data": {
      "text/html": [
       "<div>\n",
       "<style scoped>\n",
       "    .dataframe tbody tr th:only-of-type {\n",
       "        vertical-align: middle;\n",
       "    }\n",
       "\n",
       "    .dataframe tbody tr th {\n",
       "        vertical-align: top;\n",
       "    }\n",
       "\n",
       "    .dataframe thead th {\n",
       "        text-align: right;\n",
       "    }\n",
       "</style>\n",
       "<table border=\"1\" class=\"dataframe\">\n",
       "  <thead>\n",
       "    <tr style=\"text-align: right;\">\n",
       "      <th></th>\n",
       "      <th>count</th>\n",
       "      <th>mean</th>\n",
       "    </tr>\n",
       "    <tr>\n",
       "      <th>locality_name</th>\n",
       "      <th></th>\n",
       "      <th></th>\n",
       "    </tr>\n",
       "  </thead>\n",
       "  <tbody>\n",
       "    <tr>\n",
       "      <th>Санкт-Петербург</th>\n",
       "      <td>15721</td>\n",
       "      <td>114849.005788</td>\n",
       "    </tr>\n",
       "    <tr>\n",
       "      <th>Пушкин</th>\n",
       "      <td>369</td>\n",
       "      <td>103125.818428</td>\n",
       "    </tr>\n",
       "    <tr>\n",
       "      <th>деревня Кудрово</th>\n",
       "      <td>299</td>\n",
       "      <td>92473.588629</td>\n",
       "    </tr>\n",
       "    <tr>\n",
       "      <th>посёлок Парголово</th>\n",
       "      <td>327</td>\n",
       "      <td>90175.886850</td>\n",
       "    </tr>\n",
       "    <tr>\n",
       "      <th>посёлок Мурино</th>\n",
       "      <td>522</td>\n",
       "      <td>85752.181992</td>\n",
       "    </tr>\n",
       "    <tr>\n",
       "      <th>посёлок Шушары</th>\n",
       "      <td>440</td>\n",
       "      <td>78677.379545</td>\n",
       "    </tr>\n",
       "    <tr>\n",
       "      <th>Колпино</th>\n",
       "      <td>338</td>\n",
       "      <td>75424.571006</td>\n",
       "    </tr>\n",
       "    <tr>\n",
       "      <th>Гатчина</th>\n",
       "      <td>307</td>\n",
       "      <td>68746.110749</td>\n",
       "    </tr>\n",
       "    <tr>\n",
       "      <th>Всеволожск</th>\n",
       "      <td>398</td>\n",
       "      <td>68654.474874</td>\n",
       "    </tr>\n",
       "    <tr>\n",
       "      <th>Выборг</th>\n",
       "      <td>237</td>\n",
       "      <td>58141.919831</td>\n",
       "    </tr>\n",
       "  </tbody>\n",
       "</table>\n",
       "</div>"
      ],
      "text/plain": [
       "                   count           mean\n",
       "locality_name                          \n",
       "Санкт-Петербург    15721  114849.005788\n",
       "Пушкин               369  103125.818428\n",
       "деревня Кудрово      299   92473.588629\n",
       "посёлок Парголово    327   90175.886850\n",
       "посёлок Мурино       522   85752.181992\n",
       "посёлок Шушары       440   78677.379545\n",
       "Колпино              338   75424.571006\n",
       "Гатчина              307   68746.110749\n",
       "Всеволожск           398   68654.474874\n",
       "Выборг               237   58141.919831"
      ]
     },
     "metadata": {},
     "output_type": "display_data"
    }
   ],
   "source": [
    "# формирование сводной таблицы по количеству объявлений в городах и по средней цене за объявление\n",
    "sorted_city_data = data.pivot_table(index='locality_name', values='price_of_meter', aggfunc=['count', 'mean']) \n",
    "\n",
    "# переименование столбцов\n",
    "sorted_city_data.columns = ['count', 'mean'] \n",
    "\n",
    "# выделение 10-ти городов по количеству объявлений\n",
    "sorted_city_data = sorted_city_data.sort_values('count', ascending=False).head(10) \n",
    "\n",
    "# нахождение самого \"дорогого\" населенного пункта, посредством сортировки по средней цене\n",
    "display(sorted_city_data.sort_values('mean', ascending=False))"
   ]
  },
  {
   "cell_type": "markdown",
   "metadata": {},
   "source": [
    "* График сильно меняется на значении 7-ми километров от центра, после 7-ми километров цена медленно убывает. <br>\n",
    "<b>Следовательно центральным районом можно считать все, что находится ближе 7-х километров.</b>"
   ]
  },
  {
   "cell_type": "code",
   "execution_count": 39,
   "metadata": {
    "scrolled": true
   },
   "outputs": [
    {
     "data": {
      "text/html": [
       "<div>\n",
       "<style scoped>\n",
       "    .dataframe tbody tr th:only-of-type {\n",
       "        vertical-align: middle;\n",
       "    }\n",
       "\n",
       "    .dataframe tbody tr th {\n",
       "        vertical-align: top;\n",
       "    }\n",
       "\n",
       "    .dataframe thead th {\n",
       "        text-align: right;\n",
       "    }\n",
       "</style>\n",
       "<table border=\"1\" class=\"dataframe\">\n",
       "  <thead>\n",
       "    <tr style=\"text-align: right;\">\n",
       "      <th></th>\n",
       "      <th>price_of_meter</th>\n",
       "    </tr>\n",
       "    <tr>\n",
       "      <th>km_from_centers</th>\n",
       "      <th></th>\n",
       "    </tr>\n",
       "  </thead>\n",
       "  <tbody>\n",
       "    <tr>\n",
       "      <th>0.0</th>\n",
       "      <td>245833.518519</td>\n",
       "    </tr>\n",
       "    <tr>\n",
       "      <th>1.0</th>\n",
       "      <td>176640.637306</td>\n",
       "    </tr>\n",
       "    <tr>\n",
       "      <th>2.0</th>\n",
       "      <td>157944.324759</td>\n",
       "    </tr>\n",
       "    <tr>\n",
       "      <th>3.0</th>\n",
       "      <td>121299.659091</td>\n",
       "    </tr>\n",
       "    <tr>\n",
       "      <th>4.0</th>\n",
       "      <td>133035.837644</td>\n",
       "    </tr>\n",
       "    <tr>\n",
       "      <th>...</th>\n",
       "      <td>...</td>\n",
       "    </tr>\n",
       "    <tr>\n",
       "      <th>61.0</th>\n",
       "      <td>60606.000000</td>\n",
       "    </tr>\n",
       "    <tr>\n",
       "      <th>62.0</th>\n",
       "      <td>69114.000000</td>\n",
       "    </tr>\n",
       "    <tr>\n",
       "      <th>63.0</th>\n",
       "      <td>62500.000000</td>\n",
       "    </tr>\n",
       "    <tr>\n",
       "      <th>65.0</th>\n",
       "      <td>71853.000000</td>\n",
       "    </tr>\n",
       "    <tr>\n",
       "      <th>66.0</th>\n",
       "      <td>73551.666667</td>\n",
       "    </tr>\n",
       "  </tbody>\n",
       "</table>\n",
       "<p>61 rows × 1 columns</p>\n",
       "</div>"
      ],
      "text/plain": [
       "                 price_of_meter\n",
       "km_from_centers                \n",
       "0.0               245833.518519\n",
       "1.0               176640.637306\n",
       "2.0               157944.324759\n",
       "3.0               121299.659091\n",
       "4.0               133035.837644\n",
       "...                         ...\n",
       "61.0               60606.000000\n",
       "62.0               69114.000000\n",
       "63.0               62500.000000\n",
       "65.0               71853.000000\n",
       "66.0               73551.666667\n",
       "\n",
       "[61 rows x 1 columns]"
      ]
     },
     "metadata": {},
     "output_type": "display_data"
    },
    {
     "data": {
      "text/plain": [
       "<AxesSubplot:xlabel='km_from_centers'>"
      ]
     },
     "metadata": {},
     "output_type": "display_data"
    },
    {
     "data": {
      "image/png": "[encoded data removed]",
      "text/plain": [
       "<Figure size 432x288 with 1 Axes>"
      ]
     },
     "metadata": {
      "needs_background": "light"
     },
     "output_type": "display_data"
    }
   ],
   "source": [
    "# добавлеие нового столбца с расстоянием до центра города в километрах\n",
    "data['km_from_centers'] = round(data['city_centers_nearest'] / 1000) \n",
    "\n",
    "# формирование сводной таблицы для визуализации зависимости цены за квадратный метр от удаленности от центра в километрах\n",
    "data_center = data.pivot_table(index='km_from_centers', values='price_of_meter', aggfunc='mean')\n",
    "\n",
    "display(data_center)\n",
    "\n",
    "# построение линейного графика\n",
    "display(data_center.plot( kind='line', xlim=(-1, 20), grid=True))"
   ]
  },
  {
   "cell_type": "markdown",
   "metadata": {},
   "source": [
    "* Квартиры в центре имеют <b>площадь от 65 до 120 квадратных метров</b>, это чуть ли не в два раза больше, чем диапозон значений по всей выборке (от 40 до 70 метров).<br> \n",
    "* Цена квартиры в центре города находится в <b>диапозоне от 7.5 до 15 миллионов</b>, что более чем в два раза превышает цену квартиры в общей выборке (от 3.5 до 7 миллионов).<br> \n",
    "* В центральном районе <b>преобладает количество двух-, трех- и четырехкомнатных квартир</b>, в отличие от общих данных, где в осноном однокомнатные, двухкомнатные и трехкомнатные квартиры.<br>\n",
    "* <b>Диапозон значений высоты потолков в центре более разбросано</b>, нежели диапозон значений по всем квартирам, 2.65-3.30 против 2.6-2.7, также <b>потолки в центре в среднем выше</b>, 3.00 против 2.65. "
   ]
  },
  {
   "cell_type": "code",
   "execution_count": 40,
   "metadata": {},
   "outputs": [
    {
     "data": {
      "text/html": [
       "<div>\n",
       "<style scoped>\n",
       "    .dataframe tbody tr th:only-of-type {\n",
       "        vertical-align: middle;\n",
       "    }\n",
       "\n",
       "    .dataframe tbody tr th {\n",
       "        vertical-align: top;\n",
       "    }\n",
       "\n",
       "    .dataframe thead th {\n",
       "        text-align: right;\n",
       "    }\n",
       "</style>\n",
       "<table border=\"1\" class=\"dataframe\">\n",
       "  <thead>\n",
       "    <tr style=\"text-align: right;\">\n",
       "      <th></th>\n",
       "      <th>Unnamed: 0</th>\n",
       "      <th>total_images</th>\n",
       "      <th>last_price</th>\n",
       "      <th>total_area</th>\n",
       "      <th>first_day_exposition</th>\n",
       "      <th>rooms</th>\n",
       "      <th>ceiling_height</th>\n",
       "      <th>floors_total</th>\n",
       "      <th>living_area</th>\n",
       "      <th>floor</th>\n",
       "      <th>...</th>\n",
       "      <th>ponds_nearest</th>\n",
       "      <th>days_exposition</th>\n",
       "      <th>price_of_meter</th>\n",
       "      <th>day</th>\n",
       "      <th>month</th>\n",
       "      <th>year</th>\n",
       "      <th>living_on_total_area</th>\n",
       "      <th>kitchen_on_total_area</th>\n",
       "      <th>type_of_floor</th>\n",
       "      <th>km_from_centers</th>\n",
       "    </tr>\n",
       "  </thead>\n",
       "  <tbody>\n",
       "    <tr>\n",
       "      <th>3</th>\n",
       "      <td>3</td>\n",
       "      <td>0</td>\n",
       "      <td>64900000.0</td>\n",
       "      <td>159.0</td>\n",
       "      <td>2015-07-24</td>\n",
       "      <td>3</td>\n",
       "      <td>2.65</td>\n",
       "      <td>14</td>\n",
       "      <td>90.289724</td>\n",
       "      <td>9</td>\n",
       "      <td>...</td>\n",
       "      <td>234.0</td>\n",
       "      <td>424.0</td>\n",
       "      <td>408176</td>\n",
       "      <td>24</td>\n",
       "      <td>7</td>\n",
       "      <td>2015</td>\n",
       "      <td>0.57</td>\n",
       "      <td>0.17</td>\n",
       "      <td>Другой</td>\n",
       "      <td>7.0</td>\n",
       "    </tr>\n",
       "    <tr>\n",
       "      <th>24</th>\n",
       "      <td>24</td>\n",
       "      <td>8</td>\n",
       "      <td>6500000.0</td>\n",
       "      <td>97.2</td>\n",
       "      <td>2015-10-31</td>\n",
       "      <td>2</td>\n",
       "      <td>2.65</td>\n",
       "      <td>3</td>\n",
       "      <td>46.500000</td>\n",
       "      <td>1</td>\n",
       "      <td>...</td>\n",
       "      <td>124.0</td>\n",
       "      <td>265.0</td>\n",
       "      <td>66872</td>\n",
       "      <td>31</td>\n",
       "      <td>10</td>\n",
       "      <td>2015</td>\n",
       "      <td>0.48</td>\n",
       "      <td>0.20</td>\n",
       "      <td>Первый</td>\n",
       "      <td>2.0</td>\n",
       "    </tr>\n",
       "    <tr>\n",
       "      <th>35</th>\n",
       "      <td>35</td>\n",
       "      <td>6</td>\n",
       "      <td>15500000.0</td>\n",
       "      <td>149.0</td>\n",
       "      <td>2017-06-26</td>\n",
       "      <td>5</td>\n",
       "      <td>2.65</td>\n",
       "      <td>5</td>\n",
       "      <td>104.000000</td>\n",
       "      <td>4</td>\n",
       "      <td>...</td>\n",
       "      <td>779.0</td>\n",
       "      <td>644.0</td>\n",
       "      <td>104027</td>\n",
       "      <td>26</td>\n",
       "      <td>6</td>\n",
       "      <td>2017</td>\n",
       "      <td>0.70</td>\n",
       "      <td>0.11</td>\n",
       "      <td>Другой</td>\n",
       "      <td>4.0</td>\n",
       "    </tr>\n",
       "    <tr>\n",
       "      <th>51</th>\n",
       "      <td>51</td>\n",
       "      <td>7</td>\n",
       "      <td>45000000.0</td>\n",
       "      <td>161.0</td>\n",
       "      <td>2017-10-17</td>\n",
       "      <td>3</td>\n",
       "      <td>3.20</td>\n",
       "      <td>8</td>\n",
       "      <td>38.000000</td>\n",
       "      <td>4</td>\n",
       "      <td>...</td>\n",
       "      <td>99.0</td>\n",
       "      <td>541.0</td>\n",
       "      <td>279503</td>\n",
       "      <td>17</td>\n",
       "      <td>10</td>\n",
       "      <td>2017</td>\n",
       "      <td>0.24</td>\n",
       "      <td>0.31</td>\n",
       "      <td>Другой</td>\n",
       "      <td>7.0</td>\n",
       "    </tr>\n",
       "    <tr>\n",
       "      <th>52</th>\n",
       "      <td>52</td>\n",
       "      <td>20</td>\n",
       "      <td>11795000.0</td>\n",
       "      <td>136.0</td>\n",
       "      <td>2017-09-22</td>\n",
       "      <td>6</td>\n",
       "      <td>3.00</td>\n",
       "      <td>2</td>\n",
       "      <td>94.000000</td>\n",
       "      <td>2</td>\n",
       "      <td>...</td>\n",
       "      <td>NaN</td>\n",
       "      <td>NaN</td>\n",
       "      <td>86728</td>\n",
       "      <td>22</td>\n",
       "      <td>9</td>\n",
       "      <td>2017</td>\n",
       "      <td>0.69</td>\n",
       "      <td>0.08</td>\n",
       "      <td>Последний</td>\n",
       "      <td>7.0</td>\n",
       "    </tr>\n",
       "  </tbody>\n",
       "</table>\n",
       "<p>5 rows × 31 columns</p>\n",
       "</div>"
      ],
      "text/plain": [
       "    Unnamed: 0  total_images  last_price  total_area first_day_exposition  \\\n",
       "3            3             0  64900000.0       159.0           2015-07-24   \n",
       "24          24             8   6500000.0        97.2           2015-10-31   \n",
       "35          35             6  15500000.0       149.0           2017-06-26   \n",
       "51          51             7  45000000.0       161.0           2017-10-17   \n",
       "52          52            20  11795000.0       136.0           2017-09-22   \n",
       "\n",
       "    rooms  ceiling_height  floors_total  living_area  floor  ...  \\\n",
       "3       3            2.65            14    90.289724      9  ...   \n",
       "24      2            2.65             3    46.500000      1  ...   \n",
       "35      5            2.65             5   104.000000      4  ...   \n",
       "51      3            3.20             8    38.000000      4  ...   \n",
       "52      6            3.00             2    94.000000      2  ...   \n",
       "\n",
       "    ponds_nearest  days_exposition  price_of_meter  day  month  year  \\\n",
       "3           234.0            424.0          408176   24      7  2015   \n",
       "24          124.0            265.0           66872   31     10  2015   \n",
       "35          779.0            644.0          104027   26      6  2017   \n",
       "51           99.0            541.0          279503   17     10  2017   \n",
       "52            NaN              NaN           86728   22      9  2017   \n",
       "\n",
       "    living_on_total_area  kitchen_on_total_area  type_of_floor  \\\n",
       "3                   0.57                   0.17         Другой   \n",
       "24                  0.48                   0.20         Первый   \n",
       "35                  0.70                   0.11         Другой   \n",
       "51                  0.24                   0.31         Другой   \n",
       "52                  0.69                   0.08      Последний   \n",
       "\n",
       "    km_from_centers  \n",
       "3               7.0  \n",
       "24              2.0  \n",
       "35              4.0  \n",
       "51              7.0  \n",
       "52              7.0  \n",
       "\n",
       "[5 rows x 31 columns]"
      ]
     },
     "metadata": {},
     "output_type": "display_data"
    },
    {
     "data": {
      "text/plain": [
       "<AxesSubplot:ylabel='Frequency'>"
      ]
     },
     "metadata": {},
     "output_type": "display_data"
    },
    {
     "data": {
      "text/plain": [
       "count    3541.000000\n",
       "mean       93.130827\n",
       "std        59.372334\n",
       "min        12.000000\n",
       "25%        57.000000\n",
       "50%        78.700000\n",
       "75%       110.000000\n",
       "max       631.200000\n",
       "Name: total_area, dtype: float64"
      ]
     },
     "metadata": {},
     "output_type": "display_data"
    },
    {
     "data": {
      "text/plain": [
       "<AxesSubplot:ylabel='Frequency'>"
      ]
     },
     "metadata": {},
     "output_type": "display_data"
    },
    {
     "data": {
      "text/plain": [
       "count    3.541000e+03\n",
       "mean     1.487211e+07\n",
       "std      2.427090e+07\n",
       "min      1.600000e+06\n",
       "25%      6.650000e+06\n",
       "50%      9.200000e+06\n",
       "75%      1.450000e+07\n",
       "max      7.630000e+08\n",
       "Name: last_price, dtype: float64"
      ]
     },
     "metadata": {},
     "output_type": "display_data"
    },
    {
     "data": {
      "text/plain": [
       "<AxesSubplot:ylabel='Frequency'>"
      ]
     },
     "metadata": {},
     "output_type": "display_data"
    },
    {
     "data": {
      "text/plain": [
       "count    3541.000000\n",
       "mean        2.834792\n",
       "std         1.447612\n",
       "min         0.000000\n",
       "25%         2.000000\n",
       "50%         3.000000\n",
       "75%         3.000000\n",
       "max        19.000000\n",
       "Name: rooms, dtype: float64"
      ]
     },
     "metadata": {},
     "output_type": "display_data"
    },
    {
     "data": {
      "text/plain": [
       "3     1100\n",
       "2     1036\n",
       "1      520\n",
       "4      493\n",
       "5      217\n",
       "6       83\n",
       "7       54\n",
       "0       17\n",
       "8       10\n",
       "9        3\n",
       "10       2\n",
       "11       2\n",
       "14       1\n",
       "16       1\n",
       "15       1\n",
       "19       1\n",
       "Name: rooms, dtype: int64"
      ]
     },
     "metadata": {},
     "output_type": "display_data"
    },
    {
     "data": {
      "text/plain": [
       "<AxesSubplot:ylabel='Frequency'>"
      ]
     },
     "metadata": {},
     "output_type": "display_data"
    },
    {
     "data": {
      "text/plain": [
       "count    3541.000000\n",
       "mean        2.953618\n",
       "std         0.735648\n",
       "min         2.400000\n",
       "25%         2.650000\n",
       "50%         2.800000\n",
       "75%         3.150000\n",
       "max        32.000000\n",
       "Name: ceiling_height, dtype: float64"
      ]
     },
     "metadata": {},
     "output_type": "display_data"
    },
    {
     "data": {
      "image/png": "[encoded data removed]",
      "text/plain": [
       "<Figure size 432x288 with 1 Axes>"
      ]
     },
     "metadata": {
      "needs_background": "light"
     },
     "output_type": "display_data"
    },
    {
     "data": {
      "image/png": "[encoded data removed]",
      "text/plain": [
       "<Figure size 432x288 with 1 Axes>"
      ]
     },
     "metadata": {
      "needs_background": "light"
     },
     "output_type": "display_data"
    },
    {
     "data": {
      "image/png": "[encoded data removed]",
      "text/plain": [
       "<Figure size 432x288 with 1 Axes>"
      ]
     },
     "metadata": {
      "needs_background": "light"
     },
     "output_type": "display_data"
    },
    {
     "data": {
      "image/png": "[encoded data removed]",
      "text/plain": [
       "<Figure size 432x288 with 1 Axes>"
      ]
     },
     "metadata": {
      "needs_background": "light"
     },
     "output_type": "display_data"
    }
   ],
   "source": [
    "# датафрейм с квартирами в центре\n",
    "center_data = data.query('km_from_centers <= 7') \n",
    "display(center_data.head())\n",
    "\n",
    "# гистограмма и статистические данные для общей площади\n",
    "display(center_data.plot(y='total_area', kind='hist', bins=30, range=(30, 150), grid=True))\n",
    "display(center_data['total_area'].describe())\n",
    "\n",
    "# гистограмма и статистические данные для цены\n",
    "display(center_data.plot(y='last_price', kind='hist', bins=50, range=(0, 25000000), grid=True))\n",
    "display(center_data['last_price'].describe())\n",
    "\n",
    "# гистограмма, статистические данные и количество значений для количества комнат\n",
    "display(center_data.plot(y='rooms', kind='hist', bins=10, range=(0, 7), grid=True))\n",
    "display(center_data['rooms'].describe())\n",
    "display(center_data['rooms'].value_counts())\n",
    "\n",
    "# гистограмма и статистические данные для высоты потолка\n",
    "display(center_data.plot(y='ceiling_height', kind='hist', bins=10, range=(2.25, 4), grid=True))\n",
    "display(center_data['ceiling_height'].describe())"
   ]
  },
  {
   "cell_type": "markdown",
   "metadata": {},
   "source": [
    "Зависимость цены квартир в центре от разных параметров:\n",
    "* Площадь и цена имеют <b>среднюю по силе положительную зависимость</b>, а количество комнат и цена <b>слабую положительную зависимость</b>.<br>\n",
    "* <b>Удаленность от центра никак не влияет на стоимость квартиры.</b>\n",
    "* <b>Зависимость цены от дня, месяца, года продажи и типа этажа такая же, как и у квартир по общей выборке</b>, но стоит заметить, что амплитуда изменения в 2 раза больше в силу того, что средняя стоимость квартир в центре так же в 2 раза больше.\n",
    "* Если сравнивать эти значения с значениями по общей выборке, то <b>кардинальных отличий нет</b>."
   ]
  },
  {
   "cell_type": "code",
   "execution_count": 41,
   "metadata": {
    "scrolled": false
   },
   "outputs": [
    {
     "data": {
      "text/plain": [
       "0.6135037922760378"
      ]
     },
     "metadata": {},
     "output_type": "display_data"
    },
    {
     "data": {
      "text/plain": [
       "0.3145868724816908"
      ]
     },
     "metadata": {},
     "output_type": "display_data"
    },
    {
     "data": {
      "text/plain": [
       "-0.042098043899891135"
      ]
     },
     "metadata": {},
     "output_type": "display_data"
    }
   ],
   "source": [
    "# коэффициент корреляции от площади\n",
    "display(center_data['total_area'].corr(center_data['last_price']))\n",
    "\n",
    "# коэффициент корреляции от количества комнат\n",
    "display(center_data['rooms'].corr(center_data['last_price']))\n",
    "\n",
    "# коэффициент корреляции от расстояния до центра\n",
    "display(center_data['city_centers_nearest'].corr(center_data['last_price'])) "
   ]
  },
  {
   "cell_type": "code",
   "execution_count": 42,
   "metadata": {
    "scrolled": false
   },
   "outputs": [
    {
     "data": {
      "text/plain": [
       "<AxesSubplot:xlabel='day'>"
      ]
     },
     "metadata": {},
     "output_type": "display_data"
    },
    {
     "data": {
      "text/plain": [
       "<AxesSubplot:xlabel='month'>"
      ]
     },
     "metadata": {},
     "output_type": "display_data"
    },
    {
     "data": {
      "text/plain": [
       "<AxesSubplot:xlabel='year'>"
      ]
     },
     "metadata": {},
     "output_type": "display_data"
    },
    {
     "data": {
      "text/plain": [
       "<AxesSubplot:xlabel='type_of_floor'>"
      ]
     },
     "metadata": {},
     "output_type": "display_data"
    },
    {
     "data": {
      "image/png": "[encoded data removed]",
      "text/plain": [
       "<Figure size 432x288 with 1 Axes>"
      ]
     },
     "metadata": {
      "needs_background": "light"
     },
     "output_type": "display_data"
    },
    {
     "data": {
      "image/png": "[encoded data removed]",
      "text/plain": [
       "<Figure size 432x288 with 1 Axes>"
      ]
     },
     "metadata": {
      "needs_background": "light"
     },
     "output_type": "display_data"
    },
    {
     "data": {
      "image/png": "[encoded data removed]",
      "text/plain": [
       "<Figure size 432x288 with 1 Axes>"
      ]
     },
     "metadata": {
      "needs_background": "light"
     },
     "output_type": "display_data"
    },
    {
     "data": {
      "image/png": "[encoded data removed]",
      "text/plain": [
       "<Figure size 432x288 with 1 Axes>"
      ]
     },
     "metadata": {
      "needs_background": "light"
     },
     "output_type": "display_data"
    }
   ],
   "source": [
    "# линейный график зависимости цены квартиры в центре от дня продажи \n",
    "ax = (data.pivot_table(index='day', values='last_price', aggfunc='median')\n",
    "      .plot(y='last_price', ylim=(4200000, 5000000), grid=True))\n",
    "display(center_data.pivot_table(index='day', values='last_price', aggfunc='median').\n",
    "        plot(y='last_price', ylim=(4000000, 11000000), grid=True, ax=ax, legend=True))\n",
    "\n",
    "# линейный график зависимости цены квартиры в центре от месяца продажи \n",
    "ax = (data.pivot_table(index='month', values='last_price', aggfunc='median')\n",
    "      .plot(y='last_price', ylim=(4350000, 4850000), grid=True))\n",
    "display(center_data.pivot_table(index='month', values='last_price', aggfunc='median').\n",
    "        plot(y='last_price', ylim=(4350000, 10000000), grid=True, ax=ax, legend=True))\n",
    "\n",
    "# линейный график зависимости цены квартиры в центре от года продажи \n",
    "ax = (data.pivot_table(index='year', values='last_price', aggfunc='median')\n",
    "      .plot(y='last_price', ylim=(4000000, 8000000), grid=True))\n",
    "display(center_data.pivot_table(index='year', values='last_price', aggfunc='median').\n",
    "        plot(y='last_price', ylim=(4000000, 20000000), grid=True, ax=ax, legend=True))\n",
    "\n",
    "# линейный график зависимости цены квартиры в центре от типа этажа продажи \n",
    "ax = (data.pivot_table(index='type_of_floor', values='last_price', aggfunc='median')\n",
    "      .plot(y='last_price', ylim=(3800000, 5000000), grid=True))\n",
    "display(center_data.pivot_table(index='type_of_floor', values='last_price', aggfunc='median').\n",
    "        plot(y='last_price', ylim=(3800000, 10000000), grid=True, ax=ax, legend=True))"
   ]
  },
  {
   "cell_type": "markdown",
   "metadata": {},
   "source": [
    "## Общий вывод"
   ]
  },
  {
   "cell_type": "markdown",
   "metadata": {},
   "source": [
    "* Продажа квартиры в среднем занимает **чуть больше 3-х месяцев**, быстрая продажа - **меньше полтора месяца**, очень долгая продажа - **более 7-ми с половиной месяцев**.<br>\n",
    "* В первую очередь цена квартиры зависит от двух параметров: **площадь и ее удаленность от центра**.<br>\n",
    "* Квартиры в центре это те квартиры, удаленность которых **не превышает 7-х километров**.<br>\n",
    "* Сегмент объявлений в центральном районе имеет **несколько другие значения**, нежели объявления по всем населенным пунктам. Цены на квартиры в центре в среднем **более чем в два раза выше**, также площадь в среднем **больше в полтора раза**, количество комнат в среднем **больше на одну**, и высота потолков аналогично **выше.**"
   ]
  }
 ],
 "metadata": {
  "ExecuteTimeLog": [
   {
    "duration": 461,
    "start_time": "2022-04-06T12:37:45.677Z"
   },
   {
    "duration": 77,
    "start_time": "2022-04-06T12:37:57.331Z"
   },
   {
    "duration": 81,
    "start_time": "2022-04-06T12:39:00.428Z"
   },
   {
    "duration": 133,
    "start_time": "2022-04-06T12:39:45.174Z"
   },
   {
    "duration": 76,
    "start_time": "2022-04-06T12:40:04.729Z"
   },
   {
    "duration": 107,
    "start_time": "2022-04-06T12:40:20.845Z"
   },
   {
    "duration": 101,
    "start_time": "2022-04-06T13:30:05.677Z"
   },
   {
    "duration": 101,
    "start_time": "2022-04-06T13:30:13.907Z"
   },
   {
    "duration": 63,
    "start_time": "2022-04-06T13:37:51.711Z"
   },
   {
    "duration": 17,
    "start_time": "2022-04-06T13:37:54.704Z"
   },
   {
    "duration": 105,
    "start_time": "2022-04-06T13:40:22.530Z"
   },
   {
    "duration": 14,
    "start_time": "2022-04-06T13:40:22.637Z"
   },
   {
    "duration": 6,
    "start_time": "2022-04-06T13:42:05.611Z"
   },
   {
    "duration": 35,
    "start_time": "2022-04-06T13:42:37.845Z"
   },
   {
    "duration": 46,
    "start_time": "2022-04-07T11:35:31.860Z"
   },
   {
    "duration": 547,
    "start_time": "2022-04-07T11:35:35.690Z"
   },
   {
    "duration": 14,
    "start_time": "2022-04-07T11:35:36.239Z"
   },
   {
    "duration": 31,
    "start_time": "2022-04-07T11:35:36.255Z"
   },
   {
    "duration": 6,
    "start_time": "2022-04-07T11:35:51.509Z"
   },
   {
    "duration": 6,
    "start_time": "2022-04-07T11:36:28.524Z"
   },
   {
    "duration": 6,
    "start_time": "2022-04-07T11:36:34.022Z"
   },
   {
    "duration": 11,
    "start_time": "2022-04-07T11:38:03.033Z"
   },
   {
    "duration": 18,
    "start_time": "2022-04-07T11:38:29.089Z"
   },
   {
    "duration": 7,
    "start_time": "2022-04-07T11:38:43.146Z"
   },
   {
    "duration": 10,
    "start_time": "2022-04-07T11:40:03.638Z"
   },
   {
    "duration": 7,
    "start_time": "2022-04-07T11:40:55.562Z"
   },
   {
    "duration": 7,
    "start_time": "2022-04-07T11:41:02.501Z"
   },
   {
    "duration": 10,
    "start_time": "2022-04-07T11:41:07.314Z"
   },
   {
    "duration": 38,
    "start_time": "2022-04-07T11:44:19.014Z"
   },
   {
    "duration": 9,
    "start_time": "2022-04-07T11:45:00.167Z"
   },
   {
    "duration": 11,
    "start_time": "2022-04-07T11:45:54.233Z"
   },
   {
    "duration": 12,
    "start_time": "2022-04-07T11:46:13.105Z"
   },
   {
    "duration": 7,
    "start_time": "2022-04-07T11:46:48.876Z"
   },
   {
    "duration": 8,
    "start_time": "2022-04-07T11:46:50.890Z"
   },
   {
    "duration": 10,
    "start_time": "2022-04-07T11:55:06.691Z"
   },
   {
    "duration": 17,
    "start_time": "2022-04-07T11:56:38.959Z"
   },
   {
    "duration": 14,
    "start_time": "2022-04-07T11:57:05.060Z"
   },
   {
    "duration": 15,
    "start_time": "2022-04-07T11:57:15.615Z"
   },
   {
    "duration": 18,
    "start_time": "2022-04-07T11:57:20.394Z"
   },
   {
    "duration": 14,
    "start_time": "2022-04-07T11:57:24.641Z"
   },
   {
    "duration": 11,
    "start_time": "2022-04-07T11:57:52.033Z"
   },
   {
    "duration": 13,
    "start_time": "2022-04-07T11:58:06.285Z"
   },
   {
    "duration": 114,
    "start_time": "2022-04-07T11:58:27.450Z"
   },
   {
    "duration": 14,
    "start_time": "2022-04-07T11:58:27.566Z"
   },
   {
    "duration": 23,
    "start_time": "2022-04-07T11:58:27.582Z"
   },
   {
    "duration": 11,
    "start_time": "2022-04-07T11:58:27.609Z"
   },
   {
    "duration": 6,
    "start_time": "2022-04-07T11:58:27.622Z"
   },
   {
    "duration": 7,
    "start_time": "2022-04-07T11:58:57.935Z"
   },
   {
    "duration": 46,
    "start_time": "2022-04-07T11:59:05.519Z"
   },
   {
    "duration": 9,
    "start_time": "2022-04-07T11:59:16.162Z"
   },
   {
    "duration": 34,
    "start_time": "2022-04-07T11:59:25.761Z"
   },
   {
    "duration": 46,
    "start_time": "2022-04-07T12:03:25.740Z"
   },
   {
    "duration": 49,
    "start_time": "2022-04-07T12:03:34.230Z"
   },
   {
    "duration": 52,
    "start_time": "2022-04-07T12:03:39.954Z"
   },
   {
    "duration": 104,
    "start_time": "2022-04-07T12:04:21.846Z"
   },
   {
    "duration": 16,
    "start_time": "2022-04-07T12:04:21.952Z"
   },
   {
    "duration": 7,
    "start_time": "2022-04-07T12:04:21.969Z"
   },
   {
    "duration": 32,
    "start_time": "2022-04-07T12:04:21.977Z"
   },
   {
    "duration": 9,
    "start_time": "2022-04-07T12:04:22.011Z"
   },
   {
    "duration": 10,
    "start_time": "2022-04-07T12:04:31.698Z"
   },
   {
    "duration": 108,
    "start_time": "2022-04-07T12:04:47.013Z"
   },
   {
    "duration": 15,
    "start_time": "2022-04-07T12:04:47.123Z"
   },
   {
    "duration": 6,
    "start_time": "2022-04-07T12:04:47.140Z"
   },
   {
    "duration": 8,
    "start_time": "2022-04-07T12:04:47.148Z"
   },
   {
    "duration": 12,
    "start_time": "2022-04-07T12:04:47.158Z"
   },
   {
    "duration": 11,
    "start_time": "2022-04-07T12:06:34.214Z"
   },
   {
    "duration": 128,
    "start_time": "2022-04-07T12:06:39.454Z"
   },
   {
    "duration": 22,
    "start_time": "2022-04-07T12:06:39.584Z"
   },
   {
    "duration": 8,
    "start_time": "2022-04-07T12:06:39.608Z"
   },
   {
    "duration": 11,
    "start_time": "2022-04-07T12:06:39.618Z"
   },
   {
    "duration": 22,
    "start_time": "2022-04-07T12:06:39.631Z"
   },
   {
    "duration": 108,
    "start_time": "2022-04-07T12:07:35.521Z"
   },
   {
    "duration": 16,
    "start_time": "2022-04-07T12:07:35.631Z"
   },
   {
    "duration": 7,
    "start_time": "2022-04-07T12:07:35.648Z"
   },
   {
    "duration": 8,
    "start_time": "2022-04-07T12:07:35.657Z"
   },
   {
    "duration": 43,
    "start_time": "2022-04-07T12:07:35.666Z"
   },
   {
    "duration": 27,
    "start_time": "2022-04-07T12:08:33.757Z"
   },
   {
    "duration": 106,
    "start_time": "2022-04-07T12:08:51.673Z"
   },
   {
    "duration": 20,
    "start_time": "2022-04-07T12:08:51.781Z"
   },
   {
    "duration": 8,
    "start_time": "2022-04-07T12:08:51.805Z"
   },
   {
    "duration": 7,
    "start_time": "2022-04-07T12:08:51.814Z"
   },
   {
    "duration": 29,
    "start_time": "2022-04-07T12:08:51.823Z"
   },
   {
    "duration": 31,
    "start_time": "2022-04-07T12:09:10.124Z"
   },
   {
    "duration": 32,
    "start_time": "2022-04-07T12:09:17.354Z"
   },
   {
    "duration": 33,
    "start_time": "2022-04-07T12:09:33.767Z"
   },
   {
    "duration": 121,
    "start_time": "2022-04-07T12:09:37.034Z"
   },
   {
    "duration": 16,
    "start_time": "2022-04-07T12:09:37.157Z"
   },
   {
    "duration": 7,
    "start_time": "2022-04-07T12:09:37.174Z"
   },
   {
    "duration": 29,
    "start_time": "2022-04-07T12:09:37.183Z"
   },
   {
    "duration": 39,
    "start_time": "2022-04-07T12:09:37.215Z"
   },
   {
    "duration": 111,
    "start_time": "2022-04-07T12:09:52.656Z"
   },
   {
    "duration": 14,
    "start_time": "2022-04-07T12:09:52.768Z"
   },
   {
    "duration": 6,
    "start_time": "2022-04-07T12:09:52.784Z"
   },
   {
    "duration": 22,
    "start_time": "2022-04-07T12:09:52.791Z"
   },
   {
    "duration": 38,
    "start_time": "2022-04-07T12:09:52.816Z"
   },
   {
    "duration": 110,
    "start_time": "2022-04-07T12:11:28.550Z"
   },
   {
    "duration": 15,
    "start_time": "2022-04-07T12:11:28.662Z"
   },
   {
    "duration": 10,
    "start_time": "2022-04-07T12:11:28.679Z"
   },
   {
    "duration": 10,
    "start_time": "2022-04-07T12:11:28.704Z"
   },
   {
    "duration": 30,
    "start_time": "2022-04-07T12:11:28.717Z"
   },
   {
    "duration": 103,
    "start_time": "2022-04-07T12:15:43.328Z"
   },
   {
    "duration": 14,
    "start_time": "2022-04-07T12:15:43.433Z"
   },
   {
    "duration": 6,
    "start_time": "2022-04-07T12:15:43.449Z"
   },
   {
    "duration": 8,
    "start_time": "2022-04-07T12:15:43.456Z"
   },
   {
    "duration": 46,
    "start_time": "2022-04-07T12:15:43.465Z"
   },
   {
    "duration": 113,
    "start_time": "2022-04-07T12:16:22.341Z"
   },
   {
    "duration": 17,
    "start_time": "2022-04-07T12:16:22.457Z"
   },
   {
    "duration": 27,
    "start_time": "2022-04-07T12:16:22.476Z"
   },
   {
    "duration": 31,
    "start_time": "2022-04-07T12:16:22.505Z"
   },
   {
    "duration": 53,
    "start_time": "2022-04-07T12:16:22.539Z"
   },
   {
    "duration": 120,
    "start_time": "2022-04-07T12:17:30.870Z"
   },
   {
    "duration": 20,
    "start_time": "2022-04-07T12:17:30.992Z"
   },
   {
    "duration": 7,
    "start_time": "2022-04-07T12:17:31.013Z"
   },
   {
    "duration": 9,
    "start_time": "2022-04-07T12:17:31.022Z"
   },
   {
    "duration": 380,
    "start_time": "2022-04-07T12:17:31.033Z"
   },
   {
    "duration": 236,
    "start_time": "2022-04-07T12:18:05.152Z"
   },
   {
    "duration": 113,
    "start_time": "2022-04-07T12:19:07.737Z"
   },
   {
    "duration": 15,
    "start_time": "2022-04-07T12:19:07.852Z"
   },
   {
    "duration": 6,
    "start_time": "2022-04-07T12:19:07.869Z"
   },
   {
    "duration": 29,
    "start_time": "2022-04-07T12:19:07.877Z"
   },
   {
    "duration": 76,
    "start_time": "2022-04-07T12:19:07.908Z"
   },
   {
    "duration": 39,
    "start_time": "2022-04-07T12:19:48.434Z"
   },
   {
    "duration": 113,
    "start_time": "2022-04-07T12:19:51.114Z"
   },
   {
    "duration": 15,
    "start_time": "2022-04-07T12:19:51.229Z"
   },
   {
    "duration": 6,
    "start_time": "2022-04-07T12:19:51.246Z"
   },
   {
    "duration": 8,
    "start_time": "2022-04-07T12:19:51.254Z"
   },
   {
    "duration": 69,
    "start_time": "2022-04-07T12:19:51.264Z"
   },
   {
    "duration": 107,
    "start_time": "2022-04-07T12:20:38.668Z"
   },
   {
    "duration": 24,
    "start_time": "2022-04-07T12:20:38.777Z"
   },
   {
    "duration": 7,
    "start_time": "2022-04-07T12:20:38.802Z"
   },
   {
    "duration": 18,
    "start_time": "2022-04-07T12:20:38.810Z"
   },
   {
    "duration": 87,
    "start_time": "2022-04-07T12:20:38.830Z"
   },
   {
    "duration": 108,
    "start_time": "2022-04-07T12:22:51.236Z"
   },
   {
    "duration": 16,
    "start_time": "2022-04-07T12:22:51.346Z"
   },
   {
    "duration": 7,
    "start_time": "2022-04-07T12:22:51.363Z"
   },
   {
    "duration": 34,
    "start_time": "2022-04-07T12:22:51.372Z"
   },
   {
    "duration": 42,
    "start_time": "2022-04-07T12:22:51.407Z"
   },
   {
    "duration": 9,
    "start_time": "2022-04-07T12:23:43.322Z"
   },
   {
    "duration": 6,
    "start_time": "2022-04-07T12:23:53.933Z"
   },
   {
    "duration": 104,
    "start_time": "2022-04-07T12:23:58.902Z"
   },
   {
    "duration": 14,
    "start_time": "2022-04-07T12:23:59.008Z"
   },
   {
    "duration": 6,
    "start_time": "2022-04-07T12:23:59.023Z"
   },
   {
    "duration": 7,
    "start_time": "2022-04-07T12:23:59.030Z"
   },
   {
    "duration": 12,
    "start_time": "2022-04-07T12:23:59.039Z"
   },
   {
    "duration": 8,
    "start_time": "2022-04-07T12:24:15.375Z"
   },
   {
    "duration": 7,
    "start_time": "2022-04-07T12:53:40.212Z"
   },
   {
    "duration": 12,
    "start_time": "2022-04-07T13:06:17.691Z"
   },
   {
    "duration": 10,
    "start_time": "2022-04-07T13:06:22.410Z"
   },
   {
    "duration": 40,
    "start_time": "2022-04-07T13:07:46.978Z"
   },
   {
    "duration": 16,
    "start_time": "2022-04-07T13:08:02.987Z"
   },
   {
    "duration": 115,
    "start_time": "2022-04-07T13:10:35.306Z"
   },
   {
    "duration": 14,
    "start_time": "2022-04-07T13:10:35.423Z"
   },
   {
    "duration": 7,
    "start_time": "2022-04-07T13:10:35.438Z"
   },
   {
    "duration": 8,
    "start_time": "2022-04-07T13:10:35.446Z"
   },
   {
    "duration": 10,
    "start_time": "2022-04-07T13:10:35.456Z"
   },
   {
    "duration": 111,
    "start_time": "2022-04-07T13:14:40.992Z"
   },
   {
    "duration": 15,
    "start_time": "2022-04-07T13:14:41.105Z"
   },
   {
    "duration": 7,
    "start_time": "2022-04-07T13:14:41.121Z"
   },
   {
    "duration": 8,
    "start_time": "2022-04-07T13:14:41.129Z"
   },
   {
    "duration": 9,
    "start_time": "2022-04-07T13:14:41.140Z"
   },
   {
    "duration": 6,
    "start_time": "2022-04-07T13:14:41.151Z"
   },
   {
    "duration": 43,
    "start_time": "2022-04-07T13:14:41.158Z"
   },
   {
    "duration": 105,
    "start_time": "2022-04-07T13:26:52.225Z"
   },
   {
    "duration": 17,
    "start_time": "2022-04-07T13:26:52.333Z"
   },
   {
    "duration": 6,
    "start_time": "2022-04-07T13:26:52.352Z"
   },
   {
    "duration": 7,
    "start_time": "2022-04-07T13:26:52.359Z"
   },
   {
    "duration": 37,
    "start_time": "2022-04-07T13:26:52.368Z"
   },
   {
    "duration": 6,
    "start_time": "2022-04-07T13:26:52.407Z"
   },
   {
    "duration": 6,
    "start_time": "2022-04-07T13:26:52.414Z"
   },
   {
    "duration": 17,
    "start_time": "2022-04-07T13:27:05.839Z"
   },
   {
    "duration": 109,
    "start_time": "2022-04-07T13:27:38.513Z"
   },
   {
    "duration": 16,
    "start_time": "2022-04-07T13:27:38.624Z"
   },
   {
    "duration": 6,
    "start_time": "2022-04-07T13:27:38.641Z"
   },
   {
    "duration": 8,
    "start_time": "2022-04-07T13:27:38.649Z"
   },
   {
    "duration": 10,
    "start_time": "2022-04-07T13:27:38.658Z"
   },
   {
    "duration": 7,
    "start_time": "2022-04-07T13:27:38.702Z"
   },
   {
    "duration": 7,
    "start_time": "2022-04-07T13:27:38.710Z"
   },
   {
    "duration": 111,
    "start_time": "2022-04-07T13:28:37.348Z"
   },
   {
    "duration": 16,
    "start_time": "2022-04-07T13:28:37.462Z"
   },
   {
    "duration": 21,
    "start_time": "2022-04-07T13:28:37.480Z"
   },
   {
    "duration": 11,
    "start_time": "2022-04-07T13:28:37.502Z"
   },
   {
    "duration": 11,
    "start_time": "2022-04-07T13:28:37.515Z"
   },
   {
    "duration": 8,
    "start_time": "2022-04-07T13:28:37.527Z"
   },
   {
    "duration": 7,
    "start_time": "2022-04-07T13:28:37.537Z"
   },
   {
    "duration": 7,
    "start_time": "2022-04-07T13:28:37.545Z"
   },
   {
    "duration": 107,
    "start_time": "2022-04-07T13:36:34.199Z"
   },
   {
    "duration": 16,
    "start_time": "2022-04-07T13:36:34.308Z"
   },
   {
    "duration": 6,
    "start_time": "2022-04-07T13:36:34.325Z"
   },
   {
    "duration": 8,
    "start_time": "2022-04-07T13:36:34.332Z"
   },
   {
    "duration": 12,
    "start_time": "2022-04-07T13:36:34.342Z"
   },
   {
    "duration": 7,
    "start_time": "2022-04-07T13:36:34.356Z"
   },
   {
    "duration": 42,
    "start_time": "2022-04-07T13:36:34.365Z"
   },
   {
    "duration": 15,
    "start_time": "2022-04-07T13:36:34.408Z"
   },
   {
    "duration": 108,
    "start_time": "2022-04-07T13:37:07.425Z"
   },
   {
    "duration": 15,
    "start_time": "2022-04-07T13:37:07.535Z"
   },
   {
    "duration": 6,
    "start_time": "2022-04-07T13:37:07.552Z"
   },
   {
    "duration": 12,
    "start_time": "2022-04-07T13:37:07.560Z"
   },
   {
    "duration": 31,
    "start_time": "2022-04-07T13:37:07.574Z"
   },
   {
    "duration": 7,
    "start_time": "2022-04-07T13:37:07.607Z"
   },
   {
    "duration": 7,
    "start_time": "2022-04-07T13:37:07.616Z"
   },
   {
    "duration": 16,
    "start_time": "2022-04-07T13:37:07.625Z"
   },
   {
    "duration": 113,
    "start_time": "2022-04-07T13:37:33.665Z"
   },
   {
    "duration": 14,
    "start_time": "2022-04-07T13:37:33.780Z"
   },
   {
    "duration": 7,
    "start_time": "2022-04-07T13:37:33.801Z"
   },
   {
    "duration": 7,
    "start_time": "2022-04-07T13:37:33.809Z"
   },
   {
    "duration": 9,
    "start_time": "2022-04-07T13:37:33.818Z"
   },
   {
    "duration": 6,
    "start_time": "2022-04-07T13:37:33.828Z"
   },
   {
    "duration": 12,
    "start_time": "2022-04-07T13:37:33.836Z"
   },
   {
    "duration": 17,
    "start_time": "2022-04-07T13:37:33.849Z"
   },
   {
    "duration": 14,
    "start_time": "2022-04-07T13:37:58.133Z"
   },
   {
    "duration": 16,
    "start_time": "2022-04-07T13:38:04.817Z"
   },
   {
    "duration": 14,
    "start_time": "2022-04-07T13:38:09.379Z"
   },
   {
    "duration": 40,
    "start_time": "2022-04-07T13:38:14.117Z"
   },
   {
    "duration": 38,
    "start_time": "2022-04-07T13:41:39.321Z"
   },
   {
    "duration": 1258,
    "start_time": "2022-04-07T15:45:46.196Z"
   },
   {
    "duration": 190,
    "start_time": "2022-04-07T15:46:01.563Z"
   },
   {
    "duration": 190,
    "start_time": "2022-04-07T15:46:18.815Z"
   },
   {
    "duration": 138,
    "start_time": "2022-04-07T15:47:12.385Z"
   },
   {
    "duration": 103,
    "start_time": "2022-04-07T15:47:52.319Z"
   },
   {
    "duration": 137,
    "start_time": "2022-04-07T15:48:01.201Z"
   },
   {
    "duration": 32,
    "start_time": "2022-04-07T15:48:01.341Z"
   },
   {
    "duration": 9,
    "start_time": "2022-04-07T15:48:01.375Z"
   },
   {
    "duration": 24,
    "start_time": "2022-04-07T15:48:01.386Z"
   },
   {
    "duration": 14,
    "start_time": "2022-04-07T15:48:01.413Z"
   },
   {
    "duration": 41,
    "start_time": "2022-04-07T15:48:01.429Z"
   },
   {
    "duration": 9,
    "start_time": "2022-04-07T15:48:01.472Z"
   },
   {
    "duration": 93,
    "start_time": "2022-04-07T15:48:01.483Z"
   },
   {
    "duration": 64,
    "start_time": "2022-04-07T16:16:41.503Z"
   },
   {
    "duration": 64,
    "start_time": "2022-04-07T16:16:46.678Z"
   },
   {
    "duration": 32,
    "start_time": "2022-04-07T16:16:49.308Z"
   },
   {
    "duration": 64,
    "start_time": "2022-04-07T16:16:51.765Z"
   },
   {
    "duration": 136,
    "start_time": "2022-04-07T16:16:56.602Z"
   },
   {
    "duration": 35,
    "start_time": "2022-04-07T16:16:56.741Z"
   },
   {
    "duration": 9,
    "start_time": "2022-04-07T16:16:56.778Z"
   },
   {
    "duration": 11,
    "start_time": "2022-04-07T16:16:56.790Z"
   },
   {
    "duration": 14,
    "start_time": "2022-04-07T16:16:56.804Z"
   },
   {
    "duration": 49,
    "start_time": "2022-04-07T16:16:56.820Z"
   },
   {
    "duration": 9,
    "start_time": "2022-04-07T16:16:56.872Z"
   },
   {
    "duration": 89,
    "start_time": "2022-04-07T16:16:56.883Z"
   },
   {
    "duration": 133,
    "start_time": "2022-04-07T16:53:51.451Z"
   },
   {
    "duration": 135,
    "start_time": "2022-04-07T16:53:54.735Z"
   },
   {
    "duration": 23,
    "start_time": "2022-04-07T16:53:54.872Z"
   },
   {
    "duration": 9,
    "start_time": "2022-04-07T16:53:54.897Z"
   },
   {
    "duration": 12,
    "start_time": "2022-04-07T16:53:54.908Z"
   },
   {
    "duration": 50,
    "start_time": "2022-04-07T16:53:54.923Z"
   },
   {
    "duration": 9,
    "start_time": "2022-04-07T16:53:54.975Z"
   },
   {
    "duration": 9,
    "start_time": "2022-04-07T16:53:54.987Z"
   },
   {
    "duration": 97,
    "start_time": "2022-04-07T16:53:54.998Z"
   },
   {
    "duration": 559,
    "start_time": "2022-04-08T12:29:17.895Z"
   },
   {
    "duration": 16,
    "start_time": "2022-04-08T12:29:18.456Z"
   },
   {
    "duration": 7,
    "start_time": "2022-04-08T12:29:18.474Z"
   },
   {
    "duration": 33,
    "start_time": "2022-04-08T12:29:18.483Z"
   },
   {
    "duration": 16,
    "start_time": "2022-04-08T12:29:18.517Z"
   },
   {
    "duration": 9,
    "start_time": "2022-04-08T12:29:18.536Z"
   },
   {
    "duration": 8,
    "start_time": "2022-04-08T12:29:18.547Z"
   },
   {
    "duration": 90,
    "start_time": "2022-04-08T12:29:18.557Z"
   },
   {
    "duration": 140,
    "start_time": "2022-04-08T12:30:11.688Z"
   },
   {
    "duration": 161,
    "start_time": "2022-04-08T12:30:40.069Z"
   },
   {
    "duration": 150,
    "start_time": "2022-04-08T12:31:10.788Z"
   },
   {
    "duration": 106,
    "start_time": "2022-04-08T12:32:36.087Z"
   },
   {
    "duration": 32,
    "start_time": "2022-04-08T12:32:36.195Z"
   },
   {
    "duration": 8,
    "start_time": "2022-04-08T12:32:36.229Z"
   },
   {
    "duration": 10,
    "start_time": "2022-04-08T12:32:36.239Z"
   },
   {
    "duration": 10,
    "start_time": "2022-04-08T12:32:36.251Z"
   },
   {
    "duration": 7,
    "start_time": "2022-04-08T12:32:36.263Z"
   },
   {
    "duration": 50,
    "start_time": "2022-04-08T12:32:36.271Z"
   },
   {
    "duration": 42,
    "start_time": "2022-04-08T12:32:36.323Z"
   },
   {
    "duration": 5,
    "start_time": "2022-04-08T12:35:06.397Z"
   },
   {
    "duration": 12,
    "start_time": "2022-04-08T12:41:07.215Z"
   },
   {
    "duration": 49,
    "start_time": "2022-04-08T12:42:46.473Z"
   },
   {
    "duration": 54,
    "start_time": "2022-04-08T12:43:04.002Z"
   },
   {
    "duration": 348,
    "start_time": "2022-04-08T12:51:01.078Z"
   },
   {
    "duration": 303,
    "start_time": "2022-04-08T12:53:50.280Z"
   },
   {
    "duration": 304,
    "start_time": "2022-04-08T12:54:52.505Z"
   },
   {
    "duration": 315,
    "start_time": "2022-04-08T12:55:10.802Z"
   },
   {
    "duration": 345,
    "start_time": "2022-04-08T12:55:29.457Z"
   },
   {
    "duration": 73,
    "start_time": "2022-04-08T12:55:48.680Z"
   },
   {
    "duration": 317,
    "start_time": "2022-04-08T12:55:55.387Z"
   },
   {
    "duration": 325,
    "start_time": "2022-04-08T12:56:24.530Z"
   },
   {
    "duration": 99,
    "start_time": "2022-04-08T12:57:56.826Z"
   },
   {
    "duration": 15,
    "start_time": "2022-04-08T12:57:56.927Z"
   },
   {
    "duration": 6,
    "start_time": "2022-04-08T12:57:56.944Z"
   },
   {
    "duration": 14,
    "start_time": "2022-04-08T12:57:56.951Z"
   },
   {
    "duration": 9,
    "start_time": "2022-04-08T12:57:56.967Z"
   },
   {
    "duration": 13,
    "start_time": "2022-04-08T12:57:56.978Z"
   },
   {
    "duration": 20,
    "start_time": "2022-04-08T12:57:56.993Z"
   },
   {
    "duration": 40,
    "start_time": "2022-04-08T12:57:57.015Z"
   },
   {
    "duration": 329,
    "start_time": "2022-04-08T12:57:57.057Z"
   },
   {
    "duration": 545,
    "start_time": "2022-04-08T13:01:03.434Z"
   },
   {
    "duration": 186,
    "start_time": "2022-04-08T13:01:38.484Z"
   },
   {
    "duration": 167,
    "start_time": "2022-04-08T13:01:48.825Z"
   },
   {
    "duration": 224,
    "start_time": "2022-04-08T13:02:03.534Z"
   },
   {
    "duration": 186,
    "start_time": "2022-04-08T13:03:40.779Z"
   },
   {
    "duration": 198,
    "start_time": "2022-04-08T13:03:52.367Z"
   },
   {
    "duration": 199,
    "start_time": "2022-04-08T13:04:04.829Z"
   },
   {
    "duration": 209,
    "start_time": "2022-04-08T13:04:14.620Z"
   },
   {
    "duration": 187,
    "start_time": "2022-04-08T13:04:25.801Z"
   },
   {
    "duration": 159,
    "start_time": "2022-04-08T13:04:30.069Z"
   },
   {
    "duration": 142,
    "start_time": "2022-04-08T13:04:34.251Z"
   },
   {
    "duration": 144,
    "start_time": "2022-04-08T13:04:39.479Z"
   },
   {
    "duration": 195,
    "start_time": "2022-04-08T13:04:46.858Z"
   },
   {
    "duration": 277,
    "start_time": "2022-04-08T13:05:28.703Z"
   },
   {
    "duration": 198,
    "start_time": "2022-04-08T13:05:40.940Z"
   },
   {
    "duration": 204,
    "start_time": "2022-04-08T13:05:47.669Z"
   },
   {
    "duration": 213,
    "start_time": "2022-04-08T13:05:51.737Z"
   },
   {
    "duration": 213,
    "start_time": "2022-04-08T13:05:55.828Z"
   },
   {
    "duration": 217,
    "start_time": "2022-04-08T13:06:02.018Z"
   },
   {
    "duration": 212,
    "start_time": "2022-04-08T13:06:15.435Z"
   },
   {
    "duration": 295,
    "start_time": "2022-04-08T13:06:19.042Z"
   },
   {
    "duration": 143,
    "start_time": "2022-04-08T13:06:55.797Z"
   },
   {
    "duration": 158,
    "start_time": "2022-04-08T13:07:10.867Z"
   },
   {
    "duration": 228,
    "start_time": "2022-04-08T13:07:22.118Z"
   },
   {
    "duration": 25,
    "start_time": "2022-04-08T13:07:52.606Z"
   },
   {
    "duration": 218,
    "start_time": "2022-04-08T13:08:05.463Z"
   },
   {
    "duration": 226,
    "start_time": "2022-04-08T13:08:16.415Z"
   },
   {
    "duration": 961,
    "start_time": "2022-04-08T13:26:49.442Z"
   },
   {
    "duration": 431,
    "start_time": "2022-04-08T13:27:06.226Z"
   },
   {
    "duration": 375,
    "start_time": "2022-04-08T13:27:28.615Z"
   },
   {
    "duration": 347,
    "start_time": "2022-04-08T13:28:26.088Z"
   },
   {
    "duration": 362,
    "start_time": "2022-04-08T13:28:30.180Z"
   },
   {
    "duration": 506,
    "start_time": "2022-04-08T13:28:47.809Z"
   },
   {
    "duration": 408,
    "start_time": "2022-04-08T13:29:05.726Z"
   },
   {
    "duration": 458,
    "start_time": "2022-04-08T13:29:48.080Z"
   },
   {
    "duration": 670,
    "start_time": "2022-04-08T13:30:29.973Z"
   },
   {
    "duration": 696,
    "start_time": "2022-04-08T13:30:39.940Z"
   },
   {
    "duration": 630,
    "start_time": "2022-04-08T13:31:32.495Z"
   },
   {
    "duration": 641,
    "start_time": "2022-04-08T13:31:42.656Z"
   },
   {
    "duration": 651,
    "start_time": "2022-04-08T13:31:47.178Z"
   },
   {
    "duration": 964,
    "start_time": "2022-04-08T13:32:18.520Z"
   },
   {
    "duration": 739,
    "start_time": "2022-04-08T13:32:29.543Z"
   },
   {
    "duration": 605,
    "start_time": "2022-04-08T13:32:40.824Z"
   },
   {
    "duration": 79,
    "start_time": "2022-04-08T13:33:30.762Z"
   },
   {
    "duration": 225,
    "start_time": "2022-04-08T13:33:38.928Z"
   },
   {
    "duration": 593,
    "start_time": "2022-04-08T13:33:45.462Z"
   },
   {
    "duration": 605,
    "start_time": "2022-04-08T13:33:52.752Z"
   },
   {
    "duration": 596,
    "start_time": "2022-04-08T13:34:02.812Z"
   },
   {
    "duration": 964,
    "start_time": "2022-04-08T13:34:17.450Z"
   },
   {
    "duration": 602,
    "start_time": "2022-04-08T13:34:26.926Z"
   },
   {
    "duration": 833,
    "start_time": "2022-04-08T13:35:13.086Z"
   },
   {
    "duration": 819,
    "start_time": "2022-04-08T13:35:22.858Z"
   },
   {
    "duration": 797,
    "start_time": "2022-04-08T13:35:29.986Z"
   },
   {
    "duration": 1093,
    "start_time": "2022-04-08T13:35:34.935Z"
   },
   {
    "duration": 782,
    "start_time": "2022-04-08T13:35:45.576Z"
   },
   {
    "duration": 103,
    "start_time": "2022-04-08T13:36:24.575Z"
   },
   {
    "duration": 16,
    "start_time": "2022-04-08T13:36:24.680Z"
   },
   {
    "duration": 16,
    "start_time": "2022-04-08T13:36:24.697Z"
   },
   {
    "duration": 13,
    "start_time": "2022-04-08T13:36:24.715Z"
   },
   {
    "duration": 12,
    "start_time": "2022-04-08T13:36:24.730Z"
   },
   {
    "duration": 8,
    "start_time": "2022-04-08T13:36:24.743Z"
   },
   {
    "duration": 12,
    "start_time": "2022-04-08T13:36:24.753Z"
   },
   {
    "duration": 64,
    "start_time": "2022-04-08T13:36:24.767Z"
   },
   {
    "duration": 321,
    "start_time": "2022-04-08T13:36:24.832Z"
   },
   {
    "duration": 793,
    "start_time": "2022-04-08T13:36:25.154Z"
   },
   {
    "duration": 44,
    "start_time": "2022-04-08T13:38:44.009Z"
   },
   {
    "duration": 8,
    "start_time": "2022-04-08T13:38:57.216Z"
   },
   {
    "duration": 169,
    "start_time": "2022-04-08T13:39:41.612Z"
   },
   {
    "duration": 179,
    "start_time": "2022-04-08T13:39:52.708Z"
   },
   {
    "duration": 191,
    "start_time": "2022-04-08T13:40:00.172Z"
   },
   {
    "duration": 172,
    "start_time": "2022-04-08T13:40:03.173Z"
   },
   {
    "duration": 171,
    "start_time": "2022-04-08T13:40:13.060Z"
   },
   {
    "duration": 928,
    "start_time": "2022-04-08T13:40:15.937Z"
   },
   {
    "duration": 623,
    "start_time": "2022-04-08T13:40:19.774Z"
   },
   {
    "duration": 231,
    "start_time": "2022-04-08T13:41:50.787Z"
   },
   {
    "duration": 229,
    "start_time": "2022-04-08T13:41:53.952Z"
   },
   {
    "duration": 225,
    "start_time": "2022-04-08T13:41:59.626Z"
   },
   {
    "duration": 243,
    "start_time": "2022-04-08T13:42:17.432Z"
   },
   {
    "duration": 231,
    "start_time": "2022-04-08T13:42:29.828Z"
   },
   {
    "duration": 227,
    "start_time": "2022-04-08T13:42:46.553Z"
   },
   {
    "duration": 272,
    "start_time": "2022-04-08T13:45:31.813Z"
   },
   {
    "duration": 327,
    "start_time": "2022-04-08T13:47:00.734Z"
   },
   {
    "duration": 348,
    "start_time": "2022-04-08T13:47:13.656Z"
   },
   {
    "duration": 368,
    "start_time": "2022-04-08T13:47:20.707Z"
   },
   {
    "duration": 334,
    "start_time": "2022-04-08T13:47:35.014Z"
   },
   {
    "duration": 306,
    "start_time": "2022-04-08T13:48:33.553Z"
   },
   {
    "duration": 317,
    "start_time": "2022-04-08T13:48:51.083Z"
   },
   {
    "duration": 350,
    "start_time": "2022-04-08T13:49:05.016Z"
   },
   {
    "duration": 353,
    "start_time": "2022-04-08T14:02:11.995Z"
   },
   {
    "duration": 343,
    "start_time": "2022-04-08T14:02:37.309Z"
   },
   {
    "duration": 736,
    "start_time": "2022-04-08T14:02:51.457Z"
   },
   {
    "duration": 363,
    "start_time": "2022-04-08T14:03:21.068Z"
   },
   {
    "duration": 782,
    "start_time": "2022-04-08T14:15:54.678Z"
   },
   {
    "duration": 786,
    "start_time": "2022-04-08T14:16:04.099Z"
   },
   {
    "duration": 784,
    "start_time": "2022-04-08T14:16:34.877Z"
   },
   {
    "duration": 751,
    "start_time": "2022-04-08T14:16:52.842Z"
   },
   {
    "duration": 872,
    "start_time": "2022-04-08T14:17:17.856Z"
   },
   {
    "duration": 780,
    "start_time": "2022-04-08T14:17:46.644Z"
   },
   {
    "duration": 816,
    "start_time": "2022-04-08T14:19:57.024Z"
   },
   {
    "duration": 1366,
    "start_time": "2022-04-08T14:20:09.016Z"
   },
   {
    "duration": 846,
    "start_time": "2022-04-08T14:20:36.531Z"
   },
   {
    "duration": 828,
    "start_time": "2022-04-08T14:20:48.248Z"
   },
   {
    "duration": 769,
    "start_time": "2022-04-08T14:52:36.685Z"
   },
   {
    "duration": 771,
    "start_time": "2022-04-08T14:59:26.271Z"
   },
   {
    "duration": 763,
    "start_time": "2022-04-08T15:00:00.726Z"
   },
   {
    "duration": 175,
    "start_time": "2022-04-08T16:09:26.098Z"
   },
   {
    "duration": 166,
    "start_time": "2022-04-08T16:09:49.237Z"
   },
   {
    "duration": 122,
    "start_time": "2022-04-08T16:10:37.249Z"
   },
   {
    "duration": 183,
    "start_time": "2022-04-08T16:11:14.901Z"
   },
   {
    "duration": 178,
    "start_time": "2022-04-08T16:11:45.153Z"
   },
   {
    "duration": 167,
    "start_time": "2022-04-08T16:11:53.748Z"
   },
   {
    "duration": 129,
    "start_time": "2022-04-08T16:12:18.762Z"
   },
   {
    "duration": 141,
    "start_time": "2022-04-08T16:12:25.131Z"
   },
   {
    "duration": 148,
    "start_time": "2022-04-08T16:12:31.915Z"
   },
   {
    "duration": 164,
    "start_time": "2022-04-08T16:12:37.217Z"
   },
   {
    "duration": 195,
    "start_time": "2022-04-08T16:14:46.978Z"
   },
   {
    "duration": 174,
    "start_time": "2022-04-08T16:14:50.489Z"
   },
   {
    "duration": 185,
    "start_time": "2022-04-08T16:14:53.575Z"
   },
   {
    "duration": 191,
    "start_time": "2022-04-08T16:15:51.465Z"
   },
   {
    "duration": 661,
    "start_time": "2022-04-08T16:16:01.496Z"
   },
   {
    "duration": 164,
    "start_time": "2022-04-08T16:17:20.571Z"
   },
   {
    "duration": 166,
    "start_time": "2022-04-08T16:17:28.706Z"
   },
   {
    "duration": 172,
    "start_time": "2022-04-08T16:17:59.317Z"
   },
   {
    "duration": 184,
    "start_time": "2022-04-08T16:18:05.352Z"
   },
   {
    "duration": 178,
    "start_time": "2022-04-08T16:18:26.820Z"
   },
   {
    "duration": 184,
    "start_time": "2022-04-08T16:18:31.833Z"
   },
   {
    "duration": 176,
    "start_time": "2022-04-08T16:18:36.239Z"
   },
   {
    "duration": 168,
    "start_time": "2022-04-08T16:18:41.998Z"
   },
   {
    "duration": 197,
    "start_time": "2022-04-08T16:18:45.174Z"
   },
   {
    "duration": 194,
    "start_time": "2022-04-08T16:18:48.167Z"
   },
   {
    "duration": 179,
    "start_time": "2022-04-08T16:18:53.380Z"
   },
   {
    "duration": 187,
    "start_time": "2022-04-08T16:18:59.934Z"
   },
   {
    "duration": 174,
    "start_time": "2022-04-08T16:19:03.310Z"
   },
   {
    "duration": 183,
    "start_time": "2022-04-08T16:19:11.065Z"
   },
   {
    "duration": 192,
    "start_time": "2022-04-08T16:19:14.721Z"
   },
   {
    "duration": 188,
    "start_time": "2022-04-08T16:19:47.316Z"
   },
   {
    "duration": 485,
    "start_time": "2022-04-08T16:20:58.176Z"
   },
   {
    "duration": 166,
    "start_time": "2022-04-08T16:21:22.615Z"
   },
   {
    "duration": 129,
    "start_time": "2022-04-08T16:21:45.914Z"
   },
   {
    "duration": 135,
    "start_time": "2022-04-08T16:22:09.058Z"
   },
   {
    "duration": 170,
    "start_time": "2022-04-08T16:22:18.273Z"
   },
   {
    "duration": 165,
    "start_time": "2022-04-08T16:22:32.361Z"
   },
   {
    "duration": 167,
    "start_time": "2022-04-08T16:22:45.074Z"
   },
   {
    "duration": 149,
    "start_time": "2022-04-08T16:22:49.367Z"
   },
   {
    "duration": 163,
    "start_time": "2022-04-08T16:22:52.567Z"
   },
   {
    "duration": 146,
    "start_time": "2022-04-08T16:22:55.459Z"
   },
   {
    "duration": 164,
    "start_time": "2022-04-08T16:22:58.441Z"
   },
   {
    "duration": 183,
    "start_time": "2022-04-08T16:24:15.902Z"
   },
   {
    "duration": 188,
    "start_time": "2022-04-08T16:24:21.160Z"
   },
   {
    "duration": 179,
    "start_time": "2022-04-08T16:24:29.845Z"
   },
   {
    "duration": 182,
    "start_time": "2022-04-08T16:25:06.010Z"
   },
   {
    "duration": 169,
    "start_time": "2022-04-08T16:25:13.234Z"
   },
   {
    "duration": 445,
    "start_time": "2022-04-08T16:26:45.058Z"
   },
   {
    "duration": 443,
    "start_time": "2022-04-08T16:26:59.254Z"
   },
   {
    "duration": 488,
    "start_time": "2022-04-08T16:27:58.560Z"
   },
   {
    "duration": 456,
    "start_time": "2022-04-08T16:29:58.274Z"
   },
   {
    "duration": 407,
    "start_time": "2022-04-08T16:30:53.755Z"
   },
   {
    "duration": 432,
    "start_time": "2022-04-08T16:31:27.691Z"
   },
   {
    "duration": 406,
    "start_time": "2022-04-08T16:31:41.667Z"
   },
   {
    "duration": 423,
    "start_time": "2022-04-08T16:32:10.075Z"
   },
   {
    "duration": 426,
    "start_time": "2022-04-08T16:32:25.702Z"
   },
   {
    "duration": 419,
    "start_time": "2022-04-08T16:32:39.692Z"
   },
   {
    "duration": 410,
    "start_time": "2022-04-08T16:32:52.694Z"
   },
   {
    "duration": 415,
    "start_time": "2022-04-08T16:32:58.672Z"
   },
   {
    "duration": 169,
    "start_time": "2022-04-08T16:33:13.352Z"
   },
   {
    "duration": 670,
    "start_time": "2022-04-08T16:33:17.263Z"
   },
   {
    "duration": 449,
    "start_time": "2022-04-08T16:33:46.815Z"
   },
   {
    "duration": 435,
    "start_time": "2022-04-08T16:33:54.284Z"
   },
   {
    "duration": 457,
    "start_time": "2022-04-08T16:34:03.515Z"
   },
   {
    "duration": 12,
    "start_time": "2022-04-08T16:57:30.222Z"
   },
   {
    "duration": 7,
    "start_time": "2022-04-08T17:36:59.292Z"
   },
   {
    "duration": 273,
    "start_time": "2022-04-08T17:40:53.878Z"
   },
   {
    "duration": 8,
    "start_time": "2022-04-08T17:41:08.201Z"
   },
   {
    "duration": 16,
    "start_time": "2022-04-08T17:47:36.320Z"
   },
   {
    "duration": 13,
    "start_time": "2022-04-08T17:47:52.124Z"
   },
   {
    "duration": 14,
    "start_time": "2022-04-08T17:48:26.359Z"
   },
   {
    "duration": 14,
    "start_time": "2022-04-08T17:48:53.369Z"
   },
   {
    "duration": 15,
    "start_time": "2022-04-08T17:49:06.007Z"
   },
   {
    "duration": 15,
    "start_time": "2022-04-08T17:49:10.863Z"
   },
   {
    "duration": 17,
    "start_time": "2022-04-08T17:49:18.548Z"
   },
   {
    "duration": 15,
    "start_time": "2022-04-08T17:49:34.099Z"
   },
   {
    "duration": 17,
    "start_time": "2022-04-08T17:49:50.592Z"
   },
   {
    "duration": 12,
    "start_time": "2022-04-08T17:50:53.099Z"
   },
   {
    "duration": 16,
    "start_time": "2022-04-08T17:51:04.234Z"
   },
   {
    "duration": 16,
    "start_time": "2022-04-08T17:51:08.987Z"
   },
   {
    "duration": 14,
    "start_time": "2022-04-08T17:53:14.304Z"
   },
   {
    "duration": 28,
    "start_time": "2022-04-08T17:56:31.378Z"
   },
   {
    "duration": 100,
    "start_time": "2022-04-08T17:57:09.415Z"
   },
   {
    "duration": 71,
    "start_time": "2022-04-08T17:57:39.918Z"
   },
   {
    "duration": 62,
    "start_time": "2022-04-08T17:58:24.368Z"
   },
   {
    "duration": 67,
    "start_time": "2022-04-08T17:58:42.028Z"
   },
   {
    "duration": 75,
    "start_time": "2022-04-08T17:59:26.400Z"
   },
   {
    "duration": 75,
    "start_time": "2022-04-08T18:02:50.442Z"
   },
   {
    "duration": 99,
    "start_time": "2022-04-08T18:03:15.275Z"
   },
   {
    "duration": 34,
    "start_time": "2022-04-08T18:03:34.943Z"
   },
   {
    "duration": 32,
    "start_time": "2022-04-08T18:05:24.521Z"
   },
   {
    "duration": 63,
    "start_time": "2022-04-08T18:05:38.383Z"
   },
   {
    "duration": 61,
    "start_time": "2022-04-08T18:06:50.735Z"
   },
   {
    "duration": 66,
    "start_time": "2022-04-08T18:07:03.438Z"
   },
   {
    "duration": 67,
    "start_time": "2022-04-08T18:07:23.340Z"
   },
   {
    "duration": 60,
    "start_time": "2022-04-08T18:07:30.763Z"
   },
   {
    "duration": 23,
    "start_time": "2022-04-08T18:08:03.158Z"
   },
   {
    "duration": 69,
    "start_time": "2022-04-08T18:09:35.091Z"
   },
   {
    "duration": 23,
    "start_time": "2022-04-08T18:09:49.788Z"
   },
   {
    "duration": 61,
    "start_time": "2022-04-08T18:10:42.818Z"
   },
   {
    "duration": 61,
    "start_time": "2022-04-08T18:11:15.588Z"
   },
   {
    "duration": 17,
    "start_time": "2022-04-08T18:21:48.054Z"
   },
   {
    "duration": 56,
    "start_time": "2022-04-08T18:21:51.695Z"
   },
   {
    "duration": 27,
    "start_time": "2022-04-08T18:22:09.391Z"
   },
   {
    "duration": 24,
    "start_time": "2022-04-08T18:22:32.194Z"
   },
   {
    "duration": 66,
    "start_time": "2022-04-08T18:23:21.446Z"
   },
   {
    "duration": 26,
    "start_time": "2022-04-08T18:23:26.644Z"
   },
   {
    "duration": 18,
    "start_time": "2022-04-08T18:23:44.806Z"
   },
   {
    "duration": 25,
    "start_time": "2022-04-08T18:24:47.377Z"
   },
   {
    "duration": 25,
    "start_time": "2022-04-08T18:25:04.641Z"
   },
   {
    "duration": 24,
    "start_time": "2022-04-08T18:26:39.526Z"
   },
   {
    "duration": 31,
    "start_time": "2022-04-08T18:27:04.190Z"
   },
   {
    "duration": 26,
    "start_time": "2022-04-08T18:27:25.092Z"
   },
   {
    "duration": 125,
    "start_time": "2022-04-08T18:27:34.428Z"
   },
   {
    "duration": 14,
    "start_time": "2022-04-08T18:27:34.555Z"
   },
   {
    "duration": 6,
    "start_time": "2022-04-08T18:27:34.571Z"
   },
   {
    "duration": 26,
    "start_time": "2022-04-08T18:27:34.578Z"
   },
   {
    "duration": 13,
    "start_time": "2022-04-08T18:27:34.608Z"
   },
   {
    "duration": 10,
    "start_time": "2022-04-08T18:27:34.622Z"
   },
   {
    "duration": 23,
    "start_time": "2022-04-08T18:27:34.633Z"
   },
   {
    "duration": 51,
    "start_time": "2022-04-08T18:27:34.657Z"
   },
   {
    "duration": 378,
    "start_time": "2022-04-08T18:27:34.710Z"
   },
   {
    "duration": 817,
    "start_time": "2022-04-08T18:27:35.090Z"
   },
   {
    "duration": 391,
    "start_time": "2022-04-08T18:27:35.909Z"
   },
   {
    "duration": 464,
    "start_time": "2022-04-08T18:27:36.308Z"
   },
   {
    "duration": 446,
    "start_time": "2022-04-08T18:27:36.773Z"
   },
   {
    "duration": 161,
    "start_time": "2022-04-08T18:27:37.222Z"
   },
   {
    "duration": 476,
    "start_time": "2022-04-08T18:27:37.385Z"
   },
   {
    "duration": 10,
    "start_time": "2022-04-08T18:27:37.863Z"
   },
   {
    "duration": 24,
    "start_time": "2022-04-08T18:27:37.874Z"
   },
   {
    "duration": 14,
    "start_time": "2022-04-08T18:28:37.323Z"
   },
   {
    "duration": 15,
    "start_time": "2022-04-08T18:29:38.959Z"
   },
   {
    "duration": 16,
    "start_time": "2022-04-08T18:30:02.167Z"
   },
   {
    "duration": 15,
    "start_time": "2022-04-08T18:30:05.276Z"
   },
   {
    "duration": 15,
    "start_time": "2022-04-08T18:30:14.639Z"
   },
   {
    "duration": 13,
    "start_time": "2022-04-08T18:30:29.664Z"
   },
   {
    "duration": 18,
    "start_time": "2022-04-08T18:30:35.296Z"
   },
   {
    "duration": 18,
    "start_time": "2022-04-08T18:31:09.891Z"
   },
   {
    "duration": 12,
    "start_time": "2022-04-08T18:31:16.066Z"
   },
   {
    "duration": 14,
    "start_time": "2022-04-08T18:31:30.754Z"
   },
   {
    "duration": 24,
    "start_time": "2022-04-08T18:31:52.391Z"
   },
   {
    "duration": 23,
    "start_time": "2022-04-08T18:32:05.344Z"
   },
   {
    "duration": 27,
    "start_time": "2022-04-08T18:32:16.701Z"
   },
   {
    "duration": 28,
    "start_time": "2022-04-08T18:32:24.369Z"
   },
   {
    "duration": 24,
    "start_time": "2022-04-08T18:32:43.386Z"
   },
   {
    "duration": 24,
    "start_time": "2022-04-08T18:32:55.563Z"
   },
   {
    "duration": 26,
    "start_time": "2022-04-08T18:33:41.845Z"
   },
   {
    "duration": 27,
    "start_time": "2022-04-08T18:33:54.337Z"
   },
   {
    "duration": 24,
    "start_time": "2022-04-08T18:34:25.401Z"
   },
   {
    "duration": 24,
    "start_time": "2022-04-08T18:34:51.465Z"
   },
   {
    "duration": 23,
    "start_time": "2022-04-08T18:35:47.987Z"
   },
   {
    "duration": 25,
    "start_time": "2022-04-08T18:36:58.964Z"
   },
   {
    "duration": 23,
    "start_time": "2022-04-08T18:39:46.310Z"
   },
   {
    "duration": 32,
    "start_time": "2022-04-08T18:40:02.734Z"
   },
   {
    "duration": 33,
    "start_time": "2022-04-08T18:40:10.189Z"
   },
   {
    "duration": 25,
    "start_time": "2022-04-08T18:40:13.856Z"
   },
   {
    "duration": 23,
    "start_time": "2022-04-08T18:40:50.061Z"
   },
   {
    "duration": 50,
    "start_time": "2022-04-09T17:19:15.710Z"
   },
   {
    "duration": 630,
    "start_time": "2022-04-09T17:19:19.702Z"
   },
   {
    "duration": 19,
    "start_time": "2022-04-09T17:19:20.335Z"
   },
   {
    "duration": 11,
    "start_time": "2022-04-09T17:19:20.356Z"
   },
   {
    "duration": 12,
    "start_time": "2022-04-09T17:19:20.369Z"
   },
   {
    "duration": 15,
    "start_time": "2022-04-09T17:19:20.383Z"
   },
   {
    "duration": 8,
    "start_time": "2022-04-09T17:19:20.433Z"
   },
   {
    "duration": 12,
    "start_time": "2022-04-09T17:19:20.443Z"
   },
   {
    "duration": 82,
    "start_time": "2022-04-09T17:19:20.458Z"
   },
   {
    "duration": 499,
    "start_time": "2022-04-09T17:19:20.543Z"
   },
   {
    "duration": 1549,
    "start_time": "2022-04-09T17:19:21.045Z"
   },
   {
    "duration": 508,
    "start_time": "2022-04-09T17:19:22.596Z"
   },
   {
    "duration": 650,
    "start_time": "2022-04-09T17:19:23.107Z"
   },
   {
    "duration": 533,
    "start_time": "2022-04-09T17:19:23.759Z"
   },
   {
    "duration": 205,
    "start_time": "2022-04-09T17:19:24.295Z"
   },
   {
    "duration": 656,
    "start_time": "2022-04-09T17:19:24.502Z"
   },
   {
    "duration": 12,
    "start_time": "2022-04-09T17:19:25.160Z"
   },
   {
    "duration": 32,
    "start_time": "2022-04-09T17:19:25.174Z"
   },
   {
    "duration": 62,
    "start_time": "2022-04-09T17:19:25.208Z"
   },
   {
    "duration": 37,
    "start_time": "2022-04-09T17:19:43.015Z"
   },
   {
    "duration": 37,
    "start_time": "2022-04-09T17:19:47.262Z"
   },
   {
    "duration": 38,
    "start_time": "2022-04-09T17:19:54.681Z"
   },
   {
    "duration": 42,
    "start_time": "2022-04-09T17:21:30.116Z"
   },
   {
    "duration": 28,
    "start_time": "2022-04-09T17:21:40.417Z"
   },
   {
    "duration": 28,
    "start_time": "2022-04-09T17:21:49.051Z"
   },
   {
    "duration": 38,
    "start_time": "2022-04-09T17:22:40.911Z"
   },
   {
    "duration": 41,
    "start_time": "2022-04-09T17:28:16.706Z"
   },
   {
    "duration": 47,
    "start_time": "2022-04-09T17:28:32.214Z"
   },
   {
    "duration": 40,
    "start_time": "2022-04-09T17:28:44.462Z"
   },
   {
    "duration": 54,
    "start_time": "2022-04-09T17:30:21.894Z"
   },
   {
    "duration": 2843,
    "start_time": "2022-04-09T17:31:45.863Z"
   },
   {
    "duration": 250,
    "start_time": "2022-04-09T17:32:37.102Z"
   },
   {
    "duration": 2809,
    "start_time": "2022-04-09T17:33:04.023Z"
   },
   {
    "duration": 235,
    "start_time": "2022-04-09T17:33:15.269Z"
   },
   {
    "duration": 204,
    "start_time": "2022-04-09T17:34:00.386Z"
   },
   {
    "duration": 200,
    "start_time": "2022-04-09T17:34:08.450Z"
   },
   {
    "duration": 215,
    "start_time": "2022-04-09T17:34:30.337Z"
   },
   {
    "duration": 214,
    "start_time": "2022-04-09T17:35:03.761Z"
   },
   {
    "duration": 208,
    "start_time": "2022-04-09T17:35:08.489Z"
   },
   {
    "duration": 4708,
    "start_time": "2022-04-09T17:36:08.108Z"
   },
   {
    "duration": 3348,
    "start_time": "2022-04-09T17:36:20.051Z"
   },
   {
    "duration": 28,
    "start_time": "2022-04-09T17:36:36.055Z"
   },
   {
    "duration": 16,
    "start_time": "2022-04-09T17:39:13.876Z"
   },
   {
    "duration": 17,
    "start_time": "2022-04-09T17:39:24.032Z"
   },
   {
    "duration": 32,
    "start_time": "2022-04-09T17:39:51.073Z"
   },
   {
    "duration": 29,
    "start_time": "2022-04-09T17:40:23.292Z"
   },
   {
    "duration": 30,
    "start_time": "2022-04-09T17:41:01.194Z"
   },
   {
    "duration": 171,
    "start_time": "2022-04-09T17:41:19.909Z"
   },
   {
    "duration": 176,
    "start_time": "2022-04-09T17:41:35.033Z"
   },
   {
    "duration": 965,
    "start_time": "2022-04-09T17:41:48.561Z"
   },
   {
    "duration": 190,
    "start_time": "2022-04-09T17:42:11.744Z"
   },
   {
    "duration": 202,
    "start_time": "2022-04-09T17:42:41.302Z"
   },
   {
    "duration": 206,
    "start_time": "2022-04-09T17:42:59.888Z"
   },
   {
    "duration": 187,
    "start_time": "2022-04-09T17:43:07.331Z"
   },
   {
    "duration": 238,
    "start_time": "2022-04-09T17:43:18.793Z"
   },
   {
    "duration": 280,
    "start_time": "2022-04-09T17:43:25.717Z"
   },
   {
    "duration": 171,
    "start_time": "2022-04-09T17:43:28.323Z"
   },
   {
    "duration": 250,
    "start_time": "2022-04-09T17:43:31.054Z"
   },
   {
    "duration": 186,
    "start_time": "2022-04-09T17:43:34.053Z"
   },
   {
    "duration": 186,
    "start_time": "2022-04-09T17:43:39.712Z"
   },
   {
    "duration": 138,
    "start_time": "2022-04-09T17:46:09.267Z"
   },
   {
    "duration": 151,
    "start_time": "2022-04-09T17:46:17.117Z"
   },
   {
    "duration": 182,
    "start_time": "2022-04-09T17:46:32.115Z"
   },
   {
    "duration": 177,
    "start_time": "2022-04-09T17:46:51.895Z"
   },
   {
    "duration": 175,
    "start_time": "2022-04-09T17:46:55.034Z"
   },
   {
    "duration": 199,
    "start_time": "2022-04-09T18:11:31.070Z"
   },
   {
    "duration": 263,
    "start_time": "2022-04-09T18:11:45.249Z"
   },
   {
    "duration": 188,
    "start_time": "2022-04-09T18:12:33.646Z"
   },
   {
    "duration": 171,
    "start_time": "2022-04-09T18:14:16.596Z"
   },
   {
    "duration": 167,
    "start_time": "2022-04-09T18:14:25.061Z"
   },
   {
    "duration": 167,
    "start_time": "2022-04-09T18:18:18.290Z"
   },
   {
    "duration": 178,
    "start_time": "2022-04-09T18:18:28.116Z"
   },
   {
    "duration": 160,
    "start_time": "2022-04-09T18:18:57.388Z"
   },
   {
    "duration": 179,
    "start_time": "2022-04-09T18:19:05.962Z"
   },
   {
    "duration": 178,
    "start_time": "2022-04-09T18:25:30.156Z"
   },
   {
    "duration": 197,
    "start_time": "2022-04-09T18:25:40.009Z"
   },
   {
    "duration": 202,
    "start_time": "2022-04-09T18:25:45.625Z"
   },
   {
    "duration": 127,
    "start_time": "2022-04-09T18:30:28.441Z"
   },
   {
    "duration": 299,
    "start_time": "2022-04-09T18:31:53.707Z"
   },
   {
    "duration": 288,
    "start_time": "2022-04-09T18:32:23.294Z"
   },
   {
    "duration": 289,
    "start_time": "2022-04-09T18:32:42.114Z"
   },
   {
    "duration": 259,
    "start_time": "2022-04-09T18:32:54.855Z"
   },
   {
    "duration": 253,
    "start_time": "2022-04-09T18:32:59.676Z"
   },
   {
    "duration": 287,
    "start_time": "2022-04-09T18:35:55.795Z"
   },
   {
    "duration": 314,
    "start_time": "2022-04-09T18:36:12.954Z"
   },
   {
    "duration": 290,
    "start_time": "2022-04-09T18:36:24.428Z"
   },
   {
    "duration": 411,
    "start_time": "2022-04-09T18:36:38.625Z"
   },
   {
    "duration": 292,
    "start_time": "2022-04-09T18:36:49.693Z"
   },
   {
    "duration": 304,
    "start_time": "2022-04-09T18:38:11.839Z"
   },
   {
    "duration": 305,
    "start_time": "2022-04-09T18:38:16.153Z"
   },
   {
    "duration": 331,
    "start_time": "2022-04-09T18:38:26.768Z"
   },
   {
    "duration": 299,
    "start_time": "2022-04-09T18:39:26.153Z"
   },
   {
    "duration": 596,
    "start_time": "2022-04-09T18:39:37.880Z"
   },
   {
    "duration": 253,
    "start_time": "2022-04-09T18:40:06.812Z"
   },
   {
    "duration": 226,
    "start_time": "2022-04-09T18:40:12.159Z"
   },
   {
    "duration": 243,
    "start_time": "2022-04-09T18:40:39.210Z"
   },
   {
    "duration": 231,
    "start_time": "2022-04-09T18:42:20.755Z"
   },
   {
    "duration": 221,
    "start_time": "2022-04-09T18:42:39.550Z"
   },
   {
    "duration": 231,
    "start_time": "2022-04-09T18:43:24.066Z"
   },
   {
    "duration": 854,
    "start_time": "2022-04-09T18:54:44.538Z"
   },
   {
    "duration": 974,
    "start_time": "2022-04-09T18:54:59.161Z"
   },
   {
    "duration": 5,
    "start_time": "2022-04-09T19:11:03.998Z"
   },
   {
    "duration": 15,
    "start_time": "2022-04-09T19:12:14.742Z"
   },
   {
    "duration": 177,
    "start_time": "2022-04-09T19:13:14.713Z"
   },
   {
    "duration": 186,
    "start_time": "2022-04-09T19:13:25.147Z"
   },
   {
    "duration": 176,
    "start_time": "2022-04-09T19:13:39.812Z"
   },
   {
    "duration": 165,
    "start_time": "2022-04-09T19:14:18.248Z"
   },
   {
    "duration": 176,
    "start_time": "2022-04-09T19:14:28.803Z"
   },
   {
    "duration": 172,
    "start_time": "2022-04-09T19:14:32.901Z"
   },
   {
    "duration": 172,
    "start_time": "2022-04-09T19:14:35.883Z"
   },
   {
    "duration": 149,
    "start_time": "2022-04-09T19:15:16.326Z"
   },
   {
    "duration": 220,
    "start_time": "2022-04-09T19:15:26.857Z"
   },
   {
    "duration": 133,
    "start_time": "2022-04-09T19:15:38.354Z"
   },
   {
    "duration": 159,
    "start_time": "2022-04-09T19:15:54.107Z"
   },
   {
    "duration": 163,
    "start_time": "2022-04-09T19:20:14.210Z"
   },
   {
    "duration": 149,
    "start_time": "2022-04-09T19:22:41.750Z"
   },
   {
    "duration": 168,
    "start_time": "2022-04-09T19:22:45.922Z"
   },
   {
    "duration": 55,
    "start_time": "2022-04-10T10:53:34.530Z"
   },
   {
    "duration": 555,
    "start_time": "2022-04-10T10:53:38.014Z"
   },
   {
    "duration": 18,
    "start_time": "2022-04-10T10:53:38.571Z"
   },
   {
    "duration": 8,
    "start_time": "2022-04-10T10:53:38.590Z"
   },
   {
    "duration": 43,
    "start_time": "2022-04-10T10:53:38.600Z"
   },
   {
    "duration": 12,
    "start_time": "2022-04-10T10:53:38.645Z"
   },
   {
    "duration": 12,
    "start_time": "2022-04-10T10:53:38.658Z"
   },
   {
    "duration": 8,
    "start_time": "2022-04-10T10:53:38.673Z"
   },
   {
    "duration": 80,
    "start_time": "2022-04-10T10:53:38.683Z"
   },
   {
    "duration": 380,
    "start_time": "2022-04-10T10:53:38.765Z"
   },
   {
    "duration": 1217,
    "start_time": "2022-04-10T10:53:39.148Z"
   },
   {
    "duration": 353,
    "start_time": "2022-04-10T10:53:40.367Z"
   },
   {
    "duration": 1209,
    "start_time": "2022-04-10T10:53:40.722Z"
   },
   {
    "duration": 451,
    "start_time": "2022-04-10T10:53:41.933Z"
   },
   {
    "duration": 177,
    "start_time": "2022-04-10T10:53:42.387Z"
   },
   {
    "duration": 552,
    "start_time": "2022-04-10T10:53:42.566Z"
   },
   {
    "duration": 23,
    "start_time": "2022-04-10T10:53:43.120Z"
   },
   {
    "duration": 27,
    "start_time": "2022-04-10T10:53:43.145Z"
   },
   {
    "duration": 191,
    "start_time": "2022-04-10T10:53:43.173Z"
   },
   {
    "duration": 1006,
    "start_time": "2022-04-10T10:53:43.366Z"
   },
   {
    "duration": 305,
    "start_time": "2022-04-10T10:53:44.373Z"
   },
   {
    "duration": 1286,
    "start_time": "2022-04-10T10:54:12.791Z"
   },
   {
    "duration": 1390,
    "start_time": "2022-04-10T10:54:19.649Z"
   },
   {
    "duration": 113,
    "start_time": "2022-04-10T10:57:17.927Z"
   },
   {
    "duration": 17,
    "start_time": "2022-04-10T10:57:18.043Z"
   },
   {
    "duration": 8,
    "start_time": "2022-04-10T10:57:18.061Z"
   },
   {
    "duration": 11,
    "start_time": "2022-04-10T10:57:18.071Z"
   },
   {
    "duration": 11,
    "start_time": "2022-04-10T10:57:18.084Z"
   },
   {
    "duration": 44,
    "start_time": "2022-04-10T10:57:18.097Z"
   },
   {
    "duration": 8,
    "start_time": "2022-04-10T10:57:18.143Z"
   },
   {
    "duration": 151,
    "start_time": "2022-04-10T10:57:18.152Z"
   },
   {
    "duration": 337,
    "start_time": "2022-04-10T10:57:18.305Z"
   },
   {
    "duration": 740,
    "start_time": "2022-04-10T10:57:18.644Z"
   },
   {
    "duration": 354,
    "start_time": "2022-04-10T10:57:19.385Z"
   },
   {
    "duration": 440,
    "start_time": "2022-04-10T10:57:19.741Z"
   },
   {
    "duration": 506,
    "start_time": "2022-04-10T10:57:20.183Z"
   },
   {
    "duration": 166,
    "start_time": "2022-04-10T10:57:20.693Z"
   },
   {
    "duration": 465,
    "start_time": "2022-04-10T10:57:20.861Z"
   },
   {
    "duration": 18,
    "start_time": "2022-04-10T10:57:21.327Z"
   },
   {
    "duration": 29,
    "start_time": "2022-04-10T10:57:21.346Z"
   },
   {
    "duration": 194,
    "start_time": "2022-04-10T10:57:21.377Z"
   },
   {
    "duration": 741,
    "start_time": "2022-04-10T10:57:21.573Z"
   },
   {
    "duration": 157,
    "start_time": "2022-04-10T10:57:22.315Z"
   },
   {
    "duration": 786,
    "start_time": "2022-04-10T11:07:30.274Z"
   },
   {
    "duration": 148,
    "start_time": "2022-04-10T11:09:51.811Z"
   },
   {
    "duration": 110,
    "start_time": "2022-04-10T11:10:33.990Z"
   },
   {
    "duration": 18,
    "start_time": "2022-04-10T11:10:34.102Z"
   },
   {
    "duration": 22,
    "start_time": "2022-04-10T11:10:34.122Z"
   },
   {
    "duration": 14,
    "start_time": "2022-04-10T11:10:34.146Z"
   },
   {
    "duration": 21,
    "start_time": "2022-04-10T11:10:34.162Z"
   },
   {
    "duration": 11,
    "start_time": "2022-04-10T11:10:34.185Z"
   },
   {
    "duration": 12,
    "start_time": "2022-04-10T11:10:34.197Z"
   },
   {
    "duration": 66,
    "start_time": "2022-04-10T11:10:34.211Z"
   },
   {
    "duration": 334,
    "start_time": "2022-04-10T11:10:34.279Z"
   },
   {
    "duration": 783,
    "start_time": "2022-04-10T11:10:34.616Z"
   },
   {
    "duration": 372,
    "start_time": "2022-04-10T11:10:35.401Z"
   },
   {
    "duration": 517,
    "start_time": "2022-04-10T11:10:35.775Z"
   },
   {
    "duration": 473,
    "start_time": "2022-04-10T11:10:36.295Z"
   },
   {
    "duration": 177,
    "start_time": "2022-04-10T11:10:36.770Z"
   },
   {
    "duration": 489,
    "start_time": "2022-04-10T11:10:36.949Z"
   },
   {
    "duration": 13,
    "start_time": "2022-04-10T11:10:37.440Z"
   },
   {
    "duration": 28,
    "start_time": "2022-04-10T11:10:37.455Z"
   },
   {
    "duration": 213,
    "start_time": "2022-04-10T11:10:37.485Z"
   },
   {
    "duration": 1012,
    "start_time": "2022-04-10T11:10:37.699Z"
   },
   {
    "duration": 270,
    "start_time": "2022-04-10T11:10:38.713Z"
   },
   {
    "duration": 1333,
    "start_time": "2022-04-10T11:23:44.431Z"
   },
   {
    "duration": 1177,
    "start_time": "2022-04-10T11:24:25.826Z"
   },
   {
    "duration": 1284,
    "start_time": "2022-04-10T11:25:07.395Z"
   },
   {
    "duration": 1379,
    "start_time": "2022-04-19T13:09:49.959Z"
   },
   {
    "duration": 92,
    "start_time": "2022-04-19T13:09:51.343Z"
   },
   {
    "duration": 17,
    "start_time": "2022-04-19T13:09:51.438Z"
   },
   {
    "duration": 83,
    "start_time": "2022-04-19T13:09:51.462Z"
   },
   {
    "duration": 73,
    "start_time": "2022-04-19T13:09:51.552Z"
   },
   {
    "duration": 14,
    "start_time": "2022-04-19T13:09:51.629Z"
   },
   {
    "duration": 109,
    "start_time": "2022-04-19T13:09:51.647Z"
   },
   {
    "duration": 176,
    "start_time": "2022-04-19T13:09:51.760Z"
   },
   {
    "duration": 1898,
    "start_time": "2022-04-19T13:09:51.939Z"
   },
   {
    "duration": 6894,
    "start_time": "2022-04-19T13:09:53.841Z"
   },
   {
    "duration": 556,
    "start_time": "2022-04-19T14:15:42.422Z"
   },
   {
    "duration": 15,
    "start_time": "2022-04-19T14:15:42.980Z"
   },
   {
    "duration": 7,
    "start_time": "2022-04-19T14:15:42.997Z"
   },
   {
    "duration": 27,
    "start_time": "2022-04-19T14:15:43.006Z"
   },
   {
    "duration": 13,
    "start_time": "2022-04-19T14:15:43.035Z"
   },
   {
    "duration": 2,
    "start_time": "2022-04-19T14:15:43.050Z"
   },
   {
    "duration": 3,
    "start_time": "2022-04-19T14:15:43.054Z"
   },
   {
    "duration": 98,
    "start_time": "2022-04-19T14:15:43.059Z"
   },
   {
    "duration": 0,
    "start_time": "2022-04-19T14:15:43.159Z"
   },
   {
    "duration": 0,
    "start_time": "2022-04-19T14:15:43.160Z"
   },
   {
    "duration": 0,
    "start_time": "2022-04-19T14:15:43.162Z"
   },
   {
    "duration": 0,
    "start_time": "2022-04-19T14:15:43.163Z"
   },
   {
    "duration": 0,
    "start_time": "2022-04-19T14:15:43.164Z"
   },
   {
    "duration": 0,
    "start_time": "2022-04-19T14:15:43.165Z"
   },
   {
    "duration": 1,
    "start_time": "2022-04-19T14:15:43.166Z"
   },
   {
    "duration": 0,
    "start_time": "2022-04-19T14:15:43.168Z"
   },
   {
    "duration": 0,
    "start_time": "2022-04-19T14:15:43.169Z"
   },
   {
    "duration": 0,
    "start_time": "2022-04-19T14:15:43.170Z"
   },
   {
    "duration": 0,
    "start_time": "2022-04-19T14:15:43.171Z"
   },
   {
    "duration": 0,
    "start_time": "2022-04-19T14:15:43.172Z"
   },
   {
    "duration": 51,
    "start_time": "2022-04-19T14:31:24.423Z"
   },
   {
    "duration": 14,
    "start_time": "2022-04-19T14:31:38.699Z"
   },
   {
    "duration": 82,
    "start_time": "2022-04-19T14:33:09.972Z"
   },
   {
    "duration": 205,
    "start_time": "2022-04-19T14:37:04.009Z"
   },
   {
    "duration": 21,
    "start_time": "2022-04-19T14:44:26.070Z"
   },
   {
    "duration": 42,
    "start_time": "2022-04-19T14:45:16.366Z"
   },
   {
    "duration": 20,
    "start_time": "2022-04-19T14:48:26.883Z"
   },
   {
    "duration": 18,
    "start_time": "2022-04-19T14:48:31.380Z"
   },
   {
    "duration": 23,
    "start_time": "2022-04-19T14:48:37.307Z"
   },
   {
    "duration": 19,
    "start_time": "2022-04-19T14:49:27.236Z"
   },
   {
    "duration": 26,
    "start_time": "2022-04-19T14:49:36.362Z"
   },
   {
    "duration": 47,
    "start_time": "2022-04-19T14:49:59.896Z"
   },
   {
    "duration": 111,
    "start_time": "2022-04-19T14:50:02.164Z"
   },
   {
    "duration": 16,
    "start_time": "2022-04-19T14:50:02.276Z"
   },
   {
    "duration": 7,
    "start_time": "2022-04-19T14:50:02.293Z"
   },
   {
    "duration": 26,
    "start_time": "2022-04-19T14:50:02.302Z"
   },
   {
    "duration": 11,
    "start_time": "2022-04-19T14:50:02.330Z"
   },
   {
    "duration": 2,
    "start_time": "2022-04-19T14:50:02.343Z"
   },
   {
    "duration": 7,
    "start_time": "2022-04-19T14:50:02.346Z"
   },
   {
    "duration": 44,
    "start_time": "2022-04-19T14:50:02.355Z"
   },
   {
    "duration": 1026,
    "start_time": "2022-04-19T14:50:02.401Z"
   },
   {
    "duration": 0,
    "start_time": "2022-04-19T14:50:03.429Z"
   },
   {
    "duration": 0,
    "start_time": "2022-04-19T14:50:03.434Z"
   },
   {
    "duration": 0,
    "start_time": "2022-04-19T14:50:03.437Z"
   },
   {
    "duration": 0,
    "start_time": "2022-04-19T14:50:03.438Z"
   },
   {
    "duration": 0,
    "start_time": "2022-04-19T14:50:03.440Z"
   },
   {
    "duration": 0,
    "start_time": "2022-04-19T14:50:03.442Z"
   },
   {
    "duration": 0,
    "start_time": "2022-04-19T14:50:03.443Z"
   },
   {
    "duration": 0,
    "start_time": "2022-04-19T14:50:03.444Z"
   },
   {
    "duration": 0,
    "start_time": "2022-04-19T14:50:03.445Z"
   },
   {
    "duration": 0,
    "start_time": "2022-04-19T14:50:03.447Z"
   },
   {
    "duration": 0,
    "start_time": "2022-04-19T14:50:03.449Z"
   },
   {
    "duration": 122,
    "start_time": "2022-04-19T14:52:48.813Z"
   },
   {
    "duration": 17,
    "start_time": "2022-04-19T14:52:48.937Z"
   },
   {
    "duration": 7,
    "start_time": "2022-04-19T14:52:48.955Z"
   },
   {
    "duration": 10,
    "start_time": "2022-04-19T14:52:48.965Z"
   },
   {
    "duration": 10,
    "start_time": "2022-04-19T14:52:48.977Z"
   },
   {
    "duration": 38,
    "start_time": "2022-04-19T14:52:48.989Z"
   },
   {
    "duration": 10,
    "start_time": "2022-04-19T14:52:49.029Z"
   },
   {
    "duration": 50,
    "start_time": "2022-04-19T14:52:49.040Z"
   },
   {
    "duration": 1147,
    "start_time": "2022-04-19T14:52:49.092Z"
   },
   {
    "duration": 0,
    "start_time": "2022-04-19T14:52:50.241Z"
   },
   {
    "duration": 0,
    "start_time": "2022-04-19T14:52:50.243Z"
   },
   {
    "duration": 0,
    "start_time": "2022-04-19T14:52:50.244Z"
   },
   {
    "duration": 0,
    "start_time": "2022-04-19T14:52:50.245Z"
   },
   {
    "duration": 0,
    "start_time": "2022-04-19T14:52:50.246Z"
   },
   {
    "duration": 0,
    "start_time": "2022-04-19T14:52:50.247Z"
   },
   {
    "duration": 0,
    "start_time": "2022-04-19T14:52:50.248Z"
   },
   {
    "duration": 0,
    "start_time": "2022-04-19T14:52:50.249Z"
   },
   {
    "duration": 0,
    "start_time": "2022-04-19T14:52:50.250Z"
   },
   {
    "duration": 0,
    "start_time": "2022-04-19T14:52:50.251Z"
   },
   {
    "duration": 0,
    "start_time": "2022-04-19T14:52:50.252Z"
   },
   {
    "duration": 6,
    "start_time": "2022-04-19T14:55:15.842Z"
   },
   {
    "duration": 8,
    "start_time": "2022-04-19T14:55:26.563Z"
   },
   {
    "duration": 12,
    "start_time": "2022-04-19T14:55:46.725Z"
   },
   {
    "duration": 8,
    "start_time": "2022-04-19T14:59:25.146Z"
   },
   {
    "duration": 10,
    "start_time": "2022-04-19T15:14:35.261Z"
   },
   {
    "duration": 15,
    "start_time": "2022-04-19T15:14:50.338Z"
   },
   {
    "duration": 13,
    "start_time": "2022-04-19T15:15:05.959Z"
   },
   {
    "duration": 15,
    "start_time": "2022-04-19T15:15:24.732Z"
   },
   {
    "duration": 12,
    "start_time": "2022-04-19T15:16:21.413Z"
   },
   {
    "duration": 13,
    "start_time": "2022-04-19T15:16:30.337Z"
   },
   {
    "duration": 220,
    "start_time": "2022-04-19T15:25:56.456Z"
   },
   {
    "duration": 200,
    "start_time": "2022-04-19T15:26:02.538Z"
   },
   {
    "duration": 12,
    "start_time": "2022-04-19T15:26:16.873Z"
   },
   {
    "duration": 12,
    "start_time": "2022-04-19T15:26:46.175Z"
   },
   {
    "duration": 149,
    "start_time": "2022-04-19T15:26:53.606Z"
   },
   {
    "duration": 16,
    "start_time": "2022-04-19T15:26:53.759Z"
   },
   {
    "duration": 8,
    "start_time": "2022-04-19T15:26:53.777Z"
   },
   {
    "duration": 8,
    "start_time": "2022-04-19T15:26:53.786Z"
   },
   {
    "duration": 29,
    "start_time": "2022-04-19T15:26:53.796Z"
   },
   {
    "duration": 2,
    "start_time": "2022-04-19T15:26:53.827Z"
   },
   {
    "duration": 14,
    "start_time": "2022-04-19T15:26:53.831Z"
   },
   {
    "duration": 19,
    "start_time": "2022-04-19T15:26:53.850Z"
   },
   {
    "duration": 54,
    "start_time": "2022-04-19T15:26:53.871Z"
   },
   {
    "duration": 941,
    "start_time": "2022-04-19T15:26:53.927Z"
   },
   {
    "duration": 0,
    "start_time": "2022-04-19T15:26:54.870Z"
   },
   {
    "duration": 0,
    "start_time": "2022-04-19T15:26:54.871Z"
   },
   {
    "duration": 0,
    "start_time": "2022-04-19T15:26:54.873Z"
   },
   {
    "duration": 0,
    "start_time": "2022-04-19T15:26:54.874Z"
   },
   {
    "duration": 0,
    "start_time": "2022-04-19T15:26:54.875Z"
   },
   {
    "duration": 0,
    "start_time": "2022-04-19T15:26:54.876Z"
   },
   {
    "duration": 0,
    "start_time": "2022-04-19T15:26:54.877Z"
   },
   {
    "duration": 0,
    "start_time": "2022-04-19T15:26:54.878Z"
   },
   {
    "duration": 0,
    "start_time": "2022-04-19T15:26:54.879Z"
   },
   {
    "duration": 0,
    "start_time": "2022-04-19T15:26:54.880Z"
   },
   {
    "duration": 0,
    "start_time": "2022-04-19T15:26:54.881Z"
   },
   {
    "duration": 24,
    "start_time": "2022-04-19T15:27:12.590Z"
   },
   {
    "duration": 27,
    "start_time": "2022-04-19T15:28:16.861Z"
   },
   {
    "duration": 12,
    "start_time": "2022-04-19T15:29:00.490Z"
   },
   {
    "duration": 17,
    "start_time": "2022-04-19T15:29:12.908Z"
   },
   {
    "duration": 12,
    "start_time": "2022-04-19T15:29:32.097Z"
   },
   {
    "duration": 15,
    "start_time": "2022-04-19T15:29:48.563Z"
   },
   {
    "duration": 138,
    "start_time": "2022-04-19T15:29:58.455Z"
   },
   {
    "duration": 29,
    "start_time": "2022-04-19T15:29:58.595Z"
   },
   {
    "duration": 13,
    "start_time": "2022-04-19T15:29:58.629Z"
   },
   {
    "duration": 13,
    "start_time": "2022-04-19T15:29:58.645Z"
   },
   {
    "duration": 11,
    "start_time": "2022-04-19T15:29:58.660Z"
   },
   {
    "duration": 2,
    "start_time": "2022-04-19T15:29:58.673Z"
   },
   {
    "duration": 4,
    "start_time": "2022-04-19T15:29:58.677Z"
   },
   {
    "duration": 63,
    "start_time": "2022-04-19T15:29:58.683Z"
   },
   {
    "duration": 60,
    "start_time": "2022-04-19T15:29:58.747Z"
   },
   {
    "duration": 900,
    "start_time": "2022-04-19T15:29:58.811Z"
   },
   {
    "duration": 0,
    "start_time": "2022-04-19T15:29:59.713Z"
   },
   {
    "duration": 0,
    "start_time": "2022-04-19T15:29:59.714Z"
   },
   {
    "duration": 0,
    "start_time": "2022-04-19T15:29:59.716Z"
   },
   {
    "duration": 0,
    "start_time": "2022-04-19T15:29:59.717Z"
   },
   {
    "duration": 0,
    "start_time": "2022-04-19T15:29:59.718Z"
   },
   {
    "duration": 0,
    "start_time": "2022-04-19T15:29:59.719Z"
   },
   {
    "duration": 0,
    "start_time": "2022-04-19T15:29:59.720Z"
   },
   {
    "duration": 0,
    "start_time": "2022-04-19T15:29:59.721Z"
   },
   {
    "duration": 0,
    "start_time": "2022-04-19T15:29:59.725Z"
   },
   {
    "duration": 0,
    "start_time": "2022-04-19T15:29:59.726Z"
   },
   {
    "duration": 0,
    "start_time": "2022-04-19T15:29:59.727Z"
   },
   {
    "duration": 11,
    "start_time": "2022-04-19T15:37:06.677Z"
   },
   {
    "duration": 11,
    "start_time": "2022-04-19T15:37:13.712Z"
   },
   {
    "duration": 16,
    "start_time": "2022-04-19T15:37:27.319Z"
   },
   {
    "duration": 15,
    "start_time": "2022-04-19T15:37:33.525Z"
   },
   {
    "duration": 19,
    "start_time": "2022-04-19T15:38:19.474Z"
   },
   {
    "duration": 131,
    "start_time": "2022-04-19T15:38:23.070Z"
   },
   {
    "duration": 15,
    "start_time": "2022-04-19T15:38:23.203Z"
   },
   {
    "duration": 8,
    "start_time": "2022-04-19T15:38:23.224Z"
   },
   {
    "duration": 10,
    "start_time": "2022-04-19T15:38:23.234Z"
   },
   {
    "duration": 12,
    "start_time": "2022-04-19T15:38:23.247Z"
   },
   {
    "duration": 2,
    "start_time": "2022-04-19T15:38:23.261Z"
   },
   {
    "duration": 8,
    "start_time": "2022-04-19T15:38:23.265Z"
   },
   {
    "duration": 73,
    "start_time": "2022-04-19T15:38:23.277Z"
   },
   {
    "duration": 49,
    "start_time": "2022-04-19T15:38:23.355Z"
   },
   {
    "duration": 881,
    "start_time": "2022-04-19T15:38:23.406Z"
   },
   {
    "duration": 0,
    "start_time": "2022-04-19T15:38:24.289Z"
   },
   {
    "duration": 0,
    "start_time": "2022-04-19T15:38:24.291Z"
   },
   {
    "duration": 0,
    "start_time": "2022-04-19T15:38:24.292Z"
   },
   {
    "duration": 0,
    "start_time": "2022-04-19T15:38:24.294Z"
   },
   {
    "duration": 0,
    "start_time": "2022-04-19T15:38:24.295Z"
   },
   {
    "duration": 0,
    "start_time": "2022-04-19T15:38:24.297Z"
   },
   {
    "duration": 0,
    "start_time": "2022-04-19T15:38:24.299Z"
   },
   {
    "duration": 0,
    "start_time": "2022-04-19T15:38:24.300Z"
   },
   {
    "duration": 0,
    "start_time": "2022-04-19T15:38:24.301Z"
   },
   {
    "duration": 0,
    "start_time": "2022-04-19T15:38:24.303Z"
   },
   {
    "duration": 0,
    "start_time": "2022-04-19T15:38:24.305Z"
   },
   {
    "duration": 65,
    "start_time": "2022-04-19T15:38:48.751Z"
   },
   {
    "duration": 73,
    "start_time": "2022-04-19T15:39:13.741Z"
   },
   {
    "duration": 126,
    "start_time": "2022-04-19T15:39:56.582Z"
   },
   {
    "duration": 128,
    "start_time": "2022-04-19T15:40:18.681Z"
   },
   {
    "duration": 27,
    "start_time": "2022-04-19T15:40:18.811Z"
   },
   {
    "duration": 10,
    "start_time": "2022-04-19T15:40:18.840Z"
   },
   {
    "duration": 10,
    "start_time": "2022-04-19T15:40:18.852Z"
   },
   {
    "duration": 12,
    "start_time": "2022-04-19T15:40:18.865Z"
   },
   {
    "duration": 3,
    "start_time": "2022-04-19T15:40:18.879Z"
   },
   {
    "duration": 5,
    "start_time": "2022-04-19T15:40:18.883Z"
   },
   {
    "duration": 184,
    "start_time": "2022-04-19T15:40:18.890Z"
   },
   {
    "duration": 63,
    "start_time": "2022-04-19T15:40:19.076Z"
   },
   {
    "duration": 2445,
    "start_time": "2022-04-19T15:40:19.141Z"
   },
   {
    "duration": 0,
    "start_time": "2022-04-19T15:40:21.589Z"
   },
   {
    "duration": 0,
    "start_time": "2022-04-19T15:40:21.591Z"
   },
   {
    "duration": 0,
    "start_time": "2022-04-19T15:40:21.593Z"
   },
   {
    "duration": 0,
    "start_time": "2022-04-19T15:40:21.594Z"
   },
   {
    "duration": 0,
    "start_time": "2022-04-19T15:40:21.595Z"
   },
   {
    "duration": 0,
    "start_time": "2022-04-19T15:40:21.597Z"
   },
   {
    "duration": 0,
    "start_time": "2022-04-19T15:40:21.598Z"
   },
   {
    "duration": 0,
    "start_time": "2022-04-19T15:40:21.600Z"
   },
   {
    "duration": 0,
    "start_time": "2022-04-19T15:40:21.601Z"
   },
   {
    "duration": 0,
    "start_time": "2022-04-19T15:40:21.602Z"
   },
   {
    "duration": 0,
    "start_time": "2022-04-19T15:40:21.604Z"
   },
   {
    "duration": 2505,
    "start_time": "2022-04-19T15:42:05.113Z"
   },
   {
    "duration": 30,
    "start_time": "2022-04-19T15:42:07.623Z"
   },
   {
    "duration": 9,
    "start_time": "2022-04-19T15:42:07.661Z"
   },
   {
    "duration": 28,
    "start_time": "2022-04-19T15:42:07.672Z"
   },
   {
    "duration": 14,
    "start_time": "2022-04-19T15:42:07.702Z"
   },
   {
    "duration": 10,
    "start_time": "2022-04-19T15:42:07.729Z"
   },
   {
    "duration": 7,
    "start_time": "2022-04-19T15:42:07.740Z"
   },
   {
    "duration": 14,
    "start_time": "2022-04-19T15:42:07.748Z"
   },
   {
    "duration": 75,
    "start_time": "2022-04-19T15:42:07.765Z"
   },
   {
    "duration": 1047,
    "start_time": "2022-04-19T15:42:07.842Z"
   },
   {
    "duration": 0,
    "start_time": "2022-04-19T15:42:08.890Z"
   },
   {
    "duration": 0,
    "start_time": "2022-04-19T15:42:08.892Z"
   },
   {
    "duration": 0,
    "start_time": "2022-04-19T15:42:08.893Z"
   },
   {
    "duration": 0,
    "start_time": "2022-04-19T15:42:08.894Z"
   },
   {
    "duration": 0,
    "start_time": "2022-04-19T15:42:08.895Z"
   },
   {
    "duration": 0,
    "start_time": "2022-04-19T15:42:08.896Z"
   },
   {
    "duration": 0,
    "start_time": "2022-04-19T15:42:08.897Z"
   },
   {
    "duration": 0,
    "start_time": "2022-04-19T15:42:08.898Z"
   },
   {
    "duration": 0,
    "start_time": "2022-04-19T15:42:08.899Z"
   },
   {
    "duration": 0,
    "start_time": "2022-04-19T15:42:08.900Z"
   },
   {
    "duration": 0,
    "start_time": "2022-04-19T15:42:08.901Z"
   },
   {
    "duration": 13,
    "start_time": "2022-04-19T15:42:58.455Z"
   },
   {
    "duration": 20,
    "start_time": "2022-04-19T15:43:12.025Z"
   },
   {
    "duration": 144,
    "start_time": "2022-04-19T15:43:16.589Z"
   },
   {
    "duration": 33,
    "start_time": "2022-04-19T15:43:16.735Z"
   },
   {
    "duration": 10,
    "start_time": "2022-04-19T15:43:16.770Z"
   },
   {
    "duration": 12,
    "start_time": "2022-04-19T15:43:16.783Z"
   },
   {
    "duration": 39,
    "start_time": "2022-04-19T15:43:16.798Z"
   },
   {
    "duration": 4,
    "start_time": "2022-04-19T15:43:16.842Z"
   },
   {
    "duration": 21,
    "start_time": "2022-04-19T15:43:16.848Z"
   },
   {
    "duration": 20,
    "start_time": "2022-04-19T15:43:16.871Z"
   },
   {
    "duration": 64,
    "start_time": "2022-04-19T15:43:16.893Z"
   },
   {
    "duration": 1034,
    "start_time": "2022-04-19T15:43:16.959Z"
   },
   {
    "duration": 0,
    "start_time": "2022-04-19T15:43:17.995Z"
   },
   {
    "duration": 0,
    "start_time": "2022-04-19T15:43:17.997Z"
   },
   {
    "duration": 0,
    "start_time": "2022-04-19T15:43:17.998Z"
   },
   {
    "duration": 0,
    "start_time": "2022-04-19T15:43:18.000Z"
   },
   {
    "duration": 0,
    "start_time": "2022-04-19T15:43:18.001Z"
   },
   {
    "duration": 0,
    "start_time": "2022-04-19T15:43:18.002Z"
   },
   {
    "duration": 0,
    "start_time": "2022-04-19T15:43:18.003Z"
   },
   {
    "duration": 0,
    "start_time": "2022-04-19T15:43:18.005Z"
   },
   {
    "duration": 0,
    "start_time": "2022-04-19T15:43:18.006Z"
   },
   {
    "duration": 0,
    "start_time": "2022-04-19T15:43:18.007Z"
   },
   {
    "duration": 0,
    "start_time": "2022-04-19T15:43:18.009Z"
   },
   {
    "duration": 892,
    "start_time": "2022-04-19T15:44:58.560Z"
   },
   {
    "duration": 189,
    "start_time": "2022-04-19T15:50:20.306Z"
   },
   {
    "duration": 398,
    "start_time": "2022-04-19T15:50:39.651Z"
   },
   {
    "duration": 593,
    "start_time": "2022-04-19T15:51:23.357Z"
   },
   {
    "duration": 544,
    "start_time": "2022-04-19T15:51:28.943Z"
   },
   {
    "duration": 165,
    "start_time": "2022-04-19T15:52:02.560Z"
   },
   {
    "duration": 27,
    "start_time": "2022-04-19T15:52:02.728Z"
   },
   {
    "duration": 10,
    "start_time": "2022-04-19T15:52:02.758Z"
   },
   {
    "duration": 10,
    "start_time": "2022-04-19T15:52:02.771Z"
   },
   {
    "duration": 13,
    "start_time": "2022-04-19T15:52:02.783Z"
   },
   {
    "duration": 2,
    "start_time": "2022-04-19T15:52:02.798Z"
   },
   {
    "duration": 31,
    "start_time": "2022-04-19T15:52:02.802Z"
   },
   {
    "duration": 16,
    "start_time": "2022-04-19T15:52:02.835Z"
   },
   {
    "duration": 47,
    "start_time": "2022-04-19T15:52:02.852Z"
   },
   {
    "duration": 394,
    "start_time": "2022-04-19T15:52:02.902Z"
   },
   {
    "duration": 3311,
    "start_time": "2022-04-19T15:52:03.298Z"
   },
   {
    "duration": 627,
    "start_time": "2022-04-19T15:52:06.612Z"
   },
   {
    "duration": 530,
    "start_time": "2022-04-19T15:52:07.241Z"
   },
   {
    "duration": 494,
    "start_time": "2022-04-19T15:52:07.776Z"
   },
   {
    "duration": 185,
    "start_time": "2022-04-19T15:52:08.272Z"
   },
   {
    "duration": 530,
    "start_time": "2022-04-19T15:52:08.459Z"
   },
   {
    "duration": 11,
    "start_time": "2022-04-19T15:52:08.992Z"
   },
   {
    "duration": 56,
    "start_time": "2022-04-19T15:52:09.004Z"
   },
   {
    "duration": 182,
    "start_time": "2022-04-19T15:52:09.065Z"
   },
   {
    "duration": 868,
    "start_time": "2022-04-19T15:52:09.249Z"
   },
   {
    "duration": 168,
    "start_time": "2022-04-19T15:52:10.122Z"
   },
   {
    "duration": 92,
    "start_time": "2022-04-20T08:20:23.680Z"
   },
   {
    "duration": 791,
    "start_time": "2022-04-20T08:20:26.750Z"
   },
   {
    "duration": 35,
    "start_time": "2022-04-20T08:20:27.544Z"
   },
   {
    "duration": 12,
    "start_time": "2022-04-20T08:20:27.581Z"
   },
   {
    "duration": 40,
    "start_time": "2022-04-20T08:20:27.597Z"
   },
   {
    "duration": 29,
    "start_time": "2022-04-20T08:20:27.642Z"
   },
   {
    "duration": 4,
    "start_time": "2022-04-20T08:20:27.673Z"
   },
   {
    "duration": 27,
    "start_time": "2022-04-20T08:20:27.679Z"
   },
   {
    "duration": 30,
    "start_time": "2022-04-20T08:20:27.708Z"
   },
   {
    "duration": 74,
    "start_time": "2022-04-20T08:20:27.741Z"
   },
   {
    "duration": 657,
    "start_time": "2022-04-20T08:20:27.826Z"
   },
   {
    "duration": 3265,
    "start_time": "2022-04-20T08:20:28.485Z"
   },
   {
    "duration": 832,
    "start_time": "2022-04-20T08:20:31.753Z"
   },
   {
    "duration": 884,
    "start_time": "2022-04-20T08:20:32.588Z"
   },
   {
    "duration": 915,
    "start_time": "2022-04-20T08:20:33.475Z"
   },
   {
    "duration": 526,
    "start_time": "2022-04-20T08:20:34.393Z"
   },
   {
    "duration": 1079,
    "start_time": "2022-04-20T08:20:34.940Z"
   },
   {
    "duration": 19,
    "start_time": "2022-04-20T08:20:36.026Z"
   },
   {
    "duration": 84,
    "start_time": "2022-04-20T08:20:36.048Z"
   },
   {
    "duration": 350,
    "start_time": "2022-04-20T08:20:36.136Z"
   },
   {
    "duration": 1404,
    "start_time": "2022-04-20T08:20:36.489Z"
   },
   {
    "duration": 305,
    "start_time": "2022-04-20T08:20:37.895Z"
   },
   {
    "duration": 581,
    "start_time": "2022-04-20T08:22:04.801Z"
   },
   {
    "duration": 622,
    "start_time": "2022-04-20T08:22:25.952Z"
   },
   {
    "duration": 584,
    "start_time": "2022-04-20T08:30:17.655Z"
   },
   {
    "duration": 787,
    "start_time": "2022-04-20T11:19:28.721Z"
   },
   {
    "duration": 1641,
    "start_time": "2022-04-20T11:31:22.904Z"
   },
   {
    "duration": 219,
    "start_time": "2022-04-20T11:31:37.316Z"
   },
   {
    "duration": 34,
    "start_time": "2022-04-20T11:31:37.539Z"
   },
   {
    "duration": 14,
    "start_time": "2022-04-20T11:31:37.576Z"
   },
   {
    "duration": 17,
    "start_time": "2022-04-20T11:31:37.624Z"
   },
   {
    "duration": 20,
    "start_time": "2022-04-20T11:31:37.644Z"
   },
   {
    "duration": 6,
    "start_time": "2022-04-20T11:31:37.667Z"
   },
   {
    "duration": 24,
    "start_time": "2022-04-20T11:31:37.676Z"
   },
   {
    "duration": 39,
    "start_time": "2022-04-20T11:31:37.703Z"
   },
   {
    "duration": 94,
    "start_time": "2022-04-20T11:31:37.745Z"
   },
   {
    "duration": 536,
    "start_time": "2022-04-20T11:31:37.843Z"
   },
   {
    "duration": 3287,
    "start_time": "2022-04-20T11:31:38.381Z"
   },
   {
    "duration": 1073,
    "start_time": "2022-04-20T11:31:41.671Z"
   },
   {
    "duration": 879,
    "start_time": "2022-04-20T11:31:42.747Z"
   },
   {
    "duration": 689,
    "start_time": "2022-04-20T11:31:43.628Z"
   },
   {
    "duration": 1241,
    "start_time": "2022-04-20T11:31:44.320Z"
   },
   {
    "duration": 0,
    "start_time": "2022-04-20T11:31:45.563Z"
   },
   {
    "duration": 0,
    "start_time": "2022-04-20T11:31:45.565Z"
   },
   {
    "duration": 0,
    "start_time": "2022-04-20T11:31:45.567Z"
   },
   {
    "duration": 0,
    "start_time": "2022-04-20T11:31:45.569Z"
   },
   {
    "duration": 0,
    "start_time": "2022-04-20T11:31:45.570Z"
   },
   {
    "duration": 0,
    "start_time": "2022-04-20T11:31:45.572Z"
   },
   {
    "duration": 2448,
    "start_time": "2022-04-20T11:31:59.543Z"
   },
   {
    "duration": 253,
    "start_time": "2022-04-20T11:32:26.738Z"
   },
   {
    "duration": 414,
    "start_time": "2022-04-20T11:34:41.612Z"
   },
   {
    "duration": 386,
    "start_time": "2022-04-20T11:34:54.747Z"
   },
   {
    "duration": 448,
    "start_time": "2022-04-20T11:35:13.861Z"
   },
   {
    "duration": 926,
    "start_time": "2022-04-20T11:41:58.123Z"
   },
   {
    "duration": 1070,
    "start_time": "2022-04-20T11:42:17.304Z"
   },
   {
    "duration": 1197,
    "start_time": "2022-04-20T11:42:28.873Z"
   },
   {
    "duration": 963,
    "start_time": "2022-04-20T11:42:37.216Z"
   },
   {
    "duration": 949,
    "start_time": "2022-04-20T11:42:54.727Z"
   },
   {
    "duration": 982,
    "start_time": "2022-04-20T11:43:00.965Z"
   },
   {
    "duration": 975,
    "start_time": "2022-04-20T11:43:10.990Z"
   },
   {
    "duration": 1048,
    "start_time": "2022-04-20T11:43:15.730Z"
   },
   {
    "duration": 1191,
    "start_time": "2022-04-20T11:43:40.353Z"
   },
   {
    "duration": 890,
    "start_time": "2022-04-20T11:44:34.794Z"
   },
   {
    "duration": 856,
    "start_time": "2022-04-20T11:44:42.823Z"
   },
   {
    "duration": 14,
    "start_time": "2022-04-20T12:18:01.687Z"
   },
   {
    "duration": 906,
    "start_time": "2022-04-20T12:18:09.243Z"
   },
   {
    "duration": 2045,
    "start_time": "2022-04-20T12:20:05.521Z"
   },
   {
    "duration": 5501,
    "start_time": "2022-04-20T12:22:11.723Z"
   },
   {
    "duration": 778,
    "start_time": "2022-04-20T12:22:29.089Z"
   },
   {
    "duration": 49,
    "start_time": "2022-04-20T12:24:02.668Z"
   },
   {
    "duration": 1190,
    "start_time": "2022-04-20T12:24:36.542Z"
   },
   {
    "duration": 1078,
    "start_time": "2022-04-20T12:25:03.518Z"
   },
   {
    "duration": 1066,
    "start_time": "2022-04-20T12:25:22.578Z"
   },
   {
    "duration": 952,
    "start_time": "2022-04-20T12:26:37.547Z"
   },
   {
    "duration": 1169,
    "start_time": "2022-04-20T12:27:57.445Z"
   },
   {
    "duration": 1080,
    "start_time": "2022-04-20T12:28:35.590Z"
   },
   {
    "duration": 823,
    "start_time": "2022-04-20T12:29:18.390Z"
   },
   {
    "duration": 854,
    "start_time": "2022-04-20T12:29:50.466Z"
   },
   {
    "duration": 969,
    "start_time": "2022-04-20T12:30:05.805Z"
   },
   {
    "duration": 699,
    "start_time": "2022-04-20T12:58:12.493Z"
   },
   {
    "duration": 760,
    "start_time": "2022-04-20T13:02:06.151Z"
   },
   {
    "duration": 971,
    "start_time": "2022-04-20T13:02:33.511Z"
   },
   {
    "duration": 955,
    "start_time": "2022-04-20T13:02:36.240Z"
   },
   {
    "duration": 1261,
    "start_time": "2022-04-20T13:02:58.991Z"
   },
   {
    "duration": 153,
    "start_time": "2022-04-20T13:08:45.503Z"
   },
   {
    "duration": 24,
    "start_time": "2022-04-20T13:08:45.660Z"
   },
   {
    "duration": 11,
    "start_time": "2022-04-20T13:08:45.686Z"
   },
   {
    "duration": 16,
    "start_time": "2022-04-20T13:08:45.727Z"
   },
   {
    "duration": 29,
    "start_time": "2022-04-20T13:08:45.746Z"
   },
   {
    "duration": 20,
    "start_time": "2022-04-20T13:08:45.777Z"
   },
   {
    "duration": 39,
    "start_time": "2022-04-20T13:08:45.799Z"
   },
   {
    "duration": 35,
    "start_time": "2022-04-20T13:08:45.841Z"
   },
   {
    "duration": 84,
    "start_time": "2022-04-20T13:08:45.878Z"
   },
   {
    "duration": 567,
    "start_time": "2022-04-20T13:08:45.965Z"
   },
   {
    "duration": 2897,
    "start_time": "2022-04-20T13:08:46.535Z"
   },
   {
    "duration": 1602,
    "start_time": "2022-04-20T13:08:49.435Z"
   },
   {
    "duration": 696,
    "start_time": "2022-04-20T13:08:51.040Z"
   },
   {
    "duration": 707,
    "start_time": "2022-04-20T13:08:51.740Z"
   },
   {
    "duration": 263,
    "start_time": "2022-04-20T13:08:52.449Z"
   },
   {
    "duration": 751,
    "start_time": "2022-04-20T13:08:52.714Z"
   },
   {
    "duration": 1055,
    "start_time": "2022-04-20T13:08:53.467Z"
   },
   {
    "duration": 51,
    "start_time": "2022-04-20T13:08:54.528Z"
   },
   {
    "duration": 313,
    "start_time": "2022-04-20T13:08:54.582Z"
   },
   {
    "duration": 1346,
    "start_time": "2022-04-20T13:08:54.897Z"
   },
   {
    "duration": 254,
    "start_time": "2022-04-20T13:08:56.246Z"
   },
   {
    "duration": 164,
    "start_time": "2022-04-20T13:09:57.147Z"
   },
   {
    "duration": 33,
    "start_time": "2022-04-20T13:09:57.315Z"
   },
   {
    "duration": 9,
    "start_time": "2022-04-20T13:09:57.351Z"
   },
   {
    "duration": 13,
    "start_time": "2022-04-20T13:09:57.363Z"
   },
   {
    "duration": 54,
    "start_time": "2022-04-20T13:09:57.378Z"
   },
   {
    "duration": 4,
    "start_time": "2022-04-20T13:09:57.436Z"
   },
   {
    "duration": 8,
    "start_time": "2022-04-20T13:09:57.443Z"
   },
   {
    "duration": 18,
    "start_time": "2022-04-20T13:09:57.453Z"
   },
   {
    "duration": 128,
    "start_time": "2022-04-20T13:09:57.474Z"
   },
   {
    "duration": 918,
    "start_time": "2022-04-20T13:09:57.608Z"
   },
   {
    "duration": 3817,
    "start_time": "2022-04-20T13:09:58.530Z"
   },
   {
    "duration": 1308,
    "start_time": "2022-04-20T13:10:02.350Z"
   },
   {
    "duration": 729,
    "start_time": "2022-04-20T13:10:03.661Z"
   },
   {
    "duration": 713,
    "start_time": "2022-04-20T13:10:04.393Z"
   },
   {
    "duration": 273,
    "start_time": "2022-04-20T13:10:05.108Z"
   },
   {
    "duration": 908,
    "start_time": "2022-04-20T13:10:05.384Z"
   },
   {
    "duration": 1481,
    "start_time": "2022-04-20T13:10:06.296Z"
   },
   {
    "duration": 61,
    "start_time": "2022-04-20T13:10:07.780Z"
   },
   {
    "duration": 301,
    "start_time": "2022-04-20T13:10:07.844Z"
   },
   {
    "duration": 1361,
    "start_time": "2022-04-20T13:10:08.147Z"
   },
   {
    "duration": 264,
    "start_time": "2022-04-20T13:10:09.510Z"
   },
   {
    "duration": 762,
    "start_time": "2022-04-20T13:20:46.450Z"
   },
   {
    "duration": 683,
    "start_time": "2022-04-20T13:21:28.323Z"
   },
   {
    "duration": 1017,
    "start_time": "2022-04-20T13:52:41.899Z"
   },
   {
    "duration": 613,
    "start_time": "2022-04-20T13:53:50.828Z"
   },
   {
    "duration": 558,
    "start_time": "2022-04-20T14:00:27.290Z"
   },
   {
    "duration": 21,
    "start_time": "2022-04-20T15:44:44.900Z"
   },
   {
    "duration": 21,
    "start_time": "2022-04-20T15:45:00.455Z"
   },
   {
    "duration": 254,
    "start_time": "2022-04-20T15:45:20.101Z"
   },
   {
    "duration": 326,
    "start_time": "2022-04-20T15:45:27.521Z"
   },
   {
    "duration": 291,
    "start_time": "2022-04-20T15:45:38.143Z"
   },
   {
    "duration": 408,
    "start_time": "2022-04-20T15:52:03.833Z"
   },
   {
    "duration": 289,
    "start_time": "2022-04-20T15:52:18.016Z"
   },
   {
    "duration": 498,
    "start_time": "2022-04-20T15:53:46.317Z"
   },
   {
    "duration": 384,
    "start_time": "2022-04-20T15:53:55.726Z"
   },
   {
    "duration": 472,
    "start_time": "2022-04-20T15:54:40.683Z"
   },
   {
    "duration": 561,
    "start_time": "2022-04-20T15:57:03.455Z"
   },
   {
    "duration": 736,
    "start_time": "2022-04-20T16:10:55.868Z"
   },
   {
    "duration": 860,
    "start_time": "2022-04-20T16:12:09.679Z"
   },
   {
    "duration": 1184,
    "start_time": "2022-04-20T16:12:13.216Z"
   },
   {
    "duration": 1236,
    "start_time": "2022-04-20T16:13:13.527Z"
   },
   {
    "duration": 1290,
    "start_time": "2022-04-20T16:13:31.550Z"
   },
   {
    "duration": 1182,
    "start_time": "2022-04-20T16:14:25.477Z"
   },
   {
    "duration": 501,
    "start_time": "2022-04-21T17:06:01.523Z"
   },
   {
    "duration": 14,
    "start_time": "2022-04-21T17:06:02.026Z"
   },
   {
    "duration": 6,
    "start_time": "2022-04-21T17:06:02.041Z"
   },
   {
    "duration": 17,
    "start_time": "2022-04-21T17:06:02.049Z"
   },
   {
    "duration": 19,
    "start_time": "2022-04-21T17:06:02.067Z"
   },
   {
    "duration": 2,
    "start_time": "2022-04-21T17:06:02.088Z"
   },
   {
    "duration": 23,
    "start_time": "2022-04-21T17:06:02.100Z"
   },
   {
    "duration": 24,
    "start_time": "2022-04-21T17:06:02.124Z"
   },
   {
    "duration": 41,
    "start_time": "2022-04-21T17:06:02.149Z"
   },
   {
    "duration": 319,
    "start_time": "2022-04-21T17:06:02.192Z"
   },
   {
    "duration": 1422,
    "start_time": "2022-04-21T17:06:02.512Z"
   },
   {
    "duration": 305,
    "start_time": "2022-04-21T17:06:03.935Z"
   },
   {
    "duration": 417,
    "start_time": "2022-04-21T17:06:04.241Z"
   },
   {
    "duration": 371,
    "start_time": "2022-04-21T17:06:04.659Z"
   },
   {
    "duration": 477,
    "start_time": "2022-04-21T17:06:05.032Z"
   },
   {
    "duration": 481,
    "start_time": "2022-04-21T17:06:05.510Z"
   },
   {
    "duration": 27,
    "start_time": "2022-04-21T17:06:05.992Z"
   },
   {
    "duration": 162,
    "start_time": "2022-04-21T17:06:06.020Z"
   },
   {
    "duration": 630,
    "start_time": "2022-04-21T17:06:06.183Z"
   },
   {
    "duration": 135,
    "start_time": "2022-04-21T17:06:06.815Z"
   },
   {
    "duration": 572,
    "start_time": "2022-04-21T17:06:06.952Z"
   },
   {
    "duration": 101,
    "start_time": "2022-04-21T17:07:31.733Z"
   },
   {
    "duration": 15,
    "start_time": "2022-04-21T17:07:31.836Z"
   },
   {
    "duration": 7,
    "start_time": "2022-04-21T17:07:31.853Z"
   },
   {
    "duration": 8,
    "start_time": "2022-04-21T17:07:31.861Z"
   },
   {
    "duration": 32,
    "start_time": "2022-04-21T17:07:31.871Z"
   },
   {
    "duration": 2,
    "start_time": "2022-04-21T17:07:31.904Z"
   },
   {
    "duration": 5,
    "start_time": "2022-04-21T17:07:31.908Z"
   },
   {
    "duration": 93,
    "start_time": "2022-04-21T17:07:31.914Z"
   },
   {
    "duration": 41,
    "start_time": "2022-04-21T17:07:32.008Z"
   },
   {
    "duration": 314,
    "start_time": "2022-04-21T17:07:32.052Z"
   },
   {
    "duration": 965,
    "start_time": "2022-04-21T17:07:32.367Z"
   },
   {
    "duration": 309,
    "start_time": "2022-04-21T17:07:33.334Z"
   },
   {
    "duration": 372,
    "start_time": "2022-04-21T17:07:33.645Z"
   },
   {
    "duration": 436,
    "start_time": "2022-04-21T17:07:34.019Z"
   },
   {
    "duration": 408,
    "start_time": "2022-04-21T17:07:34.457Z"
   },
   {
    "duration": 579,
    "start_time": "2022-04-21T17:07:34.867Z"
   },
   {
    "duration": 24,
    "start_time": "2022-04-21T17:07:35.499Z"
   },
   {
    "duration": 294,
    "start_time": "2022-04-21T17:07:35.524Z"
   },
   {
    "duration": 1061,
    "start_time": "2022-04-21T17:07:35.820Z"
   },
   {
    "duration": 123,
    "start_time": "2022-04-21T17:07:36.882Z"
   },
   {
    "duration": 625,
    "start_time": "2022-04-21T17:07:37.006Z"
   },
   {
    "duration": 542,
    "start_time": "2022-04-21T17:08:10.735Z"
   },
   {
    "duration": 10,
    "start_time": "2022-04-21T17:11:35.965Z"
   },
   {
    "duration": 542,
    "start_time": "2022-04-21T17:13:40.421Z"
   },
   {
    "duration": 549,
    "start_time": "2022-04-21T17:13:44.884Z"
   },
   {
    "duration": 788,
    "start_time": "2022-04-21T17:13:54.199Z"
   },
   {
    "duration": 559,
    "start_time": "2022-04-21T17:14:05.121Z"
   },
   {
    "duration": 559,
    "start_time": "2022-04-21T17:14:31.325Z"
   },
   {
    "duration": 663,
    "start_time": "2022-04-21T17:14:36.879Z"
   },
   {
    "duration": 549,
    "start_time": "2022-04-21T17:14:46.485Z"
   },
   {
    "duration": 546,
    "start_time": "2022-04-21T17:15:07.226Z"
   },
   {
    "duration": 551,
    "start_time": "2022-04-21T17:15:12.434Z"
   },
   {
    "duration": 616,
    "start_time": "2022-04-21T17:15:26.863Z"
   },
   {
    "duration": 109,
    "start_time": "2022-04-21T17:17:12.748Z"
   },
   {
    "duration": 15,
    "start_time": "2022-04-21T17:17:12.860Z"
   },
   {
    "duration": 7,
    "start_time": "2022-04-21T17:17:12.876Z"
   },
   {
    "duration": 8,
    "start_time": "2022-04-21T17:17:12.900Z"
   },
   {
    "duration": 9,
    "start_time": "2022-04-21T17:17:12.910Z"
   },
   {
    "duration": 2,
    "start_time": "2022-04-21T17:17:12.920Z"
   },
   {
    "duration": 4,
    "start_time": "2022-04-21T17:17:12.924Z"
   },
   {
    "duration": 12,
    "start_time": "2022-04-21T17:17:12.929Z"
   },
   {
    "duration": 76,
    "start_time": "2022-04-21T17:17:12.943Z"
   },
   {
    "duration": 294,
    "start_time": "2022-04-21T17:17:13.021Z"
   },
   {
    "duration": 993,
    "start_time": "2022-04-21T17:17:13.317Z"
   },
   {
    "duration": 382,
    "start_time": "2022-04-21T17:17:14.311Z"
   },
   {
    "duration": 378,
    "start_time": "2022-04-21T17:17:14.694Z"
   },
   {
    "duration": 380,
    "start_time": "2022-04-21T17:17:15.075Z"
   },
   {
    "duration": 393,
    "start_time": "2022-04-21T17:17:15.457Z"
   },
   {
    "duration": 514,
    "start_time": "2022-04-21T17:17:15.852Z"
   },
   {
    "duration": 21,
    "start_time": "2022-04-21T17:17:16.368Z"
   },
   {
    "duration": 162,
    "start_time": "2022-04-21T17:17:16.399Z"
   },
   {
    "duration": 704,
    "start_time": "2022-04-21T17:17:16.563Z"
   },
   {
    "duration": 8,
    "start_time": "2022-04-21T17:17:17.269Z"
   },
   {
    "duration": 825,
    "start_time": "2022-04-21T17:17:17.279Z"
   },
   {
    "duration": 97,
    "start_time": "2022-04-21T17:17:32.394Z"
   },
   {
    "duration": 15,
    "start_time": "2022-04-21T17:17:32.492Z"
   },
   {
    "duration": 6,
    "start_time": "2022-04-21T17:17:32.508Z"
   },
   {
    "duration": 8,
    "start_time": "2022-04-21T17:17:32.515Z"
   },
   {
    "duration": 8,
    "start_time": "2022-04-21T17:17:32.525Z"
   },
   {
    "duration": 7,
    "start_time": "2022-04-21T17:17:32.534Z"
   },
   {
    "duration": 4,
    "start_time": "2022-04-21T17:17:32.543Z"
   },
   {
    "duration": 13,
    "start_time": "2022-04-21T17:17:32.548Z"
   },
   {
    "duration": 64,
    "start_time": "2022-04-21T17:17:32.562Z"
   },
   {
    "duration": 298,
    "start_time": "2022-04-21T17:17:32.627Z"
   },
   {
    "duration": 1055,
    "start_time": "2022-04-21T17:17:32.926Z"
   },
   {
    "duration": 309,
    "start_time": "2022-04-21T17:17:33.983Z"
   },
   {
    "duration": 380,
    "start_time": "2022-04-21T17:17:34.294Z"
   },
   {
    "duration": 379,
    "start_time": "2022-04-21T17:17:34.677Z"
   },
   {
    "duration": 414,
    "start_time": "2022-04-21T17:17:35.057Z"
   },
   {
    "duration": 949,
    "start_time": "2022-04-21T17:17:35.473Z"
   },
   {
    "duration": 78,
    "start_time": "2022-04-21T17:17:36.424Z"
   },
   {
    "duration": 499,
    "start_time": "2022-04-21T17:17:36.504Z"
   },
   {
    "duration": 1175,
    "start_time": "2022-04-21T17:17:37.005Z"
   },
   {
    "duration": 18,
    "start_time": "2022-04-21T17:17:38.182Z"
   },
   {
    "duration": 560,
    "start_time": "2022-04-21T17:17:38.201Z"
   },
   {
    "duration": 547,
    "start_time": "2022-04-21T17:18:05.454Z"
   },
   {
    "duration": 118,
    "start_time": "2022-04-21T17:18:10.772Z"
   },
   {
    "duration": 17,
    "start_time": "2022-04-21T17:18:10.892Z"
   },
   {
    "duration": 6,
    "start_time": "2022-04-21T17:18:10.911Z"
   },
   {
    "duration": 8,
    "start_time": "2022-04-21T17:18:10.918Z"
   },
   {
    "duration": 8,
    "start_time": "2022-04-21T17:18:10.928Z"
   },
   {
    "duration": 1,
    "start_time": "2022-04-21T17:18:10.938Z"
   },
   {
    "duration": 4,
    "start_time": "2022-04-21T17:18:10.941Z"
   },
   {
    "duration": 118,
    "start_time": "2022-04-21T17:18:10.946Z"
   },
   {
    "duration": 47,
    "start_time": "2022-04-21T17:18:11.065Z"
   },
   {
    "duration": 313,
    "start_time": "2022-04-21T17:18:11.114Z"
   },
   {
    "duration": 1000,
    "start_time": "2022-04-21T17:18:11.429Z"
   },
   {
    "duration": 306,
    "start_time": "2022-04-21T17:18:12.431Z"
   },
   {
    "duration": 420,
    "start_time": "2022-04-21T17:18:12.738Z"
   },
   {
    "duration": 483,
    "start_time": "2022-04-21T17:18:13.160Z"
   },
   {
    "duration": 439,
    "start_time": "2022-04-21T17:18:13.645Z"
   },
   {
    "duration": 501,
    "start_time": "2022-04-21T17:18:14.086Z"
   },
   {
    "duration": 31,
    "start_time": "2022-04-21T17:18:14.589Z"
   },
   {
    "duration": 166,
    "start_time": "2022-04-21T17:18:14.622Z"
   },
   {
    "duration": 1141,
    "start_time": "2022-04-21T17:18:14.790Z"
   },
   {
    "duration": 8,
    "start_time": "2022-04-21T17:18:15.933Z"
   },
   {
    "duration": 897,
    "start_time": "2022-04-21T17:18:15.942Z"
   },
   {
    "duration": 115,
    "start_time": "2022-04-21T17:32:32.553Z"
   },
   {
    "duration": 17,
    "start_time": "2022-04-21T17:32:32.670Z"
   },
   {
    "duration": 16,
    "start_time": "2022-04-21T17:32:32.688Z"
   },
   {
    "duration": 7,
    "start_time": "2022-04-21T17:32:32.706Z"
   },
   {
    "duration": 13,
    "start_time": "2022-04-21T17:32:32.714Z"
   },
   {
    "duration": 2,
    "start_time": "2022-04-21T17:32:32.729Z"
   },
   {
    "duration": 5,
    "start_time": "2022-04-21T17:32:32.732Z"
   },
   {
    "duration": 14,
    "start_time": "2022-04-21T17:32:32.738Z"
   },
   {
    "duration": 64,
    "start_time": "2022-04-21T17:32:32.753Z"
   },
   {
    "duration": 293,
    "start_time": "2022-04-21T17:32:32.820Z"
   },
   {
    "duration": 1107,
    "start_time": "2022-04-21T17:32:33.115Z"
   },
   {
    "duration": 790,
    "start_time": "2022-04-21T17:32:34.223Z"
   },
   {
    "duration": 621,
    "start_time": "2022-04-21T17:32:35.014Z"
   },
   {
    "duration": 379,
    "start_time": "2022-04-21T17:32:35.637Z"
   },
   {
    "duration": 417,
    "start_time": "2022-04-21T17:32:36.018Z"
   },
   {
    "duration": 484,
    "start_time": "2022-04-21T17:32:36.437Z"
   },
   {
    "duration": 21,
    "start_time": "2022-04-21T17:32:36.922Z"
   },
   {
    "duration": 159,
    "start_time": "2022-04-21T17:32:36.945Z"
   },
   {
    "duration": 705,
    "start_time": "2022-04-21T17:32:37.106Z"
   },
   {
    "duration": 9,
    "start_time": "2022-04-21T17:32:37.813Z"
   },
   {
    "duration": 563,
    "start_time": "2022-04-21T17:32:37.823Z"
   },
   {
    "duration": 1293,
    "start_time": "2022-10-01T11:00:46.787Z"
   }
  ],
  "kernelspec": {
   "display_name": "Python 3 (ipykernel)",
   "language": "python",
   "name": "python3"
  },
  "language_info": {
   "codemirror_mode": {
    "name": "ipython",
    "version": 3
   },
   "file_extension": ".py",
   "mimetype": "text/x-python",
   "name": "python",
   "nbconvert_exporter": "python",
   "pygments_lexer": "ipython3",
   "version": "3.9.13"
  },
  "toc": {
   "base_numbering": 1,
   "nav_menu": {},
   "number_sections": true,
   "sideBar": true,
   "skip_h1_title": true,
   "title_cell": "Содержание",
   "title_sidebar": "Contents",
   "toc_cell": true,
   "toc_position": {
    "height": "calc(100% - 180px)",
    "left": "10px",
    "top": "150px",
    "width": "165px"
   },
   "toc_section_display": true,
   "toc_window_display": true
  }
 },
 "nbformat": 4,
 "nbformat_minor": 4
}
