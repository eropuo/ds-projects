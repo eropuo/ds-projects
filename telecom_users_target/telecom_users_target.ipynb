{
 "cells": [
  {
   "cell_type": "markdown",
   "metadata": {},
   "source": [
    "# Рекомендация тарифов"
   ]
  },
  {
   "cell_type": "markdown",
   "metadata": {},
   "source": [
    "В нашем распоряжении данные о поведении клиентов, которые уже перешли на эти тарифы. Нужно построить модель для задачи классификации, которая выберет подходящий тариф. Предобработка данных не понадобится, она уже сделана.\n",
    "\n",
    "Необходимо построить модель с максимально большим значением *accuracy*. Чтобы выполнить задачу, нужно довести долю правильных ответов по крайней мере до 0.75."
   ]
  },
  {
   "cell_type": "markdown",
   "metadata": {},
   "source": [
    "## Изучение данных\n",
    "\n",
    "Каждый объект - данные о звонках, минутах разговора, количестве сообщений, потраченных мб трафика и используемый тариф каждого пользователя за месяц. Предобработка уже выполнена. Формат записи тарифа (1 - тариф 'ультра', 0 - 'смарт') подсказывает, что будет задача именно бинарной классификации. "
   ]
  },
  {
   "cell_type": "code",
   "execution_count": 2,
   "metadata": {},
   "outputs": [
    {
     "name": "stdout",
     "output_type": "stream",
     "text": [
      "<class 'pandas.core.frame.DataFrame'>\n",
      "Int64Index: 3214 entries, 0 to 3213\n",
      "Data columns (total 5 columns):\n",
      " #   Column    Non-Null Count  Dtype  \n",
      "---  ------    --------------  -----  \n",
      " 0   calls     3214 non-null   float64\n",
      " 1   minutes   3214 non-null   float64\n",
      " 2   messages  3214 non-null   float64\n",
      " 3   mb_used   3214 non-null   float64\n",
      " 4   is_ultra  3214 non-null   int64  \n",
      "dtypes: float64(4), int64(1)\n",
      "memory usage: 150.7 KB\n"
     ]
    },
    {
     "data": {
      "text/html": [
       "<div>\n",
       "<style scoped>\n",
       "    .dataframe tbody tr th:only-of-type {\n",
       "        vertical-align: middle;\n",
       "    }\n",
       "\n",
       "    .dataframe tbody tr th {\n",
       "        vertical-align: top;\n",
       "    }\n",
       "\n",
       "    .dataframe thead th {\n",
       "        text-align: right;\n",
       "    }\n",
       "</style>\n",
       "<table border=\"1\" class=\"dataframe\">\n",
       "  <thead>\n",
       "    <tr style=\"text-align: right;\">\n",
       "      <th></th>\n",
       "      <th>calls</th>\n",
       "      <th>minutes</th>\n",
       "      <th>messages</th>\n",
       "      <th>mb_used</th>\n",
       "      <th>is_ultra</th>\n",
       "    </tr>\n",
       "  </thead>\n",
       "  <tbody>\n",
       "    <tr>\n",
       "      <th>0</th>\n",
       "      <td>40.0</td>\n",
       "      <td>311.90</td>\n",
       "      <td>83.0</td>\n",
       "      <td>19915.42</td>\n",
       "      <td>0</td>\n",
       "    </tr>\n",
       "    <tr>\n",
       "      <th>1</th>\n",
       "      <td>85.0</td>\n",
       "      <td>516.75</td>\n",
       "      <td>56.0</td>\n",
       "      <td>22696.96</td>\n",
       "      <td>0</td>\n",
       "    </tr>\n",
       "    <tr>\n",
       "      <th>2</th>\n",
       "      <td>77.0</td>\n",
       "      <td>467.66</td>\n",
       "      <td>86.0</td>\n",
       "      <td>21060.45</td>\n",
       "      <td>0</td>\n",
       "    </tr>\n",
       "    <tr>\n",
       "      <th>3</th>\n",
       "      <td>106.0</td>\n",
       "      <td>745.53</td>\n",
       "      <td>81.0</td>\n",
       "      <td>8437.39</td>\n",
       "      <td>1</td>\n",
       "    </tr>\n",
       "    <tr>\n",
       "      <th>4</th>\n",
       "      <td>66.0</td>\n",
       "      <td>418.74</td>\n",
       "      <td>1.0</td>\n",
       "      <td>14502.75</td>\n",
       "      <td>0</td>\n",
       "    </tr>\n",
       "    <tr>\n",
       "      <th>5</th>\n",
       "      <td>58.0</td>\n",
       "      <td>344.56</td>\n",
       "      <td>21.0</td>\n",
       "      <td>15823.37</td>\n",
       "      <td>0</td>\n",
       "    </tr>\n",
       "    <tr>\n",
       "      <th>6</th>\n",
       "      <td>57.0</td>\n",
       "      <td>431.64</td>\n",
       "      <td>20.0</td>\n",
       "      <td>3738.90</td>\n",
       "      <td>1</td>\n",
       "    </tr>\n",
       "    <tr>\n",
       "      <th>7</th>\n",
       "      <td>15.0</td>\n",
       "      <td>132.40</td>\n",
       "      <td>6.0</td>\n",
       "      <td>21911.60</td>\n",
       "      <td>0</td>\n",
       "    </tr>\n",
       "    <tr>\n",
       "      <th>8</th>\n",
       "      <td>7.0</td>\n",
       "      <td>43.39</td>\n",
       "      <td>3.0</td>\n",
       "      <td>2538.67</td>\n",
       "      <td>1</td>\n",
       "    </tr>\n",
       "    <tr>\n",
       "      <th>9</th>\n",
       "      <td>90.0</td>\n",
       "      <td>665.41</td>\n",
       "      <td>38.0</td>\n",
       "      <td>17358.61</td>\n",
       "      <td>0</td>\n",
       "    </tr>\n",
       "    <tr>\n",
       "      <th>10</th>\n",
       "      <td>82.0</td>\n",
       "      <td>560.51</td>\n",
       "      <td>20.0</td>\n",
       "      <td>9619.53</td>\n",
       "      <td>1</td>\n",
       "    </tr>\n",
       "    <tr>\n",
       "      <th>11</th>\n",
       "      <td>45.0</td>\n",
       "      <td>344.32</td>\n",
       "      <td>13.0</td>\n",
       "      <td>19898.81</td>\n",
       "      <td>0</td>\n",
       "    </tr>\n",
       "    <tr>\n",
       "      <th>12</th>\n",
       "      <td>51.0</td>\n",
       "      <td>437.13</td>\n",
       "      <td>61.0</td>\n",
       "      <td>21523.58</td>\n",
       "      <td>0</td>\n",
       "    </tr>\n",
       "    <tr>\n",
       "      <th>13</th>\n",
       "      <td>56.0</td>\n",
       "      <td>433.07</td>\n",
       "      <td>16.0</td>\n",
       "      <td>16702.36</td>\n",
       "      <td>0</td>\n",
       "    </tr>\n",
       "    <tr>\n",
       "      <th>14</th>\n",
       "      <td>108.0</td>\n",
       "      <td>587.90</td>\n",
       "      <td>0.0</td>\n",
       "      <td>14406.50</td>\n",
       "      <td>1</td>\n",
       "    </tr>\n",
       "  </tbody>\n",
       "</table>\n",
       "</div>"
      ],
      "text/plain": [
       "    calls  minutes  messages   mb_used  is_ultra\n",
       "0    40.0   311.90      83.0  19915.42         0\n",
       "1    85.0   516.75      56.0  22696.96         0\n",
       "2    77.0   467.66      86.0  21060.45         0\n",
       "3   106.0   745.53      81.0   8437.39         1\n",
       "4    66.0   418.74       1.0  14502.75         0\n",
       "5    58.0   344.56      21.0  15823.37         0\n",
       "6    57.0   431.64      20.0   3738.90         1\n",
       "7    15.0   132.40       6.0  21911.60         0\n",
       "8     7.0    43.39       3.0   2538.67         1\n",
       "9    90.0   665.41      38.0  17358.61         0\n",
       "10   82.0   560.51      20.0   9619.53         1\n",
       "11   45.0   344.32      13.0  19898.81         0\n",
       "12   51.0   437.13      61.0  21523.58         0\n",
       "13   56.0   433.07      16.0  16702.36         0\n",
       "14  108.0   587.90       0.0  14406.50         1"
      ]
     },
     "metadata": {},
     "output_type": "display_data"
    }
   ],
   "source": [
    "# импортирование всех нужных библиотек и фуцнкций \n",
    "import pandas as pd\n",
    "import numpy as np\n",
    "from sklearn.model_selection import train_test_split\n",
    "from sklearn.tree import DecisionTreeClassifier\n",
    "from sklearn.metrics import accuracy_score\n",
    "from sklearn.ensemble import RandomForestClassifier\n",
    "from sklearn.linear_model import LogisticRegression\n",
    "from sklearn.dummy import DummyClassifier\n",
    "from sklearn.model_selection import GridSearchCV\n",
    "\n",
    "# формирование датафрейма \n",
    "df = pd.read_csv('dataset_users_behavior.csv', index_col=0)\n",
    "\n",
    "# просмотр общей информации о датафрейме\n",
    "df.info()\n",
    "display(df.head(15))"
   ]
  },
  {
   "cell_type": "markdown",
   "metadata": {},
   "source": [
    "## Разделение данных на выборки"
   ]
  },
  {
   "cell_type": "markdown",
   "metadata": {},
   "source": [
    "Так как тестовой выборки нет, разобьем исходные данные в соотношении 3:1:1."
   ]
  },
  {
   "cell_type": "code",
   "execution_count": 2,
   "metadata": {},
   "outputs": [
    {
     "data": {
      "text/plain": [
       "1928"
      ]
     },
     "metadata": {},
     "output_type": "display_data"
    },
    {
     "data": {
      "text/plain": [
       "643"
      ]
     },
     "metadata": {},
     "output_type": "display_data"
    },
    {
     "data": {
      "text/plain": [
       "643"
      ]
     },
     "metadata": {},
     "output_type": "display_data"
    }
   ],
   "source": [
    "# формирование обучающей, валидационной и тестовой выборок\n",
    "df_train, df_temporary = train_test_split(df, test_size=0.4, random_state=123)\n",
    "df_valid, df_test = train_test_split(df_temporary, test_size=0.5, random_state=123)\n",
    "\n",
    "# проверка соотношения размеров выборок\n",
    "display(len(df_train), len(df_test), len(df_valid))"
   ]
  },
  {
   "cell_type": "markdown",
   "metadata": {},
   "source": [
    "## Исследование моделей"
   ]
  },
  {
   "cell_type": "markdown",
   "metadata": {},
   "source": [
    "Выделение признаков и целевых признаков в тренировочной, валидационной и тестовой выборках."
   ]
  },
  {
   "cell_type": "code",
   "execution_count": 3,
   "metadata": {},
   "outputs": [],
   "source": [
    "# признаки и целевой признак в обучающей выборке \n",
    "features_train = df_train.drop(['is_ultra'], axis=1)\n",
    "target_train = df_train['is_ultra']\n",
    "\n",
    "# признаки и целевой признак в валидационной выборке \n",
    "features_valid = df_valid.drop(['is_ultra'], axis=1)\n",
    "target_valid = df_valid['is_ultra']\n",
    "\n",
    "# признаки и целевой признак в тестовой выборке \n",
    "features_test = df_test.drop(['is_ultra'], axis=1)\n",
    "target_test = df_test['is_ultra']"
   ]
  },
  {
   "cell_type": "markdown",
   "metadata": {},
   "source": [
    "Модель 'дерево решений' показала долю правильных ответов на валидационной выборке - **0.82**\n",
    "\n",
    "Параметры, показывающие лучшие результаты:\n",
    "* Глубина дерева - 5\n",
    "* Минимальное число объектов в узле дерева - 2\n",
    "* Минимальное число объектов в листьях - 3"
   ]
  },
  {
   "cell_type": "code",
   "execution_count": 4,
   "metadata": {
    "scrolled": true
   },
   "outputs": [
    {
     "data": {
      "text/plain": [
       "0.8242612752721618"
      ]
     },
     "metadata": {},
     "output_type": "display_data"
    },
    {
     "data": {
      "text/plain": [
       "5"
      ]
     },
     "metadata": {},
     "output_type": "display_data"
    },
    {
     "data": {
      "text/plain": [
       "2"
      ]
     },
     "metadata": {},
     "output_type": "display_data"
    },
    {
     "data": {
      "text/plain": [
       "3"
      ]
     },
     "metadata": {},
     "output_type": "display_data"
    }
   ],
   "source": [
    "best_tree_accuracy = 0\n",
    "\n",
    "# цикл по подбору лучшей совокупности гиперпараметров в модели 'дерево решений' \n",
    "for depth in range(1, 11):\n",
    "    for min_split in range(2, 11):\n",
    "        for min_leaf in range(1, 11):\n",
    "            \n",
    "            model_tree = DecisionTreeClassifier(random_state=123, \n",
    "                                                max_depth=depth, min_samples_split=min_split, min_samples_leaf=min_leaf)\n",
    "            model_tree.fit(features_train, target_train)\n",
    "            predictions = model_tree.predict(features_valid)\n",
    "            accuracy_tree = accuracy_score(target_valid, predictions)\n",
    "\n",
    "            if accuracy_tree > best_tree_accuracy:\n",
    "                best_tree_model = model_tree\n",
    "                best_tree_accuracy = accuracy_tree\n",
    "                best_depth = depth\n",
    "                best_min_split = min_split\n",
    "                best_min_leaf = min_leaf\n",
    "\n",
    "# лучшая точность модели и ее гиперпараметры\n",
    "display(best_tree_accuracy, best_depth, best_min_split, best_min_leaf)"
   ]
  },
  {
   "cell_type": "markdown",
   "metadata": {},
   "source": [
    "Модель 'случайный лес' показала долю правильных ответов на валидационной выборке - **0.81**\n",
    "\n",
    "Параметры, показывающие лучшие результаты:\n",
    "* Количество деревьев - 21\n",
    "* Глубина деревьев - 4"
   ]
  },
  {
   "cell_type": "code",
   "execution_count": 9,
   "metadata": {},
   "outputs": [
    {
     "data": {
      "text/plain": [
       "0.8102643856920684"
      ]
     },
     "metadata": {},
     "output_type": "display_data"
    },
    {
     "data": {
      "text/plain": [
       "21"
      ]
     },
     "metadata": {},
     "output_type": "display_data"
    },
    {
     "data": {
      "text/plain": [
       "4"
      ]
     },
     "metadata": {},
     "output_type": "display_data"
    }
   ],
   "source": [
    "best_forest_accuracy = 0\n",
    "\n",
    "# цикл по подбору лучшей совокупности гиперпараметров в модели 'случайный лес' \n",
    "for n in range(1, 41):\n",
    "    for depth in range(1, 5):\n",
    "        \n",
    "        model_forest = RandomForestClassifier(random_state=123, n_estimators=n, max_depth=depth)\n",
    "        model_forest.fit(features_train, target_train)\n",
    "        predictions = model_forest.predict(features_valid)\n",
    "        accuracy_forest = accuracy_score(target_valid, predictions)\n",
    "\n",
    "        if accuracy_forest > best_forest_accuracy:\n",
    "            best_forest_model = model_forest\n",
    "            best_forest_accuracy = accuracy_forest\n",
    "            best_count_est = n\n",
    "            best_depth = depth\n",
    "            \n",
    "# лучшая точность модели и ее гиперпараметры            \n",
    "display(best_forest_accuracy, best_count_est, best_depth)"
   ]
  },
  {
   "cell_type": "markdown",
   "metadata": {},
   "source": [
    "Модель 'логистическая регрессия' показала долю правильных ответов на валидационной выборке - **0.75**\n",
    "\n",
    "Алгоритм с лучшими показателями - 'lbfgs'"
   ]
  },
  {
   "cell_type": "code",
   "execution_count": 6,
   "metadata": {},
   "outputs": [
    {
     "name": "stderr",
     "output_type": "stream",
     "text": [
      "/opt/conda/lib/python3.9/site-packages/sklearn/linear_model/_sag.py:328: ConvergenceWarning: The max_iter was reached which means the coef_ did not converge\n",
      "  warnings.warn(\"The max_iter was reached which means \"\n",
      "/opt/conda/lib/python3.9/site-packages/sklearn/linear_model/_sag.py:328: ConvergenceWarning: The max_iter was reached which means the coef_ did not converge\n",
      "  warnings.warn(\"The max_iter was reached which means \"\n"
     ]
    },
    {
     "data": {
      "text/plain": [
       "0.7589424572317263"
      ]
     },
     "metadata": {},
     "output_type": "display_data"
    },
    {
     "data": {
      "text/plain": [
       "'lbfgs'"
      ]
     },
     "metadata": {},
     "output_type": "display_data"
    }
   ],
   "source": [
    "best_log_regress_accuracy = 0\n",
    "\n",
    "# цикл по подбору лучшей совокупности гиперпараметров в модели 'логистическая регрессия' \n",
    "for algorithm in ['lbfgs', 'sag', 'saga']:\n",
    "\n",
    "    model_log_regress = LogisticRegression(random_state=123, solver=algorithm)\n",
    "    model_log_regress.fit(features_train, target_train)\n",
    "    predictions = model_log_regress.predict(features_valid)\n",
    "    accuracy_log_regress = accuracy_score(target_valid, predictions)\n",
    "\n",
    "    if accuracy_log_regress > best_log_regress_accuracy:\n",
    "        best_log_regress_model = model_log_regress\n",
    "        best_log_regress_accuracy = accuracy_log_regress\n",
    "        best_algorithm = algorithm            \n",
    "            \n",
    "# лучшая точность модели и ее алгоритм                  \n",
    "display(best_log_regress_accuracy, best_algorithm)"
   ]
  },
  {
   "cell_type": "markdown",
   "metadata": {},
   "source": [
    "## Проверка модели на тестовой выборке"
   ]
  },
  {
   "cell_type": "markdown",
   "metadata": {},
   "source": [
    "Доля правильных ответов на тестовой выборке:\n",
    "* 'Дерево решений' - 0.77\n",
    "* 'Случайный лес' - 0.80\n",
    "* 'Логистическая регрессия' - 0.73"
   ]
  },
  {
   "cell_type": "code",
   "execution_count": 7,
   "metadata": {},
   "outputs": [
    {
     "data": {
      "text/plain": [
       "0.7713841368584758"
      ]
     },
     "metadata": {},
     "output_type": "display_data"
    },
    {
     "data": {
      "text/plain": [
       "0.8040435458786936"
      ]
     },
     "metadata": {},
     "output_type": "display_data"
    },
    {
     "data": {
      "text/plain": [
       "0.7309486780715396"
      ]
     },
     "metadata": {},
     "output_type": "display_data"
    }
   ],
   "source": [
    "# коэффициенты точности на трех моделях\n",
    "display(accuracy_score(target_test, best_tree_model.predict(features_test)))\n",
    "display(accuracy_score(target_test, best_forest_model.predict(features_test)))\n",
    "display(accuracy_score(target_test, best_log_regress_model.predict(features_test)))"
   ]
  },
  {
   "cell_type": "markdown",
   "metadata": {},
   "source": [
    "## Проверка модели на адекватность"
   ]
  },
  {
   "cell_type": "markdown",
   "metadata": {},
   "source": [
    "Точность константной модели, которая работает по принципу присваивания каждому объекту наиболее встречаемый класс, меньше точности выбранной модели 'случайный лес' (69,4% против 80%), что говорит о вменяемости выбранной модели."
   ]
  },
  {
   "cell_type": "code",
   "execution_count": 8,
   "metadata": {},
   "outputs": [
    {
     "data": {
      "text/plain": [
       "0.6936236391912908"
      ]
     },
     "metadata": {},
     "output_type": "display_data"
    },
    {
     "data": {
      "text/plain": [
       "0.8040435458786936"
      ]
     },
     "metadata": {},
     "output_type": "display_data"
    }
   ],
   "source": [
    "# константная модель с наиболее встречаемым классом\n",
    "model_dummy = DummyClassifier(random_state=123, strategy='most_frequent')\n",
    "model_dummy.fit(features_train, target_train)\n",
    "\n",
    "# точность константной и выбранной моделей\n",
    "display(accuracy_score(target_test, model_dummy.predict(features_test)))\n",
    "display(accuracy_score(target_test, best_forest_model.predict(features_test)))"
   ]
  },
  {
   "cell_type": "markdown",
   "metadata": {},
   "source": [
    "## Вывод"
   ]
  },
  {
   "cell_type": "markdown",
   "metadata": {},
   "source": [
    "* Поделили данные на три выборки (обучающая, валидационная, тестовая) в соотношении 3:1:1; в каждой выборке выделили признаки и целевой признак; в циклах подобрали совокупности гиперпараметров для наилучшей точности по трем моделям: дерево решений, случайный лес, логистическая регрессия; сравнили модели и нашли самую подходящую - случайный лес.\n",
    "* Модель 'дерево решений' на валидационной выборке показала значение 0.81 против 0.77 на тестовой, что говорит о переобучении модели; модель 'логистическая регрессия' показывает не высокие результаты и на валидационной выборке (0.75) и на тестовой (0.73), возможно дело в недообучени.\n",
    "* Наилучшие результаты показывает модель 'случайный лес', на валидационной выборке - 0.81 и на тестовой - 0.80. Единственный минус модели в скорости работы по сравнению с 'деревом решений' и 'логистической регрессией'.\n",
    "* Из трех представленных моделей для подборки тарифа наиболее подходит (показывает наивысшую точность) 'случайный лес'."
   ]
  }
 ],
 "metadata": {
  "ExecuteTimeLog": [
   {
    "duration": 558,
    "start_time": "2022-05-13T09:47:13.776Z"
   },
   {
    "duration": 47,
    "start_time": "2022-05-13T09:47:19.289Z"
   },
   {
    "duration": 35,
    "start_time": "2022-05-13T11:15:41.093Z"
   },
   {
    "duration": 74,
    "start_time": "2022-05-13T11:21:43.676Z"
   },
   {
    "duration": 733,
    "start_time": "2022-05-13T11:21:49.964Z"
   },
   {
    "duration": 42,
    "start_time": "2022-05-13T11:21:52.318Z"
   },
   {
    "duration": 6,
    "start_time": "2022-05-13T11:21:58.154Z"
   },
   {
    "duration": 10,
    "start_time": "2022-05-13T11:22:33.588Z"
   },
   {
    "duration": 9,
    "start_time": "2022-05-13T11:22:48.416Z"
   },
   {
    "duration": 123,
    "start_time": "2022-05-13T11:45:10.690Z"
   },
   {
    "duration": 68,
    "start_time": "2022-05-13T11:45:14.454Z"
   },
   {
    "duration": 12,
    "start_time": "2022-05-13T11:45:16.997Z"
   },
   {
    "duration": 25,
    "start_time": "2022-05-13T11:45:40.170Z"
   },
   {
    "duration": 20,
    "start_time": "2022-05-13T11:46:08.116Z"
   },
   {
    "duration": 31,
    "start_time": "2022-05-13T11:46:47.639Z"
   },
   {
    "duration": 21,
    "start_time": "2022-05-13T11:46:52.373Z"
   },
   {
    "duration": 68,
    "start_time": "2022-05-13T11:51:38.103Z"
   },
   {
    "duration": 160,
    "start_time": "2022-05-13T11:51:46.947Z"
   },
   {
    "duration": 369,
    "start_time": "2022-05-13T11:51:52.070Z"
   },
   {
    "duration": 673,
    "start_time": "2022-05-13T11:51:56.428Z"
   },
   {
    "duration": 72,
    "start_time": "2022-05-13T11:52:00.440Z"
   },
   {
    "duration": 66,
    "start_time": "2022-05-13T11:54:14.292Z"
   },
   {
    "duration": 21,
    "start_time": "2022-05-13T12:08:27.170Z"
   },
   {
    "duration": 425,
    "start_time": "2022-05-13T12:08:45.730Z"
   },
   {
    "duration": 1877,
    "start_time": "2022-05-13T12:09:17.834Z"
   },
   {
    "duration": 1830,
    "start_time": "2022-05-13T12:09:28.225Z"
   },
   {
    "duration": 1846,
    "start_time": "2022-05-13T12:09:37.225Z"
   },
   {
    "duration": 5358,
    "start_time": "2022-05-13T12:09:50.161Z"
   },
   {
    "duration": 5,
    "start_time": "2022-05-13T12:10:17.689Z"
   },
   {
    "duration": 4724,
    "start_time": "2022-05-13T12:10:26.208Z"
   },
   {
    "duration": 9,
    "start_time": "2022-05-13T12:16:00.125Z"
   },
   {
    "duration": 55,
    "start_time": "2022-05-13T12:16:12.167Z"
   },
   {
    "duration": 8,
    "start_time": "2022-05-13T12:16:14.197Z"
   },
   {
    "duration": 6,
    "start_time": "2022-05-13T12:16:16.350Z"
   },
   {
    "duration": 242,
    "start_time": "2022-05-13T12:16:18.430Z"
   },
   {
    "duration": 783,
    "start_time": "2022-05-13T12:16:32.234Z"
   },
   {
    "duration": 229,
    "start_time": "2022-05-13T12:16:38.657Z"
   },
   {
    "duration": 793,
    "start_time": "2022-05-13T12:16:50.390Z"
   },
   {
    "duration": 1680,
    "start_time": "2022-05-13T12:16:58.269Z"
   },
   {
    "duration": 17786,
    "start_time": "2022-05-13T12:17:04.292Z"
   },
   {
    "duration": 3079,
    "start_time": "2022-05-13T12:18:22.065Z"
   },
   {
    "duration": 48670,
    "start_time": "2022-05-13T12:19:36.286Z"
   },
   {
    "duration": 8083,
    "start_time": "2022-05-13T12:20:46.929Z"
   },
   {
    "duration": 6226,
    "start_time": "2022-05-13T12:21:15.246Z"
   },
   {
    "duration": 4341,
    "start_time": "2022-05-13T12:21:25.102Z"
   },
   {
    "duration": 2801,
    "start_time": "2022-05-13T12:21:35.623Z"
   },
   {
    "duration": 1292,
    "start_time": "2022-05-13T12:21:42.818Z"
   },
   {
    "duration": 8258,
    "start_time": "2022-05-13T12:21:50.163Z"
   },
   {
    "duration": 19357,
    "start_time": "2022-05-13T12:22:09.318Z"
   },
   {
    "duration": 6134,
    "start_time": "2022-05-13T12:22:34.217Z"
   },
   {
    "duration": 12,
    "start_time": "2022-05-13T13:22:43.278Z"
   },
   {
    "duration": 53,
    "start_time": "2022-05-13T13:22:48.562Z"
   },
   {
    "duration": 9,
    "start_time": "2022-05-13T13:22:48.617Z"
   },
   {
    "duration": 6,
    "start_time": "2022-05-13T13:22:48.627Z"
   },
   {
    "duration": 5290,
    "start_time": "2022-05-13T13:22:48.634Z"
   },
   {
    "duration": 6019,
    "start_time": "2022-05-13T13:22:53.927Z"
   },
   {
    "duration": 99,
    "start_time": "2022-05-13T13:22:59.948Z"
   },
   {
    "duration": 78,
    "start_time": "2022-05-13T13:24:16.188Z"
   },
   {
    "duration": 167,
    "start_time": "2022-05-13T13:24:36.784Z"
   },
   {
    "duration": 83,
    "start_time": "2022-05-13T13:24:54.512Z"
   },
   {
    "duration": 77,
    "start_time": "2022-05-13T13:24:59.946Z"
   },
   {
    "duration": 52,
    "start_time": "2022-05-13T13:25:04.907Z"
   },
   {
    "duration": 17,
    "start_time": "2022-05-13T13:53:19.656Z"
   },
   {
    "duration": 30,
    "start_time": "2022-05-13T13:54:44.100Z"
   },
   {
    "duration": 13,
    "start_time": "2022-05-13T13:54:44.133Z"
   },
   {
    "duration": 7,
    "start_time": "2022-05-13T13:54:44.148Z"
   },
   {
    "duration": 8135,
    "start_time": "2022-05-13T13:54:44.158Z"
   },
   {
    "duration": 6175,
    "start_time": "2022-05-13T13:54:52.296Z"
   },
   {
    "duration": 138,
    "start_time": "2022-05-13T13:54:58.476Z"
   },
   {
    "duration": 16,
    "start_time": "2022-05-13T13:54:58.616Z"
   },
   {
    "duration": 16,
    "start_time": "2022-05-13T16:53:05.413Z"
   },
   {
    "duration": 27,
    "start_time": "2022-05-13T16:53:15.315Z"
   },
   {
    "duration": 52,
    "start_time": "2022-05-14T12:09:49.412Z"
   },
   {
    "duration": 1440,
    "start_time": "2022-05-14T12:09:58.055Z"
   },
   {
    "duration": 11,
    "start_time": "2022-05-14T12:09:59.497Z"
   },
   {
    "duration": 7,
    "start_time": "2022-05-14T12:09:59.510Z"
   },
   {
    "duration": 6627,
    "start_time": "2022-05-14T12:09:59.518Z"
   },
   {
    "duration": 6982,
    "start_time": "2022-05-14T12:10:06.147Z"
   },
   {
    "duration": 112,
    "start_time": "2022-05-14T12:10:13.131Z"
   },
   {
    "duration": 31,
    "start_time": "2022-05-14T12:10:13.245Z"
   },
   {
    "duration": 31,
    "start_time": "2022-05-14T12:10:13.278Z"
   },
   {
    "duration": 49,
    "start_time": "2022-05-15T10:49:17.195Z"
   },
   {
    "duration": 1075,
    "start_time": "2022-05-15T10:55:42.598Z"
   },
   {
    "duration": 9,
    "start_time": "2022-05-15T10:55:43.675Z"
   },
   {
    "duration": 5,
    "start_time": "2022-05-15T10:55:43.686Z"
   },
   {
    "duration": 4888,
    "start_time": "2022-05-15T10:55:43.693Z"
   },
   {
    "duration": 5838,
    "start_time": "2022-05-15T10:55:48.583Z"
   },
   {
    "duration": 77,
    "start_time": "2022-05-15T10:55:54.423Z"
   },
   {
    "duration": 14,
    "start_time": "2022-05-15T10:55:54.502Z"
   },
   {
    "duration": 85,
    "start_time": "2022-05-16T10:41:33.518Z"
   },
   {
    "duration": 1674,
    "start_time": "2022-05-16T10:41:37.284Z"
   },
   {
    "duration": 16,
    "start_time": "2022-05-16T10:41:38.960Z"
   },
   {
    "duration": 11,
    "start_time": "2022-05-16T10:41:38.981Z"
   },
   {
    "duration": 8477,
    "start_time": "2022-05-16T10:41:38.995Z"
   },
   {
    "duration": 11198,
    "start_time": "2022-05-16T10:41:47.474Z"
   },
   {
    "duration": 179,
    "start_time": "2022-05-16T10:41:58.675Z"
   },
   {
    "duration": 34,
    "start_time": "2022-05-16T10:41:58.862Z"
   },
   {
    "duration": 169,
    "start_time": "2022-05-16T10:41:58.899Z"
   },
   {
    "duration": 12,
    "start_time": "2022-05-16T10:42:14.249Z"
   },
   {
    "duration": 19,
    "start_time": "2022-05-16T10:42:40.575Z"
   },
   {
    "duration": 13478,
    "start_time": "2022-05-16T11:48:55.536Z"
   },
   {
    "duration": 41,
    "start_time": "2022-05-16T11:50:17.141Z"
   },
   {
    "duration": 9789,
    "start_time": "2022-05-16T11:50:21.905Z"
   },
   {
    "duration": 40,
    "start_time": "2022-05-16T11:51:02.722Z"
   },
   {
    "duration": 9846,
    "start_time": "2022-05-16T11:51:07.896Z"
   },
   {
    "duration": 1551,
    "start_time": "2022-05-16T16:32:49.261Z"
   },
   {
    "duration": 31,
    "start_time": "2022-05-16T16:34:43.989Z"
   },
   {
    "duration": 11,
    "start_time": "2022-05-16T16:34:44.022Z"
   },
   {
    "duration": 16,
    "start_time": "2022-05-16T16:34:44.035Z"
   },
   {
    "duration": 5243,
    "start_time": "2022-05-16T16:34:44.053Z"
   },
   {
    "duration": 329164,
    "start_time": "2022-05-16T16:34:49.298Z"
   },
   {
    "duration": 84,
    "start_time": "2022-05-16T16:40:18.464Z"
   },
   {
    "duration": 16,
    "start_time": "2022-05-16T16:40:18.549Z"
   },
   {
    "duration": 11,
    "start_time": "2022-05-16T16:40:18.567Z"
   },
   {
    "duration": 52395,
    "start_time": "2022-05-16T17:29:43.639Z"
   },
   {
    "duration": 39470,
    "start_time": "2022-05-16T17:50:20.261Z"
   },
   {
    "duration": 1339,
    "start_time": "2022-05-17T08:44:19.635Z"
   },
   {
    "duration": 10,
    "start_time": "2022-05-17T08:44:20.976Z"
   },
   {
    "duration": 20,
    "start_time": "2022-05-17T08:44:20.988Z"
   },
   {
    "duration": 5192,
    "start_time": "2022-05-17T08:44:21.009Z"
   },
   {
    "duration": 82923,
    "start_time": "2022-05-17T08:44:26.203Z"
   },
   {
    "duration": 84,
    "start_time": "2022-05-17T08:45:49.127Z"
   },
   {
    "duration": 38,
    "start_time": "2022-05-17T08:45:49.212Z"
   },
   {
    "duration": 13,
    "start_time": "2022-05-17T08:45:49.252Z"
   },
   {
    "duration": 6192,
    "start_time": "2022-05-17T08:47:11.157Z"
   },
   {
    "duration": 1514,
    "start_time": "2022-10-01T13:42:44.666Z"
   }
  ],
  "kernelspec": {
   "display_name": "Python 3 (ipykernel)",
   "language": "python",
   "name": "python3"
  },
  "language_info": {
   "codemirror_mode": {
    "name": "ipython",
    "version": 3
   },
   "file_extension": ".py",
   "mimetype": "text/x-python",
   "name": "python",
   "nbconvert_exporter": "python",
   "pygments_lexer": "ipython3",
   "version": "3.9.13"
  },
  "toc": {
   "base_numbering": 1,
   "nav_menu": {},
   "number_sections": true,
   "sideBar": true,
   "skip_h1_title": true,
   "title_cell": "Table of Contents",
   "title_sidebar": "Contents",
   "toc_cell": false,
   "toc_position": {},
   "toc_section_display": true,
   "toc_window_display": false
  }
 },
 "nbformat": 4,
 "nbformat_minor": 2
}
