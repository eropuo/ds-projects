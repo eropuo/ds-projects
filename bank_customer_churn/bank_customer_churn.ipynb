{
 "cells": [
  {
   "cell_type": "markdown",
   "metadata": {},
   "source": [
    "# Отток клиентов"
   ]
  },
  {
   "cell_type": "markdown",
   "metadata": {},
   "source": [
    "Из «Бета-Банка» стали уходить клиенты. Каждый месяц. Немного, но заметно. Банковские маркетологи посчитали: сохранять текущих клиентов дешевле, чем привлекать новых.\n",
    "\n",
    "Нужно спрогнозировать, уйдёт клиент из банка в ближайшее время или нет. Нам предоставлены исторические данные о поведении клиентов и расторжении договоров с банком. \n",
    "\n",
    "Необходимо построить модель с предельно большим значением *F1*-меры. Чтобы выполнить задачу успешно, нужно довести метрику до 0.59.\n",
    "\n",
    "Дополнительно измерим *AUC-ROC*, сравнивним её значение с *F1*-мерой.\n",
    "\n",
    "Источник данных: [https://www.kaggle.com/barelydedicated/bank-customer-churn-modeling](https://www.kaggle.com/barelydedicated/bank-customer-churn-modeling)"
   ]
  },
  {
   "cell_type": "markdown",
   "metadata": {},
   "source": [
    "## Подготовка данных"
   ]
  },
  {
   "cell_type": "markdown",
   "metadata": {},
   "source": [
    "### Обзор данных"
   ]
  },
  {
   "cell_type": "markdown",
   "metadata": {},
   "source": [
    "* По целевому признаку можем определить, что предстоить решить задачу бинарной классификации (1 - клиент ушел из банка, 0 - остался).\n",
    "* Заголовки написаны в верблюжьем стиле, следует изменить на змеиный. Также, в названиях присутствуют глаголы.\n",
    "* В столбце 'Tenure' есть пропуски, и у столбца тип 'float', хотя все признаки целочисленные.\n",
    "* Присутствуют категориальные признаки, следовательно для улучшения показателей модели необходима кодировка и последующее масштабирование переменных. Кодирование будем производить техникой OHE, так как она работает со всеми моделями.\n",
    "* В датафрейме по условию имеется индексация объектов, исходя из этого столбец 'RowNumber' теряет свой смысл, его можно удалить."
   ]
  },
  {
   "cell_type": "code",
   "execution_count": 2,
   "metadata": {
    "scrolled": false
   },
   "outputs": [
    {
     "data": {
      "text/html": [
       "<div>\n",
       "<style scoped>\n",
       "    .dataframe tbody tr th:only-of-type {\n",
       "        vertical-align: middle;\n",
       "    }\n",
       "\n",
       "    .dataframe tbody tr th {\n",
       "        vertical-align: top;\n",
       "    }\n",
       "\n",
       "    .dataframe thead th {\n",
       "        text-align: right;\n",
       "    }\n",
       "</style>\n",
       "<table border=\"1\" class=\"dataframe\">\n",
       "  <thead>\n",
       "    <tr style=\"text-align: right;\">\n",
       "      <th></th>\n",
       "      <th>RowNumber</th>\n",
       "      <th>CustomerId</th>\n",
       "      <th>Surname</th>\n",
       "      <th>CreditScore</th>\n",
       "      <th>Geography</th>\n",
       "      <th>Gender</th>\n",
       "      <th>Age</th>\n",
       "      <th>Tenure</th>\n",
       "      <th>Balance</th>\n",
       "      <th>NumOfProducts</th>\n",
       "      <th>HasCrCard</th>\n",
       "      <th>IsActiveMember</th>\n",
       "      <th>EstimatedSalary</th>\n",
       "      <th>Exited</th>\n",
       "    </tr>\n",
       "  </thead>\n",
       "  <tbody>\n",
       "    <tr>\n",
       "      <th>0</th>\n",
       "      <td>1</td>\n",
       "      <td>15634602</td>\n",
       "      <td>Hargrave</td>\n",
       "      <td>619</td>\n",
       "      <td>France</td>\n",
       "      <td>Female</td>\n",
       "      <td>42</td>\n",
       "      <td>2.0</td>\n",
       "      <td>0.00</td>\n",
       "      <td>1</td>\n",
       "      <td>1</td>\n",
       "      <td>1</td>\n",
       "      <td>101348.88</td>\n",
       "      <td>1</td>\n",
       "    </tr>\n",
       "    <tr>\n",
       "      <th>1</th>\n",
       "      <td>2</td>\n",
       "      <td>15647311</td>\n",
       "      <td>Hill</td>\n",
       "      <td>608</td>\n",
       "      <td>Spain</td>\n",
       "      <td>Female</td>\n",
       "      <td>41</td>\n",
       "      <td>1.0</td>\n",
       "      <td>83807.86</td>\n",
       "      <td>1</td>\n",
       "      <td>0</td>\n",
       "      <td>1</td>\n",
       "      <td>112542.58</td>\n",
       "      <td>0</td>\n",
       "    </tr>\n",
       "    <tr>\n",
       "      <th>2</th>\n",
       "      <td>3</td>\n",
       "      <td>15619304</td>\n",
       "      <td>Onio</td>\n",
       "      <td>502</td>\n",
       "      <td>France</td>\n",
       "      <td>Female</td>\n",
       "      <td>42</td>\n",
       "      <td>8.0</td>\n",
       "      <td>159660.80</td>\n",
       "      <td>3</td>\n",
       "      <td>1</td>\n",
       "      <td>0</td>\n",
       "      <td>113931.57</td>\n",
       "      <td>1</td>\n",
       "    </tr>\n",
       "    <tr>\n",
       "      <th>3</th>\n",
       "      <td>4</td>\n",
       "      <td>15701354</td>\n",
       "      <td>Boni</td>\n",
       "      <td>699</td>\n",
       "      <td>France</td>\n",
       "      <td>Female</td>\n",
       "      <td>39</td>\n",
       "      <td>1.0</td>\n",
       "      <td>0.00</td>\n",
       "      <td>2</td>\n",
       "      <td>0</td>\n",
       "      <td>0</td>\n",
       "      <td>93826.63</td>\n",
       "      <td>0</td>\n",
       "    </tr>\n",
       "    <tr>\n",
       "      <th>4</th>\n",
       "      <td>5</td>\n",
       "      <td>15737888</td>\n",
       "      <td>Mitchell</td>\n",
       "      <td>850</td>\n",
       "      <td>Spain</td>\n",
       "      <td>Female</td>\n",
       "      <td>43</td>\n",
       "      <td>2.0</td>\n",
       "      <td>125510.82</td>\n",
       "      <td>1</td>\n",
       "      <td>1</td>\n",
       "      <td>1</td>\n",
       "      <td>79084.10</td>\n",
       "      <td>0</td>\n",
       "    </tr>\n",
       "  </tbody>\n",
       "</table>\n",
       "</div>"
      ],
      "text/plain": [
       "   RowNumber  CustomerId   Surname  CreditScore Geography  Gender  Age  \\\n",
       "0          1    15634602  Hargrave          619    France  Female   42   \n",
       "1          2    15647311      Hill          608     Spain  Female   41   \n",
       "2          3    15619304      Onio          502    France  Female   42   \n",
       "3          4    15701354      Boni          699    France  Female   39   \n",
       "4          5    15737888  Mitchell          850     Spain  Female   43   \n",
       "\n",
       "   Tenure    Balance  NumOfProducts  HasCrCard  IsActiveMember  \\\n",
       "0     2.0       0.00              1          1               1   \n",
       "1     1.0   83807.86              1          0               1   \n",
       "2     8.0  159660.80              3          1               0   \n",
       "3     1.0       0.00              2          0               0   \n",
       "4     2.0  125510.82              1          1               1   \n",
       "\n",
       "   EstimatedSalary  Exited  \n",
       "0        101348.88       1  \n",
       "1        112542.58       0  \n",
       "2        113931.57       1  \n",
       "3         93826.63       0  \n",
       "4         79084.10       0  "
      ]
     },
     "metadata": {},
     "output_type": "display_data"
    },
    {
     "name": "stdout",
     "output_type": "stream",
     "text": [
      "<class 'pandas.core.frame.DataFrame'>\n",
      "Int64Index: 10000 entries, 0 to 9999\n",
      "Data columns (total 14 columns):\n",
      " #   Column           Non-Null Count  Dtype  \n",
      "---  ------           --------------  -----  \n",
      " 0   RowNumber        10000 non-null  int64  \n",
      " 1   CustomerId       10000 non-null  int64  \n",
      " 2   Surname          10000 non-null  object \n",
      " 3   CreditScore      10000 non-null  int64  \n",
      " 4   Geography        10000 non-null  object \n",
      " 5   Gender           10000 non-null  object \n",
      " 6   Age              10000 non-null  int64  \n",
      " 7   Tenure           9091 non-null   float64\n",
      " 8   Balance          10000 non-null  float64\n",
      " 9   NumOfProducts    10000 non-null  int64  \n",
      " 10  HasCrCard        10000 non-null  int64  \n",
      " 11  IsActiveMember   10000 non-null  int64  \n",
      " 12  EstimatedSalary  10000 non-null  float64\n",
      " 13  Exited           10000 non-null  int64  \n",
      "dtypes: float64(3), int64(8), object(3)\n",
      "memory usage: 1.1+ MB\n"
     ]
    }
   ],
   "source": [
    "# импортирование всех нужных библиотек и фуцнкций \n",
    "import pandas as pd\n",
    "import numpy as np\n",
    "import re\n",
    "from sklearn.tree import DecisionTreeClassifier \n",
    "from sklearn.ensemble import RandomForestClassifier \n",
    "from sklearn.linear_model import LogisticRegression\n",
    "from sklearn.preprocessing import StandardScaler\n",
    "from sklearn.model_selection import train_test_split, GridSearchCV\n",
    "from sklearn.metrics import f1_score, confusion_matrix, roc_auc_score, accuracy_score\n",
    "from sklearn.dummy import DummyClassifier\n",
    "from sklearn.utils import shuffle\n",
    "from sklearn.impute import KNNImputer\n",
    "\n",
    "# формирование датафрейма \n",
    "data = pd.read_csv('dataset_churn.csv', index_col=0)\n",
    "\n",
    "# просмотр общей информации о датафрейме\n",
    "display(data.head())\n",
    "data.info()"
   ]
  },
  {
   "cell_type": "markdown",
   "metadata": {},
   "source": [
    "### Стиль заголовков\n",
    "\n",
    "Приведение заголовков к змеиному регистру."
   ]
  },
  {
   "cell_type": "code",
   "execution_count": 224,
   "metadata": {
    "scrolled": false
   },
   "outputs": [
    {
     "name": "stdout",
     "output_type": "stream",
     "text": [
      "<class 'pandas.core.frame.DataFrame'>\n",
      "RangeIndex: 10000 entries, 0 to 9999\n",
      "Data columns (total 14 columns):\n",
      " #   Column            Non-Null Count  Dtype  \n",
      "---  ------            --------------  -----  \n",
      " 0   row_number        10000 non-null  int64  \n",
      " 1   customer_id       10000 non-null  int64  \n",
      " 2   surname           10000 non-null  object \n",
      " 3   credit_score      10000 non-null  int64  \n",
      " 4   geography         10000 non-null  object \n",
      " 5   gender            10000 non-null  object \n",
      " 6   age               10000 non-null  int64  \n",
      " 7   tenure            9091 non-null   float64\n",
      " 8   balance           10000 non-null  float64\n",
      " 9   num_of_products   10000 non-null  int64  \n",
      " 10  has_cr_card       10000 non-null  int64  \n",
      " 11  is_active_member  10000 non-null  int64  \n",
      " 12  estimated_salary  10000 non-null  float64\n",
      " 13  exited            10000 non-null  int64  \n",
      "dtypes: float64(3), int64(8), object(3)\n",
      "memory usage: 1.1+ MB\n"
     ]
    }
   ],
   "source": [
    "# изменение стиля заголовков\n",
    "for name in data.columns:\n",
    "    rena = re.sub(r\"(?=[A-Z])(?!^)\", '_', name).lower()\n",
    "    data = data.rename(columns={name:rena})\n",
    "\n",
    "# проверка внесенных изменений\n",
    "data.info()"
   ]
  },
  {
   "cell_type": "markdown",
   "metadata": {},
   "source": [
    "### Дубликаты\n",
    "\n",
    "Дубликатов не выявлено."
   ]
  },
  {
   "cell_type": "code",
   "execution_count": 225,
   "metadata": {},
   "outputs": [
    {
     "data": {
      "text/plain": [
       "0"
      ]
     },
     "metadata": {},
     "output_type": "display_data"
    },
    {
     "data": {
      "text/plain": [
       "0"
      ]
     },
     "metadata": {},
     "output_type": "display_data"
    }
   ],
   "source": [
    "# проверка данных на наличие дубликатов\n",
    "display(data.duplicated().sum())\n",
    "display(data['customer_id'].duplicated().sum())"
   ]
  },
  {
   "cell_type": "markdown",
   "metadata": {},
   "source": [
    "### Пропуски\n",
    "\n",
    "Пропуски в столбце 'tenure' можно заполнить используя метод k-ближайших соседей."
   ]
  },
  {
   "cell_type": "code",
   "execution_count": 226,
   "metadata": {
    "scrolled": true
   },
   "outputs": [
    {
     "name": "stdout",
     "output_type": "stream",
     "text": [
      "<class 'pandas.core.frame.DataFrame'>\n",
      "RangeIndex: 10000 entries, 0 to 9999\n",
      "Data columns (total 14 columns):\n",
      " #   Column            Non-Null Count  Dtype  \n",
      "---  ------            --------------  -----  \n",
      " 0   row_number        10000 non-null  int64  \n",
      " 1   customer_id       10000 non-null  int64  \n",
      " 2   surname           10000 non-null  object \n",
      " 3   credit_score      10000 non-null  int64  \n",
      " 4   geography         10000 non-null  object \n",
      " 5   gender            10000 non-null  object \n",
      " 6   age               10000 non-null  int64  \n",
      " 7   tenure            10000 non-null  float64\n",
      " 8   balance           10000 non-null  float64\n",
      " 9   num_of_products   10000 non-null  int64  \n",
      " 10  has_cr_card       10000 non-null  int64  \n",
      " 11  is_active_member  10000 non-null  int64  \n",
      " 12  estimated_salary  10000 non-null  float64\n",
      " 13  exited            10000 non-null  int64  \n",
      "dtypes: float64(3), int64(8), object(3)\n",
      "memory usage: 1.1+ MB\n"
     ]
    },
    {
     "data": {
      "text/html": [
       "<div>\n",
       "<style scoped>\n",
       "    .dataframe tbody tr th:only-of-type {\n",
       "        vertical-align: middle;\n",
       "    }\n",
       "\n",
       "    .dataframe tbody tr th {\n",
       "        vertical-align: top;\n",
       "    }\n",
       "\n",
       "    .dataframe thead th {\n",
       "        text-align: right;\n",
       "    }\n",
       "</style>\n",
       "<table border=\"1\" class=\"dataframe\">\n",
       "  <thead>\n",
       "    <tr style=\"text-align: right;\">\n",
       "      <th></th>\n",
       "      <th>row_number</th>\n",
       "      <th>customer_id</th>\n",
       "      <th>surname</th>\n",
       "      <th>credit_score</th>\n",
       "      <th>geography</th>\n",
       "      <th>gender</th>\n",
       "      <th>age</th>\n",
       "      <th>tenure</th>\n",
       "      <th>balance</th>\n",
       "      <th>num_of_products</th>\n",
       "      <th>has_cr_card</th>\n",
       "      <th>is_active_member</th>\n",
       "      <th>estimated_salary</th>\n",
       "      <th>exited</th>\n",
       "    </tr>\n",
       "  </thead>\n",
       "  <tbody>\n",
       "    <tr>\n",
       "      <th>0</th>\n",
       "      <td>1</td>\n",
       "      <td>15634602</td>\n",
       "      <td>Hargrave</td>\n",
       "      <td>619</td>\n",
       "      <td>France</td>\n",
       "      <td>Female</td>\n",
       "      <td>42</td>\n",
       "      <td>2.0</td>\n",
       "      <td>0.00</td>\n",
       "      <td>1</td>\n",
       "      <td>1</td>\n",
       "      <td>1</td>\n",
       "      <td>101348.88</td>\n",
       "      <td>1</td>\n",
       "    </tr>\n",
       "    <tr>\n",
       "      <th>1</th>\n",
       "      <td>2</td>\n",
       "      <td>15647311</td>\n",
       "      <td>Hill</td>\n",
       "      <td>608</td>\n",
       "      <td>Spain</td>\n",
       "      <td>Female</td>\n",
       "      <td>41</td>\n",
       "      <td>1.0</td>\n",
       "      <td>83807.86</td>\n",
       "      <td>1</td>\n",
       "      <td>0</td>\n",
       "      <td>1</td>\n",
       "      <td>112542.58</td>\n",
       "      <td>0</td>\n",
       "    </tr>\n",
       "    <tr>\n",
       "      <th>2</th>\n",
       "      <td>3</td>\n",
       "      <td>15619304</td>\n",
       "      <td>Onio</td>\n",
       "      <td>502</td>\n",
       "      <td>France</td>\n",
       "      <td>Female</td>\n",
       "      <td>42</td>\n",
       "      <td>8.0</td>\n",
       "      <td>159660.80</td>\n",
       "      <td>3</td>\n",
       "      <td>1</td>\n",
       "      <td>0</td>\n",
       "      <td>113931.57</td>\n",
       "      <td>1</td>\n",
       "    </tr>\n",
       "    <tr>\n",
       "      <th>3</th>\n",
       "      <td>4</td>\n",
       "      <td>15701354</td>\n",
       "      <td>Boni</td>\n",
       "      <td>699</td>\n",
       "      <td>France</td>\n",
       "      <td>Female</td>\n",
       "      <td>39</td>\n",
       "      <td>1.0</td>\n",
       "      <td>0.00</td>\n",
       "      <td>2</td>\n",
       "      <td>0</td>\n",
       "      <td>0</td>\n",
       "      <td>93826.63</td>\n",
       "      <td>0</td>\n",
       "    </tr>\n",
       "    <tr>\n",
       "      <th>4</th>\n",
       "      <td>5</td>\n",
       "      <td>15737888</td>\n",
       "      <td>Mitchell</td>\n",
       "      <td>850</td>\n",
       "      <td>Spain</td>\n",
       "      <td>Female</td>\n",
       "      <td>43</td>\n",
       "      <td>2.0</td>\n",
       "      <td>125510.82</td>\n",
       "      <td>1</td>\n",
       "      <td>1</td>\n",
       "      <td>1</td>\n",
       "      <td>79084.10</td>\n",
       "      <td>0</td>\n",
       "    </tr>\n",
       "    <tr>\n",
       "      <th>...</th>\n",
       "      <td>...</td>\n",
       "      <td>...</td>\n",
       "      <td>...</td>\n",
       "      <td>...</td>\n",
       "      <td>...</td>\n",
       "      <td>...</td>\n",
       "      <td>...</td>\n",
       "      <td>...</td>\n",
       "      <td>...</td>\n",
       "      <td>...</td>\n",
       "      <td>...</td>\n",
       "      <td>...</td>\n",
       "      <td>...</td>\n",
       "      <td>...</td>\n",
       "    </tr>\n",
       "    <tr>\n",
       "      <th>9995</th>\n",
       "      <td>9996</td>\n",
       "      <td>15606229</td>\n",
       "      <td>Obijiaku</td>\n",
       "      <td>771</td>\n",
       "      <td>France</td>\n",
       "      <td>Male</td>\n",
       "      <td>39</td>\n",
       "      <td>5.0</td>\n",
       "      <td>0.00</td>\n",
       "      <td>2</td>\n",
       "      <td>1</td>\n",
       "      <td>0</td>\n",
       "      <td>96270.64</td>\n",
       "      <td>0</td>\n",
       "    </tr>\n",
       "    <tr>\n",
       "      <th>9996</th>\n",
       "      <td>9997</td>\n",
       "      <td>15569892</td>\n",
       "      <td>Johnstone</td>\n",
       "      <td>516</td>\n",
       "      <td>France</td>\n",
       "      <td>Male</td>\n",
       "      <td>35</td>\n",
       "      <td>10.0</td>\n",
       "      <td>57369.61</td>\n",
       "      <td>1</td>\n",
       "      <td>1</td>\n",
       "      <td>1</td>\n",
       "      <td>101699.77</td>\n",
       "      <td>0</td>\n",
       "    </tr>\n",
       "    <tr>\n",
       "      <th>9997</th>\n",
       "      <td>9998</td>\n",
       "      <td>15584532</td>\n",
       "      <td>Liu</td>\n",
       "      <td>709</td>\n",
       "      <td>France</td>\n",
       "      <td>Female</td>\n",
       "      <td>36</td>\n",
       "      <td>7.0</td>\n",
       "      <td>0.00</td>\n",
       "      <td>1</td>\n",
       "      <td>0</td>\n",
       "      <td>1</td>\n",
       "      <td>42085.58</td>\n",
       "      <td>1</td>\n",
       "    </tr>\n",
       "    <tr>\n",
       "      <th>9998</th>\n",
       "      <td>9999</td>\n",
       "      <td>15682355</td>\n",
       "      <td>Sabbatini</td>\n",
       "      <td>772</td>\n",
       "      <td>Germany</td>\n",
       "      <td>Male</td>\n",
       "      <td>42</td>\n",
       "      <td>3.0</td>\n",
       "      <td>75075.31</td>\n",
       "      <td>2</td>\n",
       "      <td>1</td>\n",
       "      <td>0</td>\n",
       "      <td>92888.52</td>\n",
       "      <td>1</td>\n",
       "    </tr>\n",
       "    <tr>\n",
       "      <th>9999</th>\n",
       "      <td>10000</td>\n",
       "      <td>15628319</td>\n",
       "      <td>Walker</td>\n",
       "      <td>792</td>\n",
       "      <td>France</td>\n",
       "      <td>Female</td>\n",
       "      <td>28</td>\n",
       "      <td>4.5</td>\n",
       "      <td>130142.79</td>\n",
       "      <td>1</td>\n",
       "      <td>1</td>\n",
       "      <td>0</td>\n",
       "      <td>38190.78</td>\n",
       "      <td>0</td>\n",
       "    </tr>\n",
       "  </tbody>\n",
       "</table>\n",
       "<p>10000 rows × 14 columns</p>\n",
       "</div>"
      ],
      "text/plain": [
       "      row_number  customer_id    surname  credit_score geography  gender  age  \\\n",
       "0              1     15634602   Hargrave           619    France  Female   42   \n",
       "1              2     15647311       Hill           608     Spain  Female   41   \n",
       "2              3     15619304       Onio           502    France  Female   42   \n",
       "3              4     15701354       Boni           699    France  Female   39   \n",
       "4              5     15737888   Mitchell           850     Spain  Female   43   \n",
       "...          ...          ...        ...           ...       ...     ...  ...   \n",
       "9995        9996     15606229   Obijiaku           771    France    Male   39   \n",
       "9996        9997     15569892  Johnstone           516    France    Male   35   \n",
       "9997        9998     15584532        Liu           709    France  Female   36   \n",
       "9998        9999     15682355  Sabbatini           772   Germany    Male   42   \n",
       "9999       10000     15628319     Walker           792    France  Female   28   \n",
       "\n",
       "      tenure    balance  num_of_products  has_cr_card  is_active_member  \\\n",
       "0        2.0       0.00                1            1                 1   \n",
       "1        1.0   83807.86                1            0                 1   \n",
       "2        8.0  159660.80                3            1                 0   \n",
       "3        1.0       0.00                2            0                 0   \n",
       "4        2.0  125510.82                1            1                 1   \n",
       "...      ...        ...              ...          ...               ...   \n",
       "9995     5.0       0.00                2            1                 0   \n",
       "9996    10.0   57369.61                1            1                 1   \n",
       "9997     7.0       0.00                1            0                 1   \n",
       "9998     3.0   75075.31                2            1                 0   \n",
       "9999     4.5  130142.79                1            1                 0   \n",
       "\n",
       "      estimated_salary  exited  \n",
       "0            101348.88       1  \n",
       "1            112542.58       0  \n",
       "2            113931.57       1  \n",
       "3             93826.63       0  \n",
       "4             79084.10       0  \n",
       "...                ...     ...  \n",
       "9995          96270.64       0  \n",
       "9996         101699.77       0  \n",
       "9997          42085.58       1  \n",
       "9998          92888.52       1  \n",
       "9999          38190.78       0  \n",
       "\n",
       "[10000 rows x 14 columns]"
      ]
     },
     "metadata": {},
     "output_type": "display_data"
    }
   ],
   "source": [
    "# выделение количественных признаков\n",
    "numeric = ['credit_score', 'age', 'tenure', 'balance', 'num_of_products', 'estimated_salary']\n",
    "\n",
    "# создание KNNImputer объекта и его обучение\n",
    "imputer = KNNImputer(n_neighbors=2)\n",
    "imputer.fit(data[numeric])\n",
    "\n",
    "# заполнение пропусков\n",
    "data['tenure'] = pd.DataFrame(data=imputer.transform(data[numeric]), columns=data[numeric].columns)['tenure']\n",
    "\n",
    "# проверка внесенных изменений\n",
    "data.info()\n",
    "display(data)"
   ]
  },
  {
   "cell_type": "markdown",
   "metadata": {},
   "source": [
    "### Исправление ошибок\n",
    "\n",
    "Удаление столбца 'row_number'"
   ]
  },
  {
   "cell_type": "code",
   "execution_count": 227,
   "metadata": {
    "scrolled": true
   },
   "outputs": [
    {
     "name": "stdout",
     "output_type": "stream",
     "text": [
      "<class 'pandas.core.frame.DataFrame'>\n",
      "RangeIndex: 10000 entries, 0 to 9999\n",
      "Data columns (total 13 columns):\n",
      " #   Column            Non-Null Count  Dtype  \n",
      "---  ------            --------------  -----  \n",
      " 0   customer_id       10000 non-null  int64  \n",
      " 1   surname           10000 non-null  object \n",
      " 2   credit_score      10000 non-null  int64  \n",
      " 3   geography         10000 non-null  object \n",
      " 4   gender            10000 non-null  object \n",
      " 5   age               10000 non-null  int64  \n",
      " 6   tenure            10000 non-null  float64\n",
      " 7   balance           10000 non-null  float64\n",
      " 8   num_of_products   10000 non-null  int64  \n",
      " 9   has_cr_card       10000 non-null  int64  \n",
      " 10  is_active_member  10000 non-null  int64  \n",
      " 11  estimated_salary  10000 non-null  float64\n",
      " 12  exited            10000 non-null  int64  \n",
      "dtypes: float64(3), int64(7), object(3)\n",
      "memory usage: 1015.8+ KB\n"
     ]
    }
   ],
   "source": [
    "# удаление лишнего столбца\n",
    "data = data.drop(['row_number'], axis=1)\n",
    "\n",
    "# проверка внесенных изменений\n",
    "data.info()"
   ]
  },
  {
   "cell_type": "markdown",
   "metadata": {},
   "source": [
    "### Подготовка признаков"
   ]
  },
  {
   "cell_type": "markdown",
   "metadata": {},
   "source": [
    "#### Кодирование OHE\n",
    "\n",
    "Признаки 'surname' и 'customer_id' не влияют на вероятность ухода клиента из банка, поэтому их стоит отбросить до обучения модели."
   ]
  },
  {
   "cell_type": "code",
   "execution_count": 228,
   "metadata": {
    "scrolled": false
   },
   "outputs": [
    {
     "name": "stdout",
     "output_type": "stream",
     "text": [
      "<class 'pandas.core.frame.DataFrame'>\n",
      "RangeIndex: 10000 entries, 0 to 9999\n",
      "Data columns (total 12 columns):\n",
      " #   Column             Non-Null Count  Dtype  \n",
      "---  ------             --------------  -----  \n",
      " 0   credit_score       10000 non-null  int64  \n",
      " 1   age                10000 non-null  int64  \n",
      " 2   tenure             10000 non-null  float64\n",
      " 3   balance            10000 non-null  float64\n",
      " 4   num_of_products    10000 non-null  int64  \n",
      " 5   has_cr_card        10000 non-null  int64  \n",
      " 6   is_active_member   10000 non-null  int64  \n",
      " 7   estimated_salary   10000 non-null  float64\n",
      " 8   exited             10000 non-null  int64  \n",
      " 9   geography_Germany  10000 non-null  uint8  \n",
      " 10  geography_Spain    10000 non-null  uint8  \n",
      " 11  gender_Male        10000 non-null  uint8  \n",
      "dtypes: float64(3), int64(6), uint8(3)\n",
      "memory usage: 732.5 KB\n"
     ]
    }
   ],
   "source": [
    "# формирование датафрейма без столбцов не влияюших на целевой признак\n",
    "data_ohe = data.drop(['surname', 'customer_id'], axis=1)\n",
    "\n",
    "# кодируем категориальные признаки, избегая дамми-ловушку\n",
    "data_ohe = pd.get_dummies(data_ohe, drop_first=True)\n",
    "\n",
    "# проверка внесенных изменений\n",
    "data_ohe.info()"
   ]
  },
  {
   "cell_type": "markdown",
   "metadata": {},
   "source": [
    "## Исследование задачи"
   ]
  },
  {
   "cell_type": "markdown",
   "metadata": {},
   "source": [
    "### Баланс классов \n",
    "\n",
    "Присутствует дисбаланс классов, соотношение отрицательных ответов к положительным 4:1."
   ]
  },
  {
   "cell_type": "code",
   "execution_count": 229,
   "metadata": {},
   "outputs": [
    {
     "data": {
      "text/plain": [
       "0    7963\n",
       "1    2037\n",
       "Name: exited, dtype: int64"
      ]
     },
     "metadata": {},
     "output_type": "display_data"
    }
   ],
   "source": [
    "# соотношение значений целевого признака\n",
    "display(data_ohe['exited'].value_counts())"
   ]
  },
  {
   "cell_type": "markdown",
   "metadata": {},
   "source": [
    "### Обучение моделей с учетом дисбаланса\n",
    "\n",
    "Так как тестовой выборки нет, разобьем исходнные данные в соотношении 3:1:1. <br>\n",
    "Также проведем масштабирование признаков путем стандартизации."
   ]
  },
  {
   "cell_type": "code",
   "execution_count": 230,
   "metadata": {
    "scrolled": false
   },
   "outputs": [
    {
     "data": {
      "text/plain": [
       "6000"
      ]
     },
     "metadata": {},
     "output_type": "display_data"
    },
    {
     "data": {
      "text/plain": [
       "2000"
      ]
     },
     "metadata": {},
     "output_type": "display_data"
    },
    {
     "data": {
      "text/plain": [
       "2000"
      ]
     },
     "metadata": {},
     "output_type": "display_data"
    },
    {
     "name": "stderr",
     "output_type": "stream",
     "text": [
      "/tmp/ipykernel_24/1061406843.py:10: SettingWithCopyWarning: \n",
      "A value is trying to be set on a copy of a slice from a DataFrame.\n",
      "Try using .loc[row_indexer,col_indexer] = value instead\n",
      "\n",
      "See the caveats in the documentation: https://pandas.pydata.org/pandas-docs/stable/user_guide/indexing.html#returning-a-view-versus-a-copy\n",
      "  data_train[numeric] = scaler.fit_transform(data_train[numeric])\n",
      "/opt/conda/lib/python3.9/site-packages/pandas/core/indexing.py:1738: SettingWithCopyWarning: \n",
      "A value is trying to be set on a copy of a slice from a DataFrame.\n",
      "Try using .loc[row_indexer,col_indexer] = value instead\n",
      "\n",
      "See the caveats in the documentation: https://pandas.pydata.org/pandas-docs/stable/user_guide/indexing.html#returning-a-view-versus-a-copy\n",
      "  self._setitem_single_column(loc, value[:, i].tolist(), pi)\n",
      "/tmp/ipykernel_24/1061406843.py:11: SettingWithCopyWarning: \n",
      "A value is trying to be set on a copy of a slice from a DataFrame.\n",
      "Try using .loc[row_indexer,col_indexer] = value instead\n",
      "\n",
      "See the caveats in the documentation: https://pandas.pydata.org/pandas-docs/stable/user_guide/indexing.html#returning-a-view-versus-a-copy\n",
      "  data_valid[numeric] = scaler.fit_transform(data_valid[numeric])\n",
      "/opt/conda/lib/python3.9/site-packages/pandas/core/indexing.py:1738: SettingWithCopyWarning: \n",
      "A value is trying to be set on a copy of a slice from a DataFrame.\n",
      "Try using .loc[row_indexer,col_indexer] = value instead\n",
      "\n",
      "See the caveats in the documentation: https://pandas.pydata.org/pandas-docs/stable/user_guide/indexing.html#returning-a-view-versus-a-copy\n",
      "  self._setitem_single_column(loc, value[:, i].tolist(), pi)\n",
      "/tmp/ipykernel_24/1061406843.py:12: SettingWithCopyWarning: \n",
      "A value is trying to be set on a copy of a slice from a DataFrame.\n",
      "Try using .loc[row_indexer,col_indexer] = value instead\n",
      "\n",
      "See the caveats in the documentation: https://pandas.pydata.org/pandas-docs/stable/user_guide/indexing.html#returning-a-view-versus-a-copy\n",
      "  data_test[numeric] = scaler.fit_transform(data_test[numeric])\n",
      "/opt/conda/lib/python3.9/site-packages/pandas/core/indexing.py:1738: SettingWithCopyWarning: \n",
      "A value is trying to be set on a copy of a slice from a DataFrame.\n",
      "Try using .loc[row_indexer,col_indexer] = value instead\n",
      "\n",
      "See the caveats in the documentation: https://pandas.pydata.org/pandas-docs/stable/user_guide/indexing.html#returning-a-view-versus-a-copy\n",
      "  self._setitem_single_column(loc, value[:, i].tolist(), pi)\n"
     ]
    }
   ],
   "source": [
    "# формирование обучающей, валидационной и тестовой выборок\n",
    "data_train, data_temporary = train_test_split(data_ohe, test_size=0.4, random_state=123, stratify=data_ohe['exited'])\n",
    "data_valid, data_test = train_test_split(data_temporary, test_size=0.5, random_state=123, stratify=data_temporary['exited'])\n",
    "\n",
    "# проверка соотношения размеров выборок\n",
    "display(len(data_train), len(data_valid), len(data_test))\n",
    "\n",
    "# применение стандартизации данных\n",
    "scaler = StandardScaler()\n",
    "data_train[numeric] = scaler.fit_transform(data_train[numeric])\n",
    "data_valid[numeric] = scaler.fit_transform(data_valid[numeric])\n",
    "data_test[numeric] = scaler.fit_transform(data_test[numeric])\n",
    "\n",
    "# признаки и целевой признак в обучающей выборке \n",
    "features_train = data_train.drop(['exited'], axis=1)\n",
    "target_train = data_train['exited']\n",
    "\n",
    "# признаки и целевой признак в валидационной выборке \n",
    "features_valid = data_valid.drop(['exited'], axis=1)\n",
    "target_valid = data_valid['exited']\n",
    "\n",
    "# признаки и целевой признак в тестовой выборке \n",
    "features_test = data_test.drop(['exited'], axis=1)\n",
    "target_test = data_test['exited']"
   ]
  },
  {
   "cell_type": "markdown",
   "metadata": {},
   "source": [
    "#### Дерево решений \n",
    "\n",
    "* F1-мера: 0.53\n",
    "* AUC-ROC: 0.78"
   ]
  },
  {
   "cell_type": "code",
   "execution_count": 231,
   "metadata": {},
   "outputs": [],
   "source": [
    "# вариации гиперпараметров\n",
    "min_samples_split = [2, 5, 10]\n",
    "min_samples_leaf = [1, 2, 4]\n",
    "max_depth = [int(x) for x in np.linspace(10, 100, num = 10)]\n",
    "\n",
    "# сетка гиперпараметров\n",
    "parameters_grid = {'min_samples_split':min_samples_split,\n",
    "                   'min_samples_leaf':min_samples_leaf,\n",
    "                   'max_depth':max_depth}\n",
    "\n",
    "# модель 'дерево решений'\n",
    "model_tree = GridSearchCV(DecisionTreeClassifier(random_state=123), parameters_grid, scoring='f1', cv=3)\n",
    "\n",
    "# обучение модели\n",
    "model_tree.fit(features_train, target_train)\n",
    "\n",
    "# предсказание модели\n",
    "predictions_valid = model_tree.predict(features_valid)\n",
    "\n",
    "# вероятность значений целевого признака\n",
    "probabilities_valid = model_tree.predict_proba(features_valid)\n",
    "\n",
    "# вероятность положительного значения целевого признака\n",
    "probabilities_one_valid = probabilities_valid[:, 1]"
   ]
  },
  {
   "cell_type": "code",
   "execution_count": 232,
   "metadata": {
    "scrolled": true
   },
   "outputs": [
    {
     "data": {
      "text/plain": [
       "{'max_depth': 10, 'min_samples_leaf': 4, 'min_samples_split': 10}"
      ]
     },
     "metadata": {},
     "output_type": "display_data"
    },
    {
     "data": {
      "text/plain": [
       "0.5381294964028777"
      ]
     },
     "metadata": {},
     "output_type": "display_data"
    },
    {
     "data": {
      "text/plain": [
       "array([[1492,  100],\n",
       "       [ 221,  187]])"
      ]
     },
     "metadata": {},
     "output_type": "display_data"
    },
    {
     "data": {
      "text/plain": [
       "0.788268086757316"
      ]
     },
     "metadata": {},
     "output_type": "display_data"
    }
   ],
   "source": [
    "# подобранные гиперпараметры, показывающие наивысшую F1-меру\n",
    "display(model_tree.best_params_)\n",
    "\n",
    "# AUC-ROC значение модели\n",
    "auc_roc = roc_auc_score(target_valid, probabilities_one_valid)\n",
    "\n",
    "# метрики и матрица ошибок модели\n",
    "display(f1_score(target_valid, predictions_valid))\n",
    "display(confusion_matrix(target_valid, predictions_valid))\n",
    "display(auc_roc)"
   ]
  },
  {
   "cell_type": "markdown",
   "metadata": {},
   "source": [
    "#### Случайный лес\n",
    "\n",
    "* F1-мера: 0.57\n",
    "* AUC-ROC: 0.82"
   ]
  },
  {
   "cell_type": "code",
   "execution_count": 233,
   "metadata": {},
   "outputs": [],
   "source": [
    "# вариации гиперпараметров\n",
    "min_samples_split = [2, 5, 10]\n",
    "min_samples_leaf = [1, 2, 4]\n",
    "max_depth = [int(x) for x in np.linspace(10, 50, num = 5)]\n",
    "n_estimators = [int(x) for x in np.linspace(10, 30, num = 3)]\n",
    "\n",
    "# сетка гиперпараметров\n",
    "parameters_grid = {'min_samples_split':min_samples_split,\n",
    "                   'min_samples_leaf':min_samples_leaf,\n",
    "                   'max_depth':max_depth,\n",
    "                   'n_estimators':n_estimators}\n",
    "\n",
    "# модель 'случайный лес'\n",
    "model_forest = GridSearchCV(RandomForestClassifier(random_state=123), parameters_grid, scoring='f1', cv=4)\n",
    "\n",
    "# обучение модели\n",
    "model_forest.fit(features_train, target_train)\n",
    "\n",
    "# предсказание модели\n",
    "predictions_valid = model_forest.predict(features_valid)\n",
    "\n",
    "# вероятность значений целевого признака\n",
    "probabilities_valid = model_forest.predict_proba(features_valid)\n",
    "\n",
    "# вероятность положительного значения целевого признака\n",
    "probabilities_one_valid = probabilities_valid[:, 1]"
   ]
  },
  {
   "cell_type": "code",
   "execution_count": 234,
   "metadata": {},
   "outputs": [
    {
     "data": {
      "text/plain": [
       "{'max_depth': 20,\n",
       " 'min_samples_leaf': 1,\n",
       " 'min_samples_split': 5,\n",
       " 'n_estimators': 20}"
      ]
     },
     "metadata": {},
     "output_type": "display_data"
    },
    {
     "data": {
      "text/plain": [
       "0.5718562874251496"
      ]
     },
     "metadata": {},
     "output_type": "display_data"
    },
    {
     "data": {
      "text/plain": [
       "array([[1523,   69],\n",
       "       [ 217,  191]])"
      ]
     },
     "metadata": {},
     "output_type": "display_data"
    },
    {
     "data": {
      "text/plain": [
       "0.8294936693270274"
      ]
     },
     "metadata": {},
     "output_type": "display_data"
    }
   ],
   "source": [
    "# подобранные гиперпараметры, показывающие наивысшую F1-меру\n",
    "display(model_forest.best_params_)\n",
    "\n",
    "# AUC-ROC значение модели\n",
    "auc_roc = roc_auc_score(target_valid, probabilities_one_valid)\n",
    "\n",
    "# метрики и матрица ошибок модели\n",
    "display(f1_score(target_valid, predictions_valid))\n",
    "display(confusion_matrix(target_valid, predictions_valid))\n",
    "display(auc_roc)"
   ]
  },
  {
   "cell_type": "markdown",
   "metadata": {},
   "source": [
    "#### Логистическая регрессия\n",
    "\n",
    "* F1-мера: 0.28\n",
    "* AUC-ROC: 0.73"
   ]
  },
  {
   "cell_type": "code",
   "execution_count": 235,
   "metadata": {},
   "outputs": [],
   "source": [
    "# вариации гиперпараметров\n",
    "solver = ['newton-cg', 'lbfgs', 'liblinear', 'sag', 'saga']\n",
    "\n",
    "# сетка гиперпараметров\n",
    "parameters_grid = {'solver':solver}\n",
    "\n",
    "# модель 'логистическая регрессия'\n",
    "model_log_reg = GridSearchCV(LogisticRegression(random_state=123), parameters_grid, scoring='f1', cv=4)\n",
    "\n",
    "# обучение модели\n",
    "model_log_reg.fit(features_train, target_train)\n",
    "\n",
    "# предсказание модели\n",
    "predictions_valid = model_log_reg.predict(features_valid)\n",
    "\n",
    "# вероятность значений целевого признака\n",
    "probabilities_valid = model_log_reg.predict_proba(features_valid)\n",
    "\n",
    "# вероятность положительного значения целевого признака\n",
    "probabilities_one_valid = probabilities_valid[:, 1]"
   ]
  },
  {
   "cell_type": "code",
   "execution_count": 236,
   "metadata": {},
   "outputs": [
    {
     "data": {
      "text/plain": [
       "{'solver': 'liblinear'}"
      ]
     },
     "metadata": {},
     "output_type": "display_data"
    },
    {
     "data": {
      "text/plain": [
       "0.2851919561243144"
      ]
     },
     "metadata": {},
     "output_type": "display_data"
    },
    {
     "data": {
      "text/plain": [
       "array([[1531,   61],\n",
       "       [ 330,   78]])"
      ]
     },
     "metadata": {},
     "output_type": "display_data"
    },
    {
     "data": {
      "text/plain": [
       "0.7309202261306532"
      ]
     },
     "metadata": {},
     "output_type": "display_data"
    }
   ],
   "source": [
    "# подобранные гиперпараметры, показывающие наивысшую F1-меру\n",
    "display(model_log_reg.best_params_)\n",
    "\n",
    "# AUC-ROC значение модели\n",
    "auc_roc = roc_auc_score(target_valid, probabilities_one_valid)\n",
    "\n",
    "# метрики и матрица ошибок модели\n",
    "display(f1_score(target_valid, predictions_valid))\n",
    "display(confusion_matrix(target_valid, predictions_valid))\n",
    "display(auc_roc)"
   ]
  },
  {
   "cell_type": "markdown",
   "metadata": {},
   "source": [
    "#### Константная модель \n",
    "\n",
    "Все три модели: \"дерево решений\", \"случайный лес\" и \"логистическая регрессия\" показывают значения метрик лучше чем константная модель при обучении и предсказывании без учета дисбаланса классов. У модели \"случайный лес\" самые высокие значения среднего гармонического полноты и точности (F1-мера), а также площади кривой соотношения TPR к FPR (AUC-ROC)."
   ]
  },
  {
   "cell_type": "code",
   "execution_count": 237,
   "metadata": {},
   "outputs": [
    {
     "data": {
      "text/plain": [
       "0.5"
      ]
     },
     "metadata": {},
     "output_type": "display_data"
    }
   ],
   "source": [
    "# константная модель\n",
    "model_const = DummyClassifier(random_state=123, strategy='most_frequent')\n",
    "\n",
    "# обучение константной модели\n",
    "model_const.fit(features_train, target_train)\n",
    "\n",
    "# значение AUC-ROC константной модели\n",
    "display(roc_auc_score(target_valid, model_const.predict_proba(features_valid)[:, 1]))"
   ]
  },
  {
   "cell_type": "markdown",
   "metadata": {},
   "source": [
    "## Борьба с дисбалансом"
   ]
  },
  {
   "cell_type": "markdown",
   "metadata": {},
   "source": [
    "### Upsampling\n",
    "\n",
    "При обучении моделей с техникой работы с дисбалансом upsampling результаты лучше, чем при игнорировании дисбаланса, наилучший результат у модели 'случайный лес':\n",
    "\n",
    "* F1-мера: 0.59\n",
    "* AUC-ROC: 0.83"
   ]
  },
  {
   "cell_type": "code",
   "execution_count": 238,
   "metadata": {},
   "outputs": [
    {
     "name": "stderr",
     "output_type": "stream",
     "text": [
      "/tmp/ipykernel_24/2944113024.py:23: UserWarning: Boolean Series key will be reindexed to match DataFrame index.\n",
      "  display(len(features_upsampled[target_train==1]), len(features_upsampled[target_train==0]))\n",
      "/tmp/ipykernel_24/2944113024.py:23: UserWarning: Boolean Series key will be reindexed to match DataFrame index.\n",
      "  display(len(features_upsampled[target_train==1]), len(features_upsampled[target_train==0]))\n"
     ]
    },
    {
     "data": {
      "text/plain": [
       "3666"
      ]
     },
     "metadata": {},
     "output_type": "display_data"
    },
    {
     "data": {
      "text/plain": [
       "4778"
      ]
     },
     "metadata": {},
     "output_type": "display_data"
    }
   ],
   "source": [
    "# функция по методу upsampling\n",
    "def upsample(features, target, repeat):\n",
    "    \n",
    "    # выделение признаков и целевого признака по значению целевого признака\n",
    "    features_zeros = features[target == 0]\n",
    "    features_ones = features[target == 1]\n",
    "    target_zeros = target[target == 0]\n",
    "    target_ones = target[target == 1]\n",
    "    \n",
    "    # соединение признаков \n",
    "    features_upsampled = pd.concat([features_zeros] + [features_ones] * repeat)\n",
    "    target_upsampled = pd.concat([target_zeros] + [target_ones] * repeat)    \n",
    "    \n",
    "    # перемешивание объектов\n",
    "    features_upsampled, target_upsampled = shuffle(features_upsampled, target_upsampled, random_state=123)\n",
    "    \n",
    "    return features_upsampled, target_upsampled\n",
    "\n",
    "# формирование признаков и целевого признака методом upsampling\n",
    "features_upsampled, target_upsampled = upsample(features_train, target_train, repeat=3)\n",
    "\n",
    "# соотношение значений целевого признака\n",
    "display(len(features_upsampled[target_train==1]), len(features_upsampled[target_train==0]))"
   ]
  },
  {
   "cell_type": "markdown",
   "metadata": {},
   "source": [
    "#### Случайный лес на измененных данных методом upsampling\n",
    "\n",
    "* Порог вероятности: 0.42\n",
    "* F1-мера: 0.59\n",
    "* AUC-ROC: 0.83"
   ]
  },
  {
   "cell_type": "code",
   "execution_count": 239,
   "metadata": {},
   "outputs": [
    {
     "data": {
      "text/plain": [
       "'Случайный лес'"
      ]
     },
     "metadata": {},
     "output_type": "display_data"
    },
    {
     "data": {
      "text/plain": [
       "{'class_weight': 'balanced',\n",
       " 'max_depth': 20,\n",
       " 'min_samples_leaf': 1,\n",
       " 'min_samples_split': 2,\n",
       " 'n_estimators': 30}"
      ]
     },
     "metadata": {},
     "output_type": "display_data"
    },
    {
     "data": {
      "text/plain": [
       "0.42"
      ]
     },
     "metadata": {},
     "output_type": "display_data"
    },
    {
     "data": {
      "text/plain": [
       "0.5969447708578144"
      ]
     },
     "metadata": {},
     "output_type": "display_data"
    },
    {
     "data": {
      "text/plain": [
       "0.8363878214602423"
      ]
     },
     "metadata": {},
     "output_type": "display_data"
    }
   ],
   "source": [
    "# вариации гиперпараметров\n",
    "class_weight = ['balanced']\n",
    "min_samples_split = [2, 5]\n",
    "min_samples_leaf = [1, 2]\n",
    "max_depth = [int(x) for x in np.linspace(10, 30, num = 3)]\n",
    "n_estimators = [int(x) for x in np.linspace(10, 30, num = 3)]\n",
    "\n",
    "# сетка гиперпараметров\n",
    "parameters_grid = {'min_samples_split':min_samples_split,\n",
    "                   'min_samples_leaf':min_samples_leaf,\n",
    "                   'max_depth':max_depth,\n",
    "                   'n_estimators':n_estimators,\n",
    "                   'class_weight':class_weight}\n",
    "\n",
    "# модель 'случайный лес'\n",
    "model_forest_upsample = GridSearchCV(RandomForestClassifier(random_state=123), parameters_grid, scoring='f1', cv=5)\n",
    "\n",
    "# обучение модели на измененных данных\n",
    "model_forest_upsample.fit(features_upsampled, target_upsampled)\n",
    "\n",
    "# предсказание модели\n",
    "predictions_valid = model_forest_upsample.predict(features_valid)\n",
    "\n",
    "# вероятность значений целевого признака\n",
    "probabilities_valid = model_forest_upsample.predict_proba(features_valid)\n",
    "\n",
    "# вероятность положительного значения целевого признака\n",
    "probabilities_one_valid = probabilities_valid[:, 1]\n",
    "\n",
    "# нахождение порога вероятности с наилучшими метриками\n",
    "max_f1_score = 0\n",
    "best_threshold = 0\n",
    "for threshold in np.arange(0, 0.8, 0.02):\n",
    "    predicted_valid = probabilities_one_valid > threshold\n",
    "    f1 = f1_score(predicted_valid, target_valid)\n",
    "    if max_f1_score < f1:\n",
    "        max_f1_score = f1\n",
    "        best_threshold = threshold\n",
    "\n",
    "# подобранные гиперпараметры, показывающие наивысшую F1-меру и метрики модели\n",
    "display('Случайный лес')\n",
    "display(model_forest_upsample.best_params_)\n",
    "display(best_threshold, max_f1_score)\n",
    "display(roc_auc_score(target_valid, probabilities_one_valid))"
   ]
  },
  {
   "cell_type": "markdown",
   "metadata": {},
   "source": [
    "#### Логистическая регрессия на измененных данных методом upsampling\n",
    "\n",
    "* Порог вероятности: 0.54\n",
    "* F1-мера: 0.46\n",
    "* AUC-ROC: 0.73"
   ]
  },
  {
   "cell_type": "code",
   "execution_count": 240,
   "metadata": {},
   "outputs": [
    {
     "data": {
      "text/plain": [
       "'Логистическая регрессия'"
      ]
     },
     "metadata": {},
     "output_type": "display_data"
    },
    {
     "data": {
      "text/plain": [
       "{'class_weight': 'balanced', 'solver': 'liblinear'}"
      ]
     },
     "metadata": {},
     "output_type": "display_data"
    },
    {
     "data": {
      "text/plain": [
       "0.54"
      ]
     },
     "metadata": {},
     "output_type": "display_data"
    },
    {
     "data": {
      "text/plain": [
       "0.466472303206997"
      ]
     },
     "metadata": {},
     "output_type": "display_data"
    },
    {
     "data": {
      "text/plain": [
       "0.7339608582126318"
      ]
     },
     "metadata": {},
     "output_type": "display_data"
    }
   ],
   "source": [
    "# вариации гиперпараметров\n",
    "solver = ['newton-cg', 'lbfgs', 'liblinear', 'sag', 'saga']\n",
    "class_weight = ['balanced']\n",
    "\n",
    "# сетка гиперпараметров\n",
    "parameters_grid = {'solver':solver, \n",
    "                   'class_weight':class_weight}\n",
    "\n",
    "# модель 'логистическая регрессия'\n",
    "model_log_reg_upsample = GridSearchCV(LogisticRegression(random_state=123), parameters_grid, scoring='f1', cv=4)\n",
    "\n",
    "# обучение модели на измененных данных\n",
    "model_log_reg_upsample.fit(features_upsampled, target_upsampled)\n",
    "\n",
    "# предсказание модели\n",
    "predictions_valid = model_log_reg_upsample.predict(features_valid)\n",
    "\n",
    "# вероятность значений целевого признака\n",
    "probabilities_valid = model_log_reg_upsample.predict_proba(features_valid)\n",
    "\n",
    "# вероятность положительного значения целевого признака\n",
    "probabilities_one_valid = probabilities_valid[:, 1]\n",
    "\n",
    "# нахождение порога вероятности с наилучшими метриками\n",
    "max_f1_score = 0\n",
    "best_threshold = 0\n",
    "for threshold in np.arange(0, 0.8, 0.02):\n",
    "    predicted_valid = probabilities_one_valid > threshold\n",
    "    f1 = f1_score(predicted_valid, target_valid)\n",
    "    if max_f1_score < f1:\n",
    "        max_f1_score = f1\n",
    "        best_threshold = threshold\n",
    "\n",
    "# подобранные гиперпараметры, показывающие наивысшую F1-меру и метрики модели\n",
    "display('Логистическая регрессия')\n",
    "display(model_log_reg_upsample.best_params_)\n",
    "display(best_threshold, max_f1_score)\n",
    "display(roc_auc_score(target_valid, probabilities_one_valid))"
   ]
  },
  {
   "cell_type": "markdown",
   "metadata": {},
   "source": [
    "#### Дерево решений на измененных данных методом upsampling\n",
    "\n",
    "* Порог вероятности: 0.0\n",
    "* F1-мера: 0.48\n",
    "* AUC-ROC: 0.67"
   ]
  },
  {
   "cell_type": "code",
   "execution_count": 241,
   "metadata": {},
   "outputs": [
    {
     "data": {
      "text/plain": [
       "'Дерево решений'"
      ]
     },
     "metadata": {},
     "output_type": "display_data"
    },
    {
     "data": {
      "text/plain": [
       "{'class_weight': 'balanced',\n",
       " 'max_depth': 30,\n",
       " 'min_samples_leaf': 1,\n",
       " 'min_samples_split': 2}"
      ]
     },
     "metadata": {},
     "output_type": "display_data"
    },
    {
     "data": {
      "text/plain": [
       "0.0"
      ]
     },
     "metadata": {},
     "output_type": "display_data"
    },
    {
     "data": {
      "text/plain": [
       "0.4839506172839506"
      ]
     },
     "metadata": {},
     "output_type": "display_data"
    },
    {
     "data": {
      "text/plain": [
       "0.675497585969061"
      ]
     },
     "metadata": {},
     "output_type": "display_data"
    }
   ],
   "source": [
    "# вариации гиперпараметров\n",
    "min_samples_split = [2, 5, 10]\n",
    "min_samples_leaf = [1, 2, 4]\n",
    "max_depth = [int(x) for x in np.linspace(10, 100, num = 10)]\n",
    "class_weight = ['balanced']\n",
    "\n",
    "# сетка гиперпараметров\n",
    "parameters_grid = {'min_samples_split':min_samples_split,\n",
    "                   'min_samples_leaf':min_samples_leaf,\n",
    "                   'max_depth':max_depth, \n",
    "                   'class_weight':class_weight}\n",
    "\n",
    "# модель 'дерево решений'\n",
    "model_tree_upsample = GridSearchCV(DecisionTreeClassifier(random_state=123), parameters_grid, scoring='f1', cv=3)\n",
    "\n",
    "# обучение модели на измененных данных\n",
    "model_tree_upsample.fit(features_upsampled, target_upsampled)\n",
    "\n",
    "# предсказание модели\n",
    "predictions_valid = model_tree_upsample.predict(features_valid)\n",
    "\n",
    "# вероятность значений целевого признака\n",
    "probabilities_valid = model_tree_upsample.predict_proba(features_valid)\n",
    "\n",
    "# вероятность положительного значения целевого признака\n",
    "probabilities_one_valid = probabilities_valid[:, 1]\n",
    "\n",
    "# нахождение порога вероятности с наилучшими метриками\n",
    "max_f1_score = 0\n",
    "best_threshold = 0\n",
    "for threshold in np.arange(0, 0.8, 0.02):\n",
    "    predicted_valid = probabilities_one_valid > threshold\n",
    "    f1 = f1_score(predicted_valid, target_valid)\n",
    "    if max_f1_score < f1:\n",
    "        max_f1_score = f1\n",
    "        best_threshold = threshold\n",
    "\n",
    "# подобранные гиперпараметры, показывающие наивысшую F1-меру и метрики модели\n",
    "display('Дерево решений')\n",
    "display(model_tree_upsample.best_params_)\n",
    "display(best_threshold, max_f1_score)\n",
    "display(roc_auc_score(target_valid, probabilities_one_valid))"
   ]
  },
  {
   "cell_type": "markdown",
   "metadata": {},
   "source": [
    "### Downsampling\n",
    "\n",
    "Модель 'случайный лес' после обучения на данных к которым была применена техника downsampling имеет значения метрик чуть ниже, по сравнению с моделью, которая обучалась на данных, измененных методом upsampling. Модель 'логистическая регрессия' имеет показатели метрик такие же, какие были у этой же модели с техникой upsampling. У модели 'дерево решений' мтерики выше, чем у этой же модели с данными, измененными методом upsampling."
   ]
  },
  {
   "cell_type": "code",
   "execution_count": 242,
   "metadata": {},
   "outputs": [
    {
     "name": "stderr",
     "output_type": "stream",
     "text": [
      "/tmp/ipykernel_24/4238420971.py:23: UserWarning: Boolean Series key will be reindexed to match DataFrame index.\n",
      "  display(len(features_downsampled[target_train==1]), len(features_downsampled[target_train==0]))\n",
      "/tmp/ipykernel_24/4238420971.py:23: UserWarning: Boolean Series key will be reindexed to match DataFrame index.\n",
      "  display(len(features_downsampled[target_train==1]), len(features_downsampled[target_train==0]))\n"
     ]
    },
    {
     "data": {
      "text/plain": [
       "1222"
      ]
     },
     "metadata": {},
     "output_type": "display_data"
    },
    {
     "data": {
      "text/plain": [
       "1433"
      ]
     },
     "metadata": {},
     "output_type": "display_data"
    }
   ],
   "source": [
    "# функция по методу downsampling\n",
    "def downsample(features, target, fraction):\n",
    "    \n",
    "    # выделение признаков и целевого признака по значению целевого признака\n",
    "    features_zeros = features[target == 0]\n",
    "    features_ones = features[target == 1]\n",
    "    target_zeros = target[target == 0]\n",
    "    target_ones = target[target == 1]\n",
    "    \n",
    "    # соединение признаков \n",
    "    features_downsampled = pd.concat([features_zeros.sample(frac=fraction, random_state=123)] + [features_ones])\n",
    "    target_downsampled = pd.concat([target_zeros.sample(frac=fraction, random_state=123)] + [target_ones])  \n",
    "    \n",
    "    # перемешивание объектов\n",
    "    features_downsampled, target_downsampled = shuffle(features_downsampled, target_downsampled, random_state=123)\n",
    "    \n",
    "    return features_downsampled, target_downsampled\n",
    "\n",
    "# формирование признаков и целевого признака методом downsampling\n",
    "features_downsampled, target_downsampled = downsample(features_train, target_train, fraction=0.3)\n",
    "\n",
    "# соотношение значений целевого признака\n",
    "display(len(features_downsampled[target_train==1]), len(features_downsampled[target_train==0]))"
   ]
  },
  {
   "cell_type": "markdown",
   "metadata": {},
   "source": [
    "#### Случайный лес на измененных данных методом downsampling\n",
    "\n",
    "* Порог вероятности: 0.58\n",
    "* F1-мера: 0.56\n",
    "* AUC-ROC: 0.82"
   ]
  },
  {
   "cell_type": "code",
   "execution_count": 243,
   "metadata": {},
   "outputs": [
    {
     "data": {
      "text/plain": [
       "'Случайный лес'"
      ]
     },
     "metadata": {},
     "output_type": "display_data"
    },
    {
     "data": {
      "text/plain": [
       "{'class_weight': 'balanced',\n",
       " 'max_depth': 10,\n",
       " 'min_samples_leaf': 2,\n",
       " 'min_samples_split': 2,\n",
       " 'n_estimators': 20}"
      ]
     },
     "metadata": {},
     "output_type": "display_data"
    },
    {
     "data": {
      "text/plain": [
       "0.58"
      ]
     },
     "metadata": {},
     "output_type": "display_data"
    },
    {
     "data": {
      "text/plain": [
       "0.564042303172738"
      ]
     },
     "metadata": {},
     "output_type": "display_data"
    },
    {
     "data": {
      "text/plain": [
       "0.8267070647354416"
      ]
     },
     "metadata": {},
     "output_type": "display_data"
    }
   ],
   "source": [
    "# вариации гиперпараметров\n",
    "class_weight = ['balanced']\n",
    "min_samples_split = [2, 5]\n",
    "min_samples_leaf = [1, 2]\n",
    "max_depth = [int(x) for x in np.linspace(10, 30, num = 3)]\n",
    "n_estimators = [int(x) for x in np.linspace(10, 30, num = 3)]\n",
    "\n",
    "# сетка гиперпараметров\n",
    "parameters_grid = {'min_samples_split':min_samples_split,\n",
    "                   'min_samples_leaf':min_samples_leaf,\n",
    "                   'max_depth':max_depth,\n",
    "                   'n_estimators':n_estimators,\n",
    "                   'class_weight':class_weight}\n",
    "\n",
    "# модель 'случайный лес'\n",
    "model_forest_downsample = GridSearchCV(RandomForestClassifier(random_state=123), parameters_grid, scoring='f1', cv=5)\n",
    "\n",
    "# обучение модели на измененных данных\n",
    "model_forest_downsample.fit(features_downsampled, target_downsampled)\n",
    "\n",
    "# предсказание модели\n",
    "predictions_valid = model_forest_downsample.predict(features_valid)\n",
    "\n",
    "# вероятность значений целевого признака\n",
    "probabilities_valid = model_forest_downsample.predict_proba(features_valid)\n",
    "\n",
    "# вероятность положительного значения целевого признака\n",
    "probabilities_one_valid = probabilities_valid[:, 1]\n",
    "\n",
    "# нахождение порога вероятности с наилучшими метриками\n",
    "max_f1_score = 0\n",
    "best_threshold = 0\n",
    "for threshold in np.arange(0, 0.8, 0.02):\n",
    "    predicted_valid = probabilities_one_valid > threshold\n",
    "    f1 = f1_score(predicted_valid, target_valid)\n",
    "    if max_f1_score < f1:\n",
    "        max_f1_score = f1\n",
    "        best_threshold = threshold\n",
    "\n",
    "# подобранные гиперпараметры, показывающие наивысшую F1-меру и метрики модели\n",
    "display('Случайный лес')\n",
    "display(model_forest_downsample.best_params_)\n",
    "display(best_threshold, max_f1_score)\n",
    "display(roc_auc_score(target_valid, probabilities_one_valid))"
   ]
  },
  {
   "cell_type": "markdown",
   "metadata": {},
   "source": [
    "#### Логистическая регрессия на измененных данных методом downsampling\n",
    "\n",
    "* Порог вероятности: 0.52\n",
    "* F1-мера: 0.46\n",
    "* AUC-ROC: 0.73"
   ]
  },
  {
   "cell_type": "code",
   "execution_count": 244,
   "metadata": {},
   "outputs": [
    {
     "data": {
      "text/plain": [
       "'Логистическая регрессия'"
      ]
     },
     "metadata": {},
     "output_type": "display_data"
    },
    {
     "data": {
      "text/plain": [
       "{'class_weight': 'balanced', 'solver': 'newton-cg'}"
      ]
     },
     "metadata": {},
     "output_type": "display_data"
    },
    {
     "data": {
      "text/plain": [
       "0.52"
      ]
     },
     "metadata": {},
     "output_type": "display_data"
    },
    {
     "data": {
      "text/plain": [
       "0.4656771799628942"
      ]
     },
     "metadata": {},
     "output_type": "display_data"
    },
    {
     "data": {
      "text/plain": [
       "0.7337468592964824"
      ]
     },
     "metadata": {},
     "output_type": "display_data"
    }
   ],
   "source": [
    "# вариации гиперпараметров\n",
    "solver = ['newton-cg', 'lbfgs', 'liblinear', 'sag', 'saga']\n",
    "class_weight = ['balanced']\n",
    "\n",
    "# сетка гиперпараметров\n",
    "parameters_grid = {'solver':solver, \n",
    "                   'class_weight':class_weight}\n",
    "\n",
    "# модель 'логистическая регрессия'\n",
    "model_log_reg_downsample = GridSearchCV(LogisticRegression(random_state=123), parameters_grid, scoring='f1', cv=4)\n",
    "\n",
    "# обучение модели на измененных данных\n",
    "model_log_reg_downsample.fit(features_downsampled, target_downsampled)\n",
    "\n",
    "# предсказание модели\n",
    "predictions_valid = model_log_reg_downsample.predict(features_valid)\n",
    "\n",
    "# вероятность значений целевого признака\n",
    "probabilities_valid = model_log_reg_downsample.predict_proba(features_valid)\n",
    "\n",
    "# вероятность положительного значения целевого признака\n",
    "probabilities_one_valid = probabilities_valid[:, 1]\n",
    "\n",
    "# нахождение порога вероятности с наилучшими метриками\n",
    "max_f1_score = 0\n",
    "best_threshold = 0\n",
    "for threshold in np.arange(0, 0.8, 0.02):\n",
    "    predicted_valid = probabilities_one_valid > threshold\n",
    "    f1 = f1_score(predicted_valid, target_valid)\n",
    "    if max_f1_score < f1:\n",
    "        max_f1_score = f1\n",
    "        best_threshold = threshold\n",
    "\n",
    "# подобранные гиперпараметры, показывающие наивысшую F1-меру и метрики модели\n",
    "display('Логистическая регрессия')\n",
    "display(model_log_reg_downsample.best_params_)\n",
    "display(best_threshold, max_f1_score)\n",
    "display(roc_auc_score(target_valid, probabilities_one_valid))"
   ]
  },
  {
   "cell_type": "markdown",
   "metadata": {},
   "source": [
    "#### Дерево решений на измененных данных методом downsampling\n",
    "\n",
    "* Порог вероятности: 0.62\n",
    "* F1-мера: 0.52\n",
    "* AUC-ROC: 0.72"
   ]
  },
  {
   "cell_type": "code",
   "execution_count": 245,
   "metadata": {},
   "outputs": [
    {
     "data": {
      "text/plain": [
       "'Дерево решений'"
      ]
     },
     "metadata": {},
     "output_type": "display_data"
    },
    {
     "data": {
      "text/plain": [
       "{'class_weight': 'balanced',\n",
       " 'max_depth': 10,\n",
       " 'min_samples_leaf': 4,\n",
       " 'min_samples_split': 2}"
      ]
     },
     "metadata": {},
     "output_type": "display_data"
    },
    {
     "data": {
      "text/plain": [
       "0.62"
      ]
     },
     "metadata": {},
     "output_type": "display_data"
    },
    {
     "data": {
      "text/plain": [
       "0.5204386839481555"
      ]
     },
     "metadata": {},
     "output_type": "display_data"
    },
    {
     "data": {
      "text/plain": [
       "0.7296200672480047"
      ]
     },
     "metadata": {},
     "output_type": "display_data"
    }
   ],
   "source": [
    "# вариации гиперпараметров\n",
    "min_samples_split = [2, 5, 10]\n",
    "min_samples_leaf = [1, 2, 4]\n",
    "max_depth = [int(x) for x in np.linspace(10, 100, num = 10)]\n",
    "class_weight = ['balanced']\n",
    "\n",
    "# сетка гиперпараметров\n",
    "parameters_grid = {'min_samples_split':min_samples_split,\n",
    "                   'min_samples_leaf':min_samples_leaf,\n",
    "                   'max_depth':max_depth, \n",
    "                   'class_weight':class_weight}\n",
    "\n",
    "# модель 'дерево решений'\n",
    "model_tree_downsample = GridSearchCV(DecisionTreeClassifier(random_state=123), parameters_grid, scoring='f1', cv=3)\n",
    "\n",
    "# обучение модели на измененных данных\n",
    "model_tree_downsample.fit(features_downsampled, target_downsampled)\n",
    "\n",
    "# предсказание модели\n",
    "predictions_valid = model_tree_downsample.predict(features_valid)\n",
    "\n",
    "# вероятность значений целевого признака\n",
    "probabilities_valid = model_tree_downsample.predict_proba(features_valid)\n",
    "\n",
    "# вероятность положительного значения целевого признака\n",
    "probabilities_one_valid = probabilities_valid[:, 1]\n",
    "\n",
    "# нахождение порога вероятности с наилучшими метриками\n",
    "max_f1_score = 0\n",
    "best_threshold = 0\n",
    "for threshold in np.arange(0, 0.8, 0.02):\n",
    "    predicted_valid = probabilities_one_valid > threshold\n",
    "    f1 = f1_score(predicted_valid, target_valid)\n",
    "    if max_f1_score < f1:\n",
    "        max_f1_score = f1\n",
    "        best_threshold = threshold\n",
    "\n",
    "# подобранные гиперпараметры, показывающие наивысшую F1-меру и метрики модели\n",
    "display('Дерево решений')\n",
    "display(model_tree_downsample.best_params_)\n",
    "display(best_threshold, max_f1_score)\n",
    "display(roc_auc_score(target_valid, probabilities_one_valid))"
   ]
  },
  {
   "cell_type": "markdown",
   "metadata": {},
   "source": [
    "## Тестирование модели\n",
    "\n",
    "По итогам тестирования наивысшие полученные метрики оказались у модели 'случайный лес', обученной на данных, к которым был применен метод upsampling:\n",
    "\n",
    "* F1-мера: 0.62\n",
    "* AUC-ROC: 0.85"
   ]
  },
  {
   "cell_type": "markdown",
   "metadata": {},
   "source": [
    "### Модели обученные на данных с методом upsampling"
   ]
  },
  {
   "cell_type": "code",
   "execution_count": 246,
   "metadata": {
    "scrolled": false
   },
   "outputs": [
    {
     "data": {
      "text/plain": [
       "'Случайный лес'"
      ]
     },
     "metadata": {},
     "output_type": "display_data"
    },
    {
     "data": {
      "text/plain": [
       "0.6229885057471264"
      ]
     },
     "metadata": {},
     "output_type": "display_data"
    },
    {
     "data": {
      "text/plain": [
       "0.8529376834461581"
      ]
     },
     "metadata": {},
     "output_type": "display_data"
    },
    {
     "data": {
      "text/plain": [
       "'Логистическая регрессия'"
      ]
     },
     "metadata": {},
     "output_type": "display_data"
    },
    {
     "data": {
      "text/plain": [
       "0.5152091254752852"
      ]
     },
     "metadata": {},
     "output_type": "display_data"
    },
    {
     "data": {
      "text/plain": [
       "0.7755413348633688"
      ]
     },
     "metadata": {},
     "output_type": "display_data"
    },
    {
     "data": {
      "text/plain": [
       "'Дерево решений'"
      ]
     },
     "metadata": {},
     "output_type": "display_data"
    },
    {
     "data": {
      "text/plain": [
       "0.5091352009744213"
      ]
     },
     "metadata": {},
     "output_type": "display_data"
    },
    {
     "data": {
      "text/plain": [
       "0.6924127517347856"
      ]
     },
     "metadata": {},
     "output_type": "display_data"
    }
   ],
   "source": [
    "# вероятность значений целевого признака\n",
    "probabilities_test = model_forest_upsample.predict_proba(features_test)\n",
    "\n",
    "# вероятность положительного значения целевого признака\n",
    "probabilities_one_test = probabilities_test[:, 1]\n",
    "\n",
    "# установка порога\n",
    "predicted_test = probabilities_one_test > 0.42\n",
    "        \n",
    "# метрики модели с выбранным порогом\n",
    "display('Случайный лес')\n",
    "display(f1_score(predicted_test, target_test))\n",
    "display(roc_auc_score(target_test, probabilities_one_test))\n",
    "\n",
    "# вероятность значений целевого признака\n",
    "probabilities_test = model_log_reg_upsample.predict_proba(features_test)\n",
    "\n",
    "# вероятность положительного значения целевого признака\n",
    "probabilities_one_test = probabilities_test[:, 1]\n",
    "\n",
    "# установка порога\n",
    "predicted_test = probabilities_one_test > .54\n",
    "\n",
    "# метрики модели с выбранным порогом\n",
    "display('Логистическая регрессия')\n",
    "display(f1_score(predicted_test, target_test))\n",
    "display(roc_auc_score(target_test, probabilities_one_test))\n",
    "\n",
    "# вероятность значений целевого признака\n",
    "probabilities_test = model_tree_upsample.predict_proba(features_test)\n",
    "\n",
    "# вероятность положительного значения целевого признака\n",
    "probabilities_one_test = probabilities_test[:, 1]\n",
    "\n",
    "# установка порога\n",
    "predicted_test = probabilities_one_test > .0\n",
    "\n",
    "# метрики модели с выбранным порогом\n",
    "display('Дерево решений')\n",
    "display(f1_score(predicted_test, target_test))\n",
    "display(roc_auc_score(target_test, probabilities_one_test))"
   ]
  },
  {
   "cell_type": "markdown",
   "metadata": {},
   "source": [
    "### Модели обученные на данных с методом downsampling"
   ]
  },
  {
   "cell_type": "code",
   "execution_count": 247,
   "metadata": {},
   "outputs": [
    {
     "data": {
      "text/plain": [
       "'Случайный лес'"
      ]
     },
     "metadata": {},
     "output_type": "display_data"
    },
    {
     "data": {
      "text/plain": [
       "0.5575657894736842"
      ]
     },
     "metadata": {},
     "output_type": "display_data"
    },
    {
     "data": {
      "text/plain": [
       "0.854270294948261"
      ]
     },
     "metadata": {},
     "output_type": "display_data"
    },
    {
     "data": {
      "text/plain": [
       "'Логистическая регрессия'"
      ]
     },
     "metadata": {},
     "output_type": "display_data"
    },
    {
     "data": {
      "text/plain": [
       "0.5043144774688398"
      ]
     },
     "metadata": {},
     "output_type": "display_data"
    },
    {
     "data": {
      "text/plain": [
       "0.7754688432654534"
      ]
     },
     "metadata": {},
     "output_type": "display_data"
    },
    {
     "data": {
      "text/plain": [
       "'Дерево решений'"
      ]
     },
     "metadata": {},
     "output_type": "display_data"
    },
    {
     "data": {
      "text/plain": [
       "0.4107351225204201"
      ]
     },
     "metadata": {},
     "output_type": "display_data"
    },
    {
     "data": {
      "text/plain": [
       "0.765215138096494"
      ]
     },
     "metadata": {},
     "output_type": "display_data"
    }
   ],
   "source": [
    "# вероятность значений целевого признака\n",
    "probabilities_test = model_forest_downsample.predict_proba(features_test)\n",
    "\n",
    "# вероятность положительного значения целевого признака\n",
    "probabilities_one_test = probabilities_test[:, 1]\n",
    "\n",
    "# установка порога\n",
    "predicted_test = probabilities_one_test > 0.42\n",
    "        \n",
    "# метрики модели с выбранным порогом\n",
    "display('Случайный лес')\n",
    "display(f1_score(predicted_test, target_test))\n",
    "display(roc_auc_score(target_test, probabilities_one_test))\n",
    "\n",
    "# вероятность значений целевого признака\n",
    "probabilities_test = model_log_reg_downsample.predict_proba(features_test)\n",
    "\n",
    "# вероятность положительного значения целевого признака\n",
    "probabilities_one_test = probabilities_test[:, 1]\n",
    "\n",
    "# установка порога\n",
    "predicted_test = probabilities_one_test > .54\n",
    "\n",
    "# метрики модели с выбранным порогом\n",
    "display('Логистическая регрессия')\n",
    "display(f1_score(predicted_test, target_test))\n",
    "display(roc_auc_score(target_test, probabilities_one_test))\n",
    "\n",
    "# вероятность значений целевого признака\n",
    "probabilities_test = model_tree_downsample.predict_proba(features_test)\n",
    "\n",
    "# вероятность положительного значения целевого признака\n",
    "probabilities_one_test = probabilities_test[:, 1]\n",
    "\n",
    "# установка порога\n",
    "predicted_test = probabilities_one_test > .0\n",
    "\n",
    "# метрики модели с выбранным порогом\n",
    "display('Дерево решений')\n",
    "display(f1_score(predicted_test, target_test))\n",
    "display(roc_auc_score(target_test, probabilities_one_test))"
   ]
  }
 ],
 "metadata": {
  "ExecuteTimeLog": [
   {
    "duration": 9,
    "start_time": "2022-05-28T11:23:35.547Z"
   },
   {
    "duration": 446,
    "start_time": "2022-05-28T11:23:43.199Z"
   },
   {
    "duration": 66,
    "start_time": "2022-05-28T11:24:01.154Z"
   },
   {
    "duration": 56,
    "start_time": "2022-05-28T11:24:11.617Z"
   },
   {
    "duration": 162,
    "start_time": "2022-05-28T11:47:22.203Z"
   },
   {
    "duration": 3,
    "start_time": "2022-05-28T11:47:28.047Z"
   },
   {
    "duration": 10,
    "start_time": "2022-05-28T11:47:36.066Z"
   },
   {
    "duration": 14,
    "start_time": "2022-05-28T11:47:39.943Z"
   },
   {
    "duration": 14,
    "start_time": "2022-05-28T11:51:50.197Z"
   },
   {
    "duration": 5,
    "start_time": "2022-05-28T11:57:59.468Z"
   },
   {
    "duration": 7,
    "start_time": "2022-05-28T11:58:38.449Z"
   },
   {
    "duration": 15,
    "start_time": "2022-05-28T11:58:44.501Z"
   },
   {
    "duration": 72,
    "start_time": "2022-05-28T12:11:47.345Z"
   },
   {
    "duration": 56,
    "start_time": "2022-05-28T13:30:05.465Z"
   },
   {
    "duration": 13,
    "start_time": "2022-05-28T13:30:05.523Z"
   },
   {
    "duration": 14,
    "start_time": "2022-05-28T13:30:05.537Z"
   },
   {
    "duration": 13,
    "start_time": "2022-05-28T13:33:35.941Z"
   },
   {
    "duration": 12,
    "start_time": "2022-05-28T13:34:28.615Z"
   },
   {
    "duration": 940,
    "start_time": "2022-05-28T13:37:35.277Z"
   },
   {
    "duration": 212,
    "start_time": "2022-05-28T13:37:48.943Z"
   },
   {
    "duration": 430,
    "start_time": "2022-05-28T13:37:56.637Z"
   },
   {
    "duration": 54,
    "start_time": "2022-05-28T13:42:54.325Z"
   },
   {
    "duration": 0,
    "start_time": "2022-05-28T13:42:54.820Z"
   },
   {
    "duration": 0,
    "start_time": "2022-05-28T13:42:54.822Z"
   },
   {
    "duration": 0,
    "start_time": "2022-05-28T13:42:54.824Z"
   },
   {
    "duration": 0,
    "start_time": "2022-05-28T13:42:54.826Z"
   },
   {
    "duration": 65,
    "start_time": "2022-05-28T13:48:33.822Z"
   },
   {
    "duration": 15,
    "start_time": "2022-05-28T13:48:33.889Z"
   },
   {
    "duration": 18,
    "start_time": "2022-05-28T13:48:33.905Z"
   },
   {
    "duration": 42,
    "start_time": "2022-05-28T13:48:33.925Z"
   },
   {
    "duration": 170,
    "start_time": "2022-05-28T13:48:33.969Z"
   },
   {
    "duration": 164,
    "start_time": "2022-05-28T13:48:55.601Z"
   },
   {
    "duration": 230,
    "start_time": "2022-05-28T13:49:06.664Z"
   },
   {
    "duration": 171,
    "start_time": "2022-05-28T13:49:38.941Z"
   },
   {
    "duration": 155,
    "start_time": "2022-05-28T13:49:43.193Z"
   },
   {
    "duration": 201,
    "start_time": "2022-05-28T13:49:58.692Z"
   },
   {
    "duration": 201,
    "start_time": "2022-05-28T13:53:17.873Z"
   },
   {
    "duration": 218,
    "start_time": "2022-05-28T13:57:28.215Z"
   },
   {
    "duration": 450,
    "start_time": "2022-05-28T13:57:31.292Z"
   },
   {
    "duration": 194,
    "start_time": "2022-05-28T13:58:19.597Z"
   },
   {
    "duration": 357,
    "start_time": "2022-05-28T14:02:29.738Z"
   },
   {
    "duration": 23,
    "start_time": "2022-05-28T14:02:51.947Z"
   },
   {
    "duration": 269,
    "start_time": "2022-05-28T14:23:02.676Z"
   },
   {
    "duration": 303,
    "start_time": "2022-05-28T14:23:39.717Z"
   },
   {
    "duration": 275,
    "start_time": "2022-05-28T14:23:48.394Z"
   },
   {
    "duration": 282,
    "start_time": "2022-05-28T14:27:39.486Z"
   },
   {
    "duration": 280,
    "start_time": "2022-05-28T14:27:50.152Z"
   },
   {
    "duration": 305,
    "start_time": "2022-05-28T14:28:07.229Z"
   },
   {
    "duration": 13,
    "start_time": "2022-05-28T14:28:36.754Z"
   },
   {
    "duration": 281,
    "start_time": "2022-05-28T14:28:53.894Z"
   },
   {
    "duration": 12,
    "start_time": "2022-05-28T14:29:00.053Z"
   },
   {
    "duration": 65,
    "start_time": "2022-05-28T14:29:16.737Z"
   },
   {
    "duration": 270,
    "start_time": "2022-05-28T14:30:13.129Z"
   },
   {
    "duration": 28,
    "start_time": "2022-05-28T14:30:42.591Z"
   },
   {
    "duration": 13,
    "start_time": "2022-05-28T14:37:37.030Z"
   },
   {
    "duration": 19,
    "start_time": "2022-05-28T14:43:43.979Z"
   },
   {
    "duration": 788,
    "start_time": "2022-05-28T14:50:29.612Z"
   },
   {
    "duration": 62,
    "start_time": "2022-05-28T14:50:38.006Z"
   },
   {
    "duration": 60,
    "start_time": "2022-05-28T14:50:43.694Z"
   },
   {
    "duration": 24,
    "start_time": "2022-05-28T14:50:43.756Z"
   },
   {
    "duration": 28,
    "start_time": "2022-05-28T14:50:43.781Z"
   },
   {
    "duration": 13,
    "start_time": "2022-05-28T14:50:43.811Z"
   },
   {
    "duration": 9,
    "start_time": "2022-05-28T14:50:43.825Z"
   },
   {
    "duration": 0,
    "start_time": "2022-05-28T14:50:43.836Z"
   },
   {
    "duration": 0,
    "start_time": "2022-05-28T14:50:43.838Z"
   },
   {
    "duration": 75,
    "start_time": "2022-05-28T14:50:56.750Z"
   },
   {
    "duration": 13,
    "start_time": "2022-05-28T14:50:56.827Z"
   },
   {
    "duration": 14,
    "start_time": "2022-05-28T14:50:56.841Z"
   },
   {
    "duration": 18,
    "start_time": "2022-05-28T14:50:56.857Z"
   },
   {
    "duration": 29,
    "start_time": "2022-05-28T14:50:56.878Z"
   },
   {
    "duration": 0,
    "start_time": "2022-05-28T14:50:56.909Z"
   },
   {
    "duration": 0,
    "start_time": "2022-05-28T14:50:56.910Z"
   },
   {
    "duration": 72,
    "start_time": "2022-05-28T14:51:13.227Z"
   },
   {
    "duration": 13,
    "start_time": "2022-05-28T14:51:13.301Z"
   },
   {
    "duration": 15,
    "start_time": "2022-05-28T14:51:13.316Z"
   },
   {
    "duration": 42,
    "start_time": "2022-05-28T14:51:13.333Z"
   },
   {
    "duration": 17,
    "start_time": "2022-05-28T14:51:13.377Z"
   },
   {
    "duration": 35,
    "start_time": "2022-05-28T14:51:13.396Z"
   },
   {
    "duration": 18,
    "start_time": "2022-05-28T14:51:13.432Z"
   },
   {
    "duration": 67,
    "start_time": "2022-05-28T14:52:31.662Z"
   },
   {
    "duration": 15,
    "start_time": "2022-05-28T14:52:31.731Z"
   },
   {
    "duration": 62,
    "start_time": "2022-05-28T14:52:31.747Z"
   },
   {
    "duration": 15,
    "start_time": "2022-05-28T14:52:31.810Z"
   },
   {
    "duration": 55,
    "start_time": "2022-05-28T14:52:31.827Z"
   },
   {
    "duration": 21,
    "start_time": "2022-05-28T14:52:31.884Z"
   },
   {
    "duration": 23,
    "start_time": "2022-05-28T14:52:31.907Z"
   },
   {
    "duration": 8,
    "start_time": "2022-05-28T14:55:45.417Z"
   },
   {
    "duration": 17,
    "start_time": "2022-05-28T14:56:01.918Z"
   },
   {
    "duration": 20,
    "start_time": "2022-05-28T14:57:35.487Z"
   },
   {
    "duration": 21,
    "start_time": "2022-05-28T14:57:47.504Z"
   },
   {
    "duration": 27,
    "start_time": "2022-05-28T14:58:01.966Z"
   },
   {
    "duration": 12,
    "start_time": "2022-05-28T14:58:12.207Z"
   },
   {
    "duration": 60,
    "start_time": "2022-05-28T14:58:17.709Z"
   },
   {
    "duration": 28,
    "start_time": "2022-05-28T14:58:17.772Z"
   },
   {
    "duration": 30,
    "start_time": "2022-05-28T14:58:17.803Z"
   },
   {
    "duration": 43,
    "start_time": "2022-05-28T14:58:17.835Z"
   },
   {
    "duration": 20,
    "start_time": "2022-05-28T14:58:17.881Z"
   },
   {
    "duration": 19,
    "start_time": "2022-05-28T14:58:17.903Z"
   },
   {
    "duration": 53,
    "start_time": "2022-05-28T14:58:17.924Z"
   },
   {
    "duration": 20,
    "start_time": "2022-05-28T14:58:17.979Z"
   },
   {
    "duration": 17,
    "start_time": "2022-05-28T14:58:52.583Z"
   },
   {
    "duration": 18,
    "start_time": "2022-05-28T14:59:16.525Z"
   },
   {
    "duration": 11,
    "start_time": "2022-05-28T14:59:27.631Z"
   },
   {
    "duration": 70,
    "start_time": "2022-05-28T14:59:31.153Z"
   },
   {
    "duration": 12,
    "start_time": "2022-05-28T14:59:31.225Z"
   },
   {
    "duration": 59,
    "start_time": "2022-05-28T14:59:31.239Z"
   },
   {
    "duration": 35,
    "start_time": "2022-05-28T14:59:31.300Z"
   },
   {
    "duration": 23,
    "start_time": "2022-05-28T14:59:31.337Z"
   },
   {
    "duration": 51,
    "start_time": "2022-05-28T14:59:31.369Z"
   },
   {
    "duration": 42,
    "start_time": "2022-05-28T14:59:31.422Z"
   },
   {
    "duration": 68,
    "start_time": "2022-05-28T14:59:31.467Z"
   },
   {
    "duration": 56,
    "start_time": "2022-05-28T14:59:48.200Z"
   },
   {
    "duration": 25,
    "start_time": "2022-05-28T14:59:48.262Z"
   },
   {
    "duration": 24,
    "start_time": "2022-05-28T14:59:48.290Z"
   },
   {
    "duration": 13,
    "start_time": "2022-05-28T14:59:48.316Z"
   },
   {
    "duration": 13,
    "start_time": "2022-05-28T14:59:48.331Z"
   },
   {
    "duration": 38,
    "start_time": "2022-05-28T14:59:48.345Z"
   },
   {
    "duration": 18,
    "start_time": "2022-05-28T14:59:48.384Z"
   },
   {
    "duration": 28,
    "start_time": "2022-05-28T14:59:48.404Z"
   },
   {
    "duration": 8,
    "start_time": "2022-05-28T17:37:55.443Z"
   },
   {
    "duration": 1322,
    "start_time": "2022-05-29T13:49:47.665Z"
   },
   {
    "duration": 10,
    "start_time": "2022-05-29T13:50:14.764Z"
   },
   {
    "duration": 300,
    "start_time": "2022-05-29T13:51:35.853Z"
   },
   {
    "duration": 59,
    "start_time": "2022-05-29T13:51:39.645Z"
   },
   {
    "duration": 16,
    "start_time": "2022-05-29T13:51:39.706Z"
   },
   {
    "duration": 16,
    "start_time": "2022-05-29T13:51:39.724Z"
   },
   {
    "duration": 12,
    "start_time": "2022-05-29T13:51:39.742Z"
   },
   {
    "duration": 53,
    "start_time": "2022-05-29T13:51:39.756Z"
   },
   {
    "duration": 18,
    "start_time": "2022-05-29T13:51:39.811Z"
   },
   {
    "duration": 19,
    "start_time": "2022-05-29T13:51:39.830Z"
   },
   {
    "duration": 51,
    "start_time": "2022-05-29T13:51:39.852Z"
   },
   {
    "duration": 6,
    "start_time": "2022-05-29T13:51:39.905Z"
   },
   {
    "duration": 14,
    "start_time": "2022-05-29T13:51:39.912Z"
   },
   {
    "duration": 38,
    "start_time": "2022-05-29T13:56:06.045Z"
   },
   {
    "duration": 17,
    "start_time": "2022-05-29T13:56:08.562Z"
   },
   {
    "duration": 72,
    "start_time": "2022-05-29T13:56:15.134Z"
   },
   {
    "duration": 5,
    "start_time": "2022-05-29T13:57:21.765Z"
   },
   {
    "duration": 31,
    "start_time": "2022-05-29T13:57:35.410Z"
   },
   {
    "duration": 21,
    "start_time": "2022-05-29T14:00:18.820Z"
   },
   {
    "duration": 16,
    "start_time": "2022-05-29T14:00:29.189Z"
   },
   {
    "duration": 16,
    "start_time": "2022-05-29T14:00:52.743Z"
   },
   {
    "duration": 27,
    "start_time": "2022-05-29T14:01:58.008Z"
   },
   {
    "duration": 16,
    "start_time": "2022-05-29T14:02:13.973Z"
   },
   {
    "duration": 97,
    "start_time": "2022-05-29T14:20:13.047Z"
   },
   {
    "duration": 40,
    "start_time": "2022-05-29T14:20:53.376Z"
   },
   {
    "duration": 92,
    "start_time": "2022-05-29T14:24:56.583Z"
   },
   {
    "duration": 18,
    "start_time": "2022-05-29T14:26:17.273Z"
   },
   {
    "duration": 73,
    "start_time": "2022-05-29T14:27:11.851Z"
   },
   {
    "duration": 16,
    "start_time": "2022-05-29T14:27:22.027Z"
   },
   {
    "duration": 9199,
    "start_time": "2022-05-29T14:27:39.770Z"
   },
   {
    "duration": 1671,
    "start_time": "2022-05-29T14:28:11.893Z"
   },
   {
    "duration": 14,
    "start_time": "2022-05-29T14:28:22.821Z"
   },
   {
    "duration": 9378,
    "start_time": "2022-05-29T14:28:26.727Z"
   },
   {
    "duration": 9532,
    "start_time": "2022-05-29T14:28:58.275Z"
   },
   {
    "duration": 9614,
    "start_time": "2022-05-29T14:29:15.450Z"
   },
   {
    "duration": 9273,
    "start_time": "2022-05-29T15:05:51.272Z"
   },
   {
    "duration": 11962,
    "start_time": "2022-05-29T15:06:28.571Z"
   },
   {
    "duration": 9818,
    "start_time": "2022-05-29T15:06:45.140Z"
   },
   {
    "duration": 6380,
    "start_time": "2022-05-29T15:07:59.516Z"
   },
   {
    "duration": 81,
    "start_time": "2022-05-29T15:10:07.689Z"
   },
   {
    "duration": 9685,
    "start_time": "2022-05-29T15:12:22.465Z"
   },
   {
    "duration": 103,
    "start_time": "2022-05-29T15:12:47.121Z"
   },
   {
    "duration": 13,
    "start_time": "2022-05-29T15:16:49.121Z"
   },
   {
    "duration": 9708,
    "start_time": "2022-05-29T15:16:51.684Z"
   },
   {
    "duration": 8,
    "start_time": "2022-05-29T15:17:07.847Z"
   },
   {
    "duration": 9,
    "start_time": "2022-05-29T15:18:22.852Z"
   },
   {
    "duration": 10,
    "start_time": "2022-05-29T15:18:43.058Z"
   },
   {
    "duration": 2,
    "start_time": "2022-05-29T15:24:59.436Z"
   },
   {
    "duration": 7,
    "start_time": "2022-05-29T15:26:37.143Z"
   },
   {
    "duration": 18,
    "start_time": "2022-05-29T15:28:18.191Z"
   },
   {
    "duration": 12,
    "start_time": "2022-05-29T16:34:25.097Z"
   },
   {
    "duration": 57,
    "start_time": "2022-05-29T16:35:48.005Z"
   },
   {
    "duration": 19,
    "start_time": "2022-05-29T16:36:03.619Z"
   },
   {
    "duration": 17,
    "start_time": "2022-05-29T16:36:26.192Z"
   },
   {
    "duration": 19,
    "start_time": "2022-05-29T16:36:39.980Z"
   },
   {
    "duration": 10,
    "start_time": "2022-05-29T16:38:33.504Z"
   },
   {
    "duration": 5516,
    "start_time": "2022-05-29T16:42:52.345Z"
   },
   {
    "duration": 16,
    "start_time": "2022-05-29T16:43:09.893Z"
   },
   {
    "duration": 8,
    "start_time": "2022-05-29T16:44:42.757Z"
   },
   {
    "duration": 15,
    "start_time": "2022-05-29T16:44:48.249Z"
   },
   {
    "duration": 13,
    "start_time": "2022-05-29T16:48:19.364Z"
   },
   {
    "duration": 929168,
    "start_time": "2022-05-29T16:48:29.122Z"
   },
   {
    "duration": 13,
    "start_time": "2022-05-29T17:29:24.111Z"
   },
   {
    "duration": 359701,
    "start_time": "2022-05-29T17:50:32.353Z"
   },
   {
    "duration": 13,
    "start_time": "2022-05-29T17:57:49.022Z"
   },
   {
    "duration": 16164,
    "start_time": "2022-05-29T18:37:53.236Z"
   },
   {
    "duration": 10099,
    "start_time": "2022-05-29T18:38:17.824Z"
   },
   {
    "duration": 12,
    "start_time": "2022-05-29T18:38:35.854Z"
   },
   {
    "duration": 2201,
    "start_time": "2022-05-31T13:38:07.778Z"
   },
   {
    "duration": 15,
    "start_time": "2022-05-31T13:38:09.981Z"
   },
   {
    "duration": 36,
    "start_time": "2022-05-31T13:38:09.997Z"
   },
   {
    "duration": 24,
    "start_time": "2022-05-31T13:38:10.035Z"
   },
   {
    "duration": 25,
    "start_time": "2022-05-31T13:38:10.062Z"
   },
   {
    "duration": 14,
    "start_time": "2022-05-31T13:38:10.089Z"
   },
   {
    "duration": 37,
    "start_time": "2022-05-31T13:38:10.105Z"
   },
   {
    "duration": 38,
    "start_time": "2022-05-31T13:38:10.144Z"
   },
   {
    "duration": 7,
    "start_time": "2022-05-31T13:38:10.184Z"
   },
   {
    "duration": 40,
    "start_time": "2022-05-31T13:38:10.193Z"
   },
   {
    "duration": 8731,
    "start_time": "2022-05-31T13:38:10.235Z"
   },
   {
    "duration": 65,
    "start_time": "2022-05-31T13:38:18.968Z"
   },
   {
    "duration": 349314,
    "start_time": "2022-05-31T13:38:19.035Z"
   },
   {
    "duration": 13,
    "start_time": "2022-05-31T13:44:08.352Z"
   },
   {
    "duration": 6564,
    "start_time": "2022-05-31T13:44:08.366Z"
   },
   {
    "duration": 102,
    "start_time": "2022-05-31T13:44:14.932Z"
   },
   {
    "duration": 101,
    "start_time": "2022-05-31T13:44:15.036Z"
   },
   {
    "duration": 7,
    "start_time": "2022-05-31T14:04:09.626Z"
   },
   {
    "duration": 56,
    "start_time": "2022-06-01T10:46:34.422Z"
   },
   {
    "duration": 1216,
    "start_time": "2022-06-01T10:46:37.609Z"
   },
   {
    "duration": 21,
    "start_time": "2022-06-01T10:46:38.828Z"
   },
   {
    "duration": 72,
    "start_time": "2022-06-01T10:46:38.851Z"
   },
   {
    "duration": 14,
    "start_time": "2022-06-01T10:46:38.926Z"
   },
   {
    "duration": 31,
    "start_time": "2022-06-01T10:46:38.942Z"
   },
   {
    "duration": 17,
    "start_time": "2022-06-01T10:46:39.023Z"
   },
   {
    "duration": 20,
    "start_time": "2022-06-01T10:46:39.041Z"
   },
   {
    "duration": 81,
    "start_time": "2022-06-01T10:46:39.063Z"
   },
   {
    "duration": 5,
    "start_time": "2022-06-01T10:46:39.146Z"
   },
   {
    "duration": 79,
    "start_time": "2022-06-01T10:46:39.152Z"
   },
   {
    "duration": 5784,
    "start_time": "2022-06-01T10:46:39.233Z"
   },
   {
    "duration": 12,
    "start_time": "2022-06-01T10:46:45.018Z"
   },
   {
    "duration": 336272,
    "start_time": "2022-06-01T10:46:45.032Z"
   },
   {
    "duration": 17,
    "start_time": "2022-06-01T10:52:21.308Z"
   },
   {
    "duration": 4906,
    "start_time": "2022-06-01T10:52:21.327Z"
   },
   {
    "duration": 103,
    "start_time": "2022-06-01T10:52:26.323Z"
   },
   {
    "duration": 12,
    "start_time": "2022-06-01T10:52:26.428Z"
   },
   {
    "duration": 63,
    "start_time": "2022-06-01T11:11:12.279Z"
   },
   {
    "duration": 3,
    "start_time": "2022-06-01T11:17:40.539Z"
   },
   {
    "duration": 61,
    "start_time": "2022-06-01T11:26:50.544Z"
   },
   {
    "duration": 79,
    "start_time": "2022-06-01T11:26:59.850Z"
   },
   {
    "duration": 80,
    "start_time": "2022-06-01T11:27:37.555Z"
   },
   {
    "duration": 46,
    "start_time": "2022-06-01T11:27:46.693Z"
   },
   {
    "duration": 91,
    "start_time": "2022-06-01T11:27:54.142Z"
   },
   {
    "duration": 111,
    "start_time": "2022-06-01T11:28:02.814Z"
   },
   {
    "duration": 140,
    "start_time": "2022-06-01T11:28:07.385Z"
   },
   {
    "duration": 120,
    "start_time": "2022-06-01T11:28:14.404Z"
   },
   {
    "duration": 105,
    "start_time": "2022-06-01T11:28:18.120Z"
   },
   {
    "duration": 73,
    "start_time": "2022-06-01T11:28:22.453Z"
   },
   {
    "duration": 80,
    "start_time": "2022-06-01T11:50:14.349Z"
   },
   {
    "duration": 30,
    "start_time": "2022-06-01T11:50:29.072Z"
   },
   {
    "duration": 37,
    "start_time": "2022-06-01T11:50:35.541Z"
   },
   {
    "duration": 162,
    "start_time": "2022-06-01T11:50:40.564Z"
   },
   {
    "duration": 11,
    "start_time": "2022-06-01T12:21:26.018Z"
   },
   {
    "duration": 13,
    "start_time": "2022-06-01T12:21:38.474Z"
   },
   {
    "duration": 9,
    "start_time": "2022-06-01T12:22:08.157Z"
   },
   {
    "duration": 14,
    "start_time": "2022-06-01T12:22:11.393Z"
   },
   {
    "duration": 13,
    "start_time": "2022-06-01T12:22:46.919Z"
   },
   {
    "duration": 674,
    "start_time": "2022-06-01T12:23:15.651Z"
   },
   {
    "duration": 97,
    "start_time": "2022-06-01T12:23:24.330Z"
   },
   {
    "duration": 87,
    "start_time": "2022-06-01T12:25:07.045Z"
   },
   {
    "duration": 11,
    "start_time": "2022-06-01T12:25:11.518Z"
   },
   {
    "duration": 76,
    "start_time": "2022-06-01T12:25:13.154Z"
   },
   {
    "duration": 317,
    "start_time": "2022-06-01T12:26:20.607Z"
   },
   {
    "duration": 466,
    "start_time": "2022-06-01T12:28:17.710Z"
   },
   {
    "duration": 502,
    "start_time": "2022-06-01T12:29:39.982Z"
   },
   {
    "duration": 11,
    "start_time": "2022-06-01T12:30:21.450Z"
   },
   {
    "duration": 109,
    "start_time": "2022-06-01T12:30:22.217Z"
   },
   {
    "duration": 105,
    "start_time": "2022-06-01T12:30:44.318Z"
   },
   {
    "duration": 517,
    "start_time": "2022-06-01T12:32:27.493Z"
   },
   {
    "duration": 485,
    "start_time": "2022-06-01T12:32:42.418Z"
   },
   {
    "duration": 445,
    "start_time": "2022-06-01T12:32:49.462Z"
   },
   {
    "duration": 12,
    "start_time": "2022-06-01T12:33:11.939Z"
   },
   {
    "duration": 12,
    "start_time": "2022-06-01T12:33:20.919Z"
   },
   {
    "duration": 13,
    "start_time": "2022-06-01T12:33:25.532Z"
   },
   {
    "duration": 13,
    "start_time": "2022-06-01T12:34:15.175Z"
   },
   {
    "duration": 16,
    "start_time": "2022-06-01T12:34:45.395Z"
   },
   {
    "duration": 14,
    "start_time": "2022-06-01T12:34:52.563Z"
   },
   {
    "duration": 15,
    "start_time": "2022-06-01T12:35:00.792Z"
   },
   {
    "duration": 17,
    "start_time": "2022-06-01T12:35:19.279Z"
   },
   {
    "duration": 14,
    "start_time": "2022-06-01T12:35:22.479Z"
   },
   {
    "duration": 359,
    "start_time": "2022-06-01T12:35:31.296Z"
   },
   {
    "duration": 14,
    "start_time": "2022-06-01T12:35:37.843Z"
   },
   {
    "duration": 282,
    "start_time": "2022-06-01T12:35:40.265Z"
   },
   {
    "duration": 296,
    "start_time": "2022-06-01T12:35:49.650Z"
   },
   {
    "duration": 360,
    "start_time": "2022-06-01T12:35:59.292Z"
   },
   {
    "duration": 14,
    "start_time": "2022-06-01T12:36:04.549Z"
   },
   {
    "duration": 319,
    "start_time": "2022-06-01T12:36:06.719Z"
   },
   {
    "duration": 15,
    "start_time": "2022-06-01T12:36:16.795Z"
   },
   {
    "duration": 322,
    "start_time": "2022-06-01T12:36:18.417Z"
   },
   {
    "duration": 15,
    "start_time": "2022-06-01T12:36:24.709Z"
   },
   {
    "duration": 358,
    "start_time": "2022-06-01T12:36:25.911Z"
   },
   {
    "duration": 13,
    "start_time": "2022-06-01T12:40:22.053Z"
   },
   {
    "duration": 15,
    "start_time": "2022-06-01T12:40:28.371Z"
   },
   {
    "duration": 477,
    "start_time": "2022-06-01T12:40:32.118Z"
   },
   {
    "duration": 15,
    "start_time": "2022-06-01T12:40:37.576Z"
   },
   {
    "duration": 523,
    "start_time": "2022-06-01T12:40:41.707Z"
   },
   {
    "duration": 15,
    "start_time": "2022-06-01T12:40:46.142Z"
   },
   {
    "duration": 508,
    "start_time": "2022-06-01T12:40:49.804Z"
   },
   {
    "duration": 15,
    "start_time": "2022-06-01T12:40:55.907Z"
   },
   {
    "duration": 432,
    "start_time": "2022-06-01T12:40:58.244Z"
   },
   {
    "duration": 15,
    "start_time": "2022-06-01T12:41:02.366Z"
   },
   {
    "duration": 495,
    "start_time": "2022-06-01T12:41:03.481Z"
   },
   {
    "duration": 16,
    "start_time": "2022-06-01T12:42:22.001Z"
   },
   {
    "duration": 339,
    "start_time": "2022-06-01T12:42:23.722Z"
   },
   {
    "duration": 19,
    "start_time": "2022-06-01T12:43:06.132Z"
   },
   {
    "duration": 604,
    "start_time": "2022-06-01T12:43:08.743Z"
   },
   {
    "duration": 684,
    "start_time": "2022-06-01T12:43:17.343Z"
   },
   {
    "duration": 16,
    "start_time": "2022-06-01T12:43:27.374Z"
   },
   {
    "duration": 586,
    "start_time": "2022-06-01T12:43:28.685Z"
   },
   {
    "duration": 17,
    "start_time": "2022-06-01T12:43:33.753Z"
   },
   {
    "duration": 580,
    "start_time": "2022-06-01T12:43:34.468Z"
   },
   {
    "duration": 14,
    "start_time": "2022-06-01T12:43:38.440Z"
   },
   {
    "duration": 435,
    "start_time": "2022-06-01T12:43:40.067Z"
   },
   {
    "duration": 494,
    "start_time": "2022-06-01T12:45:55.650Z"
   },
   {
    "duration": 317,
    "start_time": "2022-06-01T12:46:13.065Z"
   },
   {
    "duration": 354,
    "start_time": "2022-06-01T12:46:21.910Z"
   },
   {
    "duration": 560,
    "start_time": "2022-06-01T13:27:59.769Z"
   },
   {
    "duration": 47,
    "start_time": "2022-06-01T13:29:17.983Z"
   },
   {
    "duration": 58,
    "start_time": "2022-06-01T13:29:30.830Z"
   },
   {
    "duration": 14,
    "start_time": "2022-06-01T13:29:30.890Z"
   },
   {
    "duration": 27,
    "start_time": "2022-06-01T13:29:30.906Z"
   },
   {
    "duration": 20,
    "start_time": "2022-06-01T13:29:30.935Z"
   },
   {
    "duration": 42,
    "start_time": "2022-06-01T13:29:30.957Z"
   },
   {
    "duration": 43,
    "start_time": "2022-06-01T13:29:31.000Z"
   },
   {
    "duration": 35,
    "start_time": "2022-06-01T13:29:31.044Z"
   },
   {
    "duration": 38,
    "start_time": "2022-06-01T13:29:31.080Z"
   },
   {
    "duration": 13,
    "start_time": "2022-06-01T13:29:31.120Z"
   },
   {
    "duration": 36,
    "start_time": "2022-06-01T13:29:31.134Z"
   },
   {
    "duration": 5897,
    "start_time": "2022-06-01T13:29:31.171Z"
   },
   {
    "duration": 12,
    "start_time": "2022-06-01T13:29:37.070Z"
   },
   {
    "duration": 330295,
    "start_time": "2022-06-01T13:29:37.083Z"
   },
   {
    "duration": 11,
    "start_time": "2022-06-01T13:35:07.381Z"
   },
   {
    "duration": 5036,
    "start_time": "2022-06-01T13:35:07.394Z"
   },
   {
    "duration": 194,
    "start_time": "2022-06-01T13:35:12.432Z"
   },
   {
    "duration": 7,
    "start_time": "2022-06-01T13:35:12.628Z"
   },
   {
    "duration": 16,
    "start_time": "2022-06-01T13:35:12.637Z"
   },
   {
    "duration": 586,
    "start_time": "2022-06-01T13:35:12.654Z"
   },
   {
    "duration": 14,
    "start_time": "2022-06-01T13:35:13.241Z"
   },
   {
    "duration": 406,
    "start_time": "2022-06-01T13:35:13.256Z"
   },
   {
    "duration": 39,
    "start_time": "2022-06-01T13:35:13.664Z"
   },
   {
    "duration": 225,
    "start_time": "2022-06-01T13:37:57.303Z"
   },
   {
    "duration": 43,
    "start_time": "2022-06-01T13:45:59.496Z"
   },
   {
    "duration": 33,
    "start_time": "2022-06-01T13:46:14.736Z"
   },
   {
    "duration": 33,
    "start_time": "2022-06-01T13:50:16.230Z"
   },
   {
    "duration": 32,
    "start_time": "2022-06-01T13:50:34.860Z"
   },
   {
    "duration": 70,
    "start_time": "2022-06-01T13:50:46.227Z"
   },
   {
    "duration": 85,
    "start_time": "2022-06-01T13:50:57.083Z"
   },
   {
    "duration": 73,
    "start_time": "2022-06-01T13:52:56.257Z"
   },
   {
    "duration": 288,
    "start_time": "2022-06-01T13:55:58.871Z"
   },
   {
    "duration": 384,
    "start_time": "2022-06-01T13:56:27.143Z"
   },
   {
    "duration": 47481,
    "start_time": "2022-06-01T14:05:28.870Z"
   },
   {
    "duration": 65003,
    "start_time": "2022-06-01T14:10:30.520Z"
   },
   {
    "duration": 65734,
    "start_time": "2022-06-01T14:12:33.996Z"
   },
   {
    "duration": 7033,
    "start_time": "2022-06-01T14:19:29.490Z"
   },
   {
    "duration": 6806,
    "start_time": "2022-06-01T14:19:42.703Z"
   },
   {
    "duration": 690454,
    "start_time": "2022-06-01T14:20:07.532Z"
   },
   {
    "duration": 1931395,
    "start_time": "2022-06-01T14:32:08.738Z"
   },
   {
    "duration": 1255,
    "start_time": "2022-06-02T08:33:50.890Z"
   },
   {
    "duration": 13,
    "start_time": "2022-06-02T08:33:52.147Z"
   },
   {
    "duration": 15,
    "start_time": "2022-06-02T08:33:52.162Z"
   },
   {
    "duration": 14,
    "start_time": "2022-06-02T08:33:52.179Z"
   },
   {
    "duration": 37,
    "start_time": "2022-06-02T08:33:52.195Z"
   },
   {
    "duration": 13,
    "start_time": "2022-06-02T08:33:52.234Z"
   },
   {
    "duration": 19,
    "start_time": "2022-06-02T08:33:52.249Z"
   },
   {
    "duration": 59,
    "start_time": "2022-06-02T08:33:52.270Z"
   },
   {
    "duration": 6,
    "start_time": "2022-06-02T08:33:52.330Z"
   },
   {
    "duration": 16,
    "start_time": "2022-06-02T08:33:52.339Z"
   },
   {
    "duration": 6885,
    "start_time": "2022-06-02T08:33:52.357Z"
   },
   {
    "duration": 19,
    "start_time": "2022-06-02T08:33:59.244Z"
   },
   {
    "duration": 50448,
    "start_time": "2022-06-02T08:33:59.265Z"
   },
   {
    "duration": 18,
    "start_time": "2022-06-02T08:34:49.715Z"
   },
   {
    "duration": 4592,
    "start_time": "2022-06-02T08:34:49.735Z"
   },
   {
    "duration": 102,
    "start_time": "2022-06-02T08:34:54.329Z"
   },
   {
    "duration": 100,
    "start_time": "2022-06-02T08:34:54.433Z"
   },
   {
    "duration": 17,
    "start_time": "2022-06-02T08:34:54.534Z"
   },
   {
    "duration": 112206,
    "start_time": "2022-06-02T08:34:54.552Z"
   },
   {
    "duration": 6275,
    "start_time": "2022-06-02T08:36:46.760Z"
   },
   {
    "duration": 6897,
    "start_time": "2022-06-02T08:36:53.037Z"
   },
   {
    "duration": 16,
    "start_time": "2022-06-02T08:36:59.936Z"
   },
   {
    "duration": 404,
    "start_time": "2022-06-02T08:36:59.955Z"
   },
   {
    "duration": 343,
    "start_time": "2022-06-02T08:37:00.360Z"
   },
   {
    "duration": 2034529,
    "start_time": "2022-06-02T08:41:55.784Z"
   },
   {
    "duration": 321,
    "start_time": "2022-06-02T09:19:38.305Z"
   },
   {
    "duration": 235,
    "start_time": "2022-06-02T09:20:56.197Z"
   },
   {
    "duration": 416,
    "start_time": "2022-06-02T09:21:23.324Z"
   },
   {
    "duration": 445,
    "start_time": "2022-06-02T09:22:12.987Z"
   },
   {
    "duration": 217004,
    "start_time": "2022-06-02T09:23:10.424Z"
   },
   {
    "duration": 27130,
    "start_time": "2022-06-02T10:00:53.865Z"
   },
   {
    "duration": 641533,
    "start_time": "2022-06-02T10:02:31.916Z"
   },
   {
    "duration": 1313058,
    "start_time": "2022-06-02T10:15:04.626Z"
   },
   {
    "duration": 28154,
    "start_time": "2022-06-02T10:41:15.204Z"
   },
   {
    "duration": 56424,
    "start_time": "2022-06-02T10:42:05.217Z"
   },
   {
    "duration": 26147,
    "start_time": "2022-06-02T10:45:25.130Z"
   },
   {
    "duration": 35,
    "start_time": "2022-06-02T10:51:08.386Z"
   },
   {
    "duration": 72381,
    "start_time": "2022-06-02T10:51:11.348Z"
   },
   {
    "duration": 25,
    "start_time": "2022-06-02T10:52:33.650Z"
   },
   {
    "duration": 27,
    "start_time": "2022-06-02T10:52:39.238Z"
   },
   {
    "duration": 28873,
    "start_time": "2022-06-02T10:52:41.108Z"
   },
   {
    "duration": 20,
    "start_time": "2022-06-02T10:54:02.186Z"
   },
   {
    "duration": 28880,
    "start_time": "2022-06-02T10:54:06.118Z"
   },
   {
    "duration": 479,
    "start_time": "2022-06-02T10:55:01.607Z"
   },
   {
    "duration": 457,
    "start_time": "2022-06-02T10:55:14.406Z"
   },
   {
    "duration": 12814,
    "start_time": "2022-06-02T12:09:54.693Z"
   },
   {
    "duration": 4840,
    "start_time": "2022-06-02T12:10:20.797Z"
   },
   {
    "duration": 3549,
    "start_time": "2022-06-02T12:10:25.642Z"
   },
   {
    "duration": 394,
    "start_time": "2022-06-02T12:11:00.492Z"
   },
   {
    "duration": 79,
    "start_time": "2022-06-02T12:11:13.082Z"
   },
   {
    "duration": 14,
    "start_time": "2022-06-02T12:11:13.164Z"
   },
   {
    "duration": 21,
    "start_time": "2022-06-02T12:11:13.180Z"
   },
   {
    "duration": 20,
    "start_time": "2022-06-02T12:11:13.224Z"
   },
   {
    "duration": 29,
    "start_time": "2022-06-02T12:11:13.248Z"
   },
   {
    "duration": 14,
    "start_time": "2022-06-02T12:11:13.280Z"
   },
   {
    "duration": 41,
    "start_time": "2022-06-02T12:11:13.297Z"
   },
   {
    "duration": 38,
    "start_time": "2022-06-02T12:11:13.340Z"
   },
   {
    "duration": 6,
    "start_time": "2022-06-02T12:11:13.380Z"
   },
   {
    "duration": 40,
    "start_time": "2022-06-02T12:11:13.389Z"
   },
   {
    "duration": 5932,
    "start_time": "2022-06-02T12:11:13.431Z"
   },
   {
    "duration": 22,
    "start_time": "2022-06-02T12:11:19.370Z"
   },
   {
    "duration": 59789,
    "start_time": "2022-06-02T12:11:19.394Z"
   },
   {
    "duration": 20,
    "start_time": "2022-06-02T12:12:19.186Z"
   },
   {
    "duration": 7633,
    "start_time": "2022-06-02T12:12:19.226Z"
   },
   {
    "duration": 177,
    "start_time": "2022-06-02T12:12:26.864Z"
   },
   {
    "duration": 21,
    "start_time": "2022-06-02T12:12:27.046Z"
   },
   {
    "duration": 19,
    "start_time": "2022-06-02T12:12:27.070Z"
   },
   {
    "duration": 26455,
    "start_time": "2022-06-02T12:12:27.091Z"
   },
   {
    "duration": 9304,
    "start_time": "2022-06-02T12:12:53.548Z"
   },
   {
    "duration": 7826,
    "start_time": "2022-06-02T12:13:02.867Z"
   },
   {
    "duration": 40,
    "start_time": "2022-06-02T12:13:10.695Z"
   },
   {
    "duration": 12469,
    "start_time": "2022-06-02T12:13:10.737Z"
   },
   {
    "duration": 3537,
    "start_time": "2022-06-02T12:13:23.209Z"
   },
   {
    "duration": 3599,
    "start_time": "2022-06-02T12:13:26.750Z"
   },
   {
    "duration": 418,
    "start_time": "2022-06-02T12:13:30.352Z"
   },
   {
    "duration": 79,
    "start_time": "2022-06-02T12:24:08.152Z"
   },
   {
    "duration": 18,
    "start_time": "2022-06-02T12:24:08.239Z"
   },
   {
    "duration": 26,
    "start_time": "2022-06-02T12:24:08.259Z"
   },
   {
    "duration": 39,
    "start_time": "2022-06-02T12:24:08.287Z"
   },
   {
    "duration": 27,
    "start_time": "2022-06-02T12:24:08.329Z"
   },
   {
    "duration": 15,
    "start_time": "2022-06-02T12:24:08.358Z"
   },
   {
    "duration": 57,
    "start_time": "2022-06-02T12:24:08.375Z"
   },
   {
    "duration": 46,
    "start_time": "2022-06-02T12:24:08.438Z"
   },
   {
    "duration": 7,
    "start_time": "2022-06-02T12:24:08.487Z"
   },
   {
    "duration": 40,
    "start_time": "2022-06-02T12:24:08.496Z"
   },
   {
    "duration": 7982,
    "start_time": "2022-06-02T12:24:08.539Z"
   },
   {
    "duration": 37,
    "start_time": "2022-06-02T12:24:16.523Z"
   },
   {
    "duration": 62209,
    "start_time": "2022-06-02T12:24:16.563Z"
   },
   {
    "duration": 18,
    "start_time": "2022-06-02T12:25:18.775Z"
   },
   {
    "duration": 9839,
    "start_time": "2022-06-02T12:25:18.798Z"
   },
   {
    "duration": 115,
    "start_time": "2022-06-02T12:25:28.644Z"
   },
   {
    "duration": 14,
    "start_time": "2022-06-02T12:25:28.828Z"
   },
   {
    "duration": 21,
    "start_time": "2022-06-02T12:25:28.848Z"
   },
   {
    "duration": 27401,
    "start_time": "2022-06-02T12:25:28.871Z"
   },
   {
    "duration": 6255,
    "start_time": "2022-06-02T12:25:56.274Z"
   },
   {
    "duration": 8174,
    "start_time": "2022-06-02T12:26:02.536Z"
   },
   {
    "duration": 40,
    "start_time": "2022-06-02T12:26:10.714Z"
   },
   {
    "duration": 12532,
    "start_time": "2022-06-02T12:26:10.756Z"
   },
   {
    "duration": 1151,
    "start_time": "2022-06-02T12:26:23.290Z"
   },
   {
    "duration": 3636,
    "start_time": "2022-06-02T12:26:24.444Z"
   },
   {
    "duration": 470,
    "start_time": "2022-06-02T12:26:28.082Z"
   },
   {
    "duration": 397,
    "start_time": "2022-06-02T12:31:05.395Z"
   },
   {
    "duration": 408,
    "start_time": "2022-06-02T12:31:13.837Z"
   },
   {
    "duration": 1021,
    "start_time": "2022-06-02T14:23:50.677Z"
   },
   {
    "duration": 13,
    "start_time": "2022-06-02T14:23:51.700Z"
   },
   {
    "duration": 14,
    "start_time": "2022-06-02T14:23:51.714Z"
   },
   {
    "duration": 14,
    "start_time": "2022-06-02T14:23:51.730Z"
   },
   {
    "duration": 15,
    "start_time": "2022-06-02T14:23:51.745Z"
   },
   {
    "duration": 42,
    "start_time": "2022-06-02T14:23:51.761Z"
   },
   {
    "duration": 28,
    "start_time": "2022-06-02T14:23:51.805Z"
   },
   {
    "duration": 37,
    "start_time": "2022-06-02T14:23:51.835Z"
   },
   {
    "duration": 30,
    "start_time": "2022-06-02T14:23:51.874Z"
   },
   {
    "duration": 17,
    "start_time": "2022-06-02T14:23:51.907Z"
   },
   {
    "duration": 4983,
    "start_time": "2022-06-02T14:23:51.926Z"
   },
   {
    "duration": 13,
    "start_time": "2022-06-02T14:23:56.911Z"
   },
   {
    "duration": 49860,
    "start_time": "2022-06-02T14:23:56.926Z"
   },
   {
    "duration": 16,
    "start_time": "2022-06-02T14:24:46.787Z"
   },
   {
    "duration": 5205,
    "start_time": "2022-06-02T14:24:46.804Z"
   },
   {
    "duration": 103,
    "start_time": "2022-06-02T14:24:52.101Z"
   },
   {
    "duration": 6,
    "start_time": "2022-06-02T14:24:52.206Z"
   },
   {
    "duration": 15,
    "start_time": "2022-06-02T14:24:52.213Z"
   },
   {
    "duration": 23355,
    "start_time": "2022-06-02T14:24:52.229Z"
   },
   {
    "duration": 5322,
    "start_time": "2022-06-02T14:25:15.585Z"
   },
   {
    "duration": 6768,
    "start_time": "2022-06-02T14:25:20.911Z"
   },
   {
    "duration": 27,
    "start_time": "2022-06-02T14:25:27.680Z"
   },
   {
    "duration": 10905,
    "start_time": "2022-06-02T14:25:27.709Z"
   },
   {
    "duration": 2691,
    "start_time": "2022-06-02T14:25:38.616Z"
   },
   {
    "duration": 3151,
    "start_time": "2022-06-02T14:25:41.310Z"
   },
   {
    "duration": 343,
    "start_time": "2022-06-02T14:25:44.462Z"
   },
   {
    "duration": 404,
    "start_time": "2022-06-02T14:25:44.807Z"
   },
   {
    "duration": 1211,
    "start_time": "2022-06-03T09:11:03.025Z"
   },
   {
    "duration": 19,
    "start_time": "2022-06-03T09:11:04.238Z"
   },
   {
    "duration": 26,
    "start_time": "2022-06-03T09:11:04.259Z"
   },
   {
    "duration": 51,
    "start_time": "2022-06-03T09:11:04.287Z"
   },
   {
    "duration": 24,
    "start_time": "2022-06-03T09:11:04.340Z"
   },
   {
    "duration": 46,
    "start_time": "2022-06-03T09:11:04.366Z"
   },
   {
    "duration": 58,
    "start_time": "2022-06-03T09:11:04.415Z"
   },
   {
    "duration": 109,
    "start_time": "2022-06-03T09:11:04.475Z"
   },
   {
    "duration": 7,
    "start_time": "2022-06-03T09:11:04.586Z"
   },
   {
    "duration": 62,
    "start_time": "2022-06-03T09:11:04.596Z"
   },
   {
    "duration": 5981,
    "start_time": "2022-06-03T09:11:04.662Z"
   },
   {
    "duration": 17,
    "start_time": "2022-06-03T09:11:10.646Z"
   },
   {
    "duration": 61797,
    "start_time": "2022-06-03T09:11:10.664Z"
   },
   {
    "duration": 17,
    "start_time": "2022-06-03T09:12:12.463Z"
   },
   {
    "duration": 7046,
    "start_time": "2022-06-03T09:12:12.483Z"
   },
   {
    "duration": 103,
    "start_time": "2022-06-03T09:12:19.531Z"
   },
   {
    "duration": 10,
    "start_time": "2022-06-03T09:12:19.636Z"
   },
   {
    "duration": 23,
    "start_time": "2022-06-03T09:12:19.648Z"
   },
   {
    "duration": 27797,
    "start_time": "2022-06-03T09:12:19.673Z"
   },
   {
    "duration": 21858,
    "start_time": "2022-06-03T09:12:47.472Z"
   },
   {
    "duration": 8195,
    "start_time": "2022-06-03T09:13:09.333Z"
   },
   {
    "duration": 19,
    "start_time": "2022-06-03T09:13:17.530Z"
   },
   {
    "duration": 14330,
    "start_time": "2022-06-03T09:13:17.551Z"
   },
   {
    "duration": 7070,
    "start_time": "2022-06-03T09:13:31.883Z"
   },
   {
    "duration": 3412,
    "start_time": "2022-06-03T09:13:39.031Z"
   },
   {
    "duration": 463,
    "start_time": "2022-06-03T09:13:42.444Z"
   },
   {
    "duration": 420,
    "start_time": "2022-06-03T09:13:42.909Z"
   },
   {
    "duration": 69,
    "start_time": "2022-06-03T09:20:20.623Z"
   },
   {
    "duration": 119,
    "start_time": "2022-06-03T09:20:45.591Z"
   },
   {
    "duration": 65,
    "start_time": "2022-06-03T09:21:22.598Z"
   },
   {
    "duration": 20,
    "start_time": "2022-06-03T09:21:28.008Z"
   },
   {
    "duration": 87,
    "start_time": "2022-06-03T09:25:20.502Z"
   },
   {
    "duration": 25,
    "start_time": "2022-06-03T09:25:26.120Z"
   },
   {
    "duration": 15,
    "start_time": "2022-06-03T09:25:30.798Z"
   },
   {
    "duration": 13,
    "start_time": "2022-06-03T09:25:32.801Z"
   },
   {
    "duration": 26,
    "start_time": "2022-06-03T09:26:45.761Z"
   },
   {
    "duration": 27,
    "start_time": "2022-06-03T09:27:04.649Z"
   },
   {
    "duration": 12,
    "start_time": "2022-06-03T09:27:29.697Z"
   },
   {
    "duration": 21,
    "start_time": "2022-06-03T09:28:06.933Z"
   },
   {
    "duration": 22,
    "start_time": "2022-06-03T09:28:23.044Z"
   },
   {
    "duration": 15,
    "start_time": "2022-06-03T09:28:29.697Z"
   },
   {
    "duration": 12,
    "start_time": "2022-06-03T09:28:34.925Z"
   },
   {
    "duration": 56,
    "start_time": "2022-06-03T09:28:42.505Z"
   },
   {
    "duration": 25,
    "start_time": "2022-06-03T09:28:44.162Z"
   },
   {
    "duration": 15,
    "start_time": "2022-06-03T09:28:46.094Z"
   },
   {
    "duration": 17,
    "start_time": "2022-06-03T09:28:50.802Z"
   },
   {
    "duration": 17,
    "start_time": "2022-06-03T09:28:57.598Z"
   },
   {
    "duration": 20,
    "start_time": "2022-06-03T09:29:19.796Z"
   },
   {
    "duration": 21,
    "start_time": "2022-06-03T09:29:26.545Z"
   },
   {
    "duration": 12,
    "start_time": "2022-06-03T09:29:38.250Z"
   },
   {
    "duration": 16,
    "start_time": "2022-06-03T09:30:51.550Z"
   },
   {
    "duration": 15,
    "start_time": "2022-06-03T09:33:16.863Z"
   },
   {
    "duration": 1233,
    "start_time": "2022-06-03T09:33:29.340Z"
   },
   {
    "duration": 21,
    "start_time": "2022-06-03T09:33:57.441Z"
   },
   {
    "duration": 15,
    "start_time": "2022-06-03T09:34:06.881Z"
   },
   {
    "duration": 1181,
    "start_time": "2022-06-03T09:34:20.719Z"
   },
   {
    "duration": 1102,
    "start_time": "2022-06-03T09:35:00.600Z"
   },
   {
    "duration": 10,
    "start_time": "2022-06-03T09:35:40.145Z"
   },
   {
    "duration": 63,
    "start_time": "2022-06-03T09:35:53.026Z"
   },
   {
    "duration": 23,
    "start_time": "2022-06-03T09:35:53.091Z"
   },
   {
    "duration": 19,
    "start_time": "2022-06-03T09:35:53.115Z"
   },
   {
    "duration": 15,
    "start_time": "2022-06-03T09:35:53.136Z"
   },
   {
    "duration": 1138,
    "start_time": "2022-06-03T09:35:53.152Z"
   },
   {
    "duration": 8,
    "start_time": "2022-06-03T09:35:54.292Z"
   },
   {
    "duration": 0,
    "start_time": "2022-06-03T09:35:54.301Z"
   },
   {
    "duration": 0,
    "start_time": "2022-06-03T09:35:54.302Z"
   },
   {
    "duration": 0,
    "start_time": "2022-06-03T09:35:54.303Z"
   },
   {
    "duration": 0,
    "start_time": "2022-06-03T09:35:54.304Z"
   },
   {
    "duration": 0,
    "start_time": "2022-06-03T09:35:54.305Z"
   },
   {
    "duration": 0,
    "start_time": "2022-06-03T09:35:54.306Z"
   },
   {
    "duration": 1,
    "start_time": "2022-06-03T09:35:54.307Z"
   },
   {
    "duration": 0,
    "start_time": "2022-06-03T09:35:54.308Z"
   },
   {
    "duration": 0,
    "start_time": "2022-06-03T09:35:54.333Z"
   },
   {
    "duration": 0,
    "start_time": "2022-06-03T09:35:54.334Z"
   },
   {
    "duration": 0,
    "start_time": "2022-06-03T09:35:54.334Z"
   },
   {
    "duration": 0,
    "start_time": "2022-06-03T09:35:54.335Z"
   },
   {
    "duration": 0,
    "start_time": "2022-06-03T09:35:54.336Z"
   },
   {
    "duration": 0,
    "start_time": "2022-06-03T09:35:54.337Z"
   },
   {
    "duration": 0,
    "start_time": "2022-06-03T09:35:54.338Z"
   },
   {
    "duration": 0,
    "start_time": "2022-06-03T09:35:54.338Z"
   },
   {
    "duration": 0,
    "start_time": "2022-06-03T09:35:54.351Z"
   },
   {
    "duration": 0,
    "start_time": "2022-06-03T09:35:54.352Z"
   },
   {
    "duration": 0,
    "start_time": "2022-06-03T09:35:54.353Z"
   },
   {
    "duration": 0,
    "start_time": "2022-06-03T09:35:54.354Z"
   },
   {
    "duration": 0,
    "start_time": "2022-06-03T09:35:54.355Z"
   },
   {
    "duration": 35,
    "start_time": "2022-06-03T09:44:08.903Z"
   },
   {
    "duration": 9,
    "start_time": "2022-06-03T09:44:26.398Z"
   },
   {
    "duration": 64,
    "start_time": "2022-06-03T09:47:24.301Z"
   },
   {
    "duration": 18,
    "start_time": "2022-06-03T09:48:14.020Z"
   },
   {
    "duration": 9,
    "start_time": "2022-06-03T09:48:56.294Z"
   },
   {
    "duration": 11,
    "start_time": "2022-06-03T09:49:02.643Z"
   },
   {
    "duration": 53,
    "start_time": "2022-06-03T09:49:07.037Z"
   },
   {
    "duration": 19,
    "start_time": "2022-06-03T09:49:07.091Z"
   },
   {
    "duration": 17,
    "start_time": "2022-06-03T09:49:07.112Z"
   },
   {
    "duration": 13,
    "start_time": "2022-06-03T09:49:07.131Z"
   },
   {
    "duration": 1149,
    "start_time": "2022-06-03T09:49:07.145Z"
   },
   {
    "duration": 0,
    "start_time": "2022-06-03T09:49:08.296Z"
   },
   {
    "duration": 0,
    "start_time": "2022-06-03T09:49:08.297Z"
   },
   {
    "duration": 0,
    "start_time": "2022-06-03T09:49:08.298Z"
   },
   {
    "duration": 0,
    "start_time": "2022-06-03T09:49:08.300Z"
   },
   {
    "duration": 0,
    "start_time": "2022-06-03T09:49:08.300Z"
   },
   {
    "duration": 0,
    "start_time": "2022-06-03T09:49:08.302Z"
   },
   {
    "duration": 0,
    "start_time": "2022-06-03T09:49:08.302Z"
   },
   {
    "duration": 0,
    "start_time": "2022-06-03T09:49:08.303Z"
   },
   {
    "duration": 0,
    "start_time": "2022-06-03T09:49:08.304Z"
   },
   {
    "duration": 0,
    "start_time": "2022-06-03T09:49:08.305Z"
   },
   {
    "duration": 0,
    "start_time": "2022-06-03T09:49:08.306Z"
   },
   {
    "duration": 0,
    "start_time": "2022-06-03T09:49:08.307Z"
   },
   {
    "duration": 0,
    "start_time": "2022-06-03T09:49:08.308Z"
   },
   {
    "duration": 0,
    "start_time": "2022-06-03T09:49:08.310Z"
   },
   {
    "duration": 0,
    "start_time": "2022-06-03T09:49:08.329Z"
   },
   {
    "duration": 0,
    "start_time": "2022-06-03T09:49:08.331Z"
   },
   {
    "duration": 0,
    "start_time": "2022-06-03T09:49:08.333Z"
   },
   {
    "duration": 0,
    "start_time": "2022-06-03T09:49:08.334Z"
   },
   {
    "duration": 0,
    "start_time": "2022-06-03T09:49:08.335Z"
   },
   {
    "duration": 0,
    "start_time": "2022-06-03T09:49:08.336Z"
   },
   {
    "duration": 0,
    "start_time": "2022-06-03T09:49:08.337Z"
   },
   {
    "duration": 0,
    "start_time": "2022-06-03T09:49:08.338Z"
   },
   {
    "duration": 1181,
    "start_time": "2022-06-03T09:50:28.738Z"
   },
   {
    "duration": 662,
    "start_time": "2022-06-03T09:52:23.824Z"
   },
   {
    "duration": 16,
    "start_time": "2022-06-03T09:52:38.138Z"
   },
   {
    "duration": 20,
    "start_time": "2022-06-03T09:53:36.401Z"
   },
   {
    "duration": 27,
    "start_time": "2022-06-03T09:53:47.912Z"
   },
   {
    "duration": 26,
    "start_time": "2022-06-03T09:55:07.183Z"
   },
   {
    "duration": 57,
    "start_time": "2022-06-03T09:55:19.650Z"
   },
   {
    "duration": 19,
    "start_time": "2022-06-03T09:55:19.709Z"
   },
   {
    "duration": 20,
    "start_time": "2022-06-03T09:55:19.730Z"
   },
   {
    "duration": 12,
    "start_time": "2022-06-03T09:55:19.752Z"
   },
   {
    "duration": 1469,
    "start_time": "2022-06-03T09:55:19.765Z"
   },
   {
    "duration": 12,
    "start_time": "2022-06-03T09:55:21.236Z"
   },
   {
    "duration": 17,
    "start_time": "2022-06-03T09:55:21.250Z"
   },
   {
    "duration": 26,
    "start_time": "2022-06-03T09:55:21.268Z"
   },
   {
    "duration": 37,
    "start_time": "2022-06-03T09:55:21.296Z"
   },
   {
    "duration": 15,
    "start_time": "2022-06-03T09:55:21.335Z"
   },
   {
    "duration": 1317,
    "start_time": "2022-06-03T09:55:21.351Z"
   },
   {
    "duration": 0,
    "start_time": "2022-06-03T09:55:22.670Z"
   },
   {
    "duration": 0,
    "start_time": "2022-06-03T09:55:22.671Z"
   },
   {
    "duration": 0,
    "start_time": "2022-06-03T09:55:22.672Z"
   },
   {
    "duration": 0,
    "start_time": "2022-06-03T09:55:22.673Z"
   },
   {
    "duration": 0,
    "start_time": "2022-06-03T09:55:22.674Z"
   },
   {
    "duration": 0,
    "start_time": "2022-06-03T09:55:22.675Z"
   },
   {
    "duration": 0,
    "start_time": "2022-06-03T09:55:22.728Z"
   },
   {
    "duration": 0,
    "start_time": "2022-06-03T09:55:22.730Z"
   },
   {
    "duration": 0,
    "start_time": "2022-06-03T09:55:22.731Z"
   },
   {
    "duration": 0,
    "start_time": "2022-06-03T09:55:22.732Z"
   },
   {
    "duration": 0,
    "start_time": "2022-06-03T09:55:22.733Z"
   },
   {
    "duration": 0,
    "start_time": "2022-06-03T09:55:22.734Z"
   },
   {
    "duration": 0,
    "start_time": "2022-06-03T09:55:22.735Z"
   },
   {
    "duration": 0,
    "start_time": "2022-06-03T09:55:22.736Z"
   },
   {
    "duration": 0,
    "start_time": "2022-06-03T09:55:22.738Z"
   },
   {
    "duration": 0,
    "start_time": "2022-06-03T09:55:22.738Z"
   },
   {
    "duration": 29,
    "start_time": "2022-06-03T10:18:40.176Z"
   },
   {
    "duration": 17,
    "start_time": "2022-06-03T10:19:49.952Z"
   },
   {
    "duration": 18,
    "start_time": "2022-06-03T10:20:01.903Z"
   },
   {
    "duration": 59,
    "start_time": "2022-06-03T10:20:24.293Z"
   },
   {
    "duration": 23,
    "start_time": "2022-06-03T10:20:24.357Z"
   },
   {
    "duration": 18,
    "start_time": "2022-06-03T10:20:24.382Z"
   },
   {
    "duration": 42,
    "start_time": "2022-06-03T10:20:24.402Z"
   },
   {
    "duration": 29,
    "start_time": "2022-06-03T10:20:24.447Z"
   },
   {
    "duration": 0,
    "start_time": "2022-06-03T10:20:24.479Z"
   },
   {
    "duration": 0,
    "start_time": "2022-06-03T10:20:24.480Z"
   },
   {
    "duration": 0,
    "start_time": "2022-06-03T10:20:24.481Z"
   },
   {
    "duration": 0,
    "start_time": "2022-06-03T10:20:24.483Z"
   },
   {
    "duration": 0,
    "start_time": "2022-06-03T10:20:24.484Z"
   },
   {
    "duration": 0,
    "start_time": "2022-06-03T10:20:24.486Z"
   },
   {
    "duration": 0,
    "start_time": "2022-06-03T10:20:24.487Z"
   },
   {
    "duration": 0,
    "start_time": "2022-06-03T10:20:24.488Z"
   },
   {
    "duration": 0,
    "start_time": "2022-06-03T10:20:24.489Z"
   },
   {
    "duration": 0,
    "start_time": "2022-06-03T10:20:24.490Z"
   },
   {
    "duration": 0,
    "start_time": "2022-06-03T10:20:24.491Z"
   },
   {
    "duration": 0,
    "start_time": "2022-06-03T10:20:24.492Z"
   },
   {
    "duration": 0,
    "start_time": "2022-06-03T10:20:24.494Z"
   },
   {
    "duration": 0,
    "start_time": "2022-06-03T10:20:24.495Z"
   },
   {
    "duration": 0,
    "start_time": "2022-06-03T10:20:24.496Z"
   },
   {
    "duration": 0,
    "start_time": "2022-06-03T10:20:24.528Z"
   },
   {
    "duration": 0,
    "start_time": "2022-06-03T10:20:24.530Z"
   },
   {
    "duration": 0,
    "start_time": "2022-06-03T10:20:24.532Z"
   },
   {
    "duration": 0,
    "start_time": "2022-06-03T10:20:24.534Z"
   },
   {
    "duration": 0,
    "start_time": "2022-06-03T10:20:24.535Z"
   },
   {
    "duration": 0,
    "start_time": "2022-06-03T10:20:24.537Z"
   },
   {
    "duration": 0,
    "start_time": "2022-06-03T10:20:24.539Z"
   },
   {
    "duration": 1554,
    "start_time": "2022-06-03T10:21:34.708Z"
   },
   {
    "duration": 1283,
    "start_time": "2022-06-03T10:21:47.829Z"
   },
   {
    "duration": 1196,
    "start_time": "2022-06-03T10:22:06.334Z"
   },
   {
    "duration": 1103,
    "start_time": "2022-06-03T10:22:32.706Z"
   },
   {
    "duration": 42,
    "start_time": "2022-06-03T10:22:56.940Z"
   },
   {
    "duration": 55,
    "start_time": "2022-06-03T10:23:01.700Z"
   },
   {
    "duration": 19,
    "start_time": "2022-06-03T10:23:01.756Z"
   },
   {
    "duration": 47,
    "start_time": "2022-06-03T10:23:01.776Z"
   },
   {
    "duration": 52,
    "start_time": "2022-06-03T10:23:01.825Z"
   },
   {
    "duration": 1232,
    "start_time": "2022-06-03T10:23:01.879Z"
   },
   {
    "duration": 21,
    "start_time": "2022-06-03T10:23:03.113Z"
   },
   {
    "duration": 58,
    "start_time": "2022-06-03T10:23:03.136Z"
   },
   {
    "duration": 28,
    "start_time": "2022-06-03T10:23:03.196Z"
   },
   {
    "duration": 5,
    "start_time": "2022-06-03T10:23:03.225Z"
   },
   {
    "duration": 23,
    "start_time": "2022-06-03T10:23:03.233Z"
   },
   {
    "duration": 6910,
    "start_time": "2022-06-03T10:23:03.258Z"
   },
   {
    "duration": 14,
    "start_time": "2022-06-03T10:23:10.171Z"
   },
   {
    "duration": 59392,
    "start_time": "2022-06-03T10:23:10.187Z"
   },
   {
    "duration": 12,
    "start_time": "2022-06-03T10:24:09.581Z"
   },
   {
    "duration": 7738,
    "start_time": "2022-06-03T10:24:09.595Z"
   },
   {
    "duration": 193,
    "start_time": "2022-06-03T10:24:17.337Z"
   },
   {
    "duration": 9,
    "start_time": "2022-06-03T10:24:17.532Z"
   },
   {
    "duration": 17,
    "start_time": "2022-06-03T10:24:17.543Z"
   },
   {
    "duration": 26788,
    "start_time": "2022-06-03T10:24:17.562Z"
   },
   {
    "duration": 5793,
    "start_time": "2022-06-03T10:24:44.352Z"
   },
   {
    "duration": 7896,
    "start_time": "2022-06-03T10:24:50.147Z"
   },
   {
    "duration": 14,
    "start_time": "2022-06-03T10:24:58.045Z"
   },
   {
    "duration": 12506,
    "start_time": "2022-06-03T10:24:58.061Z"
   },
   {
    "duration": 2776,
    "start_time": "2022-06-03T10:25:10.568Z"
   },
   {
    "duration": 3627,
    "start_time": "2022-06-03T10:25:13.349Z"
   },
   {
    "duration": 369,
    "start_time": "2022-06-03T10:25:16.978Z"
   },
   {
    "duration": 428,
    "start_time": "2022-06-03T10:25:17.349Z"
   },
   {
    "duration": 64,
    "start_time": "2022-06-03T10:25:17.781Z"
   },
   {
    "duration": 17,
    "start_time": "2022-06-03T10:26:32.194Z"
   },
   {
    "duration": 53,
    "start_time": "2022-06-03T10:26:43.157Z"
   },
   {
    "duration": 23,
    "start_time": "2022-06-03T10:26:43.212Z"
   },
   {
    "duration": 16,
    "start_time": "2022-06-03T10:26:43.237Z"
   },
   {
    "duration": 12,
    "start_time": "2022-06-03T10:26:43.255Z"
   },
   {
    "duration": 1089,
    "start_time": "2022-06-03T10:26:43.268Z"
   },
   {
    "duration": 16,
    "start_time": "2022-06-03T10:26:44.360Z"
   },
   {
    "duration": 25,
    "start_time": "2022-06-03T10:26:44.378Z"
   },
   {
    "duration": 52,
    "start_time": "2022-06-03T10:26:44.405Z"
   },
   {
    "duration": 5,
    "start_time": "2022-06-03T10:26:44.459Z"
   },
   {
    "duration": 23,
    "start_time": "2022-06-03T10:26:44.466Z"
   },
   {
    "duration": 7991,
    "start_time": "2022-06-03T10:26:44.490Z"
   },
   {
    "duration": 12,
    "start_time": "2022-06-03T10:26:52.482Z"
   },
   {
    "duration": 61176,
    "start_time": "2022-06-03T10:26:52.495Z"
   },
   {
    "duration": 13,
    "start_time": "2022-06-03T10:27:53.673Z"
   },
   {
    "duration": 3158,
    "start_time": "2022-06-03T10:27:53.687Z"
   },
   {
    "duration": 95,
    "start_time": "2022-06-03T10:27:56.847Z"
   },
   {
    "duration": 91,
    "start_time": "2022-06-03T10:27:56.944Z"
   },
   {
    "duration": 22,
    "start_time": "2022-06-03T10:27:57.037Z"
   },
   {
    "duration": 27140,
    "start_time": "2022-06-03T10:27:57.060Z"
   },
   {
    "duration": 6047,
    "start_time": "2022-06-03T10:28:24.202Z"
   },
   {
    "duration": 7792,
    "start_time": "2022-06-03T10:28:30.251Z"
   },
   {
    "duration": 15,
    "start_time": "2022-06-03T10:28:38.044Z"
   },
   {
    "duration": 12208,
    "start_time": "2022-06-03T10:28:38.060Z"
   },
   {
    "duration": 3460,
    "start_time": "2022-06-03T10:28:50.269Z"
   },
   {
    "duration": 3326,
    "start_time": "2022-06-03T10:28:53.732Z"
   },
   {
    "duration": 383,
    "start_time": "2022-06-03T10:28:57.059Z"
   },
   {
    "duration": 392,
    "start_time": "2022-06-03T10:28:57.444Z"
   },
   {
    "duration": 172,
    "start_time": "2022-06-03T10:35:44.043Z"
   },
   {
    "duration": 22,
    "start_time": "2022-06-03T10:36:25.613Z"
   },
   {
    "duration": 20,
    "start_time": "2022-06-03T10:37:14.437Z"
   },
   {
    "duration": 19,
    "start_time": "2022-06-03T10:37:45.785Z"
   },
   {
    "duration": 24,
    "start_time": "2022-06-03T10:38:08.595Z"
   },
   {
    "duration": 35,
    "start_time": "2022-06-03T10:52:49.033Z"
   },
   {
    "duration": 62,
    "start_time": "2022-06-03T10:55:05.328Z"
   },
   {
    "duration": 61,
    "start_time": "2022-06-03T10:55:24.499Z"
   },
   {
    "duration": 54,
    "start_time": "2022-06-03T10:56:34.903Z"
   },
   {
    "duration": 18,
    "start_time": "2022-06-03T10:56:34.959Z"
   },
   {
    "duration": 20,
    "start_time": "2022-06-03T10:56:34.979Z"
   },
   {
    "duration": 34,
    "start_time": "2022-06-03T10:56:35.000Z"
   },
   {
    "duration": 1530,
    "start_time": "2022-06-03T10:56:35.037Z"
   },
   {
    "duration": 24,
    "start_time": "2022-06-03T10:56:36.570Z"
   },
   {
    "duration": 23,
    "start_time": "2022-06-03T10:56:36.596Z"
   },
   {
    "duration": 10,
    "start_time": "2022-06-03T10:56:36.630Z"
   },
   {
    "duration": 52,
    "start_time": "2022-06-03T10:56:36.641Z"
   },
   {
    "duration": 6901,
    "start_time": "2022-06-03T10:56:36.694Z"
   },
   {
    "duration": 17,
    "start_time": "2022-06-03T10:56:43.597Z"
   },
   {
    "duration": 59120,
    "start_time": "2022-06-03T10:56:43.631Z"
   },
   {
    "duration": 13,
    "start_time": "2022-06-03T10:57:42.753Z"
   },
   {
    "duration": 6464,
    "start_time": "2022-06-03T10:57:42.768Z"
   },
   {
    "duration": 106,
    "start_time": "2022-06-03T10:57:49.235Z"
   },
   {
    "duration": 8,
    "start_time": "2022-06-03T10:57:49.342Z"
   },
   {
    "duration": 16,
    "start_time": "2022-06-03T10:57:49.352Z"
   },
   {
    "duration": 27597,
    "start_time": "2022-06-03T10:57:49.369Z"
   },
   {
    "duration": 4462,
    "start_time": "2022-06-03T10:58:16.968Z"
   },
   {
    "duration": 8006,
    "start_time": "2022-06-03T10:58:21.433Z"
   },
   {
    "duration": 17,
    "start_time": "2022-06-03T10:58:29.441Z"
   },
   {
    "duration": 12604,
    "start_time": "2022-06-03T10:58:29.460Z"
   },
   {
    "duration": 2264,
    "start_time": "2022-06-03T10:58:42.066Z"
   },
   {
    "duration": 3568,
    "start_time": "2022-06-03T10:58:44.331Z"
   },
   {
    "duration": 362,
    "start_time": "2022-06-03T10:58:47.900Z"
   },
   {
    "duration": 413,
    "start_time": "2022-06-03T10:58:48.264Z"
   },
   {
    "duration": 501,
    "start_time": "2022-06-03T11:37:30.715Z"
   },
   {
    "duration": 410,
    "start_time": "2022-06-03T11:37:38.376Z"
   },
   {
    "duration": 432,
    "start_time": "2022-06-03T11:37:57.674Z"
   },
   {
    "duration": 33380,
    "start_time": "2022-06-03T11:40:42.974Z"
   },
   {
    "duration": 14504,
    "start_time": "2022-06-03T11:42:58.103Z"
   },
   {
    "duration": 8548,
    "start_time": "2022-06-03T11:44:04.025Z"
   },
   {
    "duration": 13233,
    "start_time": "2022-06-03T11:44:45.319Z"
   },
   {
    "duration": 5369,
    "start_time": "2022-06-03T11:45:20.808Z"
   },
   {
    "duration": 3790,
    "start_time": "2022-06-03T11:45:59.481Z"
   },
   {
    "duration": 349,
    "start_time": "2022-06-03T11:52:17.209Z"
   },
   {
    "duration": 309,
    "start_time": "2022-06-03T11:53:02.044Z"
   },
   {
    "duration": 276,
    "start_time": "2022-06-03T11:53:51.674Z"
   },
   {
    "duration": 26,
    "start_time": "2022-06-03T11:55:50.375Z"
   },
   {
    "duration": 98,
    "start_time": "2022-06-03T11:56:53.252Z"
   },
   {
    "duration": 78,
    "start_time": "2022-06-03T11:58:24.275Z"
   },
   {
    "duration": 159,
    "start_time": "2022-06-03T11:58:32.880Z"
   },
   {
    "duration": 130,
    "start_time": "2022-06-03T11:59:43.916Z"
   },
   {
    "duration": 171,
    "start_time": "2022-06-03T12:00:27.266Z"
   },
   {
    "duration": 56,
    "start_time": "2022-06-03T12:00:41.264Z"
   },
   {
    "duration": 27,
    "start_time": "2022-06-03T12:00:41.322Z"
   },
   {
    "duration": 13,
    "start_time": "2022-06-03T12:00:41.350Z"
   },
   {
    "duration": 1253,
    "start_time": "2022-06-03T12:00:41.366Z"
   },
   {
    "duration": 22,
    "start_time": "2022-06-03T12:00:42.621Z"
   },
   {
    "duration": 31,
    "start_time": "2022-06-03T12:00:42.645Z"
   },
   {
    "duration": 8,
    "start_time": "2022-06-03T12:00:42.677Z"
   },
   {
    "duration": 63,
    "start_time": "2022-06-03T12:00:42.687Z"
   },
   {
    "duration": 10,
    "start_time": "2022-06-03T12:00:42.751Z"
   },
   {
    "duration": 0,
    "start_time": "2022-06-03T12:00:42.763Z"
   },
   {
    "duration": 0,
    "start_time": "2022-06-03T12:00:42.764Z"
   },
   {
    "duration": 0,
    "start_time": "2022-06-03T12:00:42.765Z"
   },
   {
    "duration": 0,
    "start_time": "2022-06-03T12:00:42.767Z"
   },
   {
    "duration": 0,
    "start_time": "2022-06-03T12:00:42.768Z"
   },
   {
    "duration": 0,
    "start_time": "2022-06-03T12:00:42.769Z"
   },
   {
    "duration": 0,
    "start_time": "2022-06-03T12:00:42.770Z"
   },
   {
    "duration": 0,
    "start_time": "2022-06-03T12:00:42.772Z"
   },
   {
    "duration": 0,
    "start_time": "2022-06-03T12:00:42.773Z"
   },
   {
    "duration": 0,
    "start_time": "2022-06-03T12:00:42.774Z"
   },
   {
    "duration": 0,
    "start_time": "2022-06-03T12:00:42.776Z"
   },
   {
    "duration": 0,
    "start_time": "2022-06-03T12:00:42.778Z"
   },
   {
    "duration": 0,
    "start_time": "2022-06-03T12:00:42.779Z"
   },
   {
    "duration": 0,
    "start_time": "2022-06-03T12:00:42.781Z"
   },
   {
    "duration": 0,
    "start_time": "2022-06-03T12:00:42.782Z"
   },
   {
    "duration": 0,
    "start_time": "2022-06-03T12:00:42.784Z"
   },
   {
    "duration": 0,
    "start_time": "2022-06-03T12:00:42.785Z"
   },
   {
    "duration": 56,
    "start_time": "2022-06-03T12:01:16.827Z"
   },
   {
    "duration": 18,
    "start_time": "2022-06-03T12:01:16.885Z"
   },
   {
    "duration": 11,
    "start_time": "2022-06-03T12:01:16.905Z"
   },
   {
    "duration": 1171,
    "start_time": "2022-06-03T12:01:16.917Z"
   },
   {
    "duration": 12,
    "start_time": "2022-06-03T12:01:18.090Z"
   },
   {
    "duration": 39,
    "start_time": "2022-06-03T12:01:18.103Z"
   },
   {
    "duration": 5,
    "start_time": "2022-06-03T12:01:18.143Z"
   },
   {
    "duration": 46,
    "start_time": "2022-06-03T12:01:18.150Z"
   },
   {
    "duration": 6042,
    "start_time": "2022-06-03T12:01:18.197Z"
   },
   {
    "duration": 15,
    "start_time": "2022-06-03T12:01:24.241Z"
   },
   {
    "duration": 61840,
    "start_time": "2022-06-03T12:01:24.257Z"
   },
   {
    "duration": 17,
    "start_time": "2022-06-03T12:02:26.099Z"
   },
   {
    "duration": 12816,
    "start_time": "2022-06-03T12:02:26.129Z"
   },
   {
    "duration": 87,
    "start_time": "2022-06-03T12:02:38.956Z"
   },
   {
    "duration": 96,
    "start_time": "2022-06-03T12:02:39.045Z"
   },
   {
    "duration": 34,
    "start_time": "2022-06-03T12:02:39.147Z"
   },
   {
    "duration": 29707,
    "start_time": "2022-06-03T12:02:39.183Z"
   },
   {
    "duration": 12290,
    "start_time": "2022-06-03T12:03:08.892Z"
   },
   {
    "duration": 8411,
    "start_time": "2022-06-03T12:03:21.183Z"
   },
   {
    "duration": 35,
    "start_time": "2022-06-03T12:03:29.596Z"
   },
   {
    "duration": 12624,
    "start_time": "2022-06-03T12:03:29.632Z"
   },
   {
    "duration": 4994,
    "start_time": "2022-06-03T12:03:42.257Z"
   },
   {
    "duration": 3676,
    "start_time": "2022-06-03T12:03:47.253Z"
   },
   {
    "duration": 110,
    "start_time": "2022-06-03T12:03:50.937Z"
   },
   {
    "duration": 291,
    "start_time": "2022-06-03T12:03:51.049Z"
   },
   {
    "duration": 1735,
    "start_time": "2022-10-01T14:39:44.042Z"
   }
  ],
  "kernelspec": {
   "display_name": "Python 3 (ipykernel)",
   "language": "python",
   "name": "python3"
  },
  "language_info": {
   "codemirror_mode": {
    "name": "ipython",
    "version": 3
   },
   "file_extension": ".py",
   "mimetype": "text/x-python",
   "name": "python",
   "nbconvert_exporter": "python",
   "pygments_lexer": "ipython3",
   "version": "3.9.13"
  },
  "toc": {
   "base_numbering": 1,
   "nav_menu": {},
   "number_sections": true,
   "sideBar": true,
   "skip_h1_title": true,
   "title_cell": "Содержание",
   "title_sidebar": "Contents",
   "toc_cell": true,
   "toc_position": {
    "height": "calc(100% - 180px)",
    "left": "10px",
    "top": "150px",
    "width": "202.188px"
   },
   "toc_section_display": true,
   "toc_window_display": true
  }
 },
 "nbformat": 4,
 "nbformat_minor": 2
}
