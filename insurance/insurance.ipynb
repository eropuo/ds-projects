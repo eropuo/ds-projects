{
 "cells": [
  {
   "cell_type": "markdown",
   "metadata": {},
   "source": [
    "# Защита персональных данных клиентов"
   ]
  },
  {
   "cell_type": "markdown",
   "metadata": {},
   "source": [
    "Нам нужно защитить данные клиентов страховой компании «Хоть потоп». Необходимо разработать такой метод преобразования данных, чтобы по ним было сложно восстановить персональную информацию.\n",
    "\n",
    "Нужно защитить данные, чтобы при преобразовании качество моделей машинного обучения не ухудшилось. Подбирать наилучшую модель не требуется."
   ]
  },
  {
   "cell_type": "markdown",
   "metadata": {},
   "source": [
    "## Загрузка данных\n",
    "По первому взгляду можно сказать, что:\n",
    "* Пропуски в данных отсутствуют.\n",
    "* Нужно изменить тип данных у признаков 'Возраст' и 'Зарплата' на целочисленный.\n",
    "* Необходимо поменять названия признаков на змеиный регистр."
   ]
  },
  {
   "cell_type": "code",
   "execution_count": 2,
   "metadata": {},
   "outputs": [],
   "source": [
    "# импортирование всех нужных библиотек и фуцнкций \n",
    "import matplotlib.pyplot as plt\n",
    "import numpy as np\n",
    "import pandas as pd \n",
    "import seaborn as sns\n",
    "\n",
    "from numpy.random import RandomState\n",
    "from sklearn.linear_model import LinearRegression\n",
    "from sklearn.metrics import mean_squared_error, r2_score\n",
    "from sklearn.model_selection import train_test_split"
   ]
  },
  {
   "cell_type": "code",
   "execution_count": 4,
   "metadata": {},
   "outputs": [
    {
     "data": {
      "text/html": [
       "<div>\n",
       "<style scoped>\n",
       "    .dataframe tbody tr th:only-of-type {\n",
       "        vertical-align: middle;\n",
       "    }\n",
       "\n",
       "    .dataframe tbody tr th {\n",
       "        vertical-align: top;\n",
       "    }\n",
       "\n",
       "    .dataframe thead th {\n",
       "        text-align: right;\n",
       "    }\n",
       "</style>\n",
       "<table border=\"1\" class=\"dataframe\">\n",
       "  <thead>\n",
       "    <tr style=\"text-align: right;\">\n",
       "      <th></th>\n",
       "      <th>Пол</th>\n",
       "      <th>Возраст</th>\n",
       "      <th>Зарплата</th>\n",
       "      <th>Члены семьи</th>\n",
       "      <th>Страховые выплаты</th>\n",
       "    </tr>\n",
       "  </thead>\n",
       "  <tbody>\n",
       "    <tr>\n",
       "      <th>0</th>\n",
       "      <td>1</td>\n",
       "      <td>41.0</td>\n",
       "      <td>49600.0</td>\n",
       "      <td>1</td>\n",
       "      <td>0</td>\n",
       "    </tr>\n",
       "    <tr>\n",
       "      <th>1</th>\n",
       "      <td>0</td>\n",
       "      <td>46.0</td>\n",
       "      <td>38000.0</td>\n",
       "      <td>1</td>\n",
       "      <td>1</td>\n",
       "    </tr>\n",
       "    <tr>\n",
       "      <th>2</th>\n",
       "      <td>0</td>\n",
       "      <td>29.0</td>\n",
       "      <td>21000.0</td>\n",
       "      <td>0</td>\n",
       "      <td>0</td>\n",
       "    </tr>\n",
       "    <tr>\n",
       "      <th>3</th>\n",
       "      <td>0</td>\n",
       "      <td>21.0</td>\n",
       "      <td>41700.0</td>\n",
       "      <td>2</td>\n",
       "      <td>0</td>\n",
       "    </tr>\n",
       "    <tr>\n",
       "      <th>4</th>\n",
       "      <td>1</td>\n",
       "      <td>28.0</td>\n",
       "      <td>26100.0</td>\n",
       "      <td>0</td>\n",
       "      <td>0</td>\n",
       "    </tr>\n",
       "  </tbody>\n",
       "</table>\n",
       "</div>"
      ],
      "text/plain": [
       "   Пол  Возраст  Зарплата  Члены семьи  Страховые выплаты\n",
       "0    1     41.0   49600.0            1                  0\n",
       "1    0     46.0   38000.0            1                  1\n",
       "2    0     29.0   21000.0            0                  0\n",
       "3    0     21.0   41700.0            2                  0\n",
       "4    1     28.0   26100.0            0                  0"
      ]
     },
     "metadata": {},
     "output_type": "display_data"
    },
    {
     "name": "stdout",
     "output_type": "stream",
     "text": [
      "<class 'pandas.core.frame.DataFrame'>\n",
      "Int64Index: 5000 entries, 0 to 4999\n",
      "Data columns (total 5 columns):\n",
      " #   Column             Non-Null Count  Dtype  \n",
      "---  ------             --------------  -----  \n",
      " 0   Пол                5000 non-null   int64  \n",
      " 1   Возраст            5000 non-null   float64\n",
      " 2   Зарплата           5000 non-null   float64\n",
      " 3   Члены семьи        5000 non-null   int64  \n",
      " 4   Страховые выплаты  5000 non-null   int64  \n",
      "dtypes: float64(2), int64(3)\n",
      "memory usage: 234.4 KB\n"
     ]
    }
   ],
   "source": [
    "# формирование датафрейма\n",
    "df = pd.read_csv('dataset_insurance.csv', index_col=0)\n",
    "\n",
    "# просмотр общей информации\n",
    "display(df.head())\n",
    "df.info()"
   ]
  },
  {
   "cell_type": "markdown",
   "metadata": {},
   "source": [
    "## Предобработка данных\n",
    "\n"
   ]
  },
  {
   "cell_type": "markdown",
   "metadata": {},
   "source": [
    "### Переименование столбцов"
   ]
  },
  {
   "cell_type": "code",
   "execution_count": 29,
   "metadata": {},
   "outputs": [],
   "source": [
    "# приведение названий столбцов к змеиному регистру\n",
    "df = df.rename(columns={'Пол':'gender', \n",
    "                        'Возраст':'age', \n",
    "                        'Зарплата':'income', \n",
    "                        'Члены семьи':'members_of_family', \n",
    "                        'Страховые выплаты':'insurance_payments'})"
   ]
  },
  {
   "cell_type": "markdown",
   "metadata": {},
   "source": [
    "### Изменение типов данных"
   ]
  },
  {
   "cell_type": "code",
   "execution_count": 30,
   "metadata": {},
   "outputs": [
    {
     "name": "stdout",
     "output_type": "stream",
     "text": [
      "<class 'pandas.core.frame.DataFrame'>\n",
      "RangeIndex: 5000 entries, 0 to 4999\n",
      "Data columns (total 5 columns):\n",
      " #   Column              Non-Null Count  Dtype\n",
      "---  ------              --------------  -----\n",
      " 0   gender              5000 non-null   int64\n",
      " 1   age                 5000 non-null   int64\n",
      " 2   income              5000 non-null   int64\n",
      " 3   members_of_family   5000 non-null   int64\n",
      " 4   insurance_payments  5000 non-null   int64\n",
      "dtypes: int64(5)\n",
      "memory usage: 195.4 KB\n"
     ]
    }
   ],
   "source": [
    "# изменение типов данных столбцов\n",
    "df['age'] = df['age'].astype(int)\n",
    "df['income'] = df['income'].astype(int)\n",
    "\n",
    "# проверка внесенных изменений\n",
    "df.info()"
   ]
  },
  {
   "cell_type": "markdown",
   "metadata": {},
   "source": [
    "## Умножение матриц"
   ]
  },
  {
   "cell_type": "markdown",
   "metadata": {},
   "source": [
    "Обозначения:\n",
    "\n",
    "- $X$ — матрица признаков (нулевой столбец состоит из единиц)\n",
    "\n",
    "- $y$ — вектор целевого признака\n",
    "\n",
    "- $P$ — матрица, на которую умножаются признаки\n",
    "\n",
    "- $w$ — вектор весов линейной регрессии (нулевой элемент равен сдвигу)"
   ]
  },
  {
   "cell_type": "markdown",
   "metadata": {},
   "source": [
    "Предсказания:\n",
    "\n",
    "$$\n",
    "a = Xw\n",
    "$$\n",
    "\n",
    "Задача обучения:\n",
    "\n",
    "$$\n",
    "w = \\arg\\min_w MSE(Xw, y)\n",
    "$$\n",
    "\n",
    "Формула обучения:\n",
    "\n",
    "$$\n",
    "w = (X^T X)^{-1} X^T y\n",
    "$$\n",
    "\n",
    "Равенство предсказаний до и после преобразований:\n",
    "$$ a=a_{P} $$\n",
    "\n",
    "$$ Xw=XPw_{P} $$\n",
    "\n",
    "$$ X(X^TX)^{-1}X^Ty=XP((P^TX^T)(XP))^{-1}P^TX^Ty $$\n",
    "\n",
    "$$ X(X^TX)^{-1}X^Ty=XP(P^T(X^TX)P)^{-1}P^TX^Ty $$\n",
    "\n",
    "$$ X(X^TX)^{-1}X^Ty=XPP^{-1}(P^T(X^TX))^{-1}P^TX^Ty $$\n",
    "\n",
    "$$ X(X^TX)^{-1}X^Ty=XPP^{-1}(X^TX)^{-1}P^{T-1}P^TX^Ty $$\n",
    "\n",
    "$$ X(X^TX)^{-1}X^Ty=XE(X^TX)^{-1}EX^Ty $$\n",
    "\n",
    "$$ X(X^TX)^{-1}X^Ty=X(X^TX)^{-1}X^Ty $$\n",
    "\n",
    "$$ Xw=Xw $$"
   ]
  },
  {
   "cell_type": "markdown",
   "metadata": {},
   "source": [
    "### Выделение признаков "
   ]
  },
  {
   "cell_type": "code",
   "execution_count": 31,
   "metadata": {},
   "outputs": [],
   "source": [
    "# формирование обучающей и тестовой выборок\n",
    "df_train, df_test = train_test_split(df, test_size=0.25, random_state=144)\n",
    "\n",
    "# выделение признаков и целевого признака в обучающей выборке\n",
    "features_train = df_train.drop(['insurance_payments'], axis=1)\n",
    "target_train = df_train['insurance_payments']\n",
    "\n",
    "# выделение признаков и целевого признака в тестовой выборке\n",
    "features_test = df_test.drop(['insurance_payments'], axis=1)\n",
    "target_test = df_test['insurance_payments']"
   ]
  },
  {
   "cell_type": "markdown",
   "metadata": {},
   "source": [
    "### Умножение признаков на обратимую матрицу\n",
    "Сформируем случайную обратимую матрицу. <br>\n",
    "Метод 'linalg.inv' не выдает ошибку, значит обратная матрица к случайной существует."
   ]
  },
  {
   "cell_type": "code",
   "execution_count": 32,
   "metadata": {},
   "outputs": [
    {
     "data": {
      "text/plain": [
       "array([[-3.12500000e-02,  2.44902138e-18, -1.56250000e-01,\n",
       "         1.71875000e-01],\n",
       "       [-4.68750000e-02, -3.26536184e-18,  2.65625000e-01,\n",
       "         7.81250000e-03],\n",
       "       [ 2.28125000e-01, -2.00000000e-01, -1.59375000e-01,\n",
       "        -1.04687500e-01],\n",
       "       [ 3.75000000e-02,  2.00000000e-01, -1.25000000e-02,\n",
       "        -1.06250000e-01]])"
      ]
     },
     "metadata": {},
     "output_type": "display_data"
    }
   ],
   "source": [
    "# объект RandomState\n",
    "r = np.random.RandomState(144)\n",
    "\n",
    "# случайная матрица\n",
    "matrix = r.randint(10, size=(4, 4))\n",
    "\n",
    "# проверка матрицы на обратимость\n",
    "display(np.linalg.inv(matrix))\n",
    "\n",
    "# умножение признаков на обратимую матрицу\n",
    "new_features_train = np.dot(features_train.values, matrix)\n",
    "new_features_test = np.dot(features_test.values, matrix)"
   ]
  },
  {
   "cell_type": "markdown",
   "metadata": {},
   "source": [
    "### Проверка изменения качества \n",
    "Метрики имеют незначительные отличия."
   ]
  },
  {
   "cell_type": "code",
   "execution_count": 33,
   "metadata": {},
   "outputs": [
    {
     "data": {
      "text/plain": [
       "0.37987479699541726"
      ]
     },
     "metadata": {},
     "output_type": "display_data"
    },
    {
     "data": {
      "text/plain": [
       "0.10938175132728002"
      ]
     },
     "metadata": {},
     "output_type": "display_data"
    },
    {
     "data": {
      "text/plain": [
       "0.3798747969954147"
      ]
     },
     "metadata": {},
     "output_type": "display_data"
    },
    {
     "data": {
      "text/plain": [
       "0.10938175132728047"
      ]
     },
     "metadata": {},
     "output_type": "display_data"
    }
   ],
   "source": [
    "# модель 'линейная регрессия'\n",
    "model = LinearRegression()\n",
    "\n",
    "# обучение модели и ее оценка качества на признаках\n",
    "model.fit(features_train, target_train)\n",
    "pred = model.predict(features_test)\n",
    "display(r2_score(target_test, pred))\n",
    "display(mean_squared_error(target_test, pred))\n",
    "\n",
    "# обучение модели и ее оценка качества на умноженных признаках\n",
    "model.fit(new_features_train, target_train)\n",
    "pred = model.predict(new_features_test)\n",
    "display(r2_score(target_test, pred))\n",
    "display(mean_squared_error(target_test, pred))"
   ]
  },
  {
   "cell_type": "code",
   "execution_count": 34,
   "metadata": {},
   "outputs": [
    {
     "data": {
      "image/png": "[encoded data removed]",
      "text/plain": [
       "<Figure size 360x360 with 1 Axes>"
      ]
     },
     "metadata": {
      "needs_background": "light"
     },
     "output_type": "display_data"
    },
    {
     "data": {
      "image/png": "[encoded data removed]",
      "text/plain": [
       "<Figure size 360x360 with 1 Axes>"
      ]
     },
     "metadata": {
      "needs_background": "light"
     },
     "output_type": "display_data"
    }
   ],
   "source": [
    "# формирование датафреймов для визуализации\n",
    "data_example_0 = pd.DataFrame(data={'X_true': [0, 0.5, 2, 2.8, 4.4], 'w': [1.2, 2.1, 3.3, 5.2, 6.7]})\n",
    "data_example_1 = data_example_0.copy(deep=True)\n",
    "\n",
    "# умножение признака второго датафрейма на константу\n",
    "const = 100\n",
    "data_example_1['w'] = data_example_1['w'] * const\n",
    "\n",
    "# визуализация формирования предсказаний линейной регрессии в двух случаях\n",
    "f = sns.lmplot(data=data_example_0, x='w', y='X_true')\n",
    "g = sns.lmplot(data=data_example_1, x='w', y='X_true')"
   ]
  },
  {
   "cell_type": "markdown",
   "metadata": {},
   "source": [
    "**Ответ:** Качество линейной регрессии при умножении признаков на обратимую матрицу не изменится.\n",
    "\n",
    "**Обоснование:** Не изменится, так как предсказания формируются из произведения матрицы признаков и вектора весов. Если визуализировать линейную регрессию с одним признаком с помощью графика, то становится видно, что при умножении признака на константу (в случае с одним признаком) и последующим обучении, модель не теряет свое качество.\n",
    "\n",
    "Функция предсказаний в первом случае:\n",
    "$$\n",
    "a = Xw,\n",
    "$$\n",
    "где X - матрица признаков, w - вектор весов.\n",
    "\n",
    "Функция предсказаний во втором случае (с умножением матрицы признаков на случайную матрицу):\n",
    "$$\n",
    "a = XAw,\n",
    "$$\n",
    "где А - случайная обратимая матрица (константа)."
   ]
  },
  {
   "cell_type": "markdown",
   "metadata": {},
   "source": [
    "## Алгоритм преобразования"
   ]
  },
  {
   "cell_type": "code",
   "execution_count": 35,
   "metadata": {},
   "outputs": [],
   "source": [
    "# класс преобразования\n",
    "class Scaler:\n",
    "    # функция преобразования данных\n",
    "    def transform(self, features):\n",
    "        # сохранение наименований признаков \n",
    "        self.columns = features.columns\n",
    "        \n",
    "        # формирование случайной матрицы со значениями близкими к нулю с проверкой на обратимость в цикле\n",
    "        r = np.random.RandomState(1)\n",
    "        det = 0\n",
    "        while det == 0:\n",
    "            self.matrix = r.uniform(10**(-6), 10**(-5), size=(4, 4))\n",
    "            det = np.linalg.det(self.matrix)\n",
    "        \n",
    "        return np.dot(features.values, self.matrix)\n",
    "    \n",
    "    # функция обратного преобразования данных\n",
    "    def inv_transform(self, transformed_features):\n",
    "        self.data = pd.DataFrame(np.dot(transformed_features, np.linalg.inv(self.matrix))).apply(round).astype(int)\n",
    "        \n",
    "        # подгрузка наименований признаков\n",
    "        self.data.columns = self.columns\n",
    "        return self.data\n",
    "\n",
    "# объект преобразования\n",
    "scaler = Scaler()\n",
    "\n",
    "# умножение матриц признаков на случайную матрицу \n",
    "new_features_train = scaler.transform(features_train)\n",
    "new_features_test = scaler.transform(features_test)"
   ]
  },
  {
   "cell_type": "markdown",
   "metadata": {},
   "source": [
    "**Алгоритм**\n",
    "\n",
    "Умножение матрицы признаков на случайную обратимую матрицу со значениями очень близкими к нулю. <br>\n",
    "Для возвращения признаков к нормальному виду необходимо умножить измененную матрицу признаков на обратную к случайной матрице."
   ]
  },
  {
   "cell_type": "markdown",
   "metadata": {},
   "source": [
    "**Обоснование**\n",
    "\n",
    "Как было доказано выше, при умножении матрицы признаков на случайную матрицу, качество линейной регрессии не изменится. Поэтому, если умножить матрицу признаков на матрицу со значениями очень близкими к нулю, то признаки перестануть быть распознаваемыми, что защитит данные клиентов компании."
   ]
  },
  {
   "cell_type": "markdown",
   "metadata": {},
   "source": [
    "## Проверка алгоритма\n",
    "\n",
    "Признаки стали не распознаваемыми после умножения."
   ]
  },
  {
   "cell_type": "code",
   "execution_count": 36,
   "metadata": {
    "scrolled": true
   },
   "outputs": [
    {
     "data": {
      "text/plain": [
       "array([[0.22818277, 0.29198087, 0.23825867, 0.35780075],\n",
       "       [0.15136316, 0.19368274, 0.15804577, 0.23734332],\n",
       "       [0.16969078, 0.21711111, 0.17719198, 0.26609381],\n",
       "       ...,\n",
       "       [0.0819207 , 0.10480715, 0.08553868, 0.12846987],\n",
       "       [0.14174454, 0.18136649, 0.1480088 , 0.22225844],\n",
       "       [0.18749318, 0.23989494, 0.19577745, 0.29399357]])"
      ]
     },
     "metadata": {},
     "output_type": "display_data"
    },
    {
     "data": {
      "text/plain": [
       "array([[0.16187974, 0.20712194, 0.16903566, 0.25383423],\n",
       "       [0.19798631, 0.25334229, 0.20673218, 0.31045097],\n",
       "       [0.14815053, 0.18958753, 0.15469028, 0.23231212],\n",
       "       ...,\n",
       "       [0.17603342, 0.22524593, 0.1838081 , 0.27601859],\n",
       "       [0.28664514, 0.36679981, 0.29930624, 0.4494586 ],\n",
       "       [0.26888602, 0.34404426, 0.28076577, 0.42162209]])"
      ]
     },
     "metadata": {},
     "output_type": "display_data"
    }
   ],
   "source": [
    "# проверка умноженных признаков на распознаваемость\n",
    "display(new_features_train)\n",
    "display(new_features_test)"
   ]
  },
  {
   "cell_type": "code",
   "execution_count": 37,
   "metadata": {
    "scrolled": false
   },
   "outputs": [
    {
     "data": {
      "text/html": [
       "<div>\n",
       "<style scoped>\n",
       "    .dataframe tbody tr th:only-of-type {\n",
       "        vertical-align: middle;\n",
       "    }\n",
       "\n",
       "    .dataframe tbody tr th {\n",
       "        vertical-align: top;\n",
       "    }\n",
       "\n",
       "    .dataframe thead th {\n",
       "        text-align: right;\n",
       "    }\n",
       "</style>\n",
       "<table border=\"1\" class=\"dataframe\">\n",
       "  <thead>\n",
       "    <tr style=\"text-align: right;\">\n",
       "      <th></th>\n",
       "      <th>gender</th>\n",
       "      <th>age</th>\n",
       "      <th>income</th>\n",
       "      <th>members_of_family</th>\n",
       "    </tr>\n",
       "  </thead>\n",
       "  <tbody>\n",
       "    <tr>\n",
       "      <th>2687</th>\n",
       "      <td>1</td>\n",
       "      <td>35</td>\n",
       "      <td>49900</td>\n",
       "      <td>3</td>\n",
       "    </tr>\n",
       "    <tr>\n",
       "      <th>3361</th>\n",
       "      <td>1</td>\n",
       "      <td>24</td>\n",
       "      <td>33100</td>\n",
       "      <td>2</td>\n",
       "    </tr>\n",
       "    <tr>\n",
       "      <th>4906</th>\n",
       "      <td>0</td>\n",
       "      <td>45</td>\n",
       "      <td>37100</td>\n",
       "      <td>2</td>\n",
       "    </tr>\n",
       "    <tr>\n",
       "      <th>1286</th>\n",
       "      <td>1</td>\n",
       "      <td>42</td>\n",
       "      <td>60500</td>\n",
       "      <td>2</td>\n",
       "    </tr>\n",
       "    <tr>\n",
       "      <th>79</th>\n",
       "      <td>1</td>\n",
       "      <td>29</td>\n",
       "      <td>52500</td>\n",
       "      <td>3</td>\n",
       "    </tr>\n",
       "  </tbody>\n",
       "</table>\n",
       "</div>"
      ],
      "text/plain": [
       "      gender  age  income  members_of_family\n",
       "2687       1   35   49900                  3\n",
       "3361       1   24   33100                  2\n",
       "4906       0   45   37100                  2\n",
       "1286       1   42   60500                  2\n",
       "79         1   29   52500                  3"
      ]
     },
     "metadata": {},
     "output_type": "display_data"
    },
    {
     "data": {
      "text/html": [
       "<div>\n",
       "<style scoped>\n",
       "    .dataframe tbody tr th:only-of-type {\n",
       "        vertical-align: middle;\n",
       "    }\n",
       "\n",
       "    .dataframe tbody tr th {\n",
       "        vertical-align: top;\n",
       "    }\n",
       "\n",
       "    .dataframe thead th {\n",
       "        text-align: right;\n",
       "    }\n",
       "</style>\n",
       "<table border=\"1\" class=\"dataframe\">\n",
       "  <thead>\n",
       "    <tr style=\"text-align: right;\">\n",
       "      <th></th>\n",
       "      <th>gender</th>\n",
       "      <th>age</th>\n",
       "      <th>income</th>\n",
       "      <th>members_of_family</th>\n",
       "    </tr>\n",
       "  </thead>\n",
       "  <tbody>\n",
       "    <tr>\n",
       "      <th>0</th>\n",
       "      <td>1</td>\n",
       "      <td>35</td>\n",
       "      <td>49900</td>\n",
       "      <td>3</td>\n",
       "    </tr>\n",
       "    <tr>\n",
       "      <th>1</th>\n",
       "      <td>1</td>\n",
       "      <td>24</td>\n",
       "      <td>33100</td>\n",
       "      <td>2</td>\n",
       "    </tr>\n",
       "    <tr>\n",
       "      <th>2</th>\n",
       "      <td>0</td>\n",
       "      <td>45</td>\n",
       "      <td>37100</td>\n",
       "      <td>2</td>\n",
       "    </tr>\n",
       "    <tr>\n",
       "      <th>3</th>\n",
       "      <td>1</td>\n",
       "      <td>42</td>\n",
       "      <td>60500</td>\n",
       "      <td>2</td>\n",
       "    </tr>\n",
       "    <tr>\n",
       "      <th>4</th>\n",
       "      <td>1</td>\n",
       "      <td>29</td>\n",
       "      <td>52500</td>\n",
       "      <td>3</td>\n",
       "    </tr>\n",
       "  </tbody>\n",
       "</table>\n",
       "</div>"
      ],
      "text/plain": [
       "   gender  age  income  members_of_family\n",
       "0       1   35   49900                  3\n",
       "1       1   24   33100                  2\n",
       "2       0   45   37100                  2\n",
       "3       1   42   60500                  2\n",
       "4       1   29   52500                  3"
      ]
     },
     "metadata": {},
     "output_type": "display_data"
    }
   ],
   "source": [
    "# приведение признаков к нормальному виду \n",
    "display(features_train.head())\n",
    "display(scaler.inv_transform(new_features_train).head())"
   ]
  },
  {
   "cell_type": "markdown",
   "metadata": {},
   "source": [
    "### Сравнение метрик качества\n",
    "\n",
    "Изменение метрики качества после преобразование признаков несущественно, значит алгоритм работает исправно."
   ]
  },
  {
   "cell_type": "code",
   "execution_count": 38,
   "metadata": {},
   "outputs": [
    {
     "data": {
      "text/plain": [
       "0.37987479699541726"
      ]
     },
     "metadata": {},
     "output_type": "display_data"
    },
    {
     "data": {
      "text/plain": [
       "0.37987479698456783"
      ]
     },
     "metadata": {},
     "output_type": "display_data"
    }
   ],
   "source": [
    "# модель 'линейная регрессия'\n",
    "model = LinearRegression()\n",
    "\n",
    "# обучение и проверка качества модели на признаках в обычном виде\n",
    "model.fit(features_train, target_train)\n",
    "pred = model.predict(features_test)\n",
    "display(r2_score(target_test, pred))\n",
    "\n",
    "# обучение и проверка качества модели на признаках в преобразованном виде\n",
    "model.fit(new_features_train, target_train)\n",
    "pred = model.predict(new_features_test)\n",
    "display(r2_score(target_test, pred))"
   ]
  },
  {
   "cell_type": "markdown",
   "metadata": {},
   "source": [
    "## Вывод"
   ]
  },
  {
   "cell_type": "markdown",
   "metadata": {},
   "source": [
    "* Изменили типы данных в столбцах, привели названия столбцов к змеиному регистру.\n",
    "* Выделили признаки, умножили матрицу признаков на случайную обратимую матрицу, проверили изменение метрик качества: с помощью графиков показали почему качество не изменилось.\n",
    "* Привели алгоритм преобразования для защиты данных клиентов компании, создали класс и написали две функции для преобразования и обратного преобразования данных.\n",
    "* Проверили алгоритм на имеющихся данных."
   ]
  }
 ],
 "metadata": {
  "ExecuteTimeLog": [
   {
    "duration": 71,
    "start_time": "2022-07-09T10:33:22.205Z"
   },
   {
    "duration": 411,
    "start_time": "2022-07-09T10:33:23.203Z"
   },
   {
    "duration": 78,
    "start_time": "2022-07-09T10:33:24.169Z"
   },
   {
    "duration": 30,
    "start_time": "2022-07-09T10:33:39.848Z"
   },
   {
    "duration": 1174,
    "start_time": "2022-07-09T11:36:28.649Z"
   },
   {
    "duration": 31,
    "start_time": "2022-07-09T11:36:29.825Z"
   },
   {
    "duration": 4,
    "start_time": "2022-07-09T11:37:40.429Z"
   },
   {
    "duration": 33,
    "start_time": "2022-07-09T11:37:41.483Z"
   },
   {
    "duration": 38,
    "start_time": "2022-07-09T11:39:32.278Z"
   },
   {
    "duration": 72,
    "start_time": "2022-07-09T11:41:21.395Z"
   },
   {
    "duration": 34,
    "start_time": "2022-07-09T11:41:37.400Z"
   },
   {
    "duration": 13,
    "start_time": "2022-07-09T11:41:42.658Z"
   },
   {
    "duration": 13,
    "start_time": "2022-07-09T11:42:05.657Z"
   },
   {
    "duration": 8,
    "start_time": "2022-07-09T11:42:15.507Z"
   },
   {
    "duration": 10,
    "start_time": "2022-07-09T11:42:32.165Z"
   },
   {
    "duration": 3,
    "start_time": "2022-07-09T11:42:49.931Z"
   },
   {
    "duration": 10,
    "start_time": "2022-07-09T11:43:54.469Z"
   },
   {
    "duration": 11,
    "start_time": "2022-07-09T11:44:07.861Z"
   },
   {
    "duration": 1034,
    "start_time": "2022-07-09T12:24:29.520Z"
   },
   {
    "duration": 706,
    "start_time": "2022-07-09T12:24:34.861Z"
   },
   {
    "duration": 667,
    "start_time": "2022-07-09T12:24:44.247Z"
   },
   {
    "duration": 740,
    "start_time": "2022-07-09T12:24:51.616Z"
   },
   {
    "duration": 666,
    "start_time": "2022-07-09T12:25:11.353Z"
   },
   {
    "duration": 4,
    "start_time": "2022-07-09T12:26:19.178Z"
   },
   {
    "duration": 3,
    "start_time": "2022-07-09T12:26:31.059Z"
   },
   {
    "duration": 6,
    "start_time": "2022-07-09T12:26:51.331Z"
   },
   {
    "duration": 6,
    "start_time": "2022-07-09T12:26:53.756Z"
   },
   {
    "duration": 6,
    "start_time": "2022-07-09T12:26:54.544Z"
   },
   {
    "duration": 5,
    "start_time": "2022-07-09T12:26:55.328Z"
   },
   {
    "duration": 307,
    "start_time": "2022-07-09T12:27:06.299Z"
   },
   {
    "duration": 11,
    "start_time": "2022-07-09T12:28:11.417Z"
   },
   {
    "duration": 14,
    "start_time": "2022-07-09T12:28:20.024Z"
   },
   {
    "duration": 14,
    "start_time": "2022-07-09T12:28:35.021Z"
   },
   {
    "duration": 3,
    "start_time": "2022-07-09T12:29:02.707Z"
   },
   {
    "duration": 194,
    "start_time": "2022-07-09T12:29:05.971Z"
   },
   {
    "duration": 14,
    "start_time": "2022-07-09T12:29:17.330Z"
   },
   {
    "duration": 7,
    "start_time": "2022-07-09T12:29:42.389Z"
   },
   {
    "duration": 7,
    "start_time": "2022-07-09T12:29:43.206Z"
   },
   {
    "duration": 7,
    "start_time": "2022-07-09T12:29:43.890Z"
   },
   {
    "duration": 84,
    "start_time": "2022-07-09T12:29:48.941Z"
   },
   {
    "duration": 61,
    "start_time": "2022-07-09T12:29:52.291Z"
   },
   {
    "duration": 11,
    "start_time": "2022-07-09T12:30:20.982Z"
   },
   {
    "duration": 9,
    "start_time": "2022-07-09T12:30:39.429Z"
   },
   {
    "duration": 6,
    "start_time": "2022-07-09T12:34:13.623Z"
   },
   {
    "duration": 5,
    "start_time": "2022-07-09T12:34:16.386Z"
   },
   {
    "duration": 6,
    "start_time": "2022-07-09T12:34:17.182Z"
   },
   {
    "duration": 6,
    "start_time": "2022-07-09T12:34:24.346Z"
   },
   {
    "duration": 5,
    "start_time": "2022-07-09T12:34:25.792Z"
   },
   {
    "duration": 17,
    "start_time": "2022-07-09T12:37:11.938Z"
   },
   {
    "duration": 10,
    "start_time": "2022-07-09T12:37:24.901Z"
   },
   {
    "duration": 11,
    "start_time": "2022-07-09T12:38:55.849Z"
   },
   {
    "duration": 14,
    "start_time": "2022-07-09T12:39:02.550Z"
   },
   {
    "duration": 11,
    "start_time": "2022-07-09T12:39:52.361Z"
   },
   {
    "duration": 11,
    "start_time": "2022-07-09T12:40:00.044Z"
   },
   {
    "duration": 13,
    "start_time": "2022-07-09T12:40:21.163Z"
   },
   {
    "duration": 11,
    "start_time": "2022-07-09T12:40:25.365Z"
   },
   {
    "duration": 17,
    "start_time": "2022-07-09T12:41:11.357Z"
   },
   {
    "duration": 78,
    "start_time": "2022-07-09T12:42:23.062Z"
   },
   {
    "duration": 25,
    "start_time": "2022-07-09T12:42:28.191Z"
   },
   {
    "duration": 9,
    "start_time": "2022-07-09T12:42:40.960Z"
   },
   {
    "duration": 10,
    "start_time": "2022-07-09T12:42:45.566Z"
   },
   {
    "duration": 8,
    "start_time": "2022-07-09T12:42:51.866Z"
   },
   {
    "duration": 11,
    "start_time": "2022-07-09T12:43:10.400Z"
   },
   {
    "duration": 18,
    "start_time": "2022-07-09T12:43:33.988Z"
   },
   {
    "duration": 4,
    "start_time": "2022-07-09T12:49:07.191Z"
   },
   {
    "duration": 13,
    "start_time": "2022-07-09T12:49:52.676Z"
   },
   {
    "duration": 9,
    "start_time": "2022-07-09T13:39:47.248Z"
   },
   {
    "duration": 6,
    "start_time": "2022-07-09T13:39:48.413Z"
   },
   {
    "duration": 81,
    "start_time": "2022-07-09T13:42:37.506Z"
   },
   {
    "duration": 18,
    "start_time": "2022-07-09T13:42:44.760Z"
   },
   {
    "duration": 19,
    "start_time": "2022-07-09T13:43:08.693Z"
   },
   {
    "duration": 33,
    "start_time": "2022-07-09T13:44:23.942Z"
   },
   {
    "duration": 82,
    "start_time": "2022-07-09T13:45:12.891Z"
   },
   {
    "duration": 32,
    "start_time": "2022-07-09T13:46:05.177Z"
   },
   {
    "duration": 12,
    "start_time": "2022-07-09T13:50:55.304Z"
   },
   {
    "duration": 11,
    "start_time": "2022-07-09T13:52:15.014Z"
   },
   {
    "duration": 9,
    "start_time": "2022-07-09T13:52:18.577Z"
   },
   {
    "duration": 12,
    "start_time": "2022-07-09T13:53:25.442Z"
   },
   {
    "duration": 1606,
    "start_time": "2022-07-10T13:23:15.039Z"
   },
   {
    "duration": 80,
    "start_time": "2022-07-10T13:23:16.647Z"
   },
   {
    "duration": 3,
    "start_time": "2022-07-10T13:23:16.729Z"
   },
   {
    "duration": 18,
    "start_time": "2022-07-10T13:23:16.733Z"
   },
   {
    "duration": 6,
    "start_time": "2022-07-10T13:23:16.753Z"
   },
   {
    "duration": 17,
    "start_time": "2022-07-10T13:23:16.760Z"
   },
   {
    "duration": 17,
    "start_time": "2022-07-10T13:23:16.779Z"
   },
   {
    "duration": 7,
    "start_time": "2022-07-10T13:23:16.798Z"
   },
   {
    "duration": 7,
    "start_time": "2022-07-10T13:24:46.692Z"
   },
   {
    "duration": 98,
    "start_time": "2022-07-10T13:25:30.692Z"
   },
   {
    "duration": 11,
    "start_time": "2022-07-10T13:25:56.447Z"
   },
   {
    "duration": 6,
    "start_time": "2022-07-10T13:26:13.752Z"
   },
   {
    "duration": 7,
    "start_time": "2022-07-10T13:27:48.401Z"
   },
   {
    "duration": 8,
    "start_time": "2022-07-10T13:28:04.587Z"
   },
   {
    "duration": 13,
    "start_time": "2022-07-10T13:28:06.312Z"
   },
   {
    "duration": 8,
    "start_time": "2022-07-10T13:28:50.980Z"
   },
   {
    "duration": 7,
    "start_time": "2022-07-10T13:28:52.028Z"
   },
   {
    "duration": 7,
    "start_time": "2022-07-10T13:28:52.879Z"
   },
   {
    "duration": 12,
    "start_time": "2022-07-10T13:29:11.171Z"
   },
   {
    "duration": 11,
    "start_time": "2022-07-10T13:31:30.087Z"
   },
   {
    "duration": 15,
    "start_time": "2022-07-10T13:31:32.495Z"
   },
   {
    "duration": 7,
    "start_time": "2022-07-10T13:41:02.629Z"
   },
   {
    "duration": 8,
    "start_time": "2022-07-10T13:41:29.324Z"
   },
   {
    "duration": 18,
    "start_time": "2022-07-10T13:41:30.099Z"
   },
   {
    "duration": 4,
    "start_time": "2022-07-10T13:51:10.196Z"
   },
   {
    "duration": 16,
    "start_time": "2022-07-10T13:51:31.234Z"
   },
   {
    "duration": 2009,
    "start_time": "2022-07-11T12:20:02.492Z"
   },
   {
    "duration": 112,
    "start_time": "2022-07-11T12:20:04.504Z"
   },
   {
    "duration": 4,
    "start_time": "2022-07-11T12:20:04.618Z"
   },
   {
    "duration": 20,
    "start_time": "2022-07-11T12:20:04.624Z"
   },
   {
    "duration": 6,
    "start_time": "2022-07-11T12:20:04.646Z"
   },
   {
    "duration": 52,
    "start_time": "2022-07-11T12:20:04.654Z"
   },
   {
    "duration": 111,
    "start_time": "2022-07-11T12:20:04.708Z"
   },
   {
    "duration": 8,
    "start_time": "2022-07-11T12:20:04.821Z"
   },
   {
    "duration": 9,
    "start_time": "2022-07-11T12:20:37.483Z"
   },
   {
    "duration": 778,
    "start_time": "2022-07-11T12:20:46.922Z"
   },
   {
    "duration": 871,
    "start_time": "2022-07-11T12:21:11.671Z"
   },
   {
    "duration": 674,
    "start_time": "2022-07-11T12:21:16.954Z"
   },
   {
    "duration": 8,
    "start_time": "2022-07-11T12:21:21.702Z"
   },
   {
    "duration": 10,
    "start_time": "2022-07-11T12:21:29.533Z"
   },
   {
    "duration": 10,
    "start_time": "2022-07-11T12:22:19.496Z"
   },
   {
    "duration": 9,
    "start_time": "2022-07-11T12:22:34.250Z"
   },
   {
    "duration": 85,
    "start_time": "2022-07-11T12:22:52.099Z"
   },
   {
    "duration": 9,
    "start_time": "2022-07-11T12:22:57.392Z"
   },
   {
    "duration": 10,
    "start_time": "2022-07-11T12:23:03.021Z"
   },
   {
    "duration": 8,
    "start_time": "2022-07-11T12:23:07.803Z"
   },
   {
    "duration": 14,
    "start_time": "2022-07-11T12:24:20.430Z"
   },
   {
    "duration": 14,
    "start_time": "2022-07-11T12:24:46.195Z"
   },
   {
    "duration": 15,
    "start_time": "2022-07-11T12:24:51.357Z"
   },
   {
    "duration": 14,
    "start_time": "2022-07-11T12:25:32.651Z"
   },
   {
    "duration": 13,
    "start_time": "2022-07-11T12:25:40.883Z"
   },
   {
    "duration": 17,
    "start_time": "2022-07-11T12:25:56.136Z"
   },
   {
    "duration": 12,
    "start_time": "2022-07-11T12:25:59.898Z"
   },
   {
    "duration": 15,
    "start_time": "2022-07-11T12:26:40.126Z"
   },
   {
    "duration": 13,
    "start_time": "2022-07-11T12:33:21.810Z"
   },
   {
    "duration": 3,
    "start_time": "2022-07-11T12:33:29.061Z"
   },
   {
    "duration": 43,
    "start_time": "2022-07-11T12:33:29.066Z"
   },
   {
    "duration": 4,
    "start_time": "2022-07-11T12:33:29.110Z"
   },
   {
    "duration": 21,
    "start_time": "2022-07-11T12:33:29.115Z"
   },
   {
    "duration": 8,
    "start_time": "2022-07-11T12:33:29.138Z"
   },
   {
    "duration": 6,
    "start_time": "2022-07-11T12:33:29.148Z"
   },
   {
    "duration": 148,
    "start_time": "2022-07-11T12:33:29.156Z"
   },
   {
    "duration": 15,
    "start_time": "2022-07-11T12:33:29.306Z"
   },
   {
    "duration": 10,
    "start_time": "2022-07-11T12:33:29.323Z"
   },
   {
    "duration": 120,
    "start_time": "2022-07-11T12:39:10.585Z"
   },
   {
    "duration": 3,
    "start_time": "2022-07-11T12:39:38.278Z"
   },
   {
    "duration": 53,
    "start_time": "2022-07-11T12:39:38.283Z"
   },
   {
    "duration": 4,
    "start_time": "2022-07-11T12:39:38.337Z"
   },
   {
    "duration": 14,
    "start_time": "2022-07-11T12:39:38.343Z"
   },
   {
    "duration": 8,
    "start_time": "2022-07-11T12:39:38.359Z"
   },
   {
    "duration": 7,
    "start_time": "2022-07-11T12:39:38.368Z"
   },
   {
    "duration": 20,
    "start_time": "2022-07-11T12:39:38.404Z"
   },
   {
    "duration": 14,
    "start_time": "2022-07-11T12:39:38.504Z"
   },
   {
    "duration": 106,
    "start_time": "2022-07-11T12:39:38.520Z"
   },
   {
    "duration": 6,
    "start_time": "2022-07-11T12:45:40.311Z"
   },
   {
    "duration": 14,
    "start_time": "2022-07-11T12:45:45.870Z"
   },
   {
    "duration": 14,
    "start_time": "2022-07-11T12:45:50.062Z"
   },
   {
    "duration": 13,
    "start_time": "2022-07-11T12:45:53.098Z"
   },
   {
    "duration": 18,
    "start_time": "2022-07-11T12:46:10.223Z"
   },
   {
    "duration": 13,
    "start_time": "2022-07-11T12:46:57.495Z"
   },
   {
    "duration": 14,
    "start_time": "2022-07-11T12:47:54.173Z"
   },
   {
    "duration": 11,
    "start_time": "2022-07-11T12:48:07.735Z"
   },
   {
    "duration": 9,
    "start_time": "2022-07-11T12:48:33.456Z"
   },
   {
    "duration": 20,
    "start_time": "2022-07-11T12:52:18.705Z"
   },
   {
    "duration": 22,
    "start_time": "2022-07-11T12:52:30.363Z"
   },
   {
    "duration": 1353,
    "start_time": "2022-07-13T11:23:02.181Z"
   },
   {
    "duration": 71,
    "start_time": "2022-07-13T11:23:03.536Z"
   },
   {
    "duration": 3,
    "start_time": "2022-07-13T11:23:03.609Z"
   },
   {
    "duration": 18,
    "start_time": "2022-07-13T11:23:03.614Z"
   },
   {
    "duration": 7,
    "start_time": "2022-07-13T11:23:03.634Z"
   },
   {
    "duration": 8,
    "start_time": "2022-07-13T11:23:03.643Z"
   },
   {
    "duration": 117,
    "start_time": "2022-07-13T11:23:03.724Z"
   },
   {
    "duration": 14,
    "start_time": "2022-07-13T11:23:03.842Z"
   },
   {
    "duration": 7,
    "start_time": "2022-07-13T11:23:03.857Z"
   },
   {
    "duration": 52,
    "start_time": "2022-07-13T11:23:57.708Z"
   },
   {
    "duration": 110,
    "start_time": "2022-07-13T11:26:52.678Z"
   },
   {
    "duration": 10,
    "start_time": "2022-07-13T11:26:57.548Z"
   },
   {
    "duration": 12,
    "start_time": "2022-07-13T12:33:33.373Z"
   },
   {
    "duration": 12,
    "start_time": "2022-07-13T12:33:36.538Z"
   },
   {
    "duration": 16,
    "start_time": "2022-07-13T12:33:59.203Z"
   },
   {
    "duration": 3,
    "start_time": "2022-07-13T12:34:32.548Z"
   },
   {
    "duration": 9,
    "start_time": "2022-07-13T12:44:22.482Z"
   },
   {
    "duration": 7,
    "start_time": "2022-07-13T12:44:52.742Z"
   },
   {
    "duration": 1162,
    "start_time": "2022-07-13T12:45:33.889Z"
   },
   {
    "duration": 16,
    "start_time": "2022-07-13T12:45:58.360Z"
   },
   {
    "duration": 8,
    "start_time": "2022-07-13T12:49:19.447Z"
   },
   {
    "duration": 8,
    "start_time": "2022-07-13T12:49:46.881Z"
   },
   {
    "duration": 350,
    "start_time": "2022-07-13T12:50:08.574Z"
   },
   {
    "duration": 628,
    "start_time": "2022-07-13T12:53:46.552Z"
   },
   {
    "duration": 644,
    "start_time": "2022-07-13T12:53:59.922Z"
   },
   {
    "duration": 641,
    "start_time": "2022-07-13T13:31:10.373Z"
   },
   {
    "duration": 741,
    "start_time": "2022-07-13T13:31:41.097Z"
   },
   {
    "duration": 665,
    "start_time": "2022-07-13T13:31:53.479Z"
   },
   {
    "duration": 739,
    "start_time": "2022-07-13T13:32:22.257Z"
   },
   {
    "duration": 702,
    "start_time": "2022-07-13T13:32:38.082Z"
   },
   {
    "duration": 648,
    "start_time": "2022-07-13T13:32:43.157Z"
   },
   {
    "duration": 650,
    "start_time": "2022-07-13T13:33:16.012Z"
   },
   {
    "duration": 670,
    "start_time": "2022-07-13T13:33:19.935Z"
   },
   {
    "duration": 630,
    "start_time": "2022-07-13T13:33:30.840Z"
   },
   {
    "duration": 685,
    "start_time": "2022-07-13T13:33:36.939Z"
   },
   {
    "duration": 649,
    "start_time": "2022-07-13T13:33:45.144Z"
   },
   {
    "duration": 650,
    "start_time": "2022-07-13T13:35:51.747Z"
   },
   {
    "duration": 717,
    "start_time": "2022-07-13T13:37:53.653Z"
   },
   {
    "duration": 578,
    "start_time": "2022-07-13T13:56:39.162Z"
   },
   {
    "duration": 10,
    "start_time": "2022-07-13T13:58:45.235Z"
   },
   {
    "duration": 10,
    "start_time": "2022-07-13T13:58:57.222Z"
   },
   {
    "duration": 13,
    "start_time": "2022-07-13T14:15:54.890Z"
   },
   {
    "duration": 7,
    "start_time": "2022-07-13T14:16:33.991Z"
   },
   {
    "duration": 8,
    "start_time": "2022-07-13T14:16:34.223Z"
   },
   {
    "duration": 10,
    "start_time": "2022-07-13T14:16:55.459Z"
   },
   {
    "duration": 138,
    "start_time": "2022-07-13T14:19:56.118Z"
   },
   {
    "duration": 7,
    "start_time": "2022-07-13T14:21:15.664Z"
   },
   {
    "duration": 10,
    "start_time": "2022-07-13T14:21:29.177Z"
   },
   {
    "duration": 17,
    "start_time": "2022-07-13T14:24:28.236Z"
   },
   {
    "duration": 24,
    "start_time": "2022-07-13T14:24:36.191Z"
   },
   {
    "duration": 20,
    "start_time": "2022-07-13T14:24:48.518Z"
   },
   {
    "duration": 18,
    "start_time": "2022-07-13T14:25:34.975Z"
   },
   {
    "duration": 19,
    "start_time": "2022-07-13T14:25:43.520Z"
   },
   {
    "duration": 20,
    "start_time": "2022-07-13T14:26:23.093Z"
   },
   {
    "duration": 20,
    "start_time": "2022-07-13T14:26:26.969Z"
   },
   {
    "duration": 20,
    "start_time": "2022-07-13T14:27:17.074Z"
   },
   {
    "duration": 6,
    "start_time": "2022-07-13T14:28:20.700Z"
   },
   {
    "duration": 12,
    "start_time": "2022-07-13T14:32:08.441Z"
   },
   {
    "duration": 28,
    "start_time": "2022-07-13T14:38:21.637Z"
   },
   {
    "duration": 3,
    "start_time": "2022-07-13T14:39:29.032Z"
   },
   {
    "duration": 28,
    "start_time": "2022-07-13T14:39:29.933Z"
   },
   {
    "duration": 21,
    "start_time": "2022-07-13T14:55:39.258Z"
   },
   {
    "duration": 10,
    "start_time": "2022-07-13T14:55:48.840Z"
   },
   {
    "duration": 3,
    "start_time": "2022-07-13T14:56:00.904Z"
   },
   {
    "duration": 46,
    "start_time": "2022-07-13T14:56:00.909Z"
   },
   {
    "duration": 4,
    "start_time": "2022-07-13T14:56:00.957Z"
   },
   {
    "duration": 17,
    "start_time": "2022-07-13T14:56:00.962Z"
   },
   {
    "duration": 8,
    "start_time": "2022-07-13T14:56:00.981Z"
   },
   {
    "duration": 12,
    "start_time": "2022-07-13T14:56:00.990Z"
   },
   {
    "duration": 102,
    "start_time": "2022-07-13T14:56:01.025Z"
   },
   {
    "duration": 682,
    "start_time": "2022-07-13T14:56:01.129Z"
   },
   {
    "duration": 9,
    "start_time": "2022-07-13T14:56:01.824Z"
   },
   {
    "duration": 93,
    "start_time": "2022-07-13T14:56:01.835Z"
   },
   {
    "duration": 109,
    "start_time": "2022-07-13T14:56:01.931Z"
   },
   {
    "duration": 96,
    "start_time": "2022-07-13T14:56:02.042Z"
   },
   {
    "duration": 15,
    "start_time": "2022-07-13T14:57:05.678Z"
   },
   {
    "duration": 8,
    "start_time": "2022-07-13T14:57:13.663Z"
   },
   {
    "duration": 9,
    "start_time": "2022-07-13T14:57:26.535Z"
   },
   {
    "duration": 5,
    "start_time": "2022-07-13T14:57:43.099Z"
   },
   {
    "duration": 10,
    "start_time": "2022-07-13T14:58:24.013Z"
   },
   {
    "duration": 6,
    "start_time": "2022-07-13T14:58:26.374Z"
   },
   {
    "duration": 13,
    "start_time": "2022-07-13T14:59:41.788Z"
   },
   {
    "duration": 13,
    "start_time": "2022-07-13T14:59:50.667Z"
   },
   {
    "duration": 15,
    "start_time": "2022-07-13T15:00:04.400Z"
   },
   {
    "duration": 11,
    "start_time": "2022-07-13T15:00:52.870Z"
   },
   {
    "duration": 9,
    "start_time": "2022-07-13T15:01:02.714Z"
   },
   {
    "duration": 7,
    "start_time": "2022-07-13T15:01:05.138Z"
   },
   {
    "duration": 23,
    "start_time": "2022-07-13T15:01:10.537Z"
   },
   {
    "duration": 24,
    "start_time": "2022-07-13T15:01:16.562Z"
   },
   {
    "duration": 6,
    "start_time": "2022-07-13T15:03:50.799Z"
   },
   {
    "duration": 5,
    "start_time": "2022-07-13T15:04:00.636Z"
   },
   {
    "duration": 39,
    "start_time": "2022-07-13T15:04:00.643Z"
   },
   {
    "duration": 4,
    "start_time": "2022-07-13T15:04:00.683Z"
   },
   {
    "duration": 49,
    "start_time": "2022-07-13T15:04:00.689Z"
   },
   {
    "duration": 19,
    "start_time": "2022-07-13T15:04:00.741Z"
   },
   {
    "duration": 50,
    "start_time": "2022-07-13T15:04:00.762Z"
   },
   {
    "duration": 33,
    "start_time": "2022-07-13T15:04:00.815Z"
   },
   {
    "duration": 707,
    "start_time": "2022-07-13T15:04:00.924Z"
   },
   {
    "duration": 7,
    "start_time": "2022-07-13T15:04:01.632Z"
   },
   {
    "duration": 77,
    "start_time": "2022-07-13T15:04:01.640Z"
   },
   {
    "duration": 73,
    "start_time": "2022-07-13T15:04:01.718Z"
   },
   {
    "duration": 141,
    "start_time": "2022-07-13T15:04:01.793Z"
   },
   {
    "duration": 3,
    "start_time": "2022-07-13T15:05:35.335Z"
   },
   {
    "duration": 40,
    "start_time": "2022-07-13T15:05:35.340Z"
   },
   {
    "duration": 4,
    "start_time": "2022-07-13T15:05:35.381Z"
   },
   {
    "duration": 13,
    "start_time": "2022-07-13T15:05:35.386Z"
   },
   {
    "duration": 6,
    "start_time": "2022-07-13T15:05:35.401Z"
   },
   {
    "duration": 21,
    "start_time": "2022-07-13T15:05:35.408Z"
   },
   {
    "duration": 99,
    "start_time": "2022-07-13T15:05:35.432Z"
   },
   {
    "duration": 748,
    "start_time": "2022-07-13T15:05:35.533Z"
   },
   {
    "duration": 5,
    "start_time": "2022-07-13T15:05:36.283Z"
   },
   {
    "duration": 18,
    "start_time": "2022-07-13T15:05:36.290Z"
   },
   {
    "duration": 33,
    "start_time": "2022-07-13T15:05:36.310Z"
   },
   {
    "duration": 91,
    "start_time": "2022-07-13T15:05:36.346Z"
   },
   {
    "duration": 15,
    "start_time": "2022-07-13T15:07:25.864Z"
   },
   {
    "duration": 6,
    "start_time": "2022-07-13T15:07:37.874Z"
   },
   {
    "duration": 6,
    "start_time": "2022-07-13T15:07:40.445Z"
   },
   {
    "duration": 16,
    "start_time": "2022-07-13T15:07:42.076Z"
   },
   {
    "duration": 5,
    "start_time": "2022-07-13T15:08:46.800Z"
   },
   {
    "duration": 9,
    "start_time": "2022-07-13T15:09:03.364Z"
   },
   {
    "duration": 7,
    "start_time": "2022-07-13T15:09:06.880Z"
   },
   {
    "duration": 22,
    "start_time": "2022-07-13T15:09:07.176Z"
   },
   {
    "duration": 5,
    "start_time": "2022-07-13T15:10:09.548Z"
   },
   {
    "duration": 6,
    "start_time": "2022-07-13T15:10:12.098Z"
   },
   {
    "duration": 18,
    "start_time": "2022-07-13T15:10:12.574Z"
   },
   {
    "duration": 4,
    "start_time": "2022-07-13T15:11:38.236Z"
   },
   {
    "duration": 37,
    "start_time": "2022-07-13T15:11:38.242Z"
   },
   {
    "duration": 3,
    "start_time": "2022-07-13T15:11:38.280Z"
   },
   {
    "duration": 22,
    "start_time": "2022-07-13T15:11:38.285Z"
   },
   {
    "duration": 7,
    "start_time": "2022-07-13T15:11:38.309Z"
   },
   {
    "duration": 20,
    "start_time": "2022-07-13T15:11:38.318Z"
   },
   {
    "duration": 99,
    "start_time": "2022-07-13T15:11:38.340Z"
   },
   {
    "duration": 745,
    "start_time": "2022-07-13T15:11:38.441Z"
   },
   {
    "duration": 20,
    "start_time": "2022-07-13T15:11:39.188Z"
   },
   {
    "duration": 6,
    "start_time": "2022-07-13T15:11:39.210Z"
   },
   {
    "duration": 31,
    "start_time": "2022-07-13T15:11:39.223Z"
   },
   {
    "duration": 86,
    "start_time": "2022-07-13T15:11:39.256Z"
   },
   {
    "duration": 1652,
    "start_time": "2022-07-16T10:17:56.434Z"
   },
   {
    "duration": 97,
    "start_time": "2022-07-16T10:17:58.089Z"
   },
   {
    "duration": 5,
    "start_time": "2022-07-16T10:17:58.188Z"
   },
   {
    "duration": 14,
    "start_time": "2022-07-16T10:17:58.195Z"
   },
   {
    "duration": 8,
    "start_time": "2022-07-16T10:17:58.212Z"
   },
   {
    "duration": 45,
    "start_time": "2022-07-16T10:17:58.222Z"
   },
   {
    "duration": 129,
    "start_time": "2022-07-16T10:17:58.271Z"
   },
   {
    "duration": 782,
    "start_time": "2022-07-16T10:17:58.401Z"
   },
   {
    "duration": 6,
    "start_time": "2022-07-16T10:17:59.185Z"
   },
   {
    "duration": 16,
    "start_time": "2022-07-16T10:17:59.193Z"
   },
   {
    "duration": 56,
    "start_time": "2022-07-16T10:17:59.210Z"
   },
   {
    "duration": 95,
    "start_time": "2022-07-16T10:17:59.270Z"
   },
   {
    "duration": 7,
    "start_time": "2022-07-16T10:23:31.816Z"
   },
   {
    "duration": 5,
    "start_time": "2022-07-16T10:25:16.431Z"
   },
   {
    "duration": 61,
    "start_time": "2022-07-16T10:25:16.441Z"
   },
   {
    "duration": 3,
    "start_time": "2022-07-16T10:25:16.506Z"
   },
   {
    "duration": 23,
    "start_time": "2022-07-16T10:25:16.512Z"
   },
   {
    "duration": 11,
    "start_time": "2022-07-16T10:25:16.538Z"
   },
   {
    "duration": 13,
    "start_time": "2022-07-16T10:25:16.551Z"
   },
   {
    "duration": 197,
    "start_time": "2022-07-16T10:25:16.566Z"
   },
   {
    "duration": 699,
    "start_time": "2022-07-16T10:25:16.765Z"
   },
   {
    "duration": 7,
    "start_time": "2022-07-16T10:25:17.466Z"
   },
   {
    "duration": 11,
    "start_time": "2022-07-16T10:25:17.475Z"
   },
   {
    "duration": 15,
    "start_time": "2022-07-16T10:25:17.487Z"
   },
   {
    "duration": 78,
    "start_time": "2022-07-16T10:25:17.504Z"
   },
   {
    "duration": 8,
    "start_time": "2022-07-16T10:26:24.749Z"
   },
   {
    "duration": 3,
    "start_time": "2022-07-16T11:33:55.636Z"
   },
   {
    "duration": 44,
    "start_time": "2022-07-16T11:33:55.641Z"
   },
   {
    "duration": 3,
    "start_time": "2022-07-16T11:33:55.687Z"
   },
   {
    "duration": 15,
    "start_time": "2022-07-16T11:33:55.691Z"
   },
   {
    "duration": 6,
    "start_time": "2022-07-16T11:33:55.708Z"
   },
   {
    "duration": 8,
    "start_time": "2022-07-16T11:33:55.715Z"
   },
   {
    "duration": 139,
    "start_time": "2022-07-16T11:33:55.725Z"
   },
   {
    "duration": 724,
    "start_time": "2022-07-16T11:33:55.866Z"
   },
   {
    "duration": 6,
    "start_time": "2022-07-16T11:33:56.591Z"
   },
   {
    "duration": 9,
    "start_time": "2022-07-16T11:33:56.599Z"
   },
   {
    "duration": 52,
    "start_time": "2022-07-16T11:33:56.610Z"
   },
   {
    "duration": 97,
    "start_time": "2022-07-16T11:33:56.664Z"
   },
   {
    "duration": 45,
    "start_time": "2022-10-02T14:49:48.792Z"
   },
   {
    "duration": 1303,
    "start_time": "2022-10-02T14:49:51.217Z"
   },
   {
    "duration": 237,
    "start_time": "2022-10-02T14:49:52.522Z"
   }
  ],
  "kernelspec": {
   "display_name": "Python 3 (ipykernel)",
   "language": "python",
   "name": "python3"
  },
  "language_info": {
   "codemirror_mode": {
    "name": "ipython",
    "version": 3
   },
   "file_extension": ".py",
   "mimetype": "text/x-python",
   "name": "python",
   "nbconvert_exporter": "python",
   "pygments_lexer": "ipython3",
   "version": "3.9.12"
  },
  "toc": {
   "base_numbering": 1,
   "nav_menu": {},
   "number_sections": true,
   "sideBar": true,
   "skip_h1_title": true,
   "title_cell": "Содержание",
   "title_sidebar": "Contents",
   "toc_cell": true,
   "toc_position": {
    "height": "calc(100% - 180px)",
    "left": "10px",
    "top": "150px",
    "width": "165px"
   },
   "toc_section_display": true,
   "toc_window_display": true
  }
 },
 "nbformat": 4,
 "nbformat_minor": 2
}
