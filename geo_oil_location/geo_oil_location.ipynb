{
 "cells": [
  {
   "cell_type": "markdown",
   "metadata": {},
   "source": [
    "# Выбор локации для скважины"
   ]
  },
  {
   "cell_type": "markdown",
   "metadata": {},
   "source": [
    "Нам предоставлены пробы нефти в трёх регионах: в каждом 10 000 месторождений, где измерили качество нефти и объём её запасов. Построим модель машинного обучения, которая поможет определить регион, где добыча принесёт наибольшую прибыль. Проанализируем возможную прибыль и риски техникой *Bootstrap.*\n",
    "\n",
    "Шаги для выбора локации:\n",
    "\n",
    "- В избранном регионе ищут месторождения, для каждого определяют значения признаков;\n",
    "- Строят модель и оценивают объём запасов;\n",
    "- Выбирают месторождения с самым высокими оценками значений. Количество месторождений зависит от бюджета компании и стоимости разработки одной скважины;\n",
    "- Прибыль равна суммарной прибыли отобранных месторождений."
   ]
  },
  {
   "cell_type": "markdown",
   "metadata": {},
   "source": [
    "## Загрузка и подготовка данных"
   ]
  },
  {
   "cell_type": "markdown",
   "metadata": {},
   "source": [
    "### Ключевые значения для расчетов"
   ]
  },
  {
   "cell_type": "code",
   "execution_count": 1,
   "metadata": {},
   "outputs": [],
   "source": [
    "# количество лучших выбранных скважин \n",
    "count_wells = 200\n",
    "\n",
    "# бюджет на разработку скважин в регионе\n",
    "budget = 10 * 10**9\n",
    "\n",
    "# доход с каждой единицы продукта \n",
    "income_from_each_unit = 450000\n",
    "\n",
    "# 500 точек от 25000 находящихся в валидационной выборке есть 2% или 0.02\n",
    "fraction = .02"
   ]
  },
  {
   "cell_type": "markdown",
   "metadata": {},
   "source": [
    "### Обзор данных \n",
    "\n",
    "По первому взгляду можно сказать, что предстоит решить задачу регрессии, пропуски в данных отсутствуют, кодирование проводить не следует ввиду отсутствия категориальных признаков, следует провести обучение моделей, не учитывая признак 'id', он не будет влиять на предсказания сырья."
   ]
  },
  {
   "cell_type": "code",
   "execution_count": 5,
   "metadata": {},
   "outputs": [],
   "source": [
    "# импортирование всех нужных библиотек и фуцнкций \n",
    "import pandas as pd \n",
    "import numpy as np\n",
    "from scipy import stats as st\n",
    "\n",
    "from sklearn.model_selection import train_test_split, GridSearchCV\n",
    "from sklearn.linear_model import LinearRegression\n",
    "from sklearn.preprocessing import StandardScaler\n",
    "from sklearn.metrics import mean_squared_error"
   ]
  },
  {
   "cell_type": "code",
   "execution_count": 6,
   "metadata": {
    "scrolled": true
   },
   "outputs": [
    {
     "data": {
      "text/html": [
       "<div>\n",
       "<style scoped>\n",
       "    .dataframe tbody tr th:only-of-type {\n",
       "        vertical-align: middle;\n",
       "    }\n",
       "\n",
       "    .dataframe tbody tr th {\n",
       "        vertical-align: top;\n",
       "    }\n",
       "\n",
       "    .dataframe thead th {\n",
       "        text-align: right;\n",
       "    }\n",
       "</style>\n",
       "<table border=\"1\" class=\"dataframe\">\n",
       "  <thead>\n",
       "    <tr style=\"text-align: right;\">\n",
       "      <th></th>\n",
       "      <th>id</th>\n",
       "      <th>f0</th>\n",
       "      <th>f1</th>\n",
       "      <th>f2</th>\n",
       "      <th>product</th>\n",
       "    </tr>\n",
       "  </thead>\n",
       "  <tbody>\n",
       "    <tr>\n",
       "      <th>0</th>\n",
       "      <td>txEyH</td>\n",
       "      <td>0.705745</td>\n",
       "      <td>-0.497823</td>\n",
       "      <td>1.221170</td>\n",
       "      <td>105.280062</td>\n",
       "    </tr>\n",
       "    <tr>\n",
       "      <th>1</th>\n",
       "      <td>2acmU</td>\n",
       "      <td>1.334711</td>\n",
       "      <td>-0.340164</td>\n",
       "      <td>4.365080</td>\n",
       "      <td>73.037750</td>\n",
       "    </tr>\n",
       "    <tr>\n",
       "      <th>2</th>\n",
       "      <td>409Wp</td>\n",
       "      <td>1.022732</td>\n",
       "      <td>0.151990</td>\n",
       "      <td>1.419926</td>\n",
       "      <td>85.265647</td>\n",
       "    </tr>\n",
       "    <tr>\n",
       "      <th>3</th>\n",
       "      <td>iJLyR</td>\n",
       "      <td>-0.032172</td>\n",
       "      <td>0.139033</td>\n",
       "      <td>2.978566</td>\n",
       "      <td>168.620776</td>\n",
       "    </tr>\n",
       "    <tr>\n",
       "      <th>4</th>\n",
       "      <td>Xdl7t</td>\n",
       "      <td>1.988431</td>\n",
       "      <td>0.155413</td>\n",
       "      <td>4.751769</td>\n",
       "      <td>154.036647</td>\n",
       "    </tr>\n",
       "  </tbody>\n",
       "</table>\n",
       "</div>"
      ],
      "text/plain": [
       "      id        f0        f1        f2     product\n",
       "0  txEyH  0.705745 -0.497823  1.221170  105.280062\n",
       "1  2acmU  1.334711 -0.340164  4.365080   73.037750\n",
       "2  409Wp  1.022732  0.151990  1.419926   85.265647\n",
       "3  iJLyR -0.032172  0.139033  2.978566  168.620776\n",
       "4  Xdl7t  1.988431  0.155413  4.751769  154.036647"
      ]
     },
     "metadata": {},
     "output_type": "display_data"
    },
    {
     "data": {
      "text/html": [
       "<div>\n",
       "<style scoped>\n",
       "    .dataframe tbody tr th:only-of-type {\n",
       "        vertical-align: middle;\n",
       "    }\n",
       "\n",
       "    .dataframe tbody tr th {\n",
       "        vertical-align: top;\n",
       "    }\n",
       "\n",
       "    .dataframe thead th {\n",
       "        text-align: right;\n",
       "    }\n",
       "</style>\n",
       "<table border=\"1\" class=\"dataframe\">\n",
       "  <thead>\n",
       "    <tr style=\"text-align: right;\">\n",
       "      <th></th>\n",
       "      <th>id</th>\n",
       "      <th>f0</th>\n",
       "      <th>f1</th>\n",
       "      <th>f2</th>\n",
       "      <th>product</th>\n",
       "    </tr>\n",
       "  </thead>\n",
       "  <tbody>\n",
       "    <tr>\n",
       "      <th>0</th>\n",
       "      <td>kBEdx</td>\n",
       "      <td>-15.001348</td>\n",
       "      <td>-8.276000</td>\n",
       "      <td>-0.005876</td>\n",
       "      <td>3.179103</td>\n",
       "    </tr>\n",
       "    <tr>\n",
       "      <th>1</th>\n",
       "      <td>62mP7</td>\n",
       "      <td>14.272088</td>\n",
       "      <td>-3.475083</td>\n",
       "      <td>0.999183</td>\n",
       "      <td>26.953261</td>\n",
       "    </tr>\n",
       "    <tr>\n",
       "      <th>2</th>\n",
       "      <td>vyE1P</td>\n",
       "      <td>6.263187</td>\n",
       "      <td>-5.948386</td>\n",
       "      <td>5.001160</td>\n",
       "      <td>134.766305</td>\n",
       "    </tr>\n",
       "    <tr>\n",
       "      <th>3</th>\n",
       "      <td>KcrkZ</td>\n",
       "      <td>-13.081196</td>\n",
       "      <td>-11.506057</td>\n",
       "      <td>4.999415</td>\n",
       "      <td>137.945408</td>\n",
       "    </tr>\n",
       "    <tr>\n",
       "      <th>4</th>\n",
       "      <td>AHL4O</td>\n",
       "      <td>12.702195</td>\n",
       "      <td>-8.147433</td>\n",
       "      <td>5.004363</td>\n",
       "      <td>134.766305</td>\n",
       "    </tr>\n",
       "  </tbody>\n",
       "</table>\n",
       "</div>"
      ],
      "text/plain": [
       "      id         f0         f1        f2     product\n",
       "0  kBEdx -15.001348  -8.276000 -0.005876    3.179103\n",
       "1  62mP7  14.272088  -3.475083  0.999183   26.953261\n",
       "2  vyE1P   6.263187  -5.948386  5.001160  134.766305\n",
       "3  KcrkZ -13.081196 -11.506057  4.999415  137.945408\n",
       "4  AHL4O  12.702195  -8.147433  5.004363  134.766305"
      ]
     },
     "metadata": {},
     "output_type": "display_data"
    },
    {
     "data": {
      "text/html": [
       "<div>\n",
       "<style scoped>\n",
       "    .dataframe tbody tr th:only-of-type {\n",
       "        vertical-align: middle;\n",
       "    }\n",
       "\n",
       "    .dataframe tbody tr th {\n",
       "        vertical-align: top;\n",
       "    }\n",
       "\n",
       "    .dataframe thead th {\n",
       "        text-align: right;\n",
       "    }\n",
       "</style>\n",
       "<table border=\"1\" class=\"dataframe\">\n",
       "  <thead>\n",
       "    <tr style=\"text-align: right;\">\n",
       "      <th></th>\n",
       "      <th>id</th>\n",
       "      <th>f0</th>\n",
       "      <th>f1</th>\n",
       "      <th>f2</th>\n",
       "      <th>product</th>\n",
       "    </tr>\n",
       "  </thead>\n",
       "  <tbody>\n",
       "    <tr>\n",
       "      <th>0</th>\n",
       "      <td>fwXo0</td>\n",
       "      <td>-1.146987</td>\n",
       "      <td>0.963328</td>\n",
       "      <td>-0.828965</td>\n",
       "      <td>27.758673</td>\n",
       "    </tr>\n",
       "    <tr>\n",
       "      <th>1</th>\n",
       "      <td>WJtFt</td>\n",
       "      <td>0.262778</td>\n",
       "      <td>0.269839</td>\n",
       "      <td>-2.530187</td>\n",
       "      <td>56.069697</td>\n",
       "    </tr>\n",
       "    <tr>\n",
       "      <th>2</th>\n",
       "      <td>ovLUW</td>\n",
       "      <td>0.194587</td>\n",
       "      <td>0.289035</td>\n",
       "      <td>-5.586433</td>\n",
       "      <td>62.871910</td>\n",
       "    </tr>\n",
       "    <tr>\n",
       "      <th>3</th>\n",
       "      <td>q6cA6</td>\n",
       "      <td>2.236060</td>\n",
       "      <td>-0.553760</td>\n",
       "      <td>0.930038</td>\n",
       "      <td>114.572842</td>\n",
       "    </tr>\n",
       "    <tr>\n",
       "      <th>4</th>\n",
       "      <td>WPMUX</td>\n",
       "      <td>-0.515993</td>\n",
       "      <td>1.716266</td>\n",
       "      <td>5.899011</td>\n",
       "      <td>149.600746</td>\n",
       "    </tr>\n",
       "  </tbody>\n",
       "</table>\n",
       "</div>"
      ],
      "text/plain": [
       "      id        f0        f1        f2     product\n",
       "0  fwXo0 -1.146987  0.963328 -0.828965   27.758673\n",
       "1  WJtFt  0.262778  0.269839 -2.530187   56.069697\n",
       "2  ovLUW  0.194587  0.289035 -5.586433   62.871910\n",
       "3  q6cA6  2.236060 -0.553760  0.930038  114.572842\n",
       "4  WPMUX -0.515993  1.716266  5.899011  149.600746"
      ]
     },
     "metadata": {},
     "output_type": "display_data"
    },
    {
     "name": "stdout",
     "output_type": "stream",
     "text": [
      "<class 'pandas.core.frame.DataFrame'>\n",
      "Int64Index: 100000 entries, 0 to 99999\n",
      "Data columns (total 5 columns):\n",
      " #   Column   Non-Null Count   Dtype  \n",
      "---  ------   --------------   -----  \n",
      " 0   id       100000 non-null  object \n",
      " 1   f0       100000 non-null  float64\n",
      " 2   f1       100000 non-null  float64\n",
      " 3   f2       100000 non-null  float64\n",
      " 4   product  100000 non-null  float64\n",
      "dtypes: float64(4), object(1)\n",
      "memory usage: 4.6+ MB\n",
      "<class 'pandas.core.frame.DataFrame'>\n",
      "Int64Index: 100000 entries, 0 to 99999\n",
      "Data columns (total 5 columns):\n",
      " #   Column   Non-Null Count   Dtype  \n",
      "---  ------   --------------   -----  \n",
      " 0   id       100000 non-null  object \n",
      " 1   f0       100000 non-null  float64\n",
      " 2   f1       100000 non-null  float64\n",
      " 3   f2       100000 non-null  float64\n",
      " 4   product  100000 non-null  float64\n",
      "dtypes: float64(4), object(1)\n",
      "memory usage: 4.6+ MB\n",
      "<class 'pandas.core.frame.DataFrame'>\n",
      "Int64Index: 100000 entries, 0 to 99999\n",
      "Data columns (total 5 columns):\n",
      " #   Column   Non-Null Count   Dtype  \n",
      "---  ------   --------------   -----  \n",
      " 0   id       100000 non-null  object \n",
      " 1   f0       100000 non-null  float64\n",
      " 2   f1       100000 non-null  float64\n",
      " 3   f2       100000 non-null  float64\n",
      " 4   product  100000 non-null  float64\n",
      "dtypes: float64(4), object(1)\n",
      "memory usage: 4.6+ MB\n"
     ]
    }
   ],
   "source": [
    "# формирование датафреймов\n",
    "geo_data_0 = pd.read_csv('dataset_geo_0.csv', index_col=0)\n",
    "geo_data_1 = pd.read_csv('dataset_geo_1.csv', index_col=0)\n",
    "geo_data_2 = pd.read_csv('dataset_geo_2.csv', index_col=0)\n",
    "\n",
    "# просмотр общей информации о датафреймах\n",
    "display(geo_data_0.head())\n",
    "display(geo_data_1.head())\n",
    "display(geo_data_2.head())\n",
    "geo_data_0.info()\n",
    "geo_data_1.info()\n",
    "geo_data_2.info()"
   ]
  },
  {
   "cell_type": "markdown",
   "metadata": {},
   "source": [
    "## Обучение и проверка модели"
   ]
  },
  {
   "cell_type": "markdown",
   "metadata": {},
   "source": [
    "### Обучающая и валидационная выборки\n",
    "\n",
    "На первом регионе:"
   ]
  },
  {
   "cell_type": "code",
   "execution_count": 3,
   "metadata": {},
   "outputs": [],
   "source": [
    "# функция для формирования признаков и целевого признака на обучающей и валидационной выборках\n",
    "def set_features_and_target(data):\n",
    "    \n",
    "    # разделение на обучающую и валидационную выборки\n",
    "    data_train, data_valid = train_test_split(data, test_size=0.25, random_state=123)\n",
    "    \n",
    "    # признаки и целевой признак обучающей выборки\n",
    "    features_train = data_train.drop(['id', 'product'], axis=1)\n",
    "    target_train = data_train['product']\n",
    "    \n",
    "    # признаки и целевой признак валидационной выборки\n",
    "    features_valid = data_valid.drop(['id', 'product'], axis=1)  \n",
    "    target_valid = data_valid['product']\n",
    "    \n",
    "    return features_train, target_train, features_valid, target_valid\n",
    "\n",
    "# признаки и целевой признак в первом регионе\n",
    "features_train_geo_0, target_train_geo_0, features_valid_geo_0, target_valid_geo_0 = set_features_and_target(geo_data_0)\n",
    "\n",
    "# признаки и целевой признак во втором регионе\n",
    "features_train_geo_1, target_train_geo_1, features_valid_geo_1, target_valid_geo_1 = set_features_and_target(geo_data_1)\n",
    "\n",
    "# признаки и целевой признак в третьем регионе\n",
    "features_train_geo_2, target_train_geo_2, features_valid_geo_2, target_valid_geo_2 = set_features_and_target(geo_data_2)"
   ]
  },
  {
   "cell_type": "markdown",
   "metadata": {},
   "source": [
    "### Обучение модели\n",
    "\n",
    "Кросс-валидация уже используется в модели подбора гиперпараметров GridSearchCV."
   ]
  },
  {
   "cell_type": "code",
   "execution_count": 4,
   "metadata": {},
   "outputs": [
    {
     "data": {
      "text/plain": [
       "{'fit_intercept': True, 'normalize': True}"
      ]
     },
     "metadata": {},
     "output_type": "display_data"
    },
    {
     "data": {
      "text/plain": [
       "{'fit_intercept': True, 'normalize': True}"
      ]
     },
     "metadata": {},
     "output_type": "display_data"
    },
    {
     "data": {
      "text/plain": [
       "{'fit_intercept': True, 'normalize': True}"
      ]
     },
     "metadata": {},
     "output_type": "display_data"
    }
   ],
   "source": [
    "# вариации гиперпараметров\n",
    "fit_intercept = [True, False]\n",
    "normalize = [True, False]\n",
    "\n",
    "# сетка гиперпараметров\n",
    "parameters_grid = {'fit_intercept':fit_intercept,\n",
    "                   'normalize':normalize}\n",
    "\n",
    "# модели 'линейная регрессия'\n",
    "model_geo_0 = GridSearchCV(LinearRegression(), parameters_grid, scoring='neg_root_mean_squared_error', cv=5)\n",
    "model_geo_1 = GridSearchCV(LinearRegression(), parameters_grid, scoring='neg_root_mean_squared_error', cv=5)\n",
    "model_geo_2 = GridSearchCV(LinearRegression(), parameters_grid, scoring='neg_root_mean_squared_error', cv=5)\n",
    "\n",
    "# обучение моделей\n",
    "model_geo_0.fit(features_train_geo_0, target_train_geo_0)\n",
    "model_geo_1.fit(features_train_geo_1, target_train_geo_1)\n",
    "model_geo_2.fit(features_train_geo_2, target_train_geo_2)\n",
    "\n",
    "# наилучшие гиперпараметры моделей\n",
    "display(model_geo_0.best_params_)\n",
    "display(model_geo_1.best_params_)\n",
    "display(model_geo_2.best_params_)"
   ]
  },
  {
   "cell_type": "markdown",
   "metadata": {},
   "source": [
    "### Предсказания и правильные ответы на валидационной выборке"
   ]
  },
  {
   "cell_type": "code",
   "execution_count": 5,
   "metadata": {},
   "outputs": [],
   "source": [
    "# предсказания на валидационной выборке \n",
    "predictions_valid_geo_0 = pd.Series(model_geo_0.predict(features_valid_geo_0))\n",
    "predictions_valid_geo_1 = pd.Series(model_geo_1.predict(features_valid_geo_1))\n",
    "predictions_valid_geo_2 = pd.Series(model_geo_2.predict(features_valid_geo_2))\n",
    "\n",
    "# объем сырья с сброшенным индексом для проведения техники bootstrap\n",
    "target_new_indexes_0 = target_valid_geo_0.reset_index(drop=True)\n",
    "target_new_indexes_1 = target_valid_geo_1.reset_index(drop=True)\n",
    "target_new_indexes_2 = target_valid_geo_2.reset_index(drop=True)"
   ]
  },
  {
   "cell_type": "markdown",
   "metadata": {},
   "source": [
    "### Средний запас сырья и RMSE модели\n",
    "\n",
    "Модели обученные на первом и третьем регионах показывают достаточно большой корень из среднеквадратичной ошибки, учитывая среднее значение предсказаний. Модель на втором регионе, наоборот, маленькую ошибку."
   ]
  },
  {
   "cell_type": "code",
   "execution_count": 6,
   "metadata": {},
   "outputs": [
    {
     "data": {
      "text/plain": [
       "92.54936189116309"
      ]
     },
     "metadata": {},
     "output_type": "display_data"
    },
    {
     "data": {
      "text/plain": [
       "37.64786282376177"
      ]
     },
     "metadata": {},
     "output_type": "display_data"
    }
   ],
   "source": [
    "# предсказанный средний запас сырья \n",
    "display(predictions_valid_geo_0.mean())\n",
    "\n",
    "# корень из среднеквадратичной ошибки (RMSE)\n",
    "display(mean_squared_error(target_valid_geo_0, predictions_valid_geo_0, squared=False))"
   ]
  },
  {
   "cell_type": "code",
   "execution_count": 7,
   "metadata": {},
   "outputs": [
    {
     "data": {
      "text/plain": [
       "69.28001860653976"
      ]
     },
     "metadata": {},
     "output_type": "display_data"
    },
    {
     "data": {
      "text/plain": [
       "0.8954139804944313"
      ]
     },
     "metadata": {},
     "output_type": "display_data"
    }
   ],
   "source": [
    "# предсказанный средний запас сырья \n",
    "display(predictions_valid_geo_1.mean())\n",
    "\n",
    "# корень из среднеквадратичной ошибки (RMSE)\n",
    "display(mean_squared_error(target_valid_geo_1, predictions_valid_geo_1, squared=False))"
   ]
  },
  {
   "cell_type": "code",
   "execution_count": 8,
   "metadata": {},
   "outputs": [
    {
     "data": {
      "text/plain": [
       "95.09859933591373"
      ]
     },
     "metadata": {},
     "output_type": "display_data"
    },
    {
     "data": {
      "text/plain": [
       "40.12803006598514"
      ]
     },
     "metadata": {},
     "output_type": "display_data"
    }
   ],
   "source": [
    "# предсказанный средний запас сырья \n",
    "display(predictions_valid_geo_2.mean())\n",
    "\n",
    "# корень из среднеквадратичной ошибки (RMSE)\n",
    "display(mean_squared_error(target_valid_geo_2, predictions_valid_geo_2, squared=False))"
   ]
  },
  {
   "cell_type": "markdown",
   "metadata": {},
   "source": [
    "## Подготовка к расчёту прибыли"
   ]
  },
  {
   "cell_type": "markdown",
   "metadata": {},
   "source": [
    "### Достаточный объем сырья для безубыточной разработки \n",
    "\n",
    "Не менее 112 единиц - минимальный объем сырья в скважине для безубыточной разработки. <br>"
   ]
  },
  {
   "cell_type": "code",
   "execution_count": 9,
   "metadata": {},
   "outputs": [
    {
     "data": {
      "text/plain": [
       "111.11111111111111"
      ]
     },
     "metadata": {},
     "output_type": "display_data"
    }
   ],
   "source": [
    "# минимальное количество единиц сырья\n",
    "min_volume = budget / count_wells / income_from_each_unit\n",
    "\n",
    "display(min_volume)"
   ]
  },
  {
   "cell_type": "markdown",
   "metadata": {},
   "source": [
    "### Выводы по этапу подготовки расчета прибыли\n",
    "\n",
    "Средние значения сырья в первом и третьем регионе ниже на 15%, чем найденное минимальное значение.<br>\n",
    "Ситуация со вторым регионом иная - среднее значение ниже на 40%. <br><br>\n",
    "Интересно, что второй регион имеет необычное распределение по сравнению с более стандартизированными распределениями первого и третьего регионов."
   ]
  },
  {
   "cell_type": "code",
   "execution_count": 10,
   "metadata": {},
   "outputs": [
    {
     "data": {
      "text/plain": [
       "<AxesSubplot:>"
      ]
     },
     "metadata": {},
     "output_type": "display_data"
    },
    {
     "data": {
      "text/plain": [
       "<AxesSubplot:>"
      ]
     },
     "metadata": {},
     "output_type": "display_data"
    },
    {
     "data": {
      "text/plain": [
       "<AxesSubplot:>"
      ]
     },
     "metadata": {},
     "output_type": "display_data"
    },
    {
     "data": {
      "image/png": "[encoded data removed]",
      "text/plain": [
       "<Figure size 432x288 with 1 Axes>"
      ]
     },
     "metadata": {
      "needs_background": "light"
     },
     "output_type": "display_data"
    }
   ],
   "source": [
    "# распределение предсказанного сырья \n",
    "display(predictions_valid_geo_0.hist(bins=50))\n",
    "display(predictions_valid_geo_1.hist(bins=50))\n",
    "display(predictions_valid_geo_2.hist(bins=50))"
   ]
  },
  {
   "cell_type": "markdown",
   "metadata": {},
   "source": [
    "### Функция для расчета прибыли "
   ]
  },
  {
   "cell_type": "code",
   "execution_count": 11,
   "metadata": {},
   "outputs": [],
   "source": [
    "def total_income(target, predictions):\n",
    "    # сортированный по убыванию объект Series с предсказанным сырьем \n",
    "    wells_sorted = predictions.sort_values(ascending=False)\n",
    "    \n",
    "    # объект Series составленный по индексам наибольших предсказанных значений \n",
    "    income = target[wells_sorted.index][:count_wells]\n",
    "    \n",
    "    return income.sum() * income_from_each_unit - budget"
   ]
  },
  {
   "cell_type": "markdown",
   "metadata": {},
   "source": [
    "## Расчёт прибыли и рисков "
   ]
  },
  {
   "cell_type": "markdown",
   "metadata": {},
   "source": [
    "### Применение техники Bootstrap\n",
    "\n",
    "По всем трем регионам распределение прибыли соответствует нормальному распределению."
   ]
  },
  {
   "cell_type": "code",
   "execution_count": 12,
   "metadata": {},
   "outputs": [],
   "source": [
    "# функция для формирования распределения прибыли\n",
    "def set_scatter_income(target, predictions):\n",
    "    \n",
    "    # параметр определяющий случайность для каждой подвыборки\n",
    "    state = np.random.RandomState(12345)\n",
    "    \n",
    "    # список с прибылью\n",
    "    values = []\n",
    "    \n",
    "    for i in range(1000):\n",
    "        \n",
    "        # создание подвыборки в ключевых признаках \n",
    "        target_subsample = target.sample(replace=True, frac=fraction, random_state=state)\n",
    "\n",
    "        # создание подвыборки в предсказаниях с индексацией подвыборки ключевых признаков \n",
    "        pred_subsample = predictions[target_subsample.index]\n",
    "\n",
    "        # добавление в список значения прибыли\n",
    "        values.append(total_income(target_subsample, pred_subsample))\n",
    "\n",
    "    # изменение списка на объект Series\n",
    "    return pd.Series(values)"
   ]
  },
  {
   "cell_type": "code",
   "execution_count": 13,
   "metadata": {},
   "outputs": [
    {
     "data": {
      "text/plain": [
       "<AxesSubplot:>"
      ]
     },
     "metadata": {},
     "output_type": "display_data"
    },
    {
     "data": {
      "image/png": "[encoded data removed]",
      "text/plain": [
       "<Figure size 432x288 with 1 Axes>"
      ]
     },
     "metadata": {
      "needs_background": "light"
     },
     "output_type": "display_data"
    }
   ],
   "source": [
    "# список с прибылью\n",
    "values_0 = set_scatter_income(target_new_indexes_0, predictions_valid_geo_0)\n",
    "\n",
    "# средняя прибыль\n",
    "mean_income_0 = values_0.mean()\n",
    "\n",
    "# гистограмма с распределением прибыли \n",
    "display(values_0.hist(bins=50))"
   ]
  },
  {
   "cell_type": "code",
   "execution_count": 14,
   "metadata": {},
   "outputs": [
    {
     "data": {
      "text/plain": [
       "<AxesSubplot:>"
      ]
     },
     "metadata": {},
     "output_type": "display_data"
    },
    {
     "data": {
      "image/png": "[encoded data removed]",
      "text/plain": [
       "<Figure size 432x288 with 1 Axes>"
      ]
     },
     "metadata": {
      "needs_background": "light"
     },
     "output_type": "display_data"
    }
   ],
   "source": [
    "# список с прибылью\n",
    "values_1 = set_scatter_income(target_new_indexes_1, predictions_valid_geo_1)\n",
    "\n",
    "# средняя прибыль\n",
    "mean_income_1 = values_1.mean()\n",
    "\n",
    "# гистограмма с распределением прибыли \n",
    "display(values_1.hist(bins=50))"
   ]
  },
  {
   "cell_type": "code",
   "execution_count": 15,
   "metadata": {},
   "outputs": [
    {
     "data": {
      "text/plain": [
       "<AxesSubplot:>"
      ]
     },
     "metadata": {},
     "output_type": "display_data"
    },
    {
     "data": {
      "image/png": "[encoded data removed]",
      "text/plain": [
       "<Figure size 432x288 with 1 Axes>"
      ]
     },
     "metadata": {
      "needs_background": "light"
     },
     "output_type": "display_data"
    }
   ],
   "source": [
    "# список с прибылью\n",
    "values_2 = set_scatter_income(target_new_indexes_2, predictions_valid_geo_2)\n",
    "\n",
    "# средняя прибыль\n",
    "mean_income_2 = values_2.mean()\n",
    "\n",
    "# гистограмма с распределением прибыли \n",
    "display(values_2.hist(bins=50))"
   ]
  },
  {
   "cell_type": "markdown",
   "metadata": {},
   "source": [
    "### Средняя прибыль, 95%-й интервал и риск убытков"
   ]
  },
  {
   "cell_type": "markdown",
   "metadata": {},
   "source": [
    "#### Средняя прибыль\n",
    "\n",
    "* Первый регион: 505 миллионов. \n",
    "* Второй регион: 541 миллион.\n",
    "* Третий регион: 377 миллионов. "
   ]
  },
  {
   "cell_type": "code",
   "execution_count": 16,
   "metadata": {},
   "outputs": [
    {
     "data": {
      "text/plain": [
       "505.2647037061952"
      ]
     },
     "metadata": {},
     "output_type": "display_data"
    },
    {
     "data": {
      "text/plain": [
       "541.3460191680023"
      ]
     },
     "metadata": {},
     "output_type": "display_data"
    },
    {
     "data": {
      "text/plain": [
       "377.5948832245889"
      ]
     },
     "metadata": {},
     "output_type": "display_data"
    }
   ],
   "source": [
    "display(mean_income_0 / 10**6)\n",
    "display(mean_income_1 / 10**6)\n",
    "display(mean_income_2 / 10**6)"
   ]
  },
  {
   "cell_type": "markdown",
   "metadata": {},
   "source": [
    "#### 95%-й доверительный интервал\n",
    "\n",
    "* В первом регионе: от 488 до 522 миллионов. \n",
    "* Во втором регионе: от 527 до 555 миллионов. \n",
    "* В третьем регионе: от 359 до 395 миллионов. "
   ]
  },
  {
   "cell_type": "code",
   "execution_count": 17,
   "metadata": {},
   "outputs": [
    {
     "data": {
      "text/plain": [
       "(488019000.64139795, 522510406.7709924)"
      ]
     },
     "metadata": {},
     "output_type": "display_data"
    }
   ],
   "source": [
    "# расчет доверительного интервала\n",
    "confidence_interval_0 = st.t.interval(alpha=0.95, df=len(values_0)-1, loc=mean_income_0, scale=values_0.sem())\n",
    "\n",
    "display(confidence_interval_0)"
   ]
  },
  {
   "cell_type": "code",
   "execution_count": 18,
   "metadata": {},
   "outputs": [
    {
     "data": {
      "text/plain": [
       "(527446528.1834567, 555245510.1525477)"
      ]
     },
     "metadata": {},
     "output_type": "display_data"
    }
   ],
   "source": [
    "# расчет доверительного интервала\n",
    "confidence_interval_1 = st.t.interval(alpha=0.95, df=len(values_1)-1, loc=mean_income_1, scale=values_1.sem())\n",
    "\n",
    "display(confidence_interval_1)"
   ]
  },
  {
   "cell_type": "code",
   "execution_count": 19,
   "metadata": {},
   "outputs": [
    {
     "data": {
      "text/plain": [
       "(359999059.56139374, 395190706.887784)"
      ]
     },
     "metadata": {},
     "output_type": "display_data"
    }
   ],
   "source": [
    "# расчет доверительного интервала\n",
    "confidence_interval_2 = st.t.interval(alpha=0.95, df=len(values_2)-1, loc=mean_income_2, scale=values_2.sem())\n",
    "\n",
    "display(confidence_interval_2)"
   ]
  },
  {
   "cell_type": "markdown",
   "metadata": {},
   "source": [
    "#### Риск убытков\n",
    "\n",
    "* В первом регионе: меньше 2.5%. \n",
    "* Во втором регионе: меньше 0.5%. \n",
    "* В третьем регионе: меньше 5%. \n",
    "\n",
    "По условию задачи необходимо оставить регионы, в которых вероятность убытков менее 2.5%, это первый и второй регионы."
   ]
  },
  {
   "cell_type": "code",
   "execution_count": 20,
   "metadata": {},
   "outputs": [
    {
     "data": {
      "text/plain": [
       "2.5200000000000053"
      ]
     },
     "metadata": {},
     "output_type": "display_data"
    }
   ],
   "source": [
    "# список с квантилями, при которых будет убыток \n",
    "chances = []\n",
    "\n",
    "# цикл для перебора квантилей, при которых разработка осуществляется в убыток\n",
    "for i in np.arange(.005, .051, .0001):\n",
    "    \n",
    "    # проверка на отрицательность разработки \n",
    "    if values_0.quantile(i) < 0:\n",
    "        \n",
    "        # добавление квантиля с отрицательной прибылью в список\n",
    "        chances.append(i)\n",
    "\n",
    "# определение порогового квантиля \n",
    "display(max(chances) * 100)"
   ]
  },
  {
   "cell_type": "code",
   "execution_count": 21,
   "metadata": {},
   "outputs": [
    {
     "data": {
      "text/plain": [
       "0.5300000000000001"
      ]
     },
     "metadata": {},
     "output_type": "display_data"
    }
   ],
   "source": [
    "# список с квантилями, при которых будет убыток \n",
    "chances = []\n",
    "\n",
    "# цикл для перебора квантилей, при которых разработка осуществляется в убыток\n",
    "for i in np.arange(.005, .051, .0001):\n",
    "    \n",
    "    # проверка на отрицательность разработки \n",
    "    if values_1.quantile(i) < 0:\n",
    "        \n",
    "        # добавление квантиля с отрицательной прибылью в список\n",
    "        chances.append(i)\n",
    "        \n",
    "# определение порогового квантиля \n",
    "display(max(chances) * 100)"
   ]
  },
  {
   "cell_type": "code",
   "execution_count": 22,
   "metadata": {},
   "outputs": [
    {
     "data": {
      "text/plain": [
       "5.090000000000012"
      ]
     },
     "metadata": {},
     "output_type": "display_data"
    }
   ],
   "source": [
    "# список с квантилями, при которых будет убыток \n",
    "chances = []\n",
    "\n",
    "# цикл для перебора квантилей, при которых разработка осуществляется в убыток\n",
    "for i in np.arange(.005, .051, .0001):\n",
    "    \n",
    "    # проверка на отрицательность разработки \n",
    "    if values_2.quantile(i) < 0:\n",
    "        \n",
    "        # добавление квантиля с отрицательной прибылью в список\n",
    "        chances.append(i)\n",
    "        \n",
    "# определение порогового квантиля \n",
    "display(max(chances) * 100)"
   ]
  },
  {
   "cell_type": "markdown",
   "metadata": {},
   "source": [
    "### Выбор региона \n",
    "\n",
    "**Второй регион является наилучшим вариантом для разработки скважин**, так как он показывает наибольшую среднюю прибыль (541 миллион) и имеет наименьшую вероятность убытков, а именно 0.5%."
   ]
  }
 ],
 "metadata": {
  "ExecuteTimeLog": [
   {
    "duration": 439,
    "start_time": "2022-06-10T10:37:17.076Z"
   },
   {
    "duration": 93,
    "start_time": "2022-06-10T10:38:22.437Z"
   },
   {
    "duration": 479,
    "start_time": "2022-06-10T10:38:37.140Z"
   },
   {
    "duration": 1197,
    "start_time": "2022-06-10T10:39:04.972Z"
   },
   {
    "duration": 379,
    "start_time": "2022-06-10T10:39:35.379Z"
   },
   {
    "duration": 357,
    "start_time": "2022-06-10T10:57:31.976Z"
   },
   {
    "duration": 14,
    "start_time": "2022-06-10T11:20:03.950Z"
   },
   {
    "duration": 39,
    "start_time": "2022-06-10T11:20:32.125Z"
   },
   {
    "duration": 1133,
    "start_time": "2022-06-10T11:22:50.333Z"
   },
   {
    "duration": 72,
    "start_time": "2022-06-10T11:27:44.581Z"
   },
   {
    "duration": 27,
    "start_time": "2022-06-10T11:28:31.949Z"
   },
   {
    "duration": 43,
    "start_time": "2022-06-10T11:31:42.345Z"
   },
   {
    "duration": 41,
    "start_time": "2022-06-10T11:32:12.519Z"
   },
   {
    "duration": 24,
    "start_time": "2022-06-10T12:14:27.814Z"
   },
   {
    "duration": 37,
    "start_time": "2022-06-10T12:14:54.485Z"
   },
   {
    "duration": 594,
    "start_time": "2022-06-10T12:17:10.260Z"
   },
   {
    "duration": 10,
    "start_time": "2022-06-10T12:17:42.131Z"
   },
   {
    "duration": 42,
    "start_time": "2022-06-10T12:18:50.766Z"
   },
   {
    "duration": 9,
    "start_time": "2022-06-10T12:18:52.886Z"
   },
   {
    "duration": 3,
    "start_time": "2022-06-10T12:18:55.452Z"
   },
   {
    "duration": 10,
    "start_time": "2022-06-10T12:20:58.922Z"
   },
   {
    "duration": 9,
    "start_time": "2022-06-10T12:21:23.574Z"
   },
   {
    "duration": 3,
    "start_time": "2022-06-10T12:21:53.552Z"
   },
   {
    "duration": 2764,
    "start_time": "2022-06-10T12:22:54.862Z"
   },
   {
    "duration": 466,
    "start_time": "2022-06-10T12:36:41.746Z"
   },
   {
    "duration": 286,
    "start_time": "2022-06-10T12:43:38.708Z"
   },
   {
    "duration": 255,
    "start_time": "2022-06-10T12:44:54.336Z"
   },
   {
    "duration": 2703,
    "start_time": "2022-06-10T12:46:05.632Z"
   },
   {
    "duration": 3122,
    "start_time": "2022-06-10T12:47:06.204Z"
   },
   {
    "duration": 476,
    "start_time": "2022-06-10T13:07:03.926Z"
   },
   {
    "duration": 59,
    "start_time": "2022-06-10T13:07:04.404Z"
   },
   {
    "duration": 279,
    "start_time": "2022-06-10T13:07:04.466Z"
   },
   {
    "duration": 628,
    "start_time": "2022-06-10T13:07:07.830Z"
   },
   {
    "duration": 41,
    "start_time": "2022-06-10T13:07:08.460Z"
   },
   {
    "duration": 310,
    "start_time": "2022-06-10T13:07:08.503Z"
   },
   {
    "duration": 2915,
    "start_time": "2022-06-10T13:07:08.815Z"
   },
   {
    "duration": 2751,
    "start_time": "2022-06-10T13:07:59.881Z"
   },
   {
    "duration": 2689,
    "start_time": "2022-06-10T13:50:19.244Z"
   },
   {
    "duration": 9,
    "start_time": "2022-06-10T13:50:59.126Z"
   },
   {
    "duration": 13,
    "start_time": "2022-06-10T13:51:25.625Z"
   },
   {
    "duration": 16,
    "start_time": "2022-06-10T13:51:35.350Z"
   },
   {
    "duration": 15,
    "start_time": "2022-06-10T13:51:45.881Z"
   },
   {
    "duration": 8,
    "start_time": "2022-06-10T13:51:56.318Z"
   },
   {
    "duration": 208,
    "start_time": "2022-06-10T13:52:25.875Z"
   },
   {
    "duration": 2784,
    "start_time": "2022-06-10T13:52:30.143Z"
   },
   {
    "duration": 17,
    "start_time": "2022-06-10T13:52:32.929Z"
   },
   {
    "duration": 16,
    "start_time": "2022-06-10T13:52:51.219Z"
   },
   {
    "duration": 5,
    "start_time": "2022-06-10T13:55:11.815Z"
   },
   {
    "duration": 10,
    "start_time": "2022-06-10T13:56:48.647Z"
   },
   {
    "duration": 355,
    "start_time": "2022-06-10T13:57:07.897Z"
   },
   {
    "duration": 9,
    "start_time": "2022-06-10T13:57:13.359Z"
   },
   {
    "duration": 5,
    "start_time": "2022-06-10T13:57:14.095Z"
   },
   {
    "duration": 7,
    "start_time": "2022-06-10T13:57:34.433Z"
   },
   {
    "duration": 504,
    "start_time": "2022-06-10T13:59:14.077Z"
   },
   {
    "duration": 64,
    "start_time": "2022-06-10T13:59:14.583Z"
   },
   {
    "duration": 253,
    "start_time": "2022-06-10T13:59:14.650Z"
   },
   {
    "duration": 3028,
    "start_time": "2022-06-10T13:59:14.906Z"
   },
   {
    "duration": 91,
    "start_time": "2022-06-10T13:59:17.936Z"
   },
   {
    "duration": 108,
    "start_time": "2022-06-10T13:59:18.029Z"
   },
   {
    "duration": 9,
    "start_time": "2022-06-10T14:00:36.812Z"
   },
   {
    "duration": 10,
    "start_time": "2022-06-10T14:00:45.509Z"
   },
   {
    "duration": 7,
    "start_time": "2022-06-10T14:01:10.373Z"
   },
   {
    "duration": 2667,
    "start_time": "2022-06-10T14:04:53.859Z"
   },
   {
    "duration": 5766,
    "start_time": "2022-06-10T14:15:01.560Z"
   },
   {
    "duration": 7,
    "start_time": "2022-06-10T14:15:09.828Z"
   },
   {
    "duration": 7,
    "start_time": "2022-06-10T14:15:10.779Z"
   },
   {
    "duration": 2559,
    "start_time": "2022-06-14T08:58:22.779Z"
   },
   {
    "duration": 35,
    "start_time": "2022-06-14T08:58:25.340Z"
   },
   {
    "duration": 225,
    "start_time": "2022-06-14T08:58:25.391Z"
   },
   {
    "duration": 2878,
    "start_time": "2022-06-14T08:58:25.617Z"
   },
   {
    "duration": 5,
    "start_time": "2022-06-14T08:58:28.496Z"
   },
   {
    "duration": 190,
    "start_time": "2022-06-14T08:58:28.502Z"
   },
   {
    "duration": 76,
    "start_time": "2022-06-14T09:12:11.045Z"
   },
   {
    "duration": 57,
    "start_time": "2022-06-14T09:12:26.134Z"
   },
   {
    "duration": 57,
    "start_time": "2022-06-14T09:13:01.220Z"
   },
   {
    "duration": 1566,
    "start_time": "2022-06-14T09:17:44.827Z"
   },
   {
    "duration": 4677,
    "start_time": "2022-06-14T09:18:21.318Z"
   },
   {
    "duration": 82,
    "start_time": "2022-06-14T09:18:43.406Z"
   },
   {
    "duration": 361,
    "start_time": "2022-06-14T09:18:57.464Z"
   },
   {
    "duration": 38,
    "start_time": "2022-06-14T09:18:57.827Z"
   },
   {
    "duration": 79,
    "start_time": "2022-06-14T09:18:57.867Z"
   },
   {
    "duration": 75,
    "start_time": "2022-06-14T09:18:57.948Z"
   },
   {
    "duration": 68,
    "start_time": "2022-06-14T09:18:58.025Z"
   },
   {
    "duration": 5002,
    "start_time": "2022-06-14T09:18:58.094Z"
   },
   {
    "duration": 93,
    "start_time": "2022-06-14T09:19:03.098Z"
   },
   {
    "duration": 102,
    "start_time": "2022-06-14T09:19:03.193Z"
   },
   {
    "duration": 8,
    "start_time": "2022-06-14T09:20:21.254Z"
   },
   {
    "duration": 5,
    "start_time": "2022-06-14T09:21:06.039Z"
   },
   {
    "duration": 6,
    "start_time": "2022-06-14T09:21:28.125Z"
   },
   {
    "duration": 5,
    "start_time": "2022-06-14T09:21:42.034Z"
   },
   {
    "duration": 7,
    "start_time": "2022-06-14T09:36:33.232Z"
   },
   {
    "duration": 3,
    "start_time": "2022-06-14T09:36:36.488Z"
   },
   {
    "duration": 3,
    "start_time": "2022-06-14T09:42:33.480Z"
   },
   {
    "duration": 3,
    "start_time": "2022-06-14T09:43:18.256Z"
   },
   {
    "duration": 3,
    "start_time": "2022-06-14T09:43:26.811Z"
   },
   {
    "duration": 3,
    "start_time": "2022-06-14T10:20:49.831Z"
   },
   {
    "duration": 508,
    "start_time": "2022-06-14T13:18:28.585Z"
   },
   {
    "duration": 270,
    "start_time": "2022-06-14T13:18:52.458Z"
   },
   {
    "duration": 279,
    "start_time": "2022-06-14T13:19:14.822Z"
   },
   {
    "duration": 152,
    "start_time": "2022-06-14T13:19:21.463Z"
   },
   {
    "duration": 157,
    "start_time": "2022-06-14T13:19:49.451Z"
   },
   {
    "duration": 163,
    "start_time": "2022-06-14T13:19:55.900Z"
   },
   {
    "duration": 164,
    "start_time": "2022-06-14T13:20:00.096Z"
   },
   {
    "duration": 153,
    "start_time": "2022-06-14T13:20:09.143Z"
   },
   {
    "duration": 8,
    "start_time": "2022-06-14T13:20:15.846Z"
   },
   {
    "duration": 109,
    "start_time": "2022-06-14T13:20:45.949Z"
   },
   {
    "duration": 101,
    "start_time": "2022-06-14T13:21:02.904Z"
   },
   {
    "duration": 441,
    "start_time": "2022-06-14T13:21:43.102Z"
   },
   {
    "duration": 229,
    "start_time": "2022-06-14T13:22:14.015Z"
   },
   {
    "duration": 152,
    "start_time": "2022-06-14T13:22:16.850Z"
   },
   {
    "duration": 4,
    "start_time": "2022-06-14T13:23:13.009Z"
   },
   {
    "duration": 409,
    "start_time": "2022-06-14T13:26:03.037Z"
   },
   {
    "duration": 106,
    "start_time": "2022-06-14T13:26:41.013Z"
   },
   {
    "duration": 308,
    "start_time": "2022-06-14T13:26:45.751Z"
   },
   {
    "duration": 117,
    "start_time": "2022-06-14T13:27:16.755Z"
   },
   {
    "duration": 115,
    "start_time": "2022-06-14T13:27:24.318Z"
   },
   {
    "duration": 181,
    "start_time": "2022-06-14T13:27:29.806Z"
   },
   {
    "duration": 123,
    "start_time": "2022-06-14T13:28:33.198Z"
   },
   {
    "duration": 124,
    "start_time": "2022-06-14T13:28:42.504Z"
   },
   {
    "duration": 147,
    "start_time": "2022-06-14T13:30:10.059Z"
   },
   {
    "duration": 192,
    "start_time": "2022-06-14T13:30:13.371Z"
   },
   {
    "duration": 167,
    "start_time": "2022-06-14T13:30:28.120Z"
   },
   {
    "duration": 247,
    "start_time": "2022-06-14T13:31:16.112Z"
   },
   {
    "duration": 2,
    "start_time": "2022-06-14T14:00:31.528Z"
   },
   {
    "duration": 2,
    "start_time": "2022-06-14T15:39:11.532Z"
   },
   {
    "duration": 342,
    "start_time": "2022-06-14T15:39:58.310Z"
   },
   {
    "duration": 49,
    "start_time": "2022-06-14T15:39:58.654Z"
   },
   {
    "duration": 63,
    "start_time": "2022-06-14T15:39:58.704Z"
   },
   {
    "duration": 80,
    "start_time": "2022-06-14T15:39:58.769Z"
   },
   {
    "duration": 71,
    "start_time": "2022-06-14T15:39:58.850Z"
   },
   {
    "duration": 4673,
    "start_time": "2022-06-14T15:39:58.922Z"
   },
   {
    "duration": 100,
    "start_time": "2022-06-14T15:40:03.596Z"
   },
   {
    "duration": 198,
    "start_time": "2022-06-14T15:40:03.698Z"
   },
   {
    "duration": 9,
    "start_time": "2022-06-14T15:40:03.897Z"
   },
   {
    "duration": 20,
    "start_time": "2022-06-14T15:40:03.908Z"
   },
   {
    "duration": 12,
    "start_time": "2022-06-14T15:40:03.930Z"
   },
   {
    "duration": 17,
    "start_time": "2022-06-14T15:40:03.943Z"
   },
   {
    "duration": 275,
    "start_time": "2022-06-14T15:40:03.961Z"
   },
   {
    "duration": 3,
    "start_time": "2022-06-14T15:40:04.237Z"
   },
   {
    "duration": 3,
    "start_time": "2022-06-14T15:43:41.822Z"
   },
   {
    "duration": 325,
    "start_time": "2022-06-14T15:44:47.694Z"
   },
   {
    "duration": 2,
    "start_time": "2022-06-14T15:46:38.570Z"
   },
   {
    "duration": 11,
    "start_time": "2022-06-14T15:55:01.009Z"
   },
   {
    "duration": 17,
    "start_time": "2022-06-14T15:55:33.093Z"
   },
   {
    "duration": 16,
    "start_time": "2022-06-14T15:57:06.786Z"
   },
   {
    "duration": 15,
    "start_time": "2022-06-14T15:58:47.630Z"
   },
   {
    "duration": 11,
    "start_time": "2022-06-14T15:59:45.973Z"
   },
   {
    "duration": 19,
    "start_time": "2022-06-14T16:01:21.573Z"
   },
   {
    "duration": 13,
    "start_time": "2022-06-14T16:01:40.479Z"
   },
   {
    "duration": 10,
    "start_time": "2022-06-14T16:01:48.363Z"
   },
   {
    "duration": 16,
    "start_time": "2022-06-14T16:01:57.014Z"
   },
   {
    "duration": 6,
    "start_time": "2022-06-14T16:02:06.408Z"
   },
   {
    "duration": 6,
    "start_time": "2022-06-14T16:03:43.911Z"
   },
   {
    "duration": 5,
    "start_time": "2022-06-14T16:03:53.451Z"
   },
   {
    "duration": 13,
    "start_time": "2022-06-14T16:05:45.270Z"
   },
   {
    "duration": 440,
    "start_time": "2022-06-14T16:05:56.886Z"
   },
   {
    "duration": 32,
    "start_time": "2022-06-14T16:05:57.328Z"
   },
   {
    "duration": 86,
    "start_time": "2022-06-14T16:05:57.361Z"
   },
   {
    "duration": 83,
    "start_time": "2022-06-14T16:05:57.449Z"
   },
   {
    "duration": 77,
    "start_time": "2022-06-14T16:05:57.534Z"
   },
   {
    "duration": 5093,
    "start_time": "2022-06-14T16:05:57.614Z"
   },
   {
    "duration": 198,
    "start_time": "2022-06-14T16:06:02.709Z"
   },
   {
    "duration": 20,
    "start_time": "2022-06-14T16:06:02.990Z"
   },
   {
    "duration": 14,
    "start_time": "2022-06-14T16:06:03.012Z"
   },
   {
    "duration": 6,
    "start_time": "2022-06-14T16:06:03.028Z"
   },
   {
    "duration": 3,
    "start_time": "2022-06-14T16:06:03.035Z"
   },
   {
    "duration": 5,
    "start_time": "2022-06-14T16:06:03.039Z"
   },
   {
    "duration": 300,
    "start_time": "2022-06-14T16:06:03.046Z"
   },
   {
    "duration": 3,
    "start_time": "2022-06-14T16:06:03.347Z"
   },
   {
    "duration": 25,
    "start_time": "2022-06-14T16:06:03.351Z"
   },
   {
    "duration": 112,
    "start_time": "2022-06-14T16:07:30.992Z"
   },
   {
    "duration": 70,
    "start_time": "2022-06-14T16:08:29.041Z"
   },
   {
    "duration": 389,
    "start_time": "2022-06-14T16:08:45.597Z"
   },
   {
    "duration": 44,
    "start_time": "2022-06-14T16:08:45.990Z"
   },
   {
    "duration": 24,
    "start_time": "2022-06-14T16:08:46.035Z"
   },
   {
    "duration": 100,
    "start_time": "2022-06-14T16:08:46.061Z"
   },
   {
    "duration": 170,
    "start_time": "2022-06-14T16:08:46.164Z"
   },
   {
    "duration": 4962,
    "start_time": "2022-06-14T16:08:46.335Z"
   },
   {
    "duration": 111,
    "start_time": "2022-06-14T16:08:51.300Z"
   },
   {
    "duration": 104,
    "start_time": "2022-06-14T16:08:51.492Z"
   },
   {
    "duration": 10,
    "start_time": "2022-06-14T16:08:51.598Z"
   },
   {
    "duration": 12,
    "start_time": "2022-06-14T16:08:51.610Z"
   },
   {
    "duration": 5,
    "start_time": "2022-06-14T16:08:51.623Z"
   },
   {
    "duration": 6,
    "start_time": "2022-06-14T16:08:51.630Z"
   },
   {
    "duration": 317,
    "start_time": "2022-06-14T16:08:51.637Z"
   },
   {
    "duration": 3,
    "start_time": "2022-06-14T16:08:51.956Z"
   },
   {
    "duration": 9,
    "start_time": "2022-06-14T16:08:51.961Z"
   },
   {
    "duration": 2025,
    "start_time": "2022-06-15T08:49:15.348Z"
   },
   {
    "duration": 60,
    "start_time": "2022-06-15T08:49:17.376Z"
   },
   {
    "duration": 91,
    "start_time": "2022-06-15T08:49:17.438Z"
   },
   {
    "duration": 80,
    "start_time": "2022-06-15T08:49:17.532Z"
   },
   {
    "duration": 89,
    "start_time": "2022-06-15T08:49:17.615Z"
   },
   {
    "duration": 7819,
    "start_time": "2022-06-15T08:49:17.706Z"
   },
   {
    "duration": 101,
    "start_time": "2022-06-15T08:49:25.527Z"
   },
   {
    "duration": 108,
    "start_time": "2022-06-15T08:49:25.630Z"
   },
   {
    "duration": 14,
    "start_time": "2022-06-15T08:49:25.740Z"
   },
   {
    "duration": 8,
    "start_time": "2022-06-15T08:49:25.756Z"
   },
   {
    "duration": 6,
    "start_time": "2022-06-15T08:49:25.766Z"
   },
   {
    "duration": 6,
    "start_time": "2022-06-15T08:49:25.775Z"
   },
   {
    "duration": 746,
    "start_time": "2022-06-15T08:49:25.782Z"
   },
   {
    "duration": 3,
    "start_time": "2022-06-15T08:49:26.532Z"
   },
   {
    "duration": 12,
    "start_time": "2022-06-15T08:49:26.536Z"
   },
   {
    "duration": 179,
    "start_time": "2022-06-15T08:50:01.880Z"
   },
   {
    "duration": 5,
    "start_time": "2022-06-15T08:50:25.389Z"
   },
   {
    "duration": 12,
    "start_time": "2022-06-15T08:50:38.060Z"
   },
   {
    "duration": 8,
    "start_time": "2022-06-15T08:50:45.724Z"
   },
   {
    "duration": 12,
    "start_time": "2022-06-15T08:51:23.943Z"
   },
   {
    "duration": 929,
    "start_time": "2022-06-15T08:52:06.937Z"
   },
   {
    "duration": 1145,
    "start_time": "2022-06-15T08:52:14.376Z"
   },
   {
    "duration": 1187,
    "start_time": "2022-06-15T08:52:42.712Z"
   },
   {
    "duration": 11,
    "start_time": "2022-06-15T08:54:01.548Z"
   },
   {
    "duration": 1115,
    "start_time": "2022-06-15T08:56:12.396Z"
   },
   {
    "duration": 1186,
    "start_time": "2022-06-15T08:56:25.295Z"
   },
   {
    "duration": 1143,
    "start_time": "2022-06-15T08:57:00.320Z"
   },
   {
    "duration": 1115,
    "start_time": "2022-06-15T08:57:16.595Z"
   },
   {
    "duration": 1166,
    "start_time": "2022-06-15T08:57:22.063Z"
   },
   {
    "duration": 1099,
    "start_time": "2022-06-15T08:57:27.330Z"
   },
   {
    "duration": 1114,
    "start_time": "2022-06-15T08:57:44.700Z"
   },
   {
    "duration": 1159,
    "start_time": "2022-06-15T08:57:53.221Z"
   },
   {
    "duration": 1129,
    "start_time": "2022-06-15T08:58:09.034Z"
   },
   {
    "duration": 4253,
    "start_time": "2022-06-15T09:01:02.129Z"
   },
   {
    "duration": 5397,
    "start_time": "2022-06-15T09:01:09.917Z"
   },
   {
    "duration": 4158,
    "start_time": "2022-06-15T09:01:59.260Z"
   },
   {
    "duration": 1186,
    "start_time": "2022-06-15T09:02:21.557Z"
   },
   {
    "duration": 1201,
    "start_time": "2022-06-15T09:02:34.992Z"
   },
   {
    "duration": 1324,
    "start_time": "2022-06-15T09:04:33.907Z"
   },
   {
    "duration": 1238,
    "start_time": "2022-06-15T09:04:35.233Z"
   },
   {
    "duration": 14,
    "start_time": "2022-06-15T09:28:56.262Z"
   },
   {
    "duration": 12,
    "start_time": "2022-06-15T09:29:03.349Z"
   },
   {
    "duration": 10,
    "start_time": "2022-06-15T09:29:26.856Z"
   },
   {
    "duration": 7,
    "start_time": "2022-06-15T09:29:41.813Z"
   },
   {
    "duration": 12,
    "start_time": "2022-06-15T09:29:54.026Z"
   },
   {
    "duration": 8,
    "start_time": "2022-06-15T09:30:54.501Z"
   },
   {
    "duration": 6,
    "start_time": "2022-06-15T09:31:11.001Z"
   },
   {
    "duration": 539,
    "start_time": "2022-06-15T09:32:30.703Z"
   },
   {
    "duration": 59,
    "start_time": "2022-06-15T09:32:31.245Z"
   },
   {
    "duration": 144,
    "start_time": "2022-06-15T09:32:31.306Z"
   },
   {
    "duration": 104,
    "start_time": "2022-06-15T09:32:31.451Z"
   },
   {
    "duration": 104,
    "start_time": "2022-06-15T09:32:31.557Z"
   },
   {
    "duration": 5272,
    "start_time": "2022-06-15T09:32:31.663Z"
   },
   {
    "duration": 121,
    "start_time": "2022-06-15T09:32:36.937Z"
   },
   {
    "duration": 190,
    "start_time": "2022-06-15T09:32:37.062Z"
   },
   {
    "duration": 7,
    "start_time": "2022-06-15T09:32:37.254Z"
   },
   {
    "duration": 8,
    "start_time": "2022-06-15T09:32:37.263Z"
   },
   {
    "duration": 5,
    "start_time": "2022-06-15T09:32:37.273Z"
   },
   {
    "duration": 10,
    "start_time": "2022-06-15T09:32:37.280Z"
   },
   {
    "duration": 378,
    "start_time": "2022-06-15T09:32:37.292Z"
   },
   {
    "duration": 6,
    "start_time": "2022-06-15T09:32:37.673Z"
   },
   {
    "duration": 1396,
    "start_time": "2022-06-15T09:32:37.681Z"
   },
   {
    "duration": 1295,
    "start_time": "2022-06-15T09:32:39.079Z"
   },
   {
    "duration": 1335,
    "start_time": "2022-06-15T09:32:40.376Z"
   },
   {
    "duration": 4843,
    "start_time": "2022-06-15T09:34:34.958Z"
   },
   {
    "duration": 1327,
    "start_time": "2022-06-15T09:41:41.410Z"
   },
   {
    "duration": 1046,
    "start_time": "2022-06-15T11:37:05.852Z"
   },
   {
    "duration": 73,
    "start_time": "2022-06-15T11:37:06.901Z"
   },
   {
    "duration": 107,
    "start_time": "2022-06-15T11:37:06.977Z"
   },
   {
    "duration": 100,
    "start_time": "2022-06-15T11:37:07.086Z"
   },
   {
    "duration": 95,
    "start_time": "2022-06-15T11:37:07.188Z"
   },
   {
    "duration": 5259,
    "start_time": "2022-06-15T11:37:07.285Z"
   },
   {
    "duration": 191,
    "start_time": "2022-06-15T11:37:12.547Z"
   },
   {
    "duration": 96,
    "start_time": "2022-06-15T11:37:12.745Z"
   },
   {
    "duration": 7,
    "start_time": "2022-06-15T11:37:12.843Z"
   },
   {
    "duration": 9,
    "start_time": "2022-06-15T11:37:12.852Z"
   },
   {
    "duration": 16,
    "start_time": "2022-06-15T11:37:12.863Z"
   },
   {
    "duration": 9,
    "start_time": "2022-06-15T11:37:12.880Z"
   },
   {
    "duration": 353,
    "start_time": "2022-06-15T11:37:12.890Z"
   },
   {
    "duration": 9,
    "start_time": "2022-06-15T11:37:13.246Z"
   },
   {
    "duration": 1418,
    "start_time": "2022-06-15T11:37:13.257Z"
   },
   {
    "duration": 1329,
    "start_time": "2022-06-15T11:37:14.677Z"
   },
   {
    "duration": 1399,
    "start_time": "2022-06-15T11:37:16.009Z"
   },
   {
    "duration": 9,
    "start_time": "2022-06-15T11:38:56.242Z"
   },
   {
    "duration": 1360,
    "start_time": "2022-06-15T11:39:12.739Z"
   },
   {
    "duration": 58,
    "start_time": "2022-06-15T11:39:14.102Z"
   },
   {
    "duration": 92,
    "start_time": "2022-06-15T11:39:14.162Z"
   },
   {
    "duration": 99,
    "start_time": "2022-06-15T11:39:14.256Z"
   },
   {
    "duration": 113,
    "start_time": "2022-06-15T11:39:14.358Z"
   },
   {
    "duration": 4767,
    "start_time": "2022-06-15T11:39:14.473Z"
   },
   {
    "duration": 187,
    "start_time": "2022-06-15T11:39:19.243Z"
   },
   {
    "duration": 113,
    "start_time": "2022-06-15T11:39:19.433Z"
   },
   {
    "duration": 8,
    "start_time": "2022-06-15T11:39:19.547Z"
   },
   {
    "duration": 10,
    "start_time": "2022-06-15T11:39:19.557Z"
   },
   {
    "duration": 11,
    "start_time": "2022-06-15T11:39:19.569Z"
   },
   {
    "duration": 5,
    "start_time": "2022-06-15T11:39:19.582Z"
   },
   {
    "duration": 400,
    "start_time": "2022-06-15T11:39:19.589Z"
   },
   {
    "duration": 7,
    "start_time": "2022-06-15T11:39:19.993Z"
   },
   {
    "duration": 1304,
    "start_time": "2022-06-15T11:39:20.001Z"
   },
   {
    "duration": 1291,
    "start_time": "2022-06-15T11:39:21.306Z"
   },
   {
    "duration": 1312,
    "start_time": "2022-06-15T11:39:22.598Z"
   },
   {
    "duration": 26,
    "start_time": "2022-06-15T11:39:23.912Z"
   },
   {
    "duration": 1275,
    "start_time": "2022-06-15T11:44:05.809Z"
   },
   {
    "duration": 1404,
    "start_time": "2022-06-15T11:44:31.098Z"
   },
   {
    "duration": 1442,
    "start_time": "2022-06-15T11:44:52.474Z"
   },
   {
    "duration": 948,
    "start_time": "2022-06-15T11:44:59.351Z"
   },
   {
    "duration": 67,
    "start_time": "2022-06-15T11:45:00.302Z"
   },
   {
    "duration": 112,
    "start_time": "2022-06-15T11:45:00.371Z"
   },
   {
    "duration": 100,
    "start_time": "2022-06-15T11:45:00.487Z"
   },
   {
    "duration": 250,
    "start_time": "2022-06-15T11:45:00.590Z"
   },
   {
    "duration": 5304,
    "start_time": "2022-06-15T11:45:00.843Z"
   },
   {
    "duration": 196,
    "start_time": "2022-06-15T11:45:06.154Z"
   },
   {
    "duration": 80,
    "start_time": "2022-06-15T11:45:06.353Z"
   },
   {
    "duration": 19,
    "start_time": "2022-06-15T11:45:06.436Z"
   },
   {
    "duration": 8,
    "start_time": "2022-06-15T11:45:06.458Z"
   },
   {
    "duration": 6,
    "start_time": "2022-06-15T11:45:06.468Z"
   },
   {
    "duration": 8,
    "start_time": "2022-06-15T11:45:06.476Z"
   },
   {
    "duration": 440,
    "start_time": "2022-06-15T11:45:06.486Z"
   },
   {
    "duration": 14,
    "start_time": "2022-06-15T11:45:06.928Z"
   },
   {
    "duration": 1569,
    "start_time": "2022-06-15T11:45:06.945Z"
   },
   {
    "duration": 1422,
    "start_time": "2022-06-15T11:45:08.516Z"
   },
   {
    "duration": 1313,
    "start_time": "2022-06-15T11:45:09.940Z"
   },
   {
    "duration": 6,
    "start_time": "2022-06-15T11:45:11.255Z"
   },
   {
    "duration": 451,
    "start_time": "2022-06-15T11:46:10.336Z"
   },
   {
    "duration": 12,
    "start_time": "2022-06-15T11:48:49.475Z"
   },
   {
    "duration": 6,
    "start_time": "2022-06-15T11:49:03.521Z"
   },
   {
    "duration": 8,
    "start_time": "2022-06-15T11:49:38.076Z"
   },
   {
    "duration": 8,
    "start_time": "2022-06-15T11:49:44.630Z"
   },
   {
    "duration": 446,
    "start_time": "2022-06-15T11:50:00.324Z"
   },
   {
    "duration": 62,
    "start_time": "2022-06-15T11:50:00.772Z"
   },
   {
    "duration": 96,
    "start_time": "2022-06-15T11:50:00.836Z"
   },
   {
    "duration": 93,
    "start_time": "2022-06-15T11:50:00.934Z"
   },
   {
    "duration": 105,
    "start_time": "2022-06-15T11:50:01.030Z"
   },
   {
    "duration": 6392,
    "start_time": "2022-06-15T11:50:01.137Z"
   },
   {
    "duration": 100,
    "start_time": "2022-06-15T11:50:07.531Z"
   },
   {
    "duration": 95,
    "start_time": "2022-06-15T11:50:07.633Z"
   },
   {
    "duration": 16,
    "start_time": "2022-06-15T11:50:07.730Z"
   },
   {
    "duration": 18,
    "start_time": "2022-06-15T11:50:07.749Z"
   },
   {
    "duration": 8,
    "start_time": "2022-06-15T11:50:07.769Z"
   },
   {
    "duration": 20,
    "start_time": "2022-06-15T11:50:07.779Z"
   },
   {
    "duration": 351,
    "start_time": "2022-06-15T11:50:07.801Z"
   },
   {
    "duration": 5,
    "start_time": "2022-06-15T11:50:08.156Z"
   },
   {
    "duration": 1263,
    "start_time": "2022-06-15T11:50:08.163Z"
   },
   {
    "duration": 1533,
    "start_time": "2022-06-15T11:50:09.428Z"
   },
   {
    "duration": 1350,
    "start_time": "2022-06-15T11:50:10.963Z"
   },
   {
    "duration": 17,
    "start_time": "2022-06-15T11:50:12.316Z"
   },
   {
    "duration": 15,
    "start_time": "2022-06-15T11:50:12.336Z"
   },
   {
    "duration": 7,
    "start_time": "2022-06-15T11:51:47.700Z"
   },
   {
    "duration": 10,
    "start_time": "2022-06-15T11:51:48.316Z"
   },
   {
    "duration": 7,
    "start_time": "2022-06-15T11:51:50.457Z"
   },
   {
    "duration": 500,
    "start_time": "2022-06-15T11:54:02.526Z"
   },
   {
    "duration": 63,
    "start_time": "2022-06-15T11:54:03.028Z"
   },
   {
    "duration": 105,
    "start_time": "2022-06-15T11:54:03.093Z"
   },
   {
    "duration": 109,
    "start_time": "2022-06-15T11:54:03.200Z"
   },
   {
    "duration": 84,
    "start_time": "2022-06-15T11:54:03.312Z"
   },
   {
    "duration": 5833,
    "start_time": "2022-06-15T11:54:03.397Z"
   },
   {
    "duration": 194,
    "start_time": "2022-06-15T11:54:09.232Z"
   },
   {
    "duration": 103,
    "start_time": "2022-06-15T11:54:09.433Z"
   },
   {
    "duration": 16,
    "start_time": "2022-06-15T11:54:09.538Z"
   },
   {
    "duration": 9,
    "start_time": "2022-06-15T11:54:09.556Z"
   },
   {
    "duration": 8,
    "start_time": "2022-06-15T11:54:09.566Z"
   },
   {
    "duration": 7,
    "start_time": "2022-06-15T11:54:09.575Z"
   },
   {
    "duration": 327,
    "start_time": "2022-06-15T11:54:09.584Z"
   },
   {
    "duration": 12,
    "start_time": "2022-06-15T11:54:09.914Z"
   },
   {
    "duration": 1213,
    "start_time": "2022-06-15T11:54:09.928Z"
   },
   {
    "duration": 1278,
    "start_time": "2022-06-15T11:54:11.143Z"
   },
   {
    "duration": 1237,
    "start_time": "2022-06-15T11:54:12.426Z"
   },
   {
    "duration": 7,
    "start_time": "2022-06-15T11:54:13.664Z"
   },
   {
    "duration": 12,
    "start_time": "2022-06-15T11:54:13.672Z"
   },
   {
    "duration": 8,
    "start_time": "2022-06-15T11:54:13.685Z"
   },
   {
    "duration": 13,
    "start_time": "2022-06-15T11:54:13.695Z"
   },
   {
    "duration": 16,
    "start_time": "2022-06-15T11:55:54.510Z"
   },
   {
    "duration": 12,
    "start_time": "2022-06-15T11:59:34.901Z"
   },
   {
    "duration": 14,
    "start_time": "2022-06-15T11:59:40.819Z"
   },
   {
    "duration": 9,
    "start_time": "2022-06-15T11:59:56.139Z"
   },
   {
    "duration": 568,
    "start_time": "2022-06-15T12:07:51.361Z"
   },
   {
    "duration": 65,
    "start_time": "2022-06-15T12:07:51.932Z"
   },
   {
    "duration": 53,
    "start_time": "2022-06-15T12:07:51.999Z"
   },
   {
    "duration": 46,
    "start_time": "2022-06-15T12:07:52.054Z"
   },
   {
    "duration": 58,
    "start_time": "2022-06-15T12:07:52.104Z"
   },
   {
    "duration": 4674,
    "start_time": "2022-06-15T12:07:52.164Z"
   },
   {
    "duration": 97,
    "start_time": "2022-06-15T12:07:56.848Z"
   },
   {
    "duration": 202,
    "start_time": "2022-06-15T12:07:56.952Z"
   },
   {
    "duration": 13,
    "start_time": "2022-06-15T12:07:57.155Z"
   },
   {
    "duration": 24,
    "start_time": "2022-06-15T12:07:57.171Z"
   },
   {
    "duration": 16,
    "start_time": "2022-06-15T12:07:57.197Z"
   },
   {
    "duration": 8,
    "start_time": "2022-06-15T12:07:57.215Z"
   },
   {
    "duration": 393,
    "start_time": "2022-06-15T12:07:57.226Z"
   },
   {
    "duration": 7,
    "start_time": "2022-06-15T12:07:57.622Z"
   },
   {
    "duration": 1420,
    "start_time": "2022-06-15T12:07:57.630Z"
   },
   {
    "duration": 1431,
    "start_time": "2022-06-15T12:07:59.052Z"
   },
   {
    "duration": 1360,
    "start_time": "2022-06-15T12:08:00.486Z"
   },
   {
    "duration": 9,
    "start_time": "2022-06-15T12:08:01.848Z"
   },
   {
    "duration": 160,
    "start_time": "2022-06-15T12:08:01.860Z"
   },
   {
    "duration": 160,
    "start_time": "2022-06-15T12:08:02.022Z"
   },
   {
    "duration": 25,
    "start_time": "2022-06-15T12:08:02.184Z"
   },
   {
    "duration": 4058,
    "start_time": "2022-06-15T12:16:35.889Z"
   },
   {
    "duration": 1545,
    "start_time": "2022-06-15T12:16:55.403Z"
   },
   {
    "duration": 426,
    "start_time": "2022-06-15T12:17:46.524Z"
   },
   {
    "duration": 41,
    "start_time": "2022-06-15T12:17:46.952Z"
   },
   {
    "duration": 46,
    "start_time": "2022-06-15T12:17:46.995Z"
   },
   {
    "duration": 25,
    "start_time": "2022-06-15T12:17:47.043Z"
   },
   {
    "duration": 28,
    "start_time": "2022-06-15T12:17:47.070Z"
   },
   {
    "duration": 6730,
    "start_time": "2022-06-15T12:17:47.099Z"
   },
   {
    "duration": 12,
    "start_time": "2022-06-15T12:17:53.831Z"
   },
   {
    "duration": 184,
    "start_time": "2022-06-15T12:17:53.845Z"
   },
   {
    "duration": 6,
    "start_time": "2022-06-15T12:17:54.030Z"
   },
   {
    "duration": 7,
    "start_time": "2022-06-15T12:17:54.038Z"
   },
   {
    "duration": 10,
    "start_time": "2022-06-15T12:17:54.046Z"
   },
   {
    "duration": 12,
    "start_time": "2022-06-15T12:17:54.057Z"
   },
   {
    "duration": 346,
    "start_time": "2022-06-15T12:17:54.070Z"
   },
   {
    "duration": 7,
    "start_time": "2022-06-15T12:17:54.419Z"
   },
   {
    "duration": 1738,
    "start_time": "2022-06-15T12:17:54.428Z"
   },
   {
    "duration": 1584,
    "start_time": "2022-06-15T12:17:56.168Z"
   },
   {
    "duration": 1567,
    "start_time": "2022-06-15T12:17:57.754Z"
   },
   {
    "duration": 6,
    "start_time": "2022-06-15T12:17:59.325Z"
   },
   {
    "duration": 9,
    "start_time": "2022-06-15T12:17:59.332Z"
   },
   {
    "duration": 8,
    "start_time": "2022-06-15T12:17:59.342Z"
   },
   {
    "duration": 16,
    "start_time": "2022-06-15T12:17:59.352Z"
   },
   {
    "duration": 10,
    "start_time": "2022-06-15T12:22:10.810Z"
   },
   {
    "duration": 8,
    "start_time": "2022-06-15T12:22:12.109Z"
   },
   {
    "duration": 12,
    "start_time": "2022-06-15T12:22:14.626Z"
   },
   {
    "duration": 11,
    "start_time": "2022-06-15T12:32:47.694Z"
   },
   {
    "duration": 14,
    "start_time": "2022-06-15T12:33:57.879Z"
   },
   {
    "duration": 11,
    "start_time": "2022-06-15T12:34:02.843Z"
   },
   {
    "duration": 12,
    "start_time": "2022-06-15T12:34:13.289Z"
   },
   {
    "duration": 15,
    "start_time": "2022-06-15T12:34:18.742Z"
   },
   {
    "duration": 17,
    "start_time": "2022-06-15T12:34:21.739Z"
   },
   {
    "duration": 12,
    "start_time": "2022-06-15T12:34:25.551Z"
   },
   {
    "duration": 29,
    "start_time": "2022-06-15T12:35:04.376Z"
   },
   {
    "duration": 21,
    "start_time": "2022-06-15T12:38:51.113Z"
   },
   {
    "duration": 29,
    "start_time": "2022-06-15T12:39:14.286Z"
   },
   {
    "duration": 12,
    "start_time": "2022-06-15T12:40:37.394Z"
   },
   {
    "duration": 17,
    "start_time": "2022-06-15T12:41:02.156Z"
   },
   {
    "duration": 16,
    "start_time": "2022-06-15T12:41:07.933Z"
   },
   {
    "duration": 14,
    "start_time": "2022-06-15T12:41:10.913Z"
   },
   {
    "duration": 18,
    "start_time": "2022-06-15T12:41:15.107Z"
   },
   {
    "duration": 17,
    "start_time": "2022-06-15T12:41:18.903Z"
   },
   {
    "duration": 14,
    "start_time": "2022-06-15T12:41:23.370Z"
   },
   {
    "duration": 18,
    "start_time": "2022-06-15T12:41:26.729Z"
   },
   {
    "duration": 15,
    "start_time": "2022-06-15T12:41:30.145Z"
   },
   {
    "duration": 14,
    "start_time": "2022-06-15T12:41:32.747Z"
   },
   {
    "duration": 100,
    "start_time": "2022-06-15T12:41:42.592Z"
   },
   {
    "duration": 114,
    "start_time": "2022-06-15T12:44:42.645Z"
   },
   {
    "duration": 109,
    "start_time": "2022-06-15T12:44:43.381Z"
   },
   {
    "duration": 138,
    "start_time": "2022-06-15T12:44:57.110Z"
   },
   {
    "duration": 112,
    "start_time": "2022-06-15T12:45:07.610Z"
   },
   {
    "duration": 129,
    "start_time": "2022-06-15T12:45:09.086Z"
   },
   {
    "duration": 109,
    "start_time": "2022-06-15T12:45:10.016Z"
   },
   {
    "duration": 109,
    "start_time": "2022-06-15T12:45:10.601Z"
   },
   {
    "duration": 203,
    "start_time": "2022-06-15T12:45:19.286Z"
   },
   {
    "duration": 202,
    "start_time": "2022-06-15T12:45:19.973Z"
   },
   {
    "duration": 216,
    "start_time": "2022-06-15T12:45:20.417Z"
   },
   {
    "duration": 524,
    "start_time": "2022-06-15T12:51:18.651Z"
   },
   {
    "duration": 73,
    "start_time": "2022-06-15T12:51:19.178Z"
   },
   {
    "duration": 28,
    "start_time": "2022-06-15T12:51:19.252Z"
   },
   {
    "duration": 51,
    "start_time": "2022-06-15T12:51:19.282Z"
   },
   {
    "duration": 30,
    "start_time": "2022-06-15T12:51:19.341Z"
   },
   {
    "duration": 5062,
    "start_time": "2022-06-15T12:51:19.373Z"
   },
   {
    "duration": 87,
    "start_time": "2022-06-15T12:51:24.439Z"
   },
   {
    "duration": 108,
    "start_time": "2022-06-15T12:51:24.530Z"
   },
   {
    "duration": 18,
    "start_time": "2022-06-15T12:51:24.640Z"
   },
   {
    "duration": 13,
    "start_time": "2022-06-15T12:51:24.660Z"
   },
   {
    "duration": 9,
    "start_time": "2022-06-15T12:51:24.675Z"
   },
   {
    "duration": 18,
    "start_time": "2022-06-15T12:51:24.686Z"
   },
   {
    "duration": 442,
    "start_time": "2022-06-15T12:51:24.706Z"
   },
   {
    "duration": 3,
    "start_time": "2022-06-15T12:51:25.151Z"
   },
   {
    "duration": 1698,
    "start_time": "2022-06-15T12:51:25.156Z"
   },
   {
    "duration": 1896,
    "start_time": "2022-06-15T12:51:26.856Z"
   },
   {
    "duration": 1878,
    "start_time": "2022-06-15T12:51:28.760Z"
   },
   {
    "duration": 10,
    "start_time": "2022-06-15T12:51:30.646Z"
   },
   {
    "duration": 17,
    "start_time": "2022-06-15T12:51:30.659Z"
   },
   {
    "duration": 42,
    "start_time": "2022-06-15T12:51:30.678Z"
   },
   {
    "duration": 50,
    "start_time": "2022-06-15T12:51:30.721Z"
   },
   {
    "duration": 240,
    "start_time": "2022-06-15T12:51:30.773Z"
   },
   {
    "duration": 237,
    "start_time": "2022-06-15T12:51:31.015Z"
   },
   {
    "duration": 238,
    "start_time": "2022-06-15T12:51:31.254Z"
   },
   {
    "duration": 853,
    "start_time": "2022-06-15T17:50:35.453Z"
   },
   {
    "duration": 72,
    "start_time": "2022-06-15T17:50:36.309Z"
   },
   {
    "duration": 27,
    "start_time": "2022-06-15T17:50:36.383Z"
   },
   {
    "duration": 36,
    "start_time": "2022-06-15T17:50:36.412Z"
   },
   {
    "duration": 28,
    "start_time": "2022-06-15T17:50:36.450Z"
   },
   {
    "duration": 5743,
    "start_time": "2022-06-15T17:50:36.482Z"
   },
   {
    "duration": 30,
    "start_time": "2022-06-15T17:50:42.229Z"
   },
   {
    "duration": 125,
    "start_time": "2022-06-15T17:50:42.327Z"
   },
   {
    "duration": 22,
    "start_time": "2022-06-15T17:50:42.454Z"
   },
   {
    "duration": 19,
    "start_time": "2022-06-15T17:50:42.478Z"
   },
   {
    "duration": 50,
    "start_time": "2022-06-15T17:50:42.499Z"
   },
   {
    "duration": 45,
    "start_time": "2022-06-15T17:50:42.551Z"
   },
   {
    "duration": 456,
    "start_time": "2022-06-15T17:50:42.599Z"
   },
   {
    "duration": 5,
    "start_time": "2022-06-15T17:50:43.058Z"
   },
   {
    "duration": 1729,
    "start_time": "2022-06-15T17:50:43.065Z"
   },
   {
    "duration": 1532,
    "start_time": "2022-06-15T17:50:44.796Z"
   },
   {
    "duration": 1582,
    "start_time": "2022-06-15T17:50:46.330Z"
   },
   {
    "duration": 16,
    "start_time": "2022-06-15T17:50:47.913Z"
   },
   {
    "duration": 6,
    "start_time": "2022-06-15T17:50:47.930Z"
   },
   {
    "duration": 11,
    "start_time": "2022-06-15T17:50:47.938Z"
   },
   {
    "duration": 13,
    "start_time": "2022-06-15T17:50:47.950Z"
   },
   {
    "duration": 229,
    "start_time": "2022-06-15T17:50:47.965Z"
   },
   {
    "duration": 247,
    "start_time": "2022-06-15T17:50:48.197Z"
   },
   {
    "duration": 186,
    "start_time": "2022-06-15T17:50:48.445Z"
   },
   {
    "duration": 437,
    "start_time": "2022-06-15T18:06:49.200Z"
   },
   {
    "duration": 21,
    "start_time": "2022-06-15T18:06:49.640Z"
   },
   {
    "duration": 26,
    "start_time": "2022-06-15T18:06:49.663Z"
   },
   {
    "duration": 42,
    "start_time": "2022-06-15T18:06:49.691Z"
   },
   {
    "duration": 6297,
    "start_time": "2022-06-15T18:06:49.735Z"
   },
   {
    "duration": 193,
    "start_time": "2022-06-15T18:06:56.034Z"
   },
   {
    "duration": 100,
    "start_time": "2022-06-15T18:06:56.229Z"
   },
   {
    "duration": 7,
    "start_time": "2022-06-15T18:06:56.330Z"
   },
   {
    "duration": 11,
    "start_time": "2022-06-15T18:06:56.338Z"
   },
   {
    "duration": 3,
    "start_time": "2022-06-15T18:06:56.351Z"
   },
   {
    "duration": 8,
    "start_time": "2022-06-15T18:06:56.356Z"
   },
   {
    "duration": 329,
    "start_time": "2022-06-15T18:06:56.365Z"
   },
   {
    "duration": 4,
    "start_time": "2022-06-15T18:06:56.695Z"
   },
   {
    "duration": 1499,
    "start_time": "2022-06-15T18:06:56.700Z"
   },
   {
    "duration": 1462,
    "start_time": "2022-06-15T18:06:58.202Z"
   },
   {
    "duration": 1647,
    "start_time": "2022-06-15T18:06:59.665Z"
   },
   {
    "duration": 15,
    "start_time": "2022-06-15T18:07:01.313Z"
   },
   {
    "duration": 68,
    "start_time": "2022-06-15T18:07:01.330Z"
   },
   {
    "duration": 61,
    "start_time": "2022-06-15T18:07:01.400Z"
   },
   {
    "duration": 45,
    "start_time": "2022-06-15T18:07:01.463Z"
   },
   {
    "duration": 199,
    "start_time": "2022-06-15T18:07:01.510Z"
   },
   {
    "duration": 201,
    "start_time": "2022-06-15T18:07:01.711Z"
   },
   {
    "duration": 231,
    "start_time": "2022-06-15T18:07:01.914Z"
   },
   {
    "duration": 2690,
    "start_time": "2022-06-16T09:25:03.523Z"
   },
   {
    "duration": 18,
    "start_time": "2022-06-16T09:25:06.215Z"
   },
   {
    "duration": 19,
    "start_time": "2022-06-16T09:25:06.234Z"
   },
   {
    "duration": 18,
    "start_time": "2022-06-16T09:25:06.255Z"
   },
   {
    "duration": 6221,
    "start_time": "2022-06-16T09:25:06.274Z"
   },
   {
    "duration": 194,
    "start_time": "2022-06-16T09:25:12.497Z"
   },
   {
    "duration": 107,
    "start_time": "2022-06-16T09:25:12.693Z"
   },
   {
    "duration": 8,
    "start_time": "2022-06-16T09:25:12.802Z"
   },
   {
    "duration": 12,
    "start_time": "2022-06-16T09:25:12.812Z"
   },
   {
    "duration": 3,
    "start_time": "2022-06-16T09:25:12.828Z"
   },
   {
    "duration": 6,
    "start_time": "2022-06-16T09:25:12.832Z"
   },
   {
    "duration": 633,
    "start_time": "2022-06-16T09:25:12.839Z"
   },
   {
    "duration": 4,
    "start_time": "2022-06-16T09:25:13.474Z"
   },
   {
    "duration": 1321,
    "start_time": "2022-06-16T09:25:13.479Z"
   },
   {
    "duration": 1283,
    "start_time": "2022-06-16T09:25:14.802Z"
   },
   {
    "duration": 1351,
    "start_time": "2022-06-16T09:25:16.092Z"
   },
   {
    "duration": 6,
    "start_time": "2022-06-16T09:25:17.445Z"
   },
   {
    "duration": 5,
    "start_time": "2022-06-16T09:25:17.453Z"
   },
   {
    "duration": 32,
    "start_time": "2022-06-16T09:25:17.460Z"
   },
   {
    "duration": 5,
    "start_time": "2022-06-16T09:25:17.494Z"
   },
   {
    "duration": 176,
    "start_time": "2022-06-16T09:25:17.501Z"
   },
   {
    "duration": 161,
    "start_time": "2022-06-16T09:25:17.678Z"
   },
   {
    "duration": 156,
    "start_time": "2022-06-16T09:25:17.840Z"
   },
   {
    "duration": 1640,
    "start_time": "2022-06-16T09:45:58.341Z"
   },
   {
    "duration": 1278,
    "start_time": "2022-06-16T09:46:04.265Z"
   },
   {
    "duration": 3,
    "start_time": "2022-06-16T09:50:04.593Z"
   },
   {
    "duration": 1366,
    "start_time": "2022-06-16T09:50:06.812Z"
   },
   {
    "duration": 1309,
    "start_time": "2022-06-16T09:50:11.337Z"
   },
   {
    "duration": 1316,
    "start_time": "2022-06-16T09:50:14.073Z"
   },
   {
    "duration": 5,
    "start_time": "2022-06-16T09:50:17.967Z"
   },
   {
    "duration": 5,
    "start_time": "2022-06-16T09:50:29.229Z"
   },
   {
    "duration": 5,
    "start_time": "2022-06-16T09:50:29.899Z"
   },
   {
    "duration": 5,
    "start_time": "2022-06-16T09:50:30.571Z"
   },
   {
    "duration": 156,
    "start_time": "2022-06-16T09:50:58.796Z"
   },
   {
    "duration": 147,
    "start_time": "2022-06-16T09:51:03.461Z"
   },
   {
    "duration": 1472,
    "start_time": "2022-06-16T10:06:40.029Z"
   },
   {
    "duration": 18,
    "start_time": "2022-06-16T10:06:41.502Z"
   },
   {
    "duration": 18,
    "start_time": "2022-06-16T10:06:41.522Z"
   },
   {
    "duration": 19,
    "start_time": "2022-06-16T10:06:41.542Z"
   },
   {
    "duration": 6232,
    "start_time": "2022-06-16T10:06:41.563Z"
   },
   {
    "duration": 97,
    "start_time": "2022-06-16T10:06:47.796Z"
   },
   {
    "duration": 120,
    "start_time": "2022-06-16T10:06:47.895Z"
   },
   {
    "duration": 6,
    "start_time": "2022-06-16T10:06:48.091Z"
   },
   {
    "duration": 7,
    "start_time": "2022-06-16T10:06:48.098Z"
   },
   {
    "duration": 2,
    "start_time": "2022-06-16T10:06:48.107Z"
   },
   {
    "duration": 4,
    "start_time": "2022-06-16T10:06:48.110Z"
   },
   {
    "duration": 476,
    "start_time": "2022-06-16T10:06:48.116Z"
   },
   {
    "duration": 4,
    "start_time": "2022-06-16T10:06:48.594Z"
   },
   {
    "duration": 1268,
    "start_time": "2022-06-16T10:06:48.599Z"
   },
   {
    "duration": 1256,
    "start_time": "2022-06-16T10:06:49.868Z"
   },
   {
    "duration": 1371,
    "start_time": "2022-06-16T10:06:51.125Z"
   },
   {
    "duration": 6,
    "start_time": "2022-06-16T10:06:52.497Z"
   },
   {
    "duration": 5,
    "start_time": "2022-06-16T10:06:52.504Z"
   },
   {
    "duration": 5,
    "start_time": "2022-06-16T10:06:52.511Z"
   },
   {
    "duration": 6,
    "start_time": "2022-06-16T10:06:52.517Z"
   },
   {
    "duration": 179,
    "start_time": "2022-06-16T10:06:52.524Z"
   },
   {
    "duration": 161,
    "start_time": "2022-06-16T10:06:52.704Z"
   },
   {
    "duration": 162,
    "start_time": "2022-06-16T10:06:52.867Z"
   },
   {
    "duration": 1847,
    "start_time": "2022-06-16T11:58:19.803Z"
   },
   {
    "duration": 20,
    "start_time": "2022-06-16T11:58:21.652Z"
   },
   {
    "duration": 38,
    "start_time": "2022-06-16T11:58:21.673Z"
   },
   {
    "duration": 41,
    "start_time": "2022-06-16T11:58:21.712Z"
   },
   {
    "duration": 7075,
    "start_time": "2022-06-16T11:58:21.755Z"
   },
   {
    "duration": 95,
    "start_time": "2022-06-16T11:58:28.832Z"
   },
   {
    "duration": 116,
    "start_time": "2022-06-16T11:58:28.929Z"
   },
   {
    "duration": 39,
    "start_time": "2022-06-16T11:58:29.047Z"
   },
   {
    "duration": 83,
    "start_time": "2022-06-16T11:58:29.088Z"
   },
   {
    "duration": 29,
    "start_time": "2022-06-16T11:58:29.173Z"
   },
   {
    "duration": 35,
    "start_time": "2022-06-16T11:58:29.203Z"
   },
   {
    "duration": 1140,
    "start_time": "2022-06-16T11:58:29.240Z"
   },
   {
    "duration": 3,
    "start_time": "2022-06-16T11:58:30.382Z"
   },
   {
    "duration": 1522,
    "start_time": "2022-06-16T11:58:30.387Z"
   },
   {
    "duration": 1467,
    "start_time": "2022-06-16T11:58:31.911Z"
   },
   {
    "duration": 1508,
    "start_time": "2022-06-16T11:58:33.380Z"
   },
   {
    "duration": 6,
    "start_time": "2022-06-16T11:58:34.889Z"
   },
   {
    "duration": 32,
    "start_time": "2022-06-16T11:58:34.897Z"
   },
   {
    "duration": 19,
    "start_time": "2022-06-16T11:58:34.930Z"
   },
   {
    "duration": 30,
    "start_time": "2022-06-16T11:58:34.951Z"
   },
   {
    "duration": 184,
    "start_time": "2022-06-16T11:58:34.983Z"
   },
   {
    "duration": 197,
    "start_time": "2022-06-16T11:58:35.168Z"
   },
   {
    "duration": 176,
    "start_time": "2022-06-16T11:58:35.367Z"
   },
   {
    "duration": 181,
    "start_time": "2022-06-16T11:59:25.652Z"
   },
   {
    "duration": 205,
    "start_time": "2022-06-16T11:59:26.424Z"
   },
   {
    "duration": 186,
    "start_time": "2022-06-16T11:59:27.050Z"
   },
   {
    "duration": 9,
    "start_time": "2022-06-16T12:00:20.571Z"
   },
   {
    "duration": 3,
    "start_time": "2022-06-16T12:01:43.737Z"
   },
   {
    "duration": 3,
    "start_time": "2022-06-16T12:01:49.536Z"
   },
   {
    "duration": 3,
    "start_time": "2022-06-16T12:02:01.815Z"
   },
   {
    "duration": 511,
    "start_time": "2022-06-16T12:02:01.820Z"
   },
   {
    "duration": 29,
    "start_time": "2022-06-16T12:02:02.333Z"
   },
   {
    "duration": 33,
    "start_time": "2022-06-16T12:02:02.365Z"
   },
   {
    "duration": 52,
    "start_time": "2022-06-16T12:02:02.400Z"
   },
   {
    "duration": 7073,
    "start_time": "2022-06-16T12:02:02.454Z"
   },
   {
    "duration": 13,
    "start_time": "2022-06-16T12:02:09.528Z"
   },
   {
    "duration": 196,
    "start_time": "2022-06-16T12:02:09.543Z"
   },
   {
    "duration": 21,
    "start_time": "2022-06-16T12:02:09.741Z"
   },
   {
    "duration": 20,
    "start_time": "2022-06-16T12:02:09.764Z"
   },
   {
    "duration": 24,
    "start_time": "2022-06-16T12:02:09.785Z"
   },
   {
    "duration": 305,
    "start_time": "2022-06-16T12:02:09.810Z"
   },
   {
    "duration": 11,
    "start_time": "2022-06-16T12:02:10.116Z"
   },
   {
    "duration": 1517,
    "start_time": "2022-06-16T12:02:10.130Z"
   },
   {
    "duration": 1481,
    "start_time": "2022-06-16T12:02:11.649Z"
   },
   {
    "duration": 1463,
    "start_time": "2022-06-16T12:02:13.132Z"
   },
   {
    "duration": 6,
    "start_time": "2022-06-16T12:02:14.597Z"
   },
   {
    "duration": 22,
    "start_time": "2022-06-16T12:02:14.605Z"
   },
   {
    "duration": 5,
    "start_time": "2022-06-16T12:02:14.629Z"
   },
   {
    "duration": 6,
    "start_time": "2022-06-16T12:02:14.636Z"
   },
   {
    "duration": 190,
    "start_time": "2022-06-16T12:02:14.644Z"
   },
   {
    "duration": 179,
    "start_time": "2022-06-16T12:02:14.836Z"
   },
   {
    "duration": 184,
    "start_time": "2022-06-16T12:02:15.017Z"
   },
   {
    "duration": 4,
    "start_time": "2022-06-16T12:15:55.215Z"
   },
   {
    "duration": 2,
    "start_time": "2022-06-16T12:17:57.819Z"
   },
   {
    "duration": 426,
    "start_time": "2022-06-16T12:17:57.824Z"
   },
   {
    "duration": 4,
    "start_time": "2022-06-16T12:17:58.251Z"
   },
   {
    "duration": 31,
    "start_time": "2022-06-16T12:17:58.256Z"
   },
   {
    "duration": 18,
    "start_time": "2022-06-16T12:17:58.290Z"
   },
   {
    "duration": 30,
    "start_time": "2022-06-16T12:17:58.309Z"
   },
   {
    "duration": 6501,
    "start_time": "2022-06-16T12:17:58.341Z"
   },
   {
    "duration": 189,
    "start_time": "2022-06-16T12:18:04.844Z"
   },
   {
    "duration": 111,
    "start_time": "2022-06-16T12:18:05.036Z"
   },
   {
    "duration": 85,
    "start_time": "2022-06-16T12:18:05.149Z"
   },
   {
    "duration": 37,
    "start_time": "2022-06-16T12:18:05.236Z"
   },
   {
    "duration": 58,
    "start_time": "2022-06-16T12:18:05.275Z"
   },
   {
    "duration": 697,
    "start_time": "2022-06-16T12:18:05.335Z"
   },
   {
    "duration": 3,
    "start_time": "2022-06-16T12:18:06.034Z"
   },
   {
    "duration": 2434,
    "start_time": "2022-06-16T12:18:06.039Z"
   },
   {
    "duration": 1549,
    "start_time": "2022-06-16T12:18:08.475Z"
   },
   {
    "duration": 1646,
    "start_time": "2022-06-16T12:18:10.026Z"
   },
   {
    "duration": 7,
    "start_time": "2022-06-16T12:18:11.675Z"
   },
   {
    "duration": 17,
    "start_time": "2022-06-16T12:18:11.683Z"
   },
   {
    "duration": 10,
    "start_time": "2022-06-16T12:18:11.701Z"
   },
   {
    "duration": 8,
    "start_time": "2022-06-16T12:18:11.727Z"
   },
   {
    "duration": 309,
    "start_time": "2022-06-16T12:18:11.737Z"
   },
   {
    "duration": 387,
    "start_time": "2022-06-16T12:18:12.047Z"
   },
   {
    "duration": 328,
    "start_time": "2022-06-16T12:18:12.435Z"
   },
   {
    "duration": 3,
    "start_time": "2022-06-16T12:22:09.180Z"
   },
   {
    "duration": 472,
    "start_time": "2022-06-16T12:22:09.189Z"
   },
   {
    "duration": 77,
    "start_time": "2022-06-16T12:22:09.664Z"
   },
   {
    "duration": 6892,
    "start_time": "2022-06-16T12:22:09.744Z"
   },
   {
    "duration": 99,
    "start_time": "2022-06-16T12:22:16.638Z"
   },
   {
    "duration": 198,
    "start_time": "2022-06-16T12:22:16.740Z"
   },
   {
    "duration": 20,
    "start_time": "2022-06-16T12:22:16.940Z"
   },
   {
    "duration": 67,
    "start_time": "2022-06-16T12:22:16.962Z"
   },
   {
    "duration": 4,
    "start_time": "2022-06-16T12:22:17.032Z"
   },
   {
    "duration": 728,
    "start_time": "2022-06-16T12:22:17.038Z"
   },
   {
    "duration": 3,
    "start_time": "2022-06-16T12:22:17.768Z"
   },
   {
    "duration": 1641,
    "start_time": "2022-06-16T12:22:17.772Z"
   },
   {
    "duration": 1506,
    "start_time": "2022-06-16T12:22:19.415Z"
   },
   {
    "duration": 1666,
    "start_time": "2022-06-16T12:22:20.923Z"
   },
   {
    "duration": 6,
    "start_time": "2022-06-16T12:22:22.591Z"
   },
   {
    "duration": 6,
    "start_time": "2022-06-16T12:22:22.599Z"
   },
   {
    "duration": 22,
    "start_time": "2022-06-16T12:22:22.606Z"
   },
   {
    "duration": 26,
    "start_time": "2022-06-16T12:22:22.630Z"
   },
   {
    "duration": 189,
    "start_time": "2022-06-16T12:22:22.657Z"
   },
   {
    "duration": 192,
    "start_time": "2022-06-16T12:22:22.847Z"
   },
   {
    "duration": 163,
    "start_time": "2022-06-16T12:22:23.041Z"
   },
   {
    "duration": 4,
    "start_time": "2022-06-16T12:34:32.190Z"
   },
   {
    "duration": 1554,
    "start_time": "2022-06-16T12:35:32.675Z"
   },
   {
    "duration": 4646,
    "start_time": "2022-06-16T12:36:30.575Z"
   },
   {
    "duration": 1563,
    "start_time": "2022-06-16T12:36:53.551Z"
   },
   {
    "duration": 1866,
    "start_time": "2022-06-16T12:37:21.499Z"
   },
   {
    "duration": 4,
    "start_time": "2022-06-16T12:39:16.423Z"
   },
   {
    "duration": 482,
    "start_time": "2022-06-16T12:39:16.430Z"
   },
   {
    "duration": 57,
    "start_time": "2022-06-16T12:39:16.914Z"
   },
   {
    "duration": 4865,
    "start_time": "2022-06-16T12:39:16.973Z"
   },
   {
    "duration": 187,
    "start_time": "2022-06-16T12:39:21.841Z"
   },
   {
    "duration": 105,
    "start_time": "2022-06-16T12:39:22.031Z"
   },
   {
    "duration": 7,
    "start_time": "2022-06-16T12:39:22.138Z"
   },
   {
    "duration": 10,
    "start_time": "2022-06-16T12:39:22.147Z"
   },
   {
    "duration": 6,
    "start_time": "2022-06-16T12:39:22.159Z"
   },
   {
    "duration": 352,
    "start_time": "2022-06-16T12:39:22.167Z"
   },
   {
    "duration": 7,
    "start_time": "2022-06-16T12:39:22.521Z"
   },
   {
    "duration": 4490,
    "start_time": "2022-06-16T12:39:22.529Z"
   },
   {
    "duration": 6,
    "start_time": "2022-06-16T12:39:27.021Z"
   },
   {
    "duration": 21,
    "start_time": "2022-06-16T12:39:27.029Z"
   },
   {
    "duration": 18,
    "start_time": "2022-06-16T12:39:27.052Z"
   },
   {
    "duration": 17,
    "start_time": "2022-06-16T12:39:27.072Z"
   },
   {
    "duration": 15,
    "start_time": "2022-06-16T12:39:27.092Z"
   },
   {
    "duration": 16,
    "start_time": "2022-06-16T12:39:27.109Z"
   },
   {
    "duration": 16,
    "start_time": "2022-06-16T12:39:27.127Z"
   },
   {
    "duration": 190,
    "start_time": "2022-06-16T12:39:27.145Z"
   },
   {
    "duration": 185,
    "start_time": "2022-06-16T12:39:27.337Z"
   },
   {
    "duration": 179,
    "start_time": "2022-06-16T12:39:27.524Z"
   },
   {
    "duration": 5,
    "start_time": "2022-06-16T12:41:20.491Z"
   },
   {
    "duration": 1428,
    "start_time": "2022-06-16T12:41:21.557Z"
   },
   {
    "duration": 1613,
    "start_time": "2022-06-16T12:41:22.987Z"
   },
   {
    "duration": 1588,
    "start_time": "2022-06-16T12:41:24.602Z"
   },
   {
    "duration": 6,
    "start_time": "2022-06-16T12:41:32.528Z"
   },
   {
    "duration": 436,
    "start_time": "2022-06-16T12:41:32.537Z"
   },
   {
    "duration": 60,
    "start_time": "2022-06-16T12:41:32.975Z"
   },
   {
    "duration": 6001,
    "start_time": "2022-06-16T12:41:33.037Z"
   },
   {
    "duration": 104,
    "start_time": "2022-06-16T12:41:39.126Z"
   },
   {
    "duration": 106,
    "start_time": "2022-06-16T12:41:39.233Z"
   },
   {
    "duration": 48,
    "start_time": "2022-06-16T12:41:39.341Z"
   },
   {
    "duration": 51,
    "start_time": "2022-06-16T12:41:39.391Z"
   },
   {
    "duration": 10,
    "start_time": "2022-06-16T12:41:39.443Z"
   },
   {
    "duration": 578,
    "start_time": "2022-06-16T12:41:39.454Z"
   },
   {
    "duration": 4,
    "start_time": "2022-06-16T12:41:40.034Z"
   },
   {
    "duration": 21,
    "start_time": "2022-06-16T12:41:40.040Z"
   },
   {
    "duration": 1522,
    "start_time": "2022-06-16T12:41:40.063Z"
   },
   {
    "duration": 1473,
    "start_time": "2022-06-16T12:41:41.587Z"
   },
   {
    "duration": 1771,
    "start_time": "2022-06-16T12:41:43.062Z"
   },
   {
    "duration": 6,
    "start_time": "2022-06-16T12:41:44.835Z"
   },
   {
    "duration": 29,
    "start_time": "2022-06-16T12:41:44.843Z"
   },
   {
    "duration": 56,
    "start_time": "2022-06-16T12:41:44.874Z"
   },
   {
    "duration": 5,
    "start_time": "2022-06-16T12:41:44.932Z"
   },
   {
    "duration": 397,
    "start_time": "2022-06-16T12:41:44.938Z"
   },
   {
    "duration": 392,
    "start_time": "2022-06-16T12:41:45.336Z"
   },
   {
    "duration": 302,
    "start_time": "2022-06-16T12:41:45.730Z"
   },
   {
    "duration": 196,
    "start_time": "2022-06-16T12:46:02.624Z"
   },
   {
    "duration": 169,
    "start_time": "2022-06-16T12:46:03.956Z"
   },
   {
    "duration": 170,
    "start_time": "2022-06-16T12:46:05.222Z"
   },
   {
    "duration": 5,
    "start_time": "2022-06-16T12:47:13.252Z"
   },
   {
    "duration": 438,
    "start_time": "2022-06-16T12:47:13.260Z"
   },
   {
    "duration": 64,
    "start_time": "2022-06-16T12:47:13.699Z"
   },
   {
    "duration": 6465,
    "start_time": "2022-06-16T12:47:13.766Z"
   },
   {
    "duration": 94,
    "start_time": "2022-06-16T12:47:20.233Z"
   },
   {
    "duration": 109,
    "start_time": "2022-06-16T12:47:20.330Z"
   },
   {
    "duration": 8,
    "start_time": "2022-06-16T12:47:20.440Z"
   },
   {
    "duration": 11,
    "start_time": "2022-06-16T12:47:20.449Z"
   },
   {
    "duration": 7,
    "start_time": "2022-06-16T12:47:20.461Z"
   },
   {
    "duration": 345,
    "start_time": "2022-06-16T12:47:20.471Z"
   },
   {
    "duration": 9,
    "start_time": "2022-06-16T12:47:20.818Z"
   },
   {
    "duration": 4,
    "start_time": "2022-06-16T12:47:20.829Z"
   },
   {
    "duration": 1551,
    "start_time": "2022-06-16T12:47:20.834Z"
   },
   {
    "duration": 1572,
    "start_time": "2022-06-16T12:47:22.387Z"
   },
   {
    "duration": 1481,
    "start_time": "2022-06-16T12:47:23.960Z"
   },
   {
    "duration": 7,
    "start_time": "2022-06-16T12:47:25.443Z"
   },
   {
    "duration": 10,
    "start_time": "2022-06-16T12:47:25.452Z"
   },
   {
    "duration": 15,
    "start_time": "2022-06-16T12:47:25.464Z"
   },
   {
    "duration": 7,
    "start_time": "2022-06-16T12:47:25.481Z"
   },
   {
    "duration": 206,
    "start_time": "2022-06-16T12:47:25.490Z"
   },
   {
    "duration": 198,
    "start_time": "2022-06-16T12:47:25.698Z"
   },
   {
    "duration": 186,
    "start_time": "2022-06-16T12:47:25.897Z"
   },
   {
    "duration": 8,
    "start_time": "2022-06-17T10:34:55.906Z"
   },
   {
    "duration": 3143,
    "start_time": "2022-06-17T10:34:55.916Z"
   },
   {
    "duration": 127,
    "start_time": "2022-06-17T10:34:59.061Z"
   },
   {
    "duration": 5719,
    "start_time": "2022-06-17T10:34:59.193Z"
   },
   {
    "duration": 92,
    "start_time": "2022-06-17T10:35:04.915Z"
   },
   {
    "duration": 188,
    "start_time": "2022-06-17T10:35:05.016Z"
   },
   {
    "duration": 14,
    "start_time": "2022-06-17T10:35:05.206Z"
   },
   {
    "duration": 14,
    "start_time": "2022-06-17T10:35:05.222Z"
   },
   {
    "duration": 5,
    "start_time": "2022-06-17T10:35:05.240Z"
   },
   {
    "duration": 855,
    "start_time": "2022-06-17T10:35:05.246Z"
   },
   {
    "duration": 4,
    "start_time": "2022-06-17T10:35:06.103Z"
   },
   {
    "duration": 16,
    "start_time": "2022-06-17T10:35:06.108Z"
   },
   {
    "duration": 1587,
    "start_time": "2022-06-17T10:35:06.126Z"
   },
   {
    "duration": 1679,
    "start_time": "2022-06-17T10:35:07.715Z"
   },
   {
    "duration": 1610,
    "start_time": "2022-06-17T10:35:09.396Z"
   },
   {
    "duration": 8,
    "start_time": "2022-06-17T10:35:11.008Z"
   },
   {
    "duration": 7,
    "start_time": "2022-06-17T10:35:11.018Z"
   },
   {
    "duration": 19,
    "start_time": "2022-06-17T10:35:11.026Z"
   },
   {
    "duration": 8,
    "start_time": "2022-06-17T10:35:11.047Z"
   },
   {
    "duration": 204,
    "start_time": "2022-06-17T10:35:11.058Z"
   },
   {
    "duration": 202,
    "start_time": "2022-06-17T10:35:11.265Z"
   },
   {
    "duration": 259,
    "start_time": "2022-06-17T10:35:11.469Z"
   },
   {
    "duration": 4875,
    "start_time": "2022-10-02T14:01:31.812Z"
   }
  ],
  "kernelspec": {
   "display_name": "Python 3 (ipykernel)",
   "language": "python",
   "name": "python3"
  },
  "language_info": {
   "codemirror_mode": {
    "name": "ipython",
    "version": 3
   },
   "file_extension": ".py",
   "mimetype": "text/x-python",
   "name": "python",
   "nbconvert_exporter": "python",
   "pygments_lexer": "ipython3",
   "version": "3.9.12"
  },
  "toc": {
   "base_numbering": 1,
   "nav_menu": {},
   "number_sections": true,
   "sideBar": true,
   "skip_h1_title": true,
   "title_cell": "Table of Contents",
   "title_sidebar": "Contents",
   "toc_cell": false,
   "toc_position": {
    "height": "calc(100% - 180px)",
    "left": "10px",
    "top": "150px",
    "width": "165px"
   },
   "toc_section_display": true,
   "toc_window_display": true
  }
 },
 "nbformat": 4,
 "nbformat_minor": 2
}
