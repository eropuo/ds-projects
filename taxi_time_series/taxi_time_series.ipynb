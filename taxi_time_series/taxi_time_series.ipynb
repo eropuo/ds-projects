{
 "cells": [
  {
   "cell_type": "markdown",
   "metadata": {},
   "source": [
    "#  Прогнозирование заказов такси"
   ]
  },
  {
   "cell_type": "markdown",
   "metadata": {},
   "source": [
    "Компания «Чётенькое такси» собрала исторические данные о заказах такси в аэропортах. Чтобы привлекать больше водителей в период пиковой нагрузки, нужно спрогнозировать количество заказов такси на следующий час. Необходимо построить модель для такого предсказания.\n",
    "\n",
    "Значение метрики *RMSE* на тестовой выборке должно быть не больше 48.\n",
    "\n",
    "Нам нужно:\n",
    "\n",
    "1. Загрузить данные и выполнить их ресемплирование по одному часу.\n",
    "2. Проанализировать данные.\n",
    "3. Обучить разные модели с различными гиперпараметрами. Сделать тестовую выборку размером 10% от исходных данных.\n",
    "4. Проверить данные на тестовой выборке и сделать выводы.\n",
    "\n",
    "\n",
    "Данные лежат в файле `dataset_taxi.csv`. Количество заказов находится в столбце `num_orders`. Дата и время в столбце `datetime`."
   ]
  },
  {
   "cell_type": "markdown",
   "metadata": {},
   "source": [
    "## Подготовка"
   ]
  },
  {
   "cell_type": "code",
   "execution_count": 2,
   "metadata": {},
   "outputs": [],
   "source": [
    "# импортирование всех нужных библиотек и фуцнкций \n",
    "import matplotlib.pyplot as plt\n",
    "import numpy as np\n",
    "import pandas as pd \n",
    "import warnings\n",
    "\n",
    "from catboost import CatBoostRegressor\n",
    "from lightgbm import LGBMRegressor\n",
    "\n",
    "from sklearn.ensemble import RandomForestRegressor\n",
    "from sklearn.linear_model import LinearRegression\n",
    "from sklearn.model_selection import GridSearchCV, TimeSeriesSplit, train_test_split\n",
    "from sklearn.metrics import mean_squared_error\n",
    "\n",
    "from statsmodels.tsa.seasonal import seasonal_decompose\n",
    "from statsmodels.tsa.stattools import adfuller \n",
    "\n",
    "# игнорирование предупреждений \n",
    "warnings.filterwarnings('ignore') "
   ]
  },
  {
   "cell_type": "markdown",
   "metadata": {},
   "source": [
    "### Обзор данных\n",
    "\n",
    "По первому взгляду на данные можно сказать:\n",
    "* Не считая столбца 'datetime', который будет индексом, в данных присутствует лишь целевой признак 'num_orders', поэтому следует создать признаки. \n",
    "* Имеются данные о заказах 'num_orders' с промежутком в 10 минут.\n",
    "* Пропущенные значения отсутствуют.\n"
   ]
  },
  {
   "cell_type": "code",
   "execution_count": 5,
   "metadata": {},
   "outputs": [
    {
     "data": {
      "text/html": [
       "<div>\n",
       "<style scoped>\n",
       "    .dataframe tbody tr th:only-of-type {\n",
       "        vertical-align: middle;\n",
       "    }\n",
       "\n",
       "    .dataframe tbody tr th {\n",
       "        vertical-align: top;\n",
       "    }\n",
       "\n",
       "    .dataframe thead th {\n",
       "        text-align: right;\n",
       "    }\n",
       "</style>\n",
       "<table border=\"1\" class=\"dataframe\">\n",
       "  <thead>\n",
       "    <tr style=\"text-align: right;\">\n",
       "      <th></th>\n",
       "      <th>datetime</th>\n",
       "      <th>num_orders</th>\n",
       "    </tr>\n",
       "  </thead>\n",
       "  <tbody>\n",
       "    <tr>\n",
       "      <th>0</th>\n",
       "      <td>2018-03-01 00:00:00</td>\n",
       "      <td>9</td>\n",
       "    </tr>\n",
       "    <tr>\n",
       "      <th>1</th>\n",
       "      <td>2018-03-01 00:10:00</td>\n",
       "      <td>14</td>\n",
       "    </tr>\n",
       "    <tr>\n",
       "      <th>2</th>\n",
       "      <td>2018-03-01 00:20:00</td>\n",
       "      <td>28</td>\n",
       "    </tr>\n",
       "    <tr>\n",
       "      <th>3</th>\n",
       "      <td>2018-03-01 00:30:00</td>\n",
       "      <td>20</td>\n",
       "    </tr>\n",
       "    <tr>\n",
       "      <th>4</th>\n",
       "      <td>2018-03-01 00:40:00</td>\n",
       "      <td>32</td>\n",
       "    </tr>\n",
       "  </tbody>\n",
       "</table>\n",
       "</div>"
      ],
      "text/plain": [
       "              datetime  num_orders\n",
       "0  2018-03-01 00:00:00           9\n",
       "1  2018-03-01 00:10:00          14\n",
       "2  2018-03-01 00:20:00          28\n",
       "3  2018-03-01 00:30:00          20\n",
       "4  2018-03-01 00:40:00          32"
      ]
     },
     "metadata": {},
     "output_type": "display_data"
    },
    {
     "name": "stdout",
     "output_type": "stream",
     "text": [
      "<class 'pandas.core.frame.DataFrame'>\n",
      "Int64Index: 26496 entries, 0 to 26495\n",
      "Data columns (total 2 columns):\n",
      " #   Column      Non-Null Count  Dtype \n",
      "---  ------      --------------  ----- \n",
      " 0   datetime    26496 non-null  object\n",
      " 1   num_orders  26496 non-null  int64 \n",
      "dtypes: int64(1), object(1)\n",
      "memory usage: 621.0+ KB\n"
     ]
    }
   ],
   "source": [
    "# формирование датафрейма\n",
    "data = pd.read_csv('dataset_taxi.csv', index_col=0)\n",
    "\n",
    "# проверка внесенных изменений \n",
    "display(data.head())\n",
    "data.info()"
   ]
  },
  {
   "cell_type": "markdown",
   "metadata": {},
   "source": [
    "### Подготовка индекса\n",
    "В качестве индекса установим столбец 'datetime'."
   ]
  },
  {
   "cell_type": "code",
   "execution_count": 479,
   "metadata": {
    "scrolled": true
   },
   "outputs": [
    {
     "name": "stdout",
     "output_type": "stream",
     "text": [
      "<class 'pandas.core.frame.DataFrame'>\n",
      "DatetimeIndex: 26496 entries, 2018-03-01 00:00:00 to 2018-08-31 23:50:00\n",
      "Data columns (total 1 columns):\n",
      " #   Column      Non-Null Count  Dtype\n",
      "---  ------      --------------  -----\n",
      " 0   num_orders  26496 non-null  int64\n",
      "dtypes: int64(1)\n",
      "memory usage: 414.0 KB\n"
     ]
    }
   ],
   "source": [
    "# изменения типа данных на 'datetime'\n",
    "data['datetime'] = pd.to_datetime(data['datetime'])\n",
    "\n",
    "# установка и сортировка индекса\n",
    "data = data.set_index('datetime').sort_index()\n",
    "\n",
    "# проверка внесенных изменений \n",
    "data.info()"
   ]
  },
  {
   "cell_type": "markdown",
   "metadata": {},
   "source": [
    "### Ресемплирование\n",
    "Так как задача модели - предсказание количества заказов на следующий час, агрегированное значение будет сумма заказов."
   ]
  },
  {
   "cell_type": "code",
   "execution_count": 480,
   "metadata": {
    "scrolled": false
   },
   "outputs": [
    {
     "data": {
      "text/html": [
       "<div>\n",
       "<style scoped>\n",
       "    .dataframe tbody tr th:only-of-type {\n",
       "        vertical-align: middle;\n",
       "    }\n",
       "\n",
       "    .dataframe tbody tr th {\n",
       "        vertical-align: top;\n",
       "    }\n",
       "\n",
       "    .dataframe thead th {\n",
       "        text-align: right;\n",
       "    }\n",
       "</style>\n",
       "<table border=\"1\" class=\"dataframe\">\n",
       "  <thead>\n",
       "    <tr style=\"text-align: right;\">\n",
       "      <th></th>\n",
       "      <th>num_orders</th>\n",
       "    </tr>\n",
       "    <tr>\n",
       "      <th>datetime</th>\n",
       "      <th></th>\n",
       "    </tr>\n",
       "  </thead>\n",
       "  <tbody>\n",
       "    <tr>\n",
       "      <th>2018-03-01 00:00:00</th>\n",
       "      <td>124</td>\n",
       "    </tr>\n",
       "    <tr>\n",
       "      <th>2018-03-01 01:00:00</th>\n",
       "      <td>85</td>\n",
       "    </tr>\n",
       "    <tr>\n",
       "      <th>2018-03-01 02:00:00</th>\n",
       "      <td>71</td>\n",
       "    </tr>\n",
       "    <tr>\n",
       "      <th>2018-03-01 03:00:00</th>\n",
       "      <td>66</td>\n",
       "    </tr>\n",
       "    <tr>\n",
       "      <th>2018-03-01 04:00:00</th>\n",
       "      <td>43</td>\n",
       "    </tr>\n",
       "  </tbody>\n",
       "</table>\n",
       "</div>"
      ],
      "text/plain": [
       "                     num_orders\n",
       "datetime                       \n",
       "2018-03-01 00:00:00         124\n",
       "2018-03-01 01:00:00          85\n",
       "2018-03-01 02:00:00          71\n",
       "2018-03-01 03:00:00          66\n",
       "2018-03-01 04:00:00          43"
      ]
     },
     "metadata": {},
     "output_type": "display_data"
    },
    {
     "data": {
      "image/png": "[encoded data removed]",
      "text/plain": [
       "<Figure size 720x432 with 1 Axes>"
      ]
     },
     "metadata": {
      "needs_background": "light"
     },
     "output_type": "display_data"
    }
   ],
   "source": [
    "# ресемплирование данных по часу\n",
    "data = data.resample('1H').sum()\n",
    "\n",
    "# проверка внесенных изменений \n",
    "display(data.head())\n",
    "\n",
    "# линейный график ресемплированных данных \n",
    "ax = data.plot(grid=True, figsize=(10, 6))\n",
    "ax.set_xlabel('datetime')\n",
    "ax.set_ylabel('num_orders')\n",
    "legend = ax.legend(loc='upper left')\n",
    "plt.show()"
   ]
  },
  {
   "cell_type": "markdown",
   "metadata": {},
   "source": [
    "### Скользящее среднее\n",
    "Имеет умеренно восходящий тренд."
   ]
  },
  {
   "cell_type": "code",
   "execution_count": 481,
   "metadata": {},
   "outputs": [
    {
     "data": {
      "image/png": "[encoded data removed]",
      "text/plain": [
       "<Figure size 720x432 with 1 Axes>"
      ]
     },
     "metadata": {
      "needs_background": "light"
     },
     "output_type": "display_data"
    }
   ],
   "source": [
    "# линейный график скользящего среднего\n",
    "ax = data['num_orders'].shift().rolling(10).mean().plot(figsize=(10, 6), grid=True)\n",
    "ax.set_xlabel('datetime')\n",
    "ax.set_ylabel('rolling_mean')\n",
    "legend = ax.legend(loc='upper left')\n",
    "plt.show()"
   ]
  },
  {
   "cell_type": "markdown",
   "metadata": {},
   "source": [
    "### Скользящее стандартное отклонение\n",
    "Стандартное отклонение скользящего стандартного отклонения значительно увеличивается с августа месяца."
   ]
  },
  {
   "cell_type": "code",
   "execution_count": 482,
   "metadata": {},
   "outputs": [
    {
     "data": {
      "image/png": "[encoded data removed]",
      "text/plain": [
       "<Figure size 720x432 with 1 Axes>"
      ]
     },
     "metadata": {
      "needs_background": "light"
     },
     "output_type": "display_data"
    }
   ],
   "source": [
    "# линейный график скользящего стандартного отклонения \n",
    "ax = data['num_orders'].rolling(10).std().plot(figsize=(10, 6), grid=True)\n",
    "ax.set_xlabel('datetime')\n",
    "ax.set_ylabel('rolling_std')\n",
    "legend = ax.legend(loc='upper left')\n",
    "plt.show()"
   ]
  },
  {
   "cell_type": "markdown",
   "metadata": {},
   "source": [
    "## Анализ\n",
    "### Проверка ряда на стационарность\n",
    "Воспользуемся тестом Дики — Фуллера для проверки ряда на стационарность, определим нулевую и альтернативную гипотезы. <br>\n",
    "* **H0: Временной ряд нестационарный.** <br>\n",
    "* **H1: Временной ряд стационарный.**<br>\n",
    "\n",
    "Определим пороговое значение в 5%. <br>\n",
    "После теста высянили, что ряд **стационарный**."
   ]
  },
  {
   "cell_type": "code",
   "execution_count": 483,
   "metadata": {},
   "outputs": [
    {
     "data": {
      "image/png": "[encoded data removed]",
      "text/plain": [
       "<Figure size 720x432 with 1 Axes>"
      ]
     },
     "metadata": {
      "needs_background": "light"
     },
     "output_type": "display_data"
    },
    {
     "data": {
      "text/plain": [
       "'pvalue = 0.028940051402612906, отвергаем нулевую гипотезу, ряд стационарный.'"
      ]
     },
     "metadata": {},
     "output_type": "display_data"
    }
   ],
   "source": [
    "# линейный график с цлевым признаком, скользящим средним и стандартным отклонением\n",
    "fig, ax = plt.subplots(figsize=(10, 6))\n",
    "ax.plot(data['num_orders'], alpha=0.4, label='num_orders')\n",
    "ax.plot(data['num_orders'].rolling(10).std(), label='rolling_std')\n",
    "ax.plot(data['num_orders'].shift().rolling(10).mean(), label='rolling_mean')\n",
    "ax.set_xlabel('datetime')\n",
    "ax.legend(loc='upper left')\n",
    "plt.grid()\n",
    "plt.show()\n",
    "\n",
    "# тест Дики - Фуллера\n",
    "adfuller_test = adfuller(data['num_orders'])\n",
    "\n",
    "# пороговое значение\n",
    "alpha = .05\n",
    "\n",
    "# проверка меньше ли p-value чем пороговое значение\n",
    "if adfuller_test[1] < alpha:\n",
    "    display('pvalue = ' + str(adfuller_test[1]) + ', отвергаем нулевую гипотезу, ряд стационарный.')\n",
    "else:\n",
    "    display('pvalue = ' + str(adfuller_test[1]) + ', не получилось отвергнуть нулевую гипотезу, ряд нестационарный.')"
   ]
  },
  {
   "cell_type": "markdown",
   "metadata": {},
   "source": [
    "### Локация данных\n",
    "Наибольшее количество значений находится в промежутке от 54 до 107 заказов. <br>\n",
    "Слишком большие значения не стоит считать выбросами, так как в задаче необходимо предсказать *количество заказов на следующий час для привлечения таксистов в моменты **пиковой** загрузки*, поэтому их следует оставить."
   ]
  },
  {
   "cell_type": "code",
   "execution_count": 484,
   "metadata": {},
   "outputs": [
    {
     "data": {
      "text/plain": [
       "count    4416.000000\n",
       "mean       84.422781\n",
       "std        45.023853\n",
       "min         0.000000\n",
       "25%        54.000000\n",
       "50%        78.000000\n",
       "75%       107.000000\n",
       "max       462.000000\n",
       "Name: num_orders, dtype: float64"
      ]
     },
     "metadata": {},
     "output_type": "display_data"
    },
    {
     "data": {
      "text/plain": [
       "<AxesSubplot:>"
      ]
     },
     "metadata": {},
     "output_type": "display_data"
    },
    {
     "data": {
      "image/png": "[encoded data removed]",
      "text/plain": [
       "<Figure size 432x288 with 1 Axes>"
      ]
     },
     "metadata": {
      "needs_background": "light"
     },
     "output_type": "display_data"
    }
   ],
   "source": [
    "# описательные данные целевого признака\n",
    "display(data['num_orders'].describe())\n",
    "\n",
    "# диаграмма размаха по целевому признаку\n",
    "display(data.plot(y='num_orders', kind='box', grid=True))"
   ]
  },
  {
   "cell_type": "markdown",
   "metadata": {},
   "source": [
    "### Тренды и сезонность\n",
    "* Тренд заметно увеличивается к осени.\n",
    "* Явное падение количества заказов к 6:00, увеличение к 17:00 и пиковое значение в полночь."
   ]
  },
  {
   "cell_type": "code",
   "execution_count": 485,
   "metadata": {},
   "outputs": [
    {
     "data": {
      "image/png": "[encoded data removed]",
      "text/plain": [
       "<Figure size 720x432 with 2 Axes>"
      ]
     },
     "metadata": {
      "needs_background": "light"
     },
     "output_type": "display_data"
    }
   ],
   "source": [
    "# разложение временного ряда на три составляющие\n",
    "decomposed = seasonal_decompose(data)\n",
    "\n",
    "# создание \"фигуры\"\n",
    "plt.figure(figsize=(10,6))\n",
    "\n",
    "# график тренда\n",
    "plt.subplot(211)\n",
    "decomposed.trend.plot(ax=plt.gca(), grid=True)\n",
    "plt.title('Trend')\n",
    "\n",
    "# график сезонности\n",
    "plt.subplot(212)\n",
    "decomposed.seasonal['2018-03-01':'2018-03-02'].plot(ax=plt.gca(), grid=True)\n",
    "plt.title('Seasonality')\n",
    "\n",
    "# отображение графиков\n",
    "plt.tight_layout()"
   ]
  },
  {
   "cell_type": "markdown",
   "metadata": {},
   "source": [
    "### Формирование признаков\n",
    "К двум имеющимся признакам добавим еще календарные признаки и отстающие значения. Удалим объекты с появившимися пропусками."
   ]
  },
  {
   "cell_type": "code",
   "execution_count": 486,
   "metadata": {},
   "outputs": [],
   "source": [
    "# функция формирования признаков \n",
    "def make_features(data, max_lag, rolling_size=10):\n",
    "\n",
    "    # скользящее среднее\n",
    "    data['rolling_mean'] = data['num_orders'].shift().rolling(rolling_size).mean()\n",
    "    \n",
    "    # календарные признаки \n",
    "    data['hour'] = data.index.hour\n",
    "    data['day_of_week'] = data.index.dayofweek\n",
    "    \n",
    "    # отстающие значения\n",
    "    for lag in range(1, max_lag + 1):\n",
    "        data['lag_{}'.format(lag)] = data['num_orders'].shift(lag)\n",
    "        \n",
    "    return data"
   ]
  },
  {
   "cell_type": "code",
   "execution_count": 487,
   "metadata": {},
   "outputs": [],
   "source": [
    "# вызов функции\n",
    "make_features(data, 50)\n",
    "\n",
    "# удаление пропущенных значений\n",
    "data = data.dropna()"
   ]
  },
  {
   "cell_type": "code",
   "execution_count": 488,
   "metadata": {
    "scrolled": false
   },
   "outputs": [
    {
     "data": {
      "text/html": [
       "<div>\n",
       "<style scoped>\n",
       "    .dataframe tbody tr th:only-of-type {\n",
       "        vertical-align: middle;\n",
       "    }\n",
       "\n",
       "    .dataframe tbody tr th {\n",
       "        vertical-align: top;\n",
       "    }\n",
       "\n",
       "    .dataframe thead th {\n",
       "        text-align: right;\n",
       "    }\n",
       "</style>\n",
       "<table border=\"1\" class=\"dataframe\">\n",
       "  <thead>\n",
       "    <tr style=\"text-align: right;\">\n",
       "      <th></th>\n",
       "      <th>num_orders</th>\n",
       "      <th>rolling_mean</th>\n",
       "      <th>hour</th>\n",
       "      <th>day_of_week</th>\n",
       "      <th>lag_1</th>\n",
       "      <th>lag_2</th>\n",
       "      <th>lag_3</th>\n",
       "      <th>lag_4</th>\n",
       "      <th>lag_5</th>\n",
       "      <th>lag_6</th>\n",
       "      <th>...</th>\n",
       "      <th>lag_41</th>\n",
       "      <th>lag_42</th>\n",
       "      <th>lag_43</th>\n",
       "      <th>lag_44</th>\n",
       "      <th>lag_45</th>\n",
       "      <th>lag_46</th>\n",
       "      <th>lag_47</th>\n",
       "      <th>lag_48</th>\n",
       "      <th>lag_49</th>\n",
       "      <th>lag_50</th>\n",
       "    </tr>\n",
       "    <tr>\n",
       "      <th>datetime</th>\n",
       "      <th></th>\n",
       "      <th></th>\n",
       "      <th></th>\n",
       "      <th></th>\n",
       "      <th></th>\n",
       "      <th></th>\n",
       "      <th></th>\n",
       "      <th></th>\n",
       "      <th></th>\n",
       "      <th></th>\n",
       "      <th></th>\n",
       "      <th></th>\n",
       "      <th></th>\n",
       "      <th></th>\n",
       "      <th></th>\n",
       "      <th></th>\n",
       "      <th></th>\n",
       "      <th></th>\n",
       "      <th></th>\n",
       "      <th></th>\n",
       "      <th></th>\n",
       "    </tr>\n",
       "  </thead>\n",
       "  <tbody>\n",
       "    <tr>\n",
       "      <th>2018-03-03 02:00:00</th>\n",
       "      <td>25</td>\n",
       "      <td>95.9</td>\n",
       "      <td>2</td>\n",
       "      <td>5</td>\n",
       "      <td>108.0</td>\n",
       "      <td>163.0</td>\n",
       "      <td>72.0</td>\n",
       "      <td>119.0</td>\n",
       "      <td>101.0</td>\n",
       "      <td>93.0</td>\n",
       "      <td>...</td>\n",
       "      <td>69.0</td>\n",
       "      <td>34.0</td>\n",
       "      <td>15.0</td>\n",
       "      <td>12.0</td>\n",
       "      <td>6.0</td>\n",
       "      <td>43.0</td>\n",
       "      <td>66.0</td>\n",
       "      <td>71.0</td>\n",
       "      <td>85.0</td>\n",
       "      <td>124.0</td>\n",
       "    </tr>\n",
       "    <tr>\n",
       "      <th>2018-03-03 03:00:00</th>\n",
       "      <td>64</td>\n",
       "      <td>90.2</td>\n",
       "      <td>3</td>\n",
       "      <td>5</td>\n",
       "      <td>25.0</td>\n",
       "      <td>108.0</td>\n",
       "      <td>163.0</td>\n",
       "      <td>72.0</td>\n",
       "      <td>119.0</td>\n",
       "      <td>101.0</td>\n",
       "      <td>...</td>\n",
       "      <td>64.0</td>\n",
       "      <td>69.0</td>\n",
       "      <td>34.0</td>\n",
       "      <td>15.0</td>\n",
       "      <td>12.0</td>\n",
       "      <td>6.0</td>\n",
       "      <td>43.0</td>\n",
       "      <td>66.0</td>\n",
       "      <td>71.0</td>\n",
       "      <td>85.0</td>\n",
       "    </tr>\n",
       "    <tr>\n",
       "      <th>2018-03-03 04:00:00</th>\n",
       "      <td>44</td>\n",
       "      <td>88.3</td>\n",
       "      <td>4</td>\n",
       "      <td>5</td>\n",
       "      <td>64.0</td>\n",
       "      <td>25.0</td>\n",
       "      <td>108.0</td>\n",
       "      <td>163.0</td>\n",
       "      <td>72.0</td>\n",
       "      <td>119.0</td>\n",
       "      <td>...</td>\n",
       "      <td>96.0</td>\n",
       "      <td>64.0</td>\n",
       "      <td>69.0</td>\n",
       "      <td>34.0</td>\n",
       "      <td>15.0</td>\n",
       "      <td>12.0</td>\n",
       "      <td>6.0</td>\n",
       "      <td>43.0</td>\n",
       "      <td>66.0</td>\n",
       "      <td>71.0</td>\n",
       "    </tr>\n",
       "    <tr>\n",
       "      <th>2018-03-03 05:00:00</th>\n",
       "      <td>15</td>\n",
       "      <td>83.8</td>\n",
       "      <td>5</td>\n",
       "      <td>5</td>\n",
       "      <td>44.0</td>\n",
       "      <td>64.0</td>\n",
       "      <td>25.0</td>\n",
       "      <td>108.0</td>\n",
       "      <td>163.0</td>\n",
       "      <td>72.0</td>\n",
       "      <td>...</td>\n",
       "      <td>30.0</td>\n",
       "      <td>96.0</td>\n",
       "      <td>64.0</td>\n",
       "      <td>69.0</td>\n",
       "      <td>34.0</td>\n",
       "      <td>15.0</td>\n",
       "      <td>12.0</td>\n",
       "      <td>6.0</td>\n",
       "      <td>43.0</td>\n",
       "      <td>66.0</td>\n",
       "    </tr>\n",
       "    <tr>\n",
       "      <th>2018-03-03 06:00:00</th>\n",
       "      <td>9</td>\n",
       "      <td>80.4</td>\n",
       "      <td>6</td>\n",
       "      <td>5</td>\n",
       "      <td>15.0</td>\n",
       "      <td>44.0</td>\n",
       "      <td>64.0</td>\n",
       "      <td>25.0</td>\n",
       "      <td>108.0</td>\n",
       "      <td>163.0</td>\n",
       "      <td>...</td>\n",
       "      <td>32.0</td>\n",
       "      <td>30.0</td>\n",
       "      <td>96.0</td>\n",
       "      <td>64.0</td>\n",
       "      <td>69.0</td>\n",
       "      <td>34.0</td>\n",
       "      <td>15.0</td>\n",
       "      <td>12.0</td>\n",
       "      <td>6.0</td>\n",
       "      <td>43.0</td>\n",
       "    </tr>\n",
       "  </tbody>\n",
       "</table>\n",
       "<p>5 rows × 54 columns</p>\n",
       "</div>"
      ],
      "text/plain": [
       "                     num_orders  rolling_mean  hour  day_of_week  lag_1  \\\n",
       "datetime                                                                  \n",
       "2018-03-03 02:00:00          25          95.9     2            5  108.0   \n",
       "2018-03-03 03:00:00          64          90.2     3            5   25.0   \n",
       "2018-03-03 04:00:00          44          88.3     4            5   64.0   \n",
       "2018-03-03 05:00:00          15          83.8     5            5   44.0   \n",
       "2018-03-03 06:00:00           9          80.4     6            5   15.0   \n",
       "\n",
       "                     lag_2  lag_3  lag_4  lag_5  lag_6  ...  lag_41  lag_42  \\\n",
       "datetime                                                ...                   \n",
       "2018-03-03 02:00:00  163.0   72.0  119.0  101.0   93.0  ...    69.0    34.0   \n",
       "2018-03-03 03:00:00  108.0  163.0   72.0  119.0  101.0  ...    64.0    69.0   \n",
       "2018-03-03 04:00:00   25.0  108.0  163.0   72.0  119.0  ...    96.0    64.0   \n",
       "2018-03-03 05:00:00   64.0   25.0  108.0  163.0   72.0  ...    30.0    96.0   \n",
       "2018-03-03 06:00:00   44.0   64.0   25.0  108.0  163.0  ...    32.0    30.0   \n",
       "\n",
       "                     lag_43  lag_44  lag_45  lag_46  lag_47  lag_48  lag_49  \\\n",
       "datetime                                                                      \n",
       "2018-03-03 02:00:00    15.0    12.0     6.0    43.0    66.0    71.0    85.0   \n",
       "2018-03-03 03:00:00    34.0    15.0    12.0     6.0    43.0    66.0    71.0   \n",
       "2018-03-03 04:00:00    69.0    34.0    15.0    12.0     6.0    43.0    66.0   \n",
       "2018-03-03 05:00:00    64.0    69.0    34.0    15.0    12.0     6.0    43.0   \n",
       "2018-03-03 06:00:00    96.0    64.0    69.0    34.0    15.0    12.0     6.0   \n",
       "\n",
       "                     lag_50  \n",
       "datetime                     \n",
       "2018-03-03 02:00:00   124.0  \n",
       "2018-03-03 03:00:00    85.0  \n",
       "2018-03-03 04:00:00    71.0  \n",
       "2018-03-03 05:00:00    66.0  \n",
       "2018-03-03 06:00:00    43.0  \n",
       "\n",
       "[5 rows x 54 columns]"
      ]
     },
     "metadata": {},
     "output_type": "display_data"
    }
   ],
   "source": [
    "# проверка внесенных изменений\n",
    "display(data.head())"
   ]
  },
  {
   "cell_type": "markdown",
   "metadata": {},
   "source": [
    "## Обучение\n",
    "### Деление датафрейма\n",
    "Разделим данные на обучающую, валидационную и тестовую выборки в соотношении 8:1:1."
   ]
  },
  {
   "cell_type": "code",
   "execution_count": 489,
   "metadata": {},
   "outputs": [],
   "source": [
    "# формирование обучающей, валидационной и тестовой выборок\n",
    "data_train, data_temporary = train_test_split(data, test_size=0.2, shuffle=False)\n",
    "data_valid, data_test = train_test_split(data_temporary, test_size=0.5, shuffle=False)"
   ]
  },
  {
   "cell_type": "code",
   "execution_count": 490,
   "metadata": {
    "scrolled": false
   },
   "outputs": [
    {
     "data": {
      "text/plain": [
       "3492"
      ]
     },
     "metadata": {},
     "output_type": "display_data"
    },
    {
     "data": {
      "text/plain": [
       "437"
      ]
     },
     "metadata": {},
     "output_type": "display_data"
    },
    {
     "data": {
      "text/plain": [
       "437"
      ]
     },
     "metadata": {},
     "output_type": "display_data"
    },
    {
     "data": {
      "text/html": [
       "<div>\n",
       "<style scoped>\n",
       "    .dataframe tbody tr th:only-of-type {\n",
       "        vertical-align: middle;\n",
       "    }\n",
       "\n",
       "    .dataframe tbody tr th {\n",
       "        vertical-align: top;\n",
       "    }\n",
       "\n",
       "    .dataframe thead th {\n",
       "        text-align: right;\n",
       "    }\n",
       "</style>\n",
       "<table border=\"1\" class=\"dataframe\">\n",
       "  <thead>\n",
       "    <tr style=\"text-align: right;\">\n",
       "      <th></th>\n",
       "      <th>num_orders</th>\n",
       "      <th>rolling_mean</th>\n",
       "      <th>hour</th>\n",
       "      <th>day_of_week</th>\n",
       "      <th>lag_1</th>\n",
       "      <th>lag_2</th>\n",
       "      <th>lag_3</th>\n",
       "      <th>lag_4</th>\n",
       "      <th>lag_5</th>\n",
       "      <th>lag_6</th>\n",
       "      <th>...</th>\n",
       "      <th>lag_41</th>\n",
       "      <th>lag_42</th>\n",
       "      <th>lag_43</th>\n",
       "      <th>lag_44</th>\n",
       "      <th>lag_45</th>\n",
       "      <th>lag_46</th>\n",
       "      <th>lag_47</th>\n",
       "      <th>lag_48</th>\n",
       "      <th>lag_49</th>\n",
       "      <th>lag_50</th>\n",
       "    </tr>\n",
       "    <tr>\n",
       "      <th>datetime</th>\n",
       "      <th></th>\n",
       "      <th></th>\n",
       "      <th></th>\n",
       "      <th></th>\n",
       "      <th></th>\n",
       "      <th></th>\n",
       "      <th></th>\n",
       "      <th></th>\n",
       "      <th></th>\n",
       "      <th></th>\n",
       "      <th></th>\n",
       "      <th></th>\n",
       "      <th></th>\n",
       "      <th></th>\n",
       "      <th></th>\n",
       "      <th></th>\n",
       "      <th></th>\n",
       "      <th></th>\n",
       "      <th></th>\n",
       "      <th></th>\n",
       "      <th></th>\n",
       "    </tr>\n",
       "  </thead>\n",
       "  <tbody>\n",
       "    <tr>\n",
       "      <th>2018-07-26 12:00:00</th>\n",
       "      <td>102</td>\n",
       "      <td>105.8</td>\n",
       "      <td>12</td>\n",
       "      <td>3</td>\n",
       "      <td>86.0</td>\n",
       "      <td>142.0</td>\n",
       "      <td>138.0</td>\n",
       "      <td>80.0</td>\n",
       "      <td>39.0</td>\n",
       "      <td>21.0</td>\n",
       "      <td>...</td>\n",
       "      <td>81.0</td>\n",
       "      <td>118.0</td>\n",
       "      <td>120.0</td>\n",
       "      <td>112.0</td>\n",
       "      <td>114.0</td>\n",
       "      <td>116.0</td>\n",
       "      <td>64.0</td>\n",
       "      <td>93.0</td>\n",
       "      <td>88.0</td>\n",
       "      <td>94.0</td>\n",
       "    </tr>\n",
       "    <tr>\n",
       "      <th>2018-07-26 13:00:00</th>\n",
       "      <td>70</td>\n",
       "      <td>96.3</td>\n",
       "      <td>13</td>\n",
       "      <td>3</td>\n",
       "      <td>102.0</td>\n",
       "      <td>86.0</td>\n",
       "      <td>142.0</td>\n",
       "      <td>138.0</td>\n",
       "      <td>80.0</td>\n",
       "      <td>39.0</td>\n",
       "      <td>...</td>\n",
       "      <td>82.0</td>\n",
       "      <td>81.0</td>\n",
       "      <td>118.0</td>\n",
       "      <td>120.0</td>\n",
       "      <td>112.0</td>\n",
       "      <td>114.0</td>\n",
       "      <td>116.0</td>\n",
       "      <td>64.0</td>\n",
       "      <td>93.0</td>\n",
       "      <td>88.0</td>\n",
       "    </tr>\n",
       "  </tbody>\n",
       "</table>\n",
       "<p>2 rows × 54 columns</p>\n",
       "</div>"
      ],
      "text/plain": [
       "                     num_orders  rolling_mean  hour  day_of_week  lag_1  \\\n",
       "datetime                                                                  \n",
       "2018-07-26 12:00:00         102         105.8    12            3   86.0   \n",
       "2018-07-26 13:00:00          70          96.3    13            3  102.0   \n",
       "\n",
       "                     lag_2  lag_3  lag_4  lag_5  lag_6  ...  lag_41  lag_42  \\\n",
       "datetime                                                ...                   \n",
       "2018-07-26 12:00:00  142.0  138.0   80.0   39.0   21.0  ...    81.0   118.0   \n",
       "2018-07-26 13:00:00   86.0  142.0  138.0   80.0   39.0  ...    82.0    81.0   \n",
       "\n",
       "                     lag_43  lag_44  lag_45  lag_46  lag_47  lag_48  lag_49  \\\n",
       "datetime                                                                      \n",
       "2018-07-26 12:00:00   120.0   112.0   114.0   116.0    64.0    93.0    88.0   \n",
       "2018-07-26 13:00:00   118.0   120.0   112.0   114.0   116.0    64.0    93.0   \n",
       "\n",
       "                     lag_50  \n",
       "datetime                     \n",
       "2018-07-26 12:00:00    94.0  \n",
       "2018-07-26 13:00:00    88.0  \n",
       "\n",
       "[2 rows x 54 columns]"
      ]
     },
     "metadata": {},
     "output_type": "display_data"
    },
    {
     "data": {
      "text/html": [
       "<div>\n",
       "<style scoped>\n",
       "    .dataframe tbody tr th:only-of-type {\n",
       "        vertical-align: middle;\n",
       "    }\n",
       "\n",
       "    .dataframe tbody tr th {\n",
       "        vertical-align: top;\n",
       "    }\n",
       "\n",
       "    .dataframe thead th {\n",
       "        text-align: right;\n",
       "    }\n",
       "</style>\n",
       "<table border=\"1\" class=\"dataframe\">\n",
       "  <thead>\n",
       "    <tr style=\"text-align: right;\">\n",
       "      <th></th>\n",
       "      <th>num_orders</th>\n",
       "      <th>rolling_mean</th>\n",
       "      <th>hour</th>\n",
       "      <th>day_of_week</th>\n",
       "      <th>lag_1</th>\n",
       "      <th>lag_2</th>\n",
       "      <th>lag_3</th>\n",
       "      <th>lag_4</th>\n",
       "      <th>lag_5</th>\n",
       "      <th>lag_6</th>\n",
       "      <th>...</th>\n",
       "      <th>lag_41</th>\n",
       "      <th>lag_42</th>\n",
       "      <th>lag_43</th>\n",
       "      <th>lag_44</th>\n",
       "      <th>lag_45</th>\n",
       "      <th>lag_46</th>\n",
       "      <th>lag_47</th>\n",
       "      <th>lag_48</th>\n",
       "      <th>lag_49</th>\n",
       "      <th>lag_50</th>\n",
       "    </tr>\n",
       "    <tr>\n",
       "      <th>datetime</th>\n",
       "      <th></th>\n",
       "      <th></th>\n",
       "      <th></th>\n",
       "      <th></th>\n",
       "      <th></th>\n",
       "      <th></th>\n",
       "      <th></th>\n",
       "      <th></th>\n",
       "      <th></th>\n",
       "      <th></th>\n",
       "      <th></th>\n",
       "      <th></th>\n",
       "      <th></th>\n",
       "      <th></th>\n",
       "      <th></th>\n",
       "      <th></th>\n",
       "      <th></th>\n",
       "      <th></th>\n",
       "      <th></th>\n",
       "      <th></th>\n",
       "      <th></th>\n",
       "    </tr>\n",
       "  </thead>\n",
       "  <tbody>\n",
       "    <tr>\n",
       "      <th>2018-07-26 14:00:00</th>\n",
       "      <td>53</td>\n",
       "      <td>89.2</td>\n",
       "      <td>14</td>\n",
       "      <td>3</td>\n",
       "      <td>70.0</td>\n",
       "      <td>102.0</td>\n",
       "      <td>86.0</td>\n",
       "      <td>142.0</td>\n",
       "      <td>138.0</td>\n",
       "      <td>80.0</td>\n",
       "      <td>...</td>\n",
       "      <td>113.0</td>\n",
       "      <td>82.0</td>\n",
       "      <td>81.0</td>\n",
       "      <td>118.0</td>\n",
       "      <td>120.0</td>\n",
       "      <td>112.0</td>\n",
       "      <td>114.0</td>\n",
       "      <td>116.0</td>\n",
       "      <td>64.0</td>\n",
       "      <td>93.0</td>\n",
       "    </tr>\n",
       "    <tr>\n",
       "      <th>2018-07-26 15:00:00</th>\n",
       "      <td>104</td>\n",
       "      <td>81.4</td>\n",
       "      <td>15</td>\n",
       "      <td>3</td>\n",
       "      <td>53.0</td>\n",
       "      <td>70.0</td>\n",
       "      <td>102.0</td>\n",
       "      <td>86.0</td>\n",
       "      <td>142.0</td>\n",
       "      <td>138.0</td>\n",
       "      <td>...</td>\n",
       "      <td>73.0</td>\n",
       "      <td>113.0</td>\n",
       "      <td>82.0</td>\n",
       "      <td>81.0</td>\n",
       "      <td>118.0</td>\n",
       "      <td>120.0</td>\n",
       "      <td>112.0</td>\n",
       "      <td>114.0</td>\n",
       "      <td>116.0</td>\n",
       "      <td>64.0</td>\n",
       "    </tr>\n",
       "  </tbody>\n",
       "</table>\n",
       "<p>2 rows × 54 columns</p>\n",
       "</div>"
      ],
      "text/plain": [
       "                     num_orders  rolling_mean  hour  day_of_week  lag_1  \\\n",
       "datetime                                                                  \n",
       "2018-07-26 14:00:00          53          89.2    14            3   70.0   \n",
       "2018-07-26 15:00:00         104          81.4    15            3   53.0   \n",
       "\n",
       "                     lag_2  lag_3  lag_4  lag_5  lag_6  ...  lag_41  lag_42  \\\n",
       "datetime                                                ...                   \n",
       "2018-07-26 14:00:00  102.0   86.0  142.0  138.0   80.0  ...   113.0    82.0   \n",
       "2018-07-26 15:00:00   70.0  102.0   86.0  142.0  138.0  ...    73.0   113.0   \n",
       "\n",
       "                     lag_43  lag_44  lag_45  lag_46  lag_47  lag_48  lag_49  \\\n",
       "datetime                                                                      \n",
       "2018-07-26 14:00:00    81.0   118.0   120.0   112.0   114.0   116.0    64.0   \n",
       "2018-07-26 15:00:00    82.0    81.0   118.0   120.0   112.0   114.0   116.0   \n",
       "\n",
       "                     lag_50  \n",
       "datetime                     \n",
       "2018-07-26 14:00:00    93.0  \n",
       "2018-07-26 15:00:00    64.0  \n",
       "\n",
       "[2 rows x 54 columns]"
      ]
     },
     "metadata": {},
     "output_type": "display_data"
    },
    {
     "data": {
      "text/html": [
       "<div>\n",
       "<style scoped>\n",
       "    .dataframe tbody tr th:only-of-type {\n",
       "        vertical-align: middle;\n",
       "    }\n",
       "\n",
       "    .dataframe tbody tr th {\n",
       "        vertical-align: top;\n",
       "    }\n",
       "\n",
       "    .dataframe thead th {\n",
       "        text-align: right;\n",
       "    }\n",
       "</style>\n",
       "<table border=\"1\" class=\"dataframe\">\n",
       "  <thead>\n",
       "    <tr style=\"text-align: right;\">\n",
       "      <th></th>\n",
       "      <th>num_orders</th>\n",
       "      <th>rolling_mean</th>\n",
       "      <th>hour</th>\n",
       "      <th>day_of_week</th>\n",
       "      <th>lag_1</th>\n",
       "      <th>lag_2</th>\n",
       "      <th>lag_3</th>\n",
       "      <th>lag_4</th>\n",
       "      <th>lag_5</th>\n",
       "      <th>lag_6</th>\n",
       "      <th>...</th>\n",
       "      <th>lag_41</th>\n",
       "      <th>lag_42</th>\n",
       "      <th>lag_43</th>\n",
       "      <th>lag_44</th>\n",
       "      <th>lag_45</th>\n",
       "      <th>lag_46</th>\n",
       "      <th>lag_47</th>\n",
       "      <th>lag_48</th>\n",
       "      <th>lag_49</th>\n",
       "      <th>lag_50</th>\n",
       "    </tr>\n",
       "    <tr>\n",
       "      <th>datetime</th>\n",
       "      <th></th>\n",
       "      <th></th>\n",
       "      <th></th>\n",
       "      <th></th>\n",
       "      <th></th>\n",
       "      <th></th>\n",
       "      <th></th>\n",
       "      <th></th>\n",
       "      <th></th>\n",
       "      <th></th>\n",
       "      <th></th>\n",
       "      <th></th>\n",
       "      <th></th>\n",
       "      <th></th>\n",
       "      <th></th>\n",
       "      <th></th>\n",
       "      <th></th>\n",
       "      <th></th>\n",
       "      <th></th>\n",
       "      <th></th>\n",
       "      <th></th>\n",
       "    </tr>\n",
       "  </thead>\n",
       "  <tbody>\n",
       "    <tr>\n",
       "      <th>2018-08-13 17:00:00</th>\n",
       "      <td>152</td>\n",
       "      <td>119.9</td>\n",
       "      <td>17</td>\n",
       "      <td>0</td>\n",
       "      <td>144.0</td>\n",
       "      <td>175.0</td>\n",
       "      <td>102.0</td>\n",
       "      <td>119.0</td>\n",
       "      <td>92.0</td>\n",
       "      <td>144.0</td>\n",
       "      <td>...</td>\n",
       "      <td>174.0</td>\n",
       "      <td>155.0</td>\n",
       "      <td>89.0</td>\n",
       "      <td>105.0</td>\n",
       "      <td>84.0</td>\n",
       "      <td>102.0</td>\n",
       "      <td>62.0</td>\n",
       "      <td>122.0</td>\n",
       "      <td>174.0</td>\n",
       "      <td>143.0</td>\n",
       "    </tr>\n",
       "    <tr>\n",
       "      <th>2018-08-13 18:00:00</th>\n",
       "      <td>104</td>\n",
       "      <td>131.2</td>\n",
       "      <td>18</td>\n",
       "      <td>0</td>\n",
       "      <td>152.0</td>\n",
       "      <td>144.0</td>\n",
       "      <td>175.0</td>\n",
       "      <td>102.0</td>\n",
       "      <td>119.0</td>\n",
       "      <td>92.0</td>\n",
       "      <td>...</td>\n",
       "      <td>177.0</td>\n",
       "      <td>174.0</td>\n",
       "      <td>155.0</td>\n",
       "      <td>89.0</td>\n",
       "      <td>105.0</td>\n",
       "      <td>84.0</td>\n",
       "      <td>102.0</td>\n",
       "      <td>62.0</td>\n",
       "      <td>122.0</td>\n",
       "      <td>174.0</td>\n",
       "    </tr>\n",
       "  </tbody>\n",
       "</table>\n",
       "<p>2 rows × 54 columns</p>\n",
       "</div>"
      ],
      "text/plain": [
       "                     num_orders  rolling_mean  hour  day_of_week  lag_1  \\\n",
       "datetime                                                                  \n",
       "2018-08-13 17:00:00         152         119.9    17            0  144.0   \n",
       "2018-08-13 18:00:00         104         131.2    18            0  152.0   \n",
       "\n",
       "                     lag_2  lag_3  lag_4  lag_5  lag_6  ...  lag_41  lag_42  \\\n",
       "datetime                                                ...                   \n",
       "2018-08-13 17:00:00  175.0  102.0  119.0   92.0  144.0  ...   174.0   155.0   \n",
       "2018-08-13 18:00:00  144.0  175.0  102.0  119.0   92.0  ...   177.0   174.0   \n",
       "\n",
       "                     lag_43  lag_44  lag_45  lag_46  lag_47  lag_48  lag_49  \\\n",
       "datetime                                                                      \n",
       "2018-08-13 17:00:00    89.0   105.0    84.0   102.0    62.0   122.0   174.0   \n",
       "2018-08-13 18:00:00   155.0    89.0   105.0    84.0   102.0    62.0   122.0   \n",
       "\n",
       "                     lag_50  \n",
       "datetime                     \n",
       "2018-08-13 17:00:00   143.0  \n",
       "2018-08-13 18:00:00   174.0  \n",
       "\n",
       "[2 rows x 54 columns]"
      ]
     },
     "metadata": {},
     "output_type": "display_data"
    },
    {
     "data": {
      "text/html": [
       "<div>\n",
       "<style scoped>\n",
       "    .dataframe tbody tr th:only-of-type {\n",
       "        vertical-align: middle;\n",
       "    }\n",
       "\n",
       "    .dataframe tbody tr th {\n",
       "        vertical-align: top;\n",
       "    }\n",
       "\n",
       "    .dataframe thead th {\n",
       "        text-align: right;\n",
       "    }\n",
       "</style>\n",
       "<table border=\"1\" class=\"dataframe\">\n",
       "  <thead>\n",
       "    <tr style=\"text-align: right;\">\n",
       "      <th></th>\n",
       "      <th>num_orders</th>\n",
       "      <th>rolling_mean</th>\n",
       "      <th>hour</th>\n",
       "      <th>day_of_week</th>\n",
       "      <th>lag_1</th>\n",
       "      <th>lag_2</th>\n",
       "      <th>lag_3</th>\n",
       "      <th>lag_4</th>\n",
       "      <th>lag_5</th>\n",
       "      <th>lag_6</th>\n",
       "      <th>...</th>\n",
       "      <th>lag_41</th>\n",
       "      <th>lag_42</th>\n",
       "      <th>lag_43</th>\n",
       "      <th>lag_44</th>\n",
       "      <th>lag_45</th>\n",
       "      <th>lag_46</th>\n",
       "      <th>lag_47</th>\n",
       "      <th>lag_48</th>\n",
       "      <th>lag_49</th>\n",
       "      <th>lag_50</th>\n",
       "    </tr>\n",
       "    <tr>\n",
       "      <th>datetime</th>\n",
       "      <th></th>\n",
       "      <th></th>\n",
       "      <th></th>\n",
       "      <th></th>\n",
       "      <th></th>\n",
       "      <th></th>\n",
       "      <th></th>\n",
       "      <th></th>\n",
       "      <th></th>\n",
       "      <th></th>\n",
       "      <th></th>\n",
       "      <th></th>\n",
       "      <th></th>\n",
       "      <th></th>\n",
       "      <th></th>\n",
       "      <th></th>\n",
       "      <th></th>\n",
       "      <th></th>\n",
       "      <th></th>\n",
       "      <th></th>\n",
       "      <th></th>\n",
       "    </tr>\n",
       "  </thead>\n",
       "  <tbody>\n",
       "    <tr>\n",
       "      <th>2018-08-13 19:00:00</th>\n",
       "      <td>91</td>\n",
       "      <td>132.5</td>\n",
       "      <td>19</td>\n",
       "      <td>0</td>\n",
       "      <td>104.0</td>\n",
       "      <td>152.0</td>\n",
       "      <td>144.0</td>\n",
       "      <td>175.0</td>\n",
       "      <td>102.0</td>\n",
       "      <td>119.0</td>\n",
       "      <td>...</td>\n",
       "      <td>157.0</td>\n",
       "      <td>177.0</td>\n",
       "      <td>174.0</td>\n",
       "      <td>155.0</td>\n",
       "      <td>89.0</td>\n",
       "      <td>105.0</td>\n",
       "      <td>84.0</td>\n",
       "      <td>102.0</td>\n",
       "      <td>62.0</td>\n",
       "      <td>122.0</td>\n",
       "    </tr>\n",
       "    <tr>\n",
       "      <th>2018-08-13 20:00:00</th>\n",
       "      <td>82</td>\n",
       "      <td>127.9</td>\n",
       "      <td>20</td>\n",
       "      <td>0</td>\n",
       "      <td>91.0</td>\n",
       "      <td>104.0</td>\n",
       "      <td>152.0</td>\n",
       "      <td>144.0</td>\n",
       "      <td>175.0</td>\n",
       "      <td>102.0</td>\n",
       "      <td>...</td>\n",
       "      <td>136.0</td>\n",
       "      <td>157.0</td>\n",
       "      <td>177.0</td>\n",
       "      <td>174.0</td>\n",
       "      <td>155.0</td>\n",
       "      <td>89.0</td>\n",
       "      <td>105.0</td>\n",
       "      <td>84.0</td>\n",
       "      <td>102.0</td>\n",
       "      <td>62.0</td>\n",
       "    </tr>\n",
       "  </tbody>\n",
       "</table>\n",
       "<p>2 rows × 54 columns</p>\n",
       "</div>"
      ],
      "text/plain": [
       "                     num_orders  rolling_mean  hour  day_of_week  lag_1  \\\n",
       "datetime                                                                  \n",
       "2018-08-13 19:00:00          91         132.5    19            0  104.0   \n",
       "2018-08-13 20:00:00          82         127.9    20            0   91.0   \n",
       "\n",
       "                     lag_2  lag_3  lag_4  lag_5  lag_6  ...  lag_41  lag_42  \\\n",
       "datetime                                                ...                   \n",
       "2018-08-13 19:00:00  152.0  144.0  175.0  102.0  119.0  ...   157.0   177.0   \n",
       "2018-08-13 20:00:00  104.0  152.0  144.0  175.0  102.0  ...   136.0   157.0   \n",
       "\n",
       "                     lag_43  lag_44  lag_45  lag_46  lag_47  lag_48  lag_49  \\\n",
       "datetime                                                                      \n",
       "2018-08-13 19:00:00   174.0   155.0    89.0   105.0    84.0   102.0    62.0   \n",
       "2018-08-13 20:00:00   177.0   174.0   155.0    89.0   105.0    84.0   102.0   \n",
       "\n",
       "                     lag_50  \n",
       "datetime                     \n",
       "2018-08-13 19:00:00   122.0  \n",
       "2018-08-13 20:00:00    62.0  \n",
       "\n",
       "[2 rows x 54 columns]"
      ]
     },
     "metadata": {},
     "output_type": "display_data"
    }
   ],
   "source": [
    "# проверка соотношения размеров выборок\n",
    "display(len(data_train), len(data_valid), len(data_test))\n",
    "\n",
    "# проверка корректности разделения выборок\n",
    "display(data_train.tail(2), data_valid.head(2), data_valid.tail(2), data_test.head(2))"
   ]
  },
  {
   "cell_type": "code",
   "execution_count": 491,
   "metadata": {},
   "outputs": [],
   "source": [
    "# признаки и целевой признак в обучающей выборке \n",
    "features_train = data_train.drop(['num_orders'], axis=1)\n",
    "target_train = data_train['num_orders']\n",
    "\n",
    "# признаки и целевой признак в валидационной выборке \n",
    "features_valid = data_valid.drop(['num_orders'], axis=1)\n",
    "target_valid = data_valid['num_orders']\n",
    "\n",
    "# признаки и целевой признак в тестовой выборке \n",
    "features_test = data_test.drop(['num_orders'], axis=1)\n",
    "target_test = data_test['num_orders']"
   ]
  },
  {
   "cell_type": "markdown",
   "metadata": {},
   "source": [
    "### Линейная регрессия"
   ]
  },
  {
   "cell_type": "code",
   "execution_count": 492,
   "metadata": {},
   "outputs": [
    {
     "data": {
      "text/plain": [
       "31.733863999481823"
      ]
     },
     "metadata": {},
     "output_type": "display_data"
    }
   ],
   "source": [
    "# модель 'линейная регрессия'\n",
    "model_lin_reg = LinearRegression()\n",
    "\n",
    "# обучение модели\n",
    "model_lin_reg.fit(features_train, target_train)\n",
    "\n",
    "# предсказания модели на валидационной выборке\n",
    "pred_valid = model_lin_reg.predict(features_valid)\n",
    "\n",
    "# RMSE модели на валидационной выборке\n",
    "display(mean_squared_error(target_valid, pred_valid, squared=False))"
   ]
  },
  {
   "cell_type": "markdown",
   "metadata": {},
   "source": [
    "### Случайный лес "
   ]
  },
  {
   "cell_type": "code",
   "execution_count": 493,
   "metadata": {
    "scrolled": true
   },
   "outputs": [
    {
     "data": {
      "text/plain": [
       "32.23124481159955"
      ]
     },
     "metadata": {},
     "output_type": "display_data"
    }
   ],
   "source": [
    "# вариации гиперпараметров\n",
    "max_depth = [int(x) for x in np.linspace(10, 50, num = 3)]\n",
    "n_estimators = [int(x) for x in np.linspace(10, 100, num = 3)]\n",
    "\n",
    "# сетка гиперпараметров\n",
    "param_grid = {'max_depth':max_depth,\n",
    "              'n_estimators':n_estimators}\n",
    "\n",
    "# параметр кросс-валидации для временных рядов \n",
    "tscv = TimeSeriesSplit(n_splits=8)\n",
    "\n",
    "# модель 'случайный лес'\n",
    "model_forest = GridSearchCV(RandomForestRegressor(random_state=42), param_grid=param_grid, \n",
    "                            scoring='neg_root_mean_squared_error', cv=tscv)\n",
    "# обучение модели\n",
    "model_forest.fit(features_train, target_train)\n",
    "\n",
    "# предсказания модели на валидационной выборке\n",
    "pred_valid = model_forest.predict(features_valid)\n",
    "\n",
    "# RMSE модели на валидационной выборке\n",
    "display(mean_squared_error(target_valid, pred_valid, squared=False))"
   ]
  },
  {
   "cell_type": "markdown",
   "metadata": {},
   "source": [
    "### CatBoostRegressor"
   ]
  },
  {
   "cell_type": "code",
   "execution_count": 494,
   "metadata": {
    "scrolled": true
   },
   "outputs": [
    {
     "name": "stdout",
     "output_type": "stream",
     "text": [
      "Learning rate set to 0.5\n",
      "0:\tlearn: 23.7021761\ttotal: 50.9ms\tremaining: 458ms\n",
      "9:\tlearn: 9.3931238\ttotal: 480ms\tremaining: 0us\n",
      "Learning rate set to 0.5\n",
      "0:\tlearn: 23.6600314\ttotal: 56.3ms\tremaining: 507ms\n",
      "9:\tlearn: 10.9693834\ttotal: 559ms\tremaining: 0us\n",
      "Learning rate set to 0.5\n",
      "0:\tlearn: 23.9530442\ttotal: 61.6ms\tremaining: 554ms\n",
      "9:\tlearn: 11.7407918\ttotal: 606ms\tremaining: 0us\n",
      "Learning rate set to 0.5\n",
      "0:\tlearn: 24.8233904\ttotal: 67.6ms\tremaining: 608ms\n",
      "9:\tlearn: 13.0819845\ttotal: 668ms\tremaining: 0us\n",
      "Learning rate set to 0.5\n",
      "0:\tlearn: 25.2598172\ttotal: 70.7ms\tremaining: 636ms\n",
      "9:\tlearn: 13.5105804\ttotal: 709ms\tremaining: 0us\n",
      "Learning rate set to 0.5\n",
      "0:\tlearn: 25.5576300\ttotal: 78.4ms\tremaining: 705ms\n",
      "9:\tlearn: 14.1644060\ttotal: 795ms\tremaining: 0us\n",
      "Learning rate set to 0.5\n",
      "0:\tlearn: 26.4658366\ttotal: 96.7ms\tremaining: 870ms\n",
      "9:\tlearn: 14.4085562\ttotal: 805ms\tremaining: 0us\n",
      "Learning rate set to 0.5\n",
      "0:\tlearn: 26.7468827\ttotal: 84.4ms\tremaining: 760ms\n",
      "9:\tlearn: 15.9163901\ttotal: 828ms\tremaining: 0us\n",
      "Learning rate set to 0.372649\n",
      "0:\tlearn: 24.8824615\ttotal: 49.4ms\tremaining: 2.67s\n",
      "54:\tlearn: 0.5475938\ttotal: 2.71s\tremaining: 0us\n",
      "Learning rate set to 0.415779\n",
      "0:\tlearn: 24.4436538\ttotal: 57.7ms\tremaining: 3.11s\n",
      "54:\tlearn: 1.2977667\ttotal: 3.26s\tremaining: 0us\n",
      "Learning rate set to 0.443287\n",
      "0:\tlearn: 24.4709332\ttotal: 60.8ms\tremaining: 3.28s\n",
      "54:\tlearn: 1.7586240\ttotal: 3.35s\tremaining: 0us\n",
      "Learning rate set to 0.463901\n",
      "0:\tlearn: 25.1954339\ttotal: 67.2ms\tremaining: 3.63s\n",
      "54:\tlearn: 2.8694880\ttotal: 3.69s\tremaining: 0us\n",
      "Learning rate set to 0.480549\n",
      "0:\tlearn: 25.4682143\ttotal: 70.8ms\tremaining: 3.82s\n",
      "54:\tlearn: 3.0619944\ttotal: 4.01s\tremaining: 0us\n",
      "Learning rate set to 0.494593\n",
      "0:\tlearn: 25.6215770\ttotal: 73.9ms\tremaining: 3.99s\n",
      "54:\tlearn: 3.5240460\ttotal: 4.17s\tremaining: 0us\n",
      "Learning rate set to 0.5\n",
      "0:\tlearn: 26.4658366\ttotal: 78.2ms\tremaining: 4.22s\n",
      "54:\tlearn: 4.1735560\ttotal: 4.39s\tremaining: 0us\n",
      "Learning rate set to 0.5\n",
      "0:\tlearn: 26.7468827\ttotal: 78.8ms\tremaining: 4.25s\n",
      "54:\tlearn: 5.0289551\ttotal: 4.41s\tremaining: 0us\n",
      "Learning rate set to 0.2292\n",
      "0:\tlearn: 26.3139437\ttotal: 48.3ms\tremaining: 4.78s\n",
      "99:\tlearn: 0.6248415\ttotal: 5.24s\tremaining: 0us\n",
      "Learning rate set to 0.255728\n",
      "0:\tlearn: 26.0899881\ttotal: 61.5ms\tremaining: 6.09s\n",
      "99:\tlearn: 0.8147387\ttotal: 5.79s\tremaining: 0us\n",
      "Learning rate set to 0.272647\n",
      "0:\tlearn: 26.2015246\ttotal: 64.3ms\tremaining: 6.37s\n",
      "99:\tlearn: 1.4119257\ttotal: 6.15s\tremaining: 0us\n",
      "Learning rate set to 0.285325\n",
      "0:\tlearn: 27.1938453\ttotal: 64.8ms\tremaining: 6.42s\n",
      "99:\tlearn: 2.2884718\ttotal: 6.8s\tremaining: 0us\n",
      "Learning rate set to 0.295564\n",
      "0:\tlearn: 27.6691734\ttotal: 84ms\tremaining: 8.31s\n",
      "99:\tlearn: 2.2589290\ttotal: 7.39s\tremaining: 0us\n",
      "Learning rate set to 0.304203\n",
      "0:\tlearn: 28.0983338\ttotal: 76.2ms\tremaining: 7.54s\n",
      "99:\tlearn: 3.1851852\ttotal: 7.62s\tremaining: 0us\n",
      "Learning rate set to 0.311703\n",
      "0:\tlearn: 28.8221299\ttotal: 77.9ms\tremaining: 7.71s\n",
      "99:\tlearn: 3.1721058\ttotal: 7.93s\tremaining: 0us\n",
      "Learning rate set to 0.318349\n",
      "0:\tlearn: 29.1396954\ttotal: 78.3ms\tremaining: 7.75s\n",
      "99:\tlearn: 3.5960855\ttotal: 8.05s\tremaining: 0us\n",
      "Learning rate set to 0.324329\n",
      "0:\tlearn: 30.3996526\ttotal: 86.4ms\tremaining: 8.55s\n",
      "99:\tlearn: 4.2762541\ttotal: 8.55s\tremaining: 0us\n"
     ]
    },
    {
     "data": {
      "text/plain": [
       "34.35749409003977"
      ]
     },
     "metadata": {},
     "output_type": "display_data"
    }
   ],
   "source": [
    "# вариации гиперпараметров\n",
    "loss_function = ['RMSE']\n",
    "max_depth = [int(x) for x in np.linspace(10, 50, num = 3)]\n",
    "iterations = [int(x) for x in np.linspace(10, 100, num = 3)]\n",
    "\n",
    "# сетка гиперпараметров\n",
    "param_grid = {'n_estimators':n_estimators,\n",
    "              'loss_function':loss_function,\n",
    "              'max_depth':max_depth}\n",
    "\n",
    "# модель 'CatBoostRegressor'\n",
    "model_cat = GridSearchCV(CatBoostRegressor(), param_grid=param_grid, scoring='neg_root_mean_squared_error', cv=tscv)\n",
    "\n",
    "# обучение модели\n",
    "model_cat.fit(features_train, target_train, verbose=100)\n",
    "\n",
    "# предсказания модели на валидационной выборке\n",
    "pred_valid = model_cat.predict(features_valid)\n",
    "\n",
    "# RMSE модели на валидационной выборке\n",
    "display(mean_squared_error(target_valid, pred_valid, squared=False))"
   ]
  },
  {
   "cell_type": "markdown",
   "metadata": {},
   "source": [
    "### Сравнение моделей\n",
    "Наименьшую ошибку RMSE на валидационной выборке с изменением количества отстающих значений показывает <br>\n",
    "**модель 'линейная регрессия' - 31.73**. "
   ]
  },
  {
   "cell_type": "code",
   "execution_count": 496,
   "metadata": {},
   "outputs": [
    {
     "data": {
      "text/html": [
       "<div>\n",
       "<style scoped>\n",
       "    .dataframe tbody tr th:only-of-type {\n",
       "        vertical-align: middle;\n",
       "    }\n",
       "\n",
       "    .dataframe tbody tr th {\n",
       "        vertical-align: top;\n",
       "    }\n",
       "\n",
       "    .dataframe thead th {\n",
       "        text-align: right;\n",
       "    }\n",
       "</style>\n",
       "<table border=\"1\" class=\"dataframe\">\n",
       "  <thead>\n",
       "    <tr style=\"text-align: right;\">\n",
       "      <th></th>\n",
       "      <th>RMSE_valid_8_lags</th>\n",
       "      <th>RMSE_valid_10_lags</th>\n",
       "      <th>RMSE_valid_15_lags</th>\n",
       "      <th>RMSE_valid_25_lags</th>\n",
       "      <th>RMSE_valid_50_lags</th>\n",
       "    </tr>\n",
       "  </thead>\n",
       "  <tbody>\n",
       "    <tr>\n",
       "      <th>LinearRegression</th>\n",
       "      <td>42.47</td>\n",
       "      <td>42.41</td>\n",
       "      <td>41.50</td>\n",
       "      <td>34.47</td>\n",
       "      <td>31.73</td>\n",
       "    </tr>\n",
       "    <tr>\n",
       "      <th>RandomForestRegressor</th>\n",
       "      <td>32.48</td>\n",
       "      <td>32.19</td>\n",
       "      <td>31.74</td>\n",
       "      <td>31.94</td>\n",
       "      <td>32.23</td>\n",
       "    </tr>\n",
       "    <tr>\n",
       "      <th>CatBoostRegressor</th>\n",
       "      <td>34.40</td>\n",
       "      <td>34.20</td>\n",
       "      <td>32.35</td>\n",
       "      <td>32.83</td>\n",
       "      <td>34.35</td>\n",
       "    </tr>\n",
       "  </tbody>\n",
       "</table>\n",
       "</div>"
      ],
      "text/plain": [
       "                       RMSE_valid_8_lags  RMSE_valid_10_lags  \\\n",
       "LinearRegression                   42.47               42.41   \n",
       "RandomForestRegressor              32.48               32.19   \n",
       "CatBoostRegressor                  34.40               34.20   \n",
       "\n",
       "                       RMSE_valid_15_lags  RMSE_valid_25_lags  \\\n",
       "LinearRegression                    41.50               34.47   \n",
       "RandomForestRegressor               31.74               31.94   \n",
       "CatBoostRegressor                   32.35               32.83   \n",
       "\n",
       "                       RMSE_valid_50_lags  \n",
       "LinearRegression                    31.73  \n",
       "RandomForestRegressor               32.23  \n",
       "CatBoostRegressor                   34.35  "
      ]
     },
     "metadata": {},
     "output_type": "display_data"
    },
    {
     "data": {
      "text/plain": [
       "31.73"
      ]
     },
     "metadata": {},
     "output_type": "display_data"
    }
   ],
   "source": [
    "# датафрейм с результатами моделей \n",
    "models_stats = pd.DataFrame(data={'RMSE_valid_8_lags':[42.47, 32.48, 34.40], \n",
    "                                  'RMSE_valid_10_lags':[42.41, 32.19, 34.20], \n",
    "                                  'RMSE_valid_15_lags':[41.50, 31.74, 32.35], \n",
    "                                  'RMSE_valid_25_lags':[34.47, 31.94, 32.83], \n",
    "                                  'RMSE_valid_50_lags':[31.73, 32.23, 34.35]}, \n",
    "                            index=['LinearRegression', 'RandomForestRegressor', 'CatBoostRegressor'])\n",
    "display(models_stats)\n",
    "display(models_stats.min().min())"
   ]
  },
  {
   "cell_type": "markdown",
   "metadata": {},
   "source": [
    "### Проверка выбранной модели на адекватность\n",
    "Для проверки модели на адекватность сравним ее с предсказаниями без обучения. <br>\n",
    "Используем способ прогнозирования нового элемента x(t) предыдущим элементом x(t-1). <br>\n",
    "Модель показывает ошибку RMSE меньше, нежели ошибка прогноза без обучения, следовательно выбранная модель адекватна.\n"
   ]
  },
  {
   "cell_type": "code",
   "execution_count": 497,
   "metadata": {},
   "outputs": [
    {
     "data": {
      "text/plain": [
       "59.02431333965175"
      ]
     },
     "metadata": {},
     "output_type": "display_data"
    }
   ],
   "source": [
    "# прогнозирование нового элемента предыдущим\n",
    "pred_previous = data_test['num_orders'].shift()\n",
    "\n",
    "# замена первого пропущенного значение в тестовой выборке последним из обучающей выборки\n",
    "pred_previous.iloc[0] = data_train['num_orders'].iloc[-1]\n",
    "\n",
    "# RMSE предсказаний на тестовой выборке\n",
    "display(mean_squared_error(target_test, pred_previous, squared=False))"
   ]
  },
  {
   "cell_type": "markdown",
   "metadata": {},
   "source": [
    "## Тестирование"
   ]
  },
  {
   "cell_type": "code",
   "execution_count": 498,
   "metadata": {},
   "outputs": [
    {
     "data": {
      "text/plain": [
       "42.30224424304047"
      ]
     },
     "metadata": {},
     "output_type": "display_data"
    }
   ],
   "source": [
    "# предсказания выбранной модели на тестовой выборке\n",
    "pred_test = model_lin_reg.predict(features_test)\n",
    "\n",
    "# RMSE выбранной модели на тестовой выборке\n",
    "display(mean_squared_error(target_test, pred_test, squared=False))"
   ]
  },
  {
   "cell_type": "markdown",
   "metadata": {},
   "source": [
    "## Вывод\n",
    "* Провели первичный обзор данных.\n",
    "* В качества индекса установили столбец 'datetime', отсортировали его и ресемплировали по часу.\n",
    "* Посмотрели линейные графики скользящего среднего и скользящего стандартного отклонения.\n",
    "* Выяснили, что имеющийся ряд стационарный.\n",
    "* Посмотрели описательные данные и диаграмму размаха целевого признака.\n",
    "* Провели анализ на тренд и сезонность.\n",
    "* Сформировали новые признаки: календарные признаки, отстающие значения и скользящее среднее.\n",
    "* Разделили данные на обучающую, валидационную и тестовую выборки в соотношении 8:1:1 соответственно.\n",
    "* Обучили и сравнили между собой три разные модели: 'линейная регрессия', 'случайный лес', 'CatBoostRegressor'. Подобрали наилучшую модель по RMSE ошибке с изменяющимся количеством отстающих значений - 'линейная регрессия'.\n",
    "* Провели проверку выбранной модели на адекватность, путем сравнения ее показателей с показателями прогноза без обучения. Выбранный способ прогноза без обучения - предсказания нового элемента x(t) предыдущим элементом x(t-1).\n",
    "* Протестировали выбранную модель на тестовой выборке. **Конечная RMSE ошибка модели на тестовых данных: 42.30**."
   ]
  }
 ],
 "metadata": {
  "ExecuteTimeLog": [
   {
    "duration": 409,
    "start_time": "2022-08-04T12:23:51.371Z"
   },
   {
    "duration": 106,
    "start_time": "2022-08-04T12:24:09.955Z"
   },
   {
    "duration": 57,
    "start_time": "2022-08-04T12:24:20.480Z"
   },
   {
    "duration": 71,
    "start_time": "2022-08-04T12:24:57.972Z"
   },
   {
    "duration": 2052,
    "start_time": "2022-08-04T12:25:03.318Z"
   },
   {
    "duration": 1404,
    "start_time": "2022-08-04T12:25:18.217Z"
   },
   {
    "duration": 8,
    "start_time": "2022-08-04T12:26:36.299Z"
   },
   {
    "duration": 36,
    "start_time": "2022-08-04T12:27:09.130Z"
   },
   {
    "duration": 938,
    "start_time": "2022-08-04T12:27:52.338Z"
   },
   {
    "duration": 2,
    "start_time": "2022-08-04T12:28:13.616Z"
   },
   {
    "duration": 52,
    "start_time": "2022-08-04T12:28:13.620Z"
   },
   {
    "duration": 9,
    "start_time": "2022-08-04T12:28:13.673Z"
   },
   {
    "duration": 8,
    "start_time": "2022-08-04T12:28:13.683Z"
   },
   {
    "duration": 4,
    "start_time": "2022-08-04T12:28:19.054Z"
   },
   {
    "duration": 2,
    "start_time": "2022-08-04T12:30:48.519Z"
   },
   {
    "duration": 65,
    "start_time": "2022-08-04T12:30:48.523Z"
   },
   {
    "duration": 15,
    "start_time": "2022-08-04T12:30:48.590Z"
   },
   {
    "duration": 3,
    "start_time": "2022-08-04T12:30:48.607Z"
   },
   {
    "duration": 8,
    "start_time": "2022-08-04T12:36:35.254Z"
   },
   {
    "duration": 956,
    "start_time": "2022-08-04T13:00:56.915Z"
   },
   {
    "duration": 3,
    "start_time": "2022-08-04T13:02:10.859Z"
   },
   {
    "duration": 59,
    "start_time": "2022-08-04T13:02:10.864Z"
   },
   {
    "duration": 22,
    "start_time": "2022-08-04T13:02:10.924Z"
   },
   {
    "duration": 5,
    "start_time": "2022-08-04T13:03:21.032Z"
   },
   {
    "duration": 21,
    "start_time": "2022-08-04T13:19:56.922Z"
   },
   {
    "duration": 2,
    "start_time": "2022-08-04T13:20:17.185Z"
   },
   {
    "duration": 64,
    "start_time": "2022-08-04T13:20:17.189Z"
   },
   {
    "duration": 16,
    "start_time": "2022-08-04T13:20:17.254Z"
   },
   {
    "duration": 191,
    "start_time": "2022-08-04T13:20:17.272Z"
   },
   {
    "duration": 190,
    "start_time": "2022-08-04T13:20:26.483Z"
   },
   {
    "duration": 202,
    "start_time": "2022-08-04T13:22:20.030Z"
   },
   {
    "duration": 817,
    "start_time": "2022-08-04T13:26:45.512Z"
   },
   {
    "duration": 3,
    "start_time": "2022-08-04T13:27:15.670Z"
   },
   {
    "duration": 55,
    "start_time": "2022-08-04T13:27:15.674Z"
   },
   {
    "duration": 15,
    "start_time": "2022-08-04T13:27:15.731Z"
   },
   {
    "duration": 210,
    "start_time": "2022-08-04T13:27:15.747Z"
   },
   {
    "duration": 256,
    "start_time": "2022-08-04T13:27:15.958Z"
   },
   {
    "duration": 205,
    "start_time": "2022-08-04T13:27:16.215Z"
   },
   {
    "duration": 240,
    "start_time": "2022-08-04T13:28:08.970Z"
   },
   {
    "duration": 252,
    "start_time": "2022-08-04T13:28:36.612Z"
   },
   {
    "duration": 307,
    "start_time": "2022-08-04T13:57:14.852Z"
   },
   {
    "duration": 3,
    "start_time": "2022-08-04T13:57:38.463Z"
   },
   {
    "duration": 57,
    "start_time": "2022-08-04T13:57:38.468Z"
   },
   {
    "duration": 17,
    "start_time": "2022-08-04T13:57:38.527Z"
   },
   {
    "duration": 218,
    "start_time": "2022-08-04T13:57:38.546Z"
   },
   {
    "duration": 219,
    "start_time": "2022-08-04T13:57:38.767Z"
   },
   {
    "duration": 212,
    "start_time": "2022-08-04T13:57:38.988Z"
   },
   {
    "duration": 266,
    "start_time": "2022-08-04T13:57:39.201Z"
   },
   {
    "duration": 317,
    "start_time": "2022-08-04T13:58:06.333Z"
   },
   {
    "duration": 106,
    "start_time": "2022-08-04T14:03:31.356Z"
   },
   {
    "duration": 85,
    "start_time": "2022-08-04T14:03:48.849Z"
   },
   {
    "duration": 86,
    "start_time": "2022-08-04T14:03:58.360Z"
   },
   {
    "duration": 97,
    "start_time": "2022-08-04T14:04:31.645Z"
   },
   {
    "duration": 106,
    "start_time": "2022-08-04T14:04:40.276Z"
   },
   {
    "duration": 89,
    "start_time": "2022-08-04T14:07:06.335Z"
   },
   {
    "duration": 112,
    "start_time": "2022-08-04T14:07:12.488Z"
   },
   {
    "duration": 95,
    "start_time": "2022-08-04T14:07:14.217Z"
   },
   {
    "duration": 245,
    "start_time": "2022-08-04T14:15:20.370Z"
   },
   {
    "duration": 113,
    "start_time": "2022-08-04T14:20:25.882Z"
   },
   {
    "duration": 10,
    "start_time": "2022-08-04T14:26:02.931Z"
   },
   {
    "duration": 23,
    "start_time": "2022-08-04T14:26:09.420Z"
   },
   {
    "duration": 42,
    "start_time": "2022-08-04T14:31:19.891Z"
   },
   {
    "duration": 24,
    "start_time": "2022-08-04T14:31:54.480Z"
   },
   {
    "duration": 3,
    "start_time": "2022-08-04T14:32:00.241Z"
   },
   {
    "duration": 56,
    "start_time": "2022-08-04T14:32:00.246Z"
   },
   {
    "duration": 18,
    "start_time": "2022-08-04T14:32:00.303Z"
   },
   {
    "duration": 298,
    "start_time": "2022-08-04T14:32:00.323Z"
   },
   {
    "duration": 216,
    "start_time": "2022-08-04T14:32:00.623Z"
   },
   {
    "duration": 210,
    "start_time": "2022-08-04T14:32:00.841Z"
   },
   {
    "duration": 252,
    "start_time": "2022-08-04T14:32:01.052Z"
   },
   {
    "duration": 108,
    "start_time": "2022-08-04T14:32:01.305Z"
   },
   {
    "duration": 26,
    "start_time": "2022-08-04T14:32:01.414Z"
   },
   {
    "duration": 2,
    "start_time": "2022-08-04T14:32:09.999Z"
   },
   {
    "duration": 59,
    "start_time": "2022-08-04T14:32:10.003Z"
   },
   {
    "duration": 16,
    "start_time": "2022-08-04T14:32:10.064Z"
   },
   {
    "duration": 234,
    "start_time": "2022-08-04T14:32:10.081Z"
   },
   {
    "duration": 304,
    "start_time": "2022-08-04T14:32:10.317Z"
   },
   {
    "duration": 218,
    "start_time": "2022-08-04T14:32:10.624Z"
   },
   {
    "duration": 271,
    "start_time": "2022-08-04T14:32:10.844Z"
   },
   {
    "duration": 105,
    "start_time": "2022-08-04T14:32:11.117Z"
   },
   {
    "duration": 27,
    "start_time": "2022-08-04T14:32:11.224Z"
   },
   {
    "duration": 3,
    "start_time": "2022-08-04T14:32:39.313Z"
   },
   {
    "duration": 52,
    "start_time": "2022-08-04T14:32:39.318Z"
   },
   {
    "duration": 17,
    "start_time": "2022-08-04T14:32:39.372Z"
   },
   {
    "duration": 249,
    "start_time": "2022-08-04T14:32:39.391Z"
   },
   {
    "duration": 279,
    "start_time": "2022-08-04T14:32:39.643Z"
   },
   {
    "duration": 216,
    "start_time": "2022-08-04T14:32:39.924Z"
   },
   {
    "duration": 285,
    "start_time": "2022-08-04T14:32:40.141Z"
   },
   {
    "duration": 106,
    "start_time": "2022-08-04T14:32:40.428Z"
   },
   {
    "duration": 26,
    "start_time": "2022-08-04T14:32:40.536Z"
   },
   {
    "duration": 738,
    "start_time": "2022-08-04T14:39:07.329Z"
   },
   {
    "duration": 51,
    "start_time": "2022-08-04T14:39:17.920Z"
   },
   {
    "duration": 3,
    "start_time": "2022-08-04T14:39:19.895Z"
   },
   {
    "duration": 51,
    "start_time": "2022-08-04T14:39:19.900Z"
   },
   {
    "duration": 14,
    "start_time": "2022-08-04T14:39:19.953Z"
   },
   {
    "duration": 205,
    "start_time": "2022-08-04T14:39:19.968Z"
   },
   {
    "duration": 211,
    "start_time": "2022-08-04T14:39:20.174Z"
   },
   {
    "duration": 292,
    "start_time": "2022-08-04T14:39:20.387Z"
   },
   {
    "duration": 252,
    "start_time": "2022-08-04T14:39:20.681Z"
   },
   {
    "duration": 99,
    "start_time": "2022-08-04T14:39:20.935Z"
   },
   {
    "duration": 28,
    "start_time": "2022-08-04T14:39:21.036Z"
   },
   {
    "duration": 8,
    "start_time": "2022-08-04T14:42:51.923Z"
   },
   {
    "duration": 25,
    "start_time": "2022-08-04T14:44:33.688Z"
   },
   {
    "duration": 39,
    "start_time": "2022-08-04T14:45:03.054Z"
   },
   {
    "duration": 40,
    "start_time": "2022-08-04T14:45:14.676Z"
   },
   {
    "duration": 7,
    "start_time": "2022-08-04T14:46:20.024Z"
   },
   {
    "duration": 1243,
    "start_time": "2022-08-05T11:33:18.883Z"
   },
   {
    "duration": 279,
    "start_time": "2022-08-05T11:33:20.128Z"
   },
   {
    "duration": 16,
    "start_time": "2022-08-05T11:33:20.408Z"
   },
   {
    "duration": 810,
    "start_time": "2022-08-05T11:33:20.426Z"
   },
   {
    "duration": 478,
    "start_time": "2022-08-05T11:33:21.238Z"
   },
   {
    "duration": 686,
    "start_time": "2022-08-05T11:33:21.717Z"
   },
   {
    "duration": 301,
    "start_time": "2022-08-05T11:33:22.404Z"
   },
   {
    "duration": 114,
    "start_time": "2022-08-05T11:33:22.707Z"
   },
   {
    "duration": 28,
    "start_time": "2022-08-05T11:33:22.822Z"
   },
   {
    "duration": 59,
    "start_time": "2022-08-05T11:33:22.852Z"
   },
   {
    "duration": 7,
    "start_time": "2022-08-05T11:33:22.913Z"
   },
   {
    "duration": 17,
    "start_time": "2022-08-05T11:35:02.989Z"
   },
   {
    "duration": 5,
    "start_time": "2022-08-05T11:38:42.702Z"
   },
   {
    "duration": 14725,
    "start_time": "2022-08-05T11:39:34.076Z"
   },
   {
    "duration": 13531,
    "start_time": "2022-08-05T11:40:49.169Z"
   },
   {
    "duration": 12170,
    "start_time": "2022-08-05T11:41:35.160Z"
   },
   {
    "duration": 136104,
    "start_time": "2022-08-05T11:42:31.099Z"
   },
   {
    "duration": 28749,
    "start_time": "2022-08-05T12:14:31.137Z"
   },
   {
    "duration": 145055,
    "start_time": "2022-08-05T12:16:01.437Z"
   },
   {
    "duration": 185975,
    "start_time": "2022-08-05T12:18:57.279Z"
   },
   {
    "duration": 6355,
    "start_time": "2022-08-05T12:43:24.791Z"
   },
   {
    "duration": 3,
    "start_time": "2022-08-05T12:43:43.904Z"
   },
   {
    "duration": 76,
    "start_time": "2022-08-05T12:43:43.910Z"
   },
   {
    "duration": 17,
    "start_time": "2022-08-05T12:43:43.988Z"
   },
   {
    "duration": 238,
    "start_time": "2022-08-05T12:43:44.007Z"
   },
   {
    "duration": 354,
    "start_time": "2022-08-05T12:43:44.247Z"
   },
   {
    "duration": 221,
    "start_time": "2022-08-05T12:43:44.603Z"
   },
   {
    "duration": 269,
    "start_time": "2022-08-05T12:43:44.826Z"
   },
   {
    "duration": 109,
    "start_time": "2022-08-05T12:43:45.097Z"
   },
   {
    "duration": 28,
    "start_time": "2022-08-05T12:43:45.207Z"
   },
   {
    "duration": 69,
    "start_time": "2022-08-05T12:43:45.237Z"
   },
   {
    "duration": 6,
    "start_time": "2022-08-05T12:43:45.307Z"
   },
   {
    "duration": 13,
    "start_time": "2022-08-05T12:43:45.315Z"
   },
   {
    "duration": 49490,
    "start_time": "2022-08-05T12:43:45.330Z"
   },
   {
    "duration": 0,
    "start_time": "2022-08-05T12:44:34.822Z"
   },
   {
    "duration": 4,
    "start_time": "2022-08-05T12:45:04.433Z"
   },
   {
    "duration": 65,
    "start_time": "2022-08-05T12:45:04.439Z"
   },
   {
    "duration": 17,
    "start_time": "2022-08-05T12:45:04.506Z"
   },
   {
    "duration": 260,
    "start_time": "2022-08-05T12:45:04.525Z"
   },
   {
    "duration": 248,
    "start_time": "2022-08-05T12:45:04.792Z"
   },
   {
    "duration": 358,
    "start_time": "2022-08-05T12:45:05.042Z"
   },
   {
    "duration": 291,
    "start_time": "2022-08-05T12:45:05.402Z"
   },
   {
    "duration": 121,
    "start_time": "2022-08-05T12:45:05.695Z"
   },
   {
    "duration": 30,
    "start_time": "2022-08-05T12:45:05.819Z"
   },
   {
    "duration": 71,
    "start_time": "2022-08-05T12:45:05.852Z"
   },
   {
    "duration": 7,
    "start_time": "2022-08-05T12:45:05.925Z"
   },
   {
    "duration": 57,
    "start_time": "2022-08-05T12:45:05.934Z"
   },
   {
    "duration": 1571299,
    "start_time": "2022-08-05T12:45:05.993Z"
   },
   {
    "duration": 30,
    "start_time": "2022-08-05T13:11:17.293Z"
   },
   {
    "duration": 90430,
    "start_time": "2022-08-05T13:26:02.533Z"
   },
   {
    "duration": 6,
    "start_time": "2022-08-05T13:51:18.716Z"
   },
   {
    "duration": 15,
    "start_time": "2022-08-05T13:51:39.768Z"
   },
   {
    "duration": 7,
    "start_time": "2022-08-05T13:51:51.559Z"
   },
   {
    "duration": 36,
    "start_time": "2022-08-05T13:55:13.647Z"
   },
   {
    "duration": 3,
    "start_time": "2022-08-05T13:56:19.483Z"
   },
   {
    "duration": 70,
    "start_time": "2022-08-05T13:56:19.488Z"
   },
   {
    "duration": 16,
    "start_time": "2022-08-05T13:56:19.560Z"
   },
   {
    "duration": 231,
    "start_time": "2022-08-05T13:56:19.577Z"
   },
   {
    "duration": 223,
    "start_time": "2022-08-05T13:56:19.811Z"
   },
   {
    "duration": 312,
    "start_time": "2022-08-05T13:56:20.036Z"
   },
   {
    "duration": 269,
    "start_time": "2022-08-05T13:56:20.349Z"
   },
   {
    "duration": 120,
    "start_time": "2022-08-05T13:56:20.620Z"
   },
   {
    "duration": 37,
    "start_time": "2022-08-05T13:56:20.742Z"
   },
   {
    "duration": 66,
    "start_time": "2022-08-05T13:56:20.792Z"
   },
   {
    "duration": 6,
    "start_time": "2022-08-05T13:56:20.859Z"
   },
   {
    "duration": 35,
    "start_time": "2022-08-05T13:56:20.867Z"
   },
   {
    "duration": 712015,
    "start_time": "2022-08-05T13:56:20.905Z"
   },
   {
    "duration": 0,
    "start_time": "2022-08-05T14:08:12.922Z"
   },
   {
    "duration": 0,
    "start_time": "2022-08-05T14:08:12.923Z"
   },
   {
    "duration": 54546,
    "start_time": "2022-08-05T14:08:25.655Z"
   },
   {
    "duration": 7,
    "start_time": "2022-08-05T14:09:41.313Z"
   },
   {
    "duration": 4,
    "start_time": "2022-08-05T14:15:21.164Z"
   },
   {
    "duration": 87,
    "start_time": "2022-08-05T14:15:21.170Z"
   },
   {
    "duration": 18,
    "start_time": "2022-08-05T14:15:21.259Z"
   },
   {
    "duration": 256,
    "start_time": "2022-08-05T14:15:21.279Z"
   },
   {
    "duration": 266,
    "start_time": "2022-08-05T14:15:21.537Z"
   },
   {
    "duration": 408,
    "start_time": "2022-08-05T14:15:21.805Z"
   },
   {
    "duration": 371,
    "start_time": "2022-08-05T14:15:22.215Z"
   },
   {
    "duration": 135,
    "start_time": "2022-08-05T14:15:22.593Z"
   },
   {
    "duration": 38,
    "start_time": "2022-08-05T14:15:22.730Z"
   },
   {
    "duration": 75,
    "start_time": "2022-08-05T14:15:22.769Z"
   },
   {
    "duration": 6,
    "start_time": "2022-08-05T14:15:22.845Z"
   },
   {
    "duration": 15,
    "start_time": "2022-08-05T14:15:22.853Z"
   },
   {
    "duration": 69535,
    "start_time": "2022-08-05T14:15:22.896Z"
   },
   {
    "duration": 0,
    "start_time": "2022-08-05T14:16:32.432Z"
   },
   {
    "duration": 0,
    "start_time": "2022-08-05T14:16:32.434Z"
   },
   {
    "duration": 24563,
    "start_time": "2022-08-05T14:20:41.636Z"
   },
   {
    "duration": 33,
    "start_time": "2022-08-05T14:21:55.967Z"
   },
   {
    "duration": 35156,
    "start_time": "2022-08-05T14:22:46.822Z"
   },
   {
    "duration": 27774,
    "start_time": "2022-08-05T14:29:56.349Z"
   },
   {
    "duration": 37,
    "start_time": "2022-08-05T14:31:12.034Z"
   },
   {
    "duration": 4,
    "start_time": "2022-08-05T14:31:14.027Z"
   },
   {
    "duration": 66,
    "start_time": "2022-08-05T14:31:14.034Z"
   },
   {
    "duration": 26,
    "start_time": "2022-08-05T14:31:14.102Z"
   },
   {
    "duration": 284,
    "start_time": "2022-08-05T14:31:14.130Z"
   },
   {
    "duration": 247,
    "start_time": "2022-08-05T14:31:14.418Z"
   },
   {
    "duration": 340,
    "start_time": "2022-08-05T14:31:14.667Z"
   },
   {
    "duration": 292,
    "start_time": "2022-08-05T14:31:15.012Z"
   },
   {
    "duration": 111,
    "start_time": "2022-08-05T14:31:15.305Z"
   },
   {
    "duration": 34,
    "start_time": "2022-08-05T14:31:15.419Z"
   },
   {
    "duration": 78,
    "start_time": "2022-08-05T14:31:15.454Z"
   },
   {
    "duration": 6,
    "start_time": "2022-08-05T14:31:15.534Z"
   },
   {
    "duration": 15,
    "start_time": "2022-08-05T14:31:15.541Z"
   },
   {
    "duration": 31767,
    "start_time": "2022-08-05T14:31:15.558Z"
   },
   {
    "duration": 25564,
    "start_time": "2022-08-05T14:31:47.328Z"
   },
   {
    "duration": 7,
    "start_time": "2022-08-05T14:32:12.894Z"
   },
   {
    "duration": 18,
    "start_time": "2022-08-05T14:38:43.288Z"
   },
   {
    "duration": 7,
    "start_time": "2022-08-05T14:38:54.160Z"
   },
   {
    "duration": 34,
    "start_time": "2022-08-05T14:39:09.520Z"
   },
   {
    "duration": 3,
    "start_time": "2022-08-05T14:39:11.721Z"
   },
   {
    "duration": 63,
    "start_time": "2022-08-05T14:39:11.726Z"
   },
   {
    "duration": 27,
    "start_time": "2022-08-05T14:39:11.791Z"
   },
   {
    "duration": 310,
    "start_time": "2022-08-05T14:39:11.822Z"
   },
   {
    "duration": 246,
    "start_time": "2022-08-05T14:39:12.136Z"
   },
   {
    "duration": 352,
    "start_time": "2022-08-05T14:39:12.384Z"
   },
   {
    "duration": 309,
    "start_time": "2022-08-05T14:39:12.738Z"
   },
   {
    "duration": 106,
    "start_time": "2022-08-05T14:39:13.048Z"
   },
   {
    "duration": 50,
    "start_time": "2022-08-05T14:39:13.156Z"
   },
   {
    "duration": 56,
    "start_time": "2022-08-05T14:39:13.218Z"
   },
   {
    "duration": 7,
    "start_time": "2022-08-05T14:39:13.275Z"
   },
   {
    "duration": 29,
    "start_time": "2022-08-05T14:39:13.283Z"
   },
   {
    "duration": 36837,
    "start_time": "2022-08-05T14:39:13.314Z"
   },
   {
    "duration": 38798,
    "start_time": "2022-08-05T14:39:50.155Z"
   },
   {
    "duration": 6,
    "start_time": "2022-08-05T14:40:28.954Z"
   },
   {
    "duration": 9,
    "start_time": "2022-08-05T14:40:53.063Z"
   },
   {
    "duration": 18,
    "start_time": "2022-08-05T14:41:06.516Z"
   },
   {
    "duration": 7,
    "start_time": "2022-08-05T14:41:22.150Z"
   },
   {
    "duration": 58,
    "start_time": "2022-08-05T14:43:11.188Z"
   },
   {
    "duration": 3,
    "start_time": "2022-08-05T14:43:21.353Z"
   },
   {
    "duration": 63,
    "start_time": "2022-08-05T14:43:21.358Z"
   },
   {
    "duration": 18,
    "start_time": "2022-08-05T14:43:21.423Z"
   },
   {
    "duration": 278,
    "start_time": "2022-08-05T14:43:21.443Z"
   },
   {
    "duration": 315,
    "start_time": "2022-08-05T14:43:21.724Z"
   },
   {
    "duration": 397,
    "start_time": "2022-08-05T14:43:22.041Z"
   },
   {
    "duration": 300,
    "start_time": "2022-08-05T14:43:22.440Z"
   },
   {
    "duration": 122,
    "start_time": "2022-08-05T14:43:22.742Z"
   },
   {
    "duration": 64,
    "start_time": "2022-08-05T14:43:22.866Z"
   },
   {
    "duration": 100,
    "start_time": "2022-08-05T14:43:22.932Z"
   },
   {
    "duration": 7,
    "start_time": "2022-08-05T14:43:23.034Z"
   },
   {
    "duration": 54,
    "start_time": "2022-08-05T14:43:23.043Z"
   },
   {
    "duration": 48613,
    "start_time": "2022-08-05T14:43:23.098Z"
   },
   {
    "duration": 32637,
    "start_time": "2022-08-05T14:44:11.718Z"
   },
   {
    "duration": 5,
    "start_time": "2022-08-05T14:44:44.357Z"
   },
   {
    "duration": 7,
    "start_time": "2022-08-05T14:45:47.858Z"
   },
   {
    "duration": 26,
    "start_time": "2022-08-05T14:46:32.064Z"
   },
   {
    "duration": 6,
    "start_time": "2022-08-05T14:47:07.479Z"
   },
   {
    "duration": 9,
    "start_time": "2022-08-05T14:54:30.359Z"
   },
   {
    "duration": 8,
    "start_time": "2022-08-05T14:55:29.661Z"
   },
   {
    "duration": 9,
    "start_time": "2022-08-05T14:57:47.024Z"
   },
   {
    "duration": 13,
    "start_time": "2022-08-05T14:58:10.938Z"
   },
   {
    "duration": 14,
    "start_time": "2022-08-05T14:59:03.658Z"
   },
   {
    "duration": 30,
    "start_time": "2022-08-05T14:59:30.349Z"
   },
   {
    "duration": 13,
    "start_time": "2022-08-05T14:59:57.170Z"
   },
   {
    "duration": 18,
    "start_time": "2022-08-05T15:00:16.690Z"
   },
   {
    "duration": 18,
    "start_time": "2022-08-05T15:00:24.426Z"
   },
   {
    "duration": 14,
    "start_time": "2022-08-05T15:00:32.279Z"
   },
   {
    "duration": 6,
    "start_time": "2022-08-05T15:03:32.734Z"
   },
   {
    "duration": 33,
    "start_time": "2022-08-05T15:10:46.548Z"
   },
   {
    "duration": 13,
    "start_time": "2022-08-05T15:15:52.336Z"
   },
   {
    "duration": 7,
    "start_time": "2022-08-05T15:16:02.466Z"
   },
   {
    "duration": 6,
    "start_time": "2022-08-05T15:16:13.448Z"
   },
   {
    "duration": 1327,
    "start_time": "2022-08-06T10:24:32.778Z"
   },
   {
    "duration": 122,
    "start_time": "2022-08-06T10:24:34.108Z"
   },
   {
    "duration": 15,
    "start_time": "2022-08-06T10:24:34.231Z"
   },
   {
    "duration": 531,
    "start_time": "2022-08-06T10:24:34.247Z"
   },
   {
    "duration": 310,
    "start_time": "2022-08-06T10:24:34.780Z"
   },
   {
    "duration": 221,
    "start_time": "2022-08-06T10:24:35.091Z"
   },
   {
    "duration": 266,
    "start_time": "2022-08-06T10:24:35.314Z"
   },
   {
    "duration": 108,
    "start_time": "2022-08-06T10:24:35.582Z"
   },
   {
    "duration": 40,
    "start_time": "2022-08-06T10:24:35.693Z"
   },
   {
    "duration": 103,
    "start_time": "2022-08-06T10:24:35.735Z"
   },
   {
    "duration": 5,
    "start_time": "2022-08-06T10:24:35.840Z"
   },
   {
    "duration": 42,
    "start_time": "2022-08-06T10:24:35.846Z"
   },
   {
    "duration": 43416,
    "start_time": "2022-08-06T10:24:35.889Z"
   },
   {
    "duration": 25921,
    "start_time": "2022-08-06T10:25:19.307Z"
   },
   {
    "duration": 15,
    "start_time": "2022-08-06T10:25:45.230Z"
   },
   {
    "duration": 18,
    "start_time": "2022-08-06T10:25:45.247Z"
   },
   {
    "duration": 11,
    "start_time": "2022-08-06T10:25:45.267Z"
   },
   {
    "duration": 51,
    "start_time": "2022-08-06T19:06:28.386Z"
   },
   {
    "duration": 1305,
    "start_time": "2022-08-06T19:06:30.885Z"
   },
   {
    "duration": 129,
    "start_time": "2022-08-06T19:06:32.192Z"
   },
   {
    "duration": 17,
    "start_time": "2022-08-06T19:06:32.322Z"
   },
   {
    "duration": 4537,
    "start_time": "2022-08-06T19:06:32.341Z"
   },
   {
    "duration": 303,
    "start_time": "2022-08-06T19:06:36.879Z"
   },
   {
    "duration": 232,
    "start_time": "2022-08-06T19:06:37.183Z"
   },
   {
    "duration": 276,
    "start_time": "2022-08-06T19:06:37.416Z"
   },
   {
    "duration": 110,
    "start_time": "2022-08-06T19:06:37.694Z"
   },
   {
    "duration": 5,
    "start_time": "2022-08-06T19:06:37.806Z"
   },
   {
    "duration": 19,
    "start_time": "2022-08-06T19:06:37.813Z"
   },
   {
    "duration": 21,
    "start_time": "2022-08-06T19:06:37.834Z"
   },
   {
    "duration": 8,
    "start_time": "2022-08-06T19:06:37.857Z"
   },
   {
    "duration": 101,
    "start_time": "2022-08-06T19:06:37.867Z"
   },
   {
    "duration": 29,
    "start_time": "2022-08-06T19:06:37.969Z"
   },
   {
    "duration": 14,
    "start_time": "2022-08-06T19:06:38.000Z"
   },
   {
    "duration": 50620,
    "start_time": "2022-08-06T19:06:38.016Z"
   },
   {
    "duration": 25919,
    "start_time": "2022-08-06T19:07:28.638Z"
   },
   {
    "duration": 14,
    "start_time": "2022-08-06T19:07:54.559Z"
   },
   {
    "duration": 15,
    "start_time": "2022-08-06T19:07:54.575Z"
   },
   {
    "duration": 13,
    "start_time": "2022-08-06T19:07:54.592Z"
   },
   {
    "duration": 37493,
    "start_time": "2022-08-06T19:07:54.608Z"
   },
   {
    "duration": 2395,
    "start_time": "2022-08-06T19:10:50.722Z"
   },
   {
    "duration": 52,
    "start_time": "2022-08-06T19:11:02.723Z"
   },
   {
    "duration": 25,
    "start_time": "2022-08-06T19:11:03.799Z"
   },
   {
    "duration": 469,
    "start_time": "2022-08-06T19:11:08.061Z"
   },
   {
    "duration": 307,
    "start_time": "2022-08-06T19:11:17.541Z"
   },
   {
    "duration": 311,
    "start_time": "2022-08-06T19:11:23.140Z"
   },
   {
    "duration": 284,
    "start_time": "2022-08-06T19:11:45.383Z"
   },
   {
    "duration": 260,
    "start_time": "2022-08-06T19:12:46.633Z"
   },
   {
    "duration": 255,
    "start_time": "2022-08-06T19:12:57.284Z"
   },
   {
    "duration": 460,
    "start_time": "2022-08-06T19:13:25.522Z"
   },
   {
    "duration": 258,
    "start_time": "2022-08-06T19:13:35.927Z"
   },
   {
    "duration": 3,
    "start_time": "2022-08-06T19:14:11.498Z"
   },
   {
    "duration": 51,
    "start_time": "2022-08-06T19:14:17.070Z"
   },
   {
    "duration": 21,
    "start_time": "2022-08-06T19:14:19.937Z"
   },
   {
    "duration": 243,
    "start_time": "2022-08-06T19:14:22.474Z"
   },
   {
    "duration": 4,
    "start_time": "2022-08-06T19:14:49.674Z"
   },
   {
    "duration": 49,
    "start_time": "2022-08-06T19:14:52.261Z"
   },
   {
    "duration": 17,
    "start_time": "2022-08-06T19:14:54.271Z"
   },
   {
    "duration": 241,
    "start_time": "2022-08-06T19:14:56.914Z"
   },
   {
    "duration": 241,
    "start_time": "2022-08-06T19:34:59.627Z"
   },
   {
    "duration": 244,
    "start_time": "2022-08-06T19:52:49.230Z"
   },
   {
    "duration": 4,
    "start_time": "2022-08-06T20:02:38.138Z"
   },
   {
    "duration": 57,
    "start_time": "2022-08-06T20:02:38.144Z"
   },
   {
    "duration": 16,
    "start_time": "2022-08-06T20:02:38.202Z"
   },
   {
    "duration": 252,
    "start_time": "2022-08-06T20:02:38.220Z"
   },
   {
    "duration": 220,
    "start_time": "2022-08-06T20:02:38.473Z"
   },
   {
    "duration": 294,
    "start_time": "2022-08-06T20:02:38.695Z"
   },
   {
    "duration": 269,
    "start_time": "2022-08-06T20:02:38.990Z"
   },
   {
    "duration": 107,
    "start_time": "2022-08-06T20:02:39.260Z"
   },
   {
    "duration": 4,
    "start_time": "2022-08-06T20:02:39.369Z"
   },
   {
    "duration": 37,
    "start_time": "2022-08-06T20:02:39.376Z"
   },
   {
    "duration": 24,
    "start_time": "2022-08-06T20:02:39.414Z"
   },
   {
    "duration": 6,
    "start_time": "2022-08-06T20:02:39.440Z"
   },
   {
    "duration": 100,
    "start_time": "2022-08-06T20:02:39.447Z"
   },
   {
    "duration": 6,
    "start_time": "2022-08-06T20:02:39.548Z"
   },
   {
    "duration": 46,
    "start_time": "2022-08-06T20:02:39.556Z"
   },
   {
    "duration": 50605,
    "start_time": "2022-08-06T20:02:39.606Z"
   },
   {
    "duration": 26344,
    "start_time": "2022-08-06T20:03:30.213Z"
   },
   {
    "duration": 11,
    "start_time": "2022-08-06T20:03:56.559Z"
   },
   {
    "duration": 7,
    "start_time": "2022-08-06T20:03:56.572Z"
   },
   {
    "duration": 8,
    "start_time": "2022-08-06T20:03:56.580Z"
   },
   {
    "duration": 21,
    "start_time": "2022-08-06T20:43:54.506Z"
   },
   {
    "duration": 225,
    "start_time": "2022-08-06T20:44:02.456Z"
   },
   {
    "duration": 951,
    "start_time": "2022-08-06T20:46:42.928Z"
   },
   {
    "duration": 333,
    "start_time": "2022-08-06T20:47:30.032Z"
   },
   {
    "duration": 470,
    "start_time": "2022-08-06T20:50:49.567Z"
   },
   {
    "duration": 485,
    "start_time": "2022-08-06T20:50:57.612Z"
   },
   {
    "duration": 323,
    "start_time": "2022-08-06T20:51:04.407Z"
   },
   {
    "duration": 240,
    "start_time": "2022-08-06T20:51:19.149Z"
   },
   {
    "duration": 244,
    "start_time": "2022-08-06T20:51:52.269Z"
   },
   {
    "duration": 4,
    "start_time": "2022-08-06T20:52:04.937Z"
   },
   {
    "duration": 60,
    "start_time": "2022-08-06T20:52:04.943Z"
   },
   {
    "duration": 17,
    "start_time": "2022-08-06T20:52:05.005Z"
   },
   {
    "duration": 388,
    "start_time": "2022-08-06T20:52:05.024Z"
   },
   {
    "duration": 257,
    "start_time": "2022-08-06T20:52:05.415Z"
   },
   {
    "duration": 257,
    "start_time": "2022-08-06T20:52:05.674Z"
   },
   {
    "duration": 287,
    "start_time": "2022-08-06T20:52:05.932Z"
   },
   {
    "duration": 107,
    "start_time": "2022-08-06T20:52:06.220Z"
   },
   {
    "duration": 4,
    "start_time": "2022-08-06T20:52:06.328Z"
   },
   {
    "duration": 22,
    "start_time": "2022-08-06T20:52:06.333Z"
   },
   {
    "duration": 22,
    "start_time": "2022-08-06T20:52:06.356Z"
   },
   {
    "duration": 6,
    "start_time": "2022-08-06T20:52:06.398Z"
   },
   {
    "duration": 105,
    "start_time": "2022-08-06T20:52:06.408Z"
   },
   {
    "duration": 6,
    "start_time": "2022-08-06T20:52:06.515Z"
   },
   {
    "duration": 12,
    "start_time": "2022-08-06T20:52:06.523Z"
   },
   {
    "duration": 51925,
    "start_time": "2022-08-06T20:52:06.537Z"
   },
   {
    "duration": 26751,
    "start_time": "2022-08-06T20:52:58.463Z"
   },
   {
    "duration": 14,
    "start_time": "2022-08-06T20:53:25.217Z"
   },
   {
    "duration": 19,
    "start_time": "2022-08-06T20:53:25.232Z"
   },
   {
    "duration": 13,
    "start_time": "2022-08-06T20:53:25.253Z"
   },
   {
    "duration": 4,
    "start_time": "2022-08-06T20:56:46.654Z"
   },
   {
    "duration": 847,
    "start_time": "2022-08-06T20:56:50.261Z"
   },
   {
    "duration": 3,
    "start_time": "2022-08-06T20:57:05.381Z"
   },
   {
    "duration": 59,
    "start_time": "2022-08-06T20:57:05.386Z"
   },
   {
    "duration": 17,
    "start_time": "2022-08-06T20:57:05.447Z"
   },
   {
    "duration": 239,
    "start_time": "2022-08-06T20:57:05.467Z"
   },
   {
    "duration": 351,
    "start_time": "2022-08-06T20:57:05.707Z"
   },
   {
    "duration": 251,
    "start_time": "2022-08-06T20:57:06.060Z"
   },
   {
    "duration": 323,
    "start_time": "2022-08-06T20:57:06.313Z"
   },
   {
    "duration": 261,
    "start_time": "2022-08-06T20:57:06.637Z"
   },
   {
    "duration": 4,
    "start_time": "2022-08-06T20:57:06.900Z"
   },
   {
    "duration": 28,
    "start_time": "2022-08-06T20:57:06.907Z"
   },
   {
    "duration": 78,
    "start_time": "2022-08-06T20:57:06.938Z"
   },
   {
    "duration": 21,
    "start_time": "2022-08-06T20:57:07.018Z"
   },
   {
    "duration": 180,
    "start_time": "2022-08-06T20:57:07.042Z"
   },
   {
    "duration": 6,
    "start_time": "2022-08-06T20:57:07.223Z"
   },
   {
    "duration": 69,
    "start_time": "2022-08-06T20:57:07.231Z"
   },
   {
    "duration": 51270,
    "start_time": "2022-08-06T20:57:07.302Z"
   },
   {
    "duration": 25869,
    "start_time": "2022-08-06T20:57:58.573Z"
   },
   {
    "duration": 19,
    "start_time": "2022-08-06T20:58:24.444Z"
   },
   {
    "duration": 18,
    "start_time": "2022-08-06T20:58:24.465Z"
   },
   {
    "duration": 13,
    "start_time": "2022-08-06T20:58:24.485Z"
   },
   {
    "duration": 1610,
    "start_time": "2022-08-07T11:35:42.811Z"
   },
   {
    "duration": 4,
    "start_time": "2022-08-07T11:35:47.348Z"
   },
   {
    "duration": 129,
    "start_time": "2022-08-07T11:35:47.354Z"
   },
   {
    "duration": 16,
    "start_time": "2022-08-07T11:35:47.484Z"
   },
   {
    "duration": 244,
    "start_time": "2022-08-07T11:35:47.501Z"
   },
   {
    "duration": 316,
    "start_time": "2022-08-07T11:35:47.747Z"
   },
   {
    "duration": 226,
    "start_time": "2022-08-07T11:35:48.064Z"
   },
   {
    "duration": 267,
    "start_time": "2022-08-07T11:35:48.291Z"
   },
   {
    "duration": 102,
    "start_time": "2022-08-07T11:35:48.560Z"
   },
   {
    "duration": 3,
    "start_time": "2022-08-07T11:35:48.663Z"
   },
   {
    "duration": 45,
    "start_time": "2022-08-07T11:35:48.669Z"
   },
   {
    "duration": 20,
    "start_time": "2022-08-07T11:35:48.716Z"
   },
   {
    "duration": 6,
    "start_time": "2022-08-07T11:35:48.737Z"
   },
   {
    "duration": 170,
    "start_time": "2022-08-07T11:35:48.744Z"
   },
   {
    "duration": 6,
    "start_time": "2022-08-07T11:35:48.915Z"
   },
   {
    "duration": 15,
    "start_time": "2022-08-07T11:35:48.922Z"
   },
   {
    "duration": 48039,
    "start_time": "2022-08-07T11:35:49.012Z"
   },
   {
    "duration": 24414,
    "start_time": "2022-08-07T11:36:37.052Z"
   },
   {
    "duration": 10,
    "start_time": "2022-08-07T11:37:01.468Z"
   },
   {
    "duration": 26,
    "start_time": "2022-08-07T11:37:01.479Z"
   },
   {
    "duration": 22,
    "start_time": "2022-08-07T11:37:01.507Z"
   },
   {
    "duration": 2520,
    "start_time": "2022-08-07T11:37:06.903Z"
   },
   {
    "duration": 2250,
    "start_time": "2022-08-07T11:37:35.560Z"
   },
   {
    "duration": 2226,
    "start_time": "2022-08-07T11:37:49.086Z"
   },
   {
    "duration": 1917,
    "start_time": "2022-08-07T11:38:01.799Z"
   },
   {
    "duration": 2069,
    "start_time": "2022-08-07T11:38:20.551Z"
   },
   {
    "duration": 57,
    "start_time": "2022-08-07T11:54:40.946Z"
   },
   {
    "duration": 52,
    "start_time": "2022-08-07T11:54:55.573Z"
   },
   {
    "duration": 65,
    "start_time": "2022-08-07T11:55:07.426Z"
   },
   {
    "duration": 61,
    "start_time": "2022-08-07T11:55:12.459Z"
   },
   {
    "duration": 49,
    "start_time": "2022-08-07T11:55:50.681Z"
   },
   {
    "duration": 44,
    "start_time": "2022-08-07T11:55:56.365Z"
   },
   {
    "duration": 50,
    "start_time": "2022-08-07T11:55:59.395Z"
   },
   {
    "duration": 48,
    "start_time": "2022-08-07T11:56:03.003Z"
   },
   {
    "duration": 72,
    "start_time": "2022-08-07T11:56:06.085Z"
   },
   {
    "duration": 58,
    "start_time": "2022-08-07T11:56:11.834Z"
   },
   {
    "duration": 49,
    "start_time": "2022-08-07T11:56:15.740Z"
   },
   {
    "duration": 108,
    "start_time": "2022-08-07T11:56:18.873Z"
   },
   {
    "duration": 2057,
    "start_time": "2022-08-07T11:56:59.461Z"
   },
   {
    "duration": 2005,
    "start_time": "2022-08-07T11:57:12.108Z"
   },
   {
    "duration": 4,
    "start_time": "2022-08-07T12:03:19.119Z"
   },
   {
    "duration": 55,
    "start_time": "2022-08-07T12:03:19.125Z"
   },
   {
    "duration": 16,
    "start_time": "2022-08-07T12:03:19.182Z"
   },
   {
    "duration": 314,
    "start_time": "2022-08-07T12:03:19.200Z"
   },
   {
    "duration": 242,
    "start_time": "2022-08-07T12:03:19.515Z"
   },
   {
    "duration": 232,
    "start_time": "2022-08-07T12:03:19.758Z"
   },
   {
    "duration": 1526,
    "start_time": "2022-08-07T12:03:19.991Z"
   },
   {
    "duration": 261,
    "start_time": "2022-08-07T12:03:21.519Z"
   },
   {
    "duration": 3,
    "start_time": "2022-08-07T12:03:21.782Z"
   },
   {
    "duration": 32,
    "start_time": "2022-08-07T12:03:21.788Z"
   },
   {
    "duration": 20,
    "start_time": "2022-08-07T12:03:21.822Z"
   },
   {
    "duration": 8,
    "start_time": "2022-08-07T12:03:21.844Z"
   },
   {
    "duration": 94,
    "start_time": "2022-08-07T12:03:21.854Z"
   },
   {
    "duration": 6,
    "start_time": "2022-08-07T12:03:21.949Z"
   },
   {
    "duration": 54,
    "start_time": "2022-08-07T12:03:21.957Z"
   },
   {
    "duration": 47425,
    "start_time": "2022-08-07T12:03:22.013Z"
   },
   {
    "duration": 26088,
    "start_time": "2022-08-07T12:04:09.440Z"
   },
   {
    "duration": 13,
    "start_time": "2022-08-07T12:04:35.530Z"
   },
   {
    "duration": 13,
    "start_time": "2022-08-07T12:04:35.545Z"
   },
   {
    "duration": 10,
    "start_time": "2022-08-07T12:04:35.560Z"
   },
   {
    "duration": 11,
    "start_time": "2022-08-07T12:11:57.555Z"
   },
   {
    "duration": 39,
    "start_time": "2022-08-07T12:17:02.565Z"
   },
   {
    "duration": 25,
    "start_time": "2022-08-07T12:17:18.630Z"
   },
   {
    "duration": 20,
    "start_time": "2022-08-07T12:18:03.009Z"
   },
   {
    "duration": 28,
    "start_time": "2022-08-07T12:18:22.561Z"
   },
   {
    "duration": 4,
    "start_time": "2022-08-07T12:18:24.662Z"
   },
   {
    "duration": 58,
    "start_time": "2022-08-07T12:18:24.668Z"
   },
   {
    "duration": 16,
    "start_time": "2022-08-07T12:18:24.727Z"
   },
   {
    "duration": 227,
    "start_time": "2022-08-07T12:18:24.745Z"
   },
   {
    "duration": 237,
    "start_time": "2022-08-07T12:18:24.974Z"
   },
   {
    "duration": 235,
    "start_time": "2022-08-07T12:18:25.212Z"
   },
   {
    "duration": 2770,
    "start_time": "2022-08-07T12:18:25.448Z"
   },
   {
    "duration": 271,
    "start_time": "2022-08-07T12:18:28.220Z"
   },
   {
    "duration": 24,
    "start_time": "2022-08-07T12:18:28.493Z"
   },
   {
    "duration": 0,
    "start_time": "2022-08-07T12:18:28.519Z"
   },
   {
    "duration": 0,
    "start_time": "2022-08-07T12:18:28.520Z"
   },
   {
    "duration": 0,
    "start_time": "2022-08-07T12:18:28.521Z"
   },
   {
    "duration": 0,
    "start_time": "2022-08-07T12:18:28.522Z"
   },
   {
    "duration": 0,
    "start_time": "2022-08-07T12:18:28.523Z"
   },
   {
    "duration": 0,
    "start_time": "2022-08-07T12:18:28.524Z"
   },
   {
    "duration": 0,
    "start_time": "2022-08-07T12:18:28.524Z"
   },
   {
    "duration": 0,
    "start_time": "2022-08-07T12:18:28.525Z"
   },
   {
    "duration": 0,
    "start_time": "2022-08-07T12:18:28.526Z"
   },
   {
    "duration": 0,
    "start_time": "2022-08-07T12:18:28.527Z"
   },
   {
    "duration": 0,
    "start_time": "2022-08-07T12:18:28.528Z"
   },
   {
    "duration": 0,
    "start_time": "2022-08-07T12:18:28.529Z"
   },
   {
    "duration": 4,
    "start_time": "2022-08-07T12:19:06.394Z"
   },
   {
    "duration": 66,
    "start_time": "2022-08-07T12:19:06.400Z"
   },
   {
    "duration": 16,
    "start_time": "2022-08-07T12:19:06.468Z"
   },
   {
    "duration": 227,
    "start_time": "2022-08-07T12:19:06.486Z"
   },
   {
    "duration": 230,
    "start_time": "2022-08-07T12:19:06.715Z"
   },
   {
    "duration": 222,
    "start_time": "2022-08-07T12:19:06.946Z"
   },
   {
    "duration": 3643,
    "start_time": "2022-08-07T12:19:07.170Z"
   },
   {
    "duration": 231,
    "start_time": "2022-08-07T12:19:10.815Z"
   },
   {
    "duration": 70,
    "start_time": "2022-08-07T12:19:11.047Z"
   },
   {
    "duration": 0,
    "start_time": "2022-08-07T12:19:11.118Z"
   },
   {
    "duration": 0,
    "start_time": "2022-08-07T12:19:11.119Z"
   },
   {
    "duration": 0,
    "start_time": "2022-08-07T12:19:11.120Z"
   },
   {
    "duration": 0,
    "start_time": "2022-08-07T12:19:11.121Z"
   },
   {
    "duration": 0,
    "start_time": "2022-08-07T12:19:11.122Z"
   },
   {
    "duration": 0,
    "start_time": "2022-08-07T12:19:11.123Z"
   },
   {
    "duration": 0,
    "start_time": "2022-08-07T12:19:11.124Z"
   },
   {
    "duration": 0,
    "start_time": "2022-08-07T12:19:11.125Z"
   },
   {
    "duration": 0,
    "start_time": "2022-08-07T12:19:11.126Z"
   },
   {
    "duration": 0,
    "start_time": "2022-08-07T12:19:11.128Z"
   },
   {
    "duration": 0,
    "start_time": "2022-08-07T12:19:11.128Z"
   },
   {
    "duration": 0,
    "start_time": "2022-08-07T12:19:11.129Z"
   },
   {
    "duration": 26,
    "start_time": "2022-08-07T12:20:00.847Z"
   },
   {
    "duration": 5,
    "start_time": "2022-08-07T12:20:11.800Z"
   },
   {
    "duration": 68,
    "start_time": "2022-08-07T12:20:11.807Z"
   },
   {
    "duration": 15,
    "start_time": "2022-08-07T12:20:11.877Z"
   },
   {
    "duration": 224,
    "start_time": "2022-08-07T12:20:11.895Z"
   },
   {
    "duration": 229,
    "start_time": "2022-08-07T12:20:12.121Z"
   },
   {
    "duration": 385,
    "start_time": "2022-08-07T12:20:12.352Z"
   },
   {
    "duration": 2481,
    "start_time": "2022-08-07T12:20:12.738Z"
   },
   {
    "duration": 246,
    "start_time": "2022-08-07T12:20:15.310Z"
   },
   {
    "duration": 71,
    "start_time": "2022-08-07T12:20:15.557Z"
   },
   {
    "duration": 0,
    "start_time": "2022-08-07T12:20:15.630Z"
   },
   {
    "duration": 0,
    "start_time": "2022-08-07T12:20:15.631Z"
   },
   {
    "duration": 0,
    "start_time": "2022-08-07T12:20:15.632Z"
   },
   {
    "duration": 0,
    "start_time": "2022-08-07T12:20:15.633Z"
   },
   {
    "duration": 0,
    "start_time": "2022-08-07T12:20:15.634Z"
   },
   {
    "duration": 0,
    "start_time": "2022-08-07T12:20:15.635Z"
   },
   {
    "duration": 0,
    "start_time": "2022-08-07T12:20:15.636Z"
   },
   {
    "duration": 0,
    "start_time": "2022-08-07T12:20:15.636Z"
   },
   {
    "duration": 0,
    "start_time": "2022-08-07T12:20:15.637Z"
   },
   {
    "duration": 0,
    "start_time": "2022-08-07T12:20:15.639Z"
   },
   {
    "duration": 0,
    "start_time": "2022-08-07T12:20:15.639Z"
   },
   {
    "duration": 0,
    "start_time": "2022-08-07T12:20:15.640Z"
   },
   {
    "duration": 20,
    "start_time": "2022-08-07T12:20:56.700Z"
   },
   {
    "duration": 5,
    "start_time": "2022-08-07T12:20:58.905Z"
   },
   {
    "duration": 82,
    "start_time": "2022-08-07T12:20:58.912Z"
   },
   {
    "duration": 15,
    "start_time": "2022-08-07T12:20:58.996Z"
   },
   {
    "duration": 225,
    "start_time": "2022-08-07T12:20:59.012Z"
   },
   {
    "duration": 236,
    "start_time": "2022-08-07T12:20:59.239Z"
   },
   {
    "duration": 221,
    "start_time": "2022-08-07T12:20:59.476Z"
   },
   {
    "duration": 1915,
    "start_time": "2022-08-07T12:20:59.699Z"
   },
   {
    "duration": 323,
    "start_time": "2022-08-07T12:21:01.616Z"
   },
   {
    "duration": 83,
    "start_time": "2022-08-07T12:21:01.941Z"
   },
   {
    "duration": 0,
    "start_time": "2022-08-07T12:21:02.027Z"
   },
   {
    "duration": 0,
    "start_time": "2022-08-07T12:21:02.028Z"
   },
   {
    "duration": 0,
    "start_time": "2022-08-07T12:21:02.030Z"
   },
   {
    "duration": 0,
    "start_time": "2022-08-07T12:21:02.031Z"
   },
   {
    "duration": 0,
    "start_time": "2022-08-07T12:21:02.032Z"
   },
   {
    "duration": 0,
    "start_time": "2022-08-07T12:21:02.034Z"
   },
   {
    "duration": 0,
    "start_time": "2022-08-07T12:21:02.035Z"
   },
   {
    "duration": 0,
    "start_time": "2022-08-07T12:21:02.036Z"
   },
   {
    "duration": 0,
    "start_time": "2022-08-07T12:21:02.038Z"
   },
   {
    "duration": 0,
    "start_time": "2022-08-07T12:21:02.039Z"
   },
   {
    "duration": 0,
    "start_time": "2022-08-07T12:21:02.040Z"
   },
   {
    "duration": 0,
    "start_time": "2022-08-07T12:21:02.042Z"
   },
   {
    "duration": 472,
    "start_time": "2022-08-07T12:21:25.592Z"
   },
   {
    "duration": 564,
    "start_time": "2022-08-07T12:24:42.221Z"
   },
   {
    "duration": 27,
    "start_time": "2022-08-07T12:25:25.731Z"
   },
   {
    "duration": 442,
    "start_time": "2022-08-07T12:25:28.828Z"
   },
   {
    "duration": 504,
    "start_time": "2022-08-07T12:25:33.766Z"
   },
   {
    "duration": 192,
    "start_time": "2022-08-07T12:25:36.317Z"
   },
   {
    "duration": 498,
    "start_time": "2022-08-07T12:25:39.448Z"
   },
   {
    "duration": 617,
    "start_time": "2022-08-07T12:25:41.996Z"
   },
   {
    "duration": 512,
    "start_time": "2022-08-07T12:25:51.865Z"
   },
   {
    "duration": 347,
    "start_time": "2022-08-07T12:25:55.228Z"
   },
   {
    "duration": 510,
    "start_time": "2022-08-07T12:25:58.894Z"
   },
   {
    "duration": 587,
    "start_time": "2022-08-07T12:26:01.235Z"
   },
   {
    "duration": 500,
    "start_time": "2022-08-07T12:26:05.029Z"
   },
   {
    "duration": 485,
    "start_time": "2022-08-07T12:52:54.332Z"
   },
   {
    "duration": 518,
    "start_time": "2022-08-07T12:54:20.652Z"
   },
   {
    "duration": 586,
    "start_time": "2022-08-07T12:54:43.236Z"
   },
   {
    "duration": 427,
    "start_time": "2022-08-07T12:54:55.833Z"
   },
   {
    "duration": 426,
    "start_time": "2022-08-07T12:55:06.674Z"
   },
   {
    "duration": 428,
    "start_time": "2022-08-07T12:55:16.639Z"
   },
   {
    "duration": 487,
    "start_time": "2022-08-07T12:56:29.792Z"
   },
   {
    "duration": 602,
    "start_time": "2022-08-07T12:57:04.847Z"
   },
   {
    "duration": 504,
    "start_time": "2022-08-07T12:58:00.784Z"
   },
   {
    "duration": 571,
    "start_time": "2022-08-07T12:58:16.975Z"
   },
   {
    "duration": 327,
    "start_time": "2022-08-07T13:04:17.556Z"
   },
   {
    "duration": 316,
    "start_time": "2022-08-07T13:04:28.373Z"
   },
   {
    "duration": 448,
    "start_time": "2022-08-07T13:04:38.438Z"
   },
   {
    "duration": 3,
    "start_time": "2022-08-07T13:10:00.770Z"
   },
   {
    "duration": 17,
    "start_time": "2022-08-07T13:10:03.136Z"
   },
   {
    "duration": 4,
    "start_time": "2022-08-07T13:12:20.544Z"
   },
   {
    "duration": 4,
    "start_time": "2022-08-07T13:12:25.824Z"
   },
   {
    "duration": 56,
    "start_time": "2022-08-07T13:12:25.830Z"
   },
   {
    "duration": 16,
    "start_time": "2022-08-07T13:12:25.887Z"
   },
   {
    "duration": 341,
    "start_time": "2022-08-07T13:12:25.906Z"
   },
   {
    "duration": 235,
    "start_time": "2022-08-07T13:12:26.248Z"
   },
   {
    "duration": 231,
    "start_time": "2022-08-07T13:12:26.484Z"
   },
   {
    "duration": 1097,
    "start_time": "2022-08-07T13:12:26.716Z"
   },
   {
    "duration": 209,
    "start_time": "2022-08-07T13:12:27.815Z"
   },
   {
    "duration": 715,
    "start_time": "2022-08-07T13:12:28.026Z"
   },
   {
    "duration": 5,
    "start_time": "2022-08-07T13:12:28.745Z"
   },
   {
    "duration": 76,
    "start_time": "2022-08-07T13:12:28.751Z"
   },
   {
    "duration": 19,
    "start_time": "2022-08-07T13:12:28.829Z"
   },
   {
    "duration": 62,
    "start_time": "2022-08-07T13:12:28.849Z"
   },
   {
    "duration": 200,
    "start_time": "2022-08-07T13:12:28.913Z"
   },
   {
    "duration": 9,
    "start_time": "2022-08-07T13:12:29.115Z"
   },
   {
    "duration": 91,
    "start_time": "2022-08-07T13:12:29.126Z"
   },
   {
    "duration": 50964,
    "start_time": "2022-08-07T13:12:29.219Z"
   },
   {
    "duration": 26444,
    "start_time": "2022-08-07T13:13:20.185Z"
   },
   {
    "duration": 15,
    "start_time": "2022-08-07T13:13:46.631Z"
   },
   {
    "duration": 6,
    "start_time": "2022-08-07T13:13:46.648Z"
   },
   {
    "duration": 9,
    "start_time": "2022-08-07T13:13:46.656Z"
   },
   {
    "duration": 72,
    "start_time": "2022-08-07T13:19:35.712Z"
   },
   {
    "duration": 10,
    "start_time": "2022-08-07T13:19:40.459Z"
   },
   {
    "duration": 100,
    "start_time": "2022-08-07T13:19:46.738Z"
   },
   {
    "duration": 16,
    "start_time": "2022-08-07T13:19:52.421Z"
   },
   {
    "duration": 218,
    "start_time": "2022-08-07T13:20:51.340Z"
   },
   {
    "duration": 257,
    "start_time": "2022-08-07T13:22:58.428Z"
   },
   {
    "duration": 4,
    "start_time": "2022-08-07T13:23:58.232Z"
   },
   {
    "duration": 8,
    "start_time": "2022-08-07T13:25:30.357Z"
   },
   {
    "duration": 18,
    "start_time": "2022-08-07T13:25:32.887Z"
   },
   {
    "duration": 4,
    "start_time": "2022-08-07T13:25:46.891Z"
   },
   {
    "duration": 65,
    "start_time": "2022-08-07T13:25:46.897Z"
   },
   {
    "duration": 15,
    "start_time": "2022-08-07T13:25:46.964Z"
   },
   {
    "duration": 226,
    "start_time": "2022-08-07T13:25:46.984Z"
   },
   {
    "duration": 224,
    "start_time": "2022-08-07T13:25:47.213Z"
   },
   {
    "duration": 237,
    "start_time": "2022-08-07T13:25:47.439Z"
   },
   {
    "duration": 1643,
    "start_time": "2022-08-07T13:25:47.678Z"
   },
   {
    "duration": 230,
    "start_time": "2022-08-07T13:25:49.412Z"
   },
   {
    "duration": 69,
    "start_time": "2022-08-07T13:25:49.643Z"
   },
   {
    "duration": 0,
    "start_time": "2022-08-07T13:25:49.714Z"
   },
   {
    "duration": 0,
    "start_time": "2022-08-07T13:25:49.715Z"
   },
   {
    "duration": 0,
    "start_time": "2022-08-07T13:25:49.717Z"
   },
   {
    "duration": 0,
    "start_time": "2022-08-07T13:25:49.718Z"
   },
   {
    "duration": 0,
    "start_time": "2022-08-07T13:25:49.719Z"
   },
   {
    "duration": 0,
    "start_time": "2022-08-07T13:25:49.720Z"
   },
   {
    "duration": 0,
    "start_time": "2022-08-07T13:25:49.722Z"
   },
   {
    "duration": 0,
    "start_time": "2022-08-07T13:25:49.723Z"
   },
   {
    "duration": 0,
    "start_time": "2022-08-07T13:25:49.725Z"
   },
   {
    "duration": 0,
    "start_time": "2022-08-07T13:25:49.725Z"
   },
   {
    "duration": 0,
    "start_time": "2022-08-07T13:25:49.727Z"
   },
   {
    "duration": 0,
    "start_time": "2022-08-07T13:25:49.728Z"
   },
   {
    "duration": 6,
    "start_time": "2022-08-07T13:26:48.590Z"
   },
   {
    "duration": 53,
    "start_time": "2022-08-07T13:26:48.598Z"
   },
   {
    "duration": 15,
    "start_time": "2022-08-07T13:26:48.653Z"
   },
   {
    "duration": 232,
    "start_time": "2022-08-07T13:26:48.670Z"
   },
   {
    "duration": 235,
    "start_time": "2022-08-07T13:26:48.904Z"
   },
   {
    "duration": 226,
    "start_time": "2022-08-07T13:26:49.141Z"
   },
   {
    "duration": 1853,
    "start_time": "2022-08-07T13:26:49.368Z"
   },
   {
    "duration": 302,
    "start_time": "2022-08-07T13:26:51.310Z"
   },
   {
    "duration": 4,
    "start_time": "2022-08-07T13:26:51.614Z"
   },
   {
    "duration": 0,
    "start_time": "2022-08-07T13:26:51.620Z"
   },
   {
    "duration": 0,
    "start_time": "2022-08-07T13:26:51.621Z"
   },
   {
    "duration": 0,
    "start_time": "2022-08-07T13:26:51.622Z"
   },
   {
    "duration": 0,
    "start_time": "2022-08-07T13:26:51.623Z"
   },
   {
    "duration": 0,
    "start_time": "2022-08-07T13:26:51.624Z"
   },
   {
    "duration": 0,
    "start_time": "2022-08-07T13:26:51.625Z"
   },
   {
    "duration": 0,
    "start_time": "2022-08-07T13:26:51.626Z"
   },
   {
    "duration": 0,
    "start_time": "2022-08-07T13:26:51.627Z"
   },
   {
    "duration": 1,
    "start_time": "2022-08-07T13:26:51.627Z"
   },
   {
    "duration": 0,
    "start_time": "2022-08-07T13:26:51.628Z"
   },
   {
    "duration": 0,
    "start_time": "2022-08-07T13:26:51.629Z"
   },
   {
    "duration": 0,
    "start_time": "2022-08-07T13:26:51.630Z"
   },
   {
    "duration": 583,
    "start_time": "2022-08-07T13:27:45.484Z"
   },
   {
    "duration": 4,
    "start_time": "2022-08-07T13:27:49.314Z"
   },
   {
    "duration": 54,
    "start_time": "2022-08-07T13:27:49.319Z"
   },
   {
    "duration": 14,
    "start_time": "2022-08-07T13:27:49.375Z"
   },
   {
    "duration": 235,
    "start_time": "2022-08-07T13:27:49.391Z"
   },
   {
    "duration": 232,
    "start_time": "2022-08-07T13:27:49.627Z"
   },
   {
    "duration": 233,
    "start_time": "2022-08-07T13:27:49.861Z"
   },
   {
    "duration": 1424,
    "start_time": "2022-08-07T13:27:50.095Z"
   },
   {
    "duration": 262,
    "start_time": "2022-08-07T13:27:51.521Z"
   },
   {
    "duration": 543,
    "start_time": "2022-08-07T13:27:51.784Z"
   },
   {
    "duration": 3,
    "start_time": "2022-08-07T13:27:52.331Z"
   },
   {
    "duration": 14,
    "start_time": "2022-08-07T13:27:52.336Z"
   },
   {
    "duration": 12,
    "start_time": "2022-08-07T13:27:52.352Z"
   },
   {
    "duration": 7,
    "start_time": "2022-08-07T13:27:52.365Z"
   },
   {
    "duration": 65,
    "start_time": "2022-08-07T13:27:52.374Z"
   },
   {
    "duration": 7,
    "start_time": "2022-08-07T13:27:52.441Z"
   },
   {
    "duration": 15,
    "start_time": "2022-08-07T13:27:52.449Z"
   },
   {
    "duration": 28185,
    "start_time": "2022-08-07T13:27:52.466Z"
   },
   {
    "duration": 16404,
    "start_time": "2022-08-07T13:28:20.653Z"
   },
   {
    "duration": 12,
    "start_time": "2022-08-07T13:28:37.058Z"
   },
   {
    "duration": 8,
    "start_time": "2022-08-07T13:28:37.071Z"
   },
   {
    "duration": 7,
    "start_time": "2022-08-07T13:28:37.080Z"
   },
   {
    "duration": 4,
    "start_time": "2022-08-07T13:29:11.662Z"
   },
   {
    "duration": 55,
    "start_time": "2022-08-07T13:29:11.669Z"
   },
   {
    "duration": 20,
    "start_time": "2022-08-07T13:29:11.726Z"
   },
   {
    "duration": 237,
    "start_time": "2022-08-07T13:29:11.748Z"
   },
   {
    "duration": 233,
    "start_time": "2022-08-07T13:29:11.987Z"
   },
   {
    "duration": 240,
    "start_time": "2022-08-07T13:29:12.222Z"
   },
   {
    "duration": 3151,
    "start_time": "2022-08-07T13:29:12.464Z"
   },
   {
    "duration": 326,
    "start_time": "2022-08-07T13:29:15.617Z"
   },
   {
    "duration": 984,
    "start_time": "2022-08-07T13:29:15.944Z"
   },
   {
    "duration": 3,
    "start_time": "2022-08-07T13:29:16.930Z"
   },
   {
    "duration": 16,
    "start_time": "2022-08-07T13:29:16.935Z"
   },
   {
    "duration": 12,
    "start_time": "2022-08-07T13:29:16.953Z"
   },
   {
    "duration": 6,
    "start_time": "2022-08-07T13:29:17.011Z"
   },
   {
    "duration": 97,
    "start_time": "2022-08-07T13:29:17.018Z"
   },
   {
    "duration": 6,
    "start_time": "2022-08-07T13:29:17.117Z"
   },
   {
    "duration": 17,
    "start_time": "2022-08-07T13:29:17.124Z"
   },
   {
    "duration": 28249,
    "start_time": "2022-08-07T13:29:17.143Z"
   },
   {
    "duration": 16010,
    "start_time": "2022-08-07T13:29:45.393Z"
   },
   {
    "duration": 12,
    "start_time": "2022-08-07T13:30:01.404Z"
   },
   {
    "duration": 22,
    "start_time": "2022-08-07T13:30:01.418Z"
   },
   {
    "duration": 14,
    "start_time": "2022-08-07T13:30:01.442Z"
   },
   {
    "duration": 711,
    "start_time": "2022-08-07T13:32:11.043Z"
   },
   {
    "duration": 1879,
    "start_time": "2022-08-07T13:32:17.940Z"
   },
   {
    "duration": 1874,
    "start_time": "2022-08-07T13:35:29.742Z"
   },
   {
    "duration": 5,
    "start_time": "2022-08-07T13:35:35.146Z"
   },
   {
    "duration": 58,
    "start_time": "2022-08-07T13:35:35.152Z"
   },
   {
    "duration": 16,
    "start_time": "2022-08-07T13:35:35.212Z"
   },
   {
    "duration": 241,
    "start_time": "2022-08-07T13:35:35.230Z"
   },
   {
    "duration": 236,
    "start_time": "2022-08-07T13:35:35.473Z"
   },
   {
    "duration": 223,
    "start_time": "2022-08-07T13:35:35.711Z"
   },
   {
    "duration": 2185,
    "start_time": "2022-08-07T13:35:35.935Z"
   },
   {
    "duration": 335,
    "start_time": "2022-08-07T13:35:38.122Z"
   },
   {
    "duration": 1065,
    "start_time": "2022-08-07T13:35:38.458Z"
   },
   {
    "duration": 3,
    "start_time": "2022-08-07T13:35:39.526Z"
   },
   {
    "duration": 18,
    "start_time": "2022-08-07T13:35:39.530Z"
   },
   {
    "duration": 67,
    "start_time": "2022-08-07T13:35:39.549Z"
   },
   {
    "duration": 6,
    "start_time": "2022-08-07T13:35:39.618Z"
   },
   {
    "duration": 102,
    "start_time": "2022-08-07T13:35:39.625Z"
   },
   {
    "duration": 6,
    "start_time": "2022-08-07T13:35:39.728Z"
   },
   {
    "duration": 12,
    "start_time": "2022-08-07T13:35:39.736Z"
   },
   {
    "duration": 29216,
    "start_time": "2022-08-07T13:35:39.810Z"
   },
   {
    "duration": 16450,
    "start_time": "2022-08-07T13:36:09.028Z"
   },
   {
    "duration": 13,
    "start_time": "2022-08-07T13:36:25.480Z"
   },
   {
    "duration": 7,
    "start_time": "2022-08-07T13:36:25.495Z"
   },
   {
    "duration": 12,
    "start_time": "2022-08-07T13:36:25.504Z"
   },
   {
    "duration": 1602,
    "start_time": "2022-08-07T13:38:13.716Z"
   },
   {
    "duration": 5,
    "start_time": "2022-08-07T13:38:22.719Z"
   },
   {
    "duration": 90,
    "start_time": "2022-08-07T13:38:22.726Z"
   },
   {
    "duration": 14,
    "start_time": "2022-08-07T13:38:22.818Z"
   },
   {
    "duration": 238,
    "start_time": "2022-08-07T13:38:22.834Z"
   },
   {
    "duration": 243,
    "start_time": "2022-08-07T13:38:23.073Z"
   },
   {
    "duration": 350,
    "start_time": "2022-08-07T13:38:23.318Z"
   },
   {
    "duration": 3750,
    "start_time": "2022-08-07T13:38:23.670Z"
   },
   {
    "duration": 320,
    "start_time": "2022-08-07T13:38:27.423Z"
   },
   {
    "duration": 811,
    "start_time": "2022-08-07T13:38:27.745Z"
   },
   {
    "duration": 4,
    "start_time": "2022-08-07T13:38:28.612Z"
   },
   {
    "duration": 31,
    "start_time": "2022-08-07T13:38:28.617Z"
   },
   {
    "duration": 13,
    "start_time": "2022-08-07T13:38:28.650Z"
   },
   {
    "duration": 7,
    "start_time": "2022-08-07T13:38:28.712Z"
   },
   {
    "duration": 112,
    "start_time": "2022-08-07T13:38:28.721Z"
   },
   {
    "duration": 6,
    "start_time": "2022-08-07T13:38:28.834Z"
   },
   {
    "duration": 69,
    "start_time": "2022-08-07T13:38:28.842Z"
   },
   {
    "duration": 28923,
    "start_time": "2022-08-07T13:38:28.913Z"
   },
   {
    "duration": 16037,
    "start_time": "2022-08-07T13:38:57.837Z"
   },
   {
    "duration": 12,
    "start_time": "2022-08-07T13:39:13.875Z"
   },
   {
    "duration": 5,
    "start_time": "2022-08-07T13:39:13.889Z"
   },
   {
    "duration": 11,
    "start_time": "2022-08-07T13:39:13.896Z"
   },
   {
    "duration": 211,
    "start_time": "2022-08-07T13:39:57.737Z"
   },
   {
    "duration": 2986,
    "start_time": "2022-08-07T13:40:08.032Z"
   },
   {
    "duration": 17,
    "start_time": "2022-08-07T13:40:22.050Z"
   },
   {
    "duration": 15,
    "start_time": "2022-08-07T13:40:29.584Z"
   },
   {
    "duration": 15,
    "start_time": "2022-08-07T13:41:20.790Z"
   },
   {
    "duration": 1528,
    "start_time": "2022-08-07T13:41:25.592Z"
   },
   {
    "duration": 1425,
    "start_time": "2022-08-07T13:41:40.096Z"
   },
   {
    "duration": 217,
    "start_time": "2022-08-07T13:42:11.409Z"
   },
   {
    "duration": 186,
    "start_time": "2022-08-07T13:42:28.898Z"
   },
   {
    "duration": 1609,
    "start_time": "2022-08-07T13:42:41.111Z"
   },
   {
    "duration": 2964,
    "start_time": "2022-08-07T13:42:53.348Z"
   },
   {
    "duration": 1626,
    "start_time": "2022-08-07T13:43:03.893Z"
   },
   {
    "duration": 1453,
    "start_time": "2022-08-07T13:43:49.470Z"
   },
   {
    "duration": 4,
    "start_time": "2022-08-07T13:44:09.833Z"
   },
   {
    "duration": 55,
    "start_time": "2022-08-07T13:44:09.839Z"
   },
   {
    "duration": 26,
    "start_time": "2022-08-07T13:44:09.896Z"
   },
   {
    "duration": 240,
    "start_time": "2022-08-07T13:44:09.925Z"
   },
   {
    "duration": 397,
    "start_time": "2022-08-07T13:44:10.167Z"
   },
   {
    "duration": 233,
    "start_time": "2022-08-07T13:44:10.565Z"
   },
   {
    "duration": 2516,
    "start_time": "2022-08-07T13:44:10.800Z"
   },
   {
    "duration": 312,
    "start_time": "2022-08-07T13:44:13.319Z"
   },
   {
    "duration": 720,
    "start_time": "2022-08-07T13:44:13.633Z"
   },
   {
    "duration": 56,
    "start_time": "2022-08-07T13:44:14.355Z"
   },
   {
    "duration": 22,
    "start_time": "2022-08-07T13:44:14.413Z"
   },
   {
    "duration": 18,
    "start_time": "2022-08-07T13:44:14.437Z"
   },
   {
    "duration": 55,
    "start_time": "2022-08-07T13:44:14.456Z"
   },
   {
    "duration": 40,
    "start_time": "2022-08-07T13:44:14.512Z"
   },
   {
    "duration": 58,
    "start_time": "2022-08-07T13:44:14.554Z"
   },
   {
    "duration": 19,
    "start_time": "2022-08-07T13:44:14.614Z"
   },
   {
    "duration": 28487,
    "start_time": "2022-08-07T13:44:14.635Z"
   },
   {
    "duration": 17843,
    "start_time": "2022-08-07T13:44:43.124Z"
   },
   {
    "duration": 13,
    "start_time": "2022-08-07T13:45:00.968Z"
   },
   {
    "duration": 17,
    "start_time": "2022-08-07T13:45:00.982Z"
   },
   {
    "duration": 28,
    "start_time": "2022-08-07T13:45:01.000Z"
   },
   {
    "duration": 15,
    "start_time": "2022-08-07T13:46:14.779Z"
   },
   {
    "duration": 4,
    "start_time": "2022-08-07T13:46:16.974Z"
   },
   {
    "duration": 69,
    "start_time": "2022-08-07T13:46:16.981Z"
   },
   {
    "duration": 23,
    "start_time": "2022-08-07T13:46:17.051Z"
   },
   {
    "duration": 227,
    "start_time": "2022-08-07T13:46:17.076Z"
   },
   {
    "duration": 243,
    "start_time": "2022-08-07T13:46:17.305Z"
   },
   {
    "duration": 227,
    "start_time": "2022-08-07T13:46:17.550Z"
   },
   {
    "duration": 1339,
    "start_time": "2022-08-07T13:46:17.779Z"
   },
   {
    "duration": 264,
    "start_time": "2022-08-07T13:46:19.120Z"
   },
   {
    "duration": 582,
    "start_time": "2022-08-07T13:46:19.386Z"
   },
   {
    "duration": 4,
    "start_time": "2022-08-07T13:46:19.972Z"
   },
   {
    "duration": 15,
    "start_time": "2022-08-07T13:46:19.978Z"
   },
   {
    "duration": 27,
    "start_time": "2022-08-07T13:46:19.994Z"
   },
   {
    "duration": 17,
    "start_time": "2022-08-07T13:46:20.023Z"
   },
   {
    "duration": 44,
    "start_time": "2022-08-07T13:46:20.042Z"
   },
   {
    "duration": 6,
    "start_time": "2022-08-07T13:46:20.088Z"
   },
   {
    "duration": 26,
    "start_time": "2022-08-07T13:46:20.095Z"
   },
   {
    "duration": 32963,
    "start_time": "2022-08-07T13:46:20.123Z"
   },
   {
    "duration": 18052,
    "start_time": "2022-08-07T13:46:53.088Z"
   },
   {
    "duration": 12,
    "start_time": "2022-08-07T13:47:11.142Z"
   },
   {
    "duration": 5,
    "start_time": "2022-08-07T13:47:11.156Z"
   },
   {
    "duration": 7,
    "start_time": "2022-08-07T13:47:11.162Z"
   },
   {
    "duration": 4,
    "start_time": "2022-08-07T15:29:50.655Z"
   },
   {
    "duration": 4,
    "start_time": "2022-08-07T15:29:52.868Z"
   },
   {
    "duration": 55,
    "start_time": "2022-08-07T15:29:52.874Z"
   },
   {
    "duration": 14,
    "start_time": "2022-08-07T15:29:52.931Z"
   },
   {
    "duration": 231,
    "start_time": "2022-08-07T15:29:52.948Z"
   },
   {
    "duration": 239,
    "start_time": "2022-08-07T15:29:53.181Z"
   },
   {
    "duration": 220,
    "start_time": "2022-08-07T15:29:53.422Z"
   },
   {
    "duration": 1770,
    "start_time": "2022-08-07T15:29:53.644Z"
   },
   {
    "duration": 334,
    "start_time": "2022-08-07T15:29:55.416Z"
   },
   {
    "duration": 791,
    "start_time": "2022-08-07T15:29:55.751Z"
   },
   {
    "duration": 3,
    "start_time": "2022-08-07T15:29:56.544Z"
   },
   {
    "duration": 70,
    "start_time": "2022-08-07T15:29:56.549Z"
   },
   {
    "duration": 13,
    "start_time": "2022-08-07T15:29:56.621Z"
   },
   {
    "duration": 10,
    "start_time": "2022-08-07T15:29:56.635Z"
   },
   {
    "duration": 99,
    "start_time": "2022-08-07T15:29:56.646Z"
   },
   {
    "duration": 8,
    "start_time": "2022-08-07T15:29:56.746Z"
   },
   {
    "duration": 61,
    "start_time": "2022-08-07T15:29:56.756Z"
   },
   {
    "duration": 32985,
    "start_time": "2022-08-07T15:29:56.819Z"
   },
   {
    "duration": 18570,
    "start_time": "2022-08-07T15:30:29.806Z"
   },
   {
    "duration": 12,
    "start_time": "2022-08-07T15:30:48.377Z"
   },
   {
    "duration": 6,
    "start_time": "2022-08-07T15:30:48.390Z"
   },
   {
    "duration": 8,
    "start_time": "2022-08-07T15:30:48.397Z"
   },
   {
    "duration": 122843,
    "start_time": "2022-08-07T15:36:17.984Z"
   },
   {
    "duration": 4,
    "start_time": "2022-08-07T16:15:54.026Z"
   },
   {
    "duration": 57,
    "start_time": "2022-08-07T16:15:54.031Z"
   },
   {
    "duration": 15,
    "start_time": "2022-08-07T16:15:54.090Z"
   },
   {
    "duration": 225,
    "start_time": "2022-08-07T16:15:54.106Z"
   },
   {
    "duration": 327,
    "start_time": "2022-08-07T16:15:54.333Z"
   },
   {
    "duration": 228,
    "start_time": "2022-08-07T16:15:54.661Z"
   },
   {
    "duration": 1421,
    "start_time": "2022-08-07T16:15:54.891Z"
   },
   {
    "duration": 180,
    "start_time": "2022-08-07T16:15:56.314Z"
   },
   {
    "duration": 460,
    "start_time": "2022-08-07T16:15:56.510Z"
   },
   {
    "duration": 4,
    "start_time": "2022-08-07T16:15:56.971Z"
   },
   {
    "duration": 18,
    "start_time": "2022-08-07T16:15:56.976Z"
   },
   {
    "duration": 18,
    "start_time": "2022-08-07T16:15:56.995Z"
   },
   {
    "duration": 5,
    "start_time": "2022-08-07T16:15:57.015Z"
   },
   {
    "duration": 41,
    "start_time": "2022-08-07T16:15:57.023Z"
   },
   {
    "duration": 5,
    "start_time": "2022-08-07T16:15:57.066Z"
   },
   {
    "duration": 10,
    "start_time": "2022-08-07T16:15:57.073Z"
   },
   {
    "duration": 122510,
    "start_time": "2022-08-07T16:15:57.112Z"
   },
   {
    "duration": 62533,
    "start_time": "2022-08-07T16:17:59.624Z"
   },
   {
    "duration": 11,
    "start_time": "2022-08-07T16:19:02.158Z"
   },
   {
    "duration": 13,
    "start_time": "2022-08-07T16:19:02.170Z"
   },
   {
    "duration": 21,
    "start_time": "2022-08-07T16:19:02.185Z"
   },
   {
    "duration": 4,
    "start_time": "2022-08-07T16:22:03.008Z"
   },
   {
    "duration": 53,
    "start_time": "2022-08-07T16:22:03.014Z"
   },
   {
    "duration": 15,
    "start_time": "2022-08-07T16:22:03.068Z"
   },
   {
    "duration": 218,
    "start_time": "2022-08-07T16:22:03.085Z"
   },
   {
    "duration": 235,
    "start_time": "2022-08-07T16:22:03.304Z"
   },
   {
    "duration": 311,
    "start_time": "2022-08-07T16:22:03.540Z"
   },
   {
    "duration": 1459,
    "start_time": "2022-08-07T16:22:03.853Z"
   },
   {
    "duration": 196,
    "start_time": "2022-08-07T16:22:05.316Z"
   },
   {
    "duration": 520,
    "start_time": "2022-08-07T16:22:05.514Z"
   },
   {
    "duration": 3,
    "start_time": "2022-08-07T16:22:06.037Z"
   },
   {
    "duration": 15,
    "start_time": "2022-08-07T16:22:06.042Z"
   },
   {
    "duration": 62,
    "start_time": "2022-08-07T16:22:06.059Z"
   },
   {
    "duration": 10,
    "start_time": "2022-08-07T16:22:06.123Z"
   },
   {
    "duration": 92,
    "start_time": "2022-08-07T16:22:06.135Z"
   },
   {
    "duration": 6,
    "start_time": "2022-08-07T16:22:06.228Z"
   },
   {
    "duration": 16,
    "start_time": "2022-08-07T16:22:06.236Z"
   },
   {
    "duration": 105510,
    "start_time": "2022-08-07T16:22:06.254Z"
   },
   {
    "duration": 58377,
    "start_time": "2022-08-07T16:23:51.765Z"
   },
   {
    "duration": 10,
    "start_time": "2022-08-07T16:24:50.143Z"
   },
   {
    "duration": 0,
    "start_time": "2022-08-07T16:24:50.154Z"
   },
   {
    "duration": 0,
    "start_time": "2022-08-07T16:24:50.155Z"
   },
   {
    "duration": 3,
    "start_time": "2022-08-07T16:25:17.025Z"
   },
   {
    "duration": 51,
    "start_time": "2022-08-07T16:25:17.030Z"
   },
   {
    "duration": 15,
    "start_time": "2022-08-07T16:25:17.082Z"
   },
   {
    "duration": 216,
    "start_time": "2022-08-07T16:25:17.100Z"
   },
   {
    "duration": 236,
    "start_time": "2022-08-07T16:25:17.318Z"
   },
   {
    "duration": 305,
    "start_time": "2022-08-07T16:25:17.556Z"
   },
   {
    "duration": 1452,
    "start_time": "2022-08-07T16:25:17.862Z"
   },
   {
    "duration": 268,
    "start_time": "2022-08-07T16:25:19.316Z"
   },
   {
    "duration": 476,
    "start_time": "2022-08-07T16:25:19.586Z"
   },
   {
    "duration": 3,
    "start_time": "2022-08-07T16:25:20.064Z"
   },
   {
    "duration": 21,
    "start_time": "2022-08-07T16:25:20.068Z"
   },
   {
    "duration": 23,
    "start_time": "2022-08-07T16:25:20.091Z"
   },
   {
    "duration": 6,
    "start_time": "2022-08-07T16:25:20.115Z"
   },
   {
    "duration": 55,
    "start_time": "2022-08-07T16:25:20.123Z"
   },
   {
    "duration": 8,
    "start_time": "2022-08-07T16:25:20.211Z"
   },
   {
    "duration": 12,
    "start_time": "2022-08-07T16:25:20.221Z"
   },
   {
    "duration": 165380,
    "start_time": "2022-08-07T16:25:20.235Z"
   },
   {
    "duration": 80666,
    "start_time": "2022-08-07T16:28:05.617Z"
   },
   {
    "duration": 80,
    "start_time": "2022-08-07T16:29:26.285Z"
   },
   {
    "duration": 0,
    "start_time": "2022-08-07T16:29:26.366Z"
   },
   {
    "duration": 0,
    "start_time": "2022-08-07T16:29:26.367Z"
   },
   {
    "duration": 11,
    "start_time": "2022-08-07T16:29:46.181Z"
   },
   {
    "duration": 3,
    "start_time": "2022-08-07T16:30:08.097Z"
   },
   {
    "duration": 62,
    "start_time": "2022-08-07T16:30:08.102Z"
   },
   {
    "duration": 15,
    "start_time": "2022-08-07T16:30:08.165Z"
   },
   {
    "duration": 219,
    "start_time": "2022-08-07T16:30:08.182Z"
   },
   {
    "duration": 229,
    "start_time": "2022-08-07T16:30:08.403Z"
   },
   {
    "duration": 307,
    "start_time": "2022-08-07T16:30:08.634Z"
   },
   {
    "duration": 1573,
    "start_time": "2022-08-07T16:30:08.942Z"
   },
   {
    "duration": 335,
    "start_time": "2022-08-07T16:30:10.516Z"
   },
   {
    "duration": 804,
    "start_time": "2022-08-07T16:30:10.853Z"
   },
   {
    "duration": 4,
    "start_time": "2022-08-07T16:30:11.710Z"
   },
   {
    "duration": 24,
    "start_time": "2022-08-07T16:30:11.715Z"
   },
   {
    "duration": 74,
    "start_time": "2022-08-07T16:30:11.741Z"
   },
   {
    "duration": 8,
    "start_time": "2022-08-07T16:30:11.817Z"
   },
   {
    "duration": 121,
    "start_time": "2022-08-07T16:30:11.826Z"
   },
   {
    "duration": 62,
    "start_time": "2022-08-07T16:30:11.949Z"
   },
   {
    "duration": 104,
    "start_time": "2022-08-07T16:30:12.013Z"
   },
   {
    "duration": 250884,
    "start_time": "2022-08-07T16:30:12.118Z"
   },
   {
    "duration": 109707,
    "start_time": "2022-08-07T16:34:23.004Z"
   },
   {
    "duration": 15,
    "start_time": "2022-08-07T16:36:12.713Z"
   },
   {
    "duration": 6,
    "start_time": "2022-08-07T16:36:12.730Z"
   },
   {
    "duration": 10,
    "start_time": "2022-08-07T16:36:12.737Z"
   },
   {
    "duration": 15,
    "start_time": "2022-08-07T16:36:42.246Z"
   },
   {
    "duration": 18,
    "start_time": "2022-08-07T16:38:20.514Z"
   },
   {
    "duration": 7,
    "start_time": "2022-08-07T16:38:29.758Z"
   },
   {
    "duration": 4,
    "start_time": "2022-08-07T16:39:05.839Z"
   },
   {
    "duration": 54,
    "start_time": "2022-08-07T16:39:05.844Z"
   },
   {
    "duration": 16,
    "start_time": "2022-08-07T16:39:05.899Z"
   },
   {
    "duration": 217,
    "start_time": "2022-08-07T16:39:05.918Z"
   },
   {
    "duration": 237,
    "start_time": "2022-08-07T16:39:06.136Z"
   },
   {
    "duration": 314,
    "start_time": "2022-08-07T16:39:06.374Z"
   },
   {
    "duration": 1328,
    "start_time": "2022-08-07T16:39:06.689Z"
   },
   {
    "duration": 265,
    "start_time": "2022-08-07T16:39:08.019Z"
   },
   {
    "duration": 478,
    "start_time": "2022-08-07T16:39:08.285Z"
   },
   {
    "duration": 4,
    "start_time": "2022-08-07T16:39:08.765Z"
   },
   {
    "duration": 20,
    "start_time": "2022-08-07T16:39:08.770Z"
   },
   {
    "duration": 29,
    "start_time": "2022-08-07T16:39:08.791Z"
   },
   {
    "duration": 4,
    "start_time": "2022-08-07T16:39:08.822Z"
   },
   {
    "duration": 51,
    "start_time": "2022-08-07T16:39:08.828Z"
   },
   {
    "duration": 5,
    "start_time": "2022-08-07T16:39:08.881Z"
   },
   {
    "duration": 10,
    "start_time": "2022-08-07T16:39:08.911Z"
   },
   {
    "duration": 164565,
    "start_time": "2022-08-07T16:39:08.922Z"
   },
   {
    "duration": 79339,
    "start_time": "2022-08-07T16:41:53.488Z"
   },
   {
    "duration": 11,
    "start_time": "2022-08-07T16:43:12.829Z"
   },
   {
    "duration": 5,
    "start_time": "2022-08-07T16:43:12.842Z"
   },
   {
    "duration": 19,
    "start_time": "2022-08-07T16:43:12.848Z"
   },
   {
    "duration": 7,
    "start_time": "2022-08-07T16:43:33.490Z"
   },
   {
    "duration": 8,
    "start_time": "2022-08-07T16:43:41.678Z"
   },
   {
    "duration": 7,
    "start_time": "2022-08-07T16:43:45.445Z"
   },
   {
    "duration": 18,
    "start_time": "2022-08-07T16:43:52.043Z"
   },
   {
    "duration": 7,
    "start_time": "2022-08-07T16:43:58.443Z"
   },
   {
    "duration": 6,
    "start_time": "2022-08-07T16:44:19.024Z"
   },
   {
    "duration": 4,
    "start_time": "2022-08-07T16:44:38.016Z"
   },
   {
    "duration": 57,
    "start_time": "2022-08-07T16:44:38.021Z"
   },
   {
    "duration": 16,
    "start_time": "2022-08-07T16:44:38.079Z"
   },
   {
    "duration": 215,
    "start_time": "2022-08-07T16:44:38.097Z"
   },
   {
    "duration": 224,
    "start_time": "2022-08-07T16:44:38.314Z"
   },
   {
    "duration": 315,
    "start_time": "2022-08-07T16:44:38.540Z"
   },
   {
    "duration": 1658,
    "start_time": "2022-08-07T16:44:38.856Z"
   },
   {
    "duration": 179,
    "start_time": "2022-08-07T16:44:40.515Z"
   },
   {
    "duration": 473,
    "start_time": "2022-08-07T16:44:40.696Z"
   },
   {
    "duration": 4,
    "start_time": "2022-08-07T16:44:41.171Z"
   },
   {
    "duration": 45,
    "start_time": "2022-08-07T16:44:41.176Z"
   },
   {
    "duration": 21,
    "start_time": "2022-08-07T16:44:41.222Z"
   },
   {
    "duration": 5,
    "start_time": "2022-08-07T16:44:41.245Z"
   },
   {
    "duration": 89,
    "start_time": "2022-08-07T16:44:41.253Z"
   },
   {
    "duration": 7,
    "start_time": "2022-08-07T16:44:41.344Z"
   },
   {
    "duration": 159,
    "start_time": "2022-08-07T16:44:41.353Z"
   },
   {
    "duration": 241358,
    "start_time": "2022-08-07T16:44:41.514Z"
   },
   {
    "duration": 0,
    "start_time": "2022-08-07T16:48:42.874Z"
   },
   {
    "duration": 0,
    "start_time": "2022-08-07T16:48:42.875Z"
   },
   {
    "duration": 0,
    "start_time": "2022-08-07T16:48:42.878Z"
   },
   {
    "duration": 0,
    "start_time": "2022-08-07T16:48:42.879Z"
   },
   {
    "duration": 4,
    "start_time": "2022-08-07T16:48:55.513Z"
   },
   {
    "duration": 62,
    "start_time": "2022-08-07T16:48:55.520Z"
   },
   {
    "duration": 16,
    "start_time": "2022-08-07T16:48:55.583Z"
   },
   {
    "duration": 225,
    "start_time": "2022-08-07T16:48:55.601Z"
   },
   {
    "duration": 224,
    "start_time": "2022-08-07T16:48:55.828Z"
   },
   {
    "duration": 246,
    "start_time": "2022-08-07T16:48:56.054Z"
   },
   {
    "duration": 1814,
    "start_time": "2022-08-07T16:48:56.302Z"
   },
   {
    "duration": 241,
    "start_time": "2022-08-07T16:48:58.210Z"
   },
   {
    "duration": 791,
    "start_time": "2022-08-07T16:48:58.452Z"
   },
   {
    "duration": 3,
    "start_time": "2022-08-07T16:48:59.245Z"
   },
   {
    "duration": 91,
    "start_time": "2022-08-07T16:48:59.250Z"
   },
   {
    "duration": 72,
    "start_time": "2022-08-07T16:48:59.342Z"
   },
   {
    "duration": 6,
    "start_time": "2022-08-07T16:48:59.415Z"
   },
   {
    "duration": 124,
    "start_time": "2022-08-07T16:48:59.422Z"
   },
   {
    "duration": 6,
    "start_time": "2022-08-07T16:48:59.547Z"
   },
   {
    "duration": 256,
    "start_time": "2022-08-07T16:48:59.555Z"
   },
   {
    "duration": 166657,
    "start_time": "2022-08-07T16:48:59.813Z"
   },
   {
    "duration": 113505,
    "start_time": "2022-08-07T16:51:46.472Z"
   },
   {
    "duration": 10,
    "start_time": "2022-08-07T16:53:39.978Z"
   },
   {
    "duration": 0,
    "start_time": "2022-08-07T16:53:39.989Z"
   },
   {
    "duration": 0,
    "start_time": "2022-08-07T16:53:39.990Z"
   },
   {
    "duration": 12,
    "start_time": "2022-08-07T16:53:48.273Z"
   },
   {
    "duration": 6,
    "start_time": "2022-08-07T16:53:58.479Z"
   },
   {
    "duration": 8,
    "start_time": "2022-08-07T16:54:02.566Z"
   },
   {
    "duration": 54,
    "start_time": "2022-10-02T15:31:56.298Z"
   },
   {
    "duration": 1642,
    "start_time": "2022-10-02T15:31:59.088Z"
   },
   {
    "duration": 280,
    "start_time": "2022-10-02T15:32:00.732Z"
   }
  ],
  "kernelspec": {
   "display_name": "Python 3 (ipykernel)",
   "language": "python",
   "name": "python3"
  },
  "language_info": {
   "codemirror_mode": {
    "name": "ipython",
    "version": 3
   },
   "file_extension": ".py",
   "mimetype": "text/x-python",
   "name": "python",
   "nbconvert_exporter": "python",
   "pygments_lexer": "ipython3",
   "version": "3.9.12"
  },
  "toc": {
   "base_numbering": 1,
   "nav_menu": {},
   "number_sections": true,
   "sideBar": true,
   "skip_h1_title": true,
   "title_cell": "Содержание",
   "title_sidebar": "Contents",
   "toc_cell": true,
   "toc_position": {
    "height": "calc(100% - 180px)",
    "left": "10px",
    "top": "150px",
    "width": "207.726px"
   },
   "toc_section_display": true,
   "toc_window_display": true
  }
 },
 "nbformat": 4,
 "nbformat_minor": 2
}
