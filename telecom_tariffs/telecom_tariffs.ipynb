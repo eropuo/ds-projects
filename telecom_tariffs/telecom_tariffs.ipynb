{
 "cells": [
  {
   "cell_type": "markdown",
   "metadata": {},
   "source": [
    "# Определение перспективного тарифа для телеком-компании\n",
    "\n",
    "Чтобы скорректировать рекламный бюджет, коммерческий департамент хочет понять, какой тариф приносит больше денег. <br>\n",
    "В нашем распоряжении данные 500 пользователей «Мегалайна»: кто они, откуда, каким тарифом пользуются, сколько звонков и сообщений каждый отправил за 2018 год. Нужно проанализировать поведение клиентов и сделать вывод — какой тариф лучше."
   ]
  },
  {
   "cell_type": "markdown",
   "metadata": {},
   "source": [
    "## Изучение данных из файлов"
   ]
  },
  {
   "cell_type": "code",
   "execution_count": 1,
   "metadata": {},
   "outputs": [],
   "source": [
    "# импортирование всех нужных библиотек \n",
    "import pandas as pd \n",
    "import math\n",
    "import numpy as np\n",
    "from scipy import stats as st\n",
    "\n",
    "# формирование датафреймов по всем имеющимся таблицам\n",
    "data_users = pd.read_csv('dataset_users.csv')\n",
    "data_calls = pd.read_csv('dataset_calls.csv')\n",
    "data_messages = pd.read_csv('dataset_messages.csv')\n",
    "data_internet = pd.read_csv('dataset_internet.csv')\n",
    "data_tariffs = pd.read_csv('dataset_tariffs.csv')"
   ]
  },
  {
   "cell_type": "code",
   "execution_count": 2,
   "metadata": {
    "scrolled": true
   },
   "outputs": [
    {
     "data": {
      "text/html": [
       "<div>\n",
       "<style scoped>\n",
       "    .dataframe tbody tr th:only-of-type {\n",
       "        vertical-align: middle;\n",
       "    }\n",
       "\n",
       "    .dataframe tbody tr th {\n",
       "        vertical-align: top;\n",
       "    }\n",
       "\n",
       "    .dataframe thead th {\n",
       "        text-align: right;\n",
       "    }\n",
       "</style>\n",
       "<table border=\"1\" class=\"dataframe\">\n",
       "  <thead>\n",
       "    <tr style=\"text-align: right;\">\n",
       "      <th></th>\n",
       "      <th>Unnamed: 0</th>\n",
       "      <th>user_id</th>\n",
       "      <th>age</th>\n",
       "      <th>churn_date</th>\n",
       "      <th>city</th>\n",
       "      <th>first_name</th>\n",
       "      <th>last_name</th>\n",
       "      <th>reg_date</th>\n",
       "      <th>tariff</th>\n",
       "    </tr>\n",
       "  </thead>\n",
       "  <tbody>\n",
       "    <tr>\n",
       "      <th>0</th>\n",
       "      <td>0</td>\n",
       "      <td>1000</td>\n",
       "      <td>52</td>\n",
       "      <td>NaN</td>\n",
       "      <td>Краснодар</td>\n",
       "      <td>Рафаил</td>\n",
       "      <td>Верещагин</td>\n",
       "      <td>2018-05-25</td>\n",
       "      <td>ultra</td>\n",
       "    </tr>\n",
       "    <tr>\n",
       "      <th>1</th>\n",
       "      <td>1</td>\n",
       "      <td>1001</td>\n",
       "      <td>41</td>\n",
       "      <td>NaN</td>\n",
       "      <td>Москва</td>\n",
       "      <td>Иван</td>\n",
       "      <td>Ежов</td>\n",
       "      <td>2018-11-01</td>\n",
       "      <td>smart</td>\n",
       "    </tr>\n",
       "    <tr>\n",
       "      <th>2</th>\n",
       "      <td>2</td>\n",
       "      <td>1002</td>\n",
       "      <td>59</td>\n",
       "      <td>NaN</td>\n",
       "      <td>Стерлитамак</td>\n",
       "      <td>Евгений</td>\n",
       "      <td>Абрамович</td>\n",
       "      <td>2018-06-17</td>\n",
       "      <td>smart</td>\n",
       "    </tr>\n",
       "    <tr>\n",
       "      <th>3</th>\n",
       "      <td>3</td>\n",
       "      <td>1003</td>\n",
       "      <td>23</td>\n",
       "      <td>NaN</td>\n",
       "      <td>Москва</td>\n",
       "      <td>Белла</td>\n",
       "      <td>Белякова</td>\n",
       "      <td>2018-08-17</td>\n",
       "      <td>ultra</td>\n",
       "    </tr>\n",
       "    <tr>\n",
       "      <th>4</th>\n",
       "      <td>4</td>\n",
       "      <td>1004</td>\n",
       "      <td>68</td>\n",
       "      <td>NaN</td>\n",
       "      <td>Новокузнецк</td>\n",
       "      <td>Татьяна</td>\n",
       "      <td>Авдеенко</td>\n",
       "      <td>2018-05-14</td>\n",
       "      <td>ultra</td>\n",
       "    </tr>\n",
       "  </tbody>\n",
       "</table>\n",
       "</div>"
      ],
      "text/plain": [
       "   Unnamed: 0  user_id  age churn_date         city first_name  last_name  \\\n",
       "0           0     1000   52        NaN    Краснодар     Рафаил  Верещагин   \n",
       "1           1     1001   41        NaN       Москва       Иван       Ежов   \n",
       "2           2     1002   59        NaN  Стерлитамак    Евгений  Абрамович   \n",
       "3           3     1003   23        NaN       Москва      Белла   Белякова   \n",
       "4           4     1004   68        NaN  Новокузнецк    Татьяна   Авдеенко   \n",
       "\n",
       "     reg_date tariff  \n",
       "0  2018-05-25  ultra  \n",
       "1  2018-11-01  smart  \n",
       "2  2018-06-17  smart  \n",
       "3  2018-08-17  ultra  \n",
       "4  2018-05-14  ultra  "
      ]
     },
     "metadata": {},
     "output_type": "display_data"
    },
    {
     "name": "stdout",
     "output_type": "stream",
     "text": [
      "<class 'pandas.core.frame.DataFrame'>\n",
      "RangeIndex: 500 entries, 0 to 499\n",
      "Data columns (total 9 columns):\n",
      " #   Column      Non-Null Count  Dtype \n",
      "---  ------      --------------  ----- \n",
      " 0   Unnamed: 0  500 non-null    int64 \n",
      " 1   user_id     500 non-null    int64 \n",
      " 2   age         500 non-null    int64 \n",
      " 3   churn_date  38 non-null     object\n",
      " 4   city        500 non-null    object\n",
      " 5   first_name  500 non-null    object\n",
      " 6   last_name   500 non-null    object\n",
      " 7   reg_date    500 non-null    object\n",
      " 8   tariff      500 non-null    object\n",
      "dtypes: int64(3), object(6)\n",
      "memory usage: 35.3+ KB\n"
     ]
    }
   ],
   "source": [
    "# просмотр общей информации о датафрейме \"users\"\n",
    "display(data_users.head())\n",
    "data_users.info()"
   ]
  },
  {
   "cell_type": "code",
   "execution_count": 3,
   "metadata": {
    "scrolled": true
   },
   "outputs": [
    {
     "data": {
      "text/html": [
       "<div>\n",
       "<style scoped>\n",
       "    .dataframe tbody tr th:only-of-type {\n",
       "        vertical-align: middle;\n",
       "    }\n",
       "\n",
       "    .dataframe tbody tr th {\n",
       "        vertical-align: top;\n",
       "    }\n",
       "\n",
       "    .dataframe thead th {\n",
       "        text-align: right;\n",
       "    }\n",
       "</style>\n",
       "<table border=\"1\" class=\"dataframe\">\n",
       "  <thead>\n",
       "    <tr style=\"text-align: right;\">\n",
       "      <th></th>\n",
       "      <th>Unnamed: 0</th>\n",
       "      <th>id</th>\n",
       "      <th>call_date</th>\n",
       "      <th>duration</th>\n",
       "      <th>user_id</th>\n",
       "    </tr>\n",
       "  </thead>\n",
       "  <tbody>\n",
       "    <tr>\n",
       "      <th>0</th>\n",
       "      <td>0</td>\n",
       "      <td>1000_0</td>\n",
       "      <td>2018-07-25</td>\n",
       "      <td>0.00</td>\n",
       "      <td>1000</td>\n",
       "    </tr>\n",
       "    <tr>\n",
       "      <th>1</th>\n",
       "      <td>1</td>\n",
       "      <td>1000_1</td>\n",
       "      <td>2018-08-17</td>\n",
       "      <td>0.00</td>\n",
       "      <td>1000</td>\n",
       "    </tr>\n",
       "    <tr>\n",
       "      <th>2</th>\n",
       "      <td>2</td>\n",
       "      <td>1000_2</td>\n",
       "      <td>2018-06-11</td>\n",
       "      <td>2.85</td>\n",
       "      <td>1000</td>\n",
       "    </tr>\n",
       "    <tr>\n",
       "      <th>3</th>\n",
       "      <td>3</td>\n",
       "      <td>1000_3</td>\n",
       "      <td>2018-09-21</td>\n",
       "      <td>13.80</td>\n",
       "      <td>1000</td>\n",
       "    </tr>\n",
       "    <tr>\n",
       "      <th>4</th>\n",
       "      <td>4</td>\n",
       "      <td>1000_4</td>\n",
       "      <td>2018-12-15</td>\n",
       "      <td>5.18</td>\n",
       "      <td>1000</td>\n",
       "    </tr>\n",
       "  </tbody>\n",
       "</table>\n",
       "</div>"
      ],
      "text/plain": [
       "   Unnamed: 0      id   call_date  duration  user_id\n",
       "0           0  1000_0  2018-07-25      0.00     1000\n",
       "1           1  1000_1  2018-08-17      0.00     1000\n",
       "2           2  1000_2  2018-06-11      2.85     1000\n",
       "3           3  1000_3  2018-09-21     13.80     1000\n",
       "4           4  1000_4  2018-12-15      5.18     1000"
      ]
     },
     "metadata": {},
     "output_type": "display_data"
    },
    {
     "name": "stdout",
     "output_type": "stream",
     "text": [
      "<class 'pandas.core.frame.DataFrame'>\n",
      "RangeIndex: 202607 entries, 0 to 202606\n",
      "Data columns (total 5 columns):\n",
      " #   Column      Non-Null Count   Dtype  \n",
      "---  ------      --------------   -----  \n",
      " 0   Unnamed: 0  202607 non-null  int64  \n",
      " 1   id          202607 non-null  object \n",
      " 2   call_date   202607 non-null  object \n",
      " 3   duration    202607 non-null  float64\n",
      " 4   user_id     202607 non-null  int64  \n",
      "dtypes: float64(1), int64(2), object(2)\n",
      "memory usage: 7.7+ MB\n"
     ]
    }
   ],
   "source": [
    "# просмотр общей информации о датафрейме \"calls\"\n",
    "display(data_calls.head())\n",
    "data_calls.info()"
   ]
  },
  {
   "cell_type": "code",
   "execution_count": 4,
   "metadata": {
    "scrolled": false
   },
   "outputs": [
    {
     "data": {
      "text/html": [
       "<div>\n",
       "<style scoped>\n",
       "    .dataframe tbody tr th:only-of-type {\n",
       "        vertical-align: middle;\n",
       "    }\n",
       "\n",
       "    .dataframe tbody tr th {\n",
       "        vertical-align: top;\n",
       "    }\n",
       "\n",
       "    .dataframe thead th {\n",
       "        text-align: right;\n",
       "    }\n",
       "</style>\n",
       "<table border=\"1\" class=\"dataframe\">\n",
       "  <thead>\n",
       "    <tr style=\"text-align: right;\">\n",
       "      <th></th>\n",
       "      <th>id</th>\n",
       "      <th>message_date</th>\n",
       "      <th>user_id</th>\n",
       "    </tr>\n",
       "  </thead>\n",
       "  <tbody>\n",
       "    <tr>\n",
       "      <th>0</th>\n",
       "      <td>1000_0</td>\n",
       "      <td>2018-06-27</td>\n",
       "      <td>1000</td>\n",
       "    </tr>\n",
       "    <tr>\n",
       "      <th>1</th>\n",
       "      <td>1000_1</td>\n",
       "      <td>2018-10-08</td>\n",
       "      <td>1000</td>\n",
       "    </tr>\n",
       "    <tr>\n",
       "      <th>2</th>\n",
       "      <td>1000_2</td>\n",
       "      <td>2018-08-04</td>\n",
       "      <td>1000</td>\n",
       "    </tr>\n",
       "    <tr>\n",
       "      <th>3</th>\n",
       "      <td>1000_3</td>\n",
       "      <td>2018-06-16</td>\n",
       "      <td>1000</td>\n",
       "    </tr>\n",
       "    <tr>\n",
       "      <th>4</th>\n",
       "      <td>1000_4</td>\n",
       "      <td>2018-12-05</td>\n",
       "      <td>1000</td>\n",
       "    </tr>\n",
       "  </tbody>\n",
       "</table>\n",
       "</div>"
      ],
      "text/plain": [
       "       id message_date  user_id\n",
       "0  1000_0   2018-06-27     1000\n",
       "1  1000_1   2018-10-08     1000\n",
       "2  1000_2   2018-08-04     1000\n",
       "3  1000_3   2018-06-16     1000\n",
       "4  1000_4   2018-12-05     1000"
      ]
     },
     "metadata": {},
     "output_type": "display_data"
    },
    {
     "name": "stdout",
     "output_type": "stream",
     "text": [
      "<class 'pandas.core.frame.DataFrame'>\n",
      "RangeIndex: 123036 entries, 0 to 123035\n",
      "Data columns (total 3 columns):\n",
      " #   Column        Non-Null Count   Dtype \n",
      "---  ------        --------------   ----- \n",
      " 0   id            123036 non-null  object\n",
      " 1   message_date  123036 non-null  object\n",
      " 2   user_id       123036 non-null  int64 \n",
      "dtypes: int64(1), object(2)\n",
      "memory usage: 2.8+ MB\n"
     ]
    }
   ],
   "source": [
    "# просмотр общей информации о датафрейме \"messages\"\n",
    "display(data_messages.head())\n",
    "data_messages.info()"
   ]
  },
  {
   "cell_type": "code",
   "execution_count": 5,
   "metadata": {
    "scrolled": true
   },
   "outputs": [
    {
     "data": {
      "text/html": [
       "<div>\n",
       "<style scoped>\n",
       "    .dataframe tbody tr th:only-of-type {\n",
       "        vertical-align: middle;\n",
       "    }\n",
       "\n",
       "    .dataframe tbody tr th {\n",
       "        vertical-align: top;\n",
       "    }\n",
       "\n",
       "    .dataframe thead th {\n",
       "        text-align: right;\n",
       "    }\n",
       "</style>\n",
       "<table border=\"1\" class=\"dataframe\">\n",
       "  <thead>\n",
       "    <tr style=\"text-align: right;\">\n",
       "      <th></th>\n",
       "      <th>Unnamed: 0</th>\n",
       "      <th>id</th>\n",
       "      <th>mb_used</th>\n",
       "      <th>session_date</th>\n",
       "      <th>user_id</th>\n",
       "    </tr>\n",
       "  </thead>\n",
       "  <tbody>\n",
       "    <tr>\n",
       "      <th>0</th>\n",
       "      <td>0</td>\n",
       "      <td>1000_0</td>\n",
       "      <td>112.95</td>\n",
       "      <td>2018-11-25</td>\n",
       "      <td>1000</td>\n",
       "    </tr>\n",
       "    <tr>\n",
       "      <th>1</th>\n",
       "      <td>1</td>\n",
       "      <td>1000_1</td>\n",
       "      <td>1052.81</td>\n",
       "      <td>2018-09-07</td>\n",
       "      <td>1000</td>\n",
       "    </tr>\n",
       "    <tr>\n",
       "      <th>2</th>\n",
       "      <td>2</td>\n",
       "      <td>1000_2</td>\n",
       "      <td>1197.26</td>\n",
       "      <td>2018-06-25</td>\n",
       "      <td>1000</td>\n",
       "    </tr>\n",
       "    <tr>\n",
       "      <th>3</th>\n",
       "      <td>3</td>\n",
       "      <td>1000_3</td>\n",
       "      <td>550.27</td>\n",
       "      <td>2018-08-22</td>\n",
       "      <td>1000</td>\n",
       "    </tr>\n",
       "    <tr>\n",
       "      <th>4</th>\n",
       "      <td>4</td>\n",
       "      <td>1000_4</td>\n",
       "      <td>302.56</td>\n",
       "      <td>2018-09-24</td>\n",
       "      <td>1000</td>\n",
       "    </tr>\n",
       "  </tbody>\n",
       "</table>\n",
       "</div>"
      ],
      "text/plain": [
       "   Unnamed: 0      id  mb_used session_date  user_id\n",
       "0           0  1000_0   112.95   2018-11-25     1000\n",
       "1           1  1000_1  1052.81   2018-09-07     1000\n",
       "2           2  1000_2  1197.26   2018-06-25     1000\n",
       "3           3  1000_3   550.27   2018-08-22     1000\n",
       "4           4  1000_4   302.56   2018-09-24     1000"
      ]
     },
     "metadata": {},
     "output_type": "display_data"
    },
    {
     "name": "stdout",
     "output_type": "stream",
     "text": [
      "<class 'pandas.core.frame.DataFrame'>\n",
      "RangeIndex: 149396 entries, 0 to 149395\n",
      "Data columns (total 5 columns):\n",
      " #   Column        Non-Null Count   Dtype  \n",
      "---  ------        --------------   -----  \n",
      " 0   Unnamed: 0    149396 non-null  int64  \n",
      " 1   id            149396 non-null  object \n",
      " 2   mb_used       149396 non-null  float64\n",
      " 3   session_date  149396 non-null  object \n",
      " 4   user_id       149396 non-null  int64  \n",
      "dtypes: float64(1), int64(2), object(2)\n",
      "memory usage: 5.7+ MB\n"
     ]
    }
   ],
   "source": [
    "# просмотр общей информации о датафрейме \"internet\"\n",
    "display(data_internet.head())\n",
    "data_internet.info()"
   ]
  },
  {
   "cell_type": "code",
   "execution_count": 6,
   "metadata": {
    "scrolled": true
   },
   "outputs": [
    {
     "data": {
      "text/html": [
       "<div>\n",
       "<style scoped>\n",
       "    .dataframe tbody tr th:only-of-type {\n",
       "        vertical-align: middle;\n",
       "    }\n",
       "\n",
       "    .dataframe tbody tr th {\n",
       "        vertical-align: top;\n",
       "    }\n",
       "\n",
       "    .dataframe thead th {\n",
       "        text-align: right;\n",
       "    }\n",
       "</style>\n",
       "<table border=\"1\" class=\"dataframe\">\n",
       "  <thead>\n",
       "    <tr style=\"text-align: right;\">\n",
       "      <th></th>\n",
       "      <th>messages_included</th>\n",
       "      <th>mb_per_month_included</th>\n",
       "      <th>minutes_included</th>\n",
       "      <th>rub_monthly_fee</th>\n",
       "      <th>rub_per_gb</th>\n",
       "      <th>rub_per_message</th>\n",
       "      <th>rub_per_minute</th>\n",
       "      <th>tariff_name</th>\n",
       "    </tr>\n",
       "  </thead>\n",
       "  <tbody>\n",
       "    <tr>\n",
       "      <th>0</th>\n",
       "      <td>50</td>\n",
       "      <td>15360</td>\n",
       "      <td>500</td>\n",
       "      <td>550</td>\n",
       "      <td>200</td>\n",
       "      <td>3</td>\n",
       "      <td>3</td>\n",
       "      <td>smart</td>\n",
       "    </tr>\n",
       "    <tr>\n",
       "      <th>1</th>\n",
       "      <td>1000</td>\n",
       "      <td>30720</td>\n",
       "      <td>3000</td>\n",
       "      <td>1950</td>\n",
       "      <td>150</td>\n",
       "      <td>1</td>\n",
       "      <td>1</td>\n",
       "      <td>ultra</td>\n",
       "    </tr>\n",
       "  </tbody>\n",
       "</table>\n",
       "</div>"
      ],
      "text/plain": [
       "   messages_included  mb_per_month_included  minutes_included  \\\n",
       "0                 50                  15360               500   \n",
       "1               1000                  30720              3000   \n",
       "\n",
       "   rub_monthly_fee  rub_per_gb  rub_per_message  rub_per_minute tariff_name  \n",
       "0              550         200                3               3       smart  \n",
       "1             1950         150                1               1       ultra  "
      ]
     },
     "metadata": {},
     "output_type": "display_data"
    },
    {
     "name": "stdout",
     "output_type": "stream",
     "text": [
      "<class 'pandas.core.frame.DataFrame'>\n",
      "RangeIndex: 2 entries, 0 to 1\n",
      "Data columns (total 8 columns):\n",
      " #   Column                 Non-Null Count  Dtype \n",
      "---  ------                 --------------  ----- \n",
      " 0   messages_included      2 non-null      int64 \n",
      " 1   mb_per_month_included  2 non-null      int64 \n",
      " 2   minutes_included       2 non-null      int64 \n",
      " 3   rub_monthly_fee        2 non-null      int64 \n",
      " 4   rub_per_gb             2 non-null      int64 \n",
      " 5   rub_per_message        2 non-null      int64 \n",
      " 6   rub_per_minute         2 non-null      int64 \n",
      " 7   tariff_name            2 non-null      object\n",
      "dtypes: int64(7), object(1)\n",
      "memory usage: 256.0+ bytes\n"
     ]
    }
   ],
   "source": [
    "# просмотр общей информации о датафрейме \"tariffs\"\n",
    "display(data_tariffs.head())\n",
    "data_tariffs.info()"
   ]
  },
  {
   "cell_type": "markdown",
   "metadata": {},
   "source": [
    "### Вывод"
   ]
  },
  {
   "cell_type": "markdown",
   "metadata": {},
   "source": [
    "* Тип данных:\n",
    " * Таблица \"users\": Изменить тип данных в столбцах 'churn_date', 'reg_date' на datetime64\n",
    " * Таблица \"calls\": Изменить тип данных в столбце 'call_date' на datetime64\n",
    " * Таблица \"messages\": Изменить тип данных в столбце 'message_date' на datetime64\n",
    " * Таблица \"internet\": Изменить тип данных в столбце 'session_date' на datetime64\n",
    "* Лишний столбец 'Unnamed: 0' в таблице \"internet\""
   ]
  },
  {
   "cell_type": "markdown",
   "metadata": {},
   "source": [
    "## Подготовка данных "
   ]
  },
  {
   "cell_type": "markdown",
   "metadata": {},
   "source": [
    "### Изменение типов данных"
   ]
  },
  {
   "cell_type": "markdown",
   "metadata": {},
   "source": [
    "Изменение типа данных на datetime64 в таблицах \"users\", \"calls\", \"messages\", \"internet\""
   ]
  },
  {
   "cell_type": "code",
   "execution_count": 7,
   "metadata": {
    "scrolled": true
   },
   "outputs": [
    {
     "data": {
      "text/html": [
       "<div>\n",
       "<style scoped>\n",
       "    .dataframe tbody tr th:only-of-type {\n",
       "        vertical-align: middle;\n",
       "    }\n",
       "\n",
       "    .dataframe tbody tr th {\n",
       "        vertical-align: top;\n",
       "    }\n",
       "\n",
       "    .dataframe thead th {\n",
       "        text-align: right;\n",
       "    }\n",
       "</style>\n",
       "<table border=\"1\" class=\"dataframe\">\n",
       "  <thead>\n",
       "    <tr style=\"text-align: right;\">\n",
       "      <th></th>\n",
       "      <th>user_id</th>\n",
       "      <th>age</th>\n",
       "      <th>churn_date</th>\n",
       "      <th>city</th>\n",
       "      <th>first_name</th>\n",
       "      <th>last_name</th>\n",
       "      <th>reg_date</th>\n",
       "      <th>tariff</th>\n",
       "    </tr>\n",
       "  </thead>\n",
       "  <tbody>\n",
       "    <tr>\n",
       "      <th>19</th>\n",
       "      <td>1019</td>\n",
       "      <td>63</td>\n",
       "      <td>2018-10-05</td>\n",
       "      <td>Томск</td>\n",
       "      <td>Игнатий</td>\n",
       "      <td>Круглов</td>\n",
       "      <td>2018-05-16</td>\n",
       "      <td>ultra</td>\n",
       "    </tr>\n",
       "    <tr>\n",
       "      <th>20</th>\n",
       "      <td>1020</td>\n",
       "      <td>59</td>\n",
       "      <td>2018-12-18</td>\n",
       "      <td>Чита</td>\n",
       "      <td>Тала</td>\n",
       "      <td>Костина</td>\n",
       "      <td>2018-10-22</td>\n",
       "      <td>smart</td>\n",
       "    </tr>\n",
       "    <tr>\n",
       "      <th>34</th>\n",
       "      <td>1034</td>\n",
       "      <td>66</td>\n",
       "      <td>2018-11-21</td>\n",
       "      <td>Вологда</td>\n",
       "      <td>Святослав</td>\n",
       "      <td>Бондарев</td>\n",
       "      <td>2018-08-26</td>\n",
       "      <td>smart</td>\n",
       "    </tr>\n",
       "    <tr>\n",
       "      <th>50</th>\n",
       "      <td>1050</td>\n",
       "      <td>44</td>\n",
       "      <td>2018-10-03</td>\n",
       "      <td>Тюмень</td>\n",
       "      <td>Рузана</td>\n",
       "      <td>Аничкина</td>\n",
       "      <td>2018-06-16</td>\n",
       "      <td>ultra</td>\n",
       "    </tr>\n",
       "    <tr>\n",
       "      <th>51</th>\n",
       "      <td>1051</td>\n",
       "      <td>37</td>\n",
       "      <td>2018-10-14</td>\n",
       "      <td>Москва</td>\n",
       "      <td>Кристина</td>\n",
       "      <td>Сомова</td>\n",
       "      <td>2018-05-28</td>\n",
       "      <td>smart</td>\n",
       "    </tr>\n",
       "  </tbody>\n",
       "</table>\n",
       "</div>"
      ],
      "text/plain": [
       "    user_id  age  churn_date     city first_name last_name    reg_date tariff\n",
       "19     1019   63  2018-10-05    Томск    Игнатий   Круглов  2018-05-16  ultra\n",
       "20     1020   59  2018-12-18     Чита       Тала   Костина  2018-10-22  smart\n",
       "34     1034   66  2018-11-21  Вологда  Святослав  Бондарев  2018-08-26  smart\n",
       "50     1050   44  2018-10-03   Тюмень     Рузана  Аничкина  2018-06-16  ultra\n",
       "51     1051   37  2018-10-14   Москва   Кристина    Сомова  2018-05-28  smart"
      ]
     },
     "metadata": {},
     "output_type": "display_data"
    },
    {
     "data": {
      "text/html": [
       "<div>\n",
       "<style scoped>\n",
       "    .dataframe tbody tr th:only-of-type {\n",
       "        vertical-align: middle;\n",
       "    }\n",
       "\n",
       "    .dataframe tbody tr th {\n",
       "        vertical-align: top;\n",
       "    }\n",
       "\n",
       "    .dataframe thead th {\n",
       "        text-align: right;\n",
       "    }\n",
       "</style>\n",
       "<table border=\"1\" class=\"dataframe\">\n",
       "  <thead>\n",
       "    <tr style=\"text-align: right;\">\n",
       "      <th></th>\n",
       "      <th>user_id</th>\n",
       "      <th>age</th>\n",
       "      <th>churn_date</th>\n",
       "      <th>city</th>\n",
       "      <th>first_name</th>\n",
       "      <th>last_name</th>\n",
       "      <th>reg_date</th>\n",
       "      <th>tariff</th>\n",
       "    </tr>\n",
       "  </thead>\n",
       "  <tbody>\n",
       "    <tr>\n",
       "      <th>0</th>\n",
       "      <td>1000</td>\n",
       "      <td>52</td>\n",
       "      <td>NaT</td>\n",
       "      <td>Краснодар</td>\n",
       "      <td>Рафаил</td>\n",
       "      <td>Верещагин</td>\n",
       "      <td>2018-05-25</td>\n",
       "      <td>ultra</td>\n",
       "    </tr>\n",
       "    <tr>\n",
       "      <th>1</th>\n",
       "      <td>1001</td>\n",
       "      <td>41</td>\n",
       "      <td>NaT</td>\n",
       "      <td>Москва</td>\n",
       "      <td>Иван</td>\n",
       "      <td>Ежов</td>\n",
       "      <td>2018-11-01</td>\n",
       "      <td>smart</td>\n",
       "    </tr>\n",
       "    <tr>\n",
       "      <th>2</th>\n",
       "      <td>1002</td>\n",
       "      <td>59</td>\n",
       "      <td>NaT</td>\n",
       "      <td>Стерлитамак</td>\n",
       "      <td>Евгений</td>\n",
       "      <td>Абрамович</td>\n",
       "      <td>2018-06-17</td>\n",
       "      <td>smart</td>\n",
       "    </tr>\n",
       "    <tr>\n",
       "      <th>3</th>\n",
       "      <td>1003</td>\n",
       "      <td>23</td>\n",
       "      <td>NaT</td>\n",
       "      <td>Москва</td>\n",
       "      <td>Белла</td>\n",
       "      <td>Белякова</td>\n",
       "      <td>2018-08-17</td>\n",
       "      <td>ultra</td>\n",
       "    </tr>\n",
       "    <tr>\n",
       "      <th>4</th>\n",
       "      <td>1004</td>\n",
       "      <td>68</td>\n",
       "      <td>NaT</td>\n",
       "      <td>Новокузнецк</td>\n",
       "      <td>Татьяна</td>\n",
       "      <td>Авдеенко</td>\n",
       "      <td>2018-05-14</td>\n",
       "      <td>ultra</td>\n",
       "    </tr>\n",
       "  </tbody>\n",
       "</table>\n",
       "</div>"
      ],
      "text/plain": [
       "   user_id  age churn_date         city first_name  last_name   reg_date  \\\n",
       "0     1000   52        NaT    Краснодар     Рафаил  Верещагин 2018-05-25   \n",
       "1     1001   41        NaT       Москва       Иван       Ежов 2018-11-01   \n",
       "2     1002   59        NaT  Стерлитамак    Евгений  Абрамович 2018-06-17   \n",
       "3     1003   23        NaT       Москва      Белла   Белякова 2018-08-17   \n",
       "4     1004   68        NaT  Новокузнецк    Татьяна   Авдеенко 2018-05-14   \n",
       "\n",
       "  tariff  \n",
       "0  ultra  \n",
       "1  smart  \n",
       "2  smart  \n",
       "3  ultra  \n",
       "4  ultra  "
      ]
     },
     "metadata": {},
     "output_type": "display_data"
    },
    {
     "name": "stdout",
     "output_type": "stream",
     "text": [
      "<class 'pandas.core.frame.DataFrame'>\n",
      "RangeIndex: 500 entries, 0 to 499\n",
      "Data columns (total 8 columns):\n",
      " #   Column      Non-Null Count  Dtype         \n",
      "---  ------      --------------  -----         \n",
      " 0   user_id     500 non-null    int64         \n",
      " 1   age         500 non-null    int64         \n",
      " 2   churn_date  38 non-null     datetime64[ns]\n",
      " 3   city        500 non-null    object        \n",
      " 4   first_name  500 non-null    object        \n",
      " 5   last_name   500 non-null    object        \n",
      " 6   reg_date    500 non-null    datetime64[ns]\n",
      " 7   tariff      500 non-null    object        \n",
      "dtypes: datetime64[ns](2), int64(2), object(4)\n",
      "memory usage: 31.4+ KB\n"
     ]
    }
   ],
   "source": [
    "# просмотр имеющихся значений в столюце \"churn_date\"\n",
    "display(data_users.query('not churn_date.isna()').head())\n",
    "\n",
    "# изменение типа данных на datetime64\n",
    "data_users['churn_date'] = pd.to_datetime(data_users['churn_date'], format='%Y-%m-%d')\n",
    "data_users['reg_date'] = pd.to_datetime(data_users['reg_date'], format='%Y-%m-%d')\n",
    "\n",
    "# проверка внесенных изменений \n",
    "display(data_users.head())\n",
    "data_users.info()"
   ]
  },
  {
   "cell_type": "code",
   "execution_count": 8,
   "metadata": {
    "scrolled": true
   },
   "outputs": [
    {
     "data": {
      "text/html": [
       "<div>\n",
       "<style scoped>\n",
       "    .dataframe tbody tr th:only-of-type {\n",
       "        vertical-align: middle;\n",
       "    }\n",
       "\n",
       "    .dataframe tbody tr th {\n",
       "        vertical-align: top;\n",
       "    }\n",
       "\n",
       "    .dataframe thead th {\n",
       "        text-align: right;\n",
       "    }\n",
       "</style>\n",
       "<table border=\"1\" class=\"dataframe\">\n",
       "  <thead>\n",
       "    <tr style=\"text-align: right;\">\n",
       "      <th></th>\n",
       "      <th>id</th>\n",
       "      <th>call_date</th>\n",
       "      <th>duration</th>\n",
       "      <th>user_id</th>\n",
       "    </tr>\n",
       "  </thead>\n",
       "  <tbody>\n",
       "    <tr>\n",
       "      <th>0</th>\n",
       "      <td>1000_0</td>\n",
       "      <td>2018-07-25</td>\n",
       "      <td>0.00</td>\n",
       "      <td>1000</td>\n",
       "    </tr>\n",
       "    <tr>\n",
       "      <th>1</th>\n",
       "      <td>1000_1</td>\n",
       "      <td>2018-08-17</td>\n",
       "      <td>0.00</td>\n",
       "      <td>1000</td>\n",
       "    </tr>\n",
       "    <tr>\n",
       "      <th>2</th>\n",
       "      <td>1000_2</td>\n",
       "      <td>2018-06-11</td>\n",
       "      <td>2.85</td>\n",
       "      <td>1000</td>\n",
       "    </tr>\n",
       "    <tr>\n",
       "      <th>3</th>\n",
       "      <td>1000_3</td>\n",
       "      <td>2018-09-21</td>\n",
       "      <td>13.80</td>\n",
       "      <td>1000</td>\n",
       "    </tr>\n",
       "    <tr>\n",
       "      <th>4</th>\n",
       "      <td>1000_4</td>\n",
       "      <td>2018-12-15</td>\n",
       "      <td>5.18</td>\n",
       "      <td>1000</td>\n",
       "    </tr>\n",
       "  </tbody>\n",
       "</table>\n",
       "</div>"
      ],
      "text/plain": [
       "       id  call_date  duration  user_id\n",
       "0  1000_0 2018-07-25      0.00     1000\n",
       "1  1000_1 2018-08-17      0.00     1000\n",
       "2  1000_2 2018-06-11      2.85     1000\n",
       "3  1000_3 2018-09-21     13.80     1000\n",
       "4  1000_4 2018-12-15      5.18     1000"
      ]
     },
     "metadata": {},
     "output_type": "display_data"
    },
    {
     "name": "stdout",
     "output_type": "stream",
     "text": [
      "<class 'pandas.core.frame.DataFrame'>\n",
      "RangeIndex: 202607 entries, 0 to 202606\n",
      "Data columns (total 4 columns):\n",
      " #   Column     Non-Null Count   Dtype         \n",
      "---  ------     --------------   -----         \n",
      " 0   id         202607 non-null  object        \n",
      " 1   call_date  202607 non-null  datetime64[ns]\n",
      " 2   duration   202607 non-null  float64       \n",
      " 3   user_id    202607 non-null  int64         \n",
      "dtypes: datetime64[ns](1), float64(1), int64(1), object(1)\n",
      "memory usage: 6.2+ MB\n"
     ]
    }
   ],
   "source": [
    "# изменение типа данных на datetime64\n",
    "data_calls['call_date'] = pd.to_datetime(data_calls['call_date'], format='%Y-%m-%d')\n",
    "\n",
    "# проверка внесенных изменений \n",
    "display(data_calls.head())\n",
    "data_calls.info()"
   ]
  },
  {
   "cell_type": "code",
   "execution_count": 9,
   "metadata": {
    "scrolled": true
   },
   "outputs": [
    {
     "data": {
      "text/html": [
       "<div>\n",
       "<style scoped>\n",
       "    .dataframe tbody tr th:only-of-type {\n",
       "        vertical-align: middle;\n",
       "    }\n",
       "\n",
       "    .dataframe tbody tr th {\n",
       "        vertical-align: top;\n",
       "    }\n",
       "\n",
       "    .dataframe thead th {\n",
       "        text-align: right;\n",
       "    }\n",
       "</style>\n",
       "<table border=\"1\" class=\"dataframe\">\n",
       "  <thead>\n",
       "    <tr style=\"text-align: right;\">\n",
       "      <th></th>\n",
       "      <th>id</th>\n",
       "      <th>message_date</th>\n",
       "      <th>user_id</th>\n",
       "    </tr>\n",
       "  </thead>\n",
       "  <tbody>\n",
       "    <tr>\n",
       "      <th>0</th>\n",
       "      <td>1000_0</td>\n",
       "      <td>2018-06-27</td>\n",
       "      <td>1000</td>\n",
       "    </tr>\n",
       "    <tr>\n",
       "      <th>1</th>\n",
       "      <td>1000_1</td>\n",
       "      <td>2018-10-08</td>\n",
       "      <td>1000</td>\n",
       "    </tr>\n",
       "    <tr>\n",
       "      <th>2</th>\n",
       "      <td>1000_2</td>\n",
       "      <td>2018-08-04</td>\n",
       "      <td>1000</td>\n",
       "    </tr>\n",
       "    <tr>\n",
       "      <th>3</th>\n",
       "      <td>1000_3</td>\n",
       "      <td>2018-06-16</td>\n",
       "      <td>1000</td>\n",
       "    </tr>\n",
       "    <tr>\n",
       "      <th>4</th>\n",
       "      <td>1000_4</td>\n",
       "      <td>2018-12-05</td>\n",
       "      <td>1000</td>\n",
       "    </tr>\n",
       "  </tbody>\n",
       "</table>\n",
       "</div>"
      ],
      "text/plain": [
       "       id message_date  user_id\n",
       "0  1000_0   2018-06-27     1000\n",
       "1  1000_1   2018-10-08     1000\n",
       "2  1000_2   2018-08-04     1000\n",
       "3  1000_3   2018-06-16     1000\n",
       "4  1000_4   2018-12-05     1000"
      ]
     },
     "metadata": {},
     "output_type": "display_data"
    },
    {
     "name": "stdout",
     "output_type": "stream",
     "text": [
      "<class 'pandas.core.frame.DataFrame'>\n",
      "RangeIndex: 123036 entries, 0 to 123035\n",
      "Data columns (total 3 columns):\n",
      " #   Column        Non-Null Count   Dtype         \n",
      "---  ------        --------------   -----         \n",
      " 0   id            123036 non-null  object        \n",
      " 1   message_date  123036 non-null  datetime64[ns]\n",
      " 2   user_id       123036 non-null  int64         \n",
      "dtypes: datetime64[ns](1), int64(1), object(1)\n",
      "memory usage: 2.8+ MB\n"
     ]
    }
   ],
   "source": [
    "# изменение типа данных на datetime64\n",
    "data_messages['message_date'] = pd.to_datetime(data_messages['message_date'], format='%Y-%m-%d')\n",
    "\n",
    "# проверка внесенных изменений \n",
    "display(data_messages.head())\n",
    "data_messages.info()"
   ]
  },
  {
   "cell_type": "code",
   "execution_count": 10,
   "metadata": {
    "scrolled": true
   },
   "outputs": [
    {
     "data": {
      "text/html": [
       "<div>\n",
       "<style scoped>\n",
       "    .dataframe tbody tr th:only-of-type {\n",
       "        vertical-align: middle;\n",
       "    }\n",
       "\n",
       "    .dataframe tbody tr th {\n",
       "        vertical-align: top;\n",
       "    }\n",
       "\n",
       "    .dataframe thead th {\n",
       "        text-align: right;\n",
       "    }\n",
       "</style>\n",
       "<table border=\"1\" class=\"dataframe\">\n",
       "  <thead>\n",
       "    <tr style=\"text-align: right;\">\n",
       "      <th></th>\n",
       "      <th>Unnamed: 0</th>\n",
       "      <th>id</th>\n",
       "      <th>mb_used</th>\n",
       "      <th>session_date</th>\n",
       "      <th>user_id</th>\n",
       "    </tr>\n",
       "  </thead>\n",
       "  <tbody>\n",
       "    <tr>\n",
       "      <th>0</th>\n",
       "      <td>0</td>\n",
       "      <td>1000_0</td>\n",
       "      <td>112.95</td>\n",
       "      <td>2018-11-25</td>\n",
       "      <td>1000</td>\n",
       "    </tr>\n",
       "    <tr>\n",
       "      <th>1</th>\n",
       "      <td>1</td>\n",
       "      <td>1000_1</td>\n",
       "      <td>1052.81</td>\n",
       "      <td>2018-09-07</td>\n",
       "      <td>1000</td>\n",
       "    </tr>\n",
       "    <tr>\n",
       "      <th>2</th>\n",
       "      <td>2</td>\n",
       "      <td>1000_2</td>\n",
       "      <td>1197.26</td>\n",
       "      <td>2018-06-25</td>\n",
       "      <td>1000</td>\n",
       "    </tr>\n",
       "    <tr>\n",
       "      <th>3</th>\n",
       "      <td>3</td>\n",
       "      <td>1000_3</td>\n",
       "      <td>550.27</td>\n",
       "      <td>2018-08-22</td>\n",
       "      <td>1000</td>\n",
       "    </tr>\n",
       "    <tr>\n",
       "      <th>4</th>\n",
       "      <td>4</td>\n",
       "      <td>1000_4</td>\n",
       "      <td>302.56</td>\n",
       "      <td>2018-09-24</td>\n",
       "      <td>1000</td>\n",
       "    </tr>\n",
       "  </tbody>\n",
       "</table>\n",
       "</div>"
      ],
      "text/plain": [
       "   Unnamed: 0      id  mb_used session_date  user_id\n",
       "0           0  1000_0   112.95   2018-11-25     1000\n",
       "1           1  1000_1  1052.81   2018-09-07     1000\n",
       "2           2  1000_2  1197.26   2018-06-25     1000\n",
       "3           3  1000_3   550.27   2018-08-22     1000\n",
       "4           4  1000_4   302.56   2018-09-24     1000"
      ]
     },
     "metadata": {},
     "output_type": "display_data"
    },
    {
     "name": "stdout",
     "output_type": "stream",
     "text": [
      "<class 'pandas.core.frame.DataFrame'>\n",
      "RangeIndex: 149396 entries, 0 to 149395\n",
      "Data columns (total 5 columns):\n",
      " #   Column        Non-Null Count   Dtype         \n",
      "---  ------        --------------   -----         \n",
      " 0   Unnamed: 0    149396 non-null  int64         \n",
      " 1   id            149396 non-null  object        \n",
      " 2   mb_used       149396 non-null  float64       \n",
      " 3   session_date  149396 non-null  datetime64[ns]\n",
      " 4   user_id       149396 non-null  int64         \n",
      "dtypes: datetime64[ns](1), float64(1), int64(2), object(1)\n",
      "memory usage: 5.7+ MB\n"
     ]
    }
   ],
   "source": [
    "# изменение типа данных на datetime64\n",
    "data_internet['session_date'] = pd.to_datetime(data_internet['session_date'], format='%Y-%m-%d')\n",
    "\n",
    "# проверка внесенных изменений \n",
    "display(data_internet.head())\n",
    "data_internet.info()"
   ]
  },
  {
   "cell_type": "markdown",
   "metadata": {},
   "source": [
    "### Поиск и исправление ошибок "
   ]
  },
  {
   "cell_type": "markdown",
   "metadata": {},
   "source": [
    "Удаление лишнего столбца"
   ]
  },
  {
   "cell_type": "code",
   "execution_count": 11,
   "metadata": {},
   "outputs": [],
   "source": [
    "# \"отбрасывание\" первого лишнего столбца\n",
    "data_internet = data_internet.drop(data_internet.columns[0], axis=1) "
   ]
  },
  {
   "cell_type": "markdown",
   "metadata": {},
   "source": [
    "Проверка данных на наличие дубликатов"
   ]
  },
  {
   "cell_type": "code",
   "execution_count": 12,
   "metadata": {
    "scrolled": false
   },
   "outputs": [
    {
     "data": {
      "text/plain": [
       "0"
      ]
     },
     "metadata": {},
     "output_type": "display_data"
    },
    {
     "data": {
      "text/plain": [
       "0"
      ]
     },
     "metadata": {},
     "output_type": "display_data"
    },
    {
     "data": {
      "text/plain": [
       "0"
      ]
     },
     "metadata": {},
     "output_type": "display_data"
    },
    {
     "data": {
      "text/plain": [
       "0"
      ]
     },
     "metadata": {},
     "output_type": "display_data"
    }
   ],
   "source": [
    "# вывод суммарного количества дубликатов в таблицах\n",
    "display(data_users.duplicated().sum())\n",
    "display(data_calls.duplicated().sum())\n",
    "display(data_messages.duplicated().sum())\n",
    "display(data_internet.duplicated().sum())"
   ]
  },
  {
   "cell_type": "markdown",
   "metadata": {},
   "source": [
    "Округление вверх количества затраченных минут за сессию "
   ]
  },
  {
   "cell_type": "code",
   "execution_count": 13,
   "metadata": {
    "scrolled": true
   },
   "outputs": [
    {
     "data": {
      "text/html": [
       "<div>\n",
       "<style scoped>\n",
       "    .dataframe tbody tr th:only-of-type {\n",
       "        vertical-align: middle;\n",
       "    }\n",
       "\n",
       "    .dataframe tbody tr th {\n",
       "        vertical-align: top;\n",
       "    }\n",
       "\n",
       "    .dataframe thead th {\n",
       "        text-align: right;\n",
       "    }\n",
       "</style>\n",
       "<table border=\"1\" class=\"dataframe\">\n",
       "  <thead>\n",
       "    <tr style=\"text-align: right;\">\n",
       "      <th></th>\n",
       "      <th>id</th>\n",
       "      <th>call_date</th>\n",
       "      <th>duration</th>\n",
       "      <th>user_id</th>\n",
       "    </tr>\n",
       "  </thead>\n",
       "  <tbody>\n",
       "    <tr>\n",
       "      <th>0</th>\n",
       "      <td>1000_0</td>\n",
       "      <td>2018-07-25</td>\n",
       "      <td>0</td>\n",
       "      <td>1000</td>\n",
       "    </tr>\n",
       "    <tr>\n",
       "      <th>1</th>\n",
       "      <td>1000_1</td>\n",
       "      <td>2018-08-17</td>\n",
       "      <td>0</td>\n",
       "      <td>1000</td>\n",
       "    </tr>\n",
       "    <tr>\n",
       "      <th>2</th>\n",
       "      <td>1000_2</td>\n",
       "      <td>2018-06-11</td>\n",
       "      <td>3</td>\n",
       "      <td>1000</td>\n",
       "    </tr>\n",
       "    <tr>\n",
       "      <th>3</th>\n",
       "      <td>1000_3</td>\n",
       "      <td>2018-09-21</td>\n",
       "      <td>14</td>\n",
       "      <td>1000</td>\n",
       "    </tr>\n",
       "    <tr>\n",
       "      <th>4</th>\n",
       "      <td>1000_4</td>\n",
       "      <td>2018-12-15</td>\n",
       "      <td>6</td>\n",
       "      <td>1000</td>\n",
       "    </tr>\n",
       "  </tbody>\n",
       "</table>\n",
       "</div>"
      ],
      "text/plain": [
       "       id  call_date  duration  user_id\n",
       "0  1000_0 2018-07-25         0     1000\n",
       "1  1000_1 2018-08-17         0     1000\n",
       "2  1000_2 2018-06-11         3     1000\n",
       "3  1000_3 2018-09-21        14     1000\n",
       "4  1000_4 2018-12-15         6     1000"
      ]
     },
     "metadata": {},
     "output_type": "display_data"
    },
    {
     "name": "stdout",
     "output_type": "stream",
     "text": [
      "<class 'pandas.core.frame.DataFrame'>\n",
      "RangeIndex: 202607 entries, 0 to 202606\n",
      "Data columns (total 4 columns):\n",
      " #   Column     Non-Null Count   Dtype         \n",
      "---  ------     --------------   -----         \n",
      " 0   id         202607 non-null  object        \n",
      " 1   call_date  202607 non-null  datetime64[ns]\n",
      " 2   duration   202607 non-null  int64         \n",
      " 3   user_id    202607 non-null  int64         \n",
      "dtypes: datetime64[ns](1), int64(2), object(1)\n",
      "memory usage: 6.2+ MB\n"
     ]
    }
   ],
   "source": [
    "# применение функции округления вверх \n",
    "data_calls['duration'] = data_calls['duration'].apply(math.ceil) \n",
    "\n",
    "# проверка внесенных изменений \n",
    "display(data_calls.head())\n",
    "data_calls.info()"
   ]
  },
  {
   "cell_type": "markdown",
   "metadata": {},
   "source": [
    "Перевод значений столбца с количеством предоставляемого трафика из мегабайт в гигабайты"
   ]
  },
  {
   "cell_type": "code",
   "execution_count": 14,
   "metadata": {
    "scrolled": true
   },
   "outputs": [
    {
     "data": {
      "text/html": [
       "<div>\n",
       "<style scoped>\n",
       "    .dataframe tbody tr th:only-of-type {\n",
       "        vertical-align: middle;\n",
       "    }\n",
       "\n",
       "    .dataframe tbody tr th {\n",
       "        vertical-align: top;\n",
       "    }\n",
       "\n",
       "    .dataframe thead th {\n",
       "        text-align: right;\n",
       "    }\n",
       "</style>\n",
       "<table border=\"1\" class=\"dataframe\">\n",
       "  <thead>\n",
       "    <tr style=\"text-align: right;\">\n",
       "      <th></th>\n",
       "      <th>messages_included</th>\n",
       "      <th>gb_per_month_included</th>\n",
       "      <th>minutes_included</th>\n",
       "      <th>rub_monthly_fee</th>\n",
       "      <th>rub_per_gb</th>\n",
       "      <th>rub_per_message</th>\n",
       "      <th>rub_per_minute</th>\n",
       "      <th>tariff_name</th>\n",
       "    </tr>\n",
       "  </thead>\n",
       "  <tbody>\n",
       "    <tr>\n",
       "      <th>0</th>\n",
       "      <td>50</td>\n",
       "      <td>15</td>\n",
       "      <td>500</td>\n",
       "      <td>550</td>\n",
       "      <td>200</td>\n",
       "      <td>3</td>\n",
       "      <td>3</td>\n",
       "      <td>smart</td>\n",
       "    </tr>\n",
       "    <tr>\n",
       "      <th>1</th>\n",
       "      <td>1000</td>\n",
       "      <td>30</td>\n",
       "      <td>3000</td>\n",
       "      <td>1950</td>\n",
       "      <td>150</td>\n",
       "      <td>1</td>\n",
       "      <td>1</td>\n",
       "      <td>ultra</td>\n",
       "    </tr>\n",
       "  </tbody>\n",
       "</table>\n",
       "</div>"
      ],
      "text/plain": [
       "   messages_included  gb_per_month_included  minutes_included  \\\n",
       "0                 50                     15               500   \n",
       "1               1000                     30              3000   \n",
       "\n",
       "   rub_monthly_fee  rub_per_gb  rub_per_message  rub_per_minute tariff_name  \n",
       "0              550         200                3               3       smart  \n",
       "1             1950         150                1               1       ultra  "
      ]
     },
     "metadata": {},
     "output_type": "display_data"
    }
   ],
   "source": [
    "# перевод значений столбца из мегабайт в гигабайты с изменением типа данных на Int64\n",
    "data_tariffs['mb_per_month_included'] = (data_tariffs['mb_per_month_included'] / 1024).astype('Int64')\n",
    "\n",
    "# переименование столбца \n",
    "data_tariffs.columns = ['messages_included', 'gb_per_month_included', 'minutes_included', 'rub_monthly_fee', 'rub_per_gb', 'rub_per_message', 'rub_per_minute', 'tariff_name']\n",
    "\n",
    "# проверка внесенных изменений \n",
    "display(data_tariffs.head())"
   ]
  },
  {
   "cell_type": "markdown",
   "metadata": {
    "scrolled": false
   },
   "source": [
    "Добавление данных в имеющиеся датафреймы и формирование нового с помесячными данными"
   ]
  },
  {
   "cell_type": "code",
   "execution_count": 15,
   "metadata": {
    "scrolled": true
   },
   "outputs": [
    {
     "data": {
      "text/html": [
       "<div>\n",
       "<style scoped>\n",
       "    .dataframe tbody tr th:only-of-type {\n",
       "        vertical-align: middle;\n",
       "    }\n",
       "\n",
       "    .dataframe tbody tr th {\n",
       "        vertical-align: top;\n",
       "    }\n",
       "\n",
       "    .dataframe thead th {\n",
       "        text-align: right;\n",
       "    }\n",
       "</style>\n",
       "<table border=\"1\" class=\"dataframe\">\n",
       "  <thead>\n",
       "    <tr style=\"text-align: right;\">\n",
       "      <th></th>\n",
       "      <th>user_id</th>\n",
       "      <th>age</th>\n",
       "      <th>churn_date</th>\n",
       "      <th>city</th>\n",
       "      <th>first_name</th>\n",
       "      <th>last_name</th>\n",
       "      <th>reg_date</th>\n",
       "      <th>tariff</th>\n",
       "    </tr>\n",
       "  </thead>\n",
       "  <tbody>\n",
       "    <tr>\n",
       "      <th>128</th>\n",
       "      <td>1128</td>\n",
       "      <td>51</td>\n",
       "      <td>2018-12-23</td>\n",
       "      <td>Волжский</td>\n",
       "      <td>Ксения</td>\n",
       "      <td>Агаева</td>\n",
       "      <td>2018-12-15</td>\n",
       "      <td>ultra</td>\n",
       "    </tr>\n",
       "  </tbody>\n",
       "</table>\n",
       "</div>"
      ],
      "text/plain": [
       "     user_id  age churn_date      city first_name last_name   reg_date tariff\n",
       "128     1128   51 2018-12-23  Волжский     Ксения    Агаева 2018-12-15  ultra"
      ]
     },
     "metadata": {},
     "output_type": "display_data"
    },
    {
     "data": {
      "text/html": [
       "<div>\n",
       "<style scoped>\n",
       "    .dataframe tbody tr th:only-of-type {\n",
       "        vertical-align: middle;\n",
       "    }\n",
       "\n",
       "    .dataframe tbody tr th {\n",
       "        vertical-align: top;\n",
       "    }\n",
       "\n",
       "    .dataframe thead th {\n",
       "        text-align: right;\n",
       "    }\n",
       "</style>\n",
       "<table border=\"1\" class=\"dataframe\">\n",
       "  <thead>\n",
       "    <tr style=\"text-align: right;\">\n",
       "      <th></th>\n",
       "      <th>user_id</th>\n",
       "      <th>age</th>\n",
       "      <th>churn_date</th>\n",
       "      <th>city</th>\n",
       "      <th>first_name</th>\n",
       "      <th>last_name</th>\n",
       "      <th>reg_date</th>\n",
       "      <th>tariff</th>\n",
       "    </tr>\n",
       "  </thead>\n",
       "  <tbody>\n",
       "    <tr>\n",
       "      <th>371</th>\n",
       "      <td>1371</td>\n",
       "      <td>50</td>\n",
       "      <td>2018-12-30</td>\n",
       "      <td>Омск</td>\n",
       "      <td>Ириней</td>\n",
       "      <td>Трофимов</td>\n",
       "      <td>2018-12-25</td>\n",
       "      <td>smart</td>\n",
       "    </tr>\n",
       "  </tbody>\n",
       "</table>\n",
       "</div>"
      ],
      "text/plain": [
       "     user_id  age churn_date  city first_name last_name   reg_date tariff\n",
       "371     1371   50 2018-12-30  Омск     Ириней  Трофимов 2018-12-25  smart"
      ]
     },
     "metadata": {},
     "output_type": "display_data"
    },
    {
     "name": "stdout",
     "output_type": "stream",
     "text": [
      "<class 'pandas.core.frame.DataFrame'>\n",
      "Int64Index: 3216 entries, 0 to 3215\n",
      "Data columns (total 9 columns):\n",
      " #   Column          Non-Null Count  Dtype  \n",
      "---  ------          --------------  -----  \n",
      " 0   user_id         3216 non-null   int64  \n",
      " 1   month           3214 non-null   float64\n",
      " 2   count_calls     3216 non-null   float64\n",
      " 3   sum_calls_dur   3216 non-null   float64\n",
      " 4   count_messages  3216 non-null   float64\n",
      " 5   gb_used         3216 non-null   float64\n",
      " 6   city            3216 non-null   object \n",
      " 7   tariff          3216 non-null   object \n",
      " 8   total_income    3216 non-null   float64\n",
      "dtypes: float64(6), int64(1), object(2)\n",
      "memory usage: 251.2+ KB\n"
     ]
    },
    {
     "data": {
      "text/plain": [
       "None"
      ]
     },
     "metadata": {},
     "output_type": "display_data"
    },
    {
     "data": {
      "text/html": [
       "<div>\n",
       "<style scoped>\n",
       "    .dataframe tbody tr th:only-of-type {\n",
       "        vertical-align: middle;\n",
       "    }\n",
       "\n",
       "    .dataframe tbody tr th {\n",
       "        vertical-align: top;\n",
       "    }\n",
       "\n",
       "    .dataframe thead th {\n",
       "        text-align: right;\n",
       "    }\n",
       "</style>\n",
       "<table border=\"1\" class=\"dataframe\">\n",
       "  <thead>\n",
       "    <tr style=\"text-align: right;\">\n",
       "      <th></th>\n",
       "      <th>user_id</th>\n",
       "      <th>month</th>\n",
       "      <th>count_calls</th>\n",
       "      <th>sum_calls_dur</th>\n",
       "      <th>count_messages</th>\n",
       "      <th>gb_used</th>\n",
       "      <th>city</th>\n",
       "      <th>tariff</th>\n",
       "      <th>total_income</th>\n",
       "    </tr>\n",
       "  </thead>\n",
       "  <tbody>\n",
       "    <tr>\n",
       "      <th>0</th>\n",
       "      <td>1005</td>\n",
       "      <td>1.0</td>\n",
       "      <td>15.0</td>\n",
       "      <td>95.0</td>\n",
       "      <td>7.0</td>\n",
       "      <td>3.0</td>\n",
       "      <td>Набережные Челны</td>\n",
       "      <td>smart</td>\n",
       "      <td>550.0</td>\n",
       "    </tr>\n",
       "    <tr>\n",
       "      <th>1</th>\n",
       "      <td>1005</td>\n",
       "      <td>2.0</td>\n",
       "      <td>69.0</td>\n",
       "      <td>456.0</td>\n",
       "      <td>38.0</td>\n",
       "      <td>8.0</td>\n",
       "      <td>Набережные Челны</td>\n",
       "      <td>smart</td>\n",
       "      <td>550.0</td>\n",
       "    </tr>\n",
       "    <tr>\n",
       "      <th>2</th>\n",
       "      <td>1005</td>\n",
       "      <td>3.0</td>\n",
       "      <td>77.0</td>\n",
       "      <td>606.0</td>\n",
       "      <td>56.0</td>\n",
       "      <td>11.0</td>\n",
       "      <td>Набережные Челны</td>\n",
       "      <td>smart</td>\n",
       "      <td>886.0</td>\n",
       "    </tr>\n",
       "    <tr>\n",
       "      <th>3</th>\n",
       "      <td>1005</td>\n",
       "      <td>4.0</td>\n",
       "      <td>101.0</td>\n",
       "      <td>712.0</td>\n",
       "      <td>41.0</td>\n",
       "      <td>10.0</td>\n",
       "      <td>Набережные Челны</td>\n",
       "      <td>smart</td>\n",
       "      <td>1186.0</td>\n",
       "    </tr>\n",
       "    <tr>\n",
       "      <th>4</th>\n",
       "      <td>1005</td>\n",
       "      <td>5.0</td>\n",
       "      <td>73.0</td>\n",
       "      <td>595.0</td>\n",
       "      <td>42.0</td>\n",
       "      <td>8.0</td>\n",
       "      <td>Набережные Челны</td>\n",
       "      <td>smart</td>\n",
       "      <td>835.0</td>\n",
       "    </tr>\n",
       "    <tr>\n",
       "      <th>...</th>\n",
       "      <td>...</td>\n",
       "      <td>...</td>\n",
       "      <td>...</td>\n",
       "      <td>...</td>\n",
       "      <td>...</td>\n",
       "      <td>...</td>\n",
       "      <td>...</td>\n",
       "      <td>...</td>\n",
       "      <td>...</td>\n",
       "    </tr>\n",
       "    <tr>\n",
       "      <th>3211</th>\n",
       "      <td>1328</td>\n",
       "      <td>10.0</td>\n",
       "      <td>0.0</td>\n",
       "      <td>0.0</td>\n",
       "      <td>6.0</td>\n",
       "      <td>22.0</td>\n",
       "      <td>Мурманск</td>\n",
       "      <td>ultra</td>\n",
       "      <td>1950.0</td>\n",
       "    </tr>\n",
       "    <tr>\n",
       "      <th>3212</th>\n",
       "      <td>1328</td>\n",
       "      <td>11.0</td>\n",
       "      <td>0.0</td>\n",
       "      <td>0.0</td>\n",
       "      <td>8.0</td>\n",
       "      <td>35.0</td>\n",
       "      <td>Мурманск</td>\n",
       "      <td>ultra</td>\n",
       "      <td>2700.0</td>\n",
       "    </tr>\n",
       "    <tr>\n",
       "      <th>3213</th>\n",
       "      <td>1328</td>\n",
       "      <td>12.0</td>\n",
       "      <td>0.0</td>\n",
       "      <td>0.0</td>\n",
       "      <td>7.0</td>\n",
       "      <td>39.0</td>\n",
       "      <td>Мурманск</td>\n",
       "      <td>ultra</td>\n",
       "      <td>3300.0</td>\n",
       "    </tr>\n",
       "    <tr>\n",
       "      <th>3214</th>\n",
       "      <td>1128</td>\n",
       "      <td>NaN</td>\n",
       "      <td>0.0</td>\n",
       "      <td>0.0</td>\n",
       "      <td>0.0</td>\n",
       "      <td>0.0</td>\n",
       "      <td>Волжский</td>\n",
       "      <td>ultra</td>\n",
       "      <td>1950.0</td>\n",
       "    </tr>\n",
       "    <tr>\n",
       "      <th>3215</th>\n",
       "      <td>1371</td>\n",
       "      <td>NaN</td>\n",
       "      <td>0.0</td>\n",
       "      <td>0.0</td>\n",
       "      <td>0.0</td>\n",
       "      <td>0.0</td>\n",
       "      <td>Омск</td>\n",
       "      <td>smart</td>\n",
       "      <td>550.0</td>\n",
       "    </tr>\n",
       "  </tbody>\n",
       "</table>\n",
       "<p>3216 rows × 9 columns</p>\n",
       "</div>"
      ],
      "text/plain": [
       "      user_id  month  count_calls  sum_calls_dur  count_messages  gb_used  \\\n",
       "0        1005    1.0         15.0           95.0             7.0      3.0   \n",
       "1        1005    2.0         69.0          456.0            38.0      8.0   \n",
       "2        1005    3.0         77.0          606.0            56.0     11.0   \n",
       "3        1005    4.0        101.0          712.0            41.0     10.0   \n",
       "4        1005    5.0         73.0          595.0            42.0      8.0   \n",
       "...       ...    ...          ...            ...             ...      ...   \n",
       "3211     1328   10.0          0.0            0.0             6.0     22.0   \n",
       "3212     1328   11.0          0.0            0.0             8.0     35.0   \n",
       "3213     1328   12.0          0.0            0.0             7.0     39.0   \n",
       "3214     1128    NaN          0.0            0.0             0.0      0.0   \n",
       "3215     1371    NaN          0.0            0.0             0.0      0.0   \n",
       "\n",
       "                  city tariff  total_income  \n",
       "0     Набережные Челны  smart         550.0  \n",
       "1     Набережные Челны  smart         550.0  \n",
       "2     Набережные Челны  smart         886.0  \n",
       "3     Набережные Челны  smart        1186.0  \n",
       "4     Набережные Челны  smart         835.0  \n",
       "...                ...    ...           ...  \n",
       "3211          Мурманск  ultra        1950.0  \n",
       "3212          Мурманск  ultra        2700.0  \n",
       "3213          Мурманск  ultra        3300.0  \n",
       "3214          Волжский  ultra        1950.0  \n",
       "3215              Омск  smart         550.0  \n",
       "\n",
       "[3216 rows x 9 columns]"
      ]
     },
     "metadata": {},
     "output_type": "display_data"
    }
   ],
   "source": [
    "# добавление столбца с значением месяца\n",
    "data_calls['month'] = data_calls['call_date'].dt.month \n",
    "\n",
    "# формирование датафрейма с помесячными данными\n",
    "monthly_income = data_calls.pivot_table(index=['month', 'user_id'], values='duration', aggfunc=['count', 'sum'])\n",
    "monthly_income.columns = ['count_calls', 'sum_calls_dur'] # переименование столбцов \n",
    "monthly_income = monthly_income.reset_index(level=0) # сброс индекса\n",
    "\n",
    "# добавление столбца с значением месяца\n",
    "data_messages['month'] = data_messages['message_date'].dt.month \n",
    "\n",
    "# добавление в датафрейм с помесячными данными количество сообщений\n",
    "pivot1 = data_messages.pivot_table(index=['month', 'user_id'], values='id', aggfunc='count')\n",
    "pivot1.columns = ['count_messages'] # переименование столбцов \n",
    "pivot1 = pivot1.reset_index(level=0) # сброс индекса\n",
    "monthly_income = monthly_income.merge(pivot1, on=['user_id', 'month'], how='outer')\n",
    "\n",
    "# добавление столбца с значением месяца\n",
    "data_internet['month'] = data_internet['session_date'].dt.month \n",
    "\n",
    "# добавление в датафрейм с помесячными данными количество затраченного трафика\n",
    "pivot1 = data_internet.pivot_table(index=['month', 'user_id'], values='mb_used', aggfunc='sum')\n",
    "pivot1 = pivot1.reset_index(level=0) # сброс индекса\n",
    "pivot1['mb_used'] = (pivot1['mb_used'] / 1024).apply(math.ceil) # применение функции округления вверх \n",
    "pivot1.columns = ['month', 'gb_used'] # переименование столбцов \n",
    "monthly_income = monthly_income.merge(pivot1, on=['user_id', 'month'], how='outer')\n",
    "\n",
    "# сброс индекса\n",
    "monthly_income = monthly_income.reset_index(level=0) \n",
    "\n",
    "# добавление в датафрейм столбцов \"city\" и 'tariff'\n",
    "monthly_income = monthly_income.merge(data_users, on='user_id', how='outer')\n",
    "monthly_income = monthly_income.drop(['age', 'churn_date', 'first_name', 'last_name', 'reg_date'], axis=1)\n",
    "\n",
    "# функция для расчета итоговой месячной выручки\n",
    "def set_total_income(monthly_income): \n",
    "    global data_users, data_tariffs\n",
    "        \n",
    "    if monthly_income['tariff'] == 'smart':\n",
    "        tariff_calls_included = data_tariffs['minutes_included'][0]\n",
    "        tariff_messages_included = data_tariffs['messages_included'][0]\n",
    "        tariff_internet_included = data_tariffs['gb_per_month_included'][0]\n",
    "        rub_per_minute = data_tariffs['rub_per_minute'][0]\n",
    "        rub_per_message = data_tariffs['rub_per_message'][0]\n",
    "        rub_per_gb = data_tariffs['rub_per_gb'][0]\n",
    "        tariff_payment = data_tariffs['rub_monthly_fee'][0]\n",
    "    else:\n",
    "        tariff_calls_included = data_tariffs['minutes_included'][1]\n",
    "        tariff_messages_included = data_tariffs['messages_included'][1]\n",
    "        tariff_internet_included = data_tariffs['gb_per_month_included'][1]\n",
    "        rub_per_minute = data_tariffs['rub_per_minute'][1]\n",
    "        rub_per_message = data_tariffs['rub_per_message'][1]\n",
    "        rub_per_gb = data_tariffs['rub_per_gb'][1]\n",
    "        tariff_payment = data_tariffs['rub_monthly_fee'][1]\n",
    "        \n",
    "    calls_income = max(monthly_income['sum_calls_dur'] - tariff_calls_included, 0) * rub_per_minute\n",
    "    messages_income = max(monthly_income['count_messages'] - tariff_messages_included, 0) * rub_per_message    \n",
    "    internet_income = max(monthly_income['gb_used'] - tariff_internet_included, 0) * rub_per_gb\n",
    "        \n",
    "    return (calls_income + messages_income + internet_income + tariff_payment)\n",
    "\n",
    "# заполнение образовавшихся пропусков\n",
    "monthly_income['count_calls'] = monthly_income['count_calls'].fillna(0)\n",
    "monthly_income['sum_calls_dur'] = monthly_income['sum_calls_dur'].fillna(0)\n",
    "monthly_income['count_messages'] = monthly_income['count_messages'].fillna(0)\n",
    "monthly_income['gb_used'] = monthly_income['gb_used'].fillna(0)\n",
    "\n",
    "# применение написанной функции к датафрейму \n",
    "monthly_income['total_income'] = monthly_income.apply(set_total_income, axis=1)\n",
    "\n",
    "# проверка результатов \n",
    "display(data_users[data_users['user_id'] == 1128])\n",
    "display(data_users[data_users['user_id'] == 1371])\n",
    "display(monthly_income.info())\n",
    "display(monthly_income)"
   ]
  },
  {
   "cell_type": "markdown",
   "metadata": {},
   "source": [
    "## Анализ данных "
   ]
  },
  {
   "cell_type": "markdown",
   "metadata": {},
   "source": [
    "### Тариф 'smart'"
   ]
  },
  {
   "cell_type": "markdown",
   "metadata": {},
   "source": [
    "* Распределение суммарного количество минут разговора соответствует биноминальному распределению скошенному вправо, значения превышающие 982 минуты в месяц можно считать выбросами, учитывая правило трех сигм.\n",
    "* Распределение количества сообщений пользователей соответствует геометрическому распределению, выбросы - значения превышающие 116 сообщений.\n",
    "* Распределение использованного трафика соответствует биноминальному распределению, выбросы - значения меньше 1 гигабайта и больше 30."
   ]
  },
  {
   "cell_type": "markdown",
   "metadata": {},
   "source": [
    "### Тариф 'ultra'"
   ]
  },
  {
   "cell_type": "markdown",
   "metadata": {},
   "source": [
    "* Распределение суммарного количество минут разговора соответствует биноминальному распределению скошенному вправо, значения превышающие 1490 минут в месяц - выбросы.\n",
    "* Распределение количества сообщений пользователей соответствует геометрическому распределению, выбросы - значения превышающие 193 сообщения.\n",
    "* Распределение использованного трафика соответствует биноминальному распределению, выбросы - значения больше 46 гигабайт."
   ]
  },
  {
   "cell_type": "markdown",
   "metadata": {},
   "source": [
    "### Вывод"
   ]
  },
  {
   "cell_type": "markdown",
   "metadata": {},
   "source": [
    "* Около половины клиенты с тарифом 'smart' превышают бесплатный лимит в количестве минут и интернет трафике. \n",
    "* Клиенты тарифа 'ultra', напротив, даже близко не приближаются к 'бесплатному порогу' в количестве минут и сообщений, что нельзя сказать о затраченном трафике, небольшое количество клиентов превышает лимит. \n",
    "* Замечено аномально большое количество нулевых значений в сумме отправленных сообщений у клиентов обоих тарифов, можно предположить, что для отправки сообщений клиенты пользуются мессенджерами, которым требуется исключительно интернет.\n",
    "* В среднем клиенты тарифа \"smart\" платят в два раза больше установленной тарифной платы."
   ]
  },
  {
   "cell_type": "code",
   "execution_count": 16,
   "metadata": {
    "scrolled": true
   },
   "outputs": [
    {
     "data": {
      "text/html": [
       "<div>\n",
       "<style scoped>\n",
       "    .dataframe tbody tr th:only-of-type {\n",
       "        vertical-align: middle;\n",
       "    }\n",
       "\n",
       "    .dataframe tbody tr th {\n",
       "        vertical-align: top;\n",
       "    }\n",
       "\n",
       "    .dataframe thead tr th {\n",
       "        text-align: left;\n",
       "    }\n",
       "\n",
       "    .dataframe thead tr:last-of-type th {\n",
       "        text-align: right;\n",
       "    }\n",
       "</style>\n",
       "<table border=\"1\" class=\"dataframe\">\n",
       "  <thead>\n",
       "    <tr>\n",
       "      <th></th>\n",
       "      <th colspan=\"3\" halign=\"left\">mean</th>\n",
       "      <th colspan=\"3\" halign=\"left\">var</th>\n",
       "      <th colspan=\"3\" halign=\"left\">std</th>\n",
       "    </tr>\n",
       "    <tr>\n",
       "      <th></th>\n",
       "      <th>count_messages</th>\n",
       "      <th>gb_used</th>\n",
       "      <th>sum_calls_dur</th>\n",
       "      <th>count_messages</th>\n",
       "      <th>gb_used</th>\n",
       "      <th>sum_calls_dur</th>\n",
       "      <th>count_messages</th>\n",
       "      <th>gb_used</th>\n",
       "      <th>sum_calls_dur</th>\n",
       "    </tr>\n",
       "    <tr>\n",
       "      <th>tariff</th>\n",
       "      <th></th>\n",
       "      <th></th>\n",
       "      <th></th>\n",
       "      <th></th>\n",
       "      <th></th>\n",
       "      <th></th>\n",
       "      <th></th>\n",
       "      <th></th>\n",
       "      <th></th>\n",
       "    </tr>\n",
       "  </thead>\n",
       "  <tbody>\n",
       "    <tr>\n",
       "      <th>smart</th>\n",
       "      <td>33.369058</td>\n",
       "      <td>16.321525</td>\n",
       "      <td>417.747534</td>\n",
       "      <td>796.955256</td>\n",
       "      <td>33.133453</td>\n",
       "      <td>36281.393836</td>\n",
       "      <td>28.230396</td>\n",
       "      <td>5.756167</td>\n",
       "      <td>190.476754</td>\n",
       "    </tr>\n",
       "    <tr>\n",
       "      <th>ultra</th>\n",
       "      <td>49.313387</td>\n",
       "      <td>19.474645</td>\n",
       "      <td>526.089249</td>\n",
       "      <td>2285.417425</td>\n",
       "      <td>97.378544</td>\n",
       "      <td>101052.493549</td>\n",
       "      <td>47.806040</td>\n",
       "      <td>9.868057</td>\n",
       "      <td>317.887549</td>\n",
       "    </tr>\n",
       "  </tbody>\n",
       "</table>\n",
       "</div>"
      ],
      "text/plain": [
       "                 mean                                     var             \\\n",
       "       count_messages    gb_used sum_calls_dur count_messages    gb_used   \n",
       "tariff                                                                     \n",
       "smart       33.369058  16.321525    417.747534     796.955256  33.133453   \n",
       "ultra       49.313387  19.474645    526.089249    2285.417425  97.378544   \n",
       "\n",
       "                                 std                          \n",
       "        sum_calls_dur count_messages   gb_used sum_calls_dur  \n",
       "tariff                                                        \n",
       "smart    36281.393836      28.230396  5.756167    190.476754  \n",
       "ultra   101052.493549      47.806040  9.868057    317.887549  "
      ]
     },
     "metadata": {},
     "output_type": "display_data"
    },
    {
     "data": {
      "text/html": [
       "<div>\n",
       "<style scoped>\n",
       "    .dataframe tbody tr th:only-of-type {\n",
       "        vertical-align: middle;\n",
       "    }\n",
       "\n",
       "    .dataframe tbody tr th {\n",
       "        vertical-align: top;\n",
       "    }\n",
       "\n",
       "    .dataframe thead tr th {\n",
       "        text-align: left;\n",
       "    }\n",
       "\n",
       "    .dataframe thead tr:last-of-type th {\n",
       "        text-align: right;\n",
       "    }\n",
       "</style>\n",
       "<table border=\"1\" class=\"dataframe\">\n",
       "  <thead>\n",
       "    <tr>\n",
       "      <th></th>\n",
       "      <th>mean</th>\n",
       "      <th>sum</th>\n",
       "    </tr>\n",
       "    <tr>\n",
       "      <th></th>\n",
       "      <th>total_income</th>\n",
       "      <th>total_income</th>\n",
       "    </tr>\n",
       "    <tr>\n",
       "      <th>tariff</th>\n",
       "      <th></th>\n",
       "      <th></th>\n",
       "    </tr>\n",
       "  </thead>\n",
       "  <tbody>\n",
       "    <tr>\n",
       "      <th>smart</th>\n",
       "      <td>1289.641704</td>\n",
       "      <td>2875901.0</td>\n",
       "    </tr>\n",
       "    <tr>\n",
       "      <th>ultra</th>\n",
       "      <td>2070.030426</td>\n",
       "      <td>2041050.0</td>\n",
       "    </tr>\n",
       "  </tbody>\n",
       "</table>\n",
       "</div>"
      ],
      "text/plain": [
       "               mean          sum\n",
       "       total_income total_income\n",
       "tariff                          \n",
       "smart   1289.641704    2875901.0\n",
       "ultra   2070.030426    2041050.0"
      ]
     },
     "metadata": {},
     "output_type": "display_data"
    }
   ],
   "source": [
    "# формирование выборки по тарифу \"smart\"\n",
    "data_tariff_smart = monthly_income.query('tariff == \"smart\"')\n",
    "\n",
    "# формирование выборки по тарифу \"ultra\"\n",
    "data_tariff_ultra = monthly_income.query('tariff == \"ultra\"')\n",
    "\n",
    "# таблицы со статистическими метриками\n",
    "display(monthly_income.pivot_table(index='tariff', \n",
    "                                   values=['sum_calls_dur', 'count_messages', 'gb_used'], \n",
    "                                   aggfunc=['mean', 'var', 'std']))\n",
    "display(monthly_income.pivot_table(index='tariff', values='total_income', aggfunc=['mean', 'sum']))"
   ]
  },
  {
   "cell_type": "code",
   "execution_count": 17,
   "metadata": {
    "scrolled": true
   },
   "outputs": [
    {
     "data": {
      "text/plain": [
       "<AxesSubplot:title={'center':'sum_calls_dur'}, ylabel='Frequency'>"
      ]
     },
     "metadata": {},
     "output_type": "display_data"
    },
    {
     "data": {
      "text/plain": [
       "<AxesSubplot:title={'center':'count_messages'}, ylabel='Frequency'>"
      ]
     },
     "metadata": {},
     "output_type": "display_data"
    },
    {
     "data": {
      "text/plain": [
       "<AxesSubplot:title={'center':'gb_used'}, ylabel='Frequency'>"
      ]
     },
     "metadata": {},
     "output_type": "display_data"
    },
    {
     "data": {
      "image/png": "[encoded data removed]",
      "text/plain": [
       "<Figure size 432x288 with 1 Axes>"
      ]
     },
     "metadata": {
      "needs_background": "light"
     },
     "output_type": "display_data"
    },
    {
     "data": {
      "image/png": "[encoded data removed]",
      "text/plain": [
       "<Figure size 432x288 with 1 Axes>"
      ]
     },
     "metadata": {
      "needs_background": "light"
     },
     "output_type": "display_data"
    },
    {
     "data": {
      "image/png": "[encoded data removed]",
      "text/plain": [
       "<Figure size 432x288 with 1 Axes>"
      ]
     },
     "metadata": {
      "needs_background": "light"
     },
     "output_type": "display_data"
    }
   ],
   "source": [
    "# гистограммы для суммарного количества потраченных минут, сообщений, трафика по тарифу \"ultra\"\n",
    "ax = data_tariff_smart.plot(y='sum_calls_dur', kind='hist', bins=50, grid=True, label='smart')\n",
    "display(data_tariff_ultra.plot(y='sum_calls_dur', kind='hist', bins=50, grid=True, ax=ax, label='ultra', \n",
    "                               title='sum_calls_dur', alpha=0.7))\n",
    "\n",
    "ax = data_tariff_smart.plot(y='count_messages', kind='hist', bins=50, grid=True, label='smart')\n",
    "display(data_tariff_ultra.plot(y='count_messages', kind='hist', bins=50, grid=True, ax=ax, label='ultra', \n",
    "                               title='count_messages', alpha=0.7))\n",
    "\n",
    "ax = data_tariff_smart.plot(y='gb_used', kind='hist', bins=50, grid=True, label='smart')\n",
    "display(data_tariff_ultra.plot(y='gb_used', kind='hist', bins=50, grid=True, ax=ax, label='ultra', \n",
    "                               title='gb_used', alpha=0.7))"
   ]
  },
  {
   "cell_type": "markdown",
   "metadata": {},
   "source": [
    "## Постановка и проверка гипотез"
   ]
  },
  {
   "cell_type": "markdown",
   "metadata": {},
   "source": [
    "### Первая гипотеза. Различная средняя выручка пользователей разных тарифов "
   ]
  },
  {
   "cell_type": "markdown",
   "metadata": {},
   "source": [
    "Из гипотезы \"средняя выручка пользователей тарифов «Ультра» и «Смарт» различаются\" можно сформировать двухстороннюю гипотезу, где: <br>\n",
    "* **H0: Средняя выручка пользователей тарифов «Ультра» равна средней выручке пользователей тарифов «Смарт».**\n",
    "* **H1: Средняя выручка пользователей тарифов «Ультра» не равна средней выручке пользователей тарифов «Смарт».**"
   ]
  },
  {
   "cell_type": "markdown",
   "metadata": {},
   "source": [
    "Дисперсии и размеры выборок различны, следовательно параметр 'equal_var' будет иметь значение 'False' при вызове нужного метода."
   ]
  },
  {
   "cell_type": "code",
   "execution_count": 18,
   "metadata": {},
   "outputs": [
    {
     "data": {
      "text/plain": [
       "2230"
      ]
     },
     "metadata": {},
     "output_type": "display_data"
    },
    {
     "data": {
      "text/plain": [
       "986"
      ]
     },
     "metadata": {},
     "output_type": "display_data"
    },
    {
     "data": {
      "text/plain": [
       "669430.436197993"
      ]
     },
     "metadata": {},
     "output_type": "display_data"
    },
    {
     "data": {
      "text/plain": [
       "141244.31956107615"
      ]
     },
     "metadata": {},
     "output_type": "display_data"
    }
   ],
   "source": [
    "# размеры выборок\n",
    "display(len(data_tariff_smart['total_income']))\n",
    "display(len(data_tariff_ultra['total_income']))\n",
    "\n",
    "# дисперсии выборок \n",
    "display(np.var(data_tariff_smart['total_income']))\n",
    "display(np.var(data_tariff_ultra['total_income']))"
   ]
  },
  {
   "cell_type": "markdown",
   "metadata": {},
   "source": [
    "Вероятность получить одинаковые или близкие значения очень мала, как следствие, **отвергаем нулевую гипотезу в пользу альтернативной**."
   ]
  },
  {
   "cell_type": "code",
   "execution_count": 19,
   "metadata": {},
   "outputs": [
    {
     "data": {
      "text/plain": [
       "'p-value:'"
      ]
     },
     "metadata": {},
     "output_type": "display_data"
    },
    {
     "data": {
      "text/plain": [
       "1.9270113944198435e-250"
      ]
     },
     "metadata": {},
     "output_type": "display_data"
    },
    {
     "data": {
      "text/plain": [
       "'Отвергаем нулевую гипотезу'"
      ]
     },
     "metadata": {},
     "output_type": "display_data"
    }
   ],
   "source": [
    "# установка порогового значения\n",
    "alpha = .01 \n",
    "\n",
    "# применение теста для проверки равентсва двух генеральных совокупностей\n",
    "results = st.ttest_ind(data_tariff_smart['total_income'], \n",
    "                       data_tariff_ultra['total_income'],  \n",
    "                       equal_var=False)\n",
    "\n",
    "# вывод получившегося p-значения\n",
    "display('p-value:', results.pvalue) \n",
    "\n",
    "# проверка меньше ли p-значение чем пороговое значение\n",
    "if results.pvalue < alpha:\n",
    "    display('Отвергаем нулевую гипотезу')\n",
    "else:\n",
    "    display('Не получилось отвергнуть нулевую гипотезу')"
   ]
  },
  {
   "cell_type": "markdown",
   "metadata": {},
   "source": [
    "### Вторая гипотеза. Различная выручка пользователей из Москвы и других регионов"
   ]
  },
  {
   "cell_type": "markdown",
   "metadata": {},
   "source": [
    "Из гипотезы \"средняя выручка пользователей из Москвы отличается от выручки пользователей из других регионов\" можно сформировать двухстороннюю гипотезу, где: <br>\n",
    "* **H0: Средняя выручка пользователей из Москвы равна средней выручке пользователей из других регионов.**\n",
    "* **H1: Средняя выручка пользователей из Москвы не равна средней выручке пользователей из других регионов.**"
   ]
  },
  {
   "cell_type": "markdown",
   "metadata": {},
   "source": [
    "Дисперсии и размеры выборок аналогично различны."
   ]
  },
  {
   "cell_type": "code",
   "execution_count": 20,
   "metadata": {},
   "outputs": [
    {
     "data": {
      "text/plain": [
       "611"
      ]
     },
     "metadata": {},
     "output_type": "display_data"
    },
    {
     "data": {
      "text/plain": [
       "2605"
      ]
     },
     "metadata": {},
     "output_type": "display_data"
    },
    {
     "data": {
      "text/plain": [
       "564710.7117467273"
      ]
     },
     "metadata": {},
     "output_type": "display_data"
    },
    {
     "data": {
      "text/plain": [
       "653818.4925923498"
      ]
     },
     "metadata": {},
     "output_type": "display_data"
    }
   ],
   "source": [
    "# формирование выборок по городу\n",
    "data_users_mcs = monthly_income.query('city == \"Москва\"')\n",
    "data_users_other = monthly_income.query('city != \"Москва\"')\n",
    "\n",
    "# размеры выборок\n",
    "display(len(data_users_mcs['total_income']))\n",
    "display(len(data_users_other['total_income']))\n",
    "\n",
    "# дисперсии выборок \n",
    "display(np.var(data_users_mcs['total_income']))\n",
    "display(np.var(data_users_other['total_income']))"
   ]
  },
  {
   "cell_type": "markdown",
   "metadata": {},
   "source": [
    "Отвергнуть нулевую гипотезу не получилось, в силу большой вероятности (11%) получения одинаковых или близких результатов, **данные не противоречат нулевой гипотезе.**"
   ]
  },
  {
   "cell_type": "code",
   "execution_count": 21,
   "metadata": {},
   "outputs": [
    {
     "data": {
      "text/plain": [
       "'p-value:'"
      ]
     },
     "metadata": {},
     "output_type": "display_data"
    },
    {
     "data": {
      "text/plain": [
       "0.5216952110000278"
      ]
     },
     "metadata": {},
     "output_type": "display_data"
    },
    {
     "data": {
      "text/plain": [
       "'Не получилось отвергнуть нулевую гипотезу'"
      ]
     },
     "metadata": {},
     "output_type": "display_data"
    }
   ],
   "source": [
    "# установка порогового значения\n",
    "alpha = .01 \n",
    "\n",
    "# применение теста для проверки равентсва двух генеральных совокупностей\n",
    "results = st.ttest_ind(data_users_mcs['total_income'], \n",
    "                       data_users_other['total_income'],\n",
    "                       equal_var=False)\n",
    "\n",
    "# вывод получившегося p-значения\n",
    "display('p-value:', results.pvalue) \n",
    "\n",
    "# проверка меньше ли p-значение чем пороговое значение\n",
    "if results.pvalue < alpha: \n",
    "    display('Отвергаем нулевую гипотезу')\n",
    "else:\n",
    "    display('Не получилось отвергнуть нулевую гипотезу')"
   ]
  },
  {
   "cell_type": "markdown",
   "metadata": {},
   "source": [
    "**Нулевые гипотезы были сформированы в силу поставленной задачи, а именно \"чтобы скорректировать рекламный бюджет, коммерческий департамент хочет понять, какой тариф приносит больше денег\".**"
   ]
  },
  {
   "cell_type": "markdown",
   "metadata": {},
   "source": [
    "Основываясь на проведенных тестах, мы выяснили, что \n",
    "* Средняя выручка пользователей тарифов «Ультра» и «Смарт» различаются, так как вероятность получить одинаковые или близкие значения очень мала. В частности средняя выручка пользователей тарифа \"ultra\" выше, чем выручка пользователей тарифа \"smart\"\n",
    "* Cредняя выручка пользователей из Москвы не отличается от выручки пользователей из других регионов, так как вероятность получения одинаковых или близких результатов достаточно высокая (11%) "
   ]
  },
  {
   "cell_type": "markdown",
   "metadata": {},
   "source": [
    "## Общий вывод"
   ]
  },
  {
   "cell_type": "markdown",
   "metadata": {},
   "source": [
    "* Посмотрели данные, устранили ошибки в данных, привели данные к нужному виду, сформировали новый датафрейм с помесячными метриками, сравнили данные клиентов с разными тарифами, поставили две гипотезы и проверили их.\n",
    "* Большое количество клиентов тарифа \"smart\" превышает бесплатные лимиты, в отличие от клиентов с тарифом \"ultra\", у которых превышения лимитов почти нет. От чего средняя выручка клиентов 'smart' больше в два раза платы за тариф (1290). \n",
    "* После проверки гипотез выяснилось, что средняя выручка пользователей разных тарифов различается и, что выручка пользователей из Москвы и выручка пользователей других регионов не отличаются. Совокупный доход от клиентов с тарифом 'smart' выше, в силу большого превышения тарифного плана.\n",
    "* Для повышения прибыли можно повысить стоимость услуг сверх тарифного плана для тарифа \"smart\", а именно количество трафика и минут, так же можно \"урезать\" количество минут у тарифа \"smart\"."
   ]
  }
 ],
 "metadata": {
  "ExecuteTimeLog": [
   {
    "duration": 799,
    "start_time": "2022-04-23T13:59:41.758Z"
   },
   {
    "duration": 25,
    "start_time": "2022-04-23T14:00:13.322Z"
   },
   {
    "duration": 31,
    "start_time": "2022-04-23T14:00:29.326Z"
   },
   {
    "duration": 23,
    "start_time": "2022-04-23T14:00:41.766Z"
   },
   {
    "duration": 27,
    "start_time": "2022-04-23T14:00:56.720Z"
   },
   {
    "duration": 24,
    "start_time": "2022-04-23T14:01:16.330Z"
   },
   {
    "duration": 5,
    "start_time": "2022-04-23T14:16:24.877Z"
   },
   {
    "duration": 20,
    "start_time": "2022-04-23T14:16:42.822Z"
   },
   {
    "duration": 74,
    "start_time": "2022-04-23T14:17:58.876Z"
   },
   {
    "duration": 34,
    "start_time": "2022-04-23T14:18:07.819Z"
   },
   {
    "duration": 9,
    "start_time": "2022-04-23T14:18:20.338Z"
   },
   {
    "duration": 11,
    "start_time": "2022-04-23T14:18:45.753Z"
   },
   {
    "duration": 35,
    "start_time": "2022-04-23T14:18:52.882Z"
   },
   {
    "duration": 34,
    "start_time": "2022-04-23T14:20:58.464Z"
   },
   {
    "duration": 8,
    "start_time": "2022-04-23T14:21:08.170Z"
   },
   {
    "duration": 17,
    "start_time": "2022-04-23T14:23:25.799Z"
   },
   {
    "duration": 46,
    "start_time": "2022-04-23T14:24:31.647Z"
   },
   {
    "duration": 20,
    "start_time": "2022-04-23T14:24:56.842Z"
   },
   {
    "duration": 17,
    "start_time": "2022-04-23T14:25:08.732Z"
   },
   {
    "duration": 31,
    "start_time": "2022-04-23T14:25:28.945Z"
   },
   {
    "duration": 454,
    "start_time": "2022-04-23T14:25:48.001Z"
   },
   {
    "duration": 16,
    "start_time": "2022-04-23T14:25:48.458Z"
   },
   {
    "duration": 33,
    "start_time": "2022-04-23T14:25:48.476Z"
   },
   {
    "duration": 33,
    "start_time": "2022-04-23T14:25:48.513Z"
   },
   {
    "duration": 26,
    "start_time": "2022-04-23T14:25:48.547Z"
   },
   {
    "duration": 30,
    "start_time": "2022-04-23T14:25:48.575Z"
   },
   {
    "duration": 39,
    "start_time": "2022-04-23T14:25:48.607Z"
   },
   {
    "duration": 8,
    "start_time": "2022-04-23T14:31:21.047Z"
   },
   {
    "duration": 40,
    "start_time": "2022-04-23T14:31:28.905Z"
   },
   {
    "duration": 84,
    "start_time": "2022-04-23T14:31:50.660Z"
   },
   {
    "duration": 2707,
    "start_time": "2022-04-23T14:35:42.493Z"
   },
   {
    "duration": 48,
    "start_time": "2022-04-23T14:35:55.901Z"
   },
   {
    "duration": 35,
    "start_time": "2022-04-23T15:08:51.335Z"
   },
   {
    "duration": 43,
    "start_time": "2022-04-23T15:10:10.148Z"
   },
   {
    "duration": 7,
    "start_time": "2022-04-23T15:17:57.727Z"
   },
   {
    "duration": 3,
    "start_time": "2022-04-23T15:18:04.792Z"
   },
   {
    "duration": 3363,
    "start_time": "2022-04-23T15:18:11.001Z"
   },
   {
    "duration": 22,
    "start_time": "2022-04-23T15:28:07.500Z"
   },
   {
    "duration": 53,
    "start_time": "2022-04-23T15:28:39.478Z"
   },
   {
    "duration": 518,
    "start_time": "2022-04-23T15:28:50.826Z"
   },
   {
    "duration": 18,
    "start_time": "2022-04-23T15:28:51.346Z"
   },
   {
    "duration": 28,
    "start_time": "2022-04-23T15:28:51.365Z"
   },
   {
    "duration": 38,
    "start_time": "2022-04-23T15:28:51.395Z"
   },
   {
    "duration": 29,
    "start_time": "2022-04-23T15:28:51.437Z"
   },
   {
    "duration": 14,
    "start_time": "2022-04-23T15:28:51.468Z"
   },
   {
    "duration": 56,
    "start_time": "2022-04-23T15:28:51.484Z"
   },
   {
    "duration": 50,
    "start_time": "2022-04-23T15:28:51.541Z"
   },
   {
    "duration": 57,
    "start_time": "2022-04-23T15:28:51.592Z"
   },
   {
    "duration": 54,
    "start_time": "2022-04-23T15:28:51.650Z"
   },
   {
    "duration": 14,
    "start_time": "2022-04-23T15:28:51.709Z"
   },
   {
    "duration": 47,
    "start_time": "2022-04-23T15:29:04.884Z"
   },
   {
    "duration": 4,
    "start_time": "2022-04-23T15:29:21.244Z"
   },
   {
    "duration": 3,
    "start_time": "2022-04-23T15:29:32.465Z"
   },
   {
    "duration": 17,
    "start_time": "2022-04-23T15:30:33.724Z"
   },
   {
    "duration": 30,
    "start_time": "2022-04-23T15:30:41.160Z"
   },
   {
    "duration": 22,
    "start_time": "2022-04-23T15:30:55.722Z"
   },
   {
    "duration": 516,
    "start_time": "2022-04-23T15:31:12.980Z"
   },
   {
    "duration": 28,
    "start_time": "2022-04-23T15:31:13.499Z"
   },
   {
    "duration": 43,
    "start_time": "2022-04-23T15:31:13.531Z"
   },
   {
    "duration": 28,
    "start_time": "2022-04-23T15:31:13.576Z"
   },
   {
    "duration": 40,
    "start_time": "2022-04-23T15:31:13.605Z"
   },
   {
    "duration": 19,
    "start_time": "2022-04-23T15:31:13.646Z"
   },
   {
    "duration": 70,
    "start_time": "2022-04-23T15:31:13.668Z"
   },
   {
    "duration": 55,
    "start_time": "2022-04-23T15:31:13.740Z"
   },
   {
    "duration": 66,
    "start_time": "2022-04-23T15:31:13.802Z"
   },
   {
    "duration": 76,
    "start_time": "2022-04-23T15:31:13.871Z"
   },
   {
    "duration": 27,
    "start_time": "2022-04-23T15:31:13.949Z"
   },
   {
    "duration": 30,
    "start_time": "2022-04-23T15:31:22.689Z"
   },
   {
    "duration": 15,
    "start_time": "2022-04-23T15:34:27.067Z"
   },
   {
    "duration": 9,
    "start_time": "2022-04-23T15:34:33.529Z"
   },
   {
    "duration": 472,
    "start_time": "2022-04-23T15:34:39.937Z"
   },
   {
    "duration": 23,
    "start_time": "2022-04-23T15:34:40.411Z"
   },
   {
    "duration": 34,
    "start_time": "2022-04-23T15:34:40.437Z"
   },
   {
    "duration": 49,
    "start_time": "2022-04-23T15:34:40.473Z"
   },
   {
    "duration": 33,
    "start_time": "2022-04-23T15:34:40.525Z"
   },
   {
    "duration": 14,
    "start_time": "2022-04-23T15:34:40.560Z"
   },
   {
    "duration": 52,
    "start_time": "2022-04-23T15:34:40.576Z"
   },
   {
    "duration": 97,
    "start_time": "2022-04-23T15:34:40.630Z"
   },
   {
    "duration": 51,
    "start_time": "2022-04-23T15:34:40.730Z"
   },
   {
    "duration": 65,
    "start_time": "2022-04-23T15:34:40.783Z"
   },
   {
    "duration": 13,
    "start_time": "2022-04-23T15:34:40.851Z"
   },
   {
    "duration": 86,
    "start_time": "2022-04-23T15:35:45.855Z"
   },
   {
    "duration": 393,
    "start_time": "2022-04-23T15:36:08.742Z"
   },
   {
    "duration": 15,
    "start_time": "2022-04-23T15:36:09.137Z"
   },
   {
    "duration": 27,
    "start_time": "2022-04-23T15:36:09.154Z"
   },
   {
    "duration": 41,
    "start_time": "2022-04-23T15:36:09.183Z"
   },
   {
    "duration": 25,
    "start_time": "2022-04-23T15:36:09.227Z"
   },
   {
    "duration": 13,
    "start_time": "2022-04-23T15:36:09.253Z"
   },
   {
    "duration": 52,
    "start_time": "2022-04-23T15:36:09.268Z"
   },
   {
    "duration": 47,
    "start_time": "2022-04-23T15:36:09.321Z"
   },
   {
    "duration": 57,
    "start_time": "2022-04-23T15:36:09.369Z"
   },
   {
    "duration": 80,
    "start_time": "2022-04-23T15:36:09.428Z"
   },
   {
    "duration": 140,
    "start_time": "2022-04-23T15:36:09.510Z"
   },
   {
    "duration": 120,
    "start_time": "2022-04-23T15:36:39.226Z"
   },
   {
    "duration": 194,
    "start_time": "2022-04-23T15:36:45.697Z"
   },
   {
    "duration": 439,
    "start_time": "2022-04-23T15:41:23.176Z"
   },
   {
    "duration": 21,
    "start_time": "2022-04-23T15:41:23.617Z"
   },
   {
    "duration": 47,
    "start_time": "2022-04-23T15:41:23.639Z"
   },
   {
    "duration": 37,
    "start_time": "2022-04-23T15:41:23.688Z"
   },
   {
    "duration": 24,
    "start_time": "2022-04-23T15:41:23.727Z"
   },
   {
    "duration": 13,
    "start_time": "2022-04-23T15:41:23.753Z"
   },
   {
    "duration": 60,
    "start_time": "2022-04-23T15:41:23.768Z"
   },
   {
    "duration": 51,
    "start_time": "2022-04-23T15:41:23.829Z"
   },
   {
    "duration": 59,
    "start_time": "2022-04-23T15:41:23.881Z"
   },
   {
    "duration": 61,
    "start_time": "2022-04-23T15:41:23.942Z"
   },
   {
    "duration": 12,
    "start_time": "2022-04-23T15:41:24.005Z"
   },
   {
    "duration": 9,
    "start_time": "2022-04-23T15:45:34.639Z"
   },
   {
    "duration": 8,
    "start_time": "2022-04-23T15:45:39.413Z"
   },
   {
    "duration": 7,
    "start_time": "2022-04-23T15:45:47.662Z"
   },
   {
    "duration": 158,
    "start_time": "2022-04-23T15:46:14.266Z"
   },
   {
    "duration": 4,
    "start_time": "2022-04-23T15:49:30.913Z"
   },
   {
    "duration": 4,
    "start_time": "2022-04-23T15:49:34.182Z"
   },
   {
    "duration": 4,
    "start_time": "2022-04-23T15:49:37.389Z"
   },
   {
    "duration": 4,
    "start_time": "2022-04-23T15:49:40.521Z"
   },
   {
    "duration": 4,
    "start_time": "2022-04-23T15:49:43.397Z"
   },
   {
    "duration": 4,
    "start_time": "2022-04-23T15:49:48.515Z"
   },
   {
    "duration": 4,
    "start_time": "2022-04-23T15:49:53.668Z"
   },
   {
    "duration": 4,
    "start_time": "2022-04-23T15:49:57.870Z"
   },
   {
    "duration": 6,
    "start_time": "2022-04-23T15:50:53.919Z"
   },
   {
    "duration": 414,
    "start_time": "2022-04-23T15:50:57.977Z"
   },
   {
    "duration": 24,
    "start_time": "2022-04-23T15:50:58.393Z"
   },
   {
    "duration": 29,
    "start_time": "2022-04-23T15:50:58.418Z"
   },
   {
    "duration": 22,
    "start_time": "2022-04-23T15:50:58.449Z"
   },
   {
    "duration": 51,
    "start_time": "2022-04-23T15:50:58.473Z"
   },
   {
    "duration": 14,
    "start_time": "2022-04-23T15:50:58.526Z"
   },
   {
    "duration": 28,
    "start_time": "2022-04-23T15:50:58.542Z"
   },
   {
    "duration": 77,
    "start_time": "2022-04-23T15:50:58.571Z"
   },
   {
    "duration": 53,
    "start_time": "2022-04-23T15:50:58.650Z"
   },
   {
    "duration": 46,
    "start_time": "2022-04-23T15:50:58.705Z"
   },
   {
    "duration": 9,
    "start_time": "2022-04-23T15:50:58.753Z"
   },
   {
    "duration": 195,
    "start_time": "2022-04-23T15:50:58.763Z"
   },
   {
    "duration": 4,
    "start_time": "2022-04-23T15:50:58.960Z"
   },
   {
    "duration": 4,
    "start_time": "2022-04-23T15:51:03.443Z"
   },
   {
    "duration": 8,
    "start_time": "2022-04-23T15:53:19.482Z"
   },
   {
    "duration": 7,
    "start_time": "2022-04-23T15:53:55.673Z"
   },
   {
    "duration": 8,
    "start_time": "2022-04-23T15:54:09.826Z"
   },
   {
    "duration": 11,
    "start_time": "2022-04-23T15:56:02.467Z"
   },
   {
    "duration": 3,
    "start_time": "2022-04-23T15:56:30.617Z"
   },
   {
    "duration": 611,
    "start_time": "2022-04-23T15:56:54.617Z"
   },
   {
    "duration": 2785,
    "start_time": "2022-04-23T15:57:07.765Z"
   },
   {
    "duration": 1827,
    "start_time": "2022-04-23T15:57:47.911Z"
   },
   {
    "duration": 15,
    "start_time": "2022-04-23T15:58:18.018Z"
   },
   {
    "duration": 1829,
    "start_time": "2022-04-23T15:58:26.733Z"
   },
   {
    "duration": 1760,
    "start_time": "2022-04-23T15:58:43.099Z"
   },
   {
    "duration": 10,
    "start_time": "2022-04-23T16:00:58.766Z"
   },
   {
    "duration": 10,
    "start_time": "2022-04-23T16:01:05.214Z"
   },
   {
    "duration": 398,
    "start_time": "2022-04-23T16:01:33.235Z"
   },
   {
    "duration": 16,
    "start_time": "2022-04-23T16:01:33.634Z"
   },
   {
    "duration": 29,
    "start_time": "2022-04-23T16:01:33.651Z"
   },
   {
    "duration": 44,
    "start_time": "2022-04-23T16:01:33.682Z"
   },
   {
    "duration": 27,
    "start_time": "2022-04-23T16:01:33.729Z"
   },
   {
    "duration": 14,
    "start_time": "2022-04-23T16:01:33.758Z"
   },
   {
    "duration": 59,
    "start_time": "2022-04-23T16:01:33.773Z"
   },
   {
    "duration": 68,
    "start_time": "2022-04-23T16:01:33.834Z"
   },
   {
    "duration": 40,
    "start_time": "2022-04-23T16:01:33.904Z"
   },
   {
    "duration": 76,
    "start_time": "2022-04-23T16:01:33.946Z"
   },
   {
    "duration": 9,
    "start_time": "2022-04-23T16:01:34.024Z"
   },
   {
    "duration": 237,
    "start_time": "2022-04-23T16:01:34.035Z"
   },
   {
    "duration": 846,
    "start_time": "2022-04-23T16:01:34.275Z"
   },
   {
    "duration": 850,
    "start_time": "2022-04-23T16:01:43.702Z"
   },
   {
    "duration": 8,
    "start_time": "2022-04-23T16:02:37.478Z"
   },
   {
    "duration": 190,
    "start_time": "2022-04-23T16:02:44.337Z"
   },
   {
    "duration": 66,
    "start_time": "2022-04-23T16:02:46.728Z"
   },
   {
    "duration": 404,
    "start_time": "2022-04-23T16:03:08.329Z"
   },
   {
    "duration": 25,
    "start_time": "2022-04-23T16:03:08.735Z"
   },
   {
    "duration": 39,
    "start_time": "2022-04-23T16:03:08.763Z"
   },
   {
    "duration": 26,
    "start_time": "2022-04-23T16:03:08.808Z"
   },
   {
    "duration": 25,
    "start_time": "2022-04-23T16:03:08.836Z"
   },
   {
    "duration": 44,
    "start_time": "2022-04-23T16:03:08.863Z"
   },
   {
    "duration": 45,
    "start_time": "2022-04-23T16:03:08.909Z"
   },
   {
    "duration": 99,
    "start_time": "2022-04-23T16:03:08.956Z"
   },
   {
    "duration": 60,
    "start_time": "2022-04-23T16:03:09.058Z"
   },
   {
    "duration": 39,
    "start_time": "2022-04-23T16:03:09.120Z"
   },
   {
    "duration": 7,
    "start_time": "2022-04-23T16:03:09.160Z"
   },
   {
    "duration": 193,
    "start_time": "2022-04-23T16:03:09.168Z"
   },
   {
    "duration": 84,
    "start_time": "2022-04-23T16:03:09.362Z"
   },
   {
    "duration": 415,
    "start_time": "2022-04-23T16:03:24.004Z"
   },
   {
    "duration": 15,
    "start_time": "2022-04-23T16:03:24.421Z"
   },
   {
    "duration": 34,
    "start_time": "2022-04-23T16:03:24.438Z"
   },
   {
    "duration": 22,
    "start_time": "2022-04-23T16:03:24.474Z"
   },
   {
    "duration": 29,
    "start_time": "2022-04-23T16:03:24.503Z"
   },
   {
    "duration": 15,
    "start_time": "2022-04-23T16:03:24.534Z"
   },
   {
    "duration": 52,
    "start_time": "2022-04-23T16:03:24.551Z"
   },
   {
    "duration": 59,
    "start_time": "2022-04-23T16:03:24.604Z"
   },
   {
    "duration": 61,
    "start_time": "2022-04-23T16:03:24.665Z"
   },
   {
    "duration": 42,
    "start_time": "2022-04-23T16:03:24.728Z"
   },
   {
    "duration": 7,
    "start_time": "2022-04-23T16:03:24.772Z"
   },
   {
    "duration": 190,
    "start_time": "2022-04-23T16:03:24.780Z"
   },
   {
    "duration": 82,
    "start_time": "2022-04-23T16:03:24.971Z"
   },
   {
    "duration": 58,
    "start_time": "2022-04-23T16:05:40.916Z"
   },
   {
    "duration": 400,
    "start_time": "2022-04-23T16:08:30.107Z"
   },
   {
    "duration": 18,
    "start_time": "2022-04-23T16:08:30.509Z"
   },
   {
    "duration": 32,
    "start_time": "2022-04-23T16:08:30.529Z"
   },
   {
    "duration": 37,
    "start_time": "2022-04-23T16:08:30.563Z"
   },
   {
    "duration": 32,
    "start_time": "2022-04-23T16:08:30.606Z"
   },
   {
    "duration": 15,
    "start_time": "2022-04-23T16:08:30.640Z"
   },
   {
    "duration": 62,
    "start_time": "2022-04-23T16:08:30.657Z"
   },
   {
    "duration": 50,
    "start_time": "2022-04-23T16:08:30.720Z"
   },
   {
    "duration": 56,
    "start_time": "2022-04-23T16:08:30.771Z"
   },
   {
    "duration": 40,
    "start_time": "2022-04-23T16:08:30.829Z"
   },
   {
    "duration": 9,
    "start_time": "2022-04-23T16:08:30.871Z"
   },
   {
    "duration": 188,
    "start_time": "2022-04-23T16:08:30.881Z"
   },
   {
    "duration": 78,
    "start_time": "2022-04-23T16:08:31.071Z"
   },
   {
    "duration": 366,
    "start_time": "2022-04-23T16:34:21.730Z"
   },
   {
    "duration": 21,
    "start_time": "2022-04-23T16:34:22.098Z"
   },
   {
    "duration": 30,
    "start_time": "2022-04-23T16:34:22.120Z"
   },
   {
    "duration": 20,
    "start_time": "2022-04-23T16:34:22.151Z"
   },
   {
    "duration": 49,
    "start_time": "2022-04-23T16:34:22.173Z"
   },
   {
    "duration": 13,
    "start_time": "2022-04-23T16:34:22.224Z"
   },
   {
    "duration": 27,
    "start_time": "2022-04-23T16:34:22.238Z"
   },
   {
    "duration": 78,
    "start_time": "2022-04-23T16:34:22.266Z"
   },
   {
    "duration": 31,
    "start_time": "2022-04-23T16:34:22.345Z"
   },
   {
    "duration": 57,
    "start_time": "2022-04-23T16:34:22.377Z"
   },
   {
    "duration": 7,
    "start_time": "2022-04-23T16:34:22.436Z"
   },
   {
    "duration": 163,
    "start_time": "2022-04-23T16:34:22.444Z"
   },
   {
    "duration": 64,
    "start_time": "2022-04-23T16:34:22.609Z"
   },
   {
    "duration": 860,
    "start_time": "2022-04-24T17:01:13.953Z"
   },
   {
    "duration": 27,
    "start_time": "2022-04-24T17:01:14.815Z"
   },
   {
    "duration": 53,
    "start_time": "2022-04-24T17:01:14.844Z"
   },
   {
    "duration": 37,
    "start_time": "2022-04-24T17:01:14.900Z"
   },
   {
    "duration": 66,
    "start_time": "2022-04-24T17:01:14.940Z"
   },
   {
    "duration": 25,
    "start_time": "2022-04-24T17:01:15.009Z"
   },
   {
    "duration": 70,
    "start_time": "2022-04-24T17:01:15.036Z"
   },
   {
    "duration": 83,
    "start_time": "2022-04-24T17:01:15.108Z"
   },
   {
    "duration": 53,
    "start_time": "2022-04-24T17:01:15.197Z"
   },
   {
    "duration": 84,
    "start_time": "2022-04-24T17:01:15.252Z"
   },
   {
    "duration": 13,
    "start_time": "2022-04-24T17:01:15.338Z"
   },
   {
    "duration": 347,
    "start_time": "2022-04-24T17:01:15.354Z"
   },
   {
    "duration": 143,
    "start_time": "2022-04-24T17:01:15.706Z"
   },
   {
    "duration": 9,
    "start_time": "2022-04-24T17:05:27.399Z"
   },
   {
    "duration": 7,
    "start_time": "2022-04-24T17:05:38.755Z"
   },
   {
    "duration": 12,
    "start_time": "2022-04-24T17:06:30.380Z"
   },
   {
    "duration": 10,
    "start_time": "2022-04-24T17:06:34.122Z"
   },
   {
    "duration": 10,
    "start_time": "2022-04-24T17:06:37.624Z"
   },
   {
    "duration": 12,
    "start_time": "2022-04-24T17:06:41.451Z"
   },
   {
    "duration": 6,
    "start_time": "2022-04-24T17:07:21.881Z"
   },
   {
    "duration": 7,
    "start_time": "2022-04-24T17:07:28.834Z"
   },
   {
    "duration": 6,
    "start_time": "2022-04-24T17:07:54.298Z"
   },
   {
    "duration": 73,
    "start_time": "2022-04-24T17:08:44.358Z"
   },
   {
    "duration": 10,
    "start_time": "2022-04-24T17:08:50.146Z"
   },
   {
    "duration": 35,
    "start_time": "2022-04-24T17:20:39.265Z"
   },
   {
    "duration": 24,
    "start_time": "2022-04-24T17:29:50.552Z"
   },
   {
    "duration": 22,
    "start_time": "2022-04-24T17:30:29.674Z"
   },
   {
    "duration": 33,
    "start_time": "2022-04-24T17:33:04.214Z"
   },
   {
    "duration": 30,
    "start_time": "2022-04-24T17:33:17.234Z"
   },
   {
    "duration": 44,
    "start_time": "2022-04-24T17:34:39.694Z"
   },
   {
    "duration": 46,
    "start_time": "2022-04-24T17:35:56.512Z"
   },
   {
    "duration": 67,
    "start_time": "2022-04-24T17:36:26.681Z"
   },
   {
    "duration": 44,
    "start_time": "2022-04-24T17:36:53.540Z"
   },
   {
    "duration": 62,
    "start_time": "2022-04-24T17:37:05.238Z"
   },
   {
    "duration": 5,
    "start_time": "2022-04-24T17:37:38.971Z"
   },
   {
    "duration": 70,
    "start_time": "2022-04-24T17:37:44.879Z"
   },
   {
    "duration": 81,
    "start_time": "2022-04-24T17:38:17.424Z"
   },
   {
    "duration": 418,
    "start_time": "2022-04-24T17:38:33.810Z"
   },
   {
    "duration": 19,
    "start_time": "2022-04-24T17:38:34.231Z"
   },
   {
    "duration": 40,
    "start_time": "2022-04-24T17:38:34.252Z"
   },
   {
    "duration": 35,
    "start_time": "2022-04-24T17:38:34.294Z"
   },
   {
    "duration": 47,
    "start_time": "2022-04-24T17:38:34.332Z"
   },
   {
    "duration": 16,
    "start_time": "2022-04-24T17:38:34.381Z"
   },
   {
    "duration": 30,
    "start_time": "2022-04-24T17:38:34.398Z"
   },
   {
    "duration": 85,
    "start_time": "2022-04-24T17:38:34.429Z"
   },
   {
    "duration": 38,
    "start_time": "2022-04-24T17:38:34.516Z"
   },
   {
    "duration": 44,
    "start_time": "2022-04-24T17:38:34.573Z"
   },
   {
    "duration": 10,
    "start_time": "2022-04-24T17:38:34.620Z"
   },
   {
    "duration": 244,
    "start_time": "2022-04-24T17:38:34.632Z"
   },
   {
    "duration": 74,
    "start_time": "2022-04-24T17:38:34.877Z"
   },
   {
    "duration": 67,
    "start_time": "2022-04-24T17:38:34.953Z"
   },
   {
    "duration": 102,
    "start_time": "2022-04-24T17:40:32.087Z"
   },
   {
    "duration": 547,
    "start_time": "2022-04-24T17:46:21.447Z"
   },
   {
    "duration": 528,
    "start_time": "2022-04-24T17:47:10.246Z"
   },
   {
    "duration": 562,
    "start_time": "2022-04-24T17:47:33.718Z"
   },
   {
    "duration": 112,
    "start_time": "2022-04-24T17:49:39.008Z"
   },
   {
    "duration": 126,
    "start_time": "2022-04-24T17:50:12.188Z"
   },
   {
    "duration": 72,
    "start_time": "2022-04-24T17:50:32.979Z"
   },
   {
    "duration": 119,
    "start_time": "2022-04-24T17:51:04.371Z"
   },
   {
    "duration": 31,
    "start_time": "2022-04-24T18:11:37.233Z"
   },
   {
    "duration": 103,
    "start_time": "2022-04-24T18:14:20.978Z"
   },
   {
    "duration": 67,
    "start_time": "2022-04-24T18:14:53.096Z"
   },
   {
    "duration": 98,
    "start_time": "2022-04-24T18:30:22.942Z"
   },
   {
    "duration": 3586,
    "start_time": "2022-04-24T18:30:34.263Z"
   },
   {
    "duration": 95,
    "start_time": "2022-04-24T18:30:56.482Z"
   },
   {
    "duration": 110,
    "start_time": "2022-04-24T18:31:51.249Z"
   },
   {
    "duration": 105,
    "start_time": "2022-04-24T18:35:56.380Z"
   },
   {
    "duration": 110,
    "start_time": "2022-04-24T18:36:03.590Z"
   },
   {
    "duration": 98,
    "start_time": "2022-04-24T18:36:21.759Z"
   },
   {
    "duration": 101,
    "start_time": "2022-04-24T18:38:53.717Z"
   },
   {
    "duration": 113,
    "start_time": "2022-04-24T18:39:15.140Z"
   },
   {
    "duration": 128,
    "start_time": "2022-04-24T18:39:41.216Z"
   },
   {
    "duration": 112,
    "start_time": "2022-04-24T18:40:00.192Z"
   },
   {
    "duration": 122,
    "start_time": "2022-04-24T18:40:09.306Z"
   },
   {
    "duration": 118,
    "start_time": "2022-04-24T18:47:04.396Z"
   },
   {
    "duration": 120,
    "start_time": "2022-04-24T18:47:14.547Z"
   },
   {
    "duration": 790,
    "start_time": "2022-04-25T10:00:52.948Z"
   },
   {
    "duration": 24,
    "start_time": "2022-04-25T10:00:53.741Z"
   },
   {
    "duration": 26,
    "start_time": "2022-04-25T10:00:53.767Z"
   },
   {
    "duration": 38,
    "start_time": "2022-04-25T10:00:53.795Z"
   },
   {
    "duration": 30,
    "start_time": "2022-04-25T10:00:53.835Z"
   },
   {
    "duration": 14,
    "start_time": "2022-04-25T10:00:53.867Z"
   },
   {
    "duration": 76,
    "start_time": "2022-04-25T10:00:53.883Z"
   },
   {
    "duration": 65,
    "start_time": "2022-04-25T10:00:53.960Z"
   },
   {
    "duration": 62,
    "start_time": "2022-04-25T10:00:54.027Z"
   },
   {
    "duration": 91,
    "start_time": "2022-04-25T10:00:54.092Z"
   },
   {
    "duration": 15,
    "start_time": "2022-04-25T10:00:54.185Z"
   },
   {
    "duration": 299,
    "start_time": "2022-04-25T10:00:54.202Z"
   },
   {
    "duration": 83,
    "start_time": "2022-04-25T10:00:54.503Z"
   },
   {
    "duration": 185,
    "start_time": "2022-04-25T10:00:54.589Z"
   },
   {
    "duration": 419,
    "start_time": "2022-04-25T10:01:06.842Z"
   },
   {
    "duration": 23,
    "start_time": "2022-04-25T10:01:07.264Z"
   },
   {
    "duration": 48,
    "start_time": "2022-04-25T10:01:07.289Z"
   },
   {
    "duration": 27,
    "start_time": "2022-04-25T10:01:07.339Z"
   },
   {
    "duration": 56,
    "start_time": "2022-04-25T10:01:07.368Z"
   },
   {
    "duration": 31,
    "start_time": "2022-04-25T10:01:07.426Z"
   },
   {
    "duration": 66,
    "start_time": "2022-04-25T10:01:07.459Z"
   },
   {
    "duration": 100,
    "start_time": "2022-04-25T10:01:07.528Z"
   },
   {
    "duration": 54,
    "start_time": "2022-04-25T10:01:07.630Z"
   },
   {
    "duration": 81,
    "start_time": "2022-04-25T10:01:07.686Z"
   },
   {
    "duration": 8,
    "start_time": "2022-04-25T10:01:07.770Z"
   },
   {
    "duration": 256,
    "start_time": "2022-04-25T10:01:07.781Z"
   },
   {
    "duration": 69,
    "start_time": "2022-04-25T10:01:08.039Z"
   },
   {
    "duration": 120,
    "start_time": "2022-04-25T10:01:08.123Z"
   },
   {
    "duration": 109,
    "start_time": "2022-04-25T10:03:13.050Z"
   },
   {
    "duration": 2564,
    "start_time": "2022-04-25T10:04:45.118Z"
   },
   {
    "duration": 148,
    "start_time": "2022-04-25T10:05:10.580Z"
   },
   {
    "duration": 551,
    "start_time": "2022-04-25T10:06:41.024Z"
   },
   {
    "duration": 27,
    "start_time": "2022-04-25T10:06:41.578Z"
   },
   {
    "duration": 59,
    "start_time": "2022-04-25T10:06:41.607Z"
   },
   {
    "duration": 36,
    "start_time": "2022-04-25T10:06:41.668Z"
   },
   {
    "duration": 44,
    "start_time": "2022-04-25T10:06:41.707Z"
   },
   {
    "duration": 16,
    "start_time": "2022-04-25T10:06:41.752Z"
   },
   {
    "duration": 66,
    "start_time": "2022-04-25T10:06:41.770Z"
   },
   {
    "duration": 49,
    "start_time": "2022-04-25T10:06:41.839Z"
   },
   {
    "duration": 65,
    "start_time": "2022-04-25T10:06:41.890Z"
   },
   {
    "duration": 41,
    "start_time": "2022-04-25T10:06:41.956Z"
   },
   {
    "duration": 31,
    "start_time": "2022-04-25T10:06:41.998Z"
   },
   {
    "duration": 179,
    "start_time": "2022-04-25T10:06:42.033Z"
   },
   {
    "duration": 80,
    "start_time": "2022-04-25T10:06:42.214Z"
   },
   {
    "duration": 165,
    "start_time": "2022-04-25T10:06:42.296Z"
   },
   {
    "duration": 137,
    "start_time": "2022-04-25T10:07:42.532Z"
   },
   {
    "duration": 163,
    "start_time": "2022-04-25T10:08:03.499Z"
   },
   {
    "duration": 152,
    "start_time": "2022-04-25T10:11:17.041Z"
   },
   {
    "duration": 156,
    "start_time": "2022-04-25T10:17:14.609Z"
   },
   {
    "duration": 155,
    "start_time": "2022-04-25T10:17:38.017Z"
   },
   {
    "duration": 164,
    "start_time": "2022-04-25T10:17:45.165Z"
   },
   {
    "duration": 188,
    "start_time": "2022-04-25T10:20:49.523Z"
   },
   {
    "duration": 150,
    "start_time": "2022-04-25T10:20:55.351Z"
   },
   {
    "duration": 229,
    "start_time": "2022-04-25T10:26:11.406Z"
   },
   {
    "duration": 2636,
    "start_time": "2022-04-25T10:29:23.778Z"
   },
   {
    "duration": 138,
    "start_time": "2022-04-25T10:30:31.843Z"
   },
   {
    "duration": 2722,
    "start_time": "2022-04-25T10:30:34.944Z"
   },
   {
    "duration": 138,
    "start_time": "2022-04-25T10:48:07.447Z"
   },
   {
    "duration": 10,
    "start_time": "2022-04-25T10:50:12.802Z"
   },
   {
    "duration": 8,
    "start_time": "2022-04-25T10:50:17.976Z"
   },
   {
    "duration": 9,
    "start_time": "2022-04-25T10:50:24.564Z"
   },
   {
    "duration": 373,
    "start_time": "2022-04-25T10:50:47.317Z"
   },
   {
    "duration": 17,
    "start_time": "2022-04-25T10:50:47.692Z"
   },
   {
    "duration": 40,
    "start_time": "2022-04-25T10:50:47.710Z"
   },
   {
    "duration": 20,
    "start_time": "2022-04-25T10:50:47.752Z"
   },
   {
    "duration": 23,
    "start_time": "2022-04-25T10:50:47.774Z"
   },
   {
    "duration": 38,
    "start_time": "2022-04-25T10:50:47.798Z"
   },
   {
    "duration": 37,
    "start_time": "2022-04-25T10:50:47.838Z"
   },
   {
    "duration": 86,
    "start_time": "2022-04-25T10:50:47.877Z"
   },
   {
    "duration": 69,
    "start_time": "2022-04-25T10:50:47.965Z"
   },
   {
    "duration": 41,
    "start_time": "2022-04-25T10:50:48.036Z"
   },
   {
    "duration": 7,
    "start_time": "2022-04-25T10:50:48.079Z"
   },
   {
    "duration": 197,
    "start_time": "2022-04-25T10:50:48.088Z"
   },
   {
    "duration": 93,
    "start_time": "2022-04-25T10:50:48.287Z"
   },
   {
    "duration": 9,
    "start_time": "2022-04-25T10:50:48.382Z"
   },
   {
    "duration": 160,
    "start_time": "2022-04-25T10:50:48.393Z"
   },
   {
    "duration": 519,
    "start_time": "2022-04-25T10:51:02.146Z"
   },
   {
    "duration": 25,
    "start_time": "2022-04-25T10:51:02.668Z"
   },
   {
    "duration": 48,
    "start_time": "2022-04-25T10:51:02.696Z"
   },
   {
    "duration": 22,
    "start_time": "2022-04-25T10:51:02.746Z"
   },
   {
    "duration": 23,
    "start_time": "2022-04-25T10:51:02.770Z"
   },
   {
    "duration": 42,
    "start_time": "2022-04-25T10:51:02.795Z"
   },
   {
    "duration": 44,
    "start_time": "2022-04-25T10:51:02.839Z"
   },
   {
    "duration": 105,
    "start_time": "2022-04-25T10:51:02.885Z"
   },
   {
    "duration": 70,
    "start_time": "2022-04-25T10:51:02.992Z"
   },
   {
    "duration": 80,
    "start_time": "2022-04-25T10:51:03.064Z"
   },
   {
    "duration": 7,
    "start_time": "2022-04-25T10:51:03.146Z"
   },
   {
    "duration": 195,
    "start_time": "2022-04-25T10:51:03.155Z"
   },
   {
    "duration": 74,
    "start_time": "2022-04-25T10:51:03.352Z"
   },
   {
    "duration": 12,
    "start_time": "2022-04-25T10:51:03.432Z"
   },
   {
    "duration": 0,
    "start_time": "2022-04-25T10:51:03.446Z"
   },
   {
    "duration": 11,
    "start_time": "2022-04-25T10:51:17.344Z"
   },
   {
    "duration": 592,
    "start_time": "2022-04-25T10:51:43.210Z"
   },
   {
    "duration": 28,
    "start_time": "2022-04-25T10:51:43.805Z"
   },
   {
    "duration": 30,
    "start_time": "2022-04-25T10:51:43.835Z"
   },
   {
    "duration": 21,
    "start_time": "2022-04-25T10:51:43.867Z"
   },
   {
    "duration": 62,
    "start_time": "2022-04-25T10:51:43.890Z"
   },
   {
    "duration": 15,
    "start_time": "2022-04-25T10:51:43.954Z"
   },
   {
    "duration": 29,
    "start_time": "2022-04-25T10:51:43.970Z"
   },
   {
    "duration": 55,
    "start_time": "2022-04-25T10:51:44.023Z"
   },
   {
    "duration": 53,
    "start_time": "2022-04-25T10:51:44.080Z"
   },
   {
    "duration": 76,
    "start_time": "2022-04-25T10:51:44.139Z"
   },
   {
    "duration": 16,
    "start_time": "2022-04-25T10:51:44.224Z"
   },
   {
    "duration": 322,
    "start_time": "2022-04-25T10:51:44.242Z"
   },
   {
    "duration": 135,
    "start_time": "2022-04-25T10:51:44.566Z"
   },
   {
    "duration": 22,
    "start_time": "2022-04-25T10:51:44.704Z"
   },
   {
    "duration": 243,
    "start_time": "2022-04-25T10:51:44.729Z"
   },
   {
    "duration": 161,
    "start_time": "2022-04-25T12:35:59.776Z"
   },
   {
    "duration": 203,
    "start_time": "2022-04-25T12:36:25.787Z"
   },
   {
    "duration": 216,
    "start_time": "2022-04-25T12:37:30.245Z"
   },
   {
    "duration": 2511,
    "start_time": "2022-04-25T13:09:35.560Z"
   },
   {
    "duration": 153,
    "start_time": "2022-04-25T13:10:11.145Z"
   },
   {
    "duration": 144,
    "start_time": "2022-04-25T13:10:19.149Z"
   },
   {
    "duration": 217,
    "start_time": "2022-04-25T13:14:08.227Z"
   },
   {
    "duration": 208,
    "start_time": "2022-04-25T13:17:21.053Z"
   },
   {
    "duration": 159,
    "start_time": "2022-04-25T13:17:55.724Z"
   },
   {
    "duration": 144,
    "start_time": "2022-04-25T13:18:15.554Z"
   },
   {
    "duration": 164,
    "start_time": "2022-04-25T13:19:31.454Z"
   },
   {
    "duration": 142,
    "start_time": "2022-04-25T13:29:01.937Z"
   },
   {
    "duration": 160,
    "start_time": "2022-04-25T13:29:04.402Z"
   },
   {
    "duration": 213,
    "start_time": "2022-04-25T13:30:40.413Z"
   },
   {
    "duration": 223,
    "start_time": "2022-04-25T13:30:46.186Z"
   },
   {
    "duration": 233,
    "start_time": "2022-04-25T13:32:31.774Z"
   },
   {
    "duration": 3043,
    "start_time": "2022-04-25T13:33:27.561Z"
   },
   {
    "duration": 173,
    "start_time": "2022-04-25T13:33:39.602Z"
   },
   {
    "duration": 171,
    "start_time": "2022-04-25T13:35:28.325Z"
   },
   {
    "duration": 2824,
    "start_time": "2022-04-25T13:35:32.712Z"
   },
   {
    "duration": 142,
    "start_time": "2022-04-25T13:35:54.670Z"
   },
   {
    "duration": 144,
    "start_time": "2022-04-25T13:36:13.877Z"
   },
   {
    "duration": 146,
    "start_time": "2022-04-25T13:37:11.274Z"
   },
   {
    "duration": 68,
    "start_time": "2022-04-25T13:37:26.633Z"
   },
   {
    "duration": 52,
    "start_time": "2022-04-25T13:37:39.316Z"
   },
   {
    "duration": 591,
    "start_time": "2022-04-25T13:38:05.866Z"
   },
   {
    "duration": 43,
    "start_time": "2022-04-25T13:38:28.978Z"
   },
   {
    "duration": 69,
    "start_time": "2022-04-25T13:40:17.977Z"
   },
   {
    "duration": 73,
    "start_time": "2022-04-25T13:42:55.597Z"
   },
   {
    "duration": 72,
    "start_time": "2022-04-25T13:43:03.752Z"
   },
   {
    "duration": 69,
    "start_time": "2022-04-25T13:43:10.837Z"
   },
   {
    "duration": 72,
    "start_time": "2022-04-25T13:43:16.114Z"
   },
   {
    "duration": 69,
    "start_time": "2022-04-25T13:45:02.851Z"
   },
   {
    "duration": 63,
    "start_time": "2022-04-25T13:45:09.800Z"
   },
   {
    "duration": 2326,
    "start_time": "2022-04-25T13:45:22.303Z"
   },
   {
    "duration": 73,
    "start_time": "2022-04-25T13:45:39.497Z"
   },
   {
    "duration": 2128,
    "start_time": "2022-04-25T13:45:55.500Z"
   },
   {
    "duration": 2215,
    "start_time": "2022-04-25T13:46:06.763Z"
   },
   {
    "duration": 88,
    "start_time": "2022-04-25T13:50:06.426Z"
   },
   {
    "duration": 78,
    "start_time": "2022-04-25T13:50:28.864Z"
   },
   {
    "duration": 80,
    "start_time": "2022-04-25T13:50:45.055Z"
   },
   {
    "duration": 78,
    "start_time": "2022-04-25T13:51:15.696Z"
   },
   {
    "duration": 361,
    "start_time": "2022-04-25T13:51:27.610Z"
   },
   {
    "duration": 19,
    "start_time": "2022-04-25T13:51:27.973Z"
   },
   {
    "duration": 37,
    "start_time": "2022-04-25T13:51:27.994Z"
   },
   {
    "duration": 22,
    "start_time": "2022-04-25T13:51:28.033Z"
   },
   {
    "duration": 25,
    "start_time": "2022-04-25T13:51:28.058Z"
   },
   {
    "duration": 45,
    "start_time": "2022-04-25T13:51:28.085Z"
   },
   {
    "duration": 31,
    "start_time": "2022-04-25T13:51:28.132Z"
   },
   {
    "duration": 77,
    "start_time": "2022-04-25T13:51:28.165Z"
   },
   {
    "duration": 36,
    "start_time": "2022-04-25T13:51:28.244Z"
   },
   {
    "duration": 68,
    "start_time": "2022-04-25T13:51:28.282Z"
   },
   {
    "duration": 8,
    "start_time": "2022-04-25T13:51:28.352Z"
   },
   {
    "duration": 200,
    "start_time": "2022-04-25T13:51:28.362Z"
   },
   {
    "duration": 126,
    "start_time": "2022-04-25T13:51:28.564Z"
   },
   {
    "duration": 13,
    "start_time": "2022-04-25T13:51:28.694Z"
   },
   {
    "duration": 116,
    "start_time": "2022-04-25T13:51:28.709Z"
   },
   {
    "duration": 62,
    "start_time": "2022-04-25T13:53:04.343Z"
   },
   {
    "duration": 63,
    "start_time": "2022-04-25T13:53:25.585Z"
   },
   {
    "duration": 2203,
    "start_time": "2022-04-25T13:54:38.943Z"
   },
   {
    "duration": 59,
    "start_time": "2022-04-25T13:54:43.231Z"
   },
   {
    "duration": 2029,
    "start_time": "2022-04-25T13:55:14.229Z"
   },
   {
    "duration": 59,
    "start_time": "2022-04-25T13:55:25.674Z"
   },
   {
    "duration": 64,
    "start_time": "2022-04-25T13:55:34.504Z"
   },
   {
    "duration": 55,
    "start_time": "2022-04-25T13:55:57.584Z"
   },
   {
    "duration": 65,
    "start_time": "2022-04-25T13:56:54.987Z"
   },
   {
    "duration": 58,
    "start_time": "2022-04-25T13:57:11.460Z"
   },
   {
    "duration": 59,
    "start_time": "2022-04-25T13:57:22.928Z"
   },
   {
    "duration": 93,
    "start_time": "2022-04-25T14:00:06.737Z"
   },
   {
    "duration": 84,
    "start_time": "2022-04-25T14:01:26.113Z"
   },
   {
    "duration": 82,
    "start_time": "2022-04-25T14:02:17.208Z"
   },
   {
    "duration": 105,
    "start_time": "2022-04-25T14:02:50.362Z"
   },
   {
    "duration": 82,
    "start_time": "2022-04-25T14:03:02.655Z"
   },
   {
    "duration": 58,
    "start_time": "2022-04-25T14:03:30.045Z"
   },
   {
    "duration": 66,
    "start_time": "2022-04-25T14:03:34.067Z"
   },
   {
    "duration": 92,
    "start_time": "2022-04-25T14:06:43.807Z"
   },
   {
    "duration": 93,
    "start_time": "2022-04-25T14:06:51.186Z"
   },
   {
    "duration": 98,
    "start_time": "2022-04-25T14:07:31.198Z"
   },
   {
    "duration": 89,
    "start_time": "2022-04-25T14:07:33.915Z"
   },
   {
    "duration": 88,
    "start_time": "2022-04-25T14:07:44.361Z"
   },
   {
    "duration": 86,
    "start_time": "2022-04-25T14:08:11.843Z"
   },
   {
    "duration": 88,
    "start_time": "2022-04-25T14:08:33.399Z"
   },
   {
    "duration": 158,
    "start_time": "2022-04-25T14:10:52.306Z"
   },
   {
    "duration": 164,
    "start_time": "2022-04-25T14:11:08.744Z"
   },
   {
    "duration": 174,
    "start_time": "2022-04-25T14:11:31.157Z"
   },
   {
    "duration": 166,
    "start_time": "2022-04-25T14:12:07.695Z"
   },
   {
    "duration": 172,
    "start_time": "2022-04-25T14:12:31.668Z"
   },
   {
    "duration": 224,
    "start_time": "2022-04-25T14:13:07.678Z"
   },
   {
    "duration": 227,
    "start_time": "2022-04-25T14:13:20.271Z"
   },
   {
    "duration": 233,
    "start_time": "2022-04-25T14:13:33.854Z"
   },
   {
    "duration": 750,
    "start_time": "2022-04-25T14:13:55.387Z"
   },
   {
    "duration": 726,
    "start_time": "2022-04-25T14:13:58.553Z"
   },
   {
    "duration": 230,
    "start_time": "2022-04-25T14:14:20.996Z"
   },
   {
    "duration": 13,
    "start_time": "2022-04-25T14:23:04.013Z"
   },
   {
    "duration": 16,
    "start_time": "2022-04-25T14:23:09.490Z"
   },
   {
    "duration": 557,
    "start_time": "2022-04-25T14:23:20.659Z"
   },
   {
    "duration": 29,
    "start_time": "2022-04-25T14:23:21.222Z"
   },
   {
    "duration": 51,
    "start_time": "2022-04-25T14:23:21.253Z"
   },
   {
    "duration": 35,
    "start_time": "2022-04-25T14:23:21.325Z"
   },
   {
    "duration": 67,
    "start_time": "2022-04-25T14:23:21.362Z"
   },
   {
    "duration": 28,
    "start_time": "2022-04-25T14:23:21.432Z"
   },
   {
    "duration": 73,
    "start_time": "2022-04-25T14:23:21.463Z"
   },
   {
    "duration": 115,
    "start_time": "2022-04-25T14:23:21.539Z"
   },
   {
    "duration": 78,
    "start_time": "2022-04-25T14:23:21.656Z"
   },
   {
    "duration": 64,
    "start_time": "2022-04-25T14:23:21.739Z"
   },
   {
    "duration": 25,
    "start_time": "2022-04-25T14:23:21.805Z"
   },
   {
    "duration": 283,
    "start_time": "2022-04-25T14:23:21.833Z"
   },
   {
    "duration": 87,
    "start_time": "2022-04-25T14:23:22.117Z"
   },
   {
    "duration": 28,
    "start_time": "2022-04-25T14:23:22.206Z"
   },
   {
    "duration": 156,
    "start_time": "2022-04-25T14:23:22.236Z"
   },
   {
    "duration": 15,
    "start_time": "2022-04-25T14:23:32.797Z"
   },
   {
    "duration": 364,
    "start_time": "2022-04-25T14:25:15.336Z"
   },
   {
    "duration": 17,
    "start_time": "2022-04-25T14:25:15.702Z"
   },
   {
    "duration": 28,
    "start_time": "2022-04-25T14:25:15.723Z"
   },
   {
    "duration": 23,
    "start_time": "2022-04-25T14:25:15.753Z"
   },
   {
    "duration": 50,
    "start_time": "2022-04-25T14:25:15.779Z"
   },
   {
    "duration": 16,
    "start_time": "2022-04-25T14:25:15.830Z"
   },
   {
    "duration": 31,
    "start_time": "2022-04-25T14:25:15.848Z"
   },
   {
    "duration": 75,
    "start_time": "2022-04-25T14:25:15.881Z"
   },
   {
    "duration": 35,
    "start_time": "2022-04-25T14:25:15.958Z"
   },
   {
    "duration": 63,
    "start_time": "2022-04-25T14:25:15.995Z"
   },
   {
    "duration": 8,
    "start_time": "2022-04-25T14:25:16.060Z"
   },
   {
    "duration": 206,
    "start_time": "2022-04-25T14:25:16.070Z"
   },
   {
    "duration": 74,
    "start_time": "2022-04-25T14:25:16.278Z"
   },
   {
    "duration": 10,
    "start_time": "2022-04-25T14:25:16.354Z"
   },
   {
    "duration": 145,
    "start_time": "2022-04-25T14:25:16.366Z"
   },
   {
    "duration": 142,
    "start_time": "2022-04-25T14:26:05.481Z"
   },
   {
    "duration": 133,
    "start_time": "2022-04-25T14:26:19.185Z"
   },
   {
    "duration": 217,
    "start_time": "2022-04-25T14:30:33.167Z"
   },
   {
    "duration": 218,
    "start_time": "2022-04-25T14:31:19.865Z"
   },
   {
    "duration": 215,
    "start_time": "2022-04-25T14:32:59.190Z"
   },
   {
    "duration": 160,
    "start_time": "2022-04-25T14:33:12.007Z"
   },
   {
    "duration": 222,
    "start_time": "2022-04-25T14:33:36.549Z"
   },
   {
    "duration": 236,
    "start_time": "2022-04-25T14:39:04.592Z"
   },
   {
    "duration": 227,
    "start_time": "2022-04-25T14:39:14.286Z"
   },
   {
    "duration": 232,
    "start_time": "2022-04-25T14:40:05.576Z"
   },
   {
    "duration": 150,
    "start_time": "2022-04-25T14:55:27.063Z"
   },
   {
    "duration": 168,
    "start_time": "2022-04-25T15:02:40.317Z"
   },
   {
    "duration": 2523,
    "start_time": "2022-04-25T15:03:42.152Z"
   },
   {
    "duration": 218,
    "start_time": "2022-04-25T15:03:59.668Z"
   },
   {
    "duration": 149,
    "start_time": "2022-04-25T15:04:17.468Z"
   },
   {
    "duration": 157,
    "start_time": "2022-04-25T15:05:34.258Z"
   },
   {
    "duration": 186,
    "start_time": "2022-04-25T15:05:51.233Z"
   },
   {
    "duration": 200,
    "start_time": "2022-04-25T15:07:02.634Z"
   },
   {
    "duration": 185,
    "start_time": "2022-04-25T15:07:30.149Z"
   },
   {
    "duration": 181,
    "start_time": "2022-04-25T15:08:07.172Z"
   },
   {
    "duration": 177,
    "start_time": "2022-04-25T15:08:15.937Z"
   },
   {
    "duration": 237,
    "start_time": "2022-04-25T15:16:44.191Z"
   },
   {
    "duration": 234,
    "start_time": "2022-04-25T15:17:10.375Z"
   },
   {
    "duration": 152,
    "start_time": "2022-04-25T15:17:37.190Z"
   },
   {
    "duration": 146,
    "start_time": "2022-04-25T15:17:56.090Z"
   },
   {
    "duration": 158,
    "start_time": "2022-04-25T15:18:01.258Z"
   },
   {
    "duration": 144,
    "start_time": "2022-04-25T15:18:39.561Z"
   },
   {
    "duration": 145,
    "start_time": "2022-04-25T15:22:08.332Z"
   },
   {
    "duration": 169,
    "start_time": "2022-04-25T15:22:12.042Z"
   },
   {
    "duration": 151,
    "start_time": "2022-04-25T15:23:06.055Z"
   },
   {
    "duration": 157,
    "start_time": "2022-04-25T15:23:16.305Z"
   },
   {
    "duration": 233,
    "start_time": "2022-04-25T15:23:24.160Z"
   },
   {
    "duration": 157,
    "start_time": "2022-04-25T15:24:24.353Z"
   },
   {
    "duration": 165,
    "start_time": "2022-04-25T15:24:49.199Z"
   },
   {
    "duration": 410,
    "start_time": "2022-04-25T15:30:34.531Z"
   },
   {
    "duration": 147,
    "start_time": "2022-04-25T15:35:57.209Z"
   },
   {
    "duration": 250,
    "start_time": "2022-04-25T15:36:09.990Z"
   },
   {
    "duration": 277,
    "start_time": "2022-04-25T15:36:36.757Z"
   },
   {
    "duration": 49,
    "start_time": "2022-04-26T12:20:11.968Z"
   },
   {
    "duration": 814,
    "start_time": "2022-04-26T12:20:15.415Z"
   },
   {
    "duration": 28,
    "start_time": "2022-04-26T12:20:16.232Z"
   },
   {
    "duration": 33,
    "start_time": "2022-04-26T12:20:16.262Z"
   },
   {
    "duration": 25,
    "start_time": "2022-04-26T12:20:16.297Z"
   },
   {
    "duration": 55,
    "start_time": "2022-04-26T12:20:16.324Z"
   },
   {
    "duration": 17,
    "start_time": "2022-04-26T12:20:16.380Z"
   },
   {
    "duration": 66,
    "start_time": "2022-04-26T12:20:16.398Z"
   },
   {
    "duration": 101,
    "start_time": "2022-04-26T12:20:16.466Z"
   },
   {
    "duration": 53,
    "start_time": "2022-04-26T12:20:16.570Z"
   },
   {
    "duration": 64,
    "start_time": "2022-04-26T12:20:16.625Z"
   },
   {
    "duration": 13,
    "start_time": "2022-04-26T12:20:16.690Z"
   },
   {
    "duration": 238,
    "start_time": "2022-04-26T12:20:16.704Z"
   },
   {
    "duration": 83,
    "start_time": "2022-04-26T12:20:16.943Z"
   },
   {
    "duration": 32,
    "start_time": "2022-04-26T12:20:17.029Z"
   },
   {
    "duration": 306,
    "start_time": "2022-04-26T12:20:17.063Z"
   },
   {
    "duration": 12,
    "start_time": "2022-04-26T12:20:17.371Z"
   },
   {
    "duration": 12,
    "start_time": "2022-04-26T12:22:55.910Z"
   },
   {
    "duration": 28,
    "start_time": "2022-04-26T12:25:02.764Z"
   },
   {
    "duration": 5,
    "start_time": "2022-04-26T12:25:13.436Z"
   },
   {
    "duration": 26,
    "start_time": "2022-04-26T12:25:38.129Z"
   },
   {
    "duration": 20,
    "start_time": "2022-04-26T12:27:40.301Z"
   },
   {
    "duration": 390,
    "start_time": "2022-04-26T12:27:44.283Z"
   },
   {
    "duration": 17,
    "start_time": "2022-04-26T12:27:44.675Z"
   },
   {
    "duration": 29,
    "start_time": "2022-04-26T12:27:44.694Z"
   },
   {
    "duration": 45,
    "start_time": "2022-04-26T12:27:44.725Z"
   },
   {
    "duration": 29,
    "start_time": "2022-04-26T12:27:44.772Z"
   },
   {
    "duration": 15,
    "start_time": "2022-04-26T12:27:44.803Z"
   },
   {
    "duration": 57,
    "start_time": "2022-04-26T12:27:44.820Z"
   },
   {
    "duration": 53,
    "start_time": "2022-04-26T12:27:44.879Z"
   },
   {
    "duration": 40,
    "start_time": "2022-04-26T12:27:44.955Z"
   },
   {
    "duration": 70,
    "start_time": "2022-04-26T12:27:44.996Z"
   },
   {
    "duration": 8,
    "start_time": "2022-04-26T12:27:45.069Z"
   },
   {
    "duration": 201,
    "start_time": "2022-04-26T12:27:45.079Z"
   },
   {
    "duration": 88,
    "start_time": "2022-04-26T12:27:45.282Z"
   },
   {
    "duration": 10,
    "start_time": "2022-04-26T12:27:45.373Z"
   },
   {
    "duration": 290,
    "start_time": "2022-04-26T12:27:45.384Z"
   },
   {
    "duration": 23,
    "start_time": "2022-04-26T12:27:45.675Z"
   },
   {
    "duration": 43,
    "start_time": "2022-04-26T12:29:43.521Z"
   },
   {
    "duration": 651,
    "start_time": "2022-04-26T12:32:54.071Z"
   },
   {
    "duration": 207,
    "start_time": "2022-04-26T12:33:19.977Z"
   },
   {
    "duration": 681,
    "start_time": "2022-04-26T12:33:48.117Z"
   },
   {
    "duration": 1245,
    "start_time": "2022-04-26T12:39:21.324Z"
   },
   {
    "duration": 2182,
    "start_time": "2022-04-26T12:40:00.962Z"
   },
   {
    "duration": 1208,
    "start_time": "2022-04-26T12:40:15.326Z"
   },
   {
    "duration": 32,
    "start_time": "2022-04-26T13:23:40.013Z"
   },
   {
    "duration": 398,
    "start_time": "2022-04-26T13:23:49.293Z"
   },
   {
    "duration": 19,
    "start_time": "2022-04-26T13:23:49.694Z"
   },
   {
    "duration": 48,
    "start_time": "2022-04-26T13:23:49.715Z"
   },
   {
    "duration": 24,
    "start_time": "2022-04-26T13:23:49.765Z"
   },
   {
    "duration": 27,
    "start_time": "2022-04-26T13:23:49.792Z"
   },
   {
    "duration": 41,
    "start_time": "2022-04-26T13:23:49.821Z"
   },
   {
    "duration": 35,
    "start_time": "2022-04-26T13:23:49.863Z"
   },
   {
    "duration": 100,
    "start_time": "2022-04-26T13:23:49.900Z"
   },
   {
    "duration": 71,
    "start_time": "2022-04-26T13:23:50.003Z"
   },
   {
    "duration": 50,
    "start_time": "2022-04-26T13:23:50.078Z"
   },
   {
    "duration": 26,
    "start_time": "2022-04-26T13:23:50.130Z"
   },
   {
    "duration": 197,
    "start_time": "2022-04-26T13:23:50.159Z"
   },
   {
    "duration": 80,
    "start_time": "2022-04-26T13:23:50.358Z"
   },
   {
    "duration": 13,
    "start_time": "2022-04-26T13:23:50.456Z"
   },
   {
    "duration": 298,
    "start_time": "2022-04-26T13:23:50.471Z"
   },
   {
    "duration": 24,
    "start_time": "2022-04-26T13:23:50.771Z"
   },
   {
    "duration": 66,
    "start_time": "2022-04-26T13:23:50.797Z"
   },
   {
    "duration": 1619,
    "start_time": "2022-04-26T13:23:50.866Z"
   },
   {
    "duration": 1527,
    "start_time": "2022-04-26T13:24:14.597Z"
   },
   {
    "duration": 583,
    "start_time": "2022-04-26T13:25:30.271Z"
   },
   {
    "duration": 631,
    "start_time": "2022-04-26T13:25:32.257Z"
   },
   {
    "duration": 388,
    "start_time": "2022-04-26T13:26:23.110Z"
   },
   {
    "duration": 21,
    "start_time": "2022-04-26T13:26:23.501Z"
   },
   {
    "duration": 53,
    "start_time": "2022-04-26T13:26:23.524Z"
   },
   {
    "duration": 38,
    "start_time": "2022-04-26T13:26:23.579Z"
   },
   {
    "duration": 67,
    "start_time": "2022-04-26T13:26:23.619Z"
   },
   {
    "duration": 23,
    "start_time": "2022-04-26T13:26:23.688Z"
   },
   {
    "duration": 66,
    "start_time": "2022-04-26T13:26:23.713Z"
   },
   {
    "duration": 100,
    "start_time": "2022-04-26T13:26:23.781Z"
   },
   {
    "duration": 72,
    "start_time": "2022-04-26T13:26:23.883Z"
   },
   {
    "duration": 70,
    "start_time": "2022-04-26T13:26:23.958Z"
   },
   {
    "duration": 29,
    "start_time": "2022-04-26T13:26:24.030Z"
   },
   {
    "duration": 272,
    "start_time": "2022-04-26T13:26:24.061Z"
   },
   {
    "duration": 145,
    "start_time": "2022-04-26T13:26:24.335Z"
   },
   {
    "duration": 12,
    "start_time": "2022-04-26T13:26:24.482Z"
   },
   {
    "duration": 440,
    "start_time": "2022-04-26T13:26:24.496Z"
   },
   {
    "duration": 36,
    "start_time": "2022-04-26T13:26:24.939Z"
   },
   {
    "duration": 939,
    "start_time": "2022-04-26T13:26:24.976Z"
   },
   {
    "duration": 50,
    "start_time": "2022-04-26T13:26:25.917Z"
   },
   {
    "duration": 810,
    "start_time": "2022-04-26T13:26:25.968Z"
   },
   {
    "duration": 538,
    "start_time": "2022-04-26T13:31:19.520Z"
   },
   {
    "duration": 24,
    "start_time": "2022-04-26T13:31:20.061Z"
   },
   {
    "duration": 68,
    "start_time": "2022-04-26T13:31:20.087Z"
   },
   {
    "duration": 34,
    "start_time": "2022-04-26T13:31:20.157Z"
   },
   {
    "duration": 31,
    "start_time": "2022-04-26T13:31:20.193Z"
   },
   {
    "duration": 40,
    "start_time": "2022-04-26T13:31:20.226Z"
   },
   {
    "duration": 39,
    "start_time": "2022-04-26T13:31:20.270Z"
   },
   {
    "duration": 80,
    "start_time": "2022-04-26T13:31:20.310Z"
   },
   {
    "duration": 43,
    "start_time": "2022-04-26T13:31:20.392Z"
   },
   {
    "duration": 54,
    "start_time": "2022-04-26T13:31:20.456Z"
   },
   {
    "duration": 11,
    "start_time": "2022-04-26T13:31:20.513Z"
   },
   {
    "duration": 291,
    "start_time": "2022-04-26T13:31:20.526Z"
   },
   {
    "duration": 138,
    "start_time": "2022-04-26T13:31:20.820Z"
   },
   {
    "duration": 17,
    "start_time": "2022-04-26T13:31:20.960Z"
   },
   {
    "duration": 432,
    "start_time": "2022-04-26T13:31:20.980Z"
   },
   {
    "duration": 53,
    "start_time": "2022-04-26T13:31:21.415Z"
   },
   {
    "duration": 988,
    "start_time": "2022-04-26T13:31:21.470Z"
   },
   {
    "duration": 30,
    "start_time": "2022-04-26T13:31:22.461Z"
   },
   {
    "duration": 957,
    "start_time": "2022-04-26T13:31:22.493Z"
   },
   {
    "duration": 6,
    "start_time": "2022-04-26T16:02:05.126Z"
   },
   {
    "duration": 12,
    "start_time": "2022-04-26T16:02:59.453Z"
   },
   {
    "duration": 9,
    "start_time": "2022-04-26T16:03:19.725Z"
   },
   {
    "duration": 55,
    "start_time": "2022-04-26T16:10:50.123Z"
   },
   {
    "duration": 37,
    "start_time": "2022-04-26T16:10:58.046Z"
   },
   {
    "duration": 0,
    "start_time": "2022-04-26T16:10:58.087Z"
   },
   {
    "duration": 0,
    "start_time": "2022-04-26T16:10:58.088Z"
   },
   {
    "duration": 0,
    "start_time": "2022-04-26T16:10:58.090Z"
   },
   {
    "duration": 0,
    "start_time": "2022-04-26T16:10:58.091Z"
   },
   {
    "duration": 0,
    "start_time": "2022-04-26T16:10:58.092Z"
   },
   {
    "duration": 0,
    "start_time": "2022-04-26T16:10:58.094Z"
   },
   {
    "duration": 0,
    "start_time": "2022-04-26T16:10:58.095Z"
   },
   {
    "duration": 0,
    "start_time": "2022-04-26T16:10:58.097Z"
   },
   {
    "duration": 0,
    "start_time": "2022-04-26T16:10:58.098Z"
   },
   {
    "duration": 0,
    "start_time": "2022-04-26T16:10:58.100Z"
   },
   {
    "duration": 0,
    "start_time": "2022-04-26T16:10:58.101Z"
   },
   {
    "duration": 0,
    "start_time": "2022-04-26T16:10:58.102Z"
   },
   {
    "duration": 0,
    "start_time": "2022-04-26T16:10:58.103Z"
   },
   {
    "duration": 0,
    "start_time": "2022-04-26T16:10:58.105Z"
   },
   {
    "duration": 0,
    "start_time": "2022-04-26T16:10:58.106Z"
   },
   {
    "duration": 0,
    "start_time": "2022-04-26T16:10:58.107Z"
   },
   {
    "duration": 0,
    "start_time": "2022-04-26T16:10:58.108Z"
   },
   {
    "duration": 0,
    "start_time": "2022-04-26T16:10:58.109Z"
   },
   {
    "duration": 0,
    "start_time": "2022-04-26T16:10:58.110Z"
   },
   {
    "duration": 0,
    "start_time": "2022-04-26T16:10:58.155Z"
   },
   {
    "duration": 10,
    "start_time": "2022-04-26T16:11:14.552Z"
   },
   {
    "duration": 0,
    "start_time": "2022-04-26T16:11:14.564Z"
   },
   {
    "duration": 0,
    "start_time": "2022-04-26T16:11:14.565Z"
   },
   {
    "duration": 0,
    "start_time": "2022-04-26T16:11:14.566Z"
   },
   {
    "duration": 0,
    "start_time": "2022-04-26T16:11:14.567Z"
   },
   {
    "duration": 0,
    "start_time": "2022-04-26T16:11:14.568Z"
   },
   {
    "duration": 0,
    "start_time": "2022-04-26T16:11:14.570Z"
   },
   {
    "duration": 0,
    "start_time": "2022-04-26T16:11:14.570Z"
   },
   {
    "duration": 0,
    "start_time": "2022-04-26T16:11:14.571Z"
   },
   {
    "duration": 0,
    "start_time": "2022-04-26T16:11:14.573Z"
   },
   {
    "duration": 0,
    "start_time": "2022-04-26T16:11:14.574Z"
   },
   {
    "duration": 0,
    "start_time": "2022-04-26T16:11:14.575Z"
   },
   {
    "duration": 0,
    "start_time": "2022-04-26T16:11:14.576Z"
   },
   {
    "duration": 0,
    "start_time": "2022-04-26T16:11:14.577Z"
   },
   {
    "duration": 334,
    "start_time": "2022-04-26T16:11:14.580Z"
   },
   {
    "duration": 43,
    "start_time": "2022-04-26T16:11:14.916Z"
   },
   {
    "duration": 1098,
    "start_time": "2022-04-26T16:11:14.960Z"
   },
   {
    "duration": 25,
    "start_time": "2022-04-26T16:11:16.059Z"
   },
   {
    "duration": 881,
    "start_time": "2022-04-26T16:11:16.086Z"
   },
   {
    "duration": 10,
    "start_time": "2022-04-26T16:11:16.970Z"
   },
   {
    "duration": 9,
    "start_time": "2022-04-26T16:11:16.982Z"
   },
   {
    "duration": 1446,
    "start_time": "2022-04-26T16:11:41.341Z"
   },
   {
    "duration": 19,
    "start_time": "2022-04-26T16:11:42.789Z"
   },
   {
    "duration": 31,
    "start_time": "2022-04-26T16:11:42.810Z"
   },
   {
    "duration": 31,
    "start_time": "2022-04-26T16:11:42.842Z"
   },
   {
    "duration": 28,
    "start_time": "2022-04-26T16:11:42.876Z"
   },
   {
    "duration": 15,
    "start_time": "2022-04-26T16:11:42.906Z"
   },
   {
    "duration": 35,
    "start_time": "2022-04-26T16:11:42.954Z"
   },
   {
    "duration": 83,
    "start_time": "2022-04-26T16:11:42.991Z"
   },
   {
    "duration": 40,
    "start_time": "2022-04-26T16:11:43.076Z"
   },
   {
    "duration": 73,
    "start_time": "2022-04-26T16:11:43.118Z"
   },
   {
    "duration": 9,
    "start_time": "2022-04-26T16:11:43.193Z"
   },
   {
    "duration": 229,
    "start_time": "2022-04-26T16:11:43.204Z"
   },
   {
    "duration": 121,
    "start_time": "2022-04-26T16:11:43.435Z"
   },
   {
    "duration": 11,
    "start_time": "2022-04-26T16:11:43.559Z"
   },
   {
    "duration": 283,
    "start_time": "2022-04-26T16:11:43.571Z"
   },
   {
    "duration": 20,
    "start_time": "2022-04-26T16:11:43.856Z"
   },
   {
    "duration": 623,
    "start_time": "2022-04-26T16:11:43.877Z"
   },
   {
    "duration": 25,
    "start_time": "2022-04-26T16:11:44.501Z"
   },
   {
    "duration": 602,
    "start_time": "2022-04-26T16:11:44.554Z"
   },
   {
    "duration": 9,
    "start_time": "2022-04-26T16:11:45.158Z"
   },
   {
    "duration": 9,
    "start_time": "2022-04-26T16:11:45.168Z"
   },
   {
    "duration": 9,
    "start_time": "2022-04-26T16:22:23.553Z"
   },
   {
    "duration": 8,
    "start_time": "2022-04-26T16:22:43.178Z"
   },
   {
    "duration": 10,
    "start_time": "2022-04-26T16:22:46.872Z"
   },
   {
    "duration": 7,
    "start_time": "2022-04-26T16:56:30.509Z"
   },
   {
    "duration": 7,
    "start_time": "2022-04-26T16:56:33.737Z"
   },
   {
    "duration": 8,
    "start_time": "2022-04-26T16:57:39.139Z"
   },
   {
    "duration": 25,
    "start_time": "2022-04-26T17:12:47.388Z"
   },
   {
    "duration": 33,
    "start_time": "2022-04-26T17:13:27.932Z"
   },
   {
    "duration": 14,
    "start_time": "2022-04-26T17:14:15.805Z"
   },
   {
    "duration": 7,
    "start_time": "2022-04-26T17:16:46.480Z"
   },
   {
    "duration": 6,
    "start_time": "2022-04-26T17:17:10.321Z"
   },
   {
    "duration": 8,
    "start_time": "2022-04-26T17:17:48.487Z"
   },
   {
    "duration": 9,
    "start_time": "2022-04-26T17:17:55.556Z"
   },
   {
    "duration": 38,
    "start_time": "2022-04-26T17:28:50.054Z"
   },
   {
    "duration": 9,
    "start_time": "2022-04-26T17:29:16.064Z"
   },
   {
    "duration": 8,
    "start_time": "2022-04-26T17:29:25.414Z"
   },
   {
    "duration": 1313,
    "start_time": "2022-05-01T22:28:35.017Z"
   },
   {
    "duration": 27,
    "start_time": "2022-05-01T22:28:36.333Z"
   },
   {
    "duration": 33,
    "start_time": "2022-05-01T22:28:36.362Z"
   },
   {
    "duration": 53,
    "start_time": "2022-05-01T22:28:36.397Z"
   },
   {
    "duration": 29,
    "start_time": "2022-05-01T22:28:36.451Z"
   },
   {
    "duration": 16,
    "start_time": "2022-05-01T22:28:36.482Z"
   },
   {
    "duration": 65,
    "start_time": "2022-05-01T22:28:36.500Z"
   },
   {
    "duration": 81,
    "start_time": "2022-05-01T22:28:36.566Z"
   },
   {
    "duration": 40,
    "start_time": "2022-05-01T22:28:36.649Z"
   },
   {
    "duration": 72,
    "start_time": "2022-05-01T22:28:36.692Z"
   },
   {
    "duration": 10,
    "start_time": "2022-05-01T22:28:36.766Z"
   },
   {
    "duration": 230,
    "start_time": "2022-05-01T22:28:36.778Z"
   },
   {
    "duration": 91,
    "start_time": "2022-05-01T22:28:37.010Z"
   },
   {
    "duration": 12,
    "start_time": "2022-05-01T22:28:37.103Z"
   },
   {
    "duration": 349,
    "start_time": "2022-05-01T22:28:37.117Z"
   },
   {
    "duration": 25,
    "start_time": "2022-05-01T22:28:37.468Z"
   },
   {
    "duration": 1071,
    "start_time": "2022-05-01T22:28:37.495Z"
   },
   {
    "duration": 25,
    "start_time": "2022-05-01T22:28:38.568Z"
   },
   {
    "duration": 743,
    "start_time": "2022-05-01T22:28:38.595Z"
   },
   {
    "duration": 11,
    "start_time": "2022-05-01T22:28:39.340Z"
   },
   {
    "duration": 9,
    "start_time": "2022-05-01T22:28:39.353Z"
   },
   {
    "duration": 17,
    "start_time": "2022-05-01T22:28:39.364Z"
   },
   {
    "duration": 54,
    "start_time": "2022-05-01T22:28:39.384Z"
   },
   {
    "duration": 15,
    "start_time": "2022-05-01T22:29:46.280Z"
   },
   {
    "duration": 171,
    "start_time": "2022-05-01T22:29:58.463Z"
   },
   {
    "duration": 17,
    "start_time": "2022-05-01T22:30:02.506Z"
   },
   {
    "duration": 350,
    "start_time": "2022-05-01T22:31:38.165Z"
   },
   {
    "duration": 310,
    "start_time": "2022-05-01T22:31:57.836Z"
   },
   {
    "duration": 17,
    "start_time": "2022-05-01T22:39:14.891Z"
   },
   {
    "duration": 328,
    "start_time": "2022-05-01T22:43:23.239Z"
   },
   {
    "duration": 425,
    "start_time": "2022-05-01T22:43:39.705Z"
   },
   {
    "duration": 82,
    "start_time": "2022-05-02T11:37:57.403Z"
   },
   {
    "duration": 1580,
    "start_time": "2022-05-02T11:38:04.803Z"
   },
   {
    "duration": 37,
    "start_time": "2022-05-02T11:38:06.386Z"
   },
   {
    "duration": 59,
    "start_time": "2022-05-02T11:38:06.425Z"
   },
   {
    "duration": 69,
    "start_time": "2022-05-02T11:38:06.487Z"
   },
   {
    "duration": 38,
    "start_time": "2022-05-02T11:38:06.560Z"
   },
   {
    "duration": 55,
    "start_time": "2022-05-02T11:38:06.601Z"
   },
   {
    "duration": 56,
    "start_time": "2022-05-02T11:38:06.659Z"
   },
   {
    "duration": 102,
    "start_time": "2022-05-02T11:38:06.717Z"
   },
   {
    "duration": 101,
    "start_time": "2022-05-02T11:38:06.823Z"
   },
   {
    "duration": 126,
    "start_time": "2022-05-02T11:38:06.927Z"
   },
   {
    "duration": 15,
    "start_time": "2022-05-02T11:38:07.056Z"
   },
   {
    "duration": 371,
    "start_time": "2022-05-02T11:38:07.074Z"
   },
   {
    "duration": 130,
    "start_time": "2022-05-02T11:38:07.447Z"
   },
   {
    "duration": 25,
    "start_time": "2022-05-02T11:38:07.583Z"
   },
   {
    "duration": 497,
    "start_time": "2022-05-02T11:38:07.611Z"
   },
   {
    "duration": 56,
    "start_time": "2022-05-02T11:38:08.110Z"
   },
   {
    "duration": 1811,
    "start_time": "2022-05-02T11:38:08.169Z"
   },
   {
    "duration": 38,
    "start_time": "2022-05-02T11:38:09.983Z"
   },
   {
    "duration": 1299,
    "start_time": "2022-05-02T11:38:10.023Z"
   },
   {
    "duration": 29,
    "start_time": "2022-05-02T11:38:11.324Z"
   },
   {
    "duration": 12,
    "start_time": "2022-05-02T11:38:11.356Z"
   },
   {
    "duration": 24,
    "start_time": "2022-05-02T11:38:11.370Z"
   },
   {
    "duration": 11,
    "start_time": "2022-05-02T11:38:11.396Z"
   },
   {
    "duration": 544,
    "start_time": "2022-05-02T11:39:52.349Z"
   },
   {
    "duration": 467,
    "start_time": "2022-05-02T11:40:06.906Z"
   },
   {
    "duration": 538,
    "start_time": "2022-05-02T11:40:21.435Z"
   },
   {
    "duration": 26,
    "start_time": "2022-05-02T11:40:21.976Z"
   },
   {
    "duration": 71,
    "start_time": "2022-05-02T11:40:22.004Z"
   },
   {
    "duration": 50,
    "start_time": "2022-05-02T11:40:22.078Z"
   },
   {
    "duration": 74,
    "start_time": "2022-05-02T11:40:22.132Z"
   },
   {
    "duration": 55,
    "start_time": "2022-05-02T11:40:22.209Z"
   },
   {
    "duration": 48,
    "start_time": "2022-05-02T11:40:22.267Z"
   },
   {
    "duration": 109,
    "start_time": "2022-05-02T11:40:22.317Z"
   },
   {
    "duration": 75,
    "start_time": "2022-05-02T11:40:22.429Z"
   },
   {
    "duration": 82,
    "start_time": "2022-05-02T11:40:22.506Z"
   },
   {
    "duration": 11,
    "start_time": "2022-05-02T11:40:22.590Z"
   },
   {
    "duration": 339,
    "start_time": "2022-05-02T11:40:22.604Z"
   },
   {
    "duration": 202,
    "start_time": "2022-05-02T11:40:22.952Z"
   },
   {
    "duration": 22,
    "start_time": "2022-05-02T11:40:23.160Z"
   },
   {
    "duration": 528,
    "start_time": "2022-05-02T11:40:23.185Z"
   },
   {
    "duration": 0,
    "start_time": "2022-05-02T11:40:23.716Z"
   },
   {
    "duration": 0,
    "start_time": "2022-05-02T11:40:23.718Z"
   },
   {
    "duration": 0,
    "start_time": "2022-05-02T11:40:23.720Z"
   },
   {
    "duration": 0,
    "start_time": "2022-05-02T11:40:23.722Z"
   },
   {
    "duration": 0,
    "start_time": "2022-05-02T11:40:23.724Z"
   },
   {
    "duration": 0,
    "start_time": "2022-05-02T11:40:23.726Z"
   },
   {
    "duration": 1,
    "start_time": "2022-05-02T11:40:23.751Z"
   },
   {
    "duration": 0,
    "start_time": "2022-05-02T11:40:23.754Z"
   },
   {
    "duration": 466,
    "start_time": "2022-05-02T11:41:24.289Z"
   },
   {
    "duration": 628,
    "start_time": "2022-05-02T11:44:40.369Z"
   },
   {
    "duration": 531,
    "start_time": "2022-05-02T11:46:46.946Z"
   },
   {
    "duration": 551,
    "start_time": "2022-05-02T12:28:10.520Z"
   },
   {
    "duration": 562,
    "start_time": "2022-05-02T12:30:00.644Z"
   },
   {
    "duration": 484,
    "start_time": "2022-05-02T12:30:50.236Z"
   },
   {
    "duration": 47,
    "start_time": "2022-05-02T12:30:50.724Z"
   },
   {
    "duration": 53,
    "start_time": "2022-05-02T12:30:50.774Z"
   },
   {
    "duration": 53,
    "start_time": "2022-05-02T12:30:50.830Z"
   },
   {
    "duration": 79,
    "start_time": "2022-05-02T12:30:50.887Z"
   },
   {
    "duration": 127,
    "start_time": "2022-05-02T12:30:50.969Z"
   },
   {
    "duration": 62,
    "start_time": "2022-05-02T12:30:51.100Z"
   },
   {
    "duration": 134,
    "start_time": "2022-05-02T12:30:51.164Z"
   },
   {
    "duration": 75,
    "start_time": "2022-05-02T12:30:51.300Z"
   },
   {
    "duration": 86,
    "start_time": "2022-05-02T12:30:51.378Z"
   },
   {
    "duration": 10,
    "start_time": "2022-05-02T12:30:51.467Z"
   },
   {
    "duration": 300,
    "start_time": "2022-05-02T12:30:51.480Z"
   },
   {
    "duration": 114,
    "start_time": "2022-05-02T12:30:51.783Z"
   },
   {
    "duration": 19,
    "start_time": "2022-05-02T12:30:51.902Z"
   },
   {
    "duration": 1091,
    "start_time": "2022-05-02T12:30:51.924Z"
   },
   {
    "duration": 57,
    "start_time": "2022-05-02T12:30:53.019Z"
   },
   {
    "duration": 1342,
    "start_time": "2022-05-02T12:30:53.081Z"
   },
   {
    "duration": 59,
    "start_time": "2022-05-02T12:30:54.428Z"
   },
   {
    "duration": 1480,
    "start_time": "2022-05-02T12:30:54.495Z"
   },
   {
    "duration": 15,
    "start_time": "2022-05-02T12:30:55.978Z"
   },
   {
    "duration": 13,
    "start_time": "2022-05-02T12:30:55.996Z"
   },
   {
    "duration": 30,
    "start_time": "2022-05-02T12:30:56.057Z"
   },
   {
    "duration": 12,
    "start_time": "2022-05-02T12:30:56.090Z"
   },
   {
    "duration": 538,
    "start_time": "2022-05-02T12:33:19.378Z"
   },
   {
    "duration": 12,
    "start_time": "2022-05-02T12:33:32.084Z"
   },
   {
    "duration": 23,
    "start_time": "2022-05-02T12:36:32.253Z"
   },
   {
    "duration": 33,
    "start_time": "2022-05-02T12:39:28.120Z"
   },
   {
    "duration": 27,
    "start_time": "2022-05-02T12:39:32.999Z"
   },
   {
    "duration": 30,
    "start_time": "2022-05-02T12:39:38.075Z"
   },
   {
    "duration": 27,
    "start_time": "2022-05-02T12:41:11.639Z"
   },
   {
    "duration": 18,
    "start_time": "2022-05-02T12:41:15.197Z"
   },
   {
    "duration": 26,
    "start_time": "2022-05-02T12:41:20.599Z"
   },
   {
    "duration": 29,
    "start_time": "2022-05-02T12:41:25.258Z"
   },
   {
    "duration": 55,
    "start_time": "2022-05-02T12:44:31.424Z"
   },
   {
    "duration": 1022,
    "start_time": "2022-05-02T12:45:32.636Z"
   },
   {
    "duration": 936,
    "start_time": "2022-05-02T12:45:56.858Z"
   },
   {
    "duration": 984,
    "start_time": "2022-05-02T12:46:34.812Z"
   },
   {
    "duration": 2459,
    "start_time": "2022-05-02T12:47:15.001Z"
   },
   {
    "duration": 824,
    "start_time": "2022-05-02T12:47:23.081Z"
   },
   {
    "duration": 3774,
    "start_time": "2022-05-02T12:47:28.468Z"
   },
   {
    "duration": 824,
    "start_time": "2022-05-02T12:48:08.817Z"
   },
   {
    "duration": 892,
    "start_time": "2022-05-02T12:48:58.150Z"
   },
   {
    "duration": 644,
    "start_time": "2022-05-02T12:50:32.143Z"
   },
   {
    "duration": 591,
    "start_time": "2022-05-02T12:52:41.513Z"
   },
   {
    "duration": 578,
    "start_time": "2022-05-02T12:53:14.297Z"
   },
   {
    "duration": 45,
    "start_time": "2022-05-02T13:05:41.025Z"
   },
   {
    "duration": 104,
    "start_time": "2022-05-02T13:05:51.968Z"
   },
   {
    "duration": 50,
    "start_time": "2022-05-02T13:09:41.251Z"
   },
   {
    "duration": 1324,
    "start_time": "2022-05-02T13:12:24.458Z"
   },
   {
    "duration": 480,
    "start_time": "2022-05-02T13:12:46.910Z"
   },
   {
    "duration": 26,
    "start_time": "2022-05-02T13:12:47.393Z"
   },
   {
    "duration": 56,
    "start_time": "2022-05-02T13:12:47.421Z"
   },
   {
    "duration": 32,
    "start_time": "2022-05-02T13:12:47.479Z"
   },
   {
    "duration": 58,
    "start_time": "2022-05-02T13:12:47.514Z"
   },
   {
    "duration": 22,
    "start_time": "2022-05-02T13:12:47.574Z"
   },
   {
    "duration": 79,
    "start_time": "2022-05-02T13:12:47.598Z"
   },
   {
    "duration": 96,
    "start_time": "2022-05-02T13:12:47.679Z"
   },
   {
    "duration": 51,
    "start_time": "2022-05-02T13:12:47.777Z"
   },
   {
    "duration": 78,
    "start_time": "2022-05-02T13:12:47.831Z"
   },
   {
    "duration": 10,
    "start_time": "2022-05-02T13:12:47.911Z"
   },
   {
    "duration": 286,
    "start_time": "2022-05-02T13:12:47.923Z"
   },
   {
    "duration": 122,
    "start_time": "2022-05-02T13:12:48.211Z"
   },
   {
    "duration": 25,
    "start_time": "2022-05-02T13:12:48.336Z"
   },
   {
    "duration": 601,
    "start_time": "2022-05-02T13:12:48.365Z"
   },
   {
    "duration": 52,
    "start_time": "2022-05-02T13:12:48.969Z"
   },
   {
    "duration": 1094,
    "start_time": "2022-05-02T13:12:49.023Z"
   },
   {
    "duration": 1235,
    "start_time": "2022-05-02T13:12:50.121Z"
   },
   {
    "duration": 14,
    "start_time": "2022-05-02T13:12:51.360Z"
   },
   {
    "duration": 13,
    "start_time": "2022-05-02T13:12:51.376Z"
   },
   {
    "duration": 69,
    "start_time": "2022-05-02T13:12:51.391Z"
   },
   {
    "duration": 10,
    "start_time": "2022-05-02T13:12:51.463Z"
   },
   {
    "duration": 1571,
    "start_time": "2022-05-02T13:14:11.046Z"
   },
   {
    "duration": 366,
    "start_time": "2022-05-02T13:34:47.434Z"
   },
   {
    "duration": 1737,
    "start_time": "2022-05-02T13:35:31.409Z"
   },
   {
    "duration": 2087,
    "start_time": "2022-05-02T13:35:51.772Z"
   },
   {
    "duration": 1360,
    "start_time": "2022-05-02T13:36:24.771Z"
   },
   {
    "duration": 2026,
    "start_time": "2022-05-02T13:36:31.083Z"
   },
   {
    "duration": 2187,
    "start_time": "2022-05-02T13:36:35.906Z"
   },
   {
    "duration": 1207,
    "start_time": "2022-05-02T13:38:02.581Z"
   },
   {
    "duration": 1568,
    "start_time": "2022-05-02T13:39:41.864Z"
   },
   {
    "duration": 2191,
    "start_time": "2022-05-02T13:44:16.503Z"
   },
   {
    "duration": 2450,
    "start_time": "2022-05-02T13:44:33.462Z"
   },
   {
    "duration": 1677,
    "start_time": "2022-05-02T13:44:52.769Z"
   },
   {
    "duration": 1684,
    "start_time": "2022-05-02T13:44:58.251Z"
   },
   {
    "duration": 1619,
    "start_time": "2022-05-02T13:45:02.504Z"
   },
   {
    "duration": 1611,
    "start_time": "2022-05-02T13:45:07.862Z"
   },
   {
    "duration": 1667,
    "start_time": "2022-05-02T13:45:12.355Z"
   },
   {
    "duration": 1607,
    "start_time": "2022-05-02T13:45:22.790Z"
   },
   {
    "duration": 122,
    "start_time": "2022-05-02T13:49:17.395Z"
   },
   {
    "duration": 1610,
    "start_time": "2022-05-02T13:49:29.442Z"
   },
   {
    "duration": 1591,
    "start_time": "2022-05-02T13:49:47.949Z"
   },
   {
    "duration": 1928,
    "start_time": "2022-05-02T13:50:02.002Z"
   },
   {
    "duration": 1662,
    "start_time": "2022-05-02T13:50:12.983Z"
   },
   {
    "duration": 1822,
    "start_time": "2022-05-02T13:50:30.014Z"
   },
   {
    "duration": 12,
    "start_time": "2022-05-02T14:10:21.476Z"
   },
   {
    "duration": 6,
    "start_time": "2022-05-02T14:22:12.965Z"
   },
   {
    "duration": 14,
    "start_time": "2022-05-02T14:22:21.951Z"
   },
   {
    "duration": 113,
    "start_time": "2022-05-02T14:32:35.363Z"
   },
   {
    "duration": 94,
    "start_time": "2022-05-02T14:32:44.374Z"
   },
   {
    "duration": 77,
    "start_time": "2022-05-02T14:44:33.133Z"
   },
   {
    "duration": 517,
    "start_time": "2022-05-02T14:59:43.877Z"
   },
   {
    "duration": 28,
    "start_time": "2022-05-02T14:59:44.396Z"
   },
   {
    "duration": 59,
    "start_time": "2022-05-02T14:59:44.426Z"
   },
   {
    "duration": 33,
    "start_time": "2022-05-02T14:59:44.488Z"
   },
   {
    "duration": 65,
    "start_time": "2022-05-02T14:59:44.523Z"
   },
   {
    "duration": 23,
    "start_time": "2022-05-02T14:59:44.590Z"
   },
   {
    "duration": 82,
    "start_time": "2022-05-02T14:59:44.616Z"
   },
   {
    "duration": 103,
    "start_time": "2022-05-02T14:59:44.700Z"
   },
   {
    "duration": 70,
    "start_time": "2022-05-02T14:59:44.806Z"
   },
   {
    "duration": 77,
    "start_time": "2022-05-02T14:59:44.879Z"
   },
   {
    "duration": 14,
    "start_time": "2022-05-02T14:59:44.959Z"
   },
   {
    "duration": 318,
    "start_time": "2022-05-02T14:59:44.975Z"
   },
   {
    "duration": 131,
    "start_time": "2022-05-02T14:59:45.295Z"
   },
   {
    "duration": 14,
    "start_time": "2022-05-02T14:59:45.428Z"
   },
   {
    "duration": 633,
    "start_time": "2022-05-02T14:59:45.462Z"
   },
   {
    "duration": 101,
    "start_time": "2022-05-02T14:59:46.098Z"
   },
   {
    "duration": 1534,
    "start_time": "2022-05-02T14:59:46.201Z"
   },
   {
    "duration": 31,
    "start_time": "2022-05-02T14:59:47.738Z"
   },
   {
    "duration": 10,
    "start_time": "2022-05-02T14:59:47.771Z"
   },
   {
    "duration": 19,
    "start_time": "2022-05-02T14:59:47.783Z"
   },
   {
    "duration": 58,
    "start_time": "2022-05-02T14:59:47.804Z"
   },
   {
    "duration": 1589,
    "start_time": "2022-05-03T08:32:50.609Z"
   },
   {
    "duration": 43,
    "start_time": "2022-05-03T08:32:52.201Z"
   },
   {
    "duration": 43,
    "start_time": "2022-05-03T08:32:52.247Z"
   },
   {
    "duration": 61,
    "start_time": "2022-05-03T08:32:52.293Z"
   },
   {
    "duration": 44,
    "start_time": "2022-05-03T08:32:52.356Z"
   },
   {
    "duration": 38,
    "start_time": "2022-05-03T08:32:52.403Z"
   },
   {
    "duration": 52,
    "start_time": "2022-05-03T08:32:52.444Z"
   },
   {
    "duration": 102,
    "start_time": "2022-05-03T08:32:52.498Z"
   },
   {
    "duration": 76,
    "start_time": "2022-05-03T08:32:52.603Z"
   },
   {
    "duration": 89,
    "start_time": "2022-05-03T08:32:52.683Z"
   },
   {
    "duration": 13,
    "start_time": "2022-05-03T08:32:52.774Z"
   },
   {
    "duration": 282,
    "start_time": "2022-05-03T08:32:52.789Z"
   },
   {
    "duration": 115,
    "start_time": "2022-05-03T08:32:53.073Z"
   },
   {
    "duration": 16,
    "start_time": "2022-05-03T08:32:53.189Z"
   },
   {
    "duration": 647,
    "start_time": "2022-05-03T08:32:53.224Z"
   },
   {
    "duration": 102,
    "start_time": "2022-05-03T08:32:53.873Z"
   },
   {
    "duration": 1853,
    "start_time": "2022-05-03T08:32:53.977Z"
   },
   {
    "duration": 13,
    "start_time": "2022-05-03T08:32:55.833Z"
   },
   {
    "duration": 10,
    "start_time": "2022-05-03T08:32:55.848Z"
   },
   {
    "duration": 64,
    "start_time": "2022-05-03T08:32:55.860Z"
   },
   {
    "duration": 10,
    "start_time": "2022-05-03T08:32:55.927Z"
   },
   {
    "duration": 1550,
    "start_time": "2022-05-03T08:33:38.720Z"
   },
   {
    "duration": 37,
    "start_time": "2022-05-03T08:33:40.273Z"
   },
   {
    "duration": 48,
    "start_time": "2022-05-03T08:33:40.312Z"
   },
   {
    "duration": 31,
    "start_time": "2022-05-03T08:33:40.363Z"
   },
   {
    "duration": 64,
    "start_time": "2022-05-03T08:33:40.396Z"
   },
   {
    "duration": 24,
    "start_time": "2022-05-03T08:33:40.462Z"
   },
   {
    "duration": 84,
    "start_time": "2022-05-03T08:33:40.488Z"
   },
   {
    "duration": 100,
    "start_time": "2022-05-03T08:33:40.574Z"
   },
   {
    "duration": 67,
    "start_time": "2022-05-03T08:33:40.677Z"
   },
   {
    "duration": 87,
    "start_time": "2022-05-03T08:33:40.747Z"
   },
   {
    "duration": 13,
    "start_time": "2022-05-03T08:33:40.836Z"
   },
   {
    "duration": 283,
    "start_time": "2022-05-03T08:33:40.852Z"
   },
   {
    "duration": 120,
    "start_time": "2022-05-03T08:33:41.138Z"
   },
   {
    "duration": 17,
    "start_time": "2022-05-03T08:33:41.262Z"
   },
   {
    "duration": 644,
    "start_time": "2022-05-03T08:33:41.282Z"
   },
   {
    "duration": 97,
    "start_time": "2022-05-03T08:33:41.929Z"
   },
   {
    "duration": 1865,
    "start_time": "2022-05-03T08:33:42.028Z"
   },
   {
    "duration": 31,
    "start_time": "2022-05-03T08:33:43.895Z"
   },
   {
    "duration": 12,
    "start_time": "2022-05-03T08:33:43.928Z"
   },
   {
    "duration": 20,
    "start_time": "2022-05-03T08:33:43.942Z"
   },
   {
    "duration": 10,
    "start_time": "2022-05-03T08:33:43.964Z"
   },
   {
    "duration": 1281,
    "start_time": "2022-05-04T11:31:36.216Z"
   },
   {
    "duration": 3679,
    "start_time": "2022-10-01T11:29:20.532Z"
   },
   {
    "duration": 23,
    "start_time": "2022-10-01T11:29:24.212Z"
   }
  ],
  "kernelspec": {
   "display_name": "Python 3 (ipykernel)",
   "language": "python",
   "name": "python3"
  },
  "language_info": {
   "codemirror_mode": {
    "name": "ipython",
    "version": 3
   },
   "file_extension": ".py",
   "mimetype": "text/x-python",
   "name": "python",
   "nbconvert_exporter": "python",
   "pygments_lexer": "ipython3",
   "version": "3.9.13"
  },
  "toc": {
   "base_numbering": 1,
   "nav_menu": {},
   "number_sections": true,
   "sideBar": true,
   "skip_h1_title": true,
   "title_cell": "Table of Contents",
   "title_sidebar": "Contents",
   "toc_cell": false,
   "toc_position": {},
   "toc_section_display": true,
   "toc_window_display": false
  }
 },
 "nbformat": 4,
 "nbformat_minor": 2
}
