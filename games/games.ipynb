{
 "cells": [
  {
   "cell_type": "markdown",
   "metadata": {},
   "source": [
    "# Популярный продукт "
   ]
  },
  {
   "cell_type": "markdown",
   "metadata": {},
   "source": [
    "Нам нужно выявить определяющие успешность игры закономерности. Это позволит сделать ставку на потенциально популярный продукт и спланировать рекламные кампании. <br>\n",
    "Перед нами данные до 2016 года. Представим, что сейчас декабрь 2016 г., и мы планируем кампанию на 2017-й. Нужно отработать принцип работы с данными."
   ]
  },
  {
   "cell_type": "markdown",
   "metadata": {},
   "source": [
    "## Изучение данных из датафрейма."
   ]
  },
  {
   "cell_type": "code",
   "execution_count": 1,
   "metadata": {},
   "outputs": [
    {
     "data": {
      "text/html": [
       "<div>\n",
       "<style scoped>\n",
       "    .dataframe tbody tr th:only-of-type {\n",
       "        vertical-align: middle;\n",
       "    }\n",
       "\n",
       "    .dataframe tbody tr th {\n",
       "        vertical-align: top;\n",
       "    }\n",
       "\n",
       "    .dataframe thead th {\n",
       "        text-align: right;\n",
       "    }\n",
       "</style>\n",
       "<table border=\"1\" class=\"dataframe\">\n",
       "  <thead>\n",
       "    <tr style=\"text-align: right;\">\n",
       "      <th></th>\n",
       "      <th>Name</th>\n",
       "      <th>Platform</th>\n",
       "      <th>Year_of_Release</th>\n",
       "      <th>Genre</th>\n",
       "      <th>NA_sales</th>\n",
       "      <th>EU_sales</th>\n",
       "      <th>JP_sales</th>\n",
       "      <th>Other_sales</th>\n",
       "      <th>Critic_Score</th>\n",
       "      <th>User_Score</th>\n",
       "      <th>Rating</th>\n",
       "    </tr>\n",
       "  </thead>\n",
       "  <tbody>\n",
       "    <tr>\n",
       "      <th>0</th>\n",
       "      <td>Wii Sports</td>\n",
       "      <td>Wii</td>\n",
       "      <td>2006.0</td>\n",
       "      <td>Sports</td>\n",
       "      <td>41.36</td>\n",
       "      <td>28.96</td>\n",
       "      <td>3.77</td>\n",
       "      <td>8.45</td>\n",
       "      <td>76.0</td>\n",
       "      <td>8</td>\n",
       "      <td>E</td>\n",
       "    </tr>\n",
       "    <tr>\n",
       "      <th>1</th>\n",
       "      <td>Super Mario Bros.</td>\n",
       "      <td>NES</td>\n",
       "      <td>1985.0</td>\n",
       "      <td>Platform</td>\n",
       "      <td>29.08</td>\n",
       "      <td>3.58</td>\n",
       "      <td>6.81</td>\n",
       "      <td>0.77</td>\n",
       "      <td>NaN</td>\n",
       "      <td>NaN</td>\n",
       "      <td>NaN</td>\n",
       "    </tr>\n",
       "    <tr>\n",
       "      <th>2</th>\n",
       "      <td>Mario Kart Wii</td>\n",
       "      <td>Wii</td>\n",
       "      <td>2008.0</td>\n",
       "      <td>Racing</td>\n",
       "      <td>15.68</td>\n",
       "      <td>12.76</td>\n",
       "      <td>3.79</td>\n",
       "      <td>3.29</td>\n",
       "      <td>82.0</td>\n",
       "      <td>8.3</td>\n",
       "      <td>E</td>\n",
       "    </tr>\n",
       "    <tr>\n",
       "      <th>3</th>\n",
       "      <td>Wii Sports Resort</td>\n",
       "      <td>Wii</td>\n",
       "      <td>2009.0</td>\n",
       "      <td>Sports</td>\n",
       "      <td>15.61</td>\n",
       "      <td>10.93</td>\n",
       "      <td>3.28</td>\n",
       "      <td>2.95</td>\n",
       "      <td>80.0</td>\n",
       "      <td>8</td>\n",
       "      <td>E</td>\n",
       "    </tr>\n",
       "    <tr>\n",
       "      <th>4</th>\n",
       "      <td>Pokemon Red/Pokemon Blue</td>\n",
       "      <td>GB</td>\n",
       "      <td>1996.0</td>\n",
       "      <td>Role-Playing</td>\n",
       "      <td>11.27</td>\n",
       "      <td>8.89</td>\n",
       "      <td>10.22</td>\n",
       "      <td>1.00</td>\n",
       "      <td>NaN</td>\n",
       "      <td>NaN</td>\n",
       "      <td>NaN</td>\n",
       "    </tr>\n",
       "    <tr>\n",
       "      <th>...</th>\n",
       "      <td>...</td>\n",
       "      <td>...</td>\n",
       "      <td>...</td>\n",
       "      <td>...</td>\n",
       "      <td>...</td>\n",
       "      <td>...</td>\n",
       "      <td>...</td>\n",
       "      <td>...</td>\n",
       "      <td>...</td>\n",
       "      <td>...</td>\n",
       "      <td>...</td>\n",
       "    </tr>\n",
       "    <tr>\n",
       "      <th>16710</th>\n",
       "      <td>Samurai Warriors: Sanada Maru</td>\n",
       "      <td>PS3</td>\n",
       "      <td>2016.0</td>\n",
       "      <td>Action</td>\n",
       "      <td>0.00</td>\n",
       "      <td>0.00</td>\n",
       "      <td>0.01</td>\n",
       "      <td>0.00</td>\n",
       "      <td>NaN</td>\n",
       "      <td>NaN</td>\n",
       "      <td>NaN</td>\n",
       "    </tr>\n",
       "    <tr>\n",
       "      <th>16711</th>\n",
       "      <td>LMA Manager 2007</td>\n",
       "      <td>X360</td>\n",
       "      <td>2006.0</td>\n",
       "      <td>Sports</td>\n",
       "      <td>0.00</td>\n",
       "      <td>0.01</td>\n",
       "      <td>0.00</td>\n",
       "      <td>0.00</td>\n",
       "      <td>NaN</td>\n",
       "      <td>NaN</td>\n",
       "      <td>NaN</td>\n",
       "    </tr>\n",
       "    <tr>\n",
       "      <th>16712</th>\n",
       "      <td>Haitaka no Psychedelica</td>\n",
       "      <td>PSV</td>\n",
       "      <td>2016.0</td>\n",
       "      <td>Adventure</td>\n",
       "      <td>0.00</td>\n",
       "      <td>0.00</td>\n",
       "      <td>0.01</td>\n",
       "      <td>0.00</td>\n",
       "      <td>NaN</td>\n",
       "      <td>NaN</td>\n",
       "      <td>NaN</td>\n",
       "    </tr>\n",
       "    <tr>\n",
       "      <th>16713</th>\n",
       "      <td>Spirits &amp; Spells</td>\n",
       "      <td>GBA</td>\n",
       "      <td>2003.0</td>\n",
       "      <td>Platform</td>\n",
       "      <td>0.01</td>\n",
       "      <td>0.00</td>\n",
       "      <td>0.00</td>\n",
       "      <td>0.00</td>\n",
       "      <td>NaN</td>\n",
       "      <td>NaN</td>\n",
       "      <td>NaN</td>\n",
       "    </tr>\n",
       "    <tr>\n",
       "      <th>16714</th>\n",
       "      <td>Winning Post 8 2016</td>\n",
       "      <td>PSV</td>\n",
       "      <td>2016.0</td>\n",
       "      <td>Simulation</td>\n",
       "      <td>0.00</td>\n",
       "      <td>0.00</td>\n",
       "      <td>0.01</td>\n",
       "      <td>0.00</td>\n",
       "      <td>NaN</td>\n",
       "      <td>NaN</td>\n",
       "      <td>NaN</td>\n",
       "    </tr>\n",
       "  </tbody>\n",
       "</table>\n",
       "<p>16715 rows × 11 columns</p>\n",
       "</div>"
      ],
      "text/plain": [
       "                                Name Platform  Year_of_Release         Genre  \\\n",
       "0                         Wii Sports      Wii           2006.0        Sports   \n",
       "1                  Super Mario Bros.      NES           1985.0      Platform   \n",
       "2                     Mario Kart Wii      Wii           2008.0        Racing   \n",
       "3                  Wii Sports Resort      Wii           2009.0        Sports   \n",
       "4           Pokemon Red/Pokemon Blue       GB           1996.0  Role-Playing   \n",
       "...                              ...      ...              ...           ...   \n",
       "16710  Samurai Warriors: Sanada Maru      PS3           2016.0        Action   \n",
       "16711               LMA Manager 2007     X360           2006.0        Sports   \n",
       "16712        Haitaka no Psychedelica      PSV           2016.0     Adventure   \n",
       "16713               Spirits & Spells      GBA           2003.0      Platform   \n",
       "16714            Winning Post 8 2016      PSV           2016.0    Simulation   \n",
       "\n",
       "       NA_sales  EU_sales  JP_sales  Other_sales  Critic_Score User_Score  \\\n",
       "0         41.36     28.96      3.77         8.45          76.0          8   \n",
       "1         29.08      3.58      6.81         0.77           NaN        NaN   \n",
       "2         15.68     12.76      3.79         3.29          82.0        8.3   \n",
       "3         15.61     10.93      3.28         2.95          80.0          8   \n",
       "4         11.27      8.89     10.22         1.00           NaN        NaN   \n",
       "...         ...       ...       ...          ...           ...        ...   \n",
       "16710      0.00      0.00      0.01         0.00           NaN        NaN   \n",
       "16711      0.00      0.01      0.00         0.00           NaN        NaN   \n",
       "16712      0.00      0.00      0.01         0.00           NaN        NaN   \n",
       "16713      0.01      0.00      0.00         0.00           NaN        NaN   \n",
       "16714      0.00      0.00      0.01         0.00           NaN        NaN   \n",
       "\n",
       "      Rating  \n",
       "0          E  \n",
       "1        NaN  \n",
       "2          E  \n",
       "3          E  \n",
       "4        NaN  \n",
       "...      ...  \n",
       "16710    NaN  \n",
       "16711    NaN  \n",
       "16712    NaN  \n",
       "16713    NaN  \n",
       "16714    NaN  \n",
       "\n",
       "[16715 rows x 11 columns]"
      ]
     },
     "metadata": {},
     "output_type": "display_data"
    },
    {
     "name": "stdout",
     "output_type": "stream",
     "text": [
      "<class 'pandas.core.frame.DataFrame'>\n",
      "RangeIndex: 16715 entries, 0 to 16714\n",
      "Data columns (total 11 columns):\n",
      " #   Column           Non-Null Count  Dtype  \n",
      "---  ------           --------------  -----  \n",
      " 0   Name             16713 non-null  object \n",
      " 1   Platform         16715 non-null  object \n",
      " 2   Year_of_Release  16446 non-null  float64\n",
      " 3   Genre            16713 non-null  object \n",
      " 4   NA_sales         16715 non-null  float64\n",
      " 5   EU_sales         16715 non-null  float64\n",
      " 6   JP_sales         16715 non-null  float64\n",
      " 7   Other_sales      16715 non-null  float64\n",
      " 8   Critic_Score     8137 non-null   float64\n",
      " 9   User_Score       10014 non-null  object \n",
      " 10  Rating           9949 non-null   object \n",
      "dtypes: float64(6), object(5)\n",
      "memory usage: 1.4+ MB\n"
     ]
    },
    {
     "data": {
      "text/plain": [
       "None"
      ]
     },
     "metadata": {},
     "output_type": "display_data"
    }
   ],
   "source": [
    "# импортирование всех нужных библиотек \n",
    "import pandas as pd \n",
    "import math\n",
    "import numpy as np\n",
    "import seaborn as sns\n",
    "from scipy import stats as st\n",
    "\n",
    "# формирование датафрейма\n",
    "data = pd.read_csv('dataset_games.csv')\n",
    "\n",
    "# просмотр общей информации о датафрейме\n",
    "display(data)\n",
    "display(data.info())"
   ]
  },
  {
   "cell_type": "markdown",
   "metadata": {},
   "source": [
    "## Подготовка данных."
   ]
  },
  {
   "cell_type": "markdown",
   "metadata": {},
   "source": [
    "### Приведение названия столбцов к нижнему регистру."
   ]
  },
  {
   "cell_type": "code",
   "execution_count": 95,
   "metadata": {
    "scrolled": true
   },
   "outputs": [
    {
     "data": {
      "text/html": [
       "<div>\n",
       "<style scoped>\n",
       "    .dataframe tbody tr th:only-of-type {\n",
       "        vertical-align: middle;\n",
       "    }\n",
       "\n",
       "    .dataframe tbody tr th {\n",
       "        vertical-align: top;\n",
       "    }\n",
       "\n",
       "    .dataframe thead th {\n",
       "        text-align: right;\n",
       "    }\n",
       "</style>\n",
       "<table border=\"1\" class=\"dataframe\">\n",
       "  <thead>\n",
       "    <tr style=\"text-align: right;\">\n",
       "      <th></th>\n",
       "      <th>name</th>\n",
       "      <th>platform</th>\n",
       "      <th>year_of_release</th>\n",
       "      <th>genre</th>\n",
       "      <th>na_sales</th>\n",
       "      <th>eu_sales</th>\n",
       "      <th>jp_sales</th>\n",
       "      <th>other_sales</th>\n",
       "      <th>critic_score</th>\n",
       "      <th>user_score</th>\n",
       "      <th>rating</th>\n",
       "    </tr>\n",
       "  </thead>\n",
       "  <tbody>\n",
       "    <tr>\n",
       "      <th>0</th>\n",
       "      <td>Wii Sports</td>\n",
       "      <td>Wii</td>\n",
       "      <td>2006.0</td>\n",
       "      <td>Sports</td>\n",
       "      <td>41.36</td>\n",
       "      <td>28.96</td>\n",
       "      <td>3.77</td>\n",
       "      <td>8.45</td>\n",
       "      <td>76.0</td>\n",
       "      <td>8</td>\n",
       "      <td>E</td>\n",
       "    </tr>\n",
       "    <tr>\n",
       "      <th>1</th>\n",
       "      <td>Super Mario Bros.</td>\n",
       "      <td>NES</td>\n",
       "      <td>1985.0</td>\n",
       "      <td>Platform</td>\n",
       "      <td>29.08</td>\n",
       "      <td>3.58</td>\n",
       "      <td>6.81</td>\n",
       "      <td>0.77</td>\n",
       "      <td>NaN</td>\n",
       "      <td>NaN</td>\n",
       "      <td>NaN</td>\n",
       "    </tr>\n",
       "    <tr>\n",
       "      <th>2</th>\n",
       "      <td>Mario Kart Wii</td>\n",
       "      <td>Wii</td>\n",
       "      <td>2008.0</td>\n",
       "      <td>Racing</td>\n",
       "      <td>15.68</td>\n",
       "      <td>12.76</td>\n",
       "      <td>3.79</td>\n",
       "      <td>3.29</td>\n",
       "      <td>82.0</td>\n",
       "      <td>8.3</td>\n",
       "      <td>E</td>\n",
       "    </tr>\n",
       "    <tr>\n",
       "      <th>3</th>\n",
       "      <td>Wii Sports Resort</td>\n",
       "      <td>Wii</td>\n",
       "      <td>2009.0</td>\n",
       "      <td>Sports</td>\n",
       "      <td>15.61</td>\n",
       "      <td>10.93</td>\n",
       "      <td>3.28</td>\n",
       "      <td>2.95</td>\n",
       "      <td>80.0</td>\n",
       "      <td>8</td>\n",
       "      <td>E</td>\n",
       "    </tr>\n",
       "    <tr>\n",
       "      <th>4</th>\n",
       "      <td>Pokemon Red/Pokemon Blue</td>\n",
       "      <td>GB</td>\n",
       "      <td>1996.0</td>\n",
       "      <td>Role-Playing</td>\n",
       "      <td>11.27</td>\n",
       "      <td>8.89</td>\n",
       "      <td>10.22</td>\n",
       "      <td>1.00</td>\n",
       "      <td>NaN</td>\n",
       "      <td>NaN</td>\n",
       "      <td>NaN</td>\n",
       "    </tr>\n",
       "    <tr>\n",
       "      <th>...</th>\n",
       "      <td>...</td>\n",
       "      <td>...</td>\n",
       "      <td>...</td>\n",
       "      <td>...</td>\n",
       "      <td>...</td>\n",
       "      <td>...</td>\n",
       "      <td>...</td>\n",
       "      <td>...</td>\n",
       "      <td>...</td>\n",
       "      <td>...</td>\n",
       "      <td>...</td>\n",
       "    </tr>\n",
       "    <tr>\n",
       "      <th>16710</th>\n",
       "      <td>Samurai Warriors: Sanada Maru</td>\n",
       "      <td>PS3</td>\n",
       "      <td>2016.0</td>\n",
       "      <td>Action</td>\n",
       "      <td>0.00</td>\n",
       "      <td>0.00</td>\n",
       "      <td>0.01</td>\n",
       "      <td>0.00</td>\n",
       "      <td>NaN</td>\n",
       "      <td>NaN</td>\n",
       "      <td>NaN</td>\n",
       "    </tr>\n",
       "    <tr>\n",
       "      <th>16711</th>\n",
       "      <td>LMA Manager 2007</td>\n",
       "      <td>X360</td>\n",
       "      <td>2006.0</td>\n",
       "      <td>Sports</td>\n",
       "      <td>0.00</td>\n",
       "      <td>0.01</td>\n",
       "      <td>0.00</td>\n",
       "      <td>0.00</td>\n",
       "      <td>NaN</td>\n",
       "      <td>NaN</td>\n",
       "      <td>NaN</td>\n",
       "    </tr>\n",
       "    <tr>\n",
       "      <th>16712</th>\n",
       "      <td>Haitaka no Psychedelica</td>\n",
       "      <td>PSV</td>\n",
       "      <td>2016.0</td>\n",
       "      <td>Adventure</td>\n",
       "      <td>0.00</td>\n",
       "      <td>0.00</td>\n",
       "      <td>0.01</td>\n",
       "      <td>0.00</td>\n",
       "      <td>NaN</td>\n",
       "      <td>NaN</td>\n",
       "      <td>NaN</td>\n",
       "    </tr>\n",
       "    <tr>\n",
       "      <th>16713</th>\n",
       "      <td>Spirits &amp; Spells</td>\n",
       "      <td>GBA</td>\n",
       "      <td>2003.0</td>\n",
       "      <td>Platform</td>\n",
       "      <td>0.01</td>\n",
       "      <td>0.00</td>\n",
       "      <td>0.00</td>\n",
       "      <td>0.00</td>\n",
       "      <td>NaN</td>\n",
       "      <td>NaN</td>\n",
       "      <td>NaN</td>\n",
       "    </tr>\n",
       "    <tr>\n",
       "      <th>16714</th>\n",
       "      <td>Winning Post 8 2016</td>\n",
       "      <td>PSV</td>\n",
       "      <td>2016.0</td>\n",
       "      <td>Simulation</td>\n",
       "      <td>0.00</td>\n",
       "      <td>0.00</td>\n",
       "      <td>0.01</td>\n",
       "      <td>0.00</td>\n",
       "      <td>NaN</td>\n",
       "      <td>NaN</td>\n",
       "      <td>NaN</td>\n",
       "    </tr>\n",
       "  </tbody>\n",
       "</table>\n",
       "<p>16715 rows × 11 columns</p>\n",
       "</div>"
      ],
      "text/plain": [
       "                                name platform  year_of_release         genre  \\\n",
       "0                         Wii Sports      Wii           2006.0        Sports   \n",
       "1                  Super Mario Bros.      NES           1985.0      Platform   \n",
       "2                     Mario Kart Wii      Wii           2008.0        Racing   \n",
       "3                  Wii Sports Resort      Wii           2009.0        Sports   \n",
       "4           Pokemon Red/Pokemon Blue       GB           1996.0  Role-Playing   \n",
       "...                              ...      ...              ...           ...   \n",
       "16710  Samurai Warriors: Sanada Maru      PS3           2016.0        Action   \n",
       "16711               LMA Manager 2007     X360           2006.0        Sports   \n",
       "16712        Haitaka no Psychedelica      PSV           2016.0     Adventure   \n",
       "16713               Spirits & Spells      GBA           2003.0      Platform   \n",
       "16714            Winning Post 8 2016      PSV           2016.0    Simulation   \n",
       "\n",
       "       na_sales  eu_sales  jp_sales  other_sales  critic_score user_score  \\\n",
       "0         41.36     28.96      3.77         8.45          76.0          8   \n",
       "1         29.08      3.58      6.81         0.77           NaN        NaN   \n",
       "2         15.68     12.76      3.79         3.29          82.0        8.3   \n",
       "3         15.61     10.93      3.28         2.95          80.0          8   \n",
       "4         11.27      8.89     10.22         1.00           NaN        NaN   \n",
       "...         ...       ...       ...          ...           ...        ...   \n",
       "16710      0.00      0.00      0.01         0.00           NaN        NaN   \n",
       "16711      0.00      0.01      0.00         0.00           NaN        NaN   \n",
       "16712      0.00      0.00      0.01         0.00           NaN        NaN   \n",
       "16713      0.01      0.00      0.00         0.00           NaN        NaN   \n",
       "16714      0.00      0.00      0.01         0.00           NaN        NaN   \n",
       "\n",
       "      rating  \n",
       "0          E  \n",
       "1        NaN  \n",
       "2          E  \n",
       "3          E  \n",
       "4        NaN  \n",
       "...      ...  \n",
       "16710    NaN  \n",
       "16711    NaN  \n",
       "16712    NaN  \n",
       "16713    NaN  \n",
       "16714    NaN  \n",
       "\n",
       "[16715 rows x 11 columns]"
      ]
     },
     "metadata": {},
     "output_type": "display_data"
    }
   ],
   "source": [
    "# приведение названия столбцов к нижнему регистру\n",
    "data.columns = map(str.lower, data.columns.tolist())\n",
    "\n",
    "# проверка внесенных изменений \n",
    "display(data)"
   ]
  },
  {
   "cell_type": "markdown",
   "metadata": {},
   "source": [
    "### Изменение типов данных в столбцах:\n",
    "* 'critic_score' в 'Int64': так как оценка критиков - целое число.\n",
    "* 'year_of_release' в 'Int64': так как год - целое число.\n",
    "* 'user_score' в 'float64': так как оценка пользователей - дробное число.\n",
    "\n",
    "В столбце 'user_score' были замечены значения 'tbd'. Они значились у игр с небольшим количеством продаж, можно сделать вывод, что значение 'tbd' значит малое количество оценок пользователей для выставления средней. В таком случае, 'tbd' можно заменить на NaN."
   ]
  },
  {
   "cell_type": "code",
   "execution_count": 96,
   "metadata": {
    "scrolled": true
   },
   "outputs": [
    {
     "name": "stdout",
     "output_type": "stream",
     "text": [
      "<class 'pandas.core.frame.DataFrame'>\n",
      "RangeIndex: 16715 entries, 0 to 16714\n",
      "Data columns (total 11 columns):\n",
      " #   Column           Non-Null Count  Dtype  \n",
      "---  ------           --------------  -----  \n",
      " 0   name             16713 non-null  object \n",
      " 1   platform         16715 non-null  object \n",
      " 2   year_of_release  16446 non-null  Int64  \n",
      " 3   genre            16713 non-null  object \n",
      " 4   na_sales         16715 non-null  float64\n",
      " 5   eu_sales         16715 non-null  float64\n",
      " 6   jp_sales         16715 non-null  float64\n",
      " 7   other_sales      16715 non-null  float64\n",
      " 8   critic_score     8137 non-null   Int64  \n",
      " 9   user_score       7590 non-null   float64\n",
      " 10  rating           9949 non-null   object \n",
      "dtypes: Int64(2), float64(5), object(4)\n",
      "memory usage: 1.4+ MB\n"
     ]
    },
    {
     "data": {
      "text/html": [
       "<div>\n",
       "<style scoped>\n",
       "    .dataframe tbody tr th:only-of-type {\n",
       "        vertical-align: middle;\n",
       "    }\n",
       "\n",
       "    .dataframe tbody tr th {\n",
       "        vertical-align: top;\n",
       "    }\n",
       "\n",
       "    .dataframe thead th {\n",
       "        text-align: right;\n",
       "    }\n",
       "</style>\n",
       "<table border=\"1\" class=\"dataframe\">\n",
       "  <thead>\n",
       "    <tr style=\"text-align: right;\">\n",
       "      <th></th>\n",
       "      <th>name</th>\n",
       "      <th>platform</th>\n",
       "      <th>year_of_release</th>\n",
       "      <th>genre</th>\n",
       "      <th>na_sales</th>\n",
       "      <th>eu_sales</th>\n",
       "      <th>jp_sales</th>\n",
       "      <th>other_sales</th>\n",
       "      <th>critic_score</th>\n",
       "      <th>user_score</th>\n",
       "      <th>rating</th>\n",
       "    </tr>\n",
       "  </thead>\n",
       "  <tbody>\n",
       "    <tr>\n",
       "      <th>0</th>\n",
       "      <td>Wii Sports</td>\n",
       "      <td>Wii</td>\n",
       "      <td>2006</td>\n",
       "      <td>Sports</td>\n",
       "      <td>41.36</td>\n",
       "      <td>28.96</td>\n",
       "      <td>3.77</td>\n",
       "      <td>8.45</td>\n",
       "      <td>76</td>\n",
       "      <td>8.0</td>\n",
       "      <td>E</td>\n",
       "    </tr>\n",
       "    <tr>\n",
       "      <th>1</th>\n",
       "      <td>Super Mario Bros.</td>\n",
       "      <td>NES</td>\n",
       "      <td>1985</td>\n",
       "      <td>Platform</td>\n",
       "      <td>29.08</td>\n",
       "      <td>3.58</td>\n",
       "      <td>6.81</td>\n",
       "      <td>0.77</td>\n",
       "      <td>&lt;NA&gt;</td>\n",
       "      <td>NaN</td>\n",
       "      <td>NaN</td>\n",
       "    </tr>\n",
       "    <tr>\n",
       "      <th>2</th>\n",
       "      <td>Mario Kart Wii</td>\n",
       "      <td>Wii</td>\n",
       "      <td>2008</td>\n",
       "      <td>Racing</td>\n",
       "      <td>15.68</td>\n",
       "      <td>12.76</td>\n",
       "      <td>3.79</td>\n",
       "      <td>3.29</td>\n",
       "      <td>82</td>\n",
       "      <td>8.3</td>\n",
       "      <td>E</td>\n",
       "    </tr>\n",
       "    <tr>\n",
       "      <th>3</th>\n",
       "      <td>Wii Sports Resort</td>\n",
       "      <td>Wii</td>\n",
       "      <td>2009</td>\n",
       "      <td>Sports</td>\n",
       "      <td>15.61</td>\n",
       "      <td>10.93</td>\n",
       "      <td>3.28</td>\n",
       "      <td>2.95</td>\n",
       "      <td>80</td>\n",
       "      <td>8.0</td>\n",
       "      <td>E</td>\n",
       "    </tr>\n",
       "    <tr>\n",
       "      <th>4</th>\n",
       "      <td>Pokemon Red/Pokemon Blue</td>\n",
       "      <td>GB</td>\n",
       "      <td>1996</td>\n",
       "      <td>Role-Playing</td>\n",
       "      <td>11.27</td>\n",
       "      <td>8.89</td>\n",
       "      <td>10.22</td>\n",
       "      <td>1.00</td>\n",
       "      <td>&lt;NA&gt;</td>\n",
       "      <td>NaN</td>\n",
       "      <td>NaN</td>\n",
       "    </tr>\n",
       "  </tbody>\n",
       "</table>\n",
       "</div>"
      ],
      "text/plain": [
       "                       name platform  year_of_release         genre  na_sales  \\\n",
       "0                Wii Sports      Wii             2006        Sports     41.36   \n",
       "1         Super Mario Bros.      NES             1985      Platform     29.08   \n",
       "2            Mario Kart Wii      Wii             2008        Racing     15.68   \n",
       "3         Wii Sports Resort      Wii             2009        Sports     15.61   \n",
       "4  Pokemon Red/Pokemon Blue       GB             1996  Role-Playing     11.27   \n",
       "\n",
       "   eu_sales  jp_sales  other_sales  critic_score  user_score rating  \n",
       "0     28.96      3.77         8.45            76         8.0      E  \n",
       "1      3.58      6.81         0.77          <NA>         NaN    NaN  \n",
       "2     12.76      3.79         3.29            82         8.3      E  \n",
       "3     10.93      3.28         2.95            80         8.0      E  \n",
       "4      8.89     10.22         1.00          <NA>         NaN    NaN  "
      ]
     },
     "metadata": {},
     "output_type": "display_data"
    }
   ],
   "source": [
    "# замена значений 'tbd' на NaN\n",
    "data.loc[(data.user_score == 'tbd'), 'user_score'] = np.nan\n",
    "\n",
    "# изменение типов данных\n",
    "data['user_score'] = pd.to_numeric(data['user_score'])\n",
    "data['critic_score'] = data['critic_score'].astype('Int64')\n",
    "data['year_of_release'] = data['year_of_release'].astype('Int64')\n",
    "\n",
    "# проверка внесенных изменений \n",
    "data.info()\n",
    "display(data.head())"
   ]
  },
  {
   "cell_type": "markdown",
   "metadata": {},
   "source": [
    "### Обработка пропусков.\n",
    "* Два пропущенных значения в столбах 'name' и 'genre' соответствуют двум строкам. Их можно удалить, так как это не скажется на последующем анализе.\n",
    "* Пропуски в столбцах 'rating', 'year_of_release', 'user_score', 'critic_score' следует оставить, так как пока что не известно чем их можно заполнить, возможно, коллеги найдут способ."
   ]
  },
  {
   "cell_type": "code",
   "execution_count": 97,
   "metadata": {
    "scrolled": true
   },
   "outputs": [
    {
     "name": "stdout",
     "output_type": "stream",
     "text": [
      "<class 'pandas.core.frame.DataFrame'>\n",
      "RangeIndex: 16713 entries, 0 to 16712\n",
      "Data columns (total 11 columns):\n",
      " #   Column           Non-Null Count  Dtype  \n",
      "---  ------           --------------  -----  \n",
      " 0   name             16713 non-null  object \n",
      " 1   platform         16713 non-null  object \n",
      " 2   year_of_release  16444 non-null  Int64  \n",
      " 3   genre            16713 non-null  object \n",
      " 4   na_sales         16713 non-null  float64\n",
      " 5   eu_sales         16713 non-null  float64\n",
      " 6   jp_sales         16713 non-null  float64\n",
      " 7   other_sales      16713 non-null  float64\n",
      " 8   critic_score     8137 non-null   Int64  \n",
      " 9   user_score       7590 non-null   float64\n",
      " 10  rating           9949 non-null   object \n",
      "dtypes: Int64(2), float64(5), object(4)\n",
      "memory usage: 1.4+ MB\n"
     ]
    }
   ],
   "source": [
    "# удаление двух не нужных строк\n",
    "data.dropna(inplace=True, subset=['name'])\n",
    "\n",
    "# сброс индексов\n",
    "data.reset_index(drop=True, inplace=True)\n",
    "\n",
    "# проверка внесенных изменений \n",
    "data.info()"
   ]
  },
  {
   "cell_type": "markdown",
   "metadata": {},
   "source": [
    "### Суммарные продажи в регионах.\n",
    "Добавление столбца с суммарным количеством продаж."
   ]
  },
  {
   "cell_type": "code",
   "execution_count": 98,
   "metadata": {
    "scrolled": true
   },
   "outputs": [
    {
     "data": {
      "text/html": [
       "<div>\n",
       "<style scoped>\n",
       "    .dataframe tbody tr th:only-of-type {\n",
       "        vertical-align: middle;\n",
       "    }\n",
       "\n",
       "    .dataframe tbody tr th {\n",
       "        vertical-align: top;\n",
       "    }\n",
       "\n",
       "    .dataframe thead th {\n",
       "        text-align: right;\n",
       "    }\n",
       "</style>\n",
       "<table border=\"1\" class=\"dataframe\">\n",
       "  <thead>\n",
       "    <tr style=\"text-align: right;\">\n",
       "      <th></th>\n",
       "      <th>name</th>\n",
       "      <th>platform</th>\n",
       "      <th>year_of_release</th>\n",
       "      <th>genre</th>\n",
       "      <th>na_sales</th>\n",
       "      <th>eu_sales</th>\n",
       "      <th>jp_sales</th>\n",
       "      <th>other_sales</th>\n",
       "      <th>critic_score</th>\n",
       "      <th>user_score</th>\n",
       "      <th>rating</th>\n",
       "      <th>sum_sales</th>\n",
       "    </tr>\n",
       "  </thead>\n",
       "  <tbody>\n",
       "    <tr>\n",
       "      <th>0</th>\n",
       "      <td>Wii Sports</td>\n",
       "      <td>Wii</td>\n",
       "      <td>2006</td>\n",
       "      <td>Sports</td>\n",
       "      <td>41.36</td>\n",
       "      <td>28.96</td>\n",
       "      <td>3.77</td>\n",
       "      <td>8.45</td>\n",
       "      <td>76</td>\n",
       "      <td>8.0</td>\n",
       "      <td>E</td>\n",
       "      <td>82.54</td>\n",
       "    </tr>\n",
       "    <tr>\n",
       "      <th>1</th>\n",
       "      <td>Super Mario Bros.</td>\n",
       "      <td>NES</td>\n",
       "      <td>1985</td>\n",
       "      <td>Platform</td>\n",
       "      <td>29.08</td>\n",
       "      <td>3.58</td>\n",
       "      <td>6.81</td>\n",
       "      <td>0.77</td>\n",
       "      <td>&lt;NA&gt;</td>\n",
       "      <td>NaN</td>\n",
       "      <td>NaN</td>\n",
       "      <td>40.24</td>\n",
       "    </tr>\n",
       "    <tr>\n",
       "      <th>2</th>\n",
       "      <td>Mario Kart Wii</td>\n",
       "      <td>Wii</td>\n",
       "      <td>2008</td>\n",
       "      <td>Racing</td>\n",
       "      <td>15.68</td>\n",
       "      <td>12.76</td>\n",
       "      <td>3.79</td>\n",
       "      <td>3.29</td>\n",
       "      <td>82</td>\n",
       "      <td>8.3</td>\n",
       "      <td>E</td>\n",
       "      <td>35.52</td>\n",
       "    </tr>\n",
       "    <tr>\n",
       "      <th>3</th>\n",
       "      <td>Wii Sports Resort</td>\n",
       "      <td>Wii</td>\n",
       "      <td>2009</td>\n",
       "      <td>Sports</td>\n",
       "      <td>15.61</td>\n",
       "      <td>10.93</td>\n",
       "      <td>3.28</td>\n",
       "      <td>2.95</td>\n",
       "      <td>80</td>\n",
       "      <td>8.0</td>\n",
       "      <td>E</td>\n",
       "      <td>32.77</td>\n",
       "    </tr>\n",
       "    <tr>\n",
       "      <th>4</th>\n",
       "      <td>Pokemon Red/Pokemon Blue</td>\n",
       "      <td>GB</td>\n",
       "      <td>1996</td>\n",
       "      <td>Role-Playing</td>\n",
       "      <td>11.27</td>\n",
       "      <td>8.89</td>\n",
       "      <td>10.22</td>\n",
       "      <td>1.00</td>\n",
       "      <td>&lt;NA&gt;</td>\n",
       "      <td>NaN</td>\n",
       "      <td>NaN</td>\n",
       "      <td>31.38</td>\n",
       "    </tr>\n",
       "  </tbody>\n",
       "</table>\n",
       "</div>"
      ],
      "text/plain": [
       "                       name platform  year_of_release         genre  na_sales  \\\n",
       "0                Wii Sports      Wii             2006        Sports     41.36   \n",
       "1         Super Mario Bros.      NES             1985      Platform     29.08   \n",
       "2            Mario Kart Wii      Wii             2008        Racing     15.68   \n",
       "3         Wii Sports Resort      Wii             2009        Sports     15.61   \n",
       "4  Pokemon Red/Pokemon Blue       GB             1996  Role-Playing     11.27   \n",
       "\n",
       "   eu_sales  jp_sales  other_sales  critic_score  user_score rating  sum_sales  \n",
       "0     28.96      3.77         8.45            76         8.0      E      82.54  \n",
       "1      3.58      6.81         0.77          <NA>         NaN    NaN      40.24  \n",
       "2     12.76      3.79         3.29            82         8.3      E      35.52  \n",
       "3     10.93      3.28         2.95            80         8.0      E      32.77  \n",
       "4      8.89     10.22         1.00          <NA>         NaN    NaN      31.38  "
      ]
     },
     "metadata": {},
     "output_type": "display_data"
    }
   ],
   "source": [
    "# добавление столбца с суммарным количеством продаж\n",
    "data['sum_sales'] = data['na_sales'] + data['eu_sales'] + data['jp_sales'] + data['other_sales']\n",
    "\n",
    "# проверка внесенных изменений \n",
    "display(data.head())"
   ]
  },
  {
   "cell_type": "markdown",
   "metadata": {},
   "source": [
    "## Исследовательский анализ данных."
   ]
  },
  {
   "cell_type": "markdown",
   "metadata": {},
   "source": [
    "### Отбор потенциально прибыльных платформ и определение актуального периода."
   ]
  },
  {
   "cell_type": "markdown",
   "metadata": {},
   "source": [
    "По гистограмме видно, что рост количества выпущенных видеоигр начинается с 2000-го года."
   ]
  },
  {
   "cell_type": "code",
   "execution_count": 99,
   "metadata": {
    "scrolled": true
   },
   "outputs": [
    {
     "data": {
      "text/plain": [
       "<AxesSubplot:ylabel='Frequency'>"
      ]
     },
     "metadata": {},
     "output_type": "display_data"
    },
    {
     "data": {
      "image/png": "[encoded data removed]",
      "text/plain": [
       "<Figure size 432x288 with 1 Axes>"
      ]
     },
     "metadata": {
      "needs_background": "light"
     },
     "output_type": "display_data"
    }
   ],
   "source": [
    "# гистограмма по датам выхода игр \n",
    "display(data.plot(y='year_of_release', kind='hist', bins=50))"
   ]
  },
  {
   "cell_type": "markdown",
   "metadata": {},
   "source": [
    "По графикам платформ с наибольшими суммарными продажами видно, что характерный период \"жизни\" платформы - примерно 6 лет. "
   ]
  },
  {
   "cell_type": "code",
   "execution_count": 100,
   "metadata": {
    "scrolled": true
   },
   "outputs": [
    {
     "data": {
      "text/html": [
       "<div>\n",
       "<style scoped>\n",
       "    .dataframe tbody tr th:only-of-type {\n",
       "        vertical-align: middle;\n",
       "    }\n",
       "\n",
       "    .dataframe tbody tr th {\n",
       "        vertical-align: top;\n",
       "    }\n",
       "\n",
       "    .dataframe thead th {\n",
       "        text-align: right;\n",
       "    }\n",
       "</style>\n",
       "<table border=\"1\" class=\"dataframe\">\n",
       "  <thead>\n",
       "    <tr style=\"text-align: right;\">\n",
       "      <th></th>\n",
       "      <th>sum_sales</th>\n",
       "    </tr>\n",
       "    <tr>\n",
       "      <th>platform</th>\n",
       "      <th></th>\n",
       "    </tr>\n",
       "  </thead>\n",
       "  <tbody>\n",
       "    <tr>\n",
       "      <th>PS2</th>\n",
       "      <td>1255.77</td>\n",
       "    </tr>\n",
       "    <tr>\n",
       "      <th>X360</th>\n",
       "      <td>971.42</td>\n",
       "    </tr>\n",
       "    <tr>\n",
       "      <th>PS3</th>\n",
       "      <td>939.65</td>\n",
       "    </tr>\n",
       "    <tr>\n",
       "      <th>Wii</th>\n",
       "      <td>907.51</td>\n",
       "    </tr>\n",
       "    <tr>\n",
       "      <th>DS</th>\n",
       "      <td>806.12</td>\n",
       "    </tr>\n",
       "  </tbody>\n",
       "</table>\n",
       "</div>"
      ],
      "text/plain": [
       "          sum_sales\n",
       "platform           \n",
       "PS2         1255.77\n",
       "X360         971.42\n",
       "PS3          939.65\n",
       "Wii          907.51\n",
       "DS           806.12"
      ]
     },
     "metadata": {},
     "output_type": "display_data"
    },
    {
     "data": {
      "text/plain": [
       "<AxesSubplot:title={'center':'PS2'}, xlabel='year_of_release'>"
      ]
     },
     "metadata": {},
     "output_type": "display_data"
    },
    {
     "data": {
      "text/plain": [
       "<AxesSubplot:title={'center':'X360'}, xlabel='year_of_release'>"
      ]
     },
     "metadata": {},
     "output_type": "display_data"
    },
    {
     "data": {
      "text/plain": [
       "<AxesSubplot:title={'center':'PS3'}, xlabel='year_of_release'>"
      ]
     },
     "metadata": {},
     "output_type": "display_data"
    },
    {
     "data": {
      "text/plain": [
       "<AxesSubplot:title={'center':'Wii'}, xlabel='year_of_release'>"
      ]
     },
     "metadata": {},
     "output_type": "display_data"
    },
    {
     "data": {
      "text/plain": [
       "<AxesSubplot:title={'center':'DS'}, xlabel='year_of_release'>"
      ]
     },
     "metadata": {},
     "output_type": "display_data"
    },
    {
     "data": {
      "image/png": "[encoded data removed]",
      "text/plain": [
       "<Figure size 432x288 with 1 Axes>"
      ]
     },
     "metadata": {
      "needs_background": "light"
     },
     "output_type": "display_data"
    },
    {
     "data": {
      "image/png": "[encoded data removed]",
      "text/plain": [
       "<Figure size 432x288 with 1 Axes>"
      ]
     },
     "metadata": {
      "needs_background": "light"
     },
     "output_type": "display_data"
    },
    {
     "data": {
      "image/png": "[encoded data removed]",
      "text/plain": [
       "<Figure size 432x288 with 1 Axes>"
      ]
     },
     "metadata": {
      "needs_background": "light"
     },
     "output_type": "display_data"
    },
    {
     "data": {
      "image/png": "[encoded data removed]",
      "text/plain": [
       "<Figure size 432x288 with 1 Axes>"
      ]
     },
     "metadata": {
      "needs_background": "light"
     },
     "output_type": "display_data"
    },
    {
     "data": {
      "image/png": "[encoded data removed]",
      "text/plain": [
       "<Figure size 432x288 with 1 Axes>"
      ]
     },
     "metadata": {
      "needs_background": "light"
     },
     "output_type": "display_data"
    }
   ],
   "source": [
    "# формирование сводной таблицы с суммарными продажами по платформам\n",
    "data_platforms_sales = data.pivot_table(index='platform', values='sum_sales', aggfunc='sum')\n",
    "display(data_platforms_sales.sort_values(by='sum_sales', ascending=False).head())\n",
    "\n",
    "# цикл для создания линейных графиков продаж по годам с пятью самыми популярными платформами\n",
    "for i in ['PS2', 'X360', 'PS3', 'Wii', 'DS']:\n",
    "    display(data.query('platform == @i')\n",
    "                .pivot_table(index='year_of_release', values='sum_sales', aggfunc='sum')\n",
    "                .plot(y='sum_sales', kind='line', title=i)\n",
    "           )"
   ]
  },
  {
   "cell_type": "markdown",
   "metadata": {},
   "source": [
    "**Актуальным периодом будет промежуток с 2015 года по 2016 включительно.**"
   ]
  },
  {
   "cell_type": "code",
   "execution_count": 101,
   "metadata": {
    "scrolled": true
   },
   "outputs": [
    {
     "data": {
      "text/html": [
       "<div>\n",
       "<style scoped>\n",
       "    .dataframe tbody tr th:only-of-type {\n",
       "        vertical-align: middle;\n",
       "    }\n",
       "\n",
       "    .dataframe tbody tr th {\n",
       "        vertical-align: top;\n",
       "    }\n",
       "\n",
       "    .dataframe thead th {\n",
       "        text-align: right;\n",
       "    }\n",
       "</style>\n",
       "<table border=\"1\" class=\"dataframe\">\n",
       "  <thead>\n",
       "    <tr style=\"text-align: right;\">\n",
       "      <th></th>\n",
       "      <th>name</th>\n",
       "      <th>platform</th>\n",
       "      <th>year_of_release</th>\n",
       "      <th>genre</th>\n",
       "      <th>na_sales</th>\n",
       "      <th>eu_sales</th>\n",
       "      <th>jp_sales</th>\n",
       "      <th>other_sales</th>\n",
       "      <th>critic_score</th>\n",
       "      <th>user_score</th>\n",
       "      <th>rating</th>\n",
       "      <th>sum_sales</th>\n",
       "    </tr>\n",
       "  </thead>\n",
       "  <tbody>\n",
       "    <tr>\n",
       "      <th>0</th>\n",
       "      <td>Call of Duty: Black Ops 3</td>\n",
       "      <td>PS4</td>\n",
       "      <td>2015</td>\n",
       "      <td>Shooter</td>\n",
       "      <td>6.03</td>\n",
       "      <td>5.86</td>\n",
       "      <td>0.36</td>\n",
       "      <td>2.38</td>\n",
       "      <td>&lt;NA&gt;</td>\n",
       "      <td>NaN</td>\n",
       "      <td>NaN</td>\n",
       "      <td>14.63</td>\n",
       "    </tr>\n",
       "    <tr>\n",
       "      <th>1</th>\n",
       "      <td>FIFA 16</td>\n",
       "      <td>PS4</td>\n",
       "      <td>2015</td>\n",
       "      <td>Sports</td>\n",
       "      <td>1.12</td>\n",
       "      <td>6.12</td>\n",
       "      <td>0.06</td>\n",
       "      <td>1.28</td>\n",
       "      <td>82</td>\n",
       "      <td>4.3</td>\n",
       "      <td>E</td>\n",
       "      <td>8.58</td>\n",
       "    </tr>\n",
       "    <tr>\n",
       "      <th>2</th>\n",
       "      <td>Star Wars Battlefront (2015)</td>\n",
       "      <td>PS4</td>\n",
       "      <td>2015</td>\n",
       "      <td>Shooter</td>\n",
       "      <td>2.99</td>\n",
       "      <td>3.49</td>\n",
       "      <td>0.22</td>\n",
       "      <td>1.28</td>\n",
       "      <td>&lt;NA&gt;</td>\n",
       "      <td>NaN</td>\n",
       "      <td>NaN</td>\n",
       "      <td>7.98</td>\n",
       "    </tr>\n",
       "    <tr>\n",
       "      <th>3</th>\n",
       "      <td>FIFA 17</td>\n",
       "      <td>PS4</td>\n",
       "      <td>2016</td>\n",
       "      <td>Sports</td>\n",
       "      <td>0.66</td>\n",
       "      <td>5.75</td>\n",
       "      <td>0.08</td>\n",
       "      <td>1.11</td>\n",
       "      <td>85</td>\n",
       "      <td>5.0</td>\n",
       "      <td>E</td>\n",
       "      <td>7.60</td>\n",
       "    </tr>\n",
       "    <tr>\n",
       "      <th>4</th>\n",
       "      <td>Call of Duty: Black Ops 3</td>\n",
       "      <td>XOne</td>\n",
       "      <td>2015</td>\n",
       "      <td>Shooter</td>\n",
       "      <td>4.59</td>\n",
       "      <td>2.11</td>\n",
       "      <td>0.01</td>\n",
       "      <td>0.68</td>\n",
       "      <td>&lt;NA&gt;</td>\n",
       "      <td>NaN</td>\n",
       "      <td>NaN</td>\n",
       "      <td>7.39</td>\n",
       "    </tr>\n",
       "  </tbody>\n",
       "</table>\n",
       "</div>"
      ],
      "text/plain": [
       "                           name platform  year_of_release    genre  na_sales  \\\n",
       "0     Call of Duty: Black Ops 3      PS4             2015  Shooter      6.03   \n",
       "1                       FIFA 16      PS4             2015   Sports      1.12   \n",
       "2  Star Wars Battlefront (2015)      PS4             2015  Shooter      2.99   \n",
       "3                       FIFA 17      PS4             2016   Sports      0.66   \n",
       "4     Call of Duty: Black Ops 3     XOne             2015  Shooter      4.59   \n",
       "\n",
       "   eu_sales  jp_sales  other_sales  critic_score  user_score rating  sum_sales  \n",
       "0      5.86      0.36         2.38          <NA>         NaN    NaN      14.63  \n",
       "1      6.12      0.06         1.28            82         4.3      E       8.58  \n",
       "2      3.49      0.22         1.28          <NA>         NaN    NaN       7.98  \n",
       "3      5.75      0.08         1.11            85         5.0      E       7.60  \n",
       "4      2.11      0.01         0.68          <NA>         NaN    NaN       7.39  "
      ]
     },
     "metadata": {},
     "output_type": "display_data"
    },
    {
     "name": "stdout",
     "output_type": "stream",
     "text": [
      "<class 'pandas.core.frame.DataFrame'>\n",
      "RangeIndex: 1108 entries, 0 to 1107\n",
      "Data columns (total 12 columns):\n",
      " #   Column           Non-Null Count  Dtype  \n",
      "---  ------           --------------  -----  \n",
      " 0   name             1108 non-null   object \n",
      " 1   platform         1108 non-null   object \n",
      " 2   year_of_release  1108 non-null   Int64  \n",
      " 3   genre            1108 non-null   object \n",
      " 4   na_sales         1108 non-null   float64\n",
      " 5   eu_sales         1108 non-null   float64\n",
      " 6   jp_sales         1108 non-null   float64\n",
      " 7   other_sales      1108 non-null   float64\n",
      " 8   critic_score     457 non-null    Int64  \n",
      " 9   user_score       559 non-null    float64\n",
      " 10  rating           595 non-null    object \n",
      " 11  sum_sales        1108 non-null   float64\n",
      "dtypes: Int64(2), float64(6), object(4)\n",
      "memory usage: 106.2+ KB\n"
     ]
    }
   ],
   "source": [
    "# формирование датафрейма с актуальным периодом\n",
    "actual_data = data.query('year_of_release >= 2015')\n",
    "\n",
    "# сброс индексов\n",
    "actual_data.reset_index(drop=True, inplace=True)\n",
    "\n",
    "# проверка внесенных изменений\n",
    "display(actual_data.head())\n",
    "actual_data.info()"
   ]
  },
  {
   "cell_type": "markdown",
   "metadata": {},
   "source": [
    "Лидирующие позиции по продажам за актуальный период занимают: 'PS4', 'PS3', 'WiiU', '3DS', 'XOne'. Из них **'3DS', 'XOne', 'PS4'** имеют внушительные продажи за 2016 год по сравнению с остальными платформами. Все платформы падают к 2016 году (скорее всего вызвано неполнотой данных за 2016  год), наиболее устойчивые к падению: 'PS4' и 'XOne'.\n",
    "\n",
    "**Потенциально прибыльными платформами можно считать: '3DS', 'XOne', 'PS4'**."
   ]
  },
  {
   "cell_type": "code",
   "execution_count": 102,
   "metadata": {
    "scrolled": true
   },
   "outputs": [
    {
     "data": {
      "text/html": [
       "<div>\n",
       "<style scoped>\n",
       "    .dataframe tbody tr th:only-of-type {\n",
       "        vertical-align: middle;\n",
       "    }\n",
       "\n",
       "    .dataframe tbody tr th {\n",
       "        vertical-align: top;\n",
       "    }\n",
       "\n",
       "    .dataframe thead th {\n",
       "        text-align: right;\n",
       "    }\n",
       "</style>\n",
       "<table border=\"1\" class=\"dataframe\">\n",
       "  <thead>\n",
       "    <tr style=\"text-align: right;\">\n",
       "      <th></th>\n",
       "      <th>sum_sales</th>\n",
       "    </tr>\n",
       "    <tr>\n",
       "      <th>platform</th>\n",
       "      <th></th>\n",
       "    </tr>\n",
       "  </thead>\n",
       "  <tbody>\n",
       "    <tr>\n",
       "      <th>PS4</th>\n",
       "      <td>188.15</td>\n",
       "    </tr>\n",
       "    <tr>\n",
       "      <th>XOne</th>\n",
       "      <td>86.29</td>\n",
       "    </tr>\n",
       "    <tr>\n",
       "      <th>3DS</th>\n",
       "      <td>42.92</td>\n",
       "    </tr>\n",
       "    <tr>\n",
       "      <th>WiiU</th>\n",
       "      <td>20.95</td>\n",
       "    </tr>\n",
       "    <tr>\n",
       "      <th>PS3</th>\n",
       "      <td>20.42</td>\n",
       "    </tr>\n",
       "    <tr>\n",
       "      <th>PC</th>\n",
       "      <td>13.77</td>\n",
       "    </tr>\n",
       "    <tr>\n",
       "      <th>X360</th>\n",
       "      <td>13.48</td>\n",
       "    </tr>\n",
       "    <tr>\n",
       "      <th>PSV</th>\n",
       "      <td>10.50</td>\n",
       "    </tr>\n",
       "    <tr>\n",
       "      <th>Wii</th>\n",
       "      <td>1.32</td>\n",
       "    </tr>\n",
       "    <tr>\n",
       "      <th>PSP</th>\n",
       "      <td>0.12</td>\n",
       "    </tr>\n",
       "  </tbody>\n",
       "</table>\n",
       "</div>"
      ],
      "text/plain": [
       "          sum_sales\n",
       "platform           \n",
       "PS4          188.15\n",
       "XOne          86.29\n",
       "3DS           42.92\n",
       "WiiU          20.95\n",
       "PS3           20.42\n",
       "PC            13.77\n",
       "X360          13.48\n",
       "PSV           10.50\n",
       "Wii            1.32\n",
       "PSP            0.12"
      ]
     },
     "metadata": {},
     "output_type": "display_data"
    },
    {
     "data": {
      "text/plain": [
       "<AxesSubplot:title={'center':'3DS'}, xlabel='year_of_release'>"
      ]
     },
     "metadata": {},
     "output_type": "display_data"
    },
    {
     "data": {
      "text/plain": [
       "<AxesSubplot:title={'center':'PC'}, xlabel='year_of_release'>"
      ]
     },
     "metadata": {},
     "output_type": "display_data"
    },
    {
     "data": {
      "text/plain": [
       "<AxesSubplot:title={'center':'PS3'}, xlabel='year_of_release'>"
      ]
     },
     "metadata": {},
     "output_type": "display_data"
    },
    {
     "data": {
      "text/plain": [
       "<AxesSubplot:title={'center':'PS4'}, xlabel='year_of_release'>"
      ]
     },
     "metadata": {},
     "output_type": "display_data"
    },
    {
     "data": {
      "text/plain": [
       "<AxesSubplot:title={'center':'PSP'}, xlabel='year_of_release'>"
      ]
     },
     "metadata": {},
     "output_type": "display_data"
    },
    {
     "data": {
      "text/plain": [
       "<AxesSubplot:title={'center':'PSV'}, xlabel='year_of_release'>"
      ]
     },
     "metadata": {},
     "output_type": "display_data"
    },
    {
     "data": {
      "text/plain": [
       "<AxesSubplot:title={'center':'Wii'}, xlabel='year_of_release'>"
      ]
     },
     "metadata": {},
     "output_type": "display_data"
    },
    {
     "data": {
      "text/plain": [
       "<AxesSubplot:title={'center':'WiiU'}, xlabel='year_of_release'>"
      ]
     },
     "metadata": {},
     "output_type": "display_data"
    },
    {
     "data": {
      "text/plain": [
       "<AxesSubplot:title={'center':'X360'}, xlabel='year_of_release'>"
      ]
     },
     "metadata": {},
     "output_type": "display_data"
    },
    {
     "data": {
      "text/plain": [
       "<AxesSubplot:title={'center':'XOne'}, xlabel='year_of_release'>"
      ]
     },
     "metadata": {},
     "output_type": "display_data"
    },
    {
     "data": {
      "image/png": "[encoded data removed]",
      "text/plain": [
       "<Figure size 432x288 with 1 Axes>"
      ]
     },
     "metadata": {
      "needs_background": "light"
     },
     "output_type": "display_data"
    },
    {
     "data": {
      "image/png": "[encoded data removed]",
      "text/plain": [
       "<Figure size 432x288 with 1 Axes>"
      ]
     },
     "metadata": {
      "needs_background": "light"
     },
     "output_type": "display_data"
    },
    {
     "data": {
      "image/png": "[encoded data removed]",
      "text/plain": [
       "<Figure size 432x288 with 1 Axes>"
      ]
     },
     "metadata": {
      "needs_background": "light"
     },
     "output_type": "display_data"
    },
    {
     "data": {
      "image/png": "[encoded data removed]",
      "text/plain": [
       "<Figure size 432x288 with 1 Axes>"
      ]
     },
     "metadata": {
      "needs_background": "light"
     },
     "output_type": "display_data"
    },
    {
     "data": {
      "image/png": "[encoded data removed]",
      "text/plain": [
       "<Figure size 432x288 with 1 Axes>"
      ]
     },
     "metadata": {
      "needs_background": "light"
     },
     "output_type": "display_data"
    },
    {
     "data": {
      "image/png": "[encoded data removed]",
      "text/plain": [
       "<Figure size 432x288 with 1 Axes>"
      ]
     },
     "metadata": {
      "needs_background": "light"
     },
     "output_type": "display_data"
    },
    {
     "data": {
      "image/png": "[encoded data removed]",
      "text/plain": [
       "<Figure size 432x288 with 1 Axes>"
      ]
     },
     "metadata": {
      "needs_background": "light"
     },
     "output_type": "display_data"
    },
    {
     "data": {
      "image/png": "[encoded data removed]",
      "text/plain": [
       "<Figure size 432x288 with 1 Axes>"
      ]
     },
     "metadata": {
      "needs_background": "light"
     },
     "output_type": "display_data"
    },
    {
     "data": {
      "image/png": "[encoded data removed]",
      "text/plain": [
       "<Figure size 432x288 with 1 Axes>"
      ]
     },
     "metadata": {
      "needs_background": "light"
     },
     "output_type": "display_data"
    },
    {
     "data": {
      "image/png": "[encoded data removed]",
      "text/plain": [
       "<Figure size 432x288 with 1 Axes>"
      ]
     },
     "metadata": {
      "needs_background": "light"
     },
     "output_type": "display_data"
    }
   ],
   "source": [
    "# формирование датафрейма с актуальным периодом и суммарными продажами по платформам и годам \n",
    "actual_platforms_data = (actual_data.pivot_table(index=['platform', 'year_of_release'], values='sum_sales', aggfunc='sum')\n",
    "                                    .reset_index(level=[0, 1]))\n",
    "\n",
    "# сводная таблица с самыми популярными платформами за актуальный период\n",
    "display(actual_platforms_data.pivot_table(index='platform', values='sum_sales', aggfunc='sum')\n",
    "                             .sort_values(by='sum_sales', ascending=False))\n",
    "\n",
    "# цикл для создания линейных графиков продаж по годам по всем платформам за актуальный период\n",
    "for i in actual_platforms_data['platform'].unique():\n",
    "    display(actual_platforms_data.query('platform == @i')\n",
    "                                 .plot(kind='line', x='year_of_release', y='sum_sales', title=i))"
   ]
  },
  {
   "cell_type": "markdown",
   "metadata": {},
   "source": [
    "Лидерами по медианным продажам так же являются: 'PS4', 'PS3', 'WiiU', '3DS', 'XOne'. Платформа 'PS4' превосходит своего предшественника 'PS3' почти в два раза, что нельзя сказать о 'XOne' и 'X360', продажи у них почти одинаковые."
   ]
  },
  {
   "cell_type": "code",
   "execution_count": 103,
   "metadata": {
    "scrolled": false
   },
   "outputs": [
    {
     "data": {
      "text/plain": [
       "<AxesSubplot:xlabel='platform', ylabel='sum_sales'>"
      ]
     },
     "metadata": {},
     "output_type": "display_data"
    },
    {
     "data": {
      "image/png": "[encoded data removed]",
      "text/plain": [
       "<Figure size 432x288 with 1 Axes>"
      ]
     },
     "metadata": {
      "needs_background": "light"
     },
     "output_type": "display_data"
    }
   ],
   "source": [
    "# боксплоты для продаж по платформам\n",
    "display(sns.boxplot(y=actual_platforms_data['sum_sales'], x=actual_platforms_data['platform']))"
   ]
  },
  {
   "cell_type": "markdown",
   "metadata": {},
   "source": [
    "### Корреляция оценок и продаж.\n",
    "\n",
    "**Корреляция между оценками и продажами на популярных платформах чуть сильнее выражена, чем на остальных платформах. Как факт, зависимость продаж к оценкам пользователей и критиков очень слабая.**"
   ]
  },
  {
   "cell_type": "markdown",
   "metadata": {},
   "source": [
    "* Корреляция между продажами и оценками пользователей близка к нулю на всех трех платформах.\n",
    "* Корреляция между продажами и оценками критиков слабая на: 'PS4', 'XOne', а на '3DS' очень слабая."
   ]
  },
  {
   "cell_type": "code",
   "execution_count": 104,
   "metadata": {
    "scrolled": true
   },
   "outputs": [
    {
     "data": {
      "text/plain": [
       "<AxesSubplot:title={'center':'3DS (critic_score)'}, xlabel='sum_sales', ylabel='critic_score'>"
      ]
     },
     "metadata": {},
     "output_type": "display_data"
    },
    {
     "data": {
      "text/plain": [
       "'0.17757455046092874 --- 3DS'"
      ]
     },
     "metadata": {},
     "output_type": "display_data"
    },
    {
     "data": {
      "text/plain": [
       "<AxesSubplot:title={'center':'XOne (critic_score)'}, xlabel='sum_sales', ylabel='critic_score'>"
      ]
     },
     "metadata": {},
     "output_type": "display_data"
    },
    {
     "data": {
      "text/plain": [
       "'0.43088874582136805 --- XOne'"
      ]
     },
     "metadata": {},
     "output_type": "display_data"
    },
    {
     "data": {
      "text/plain": [
       "<AxesSubplot:title={'center':'PS4 (critic_score)'}, xlabel='sum_sales', ylabel='critic_score'>"
      ]
     },
     "metadata": {},
     "output_type": "display_data"
    },
    {
     "data": {
      "text/plain": [
       "'0.3928485555130601 --- PS4'"
      ]
     },
     "metadata": {},
     "output_type": "display_data"
    },
    {
     "data": {
      "image/png": "[encoded data removed]",
      "text/plain": [
       "<Figure size 432x288 with 1 Axes>"
      ]
     },
     "metadata": {
      "needs_background": "light"
     },
     "output_type": "display_data"
    },
    {
     "data": {
      "image/png": "[encoded data removed]",
      "text/plain": [
       "<Figure size 432x288 with 1 Axes>"
      ]
     },
     "metadata": {
      "needs_background": "light"
     },
     "output_type": "display_data"
    },
    {
     "data": {
      "image/png": "[encoded data removed]",
      "text/plain": [
       "<Figure size 432x288 with 1 Axes>"
      ]
     },
     "metadata": {
      "needs_background": "light"
     },
     "output_type": "display_data"
    }
   ],
   "source": [
    "# цикл для создания диаграмм рассеяния и вычисления коэффициента корреляции \n",
    "# по продажам и оценкам критиков по трем самым востребованным платформам \n",
    "for i in ['3DS', 'XOne', 'PS4']:\n",
    "    corr_actual_data = actual_data.query('platform == @i')\n",
    "    display(corr_actual_data.plot(kind='scatter', y='critic_score', x='sum_sales', title=(i + ' (critic_score)'), grid=True))\n",
    "    display(str(corr_actual_data['critic_score'].astype(float).corr(corr_actual_data['sum_sales'])) + ' --- ' + i)"
   ]
  },
  {
   "cell_type": "code",
   "execution_count": 105,
   "metadata": {
    "scrolled": true
   },
   "outputs": [
    {
     "data": {
      "text/plain": [
       "<AxesSubplot:title={'center':'3DS (user_score)'}, xlabel='sum_sales', ylabel='user_score'>"
      ]
     },
     "metadata": {},
     "output_type": "display_data"
    },
    {
     "data": {
      "text/plain": [
       "'0.19879627008102982 --- 3DS'"
      ]
     },
     "metadata": {},
     "output_type": "display_data"
    },
    {
     "data": {
      "text/plain": [
       "<AxesSubplot:title={'center':'XOne (user_score)'}, xlabel='sum_sales', ylabel='user_score'>"
      ]
     },
     "metadata": {},
     "output_type": "display_data"
    },
    {
     "data": {
      "text/plain": [
       "'-0.04146733387366271 --- XOne'"
      ]
     },
     "metadata": {},
     "output_type": "display_data"
    },
    {
     "data": {
      "text/plain": [
       "<AxesSubplot:title={'center':'PS4 (user_score)'}, xlabel='sum_sales', ylabel='user_score'>"
      ]
     },
     "metadata": {},
     "output_type": "display_data"
    },
    {
     "data": {
      "text/plain": [
       "'-0.05973845712638215 --- PS4'"
      ]
     },
     "metadata": {},
     "output_type": "display_data"
    },
    {
     "data": {
      "image/png": "[encoded data removed]",
      "text/plain": [
       "<Figure size 432x288 with 1 Axes>"
      ]
     },
     "metadata": {
      "needs_background": "light"
     },
     "output_type": "display_data"
    },
    {
     "data": {
      "image/png": "[encoded data removed]",
      "text/plain": [
       "<Figure size 432x288 with 1 Axes>"
      ]
     },
     "metadata": {
      "needs_background": "light"
     },
     "output_type": "display_data"
    },
    {
     "data": {
      "image/png": "[encoded data removed]",
      "text/plain": [
       "<Figure size 432x288 with 1 Axes>"
      ]
     },
     "metadata": {
      "needs_background": "light"
     },
     "output_type": "display_data"
    }
   ],
   "source": [
    "# цикл для создания диаграмм рассеяния и вычисления коэффициента корреляции \n",
    "# по продажам и оценкам пользователей по трем самым востребованным платформам \n",
    "for i in ['3DS', 'XOne', 'PS4']:\n",
    "    corr_actual_data = actual_data.query('platform == @i')\n",
    "    display(corr_actual_data.plot(kind='scatter', y='user_score', x='sum_sales', title=(i + ' (user_score)'), grid=True))\n",
    "    display(str(corr_actual_data['user_score'].corr(corr_actual_data['sum_sales'])) + ' --- ' + i)"
   ]
  },
  {
   "cell_type": "markdown",
   "metadata": {},
   "source": [
    "* Корреляция между продажами и оценками пользователей очень слабая или близка к нулю на всех платформах.\n",
    "* Корреляция между продажами и оценками критиков слабая на: 'PS3', 'Wii', 'WiiU', 'X360', а на остальных платформах очень слабая или близка к нулю."
   ]
  },
  {
   "cell_type": "code",
   "execution_count": 106,
   "metadata": {
    "scrolled": true
   },
   "outputs": [
    {
     "data": {
      "text/plain": [
       "<AxesSubplot:title={'center':'PC (critic_score)'}, xlabel='sum_sales', ylabel='critic_score'>"
      ]
     },
     "metadata": {},
     "output_type": "display_data"
    },
    {
     "data": {
      "text/plain": [
       "'0.3773317477241351 --- PC'"
      ]
     },
     "metadata": {},
     "output_type": "display_data"
    },
    {
     "data": {
      "text/plain": [
       "<AxesSubplot:title={'center':'PS3 (critic_score)'}, xlabel='sum_sales', ylabel='critic_score'>"
      ]
     },
     "metadata": {},
     "output_type": "display_data"
    },
    {
     "name": "stderr",
     "output_type": "stream",
     "text": [
      "/opt/conda/lib/python3.9/site-packages/numpy/lib/function_base.py:2683: RuntimeWarning: Degrees of freedom <= 0 for slice\n",
      "  c = cov(x, y, rowvar, dtype=dtype)\n",
      "/opt/conda/lib/python3.9/site-packages/numpy/lib/function_base.py:2542: RuntimeWarning: divide by zero encountered in true_divide\n",
      "  c *= np.true_divide(1, fact)\n"
     ]
    },
    {
     "data": {
      "text/plain": [
       "'nan --- PS3'"
      ]
     },
     "metadata": {},
     "output_type": "display_data"
    },
    {
     "data": {
      "text/plain": [
       "<AxesSubplot:title={'center':'PSP (critic_score)'}, xlabel='sum_sales', ylabel='critic_score'>"
      ]
     },
     "metadata": {},
     "output_type": "display_data"
    },
    {
     "data": {
      "text/plain": [
       "'nan --- PSP'"
      ]
     },
     "metadata": {},
     "output_type": "display_data"
    },
    {
     "data": {
      "text/plain": [
       "<AxesSubplot:title={'center':'PSV (critic_score)'}, xlabel='sum_sales', ylabel='critic_score'>"
      ]
     },
     "metadata": {},
     "output_type": "display_data"
    },
    {
     "data": {
      "text/plain": [
       "'0.0036040833609397678 --- PSV'"
      ]
     },
     "metadata": {},
     "output_type": "display_data"
    },
    {
     "data": {
      "text/plain": [
       "<AxesSubplot:title={'center':'Wii (critic_score)'}, xlabel='sum_sales', ylabel='critic_score'>"
      ]
     },
     "metadata": {},
     "output_type": "display_data"
    },
    {
     "data": {
      "text/plain": [
       "'nan --- Wii'"
      ]
     },
     "metadata": {},
     "output_type": "display_data"
    },
    {
     "data": {
      "text/plain": [
       "<AxesSubplot:title={'center':'WiiU (critic_score)'}, xlabel='sum_sales', ylabel='critic_score'>"
      ]
     },
     "metadata": {},
     "output_type": "display_data"
    },
    {
     "data": {
      "text/plain": [
       "'0.317045711769622 --- WiiU'"
      ]
     },
     "metadata": {},
     "output_type": "display_data"
    },
    {
     "data": {
      "text/plain": [
       "<AxesSubplot:title={'center':'X360 (critic_score)'}, xlabel='sum_sales', ylabel='critic_score'>"
      ]
     },
     "metadata": {},
     "output_type": "display_data"
    },
    {
     "data": {
      "text/plain": [
       "'nan --- X360'"
      ]
     },
     "metadata": {},
     "output_type": "display_data"
    },
    {
     "data": {
      "image/png": "[encoded data removed]",
      "text/plain": [
       "<Figure size 432x288 with 1 Axes>"
      ]
     },
     "metadata": {
      "needs_background": "light"
     },
     "output_type": "display_data"
    },
    {
     "data": {
      "image/png": "[encoded data removed]",
      "text/plain": [
       "<Figure size 432x288 with 1 Axes>"
      ]
     },
     "metadata": {
      "needs_background": "light"
     },
     "output_type": "display_data"
    },
    {
     "data": {
      "image/png": "[encoded data removed]",
      "text/plain": [
       "<Figure size 432x288 with 1 Axes>"
      ]
     },
     "metadata": {
      "needs_background": "light"
     },
     "output_type": "display_data"
    },
    {
     "data": {
      "image/png": "[encoded data removed]",
      "text/plain": [
       "<Figure size 432x288 with 1 Axes>"
      ]
     },
     "metadata": {
      "needs_background": "light"
     },
     "output_type": "display_data"
    },
    {
     "data": {
      "image/png": "[encoded data removed]",
      "text/plain": [
       "<Figure size 432x288 with 1 Axes>"
      ]
     },
     "metadata": {
      "needs_background": "light"
     },
     "output_type": "display_data"
    },
    {
     "data": {
      "image/png": "[encoded data removed]",
      "text/plain": [
       "<Figure size 432x288 with 1 Axes>"
      ]
     },
     "metadata": {
      "needs_background": "light"
     },
     "output_type": "display_data"
    },
    {
     "data": {
      "image/png": "[encoded data removed]",
      "text/plain": [
       "<Figure size 432x288 with 1 Axes>"
      ]
     },
     "metadata": {
      "needs_background": "light"
     },
     "output_type": "display_data"
    }
   ],
   "source": [
    "# формирование списка со всеми платформами за актуальный период\n",
    "platform_list = list(actual_platforms_data['platform'].unique())\n",
    "\n",
    "# удаление самых востребованных платформ из списка\n",
    "for i in range(len(platform_list) + 1):\n",
    "    for j in ['3DS', 'XOne', 'PS4']:\n",
    "        if j in platform_list:\n",
    "            platform_list.remove(j)\n",
    "\n",
    "# цикл для создания диаграмм рассеяния и вычисления коэффициента корреляции \n",
    "# по продажам и оценкам критиков по остальным платформам \n",
    "for i in platform_list:\n",
    "    corr_actual_data = actual_data.query('platform == @i')\n",
    "    display(corr_actual_data.plot(kind='scatter', y='critic_score', x='sum_sales', title=(i + ' (critic_score)'), grid=True))\n",
    "    display(str(corr_actual_data['critic_score'].astype(float).corr(corr_actual_data['sum_sales'])) + ' --- ' + i)"
   ]
  },
  {
   "cell_type": "code",
   "execution_count": 107,
   "metadata": {},
   "outputs": [
    {
     "data": {
      "text/plain": [
       "<AxesSubplot:title={'center':'PC (user_score)'}, xlabel='sum_sales', ylabel='user_score'>"
      ]
     },
     "metadata": {},
     "output_type": "display_data"
    },
    {
     "data": {
      "text/plain": [
       "'0.15038053045029076 --- PC'"
      ]
     },
     "metadata": {},
     "output_type": "display_data"
    },
    {
     "data": {
      "text/plain": [
       "<AxesSubplot:title={'center':'PS3 (user_score)'}, xlabel='sum_sales', ylabel='user_score'>"
      ]
     },
     "metadata": {},
     "output_type": "display_data"
    },
    {
     "data": {
      "text/plain": [
       "'-0.16529542277898507 --- PS3'"
      ]
     },
     "metadata": {},
     "output_type": "display_data"
    },
    {
     "data": {
      "text/plain": [
       "<AxesSubplot:title={'center':'PSP (user_score)'}, xlabel='sum_sales', ylabel='user_score'>"
      ]
     },
     "metadata": {},
     "output_type": "display_data"
    },
    {
     "data": {
      "text/plain": [
       "'nan --- PSP'"
      ]
     },
     "metadata": {},
     "output_type": "display_data"
    },
    {
     "data": {
      "text/plain": [
       "<AxesSubplot:title={'center':'PSV (user_score)'}, xlabel='sum_sales', ylabel='user_score'>"
      ]
     },
     "metadata": {},
     "output_type": "display_data"
    },
    {
     "data": {
      "text/plain": [
       "'0.07833473556248864 --- PSV'"
      ]
     },
     "metadata": {},
     "output_type": "display_data"
    },
    {
     "data": {
      "text/plain": [
       "<AxesSubplot:title={'center':'Wii (user_score)'}, xlabel='sum_sales', ylabel='user_score'>"
      ]
     },
     "metadata": {},
     "output_type": "display_data"
    },
    {
     "data": {
      "text/plain": [
       "'nan --- Wii'"
      ]
     },
     "metadata": {},
     "output_type": "display_data"
    },
    {
     "data": {
      "text/plain": [
       "<AxesSubplot:title={'center':'WiiU (user_score)'}, xlabel='sum_sales', ylabel='user_score'>"
      ]
     },
     "metadata": {},
     "output_type": "display_data"
    },
    {
     "data": {
      "text/plain": [
       "'0.3635185724809445 --- WiiU'"
      ]
     },
     "metadata": {},
     "output_type": "display_data"
    },
    {
     "data": {
      "text/plain": [
       "<AxesSubplot:title={'center':'X360 (user_score)'}, xlabel='sum_sales', ylabel='user_score'>"
      ]
     },
     "metadata": {},
     "output_type": "display_data"
    },
    {
     "data": {
      "text/plain": [
       "'-0.2813082274094897 --- X360'"
      ]
     },
     "metadata": {},
     "output_type": "display_data"
    },
    {
     "data": {
      "image/png": "[encoded data removed]",
      "text/plain": [
       "<Figure size 432x288 with 1 Axes>"
      ]
     },
     "metadata": {
      "needs_background": "light"
     },
     "output_type": "display_data"
    },
    {
     "data": {
      "image/png": "[encoded data removed]",
      "text/plain": [
       "<Figure size 432x288 with 1 Axes>"
      ]
     },
     "metadata": {
      "needs_background": "light"
     },
     "output_type": "display_data"
    },
    {
     "data": {
      "image/png": "[encoded data removed]",
      "text/plain": [
       "<Figure size 432x288 with 1 Axes>"
      ]
     },
     "metadata": {
      "needs_background": "light"
     },
     "output_type": "display_data"
    },
    {
     "data": {
      "image/png": "[encoded data removed]",
      "text/plain": [
       "<Figure size 432x288 with 1 Axes>"
      ]
     },
     "metadata": {
      "needs_background": "light"
     },
     "output_type": "display_data"
    },
    {
     "data": {
      "image/png": "[encoded data removed]",
      "text/plain": [
       "<Figure size 432x288 with 1 Axes>"
      ]
     },
     "metadata": {
      "needs_background": "light"
     },
     "output_type": "display_data"
    },
    {
     "data": {
      "image/png": "[encoded data removed]",
      "text/plain": [
       "<Figure size 432x288 with 1 Axes>"
      ]
     },
     "metadata": {
      "needs_background": "light"
     },
     "output_type": "display_data"
    },
    {
     "data": {
      "image/png": "[encoded data removed]",
      "text/plain": [
       "<Figure size 432x288 with 1 Axes>"
      ]
     },
     "metadata": {
      "needs_background": "light"
     },
     "output_type": "display_data"
    }
   ],
   "source": [
    "# цикл для создания диаграмм рассеяния и вычисления коэффициента корреляции \n",
    "# по продажам и оценкам пользователей по остальным платформам \n",
    "for i in platform_list:\n",
    "    corr_actual_data = actual_data.query('platform == @i')\n",
    "    display(corr_actual_data.plot(kind='scatter', y='user_score', x='sum_sales', title=(i + ' (user_score)'), grid=True))\n",
    "    display(str(corr_actual_data['user_score'].corr(corr_actual_data['sum_sales'])) + ' --- ' + i)"
   ]
  },
  {
   "cell_type": "markdown",
   "metadata": {},
   "source": [
    "### Распределение игр по жанрам.\n",
    "\n",
    "**Самые прибыльные жанры: 'Shooter', 'Action', 'Sports'**. При условии, что соотношение продаж к количеству игр жанра в среднем находится около 0.5, очень сильно бросаются в глаза жанры: 'Shooter'. <br><br>\n",
    "У жанра 'Shooter' коэффициент равен 1.3, это означает, что на одну игру приходится почти в два с половиной раза больше продаж, чем у остальных жанров.<br>\n",
    "Также стоит выделить жанр 'Action' с большим количеством выпущенных игр по сравнению с остальными жанрами: 430 против 132 (132 - второе по величине значение после 'Role-Playing')<br>"
   ]
  },
  {
   "cell_type": "code",
   "execution_count": 108,
   "metadata": {
    "scrolled": true
   },
   "outputs": [
    {
     "data": {
      "text/plain": [
       "<AxesSubplot:xlabel='genre'>"
      ]
     },
     "metadata": {},
     "output_type": "display_data"
    },
    {
     "data": {
      "text/html": [
       "<div>\n",
       "<style scoped>\n",
       "    .dataframe tbody tr th:only-of-type {\n",
       "        vertical-align: middle;\n",
       "    }\n",
       "\n",
       "    .dataframe tbody tr th {\n",
       "        vertical-align: top;\n",
       "    }\n",
       "\n",
       "    .dataframe thead th {\n",
       "        text-align: right;\n",
       "    }\n",
       "</style>\n",
       "<table border=\"1\" class=\"dataframe\">\n",
       "  <thead>\n",
       "    <tr style=\"text-align: right;\">\n",
       "      <th></th>\n",
       "      <th>sum_sales</th>\n",
       "      <th>count</th>\n",
       "      <th>ratio</th>\n",
       "    </tr>\n",
       "    <tr>\n",
       "      <th>genre</th>\n",
       "      <th></th>\n",
       "      <th></th>\n",
       "      <th></th>\n",
       "    </tr>\n",
       "  </thead>\n",
       "  <tbody>\n",
       "    <tr>\n",
       "      <th>Shooter</th>\n",
       "      <td>105.73</td>\n",
       "      <td>81</td>\n",
       "      <td>1.305309</td>\n",
       "    </tr>\n",
       "    <tr>\n",
       "      <th>Action</th>\n",
       "      <td>102.13</td>\n",
       "      <td>431</td>\n",
       "      <td>0.236961</td>\n",
       "    </tr>\n",
       "    <tr>\n",
       "      <th>Sports</th>\n",
       "      <td>64.33</td>\n",
       "      <td>107</td>\n",
       "      <td>0.601215</td>\n",
       "    </tr>\n",
       "    <tr>\n",
       "      <th>Role-Playing</th>\n",
       "      <td>55.82</td>\n",
       "      <td>132</td>\n",
       "      <td>0.422879</td>\n",
       "    </tr>\n",
       "    <tr>\n",
       "      <th>Misc</th>\n",
       "      <td>14.17</td>\n",
       "      <td>71</td>\n",
       "      <td>0.199577</td>\n",
       "    </tr>\n",
       "    <tr>\n",
       "      <th>Fighting</th>\n",
       "      <td>12.37</td>\n",
       "      <td>37</td>\n",
       "      <td>0.334324</td>\n",
       "    </tr>\n",
       "    <tr>\n",
       "      <th>Adventure</th>\n",
       "      <td>11.98</td>\n",
       "      <td>110</td>\n",
       "      <td>0.108909</td>\n",
       "    </tr>\n",
       "    <tr>\n",
       "      <th>Racing</th>\n",
       "      <td>10.86</td>\n",
       "      <td>42</td>\n",
       "      <td>0.258571</td>\n",
       "    </tr>\n",
       "    <tr>\n",
       "      <th>Platform</th>\n",
       "      <td>9.28</td>\n",
       "      <td>28</td>\n",
       "      <td>0.331429</td>\n",
       "    </tr>\n",
       "    <tr>\n",
       "      <th>Simulation</th>\n",
       "      <td>7.55</td>\n",
       "      <td>33</td>\n",
       "      <td>0.228788</td>\n",
       "    </tr>\n",
       "    <tr>\n",
       "      <th>Strategy</th>\n",
       "      <td>2.98</td>\n",
       "      <td>29</td>\n",
       "      <td>0.102759</td>\n",
       "    </tr>\n",
       "    <tr>\n",
       "      <th>Puzzle</th>\n",
       "      <td>0.72</td>\n",
       "      <td>7</td>\n",
       "      <td>0.102857</td>\n",
       "    </tr>\n",
       "  </tbody>\n",
       "</table>\n",
       "</div>"
      ],
      "text/plain": [
       "              sum_sales  count     ratio\n",
       "genre                                   \n",
       "Shooter          105.73     81  1.305309\n",
       "Action           102.13    431  0.236961\n",
       "Sports            64.33    107  0.601215\n",
       "Role-Playing      55.82    132  0.422879\n",
       "Misc              14.17     71  0.199577\n",
       "Fighting          12.37     37  0.334324\n",
       "Adventure         11.98    110  0.108909\n",
       "Racing            10.86     42  0.258571\n",
       "Platform           9.28     28  0.331429\n",
       "Simulation         7.55     33  0.228788\n",
       "Strategy           2.98     29  0.102759\n",
       "Puzzle             0.72      7  0.102857"
      ]
     },
     "metadata": {},
     "output_type": "display_data"
    },
    {
     "data": {
      "image/png": "[encoded data removed]",
      "text/plain": [
       "<Figure size 432x288 with 1 Axes>"
      ]
     },
     "metadata": {
      "needs_background": "light"
     },
     "output_type": "display_data"
    }
   ],
   "source": [
    "# формирование датафрейма с суммарными продажами, с количеством выпущенных игр и с их соотношением по жанрам\n",
    "genre_games_data = actual_data.pivot_table(index='genre', values='sum_sales', aggfunc=['sum', 'count'])\n",
    "genre_games_data.columns = ['sum_sales', 'count']\n",
    "genre_games_data['ratio'] = genre_games_data['sum_sales'] / genre_games_data['count']\n",
    "\n",
    "# проверка результатов и вычисление среднего по столбцу соотношения\n",
    "display(genre_games_data.sort_values(by='sum_sales', ascending=False)\n",
    "                        .plot(kind='bar', y='sum_sales'))\n",
    "\n",
    "# построение столбчатого сортированного графика\n",
    "display(genre_games_data.sort_values(by='sum_sales', ascending=False))"
   ]
  },
  {
   "cell_type": "markdown",
   "metadata": {},
   "source": [
    "## Составление портретов пользователей каждого регионов.\n"
   ]
  },
  {
   "cell_type": "markdown",
   "metadata": {},
   "source": [
    "### Популярность платформ.\n",
    "\n",
    "У пользователей Северной Америки пять самых популярных платформ: **'PS4', 'XOne', '3DS', 'WiiU', 'X360'**. <br>\n",
    "А у пользователей Европы пять самых популярных платформ: **'PS4', 'XOne', 'PC', '3DS', 'PS3'**. <br>\n",
    "Пять самых популярных платформ у пользователи Японии: **'3DS', 'PS4', 'PSV', 'PS3', 'WiiU'**. <br> \n",
    "Что удивительно, платформы серии XBox (XOne, X360) вообще не пользвуются спросом."
   ]
  },
  {
   "cell_type": "code",
   "execution_count": 109,
   "metadata": {
    "scrolled": true
   },
   "outputs": [
    {
     "data": {
      "text/html": [
       "<div>\n",
       "<style scoped>\n",
       "    .dataframe tbody tr th:only-of-type {\n",
       "        vertical-align: middle;\n",
       "    }\n",
       "\n",
       "    .dataframe tbody tr th {\n",
       "        vertical-align: top;\n",
       "    }\n",
       "\n",
       "    .dataframe thead th {\n",
       "        text-align: right;\n",
       "    }\n",
       "</style>\n",
       "<table border=\"1\" class=\"dataframe\">\n",
       "  <thead>\n",
       "    <tr style=\"text-align: right;\">\n",
       "      <th></th>\n",
       "      <th>eu_sales</th>\n",
       "      <th>jp_sales</th>\n",
       "      <th>na_sales</th>\n",
       "    </tr>\n",
       "    <tr>\n",
       "      <th>platform</th>\n",
       "      <th></th>\n",
       "      <th></th>\n",
       "      <th></th>\n",
       "    </tr>\n",
       "  </thead>\n",
       "  <tbody>\n",
       "    <tr>\n",
       "      <th>3DS</th>\n",
       "      <td>7.39</td>\n",
       "      <td>23.55</td>\n",
       "      <td>10.31</td>\n",
       "    </tr>\n",
       "    <tr>\n",
       "      <th>PS4</th>\n",
       "      <td>83.54</td>\n",
       "      <td>12.05</td>\n",
       "      <td>63.86</td>\n",
       "    </tr>\n",
       "    <tr>\n",
       "      <th>PSV</th>\n",
       "      <td>1.08</td>\n",
       "      <td>8.41</td>\n",
       "      <td>0.54</td>\n",
       "    </tr>\n",
       "    <tr>\n",
       "      <th>PS3</th>\n",
       "      <td>7.30</td>\n",
       "      <td>4.97</td>\n",
       "      <td>5.66</td>\n",
       "    </tr>\n",
       "    <tr>\n",
       "      <th>WiiU</th>\n",
       "      <td>6.49</td>\n",
       "      <td>4.12</td>\n",
       "      <td>8.86</td>\n",
       "    </tr>\n",
       "    <tr>\n",
       "      <th>XOne</th>\n",
       "      <td>28.10</td>\n",
       "      <td>0.18</td>\n",
       "      <td>50.30</td>\n",
       "    </tr>\n",
       "    <tr>\n",
       "      <th>PSP</th>\n",
       "      <td>0.00</td>\n",
       "      <td>0.12</td>\n",
       "      <td>0.00</td>\n",
       "    </tr>\n",
       "    <tr>\n",
       "      <th>PC</th>\n",
       "      <td>9.10</td>\n",
       "      <td>0.00</td>\n",
       "      <td>3.72</td>\n",
       "    </tr>\n",
       "    <tr>\n",
       "      <th>Wii</th>\n",
       "      <td>0.73</td>\n",
       "      <td>0.00</td>\n",
       "      <td>0.49</td>\n",
       "    </tr>\n",
       "    <tr>\n",
       "      <th>X360</th>\n",
       "      <td>4.21</td>\n",
       "      <td>0.00</td>\n",
       "      <td>8.05</td>\n",
       "    </tr>\n",
       "  </tbody>\n",
       "</table>\n",
       "</div>"
      ],
      "text/plain": [
       "          eu_sales  jp_sales  na_sales\n",
       "platform                              \n",
       "3DS           7.39     23.55     10.31\n",
       "PS4          83.54     12.05     63.86\n",
       "PSV           1.08      8.41      0.54\n",
       "PS3           7.30      4.97      5.66\n",
       "WiiU          6.49      4.12      8.86\n",
       "XOne         28.10      0.18     50.30\n",
       "PSP           0.00      0.12      0.00\n",
       "PC            9.10      0.00      3.72\n",
       "Wii           0.73      0.00      0.49\n",
       "X360          4.21      0.00      8.05"
      ]
     },
     "metadata": {},
     "output_type": "display_data"
    },
    {
     "data": {
      "text/plain": [
       "<AxesSubplot:ylabel='na_sales'>"
      ]
     },
     "metadata": {},
     "output_type": "display_data"
    },
    {
     "data": {
      "text/plain": [
       "<AxesSubplot:ylabel='eu_sales'>"
      ]
     },
     "metadata": {},
     "output_type": "display_data"
    },
    {
     "data": {
      "text/plain": [
       "<AxesSubplot:ylabel='jp_sales'>"
      ]
     },
     "metadata": {},
     "output_type": "display_data"
    },
    {
     "data": {
      "image/png": "[encoded data removed]",
      "text/plain": [
       "<Figure size 432x288 with 1 Axes>"
      ]
     },
     "metadata": {},
     "output_type": "display_data"
    },
    {
     "data": {
      "image/png": "[encoded data removed]",
      "text/plain": [
       "<Figure size 432x288 with 1 Axes>"
      ]
     },
     "metadata": {},
     "output_type": "display_data"
    },
    {
     "data": {
      "image/png": "[encoded data removed]",
      "text/plain": [
       "<Figure size 432x288 with 1 Axes>"
      ]
     },
     "metadata": {},
     "output_type": "display_data"
    }
   ],
   "source": [
    "# отображение сводной таблицы с распределением продаж по платформам в разных регионах\n",
    "display(actual_data.pivot_table(index='platform', values=['na_sales', 'eu_sales', 'jp_sales'], aggfunc='sum')\n",
    "                   .sort_values(by='jp_sales', ascending=False))\n",
    "\n",
    "# отображение круговых диаграмм\n",
    "display(actual_data.pivot_table(index='platform', values=['na_sales', 'eu_sales', 'jp_sales'], aggfunc='sum')\n",
    "                   .sort_values(by='na_sales', ascending=False)\n",
    "                   .plot(y='na_sales', kind='pie'))\n",
    "\n",
    "display(actual_data.pivot_table(index='platform', values=['na_sales', 'eu_sales', 'jp_sales'], aggfunc='sum')\n",
    "                   .sort_values(by='eu_sales', ascending=False)\n",
    "                   .plot(y='eu_sales', kind='pie'))\n",
    "\n",
    "display(actual_data.pivot_table(index='platform', values=['na_sales', 'eu_sales', 'jp_sales'], aggfunc='sum')\n",
    "                   .sort_values(by='jp_sales', ascending=False)\n",
    "                   .plot(y='jp_sales', kind='pie'))"
   ]
  },
  {
   "cell_type": "markdown",
   "metadata": {},
   "source": [
    "### Популярность жанров.\n",
    "\n",
    "У пользователей Европы и Северной Америки пять самых популярных жанров почти совпадают: **'Shooter', 'Action', 'Sports', 'Role-Playing', 'Misc'**. За исключением пятого жанра, у пользователей Европы 'Misc' сменяется на 'Racing'<br>\n",
    "У пользователей Японии: **'Action', 'Role-Playing', 'Shooter', 'Misc', 'Adventure'**<br><br>\n",
    "Различия заключаются в том, что игры жанра 'Shooter' чуть менее популярны в Японии, а игры жанра 'Action' наоборот, и занимают первое место в списке."
   ]
  },
  {
   "cell_type": "code",
   "execution_count": 110,
   "metadata": {
    "scrolled": true
   },
   "outputs": [
    {
     "data": {
      "text/html": [
       "<div>\n",
       "<style scoped>\n",
       "    .dataframe tbody tr th:only-of-type {\n",
       "        vertical-align: middle;\n",
       "    }\n",
       "\n",
       "    .dataframe tbody tr th {\n",
       "        vertical-align: top;\n",
       "    }\n",
       "\n",
       "    .dataframe thead th {\n",
       "        text-align: right;\n",
       "    }\n",
       "</style>\n",
       "<table border=\"1\" class=\"dataframe\">\n",
       "  <thead>\n",
       "    <tr style=\"text-align: right;\">\n",
       "      <th></th>\n",
       "      <th>eu_sales</th>\n",
       "      <th>jp_sales</th>\n",
       "      <th>na_sales</th>\n",
       "    </tr>\n",
       "    <tr>\n",
       "      <th>genre</th>\n",
       "      <th></th>\n",
       "      <th></th>\n",
       "      <th></th>\n",
       "    </tr>\n",
       "  </thead>\n",
       "  <tbody>\n",
       "    <tr>\n",
       "      <th>Action</th>\n",
       "      <td>34.82</td>\n",
       "      <td>23.05</td>\n",
       "      <td>33.68</td>\n",
       "    </tr>\n",
       "    <tr>\n",
       "      <th>Role-Playing</th>\n",
       "      <td>17.21</td>\n",
       "      <td>13.41</td>\n",
       "      <td>19.82</td>\n",
       "    </tr>\n",
       "    <tr>\n",
       "      <th>Shooter</th>\n",
       "      <td>40.28</td>\n",
       "      <td>3.79</td>\n",
       "      <td>48.18</td>\n",
       "    </tr>\n",
       "    <tr>\n",
       "      <th>Misc</th>\n",
       "      <td>4.26</td>\n",
       "      <td>3.19</td>\n",
       "      <td>5.58</td>\n",
       "    </tr>\n",
       "    <tr>\n",
       "      <th>Adventure</th>\n",
       "      <td>4.67</td>\n",
       "      <td>2.22</td>\n",
       "      <td>3.84</td>\n",
       "    </tr>\n",
       "    <tr>\n",
       "      <th>Simulation</th>\n",
       "      <td>3.74</td>\n",
       "      <td>1.93</td>\n",
       "      <td>1.36</td>\n",
       "    </tr>\n",
       "    <tr>\n",
       "      <th>Sports</th>\n",
       "      <td>27.82</td>\n",
       "      <td>1.65</td>\n",
       "      <td>26.31</td>\n",
       "    </tr>\n",
       "    <tr>\n",
       "      <th>Fighting</th>\n",
       "      <td>3.72</td>\n",
       "      <td>1.54</td>\n",
       "      <td>5.54</td>\n",
       "    </tr>\n",
       "    <tr>\n",
       "      <th>Platform</th>\n",
       "      <td>3.20</td>\n",
       "      <td>1.42</td>\n",
       "      <td>3.78</td>\n",
       "    </tr>\n",
       "    <tr>\n",
       "      <th>Puzzle</th>\n",
       "      <td>0.13</td>\n",
       "      <td>0.52</td>\n",
       "      <td>0.06</td>\n",
       "    </tr>\n",
       "    <tr>\n",
       "      <th>Strategy</th>\n",
       "      <td>1.57</td>\n",
       "      <td>0.39</td>\n",
       "      <td>0.82</td>\n",
       "    </tr>\n",
       "    <tr>\n",
       "      <th>Racing</th>\n",
       "      <td>6.52</td>\n",
       "      <td>0.29</td>\n",
       "      <td>2.82</td>\n",
       "    </tr>\n",
       "  </tbody>\n",
       "</table>\n",
       "</div>"
      ],
      "text/plain": [
       "              eu_sales  jp_sales  na_sales\n",
       "genre                                     \n",
       "Action           34.82     23.05     33.68\n",
       "Role-Playing     17.21     13.41     19.82\n",
       "Shooter          40.28      3.79     48.18\n",
       "Misc              4.26      3.19      5.58\n",
       "Adventure         4.67      2.22      3.84\n",
       "Simulation        3.74      1.93      1.36\n",
       "Sports           27.82      1.65     26.31\n",
       "Fighting          3.72      1.54      5.54\n",
       "Platform          3.20      1.42      3.78\n",
       "Puzzle            0.13      0.52      0.06\n",
       "Strategy          1.57      0.39      0.82\n",
       "Racing            6.52      0.29      2.82"
      ]
     },
     "metadata": {},
     "output_type": "display_data"
    },
    {
     "data": {
      "text/plain": [
       "<AxesSubplot:ylabel='na_sales'>"
      ]
     },
     "metadata": {},
     "output_type": "display_data"
    },
    {
     "data": {
      "text/plain": [
       "<AxesSubplot:ylabel='eu_sales'>"
      ]
     },
     "metadata": {},
     "output_type": "display_data"
    },
    {
     "data": {
      "text/plain": [
       "<AxesSubplot:ylabel='jp_sales'>"
      ]
     },
     "metadata": {},
     "output_type": "display_data"
    },
    {
     "data": {
      "image/png": "[encoded data removed]",
      "text/plain": [
       "<Figure size 432x288 with 1 Axes>"
      ]
     },
     "metadata": {},
     "output_type": "display_data"
    },
    {
     "data": {
      "image/png": "[encoded data removed]",
      "text/plain": [
       "<Figure size 432x288 with 1 Axes>"
      ]
     },
     "metadata": {},
     "output_type": "display_data"
    },
    {
     "data": {
      "image/png": "[encoded data removed]",
      "text/plain": [
       "<Figure size 432x288 with 1 Axes>"
      ]
     },
     "metadata": {},
     "output_type": "display_data"
    }
   ],
   "source": [
    "# отображение сводной таблицы с распределением продаж по жанрам в разных регионах\n",
    "display(actual_data.pivot_table(index='genre', values=['na_sales', 'eu_sales', 'jp_sales'], aggfunc='sum')\n",
    "                   .sort_values(by='jp_sales', ascending=False))\n",
    "\n",
    "# отображение круговых диаграмм\n",
    "display(actual_data.pivot_table(index='genre', values=['na_sales', 'eu_sales', 'jp_sales'], aggfunc='sum')\n",
    "                   .sort_values(by='na_sales', ascending=False)\n",
    "                   .plot(y='na_sales', kind='pie'))\n",
    "\n",
    "display(actual_data.pivot_table(index='genre', values=['na_sales', 'eu_sales', 'jp_sales'], aggfunc='sum')\n",
    "                   .sort_values(by='eu_sales', ascending=False)\n",
    "                   .plot(y='eu_sales', kind='pie'))\n",
    "\n",
    "display(actual_data.pivot_table(index='genre', values=['na_sales', 'eu_sales', 'jp_sales'], aggfunc='sum')\n",
    "                   .sort_values(by='jp_sales', ascending=False)\n",
    "                   .plot(y='jp_sales', kind='pie'))"
   ]
  },
  {
   "cell_type": "markdown",
   "metadata": {},
   "source": [
    "### Влияние рейтинга ESRB на продажи.\n",
    "\n",
    "Наиболее популярные игры с рейтингом 'M' и 'E' у пользователей Европы и Северной Америки, и оставшиеся два места в списке (рейтинги 'T' и 'E10+') совпадают.<br>\n",
    "У пользователей Японии список востребованности немного меняется, на первом и втором месте рейтинги 'T' и 'Е' соответственно, на 3-м и 4-ом местах рейтнги 'M' и 'E10+'.<br>\n",
    "Интересно, что игры с рейтингом 'E10+' не пользуются спросом во всех трех регионах в сравнении.\n",
    "\n",
    "**Иными словами, в Европе и Северной Америке наиболее востребованы игры с рейтингом от 17-ти лет ('M'), а в Японии игры с рейтингом от 13-ти лет ('T') <br>\n",
    "Также, стоит отметить большое количество продаж игр с неопределенным рейтингом ESRB во всех регионах, в частности в Японии, где почти 65% продаж приходятся на такие игры. Можно предположить, что у пользователей в Японии в пул игр входят локально популярные игры, которые не так популярны за пределами региона, от чего у них и неопределенный рейтинг.**"
   ]
  },
  {
   "cell_type": "code",
   "execution_count": 111,
   "metadata": {
    "scrolled": true
   },
   "outputs": [
    {
     "name": "stderr",
     "output_type": "stream",
     "text": [
      "/opt/conda/lib/python3.9/site-packages/pandas/core/indexing.py:1720: SettingWithCopyWarning: \n",
      "A value is trying to be set on a copy of a slice from a DataFrame.\n",
      "Try using .loc[row_indexer,col_indexer] = value instead\n",
      "\n",
      "See the caveats in the documentation: https://pandas.pydata.org/pandas-docs/stable/user_guide/indexing.html#returning-a-view-versus-a-copy\n",
      "  self._setitem_single_column(loc, value, pi)\n"
     ]
    },
    {
     "data": {
      "text/plain": [
       "unknown    513\n",
       "T          192\n",
       "E          153\n",
       "M          149\n",
       "E10+       101\n",
       "Name: rating, dtype: int64"
      ]
     },
     "metadata": {},
     "output_type": "display_data"
    },
    {
     "data": {
      "text/html": [
       "<div>\n",
       "<style scoped>\n",
       "    .dataframe tbody tr th:only-of-type {\n",
       "        vertical-align: middle;\n",
       "    }\n",
       "\n",
       "    .dataframe tbody tr th {\n",
       "        vertical-align: top;\n",
       "    }\n",
       "\n",
       "    .dataframe thead th {\n",
       "        text-align: right;\n",
       "    }\n",
       "</style>\n",
       "<table border=\"1\" class=\"dataframe\">\n",
       "  <thead>\n",
       "    <tr style=\"text-align: right;\">\n",
       "      <th></th>\n",
       "      <th>eu_sales</th>\n",
       "      <th>jp_sales</th>\n",
       "      <th>na_sales</th>\n",
       "    </tr>\n",
       "    <tr>\n",
       "      <th>rating</th>\n",
       "      <th></th>\n",
       "      <th></th>\n",
       "      <th></th>\n",
       "    </tr>\n",
       "  </thead>\n",
       "  <tbody>\n",
       "    <tr>\n",
       "      <th>unknown</th>\n",
       "      <td>35.71</td>\n",
       "      <td>32.89</td>\n",
       "      <td>37.44</td>\n",
       "    </tr>\n",
       "    <tr>\n",
       "      <th>T</th>\n",
       "      <td>20.32</td>\n",
       "      <td>7.70</td>\n",
       "      <td>22.86</td>\n",
       "    </tr>\n",
       "    <tr>\n",
       "      <th>E</th>\n",
       "      <td>34.83</td>\n",
       "      <td>5.25</td>\n",
       "      <td>26.59</td>\n",
       "    </tr>\n",
       "    <tr>\n",
       "      <th>M</th>\n",
       "      <td>45.54</td>\n",
       "      <td>4.29</td>\n",
       "      <td>47.03</td>\n",
       "    </tr>\n",
       "    <tr>\n",
       "      <th>E10+</th>\n",
       "      <td>11.54</td>\n",
       "      <td>3.27</td>\n",
       "      <td>17.87</td>\n",
       "    </tr>\n",
       "  </tbody>\n",
       "</table>\n",
       "</div>"
      ],
      "text/plain": [
       "         eu_sales  jp_sales  na_sales\n",
       "rating                               \n",
       "unknown     35.71     32.89     37.44\n",
       "T           20.32      7.70     22.86\n",
       "E           34.83      5.25     26.59\n",
       "M           45.54      4.29     47.03\n",
       "E10+        11.54      3.27     17.87"
      ]
     },
     "metadata": {},
     "output_type": "display_data"
    },
    {
     "data": {
      "text/plain": [
       "<AxesSubplot:ylabel='na_sales'>"
      ]
     },
     "metadata": {},
     "output_type": "display_data"
    },
    {
     "data": {
      "text/plain": [
       "<AxesSubplot:ylabel='eu_sales'>"
      ]
     },
     "metadata": {},
     "output_type": "display_data"
    },
    {
     "data": {
      "text/plain": [
       "<AxesSubplot:ylabel='jp_sales'>"
      ]
     },
     "metadata": {},
     "output_type": "display_data"
    },
    {
     "data": {
      "image/png": "[encoded data removed]",
      "text/plain": [
       "<Figure size 432x288 with 1 Axes>"
      ]
     },
     "metadata": {},
     "output_type": "display_data"
    },
    {
     "data": {
      "image/png": "[encoded data removed]",
      "text/plain": [
       "<Figure size 432x288 with 1 Axes>"
      ]
     },
     "metadata": {},
     "output_type": "display_data"
    },
    {
     "data": {
      "image/png": "[encoded data removed]",
      "text/plain": [
       "<Figure size 432x288 with 1 Axes>"
      ]
     },
     "metadata": {},
     "output_type": "display_data"
    }
   ],
   "source": [
    "# замена пропусков на 'unknown'\n",
    "actual_data.loc[(actual_data.rating.isna()), 'rating'] = 'unknown'\n",
    "\n",
    "# проверка внесенных изменений\n",
    "display(actual_data['rating'].value_counts())\n",
    "\n",
    "# отображение сводной таблицы с распределением продаж по рейтингу ESRB в разных регионах\n",
    "display(actual_data.pivot_table(index='rating', values=['na_sales', 'eu_sales', 'jp_sales'], aggfunc='sum')\n",
    "                   .sort_values(by='jp_sales', ascending=False))\n",
    "\n",
    "# отображение круговых диаграмм\n",
    "display(actual_data.pivot_table(index='rating', values=['na_sales', 'eu_sales', 'jp_sales'], aggfunc='sum')\n",
    "                   .sort_values(by='na_sales', ascending=False)\n",
    "                   .plot(y='na_sales', kind='pie'))\n",
    "\n",
    "display(actual_data.pivot_table(index='rating', values=['na_sales', 'eu_sales', 'jp_sales'], aggfunc='sum')\n",
    "                   .sort_values(by='eu_sales', ascending=False)\n",
    "                   .plot(y='eu_sales', kind='pie'))\n",
    "\n",
    "display(actual_data.pivot_table(index='rating', values=['na_sales', 'eu_sales', 'jp_sales'], aggfunc='sum')\n",
    "                   .sort_values(by='jp_sales', ascending=False)\n",
    "                   .plot(y='jp_sales', kind='pie'))\n"
   ]
  },
  {
   "cell_type": "markdown",
   "metadata": {},
   "source": [
    "## Постановка и проверка гипотез."
   ]
  },
  {
   "cell_type": "markdown",
   "metadata": {},
   "source": [
    "### Первая гипотеза. Средние пользовательские рейтинги платформ Xbox One и PC одинаковые.\n",
    "\n",
    "Сформируем двухстороннюю гипотезу, где:\n",
    "* **Н0: Средние пользовательские рейтинги платформы Xbox One равны средним пользовательскии рейтингам платформы PС.**\n",
    "* **Н1: Средние пользовательские рейтинги платформы Xbox One не равны средним пользовательскии рейтингам платформы PС.**"
   ]
  },
  {
   "cell_type": "markdown",
   "metadata": {},
   "source": [
    "Дисперсии и размеры выборок различны, следовательно параметр 'equal_var' будет иметь значение 'False' при вызове нужного метода."
   ]
  },
  {
   "cell_type": "code",
   "execution_count": 112,
   "metadata": {},
   "outputs": [
    {
     "data": {
      "text/plain": [
       "167"
      ]
     },
     "metadata": {},
     "output_type": "display_data"
    },
    {
     "data": {
      "text/plain": [
       "104"
      ]
     },
     "metadata": {},
     "output_type": "display_data"
    },
    {
     "data": {
      "text/plain": [
       "2.1082234820025954"
      ]
     },
     "metadata": {},
     "output_type": "display_data"
    },
    {
     "data": {
      "text/plain": [
       "3.0739158163265308"
      ]
     },
     "metadata": {},
     "output_type": "display_data"
    }
   ],
   "source": [
    "# формирование выборок с играми платформ XOne и PC\n",
    "actual_data_xone = actual_data.query('platform == \"XOne\"')\n",
    "actual_data_pc = actual_data.query('platform == \"PC\"')\n",
    "\n",
    "# вычисление размера выборок\n",
    "display(len(actual_data_xone['user_score']))\n",
    "display(len(actual_data_pc['user_score']))\n",
    "\n",
    "# вычисление дисперсии\n",
    "display(np.var(actual_data_xone['user_score']))\n",
    "display(np.var(actual_data_pc['user_score']))"
   ]
  },
  {
   "cell_type": "markdown",
   "metadata": {},
   "source": [
    "Вероятность получить одинаковые или близкие значения достаточна высокая (30%), как следствие, **отвергнуть нулевую гипотезу не получилось**."
   ]
  },
  {
   "cell_type": "code",
   "execution_count": 113,
   "metadata": {},
   "outputs": [
    {
     "data": {
      "text/plain": [
       "'p-value'"
      ]
     },
     "metadata": {},
     "output_type": "display_data"
    },
    {
     "data": {
      "text/plain": [
       "0.2946308864003345"
      ]
     },
     "metadata": {},
     "output_type": "display_data"
    },
    {
     "data": {
      "text/plain": [
       "'Не получилось отвергнуть нулевую гипотезу'"
      ]
     },
     "metadata": {},
     "output_type": "display_data"
    }
   ],
   "source": [
    "# установка порогового значения\n",
    "alpha = .01 \n",
    "\n",
    "# применение теста для проверки равентсва двух генеральных совокупностей\n",
    "results = st.ttest_ind(actual_data_xone.dropna(subset=['user_score'])['user_score'],\n",
    "                       actual_data_pc.dropna(subset=['user_score'])['user_score'],\n",
    "                       equal_var=False)\n",
    "\n",
    "# вывод получившегося p-значения\n",
    "display('p-value', results.pvalue) \n",
    "\n",
    "# проверка меньше ли p-значение чем пороговое значение\n",
    "if results.pvalue < alpha: \n",
    "    display('Отвергаем нулевую гипотезу')\n",
    "else:\n",
    "    display('Не получилось отвергнуть нулевую гипотезу')"
   ]
  },
  {
   "cell_type": "markdown",
   "metadata": {},
   "source": [
    "### Вторая гипотеза. Средние пользовательские рейтинги жанров Action и Sports разные .\n",
    "\n",
    "Сформируем двухстороннюю гипотезу, где:\n",
    "* **Н0: Средние пользовательские рейтинги жанра 'Action' равны средним пользовательскии рейтингам жанра 'Sports'.**\n",
    "* **Н1: Средние пользовательские рейтинги жанра 'Action' не равны средним пользовательскии рейтингам жанра 'Sports'.**"
   ]
  },
  {
   "cell_type": "markdown",
   "metadata": {},
   "source": [
    "Дисперсии и размеры выборок аналогично различны. Параметр 'equal_var' будет иметь значение 'False'"
   ]
  },
  {
   "cell_type": "code",
   "execution_count": 114,
   "metadata": {},
   "outputs": [
    {
     "data": {
      "text/plain": [
       "431"
      ]
     },
     "metadata": {},
     "output_type": "display_data"
    },
    {
     "data": {
      "text/plain": [
       "107"
      ]
     },
     "metadata": {},
     "output_type": "display_data"
    },
    {
     "data": {
      "text/plain": [
       "1.8036618432709604"
      ]
     },
     "metadata": {},
     "output_type": "display_data"
    },
    {
     "data": {
      "text/plain": [
       "3.8252424152290296"
      ]
     },
     "metadata": {},
     "output_type": "display_data"
    }
   ],
   "source": [
    "# формирование выборок с играми жанров Action и Sports\n",
    "actual_data_action = actual_data.query('genre == \"Action\"')\n",
    "actual_data_sports = actual_data.query('genre == \"Sports\"')\n",
    "\n",
    "# вычисление размера выборок\n",
    "display(len(actual_data_action['user_score']))\n",
    "display(len(actual_data_sports['user_score']))\n",
    "\n",
    "# вычисление дисперсии\n",
    "display(np.var(actual_data_action['user_score']))\n",
    "display(np.var(actual_data_sports['user_score']))"
   ]
  },
  {
   "cell_type": "markdown",
   "metadata": {},
   "source": [
    "Вероятность получить равные или близкие значения слишком низкая для принятия нулевой гипотезы, как следствие, **отвергаем нулевую гипотезу в пользу альтернативной.**"
   ]
  },
  {
   "cell_type": "code",
   "execution_count": 115,
   "metadata": {
    "scrolled": true
   },
   "outputs": [
    {
     "data": {
      "text/plain": [
       "'p-value'"
      ]
     },
     "metadata": {},
     "output_type": "display_data"
    },
    {
     "data": {
      "text/plain": [
       "5.97163549920592e-10"
      ]
     },
     "metadata": {},
     "output_type": "display_data"
    },
    {
     "data": {
      "text/plain": [
       "'Отвергаем нулевую гипотезу'"
      ]
     },
     "metadata": {},
     "output_type": "display_data"
    }
   ],
   "source": [
    "# установка порогового значения\n",
    "alpha = .01 \n",
    "\n",
    "# применение теста для проверки равентсва двух генеральных совокупностей\n",
    "results = st.ttest_ind(actual_data_action.dropna(subset=['user_score'])['user_score'],\n",
    "                       actual_data_sports.dropna(subset=['user_score'])['user_score'],\n",
    "                       equal_var=False)\n",
    "\n",
    "# вывод получившегося p-значения\n",
    "display('p-value', results.pvalue) \n",
    "\n",
    "# проверка меньше ли p-значение чем пороговое значение\n",
    "if results.pvalue < alpha: \n",
    "    display('Отвергаем нулевую гипотезу')\n",
    "else:\n",
    "    display('Не получилось отвергнуть нулевую гипотезу')"
   ]
  },
  {
   "cell_type": "markdown",
   "metadata": {},
   "source": [
    "## Общий вывод."
   ]
  },
  {
   "cell_type": "markdown",
   "metadata": {},
   "source": [
    "* **Проделанная работа**: посмотрели данные, привели названия столбцов к нижнему регистру, изменили типы данных в столбцах, по возможности обработали пропуски, добавили столбец с суммарным количеством продаж, отобрали потенциально прибыльные платформы и определили актуальный период, нашли корреляцию оценок критиков и пользователей к продажам, определили самые продаваемые жанры, составили портреты пользователей Северной Америки, Европы и Японии (популярность платформ, жанров, и определение влияния рейтинга ESRB), поставили две гипотезы и проверили их.\n",
    "* Актуальный период: 2015-2016 год, потенциально прибыльные платформы: '3DS', 'XOne', 'PS4', взаимосвязь количества продаж и оценок пользователей/критиков в среднем выражена слабо, самые популярные жанры: 'Shooter', 'Action', 'Sports', из них самый прибыльный (соотношение кол-во проданных копий к кол-ву выпущенных игр) жанр - 'Shooter'. \n",
    "* **Портреты пользователей разных регионов**:\n",
    "** **Европа**: платформы - 'PS4', 'XOne', 'PC', '3DS', 'PS3' с упором на семейство платформ PS, жанры - 'Shooter', 'Action', 'Sports', 'Role-Playing', 'Racing', влияние ESRB рейтинга - наиболее пользуются спросом игры с рейтингом 'M'.\n",
    "** **Северная Америка**: платформы - 'PS4', 'XOne', '3DS', 'WiiU', 'X360' с упором на семейство платформ XBox, жанры - 'Shooter', 'Action', 'Sports', 'Role-Playing', 'Misc', влияние ESRB рейтинга - наиболее пользуются спросом игры с рейтингом 'M'.\n",
    "** **Япония**: платформы - '3DS', 'PS4', 'PSV', 'PS3', 'WiiU' (на платформы семейства XBox почти нет спроса), жанры - 'Action', 'Role-Playing', 'Shooter', 'Misc', 'Adventure', влияние ESRB рейтинга - наиболее пользуются спросом игры с рейтингом 'T'.\n",
    "* Вероятность получить схожие пользовательские оценки на платформах Xbox One и PC достаточна высокая (29%). Вероятность того, что пользовательские оценки жанров 'Action' и 'Sports' будут близки по среднему значению очень маленькая. \n",
    "* Для определения потенциально прибыльной кампании для начала нужно определится с регионом проведения кампании. \n",
    "** **Если это будет Европа, то ставку можно сделать на игры жанра 'Shooter'  на платформе 'PS4', ESRB рейтинг - 'M'.** \n",
    "** **Если Северная Америка, то жанр 'Shooter' на платформе 'PS4', ESRB рейтинг - 'M'.**\n",
    "** **В случае с Японией - жанр 'Action', платформа '3DS', ESRB рейтинг - 'T'.**"
   ]
  }
 ],
 "metadata": {
  "ExecuteTimeLog": [
   {
    "duration": 690,
    "start_time": "2022-05-03T12:41:01.447Z"
   },
   {
    "duration": 54,
    "start_time": "2022-05-03T12:41:53.850Z"
   },
   {
    "duration": 75,
    "start_time": "2022-05-03T12:42:10.340Z"
   },
   {
    "duration": 125,
    "start_time": "2022-05-03T12:42:25.553Z"
   },
   {
    "duration": 145,
    "start_time": "2022-05-03T12:47:01.963Z"
   },
   {
    "duration": 58,
    "start_time": "2022-05-03T12:48:00.626Z"
   },
   {
    "duration": 54,
    "start_time": "2022-05-03T12:48:10.752Z"
   },
   {
    "duration": 50,
    "start_time": "2022-05-03T12:48:27.306Z"
   },
   {
    "duration": 49,
    "start_time": "2022-05-03T12:48:39.609Z"
   },
   {
    "duration": 43,
    "start_time": "2022-05-03T13:17:12.979Z"
   },
   {
    "duration": 67,
    "start_time": "2022-05-03T13:17:23.699Z"
   },
   {
    "duration": 472,
    "start_time": "2022-05-04T11:27:57.909Z"
   },
   {
    "duration": 572,
    "start_time": "2022-05-04T11:31:31.478Z"
   },
   {
    "duration": 4,
    "start_time": "2022-05-04T11:33:50.209Z"
   },
   {
    "duration": 99,
    "start_time": "2022-05-04T11:33:58.796Z"
   },
   {
    "duration": 134,
    "start_time": "2022-05-04T11:34:26.025Z"
   },
   {
    "duration": 6,
    "start_time": "2022-05-04T11:34:28.971Z"
   },
   {
    "duration": 7,
    "start_time": "2022-05-04T11:34:39.028Z"
   },
   {
    "duration": 7,
    "start_time": "2022-05-04T11:34:45.787Z"
   },
   {
    "duration": 7,
    "start_time": "2022-05-04T11:35:02.706Z"
   },
   {
    "duration": 7,
    "start_time": "2022-05-04T11:37:24.579Z"
   },
   {
    "duration": 66,
    "start_time": "2022-05-04T11:37:27.508Z"
   },
   {
    "duration": 3,
    "start_time": "2022-05-04T11:37:27.577Z"
   },
   {
    "duration": 8,
    "start_time": "2022-05-04T11:37:52.415Z"
   },
   {
    "duration": 7,
    "start_time": "2022-05-04T11:37:55.827Z"
   },
   {
    "duration": 8,
    "start_time": "2022-05-04T11:38:01.715Z"
   },
   {
    "duration": 7,
    "start_time": "2022-05-04T11:38:39.236Z"
   },
   {
    "duration": 153,
    "start_time": "2022-05-04T11:38:42.383Z"
   },
   {
    "duration": 8,
    "start_time": "2022-05-04T11:38:45.860Z"
   },
   {
    "duration": 4,
    "start_time": "2022-05-04T11:40:21.715Z"
   },
   {
    "duration": 146,
    "start_time": "2022-05-04T11:40:25.156Z"
   },
   {
    "duration": 10,
    "start_time": "2022-05-04T11:40:27.414Z"
   },
   {
    "duration": 5,
    "start_time": "2022-05-04T11:40:31.531Z"
   },
   {
    "duration": 4,
    "start_time": "2022-05-04T11:40:56.106Z"
   },
   {
    "duration": 23,
    "start_time": "2022-05-04T11:41:00.885Z"
   },
   {
    "duration": 35,
    "start_time": "2022-05-04T11:41:27.393Z"
   },
   {
    "duration": 12,
    "start_time": "2022-05-04T11:44:13.228Z"
   },
   {
    "duration": 8,
    "start_time": "2022-05-04T11:44:18.957Z"
   },
   {
    "duration": 7,
    "start_time": "2022-05-04T11:44:21.109Z"
   },
   {
    "duration": 7,
    "start_time": "2022-05-04T11:44:32.611Z"
   },
   {
    "duration": 7,
    "start_time": "2022-05-04T11:49:44.329Z"
   },
   {
    "duration": 6,
    "start_time": "2022-05-04T11:49:50.854Z"
   },
   {
    "duration": 6,
    "start_time": "2022-05-04T11:49:55.240Z"
   },
   {
    "duration": 8,
    "start_time": "2022-05-04T11:49:59.838Z"
   },
   {
    "duration": 7,
    "start_time": "2022-05-04T11:50:03.483Z"
   },
   {
    "duration": 7,
    "start_time": "2022-05-04T11:50:08.004Z"
   },
   {
    "duration": 8,
    "start_time": "2022-05-04T11:50:11.403Z"
   },
   {
    "duration": 5,
    "start_time": "2022-05-04T11:51:46.655Z"
   },
   {
    "duration": 3,
    "start_time": "2022-05-04T11:51:50.747Z"
   },
   {
    "duration": 18,
    "start_time": "2022-05-04T11:51:58.982Z"
   },
   {
    "duration": 18,
    "start_time": "2022-05-04T11:52:55.315Z"
   },
   {
    "duration": 28,
    "start_time": "2022-05-04T11:53:44.784Z"
   },
   {
    "duration": 28,
    "start_time": "2022-05-04T11:53:53.780Z"
   },
   {
    "duration": 20,
    "start_time": "2022-05-04T11:54:03.845Z"
   },
   {
    "duration": 43,
    "start_time": "2022-05-04T11:56:25.817Z"
   },
   {
    "duration": 91,
    "start_time": "2022-05-04T11:56:40.150Z"
   },
   {
    "duration": 765,
    "start_time": "2022-05-04T12:11:45.556Z"
   },
   {
    "duration": 18,
    "start_time": "2022-05-04T12:12:29.331Z"
   },
   {
    "duration": 28,
    "start_time": "2022-05-04T12:13:09.363Z"
   },
   {
    "duration": 28,
    "start_time": "2022-05-04T12:13:14.816Z"
   },
   {
    "duration": 629,
    "start_time": "2022-05-04T12:13:23.186Z"
   },
   {
    "duration": 51,
    "start_time": "2022-05-04T12:13:40.587Z"
   },
   {
    "duration": 32,
    "start_time": "2022-05-04T12:14:09.598Z"
   },
   {
    "duration": 30,
    "start_time": "2022-05-04T12:14:17.993Z"
   },
   {
    "duration": 38,
    "start_time": "2022-05-04T12:14:38.295Z"
   },
   {
    "duration": 52,
    "start_time": "2022-05-04T12:14:46.100Z"
   },
   {
    "duration": 29,
    "start_time": "2022-05-04T12:17:42.188Z"
   },
   {
    "duration": 26,
    "start_time": "2022-05-04T12:18:12.544Z"
   },
   {
    "duration": 53,
    "start_time": "2022-05-04T12:18:38.354Z"
   },
   {
    "duration": 59,
    "start_time": "2022-05-04T12:18:59.257Z"
   },
   {
    "duration": 19,
    "start_time": "2022-05-04T12:18:59.318Z"
   },
   {
    "duration": 66,
    "start_time": "2022-05-04T12:18:59.338Z"
   },
   {
    "duration": 2753,
    "start_time": "2022-05-04T12:25:19.026Z"
   },
   {
    "duration": 28,
    "start_time": "2022-05-04T12:25:27.635Z"
   },
   {
    "duration": 27,
    "start_time": "2022-05-04T12:26:18.339Z"
   },
   {
    "duration": 22,
    "start_time": "2022-05-04T12:26:32.022Z"
   },
   {
    "duration": 23,
    "start_time": "2022-05-04T12:27:02.381Z"
   },
   {
    "duration": 23,
    "start_time": "2022-05-04T12:27:55.486Z"
   },
   {
    "duration": 22,
    "start_time": "2022-05-04T12:28:07.432Z"
   },
   {
    "duration": 23,
    "start_time": "2022-05-04T12:29:19.547Z"
   },
   {
    "duration": 42,
    "start_time": "2022-05-04T12:29:25.658Z"
   },
   {
    "duration": 25,
    "start_time": "2022-05-04T12:29:32.480Z"
   },
   {
    "duration": 31,
    "start_time": "2022-05-04T12:35:51.149Z"
   },
   {
    "duration": 32,
    "start_time": "2022-05-04T12:37:19.206Z"
   },
   {
    "duration": 36,
    "start_time": "2022-05-04T12:37:35.830Z"
   },
   {
    "duration": 52,
    "start_time": "2022-05-04T12:40:34.728Z"
   },
   {
    "duration": 88,
    "start_time": "2022-05-04T12:40:49.549Z"
   },
   {
    "duration": 21,
    "start_time": "2022-05-04T12:40:49.639Z"
   },
   {
    "duration": 55,
    "start_time": "2022-05-04T12:40:49.661Z"
   },
   {
    "duration": 40,
    "start_time": "2022-05-04T12:41:18.878Z"
   },
   {
    "duration": 42,
    "start_time": "2022-05-04T12:41:35.764Z"
   },
   {
    "duration": 46,
    "start_time": "2022-05-04T13:16:40.179Z"
   },
   {
    "duration": 79,
    "start_time": "2022-05-04T13:19:25.236Z"
   },
   {
    "duration": 20,
    "start_time": "2022-05-04T13:19:25.317Z"
   },
   {
    "duration": 56,
    "start_time": "2022-05-04T13:19:25.339Z"
   },
   {
    "duration": 43,
    "start_time": "2022-05-04T13:19:54.823Z"
   },
   {
    "duration": 99,
    "start_time": "2022-05-04T13:20:28.404Z"
   },
   {
    "duration": 34,
    "start_time": "2022-05-04T13:20:28.506Z"
   },
   {
    "duration": 60,
    "start_time": "2022-05-04T13:20:28.542Z"
   },
   {
    "duration": 45,
    "start_time": "2022-05-04T13:21:00.711Z"
   },
   {
    "duration": 44,
    "start_time": "2022-05-04T13:21:08.491Z"
   },
   {
    "duration": 34,
    "start_time": "2022-05-04T13:21:45.736Z"
   },
   {
    "duration": 38,
    "start_time": "2022-05-04T13:24:05.692Z"
   },
   {
    "duration": 25,
    "start_time": "2022-05-04T13:25:01.460Z"
   },
   {
    "duration": 41,
    "start_time": "2022-05-04T13:25:16.157Z"
   },
   {
    "duration": 60,
    "start_time": "2022-05-04T13:26:38.360Z"
   },
   {
    "duration": 19,
    "start_time": "2022-05-04T13:26:38.422Z"
   },
   {
    "duration": 52,
    "start_time": "2022-05-04T13:26:38.442Z"
   },
   {
    "duration": 22,
    "start_time": "2022-05-04T13:27:22.870Z"
   },
   {
    "duration": 59,
    "start_time": "2022-05-04T13:27:28.220Z"
   },
   {
    "duration": 21,
    "start_time": "2022-05-04T13:27:28.281Z"
   },
   {
    "duration": 37,
    "start_time": "2022-05-04T13:27:28.304Z"
   },
   {
    "duration": 62,
    "start_time": "2022-05-04T13:27:48.969Z"
   },
   {
    "duration": 21,
    "start_time": "2022-05-04T13:27:49.032Z"
   },
   {
    "duration": 64,
    "start_time": "2022-05-04T13:27:49.055Z"
   },
   {
    "duration": 18,
    "start_time": "2022-05-04T13:28:10.803Z"
   },
   {
    "duration": 60,
    "start_time": "2022-05-04T13:28:13.334Z"
   },
   {
    "duration": 21,
    "start_time": "2022-05-04T13:28:13.396Z"
   },
   {
    "duration": 42,
    "start_time": "2022-05-04T13:28:13.418Z"
   },
   {
    "duration": 76,
    "start_time": "2022-05-04T13:28:31.105Z"
   },
   {
    "duration": 21,
    "start_time": "2022-05-04T13:28:31.183Z"
   },
   {
    "duration": 66,
    "start_time": "2022-05-04T13:28:31.205Z"
   },
   {
    "duration": 92,
    "start_time": "2022-05-04T13:57:30.519Z"
   },
   {
    "duration": 35,
    "start_time": "2022-05-04T13:57:30.614Z"
   },
   {
    "duration": 79,
    "start_time": "2022-05-04T13:57:30.651Z"
   },
   {
    "duration": 9,
    "start_time": "2022-05-04T13:57:42.014Z"
   },
   {
    "duration": 16,
    "start_time": "2022-05-04T13:57:47.256Z"
   },
   {
    "duration": 28,
    "start_time": "2022-05-04T13:58:18.995Z"
   },
   {
    "duration": 33,
    "start_time": "2022-05-04T14:50:32.472Z"
   },
   {
    "duration": 13,
    "start_time": "2022-05-04T14:50:41.663Z"
   },
   {
    "duration": 64,
    "start_time": "2022-05-04T14:50:48.868Z"
   },
   {
    "duration": 21,
    "start_time": "2022-05-04T14:50:48.934Z"
   },
   {
    "duration": 61,
    "start_time": "2022-05-04T14:50:48.957Z"
   },
   {
    "duration": 27,
    "start_time": "2022-05-04T14:50:49.020Z"
   },
   {
    "duration": 27,
    "start_time": "2022-05-04T14:54:44.769Z"
   },
   {
    "duration": 22,
    "start_time": "2022-05-04T14:55:07.577Z"
   },
   {
    "duration": 82,
    "start_time": "2022-05-04T14:55:14.364Z"
   },
   {
    "duration": 21,
    "start_time": "2022-05-04T14:55:14.448Z"
   },
   {
    "duration": 63,
    "start_time": "2022-05-04T14:55:14.471Z"
   },
   {
    "duration": 16,
    "start_time": "2022-05-04T14:55:14.535Z"
   },
   {
    "duration": 66,
    "start_time": "2022-05-04T14:56:18.608Z"
   },
   {
    "duration": 27,
    "start_time": "2022-05-04T14:56:18.676Z"
   },
   {
    "duration": 53,
    "start_time": "2022-05-04T14:56:18.705Z"
   },
   {
    "duration": 12,
    "start_time": "2022-05-04T14:56:18.761Z"
   },
   {
    "duration": 70,
    "start_time": "2022-05-04T14:56:29.122Z"
   },
   {
    "duration": 29,
    "start_time": "2022-05-04T14:56:29.194Z"
   },
   {
    "duration": 47,
    "start_time": "2022-05-04T14:56:29.225Z"
   },
   {
    "duration": 40,
    "start_time": "2022-05-04T14:56:29.274Z"
   },
   {
    "duration": 20,
    "start_time": "2022-05-04T15:00:17.431Z"
   },
   {
    "duration": 18,
    "start_time": "2022-05-04T15:01:47.218Z"
   },
   {
    "duration": 71,
    "start_time": "2022-05-04T15:01:58.814Z"
   },
   {
    "duration": 26,
    "start_time": "2022-05-04T15:01:58.887Z"
   },
   {
    "duration": 48,
    "start_time": "2022-05-04T15:01:58.915Z"
   },
   {
    "duration": 36,
    "start_time": "2022-05-04T15:01:58.964Z"
   },
   {
    "duration": 14,
    "start_time": "2022-05-04T15:02:20.967Z"
   },
   {
    "duration": 65,
    "start_time": "2022-05-04T15:02:24.114Z"
   },
   {
    "duration": 29,
    "start_time": "2022-05-04T15:02:24.181Z"
   },
   {
    "duration": 56,
    "start_time": "2022-05-04T15:02:24.212Z"
   },
   {
    "duration": 35,
    "start_time": "2022-05-04T15:02:24.270Z"
   },
   {
    "duration": 22,
    "start_time": "2022-05-04T15:06:29.595Z"
   },
   {
    "duration": 39,
    "start_time": "2022-05-04T15:07:01.615Z"
   },
   {
    "duration": 40,
    "start_time": "2022-05-04T15:07:15.338Z"
   },
   {
    "duration": 33,
    "start_time": "2022-05-04T15:07:26.282Z"
   },
   {
    "duration": 35,
    "start_time": "2022-05-04T15:07:31.276Z"
   },
   {
    "duration": 73,
    "start_time": "2022-05-04T15:07:43.768Z"
   },
   {
    "duration": 28,
    "start_time": "2022-05-04T15:07:43.843Z"
   },
   {
    "duration": 62,
    "start_time": "2022-05-04T15:07:43.873Z"
   },
   {
    "duration": 38,
    "start_time": "2022-05-04T15:07:43.937Z"
   },
   {
    "duration": 42,
    "start_time": "2022-05-04T15:08:06.376Z"
   },
   {
    "duration": 92,
    "start_time": "2022-05-04T15:08:10.238Z"
   },
   {
    "duration": 22,
    "start_time": "2022-05-04T15:08:10.332Z"
   },
   {
    "duration": 72,
    "start_time": "2022-05-04T15:08:10.356Z"
   },
   {
    "duration": 41,
    "start_time": "2022-05-04T15:08:10.429Z"
   },
   {
    "duration": 101,
    "start_time": "2022-05-04T15:09:56.589Z"
   },
   {
    "duration": 26,
    "start_time": "2022-05-04T15:09:56.693Z"
   },
   {
    "duration": 108,
    "start_time": "2022-05-04T15:09:56.721Z"
   },
   {
    "duration": 40,
    "start_time": "2022-05-04T15:09:56.831Z"
   },
   {
    "duration": 7,
    "start_time": "2022-05-04T15:25:38.349Z"
   },
   {
    "duration": 2485,
    "start_time": "2022-05-04T15:26:04.909Z"
   },
   {
    "duration": 8,
    "start_time": "2022-05-04T15:26:09.963Z"
   },
   {
    "duration": 26,
    "start_time": "2022-05-04T15:30:04.072Z"
   },
   {
    "duration": 19,
    "start_time": "2022-05-04T15:30:18.866Z"
   },
   {
    "duration": 38,
    "start_time": "2022-05-04T15:30:42.400Z"
   },
   {
    "duration": 32,
    "start_time": "2022-05-04T15:30:57.477Z"
   },
   {
    "duration": 28,
    "start_time": "2022-05-04T15:31:04.943Z"
   },
   {
    "duration": 30,
    "start_time": "2022-05-04T15:31:12.207Z"
   },
   {
    "duration": 39,
    "start_time": "2022-05-04T15:31:28.491Z"
   },
   {
    "duration": 41,
    "start_time": "2022-05-04T15:31:34.219Z"
   },
   {
    "duration": 35,
    "start_time": "2022-05-04T15:31:41.178Z"
   },
   {
    "duration": 30,
    "start_time": "2022-05-04T15:31:50.780Z"
   },
   {
    "duration": 32,
    "start_time": "2022-05-04T15:31:54.165Z"
   },
   {
    "duration": 29,
    "start_time": "2022-05-04T15:32:03.141Z"
   },
   {
    "duration": 29,
    "start_time": "2022-05-04T15:32:11.312Z"
   },
   {
    "duration": 4,
    "start_time": "2022-05-04T15:45:30.253Z"
   },
   {
    "duration": 21,
    "start_time": "2022-05-04T15:45:51.308Z"
   },
   {
    "duration": 14,
    "start_time": "2022-05-04T15:46:15.192Z"
   },
   {
    "duration": 26,
    "start_time": "2022-05-04T15:46:43.379Z"
   },
   {
    "duration": 22,
    "start_time": "2022-05-04T15:46:56.031Z"
   },
   {
    "duration": 18,
    "start_time": "2022-05-04T15:47:30.305Z"
   },
   {
    "duration": 18,
    "start_time": "2022-05-04T15:48:08.563Z"
   },
   {
    "duration": 64,
    "start_time": "2022-05-04T15:48:22.832Z"
   },
   {
    "duration": 21,
    "start_time": "2022-05-04T15:48:22.898Z"
   },
   {
    "duration": 42,
    "start_time": "2022-05-04T15:48:22.921Z"
   },
   {
    "duration": 34,
    "start_time": "2022-05-04T15:48:22.964Z"
   },
   {
    "duration": 28,
    "start_time": "2022-05-04T15:48:23.000Z"
   },
   {
    "duration": 15,
    "start_time": "2022-05-04T15:50:39.866Z"
   },
   {
    "duration": 7,
    "start_time": "2022-05-04T15:52:33.971Z"
   },
   {
    "duration": 210,
    "start_time": "2022-05-04T15:54:57.299Z"
   },
   {
    "duration": 148,
    "start_time": "2022-05-04T15:55:16.935Z"
   },
   {
    "duration": 180,
    "start_time": "2022-05-04T15:55:20.923Z"
   },
   {
    "duration": 270,
    "start_time": "2022-05-04T15:55:29.092Z"
   },
   {
    "duration": 217,
    "start_time": "2022-05-04T15:55:46.752Z"
   },
   {
    "duration": 613,
    "start_time": "2022-05-04T15:56:00.374Z"
   },
   {
    "duration": 210,
    "start_time": "2022-05-04T15:56:15.814Z"
   },
   {
    "duration": 253,
    "start_time": "2022-05-04T15:56:19.851Z"
   },
   {
    "duration": 288,
    "start_time": "2022-05-04T15:56:33.804Z"
   },
   {
    "duration": 222,
    "start_time": "2022-05-04T15:57:12.237Z"
   },
   {
    "duration": 216,
    "start_time": "2022-05-04T15:57:18.735Z"
   },
   {
    "duration": 193,
    "start_time": "2022-05-04T15:57:30.121Z"
   },
   {
    "duration": 180,
    "start_time": "2022-05-04T15:58:01.840Z"
   },
   {
    "duration": 273,
    "start_time": "2022-05-04T15:58:12.572Z"
   },
   {
    "duration": 365,
    "start_time": "2022-05-04T15:58:18.048Z"
   },
   {
    "duration": 22,
    "start_time": "2022-05-04T16:03:01.293Z"
   },
   {
    "duration": 17,
    "start_time": "2022-05-04T16:03:03.679Z"
   },
   {
    "duration": 18,
    "start_time": "2022-05-04T16:03:14.499Z"
   },
   {
    "duration": 62,
    "start_time": "2022-05-04T16:03:17.324Z"
   },
   {
    "duration": 22,
    "start_time": "2022-05-04T16:03:17.388Z"
   },
   {
    "duration": 46,
    "start_time": "2022-05-04T16:03:17.411Z"
   },
   {
    "duration": 10,
    "start_time": "2022-05-04T16:03:17.458Z"
   },
   {
    "duration": 37,
    "start_time": "2022-05-04T16:03:17.471Z"
   },
   {
    "duration": 17,
    "start_time": "2022-05-04T16:03:17.509Z"
   },
   {
    "duration": 248,
    "start_time": "2022-05-04T16:03:17.528Z"
   },
   {
    "duration": 868,
    "start_time": "2022-05-05T11:51:01.170Z"
   },
   {
    "duration": 19,
    "start_time": "2022-05-05T11:51:02.040Z"
   },
   {
    "duration": 42,
    "start_time": "2022-05-05T11:51:02.061Z"
   },
   {
    "duration": 8,
    "start_time": "2022-05-05T11:51:02.105Z"
   },
   {
    "duration": 36,
    "start_time": "2022-05-05T11:51:02.114Z"
   },
   {
    "duration": 14,
    "start_time": "2022-05-05T11:51:02.152Z"
   },
   {
    "duration": 682,
    "start_time": "2022-05-05T11:51:02.167Z"
   },
   {
    "duration": 7,
    "start_time": "2022-05-05T11:52:04.459Z"
   },
   {
    "duration": 7,
    "start_time": "2022-05-05T11:52:35.227Z"
   },
   {
    "duration": 15,
    "start_time": "2022-05-05T11:53:19.286Z"
   },
   {
    "duration": 16,
    "start_time": "2022-05-05T11:53:28.232Z"
   },
   {
    "duration": 19,
    "start_time": "2022-05-05T11:54:14.073Z"
   },
   {
    "duration": 17,
    "start_time": "2022-05-05T11:55:28.502Z"
   },
   {
    "duration": 99,
    "start_time": "2022-05-05T11:55:39.333Z"
   },
   {
    "duration": 16,
    "start_time": "2022-05-05T11:55:49.369Z"
   },
   {
    "duration": 19,
    "start_time": "2022-05-05T11:55:58.044Z"
   },
   {
    "duration": 16,
    "start_time": "2022-05-05T11:56:56.397Z"
   },
   {
    "duration": 17,
    "start_time": "2022-05-05T11:57:01.916Z"
   },
   {
    "duration": 131,
    "start_time": "2022-05-05T11:58:15.092Z"
   },
   {
    "duration": 21,
    "start_time": "2022-05-05T12:13:56.456Z"
   },
   {
    "duration": 8,
    "start_time": "2022-05-05T12:14:18.129Z"
   },
   {
    "duration": 21,
    "start_time": "2022-05-05T12:15:54.654Z"
   },
   {
    "duration": 1043,
    "start_time": "2022-05-05T12:16:07.436Z"
   },
   {
    "duration": 24,
    "start_time": "2022-05-05T12:16:34.098Z"
   },
   {
    "duration": 646,
    "start_time": "2022-05-05T12:16:49.501Z"
   },
   {
    "duration": 739,
    "start_time": "2022-05-05T12:17:37.327Z"
   },
   {
    "duration": 648,
    "start_time": "2022-05-05T12:19:20.078Z"
   },
   {
    "duration": 65,
    "start_time": "2022-05-05T12:29:44.282Z"
   },
   {
    "duration": 20,
    "start_time": "2022-05-05T12:29:44.349Z"
   },
   {
    "duration": 44,
    "start_time": "2022-05-05T12:29:44.371Z"
   },
   {
    "duration": 39,
    "start_time": "2022-05-05T12:29:44.418Z"
   },
   {
    "duration": 31,
    "start_time": "2022-05-05T12:29:44.461Z"
   },
   {
    "duration": 31,
    "start_time": "2022-05-05T12:29:44.494Z"
   },
   {
    "duration": 202,
    "start_time": "2022-05-05T12:29:44.547Z"
   },
   {
    "duration": 673,
    "start_time": "2022-05-05T12:29:44.750Z"
   },
   {
    "duration": 265,
    "start_time": "2022-05-05T12:35:14.243Z"
   },
   {
    "duration": 178,
    "start_time": "2022-05-05T12:35:25.855Z"
   },
   {
    "duration": 247,
    "start_time": "2022-05-05T12:35:44.581Z"
   },
   {
    "duration": 131,
    "start_time": "2022-05-05T12:35:49.083Z"
   },
   {
    "duration": 125,
    "start_time": "2022-05-05T12:35:57.533Z"
   },
   {
    "duration": 186,
    "start_time": "2022-05-05T12:36:05.792Z"
   },
   {
    "duration": 192,
    "start_time": "2022-05-05T12:36:13.347Z"
   },
   {
    "duration": 666,
    "start_time": "2022-05-05T12:39:13.149Z"
   },
   {
    "duration": 16,
    "start_time": "2022-05-05T12:39:30.395Z"
   },
   {
    "duration": 711,
    "start_time": "2022-05-05T12:39:39.302Z"
   },
   {
    "duration": 21,
    "start_time": "2022-05-05T12:39:56.831Z"
   },
   {
    "duration": 17,
    "start_time": "2022-05-05T12:40:01.879Z"
   },
   {
    "duration": 644,
    "start_time": "2022-05-05T12:40:40.842Z"
   },
   {
    "duration": 57,
    "start_time": "2022-05-05T12:40:51.272Z"
   },
   {
    "duration": 20,
    "start_time": "2022-05-05T12:40:51.331Z"
   },
   {
    "duration": 41,
    "start_time": "2022-05-05T12:40:51.352Z"
   },
   {
    "duration": 8,
    "start_time": "2022-05-05T12:40:51.395Z"
   },
   {
    "duration": 43,
    "start_time": "2022-05-05T12:40:51.405Z"
   },
   {
    "duration": 16,
    "start_time": "2022-05-05T12:40:51.450Z"
   },
   {
    "duration": 208,
    "start_time": "2022-05-05T12:40:51.468Z"
   },
   {
    "duration": 648,
    "start_time": "2022-05-05T12:40:51.678Z"
   },
   {
    "duration": 199,
    "start_time": "2022-05-05T12:40:52.328Z"
   },
   {
    "duration": 7,
    "start_time": "2022-05-05T12:47:43.600Z"
   },
   {
    "duration": 17,
    "start_time": "2022-05-05T12:47:55.746Z"
   },
   {
    "duration": 26,
    "start_time": "2022-05-05T12:48:19.009Z"
   },
   {
    "duration": 12,
    "start_time": "2022-05-05T12:48:49.354Z"
   },
   {
    "duration": 25,
    "start_time": "2022-05-05T12:49:14.232Z"
   },
   {
    "duration": 10,
    "start_time": "2022-05-05T12:51:45.295Z"
   },
   {
    "duration": 5,
    "start_time": "2022-05-05T12:51:47.936Z"
   },
   {
    "duration": 103,
    "start_time": "2022-05-05T12:55:21.409Z"
   },
   {
    "duration": 21,
    "start_time": "2022-05-05T12:57:33.817Z"
   },
   {
    "duration": 21,
    "start_time": "2022-05-05T12:58:16.220Z"
   },
   {
    "duration": 21,
    "start_time": "2022-05-05T12:58:26.097Z"
   },
   {
    "duration": 20,
    "start_time": "2022-05-05T12:59:31.149Z"
   },
   {
    "duration": 18,
    "start_time": "2022-05-05T12:59:50.665Z"
   },
   {
    "duration": 18,
    "start_time": "2022-05-05T12:59:53.732Z"
   },
   {
    "duration": 11,
    "start_time": "2022-05-05T13:00:40.274Z"
   },
   {
    "duration": 14,
    "start_time": "2022-05-05T13:01:24.239Z"
   },
   {
    "duration": 14,
    "start_time": "2022-05-05T13:01:30.502Z"
   },
   {
    "duration": 143,
    "start_time": "2022-05-05T13:01:52.980Z"
   },
   {
    "duration": 2032,
    "start_time": "2022-05-05T13:02:07.434Z"
   },
   {
    "duration": 22,
    "start_time": "2022-05-05T13:02:54.390Z"
   },
   {
    "duration": 22,
    "start_time": "2022-05-05T13:03:55.937Z"
   },
   {
    "duration": 2323,
    "start_time": "2022-05-05T13:06:00.159Z"
   },
   {
    "duration": 1441,
    "start_time": "2022-05-05T13:06:22.496Z"
   },
   {
    "duration": 1524,
    "start_time": "2022-05-05T13:07:02.385Z"
   },
   {
    "duration": 61,
    "start_time": "2022-05-05T13:07:34.227Z"
   },
   {
    "duration": 22,
    "start_time": "2022-05-05T13:07:34.289Z"
   },
   {
    "duration": 64,
    "start_time": "2022-05-05T13:07:34.313Z"
   },
   {
    "duration": 8,
    "start_time": "2022-05-05T13:07:34.379Z"
   },
   {
    "duration": 18,
    "start_time": "2022-05-05T13:07:34.389Z"
   },
   {
    "duration": 15,
    "start_time": "2022-05-05T13:07:34.408Z"
   },
   {
    "duration": 226,
    "start_time": "2022-05-05T13:07:34.425Z"
   },
   {
    "duration": 686,
    "start_time": "2022-05-05T13:07:34.653Z"
   },
   {
    "duration": 29,
    "start_time": "2022-05-05T13:07:35.341Z"
   },
   {
    "duration": 1526,
    "start_time": "2022-05-05T13:07:35.371Z"
   },
   {
    "duration": 59,
    "start_time": "2022-05-05T13:07:48.005Z"
   },
   {
    "duration": 21,
    "start_time": "2022-05-05T13:07:48.066Z"
   },
   {
    "duration": 174,
    "start_time": "2022-05-05T13:07:48.089Z"
   },
   {
    "duration": 7,
    "start_time": "2022-05-05T13:07:48.264Z"
   },
   {
    "duration": 16,
    "start_time": "2022-05-05T13:07:48.273Z"
   },
   {
    "duration": 16,
    "start_time": "2022-05-05T13:07:48.291Z"
   },
   {
    "duration": 213,
    "start_time": "2022-05-05T13:07:48.308Z"
   },
   {
    "duration": 640,
    "start_time": "2022-05-05T13:07:48.523Z"
   },
   {
    "duration": 24,
    "start_time": "2022-05-05T13:07:49.165Z"
   },
   {
    "duration": 1495,
    "start_time": "2022-05-05T13:07:49.190Z"
   },
   {
    "duration": 74,
    "start_time": "2022-05-05T13:16:26.725Z"
   },
   {
    "duration": 20,
    "start_time": "2022-05-05T13:16:26.800Z"
   },
   {
    "duration": 167,
    "start_time": "2022-05-05T13:16:26.822Z"
   },
   {
    "duration": 9,
    "start_time": "2022-05-05T13:16:26.991Z"
   },
   {
    "duration": 16,
    "start_time": "2022-05-05T13:16:27.002Z"
   },
   {
    "duration": 46,
    "start_time": "2022-05-05T13:16:27.020Z"
   },
   {
    "duration": 223,
    "start_time": "2022-05-05T13:16:27.068Z"
   },
   {
    "duration": 699,
    "start_time": "2022-05-05T13:16:27.292Z"
   },
   {
    "duration": 25,
    "start_time": "2022-05-05T13:16:27.993Z"
   },
   {
    "duration": 1557,
    "start_time": "2022-05-05T13:16:28.020Z"
   },
   {
    "duration": 1574,
    "start_time": "2022-05-05T13:17:45.129Z"
   },
   {
    "duration": 1406,
    "start_time": "2022-05-05T14:21:48.823Z"
   },
   {
    "duration": 1500,
    "start_time": "2022-05-05T15:10:29.491Z"
   },
   {
    "duration": 1414,
    "start_time": "2022-05-05T15:12:25.989Z"
   },
   {
    "duration": 109,
    "start_time": "2022-05-05T15:12:47.106Z"
   },
   {
    "duration": 1509,
    "start_time": "2022-05-05T15:12:59.386Z"
   },
   {
    "duration": 1471,
    "start_time": "2022-05-05T15:13:35.664Z"
   },
   {
    "duration": 1509,
    "start_time": "2022-05-05T15:13:54.160Z"
   },
   {
    "duration": 1389,
    "start_time": "2022-05-05T15:16:50.921Z"
   },
   {
    "duration": 51,
    "start_time": "2022-05-06T10:39:24.991Z"
   },
   {
    "duration": 893,
    "start_time": "2022-05-06T10:39:28.318Z"
   },
   {
    "duration": 35,
    "start_time": "2022-05-06T10:39:29.214Z"
   },
   {
    "duration": 76,
    "start_time": "2022-05-06T10:39:29.252Z"
   },
   {
    "duration": 10,
    "start_time": "2022-05-06T10:39:29.330Z"
   },
   {
    "duration": 36,
    "start_time": "2022-05-06T10:39:29.343Z"
   },
   {
    "duration": 23,
    "start_time": "2022-05-06T10:39:29.383Z"
   },
   {
    "duration": 738,
    "start_time": "2022-05-06T10:39:29.409Z"
   },
   {
    "duration": 801,
    "start_time": "2022-05-06T10:39:30.150Z"
   },
   {
    "duration": 45,
    "start_time": "2022-05-06T10:39:30.953Z"
   },
   {
    "duration": 1963,
    "start_time": "2022-05-06T10:39:31.001Z"
   },
   {
    "duration": 25,
    "start_time": "2022-05-06T10:39:32.965Z"
   },
   {
    "duration": 39,
    "start_time": "2022-05-06T10:39:49.962Z"
   },
   {
    "duration": 119,
    "start_time": "2022-05-06T10:41:55.748Z"
   },
   {
    "duration": 124,
    "start_time": "2022-05-06T10:43:53.452Z"
   },
   {
    "duration": 1362,
    "start_time": "2022-05-06T10:50:03.692Z"
   },
   {
    "duration": 1343,
    "start_time": "2022-05-06T11:04:46.790Z"
   },
   {
    "duration": 91,
    "start_time": "2022-05-06T11:43:29.897Z"
   },
   {
    "duration": 1854,
    "start_time": "2022-05-06T11:43:36.430Z"
   },
   {
    "duration": 1955,
    "start_time": "2022-05-06T11:44:09.406Z"
   },
   {
    "duration": 2001,
    "start_time": "2022-05-06T11:45:25.355Z"
   },
   {
    "duration": 82,
    "start_time": "2022-05-06T11:45:59.739Z"
   },
   {
    "duration": 1555,
    "start_time": "2022-05-06T11:48:05.328Z"
   },
   {
    "duration": 591,
    "start_time": "2022-05-06T11:49:39.250Z"
   },
   {
    "duration": 531,
    "start_time": "2022-05-06T11:50:07.743Z"
   },
   {
    "duration": 85,
    "start_time": "2022-05-06T11:50:23.767Z"
   },
   {
    "duration": 36,
    "start_time": "2022-05-06T11:50:23.854Z"
   },
   {
    "duration": 57,
    "start_time": "2022-05-06T11:50:23.892Z"
   },
   {
    "duration": 27,
    "start_time": "2022-05-06T11:50:23.951Z"
   },
   {
    "duration": 80,
    "start_time": "2022-05-06T11:50:23.981Z"
   },
   {
    "duration": 54,
    "start_time": "2022-05-06T11:50:24.063Z"
   },
   {
    "duration": 237,
    "start_time": "2022-05-06T11:50:24.118Z"
   },
   {
    "duration": 754,
    "start_time": "2022-05-06T11:50:24.357Z"
   },
   {
    "duration": 25,
    "start_time": "2022-05-06T11:50:25.113Z"
   },
   {
    "duration": 1881,
    "start_time": "2022-05-06T11:50:25.139Z"
   },
   {
    "duration": 1253,
    "start_time": "2022-05-06T11:50:27.022Z"
   },
   {
    "duration": 544,
    "start_time": "2022-05-06T11:50:28.279Z"
   },
   {
    "duration": 567,
    "start_time": "2022-05-06T11:51:42.087Z"
   },
   {
    "duration": 146,
    "start_time": "2022-05-06T11:52:58.651Z"
   },
   {
    "duration": 1857,
    "start_time": "2022-05-06T11:53:15.156Z"
   },
   {
    "duration": 1777,
    "start_time": "2022-05-06T11:53:54.447Z"
   },
   {
    "duration": 577,
    "start_time": "2022-05-06T11:54:46.920Z"
   },
   {
    "duration": 1951,
    "start_time": "2022-05-06T11:57:03.874Z"
   },
   {
    "duration": 1823,
    "start_time": "2022-05-06T12:01:19.468Z"
   },
   {
    "duration": 1944,
    "start_time": "2022-05-06T12:02:42.617Z"
   },
   {
    "duration": 1794,
    "start_time": "2022-05-06T12:03:17.380Z"
   },
   {
    "duration": 1937,
    "start_time": "2022-05-06T12:04:51.641Z"
   },
   {
    "duration": 1837,
    "start_time": "2022-05-06T12:12:41.206Z"
   },
   {
    "duration": 66,
    "start_time": "2022-05-06T12:12:56.702Z"
   },
   {
    "duration": 36,
    "start_time": "2022-05-06T12:12:56.770Z"
   },
   {
    "duration": 153,
    "start_time": "2022-05-06T12:12:56.807Z"
   },
   {
    "duration": 15,
    "start_time": "2022-05-06T12:12:56.962Z"
   },
   {
    "duration": 23,
    "start_time": "2022-05-06T12:12:56.980Z"
   },
   {
    "duration": 22,
    "start_time": "2022-05-06T12:12:57.005Z"
   },
   {
    "duration": 249,
    "start_time": "2022-05-06T12:12:57.028Z"
   },
   {
    "duration": 771,
    "start_time": "2022-05-06T12:12:57.279Z"
   },
   {
    "duration": 46,
    "start_time": "2022-05-06T12:12:58.051Z"
   },
   {
    "duration": 1723,
    "start_time": "2022-05-06T12:12:58.099Z"
   },
   {
    "duration": 1339,
    "start_time": "2022-05-06T12:12:59.824Z"
   },
   {
    "duration": 1867,
    "start_time": "2022-05-06T12:13:01.165Z"
   },
   {
    "duration": 1880,
    "start_time": "2022-05-06T12:13:03.034Z"
   },
   {
    "duration": 68,
    "start_time": "2022-05-06T12:13:34.109Z"
   },
   {
    "duration": 31,
    "start_time": "2022-05-06T12:13:34.179Z"
   },
   {
    "duration": 77,
    "start_time": "2022-05-06T12:13:34.212Z"
   },
   {
    "duration": 11,
    "start_time": "2022-05-06T12:13:34.291Z"
   },
   {
    "duration": 17,
    "start_time": "2022-05-06T12:13:34.305Z"
   },
   {
    "duration": 15,
    "start_time": "2022-05-06T12:13:34.324Z"
   },
   {
    "duration": 266,
    "start_time": "2022-05-06T12:13:34.341Z"
   },
   {
    "duration": 823,
    "start_time": "2022-05-06T12:13:34.609Z"
   },
   {
    "duration": 49,
    "start_time": "2022-05-06T12:13:35.435Z"
   },
   {
    "duration": 1917,
    "start_time": "2022-05-06T12:13:35.486Z"
   },
   {
    "duration": 1177,
    "start_time": "2022-05-06T12:13:37.407Z"
   },
   {
    "duration": 1855,
    "start_time": "2022-05-06T12:13:38.586Z"
   },
   {
    "duration": 1751,
    "start_time": "2022-05-06T12:13:40.443Z"
   },
   {
    "duration": 9,
    "start_time": "2022-05-06T12:25:54.797Z"
   },
   {
    "duration": 8,
    "start_time": "2022-05-06T12:30:53.816Z"
   },
   {
    "duration": 13,
    "start_time": "2022-05-06T13:11:09.201Z"
   },
   {
    "duration": 31,
    "start_time": "2022-05-06T13:11:24.976Z"
   },
   {
    "duration": 124,
    "start_time": "2022-05-06T13:12:29.451Z"
   },
   {
    "duration": 18,
    "start_time": "2022-05-06T13:12:37.317Z"
   },
   {
    "duration": 21,
    "start_time": "2022-05-06T13:13:08.101Z"
   },
   {
    "duration": 13,
    "start_time": "2022-05-06T13:16:48.406Z"
   },
   {
    "duration": 21,
    "start_time": "2022-05-06T13:16:57.645Z"
   },
   {
    "duration": 20,
    "start_time": "2022-05-06T13:17:18.748Z"
   },
   {
    "duration": 20,
    "start_time": "2022-05-06T13:17:29.549Z"
   },
   {
    "duration": 2226,
    "start_time": "2022-05-06T13:20:09.901Z"
   },
   {
    "duration": 20,
    "start_time": "2022-05-06T13:20:28.849Z"
   },
   {
    "duration": 23,
    "start_time": "2022-05-06T13:20:38.847Z"
   },
   {
    "duration": 23,
    "start_time": "2022-05-06T13:25:17.619Z"
   },
   {
    "duration": 34,
    "start_time": "2022-05-06T13:25:28.151Z"
   },
   {
    "duration": 8,
    "start_time": "2022-05-06T13:45:55.209Z"
   },
   {
    "duration": 15,
    "start_time": "2022-05-06T13:45:58.765Z"
   },
   {
    "duration": 17,
    "start_time": "2022-05-06T13:46:14.507Z"
   },
   {
    "duration": 14,
    "start_time": "2022-05-06T13:46:25.524Z"
   },
   {
    "duration": 13,
    "start_time": "2022-05-06T13:46:49.633Z"
   },
   {
    "duration": 23,
    "start_time": "2022-05-06T13:48:45.699Z"
   },
   {
    "duration": 17,
    "start_time": "2022-05-06T13:49:08.047Z"
   },
   {
    "duration": 17,
    "start_time": "2022-05-06T14:05:18.837Z"
   },
   {
    "duration": 18,
    "start_time": "2022-05-06T14:10:09.634Z"
   },
   {
    "duration": 18,
    "start_time": "2022-05-06T14:15:42.221Z"
   },
   {
    "duration": 16,
    "start_time": "2022-05-06T14:28:48.539Z"
   },
   {
    "duration": 1223,
    "start_time": "2022-05-07T09:58:29.955Z"
   },
   {
    "duration": 34,
    "start_time": "2022-05-07T09:58:31.182Z"
   },
   {
    "duration": 100,
    "start_time": "2022-05-07T09:58:31.219Z"
   },
   {
    "duration": 33,
    "start_time": "2022-05-07T09:58:31.322Z"
   },
   {
    "duration": 21,
    "start_time": "2022-05-07T09:58:31.357Z"
   },
   {
    "duration": 24,
    "start_time": "2022-05-07T09:58:31.380Z"
   },
   {
    "duration": 1207,
    "start_time": "2022-05-07T09:58:31.407Z"
   },
   {
    "duration": 1140,
    "start_time": "2022-05-07T09:58:32.616Z"
   },
   {
    "duration": 40,
    "start_time": "2022-05-07T09:58:33.758Z"
   },
   {
    "duration": 2591,
    "start_time": "2022-05-07T09:58:33.802Z"
   },
   {
    "duration": 1910,
    "start_time": "2022-05-07T09:58:36.395Z"
   },
   {
    "duration": 792,
    "start_time": "2022-05-07T09:58:38.307Z"
   },
   {
    "duration": 740,
    "start_time": "2022-05-07T09:58:39.101Z"
   },
   {
    "duration": 1962,
    "start_time": "2022-05-07T09:58:39.843Z"
   },
   {
    "duration": 49,
    "start_time": "2022-05-07T09:58:41.808Z"
   },
   {
    "duration": 24,
    "start_time": "2022-05-07T09:58:41.858Z"
   },
   {
    "duration": 27,
    "start_time": "2022-05-07T09:58:41.884Z"
   },
   {
    "duration": 53,
    "start_time": "2022-05-07T09:58:41.914Z"
   },
   {
    "duration": 35,
    "start_time": "2022-05-07T10:14:22.395Z"
   },
   {
    "duration": 41,
    "start_time": "2022-05-07T10:16:01.967Z"
   },
   {
    "duration": 41,
    "start_time": "2022-05-07T10:17:01.797Z"
   },
   {
    "duration": 45,
    "start_time": "2022-05-07T10:17:06.254Z"
   },
   {
    "duration": 12,
    "start_time": "2022-05-07T10:23:28.423Z"
   },
   {
    "duration": 13,
    "start_time": "2022-05-07T10:23:34.581Z"
   },
   {
    "duration": 15,
    "start_time": "2022-05-07T10:23:40.145Z"
   },
   {
    "duration": 19,
    "start_time": "2022-05-07T10:24:26.536Z"
   },
   {
    "duration": 19,
    "start_time": "2022-05-07T10:24:38.313Z"
   },
   {
    "duration": 138,
    "start_time": "2022-05-07T10:27:59.820Z"
   },
   {
    "duration": 11,
    "start_time": "2022-05-07T10:28:08.674Z"
   },
   {
    "duration": 12,
    "start_time": "2022-05-07T10:28:11.757Z"
   },
   {
    "duration": 10,
    "start_time": "2022-05-07T10:28:15.793Z"
   },
   {
    "duration": 10,
    "start_time": "2022-05-07T10:28:40.903Z"
   },
   {
    "duration": 20,
    "start_time": "2022-05-07T10:38:37.819Z"
   },
   {
    "duration": 11,
    "start_time": "2022-05-07T10:45:37.362Z"
   },
   {
    "duration": 91,
    "start_time": "2022-05-07T10:52:44.292Z"
   },
   {
    "duration": 33,
    "start_time": "2022-05-07T10:52:44.386Z"
   },
   {
    "duration": 94,
    "start_time": "2022-05-07T10:52:44.421Z"
   },
   {
    "duration": 11,
    "start_time": "2022-05-07T10:52:44.517Z"
   },
   {
    "duration": 40,
    "start_time": "2022-05-07T10:52:44.531Z"
   },
   {
    "duration": 24,
    "start_time": "2022-05-07T10:52:44.573Z"
   },
   {
    "duration": 377,
    "start_time": "2022-05-07T10:52:44.599Z"
   },
   {
    "duration": 1152,
    "start_time": "2022-05-07T10:52:44.980Z"
   },
   {
    "duration": 51,
    "start_time": "2022-05-07T10:52:46.136Z"
   },
   {
    "duration": 2679,
    "start_time": "2022-05-07T10:52:46.190Z"
   },
   {
    "duration": 1845,
    "start_time": "2022-05-07T10:52:48.872Z"
   },
   {
    "duration": 848,
    "start_time": "2022-05-07T10:52:50.719Z"
   },
   {
    "duration": 716,
    "start_time": "2022-05-07T10:52:51.569Z"
   },
   {
    "duration": 1940,
    "start_time": "2022-05-07T10:52:52.288Z"
   },
   {
    "duration": 46,
    "start_time": "2022-05-07T10:52:54.230Z"
   },
   {
    "duration": 24,
    "start_time": "2022-05-07T10:52:54.278Z"
   },
   {
    "duration": 56,
    "start_time": "2022-05-07T10:52:54.305Z"
   },
   {
    "duration": 22,
    "start_time": "2022-05-07T10:52:54.364Z"
   },
   {
    "duration": 24,
    "start_time": "2022-05-07T10:52:54.388Z"
   },
   {
    "duration": 43,
    "start_time": "2022-05-07T10:52:54.414Z"
   },
   {
    "duration": 20,
    "start_time": "2022-05-07T10:52:54.459Z"
   },
   {
    "duration": 13,
    "start_time": "2022-05-07T10:52:54.481Z"
   },
   {
    "duration": 2113,
    "start_time": "2022-05-07T13:23:46.383Z"
   },
   {
    "duration": 931,
    "start_time": "2022-05-08T16:31:56.096Z"
   },
   {
    "duration": 18,
    "start_time": "2022-05-08T16:31:57.029Z"
   },
   {
    "duration": 56,
    "start_time": "2022-05-08T16:31:57.049Z"
   },
   {
    "duration": 12,
    "start_time": "2022-05-08T16:31:57.107Z"
   },
   {
    "duration": 17,
    "start_time": "2022-05-08T16:31:57.122Z"
   },
   {
    "duration": 20,
    "start_time": "2022-05-08T16:31:57.141Z"
   },
   {
    "duration": 714,
    "start_time": "2022-05-08T16:31:57.163Z"
   },
   {
    "duration": 800,
    "start_time": "2022-05-08T16:31:57.879Z"
   },
   {
    "duration": 30,
    "start_time": "2022-05-08T16:31:58.681Z"
   },
   {
    "duration": 1930,
    "start_time": "2022-05-08T16:31:58.715Z"
   },
   {
    "duration": 1446,
    "start_time": "2022-05-08T16:32:00.647Z"
   },
   {
    "duration": 459,
    "start_time": "2022-05-08T16:32:02.100Z"
   },
   {
    "duration": 562,
    "start_time": "2022-05-08T16:32:02.561Z"
   },
   {
    "duration": 1252,
    "start_time": "2022-05-08T16:32:03.125Z"
   },
   {
    "duration": 1109,
    "start_time": "2022-05-08T16:32:04.378Z"
   },
   {
    "duration": 36,
    "start_time": "2022-05-08T16:32:05.489Z"
   },
   {
    "duration": 17,
    "start_time": "2022-05-08T16:32:05.527Z"
   },
   {
    "duration": 15,
    "start_time": "2022-05-08T16:32:05.545Z"
   },
   {
    "duration": 22,
    "start_time": "2022-05-08T16:32:05.561Z"
   },
   {
    "duration": 20,
    "start_time": "2022-05-08T16:32:05.605Z"
   },
   {
    "duration": 8,
    "start_time": "2022-05-08T16:32:05.626Z"
   },
   {
    "duration": 12,
    "start_time": "2022-05-08T16:32:05.635Z"
   },
   {
    "duration": 8,
    "start_time": "2022-05-08T16:32:05.648Z"
   },
   {
    "duration": 3,
    "start_time": "2022-05-08T16:32:27.987Z"
   },
   {
    "duration": 15,
    "start_time": "2022-05-08T16:37:50.950Z"
   },
   {
    "duration": 70,
    "start_time": "2022-05-08T16:40:19.596Z"
   },
   {
    "duration": 30,
    "start_time": "2022-05-08T16:40:50.383Z"
   },
   {
    "duration": 73,
    "start_time": "2022-05-08T16:41:07.583Z"
   },
   {
    "duration": 22,
    "start_time": "2022-05-08T16:41:07.933Z"
   },
   {
    "duration": 24,
    "start_time": "2022-05-08T16:41:21.917Z"
   },
   {
    "duration": 19,
    "start_time": "2022-05-08T16:41:36.700Z"
   },
   {
    "duration": 3298,
    "start_time": "2022-05-08T16:44:15.532Z"
   },
   {
    "duration": 76,
    "start_time": "2022-05-08T16:44:29.440Z"
   },
   {
    "duration": 18,
    "start_time": "2022-05-08T16:44:29.960Z"
   },
   {
    "duration": 65,
    "start_time": "2022-05-08T16:44:30.385Z"
   },
   {
    "duration": 8,
    "start_time": "2022-05-08T16:44:31.601Z"
   },
   {
    "duration": 21,
    "start_time": "2022-05-08T16:44:31.759Z"
   },
   {
    "duration": 17,
    "start_time": "2022-05-08T16:44:33.332Z"
   },
   {
    "duration": 147,
    "start_time": "2022-05-08T16:44:36.471Z"
   },
   {
    "duration": 198,
    "start_time": "2022-05-08T16:44:46.449Z"
   },
   {
    "duration": 108524,
    "start_time": "2022-05-08T16:44:52.218Z"
   },
   {
    "duration": 274,
    "start_time": "2022-05-08T16:46:52.990Z"
   },
   {
    "duration": 1151,
    "start_time": "2022-05-09T09:27:16.933Z"
   },
   {
    "duration": 31,
    "start_time": "2022-05-09T09:27:18.086Z"
   },
   {
    "duration": 98,
    "start_time": "2022-05-09T09:27:18.120Z"
   },
   {
    "duration": 11,
    "start_time": "2022-05-09T09:27:18.221Z"
   },
   {
    "duration": 36,
    "start_time": "2022-05-09T09:27:18.234Z"
   },
   {
    "duration": 17,
    "start_time": "2022-05-09T09:27:18.272Z"
   },
   {
    "duration": 740,
    "start_time": "2022-05-09T09:27:18.291Z"
   },
   {
    "duration": 745,
    "start_time": "2022-05-09T09:27:19.033Z"
   },
   {
    "duration": 29,
    "start_time": "2022-05-09T09:27:19.780Z"
   },
   {
    "duration": 1811,
    "start_time": "2022-05-09T09:27:19.812Z"
   },
   {
    "duration": 1301,
    "start_time": "2022-05-09T09:27:21.626Z"
   },
   {
    "duration": 552,
    "start_time": "2022-05-09T09:27:22.930Z"
   },
   {
    "duration": 691,
    "start_time": "2022-05-09T09:27:23.484Z"
   },
   {
    "duration": 1528,
    "start_time": "2022-05-09T09:27:24.177Z"
   },
   {
    "duration": 1208,
    "start_time": "2022-05-09T09:27:25.707Z"
   },
   {
    "duration": 47,
    "start_time": "2022-05-09T09:27:26.917Z"
   },
   {
    "duration": 19,
    "start_time": "2022-05-09T09:27:26.966Z"
   },
   {
    "duration": 18,
    "start_time": "2022-05-09T09:27:26.987Z"
   },
   {
    "duration": 16,
    "start_time": "2022-05-09T09:27:27.006Z"
   },
   {
    "duration": 48,
    "start_time": "2022-05-09T09:27:27.023Z"
   },
   {
    "duration": 8,
    "start_time": "2022-05-09T09:27:27.072Z"
   },
   {
    "duration": 15,
    "start_time": "2022-05-09T09:27:27.082Z"
   },
   {
    "duration": 60,
    "start_time": "2022-05-09T09:27:27.099Z"
   },
   {
    "duration": 104,
    "start_time": "2022-05-09T09:28:26.301Z"
   },
   {
    "duration": 15,
    "start_time": "2022-05-09T09:28:41.694Z"
   },
   {
    "duration": 30,
    "start_time": "2022-05-09T09:28:47.633Z"
   },
   {
    "duration": 72,
    "start_time": "2022-05-09T09:28:58.790Z"
   },
   {
    "duration": 21,
    "start_time": "2022-05-09T09:28:58.864Z"
   },
   {
    "duration": 38,
    "start_time": "2022-05-09T09:28:58.887Z"
   },
   {
    "duration": 32,
    "start_time": "2022-05-09T09:28:58.928Z"
   },
   {
    "duration": 18,
    "start_time": "2022-05-09T09:28:58.962Z"
   },
   {
    "duration": 19,
    "start_time": "2022-05-09T09:28:58.982Z"
   },
   {
    "duration": 385,
    "start_time": "2022-05-09T09:28:59.003Z"
   },
   {
    "duration": 872,
    "start_time": "2022-05-09T09:28:59.389Z"
   },
   {
    "duration": 27,
    "start_time": "2022-05-09T09:29:00.263Z"
   },
   {
    "duration": 1746,
    "start_time": "2022-05-09T09:29:00.293Z"
   },
   {
    "duration": 1322,
    "start_time": "2022-05-09T09:29:02.041Z"
   },
   {
    "duration": 594,
    "start_time": "2022-05-09T09:29:03.365Z"
   },
   {
    "duration": 484,
    "start_time": "2022-05-09T09:29:03.961Z"
   },
   {
    "duration": 1258,
    "start_time": "2022-05-09T09:29:04.447Z"
   },
   {
    "duration": 1429,
    "start_time": "2022-05-09T09:29:05.707Z"
   },
   {
    "duration": 37,
    "start_time": "2022-05-09T09:29:07.138Z"
   },
   {
    "duration": 23,
    "start_time": "2022-05-09T09:29:07.177Z"
   },
   {
    "duration": 57,
    "start_time": "2022-05-09T09:29:07.203Z"
   },
   {
    "duration": 22,
    "start_time": "2022-05-09T09:29:07.263Z"
   },
   {
    "duration": 15,
    "start_time": "2022-05-09T09:29:07.287Z"
   },
   {
    "duration": 55,
    "start_time": "2022-05-09T09:29:07.304Z"
   },
   {
    "duration": 20,
    "start_time": "2022-05-09T09:29:07.362Z"
   },
   {
    "duration": 9,
    "start_time": "2022-05-09T09:29:07.384Z"
   },
   {
    "duration": 20,
    "start_time": "2022-05-09T09:32:05.722Z"
   },
   {
    "duration": 96,
    "start_time": "2022-05-09T09:32:13.391Z"
   },
   {
    "duration": 32,
    "start_time": "2022-05-09T09:32:13.490Z"
   },
   {
    "duration": 77,
    "start_time": "2022-05-09T09:32:13.524Z"
   },
   {
    "duration": 10,
    "start_time": "2022-05-09T09:32:13.604Z"
   },
   {
    "duration": 14,
    "start_time": "2022-05-09T09:32:13.616Z"
   },
   {
    "duration": 39,
    "start_time": "2022-05-09T09:32:13.632Z"
   },
   {
    "duration": 346,
    "start_time": "2022-05-09T09:32:13.673Z"
   },
   {
    "duration": 761,
    "start_time": "2022-05-09T09:32:14.021Z"
   },
   {
    "duration": 36,
    "start_time": "2022-05-09T09:32:14.784Z"
   },
   {
    "duration": 2566,
    "start_time": "2022-05-09T09:32:14.824Z"
   },
   {
    "duration": 1184,
    "start_time": "2022-05-09T09:32:17.393Z"
   },
   {
    "duration": 687,
    "start_time": "2022-05-09T09:32:18.580Z"
   },
   {
    "duration": 861,
    "start_time": "2022-05-09T09:32:19.269Z"
   },
   {
    "duration": 1742,
    "start_time": "2022-05-09T09:32:20.132Z"
   },
   {
    "duration": 1681,
    "start_time": "2022-05-09T09:32:21.876Z"
   },
   {
    "duration": 35,
    "start_time": "2022-05-09T09:32:23.560Z"
   },
   {
    "duration": 25,
    "start_time": "2022-05-09T09:32:23.597Z"
   },
   {
    "duration": 29,
    "start_time": "2022-05-09T09:32:23.655Z"
   },
   {
    "duration": 22,
    "start_time": "2022-05-09T09:32:23.686Z"
   },
   {
    "duration": 49,
    "start_time": "2022-05-09T09:32:23.710Z"
   },
   {
    "duration": 14,
    "start_time": "2022-05-09T09:32:23.761Z"
   },
   {
    "duration": 23,
    "start_time": "2022-05-09T09:32:23.777Z"
   },
   {
    "duration": 10,
    "start_time": "2022-05-09T09:32:23.802Z"
   },
   {
    "duration": 68,
    "start_time": "2022-05-09T09:35:13.886Z"
   },
   {
    "duration": 23,
    "start_time": "2022-05-09T09:35:13.957Z"
   },
   {
    "duration": 38,
    "start_time": "2022-05-09T09:35:13.982Z"
   },
   {
    "duration": 48,
    "start_time": "2022-05-09T09:35:14.022Z"
   },
   {
    "duration": 17,
    "start_time": "2022-05-09T09:35:14.073Z"
   },
   {
    "duration": 242,
    "start_time": "2022-05-09T09:35:14.091Z"
   },
   {
    "duration": 871,
    "start_time": "2022-05-09T09:35:14.335Z"
   },
   {
    "duration": 27,
    "start_time": "2022-05-09T09:35:15.208Z"
   },
   {
    "duration": 1648,
    "start_time": "2022-05-09T09:35:15.237Z"
   },
   {
    "duration": 1224,
    "start_time": "2022-05-09T09:35:16.887Z"
   },
   {
    "duration": 465,
    "start_time": "2022-05-09T09:35:18.113Z"
   },
   {
    "duration": 443,
    "start_time": "2022-05-09T09:35:18.581Z"
   },
   {
    "duration": 1187,
    "start_time": "2022-05-09T09:35:19.026Z"
   },
   {
    "duration": 1253,
    "start_time": "2022-05-09T09:35:20.217Z"
   },
   {
    "duration": 23,
    "start_time": "2022-05-09T09:35:21.472Z"
   },
   {
    "duration": 17,
    "start_time": "2022-05-09T09:35:21.497Z"
   },
   {
    "duration": 50,
    "start_time": "2022-05-09T09:35:21.517Z"
   },
   {
    "duration": 15,
    "start_time": "2022-05-09T09:35:21.570Z"
   },
   {
    "duration": 14,
    "start_time": "2022-05-09T09:35:21.586Z"
   },
   {
    "duration": 10,
    "start_time": "2022-05-09T09:35:21.602Z"
   },
   {
    "duration": 18,
    "start_time": "2022-05-09T09:35:21.656Z"
   },
   {
    "duration": 10,
    "start_time": "2022-05-09T09:35:21.677Z"
   },
   {
    "duration": 160,
    "start_time": "2022-05-09T09:35:30.696Z"
   },
   {
    "duration": 67,
    "start_time": "2022-05-09T09:52:12.515Z"
   },
   {
    "duration": 76,
    "start_time": "2022-05-09T09:52:15.742Z"
   },
   {
    "duration": 40,
    "start_time": "2022-05-09T09:52:15.820Z"
   },
   {
    "duration": 48,
    "start_time": "2022-05-09T09:52:15.862Z"
   },
   {
    "duration": 59,
    "start_time": "2022-05-09T09:52:15.912Z"
   },
   {
    "duration": 23,
    "start_time": "2022-05-09T09:52:15.973Z"
   },
   {
    "duration": 107,
    "start_time": "2022-05-09T09:56:28.893Z"
   },
   {
    "duration": 69,
    "start_time": "2022-05-09T09:56:52.585Z"
   },
   {
    "duration": 21,
    "start_time": "2022-05-09T09:56:52.656Z"
   },
   {
    "duration": 33,
    "start_time": "2022-05-09T09:56:52.679Z"
   },
   {
    "duration": 55,
    "start_time": "2022-05-09T09:56:52.714Z"
   },
   {
    "duration": 17,
    "start_time": "2022-05-09T09:56:52.770Z"
   },
   {
    "duration": 250,
    "start_time": "2022-05-09T09:56:52.789Z"
   },
   {
    "duration": 725,
    "start_time": "2022-05-09T09:56:53.041Z"
   },
   {
    "duration": 30,
    "start_time": "2022-05-09T09:56:53.769Z"
   },
   {
    "duration": 1822,
    "start_time": "2022-05-09T09:56:53.802Z"
   },
   {
    "duration": 1178,
    "start_time": "2022-05-09T09:56:55.629Z"
   },
   {
    "duration": 476,
    "start_time": "2022-05-09T09:56:56.808Z"
   },
   {
    "duration": 467,
    "start_time": "2022-05-09T09:56:57.287Z"
   },
   {
    "duration": 1226,
    "start_time": "2022-05-09T09:56:57.757Z"
   },
   {
    "duration": 1205,
    "start_time": "2022-05-09T09:56:58.985Z"
   },
   {
    "duration": 26,
    "start_time": "2022-05-09T09:57:00.191Z"
   },
   {
    "duration": 42,
    "start_time": "2022-05-09T09:57:00.219Z"
   },
   {
    "duration": 28,
    "start_time": "2022-05-09T09:57:00.263Z"
   },
   {
    "duration": 15,
    "start_time": "2022-05-09T09:57:00.293Z"
   },
   {
    "duration": 50,
    "start_time": "2022-05-09T09:57:00.309Z"
   },
   {
    "duration": 7,
    "start_time": "2022-05-09T09:57:00.360Z"
   },
   {
    "duration": 14,
    "start_time": "2022-05-09T09:57:00.369Z"
   },
   {
    "duration": 7,
    "start_time": "2022-05-09T09:57:00.385Z"
   },
   {
    "duration": 35,
    "start_time": "2022-05-09T09:58:07.629Z"
   },
   {
    "duration": 1436,
    "start_time": "2022-05-09T10:11:59.291Z"
   },
   {
    "duration": 75,
    "start_time": "2022-05-09T10:13:19.319Z"
   },
   {
    "duration": 22,
    "start_time": "2022-05-09T10:13:19.396Z"
   },
   {
    "duration": 58,
    "start_time": "2022-05-09T10:13:19.420Z"
   },
   {
    "duration": 20,
    "start_time": "2022-05-09T10:13:19.480Z"
   },
   {
    "duration": 27,
    "start_time": "2022-05-09T10:13:19.502Z"
   },
   {
    "duration": 264,
    "start_time": "2022-05-09T10:13:19.531Z"
   },
   {
    "duration": 5983,
    "start_time": "2022-05-09T10:13:19.797Z"
   },
   {
    "duration": 41,
    "start_time": "2022-05-09T10:13:25.782Z"
   },
   {
    "duration": 1871,
    "start_time": "2022-05-09T10:13:25.825Z"
   },
   {
    "duration": 1177,
    "start_time": "2022-05-09T10:13:27.699Z"
   },
   {
    "duration": 470,
    "start_time": "2022-05-09T10:13:28.878Z"
   },
   {
    "duration": 484,
    "start_time": "2022-05-09T10:13:29.350Z"
   },
   {
    "duration": 1099,
    "start_time": "2022-05-09T10:13:29.836Z"
   },
   {
    "duration": 1241,
    "start_time": "2022-05-09T10:13:30.937Z"
   },
   {
    "duration": 26,
    "start_time": "2022-05-09T10:13:32.180Z"
   },
   {
    "duration": 16,
    "start_time": "2022-05-09T10:13:32.208Z"
   },
   {
    "duration": 17,
    "start_time": "2022-05-09T10:13:32.254Z"
   },
   {
    "duration": 19,
    "start_time": "2022-05-09T10:13:32.272Z"
   },
   {
    "duration": 13,
    "start_time": "2022-05-09T10:13:32.293Z"
   },
   {
    "duration": 48,
    "start_time": "2022-05-09T10:13:32.308Z"
   },
   {
    "duration": 15,
    "start_time": "2022-05-09T10:13:32.358Z"
   },
   {
    "duration": 7,
    "start_time": "2022-05-09T10:13:32.374Z"
   },
   {
    "duration": 2313,
    "start_time": "2022-05-09T10:16:37.381Z"
   },
   {
    "duration": 179,
    "start_time": "2022-05-09T10:16:44.790Z"
   },
   {
    "duration": 182,
    "start_time": "2022-05-09T10:17:06.588Z"
   },
   {
    "duration": 152,
    "start_time": "2022-05-09T10:19:27.644Z"
   },
   {
    "duration": 151,
    "start_time": "2022-05-09T10:19:42.833Z"
   },
   {
    "duration": 94,
    "start_time": "2022-05-09T10:21:58.050Z"
   },
   {
    "duration": 10,
    "start_time": "2022-05-09T10:27:27.531Z"
   },
   {
    "duration": 33,
    "start_time": "2022-05-09T10:34:51.076Z"
   },
   {
    "duration": 396,
    "start_time": "2022-05-09T10:35:16.514Z"
   },
   {
    "duration": 427,
    "start_time": "2022-05-09T10:36:42.404Z"
   },
   {
    "duration": 66,
    "start_time": "2022-05-09T10:36:46.307Z"
   },
   {
    "duration": 21,
    "start_time": "2022-05-09T10:36:46.376Z"
   },
   {
    "duration": 68,
    "start_time": "2022-05-09T10:36:46.399Z"
   },
   {
    "duration": 29,
    "start_time": "2022-05-09T10:36:46.470Z"
   },
   {
    "duration": 167,
    "start_time": "2022-05-09T10:36:46.501Z"
   },
   {
    "duration": 242,
    "start_time": "2022-05-09T10:36:46.670Z"
   },
   {
    "duration": 929,
    "start_time": "2022-05-09T10:36:46.914Z"
   },
   {
    "duration": 45,
    "start_time": "2022-05-09T10:36:47.845Z"
   },
   {
    "duration": 1658,
    "start_time": "2022-05-09T10:36:47.892Z"
   },
   {
    "duration": 688,
    "start_time": "2022-05-09T10:36:49.556Z"
   },
   {
    "duration": 0,
    "start_time": "2022-05-09T10:36:50.246Z"
   },
   {
    "duration": 0,
    "start_time": "2022-05-09T10:36:50.255Z"
   },
   {
    "duration": 0,
    "start_time": "2022-05-09T10:36:50.256Z"
   },
   {
    "duration": 0,
    "start_time": "2022-05-09T10:36:50.257Z"
   },
   {
    "duration": 0,
    "start_time": "2022-05-09T10:36:50.259Z"
   },
   {
    "duration": 0,
    "start_time": "2022-05-09T10:36:50.260Z"
   },
   {
    "duration": 0,
    "start_time": "2022-05-09T10:36:50.261Z"
   },
   {
    "duration": 0,
    "start_time": "2022-05-09T10:36:50.263Z"
   },
   {
    "duration": 0,
    "start_time": "2022-05-09T10:36:50.266Z"
   },
   {
    "duration": 0,
    "start_time": "2022-05-09T10:36:50.268Z"
   },
   {
    "duration": 0,
    "start_time": "2022-05-09T10:36:50.269Z"
   },
   {
    "duration": 0,
    "start_time": "2022-05-09T10:36:50.270Z"
   },
   {
    "duration": 150,
    "start_time": "2022-05-09T10:40:27.221Z"
   },
   {
    "duration": 104,
    "start_time": "2022-05-09T10:40:30.693Z"
   },
   {
    "duration": 11,
    "start_time": "2022-05-09T10:41:42.926Z"
   },
   {
    "duration": 132,
    "start_time": "2022-05-09T10:41:46.398Z"
   },
   {
    "duration": 26,
    "start_time": "2022-05-09T10:41:46.533Z"
   },
   {
    "duration": 36,
    "start_time": "2022-05-09T10:41:46.561Z"
   },
   {
    "duration": 56,
    "start_time": "2022-05-09T10:41:46.599Z"
   },
   {
    "duration": 17,
    "start_time": "2022-05-09T10:41:46.657Z"
   },
   {
    "duration": 249,
    "start_time": "2022-05-09T10:41:46.676Z"
   },
   {
    "duration": 766,
    "start_time": "2022-05-09T10:41:46.927Z"
   },
   {
    "duration": 27,
    "start_time": "2022-05-09T10:41:47.695Z"
   },
   {
    "duration": 1580,
    "start_time": "2022-05-09T10:41:47.724Z"
   },
   {
    "duration": 133,
    "start_time": "2022-05-09T10:41:49.307Z"
   },
   {
    "duration": 0,
    "start_time": "2022-05-09T10:41:49.443Z"
   },
   {
    "duration": 0,
    "start_time": "2022-05-09T10:41:49.444Z"
   },
   {
    "duration": 1,
    "start_time": "2022-05-09T10:41:49.444Z"
   },
   {
    "duration": 0,
    "start_time": "2022-05-09T10:41:49.454Z"
   },
   {
    "duration": 0,
    "start_time": "2022-05-09T10:41:49.455Z"
   },
   {
    "duration": 0,
    "start_time": "2022-05-09T10:41:49.457Z"
   },
   {
    "duration": 0,
    "start_time": "2022-05-09T10:41:49.458Z"
   },
   {
    "duration": 0,
    "start_time": "2022-05-09T10:41:49.459Z"
   },
   {
    "duration": 0,
    "start_time": "2022-05-09T10:41:49.460Z"
   },
   {
    "duration": 0,
    "start_time": "2022-05-09T10:41:49.461Z"
   },
   {
    "duration": 0,
    "start_time": "2022-05-09T10:41:49.462Z"
   },
   {
    "duration": 0,
    "start_time": "2022-05-09T10:41:49.463Z"
   },
   {
    "duration": 67,
    "start_time": "2022-05-09T10:42:00.458Z"
   },
   {
    "duration": 43,
    "start_time": "2022-05-09T10:42:00.527Z"
   },
   {
    "duration": 43,
    "start_time": "2022-05-09T10:42:00.572Z"
   },
   {
    "duration": 39,
    "start_time": "2022-05-09T10:42:00.617Z"
   },
   {
    "duration": 17,
    "start_time": "2022-05-09T10:42:00.658Z"
   },
   {
    "duration": 252,
    "start_time": "2022-05-09T10:42:00.677Z"
   },
   {
    "duration": 758,
    "start_time": "2022-05-09T10:42:00.931Z"
   },
   {
    "duration": 29,
    "start_time": "2022-05-09T10:42:01.691Z"
   },
   {
    "duration": 2293,
    "start_time": "2022-05-09T10:42:01.722Z"
   },
   {
    "duration": 335,
    "start_time": "2022-05-09T10:42:04.019Z"
   },
   {
    "duration": 677,
    "start_time": "2022-05-09T10:42:04.357Z"
   },
   {
    "duration": 691,
    "start_time": "2022-05-09T10:42:05.037Z"
   },
   {
    "duration": 1027,
    "start_time": "2022-05-09T10:42:05.730Z"
   },
   {
    "duration": 1348,
    "start_time": "2022-05-09T10:42:06.758Z"
   },
   {
    "duration": 231,
    "start_time": "2022-05-09T10:42:08.108Z"
   },
   {
    "duration": 32,
    "start_time": "2022-05-09T10:42:08.342Z"
   },
   {
    "duration": 40,
    "start_time": "2022-05-09T10:42:08.377Z"
   },
   {
    "duration": 20,
    "start_time": "2022-05-09T10:42:08.420Z"
   },
   {
    "duration": 31,
    "start_time": "2022-05-09T10:42:08.454Z"
   },
   {
    "duration": 41,
    "start_time": "2022-05-09T10:42:08.487Z"
   },
   {
    "duration": 36,
    "start_time": "2022-05-09T10:42:08.530Z"
   },
   {
    "duration": 27,
    "start_time": "2022-05-09T10:42:08.568Z"
   },
   {
    "duration": 63,
    "start_time": "2022-05-09T10:48:34.194Z"
   },
   {
    "duration": 20,
    "start_time": "2022-05-09T10:48:34.260Z"
   },
   {
    "duration": 33,
    "start_time": "2022-05-09T10:48:34.282Z"
   },
   {
    "duration": 44,
    "start_time": "2022-05-09T10:48:34.317Z"
   },
   {
    "duration": 15,
    "start_time": "2022-05-09T10:48:34.363Z"
   },
   {
    "duration": 250,
    "start_time": "2022-05-09T10:48:34.380Z"
   },
   {
    "duration": 834,
    "start_time": "2022-05-09T10:48:34.632Z"
   },
   {
    "duration": 26,
    "start_time": "2022-05-09T10:48:35.468Z"
   },
   {
    "duration": 2133,
    "start_time": "2022-05-09T10:48:35.496Z"
   },
   {
    "duration": 223,
    "start_time": "2022-05-09T10:48:37.631Z"
   },
   {
    "duration": 473,
    "start_time": "2022-05-09T10:48:37.856Z"
   },
   {
    "duration": 695,
    "start_time": "2022-05-09T10:48:38.332Z"
   },
   {
    "duration": 1313,
    "start_time": "2022-05-09T10:48:39.029Z"
   },
   {
    "duration": 1034,
    "start_time": "2022-05-09T10:48:40.344Z"
   },
   {
    "duration": 198,
    "start_time": "2022-05-09T10:48:41.379Z"
   },
   {
    "duration": 17,
    "start_time": "2022-05-09T10:48:41.579Z"
   },
   {
    "duration": 21,
    "start_time": "2022-05-09T10:48:41.597Z"
   },
   {
    "duration": 40,
    "start_time": "2022-05-09T10:48:41.620Z"
   },
   {
    "duration": 26,
    "start_time": "2022-05-09T10:48:41.662Z"
   },
   {
    "duration": 9,
    "start_time": "2022-05-09T10:48:41.690Z"
   },
   {
    "duration": 54,
    "start_time": "2022-05-09T10:48:41.701Z"
   },
   {
    "duration": 11,
    "start_time": "2022-05-09T10:48:41.757Z"
   },
   {
    "duration": 25052,
    "start_time": "2022-05-09T10:51:26.819Z"
   },
   {
    "duration": 384,
    "start_time": "2022-05-09T10:56:19.446Z"
   },
   {
    "duration": 1465,
    "start_time": "2022-05-09T10:57:11.275Z"
   },
   {
    "duration": 1097,
    "start_time": "2022-05-09T10:58:30.090Z"
   },
   {
    "duration": 189,
    "start_time": "2022-05-09T10:59:38.966Z"
   },
   {
    "duration": 74,
    "start_time": "2022-05-09T11:00:26.945Z"
   },
   {
    "duration": 42,
    "start_time": "2022-05-09T11:00:27.022Z"
   },
   {
    "duration": 39,
    "start_time": "2022-05-09T11:00:27.066Z"
   },
   {
    "duration": 63,
    "start_time": "2022-05-09T11:00:27.108Z"
   },
   {
    "duration": 24,
    "start_time": "2022-05-09T11:00:27.174Z"
   },
   {
    "duration": 247,
    "start_time": "2022-05-09T11:00:27.200Z"
   },
   {
    "duration": 772,
    "start_time": "2022-05-09T11:00:27.448Z"
   },
   {
    "duration": 44,
    "start_time": "2022-05-09T11:00:28.222Z"
   },
   {
    "duration": 1649,
    "start_time": "2022-05-09T11:00:28.268Z"
   },
   {
    "duration": 238,
    "start_time": "2022-05-09T11:00:29.921Z"
   },
   {
    "duration": 468,
    "start_time": "2022-05-09T11:00:30.161Z"
   },
   {
    "duration": 489,
    "start_time": "2022-05-09T11:00:30.631Z"
   },
   {
    "duration": 1192,
    "start_time": "2022-05-09T11:00:31.121Z"
   },
   {
    "duration": 1574,
    "start_time": "2022-05-09T11:00:32.316Z"
   },
   {
    "duration": 311,
    "start_time": "2022-05-09T11:00:33.893Z"
   },
   {
    "duration": 796,
    "start_time": "2022-05-09T11:00:34.206Z"
   },
   {
    "duration": 21,
    "start_time": "2022-05-09T11:00:35.005Z"
   },
   {
    "duration": 40,
    "start_time": "2022-05-09T11:00:35.029Z"
   },
   {
    "duration": 22,
    "start_time": "2022-05-09T11:00:35.071Z"
   },
   {
    "duration": 16,
    "start_time": "2022-05-09T11:00:35.095Z"
   },
   {
    "duration": 58,
    "start_time": "2022-05-09T11:00:35.113Z"
   },
   {
    "duration": 9,
    "start_time": "2022-05-09T11:00:35.174Z"
   },
   {
    "duration": 752,
    "start_time": "2022-05-09T11:01:11.150Z"
   },
   {
    "duration": 138,
    "start_time": "2022-05-09T11:02:25.817Z"
   },
   {
    "duration": 1021,
    "start_time": "2022-05-09T11:02:38.910Z"
   },
   {
    "duration": 17,
    "start_time": "2022-05-09T11:04:18.997Z"
   },
   {
    "duration": 16,
    "start_time": "2022-05-09T11:04:31.029Z"
   },
   {
    "duration": 65,
    "start_time": "2022-05-09T11:43:14.743Z"
   },
   {
    "duration": 50,
    "start_time": "2022-05-09T11:43:14.811Z"
   },
   {
    "duration": 37,
    "start_time": "2022-05-09T11:43:14.863Z"
   },
   {
    "duration": 55,
    "start_time": "2022-05-09T11:43:14.903Z"
   },
   {
    "duration": 17,
    "start_time": "2022-05-09T11:43:14.960Z"
   },
   {
    "duration": 338,
    "start_time": "2022-05-09T11:43:14.979Z"
   },
   {
    "duration": 916,
    "start_time": "2022-05-09T11:43:15.319Z"
   },
   {
    "duration": 38,
    "start_time": "2022-05-09T11:43:16.237Z"
   },
   {
    "duration": 1524,
    "start_time": "2022-05-09T11:43:16.277Z"
   },
   {
    "duration": 368,
    "start_time": "2022-05-09T11:43:17.805Z"
   },
   {
    "duration": 553,
    "start_time": "2022-05-09T11:43:18.175Z"
   },
   {
    "duration": 477,
    "start_time": "2022-05-09T11:43:18.731Z"
   },
   {
    "duration": 1034,
    "start_time": "2022-05-09T11:43:19.210Z"
   },
   {
    "duration": 1216,
    "start_time": "2022-05-09T11:43:20.246Z"
   },
   {
    "duration": 230,
    "start_time": "2022-05-09T11:43:21.465Z"
   },
   {
    "duration": 784,
    "start_time": "2022-05-09T11:43:21.697Z"
   },
   {
    "duration": 933,
    "start_time": "2022-05-09T11:43:22.483Z"
   },
   {
    "duration": 22,
    "start_time": "2022-05-09T11:43:23.418Z"
   },
   {
    "duration": 18,
    "start_time": "2022-05-09T11:43:23.455Z"
   },
   {
    "duration": 19,
    "start_time": "2022-05-09T11:43:23.475Z"
   },
   {
    "duration": 50,
    "start_time": "2022-05-09T11:43:23.497Z"
   },
   {
    "duration": 21,
    "start_time": "2022-05-09T11:43:23.555Z"
   },
   {
    "duration": 443,
    "start_time": "2022-05-09T11:47:34.669Z"
   },
   {
    "duration": 8,
    "start_time": "2022-05-09T12:32:25.687Z"
   },
   {
    "duration": 14,
    "start_time": "2022-05-09T12:32:41.925Z"
   },
   {
    "duration": 65,
    "start_time": "2022-05-09T12:32:53.721Z"
   },
   {
    "duration": 19,
    "start_time": "2022-05-09T12:32:53.788Z"
   },
   {
    "duration": 62,
    "start_time": "2022-05-09T12:32:53.809Z"
   },
   {
    "duration": 18,
    "start_time": "2022-05-09T12:32:53.873Z"
   },
   {
    "duration": 15,
    "start_time": "2022-05-09T12:32:53.893Z"
   },
   {
    "duration": 249,
    "start_time": "2022-05-09T12:32:53.910Z"
   },
   {
    "duration": 1163,
    "start_time": "2022-05-09T12:32:54.161Z"
   },
   {
    "duration": 45,
    "start_time": "2022-05-09T12:32:55.326Z"
   },
   {
    "duration": 1469,
    "start_time": "2022-05-09T12:32:55.373Z"
   },
   {
    "duration": 226,
    "start_time": "2022-05-09T12:32:56.845Z"
   },
   {
    "duration": 559,
    "start_time": "2022-05-09T12:32:57.073Z"
   },
   {
    "duration": 511,
    "start_time": "2022-05-09T12:32:57.634Z"
   },
   {
    "duration": 1020,
    "start_time": "2022-05-09T12:32:58.154Z"
   },
   {
    "duration": 1065,
    "start_time": "2022-05-09T12:32:59.176Z"
   },
   {
    "duration": 340,
    "start_time": "2022-05-09T12:33:00.243Z"
   },
   {
    "duration": 759,
    "start_time": "2022-05-09T12:33:00.585Z"
   },
   {
    "duration": 1143,
    "start_time": "2022-05-09T12:33:01.347Z"
   },
   {
    "duration": 492,
    "start_time": "2022-05-09T12:33:02.502Z"
   },
   {
    "duration": 15,
    "start_time": "2022-05-09T12:33:02.996Z"
   },
   {
    "duration": 19,
    "start_time": "2022-05-09T12:33:03.013Z"
   },
   {
    "duration": 57,
    "start_time": "2022-05-09T12:33:03.054Z"
   },
   {
    "duration": 90,
    "start_time": "2022-05-09T12:33:03.113Z"
   },
   {
    "duration": 19,
    "start_time": "2022-05-09T12:34:35.476Z"
   },
   {
    "duration": 21,
    "start_time": "2022-05-09T12:34:45.827Z"
   },
   {
    "duration": 8,
    "start_time": "2022-05-09T12:35:19.392Z"
   },
   {
    "duration": 8,
    "start_time": "2022-05-09T12:35:22.399Z"
   },
   {
    "duration": 10,
    "start_time": "2022-05-09T12:40:07.939Z"
   },
   {
    "duration": 8,
    "start_time": "2022-05-09T12:40:32.758Z"
   },
   {
    "duration": 14,
    "start_time": "2022-05-09T12:40:42.162Z"
   },
   {
    "duration": 18,
    "start_time": "2022-05-09T12:41:56.882Z"
   },
   {
    "duration": 17,
    "start_time": "2022-05-09T12:42:14.379Z"
   },
   {
    "duration": 15,
    "start_time": "2022-05-09T12:42:35.745Z"
   },
   {
    "duration": 14,
    "start_time": "2022-05-09T12:46:16.082Z"
   },
   {
    "duration": 1997,
    "start_time": "2022-05-10T12:53:17.454Z"
   },
   {
    "duration": 32,
    "start_time": "2022-05-10T12:53:19.454Z"
   },
   {
    "duration": 73,
    "start_time": "2022-05-10T12:53:19.488Z"
   },
   {
    "duration": 30,
    "start_time": "2022-05-10T12:53:19.563Z"
   },
   {
    "duration": 45,
    "start_time": "2022-05-10T12:53:19.595Z"
   },
   {
    "duration": 404,
    "start_time": "2022-05-10T12:53:19.642Z"
   },
   {
    "duration": 1211,
    "start_time": "2022-05-10T12:53:20.049Z"
   },
   {
    "duration": 37,
    "start_time": "2022-05-10T12:53:21.262Z"
   },
   {
    "duration": 3425,
    "start_time": "2022-05-10T12:53:21.301Z"
   },
   {
    "duration": 515,
    "start_time": "2022-05-10T12:53:24.731Z"
   },
   {
    "duration": 781,
    "start_time": "2022-05-10T12:53:25.249Z"
   },
   {
    "duration": 1127,
    "start_time": "2022-05-10T12:53:26.033Z"
   },
   {
    "duration": 1857,
    "start_time": "2022-05-10T12:53:27.163Z"
   },
   {
    "duration": 1753,
    "start_time": "2022-05-10T12:53:29.025Z"
   },
   {
    "duration": 318,
    "start_time": "2022-05-10T12:53:30.782Z"
   },
   {
    "duration": 1211,
    "start_time": "2022-05-10T12:53:31.104Z"
   },
   {
    "duration": 1434,
    "start_time": "2022-05-10T12:53:32.317Z"
   },
   {
    "duration": 835,
    "start_time": "2022-05-10T12:53:33.754Z"
   },
   {
    "duration": 37,
    "start_time": "2022-05-10T12:53:34.591Z"
   },
   {
    "duration": 17,
    "start_time": "2022-05-10T12:53:34.630Z"
   },
   {
    "duration": 19,
    "start_time": "2022-05-10T12:53:34.649Z"
   },
   {
    "duration": 60,
    "start_time": "2022-05-10T12:53:34.671Z"
   },
   {
    "duration": 823,
    "start_time": "2022-05-10T12:54:21.010Z"
   },
   {
    "duration": 785,
    "start_time": "2022-05-10T12:54:29.935Z"
   },
   {
    "duration": 94,
    "start_time": "2022-05-10T12:55:10.141Z"
   },
   {
    "duration": 31,
    "start_time": "2022-05-10T12:55:10.238Z"
   },
   {
    "duration": 71,
    "start_time": "2022-05-10T12:55:10.272Z"
   },
   {
    "duration": 26,
    "start_time": "2022-05-10T12:55:10.346Z"
   },
   {
    "duration": 24,
    "start_time": "2022-05-10T12:55:10.374Z"
   },
   {
    "duration": 367,
    "start_time": "2022-05-10T12:55:10.425Z"
   },
   {
    "duration": 1160,
    "start_time": "2022-05-10T12:55:10.794Z"
   },
   {
    "duration": 40,
    "start_time": "2022-05-10T12:55:11.958Z"
   },
   {
    "duration": 2436,
    "start_time": "2022-05-10T12:55:12.024Z"
   },
   {
    "duration": 358,
    "start_time": "2022-05-10T12:55:14.466Z"
   },
   {
    "duration": 720,
    "start_time": "2022-05-10T12:55:14.826Z"
   },
   {
    "duration": 816,
    "start_time": "2022-05-10T12:55:15.549Z"
   },
   {
    "duration": 2054,
    "start_time": "2022-05-10T12:55:16.368Z"
   },
   {
    "duration": 2022,
    "start_time": "2022-05-10T12:55:18.426Z"
   },
   {
    "duration": 309,
    "start_time": "2022-05-10T12:55:20.451Z"
   },
   {
    "duration": 1197,
    "start_time": "2022-05-10T12:55:20.762Z"
   },
   {
    "duration": 1391,
    "start_time": "2022-05-10T12:55:21.961Z"
   },
   {
    "duration": 789,
    "start_time": "2022-05-10T12:55:23.354Z"
   },
   {
    "duration": 22,
    "start_time": "2022-05-10T12:55:24.145Z"
   },
   {
    "duration": 56,
    "start_time": "2022-05-10T12:55:24.169Z"
   },
   {
    "duration": 25,
    "start_time": "2022-05-10T12:55:24.228Z"
   },
   {
    "duration": 19,
    "start_time": "2022-05-10T12:55:24.256Z"
   },
   {
    "duration": 272,
    "start_time": "2022-05-10T12:59:10.606Z"
   },
   {
    "duration": 947,
    "start_time": "2022-05-10T12:59:14.710Z"
   },
   {
    "duration": 106,
    "start_time": "2022-05-10T12:59:22.319Z"
   },
   {
    "duration": 32,
    "start_time": "2022-05-10T12:59:22.428Z"
   },
   {
    "duration": 74,
    "start_time": "2022-05-10T12:59:22.463Z"
   },
   {
    "duration": 28,
    "start_time": "2022-05-10T12:59:22.541Z"
   },
   {
    "duration": 53,
    "start_time": "2022-05-10T12:59:22.572Z"
   },
   {
    "duration": 518,
    "start_time": "2022-05-10T12:59:22.628Z"
   },
   {
    "duration": 1328,
    "start_time": "2022-05-10T12:59:23.149Z"
   },
   {
    "duration": 64,
    "start_time": "2022-05-10T12:59:24.480Z"
   },
   {
    "duration": 2363,
    "start_time": "2022-05-10T12:59:24.547Z"
   },
   {
    "duration": 360,
    "start_time": "2022-05-10T12:59:26.914Z"
   },
   {
    "duration": 815,
    "start_time": "2022-05-10T12:59:27.276Z"
   },
   {
    "duration": 1148,
    "start_time": "2022-05-10T12:59:28.094Z"
   },
   {
    "duration": 1621,
    "start_time": "2022-05-10T12:59:29.245Z"
   },
   {
    "duration": 1807,
    "start_time": "2022-05-10T12:59:30.869Z"
   },
   {
    "duration": 362,
    "start_time": "2022-05-10T12:59:32.679Z"
   },
   {
    "duration": 1253,
    "start_time": "2022-05-10T12:59:33.043Z"
   },
   {
    "duration": 1488,
    "start_time": "2022-05-10T12:59:34.298Z"
   },
   {
    "duration": 810,
    "start_time": "2022-05-10T12:59:35.789Z"
   },
   {
    "duration": 31,
    "start_time": "2022-05-10T12:59:36.602Z"
   },
   {
    "duration": 26,
    "start_time": "2022-05-10T12:59:36.636Z"
   },
   {
    "duration": 59,
    "start_time": "2022-05-10T12:59:36.665Z"
   },
   {
    "duration": 19,
    "start_time": "2022-05-10T12:59:36.727Z"
   },
   {
    "duration": 111,
    "start_time": "2022-05-10T13:04:43.608Z"
   },
   {
    "duration": 32,
    "start_time": "2022-05-10T13:04:43.725Z"
   },
   {
    "duration": 73,
    "start_time": "2022-05-10T13:04:43.760Z"
   },
   {
    "duration": 38,
    "start_time": "2022-05-10T13:04:43.835Z"
   },
   {
    "duration": 61,
    "start_time": "2022-05-10T13:04:43.877Z"
   },
   {
    "duration": 558,
    "start_time": "2022-05-10T13:04:43.941Z"
   },
   {
    "duration": 1285,
    "start_time": "2022-05-10T13:04:44.502Z"
   },
   {
    "duration": 52,
    "start_time": "2022-05-10T13:04:45.790Z"
   },
   {
    "duration": 2298,
    "start_time": "2022-05-10T13:04:45.844Z"
   },
   {
    "duration": 528,
    "start_time": "2022-05-10T13:04:48.145Z"
   },
   {
    "duration": 1128,
    "start_time": "2022-05-10T13:04:48.676Z"
   },
   {
    "duration": 980,
    "start_time": "2022-05-10T13:04:49.807Z"
   },
   {
    "duration": 1756,
    "start_time": "2022-05-10T13:04:50.790Z"
   },
   {
    "duration": 1753,
    "start_time": "2022-05-10T13:04:52.551Z"
   },
   {
    "duration": 578,
    "start_time": "2022-05-10T13:04:54.306Z"
   },
   {
    "duration": 1375,
    "start_time": "2022-05-10T13:04:54.887Z"
   },
   {
    "duration": 1427,
    "start_time": "2022-05-10T13:04:56.264Z"
   },
   {
    "duration": 788,
    "start_time": "2022-05-10T13:04:57.693Z"
   },
   {
    "duration": 41,
    "start_time": "2022-05-10T13:04:58.483Z"
   },
   {
    "duration": 19,
    "start_time": "2022-05-10T13:04:58.526Z"
   },
   {
    "duration": 33,
    "start_time": "2022-05-10T13:04:58.548Z"
   },
   {
    "duration": 50,
    "start_time": "2022-05-10T13:04:58.584Z"
   },
   {
    "duration": 36,
    "start_time": "2022-05-10T13:15:33.347Z"
   },
   {
    "duration": 101,
    "start_time": "2022-05-10T13:15:55.788Z"
   },
   {
    "duration": 43,
    "start_time": "2022-05-10T13:15:55.891Z"
   },
   {
    "duration": 48,
    "start_time": "2022-05-10T13:15:55.937Z"
   },
   {
    "duration": 57,
    "start_time": "2022-05-10T13:15:55.991Z"
   },
   {
    "duration": 24,
    "start_time": "2022-05-10T13:15:56.050Z"
   },
   {
    "duration": 382,
    "start_time": "2022-05-10T13:15:56.077Z"
   },
   {
    "duration": 1302,
    "start_time": "2022-05-10T13:15:56.461Z"
   },
   {
    "duration": 59,
    "start_time": "2022-05-10T13:15:57.765Z"
   },
   {
    "duration": 2602,
    "start_time": "2022-05-10T13:15:57.827Z"
   },
   {
    "duration": 525,
    "start_time": "2022-05-10T13:16:00.433Z"
   },
   {
    "duration": 921,
    "start_time": "2022-05-10T13:16:00.961Z"
   },
   {
    "duration": 1215,
    "start_time": "2022-05-10T13:16:01.885Z"
   },
   {
    "duration": 1666,
    "start_time": "2022-05-10T13:16:03.102Z"
   },
   {
    "duration": 1746,
    "start_time": "2022-05-10T13:16:04.770Z"
   },
   {
    "duration": 323,
    "start_time": "2022-05-10T13:16:06.518Z"
   },
   {
    "duration": 2062,
    "start_time": "2022-05-10T13:16:06.844Z"
   },
   {
    "duration": 2181,
    "start_time": "2022-05-10T13:16:08.909Z"
   },
   {
    "duration": 855,
    "start_time": "2022-05-10T13:16:11.093Z"
   },
   {
    "duration": 23,
    "start_time": "2022-05-10T13:16:11.951Z"
   },
   {
    "duration": 50,
    "start_time": "2022-05-10T13:16:11.976Z"
   },
   {
    "duration": 29,
    "start_time": "2022-05-10T13:16:12.028Z"
   },
   {
    "duration": 21,
    "start_time": "2022-05-10T13:16:12.060Z"
   },
   {
    "duration": 2041,
    "start_time": "2022-10-01T13:21:36.450Z"
   }
  ],
  "kernelspec": {
   "display_name": "Python 3 (ipykernel)",
   "language": "python",
   "name": "python3"
  },
  "language_info": {
   "codemirror_mode": {
    "name": "ipython",
    "version": 3
   },
   "file_extension": ".py",
   "mimetype": "text/x-python",
   "name": "python",
   "nbconvert_exporter": "python",
   "pygments_lexer": "ipython3",
   "version": "3.9.13"
  },
  "toc": {
   "base_numbering": 1,
   "nav_menu": {},
   "number_sections": true,
   "sideBar": true,
   "skip_h1_title": true,
   "title_cell": "Table of Contents",
   "title_sidebar": "Contents",
   "toc_cell": false,
   "toc_position": {},
   "toc_section_display": true,
   "toc_window_display": false
  }
 },
 "nbformat": 4,
 "nbformat_minor": 2
}
